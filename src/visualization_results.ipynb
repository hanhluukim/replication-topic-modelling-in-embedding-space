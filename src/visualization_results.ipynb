{
 "cells": [
  {
   "cell_type": "code",
   "execution_count": 14,
   "metadata": {},
   "outputs": [
    {
     "name": "stderr",
     "output_type": "stream",
     "text": [
      "No handles with labels found to put in legend.\n"
     ]
    },
    {
     "data": {
      "image/png": "[encoded data removed]",
      "text/plain": [
       "<Figure size 432x288 with 1 Axes>"
      ]
     },
     "metadata": {
      "needs_background": "light"
     },
     "output_type": "display_data"
    }
   ],
   "source": [
    "import os\n",
    "import matplotlib\n",
    "import numpy as np\n",
    "import matplotlib.pyplot as plt\n",
    "%matplotlib inline  \n",
    "\n",
    "figures_directory_pth = os.path.join(os.pardir, 'figures/')\n",
    "\n",
    "def get_plot(for_model = None, with_out_stopwords=True, vocab_size = None, run_times = None):\n",
    "    return True\n",
    "def get_time(time):\n",
    "    #time = \"01:34:11\"\n",
    "    return  sum(x * int(t) for x, t in zip([3600, 60, 1], time.split(\":\"))) \n",
    "\n",
    "vocab_size_with_out_stopwords = [3524,8956,19148,30355,54801]\n",
    "string_times = [\n",
    "    \"0:21:30\",\n",
    "    \"0:44:30\",\n",
    "    \"1:25:54\",\n",
    "    \"2:10:44\",\n",
    "    \"4:08:24\",\n",
    "]\n",
    "\n",
    "skipgram_run_times = [get_time(t) for t in string_times]\n",
    "\n",
    "xs = vocab_size_with_out_stopwords\n",
    "ys = np.array(skipgram_run_times)\n",
    "markers_on = vocab_size_with_out_stopwords\n",
    "plt.plot(xs, ys, marker='o', label=None)\n",
    "plt.legend()\n",
    "plt.grid()\n",
    "plt.title('skipgram-prefitted-ETM Laufzeitanalyse')\n",
    "plt.xlabel('vocab_size')\n",
    "plt.ylabel('run time in seconds')\n",
    "plt.savefig(f'{figures_directory_pth}/skipgram_runtime.png')\n",
    "plt.show()"
   ]
  },
  {
   "cell_type": "markdown",
   "metadata": {},
   "source": [
    "# Mean und Std"
   ]
  },
  {
   "cell_type": "code",
   "execution_count": 23,
   "metadata": {},
   "outputs": [
    {
     "name": "stdout",
     "output_type": "stream",
     "text": [
      "0.1833628775192474 0.025520900172597234\n",
      "0.7272000000000001 0.08715595217769122\n",
      "0.13515601084109383 0.0309312513603051\n",
      "0.3346 0.15335266544797974\n"
     ]
    }
   ],
   "source": [
    "# LDA mean, std of 3 values\n",
    "# Plot over vocab-size and results\n",
    "import math\n",
    "def get_mean_std(liste):\n",
    "    mean = sum(liste)/len(liste)\n",
    "    quadrad = sum([(x-mean)**2 for x in liste])\n",
    "    prod = (1/len(liste))*quadrad\n",
    "    std = math.sqrt(prod)\n",
    "    return mean , std"
   ]
  },
  {
   "cell_type": "code",
   "execution_count": 24,
   "metadata": {},
   "outputs": [
    {
     "name": "stdout",
     "output_type": "stream",
     "text": [
      "0.1833628775192474 0.025520900172597234\n",
      "0.7272000000000001 0.08715595217769122\n",
      "0.13515601084109383 0.0309312513603051\n",
      "0.3346 0.15335266544797974\n"
     ]
    }
   ],
   "source": [
    "vocab_size_with_out_stopwords = sorted([3524,8956,19148,30355,54801])\n",
    "ldas_values = [\n",
    "    [0.2078231833731884, 0.16573507290884648, 0.21046902581644802, 0.1891627910805947, 0.14362431441715948],#co\n",
    "    [0.786, 0.766, 0.774 ,0.756, 0.554],#div\n",
    "    [0.16334902213132607, 0.1269530658481764, 0.16290302598193077, 0.14300707005692959, 0.07956787018710636],#quality\n",
    "    [0.149,0.233,0.291,0.410,0.59]\n",
    "]\n",
    "for values_by_vocab_sizes in ldas_values:\n",
    "    mn, std = get_mean_std(values_by_vocab_sizes)\n",
    "    print(mn, std)"
   ]
  },
  {
   "cell_type": "code",
   "execution_count": 26,
   "metadata": {},
   "outputs": [
    {
     "name": "stdout",
     "output_type": "stream",
     "text": [
      "0.19251671020156727 0.012988616023630462\n",
      "0.8639999999999999 0.024298148077579924\n",
      "0.16623631048397275 0.010871545226661134\n"
     ]
    }
   ],
   "source": [
    "etms_values = [\n",
    "    [0.1912626359290752, 0.1894663393067938,0.21448258799152922,0.19353942927954834,0.17383255850088972],\n",
    "    [0.822,0.864,0.868,0.868,0.898],\n",
    "    [0.1572178867336998,0.16369891716106985,0.18617088637664736,0.16799222461464797,0.15610163753379896],\n",
    "]\n",
    "for values_by_vocab_sizes in etms_values:\n",
    "    mn, std = get_mean_std(values_by_vocab_sizes)\n",
    "    print(mn, std)"
   ]
  },
  {
   "cell_type": "code",
   "execution_count": 3,
   "metadata": {},
   "outputs": [
    {
     "data": {
      "text/plain": [
       "\"\\n%train with prefitted-skipgram min_df: 2 \\t vocab-size 54318 \\t epochs: 150 \\t run time: 4:08:24.473258\\n%train with prefitted-skipgram min_df: 5 \\t vocab-size 29874 \\t epochs: 150 \\t run time: 2:10:44.357142\\n%train with prefitted-skipgram min_df: 10 \\t vocab-size 18677 \\t epochs: 150 \\t run time: 1:25:54.377795\\n%train with prefitted-skipgram min_df: 30 \\t vocab-size 8496 \\t epochs: 150 \\t run time: 0:44:30.684806\\n%train with prefitted-skipgram min_df: 100 \\t vocab-size 3102 \\t epochs: 150 \\t run time: 0:21:30.842604\\n%train with prefitted-bert min_df: 30 \\t vocab-size 8473 \\t epochs: 160 \\t run time: 0:48:15.063471\\n%train with prefitted-bert min_df: 100 \\t vocab-size 3095 \\t epochs: 160 \\t run time: 0:24:11.248944\\n%Arbeitsspeichergebrauch LDA Gensim 1,6GB ; Skipgram-ETM 3.5GB-4.5GB ;Bert-ETM 3.5GB-4.5GB(die über 4GB bei min_2df)\\n%3.3GB 10df ,3,8GB 5df, 4,2GB 2df, 2GB 30 df, 1,5GB 100 df\\n% Provide information on computational requirements for each of your experiments. For example, the number of CPU/GPU hours and memory requirements.\\n% Mention both your estimation made before running the experiments (i.e. in the proposal) and the actual resources you used to reproducing the experiments. \\n% \\textbf{\\textit{You'll need to think about this ahead of time, and write your code in a way that captures this information so you can later add it to this section.} }\\n\""
      ]
     },
     "execution_count": 3,
     "metadata": {},
     "output_type": "execute_result"
    }
   ],
   "source": [
    "\"\"\"\n",
    "%train with prefitted-skipgram min_df: 2 \t vocab-size 54318 \t epochs: 150 \t run time: 4:08:24.473258\n",
    "%train with prefitted-skipgram min_df: 5 \t vocab-size 29874 \t epochs: 150 \t run time: 2:10:44.357142\n",
    "%train with prefitted-skipgram min_df: 10 \t vocab-size 18677 \t epochs: 150 \t run time: 1:25:54.377795\n",
    "%train with prefitted-skipgram min_df: 30 \t vocab-size 8496 \t epochs: 150 \t run time: 0:44:30.684806\n",
    "%train with prefitted-skipgram min_df: 100 \t vocab-size 3102 \t epochs: 150 \t run time: 0:21:30.842604\n",
    "%train with prefitted-bert min_df: 30 \t vocab-size 8473 \t epochs: 160 \t run time: 0:48:15.063471\n",
    "%train with prefitted-bert min_df: 100 \t vocab-size 3095 \t epochs: 160 \t run time: 0:24:11.248944\n",
    "%Arbeitsspeichergebrauch LDA Gensim 1,6GB ; Skipgram-ETM 3.5GB-4.5GB ;Bert-ETM 3.5GB-4.5GB(die über 4GB bei min_2df)\n",
    "%3.3GB 10df ,3,8GB 5df, 4,2GB 2df, 2GB 30 df, 1,5GB 100 df\n",
    "% Provide information on computational requirements for each of your experiments. For example, the number of CPU/GPU hours and memory requirements.\n",
    "% Mention both your estimation made before running the experiments (i.e. in the proposal) and the actual resources you used to reproducing the experiments. \n",
    "% \\textbf{\\textit{You'll need to think about this ahead of time, and write your code in a way that captures this information so you can later add it to this section.} }\n",
    "\"\"\""
   ]
  },
  {
   "cell_type": "code",
   "execution_count": null,
   "metadata": {},
   "outputs": [],
   "source": []
  }
 ],
 "metadata": {
  "kernelspec": {
   "display_name": "Python 3",
   "language": "python",
   "name": "python3"
  },
  "language_info": {
   "codemirror_mode": {
    "name": "ipython",
    "version": 3
   },
   "file_extension": ".py",
   "mimetype": "text/x-python",
   "name": "python",
   "nbconvert_exporter": "python",
   "pygments_lexer": "ipython3",
   "version": "3.7.3"
  }
 },
 "nbformat": 4,
 "nbformat_minor": 2
}
