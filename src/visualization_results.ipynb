{
 "cells": [
  {
   "cell_type": "code",
   "execution_count": 5,
   "metadata": {},
   "outputs": [
    {
     "name": "stderr",
     "output_type": "stream",
     "text": [
      "No handles with labels found to put in legend.\n"
     ]
    },
    {
     "name": "stdout",
     "output_type": "stream",
     "text": [
      "[1290, 2670, 5154, 7844, 14904]\n"
     ]
    },
    {
     "data": {
      "image/png": "[encoded data removed]",
      "text/plain": [
       "<Figure size 432x288 with 1 Axes>"
      ]
     },
     "metadata": {
      "needs_background": "light"
     },
     "output_type": "display_data"
    }
   ],
   "source": [
    "import os\n",
    "import matplotlib\n",
    "import numpy as np\n",
    "import matplotlib.pyplot as plt\n",
    "%matplotlib inline  \n",
    "\n",
    "figures_directory_pth = os.path.join(os.pardir, 'figures/')\n",
    "\n",
    "min_dfs = [2,5,10,30,100]\n",
    "\n",
    "vocab_size = [\n",
    "    3524,\n",
    "    8956,\n",
    "    19148,\n",
    "    30355,\n",
    "    54801\n",
    "]\n",
    "def get_time(time):\n",
    "    #time = \"01:34:11\"\n",
    "    return  sum(x * int(t) for x, t in zip([3600, 60, 1], time.split(\":\"))) \n",
    "string_times = [\n",
    "    \"0:21:30\",\n",
    "    \"0:44:30\",\n",
    "    \"1:25:54\",\n",
    "    \"2:10:44\",\n",
    "    \"4:08:24\",\n",
    "]\n",
    "\n",
    "run_times = [get_time(t) for t in string_times]\n",
    "print(run_times)\n",
    "\n",
    "\n",
    "xs = vocab_size\n",
    "ys = np.array(run_times)\n",
    "markers_on = vocab_size\n",
    "\n",
    "plt.plot(xs, ys, marker='o', label=None)\n",
    "plt.legend()\n",
    "pl\n",
    "plt.title('Laufzeitanalyse')\n",
    "plt.xlabel('vocab_size')\n",
    "plt.ylabel('run time in minutes')\n",
    "plt.savefig(f'{figures_directory_pth}/runtime.png')\n",
    "plt.show()"
   ]
  },
  {
   "cell_type": "code",
   "execution_count": null,
   "metadata": {},
   "outputs": [],
   "source": []
  },
  {
   "cell_type": "code",
   "execution_count": 3,
   "metadata": {},
   "outputs": [
    {
     "data": {
      "text/plain": [
       "\"\\n%train with prefitted-skipgram min_df: 2 \\t vocab-size 54318 \\t epochs: 150 \\t run time: 4:08:24.473258\\n%train with prefitted-skipgram min_df: 5 \\t vocab-size 29874 \\t epochs: 150 \\t run time: 2:10:44.357142\\n%train with prefitted-skipgram min_df: 10 \\t vocab-size 18677 \\t epochs: 150 \\t run time: 1:25:54.377795\\n%train with prefitted-skipgram min_df: 30 \\t vocab-size 8496 \\t epochs: 150 \\t run time: 0:44:30.684806\\n%train with prefitted-skipgram min_df: 100 \\t vocab-size 3102 \\t epochs: 150 \\t run time: 0:21:30.842604\\n%train with prefitted-bert min_df: 30 \\t vocab-size 8473 \\t epochs: 160 \\t run time: 0:48:15.063471\\n%train with prefitted-bert min_df: 100 \\t vocab-size 3095 \\t epochs: 160 \\t run time: 0:24:11.248944\\n%Arbeitsspeichergebrauch LDA Gensim 1,6GB ; Skipgram-ETM 3.5GB-4.5GB ;Bert-ETM 3.5GB-4.5GB(die über 4GB bei min_2df)\\n%3.3GB 10df ,3,8GB 5df, 4,2GB 2df, 2GB 30 df, 1,5GB 100 df\\n% Provide information on computational requirements for each of your experiments. For example, the number of CPU/GPU hours and memory requirements.\\n% Mention both your estimation made before running the experiments (i.e. in the proposal) and the actual resources you used to reproducing the experiments. \\n% \\textbf{\\textit{You'll need to think about this ahead of time, and write your code in a way that captures this information so you can later add it to this section.} }\\n\""
      ]
     },
     "execution_count": 3,
     "metadata": {},
     "output_type": "execute_result"
    }
   ],
   "source": [
    "\"\"\"\n",
    "%train with prefitted-skipgram min_df: 2 \t vocab-size 54318 \t epochs: 150 \t run time: 4:08:24.473258\n",
    "%train with prefitted-skipgram min_df: 5 \t vocab-size 29874 \t epochs: 150 \t run time: 2:10:44.357142\n",
    "%train with prefitted-skipgram min_df: 10 \t vocab-size 18677 \t epochs: 150 \t run time: 1:25:54.377795\n",
    "%train with prefitted-skipgram min_df: 30 \t vocab-size 8496 \t epochs: 150 \t run time: 0:44:30.684806\n",
    "%train with prefitted-skipgram min_df: 100 \t vocab-size 3102 \t epochs: 150 \t run time: 0:21:30.842604\n",
    "%train with prefitted-bert min_df: 30 \t vocab-size 8473 \t epochs: 160 \t run time: 0:48:15.063471\n",
    "%train with prefitted-bert min_df: 100 \t vocab-size 3095 \t epochs: 160 \t run time: 0:24:11.248944\n",
    "%Arbeitsspeichergebrauch LDA Gensim 1,6GB ; Skipgram-ETM 3.5GB-4.5GB ;Bert-ETM 3.5GB-4.5GB(die über 4GB bei min_2df)\n",
    "%3.3GB 10df ,3,8GB 5df, 4,2GB 2df, 2GB 30 df, 1,5GB 100 df\n",
    "% Provide information on computational requirements for each of your experiments. For example, the number of CPU/GPU hours and memory requirements.\n",
    "% Mention both your estimation made before running the experiments (i.e. in the proposal) and the actual resources you used to reproducing the experiments. \n",
    "% \\textbf{\\textit{You'll need to think about this ahead of time, and write your code in a way that captures this information so you can later add it to this section.} }\n",
    "\"\"\""
   ]
  },
  {
   "cell_type": "code",
   "execution_count": null,
   "metadata": {},
   "outputs": [],
   "source": []
  }
 ],
 "metadata": {
  "kernelspec": {
   "display_name": "Python 3",
   "language": "python",
   "name": "python3"
  },
  "language_info": {
   "codemirror_mode": {
    "name": "ipython",
    "version": 3
   },
   "file_extension": ".py",
   "mimetype": "text/x-python",
   "name": "python",
   "nbconvert_exporter": "python",
   "pygments_lexer": "ipython3",
   "version": "3.7.3"
  }
 },
 "nbformat": 4,
 "nbformat_minor": 2
}
