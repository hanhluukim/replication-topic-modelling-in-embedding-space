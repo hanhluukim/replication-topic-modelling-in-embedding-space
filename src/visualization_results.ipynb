{
 "cells": [
  {
   "cell_type": "code",
   "execution_count": 1,
   "metadata": {},
   "outputs": [
    {
     "data": {
      "text/plain": [
       "<Figure size 640x480 with 1 Axes>"
      ]
     },
     "metadata": {},
     "output_type": "display_data"
    }
   ],
   "source": [
    "import os\n",
    "import matplotlib\n",
    "import numpy as np\n",
    "import matplotlib.pyplot as plt\n",
    "%matplotlib inline  \n",
    "\n",
    "figures_directory_pth = os.path.join(os.pardir, 'figures/')\n",
    "\n",
    "min_dfs = [2,5,10,30,100]\n",
    "\n",
    "vocab_size = [\n",
    "    3524,\n",
    "    8956,\n",
    "    19148,\n",
    "    30355,\n",
    "    54801\n",
    "]\n",
    "run_times = [\n",
    "    2,\n",
    "    5,\n",
    "    10,\n",
    "    50,\n",
    "    100\n",
    "]\n",
    "\n",
    "\n",
    "\n",
    "xs = vocab_size\n",
    "ys = np.array(run_times)\n",
    "markers_on = vocab_size\n",
    "\n",
    "plt.plot(xs, ys, marker='o', label='run time line')\n",
    "plt.legend()\n",
    "plt.title('Laufzeitanalyse in Abhängigkeit der Vokabulargröße')\n",
    "plt.xlabel('vocab_size')\n",
    "plt.ylabel('run time in seconds')\n",
    "plt.savefig(f'{figures_directory_pth}/runtime.png')\n",
    "plt.show()"
   ]
  },
  {
   "cell_type": "code",
   "execution_count": null,
   "metadata": {},
   "outputs": [],
   "source": []
  }
 ],
 "metadata": {
  "kernelspec": {
   "display_name": "Python 3",
   "language": "python",
   "name": "python3"
  },
  "language_info": {
   "codemirror_mode": {
    "name": "ipython",
    "version": 3
   },
   "file_extension": ".py",
   "mimetype": "text/x-python",
   "name": "python",
   "nbconvert_exporter": "python",
   "pygments_lexer": "ipython3",
   "version": "3.7.3"
  }
 },
 "nbformat": 4,
 "nbformat_minor": 2
}
