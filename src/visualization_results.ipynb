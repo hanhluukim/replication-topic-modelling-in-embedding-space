{
 "cells": [
  {
   "cell_type": "code",
   "execution_count": 1,
   "metadata": {},
   "outputs": [
    {
     "name": "stderr",
     "output_type": "stream",
     "text": [
      "No handles with labels found to put in legend.\n"
     ]
    },
    {
     "data": {
      "image/png": "[encoded data removed]",
      "text/plain": [
       "<Figure size 432x288 with 1 Axes>"
      ]
     },
     "metadata": {
      "needs_background": "light"
     },
     "output_type": "display_data"
    }
   ],
   "source": [
    "import os\n",
    "import matplotlib\n",
    "import numpy as np\n",
    "import matplotlib.pyplot as plt\n",
    "%matplotlib inline  \n",
    "\n",
    "figures_directory_pth = os.path.join(os.pardir, 'figures/')\n",
    "\n",
    "def get_plot(for_model = None, with_out_stopwords=True, vocab_size = None, run_times = None):\n",
    "    return True\n",
    "def get_time(time):\n",
    "    #time = \"01:34:11\"\n",
    "    return  sum(x * int(t) for x, t in zip([3600, 60, 1], time.split(\":\"))) \n",
    "\n",
    "vocab_size_with_out_stopwords = [3524,8956,19148,30355,54801]\n",
    "string_times = [\n",
    "    \"0:21:30\",\n",
    "    \"0:44:30\",\n",
    "    \"1:25:54\",\n",
    "    \"2:10:44\",\n",
    "    \"4:08:24\",\n",
    "]\n",
    "\n",
    "skipgram_run_times = [get_time(t) for t in string_times]\n",
    "\n",
    "xs = vocab_size_with_out_stopwords\n",
    "ys = np.array(skipgram_run_times)\n",
    "markers_on = vocab_size_with_out_stopwords\n",
    "plt.plot(xs, ys, marker='o', label=None)\n",
    "plt.legend()\n",
    "plt.grid()\n",
    "plt.title('skipgram-prefitted-ETM Laufzeitanalyse')\n",
    "plt.xlabel('vocab_size')\n",
    "plt.ylabel('run time in seconds')\n",
    "plt.savefig(f'{figures_directory_pth}/skipgram_runtime.png')\n",
    "plt.show()"
   ]
  },
  {
   "cell_type": "markdown",
   "metadata": {},
   "source": [
    "# LDA und ETM"
   ]
  },
  {
   "cell_type": "markdown",
   "metadata": {},
   "source": [
    "# Mean und Std"
   ]
  },
  {
   "cell_type": "code",
   "execution_count": 2,
   "metadata": {},
   "outputs": [],
   "source": [
    "# LDA mean, std of 3 values\n",
    "# Plot over vocab-size and results\n",
    "import math\n",
    "def get_mean_std(liste):\n",
    "    mean = sum(liste)/len(liste)\n",
    "    quadrad = sum([(x-mean)**2 for x in liste])\n",
    "    prod = (1/len(liste))*quadrad\n",
    "    std = math.sqrt(prod)\n",
    "    return mean , std"
   ]
  },
  {
   "cell_type": "code",
   "execution_count": 3,
   "metadata": {},
   "outputs": [
    {
     "name": "stdout",
     "output_type": "stream",
     "text": [
      "0.1833628775192474 0.025520900172597234\n",
      "0.7272000000000001 0.08715595217769122\n",
      "0.13515601084109383 0.0309312513603051\n",
      "0.3349880937621904 0.1535906931610293\n"
     ]
    }
   ],
   "source": [
    "vocab_size_with_out_stopwords = [3524,8956,19148,30355,54801] #min_df 100 to min_df 2\n",
    "ldas_values = [\n",
    "    # min_df=100\n",
    "    [0.2078231833731884, \n",
    "     0.16573507290884648, \n",
    "     0.21046902581644802, \n",
    "     0.1891627910805947, \n",
    "     0.14362431441715948],#co\n",
    "    [0.786, \n",
    "     0.766, \n",
    "     0.774 ,\n",
    "     0.756, \n",
    "     0.554],#div\n",
    "    [0.16334902213132607, \n",
    "     0.1269530658481764, \n",
    "     0.16290302598193077, \n",
    "     0.14300707005692959, \n",
    "     0.07956787018710636],#quality\n",
    "    [0.5906189555125725,\n",
    "     0.41075800376647836,\n",
    "     0.2912726883332441,\n",
    "     0.23339358639619734,\n",
    "     0.1488972348024596]\n",
    "    # min_df=2\n",
    "]\n",
    "for values_by_vocab_sizes in ldas_values:\n",
    "    mn, std = get_mean_std(values_by_vocab_sizes)\n",
    "    print(mn, std)"
   ]
  },
  {
   "cell_type": "code",
   "execution_count": 4,
   "metadata": {},
   "outputs": [],
   "source": [
    "def get_reserved_list(liste):\n",
    "    reserved_list = [None] * len(liste)\n",
    "    #print(reserved_list)\n",
    "    i = 0\n",
    "    j = len(liste)-1\n",
    "    while j >= 0:\n",
    "        #print(liste[j])\n",
    "        reserved_list[i] =  liste[j]\n",
    "        j = j - 1\n",
    "        i = i + 1\n",
    "    return reserved_list"
   ]
  },
  {
   "cell_type": "code",
   "execution_count": 5,
   "metadata": {},
   "outputs": [
    {
     "name": "stdout",
     "output_type": "stream",
     "text": [
      "0.19251671020156727 0.012988616023630462\n",
      "0.8639999999999999 0.024298148077579924\n",
      "0.1662363104839728 0.010871545226661134\n",
      "0.657826739881419 0.2773441539409445\n"
     ]
    },
    {
     "data": {
      "text/plain": [
       "'\\n%PPL\\n%1.0814958091553837\\n%0.8449858757062146\\n%0.6094554800021417\\n%0.44572203253665393\\n'"
      ]
     },
     "execution_count": 5,
     "metadata": {},
     "output_type": "execute_result"
    }
   ],
   "source": [
    "etms_values = [\n",
    "    get_reserved_list([0.1912626359290752, \n",
    "     0.1894663393067938,\n",
    "     0.21448258799152922,\n",
    "     0.19353942927954834,\n",
    "     0.17383255850088972]),\n",
    "    \n",
    "    get_reserved_list([0.822,\n",
    "     0.864,\n",
    "     0.868,\n",
    "     0.868,\n",
    "     0.898]),\n",
    "    \n",
    "    get_reserved_list([0.1572178867336998,\n",
    "     0.16369891716106985,\n",
    "     0.18617088637664736,\n",
    "     0.16799222461464797,\n",
    "     0.15610163753379896]),\n",
    "    [\n",
    "        1.0814958091553837,\n",
    "        0.8449858757062146,\n",
    "        0.6094554800021417,\n",
    "        0.44572203253665393,\n",
    "        0.3074745020067013,\n",
    "    ]\n",
    "]\n",
    "\n",
    "for values_by_vocab_sizes in etms_values:\n",
    "    mn, std = get_mean_std(values_by_vocab_sizes)\n",
    "    print(mn, std)\n",
    "\"\"\"\n",
    "%PPL\n",
    "%1.0814958091553837\n",
    "%0.8449858757062146\n",
    "%0.6094554800021417\n",
    "%0.44572203253665393\n",
    "\"\"\""
   ]
  },
  {
   "cell_type": "code",
   "execution_count": 6,
   "metadata": {},
   "outputs": [
    {
     "data": {
      "text/plain": [
       "[0.16334902213132607,\n",
       " 0.1269530658481764,\n",
       " 0.16290302598193077,\n",
       " 0.14300707005692959,\n",
       " 0.07956787018710636]"
      ]
     },
     "execution_count": 6,
     "metadata": {},
     "output_type": "execute_result"
    }
   ],
   "source": [
    "ldas_values[2]"
   ]
  },
  {
   "cell_type": "code",
   "execution_count": 7,
   "metadata": {},
   "outputs": [
    {
     "data": {
      "text/plain": [
       "[0.15610163753379896,\n",
       " 0.16799222461464797,\n",
       " 0.18617088637664736,\n",
       " 0.16369891716106985,\n",
       " 0.1572178867336998]"
      ]
     },
     "execution_count": 7,
     "metadata": {},
     "output_type": "execute_result"
    }
   ],
   "source": [
    "etms_values[2]"
   ]
  },
  {
   "cell_type": "code",
   "execution_count": 8,
   "metadata": {},
   "outputs": [],
   "source": [
    "lda_qlt = ldas_values[2]\n",
    "etm_qlt = etms_values[2]"
   ]
  },
  {
   "cell_type": "code",
   "execution_count": 9,
   "metadata": {},
   "outputs": [
    {
     "data": {
      "image/png": "[encoded data removed]",
      "text/plain": [
       "<Figure size 432x288 with 1 Axes>"
      ]
     },
     "metadata": {
      "needs_background": "light"
     },
     "output_type": "display_data"
    }
   ],
   "source": [
    "\n",
    "\n",
    "xs = vocab_size_with_out_stopwords\n",
    "\n",
    "markers_on = vocab_size_with_out_stopwords\n",
    "plt.plot(xs, lda_qlt, marker='o', label=\"LDA-quality\")\n",
    "plt.plot(xs, etm_qlt, marker='*', label=\"skipgram-ETM-quality\")\n",
    "\n",
    "plt.legend()\n",
    "plt.grid()\n",
    "plt.title('Themenqualität in Abhängigkeit der Vokabulargrößen')\n",
    "plt.xlabel('vocab_size')\n",
    "plt.ylabel('topic quality')\n",
    "plt.savefig(f'{figures_directory_pth}/topic_quality.png')\n",
    "plt.show()\n"
   ]
  },
  {
   "cell_type": "code",
   "execution_count": null,
   "metadata": {},
   "outputs": [],
   "source": []
  },
  {
   "cell_type": "code",
   "execution_count": 10,
   "metadata": {},
   "outputs": [
    {
     "data": {
      "text/plain": [
       "[[0.17383255850088972,\n",
       "  0.19353942927954834,\n",
       "  0.21448258799152922,\n",
       "  0.1894663393067938],\n",
       " [0.898, 0.868, 0.868, 0.864],\n",
       " [0.15610163753379896,\n",
       "  0.16799222461464797,\n",
       "  0.18617088637664736,\n",
       "  0.16369891716106985],\n",
       " [1.0814958091553837,\n",
       "  0.8449858757062146,\n",
       "  0.6094554800021417,\n",
       "  0.44572203253665393]]"
      ]
     },
     "execution_count": 10,
     "metadata": {},
     "output_type": "execute_result"
    }
   ],
   "source": [
    "etms_values\n",
    "update_etms_values = []\n",
    "for e in etms_values:\n",
    "    update_etms_values.append(e[:-1])\n",
    "update_etms_values"
   ]
  },
  {
   "cell_type": "markdown",
   "metadata": {},
   "source": [
    "# BERT und ETM"
   ]
  },
  {
   "cell_type": "code",
   "execution_count": 11,
   "metadata": {},
   "outputs": [
    {
     "name": "stdout",
     "output_type": "stream",
     "text": [
      "[(2, 0.169, 0.914, 0.1541, 0.333), (5, 0.176, 0.874, 0.154, 0.461), (10, 0.182, 0.852, 0.155, 0.709), (30, 0.19, 0.846, 0.161, 0.79), (100, 0.195, 0.83, 0.163, 1.08)]\n"
     ]
    },
    {
     "data": {
      "image/png": "[encoded data removed]",
      "text/plain": [
       "<Figure size 432x288 with 1 Axes>"
      ]
     },
     "metadata": {
      "needs_background": "light"
     },
     "output_type": "display_data"
    }
   ],
   "source": [
    "bert =[\n",
    "    (2, 0.169 ,0.914 ,0.1541 ,0.333),\n",
    "    (5 ,0.176 ,0.874 ,0.154 ,0.461),\n",
    "    (10 ,0.182 ,0.852 ,0.155 ,0.709),\n",
    "    (30 ,0.190 ,0.846 ,0.161, 0.79),\n",
    "    (100 ,0.195, 0.83 ,0.163, 1.08)]\n",
    "\n",
    "print(bert)\n",
    "bert_qlt = [0.163, 0.161, 0.155, 0.154, 0.1541]\n",
    "etm_qlt =  [0.156, 0.167, 0.186, 0.163, 0.157]\n",
    "xs = vocab_size_with_out_stopwords\n",
    "\n",
    "markers_on = vocab_size_with_out_stopwords\n",
    "plt.plot(xs, bert_qlt, marker='o', label=\"bert-ETM-quality\")\n",
    "plt.plot(xs, etm_qlt, marker='*', label=\"skipgram-ETM-quality\")\n",
    "\n",
    "plt.legend()\n",
    "plt.grid()\n",
    "plt.title('Themenqualität in Abhängigkeit der Vokabulargrößen')\n",
    "plt.xlabel('vocab_size')\n",
    "plt.ylabel('topic quality')\n",
    "plt.savefig(f'{figures_directory_pth}/etm_bert_topic_quality.png')\n",
    "plt.show()\n"
   ]
  },
  {
   "cell_type": "code",
   "execution_count": 12,
   "metadata": {},
   "outputs": [],
   "source": [
    "def get_ratio(list_1, list_2):\n",
    "    ratios = []\n",
    "    for i in range(0,len(list_1)):\n",
    "        ratios.append(list_1[i]/list_2[i])\n",
    "    return ratios"
   ]
  },
  {
   "cell_type": "markdown",
   "metadata": {},
   "source": [
    "# Ratio zwischen Coherence und PPL"
   ]
  },
  {
   "cell_type": "code",
   "execution_count": 13,
   "metadata": {},
   "outputs": [
    {
     "data": {
      "image/png": "[encoded data removed]",
      "text/plain": [
       "<Figure size 432x288 with 1 Axes>"
      ]
     },
     "metadata": {
      "needs_background": "light"
     },
     "output_type": "display_data"
    }
   ],
   "source": [
    "xs = vocab_size_with_out_stopwords\n",
    "lda_ratios = get_ratio(ldas_values[0], ldas_values[3])#np.array(ldas_values[0])/np.array(ldas_values[3])\n",
    "etm_ratios = get_ratio(etms_values[0], etms_values[3]) #np.array(etms_values[0])/np.array(etms_values[3])\n",
    "\n",
    "markers_on = vocab_size_with_out_stopwords\n",
    "plt.plot(xs, lda_ratios, marker='o', label=\"LDA\")\n",
    "plt.plot(xs, etm_ratios, marker='*', label=\"skipgram-prefitted-ETM\")\n",
    "\n",
    "plt.legend()\n",
    "plt.grid()\n",
    "plt.title('Ratio zwischen Coherence und normalisierten Perplexität')\n",
    "plt.xlabel('vocab_size')\n",
    "plt.ylabel('coherence/nor-ppl')\n",
    "plt.savefig(f'{figures_directory_pth}/coh_ppl.png')\n",
    "plt.show()"
   ]
  },
  {
   "cell_type": "markdown",
   "metadata": {},
   "source": [
    "# LDA mit Stoppwörter"
   ]
  },
  {
   "cell_type": "code",
   "execution_count": 14,
   "metadata": {},
   "outputs": [
    {
     "name": "stdout",
     "output_type": "stream",
     "text": [
      "0.15952215588192556\n",
      "0.15952215588192556 0.01313898399371881\n",
      "0.5736000000000001\n",
      "0.5736000000000001 0.05654591055063134\n",
      "0.09153309818320912\n",
      "0.09153309818320912 0.011775475456021645\n",
      "0.1482\n",
      "0.1482 0.08376729672133391\n"
     ]
    }
   ],
   "source": [
    "lda_sw = [(0.1641693325913551, 0.67   ,  0.10999345283620793, 0.056), \n",
    "          (0.15141497155997818, 0.6   ,  0.09084898293598691, 0.088) ,\n",
    "          (0.17819827044514905    ,  0.518  ,  0.09230670409058721, 0.119 ),\n",
    "          (0.16438967057782242  ,  0.558  ,  0.09172943618242492, 0.186),\n",
    "          (0.13943853423532304  ,  0.522  ,  0.07278691487083863, 0.292)\n",
    "         ] \n",
    "lda_sw\n",
    "\n",
    "lda_sw_values = []\n",
    "l1 = [e[0]for e in lda_sw]\n",
    "l2 = [e[1]for e in lda_sw]\n",
    "l3 = [e[2]for e in lda_sw]\n",
    "l4 = [e[3]for e in lda_sw]\n",
    "\n",
    "lda_sw_values=[l1,l2,l3, l4]\n",
    "for values_by_vocab_sizes in lda_sw_values:\n",
    "    print(sum(values_by_vocab_sizes)/len(values_by_vocab_sizes))\n",
    "    mn, std = get_mean_std(values_by_vocab_sizes)\n",
    "    print(mn, std)"
   ]
  },
  {
   "cell_type": "code",
   "execution_count": 15,
   "metadata": {},
   "outputs": [
    {
     "name": "stdout",
     "output_type": "stream",
     "text": [
      "0.16551643824015538 0.007758008485183066\n",
      "0.834 0.02641211843075066\n",
      "0.1378859792461023 0.0043643700245662815\n",
      "0.2448 0.1297865940688791\n"
     ]
    }
   ],
   "source": [
    "etm_sw = [\n",
    "    (2 , 54801  , 0.17517037409331376  , 0.8   , 0.14013629927465102, 0.094),\n",
    "    (5 , 30355  , 0.1688368530114979   ,  0.812   , 0.1370955246453363, 0.151),\n",
    "    (10 , 19148 , 0.16664989189162896    , 0.83   , 0.13831941027005204, 0.205),\n",
    "    (30 , 8956  , 0.15153757911148671  , 0.86   , 0.13032231803587857, 0.314),\n",
    "    (100, 3524  , 0.1653874930928496  ,  0.868  , 0.14355634400459347, 0.460)]  \n",
    "etm_sw_values = []\n",
    "l1 = [e[2]for e in etm_sw]\n",
    "l2 = [e[3]for e in etm_sw]\n",
    "l3 = [e[4]for e in etm_sw]\n",
    "l4 = [e[5]for e in etm_sw]\n",
    "etm_sw_values=[l1,l2,l3, l4]\n",
    "\n",
    "for values_by_vocab_sizes in etm_sw_values:\n",
    "    mn, std = get_mean_std(values_by_vocab_sizes)\n",
    "    print(mn, std)"
   ]
  },
  {
   "cell_type": "code",
   "execution_count": null,
   "metadata": {},
   "outputs": [],
   "source": []
  },
  {
   "cell_type": "markdown",
   "metadata": {},
   "source": [
    "# ETM\n",
    "\\hline\n",
    "2 & 54318  & 0.1912626359290752  & 0.822   & 0.1572178867336998   &  \\\\\n",
    "5 & 29874  & 0.1894663393067938  & 0.864   &  0.16369891716106985  & \\\\\n",
    "10 & 18677 & 0.21448258799152922   &  0.868  & 0.18617088637664736  & \\\\\n",
    "30 & 8496  & 0.19353942927954834  &  0.868  &  0.16799222461464797 & \\\\\n",
    "100& 3102  & 0.17383255850088972  & 0.898   &  0.15610163753379896 & \\\\\\hline\n",
    "mean& - & 0.19 & 0.86 &  0.17 &\\\\ \n",
    "%std& -& 0.01 & 0.03 & 0.01\n",
    "\\end{tabular}\n",
    "\n",
    "\n",
    "\n",
    "\n",
    "\"\"\"\n",
    "%train with prefitted-skipgram min_df: 2 \t vocab-size 54318 \t epochs: 150 \t run time: 4:08:24.473258\n",
    "%train with prefitted-skipgram min_df: 5 \t vocab-size 29874 \t epochs: 150 \t run time: 2:10:44.357142\n",
    "%train with prefitted-skipgram min_df: 10 \t vocab-size 18677 \t epochs: 150 \t run time: 1:25:54.377795\n",
    "%train with prefitted-skipgram min_df: 30 \t vocab-size 8496 \t epochs: 150 \t run time: 0:44:30.684806\n",
    "%train with prefitted-skipgram min_df: 100 \t vocab-size 3102 \t epochs: 150 \t run time: 0:21:30.842604\n",
    "%train with prefitted-bert min_df: 30 \t vocab-size 8473 \t epochs: 160 \t run time: 0:48:15.063471\n",
    "%train with prefitted-bert min_df: 100 \t vocab-size 3095 \t epochs: 160 \t run time: 0:24:11.248944\n",
    "%Arbeitsspeichergebrauch LDA Gensim 1,6GB ; Skipgram-ETM 3.5GB-4.5GB ;Bert-ETM 3.5GB-4.5GB(die über 4GB bei min_2df)\n",
    "%3.3GB 10df ,3,8GB 5df, 4,2GB 2df, 2GB 30 df, 1,5GB 100 df\n",
    "% Provide information on computational requirements for each of your experiments. For example, the number of CPU/GPU hours and memory requirements.\n",
    "% Mention both your estimation made before running the experiments (i.e. in the proposal) and the actual resources you used to reproducing the experiments. \n",
    "% \\textbf{\\textit{You'll need to think about this ahead of time, and write your code in a way that captures this information so you can later add it to this section.} }\n",
    "\"\"\""
   ]
  },
  {
   "cell_type": "markdown",
   "metadata": {},
   "source": [
    "# Bert- Ohne Stopwörter\n",
    "\n",
    "\\begin{table}[h]\n",
    "\\centering\n",
    "\\begin{tabular}{ccllll}\n",
    "\\textbf{min df} & \\textbf{vocab\\_size} & \\textbf{coherrence} & \\textbf{diversity} & \\textbf{quality} & \\textbf{perplexity} \\\\ \\hline\n",
    "2 & & & & & \\\\\n",
    "5 & & 0.176 & 0.874 & 0.154 & 0.461\\\\ \n",
    "10 &  & 0.1825276709667826    & 0.852   & 0.15551357566369878 & 0.7099108013289301  \\\\\n",
    "30 &   & 0.19091152429970376  & 0.846   &  0.1615111495575494  & \\\\\n",
    "30& & 0.17895795974840978 & 0.842&0.15068260210816103&0.9666825397604264\\\\\n",
    "100&   & 0.18743985290752097  & 0.808   &  0.15145140114927694  & \\\\\n",
    "100&   & 0.19142758968214188  & 0.8   &  0.1531420717457135  & 1.217239367267149 \\\\\\hline\n",
    "mean& - & 0.19 & 0.83 &0.1545&2.09  \\\\ \n",
    "std& -&  &  & \n",
    "\\end{tabular}\n",
    "\\caption{Ergebnisse von Bert-ETM Modell im Fall, dass Stoppwörter entfernt wurden}\n",
    "\\label{tab:result-lda}\n",
    "\\end{table}"
   ]
  },
  {
   "cell_type": "code",
   "execution_count": null,
   "metadata": {},
   "outputs": [],
   "source": []
  }
 ],
 "metadata": {
  "kernelspec": {
   "display_name": "Python 3",
   "language": "python",
   "name": "python3"
  },
  "language_info": {
   "codemirror_mode": {
    "name": "ipython",
    "version": 3
   },
   "file_extension": ".py",
   "mimetype": "text/x-python",
   "name": "python",
   "nbconvert_exporter": "python",
   "pygments_lexer": "ipython3",
   "version": "3.7.3"
  }
 },
 "nbformat": 4,
 "nbformat_minor": 2
}
