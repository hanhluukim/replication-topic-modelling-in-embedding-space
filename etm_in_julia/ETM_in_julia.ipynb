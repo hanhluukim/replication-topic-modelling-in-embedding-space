{
  "nbformat": 4,
  "nbformat_minor": 0,
  "metadata": {
    "accelerator": "GPU",
    "colab": {
      "name": "ETM_in_julia.ipynb",
      "provenance": [],
      "collapsed_sections": [],
      "include_colab_link": true
    },
    "kernelspec": {
      "display_name": "Julia 1.6",
      "language": "julia",
      "name": "julia-1.6"
    },
    "language_info": {
      "file_extension": ".jl",
      "mimetype": "application/julia",
      "name": "julia",
      "version": "1.6.0"
    }
  },
  "cells": [
    {
      "cell_type": "markdown",
      "metadata": {
        "id": "view-in-github",
        "colab_type": "text"
      },
      "source": [
        "<a href=\"https://colab.research.google.com/github/hanhluukim/replication-topic-modelling-in-embedding-space/blob/main/etm_in_julia/ETM_in_julia.ipynb\" target=\"_parent\"><img src=\"https://colab.research.google.com/assets/colab-badge.svg\" alt=\"Open In Colab\"/></a>"
      ]
    },
    {
      "cell_type": "markdown",
      "source": [
        "# **Vorbereiten den Julia Enwicklungsfeld auf Colab**"
      ],
      "metadata": {
        "id": "4_HmpWy49ga5"
      }
    },
    {
      "cell_type": "code",
      "metadata": {
        "id": "PMGwZ7aFJL8Y"
      },
      "source": [
        "# Installation cell\n",
        "%%capture\n",
        "%%shell\n",
        "if ! command -v julia 3>&1 > /dev/null\n",
        "then\n",
        "    wget -q 'https://julialang-s3.julialang.org/bin/linux/x64/1.6/julia-1.6.1-linux-x86_64.tar.gz' \\\n",
        "        -O /tmp/julia.tar.gz\n",
        "    tar -x -f /tmp/julia.tar.gz -C /usr/local --strip-components 1\n",
        "    rm /tmp/julia.tar.gz\n",
        "fi\n",
        "julia -e 'using Pkg; pkg\"add IJulia; precompile;\"'\n",
        "echo 'Done'"
      ],
      "execution_count": null,
      "outputs": []
    },
    {
      "cell_type": "code",
      "metadata": {
        "id": "iIxu4TjlJnBG",
        "colab": {
          "base_uri": "https://localhost:8080/"
        },
        "outputId": "6ef66a5e-86cf-49cc-f933-d7b22a64ac57"
      },
      "source": [
        "VERSION"
      ],
      "execution_count": null,
      "outputs": [
        {
          "output_type": "execute_result",
          "data": {
            "text/plain": [
              "v\"1.6.1\""
            ]
          },
          "metadata": {},
          "execution_count": 1
        }
      ]
    },
    {
      "cell_type": "markdown",
      "metadata": {
        "id": "0y5TUI-Ll4cY"
      },
      "source": [
        "#Optional GPU Experiments"
      ]
    },
    {
      "cell_type": "code",
      "metadata": {
        "id": "vHKANz2J0GDW",
        "colab": {
          "base_uri": "https://localhost:8080/"
        },
        "outputId": "e4ec6a1a-fc4d-4a2d-fd88-cf2ab868c7a5"
      },
      "source": [
        "using Pkg\n",
        "Pkg.add([\"BenchmarkTools\", \"CUDA\"])\n",
        "\n",
        "\n",
        "using BenchmarkTools, CUDA\n",
        "\n",
        "if has_cuda_gpu()\n",
        "  print(\"The GPU device is:\", CUDA.device())\n",
        "end"
      ],
      "execution_count": null,
      "outputs": [
        {
          "output_type": "stream",
          "name": "stdout",
          "text": [
            "The GPU device is:CuDevice(0)"
          ]
        }
      ]
    },
    {
      "cell_type": "code",
      "metadata": {
        "id": "q7Mbcm00lnxO",
        "colab": {
          "base_uri": "https://localhost:8080/"
        },
        "outputId": "378755c5-d7a8-4833-c64b-72ff60b7764b"
      },
      "source": [
        "mcpu = rand(2^10, 2^10)\n",
        "@benchmark mcpu*mcpu"
      ],
      "execution_count": null,
      "outputs": [
        {
          "output_type": "execute_result",
          "data": {
            "text/plain": [
              "BenchmarkTools.Trial: 79 samples with 1 evaluation.\n",
              " Range \u001b[90m(\u001b[39m\u001b[36m\u001b[1mmin\u001b[22m\u001b[39m … \u001b[35mmax\u001b[39m\u001b[90m):  \u001b[39m\u001b[36m\u001b[1m60.195 ms\u001b[22m\u001b[39m … \u001b[35m131.440 ms\u001b[39m  \u001b[90m┊\u001b[39m GC \u001b[90m(\u001b[39mmin … max\u001b[90m): \u001b[39m0.00% … 0.00%\n",
              " Time  \u001b[90m(\u001b[39m\u001b[34m\u001b[1mmedian\u001b[22m\u001b[39m\u001b[90m):     \u001b[39m\u001b[34m\u001b[1m61.417 ms               \u001b[22m\u001b[39m\u001b[90m┊\u001b[39m GC \u001b[90m(\u001b[39mmedian\u001b[90m):    \u001b[39m0.00%\n",
              " Time  \u001b[90m(\u001b[39m\u001b[32m\u001b[1mmean\u001b[22m\u001b[39m ± \u001b[32mσ\u001b[39m\u001b[90m):   \u001b[39m\u001b[32m\u001b[1m63.776 ms\u001b[22m\u001b[39m ± \u001b[32m  8.926 ms\u001b[39m  \u001b[90m┊\u001b[39m GC \u001b[90m(\u001b[39mmean ± σ\u001b[90m):  \u001b[39m0.71% ± 1.59%\n",
              "\n",
              "  \u001b[39m \u001b[39m▆\u001b[39m█\u001b[34m▄\u001b[39m\u001b[39m \u001b[39m \u001b[39m \u001b[39m \u001b[39m \u001b[32m \u001b[39m\u001b[39m \u001b[39m \u001b[39m \u001b[39m \u001b[39m \u001b[39m \u001b[39m \u001b[39m \u001b[39m \u001b[39m \u001b[39m \u001b[39m \u001b[39m \u001b[39m \u001b[39m \u001b[39m \u001b[39m \u001b[39m \u001b[39m \u001b[39m \u001b[39m \u001b[39m \u001b[39m \u001b[39m \u001b[39m \u001b[39m \u001b[39m \u001b[39m \u001b[39m \u001b[39m \u001b[39m \u001b[39m \u001b[39m \u001b[39m \u001b[39m \u001b[39m \u001b[39m \u001b[39m \u001b[39m \u001b[39m \u001b[39m \u001b[39m \u001b[39m \u001b[39m \u001b[39m \u001b[39m \u001b[39m \u001b[39m \u001b[39m \u001b[39m \u001b[39m \u001b[39m \n",
              "  \u001b[39m▄\u001b[39m█\u001b[39m█\u001b[34m█\u001b[39m\u001b[39m▆\u001b[39m▃\u001b[39m▃\u001b[39m▃\u001b[39m▃\u001b[32m▅\u001b[39m\u001b[39m▃\u001b[39m▃\u001b[39m▃\u001b[39m▃\u001b[39m▁\u001b[39m▁\u001b[39m▁\u001b[39m▃\u001b[39m▁\u001b[39m▁\u001b[39m▁\u001b[39m▁\u001b[39m▁\u001b[39m▁\u001b[39m▁\u001b[39m▁\u001b[39m▁\u001b[39m▁\u001b[39m▁\u001b[39m▁\u001b[39m▁\u001b[39m▁\u001b[39m▁\u001b[39m▁\u001b[39m▃\u001b[39m▁\u001b[39m▁\u001b[39m▁\u001b[39m▁\u001b[39m▃\u001b[39m▁\u001b[39m▁\u001b[39m▁\u001b[39m▁\u001b[39m▁\u001b[39m▁\u001b[39m▁\u001b[39m▁\u001b[39m▁\u001b[39m▁\u001b[39m▁\u001b[39m▁\u001b[39m▁\u001b[39m▃\u001b[39m▃\u001b[39m▁\u001b[39m▁\u001b[39m▁\u001b[39m▁\u001b[39m▃\u001b[39m \u001b[39m▁\n",
              "  60.2 ms\u001b[90m         Histogram: frequency by time\u001b[39m         83.5 ms \u001b[0m\u001b[1m<\u001b[22m\n",
              "\n",
              " Memory estimate\u001b[90m: \u001b[39m\u001b[33m8.00 MiB\u001b[39m, allocs estimate\u001b[90m: \u001b[39m\u001b[33m2\u001b[39m."
            ]
          },
          "metadata": {},
          "execution_count": 4
        }
      ]
    },
    {
      "cell_type": "code",
      "metadata": {
        "id": "RMHRbF5J-vmW",
        "colab": {
          "base_uri": "https://localhost:8080/"
        },
        "outputId": "7be6d6f6-6a97-44af-ecfc-49c11735df62"
      },
      "source": [
        "println(\"The CuArrray operation should take around 0.5 ms(excluding CUDA downloading time which is a one time process), and should be much faster. If so, the GPU is working.\")\n",
        "mgpu = cu(mcpu)\n",
        "@benchmark CUDA.@sync mgpu*mgpu"
      ],
      "execution_count": null,
      "outputs": [
        {
          "output_type": "stream",
          "name": "stdout",
          "text": [
            "The CuArrray operation should take around 0.5 ms(excluding CUDA downloading time which is a one time process), and should be much faster. If so, the GPU is working.\n"
          ]
        },
        {
          "output_type": "execute_result",
          "data": {
            "text/plain": [
              "BenchmarkTools.Trial: 2826 samples with 1 evaluation.\n",
              " Range \u001b[90m(\u001b[39m\u001b[36m\u001b[1mmin\u001b[22m\u001b[39m … \u001b[35mmax\u001b[39m\u001b[90m):  \u001b[39m\u001b[36m\u001b[1m1.190 ms\u001b[22m\u001b[39m … \u001b[35m  1.172 s\u001b[39m  \u001b[90m┊\u001b[39m GC \u001b[90m(\u001b[39mmin … max\u001b[90m): \u001b[39m0.00% … 0.48%\n",
              " Time  \u001b[90m(\u001b[39m\u001b[34m\u001b[1mmedian\u001b[22m\u001b[39m\u001b[90m):     \u001b[39m\u001b[34m\u001b[1m1.376 ms              \u001b[22m\u001b[39m\u001b[90m┊\u001b[39m GC \u001b[90m(\u001b[39mmedian\u001b[90m):    \u001b[39m0.00%\n",
              " Time  \u001b[90m(\u001b[39m\u001b[32m\u001b[1mmean\u001b[22m\u001b[39m ± \u001b[32mσ\u001b[39m\u001b[90m):   \u001b[39m\u001b[32m\u001b[1m1.825 ms\u001b[22m\u001b[39m ± \u001b[32m22.021 ms\u001b[39m  \u001b[90m┊\u001b[39m GC \u001b[90m(\u001b[39mmean ± σ\u001b[90m):  \u001b[39m0.11% ± 0.01%\n",
              "\n",
              "  \u001b[39m \u001b[39m \u001b[39m \u001b[39m \u001b[39m▃\u001b[39m█\u001b[34m█\u001b[39m\u001b[39m▃\u001b[39m \u001b[39m \u001b[39m \u001b[39m \u001b[39m \u001b[39m \u001b[39m \u001b[39m \u001b[39m \u001b[39m \u001b[39m \u001b[39m \u001b[39m \u001b[32m \u001b[39m\u001b[39m \u001b[39m \u001b[39m \u001b[39m \u001b[39m \u001b[39m \u001b[39m \u001b[39m \u001b[39m \u001b[39m \u001b[39m \u001b[39m \u001b[39m \u001b[39m \u001b[39m \u001b[39m \u001b[39m \u001b[39m \u001b[39m \u001b[39m \u001b[39m \u001b[39m \u001b[39m \u001b[39m \u001b[39m \u001b[39m \u001b[39m \u001b[39m \u001b[39m \u001b[39m \u001b[39m \u001b[39m \u001b[39m \u001b[39m \u001b[39m \u001b[39m \u001b[39m \u001b[39m \n",
              "  \u001b[39m▃\u001b[39m▃\u001b[39m▃\u001b[39m▃\u001b[39m█\u001b[39m█\u001b[34m█\u001b[39m\u001b[39m█\u001b[39m▅\u001b[39m▃\u001b[39m▂\u001b[39m▂\u001b[39m▂\u001b[39m▂\u001b[39m▂\u001b[39m▂\u001b[39m▂\u001b[39m▁\u001b[39m▂\u001b[39m▁\u001b[39m▂\u001b[32m▂\u001b[39m\u001b[39m▁\u001b[39m▂\u001b[39m▁\u001b[39m▂\u001b[39m▁\u001b[39m▁\u001b[39m▁\u001b[39m▂\u001b[39m▂\u001b[39m▁\u001b[39m▁\u001b[39m▂\u001b[39m▂\u001b[39m▁\u001b[39m▂\u001b[39m▂\u001b[39m▂\u001b[39m▁\u001b[39m▂\u001b[39m▁\u001b[39m▁\u001b[39m▁\u001b[39m▁\u001b[39m▁\u001b[39m▁\u001b[39m▁\u001b[39m▁\u001b[39m▁\u001b[39m▂\u001b[39m▁\u001b[39m▂\u001b[39m▁\u001b[39m▁\u001b[39m▂\u001b[39m▁\u001b[39m▂\u001b[39m \u001b[39m▃\n",
              "  1.19 ms\u001b[90m        Histogram: frequency by time\u001b[39m        2.97 ms \u001b[0m\u001b[1m<\u001b[22m\n",
              "\n",
              " Memory estimate\u001b[90m: \u001b[39m\u001b[33m256 bytes\u001b[39m, allocs estimate\u001b[90m: \u001b[39m\u001b[33m9\u001b[39m."
            ]
          },
          "metadata": {},
          "execution_count": 5
        }
      ]
    },
    {
      "cell_type": "markdown",
      "source": [
        "# **Importieren von gebrauchten Paketten für die Implementierung**"
      ],
      "metadata": {
        "id": "Re0Z5WZU-tu0"
      }
    },
    {
      "cell_type": "code",
      "source": [
        "using Pkg\n",
        "Pkg.add([\"BenchmarkTools\", \"CUDA\", \"Flux\", \"TextAnalysis\"])"
      ],
      "metadata": {
        "id": "m0C2mh1t-tVD"
      },
      "execution_count": null,
      "outputs": []
    },
    {
      "cell_type": "code",
      "source": [
        "Pkg.add(\"MAT\")"
      ],
      "metadata": {
        "id": "LgpqVApnKban"
      },
      "execution_count": null,
      "outputs": []
    },
    {
      "cell_type": "code",
      "source": [
        "Pkg.add(\"DataLoaders\")"
      ],
      "metadata": {
        "id": "rbVZacSFbBwB"
      },
      "execution_count": null,
      "outputs": []
    },
    {
      "cell_type": "code",
      "source": [
        "Pkg.add(\"Torch\")"
      ],
      "metadata": {
        "id": "D7kf4-65dDBS"
      },
      "execution_count": null,
      "outputs": []
    },
    {
      "cell_type": "code",
      "source": [
        "using BenchmarkTools, CUDA\n",
        "using Flux, TextAnalysis\n",
        "using MAT\n",
        "using DataLoaders\n",
        "using Torch\n",
        "using Torch: torch"
      ],
      "metadata": {
        "colab": {
          "base_uri": "https://localhost:8080/"
        },
        "id": "bWQYiB3x-4hH",
        "outputId": "3b19bb3c-daf3-4b30-bb9e-03270e55de81"
      },
      "execution_count": null,
      "outputs": [
        {
          "output_type": "stream",
          "name": "stderr",
          "text": [
            "┌ Info: Precompiling Flux [587475ba-b771-5e3f-ad9e-33799f191a9c]\n",
            "└ @ Base loading.jl:1317\n",
            "┌ Info: Precompiling Torch [6a2ea274-3061-11ea-0d63-ff850051a295]\n",
            "└ @ Base loading.jl:1317\n"
          ]
        }
      ]
    },
    {
      "cell_type": "markdown",
      "source": [
        "# **Lesen Vokabular: id2word**"
      ],
      "metadata": {
        "id": "8JUDKerqRAT8"
      }
    },
    {
      "cell_type": "code",
      "source": [
        "id2word = matread(\"/content/id2word.mat\")\n",
        "println(id2word[\"id\"])\n",
        "println(id2word[\"word\"])\n",
        "dict_id2word = Dict()\n",
        "for i in id2word[\"id\"]\n",
        "  dict_id2word[i] = id2word[\"word\"][i+1]\n",
        "end"
      ],
      "metadata": {
        "id": "TsOx-zz_Vk24",
        "colab": {
          "base_uri": "https://localhost:8080/"
        },
        "outputId": "2b5a5b1e-e4e6-4ee1-ca00-9b34e1a3103a"
      },
      "execution_count": 4,
      "outputs": [
        {
          "output_type": "stream",
          "name": "stdout",
          "text": [
            "[0 1 2 3 4 5 6 7 8 9 10 11 12 13 14 15 16 17 18 19 20 21 22 23 24 25 26 27 28 29 30 31 32 33 34 35 36 37 38 39 40 41 42 43 44 45 46 47 48 49 50 51 52 53 54 55 56 57 58 59 60 61 62 63 64 65 66 67 68 69 70 71 72 73 74 75 76 77 78 79 80 81 82 83 84 85 86 87 88 89 90 91 92 93 94 95 96 97 98 99 100 101 102 103 104 105 106 107 108 109 110 111 112 113 114 115 116 117 118 119 120 121 122 123 124 125 126 127 128 129 130 131 132 133 134 135 136 137 138 139 140 141 142 143 144 145 146 147 148 149 150 151 152 153 154 155 156 157 158 159 160 161 162 163 164 165 166 167 168 169 170 171 172 173 174 175 176 177 178 179 180 181 182 183 184 185 186 187 188 189 190 191 192 193 194 195 196 197 198 199 200 201 202 203 204 205 206 207 208 209 210 211 212 213 214 215 216 217 218 219 220 221 222 223 224 225 226 227 228 229 230 231 232 233 234 235 236 237 238 239 240 241 242 243 244 245 246 247 248 249 250 251 252 253 254 255 256 257 258 259 260 261 262 263 264 265 266 267 268 269 270 271 272 273 274 275 276 277 278 279 280 281 282 283 284 285 286 287 288 289 290 291 292 293 294 295 296 297 298 299 300 301 302 303 304 305 306 307 308 309 310 311 312 313 314 315 316 317 318 319 320 321 322 323 324 325 326 327 328 329 330 331 332 333 334 335 336 337 338 339 340 341 342 343 344 345 346 347]\n",
            "[\"research\", \"sound\", \"tin\", \"tom\", \"mentioned\", \"problems\", \"left\", \"usa\", \"original\", \"college\", \"parts\", \"considered\", \"institute\", \"large\", \"bad\", \"uk\", \"references\", \"robert\", \"key\", \"source\", \"common\", \"questions\", \"free\", \"early\", \"year\", \"word\", \"east\", \"good\", \"bike\", \"interested\", \"hope\", \"sell\", \"simply\", \"makes\", \"book\", \"information\", \"give\", \"easy\", \"numbers\", \"view\", \"idea\", \"folks\", \"assuming\", \"disk\", \"experience\", \"message\", \"error\", \"jim\", \"access\", \"kind\", \"software\", \"faster\", \"fax\", \"toronto\", \"top\", \"system\", \"technology\", \"call\", \"bible\", \"love\", \"end\", \"email\", \"david\", \"posted\", \"hard\", \"home\", \"mail\", \"buy\", \"sense\", \"put\", \"mine\", \"ms\", \"minutes\", \"wrong\", \"ibm\", \"related\", \"sun\", \"department\", \"show\", \"post\", \"takes\", \"response\", \"state\", \"wanted\", \"opinions\", \"writes\", \"public\", \"john\", \"hardware\", \"bill\", \"originator\", \"asked\", \"money\", \"network\", \"government\", \"bit\", \"reading\", \"making\", \"required\", \"time\", \"continue\", \"rate\", \"phone\", \"data\", \"program\", \"important\", \"life\", \"situation\", \"turn\", \"due\", \"written\", \"things\", \"ram\", \"close\", \"job\", \"big\", \"start\", \"dos\", \"chip\", \"lost\", \"deleted\", \"expressed\", \"world\", \"class\", \"send\", \"support\", \"based\", \"heard\", \"population\", \"question\", \"de\", \"copy\", \"code\", \"religion\", \"long\", \"distribution\", \"list\", \"radio\", \"feel\", \"dept\", \"california\", \"service\", \"price\", \"appreciated\", \"man\", \"change\", \"group\", \"high\", \"engineering\", \"understand\", \"machine\", \"gov\", \"sale\", \"result\", \"coming\", \"company\", \"understanding\", \"claim\", \"times\", \"thinking\", \"add\", \"higher\", \"means\", \"single\", \"systems\", \"mike\", \"drive\", \"net\", \"person\", \"answer\", \"stop\", \"address\", \"cc\", \"couple\", \"opinion\", \"law\", \"ca\", \"contact\", \"gas\", \"game\", \"worse\", \"matter\", \"summary\", \"wrote\", \"short\", \"thought\", \"calls\", \"jews\", \"clear\", \"real\", \"general\", \"science\", \"cs\", \"advance\", \"fact\", \"computing\", \"set\", \"school\", \"remember\", \"interesting\", \"au\", \"simple\", \"newsreader\", \"interest\", \"cost\", \"order\", \"nasa\", \"run\", \"mark\", \"file\", \"corporation\", \"care\", \"image\", \"national\", \"point\", \"live\", \"version\", \"rest\", \"talking\", \"fine\", \"truth\", \"small\", \"part\", \"possibly\", \"taking\", \"years\", \"side\", \"number\", \"date\", \"place\", \"read\", \"low\", \"hp\", \"issue\", \"called\", \"car\", \"memory\", \"reply\", \"hold\", \"exists\", \"months\", \"history\", \"university\", \"org\", \"card\", \"news\", \"work\", \"current\", \"worth\", \"dod\", \"make\", \"hear\", \"similar\", \"sort\", \"internet\", \"laboratory\", \"display\", \"people\", \"pay\", \"pc\", \"write\", \"mac\", \"back\", \"stuff\", \"apr\", \"true\", \"line\", \"keywords\", \"figure\", \"application\", \"western\", \"pretty\", \"ac\", \"front\", \"canada\", \"form\", \"open\", \"info\", \"nntp\", \"note\", \"receive\", \"hell\", \"today\", \"washington\", \"gun\", \"box\", \"hand\", \"lot\", \"guy\", \"friend\", \"found\", \"agree\", \"children\", \"told\", \"rights\", \"james\", \"made\", \"thing\", \"ago\", \"article\", \"including\", \"disclaimer\", \"mind\", \"miles\", \"city\", \"light\", \"find\", \"computer\", \"project\", \"wondering\", \"problem\", \"case\", \"center\", \"international\", \"major\", \"total\", \"nice\", \"late\", \"host\", \"windows\", \"control\", \"steve\", \"god\", \"final\", \"space\", \"power\", \"posting\", \"full\", \"reason\", \"guess\", \"religious\", \"design\", \"great\", \"sci\", \"christian\", \"week\", \"division\", \"speed\", \"days\", \"results\", \"effect\", \"strong\", \"board\", \"texas\", \"white\", \"technical\", \"type\", \"day\"]\n"
          ]
        }
      ]
    },
    {
      "cell_type": "markdown",
      "source": [
        "# **Lesen vorverarbeitete BoW-Repräsentationen aus der Datei: prepared_data/bow_train.mat**\n",
        "\n",
        "\n",
        "1.   Zuerst werden die vorverarbeiteten Dateien auf diesem Colab hochladen\n",
        "2.   Listeneintrag\n",
        "\n"
      ],
      "metadata": {
        "id": "CcDP7YLa8oT1"
      }
    },
    {
      "cell_type": "code",
      "source": [
        "# covert to bows-representation\n",
        "function covert_to_bows(data, vocab_size, normalize_data)\n",
        "  # covert\n",
        "  n_docs = length(data[\"tokens\"]) #list of [list of token-ids] = n_docs\n",
        "  # matrix in julia V*D\n",
        "  bows = zeros(Float64, vocab_size, n_docs)\n",
        "  #print(size(bows))\n",
        "  for docid in 1:n_docs\n",
        "    doc_tokens = data[\"tokens\"][docid]\n",
        "    doc_counts = data[\"counts\"][docid]\n",
        "    for (index, token_id) in enumerate(doc_tokens)\n",
        "      #replace zeros with count\n",
        "      bows[token_id+1, docid] = doc_counts[index]\n",
        "    end\n",
        "  end\n",
        "\n",
        "  doc_bow_sums = sum(bows, dims =1)\n",
        "  # normalize\n",
        "  if normalize_data\n",
        "    #println(\"\\n normalized\")\n",
        "    bows = bows ./ doc_bow_sums\n",
        "  end\n",
        "  #println(size(bows))\n",
        "  return bows\n",
        "end\n",
        "# loading files\n",
        "bow_train = matread(\"/content/bow_train.mat\")[\"train\"]\n",
        "#bow_train[\"train\"][\"tokens\"]\n",
        "#bow_train[\"train\"][\"counts\"]\n",
        "\n",
        "batch_size = 50\n",
        "vocab_size = length(id2word[\"id\"])\n",
        "print(\"vocab-size: \" * string(vocab_size) * \"\\n\") \n",
        "\n",
        "normalize_data = true\n",
        "normalized_data = covert_to_bows(bow_train, vocab_size, normalize_data)\n",
        "dataloader = DataLoader(normalized_data, batch_size)\n",
        "print(\"check n-batches: \" * string(length(dataloader)) * \"\\n\")\n",
        "for bow_doc_batch in dataloader\n",
        "    println(size(bow_doc_batch))\n",
        "    #@assert size(bow_doc_batch) == (vocab_size, batch_size)\n",
        "end"
      ],
      "metadata": {
        "colab": {
          "base_uri": "https://localhost:8080/"
        },
        "id": "dXYky6BHjAEu",
        "outputId": "7e994a2f-f0a6-471b-bf5c-82b6a7158cc9"
      },
      "execution_count": 68,
      "outputs": [
        {
          "output_type": "stream",
          "name": "stdout",
          "text": [
            "vocab-size: 348\n",
            "check n-batches: 3\n",
            "(348, 50)\n",
            "(348, 50)\n",
            "(348, 39)\n"
          ]
        }
      ]
    },
    {
      "cell_type": "markdown",
      "source": [
        "# **Lesen Word-Embedding word2vec aus der Datei: prepared_data/vocab_embedding.txt**"
      ],
      "metadata": {
        "id": "nqQmuQTS85Oy"
      }
    },
    {
      "cell_type": "code",
      "source": [
        "embeddings = []\n",
        "open(\"/content/vocab_embedding.txt\") do file\n",
        "  data = readlines(file)\n",
        "  for line in data\n",
        "    word, vector = split(line, \"\\t\")\n",
        "    vector = split(vector, \" \")\n",
        "    _vector = []\n",
        "    for e in vector\n",
        "      push!(_vector, parse(Float64, e))\n",
        "    end\n",
        "    push!(embeddings, _vector)\n",
        "  end\n",
        "end\n",
        "#println(embeddings)\n",
        "println(\"number of words in vocabulary: \" * string(length(embeddings)))\n",
        "print(\"dimension of word-embedding: \" * string(length(embeddings[1])))"
      ],
      "metadata": {
        "colab": {
          "base_uri": "https://localhost:8080/"
        },
        "id": "B229-l1c9SrR",
        "outputId": "ce4335e5-7d21-4dd4-e8f9-5160107b253a"
      },
      "execution_count": null,
      "outputs": [
        {
          "output_type": "stream",
          "name": "stdout",
          "text": [
            "number of words in vocabulary: 348\n",
            "dimension of word-embedding: 300"
          ]
        }
      ]
    },
    {
      "cell_type": "markdown",
      "source": [
        "# **Implementieren von ETM Modell**"
      ],
      "metadata": {
        "id": "LeL1r4cI8zPm"
      }
    },
    {
      "cell_type": "code",
      "source": [
        ""
      ],
      "metadata": {
        "id": "_q5pgyQh9Tsv"
      },
      "execution_count": null,
      "outputs": []
    },
    {
      "cell_type": "markdown",
      "source": [
        "# **Evaluieren von Topics mittels folgenden Evaluationmaßen**"
      ],
      "metadata": {
        "id": "7k1K4BBW8pj4"
      }
    },
    {
      "cell_type": "code",
      "source": [
        ""
      ],
      "metadata": {
        "id": "bx3pTBgu9b_m"
      },
      "execution_count": null,
      "outputs": []
    }
  ]
}