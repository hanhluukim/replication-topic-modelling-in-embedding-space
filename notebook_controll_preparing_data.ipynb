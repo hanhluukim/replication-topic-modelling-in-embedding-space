{
 "cells": [
  {
   "cell_type": "markdown",
   "metadata": {},
   "source": [
    "# Note: Using control_mode = True\n",
    "\n",
    "1. Notebook zur Kontrolle die Richtigkeit von Datenvorverarbeitung\n",
    "2. Benutzung control_mode = True, um nur wenige Daten aufzurufen"
   ]
  },
  {
   "cell_type": "code",
   "execution_count": 1,
   "metadata": {},
   "outputs": [
    {
     "name": "stdout",
     "output_type": "stream",
     "text": [
      "loading texts: ...\n",
      "train-size after loading: 11314\n",
      "test-size after loading: 7532\n",
      "finished load!\n",
      "check some sample texts of the dataset after filter punctuation and digits\n",
      "['From', ':', 'lerxst', '@', 'wam', '.', 'umd', '.', 'edu', '(', \"where's\", 'my', 'thing', ')', 'Subject', ':', 'WHAT', 'car', 'is', 'this', '!', '?', 'Nntp', 'Posting', 'Host', ':', 'rac3', '.', 'wam', '.', 'umd', '.', 'edu', 'Organization', ':', 'University', 'of', 'Maryland', ',', 'College', 'Park', 'Lines', ':', '15', 'I', 'was', 'wondering', 'if', 'anyone', 'out', 'there', 'could', 'enlighten', 'me', 'on', 'this', 'car', 'I', 'saw', 'the', 'other', 'day', '.', 'It', 'was', 'a', '2', 'door', 'sports', 'car', ',', 'looked', 'to', 'be', 'from', 'the', 'late', '60s', '/', 'early', '70s', '.', 'It', 'was', 'called', 'a', 'Bricklin', '.', 'The', 'doors', 'were', 'really', 'small', '.', 'In', 'addition', ',', 'the', 'front', 'bumper', 'was', 'separate', 'from', 'the', 'rest', 'of', 'the', 'body', '.', 'This', 'is', 'all', 'I', 'know', '.', 'If', 'anyone', 'can', 'tellme', 'a', 'model', 'name', ',', 'engine', 'specs', ',', 'years', 'of', 'production', ',', 'where', 'this', 'car', 'is', 'made', ',', 'history', ',', 'or', 'whatever', 'info', 'you', 'have', 'on', 'this', 'funky', 'looking', 'car', ',', 'please', 'e', 'mail', '.', 'Thanks', ',', 'IL', 'brought', 'to', 'you', 'by', 'your', 'neighborhood', 'Lerxst']\n",
      "====================================================================================================\n",
      "['From', ':', 'guykuo', '@', 'carson', '.', 'u', '.', 'washington', '.', 'edu', '(', 'Guy', 'Kuo', ')', 'Subject', ':', 'SI', 'Clock', 'Poll', 'Final', 'Call', 'Summary', ':', 'Final', 'call', 'for', 'SI', 'clock', 'reports', 'Keywords', ':', 'SI', ',', 'acceleration', ',', 'clock', ',', 'upgrade', 'Article', 'I', '.', 'D', '.', ':', 'shelley', '.', '1qvfo9INNc3s', 'Organization', ':', 'University', 'of', 'Washington', 'Lines', ':', '11', 'NNTP', 'Posting', 'Host', ':', 'carson', '.', 'u', '.', 'washington', '.', 'edu', 'A', 'fair', 'number', 'of', 'brave', 'souls', 'who', 'upgraded', 'their', 'SI', 'clock', 'oscillator', 'have', 'shared', 'their', 'experiences', 'for', 'this', 'poll', '.', 'Please', 'send', 'a', 'brief', 'message', 'detailing', 'your', 'experiences', 'with', 'the', 'procedure', '.', 'Top', 'speed', 'attained', ',', 'CPU', 'rated', 'speed', ',', 'add', 'on', 'cards', 'and', 'adapters', ',', 'heat', 'sinks', ',', 'hour', 'of', 'usage', 'per', 'day', ',', 'floppy', 'disk', 'functionality', 'with', '800', 'and', '1', '.', '4', 'm', 'floppies', 'are', 'especially', 'requested', '.', 'I', 'will', 'be', 'summarizing', 'in', 'the', 'next', 'two', 'days', ',', 'so', 'please', 'add', 'to', 'the', 'network', 'knowledge', 'base', 'if', 'you', 'have', 'done', 'the', 'clock', 'upgrade', 'and', \"haven't\", 'answered', 'this', 'poll', '.', 'Thanks', '.', 'Guy', 'Kuo', '<', 'guykuo', '@', 'u', '.', 'washington', '.', 'edu', '>']\n",
      "====================================================================================================\n",
      "start: preprocessing: ...\n",
      "preprocessing step: remove stopwords\n",
      "finised: preprocessing!\n",
      "vocab-size in df: 3102\n",
      "preprocessing remove stopwords from vocabulary\n",
      "start creating vocabulary ...\n",
      "length of the vocabulary: 3102\n",
      "length word2id list: 3102\n",
      "length id2word list: 3102\n",
      "finished: creating vocabulary\n"
     ]
    }
   ],
   "source": [
    "# init TextDataLoader für die Datenquelle 20 News Groups\n",
    "# Daten abrufen vom Sklearn, tokenisieren und besondere Charaktern entfernen\n",
    "from src.prepare_dataset import TextDataLoader\n",
    "import pandas as pd\n",
    "\n",
    "textsloader = TextDataLoader(source=\"20newsgroups\", train_size=None, test_size=None)\n",
    "textsloader.load_tokenize_texts(\"20newsgroups\", control_mode = False)\n",
    "textsloader.show_example_raw_texts(n_docs=2)\n",
    "# Vorverarbeitung von Daten mit folgenden Schritten:\n",
    "use_bert_embedding = False\n",
    "stopwords_filter = True\n",
    "textsloader.preprocess_texts(length_one_remove=True, \n",
    "                             punctuation_lower = True, \n",
    "                             stopwords_filter = stopwords_filter,\n",
    "                             use_bert_embedding = use_bert_embedding)\n",
    "# Daten zerlegen für Train, Test und Validation. Erstellen Vocabular aus dem Trainset\n",
    "\n",
    "min_df=100\n",
    "textsloader.split_and_create_voca_from_trainset(max_df=0.7, \n",
    "                                                min_df=min_df, \n",
    "                                                stopwords_remove_from_voca=stopwords_filter)"
   ]
  },
  {
   "cell_type": "code",
   "execution_count": 2,
   "metadata": {},
   "outputs": [
    {
     "name": "stdout",
     "output_type": "stream",
     "text": [
      "Dokumenten vor der Weiteraktualisierung durch empty-doc and 1-len-doc\n",
      "11214\n",
      "7532\n",
      "100\n",
      "18846\n"
     ]
    }
   ],
   "source": [
    "print(f'Dokumenten vor der Weiteraktualisierung durch empty-doc and 1-len-doc')\n",
    "print(len(textsloader.train_indices))\n",
    "print(len(textsloader.test_indices))\n",
    "print(len(textsloader.val_indices))\n",
    "print(len(textsloader.train_indices)+len(textsloader.test_indices)+ len(textsloader.val_indices))"
   ]
  },
  {
   "cell_type": "code",
   "execution_count": 3,
   "metadata": {},
   "outputs": [
    {
     "data": {
      "text/html": [
       "<div>\n",
       "<style scoped>\n",
       "    .dataframe tbody tr th:only-of-type {\n",
       "        vertical-align: middle;\n",
       "    }\n",
       "\n",
       "    .dataframe tbody tr th {\n",
       "        vertical-align: top;\n",
       "    }\n",
       "\n",
       "    .dataframe thead th {\n",
       "        text-align: right;\n",
       "    }\n",
       "</style>\n",
       "<table border=\"1\" class=\"dataframe\">\n",
       "  <thead>\n",
       "    <tr style=\"text-align: right;\">\n",
       "      <th></th>\n",
       "      <th>text</th>\n",
       "    </tr>\n",
       "  </thead>\n",
       "  <tbody>\n",
       "    <tr>\n",
       "      <th>0</th>\n",
       "      <td>lerxst wam umd thing subject car nntp posting ...</td>\n",
       "    </tr>\n",
       "    <tr>\n",
       "      <th>1</th>\n",
       "      <td>guykuo carson washington guy kuo subject si cl...</td>\n",
       "    </tr>\n",
       "    <tr>\n",
       "      <th>2</th>\n",
       "      <td>twillis ec ecn purdue thomas willis subject pb...</td>\n",
       "    </tr>\n",
       "    <tr>\n",
       "      <th>3</th>\n",
       "      <td>jgreen amber joe green subject weitek organiza...</td>\n",
       "    </tr>\n",
       "    <tr>\n",
       "      <th>4</th>\n",
       "      <td>jcm head cfa harvard jonathan mcdowell subject...</td>\n",
       "    </tr>\n",
       "    <tr>\n",
       "      <th>...</th>\n",
       "      <td>...</td>\n",
       "    </tr>\n",
       "    <tr>\n",
       "      <th>18841</th>\n",
       "      <td>richmond spiff princeton stupendous man subjec...</td>\n",
       "    </tr>\n",
       "    <tr>\n",
       "      <th>18842</th>\n",
       "      <td>smytonj alleg jim smyton subject monitors hour...</td>\n",
       "    </tr>\n",
       "    <tr>\n",
       "      <th>18843</th>\n",
       "      <td>hhenderson vax clarku subject game length brav...</td>\n",
       "    </tr>\n",
       "    <tr>\n",
       "      <th>18844</th>\n",
       "      <td>utarlg uta subject intel chmos design kit news...</td>\n",
       "    </tr>\n",
       "    <tr>\n",
       "      <th>18845</th>\n",
       "      <td>adamsj gtewd mtv gtegsc subject homosexuality ...</td>\n",
       "    </tr>\n",
       "  </tbody>\n",
       "</table>\n",
       "<p>18846 rows × 1 columns</p>\n",
       "</div>"
      ],
      "text/plain": [
       "                                                    text\n",
       "0      lerxst wam umd thing subject car nntp posting ...\n",
       "1      guykuo carson washington guy kuo subject si cl...\n",
       "2      twillis ec ecn purdue thomas willis subject pb...\n",
       "3      jgreen amber joe green subject weitek organiza...\n",
       "4      jcm head cfa harvard jonathan mcdowell subject...\n",
       "...                                                  ...\n",
       "18841  richmond spiff princeton stupendous man subjec...\n",
       "18842  smytonj alleg jim smyton subject monitors hour...\n",
       "18843  hhenderson vax clarku subject game length brav...\n",
       "18844  utarlg uta subject intel chmos design kit news...\n",
       "18845  adamsj gtewd mtv gtegsc subject homosexuality ...\n",
       "\n",
       "[18846 rows x 1 columns]"
      ]
     },
     "execution_count": 3,
     "metadata": {},
     "output_type": "execute_result"
    }
   ],
   "source": [
    "docs = pd.DataFrame()\n",
    "docs['text'] = textsloader.complete_docs\n",
    "docs"
   ]
  },
  {
   "cell_type": "code",
   "execution_count": 4,
   "metadata": {},
   "outputs": [
    {
     "name": "stdout",
     "output_type": "stream",
     "text": [
      "save docs in txt...\n",
      "save docs finished\n",
      "train-size-after-all: 11214\n",
      "test-size-after-all: 7532\n",
      "validation-size-after-all: 100\n",
      "test-size-after-all: 11214\n",
      "test-indices-length: 11214\n",
      "test-size-after-all: 100\n",
      "test-indices-length: 100\n",
      "test-size-after-all: 7532\n",
      "test-indices-length: 7532\n",
      "length train-documents-indices : 896087\n",
      "length of the vocabulary: 3102\n",
      "\n",
      "\n",
      "start: creating bow representation...\n",
      "finised creating bow input!\n",
      "\n",
      "start: creating bow representation...\n",
      "finised creating bow input!\n",
      "\n",
      "start: creating bow representation...\n",
      "finised creating bow input!\n",
      "\n",
      "start: creating bow representation...\n",
      "finised creating bow input!\n",
      "\n",
      "start: creating bow representation...\n",
      "finised creating bow input!\n",
      "\n"
     ]
    }
   ],
   "source": [
    "# Erstellen BOW-Repräsentation für ETM Modell\n",
    "for_lda_model = False\n",
    "word2id, id2word, train_set, test_set, val_set = textsloader.create_bow_and_savebow_for_each_set(for_lda_model=for_lda_model)"
   ]
  },
  {
   "cell_type": "code",
   "execution_count": 5,
   "metadata": {},
   "outputs": [],
   "source": [
    "my_vocab = sorted(list(word2id.keys()))"
   ]
  },
  {
   "cell_type": "code",
   "execution_count": 6,
   "metadata": {},
   "outputs": [
    {
     "name": "stdout",
     "output_type": "stream",
     "text": [
      "Dokumenten nach dem der Weiteraktualisierung durch empty-doc and 1-len-doc\n",
      "11214\n",
      "7532\n",
      "100\n",
      "18846\n"
     ]
    }
   ],
   "source": [
    "print(f'Dokumenten nach dem der Weiteraktualisierung durch empty-doc and 1-len-doc')\n",
    "print(len(textsloader.train_indices))\n",
    "print(len(textsloader.test_indices))\n",
    "print(len(textsloader.val_indices))\n",
    "print(len(textsloader.train_indices)+len(textsloader.test_indices)+ len(textsloader.val_indices))"
   ]
  },
  {
   "cell_type": "code",
   "execution_count": 7,
   "metadata": {},
   "outputs": [
    {
     "name": "stdout",
     "output_type": "stream",
     "text": [
      "save docs in txt...\n",
      "save docs finished\n"
     ]
    },
    {
     "data": {
      "text/html": [
       "<div>\n",
       "<style scoped>\n",
       "    .dataframe tbody tr th:only-of-type {\n",
       "        vertical-align: middle;\n",
       "    }\n",
       "\n",
       "    .dataframe tbody tr th {\n",
       "        vertical-align: top;\n",
       "    }\n",
       "\n",
       "    .dataframe thead th {\n",
       "        text-align: right;\n",
       "    }\n",
       "</style>\n",
       "<table border=\"1\" class=\"dataframe\">\n",
       "  <thead>\n",
       "    <tr style=\"text-align: right;\">\n",
       "      <th></th>\n",
       "      <th>text-after-preprocessing</th>\n",
       "    </tr>\n",
       "  </thead>\n",
       "  <tbody>\n",
       "    <tr>\n",
       "      <th>0</th>\n",
       "      <td>jackson defense nntp posting host university i...</td>\n",
       "    </tr>\n",
       "    <tr>\n",
       "      <th>1</th>\n",
       "      <td>apollo hp red police state usa nntp posting ho...</td>\n",
       "    </tr>\n",
       "    <tr>\n",
       "      <th>2</th>\n",
       "      <td>dartmouth brian hughes installing ram quadra r...</td>\n",
       "    </tr>\n",
       "    <tr>\n",
       "      <th>3</th>\n",
       "      <td>bu boston university physics department articl...</td>\n",
       "    </tr>\n",
       "    <tr>\n",
       "      <th>4</th>\n",
       "      <td>king eng umd doug computer design lab maryland...</td>\n",
       "    </tr>\n",
       "    <tr>\n",
       "      <th>...</th>\n",
       "      <td>...</td>\n",
       "    </tr>\n",
       "    <tr>\n",
       "      <th>11209</th>\n",
       "      <td>ac steve christians university south article a...</td>\n",
       "    </tr>\n",
       "    <tr>\n",
       "      <th>11210</th>\n",
       "      <td>bill cs bill info college computer science dis...</td>\n",
       "    </tr>\n",
       "    <tr>\n",
       "      <th>11211</th>\n",
       "      <td>bbs net bill anderson restrictions bbs public ...</td>\n",
       "    </tr>\n",
       "    <tr>\n",
       "      <th>11212</th>\n",
       "      <td>umich monitor add card apple computer keywords...</td>\n",
       "    </tr>\n",
       "    <tr>\n",
       "      <th>11213</th>\n",
       "      <td>scott scott jewish baseball players american s...</td>\n",
       "    </tr>\n",
       "  </tbody>\n",
       "</table>\n",
       "<p>11214 rows × 1 columns</p>\n",
       "</div>"
      ],
      "text/plain": [
       "                                text-after-preprocessing\n",
       "0      jackson defense nntp posting host university i...\n",
       "1      apollo hp red police state usa nntp posting ho...\n",
       "2      dartmouth brian hughes installing ram quadra r...\n",
       "3      bu boston university physics department articl...\n",
       "4      king eng umd doug computer design lab maryland...\n",
       "...                                                  ...\n",
       "11209  ac steve christians university south article a...\n",
       "11210  bill cs bill info college computer science dis...\n",
       "11211  bbs net bill anderson restrictions bbs public ...\n",
       "11212  umich monitor add card apple computer keywords...\n",
       "11213  scott scott jewish baseball players american s...\n",
       "\n",
       "[11214 rows x 1 columns]"
      ]
     },
     "execution_count": 7,
     "metadata": {},
     "output_type": "execute_result"
    }
   ],
   "source": [
    "# re-erstellen von Dokumenten nach der Vorverarbeitungen. Die Dokumenten sind in Wörtern und werden für Word-Embedding Training benutzt\n",
    "docs_tr, docs_t, docs_v = textsloader.get_docs_in_words_for_each_set()\n",
    "train_docs_df = pd.DataFrame()\n",
    "train_docs_df['text-after-preprocessing'] = [' '.join(doc) for doc in docs_tr]\n",
    "train_docs_df"
   ]
  },
  {
   "cell_type": "markdown",
   "metadata": {},
   "source": [
    "# Erstellung von Embeddings"
   ]
  },
  {
   "cell_type": "code",
   "execution_count": 8,
   "metadata": {},
   "outputs": [
    {
     "name": "stdout",
     "output_type": "stream",
     "text": [
      "/home/miss-luu/Downloads/Sommersemester_2022/Data-Mining-Project/replication-topic-modelling-in-embedding-space/prepared_data/min_df_100\n",
      "train word-embedding with skipgram\n"
     ]
    },
    {
     "name": "stderr",
     "output_type": "stream",
     "text": [
      " 14%|█▎        | 423/3102 [00:00<00:00, 4224.39it/s]"
     ]
    },
    {
     "name": "stdout",
     "output_type": "stream",
     "text": [
      "length of vocabulary from word-embedding with skipgram: 3102\n",
      "length of vocabulary after creating BOW: 3102\n"
     ]
    },
    {
     "name": "stderr",
     "output_type": "stream",
     "text": [
      "100%|██████████| 3102/3102 [00:00<00:00, 4021.69it/s]\n"
     ]
    },
    {
     "name": "stdout",
     "output_type": "stream",
     "text": [
      "skipgram word-embedding of the word: jackson\n",
      "some elements of vector: [0.17036203, 0.22225577, 0.018616812, 0.17042501, -0.12448632]\n",
      "total dim of vector: 300\n",
      "show some semantic similar words \n",
      "\n",
      "neighbors of word: countries\n",
      "['nations', 'interests', 'policies', 'ethnic', 'governments']\n",
      "[0.8291685581207275, 0.8290121555328369, 0.8282902836799622, 0.793046236038208, 0.7915384769439697]\n",
      "----------------------------------------------------------------------------------------------------\n",
      "neighbors of word: figures\n",
      "['rare', 'legally', 'remains', 'limits', 'offered']\n",
      "[0.740115761756897, 0.7281169295310974, 0.7175210118293762, 0.7142847776412964, 0.6874909400939941]\n",
      "----------------------------------------------------------------------------------------------------\n"
     ]
    }
   ],
   "source": [
    "from pathlib import Path\n",
    "\n",
    "save_path = Path.joinpath(Path.cwd(), f'prepared_data/min_df_{min_df}')\n",
    "figures_path = Path.joinpath(Path.cwd(), f'figures/min_df_{min_df}')\n",
    "Path(save_path).mkdir(parents=True, exist_ok=True)\n",
    "Path(figures_path).mkdir(parents=True, exist_ok=True)\n",
    "print(save_path)\n",
    "\n",
    "vocab = list(word2id.keys())\n",
    "model_name = \"skipgram\"\n",
    "from src.embedding import WordEmbeddingCreator\n",
    "from pathlib import Path\n",
    "\n",
    "if model_name != \"bert\" and use_bert_embedding == False:\n",
    "  wb_creator = WordEmbeddingCreator(model_name=model_name, documents = docs_tr, save_path= save_path)\n",
    "  wb_creator.train(min_count=0, embedding_size= 300)\n",
    "  wb_creator.create_and_save_vocab_embedding(vocab, save_path)\n",
    "else:\n",
    "  print('festlegen welches Modell für word2vec soll genutzt werden!\\n Wenn bert-Modell, bitte die Vocabular aktualisieren durch use_bert_embedding = True')\n",
    "#------------------------------------------------------------------------------------\n",
    "if model_name != \"bert\" and use_bert_embedding == False:\n",
    "  v = list(wb_creator.model.wv.vocab)[0]\n",
    "  vec = list(wb_creator.model.wv.__getitem__(v))\n",
    "  print(f'{model_name} word-embedding of the word: {v}')\n",
    "  print(f'some elements of vector: {vec[:5]}')\n",
    "  print(f'total dim of vector: {len(vec)}')\n",
    "  print(f'show some semantic similar words \\n')\n",
    "  for i in range(0,2):\n",
    "      print(f'neighbors of word: {vocab[i]}')\n",
    "      print([r[0] for r in wb_creator.find_most_similar_words(n_neighbor=5, word=vocab[i])])\n",
    "      print([r[1] for r in wb_creator.find_most_similar_words(n_neighbor=5, word=vocab[i])])\n",
    "      print(100*\"-\")\n",
    "else:\n",
    "  print('festlegen welches Modell für word2vec soll genutzt werden!\\n Wenn bert-Modell, bitte die Vocabular aktualisieren durch use_bert_embedding = True')"
   ]
  },
  {
   "cell_type": "markdown",
   "metadata": {},
   "source": [
    "# Kontrollieren BoW Format"
   ]
  },
  {
   "cell_type": "code",
   "execution_count": null,
   "metadata": {},
   "outputs": [],
   "source": []
  },
  {
   "cell_type": "markdown",
   "metadata": {},
   "source": [
    "# Vergleichen mit other ETM\n",
    "\n",
    "1. Für den Vergleic wurde das Paket verwendet: https://github.com/lffloyd/embedded-topic-model"
   ]
  },
  {
   "cell_type": "code",
   "execution_count": 21,
   "metadata": {},
   "outputs": [
    {
     "name": "stdout",
     "output_type": "stream",
     "text": [
      "11214\n"
     ]
    }
   ],
   "source": [
    "# read data, data were already preprocessed\n",
    "corpus_file = 'prepared_data/train_docs_from_complete_docs.txt'\n",
    "documents = []\n",
    "with open(corpus_file) as f:\n",
    "    lines = f.readlines()\n",
    "for line in lines:\n",
    "    line = line.split(\":\")[1].strip()\n",
    "    documents.append(line)\n",
    "print(len(documents))"
   ]
  },
  {
   "cell_type": "code",
   "execution_count": 43,
   "metadata": {},
   "outputs": [
    {
     "name": "stdout",
     "output_type": "stream",
     "text": [
      "['countries', 'piece', 'game', 'walk', 'carried', 'choice', 'lets', 'save', 'discussion', 'sex']\n"
     ]
    }
   ],
   "source": [
    "# create input for etm, using method of the pakage\n",
    "from embedded_topic_model.utils import preprocessing\n",
    "vocabulary, train_dataset, empty_test_dataset = preprocessing.create_etm_datasets(\n",
    "    documents, \n",
    "    min_df=100, #because we use documents, which we already filtered\n",
    "    max_df=0.7, \n",
    "    train_size=1.0, \n",
    ")\n",
    "for w in vocabulary:\n",
    "    if w not in my_vocab:\n",
    "        print(w)\n",
    "print(vocabulary[:10])"
   ]
  },
  {
   "cell_type": "code",
   "execution_count": 28,
   "metadata": {},
   "outputs": [
    {
     "name": "stdout",
     "output_type": "stream",
     "text": [
      "300\n",
      "['countries', 'piece', 'game', 'walk', 'carried', 'choice', 'lets', 'discussion', 'save', 'sex']\n",
      "countries\n"
     ]
    },
    {
     "data": {
      "text/plain": [
       "[('nations', 0.8291685581207275),\n",
       " ('governments', 0.7915384769439697),\n",
       " ('economic', 0.7736542224884033),\n",
       " ('organizations', 0.7644751071929932),\n",
       " ('citizens', 0.7580311298370361)]"
      ]
     },
     "execution_count": 28,
     "metadata": {},
     "output_type": "execute_result"
    }
   ],
   "source": [
    "# own prefitted embedding loading and convert to the format the ETM package can use\n",
    "from src.embedding import read_prefitted_embedding\n",
    "import numpy as np \n",
    "\n",
    "# save embedding_data again for this vocabulary, sorted by the vocabulary\n",
    "# covert to embedding txt for embedding mapping\n",
    "vocab_embedding, embedding_data = read_prefitted_embedding(model_name, vocabulary, save_path)\n",
    "print(len(embedding_data[1]))\n",
    "print(vocab_embedding[:10])\n",
    "# cover to format that gensim KeyedVectors can read\n",
    "data = pd.DataFrame(embedding_data,\n",
    "                    index=vocab_embedding)\n",
    "embedding_save_path = f'prepared_data/min_df_{min_df}/{model_name}_prefitted_embeddings_control_mode.txt'\n",
    "np.savetxt(embedding_save_path, data.reset_index().values, \n",
    "           delimiter=\" \", \n",
    "           header=\"{} {}\".format(len(data), len(data.columns)),\n",
    "           comments=\"\",\n",
    "           fmt=[\"%s\"] + [\"%.18e\"]*len(data.columns))\n",
    "# test if all correct\n",
    "import gensim\n",
    "from gensim.models.keyedvectors import KeyedVectors\n",
    "word_vectors = KeyedVectors.load_word2vec_format(embedding_save_path, binary=False)\n",
    "print(vocab_embedding[0])\n",
    "word_vectors.most_similar(vocab_embedding[0], topn=5)"
   ]
  },
  {
   "cell_type": "code",
   "execution_count": 29,
   "metadata": {},
   "outputs": [
    {
     "name": "stdout",
     "output_type": "stream",
     "text": [
      "Reading embeddings from original word2vec TXT file...\n",
      "Topics before training: [['mit', 'laboratory', 'org', 'research', 'stanford', 'columbia', 'de', 'distribution', 'reply', 'gmt'], ['bike', 'keywords', 'posting', 'car', 'cover', 'nntp', 'advice', 'engine', 'misc', 'rear'], ['israeli', 'policy', 'id', 'columbia', 'org', 'israel', 'virginia', 'united', 'bnr', 'cc'], ['rec', 'dod', 'research', 'mil', 'news', 'group', 'newsreader', 'sci', 'corp', 'gmt'], ['fax', 'phone', 'number', 'voice', 'tel', 'box', 'call', 'germany', 'serial', 'compatible'], ['ground', 'support', 'radio', 'technology', 'applications', 'georgia', 'phone', 'international', 'fax', 'national'], ['political', 'policy', 'view', 'genocide', 'war', 'jewish', 'good', 'morality', 'armenia', 'atheists'], ['uiuc', 'cso', 'win', 'ball', 'deleted', 'clock', 'played', 'king', 'net', 'apple'], ['ac', 'office', 'ms', 'windows', 'access', 'mine', 'de', 'newsreader', 'uunet', 'uk'], ['fire', 'atf', 'frank', 'waco', 'texas', 'koresh', 'burns', 'fbi', 'uk', 'guy'], ['disclaimer', 'ca', 'ibm', 'shipping', 'bike', 'companies', 'power', 'bnr', 'code', 'software'], ['max', 'stratus', 'serial', 'ohio', 'mhz', 'printer', 'encryption', 'sw', 'graphics', 'color'], ['computer', 'church', 'tu', 'mountain', 'muslim', 'microsoft', 'books', 'stratus', 'bible', 'graphics'], ['access', 'public', 'message', 'distribution', 'key', 'news', 'communications', 'online', 'st', 'pat'], ['cc', 'columbia', 'systems', 'genocide', 'gary', 'turkish', 'netcom', 'soviet', 'uk', 'green'], ['disclaimer', 'opinions', 'posting', 'atheists', 'views', 'god', 'necessarily', 'beliefs', 'software', 'employer'], ['devices', 'designed', 'equipment', 'device', 'based', 'built', 'tools', 'sun', 'controlled', 'hardware'], ['mr', 'christian', 'punishment', 'human', 'questions', 'islam', 'united', 'moral', 'acceptable', 'opinions'], ['programs', 'car', 'files', 'michael', 'purdue', 'cc', 'bought', 'high', 'manual', 'mit'], ['jesus', 'jews', 'bible', 'comp', 'computer', 'islam', 'israel', 'god', 'religion', 'muslims']]\n",
      "Epoch 1 - Learning Rate: 0.002 - KL theta: 0.0 - Rec loss: 499.97 - NELBO: 499.97\n",
      "Epoch 2 - Learning Rate: 0.002 - KL theta: 0.04 - Rec loss: 498.92 - NELBO: 498.96\n",
      "Epoch 3 - Learning Rate: 0.002 - KL theta: 0.29 - Rec loss: 498.91 - NELBO: 499.2\n",
      "Epoch 4 - Learning Rate: 0.002 - KL theta: 1.04 - Rec loss: 493.73 - NELBO: 494.77\n",
      "Epoch 5 - Learning Rate: 0.002 - KL theta: 1.76 - Rec loss: 495.23 - NELBO: 496.99\n",
      "Epoch 6 - Learning Rate: 0.002 - KL theta: 2.22 - Rec loss: 484.38 - NELBO: 486.6\n",
      "Epoch 7 - Learning Rate: 0.002 - KL theta: 2.51 - Rec loss: 487.27 - NELBO: 489.78\n",
      "Epoch 8 - Learning Rate: 0.002 - KL theta: 2.78 - Rec loss: 480.01 - NELBO: 482.79\n",
      "Epoch 9 - Learning Rate: 0.002 - KL theta: 2.99 - Rec loss: 477.84 - NELBO: 480.83\n",
      "Epoch 10 - Learning Rate: 0.002 - KL theta: 3.26 - Rec loss: 480.94 - NELBO: 484.2\n",
      "Topics: [['nntp', 'article', 'host', 'posting', 'writes', 'reply', 'university', 'distribution', 'keywords', 'cs'], ['nntp', 'posting', 'host', 'article', 'writes', 'university', 'reply', 'keywords', 'distribution', 'cs'], ['max', 'nntp', 'posting', 'host', 'mr', 'article', 'university', 'writes', 'bnr', 'mi'], ['article', 'writes', 'posting', 'nntp', 'host', 'university', 'cs', 'reply', 'ca', 'eng'], ['nntp', 'host', 'posting', 'keywords', 'university', 'modem', 'fax', 'chips', 'phone', 'system'], ['administration', 'mr', 'enforcement', 'clinton', 'agencies', 'protect', 'crypto', 'congress', 'criminals', 'nsa'], ['writes', 'article', 'nntp', 'university', 'posting', 'host', 'keywords', 'good', 'world', 'wrote'], ['writes', 'play', 'playoffs', 'good', 'nhl', 'won', 'fans', 'nntp', 'played', 'team'], ['modem', 'connect', 'keywords', 'floppy', 'nntp', 'ftp', 'server', 'computer', 'pc', 'access'], ['writes', 'nntp', 'article', 'host', 'posting', 'university', 'cs', 'keywords', 'reply', 'wayne'], ['nntp', 'article', 'posting', 'host', 'writes', 'university', 'reply', 'ca', 'cs', 'keywords'], ['max', 'nntp', 'mb', 'host', 'tu', 'posting', 'ma', 'mi', 'md', 'sw'], ['nntp', 'posting', 'computer', 'university', 'host', 'keywords', 'phone', 'modem', 'access', 'article'], ['nntp', 'posting', 'university', 'host', 'article', 'writes', 'keywords', 'distribution', 'reply', 'cs'], ['article', 'writes', 'nntp', 'host', 'posting', 'university', 'reply', 'keywords', 'wayne', 'nhl'], ['nntp', 'posting', 'host', 'writes', 'article', 'university', 'good', 'great', 'bad', 'world'], ['dos', 'server', 'windows', 'ftp', 'directory', 'files', 'pc', 'disk', 'mode', 'interface'], ['good', 'public', 'make', 'business', 'university', 'americans', 'care', 'give', 'illegal', 'traffic'], ['article', 'nntp', 'posting', 'writes', 'host', 'university', 'reply', 'keywords', 'cs', 'distribution'], ['god', 'jesus', 'muslims', 'people', 'jews', 'father', 'religious', 'christians', 'christ', 'muslim']]\n",
      "Epoch 11 - Learning Rate: 0.002 - KL theta: 3.56 - Rec loss: 479.17 - NELBO: 482.73\n",
      "Epoch 12 - Learning Rate: 0.002 - KL theta: 3.81 - Rec loss: 474.39 - NELBO: 478.2\n",
      "Epoch 13 - Learning Rate: 0.002 - KL theta: 3.84 - Rec loss: 473.5 - NELBO: 477.34\n",
      "Epoch 14 - Learning Rate: 0.002 - KL theta: 3.96 - Rec loss: 482.77 - NELBO: 486.73\n",
      "Epoch 15 - Learning Rate: 0.002 - KL theta: 4.07 - Rec loss: 471.9 - NELBO: 475.97\n",
      "Epoch 16 - Learning Rate: 0.002 - KL theta: 4.25 - Rec loss: 483.34 - NELBO: 487.59\n",
      "Epoch 17 - Learning Rate: 0.002 - KL theta: 4.23 - Rec loss: 469.3 - NELBO: 473.53\n",
      "Epoch 18 - Learning Rate: 0.002 - KL theta: 4.34 - Rec loss: 476.99 - NELBO: 481.33\n",
      "Epoch 19 - Learning Rate: 0.002 - KL theta: 4.45 - Rec loss: 474.91 - NELBO: 479.36\n",
      "Epoch 20 - Learning Rate: 0.002 - KL theta: 4.58 - Rec loss: 471.73 - NELBO: 476.31\n",
      "Topics: [['host', 'posting', 'distribution', 'university', 'nntp', 'article', 'reply', 'writes', 'cs', 'ca'], ['nntp', 'posting', 'host', 'university', 'reply', 'distribution', 'article', 'gov', 'writes', 'ac'], ['nntp', 'max', 'posting', 'host', 'university', 'article', 'writes', 'mr', 'ma', 'bnr'], ['writes', 'article', 'cs', 'posting', 'host', 'nntp', 'university', 'reply', 'ca', 'distribution'], ['phone', 'system', 'number', 'call', 'send', 'work', 'mail', 'space', 'bbs', 'chips'], ['gun', 'enforcement', 'congress', 'clinton', 'administration', 'mr', 'federal', 'amendment', 'agencies', 'criminals'], ['good', 'bike', 'ride', 'bad', 'buy', 'engine', 'make', 'back', 'pretty', 'motorcycle'], ['play', 'team', 'game', 'playoffs', 'players', 'won', 'player', 'games', 'win', 'nhl'], ['mail', 'computer', 'fax', 'email', 'modem', 'access', 'gateway', 'gov', 'bbs', 'advance'], ['writes', 'university', 'nntp', 'article', 'posting', 'host', 'wrote', 'mark', 'cs', 'world'], ['ca', 'university', 'posting', 'nntp', 'article', 'host', 'writes', 'cs', 'reply', 'distribution'], ['max', 'ma', 'tu', 'md', 'mb', 'mi', 'sw', 'nntp', 'wa', 'nz'], ['space', 'nasa', 'shuttle', 'key', 'mission', 'sci', 'phone', 'project', 'launch', 'computer'], ['university', 'nntp', 'posting', 'distribution', 'host', 'reply', 'usa', 'article', 'mail', 'keywords'], ['writes', 'article', 'nntp', 'host', 'university', 'posting', 'reply', 'cs', 'cc', 'eng'], ['good', 'work', 'thing', 'make', 'buy', 'bad', 'kind', 'pretty', 'lot', 'sounds'], ['dos', 'windows', 'files', 'server', 'format', 'pc', 'software', 'directory', 'disk', 'system'], ['good', 'buy', 'make', 'work', 'care', 'give', 'spend', 'find', 'back', 'kind'], ['writes', 'article', 'university', 'posting', 'host', 'nntp', 'reply', 'cc', 'cs', 'distribution'], ['god', 'people', 'muslims', 'jews', 'jesus', 'christians', 'religious', 'islam', 'muslim', 'bible']]\n",
      "Epoch 21 - Learning Rate: 0.002 - KL theta: 4.83 - Rec loss: 468.65 - NELBO: 473.48\n",
      "Epoch 22 - Learning Rate: 0.002 - KL theta: 4.72 - Rec loss: 473.79 - NELBO: 478.51\n",
      "Epoch 23 - Learning Rate: 0.002 - KL theta: 4.79 - Rec loss: 463.63 - NELBO: 468.42\n",
      "Epoch 24 - Learning Rate: 0.002 - KL theta: 4.81 - Rec loss: 470.73 - NELBO: 475.54\n",
      "Epoch 25 - Learning Rate: 0.002 - KL theta: 4.93 - Rec loss: 460.96 - NELBO: 465.89\n",
      "Epoch 26 - Learning Rate: 0.002 - KL theta: 4.96 - Rec loss: 465.56 - NELBO: 470.52\n",
      "Epoch 27 - Learning Rate: 0.002 - KL theta: 5.06 - Rec loss: 466.88 - NELBO: 471.94\n"
     ]
    },
    {
     "name": "stdout",
     "output_type": "stream",
     "text": [
      "Epoch 28 - Learning Rate: 0.002 - KL theta: 5.05 - Rec loss: 466.69 - NELBO: 471.74\n",
      "Epoch 29 - Learning Rate: 0.002 - KL theta: 5.15 - Rec loss: 462.68 - NELBO: 467.83\n",
      "Epoch 30 - Learning Rate: 0.002 - KL theta: 5.26 - Rec loss: 463.44 - NELBO: 468.7\n",
      "Topics: [['host', 'distribution', 'university', 'posting', 'nntp', 'org', 'reply', 'uk', 'mit', 'article'], ['posting', 'university', 'nntp', 'uk', 'ac', 'host', 'reply', 'mail', 'internet', 'org'], ['nntp', 'opinions', 'posting', 'university', 'article', 'host', 'writes', 'dod', 'org', 'corporation'], ['writes', 'article', 'cs', 'posting', 'host', 'university', 'nntp', 'ca', 'uiuc', 'cc'], ['call', 'system', 'number', 'problem', 'phone', 'time', 'find', 'back', 'work', 'put'], ['gun', 'government', 'fbi', 'mr', 'armed', 'waco', 'police', 'federal', 'citizens', 'turkish'], ['good', 'power', 'car', 'engine', 'make', 'bike', 'wheel', 'rear', 'front', 'buy'], ['team', 'play', 'year', 'games', 'game', 'won', 'players', 'player', 'playoffs', 'win'], ['mail', 'email', 'computer', 'apple', 'fax', 'net', 'bbs', 'info', 'internet', 'address'], ['writes', 'state', 'world', 'question', 'article', 'university', 'wrote', 'nntp', 'remember', 'mark'], ['ca', 'writes', 'posting', 'article', 'university', 'host', 'nntp', 'cs', 'news', 'reply'], ['max', 'tu', 'ma', 'mi', 'md', 'mb', 'sw', 'de', 'mr', 'wa'], ['space', 'key', 'nasa', 'escrow', 'chip', 'clipper', 'encryption', 'access', 'number', 'algorithm'], ['usa', 'computer', 'mail', 'world', 'university', 'posting', 'internet', 'nntp', 'distribution', 'reply'], ['writes', 'article', 'netcom', 'cs', 'university', 'nntp', 'andrew', 'host', 'cc', 'posting'], ['good', 'make', 'work', 'time', 'case', 'thing', 'find', 'lot', 'back', 'problem'], ['dos', 'windows', 'files', 'file', 'software', 'pc', 'card', 'system', 'format', 'server'], ['care', 'good', 'find', 'make', 'give', 'work', 'school', 'thing', 'doctor', 'medical'], ['writes', 'article', 'university', 'posting', 'host', 'nntp', 'distribution', 'cc', 'reply', 'cs'], ['god', 'people', 'jesus', 'bible', 'christians', 'jews', 'religious', 'islam', 'doctrine', 'muslims']]\n",
      "Epoch 31 - Learning Rate: 0.002 - KL theta: 5.31 - Rec loss: 465.98 - NELBO: 471.29\n",
      "Epoch 32 - Learning Rate: 0.002 - KL theta: 5.54 - Rec loss: 462.46 - NELBO: 468.0\n",
      "Epoch 33 - Learning Rate: 0.002 - KL theta: 5.63 - Rec loss: 458.98 - NELBO: 464.61\n",
      "Epoch 34 - Learning Rate: 0.002 - KL theta: 5.76 - Rec loss: 461.69 - NELBO: 467.45\n",
      "Epoch 35 - Learning Rate: 0.002 - KL theta: 5.8 - Rec loss: 470.46 - NELBO: 476.26\n",
      "Epoch 36 - Learning Rate: 0.002 - KL theta: 5.92 - Rec loss: 464.63 - NELBO: 470.55\n",
      "Epoch 37 - Learning Rate: 0.002 - KL theta: 5.98 - Rec loss: 458.19 - NELBO: 464.17\n",
      "Epoch 38 - Learning Rate: 0.002 - KL theta: 6.09 - Rec loss: 463.1 - NELBO: 469.19\n",
      "Epoch 39 - Learning Rate: 0.002 - KL theta: 6.09 - Rec loss: 462.49 - NELBO: 468.58\n",
      "Epoch 40 - Learning Rate: 0.002 - KL theta: 6.22 - Rec loss: 454.85 - NELBO: 461.07\n",
      "Topics: [['host', 'university', 'nntp', 'posting', 'distribution', 'research', 'org', 'reply', 'center', 'mit'], ['uk', 'ac', 'university', 'org', 'posting', 'gov', 'reply', 'host', 'nntp', 'science'], ['opinions', 'disclaimer', 'dod', 'mine', 'nntp', 'employer', 'expressed', 'posting', 'writes', 'uunet'], ['writes', 'article', 'cs', 'posting', 'host', 'university', 'uiuc', 'nntp', 'news', 'cc'], ['problem', 'system', 'call', 'line', 'number', 'part', 'read', 'long', 'change', 'find'], ['government', 'gun', 'police', 'armed', 'turkish', 'fbi', 'mr', 'people', 'waco', 'citizens'], ['power', 'car', 'good', 'high', 'make', 'wheel', 'bike', 'engine', 'rear', 'low'], ['year', 'team', 'games', 'game', 'play', 'won', 'players', 'player', 'win', 'playoffs'], ['mail', 'apple', 'email', 'net', 'ibm', 'send', 'shipping', 'computer', 'info', 'mailing'], ['question', 'state', 'writes', 'wrote', 'world', 'remember', 'line', 'put', 'called', 'long'], ['ca', 'writes', 'university', 'article', 'posting', 'host', 'nntp', 'news', 'cs', 'david'], ['max', 'tu', 'ma', 'de', 'mi', 'sw', 'cb', 'mr', 'mb', 'md'], ['space', 'key', 'nasa', 'access', 'chip', 'clipper', 'encryption', 'escrow', 'system', 'keys'], ['world', 'computer', 'usa', 'opinions', 'mail', 'science', 'posting', 'question', 'university', 'message'], ['writes', 'article', 'netcom', 'cs', 'hp', 'andrew', 'sun', 'state', 'colorado', 'pitt'], ['time', 'good', 'people', 'make', 'lot', 'work', 'thing', 'back', 'case', 'find'], ['dos', 'windows', 'file', 'files', 'software', 'card', 'pc', 'system', 'format', 'directory'], ['health', 'study', 'medical', 'disease', 'care', 'number', 'treatment', 'page', 'april', 'volume'], ['writes', 'article', 'posting', 'host', 'nntp', 'university', 'distribution', 'cc', 'world', 'reply'], ['god', 'people', 'jesus', 'bible', 'christians', 'jews', 'israel', 'doctrine', 'christ', 'religious']]\n",
      "Epoch 41 - Learning Rate: 0.002 - KL theta: 6.26 - Rec loss: 458.64 - NELBO: 464.9\n",
      "Epoch 42 - Learning Rate: 0.002 - KL theta: 6.29 - Rec loss: 455.36 - NELBO: 461.65\n",
      "Epoch 43 - Learning Rate: 0.002 - KL theta: 6.47 - Rec loss: 467.15 - NELBO: 473.62\n",
      "Epoch 44 - Learning Rate: 0.002 - KL theta: 6.48 - Rec loss: 454.18 - NELBO: 460.66\n",
      "Epoch 45 - Learning Rate: 0.002 - KL theta: 6.51 - Rec loss: 460.43 - NELBO: 466.94\n",
      "Epoch 46 - Learning Rate: 0.002 - KL theta: 6.76 - Rec loss: 461.12 - NELBO: 467.88\n",
      "Epoch 47 - Learning Rate: 0.002 - KL theta: 6.78 - Rec loss: 459.19 - NELBO: 465.97\n",
      "Epoch 48 - Learning Rate: 0.002 - KL theta: 6.73 - Rec loss: 451.58 - NELBO: 458.31\n",
      "Epoch 49 - Learning Rate: 0.002 - KL theta: 6.76 - Rec loss: 448.38 - NELBO: 455.14\n",
      "Epoch 50 - Learning Rate: 0.002 - KL theta: 6.97 - Rec loss: 458.95 - NELBO: 465.92\n",
      "Topics: [['host', 'posting', 'nntp', 'university', 'distribution', 'reply', 'research', 'mit', 'org', 'center'], ['uk', 'ac', 'university', 'science', 'cwru', 'org', 'internet', 'reply', 'gov', 'cleveland'], ['opinions', 'disclaimer', 'dod', 'mine', 'employer', 'expressed', 'bike', 'ride', 'hey', 'writes'], ['writes', 'article', 'cs', 'news', 'university', 'cc', 'uiuc', 'cso', 'posting', 'host'], ['problem', 'system', 'line', 'number', 'part', 'read', 'call', 'current', 'change', 'set'], ['government', 'gun', 'police', 'law', 'armed', 'fbi', 'turkish', 'president', 'mr', 'waco'], ['power', 'car', 'high', 'good', 'wheel', 'rear', 'bike', 'engine', 'make', 'front'], ['year', 'game', 'team', 'games', 'play', 'players', 'won', 'win', 'player', 'playoffs'], ['mail', 'ibm', 'apple', 'info', 'net', 'email', 'send', 'shipping', 'sale', 'address'], ['point', 'question', 'made', 'case', 'put', 'wrote', 'remember', 'support', 'view', 'state'], ['ca', 'university', 'writes', 'article', 'nntp', 'host', 'david', 'posting', 'california', 'berkeley'], ['max', 'de', 'tu', 'ma', 'cb', 'mi', 'sw', 'att', 'mr', 'mb'], ['space', 'key', 'nasa', 'access', 'chip', 'clipper', 'encryption', 'escrow', 'system', 'data'], ['computer', 'world', 'usa', 'group', 'opinions', 'science', 'question', 'post', 'mail', 'posting'], ['state', 'cs', 'article', 'andrew', 'netcom', 'sun', 'writes', 'hp', 'colorado', 'john'], ['people', 'time', 'good', 'make', 'work', 'lot', 'back', 'thing', 'things', 'find'], ['dos', 'windows', 'software', 'file', 'files', 'card', 'data', 'program', 'system', 'pc'], ['health', 'medical', 'disease', 'study', 'men', 'care', 'treatment', 'man', 'page', 'risk'], ['writes', 'posting', 'article', 'nntp', 'host', 'distribution', 'world', 'university', 'reply', 'sgi'], ['god', 'people', 'jesus', 'israel', 'life', 'bible', 'christ', 'jews', 'christians', 'religious']]\n",
      "Epoch 51 - Learning Rate: 0.002 - KL theta: 6.91 - Rec loss: 448.96 - NELBO: 455.87\n",
      "Epoch 52 - Learning Rate: 0.002 - KL theta: 7.05 - Rec loss: 455.88 - NELBO: 462.93\n",
      "Epoch 53 - Learning Rate: 0.002 - KL theta: 7.13 - Rec loss: 458.08 - NELBO: 465.21\n",
      "Epoch 54 - Learning Rate: 0.002 - KL theta: 7.13 - Rec loss: 453.52 - NELBO: 460.65\n",
      "Epoch 55 - Learning Rate: 0.002 - KL theta: 7.27 - Rec loss: 455.03 - NELBO: 462.3\n",
      "Epoch 56 - Learning Rate: 0.002 - KL theta: 7.28 - Rec loss: 456.37 - NELBO: 463.65\n",
      "Epoch 57 - Learning Rate: 0.002 - KL theta: 7.39 - Rec loss: 449.95 - NELBO: 457.34\n",
      "Epoch 58 - Learning Rate: 0.002 - KL theta: 7.37 - Rec loss: 453.0 - NELBO: 460.37\n"
     ]
    },
    {
     "name": "stdout",
     "output_type": "stream",
     "text": [
      "Epoch 59 - Learning Rate: 0.002 - KL theta: 7.38 - Rec loss: 454.71 - NELBO: 462.09\n",
      "Epoch 60 - Learning Rate: 0.002 - KL theta: 7.44 - Rec loss: 453.65 - NELBO: 461.09\n",
      "Topics: [['host', 'posting', 'nntp', 'distribution', 'org', 'research', 'reply', 'mit', 'university', 'center'], ['uk', 'ac', 'university', 'cwru', 'internet', 'science', 'au', 'reply', 'gov', 'cleveland'], ['opinions', 'dod', 'disclaimer', 'mine', 'bike', 'employer', 'ride', 'hey', 'care', 'expressed'], ['writes', 'article', 'cs', 'university', 'news', 'cc', 'uiuc', 'cso', 'vms', 'columbia'], ['problem', 'system', 'line', 'number', 'part', 'set', 'read', 'code', 'find', 'current'], ['government', 'gun', 'law', 'president', 'mr', 'police', 'turkish', 'rights', 'armed', 'fbi'], ['power', 'car', 'high', 'wheel', 'good', 'rear', 'left', 'low', 'speed', 'engine'], ['year', 'game', 'team', 'games', 'play', 'win', 'players', 'won', 'player', 'playoffs'], ['mail', 'ibm', 'info', 'apple', 'net', 'list', 'price', 'email', 'send', 'sale'], ['point', 'question', 'made', 'claim', 'case', 'true', 'wrong', 'simply', 'statement', 'support'], ['ca', 'university', 'writes', 'article', 'david', 'washington', 'host', 'berkeley', 'california', 'nntp'], ['max', 'de', 'ma', 'tu', 'cb', 'att', 'sw', 'mi', 'mr', 'nj'], ['space', 'nasa', 'key', 'access', 'chip', 'clipper', 'encryption', 'escrow', 'system', 'data'], ['computer', 'usa', 'group', 'world', 'post', 'message', 'science', 'mail', 'question', 'posting'], ['state', 'netcom', 'article', 'cs', 'sun', 'andrew', 'hp', 'writes', 'john', 'colorado'], ['people', 'time', 'good', 'work', 'make', 'back', 'lot', 'thing', 'things', 'years'], ['dos', 'windows', 'software', 'file', 'files', 'card', 'program', 'data', 'scsi', 'drivers'], ['health', 'study', 'medical', 'disease', 'men', 'years', 'man', 'care', 'treatment', 'risk'], ['writes', 'article', 'posting', 'nntp', 'world', 'host', 'distribution', 'de', 'sgi', 'reply'], ['god', 'jesus', 'people', 'life', 'israel', 'jews', 'christ', 'human', 'religious', 'bible']]\n",
      "Epoch 61 - Learning Rate: 0.002 - KL theta: 7.48 - Rec loss: 454.74 - NELBO: 462.22\n",
      "Epoch 62 - Learning Rate: 0.002 - KL theta: 7.46 - Rec loss: 449.83 - NELBO: 457.29\n",
      "Epoch 63 - Learning Rate: 0.002 - KL theta: 7.5 - Rec loss: 451.56 - NELBO: 459.06\n",
      "Epoch 64 - Learning Rate: 0.002 - KL theta: 7.55 - Rec loss: 447.84 - NELBO: 455.39\n",
      "Epoch 65 - Learning Rate: 0.002 - KL theta: 7.62 - Rec loss: 450.66 - NELBO: 458.28\n",
      "Epoch 66 - Learning Rate: 0.002 - KL theta: 7.59 - Rec loss: 448.95 - NELBO: 456.54\n",
      "Epoch 67 - Learning Rate: 0.002 - KL theta: 7.75 - Rec loss: 452.76 - NELBO: 460.51\n",
      "Epoch 68 - Learning Rate: 0.002 - KL theta: 7.68 - Rec loss: 450.43 - NELBO: 458.11\n",
      "Epoch 69 - Learning Rate: 0.002 - KL theta: 7.72 - Rec loss: 451.71 - NELBO: 459.43\n",
      "Epoch 70 - Learning Rate: 0.002 - KL theta: 7.74 - Rec loss: 452.08 - NELBO: 459.82\n",
      "Topics: [['host', 'posting', 'nntp', 'org', 'research', 'reply', 'distribution', 'center', 'apr', 'mit'], ['uk', 'ac', 'university', 'cwru', 'internet', 'au', 'science', 'western', 'reply', 'gov'], ['opinions', 'dod', 'bike', 'disclaimer', 'mine', 'ride', 'hey', 'care', 'employer', 'fun'], ['writes', 'cs', 'article', 'university', 'news', 'cc', 'uiuc', 'cso', 'columbia', 'rochester'], ['problem', 'system', 'line', 'set', 'number', 'part', 'find', 'code', 'read', 'include'], ['government', 'gun', 'law', 'police', 'president', 'rights', 'armed', 'mr', 'fbi', 'people'], ['power', 'car', 'high', 'wheel', 'left', 'low', 'rear', 'switch', 'speed', 'side'], ['year', 'game', 'team', 'games', 'play', 'win', 'players', 'won', 'player', 'baseball'], ['mail', 'info', 'ibm', 'list', 'apple', 'price', 'net', 'send', 'mac', 'email'], ['point', 'question', 'claim', 'made', 'true', 'case', 'agree', 'simply', 'evidence', 'makes'], ['ca', 'university', 'writes', 'article', 'david', 'washington', 'canada', 'berkeley', 'host', 'california'], ['max', 'ma', 'de', 'att', 'cb', 'tu', 'sw', 'mi', 'mr', 'nj'], ['space', 'nasa', 'key', 'access', 'chip', 'clipper', 'encryption', 'system', 'information', 'data'], ['computer', 'usa', 'group', 'post', 'message', 'distribution', 'science', 'mail', 'world', 'posting'], ['state', 'article', 'netcom', 'sun', 'andrew', 'writes', 'john', 'cs', 'hp', 'cmu'], ['people', 'time', 'good', 'work', 'back', 'make', 'lot', 'thing', 'things', 'long'], ['windows', 'dos', 'software', 'file', 'files', 'card', 'program', 'data', 'version', 'scsi'], ['health', 'study', 'medical', 'men', 'years', 'disease', 'man', 'treatment', 'care', 'risk'], ['writes', 'article', 'world', 'nntp', 'posting', 'distribution', 'host', 'de', 'sgi', 'reply'], ['god', 'jesus', 'people', 'life', 'israel', 'jews', 'christ', 'human', 'religion', 'christian']]\n",
      "Epoch 71 - Learning Rate: 0.002 - KL theta: 7.68 - Rec loss: 448.54 - NELBO: 456.22\n",
      "Epoch 72 - Learning Rate: 0.002 - KL theta: 7.82 - Rec loss: 455.64 - NELBO: 463.46\n",
      "Epoch 73 - Learning Rate: 0.002 - KL theta: 7.8 - Rec loss: 450.92 - NELBO: 458.72\n",
      "Epoch 74 - Learning Rate: 0.002 - KL theta: 7.84 - Rec loss: 451.11 - NELBO: 458.95\n",
      "Epoch 75 - Learning Rate: 0.002 - KL theta: 7.88 - Rec loss: 451.66 - NELBO: 459.54\n",
      "Epoch 76 - Learning Rate: 0.002 - KL theta: 7.87 - Rec loss: 450.99 - NELBO: 458.86\n",
      "Epoch 77 - Learning Rate: 0.002 - KL theta: 7.91 - Rec loss: 452.96 - NELBO: 460.87\n",
      "Epoch 78 - Learning Rate: 0.002 - KL theta: 7.9 - Rec loss: 449.65 - NELBO: 457.55\n",
      "Epoch 79 - Learning Rate: 0.002 - KL theta: 7.93 - Rec loss: 447.47 - NELBO: 455.4\n",
      "Epoch 80 - Learning Rate: 0.002 - KL theta: 7.94 - Rec loss: 450.75 - NELBO: 458.69\n",
      "Topics: [['posting', 'host', 'nntp', 'org', 'reply', 'research', 'center', 'apr', 'distribution', 'mit'], ['uk', 'ac', 'university', 'cwru', 'internet', 'au', 'reply', 'western', 'cleveland', 'science'], ['opinions', 'bike', 'dod', 'mine', 'disclaimer', 'ride', 'care', 'hey', 'advice', 'riding'], ['writes', 'cs', 'article', 'university', 'news', 'cc', 'uiuc', 'cso', 'columbia', 'rochester'], ['system', 'problem', 'line', 'set', 'find', 'number', 'part', 'code', 'read', 'include'], ['government', 'gun', 'law', 'president', 'police', 'mr', 'people', 'rights', 'turkish', 'waco'], ['power', 'car', 'high', 'left', 'low', 'wheel', 'switch', 'speed', 'rear', 'side'], ['year', 'game', 'team', 'play', 'games', 'players', 'win', 'won', 'baseball', 'player'], ['mail', 'information', 'list', 'info', 'ibm', 'price', 'apple', 'send', 'net', 'mac'], ['point', 'question', 'claim', 'made', 'true', 'fact', 'case', 'make', 'general', 'agree'], ['ca', 'university', 'writes', 'article', 'david', 'washington', 'canada', 'berkeley', 'host', 'california'], ['max', 'ma', 'att', 'sw', 'cb', 'mr', 'nj', 'de', 'mi', 'tu'], ['space', 'nasa', 'key', 'access', 'chip', 'clipper', 'encryption', 'keys', 'escrow', 'system'], ['computer', 'usa', 'group', 'distribution', 'message', 'post', 'systems', 'mail', 'science', 'phone'], ['state', 'article', 'netcom', 'sun', 'writes', 'andrew', 'john', 'hp', 'cmu', 'colorado'], ['time', 'people', 'good', 'work', 'back', 'make', 'lot', 'things', 'thing', 'problem'], ['windows', 'dos', 'software', 'file', 'card', 'files', 'scsi', 'version', 'program', 'data'], ['health', 'study', 'years', 'men', 'medical', 'disease', 'man', 'day', 'book', 'treatment'], ['writes', 'article', 'world', 'de', 'distribution', 'nntp', 'posting', 'host', 'sgi', 'frank'], ['god', 'people', 'jesus', 'life', 'israel', 'jews', 'christ', 'religion', 'human', 'jewish']]\n",
      "Epoch 81 - Learning Rate: 0.002 - KL theta: 7.89 - Rec loss: 449.62 - NELBO: 457.51\n",
      "Epoch 82 - Learning Rate: 0.002 - KL theta: 7.98 - Rec loss: 447.64 - NELBO: 455.62\n",
      "Epoch 83 - Learning Rate: 0.002 - KL theta: 7.93 - Rec loss: 451.58 - NELBO: 459.51\n",
      "Epoch 84 - Learning Rate: 0.002 - KL theta: 7.98 - Rec loss: 453.15 - NELBO: 461.13\n",
      "Epoch 85 - Learning Rate: 0.002 - KL theta: 7.99 - Rec loss: 447.55 - NELBO: 455.54\n",
      "Epoch 86 - Learning Rate: 0.002 - KL theta: 8.03 - Rec loss: 447.14 - NELBO: 455.17\n",
      "Epoch 87 - Learning Rate: 0.002 - KL theta: 8.03 - Rec loss: 450.48 - NELBO: 458.51\n",
      "Epoch 88 - Learning Rate: 0.002 - KL theta: 8.07 - Rec loss: 449.65 - NELBO: 457.72\n",
      "Epoch 89 - Learning Rate: 0.002 - KL theta: 8.13 - Rec loss: 455.56 - NELBO: 463.69\n"
     ]
    },
    {
     "name": "stdout",
     "output_type": "stream",
     "text": [
      "Epoch 90 - Learning Rate: 0.002 - KL theta: 8.05 - Rec loss: 448.65 - NELBO: 456.7\n",
      "Topics: [['posting', 'host', 'nntp', 'org', 'research', 'reply', 'apr', 'center', 'distribution', 'university'], ['uk', 'ac', 'university', 'cwru', 'internet', 'au', 'reply', 'case', 'western', 'posting'], ['opinions', 'bike', 'dod', 'mine', 'disclaimer', 'care', 'ride', 'advice', 'hey', 'buying'], ['writes', 'cs', 'article', 'university', 'cc', 'news', 'uiuc', 'cso', 'virginia', 'columbia'], ['system', 'line', 'find', 'problem', 'set', 'number', 'code', 'part', 'window', 'run'], ['government', 'law', 'gun', 'president', 'mr', 'police', 'people', 'rights', 'waco', 'armed'], ['power', 'car', 'high', 'left', 'low', 'wheel', 'switch', 'drive', 'speed', 'side'], ['year', 'game', 'team', 'play', 'games', 'win', 'players', 'baseball', 'won', 'player'], ['information', 'mail', 'list', 'info', 'price', 'send', 'ibm', 'apple', 'net', 'sale'], ['point', 'question', 'fact', 'claim', 'made', 'true', 'make', 'general', 'case', 'makes'], ['ca', 'university', 'article', 'writes', 'washington', 'canada', 'david', 'berkeley', 'california', 'host'], ['max', 'ma', 'att', 'sw', 'cb', 'nj', 'mr', 'mi', 'mb', 'tm'], ['space', 'key', 'nasa', 'access', 'chip', 'clipper', 'encryption', 'system', 'keys', 'data'], ['computer', 'usa', 'group', 'message', 'mail', 'systems', 'distribution', 'post', 'phone', 'science'], ['state', 'article', 'netcom', 'writes', 'sun', 'andrew', 'john', 'hp', 'david', 'cmu'], ['time', 'people', 'good', 'work', 'back', 'make', 'problem', 'things', 'thing', 'lot'], ['windows', 'dos', 'software', 'file', 'card', 'files', 'scsi', 'version', 'data', 'program'], ['health', 'years', 'study', 'men', 'medical', 'day', 'book', 'disease', 'treatment', 'man'], ['writes', 'article', 'world', 'de', 'distribution', 'nntp', 'posting', 'host', 'robert', 'sgi'], ['god', 'people', 'jesus', 'life', 'israel', 'jews', 'religion', 'christ', 'jewish', 'human']]\n",
      "Epoch 91 - Learning Rate: 0.002 - KL theta: 8.05 - Rec loss: 449.23 - NELBO: 457.28\n",
      "Epoch 92 - Learning Rate: 0.002 - KL theta: 8.07 - Rec loss: 449.35 - NELBO: 457.42\n",
      "Epoch 93 - Learning Rate: 0.002 - KL theta: 8.1 - Rec loss: 445.74 - NELBO: 453.84\n",
      "Epoch 94 - Learning Rate: 0.002 - KL theta: 8.1 - Rec loss: 445.98 - NELBO: 454.08\n",
      "Epoch 95 - Learning Rate: 0.002 - KL theta: 8.07 - Rec loss: 454.53 - NELBO: 462.6\n",
      "Epoch 96 - Learning Rate: 0.002 - KL theta: 8.07 - Rec loss: 446.66 - NELBO: 454.73\n",
      "Epoch 97 - Learning Rate: 0.002 - KL theta: 8.18 - Rec loss: 449.56 - NELBO: 457.74\n",
      "Epoch 98 - Learning Rate: 0.002 - KL theta: 8.16 - Rec loss: 447.98 - NELBO: 456.14\n",
      "Epoch 99 - Learning Rate: 0.002 - KL theta: 8.1 - Rec loss: 450.34 - NELBO: 458.44\n",
      "topic: 1 posting host nntp org research reply apr distribution center mit university michael newsreader gmt tin institute keywords harvard writes article\n",
      "topic: 2 uk ac university cwru au reply case posting internet western cleveland host nntp institute gov science australia technology usa fax\n",
      "topic: 3 opinions bike mine dod care disclaimer buy ride buying advice hey pay bmw kind fun money engine opinion riding cheap\n",
      "topic: 4 writes cs article university cc news uiuc cso columbia virginia utexas rochester vms urbana dept illinois vax umd buffalo uxa\n",
      "topic: 5 line system find problem set window run code number include part call based make source read order function shell current\n",
      "topic: 6 government gun law president mr people police rights waco fbi killed press armed turkish soldiers national citizens house turks weapons\n",
      "topic: 7 power car high left low drive speed switch wheel side light rear black front ground white cable road supply cars\n",
      "topic: 8 game year team play games win players baseball won player season division teams league period round playoffs nhl played series\n",
      "topic: 9 information mail list price info ibm send apple sale net mac address email interested shipping copy cd board mailing se\n",
      "topic: 10 point question fact claim true make made general makes case evidence wrong agree reason simply words discussion clear show statement\n",
      "topic: 11 ca university article writes washington canada berkeley california san host posting david stanford indiana history john angeles ucs nntp distribution\n",
      "topic: 12 max ma att sw cb nj mr mi tm mb md ah wa tu stratus de ch ab ms isc\n",
      "topic: 13 space nasa key access chip clipper gov encryption keys system data escrow algorithm mission shuttle digex public technology secure chips\n",
      "topic: 14 computer usa group systems mail message distribution post phone read science news posted network questions fax newsgroup university engineering internet\n",
      "topic: 15 state article writes netcom sun andrew david john hp cmu colorado ohio mark steve paul pitt acs brian green ed\n",
      "topic: 16 time people good work back problem things make long thing lot bad years find hard problems give put great big\n",
      "topic: 17 windows dos software file card files scsi data version drive pc program bit graphics color disk drivers unix system mode\n",
      "topic: 18 years health study men day medical book disease treatment man times risk appears age april number care women sexual dr\n",
      "topic: 19 writes article world de distribution nntp posting robert host jim sgi caltech frank keith wrote morality germany reply jon kent\n",
      "topic: 20 god people jesus life israel jews christ religion bible christian jewish human christians church lord christianity religious man sin faith\n",
      "0.17512607502108554\n",
      "0.85\n"
     ]
    }
   ],
   "source": [
    "from embedded_topic_model.models.etm import ETM\n",
    "\n",
    "# Training an ETM instance\n",
    "etm_instance = ETM(\n",
    "    vocabulary,\n",
    "    embeddings=embedding_save_path, # You can pass here the path to a word2vec file or\n",
    "                                   # a KeyedVectors instance\n",
    "    use_c_format_w2vec=True,\n",
    "    num_topics=20,\n",
    "    epochs=100,\n",
    "    debug_mode=True,\n",
    "    lr = 0.002,\n",
    "    train_embeddings=False, # Optional. If True, ETM will learn word embeddings jointly with\n",
    "                            # topic embeddings. By default, is False. If 'embeddings' argument\n",
    "                            # is being passed, this argument must not be True\n",
    "    seed=42,\n",
    ")\n",
    "\n",
    "etm_instance.fit(train_dataset)\n",
    "topics = etm_instance.get_topics(20)\n",
    "topic_coherence = etm_instance.get_topic_coherence()\n",
    "topic_diversity = etm_instance.get_topic_diversity()\n",
    "for idx, tp in enumerate(topics):\n",
    "    as_str = \" \".join(tp)\n",
    "    print(f'topic: {idx+1} {as_str}')\n",
    "print(topic_coherence)\n",
    "print(topic_diversity)"
   ]
  },
  {
   "cell_type": "code",
   "execution_count": 35,
   "metadata": {},
   "outputs": [
    {
     "name": "stdout",
     "output_type": "stream",
     "text": [
      "topic: 1 posting host nntp org research reply apr distribution center mit university michael newsreader gmt tin institute keywords harvard writes article\n",
      "topic: 2 uk ac university cwru au reply case posting internet western cleveland host nntp institute gov science australia technology usa fax\n",
      "topic: 3 opinions bike mine dod care disclaimer buy ride buying advice hey pay bmw kind fun money engine opinion riding cheap\n",
      "topic: 4 writes cs article university cc news uiuc cso columbia virginia utexas rochester vms urbana dept illinois vax umd buffalo uxa\n",
      "topic: 5 line system find problem set window run code number include part call based make source read order function shell current\n",
      "topic: 6 government gun law president mr people police rights waco fbi killed press armed turkish soldiers national citizens house turks weapons\n",
      "topic: 7 power car high left low drive speed switch wheel side light rear black front ground white cable road supply cars\n",
      "topic: 8 game year team play games win players baseball won player season division teams league period round playoffs nhl played series\n",
      "topic: 9 information mail list price info ibm send apple sale net mac address email interested shipping copy cd board mailing se\n",
      "topic: 10 point question fact claim true make made general makes case evidence wrong agree reason simply words discussion clear show statement\n",
      "topic: 11 ca university article writes washington canada berkeley california san host posting david stanford indiana history john angeles ucs nntp distribution\n",
      "topic: 12 max ma att sw cb nj mr mi tm mb md ah wa tu stratus de ch ab ms isc\n",
      "topic: 13 space nasa key access chip clipper gov encryption keys system data escrow algorithm mission shuttle digex public technology secure chips\n",
      "topic: 14 computer usa group systems mail message distribution post phone read science news posted network questions fax newsgroup university engineering internet\n",
      "topic: 15 state article writes netcom sun andrew david john hp cmu colorado ohio mark steve paul pitt acs brian green ed\n",
      "topic: 16 time people good work back problem things make long thing lot bad years find hard problems give put great big\n",
      "topic: 17 windows dos software file card files scsi data version drive pc program bit graphics color disk drivers unix system mode\n",
      "topic: 18 years health study men day medical book disease treatment man times risk appears age april number care women sexual dr\n",
      "topic: 19 writes article world de distribution nntp posting robert host jim sgi caltech frank keith wrote morality germany reply jon kent\n",
      "topic: 20 god people jesus life israel jews christ religion bible christian jewish human christians church lord christianity religious man sin faith\n"
     ]
    }
   ],
   "source": [
    "for idx, tp in enumerate(topics):\n",
    "    as_str = \" \".join(tp[:25])\n",
    "    print(f'topic: {idx+1} {as_str}')"
   ]
  },
  {
   "cell_type": "code",
   "execution_count": 36,
   "metadata": {},
   "outputs": [
    {
     "name": "stdout",
     "output_type": "stream",
     "text": [
      "[  63  187  194  254  371  398  450  488  507  536  643  647  671  778\n",
      "  872 1047 1074 1092 1106 1166 1234 1266 1357 1388 1398 1414 1462 1501\n",
      " 1530 1571 1671 1732]\n",
      "[1 1 2 1 1 1 1 1 1 1 1 1 2 1 1 1 1 1 1 1 1 1 1 1 1 2 1 3 1 1 1 1]\n"
     ]
    }
   ],
   "source": [
    "print(train_dataset['tokens'][0])\n",
    "print(train_dataset['counts'][0])"
   ]
  },
  {
   "cell_type": "markdown",
   "metadata": {},
   "source": [
    "# Mein train_set als Eingabedaten"
   ]
  },
  {
   "cell_type": "code",
   "execution_count": 49,
   "metadata": {},
   "outputs": [
    {
     "data": {
      "text/plain": [
       "'guykuo carson washington guy kuo subject si clock poll final call summary final call si clock reports keywords si acceleration clock upgrade article shelley organization university washington lines nntp posting host carson washington fair number brave souls upgraded si clock oscillator shared experiences poll send message detailing experiences procedure top speed attained cpu rated speed add cards adapters heat sinks hour usage day floppy disk functionality floppies requested summarizing days add network knowledge base clock upgrade answered poll guy kuo guykuo washington'"
      ]
     },
     "execution_count": 49,
     "metadata": {},
     "output_type": "execute_result"
    }
   ],
   "source": [
    "documents[0]"
   ]
  },
  {
   "cell_type": "code",
   "execution_count": 52,
   "metadata": {},
   "outputs": [
    {
     "data": {
      "text/plain": [
       "'jackson defense nntp posting host university illinois article king writes article midway uchicago uchicago ted frank writes article harvard harvard david smith writes granted simple fact holding job improve chances job future city kid hold minimum job money made dealing drugs kid hold minimum job money made dealing drugs kids hold minimum jobs city kids give chance reason city kids legitimate work suppose correct answer family values mind assuming city family values hope'"
      ]
     },
     "execution_count": 52,
     "metadata": {},
     "output_type": "execute_result"
    }
   ],
   "source": [
    "\" \".join(docs_tr[0])"
   ]
  },
  {
   "cell_type": "code",
   "execution_count": 53,
   "metadata": {},
   "outputs": [
    {
     "name": "stdout",
     "output_type": "stream",
     "text": [
      "[ 147  151  166  261  271  420  565  582  587  627  662  754  820  823\n",
      "  856  921  978 1051 1085 1192 1198 1202 1255 1336 1377 1457 1480 1680\n",
      " 1694 1807 1845 1871 1929 2043 2124 2240 2246 2437 2498 2624 2633 2701\n",
      " 2710 2816 2937 2940 3020 3046]\n",
      "[2 1 1 1 2 1 1 1 1 3 1 1 3 1 1 1 2 1 2 4 1 2 1 3 1 1 1 1 3 1 1 1 1 1 1 2 1\n",
      " 4 1 1 2 1 3 2 1 1 2 1]\n",
      "['answer', 'article', 'assuming', 'chance', 'chances', 'city', 'correct', 'david', 'dealing', 'defense', 'drugs', 'fact', 'family', 'frank', 'future', 'give', 'granted', 'harvard', 'hold', 'holding', 'hope', 'host', 'illinois', 'improve', 'jackson', 'job', 'jobs', 'kid', 'kids', 'king', 'legitimate', 'made', 'midway', 'mind', 'minimum', 'money', 'nntp', 'posting', 'reason', 'simple', 'smith', 'suppose', 'ted', 'uchicago', 'university', 'values', 'work', 'writes']\n"
     ]
    }
   ],
   "source": [
    "print(train_set['tokens'][0])\n",
    "print(train_set['counts'][0])\n",
    "id2word = {}\n",
    "for w, wid in word2id.items():\n",
    "    id2word[wid] = w\n",
    "\n",
    "doc = [id2word[wid] for wid in train_set['tokens'][0]]\n",
    "print(sorted(doc))"
   ]
  },
  {
   "cell_type": "code",
   "execution_count": 56,
   "metadata": {},
   "outputs": [
    {
     "name": "stdout",
     "output_type": "stream",
     "text": [
      "300\n",
      "['aaron', 'ab', 'ability', 'absolute', 'absolutely', 'absurd', 'abuse', 'ac', 'academic', 'acc']\n"
     ]
    }
   ],
   "source": [
    "vocab_embedding, embedding_data = read_prefitted_embedding(model_name, my_vocab, save_path)\n",
    "print(len(embedding_data[1]))\n",
    "print(vocab_embedding[:10])\n",
    "# cover to format that gensim KeyedVectors can read\n",
    "data = pd.DataFrame(embedding_data,\n",
    "                    index=vocab_embedding)\n",
    "embedding_save_path = f'prepared_data/min_df_{min_df}/{model_name}_prefitted_embeddings_my_data_control_mode.txt'\n",
    "np.savetxt(embedding_save_path, data.reset_index().values, \n",
    "           delimiter=\" \", \n",
    "           header=\"{} {}\".format(len(data), len(data.columns)),\n",
    "           comments=\"\",\n",
    "           fmt=[\"%s\"] + [\"%.18e\"]*len(data.columns))\n",
    "word_vectors = KeyedVectors.load_word2vec_format(embedding_save_path, binary=False)"
   ]
  },
  {
   "cell_type": "code",
   "execution_count": 64,
   "metadata": {},
   "outputs": [
    {
     "name": "stdout",
     "output_type": "stream",
     "text": [
      "accuracy\n"
     ]
    },
    {
     "data": {
      "text/plain": [
       "[('ensure', 0.786088228225708),\n",
       " ('errors', 0.703749418258667),\n",
       " ('analysis', 0.6551498174667358),\n",
       " ('algorithms', 0.6537426710128784),\n",
       " ('providing', 0.63914954662323),\n",
       " ('techniques', 0.6342453956604004),\n",
       " ('observations', 0.6257032155990601),\n",
       " ('detailed', 0.6231043338775635),\n",
       " ('approach', 0.6161506175994873),\n",
       " ('concerns', 0.6156328916549683)]"
      ]
     },
     "execution_count": 64,
     "metadata": {},
     "output_type": "execute_result"
    }
   ],
   "source": [
    "w = vocab_embedding[20]\n",
    "print(w)\n",
    "word_vectors.most_similar(w, topn=10)"
   ]
  },
  {
   "cell_type": "code",
   "execution_count": 65,
   "metadata": {},
   "outputs": [
    {
     "name": "stdout",
     "output_type": "stream",
     "text": [
      "Reading embeddings from original word2vec TXT file...\n",
      "Topics before training: [['mit', 'laboratory', 'org', 'research', 'stanford', 'columbia', 'de', 'distribution', 'reply', 'gmt'], ['bike', 'keywords', 'posting', 'car', 'rider', 'cover', 'nntp', 'advice', 'engine', 'misc'], ['israeli', 'policy', 'id', 'columbia', 'org', 'israel', 'virginia', 'united', 'bnr', 'cc'], ['rec', 'dod', 'research', 'mil', 'news', 'group', 'newsreader', 'sci', 'corp', 'gmt'], ['fax', 'phone', 'number', 'voice', 'tel', 'box', 'call', 'sweden', 'germany', 'serial'], ['ground', 'support', 'wire', 'radio', 'technology', 'applications', 'georgia', 'phone', 'international', 'fax'], ['political', 'policy', 'view', 'genocide', 'war', 'jewish', 'good', 'morality', 'armenia', 'atheists'], ['uiuc', 'cso', 'hitter', 'win', 'ball', 'deleted', 'clock', 'played', 'dare', 'mon'], ['ac', 'office', 'ms', 'windows', 'access', 'mine', 'de', 'newsreader', 'uunet', 'uk'], ['fire', 'atf', 'frank', 'waco', 'texas', 'koresh', 'burns', 'fbi', 'uk', 'guy'], ['disclaimer', 'ca', 'ibm', 'shipping', 'bike', 'companies', 'nec', 'power', 'bnr', 'code'], ['max', 'stratus', 'encrypted', 'serial', 'ohio', 'mhz', 'printer', 'amiga', 'encryption', 'sw'], ['argic', 'serdar', 'computer', 'sera', 'zuma', 'church', 'tu', 'mountain', 'muslim', 'microsoft'], ['access', 'public', 'message', 'distribution', 'key', 'news', 'communications', 'online', 'st', 'pat'], ['cc', 'columbia', 'systems', 'genocide', 'gary', 'ohanus', 'appressian', 'extermination', 'turkish', 'adobe'], ['disclaimer', 'opinions', 'posting', 'atheists', 'views', 'god', 'necessarily', 'beliefs', 'software', 'employer'], ['devices', 'panel', 'designed', 'equipment', 'device', 'based', 'built', 'tools', 'sun', 'controlled'], ['mr', 'christian', 'punishment', 'human', 'questions', 'islam', 'united', 'moral', 'acceptable', 'opinions'], ['programs', 'car', 'files', 'michael', 'purdue', 'cc', 'bought', 'high', 'manual', 'mit'], ['jesus', 'jews', 'bible', 'comp', 'computer', 'islam', 'israel', 'jew', 'god', 'religion']]\n",
      "Epoch 1 - Learning Rate: 0.002 - KL theta: 0.0 - Rec loss: 639.7 - NELBO: 639.7\n",
      "Epoch 2 - Learning Rate: 0.002 - KL theta: 0.0 - Rec loss: 634.89 - NELBO: 634.89\n",
      "Epoch 3 - Learning Rate: 0.002 - KL theta: 0.0 - Rec loss: 635.55 - NELBO: 635.55\n",
      "Epoch 4 - Learning Rate: 0.002 - KL theta: 0.01 - Rec loss: 647.11 - NELBO: 647.12\n",
      "Epoch 5 - Learning Rate: 0.002 - KL theta: 0.04 - Rec loss: 640.4 - NELBO: 640.44\n",
      "Epoch 6 - Learning Rate: 0.002 - KL theta: 0.08 - Rec loss: 638.33 - NELBO: 638.41\n",
      "Epoch 7 - Learning Rate: 0.002 - KL theta: 0.15 - Rec loss: 642.07 - NELBO: 642.22\n",
      "Epoch 8 - Learning Rate: 0.002 - KL theta: 0.2 - Rec loss: 638.32 - NELBO: 638.52\n",
      "Epoch 9 - Learning Rate: 0.002 - KL theta: 0.28 - Rec loss: 632.99 - NELBO: 633.27\n",
      "Epoch 10 - Learning Rate: 0.002 - KL theta: 0.38 - Rec loss: 638.0 - NELBO: 638.38\n",
      "Topics: [['cornell', 'cs', 'univ', 'math', 'cis', 'pitt', 'dept', 'gordon', 'uwo', 'info'], ['cs', 'cornell', 'ca', 'info', 'cmu', 'stanford', 'bnr', 'si', 'indiana', 'berkeley'], ['gov', 'nasa', 'uk', 'god', 'objective', 'exists', 'punishment', 'armenia', 'soul', 'jesus'], ['nasa', 'gov', 'jpl', 'info', 'advice', 'data', 'center', 'ames', 'unc', 'bmw'], ['exists', 'god', 'assume', 'exist', 'moral', 'false', 'salvation', 'faith', 'define', 'trust'], ['turks', 'building', 'villages', 'military', 'troops', 'civilians', 'soviet', 'ground', 'armenian', 'hundreds'], ['livesey', 'solntze', 'wpd', 'genocide', 'turks', 'escape', 'argic', 'serdar', 'sgi', 'zuma'], ['cornell', 'cs', 'ca', 'info', 'math', 'stanford', 'cis', 'indiana', 'wisc', 'si'], ['nasa', 'gov', 'shuttle', 'jpl', 'billion', 'office', 'president', 'ames', 'jobs', 'congress'], ['nasa', 'gov', 'uk', 'cs', 'au', 'bnr', 'indiana', 'colorado', 'org', 'center'], ['nasa', 'gov', 'jpl', 'turks', 'shuttle', 'escape', 'billion', 'troops', 'russian', 'united'], ['nasa', 'gov', 'billion', 'shuttle', 'jpl', 'agencies', 'congress', 'costs', 'tax', 'year'], ['turks', 'genocide', 'villages', 'livesey', 'extermination', 'escape', 'armenians', 'serdar', 'argic', 'turkish'], ['nasa', 'gov', 'uk', 'job', 'law', 'building', 'ac', 'turks', 'armenia', 'united'], ['administration', 'dollars', 'jobs', 'billion', 'president', 'economy', 'foreign', 'tax', 'attorney', 'nasa'], ['nasa', 'gov', 'widget', 'motif', 'window', 'escape', 'god', 'command', 'jesus', 'moral'], ['building', 'uk', 'gov', 'nasa', 'job', 'hp', 'gas', 'motif', 'window', 'package'], ['nasa', 'turks', 'troops', 'villages', 'building', 'military', 'civilians', 'jobs', 'hundreds', 'enforcement'], ['nasa', 'jobs', 'job', 'dollars', 'congress', 'building', 'year', 'billion', 'tax', 'moon'], ['uk', 'ca', 'bnr', 'ac', 'cmu', 'gov', 'cs', 'sun', 'indiana', 'hp']]\n",
      "Epoch 11 - Learning Rate: 0.002 - KL theta: 0.41 - Rec loss: 641.42 - NELBO: 641.83\n",
      "Epoch 12 - Learning Rate: 0.002 - KL theta: 0.55 - Rec loss: 634.37 - NELBO: 634.92\n",
      "Epoch 13 - Learning Rate: 0.002 - KL theta: 0.65 - Rec loss: 634.77 - NELBO: 635.42\n",
      "Epoch 14 - Learning Rate: 0.002 - KL theta: 0.7 - Rec loss: 639.9 - NELBO: 640.6\n",
      "Epoch 15 - Learning Rate: 0.002 - KL theta: 0.79 - Rec loss: 634.69 - NELBO: 635.48\n",
      "Epoch 16 - Learning Rate: 0.002 - KL theta: 0.86 - Rec loss: 634.73 - NELBO: 635.59\n",
      "Epoch 17 - Learning Rate: 0.002 - KL theta: 0.94 - Rec loss: 637.66 - NELBO: 638.6\n",
      "Epoch 18 - Learning Rate: 0.002 - KL theta: 0.95 - Rec loss: 636.98 - NELBO: 637.93\n",
      "Epoch 19 - Learning Rate: 0.002 - KL theta: 1.09 - Rec loss: 630.35 - NELBO: 631.44\n",
      "Epoch 20 - Learning Rate: 0.002 - KL theta: 1.18 - Rec loss: 633.84 - NELBO: 635.02\n",
      "Topics: [['cornell', 'info', 'uwaterloo', 'math', 'ca', 'uwo', 'wayne', 'univ', 'leland', 'gordon'], ['ford', 'bmw', 'sf', 'posting', 'washington', 'ca', 'fi', 'berkeley', 'advice', 'summary'], ['uk', 'max', 'armenia', 'ac', 'punishment', 'ground', 'org', 'turkish', 'cambridge', 'kingdom'], ['advice', 'apple', 'format', 'info', 'read', 'nasa', 'faq', 'sci', 'bmw', 'data'], ['assume', 'serial', 'exists', 'trust', 'exist', 'god', 'false', 'keys', 'ability', 'define'], ['building', 'ground', 'fire', 'gas', 'compound', 'villages', 'forces', 'destroyed', 'job', 'widget'], ['livesey', 'solntze', 'wpd', 'keith', 'mountain', 'cwru', 'argic', 'ins', 'caltech', 'sgi'], ['apple', 'sf', 'ca', 'advice', 'se', 'bmw', 'fi', 'summary', 'gif', 'riding'], ['nasa', 'job', 'gov', 'jobs', 'vote', 'office', 'home', 'good', 'give', 'users'], ['solntze', 'mitre', 'livesey', 'east', 'org', 'wpd', 'posting', 'caltech', 'va', 'austin'], ['nasa', 'jewish', 'gov', 'greek', 'killed', 'villages', 'genocide', 'turkish', 'escape', 'soldiers'], ['nasa', 'gov', 'card', 'files', 'package', 'cd', 'order', 'week', 'service', 'minutes'], ['villages', 'innocent', 'troops', 'killing', 'roads', 'soldiers', 'armenian', 'turks', 'genocide', 'turkish'], ['uk', 'ac', 'nz', 'sun', 'ed', 'demon', 'nc', 'unix', 'access', 'east'], ['dollars', 'administration', 'billion', 'foreign', 'million', 'spending', 'costs', 'industry', 'cost', 'president'], ['widget', 'motif', 'window', 'shell', 'usr', 'command', 'keith', 'environment', 'moral', 'views'], ['gas', 'water', 'building', 'engineering', 'ground', 'temperature', 'library', 'electrical', 'fire', 'processing'], ['villages', 'building', 'fire', 'troops', 'armenian', 'ground', 'killing', 'forces', 'armenians', 'turks'], ['gas', 'job', 'building', 'water', 'morning', 'programs', 'fire', 'jobs', 'compound', 'minutes'], ['format', 'gif', 'formats', 'fi', 'entry', 'pixel', 'files', 'output', 'finland', 'sf']]\n",
      "Epoch 21 - Learning Rate: 0.002 - KL theta: 1.27 - Rec loss: 628.17 - NELBO: 629.44\n",
      "Epoch 22 - Learning Rate: 0.002 - KL theta: 1.4 - Rec loss: 628.1 - NELBO: 629.5\n",
      "Epoch 23 - Learning Rate: 0.002 - KL theta: 1.49 - Rec loss: 634.82 - NELBO: 636.31\n",
      "Epoch 24 - Learning Rate: 0.002 - KL theta: 1.57 - Rec loss: 629.17 - NELBO: 630.74\n",
      "Epoch 25 - Learning Rate: 0.002 - KL theta: 1.67 - Rec loss: 629.0 - NELBO: 630.67\n",
      "Epoch 26 - Learning Rate: 0.002 - KL theta: 1.8 - Rec loss: 623.48 - NELBO: 625.28\n",
      "Epoch 27 - Learning Rate: 0.002 - KL theta: 1.89 - Rec loss: 623.77 - NELBO: 625.66\n",
      "Epoch 28 - Learning Rate: 0.002 - KL theta: 1.99 - Rec loss: 626.03 - NELBO: 628.02\n"
     ]
    },
    {
     "name": "stdout",
     "output_type": "stream",
     "text": [
      "Epoch 29 - Learning Rate: 0.002 - KL theta: 2.1 - Rec loss: 629.33 - NELBO: 631.43\n",
      "Epoch 30 - Learning Rate: 0.002 - KL theta: 2.22 - Rec loss: 635.99 - NELBO: 638.21\n",
      "Topics: [['cornell', 'uwaterloo', 'info', 'cmu', 'andy', 'science', 'uwo', 'math', 'ca', 'leland'], ['ford', 'washington', 'keywords', 'cars', 'summary', 'europe', 'car', 'berkeley', 'riding', 'engines'], ['pp', 'armenia', 'turkish', 'professor', 'max', 'davidian', 'turkey', 'chi', 'troops', 'armenian'], ['advice', 'apple', 'read', 'info', 'newsgroup', 'posted', 'law', 'sci', 'monitors', 'reading'], ['assume', 'serial', 'trust', 'exist', 'exists', 'god', 'ability', 'false', 'depends', 'chip'], ['body', 'widget', 'building', 'window', 'properly', 'environment', 'destroy', 'event', 'actions', 'immediately'], ['ins', 'solntze', 'wpd', 'livesey', 'keith', 'cwru', 'mountain', 'magnus', 'hell', 'caltech'], ['sf', 'apple', 'se', 'ca', 'fi', 'summary', 'riding', 'keywords', 'berkeley', 'washington'], ['nasa', 'job', 'jobs', 'vote', 'home', 'bring', 'gov', 'office', 'future', 'stated'], ['va', 'east', 'id', 'nc', 'ed', 'carl', 'janet', 'sw', 'texas', 'rz'], ['greek', 'jewish', 'turkish', 'davidian', 'official', 'soc', 'history', 'members', 'church', 'catholic'], ['order', 'nasa', 'card', 'week', 'network', 'rom', 'local', 'access', 'case', 'read'], ['innocent', 'forces', 'troops', 'villages', 'armed', 'roads', 'killing', 'civilians', 'land', 'armenian'], ['nz', 'eng', 'ac', 'access', 'sun', 'clock', 'uk', 'sys', 'nc', 'ed'], ['dollars', 'administration', 'billion', 'foreign', 'industry', 'costs', 'spending', 'planned', 'million', 'expensive'], ['motif', 'window', 'widget', 'environment', 'shell', 'language', 'users', 'server', 'society', 'resources'], ['engineering', 'byte', 'water', 'professor', 'middle', 'pp', 'gas', 'york', 'applications', 'processing'], ['pp', 'villages', 'fire', 'power', 'jewish', 'forces', 'troops', 'acts', 'armenian', 'led'], ['gas', 'water', 'morning', 'building', 'training', 'secretary', 'job', 'temperature', 'floor', 'ground'], ['format', 'entry', 'formats', 'files', 'output', 'section', 'gif', 'pixel', 'resource', 'objects']]\n",
      "Epoch 31 - Learning Rate: 0.002 - KL theta: 2.34 - Rec loss: 629.75 - NELBO: 632.09\n",
      "Epoch 32 - Learning Rate: 0.002 - KL theta: 2.46 - Rec loss: 625.37 - NELBO: 627.83\n",
      "Epoch 33 - Learning Rate: 0.002 - KL theta: 2.54 - Rec loss: 624.15 - NELBO: 626.69\n",
      "Epoch 34 - Learning Rate: 0.002 - KL theta: 2.71 - Rec loss: 621.1 - NELBO: 623.81\n",
      "Epoch 35 - Learning Rate: 0.002 - KL theta: 2.81 - Rec loss: 626.78 - NELBO: 629.59\n",
      "Epoch 36 - Learning Rate: 0.002 - KL theta: 2.95 - Rec loss: 629.67 - NELBO: 632.62\n",
      "Epoch 37 - Learning Rate: 0.002 - KL theta: 3.04 - Rec loss: 628.42 - NELBO: 631.46\n",
      "Epoch 38 - Learning Rate: 0.002 - KL theta: 3.11 - Rec loss: 620.34 - NELBO: 623.45\n",
      "Epoch 39 - Learning Rate: 0.002 - KL theta: 3.24 - Rec loss: 624.36 - NELBO: 627.6\n",
      "Epoch 40 - Learning Rate: 0.002 - KL theta: 3.36 - Rec loss: 618.79 - NELBO: 622.15\n",
      "Topics: [['cornell', 'uwaterloo', 'info', 'cmu', 'science', 'bikes', 'andy', 'bike', 'uwo', 'purdue'], ['ford', 'washington', 'cars', 'keywords', 'engines', 'parts', 'europe', 'review', 'summary', 'model'], ['professor', 'davidian', 'evidence', 'soviet', 'pp', 'armenia', 'extermination', 'chi', 'max', 'ohanus'], ['advice', 'real', 'law', 'sci', 'newsgroup', 'read', 'content', 'group', 'apple', 'posted'], ['assume', 'trust', 'serial', 'exist', 'depends', 'ability', 'exists', 'infinite', 'false', 'god'], ['destroy', 'body', 'immediately', 'properly', 'building', 'event', 'remove', 'destroyed', 'actions', 'window'], ['matt', 'ins', 'mountain', 'solntze', 'hell', 'keith', 'wpd', 'cwru', 'livesey', 'magnus'], ['sf', 'se', 'apple', 'berkeley', 'washington', 'fi', 'keywords', 'summary', 'nhl', 'finland'], ['nasa', 'job', 'vote', 'jobs', 'bring', 'stated', 'gov', 'future', 'responsibility', 'kids'], ['va', 'east', 'janet', 'id', 'carl', 'ed', 'nc', 'rz', 'sw', 'au'], ['davidian', 'greek', 'soc', 'nazi', 'born', 'turkish', 'learned', 'jewish', 'historical', 'catholic'], ['order', 'communication', 'line', 'phone', 'services', 'week', 'call', 'sale', 'guest', 'shipping'], ['forces', 'innocent', 'armed', 'roads', 'troops', 'villages', 'quiet', 'killing', 'land', 'civilians'], ['eng', 'nz', 'indiana', 'iastate', 'clock', 'denver', 'sys', 'access', 'burns', 'colorado'], ['dollars', 'administration', 'billion', 'industry', 'planned', 'expensive', 'foreign', 'costs', 'spending', 'months'], ['motif', 'window', 'environment', 'widget', 'language', 'society', 'shell', 'standards', 'list', 'guide'], ['double', 'middle', 'study', 'indiana', 'york', 'pp', 'colorado', 'byte', 'professor', 'illinois'], ['pp', 'scoring', 'period', 'tied', 'ot', 'jets', 'playoffs', 'modern', 'led', 'pretty'], ['gas', 'morning', 'water', 'training', 'voltage', 'ground', 'temperature', 'floor', 'office', 'minutes'], ['entry', 'format', 'formats', 'resource', 'files', 'interface', 'libraries', 'objects', 'output', 'functions']]\n",
      "Epoch 41 - Learning Rate: 0.002 - KL theta: 3.41 - Rec loss: 616.46 - NELBO: 619.87\n",
      "Epoch 42 - Learning Rate: 0.002 - KL theta: 3.44 - Rec loss: 613.04 - NELBO: 616.48\n",
      "Epoch 43 - Learning Rate: 0.002 - KL theta: 3.57 - Rec loss: 617.88 - NELBO: 621.45\n",
      "Epoch 44 - Learning Rate: 0.002 - KL theta: 3.67 - Rec loss: 622.17 - NELBO: 625.84\n",
      "Epoch 45 - Learning Rate: 0.002 - KL theta: 3.69 - Rec loss: 616.78 - NELBO: 620.47\n",
      "Epoch 46 - Learning Rate: 0.002 - KL theta: 3.76 - Rec loss: 614.85 - NELBO: 618.61\n",
      "Epoch 47 - Learning Rate: 0.002 - KL theta: 3.91 - Rec loss: 617.72 - NELBO: 621.63\n",
      "Epoch 48 - Learning Rate: 0.002 - KL theta: 3.94 - Rec loss: 612.63 - NELBO: 616.57\n",
      "Epoch 49 - Learning Rate: 0.002 - KL theta: 4.06 - Rec loss: 620.2 - NELBO: 624.26\n",
      "Epoch 50 - Learning Rate: 0.002 - KL theta: 4.08 - Rec loss: 610.12 - NELBO: 614.2\n",
      "Topics: [['cornell', 'uwaterloo', 'info', 'cmu', 'bikes', 'adobe', 'science', 'csd', 'andy', 'bike'], ['ford', 'parts', 'nuclear', 'review', 'claims', 'model', 'produced', 'modern', 'engines', 'similar'], ['soviet', 'professor', 'extermination', 'ohanus', 'appressian', 'pitt', 'angeles', 'max', 'cal', 'chi'], ['advice', 'real', 'group', 'newsgroup', 'content', 'sci', 'random', 'discussion', 'read', 'law'], ['assume', 'trust', 'serial', 'infinite', 'exist', 'eternal', 'depends', 'god', 'false', 'faith'], ['destroy', 'immediately', 'properly', 'body', 'event', 'remove', 'building', 'destroyed', 'acts', 'children'], ['matt', 'ins', 'portal', 'solntze', 'mountain', 'keith', 'cwru', 'wpd', 'texas', 'magnus'], ['sf', 'washington', 'berkeley', 'se', 'keywords', 'apple', 'fi', 'finland', 'nhl', 'carson'], ['nasa', 'job', 'vote', 'bring', 'stated', 'jobs', 'future', 'responsibility', 'gov', 'save'], ['va', 'janet', 'carl', 'east', 'id', 'nc', 'science', 'ed', 'inet', 'rz'], ['davidian', 'greek', 'born', 'nazi', 'soc', 'learned', 'muslims', 'catholic', 'hatred', 'historical'], ['order', 'communication', 'call', 'services', 'week', 'line', 'phone', 'sale', 'guest', 'bbs'], ['forces', 'innocent', 'quiet', 'armed', 'roads', 'troops', 'villages', 'killing', 'terrible', 'shooting'], ['eng', 'iastate', 'indiana', 'nz', 'clock', 'denver', 'colorado', 'drivers', 'sys', 'network'], ['dollars', 'administration', 'billion', 'planned', 'industry', 'expensive', 'costs', 'spending', 'replaced', 'months'], ['window', 'motif', 'environment', 'language', 'society', 'shell', 'guide', 'list', 'widget', 'copies'], ['double', 'york', 'middle', 'study', 'denver', 'george', 'pp', 'indiana', 'illinois', 'hall'], ['pp', 'scoring', 'period', 'jets', 'tied', 'gm', 'playoffs', 'voltage', 'ot', 'pretty'], ['gas', 'morning', 'voltage', 'water', 'training', 'ground', 'wire', 'temperature', 'circuit', 'minutes'], ['formats', 'entry', 'format', 'resource', 'interface', 'libraries', 'files', 'functions', 'implementation', 'sites']]\n",
      "Epoch 51 - Learning Rate: 0.002 - KL theta: 4.21 - Rec loss: 616.3 - NELBO: 620.51\n",
      "Epoch 52 - Learning Rate: 0.002 - KL theta: 4.2 - Rec loss: 613.87 - NELBO: 618.07\n",
      "Epoch 53 - Learning Rate: 0.002 - KL theta: 4.29 - Rec loss: 614.89 - NELBO: 619.18\n",
      "Epoch 54 - Learning Rate: 0.002 - KL theta: 4.34 - Rec loss: 610.48 - NELBO: 614.82\n"
     ]
    },
    {
     "name": "stdout",
     "output_type": "stream",
     "text": [
      "Epoch 55 - Learning Rate: 0.002 - KL theta: 4.33 - Rec loss: 618.0 - NELBO: 622.33\n",
      "Epoch 56 - Learning Rate: 0.002 - KL theta: 4.4 - Rec loss: 621.97 - NELBO: 626.37\n",
      "Epoch 57 - Learning Rate: 0.002 - KL theta: 4.42 - Rec loss: 616.1 - NELBO: 620.52\n",
      "Epoch 58 - Learning Rate: 0.002 - KL theta: 4.46 - Rec loss: 612.08 - NELBO: 616.54\n",
      "Epoch 59 - Learning Rate: 0.002 - KL theta: 4.62 - Rec loss: 614.45 - NELBO: 619.07\n",
      "Epoch 60 - Learning Rate: 0.002 - KL theta: 4.56 - Rec loss: 612.15 - NELBO: 616.71\n",
      "Topics: [['cornell', 'uwaterloo', 'bikes', 'info', 'cmu', 'adobe', 'csd', 'centris', 'cars', 'andy'], ['ford', 'produced', 'modern', 'parts', 'nuclear', 'review', 'claims', 'model', 'volume', 'production'], ['soviet', 'angeles', 'extermination', 'professor', 'ohanus', 'pitt', 'appressian', 'geb', 'max', 'cal'], ['advice', 'real', 'group', 'logic', 'newsgroup', 'content', 'random', 'cross', 'ignore', 'read'], ['assume', 'trust', 'serial', 'infinite', 'eternal', 'exist', 'depends', 'god', 'fails', 'false'], ['destroy', 'immediately', 'properly', 'body', 'purpose', 'event', 'acts', 'children', 'created', 'building'], ['matt', 'ins', 'portal', 'texas', 'mountain', 'keith', 'cwru', 'solntze', 'magnus', 'supporters'], ['sf', 'washington', 'keywords', 'berkeley', 'se', 'fi', 'cd', 'finland', 'apple', 'carson'], ['nasa', 'job', 'vote', 'stated', 'bring', 'future', 'jobs', 'responsibility', 'federal', 'decision'], ['va', 'janet', 'science', 'carl', 'east', 'nc', 'id', 'inet', 'ed', 'gw'], ['davidian', 'greek', 'born', 'nazi', 'soc', 'learned', 'muslims', 'considered', 'catholic', 'hatred'], ['order', 'communication', 'week', 'sale', 'call', 'advance', 'return', 'originally', 'services', 'line'], ['forces', 'innocent', 'quiet', 'armed', 'troops', 'roads', 'remember', 'villages', 'shooting', 'terrible'], ['eng', 'iastate', 'indiana', 'nz', 'clock', 'drivers', 'colorado', 'network', 'sys', 'denver'], ['dollars', 'administration', 'billion', 'planned', 'costs', 'spending', 'industry', 'occupied', 'expensive', 'replaced'], ['window', 'motif', 'environment', 'language', 'english', 'copies', 'custom', 'guide', 'list', 'society'], ['double', 'york', 'hall', 'middle', 'george', 'study', 'philadelphia', 'indiana', 'pp', 'illinois'], ['pp', 'scoring', 'jets', 'ot', 'leads', 'tied', 'period', 'leafs', 'plays', 'playoffs'], ['gas', 'morning', 'voltage', 'training', 'water', 'wire', 'ground', 'minutes', 'temperature', 'circuit'], ['formats', 'entry', 'format', 'interface', 'resource', 'libraries', 'implementation', 'sites', 'functions', 'supports']]\n",
      "Epoch 61 - Learning Rate: 0.002 - KL theta: 4.54 - Rec loss: 612.22 - NELBO: 616.76\n",
      "Epoch 62 - Learning Rate: 0.002 - KL theta: 4.71 - Rec loss: 607.58 - NELBO: 612.29\n",
      "Epoch 63 - Learning Rate: 0.002 - KL theta: 4.71 - Rec loss: 622.45 - NELBO: 627.16\n",
      "Epoch 64 - Learning Rate: 0.002 - KL theta: 4.76 - Rec loss: 612.65 - NELBO: 617.41\n",
      "Epoch 65 - Learning Rate: 0.002 - KL theta: 4.69 - Rec loss: 613.91 - NELBO: 618.6\n",
      "Epoch 66 - Learning Rate: 0.002 - KL theta: 4.71 - Rec loss: 611.28 - NELBO: 615.99\n",
      "Epoch 67 - Learning Rate: 0.002 - KL theta: 4.84 - Rec loss: 613.69 - NELBO: 618.53\n",
      "Epoch 68 - Learning Rate: 0.002 - KL theta: 4.8 - Rec loss: 618.85 - NELBO: 623.65\n",
      "Epoch 69 - Learning Rate: 0.002 - KL theta: 4.85 - Rec loss: 612.23 - NELBO: 617.08\n",
      "Epoch 70 - Learning Rate: 0.002 - KL theta: 4.9 - Rec loss: 611.44 - NELBO: 616.34\n",
      "Topics: [['cornell', 'uwaterloo', 'bikes', 'info', 'cmu', 'adobe', 'csd', 'centris', 'cars', 'andy'], ['produced', 'ford', 'modern', 'review', 'nuclear', 'parts', 'claims', 'model', 'japan', 'production'], ['soviet', 'angeles', 'pitt', 'extermination', 'geb', 'ohanus', 'professor', 'truth', 'appressian', 'nj'], ['advice', 'logic', 'cross', 'real', 'random', 'newsgroup', 'group', 'content', 'ignore', 'discussion'], ['assume', 'trust', 'serial', 'eternal', 'infinite', 'exist', 'au', 'fails', 'takes', 'false'], ['destroy', 'immediately', 'properly', 'body', 'purpose', 'event', 'acts', 'children', 'created', 'lives'], ['matt', 'portal', 'ins', 'mountain', 'texas', 'keith', 'cwru', 'solntze', 'magnus', 'supporters'], ['sf', 'washington', 'keywords', 'berkeley', 'se', 'fi', 'cd', 'finland', 'carson', 'game'], ['nasa', 'job', 'vote', 'stated', 'future', 'bring', 'jobs', 'federal', 'decision', 'groups'], ['va', 'janet', 'carl', 'science', 'nc', 'east', 'id', 'inet', 'ed', 'gw'], ['davidian', 'greek', 'born', 'nazi', 'considered', 'soc', 'muslims', 'learned', 'catholic', 'hatred'], ['order', 'communication', 'advance', 'originally', 'return', 'week', 'sale', 'call', 'code', 'date'], ['forces', 'innocent', 'quiet', 'armed', 'troops', 'roads', 'remember', 'deaths', 'large', 'shooting'], ['eng', 'iastate', 'indiana', 'nz', 'clock', 'colorado', 'drivers', 'sys', 'network', 'denver'], ['dollars', 'administration', 'occupied', 'billion', 'agencies', 'planned', 'spending', 'costs', 'industry', 'replaced'], ['window', 'environment', 'motif', 'language', 'english', 'custom', 'copies', 'list', 'society', 'guide'], ['double', 'hall', 'friday', 'philadelphia', 'middle', 'york', 'study', 'studies', 'george', 'monday'], ['pp', 'leads', 'ot', 'scoring', 'tied', 'double', 'jets', 'plays', 'period', 'leafs'], ['gas', 'morning', 'voltage', 'training', 'wire', 'water', 'ground', 'minutes', 'apple', 'circuit'], ['formats', 'entry', 'format', 'interface', 'resource', 'implementation', 'sites', 'libraries', 'export', 'functions']]\n",
      "Epoch 71 - Learning Rate: 0.002 - KL theta: 4.96 - Rec loss: 620.61 - NELBO: 625.57\n",
      "Epoch 72 - Learning Rate: 0.002 - KL theta: 4.98 - Rec loss: 613.38 - NELBO: 618.36\n",
      "Epoch 73 - Learning Rate: 0.002 - KL theta: 5.02 - Rec loss: 618.05 - NELBO: 623.07\n",
      "Epoch 74 - Learning Rate: 0.002 - KL theta: 5.03 - Rec loss: 613.81 - NELBO: 618.84\n",
      "Epoch 75 - Learning Rate: 0.002 - KL theta: 5.03 - Rec loss: 609.22 - NELBO: 614.25\n",
      "Epoch 76 - Learning Rate: 0.002 - KL theta: 5.11 - Rec loss: 611.11 - NELBO: 616.22\n",
      "Epoch 77 - Learning Rate: 0.002 - KL theta: 5.09 - Rec loss: 612.01 - NELBO: 617.1\n",
      "Epoch 78 - Learning Rate: 0.002 - KL theta: 5.15 - Rec loss: 610.41 - NELBO: 615.56\n",
      "Epoch 79 - Learning Rate: 0.002 - KL theta: 5.23 - Rec loss: 616.3 - NELBO: 621.53\n",
      "Epoch 80 - Learning Rate: 0.002 - KL theta: 5.23 - Rec loss: 611.45 - NELBO: 616.68\n",
      "Topics: [['cornell', 'uwaterloo', 'bikes', 'info', 'cmu', 'adobe', 'csd', 'centris', 'cars', 'purdue'], ['produced', 'modern', 'ford', 'review', 'nuclear', 'parts', 'model', 'claims', 'japan', 'production'], ['soviet', 'angeles', 'truth', 'pitt', 'extermination', 'geb', 'atheists', 'livesey', 'ohanus', 'professor'], ['advice', 'logic', 'cross', 'random', 'newsgroup', 'real', 'ignore', 'group', 'content', 'bother'], ['assume', 'trust', 'serial', 'eternal', 'infinite', 'au', 'cramer', 'exist', 'phone', 'takes'], ['destroy', 'immediately', 'properly', 'body', 'purpose', 'found', 'children', 'event', 'acts', 'lives'], ['matt', 'portal', 'ins', 'texas', 'mountain', 'keith', 'cwru', 'magnus', 'supporters', 'houston'], ['sf', 'washington', 'keywords', 'berkeley', 'se', 'cd', 'finland', 'fi', 'carson', 'ho'], ['nasa', 'job', 'vote', 'stated', 'future', 'bring', 'jobs', 'federal', 'decision', 'groups'], ['va', 'science', 'janet', 'carl', 'nc', 'inet', 'east', 'id', 'ed', 'des'], ['davidian', 'greek', 'born', 'considered', 'nazi', 'soc', 'catholic', 'learned', 'muslims', 'hatred'], ['order', 'communication', 'originally', 'advance', 'return', 'sale', 'week', 'code', 'date', 'call'], ['forces', 'innocent', 'quiet', 'armed', 'troops', 'remember', 'roads', 'deaths', 'large', 'shooting'], ['eng', 'indiana', 'iastate', 'nz', 'colorado', 'clock', 'drivers', 'sys', 'network', 'access'], ['dollars', 'administration', 'occupied', 'agencies', 'planned', 'billion', 'spending', 'costs', 'industry', 'economy'], ['environment', 'window', 'english', 'motif', 'language', 'custom', 'copies', 'society', 'commercial', 'guide'], ['double', 'hall', 'friday', 'philadelphia', 'june', 'athens', 'tuesday', 'monday', 'studies', 'sunday'], ['pp', 'leads', 'ot', 'double', 'tied', 'close', 'scoring', 'show', 'shows', 'argument'], ['gas', 'morning', 'voltage', 'training', 'water', 'wire', 'minutes', 'ground', 'light', 'apple'], ['formats', 'entry', 'format', 'interface', 'resource', 'sites', 'libraries', 'implementation', 'select', 'functions']]\n"
     ]
    },
    {
     "name": "stdout",
     "output_type": "stream",
     "text": [
      "Epoch 81 - Learning Rate: 0.002 - KL theta: 5.23 - Rec loss: 606.49 - NELBO: 611.72\n",
      "Epoch 82 - Learning Rate: 0.002 - KL theta: 5.31 - Rec loss: 608.41 - NELBO: 613.72\n",
      "Epoch 83 - Learning Rate: 0.002 - KL theta: 5.31 - Rec loss: 611.1 - NELBO: 616.41\n",
      "Epoch 84 - Learning Rate: 0.002 - KL theta: 5.37 - Rec loss: 613.47 - NELBO: 618.84\n",
      "Epoch 85 - Learning Rate: 0.002 - KL theta: 5.37 - Rec loss: 610.94 - NELBO: 616.31\n",
      "Epoch 86 - Learning Rate: 0.002 - KL theta: 5.39 - Rec loss: 611.65 - NELBO: 617.04\n",
      "Epoch 87 - Learning Rate: 0.002 - KL theta: 5.34 - Rec loss: 607.51 - NELBO: 612.85\n",
      "Epoch 88 - Learning Rate: 0.002 - KL theta: 5.42 - Rec loss: 616.54 - NELBO: 621.96\n",
      "Epoch 89 - Learning Rate: 0.002 - KL theta: 5.42 - Rec loss: 607.0 - NELBO: 612.42\n",
      "Epoch 90 - Learning Rate: 0.002 - KL theta: 5.42 - Rec loss: 606.8 - NELBO: 612.22\n",
      "Topics: [['cornell', 'uwaterloo', 'bikes', 'info', 'cmu', 'adobe', 'centris', 'csd', 'purdue', 'ford'], ['produced', 'modern', 'nuclear', 'review', 'ford', 'model', 'parts', 'japan', 'claims', 'reasons'], ['soviet', 'truth', 'angeles', 'pitt', 'atheists', 'extermination', 'geb', 'livesey', 'god', 'belief'], ['advice', 'logic', 'cross', 'random', 'newsgroup', 'real', 'method', 'ignore', 'effect', 'bother'], ['assume', 'trust', 'serial', 'eternal', 'infinite', 'au', 'phone', 'cramer', 'takes', 'exist'], ['destroy', 'immediately', 'properly', 'body', 'purpose', 'found', 'lives', 'children', 'acts', 'event'], ['matt', 'portal', 'ins', 'mountain', 'texas', 'keith', 'supporters', 'cwru', 'magnus', 'houston'], ['sf', 'washington', 'keywords', 'berkeley', 'cd', 'se', 'finland', 'fi', 'carson', 'ho'], ['nasa', 'job', 'vote', 'stated', 'future', 'bring', 'jobs', 'kids', 'federal', 'decision'], ['janet', 'va', 'carl', 'science', 'nc', 'inet', 'east', 'id', 'ed', 'des'], ['davidian', 'greek', 'born', 'considered', 'nazi', 'catholic', 'soc', 'hatred', 'learned', 'nazis'], ['order', 'communication', 'originally', 'advance', 'return', 'week', 'sale', 'date', 'computers', 'code'], ['forces', 'innocent', 'quiet', 'troops', 'armed', 'roads', 'remember', 'deaths', 'shooting', 'women'], ['eng', 'indiana', 'iastate', 'nz', 'colorado', 'clock', 'drivers', 'sys', 'access', 'network'], ['dollars', 'administration', 'occupied', 'agencies', 'planned', 'billion', 'spending', 'costs', 'economy', 'reduce'], ['environment', 'english', 'window', 'motif', 'custom', 'language', 'copies', 'understanding', 'society', 'shell'], ['friday', 'hall', 'double', 'athens', 'june', 'philadelphia', 'tuesday', 'monday', 'sunday', 'studies'], ['leads', 'pp', 'double', 'tied', 'close', 'ot', 'side', 'nice', 'show', 'fourth'], ['gas', 'morning', 'voltage', 'training', 'wire', 'water', 'minutes', 'ground', 'apple', 'cable'], ['formats', 'entry', 'format', 'interface', 'resource', 'sites', 'libraries', 'implementation', 'select', 'export']]\n",
      "Epoch 91 - Learning Rate: 0.002 - KL theta: 5.48 - Rec loss: 610.51 - NELBO: 615.99\n",
      "Epoch 92 - Learning Rate: 0.002 - KL theta: 5.53 - Rec loss: 609.03 - NELBO: 614.56\n",
      "Epoch 93 - Learning Rate: 0.002 - KL theta: 5.49 - Rec loss: 611.95 - NELBO: 617.44\n",
      "Epoch 94 - Learning Rate: 0.002 - KL theta: 5.54 - Rec loss: 611.93 - NELBO: 617.47\n",
      "Epoch 95 - Learning Rate: 0.002 - KL theta: 5.53 - Rec loss: 612.96 - NELBO: 618.49\n",
      "Epoch 96 - Learning Rate: 0.002 - KL theta: 5.51 - Rec loss: 607.19 - NELBO: 612.7\n",
      "Epoch 97 - Learning Rate: 0.002 - KL theta: 5.59 - Rec loss: 615.82 - NELBO: 621.41\n",
      "Epoch 98 - Learning Rate: 0.002 - KL theta: 5.58 - Rec loss: 605.78 - NELBO: 611.36\n",
      "Epoch 99 - Learning Rate: 0.002 - KL theta: 5.55 - Rec loss: 606.18 - NELBO: 611.73\n"
     ]
    }
   ],
   "source": [
    "# Training an ETM instance\n",
    "etm_instance = ETM(\n",
    "    my_vocab,\n",
    "    embeddings=embedding_save_path, # You can pass here the path to a word2vec file or\n",
    "                                   # a KeyedVectors instance\n",
    "    use_c_format_w2vec=True,\n",
    "    num_topics=20,\n",
    "    epochs=100,\n",
    "    debug_mode=True,\n",
    "    lr = 0.002,\n",
    "    train_embeddings=False, # Optional. If True, ETM will learn word embeddings jointly with\n",
    "                            # topic embeddings. By default, is False. If 'embeddings' argument\n",
    "                            # is being passed, this argument must not be True\n",
    "    seed=42,\n",
    ")\n",
    "\n",
    "etm_instance.fit(train_set)\n",
    "topics = etm_instance.get_topics(20)"
   ]
  },
  {
   "cell_type": "code",
   "execution_count": 66,
   "metadata": {},
   "outputs": [
    {
     "name": "stdout",
     "output_type": "stream",
     "text": [
      "topic: 1 cornell uwaterloo bikes info cmu adobe centris csd purdue ford cars andy dave diamond ted sean leland science duke advice\n",
      "topic: 2 produced modern nuclear review model ford japan parts reasons claims aid production john volume chemical plans national mass report final\n",
      "topic: 3 truth soviet atheists angeles pitt livesey extermination geb god belief eternal rangers nj faith ohanus appressian professor hitter max caltech\n",
      "topic: 4 advice logic cross random effect method newsgroup bother ignore real group thoughts content takes points reading net avoid thread law\n",
      "topic: 5 assume trust eternal serial infinite au phone cramer takes ideas exist crypto faith understand false depends fails uga timothy universe\n",
      "topic: 6 destroy immediately properly body purpose found lives children save acts event called structure saved enter pieces created pass die translation\n",
      "topic: 7 matt portal ins mountain texas supporters keith donald magnus houston cwru solntze gov ucsd disclaimer cup austin dartmouth umich posting\n",
      "topic: 8 sf washington keywords berkeley cd se finland fi ho carson amp cam bmw mo ab game hits sol riding hot\n",
      "topic: 9 nasa job vote stated future bring situation kids federal decisions groups decision jobs efforts paid majority basis effort balls carry\n",
      "topic: 10 janet carl va nc science inet east id ed des engineering voice announcement mathematics christopher mike graham george edward su\n",
      "topic: 11 davidian greek born considered nazi catholic soc hatred nazis attacks issue culture learned palestinians attack historical muslims followers israelis punishment\n",
      "topic: 12 order communication originally advance return week sale computers date call code working bought bank line ago ready replace details bbs\n",
      "topic: 13 forces innocent quiet troops armed roads remember deaths women shooting large thousands genocide great villages driven terrible driving single killing\n",
      "topic: 14 eng indiana iastate nz colorado drivers clock setting sys access denver network installed university unix software burns dos uni computer\n",
      "topic: 15 dollars administration occupied agencies planned billion spending economy reduce costs capability secure industry compound nsa machine property enforcement agents expensive\n",
      "topic: 16 english environment window custom motif language understanding copies society shell learning standards list commercial guide body offers widget process building\n",
      "topic: 17 friday hall athens double june philadelphia tuesday sunday monday ryan coast bay studies morning chicago atlanta study director mile reached\n",
      "topic: 18 leads pp close tied side double nice bet fourth ot mind straight show city rule cases minute beat shows lucky\n",
      "topic: 19 gas morning voltage training wire water minutes ground approach cable apple patients talked office light jobs disease circuit energy floor\n",
      "topic: 20 entry formats format interface resource sites libraries implementation select server applications functions export supports images supported bytes fonts directory multi\n",
      "0.07734489487624362\n",
      "0.97\n"
     ]
    }
   ],
   "source": [
    "topic_coherence = etm_instance.get_topic_coherence()\n",
    "topic_diversity = etm_instance.get_topic_diversity()\n",
    "for idx, tp in enumerate(topics):\n",
    "    as_str = \" \".join(tp)\n",
    "    print(f'topic: {idx+1} {as_str}')\n",
    "print(topic_coherence)\n",
    "print(topic_diversity)"
   ]
  },
  {
   "cell_type": "code",
   "execution_count": null,
   "metadata": {},
   "outputs": [],
   "source": [
    "#update read_prefitted_embedding\n",
    "#update test dataset\n",
    "#add save docs in prepared_data\n",
    "#control prepared_data\n",
    "#control ETM"
   ]
  },
  {
   "cell_type": "code",
   "execution_count": 17,
   "metadata": {},
   "outputs": [
    {
     "data": {
      "text/plain": [
       "\"\\n    def __init__(\\n        self,\\n        vocabulary,\\n        embeddings=None,\\n        use_c_format_w2vec=False,\\n        model_path=None,\\n        batch_size=1000,\\n        num_topics=50,\\n        rho_size=300,\\n        emb_size=300,\\n        t_hidden_size=800,\\n        theta_act='relu',\\n        train_embeddings=False,\\n        lr=0.005,\\n        lr_factor=4.0,\\n        epochs=20,\\n        optimizer_type='adam',\\n        seed=2019,\\n        enc_drop=0.0,\\n        clip=0.0,\\n        nonmono=10,\\n        wdecay=1.2e-6,\\n        anneal_lr=False,\\n        bow_norm=True,\\n        num_words=10,\\n        log_interval=2,\\n        visualize_every=10,\\n        eval_batch_size=1000,\\n        eval_perplexity=False,\\n        debug_mode=False,\\n    ):\\n\""
      ]
     },
     "execution_count": 17,
     "metadata": {},
     "output_type": "execute_result"
    }
   ],
   "source": [
    "\"\"\"\n",
    "    def __init__(\n",
    "        self,\n",
    "        vocabulary,\n",
    "        embeddings=None,\n",
    "        use_c_format_w2vec=False,\n",
    "        model_path=None,\n",
    "        batch_size=1000,\n",
    "        num_topics=50,\n",
    "        rho_size=300,\n",
    "        emb_size=300,\n",
    "        t_hidden_size=800,\n",
    "        theta_act='relu',\n",
    "        train_embeddings=False,\n",
    "        lr=0.005,\n",
    "        lr_factor=4.0,\n",
    "        epochs=20,\n",
    "        optimizer_type='adam',\n",
    "        seed=2019,\n",
    "        enc_drop=0.0,\n",
    "        clip=0.0,\n",
    "        nonmono=10,\n",
    "        wdecay=1.2e-6,\n",
    "        anneal_lr=False,\n",
    "        bow_norm=True,\n",
    "        num_words=10,\n",
    "        log_interval=2,\n",
    "        visualize_every=10,\n",
    "        eval_batch_size=1000,\n",
    "        eval_perplexity=False,\n",
    "        debug_mode=False,\n",
    "    ):\n",
    "\"\"\""
   ]
  }
 ],
 "metadata": {
  "kernelspec": {
   "display_name": "Python 3",
   "language": "python",
   "name": "python3"
  },
  "language_info": {
   "codemirror_mode": {
    "name": "ipython",
    "version": 3
   },
   "file_extension": ".py",
   "mimetype": "text/x-python",
   "name": "python",
   "nbconvert_exporter": "python",
   "pygments_lexer": "ipython3",
   "version": "3.7.3"
  }
 },
 "nbformat": 4,
 "nbformat_minor": 2
}
