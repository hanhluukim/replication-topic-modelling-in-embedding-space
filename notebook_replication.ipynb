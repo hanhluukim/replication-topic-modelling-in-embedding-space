{
 "cells": [
  {
   "cell_type": "markdown",
   "metadata": {
    "colab_type": "text",
    "id": "view-in-github"
   },
   "source": [
    "<a href=\"https://colab.research.google.com/github/hanhluukim/replication-topic-modelling-in-embedding-space/blob/main/notebook_replication.ipynb\" target=\"_parent\"><img src=\"https://colab.research.google.com/assets/colab-badge.svg\" alt=\"Open In Colab\"/></a>"
   ]
  },
  {
   "cell_type": "markdown",
   "metadata": {
    "id": "PJ7P852F7yzU"
   },
   "source": [
    "# **Das Projekt aus dem Github klonen und in den Projektsordner**"
   ]
  },
  {
   "cell_type": "code",
   "execution_count": null,
   "metadata": {
    "colab": {
     "base_uri": "https://localhost:8080/"
    },
    "id": "riOxinNHJcIB",
    "outputId": "697e2951-11ce-4fe0-feca-c45b1c981207"
   },
   "outputs": [
    {
     "name": "stdout",
     "output_type": "stream",
     "text": [
      "Cloning into 'replication-topic-modelling-in-embedding-space'...\n",
      "remote: Enumerating objects: 1235, done.\u001b[K\n",
      "remote: Counting objects: 100% (180/180), done.\u001b[K\n",
      "remote: Compressing objects: 100% (137/137), done.\u001b[K\n",
      "remote: Total 1235 (delta 100), reused 100 (delta 39), pack-reused 1055\u001b[K\n",
      "Receiving objects: 100% (1235/1235), 510.02 MiB | 22.46 MiB/s, done.\n",
      "Resolving deltas: 100% (647/647), done.\n",
      "Checking out files: 100% (125/125), done.\n"
     ]
    }
   ],
   "source": [
    "#wenn die Ordner noch nicht geklont ist, soll dieser Fehler zuerst durchgeführt werden.\n",
    "!git clone https://github.com/hanhluukim/replication-topic-modelling-in-embedding-space.git"
   ]
  },
  {
   "cell_type": "code",
   "execution_count": null,
   "metadata": {
    "colab": {
     "base_uri": "https://localhost:8080/"
    },
    "id": "B_6em-5qJg5e",
    "outputId": "9ea438ce-a93c-45fa-a16e-04a10d2dad90"
   },
   "outputs": [
    {
     "name": "stdout",
     "output_type": "stream",
     "text": [
      "/content/replication-topic-modelling-in-embedding-space\n"
     ]
    }
   ],
   "source": [
    "cd /content/replication-topic-modelling-in-embedding-space"
   ]
  },
  {
   "cell_type": "markdown",
   "metadata": {
    "id": "vE0ThMGk8eVx"
   },
   "source": [
    "# **Das Trainieren über GPU: in dem Colab-runtime, wählen GPU**\n",
    "1. runtime\n",
    "2. change runtime type\n",
    "3. choose GPU and save"
   ]
  },
  {
   "cell_type": "markdown",
   "metadata": {
    "id": "6AAG98vV1JCg"
   },
   "source": [
    "#**Die benötige Paketen für das Projekt mittels requirements.txt installieren**\n",
    "\n"
   ]
  },
  {
   "cell_type": "code",
   "execution_count": null,
   "metadata": {
    "colab": {
     "base_uri": "https://localhost:8080/"
    },
    "id": "YcBay625sD5D",
    "outputId": "ea055875-a861-4991-f57a-c17624c820e9"
   },
   "outputs": [
    {
     "name": "stdout",
     "output_type": "stream",
     "text": [
      "Requirement already satisfied: gensim in /usr/local/lib/python3.7/dist-packages (from -r /content/replication-topic-modelling-in-embedding-space/requirements.txt (line 1)) (3.6.0)\n",
      "Requirement already satisfied: nltk in /usr/local/lib/python3.7/dist-packages (from -r /content/replication-topic-modelling-in-embedding-space/requirements.txt (line 2)) (3.2.5)\n",
      "Requirement already satisfied: numpy in /usr/local/lib/python3.7/dist-packages (from -r /content/replication-topic-modelling-in-embedding-space/requirements.txt (line 3)) (1.21.6)\n",
      "Requirement already satisfied: scikit-learn in /usr/local/lib/python3.7/dist-packages (from -r /content/replication-topic-modelling-in-embedding-space/requirements.txt (line 4)) (1.0.2)\n",
      "Requirement already satisfied: scipy in /usr/local/lib/python3.7/dist-packages (from -r /content/replication-topic-modelling-in-embedding-space/requirements.txt (line 5)) (1.4.1)\n",
      "Requirement already satisfied: torch in /usr/local/lib/python3.7/dist-packages (from -r /content/replication-topic-modelling-in-embedding-space/requirements.txt (line 6)) (1.11.0+cu113)\n",
      "Collecting transformers\n",
      "  Downloading transformers-4.19.2-py3-none-any.whl (4.2 MB)\n",
      "\u001b[K     |████████████████████████████████| 4.2 MB 14.7 MB/s \n",
      "\u001b[?25hCollecting umap-learn\n",
      "  Downloading umap-learn-0.5.3.tar.gz (88 kB)\n",
      "\u001b[K     |████████████████████████████████| 88 kB 7.1 MB/s \n",
      "\u001b[?25hCollecting plotly==5.7.0\n",
      "  Downloading plotly-5.7.0-py2.py3-none-any.whl (28.8 MB)\n",
      "\u001b[K     |████████████████████████████████| 28.8 MB 129 kB/s \n",
      "\u001b[?25hRequirement already satisfied: pathlib in /usr/local/lib/python3.7/dist-packages (from -r /content/replication-topic-modelling-in-embedding-space/requirements.txt (line 10)) (1.0.1)\n",
      "Collecting pyyaml==5.4.1\n",
      "  Downloading PyYAML-5.4.1-cp37-cp37m-manylinux1_x86_64.whl (636 kB)\n",
      "\u001b[K     |████████████████████████████████| 636 kB 47.2 MB/s \n",
      "\u001b[?25hCollecting kaleido\n",
      "  Downloading kaleido-0.2.1-py2.py3-none-manylinux1_x86_64.whl (79.9 MB)\n",
      "\u001b[K     |████████████████████████████████| 79.9 MB 116 kB/s \n",
      "\u001b[?25hRequirement already satisfied: tenacity>=6.2.0 in /usr/local/lib/python3.7/dist-packages (from plotly==5.7.0->-r /content/replication-topic-modelling-in-embedding-space/requirements.txt (line 9)) (8.0.1)\n",
      "Requirement already satisfied: six in /usr/local/lib/python3.7/dist-packages (from plotly==5.7.0->-r /content/replication-topic-modelling-in-embedding-space/requirements.txt (line 9)) (1.15.0)\n",
      "Requirement already satisfied: smart-open>=1.2.1 in /usr/local/lib/python3.7/dist-packages (from gensim->-r /content/replication-topic-modelling-in-embedding-space/requirements.txt (line 1)) (6.0.0)\n",
      "Requirement already satisfied: joblib>=0.11 in /usr/local/lib/python3.7/dist-packages (from scikit-learn->-r /content/replication-topic-modelling-in-embedding-space/requirements.txt (line 4)) (1.1.0)\n",
      "Requirement already satisfied: threadpoolctl>=2.0.0 in /usr/local/lib/python3.7/dist-packages (from scikit-learn->-r /content/replication-topic-modelling-in-embedding-space/requirements.txt (line 4)) (3.1.0)\n",
      "Requirement already satisfied: typing-extensions in /usr/local/lib/python3.7/dist-packages (from torch->-r /content/replication-topic-modelling-in-embedding-space/requirements.txt (line 6)) (4.2.0)\n",
      "Collecting tokenizers!=0.11.3,<0.13,>=0.11.1\n",
      "  Downloading tokenizers-0.12.1-cp37-cp37m-manylinux_2_12_x86_64.manylinux2010_x86_64.whl (6.6 MB)\n",
      "\u001b[K     |████████████████████████████████| 6.6 MB 41.5 MB/s \n",
      "\u001b[?25hCollecting huggingface-hub<1.0,>=0.1.0\n",
      "  Downloading huggingface_hub-0.6.0-py3-none-any.whl (84 kB)\n",
      "\u001b[K     |████████████████████████████████| 84 kB 3.2 MB/s \n",
      "\u001b[?25hRequirement already satisfied: tqdm>=4.27 in /usr/local/lib/python3.7/dist-packages (from transformers->-r /content/replication-topic-modelling-in-embedding-space/requirements.txt (line 7)) (4.64.0)\n",
      "Requirement already satisfied: packaging>=20.0 in /usr/local/lib/python3.7/dist-packages (from transformers->-r /content/replication-topic-modelling-in-embedding-space/requirements.txt (line 7)) (21.3)\n",
      "Requirement already satisfied: filelock in /usr/local/lib/python3.7/dist-packages (from transformers->-r /content/replication-topic-modelling-in-embedding-space/requirements.txt (line 7)) (3.7.0)\n",
      "Requirement already satisfied: requests in /usr/local/lib/python3.7/dist-packages (from transformers->-r /content/replication-topic-modelling-in-embedding-space/requirements.txt (line 7)) (2.23.0)\n",
      "Requirement already satisfied: regex!=2019.12.17 in /usr/local/lib/python3.7/dist-packages (from transformers->-r /content/replication-topic-modelling-in-embedding-space/requirements.txt (line 7)) (2019.12.20)\n",
      "Requirement already satisfied: importlib-metadata in /usr/local/lib/python3.7/dist-packages (from transformers->-r /content/replication-topic-modelling-in-embedding-space/requirements.txt (line 7)) (4.11.3)\n",
      "Requirement already satisfied: pyparsing!=3.0.5,>=2.0.2 in /usr/local/lib/python3.7/dist-packages (from packaging>=20.0->transformers->-r /content/replication-topic-modelling-in-embedding-space/requirements.txt (line 7)) (3.0.9)\n",
      "Requirement already satisfied: numba>=0.49 in /usr/local/lib/python3.7/dist-packages (from umap-learn->-r /content/replication-topic-modelling-in-embedding-space/requirements.txt (line 8)) (0.51.2)\n",
      "Collecting pynndescent>=0.5\n",
      "  Downloading pynndescent-0.5.7.tar.gz (1.1 MB)\n",
      "\u001b[K     |████████████████████████████████| 1.1 MB 57.4 MB/s \n",
      "\u001b[?25hRequirement already satisfied: setuptools in /usr/local/lib/python3.7/dist-packages (from numba>=0.49->umap-learn->-r /content/replication-topic-modelling-in-embedding-space/requirements.txt (line 8)) (57.4.0)\n",
      "Requirement already satisfied: llvmlite<0.35,>=0.34.0.dev0 in /usr/local/lib/python3.7/dist-packages (from numba>=0.49->umap-learn->-r /content/replication-topic-modelling-in-embedding-space/requirements.txt (line 8)) (0.34.0)\n",
      "Requirement already satisfied: zipp>=0.5 in /usr/local/lib/python3.7/dist-packages (from importlib-metadata->transformers->-r /content/replication-topic-modelling-in-embedding-space/requirements.txt (line 7)) (3.8.0)\n",
      "Requirement already satisfied: urllib3!=1.25.0,!=1.25.1,<1.26,>=1.21.1 in /usr/local/lib/python3.7/dist-packages (from requests->transformers->-r /content/replication-topic-modelling-in-embedding-space/requirements.txt (line 7)) (1.24.3)\n",
      "Requirement already satisfied: certifi>=2017.4.17 in /usr/local/lib/python3.7/dist-packages (from requests->transformers->-r /content/replication-topic-modelling-in-embedding-space/requirements.txt (line 7)) (2021.10.8)\n",
      "Requirement already satisfied: chardet<4,>=3.0.2 in /usr/local/lib/python3.7/dist-packages (from requests->transformers->-r /content/replication-topic-modelling-in-embedding-space/requirements.txt (line 7)) (3.0.4)\n",
      "Requirement already satisfied: idna<3,>=2.5 in /usr/local/lib/python3.7/dist-packages (from requests->transformers->-r /content/replication-topic-modelling-in-embedding-space/requirements.txt (line 7)) (2.10)\n",
      "Building wheels for collected packages: umap-learn, pynndescent\n",
      "  Building wheel for umap-learn (setup.py) ... \u001b[?25l\u001b[?25hdone\n",
      "  Created wheel for umap-learn: filename=umap_learn-0.5.3-py3-none-any.whl size=82829 sha256=5546982c289f6e1e3b00f48822fa3a7829dc65e6d46df9f1f4a4714040e6a2ff\n",
      "  Stored in directory: /root/.cache/pip/wheels/b3/52/a5/1fd9e3e76a7ab34f134c07469cd6f16e27ef3a37aeff1fe821\n",
      "  Building wheel for pynndescent (setup.py) ... \u001b[?25l\u001b[?25hdone\n",
      "  Created wheel for pynndescent: filename=pynndescent-0.5.7-py3-none-any.whl size=54286 sha256=bad5e47e277d2e4caf281194f2af0bda7172c259c27da1519671cf5989acc777\n",
      "  Stored in directory: /root/.cache/pip/wheels/7f/2a/f8/7bd5dcec71bd5c669f6f574db3113513696b98f3f9b51f496c\n",
      "Successfully built umap-learn pynndescent\n",
      "Installing collected packages: pyyaml, tokenizers, pynndescent, huggingface-hub, umap-learn, transformers, plotly, kaleido\n",
      "  Attempting uninstall: pyyaml\n",
      "    Found existing installation: PyYAML 3.13\n",
      "    Uninstalling PyYAML-3.13:\n",
      "      Successfully uninstalled PyYAML-3.13\n",
      "  Attempting uninstall: plotly\n",
      "    Found existing installation: plotly 5.5.0\n",
      "    Uninstalling plotly-5.5.0:\n",
      "      Successfully uninstalled plotly-5.5.0\n",
      "Successfully installed huggingface-hub-0.6.0 kaleido-0.2.1 plotly-5.7.0 pynndescent-0.5.7 pyyaml-5.4.1 tokenizers-0.12.1 transformers-4.19.2 umap-learn-0.5.3\n"
     ]
    }
   ],
   "source": [
    "# Falls die Packages noch nicht installiert wurden, \n",
    "!pip install -r \"/content/replication-topic-modelling-in-embedding-space/requirements.txt\""
   ]
  },
  {
   "cell_type": "markdown",
   "metadata": {
    "id": "OLOQvlYY3rTH"
   },
   "source": [
    "# **READme**\n",
    "Die Teile, die aus dem `src` importieren wurden, werden in [hier:](https://github.com/hanhluukim/replication-topic-modelling-in-embedding-space/tree/main/src) implementieren\n",
    "\n"
   ]
  },
  {
   "cell_type": "markdown",
   "metadata": {
    "id": "k7xiPgja8eZe"
   },
   "source": [
    "# **Gebrauchte Paketen importieren**"
   ]
  },
  {
   "cell_type": "code",
   "execution_count": 1,
   "metadata": {
    "colab": {
     "base_uri": "https://localhost:8080/"
    },
    "id": "uV7KZhGq1P7g",
    "outputId": "073b36ab-a5f7-4769-c3f1-c7f11f4fab29"
   },
   "outputs": [],
   "source": [
    "# einige Paketten wurden für Visualisierung gebraucht\n",
    "import pandas as pd\n",
    "from pathlib import Path\n",
    "import matplotlib.pyplot as plt\n",
    "%matplotlib inline\n",
    "import umap.umap_ as umap\n",
    "import time\n",
    "import plotly.express as px\n",
    "from sklearn import cluster\n",
    "from sklearn import metrics"
   ]
  },
  {
   "cell_type": "markdown",
   "metadata": {
    "id": "QzWqQhPQdJWV"
   },
   "source": [
    "# **Vorverarbeitung und BOW-Repräsentationen für Textdaten durchführen**\n",
    "1. Vocabular erstellen\n",
    "2. BOW-Repräsentationen für allen Teildatensätzen"
   ]
  },
  {
   "cell_type": "code",
   "execution_count": 2,
   "metadata": {
    "id": "1OCULr82pfgk"
   },
   "outputs": [],
   "source": [
    "from src.prepare_dataset import TextDataLoader"
   ]
  },
  {
   "cell_type": "code",
   "execution_count": 5,
   "metadata": {
    "colab": {
     "base_uri": "https://localhost:8080/"
    },
    "id": "cy0PpjxEpbrR",
    "outputId": "d0731185-231e-4209-c3b4-e971b90504f2"
   },
   "outputs": [
    {
     "name": "stdout",
     "output_type": "stream",
     "text": [
      "loading texts: ...\n",
      "train-size after loading: 11314\n",
      "test-size after loading: 7532\n",
      "finished load!\n",
      "check some sample texts of the dataset after filter punctuation and digits\n",
      "['From', ':', 'lerxst', '@', 'wam', '.', 'umd', '.', 'edu', '(', \"where's\", 'my', 'thing', ')', 'Subject', ':', 'WHAT', 'car', 'is', 'this', '!', '?', 'Nntp', 'Posting', 'Host', ':', 'rac3', '.', 'wam', '.', 'umd', '.', 'edu', 'Organization', ':', 'University', 'of', 'Maryland', ',', 'College', 'Park', 'Lines', ':', '15', 'I', 'was', 'wondering', 'if', 'anyone', 'out', 'there', 'could', 'enlighten', 'me', 'on', 'this', 'car', 'I', 'saw', 'the', 'other', 'day', '.', 'It', 'was', 'a', '2', 'door', 'sports', 'car', ',', 'looked', 'to', 'be', 'from', 'the', 'late', '60s', '/', 'early', '70s', '.', 'It', 'was', 'called', 'a', 'Bricklin', '.', 'The', 'doors', 'were', 'really', 'small', '.', 'In', 'addition', ',', 'the', 'front', 'bumper', 'was', 'separate', 'from', 'the', 'rest', 'of', 'the', 'body', '.', 'This', 'is', 'all', 'I', 'know', '.', 'If', 'anyone', 'can', 'tellme', 'a', 'model', 'name', ',', 'engine', 'specs', ',', 'years', 'of', 'production', ',', 'where', 'this', 'car', 'is', 'made', ',', 'history', ',', 'or', 'whatever', 'info', 'you', 'have', 'on', 'this', 'funky', 'looking', 'car', ',', 'please', 'e', 'mail', '.', 'Thanks', ',', 'IL', 'brought', 'to', 'you', 'by', 'your', 'neighborhood', 'Lerxst']\n",
      "====================================================================================================\n",
      "['From', ':', 'guykuo', '@', 'carson', '.', 'u', '.', 'washington', '.', 'edu', '(', 'Guy', 'Kuo', ')', 'Subject', ':', 'SI', 'Clock', 'Poll', 'Final', 'Call', 'Summary', ':', 'Final', 'call', 'for', 'SI', 'clock', 'reports', 'Keywords', ':', 'SI', ',', 'acceleration', ',', 'clock', ',', 'upgrade', 'Article', 'I', '.', 'D', '.', ':', 'shelley', '.', '1qvfo9INNc3s', 'Organization', ':', 'University', 'of', 'Washington', 'Lines', ':', '11', 'NNTP', 'Posting', 'Host', ':', 'carson', '.', 'u', '.', 'washington', '.', 'edu', 'A', 'fair', 'number', 'of', 'brave', 'souls', 'who', 'upgraded', 'their', 'SI', 'clock', 'oscillator', 'have', 'shared', 'their', 'experiences', 'for', 'this', 'poll', '.', 'Please', 'send', 'a', 'brief', 'message', 'detailing', 'your', 'experiences', 'with', 'the', 'procedure', '.', 'Top', 'speed', 'attained', ',', 'CPU', 'rated', 'speed', ',', 'add', 'on', 'cards', 'and', 'adapters', ',', 'heat', 'sinks', ',', 'hour', 'of', 'usage', 'per', 'day', ',', 'floppy', 'disk', 'functionality', 'with', '800', 'and', '1', '.', '4', 'm', 'floppies', 'are', 'especially', 'requested', '.', 'I', 'will', 'be', 'summarizing', 'in', 'the', 'next', 'two', 'days', ',', 'so', 'please', 'add', 'to', 'the', 'network', 'knowledge', 'base', 'if', 'you', 'have', 'done', 'the', 'clock', 'upgrade', 'and', \"haven't\", 'answered', 'this', 'poll', '.', 'Thanks', '.', 'Guy', 'Kuo', '<', 'guykuo', '@', 'u', '.', 'washington', '.', 'edu', '>']\n",
      "====================================================================================================\n"
     ]
    }
   ],
   "source": [
    "# init TextDataLoader für die Datenquelle 20 News Groups\n",
    "# Daten abrufen vom Sklearn, tokenisieren und besondere Charaktern entfernen\n",
    "textsloader = TextDataLoader(source=\"20newsgroups\", train_size=None, test_size=None)\n",
    "textsloader.load_tokenize_texts(\"20newsgroups\")\n",
    "# Beispiel von Textdaten\n",
    "textsloader.show_example_raw_texts(n_docs=2)"
   ]
  },
  {
   "cell_type": "code",
   "execution_count": 6,
   "metadata": {
    "colab": {
     "base_uri": "https://localhost:8080/"
    },
    "id": "5odpQDJ7qPTt",
    "outputId": "8cb1055f-adf1-4d18-a2cf-c85cfca927b3"
   },
   "outputs": [
    {
     "name": "stdout",
     "output_type": "stream",
     "text": [
      "start: preprocessing: ...\n",
      "finised: preprocessing!\n"
     ]
    }
   ],
   "source": [
    "# Vorverarbeitung von Daten mit folgenden Schritten:\n",
    "textsloader.preprocess_texts(length_one_remove=True, punctuation_lower = True, stopwords_filter = True)"
   ]
  },
  {
   "cell_type": "code",
   "execution_count": 7,
   "metadata": {
    "colab": {
     "base_uri": "https://localhost:8080/"
    },
    "id": "PRRCNPa9qXfq",
    "outputId": "a6fe7b6e-c7bb-4bbd-e37d-4f19fbefecb8"
   },
   "outputs": [
    {
     "name": "stdout",
     "output_type": "stream",
     "text": [
      "test-document-frequency: \n",
      "[[55 55  5 ...  2  2  3]]\n",
      "vocab-size in df: 57326\n",
      "validation-size ist: 0.01\n",
      "start creating vocabulary ...\n",
      "length of the vocabulary: 54318\n",
      "sample ten words of the vocabulary: ['derangement', 'flaminio', 'ina', 'mkhyen', 'mese', 'actinides', 'byrnes', 'constrain', 'cas', 'errors']\n",
      "length word2id list: 54318\n",
      "length id2word list: 54318\n",
      "finished: creating vocabulary\n"
     ]
    }
   ],
   "source": [
    "# Daten zerlegen für Train, Test und Validation. Erstellen Vocabular aus dem Trainset\n",
    "min_df=2\n",
    "textsloader.split_and_create_voca_from_trainset(max_df=0.7, min_df=min_df, stopwords_remove_from_voca=True)"
   ]
  },
  {
   "cell_type": "markdown",
   "metadata": {
    "id": "YJ_A7LCsrQNO"
   },
   "source": [
    "# **LDA Model**\n",
    "\n",
    "Benutzen das fertige Paket von Gensim, um die Topics mit LDA zu finden: [LDA Model GENSIM](https://radimrehurek.com/gensim/models/ldamodel.html)\n",
    "Die Coherence werden mit den Evaluationscoden von Autoren erstmal getesten"
   ]
  },
  {
   "cell_type": "markdown",
   "metadata": {
    "id": "JIhys6HzRqNx"
   },
   "source": [
    "**evaluation-methode**"
   ]
  },
  {
   "cell_type": "code",
   "execution_count": 8,
   "metadata": {
    "id": "7OmBVDL4NIv7"
   },
   "outputs": [],
   "source": [
    "# code aus dem src.evaluierung.py\n",
    "import math\n",
    "\n",
    "def sameDoc(document,w1,w2):\n",
    "\tif w1 in document:\n",
    "\t\tif w2 in document:\n",
    "\t\t\treturn 1\n",
    "\t\telse:\n",
    "\t\t\treturn 0\n",
    "\telse:\n",
    "\t\treturn 0\n",
    "\n",
    "def coocurenceP(documents,w1,w2,anzDoc):\n",
    "\tp=0\n",
    "\tfor document in documents:\n",
    "\t\tp=p+(sameDoc(document,w1,w2)/anzDoc)\n",
    "\treturn p\n",
    "\n",
    "def marg(w,documents):\n",
    "\tanzwAll=0\n",
    "\tanzw=0\n",
    "\tfor document in documents:\n",
    "\t\tanzwAll=anzwAll+len(document)\n",
    "\t\tfor word in document:\n",
    "\t\t\tif w==word:\n",
    "\t\t\t\tanzw=anzw+1\n",
    "\n",
    "\treturn anzw/anzwAll\n",
    "def marg2(w,documents):\n",
    "\tanzw=0\n",
    "\tfor document in documents:\n",
    "\t\tif w in document:\n",
    "\t\t\tanzw=anzw+1\n",
    "\n",
    "\treturn anzw/len(documents)\n",
    "\n",
    "def pointwiseInf(documents,w1,w2,anzDoc,margBerechnung):\n",
    "\tif coocurenceP(documents,w1,w2,anzDoc)==0: \n",
    "\t\treturn -1\n",
    "\tif margBerechnung==1:\n",
    "\t\tf= math.log(coocurenceP(documents,w1,w2,anzDoc)/(marg(w1,documents)*marg(w2,documents)))/(-math.log(coocurenceP(documents,w1,w2,anzDoc)))\n",
    "\telse:\n",
    "\t\tf= math.log(coocurenceP(documents,w1,w2,anzDoc)/(marg2(w1,documents)*marg2(w2,documents)))/(-math.log(coocurenceP(documents,w1,w2,anzDoc)))\n",
    "\treturn f\n",
    "\n",
    "def topicCoherence(topicsWords,anzahlTopics,documents,anzDoc):\n",
    "\tc=0\n",
    "\tfor topicWords in topicsWords:\n",
    "\t\tfor i in range(10):\n",
    "\t\t\tfor j in range(i+1,10):\n",
    "\t\t\t\tc=c+pointwiseInf(documents,topicWords[i],topicWords[j],anzDoc,1)\n",
    "\tc=c/(45*anzahlTopics)\n",
    "\treturn c\n",
    "def topicCoherence2(topicsWords,anzahlTopics,documents,anzDoc):\n",
    "\tc=0\n",
    "\tfor topicWords in topicsWords:\n",
    "\t\tfor i in range(10):\n",
    "\t\t\tfor j in range(i+1,10):\n",
    "\t\t\t\tc=c+pointwiseInf(documents,topicWords[i],topicWords[j],anzDoc,2)\n",
    "\tc=c/(45*anzahlTopics)\n",
    "\treturn c\n",
    "def topicDiversity(topicsTopk):\n",
    "\tunique=[]\n",
    "\tgesamt=len(topicsTopk)*len(topicsTopk[0])\n",
    "\tfor topk in topicsTopk:\n",
    "\t\tfor word in topk:\n",
    "\t\t\tif not word in unique:\n",
    "\t\t\t\tunique.append(word)\n",
    "\tuniqueAnzahl= len(unique)\n",
    "\treturn uniqueAnzahl/gesamt"
   ]
  },
  {
   "cell_type": "markdown",
   "metadata": {
    "id": "TU3upB7qTSiQ"
   },
   "source": [
    "**topic modelling mit LDA**"
   ]
  },
  {
   "cell_type": "code",
   "execution_count": 9,
   "metadata": {
    "colab": {
     "base_uri": "https://localhost:8080/"
    },
    "id": "etzyjh_nqi19",
    "outputId": "1e9a68ef-b3f3-4fe5-fbe6-564387fbaf60",
    "scrolled": true
   },
   "outputs": [
    {
     "name": "stdout",
     "output_type": "stream",
     "text": [
      "train-size-after-all: 11214\n",
      "test-size-after-all: 7532\n",
      "validation-size-after-all: 100\n",
      "length train-documents-indices : 1420825\n",
      "length of the vocabulary: 54318\n",
      "\n",
      "\n",
      "start: creating bow representation...\n",
      "finised creating bow input!\n",
      "\n",
      "start: creating bow representation...\n",
      "finised creating bow input!\n",
      "\n",
      "start: creating bow representation...\n",
      "finised creating bow input!\n",
      "\n",
      "start: creating bow representation...\n",
      "finised creating bow input!\n",
      "\n",
      "start: creating bow representation...\n",
      "finised creating bow input!\n",
      "\n",
      "compact representation for LDA\n",
      "----------------------------------------------------------------------------------------------------\n",
      "['gestures', 'hamachi', 'thunderbirds', 'staffs', 'passions', 'cantva', 'southampton', 'shortcut', 'cgthree', 'trespassers']\n",
      "['hahietanen', 'natick', 'brzezinski', 'particulars', 'climb', 'yapping', 'texturing', 'miles', 'dastardly', 'rlinf']\n",
      "['gunshannon', 'ermenilerin', 'dispatch', 'displaymanager', 'rapidity', 'spiro', 'observational', 'erve', 'immunology', 'adorned']\n",
      "['muffle', 'resistant', 'rauser', 'implantation', 'researcher', 'realized', 'replies', 'enormously', 'ccscola', 'glimmered']\n",
      "['coll', 'reallocated', 'asymmetrical', 'menubutton', 'healed', 'kjznh', 'tempting', 'kephart', 'erics', 'softwar']\n",
      "['inocent', 'tightened', 'apprehended', 'eshnanie', 'evaded', 'dual', 'boomer', 'based', 'butzerd', 'spools']\n",
      "['pregnent', 'segmented', 'messrs', 'linder', 'unplug', 'mccullough', 'illustrator', 'proofreading', 'isas', 'gunshannon']\n",
      "['joysticks', 'atldbs', 'concentrate', 'centerville', 'lxy', 'aeronautics', 'lyuda', 'znl', 'blob', 'fff']\n",
      "['centerville', 'coos', 'conducting', 'nutritionist', 'happiest', 'croats', 'longitudes', 'recounted', 'upjohn', 'islamic']\n",
      "['dastardly', 'adorned', 'slanderous', 'escalation', 'natick', 'scasburn', 'doofe', 'reprogramming', 'losing', 'texturing']\n",
      "----------------------------------------------------------------------------------------------------\n"
     ]
    }
   ],
   "source": [
    "#from src.evaluierung import topicCoherence2\n",
    "from src.lda import lda\n",
    "from gensim.parsing.preprocessing import preprocess_string, strip_punctuation, strip_numeric\n",
    "from gensim.models.coherencemodel import CoherenceModel\n",
    "\n",
    "\n",
    "# Erstellen BOW-Repräsentation für LDA Model\n",
    "for_lda_model = True \n",
    "word2id, id2word, train_set, test_set, val_set = textsloader.create_bow_and_savebow_for_each_set(for_lda_model=for_lda_model)\n",
    "gensim_corpus_train_set = train_set\n",
    "\n",
    "docs_tr, docs_t, docs_v = textsloader.get_docs_in_words_for_each_set()\n",
    "#lda model\n",
    "print(100*\"-\")\n",
    "\n",
    "ldamodel = lda(train_set,10,id2word)\n",
    "lda_topics = ldamodel.show_topics(num_words=10)\n",
    "topics = []\n",
    "filters = [lambda x: x.lower(), strip_punctuation, strip_numeric]\n",
    "for topic in lda_topics:\n",
    "    #print(topic)\n",
    "    topics.append(preprocess_string(topic[1], filters))\n",
    "for topic in topics:\n",
    "  print(topic)\n",
    "print(100*\"-\")"
   ]
  },
  {
   "cell_type": "code",
   "execution_count": null,
   "metadata": {
    "colab": {
     "base_uri": "https://localhost:8080/"
    },
    "id": "NGW1D4k2TaPs",
    "outputId": "984b6e4f-3e17-4e54-ae4c-34d64332b221"
   },
   "outputs": [],
   "source": [
    "tc = topicCoherence2(topics,len(topics),docs_tr,len(docs_tr))\n",
    "print(f'own topic-coherrence: {tc}')"
   ]
  },
  {
   "cell_type": "markdown",
   "metadata": {
    "id": "swHlAK0GQ4d0"
   },
   "source": [
    "**Topic Coherrence of Authors**\n",
    "1. Für Vergleich Ergebnisse zwischen eigener TC und TC von Authoren\n",
    "2. Um die Evalutionsmethode von Autoren benutzen, mussen die entsprechenden Datenformaten erstellt. (Zeile 13)"
   ]
  },
  {
   "cell_type": "code",
   "execution_count": null,
   "metadata": {
    "colab": {
     "base_uri": "https://localhost:8080/"
    },
    "id": "DT3-JIS3LyzP",
    "outputId": "6ed1163c-4353-43e8-a7c1-95d81ecd141c"
   },
   "outputs": [],
   "source": [
    "# erstelllen die Daten nach ETM-Format damit man Author Evaluation benutzen kann\n",
    "word2id, id2word, train_set, test_set, val_set = textsloader.create_bow_and_savebow_for_each_set(for_lda_model=False)"
   ]
  },
  {
   "cell_type": "markdown",
   "metadata": {
    "id": "3s7I0BEP1e6f"
   },
   "source": [
    "# **LDA-gelernte-Topics-Coherence-Ergebnis**"
   ]
  },
  {
   "cell_type": "code",
   "execution_count": null,
   "metadata": {
    "colab": {
     "base_uri": "https://localhost:8080/"
    },
    "id": "89_JOBzpyiqX",
    "outputId": "5d078d9e-ae3e-46a1-803a-caa718232c54"
   },
   "outputs": [],
   "source": [
    "from src.evaluation_of_authors import get_topic_diversity_mod_for_lda, get_topic_coherence\n",
    "#topic LDA but evlauation of authors coherence\n",
    "top10words_topics = topics\n",
    "get_topic_coherence(list(train_set['tokens']), top10words_topics, word2id)"
   ]
  },
  {
   "cell_type": "code",
   "execution_count": null,
   "metadata": {
    "colab": {
     "base_uri": "https://localhost:8080/"
    },
    "id": "qU1gO8TNN6je",
    "outputId": "52d0e427-c286-45d9-f2b5-b2a4db3a0ceb"
   },
   "outputs": [],
   "source": [
    "topicsTopk = topics\n",
    "td = topicDiversity(topicsTopk)\n",
    "print(f'own diversity: {topicDiversity(topicsTopk)}')\n",
    "\n",
    "beta = topics \n",
    "topk = 10 #top words for each topic\n",
    "print(f'author diversity: {get_topic_diversity_mod_for_lda(beta, topk, word2id)}')\n",
    "print(f'quality result: {tc*td}')"
   ]
  },
  {
   "cell_type": "markdown",
   "metadata": {
    "id": "_e4-RQrsw1Ct"
   },
   "source": [
    "# **Data for ETM**\n",
    "\n",
    "\n",
    "\n",
    "1.   Input Daten für der ersten Teil ETM ist (normalisierte)Bag-Of-Words-Repräsentation\n",
    "2.   textsloader.create_bow_and_savebow_for_each_set(for_lda_model=True) stellt die folgenden Daten für das Modell:\n",
    "\n",
    "*   word2id\n",
    "*   id2word\n",
    "*   train_set, test_set, val_set in der Form von BoW"
   ]
  },
  {
   "cell_type": "code",
   "execution_count": 12,
   "metadata": {
    "colab": {
     "base_uri": "https://localhost:8080/"
    },
    "id": "SJPDsdmMqbmf",
    "outputId": "7092a476-d78e-4f6d-9494-eb05f0032a8e"
   },
   "outputs": [
    {
     "name": "stdout",
     "output_type": "stream",
     "text": [
      "train-size-after-all: 11214\n",
      "test-size-after-all: 7532\n",
      "validation-size-after-all: 100\n",
      "length train-documents-indices : 1420825\n",
      "length of the vocabulary: 54318\n",
      "\n",
      "\n",
      "start: creating bow representation...\n",
      "finised creating bow input!\n",
      "\n",
      "start: creating bow representation...\n",
      "finised creating bow input!\n",
      "\n",
      "start: creating bow representation...\n",
      "finised creating bow input!\n",
      "\n",
      "start: creating bow representation...\n",
      "finised creating bow input!\n",
      "\n",
      "start: creating bow representation...\n",
      "finised creating bow input!\n",
      "\n",
      "some id2word befor saving: [0, 1, 2, 3, 4, 5, 6, 7, 8, 9, 10, 11, 12, 13, 14, 15, 16, 17, 18, 19]\n"
     ]
    }
   ],
   "source": [
    "# Erstellen BOW-Repräsentation für ETM Modell\n",
    "for_lda_model = False\n",
    "word2id, id2word, train_set, test_set, val_set = textsloader.create_bow_and_savebow_for_each_set(for_lda_model=for_lda_model)"
   ]
  },
  {
   "cell_type": "markdown",
   "metadata": {
    "id": "r-DXUMguC8zM"
   },
   "source": [
    "**Vocabular und IDs anzeigen als Beispiel**\n",
    "\n",
    "---\n",
    "\n",
    "\n",
    "\n"
   ]
  },
  {
   "cell_type": "code",
   "execution_count": 13,
   "metadata": {
    "colab": {
     "base_uri": "https://localhost:8080/",
     "height": 424
    },
    "id": "6RBJYhLHCfwy",
    "outputId": "c1e7db47-a445-480d-ed47-f9d95a81f531"
   },
   "outputs": [
    {
     "data": {
      "text/html": [
       "<div>\n",
       "<style scoped>\n",
       "    .dataframe tbody tr th:only-of-type {\n",
       "        vertical-align: middle;\n",
       "    }\n",
       "\n",
       "    .dataframe tbody tr th {\n",
       "        vertical-align: top;\n",
       "    }\n",
       "\n",
       "    .dataframe thead th {\n",
       "        text-align: right;\n",
       "    }\n",
       "</style>\n",
       "<table border=\"1\" class=\"dataframe\">\n",
       "  <thead>\n",
       "    <tr style=\"text-align: right;\">\n",
       "      <th></th>\n",
       "      <th>word</th>\n",
       "      <th>id</th>\n",
       "    </tr>\n",
       "  </thead>\n",
       "  <tbody>\n",
       "    <tr>\n",
       "      <th>0</th>\n",
       "      <td>antennas</td>\n",
       "      <td>0</td>\n",
       "    </tr>\n",
       "    <tr>\n",
       "      <th>1</th>\n",
       "      <td>guide</td>\n",
       "      <td>1</td>\n",
       "    </tr>\n",
       "    <tr>\n",
       "      <th>2</th>\n",
       "      <td>uterine</td>\n",
       "      <td>2</td>\n",
       "    </tr>\n",
       "    <tr>\n",
       "      <th>3</th>\n",
       "      <td>wesbrook</td>\n",
       "      <td>3</td>\n",
       "    </tr>\n",
       "    <tr>\n",
       "      <th>4</th>\n",
       "      <td>manifestation</td>\n",
       "      <td>4</td>\n",
       "    </tr>\n",
       "    <tr>\n",
       "      <th>...</th>\n",
       "      <td>...</td>\n",
       "      <td>...</td>\n",
       "    </tr>\n",
       "    <tr>\n",
       "      <th>95</th>\n",
       "      <td>vii</td>\n",
       "      <td>95</td>\n",
       "    </tr>\n",
       "    <tr>\n",
       "      <th>96</th>\n",
       "      <td>cleo</td>\n",
       "      <td>96</td>\n",
       "    </tr>\n",
       "    <tr>\n",
       "      <th>97</th>\n",
       "      <td>logical</td>\n",
       "      <td>97</td>\n",
       "    </tr>\n",
       "    <tr>\n",
       "      <th>98</th>\n",
       "      <td>bressler</td>\n",
       "      <td>98</td>\n",
       "    </tr>\n",
       "    <tr>\n",
       "      <th>99</th>\n",
       "      <td>bodywork</td>\n",
       "      <td>99</td>\n",
       "    </tr>\n",
       "  </tbody>\n",
       "</table>\n",
       "<p>100 rows × 2 columns</p>\n",
       "</div>"
      ],
      "text/plain": [
       "             word  id\n",
       "0        antennas   0\n",
       "1           guide   1\n",
       "2         uterine   2\n",
       "3        wesbrook   3\n",
       "4   manifestation   4\n",
       "..            ...  ..\n",
       "95            vii  95\n",
       "96           cleo  96\n",
       "97        logical  97\n",
       "98       bressler  98\n",
       "99       bodywork  99\n",
       "\n",
       "[100 rows x 2 columns]"
      ]
     },
     "execution_count": 13,
     "metadata": {},
     "output_type": "execute_result"
    }
   ],
   "source": [
    "# show for samples: 100 word2id and id2 word\n",
    "word2id_df_100 = pd.DataFrame()\n",
    "word2id_df_100['word'] = list(word2id.keys())[:100]\n",
    "word2id_df_100['id'] = list(word2id.values())[:100]\n",
    "word2id_df_100"
   ]
  },
  {
   "cell_type": "markdown",
   "metadata": {
    "id": "tupeI6Pw85_L"
   },
   "source": [
    "#**Die Größe von Datensätzen kontrollieren**"
   ]
  },
  {
   "cell_type": "code",
   "execution_count": 14,
   "metadata": {
    "colab": {
     "base_uri": "https://localhost:8080/"
    },
    "id": "n1d-5ji3qwE8",
    "outputId": "f16c6d66-a3c6-4790-adcf-efe3eda97285"
   },
   "outputs": [
    {
     "name": "stdout",
     "output_type": "stream",
     "text": [
      "Size of the vocabulary after prprocessing ist: 54318\n",
      "Size of train set: 11214\n",
      "Size of val set: 100\n",
      "Size of test set: 7532\n"
     ]
    }
   ],
   "source": [
    "# Kontrollieren die Größen von verschiedenen Datensätzen\n",
    "print(f'Size of the vocabulary after prprocessing ist: {len(textsloader.vocabulary)}')\n",
    "print(f'Size of train set: {len(train_set[\"tokens\"])}')\n",
    "print(f'Size of val set: {len(val_set[\"tokens\"])}')\n",
    "print(f'Size of test set: {len(test_set[\"test\"][\"tokens\"])}')"
   ]
  },
  {
   "cell_type": "markdown",
   "metadata": {
    "id": "Zxp-VHSJ3bcp"
   },
   "source": [
    "# **Word-Embedding: Word2Vec mit Skipgramm/CBOW**"
   ]
  },
  {
   "cell_type": "markdown",
   "metadata": {
    "id": "bxQL5jQtDb1c"
   },
   "source": [
    "**Dokumenten wiederstellen für Word2Vec Embedding**\n",
    "\n",
    "\n",
    "\n",
    "1.   Da wir Embeddings für jedes Wort des Vocabulares (das Vocab nur aus dem Trainset) trainieren möchten, brauchen die Train_set (Dokumenten in Wörtern)\n",
    "2.   Wir trainieren Wort-Embedding für jedes Wort mit Skipgram Methode (die Autoren benutzten Skipgram. Sie stellen nur über CBOW in dem Hintergrund vor, aber sie benutzen tatsächlich Skipgram)\n",
    "3.   Trainierensetting = Word2Vec (siehe [Word2Vec-Tomas Mikolov](https://arxiv.org/pdf/1310.4546.pdf))\n",
    "\n"
   ]
  },
  {
   "cell_type": "code",
   "execution_count": 15,
   "metadata": {
    "colab": {
     "base_uri": "https://localhost:8080/",
     "height": 424
    },
    "id": "PDXEEBHfq3Cy",
    "outputId": "7d0a89c2-8774-4ba0-c679-39cbd62a1978"
   },
   "outputs": [
    {
     "data": {
      "text/html": [
       "<div>\n",
       "<style scoped>\n",
       "    .dataframe tbody tr th:only-of-type {\n",
       "        vertical-align: middle;\n",
       "    }\n",
       "\n",
       "    .dataframe tbody tr th {\n",
       "        vertical-align: top;\n",
       "    }\n",
       "\n",
       "    .dataframe thead th {\n",
       "        text-align: right;\n",
       "    }\n",
       "</style>\n",
       "<table border=\"1\" class=\"dataframe\">\n",
       "  <thead>\n",
       "    <tr style=\"text-align: right;\">\n",
       "      <th></th>\n",
       "      <th>text-after-preprocessing</th>\n",
       "    </tr>\n",
       "  </thead>\n",
       "  <tbody>\n",
       "    <tr>\n",
       "      <th>0</th>\n",
       "      <td>biochem nwu jackson swimming pool defense nntp...</td>\n",
       "    </tr>\n",
       "    <tr>\n",
       "      <th>1</th>\n",
       "      <td>goykhman apollo hp red herring police state us...</td>\n",
       "    </tr>\n",
       "    <tr>\n",
       "      <th>2</th>\n",
       "      <td>hades coos dartmouth brian hughes installing r...</td>\n",
       "    </tr>\n",
       "    <tr>\n",
       "      <th>3</th>\n",
       "      <td>jaeger buphy bu gregg jaeger inimitable rushdi...</td>\n",
       "    </tr>\n",
       "    <tr>\n",
       "      <th>4</th>\n",
       "      <td>sysmgr king eng umd doug mohney boom whoosh co...</td>\n",
       "    </tr>\n",
       "    <tr>\n",
       "      <th>...</th>\n",
       "      <td>...</td>\n",
       "    </tr>\n",
       "    <tr>\n",
       "      <th>95</th>\n",
       "      <td>rcampbel weejordy physics mun ca roderick camp...</td>\n",
       "    </tr>\n",
       "    <tr>\n",
       "      <th>96</th>\n",
       "      <td>jiml strauss ftcollinsco ncr jim sharp parts i...</td>\n",
       "    </tr>\n",
       "    <tr>\n",
       "      <th>97</th>\n",
       "      <td>sera zuma serdar argic nazi germany armenians ...</td>\n",
       "    </tr>\n",
       "    <tr>\n",
       "      <th>98</th>\n",
       "      <td>chips astro ocis temple charlie mathew bible r...</td>\n",
       "    </tr>\n",
       "    <tr>\n",
       "      <th>99</th>\n",
       "      <td>loss ece cmu doug loss crazy imaginitive elect...</td>\n",
       "    </tr>\n",
       "  </tbody>\n",
       "</table>\n",
       "<p>100 rows × 1 columns</p>\n",
       "</div>"
      ],
      "text/plain": [
       "                             text-after-preprocessing\n",
       "0   biochem nwu jackson swimming pool defense nntp...\n",
       "1   goykhman apollo hp red herring police state us...\n",
       "2   hades coos dartmouth brian hughes installing r...\n",
       "3   jaeger buphy bu gregg jaeger inimitable rushdi...\n",
       "4   sysmgr king eng umd doug mohney boom whoosh co...\n",
       "..                                                ...\n",
       "95  rcampbel weejordy physics mun ca roderick camp...\n",
       "96  jiml strauss ftcollinsco ncr jim sharp parts i...\n",
       "97  sera zuma serdar argic nazi germany armenians ...\n",
       "98  chips astro ocis temple charlie mathew bible r...\n",
       "99  loss ece cmu doug loss crazy imaginitive elect...\n",
       "\n",
       "[100 rows x 1 columns]"
      ]
     },
     "execution_count": 15,
     "metadata": {},
     "output_type": "execute_result"
    }
   ],
   "source": [
    "# re-erstellen von Dokumenten nach der Vorverarbeitungen. Die Dokumenten sind in Wörtern und werden für Word-Embedding Training benutzt\n",
    "docs_tr, docs_t, docs_v = textsloader.get_docs_in_words_for_each_set()\n",
    "train_docs_df = pd.DataFrame()\n",
    "train_docs_df['text-after-preprocessing'] = [' '.join(doc) for doc in docs_tr[:100]]\n",
    "train_docs_df"
   ]
  },
  {
   "cell_type": "markdown",
   "metadata": {
    "id": "Ds_KuUTQrK5P"
   },
   "source": [
    "**Word-Embedding trainieren mit dem Traindatensatz und gespeichert für ETM später**"
   ]
  },
  {
   "cell_type": "code",
   "execution_count": 19,
   "metadata": {
    "colab": {
     "base_uri": "https://localhost:8080/"
    },
    "id": "nbfgY13HJI4L",
    "outputId": "7a0f92ad-178d-4690-fd88-53274ed04f38"
   },
   "outputs": [
    {
     "name": "stdout",
     "output_type": "stream",
     "text": [
      "train begin:word-embedding with skipgram\n"
     ]
    },
    {
     "ename": "TypeError",
     "evalue": "__init__() got an unexpected keyword argument 'size'",
     "output_type": "error",
     "traceback": [
      "\u001b[1;31m---------------------------------------------------------------------------\u001b[0m",
      "\u001b[1;31mTypeError\u001b[0m                                 Traceback (most recent call last)",
      "\u001b[1;32mC:\\Users\\ELISAB~1\\AppData\\Local\\Temp/ipykernel_10136/1293634915.py\u001b[0m in \u001b[0;36m<module>\u001b[1;34m\u001b[0m\n\u001b[0;32m      7\u001b[0m \u001b[1;33m\u001b[0m\u001b[0m\n\u001b[0;32m      8\u001b[0m \u001b[0mwb_creator\u001b[0m \u001b[1;33m=\u001b[0m \u001b[0mWordEmbeddingCreator\u001b[0m\u001b[1;33m(\u001b[0m\u001b[0mmodel_name\u001b[0m\u001b[1;33m=\u001b[0m\u001b[1;34m\"skipgram\"\u001b[0m\u001b[1;33m,\u001b[0m \u001b[0mdocuments\u001b[0m \u001b[1;33m=\u001b[0m \u001b[0mdocs_tr\u001b[0m\u001b[1;33m,\u001b[0m \u001b[0msave_path\u001b[0m\u001b[1;33m=\u001b[0m \u001b[0msave_path\u001b[0m\u001b[1;33m)\u001b[0m\u001b[1;33m\u001b[0m\u001b[1;33m\u001b[0m\u001b[0m\n\u001b[1;32m----> 9\u001b[1;33m \u001b[0mwb_creator\u001b[0m\u001b[1;33m.\u001b[0m\u001b[0mtrain\u001b[0m\u001b[1;33m(\u001b[0m\u001b[0mmin_count\u001b[0m\u001b[1;33m=\u001b[0m\u001b[1;36m0\u001b[0m\u001b[1;33m,\u001b[0m \u001b[0membedding_size\u001b[0m\u001b[1;33m=\u001b[0m \u001b[1;36m300\u001b[0m\u001b[1;33m)\u001b[0m\u001b[1;33m\u001b[0m\u001b[1;33m\u001b[0m\u001b[0m\n\u001b[0m\u001b[0;32m     10\u001b[0m \u001b[0mvocab\u001b[0m \u001b[1;33m=\u001b[0m \u001b[0mlist\u001b[0m\u001b[1;33m(\u001b[0m\u001b[0mword2id\u001b[0m\u001b[1;33m.\u001b[0m\u001b[0mkeys\u001b[0m\u001b[1;33m(\u001b[0m\u001b[1;33m)\u001b[0m\u001b[1;33m)\u001b[0m\u001b[1;33m\u001b[0m\u001b[1;33m\u001b[0m\u001b[0m\n",
      "\u001b[1;32m~\\source\\repos\\replication-topic-modelling-in-embedding-space\\src\\embedding.py\u001b[0m in \u001b[0;36mtrain\u001b[1;34m(self, min_count, embedding_size)\u001b[0m\n\u001b[0;32m    117\u001b[0m             \u001b[1;32melif\u001b[0m \u001b[0mself\u001b[0m\u001b[1;33m.\u001b[0m\u001b[0mmodel_name\u001b[0m\u001b[1;33m==\u001b[0m\u001b[1;34m\"skipgram\"\u001b[0m\u001b[1;33m:\u001b[0m\u001b[1;33m\u001b[0m\u001b[1;33m\u001b[0m\u001b[0m\n\u001b[0;32m    118\u001b[0m                   \u001b[0mprint\u001b[0m\u001b[1;33m(\u001b[0m\u001b[1;34m\"train begin:word-embedding with skipgram\"\u001b[0m\u001b[1;33m)\u001b[0m\u001b[1;33m\u001b[0m\u001b[1;33m\u001b[0m\u001b[0m\n\u001b[1;32m--> 119\u001b[1;33m                   self.model = gensim.models.Word2Vec(self.documents, \n\u001b[0m\u001b[0;32m    120\u001b[0m                                                       \u001b[0mseed\u001b[0m \u001b[1;33m=\u001b[0m \u001b[1;36m42\u001b[0m\u001b[1;33m,\u001b[0m\u001b[1;33m\u001b[0m\u001b[1;33m\u001b[0m\u001b[0m\n\u001b[0;32m    121\u001b[0m                                                       \u001b[0mmin_count\u001b[0m\u001b[1;33m=\u001b[0m\u001b[0mmin_count\u001b[0m\u001b[1;33m,\u001b[0m\u001b[1;33m\u001b[0m\u001b[1;33m\u001b[0m\u001b[0m\n",
      "\u001b[1;31mTypeError\u001b[0m: __init__() got an unexpected keyword argument 'size'"
     ]
    }
   ],
   "source": [
    "from src.embedding import WordEmbeddingCreator\n",
    "from pathlib import Path\n",
    "\n",
    "save_path = Path.joinpath(Path.cwd(), f'prepared_data/min_df_{min_df}')\n",
    "figures_path = Path.joinpath(Path.cwd(), f'figures/min_df_{min_df}')\n",
    "Path(figures_path).mkdir(parents=True, exist_ok=True)\n",
    "\n",
    "wb_creator = WordEmbeddingCreator(model_name=\"skipgram\", documents = docs_tr, save_path= save_path)\n",
    "wb_creator.train(min_count=0, embedding_size= 300)\n",
    "vocab = list(word2id.keys())"
   ]
  },
  {
   "cell_type": "code",
   "execution_count": 17,
   "metadata": {
    "colab": {
     "base_uri": "https://localhost:8080/"
    },
    "id": "mkHt4x7LJOEt",
    "outputId": "5168c313-3c4a-4c4f-b76a-3e9c53133100"
   },
   "outputs": [
    {
     "ename": "NameError",
     "evalue": "name 'vocab' is not defined",
     "output_type": "error",
     "traceback": [
      "\u001b[1;31m---------------------------------------------------------------------------\u001b[0m",
      "\u001b[1;31mNameError\u001b[0m                                 Traceback (most recent call last)",
      "\u001b[1;32mC:\\Users\\ELISAB~1\\AppData\\Local\\Temp/ipykernel_10136/394697285.py\u001b[0m in \u001b[0;36m<module>\u001b[1;34m\u001b[0m\n\u001b[1;32m----> 1\u001b[1;33m \u001b[0mwb_creator\u001b[0m\u001b[1;33m.\u001b[0m\u001b[0mcreate_and_save_vocab_embedding\u001b[0m\u001b[1;33m(\u001b[0m\u001b[0mvocab\u001b[0m\u001b[1;33m,\u001b[0m \u001b[0msave_path\u001b[0m\u001b[1;33m)\u001b[0m\u001b[1;33m\u001b[0m\u001b[1;33m\u001b[0m\u001b[0m\n\u001b[0m",
      "\u001b[1;31mNameError\u001b[0m: name 'vocab' is not defined"
     ]
    }
   ],
   "source": [
    "wb_creator.create_and_save_vocab_embedding(vocab, save_path)"
   ]
  },
  {
   "cell_type": "markdown",
   "metadata": {
    "id": "ro0u2Mfj4Okg"
   },
   "source": [
    "**kurze Visualierung von Wortembeddings mit UMAP (UMAP werden die Embeddings zu 2D reduziert. KMeans wurden benutzen, um zu sehen, wie die Clusters von Wörtern aussehen - nur zu sehen, nicht zu dem Paper gehören)**"
   ]
  },
  {
   "cell_type": "code",
   "execution_count": 18,
   "metadata": {
    "colab": {
     "base_uri": "https://localhost:8080/",
     "height": 701
    },
    "id": "KBexKIVf8Qs5",
    "outputId": "0d5ad8ab-cdad-4477-af53-6731a2049efe"
   },
   "outputs": [
    {
     "ename": "FileNotFoundError",
     "evalue": "[Errno 2] No such file or directory: 'C:\\\\Users\\\\Elisabeth\\\\source\\\\repos\\\\replication-topic-modelling-in-embedding-space\\\\prepared_data\\\\min_df_2\\\\skipgram_vocab_embedding.txt'",
     "output_type": "error",
     "traceback": [
      "\u001b[1;31m---------------------------------------------------------------------------\u001b[0m",
      "\u001b[1;31mFileNotFoundError\u001b[0m                         Traceback (most recent call last)",
      "\u001b[1;32mC:\\Users\\ELISAB~1\\AppData\\Local\\Temp/ipykernel_10136/1895263069.py\u001b[0m in \u001b[0;36m<module>\u001b[1;34m\u001b[0m\n\u001b[1;32m----> 1\u001b[1;33m \u001b[0mwb_creator\u001b[0m\u001b[1;33m.\u001b[0m\u001b[0mcluster_words\u001b[0m\u001b[1;33m(\u001b[0m\u001b[0msave_path\u001b[0m\u001b[1;33m,\u001b[0m \u001b[0mfigures_path\u001b[0m\u001b[1;33m,\u001b[0m \u001b[0mn_components\u001b[0m\u001b[1;33m=\u001b[0m\u001b[1;36m2\u001b[0m\u001b[1;33m,\u001b[0m \u001b[0mtext\u001b[0m \u001b[1;33m=\u001b[0m \u001b[1;32mFalse\u001b[0m\u001b[1;33m)\u001b[0m\u001b[1;33m\u001b[0m\u001b[1;33m\u001b[0m\u001b[0m\n\u001b[0m",
      "\u001b[1;32m~\\source\\repos\\replication-topic-modelling-in-embedding-space\\src\\embedding.py\u001b[0m in \u001b[0;36mcluster_words\u001b[1;34m(self, embedding_save_path, fig_path, n_components, text)\u001b[0m\n\u001b[0;32m    206\u001b[0m \u001b[1;33m\u001b[0m\u001b[0m\n\u001b[0;32m    207\u001b[0m             \u001b[1;31m# read embedding from file\u001b[0m\u001b[1;33m\u001b[0m\u001b[1;33m\u001b[0m\u001b[0m\n\u001b[1;32m--> 208\u001b[1;33m             \u001b[1;32mwith\u001b[0m \u001b[0mopen\u001b[0m\u001b[1;33m(\u001b[0m\u001b[0mPath\u001b[0m\u001b[1;33m.\u001b[0m\u001b[0mjoinpath\u001b[0m\u001b[1;33m(\u001b[0m\u001b[0membedding_save_path\u001b[0m\u001b[1;33m,\u001b[0m \u001b[1;34mf'{self.model_name}_vocab_embedding.txt'\u001b[0m\u001b[1;33m)\u001b[0m\u001b[1;33m)\u001b[0m \u001b[1;32mas\u001b[0m \u001b[0mf\u001b[0m\u001b[1;33m:\u001b[0m\u001b[1;33m\u001b[0m\u001b[1;33m\u001b[0m\u001b[0m\n\u001b[0m\u001b[0;32m    209\u001b[0m               \u001b[0mlines\u001b[0m \u001b[1;33m=\u001b[0m \u001b[0mf\u001b[0m\u001b[1;33m.\u001b[0m\u001b[0mreadlines\u001b[0m\u001b[1;33m(\u001b[0m\u001b[1;33m)\u001b[0m\u001b[1;33m\u001b[0m\u001b[1;33m\u001b[0m\u001b[0m\n\u001b[0;32m    210\u001b[0m             \u001b[0membedding_data\u001b[0m \u001b[1;33m=\u001b[0m \u001b[1;33m[\u001b[0m\u001b[1;33m]\u001b[0m\u001b[1;33m\u001b[0m\u001b[1;33m\u001b[0m\u001b[0m\n",
      "\u001b[1;31mFileNotFoundError\u001b[0m: [Errno 2] No such file or directory: 'C:\\\\Users\\\\Elisabeth\\\\source\\\\repos\\\\replication-topic-modelling-in-embedding-space\\\\prepared_data\\\\min_df_2\\\\skipgram_vocab_embedding.txt'"
     ]
    }
   ],
   "source": [
    "wb_creator.cluster_words(save_path, figures_path, n_components=2, text = False)"
   ]
  },
  {
   "cell_type": "markdown",
   "metadata": {
    "id": "IX71GZIF4svz"
   },
   "source": [
    "**Testen ein paar Word-Embeddings and ähnliche semantische Wörter**"
   ]
  },
  {
   "cell_type": "code",
   "execution_count": null,
   "metadata": {
    "colab": {
     "base_uri": "https://localhost:8080/"
    },
    "id": "f23xipx7MSV4",
    "outputId": "99f46661-7753-42c3-b7ed-b674874c0c45"
   },
   "outputs": [
    {
     "name": "stdout",
     "output_type": "stream",
     "text": [
      "word-embedding of the word-- biochem: \n",
      "vector: [-0.0044030165, -0.062945396, 0.059057925, 0.09432008, 0.014753671, 0.13562776, 0.027062528, 0.08969826, 0.03977401, 0.059560463, 0.007438592, 0.06781824, -0.11065228, 0.09562237, -0.026935732, 0.09153216, -0.08648166, 0.08688795, -0.13898402, 0.054825686, 0.0646339, -0.1517343, 0.120555036, 0.012245738, 0.06865608, -0.005759559, -0.01396059, 0.0022945325, 0.032276243, 0.012240125, 0.08355132, 0.007527143, 0.093040496, -0.07503241, 0.044412345, -0.09050691, -0.13326873, -0.09588654, 0.11826373, -0.050355013, 0.026288973, -0.0770273, 0.11234316, 0.037923574, -0.010356371, -0.012168984, 0.11089063, -0.025471635, -0.10056408, 0.027742015, -0.05409284, 0.023386506, 0.06573878, 0.15884927, -0.068245634, -0.16331097, 0.18709303, -0.15611006, -0.06992777, 0.13849856, 0.06513344, -0.036962267, 0.119330384, 0.11842462, -0.06839546, 0.039156288, 0.06670653, 0.10472057, 0.08881643, 0.08046218, 0.12892982, -0.068479106, 0.093915746, -0.018819228, -0.033046614, 0.013754359, 0.041482765, 0.12103492, 0.13005003, -0.0029108238, 0.13701385, 0.026225874, -0.030904597, -0.009411366, 0.01967325, -0.010392072, 0.04390547, -0.047731426, -0.13141738, -0.1983635, -0.07331548, 0.0018371985, 0.039524097, 0.09851911, 0.11038597, 0.055929832, -0.11853438, -0.019371511, -0.1562223, 0.014410337, 0.0109413, 0.016623814, -0.057089902, 0.024237309, 0.019686047, -0.013668573, 0.03970131, -0.07119167, 0.10398644, -0.12652811, -0.06029603, -0.09505771, 0.03662217, 0.046304982, 0.0948749, 0.08439774, -0.029714415, -0.007529836, -0.017832119, -0.081740126, 0.017982185, -0.056871545, -0.12813844, -0.021538408, -0.015225825, -0.050181106, 0.14424355, 0.08430818, -0.15822354, 0.025339322, -0.11381055, 0.009342402, 0.041055102, -0.15845522, 0.123038456, -0.032487117, 0.0067328117, 0.1274007, 0.05304775, 0.008928859, 0.034006737, -0.122153014, -0.00031461145, -0.055147175, -0.07502239, -0.051631365, -0.018596288, -0.054124564, -0.028575625, 0.060718644, 0.030304594, -0.05387316, 0.025763892, -0.12900709, -0.06497997, 0.0067310953, -0.044745408, 0.03191439, 0.13290861, -0.030451868, 0.06404936, 0.12811391, -0.057281494, -0.090605415, 0.06631728, 0.13317065, 0.07491123, -0.0066477163, -0.06921355, 0.16264445, -0.120440185, -0.057429228, -0.148728, 0.011548167, -0.0087638935, 0.029756341, 0.04538177, 0.02410327, -0.046240952, -0.08681777, 0.12532358, -0.011227186, -0.19251746, 0.030191772, -0.17348547, 0.027854364, 0.09144321, -0.0014377617, -0.0050038146, -0.03259437, -0.08537216, -0.061417397, 0.06358575, 0.0020456593, -0.05118263, 0.1954828, 0.010881718, 0.022591297, 0.0153002655, 0.13756263, -0.06364732, -0.06784999, 0.03697182, -0.051022585, 0.061699502, -0.09470591, -0.13454318, 0.041492693, 0.050385997, -0.016194144, 0.056956433, -0.0023715012, -0.08618613, 0.11342746, -0.076681845, 0.16483602, 0.068501405, -0.024089111, 0.05203481, -0.010387477, -0.17112395, -0.006289844, -0.0923213, 0.21718659, 0.03613072, -0.11603819, 0.10413293, 0.10097507, 0.040761415, 0.09386956, 0.0807855, -0.041935712, 0.10439232, 0.018597294, -0.032404996, 0.09110058, 0.02628843, -0.0015381714, -0.119409196, 0.0013991998, 0.026913408, 0.10944454, 0.121324755, -0.060252223, 0.0065372577, 0.15760082, 0.0112543935, -0.0338927, -0.0102973115, 0.06865578, -0.010446155, 0.0030093112, -0.090825796, -0.016020441, 0.14725962, -0.13185541, -0.008493566, 0.031167483, 0.04282123, 0.056437735, -0.04163337, -0.05758493, -0.03187685, -0.062811054, -0.047259405, -0.07931158, -0.084369786, -0.013462037, -0.014112706, 0.07466943, 0.09257573, 0.008406363, -0.011789915, -0.053632714, 0.072666384, 0.06318831, -0.060217496, 0.09206995, -0.03426395, -0.094005086, 0.07250114, -0.09826757, -0.049983315, -0.056405474, 0.034404382, 0.17888524, 0.044917725, -0.020976542, 0.051693287, -0.0070489165, 0.081534706, -0.025371363, 0.040195696, -0.038423143, -0.1191716, 0.017316468, 0.036591396, -0.10891265, 0.08961377, -0.13997605]\n",
      "dim of vector: 300\n"
     ]
    }
   ],
   "source": [
    "v = list(wb_creator.model.wv.vocab)[0]\n",
    "vec = list(wb_creator.model.wv.__getitem__(v))\n",
    "print(f'word-embedding of the word-- {v}: ')\n",
    "print(f'vector: {vec}')\n",
    "print(f'dim of vector: {len(vec)}')"
   ]
  },
  {
   "cell_type": "code",
   "execution_count": null,
   "metadata": {
    "colab": {
     "base_uri": "https://localhost:8080/"
    },
    "id": "tQiOlGpaYutd",
    "outputId": "1ead3e83-8851-400d-d14c-4a4a990aa033"
   },
   "outputs": [
    {
     "name": "stdout",
     "output_type": "stream",
     "text": [
      "neighbor words of some sample selected words\n",
      "neighbor of word episcopalian\n",
      "['genuineness', 'discourse', 'concentrating', 'indicative', 'reconsider']\n",
      "[0.9644031524658203, 0.9561975002288818, 0.953492283821106, 0.9529188275337219, 0.9526411294937134]\n",
      "----------------------------------------------------------------------------------------------------\n",
      "neighbor of word decalogue\n",
      "['canonicity', 'modalistic', 'deepen', 'calvinists', 'italics']\n",
      "[0.9551892280578613, 0.9546600580215454, 0.9545516967773438, 0.9532839059829712, 0.952874481678009]\n",
      "----------------------------------------------------------------------------------------------------\n",
      "neighbor of word echl\n",
      "['ihl', 'tikkanen', 'waffles', 'malmo', 'unassisted']\n",
      "[0.9619693756103516, 0.9460580945014954, 0.9413374066352844, 0.9388843774795532, 0.938644289970398]\n",
      "----------------------------------------------------------------------------------------------------\n",
      "neighbor of word joakimr\n",
      "['muttiah', 'mmwang', 'cville', 'vergolin', 'vuse']\n",
      "[0.9798648953437805, 0.9787870049476624, 0.978547990322113, 0.9775881767272949, 0.9769867658615112]\n",
      "----------------------------------------------------------------------------------------------------\n",
      "neighbor of word kay\n",
      "['npet', 'pres', 'tominatr', 'jmorriso', 'sharnoff']\n",
      "[0.9383748769760132, 0.9142969846725464, 0.9096112251281738, 0.9068325161933899, 0.9049925804138184]\n",
      "----------------------------------------------------------------------------------------------------\n"
     ]
    }
   ],
   "source": [
    "print(\"neighbor words of some sample selected words\")\n",
    "for i in range(0,5):\n",
    "      print(f'neighbor of word {vocab[i]}')\n",
    "      print([r[0] for r in wb_creator.find_most_similar_words(n_neighbor=5, word=vocab[i])])\n",
    "      print([r[1] for r in wb_creator.find_most_similar_words(n_neighbor=5, word=vocab[i])])\n",
    "      print(100*\"-\")"
   ]
  },
  {
   "cell_type": "markdown",
   "metadata": {
    "id": "TC5kBgTeYANQ"
   },
   "source": [
    "# **BERT-Embedding**\n",
    "1. Bert-Embedding wurde in einem anderen Prozess durchgeführt\n",
    "2. Bert-Embedding wurde in dem `prepared_data/bert_vocab_embedding.txt` gespeichert"
   ]
  },
  {
   "cell_type": "code",
   "execution_count": 1,
   "metadata": {
    "id": "3S78BQlyYEFC"
   },
   "outputs": [],
   "source": [
    "#run bert_main.py\n",
    "#dieser Teil wegen der Laufzeit werden separat durchgeführt. Die Vocab-Embeddings wurde gespeichert und kann geladen und benutzt.\n",
    "#bert_vocab_embedding.txt in prepared_data"
   ]
  },
  {
   "cell_type": "markdown",
   "metadata": {
    "id": "N5maMEBKXUnu"
   },
   "source": [
    "# **Vergleichen zwischen Skipgramm und Bert-Embeddings**"
   ]
  },
  {
   "cell_type": "code",
   "execution_count": null,
   "metadata": {
    "id": "jHCYhIA4XtML"
   },
   "outputs": [],
   "source": []
  },
  {
   "cell_type": "markdown",
   "metadata": {
    "id": "P9jSI12r9zqu"
   },
   "source": [
    "# **ETM Model**\n",
    "\n",
    "ETM hat die ähnliche Architektur eines Variational Autoencoders (Encoder für Sampling latent Repräsentation von Dokument) und (Decoder: eigenlich nur das Produkt von doc-over-topics und topic-over-vocabulary)\n",
    "\n",
    "ETM wird mit den pretrainierten Embedding kombiniert. Die Embeddings für Topics werden als Gewichten eines Teiles des Netzes aktualiert mittels der negative-ELBO (Reconstruction-Loss + KLD Loss)\n",
    "\n",
    "\n",
    "![ETM.drawio.png](data:image/png;base64,iVBORw0KGgoAAAANSUhEUgAAA30AAAJmCAYAAADo7OlVAAAAAXNSR0IArs4c6QAADn10RVh0bXhmaWxlACUzQ214ZmlsZSUyMGhvc3QlM0QlMjJhcHAuZGlhZ3JhbXMubmV0JTIyJTIwbW9kaWZpZWQlM0QlMjIyMDIyLTA1LTE4VDE3JTNBMDclM0EzOS40NzZaJTIyJTIwYWdlbnQlM0QlMjI1LjAlMjAoWDExJTNCJTIwTGludXglMjB4ODZfNjQpJTIwQXBwbGVXZWJLaXQlMkY1MzcuMzYlMjAoS0hUTUwlMkMlMjBsaWtlJTIwR2Vja28pJTIwQ2hyb21lJTJGOTkuMC40ODQ0LjUxJTIwU2FmYXJpJTJGNTM3LjM2JTIyJTIwZXRhZyUzRCUyMmd1cTJZVjhZZnVWZXpPeHRRdV9kJTIyJTIwdmVyc2lvbiUzRCUyMjE4LjAuNyUyMiUyMHR5cGUlM0QlMjJkZXZpY2UlMjIlM0UlM0NkaWFncmFtJTIwaWQlM0QlMjItZkU2aWI2czhENkdkQlRPNml5eiUyMiUyMG5hbWUlM0QlMjJQYWdlLTElMjIlM0U1VnpyYzV1NEZ2OWI3Z2ZQSkIlMkZZNGVuSHglMkZqUmRyYnAzczYyczl0JTJCeXNnZ2JHMHdZb1VjMiUyRjNycjRRRUJpUnNKd2JIeWUxTUd6Z1NCM1RPJTJCWjJYbFBhY3lXcjdrWUJrJTJCUVVITU9yWlpyRHRPZE9lYlZ1Mk8yUSUyRk9HVW5LWU9SS3lnTGdnSkoyeE8lMkJvVjlRRWsxSlhhTUFwcFdKRk9PSW9xUks5SEVjUTU5V2FJQVF2S2xPQzNGVWZXc0NGbEFoZlBOQnBGTCUyRlJnRmRDdXJRSHV6cG55QmFMUE0zVyUyRjJSR0ZtQmZMSmtrUzVCZ0RlQ2xDM09tZldjQ2NHWWlxdlZkZ0lqTHIxY0xrSUNIeHBHaXc4ak1LYW5QUEQwNDlNJTJGM2tmRHdSdmYlMkZCcCUyQiUyQkQ0QjdoJTJCRzVRazJUeUJheXhYTHI2VzdYQVFFciUyQk1BY2k1bXp4bHZsb2pDYndudyUyQmVpR2FaM1JsblFWc1R1TFhSYXI1RGNoanVrRVI1aGtqSndQSDB6Mmg5SGxPeUdoY051NEdxdVFFYk11aUZlUWtoMmJJZzNKeUExa1U5TEtTTktXSlkxNGppUUNhUW1MZ3RkZVdPeEN5a3N2dTgxVGZ4WDg3WTJIWDJ6cnIyRHk4VzczODk1d2pvc09Cc3lZNUMwbWRJa1hPQWJSYkU4ZFY0VzduM09QY1NLbCUyQkElMkJrZENlUkFkWVVIeEI0Z3hUWk4lMkJFMThlR0J4ZVRZQW1RQjZZRjVjbzE4WVFmVlJHQUVLSHFxb3FoMUZWaUtDbENjcktrUllKJTJCUmU5N2todjNsU0p5SHZjRjQweHRNSHdKR3VlV0RmTG9aWTdJQ0VaTnR3RzdtWU1IJTJCeFNHM0treUN0RVVrTkNwR0FZRXF5cEtGVzdiR3d2dGRHZmdKdnVFU0JzNXNrdDV4Vjg0SU1ZN2hpNHglMkI1NUJnTjMxNE1INSUyRiUyQlBVbDhDZHVNUHB4c3RHN3IyWDAycSUyQjJyME10N2ZnZFcxWEJJVlZkaVFvczV6VkV6b1JMZGolMkZrODluTlQzN3ptNWZmVHJmbHdlbE8zbDFZVllPckNoRTZ0UFFqOXYzak9idFk4SXRaN0xQRWxlUjA5cHBpcUpoTENvb01LdXVlelQ3SWpQQkNSSnB2YUxFQ0lyYlVIN2xacHloZUdBUXlxUU9ERXVRJTJGOHBYR2dYamVlQUpFVUc4VnF6b1NZNm9tRmFJb0txVmI0ZENIdnA5NVVJSWZZV2xrUHZSYzczVExPQ0ZHNWFPZW1wVlpWa2N4UzJ0OCUyRmZma0hOMFQ0NVBWZW9ES0htVkJGJTJCeEtFeEtNWXBxV09IJTJGbGhMMzIzYUdFZmw3c09XWk5uNExqWHJ2RnA3MGMzNjZxY0lGUXVvUVVQQVJGcXBmaWtLN0FsZyUyQnhLcFVQM1FxNG5nTzV0Z0hrNXFvc0E4anRYeEJBMW5VZzZNV3hMdk4xZWFsdW53VyUyRiUyRm9ud0cxNEYlMkJvWm1CWHg1QjZWVDhLbTJ3Z3NuQTY3bU1BaFl6R3NNbjJTSkgxaEY5cGVJblJTdElGdVplYzhLdE92RHBGMFZyTmZYeERoZFhlWjJWWmRaNzZvQ0dKNGE1RjZ0QkRqMDJXcmNBVkd5Qk55NFAzZGgzRmVRNDdsVlBGZ2pUU2V1SXpqb0k5YmdUUVdvbHZwMXAlMkZZdTJzOE56JTJGTmRhc3RPNG1iTzByVWlXZU80Z1Z2S1VDVFROZ1llR1RmRXFCOWdLcTR5dkYxaEttY1BqdVBFY3QxTHhnMk56M3E3Y2NNNnVUcTZyb2FFcGFsWTZoMkpLY3c3RW1ERmpUYWVwMGttTFBQbUs0RUI4aW5DOGUwekdoWVpVcGFBQTByVEVSOU1LOERiRjA1bG5HWDR2RHFVdVgyM2lyS2hManU3WkFIMXl2V1M5VHJoYUtDQ1VTOGQ4N3JBT0ZEQSUyQkNmRFhtemM0elF0UURFaDdNNllNY0hoWk5lRXNEcVZRRiUyQjMlMkI1UjFEUnZCbU0zUnRCQ3o3MUNjZ1NGWVZUbDRzJTJCOHFlSXMyNVNFZmNEYTRXOEJ6MzZwRlRRMmViZk9TSFVWOXd2S3I3REZsUCUyQms5WlBlT2VWbzIzNW00MWVnNCUyQjNjTmVMemowVyUyQmtDampMRXlzeUJSRmF4T3phWjJKZ1FkUVo4JTJCVWpIMFIzY21DRmdrQzRYWmlpWDJDZXNlTFNsRDBXeHRkakdKbHlYc3pUcHNMcFdvb2lBaGlDZFliVXV1TEMwTTRVMTNHS1dTdkZOSjBKbmU3c3prS2ZCaXR2SXNFOHRJJTJGMUNpSHRaZDEzciUyQlk1cXczQW8lMkZPZGxydjFoMlJhTXBEUDkxTVpiSFZoOWZQOWd3aFhXVkw2VGpvb2hZJTJCVmtqJTJCeGdkSmRoRE0xc0JYYUNOQlRSZFQ5ZjlmOHZOcVlPMTFEJTJCdGs3TnFOd3Rmc3A5WW9rVFVDczVUVUglMkZ1TWkwNUhoQyUyQmx6amloR0ZJRkl5N0ljRWV4eUdTVGVVWDB2STJlcnlLbjY4SEhFaEpyOHUySTBRWCUyRmU5JTJGb2RHSTFYTXhyTlRxdnUlMkJGc2JwOSUyRjBSdE5jeGpacXVxUmVzcGpmbUNJWnpuJTJGY2lxU1dIeG8wUXJCQzBVNU0lMkZRU2pKOGpqZDJsY2hHUSUyQmF0bkp0andnWHNwSHhObXUwdGdUSUFpd244eHNBVjBUZnF6MDREd2ZKRTFUTmxMRWZOQ1ZaeHJOaUVVbFNBeTJmSiUyRnZmU2hQWXBJc1FTeFppcTBwOHdDUXhCaGlyaXVXYnpMenBXWWpsREJtSWVPZnZ5azdHaVZNSWp2M1ducE50aTFUJTJCYkNDRjF2TCUyRkJFeGRweW5zR2RER2xWbG5oNm1YSSUyRlpLViUyQnVRdHNkeVFzdjEyYkdOV0FsRmNrUWE5QWw4aDlqbUtZcXlwVzVKVjBlbk5mZ05jd3d3b0RXaFJPZ05JbkFMcDhlSVRaZ20lMkY5QnE0UmxHaUNtUngyT1pUVjduRGZxVzV4JTJCTFhXd1Q0dEkzVGtYWGFmeW1pTlNpRWhLTTlOa2NKUm5TRzhHdHpmRCUyRjVQb05LaHRraGFtVVc3RDZjcjJ6a3pJdm81ekRNODREJTJGJTJCU0dpVVglMkIlMkZFaXhXdTdTRGxQTzJyS2FjenV4JTJGJTJGdDVWMlZTdiUyQnQycEt6czZpMXJ4dmVkakhnMVJwZXVtckFHbHl5SExEVmM5OWo1aEFUZ2hQQUVpY2s0dUFHc2ElMkJ6emJzQXJOVFNUYVJIWEZ2ckpBQVV2amNsdVRyM2RsRWxPYnIwdSUyQjdlNGlBJTJGTiUyQjlISUUyUmYwaktKM2txdUVXMDJQUm0xNlZOQm5hMzMyUGdOJTJGa1d3MzZuZkw4YjhiTlgycWxvMkpvNHd5dDZxbGU4NE1rdHBkVlN6NjhLak9jc3hJcmtVNGQ2TnNjWWlSVXJqSjdiUzZvZkpzdmYyMmx2eUZIOVR1NDlUSW9UNU8lMkZQbFJtRmc5RkU5SHN3aHp4THF6ZDNYOVloYnNaSXhOOHpMbExGSEM2eTFHaENVRk1IV2JYMmc3aVh2JTJCOG9sOWNyZXJvbiUyQkxRempibTIzenFxUG8lMkZETUlXMFYzZHZiWmlIV2hNa0JJYUkxZHlCTWZ2JTJCUmJFRmRXTkFDUmlqJTJGc0FCZlRYRVFDdnc0T0JaaHFLTGFBZU1Kd0RwTWhzNWJra3R4SyUyRkJxV2NXTzB2SEhWMDZmczBWWGM2UzR6akRXMjRjJTJCNG1PbWYxUm53WFJBaE9XSCUyRkZTMENwVmVvS1hVZ0MlMkI0N3JRY3dlJTJGZWRWUW90blFIWG1xSmJheFNhWCUyRmxlYzNab2psM3BQM2R0b0pMJTJGdnQ3dUkzU2V4cW5xUEp0N3ZxZHV1TlJyZEZjbGE2ZmZsTXVwYmxkcHhhMjNvRmx4VG9hUlNZMDg3TlVlcDdtOVlMRSUyQjc2cm90UzBMV1ZjQSUyRjBpWDFiQ2JmZXFGVlhXSFkyJTJGVlBPV2pUN2hDWXYwbGxLMVlMZnFlJTJGTUZnY3NqclV4dTR0V3pkdHNoektUTU5SbkprVkJsZTF4Y1UyRFNFZ0lzTyUyQkZKRzNNVnA1cENYa1ZWRElDU2JwcSUyRmRlcUcwZDNtclNsblJCMnUlMkYlMkZQWHdTazklMkYlMkJIampQN0h3JTNEJTNEJTNDJTJGZGlhZ3JhbSUzRSUzQyUyRm14ZmlsZSUzRXTxNAgAACAASURBVHhe7J0FWFTbFsf/gq0gdl1b7Lp2d6Jidzd2ISIqIphYYGFio6hgoGIidoHX7u64dvf71vYOb0AGhpkzc84Ma3+f7z5mztl77d/aM3v+Z629dwIAv8CFCTABJsAEmAATYAJMgAkwASbABMyKwK9fv6VeAhJ9qj/MqofcGSbABJgAE2ACTIAJMAEmwASYQDwlkCBBAhJ6LPriqf+520yACTABJsAEmAATYAJMgAmYOQEWfWbuYO4eE2ACTIAJMAEmwASYABNgAvGbAIm+0NBQjvTF72HAvWcCTIAJMAEmwASYABNgAkzAXAmw6DNXz3K/mAATYAJMgAkwASbABJgAE2ACtHkLR/p4HDABJsAEmAATYAJMgAkwASbABMyXAIs+8/Ut94wJMAEmwASYABNgAkyACTABJsCRPh4DTIAJMAEmwASYABNgAkyACTABcybAkT5z9i73jQkwASbABJgAE2ACTIAJMIF4T+AP0UcvcDFfAj9//jR653a1bm70NrlBaQjUWx8oTUUGqIXHlf5QleBfCwsL/TvCNTABAHLMbwyeCZgCgcObT+P84avC1KKV86Fopfzi/58/co1fNwsOV1G5aalYhyJH+mJFZD4XqB/KaMxe7WrVDNVdxhizSW5LAgKhkyag3oZNEtRkmCp4XOnHVSn+let7ST96fLfSCPA4UppH2B4lEXjz/D3oHxfzJLDddz/6Tm8Xa+dY9MWKyHwukGtS5B/npjmGlCIKNNHjcaXfuFKKf+X6XtKPHt+tNAI8jpTmEbZHSQRY9CnJG9LbwqJPeqYmX6O6wq9WrZrR+sM/zo2GWtKGSBQkHTBE1GnM8aJtJ3hcaUsq+uuU4l/+sa6fH/nu3wTkmt+YPxMwBQKU3pk9XxZTMJVt1IHAtbM3kbdCVrx58wbFixfXWANH+nSAa6q3yDUpyvnj/O6jR8jfyD5al+1etBBVS8eeAy2Fv0u2ao2Elglxcp2fFNUZpQ6liAJNnZVzXBnFAQZuRCn+ZdFnYEfHk+rlmt/iCV7upokT8HFci4bda5h4L9h8TQReffgXrz++EG/H9JCeRV88GkNyTYpy/jhXib7KJUuii33jSN6uW6kiMqZNa5QRwKJPesxyjivpe2P8Gln0GZ85t2g4AnLNb4brEdfMBKQjwKJPOpZKrIlFnxK9IrNNck2Kcv44V4m+dnZ2mO44LMIDFgkskDqVNa7euYPizVuiV8sWOH3psvi7YokSWDFpAlJbW+PK7dsY5jkNpy5cQNIkSdG1iT3G9+8H2nHwYFg4XLy9ceHGDWRJnwG9W7XE4I4dRJrR8bPnMHjKFNx+8BANqlTG8XPnkSplShHp+/rtG8bOmQu/HcH4+eMH6lSsgJlOI5AmVSqkrVQFpYsUxv3HT5AwoSXObNwg2pKjKEUUaOq7nONKDn9I3aZS/MuRPqk9Gz/rk2t+i5+0udemRuDwpnBkz5/V1Mxme7UkcO7kJVjlsoSNjQ2nd2rJzOwvk2tSlPPHuab0zrSpUuHh/n0Roi/XX1mxfsZ07Dt+As6zvDBjhKMQcSVatMLPXz8xc8QI7D56FIs3BsB/xjQUzpMXf7dsBdscOeDSuycOnAqDj/96TB02FA6tW4mU0sSJEmH+mNEIu3QJbvPmo1i+fEL0TV6yFJ5LfbHAdSysUqZA/wmTUKNsGfh6uAvR9+XrV8wd7YK/MmZE7QrlZRuXShEFLPoMMwSU4l8WfYbxb3yrVa75Lb5x5v6aJgHeyMU0/aat1bSRS6HGWZAjRw7kzJlT422c3qktUTO4Tq5JUQmir16lihjcsWOEFxMnSghK+VRF+oZ16YxJgwfh1oMHKGTfFKN69kCrevVAaZnj+vUVf//4+RM/fvwQYm7WylUY5eWNnQt9UL1MGVGvrV0jpElljSXu41GmTTu49e8H5x7dxXs56tQTqaQk+ip36ozTl6/AKnly8d6379+RNWMGnN8UKERf0Xy2CF3mK/uIU4ooYNFnmKGgFP+y6DOMf+NbrXLNb/GNM/fXNAmw6DNNv2lrNYs+bUnFo+vkmhSVIPq6Nm0iImtRi0r0jenTG/RPFRkksUair1TrNkLwkfAjcXYo/DSK2uYVqZkjZ86KJPryNmiIdKlthOgr3bqtSAMd+Z/oo/cofZNEX7l27fHs5Svc3hUszHn+8iXSpU4t0kJJ9JGIDPCaKfvIVIooYNFnmKGgFP+y6DOMf+NbrXLNb/GNM/fXNAkc3hyO7Pk4vdM0vRe71edOXoRVroSc3hk7qvhzhVyTohJEH+3S2a1pk0jOLlOkiIje0Zq+6ETfGIc+4r0Pnz7Bc/gwHD97FvPX+WOx2ziUL15cCMJCeXJjVK+eYn3fvLXrRFoorQ8s0rS5iAj6eU4R6wEphVOV3jlu3nxMXeqLCYMGIn/OnOjoPAqt6tXFkvFuQvTVLFcWG2bOkH1gKkUUsOgzzFBQin9Z9BnGv/GtVrnmt/jGmftrmgR4IxfT9Ju2VvNGLtqSikfXyTUpKkH0RefmOS6jxJENmkQfpWfSRi5Dpngi7OJFpEiWDBQxdOvXV0Tl9h47DhJwF2/eQOb06eHQujUGdWgv3jt9+TL6e0zEjfv3UKtceTx6/hyfv3wRkT5as0cbuQTs3Ys3796jdvny8HEdIzaOYdGn/QdSznGlvZXKvZJFn3J9w5bFnYBc81vcLeU7mIDxCZiK6POYOg7rAtfCvkETbN4WiJDth5EpQya0694KKxasQZIkSTB9zlSUK1UeVSrG7bzp3MX+wpkjF2FtlSqSAz58/IBCZfIiceLEfzhm16b9mDhtPA4eDRXvff36FYkSJkICiwTi72N7w9C8gz0eP32E8IPnItW9YbM/HEcPwZzpPrBv0NSgTleE6GvUqBHatm2LjmprqaTo9a9fv1CrVi3s2LEDSZMmjbXK2rVrY8CAAWja1LDQYzVE5gvkmhT5x7nMjtexeaWIAk3m87jS0bH/3aYU/3KkTz8/8t2/Ccg1vzF/JmAKBExl987CZW2xee122ObJh1t3biF7tuwCb55i2XDt9B0h+lp0tMdAh6GoXjlu5w7GJvrCDpxF+nQZYnRnuZp/w3vqPJQvUzHiuqr1K+Db928Y5DAU7Vp2iHi9bbeWuH7zGsaNcje46FPE7p0PHjyAtbW1+Cdl+f79OxIlSoRPnz4ZVfSNGzcuYnIh4UmTjKpUrVoVhw4dAr3+7NkztGzZEjVr1pSy23rXJdekyD/O9XadLBUoRRSw6DOM+5XiXxZ9hvFvfKtVrvktvnHm/pomAUNv5LJomQ+OnDgsjpiiI7GoTJ/ohdQ2qVGwdB7Uq90AB4+EYum8lUicKDHcp7ri3ft34nd0/16DYFe3EXr074KQg3tRqEBhuI50R1eHDiLSN2vuNPgHrkWJon/Drl5jzPaZiYwZMsF99ERUKFsJM+dOQ8jBfaJN29y2cB8zCTapbBB6KASTZnggYcKEKFm8FPw2rI4x0qeP6GtU3x5h/5zE+hWbhB0PHz1A36G9kCxZMnRo09ngok8RG7moIn0FChRAnz59UKhQITx58gTPnz/H7NmzQUJp+vTpCAkJ+T1Q/juPbNmyZUibNi0oQufg4CAEFBVVxC4oKAi+vr4oW7YsgoODkSZNmkifwps3b6Jbt2549eqV2L6UxKebm5uI9C1duhReXl6irQwZMmDOnDkg+yhk6+joKOojQUkn2tN7NFhUZe3atVi3bh22bt2KXbt24d9//xX9Kl26NMaOHSsEX7t27bBixQohRmvU+P9TiJ8/f4rBrS4UVfVWqVIFly9fjtQHW1tbHDt2TNJvF7kmRRZ9krrRaJUpRRSw6DOMy5XiXxZ9hvFvfKtVrvktvnHm/pomAWOIvtX+K7FrcwiSJU0Gr/kz8OjJI3i6z4Dt3zkw1skN7Vt1FMtb6jerhaXzViBf3vx4+eolmrS1E6mbuXPlEQLx4M5jIuJG/59EX/p06TVG+patXoLzl85hmscsWFpaYsHSebh64wrGu0xApTrl4Ld0PYoWLoZ1G9dg5DhHnD9+RWN6Z8qUVpF+o+fOkRtb/X9vuKcqmiJ9nh4zMXBEX2xZux1ZMmfFnAVesLKyQvCe7fFT9JUvXx7nz59HwYIFsXLlSixcuBBHjhwRom/BggU4d+4ckidPjvHjx+P+/ftYsmSJRtFHYjKmSB+JKBKKgwcPxoULF4QoI7GWLl06kWp64sQJZMyYEatXr4a7uzsuXbqEmTNnYs+ePdi2bZsQei1atED79u3RunXrSA4nwWlvbw9XV1dQ5I9UPA00iu6dPHkSs2bNEqIwqrjr3LkzcuXKJfonV5FrUmTRJ5fH9WtXKaKARZ9+ftR0t1L8y6LPMP6Nb7XKNb/FN87cX9MkcHjzaWTPl8VgxlOk78mzJ3Ad+fs37sXLF9Cjf2ccDzktRN++oIPI/lcOhJ85Jdbn5cmZN8KWN+/eYNSwMWjcoEmcRV/HXm1x++4tWKf8nVH4/cd3JE2SFMMGjICn9xQEB+wRr1PgJV/JXDh9KPK6O3pPtaZPn0jfjEneQuClS5sO/XoORJ0m1UXUz2FID6OIvnMnLsIqt8y7d6pH+lq1aoXbt28L+GFhYejUqZOIbpHoe/jwoRBLVP755x8hqkj4aYr0xST6Pnz4gJQpU+L169dIler3Ys06deqgf//+OH36NOj9GTP+vzMiRRQPHz4sBCIJs9jWH9LAoXvo35AhQxAaGoqAgAAReTx16pSIOk6YMOGPD1aHDh3EOsTu3X+f26ZeqlevjitXrkR6jSJ9lC4qZZFrUjQX0UcHsP9KkADVS5fSyS0Hw8Px88fP6O9NACRAAlQrU1qnug1xk1JEgaa+mcu4MoTvtKlTKf5l0aeNt/ia2AjINb/FZhe/zwSUQMDQG7mQ6Hv89DHGObv//i1/7jT6D++Do3tOCdF3IuQfpEmdBifDT2DQiL5CDKrKs+dPkdomjQjmxDXSRwKyacNmaNOivaju0+dP+PjxA85dOAtPr8kIDtwb0U6BUrlxMvQfjJ/sio1b1ovXWzZpLdJBaSMXfUUfRTiHuQzCZDdPEI+F3r5o07W5UUSfojZyofRJElMqYUOiT/U3iT5Kv6SUSyoUhWvTpg3u3LkjxFrv3r1BgpEKRfCGDx8OddFH6aIUQVOVixcvonDhwiK108bGRrxsZ2cn6iFR9uXLFyE0VYVEGgk3Z2dnkDCjf1SoXiqZMmX64/Pao0cPIfKyZ8+OefPmiagkpYeGh4eLaB+llKoKRQZJ7JIwJGFbsmRJ2T7/ck2K5vDjnAQb7dbp6bsMH8NORqQix8WZZ69ehZ1DPzSrVQuwsAAdEJ8kcWIkTpgQW/fvx+Vbt/Ex/BQs1NaKxqV+qa9ViijQ1C9zGFdS+ywu9SnFvyz64uI1vlYTAbnmN/YIEzAFAsYQfcv9fLFj4x6ksk6FEWOGInnyFGLdnbro+/DhParUryAigk0bNcede7fRqHV9bPbbhry5baMVfbR7Z66iWXHu2GWRmklCqnun3qhXq75I5wzauQXrlwciRYqUGOPhjDdv32CS61RUrlcOy+avQskSpREUvAUDHB1iTO/UV/SVKVlWRPhoHWOvrg6oU6Meiz76cEQVfXPnzhVRuNSpU4tIGEXqaD0dpVdmzZoV06ZNw5kzZ1CpUiWsWbMGTZo0ESmVL1++jBB26h86WkvXoEEDODk5gdb3lShRAqtWrRJROIowkjCj9E4/Pz9xDQlMWmNI6Z2Umknr/Sja2LBhQ/Tr1++PzzPtGkrv5cyZE7du3RKiTyVO/f39I1I7169fj7dv3yJFihQiFZREr2rdohxfEnJNiuby49x9wUKs2bYNV4L+TN/V1p9LNgZgwKTJ8J/uiSZqG/1QBLlix044vGolElpaaludQa9Tiihg0WcYNyvFvyz6DOPf+FarXPNbfOPM/TVNAobevZMiW7v2BePXL+DV65coVqS4EF4kxNRFH9H752w4PDzH48PH9yLtckDvQWjSsLkAG12kL3PGzOgzuDuOnDiCrWt3YN+BPWLNoJvLBDRr1BxTvSZjX+ge8fs6T648mOo+U2zkcvzUURHVQ4IEKF6kBLbvCsKRPSc0rumjSF3UpVm0Vo/STlVF05o+Su8k0eezdC4WL1+Ak/v/QcKEiYwm+hSxe6d6emdMkb7NmzeLTVBoY5QyZcrAx8dHLICkqB2lXJJwKlasGGjXTtqghTZkad68udgAhiKD+fPnj/QppNRQEo+PHj1CtmzZ8P79e7FJC923aNEiIShpoNEaPxJ7xYsXx7dv34QAJOFHtlCUkdb5RSfS6N5y5cqJdX8UIaT1fCQily9fji5dughbyGYSmzdu3BDCkPqknlYqx9eGXJOiuYi+1sMdYZ0iBZa4R16XGXUn15h8S9f29ZiA/SdPYofPfOTJli3i8nZOI9Gsdm20rltHjuHxR5tKEQUs+gwzHJTiXxZ9hvFvfKtVrvktvnHm/pomAWNs5EJRu0njPE0TkIlbrYjdO7VhSKmWJIxoMxdTKlF/6Ef9W5Uyevz4cbFpDa3Ro8ikaidSOfoq16SoNNE3YeEi/AIwtk9vIfAnLV6CyiX/RrXSmtfT0XWFmzTDyB7d0KXJ76c+P378wEgvb8xd4yeic8smeqBV3briPXow0GGkMzbtCxF/j+nTW/yjcvP+fbR1dEKurFmxbsa0iHTOkBMnxBOpmmXLyjE8WPQpgrrxjGDRZzzW3JLhCcg1vxm+Z9wCE9CfAIs+/RkquQaV6KMMRPUlZlFtVv+epEPnftGPW2MWUxV9sTFSRQPHjBkjIoxTp07Fx48fxdERchW5JkUliT4a32XbtodLr55oVrsWXr5+jSw1a+P+3t1IH+XoD3U/PX/5Etlq18XlrZuR66+/hFi069sfRfLmxTTHYThx7hzajhiJc4EbkSJ5crQcMlSs11s7zRMeCxchcM9enN7w/9TfdcHB6Dp6LEb37oWxDn3kGhIxtqsUUaDJSCWNK0U6MBajlOJfjvSZ4uhRns1yzW/KI8EWMYE/CRzeHI7s+bIyGjMlcO7kRVjlknn3TjNlq3W36BgKEge0po92JVVtSKN1BRJfKNekqKQf5yTGk5cuiwche5HOxgZhFy6gp9t4/LNhfbRnKKpc4Ld9O8b7LMSVoC3iOlrfd/PefSyf6CH+fvj0GfI0sMPOhT64/eAhxvsswNHVK5ElQwb4Bm7CmatXMXuUc4RHL1y/joUbNsJ7lHNEpI/uu/f0CaqV0m13UImHC5QiClj0Se3Z3/Upxb8s+gzj3/hWq1zzW3zjzP01TQKG3sjFNKmYj9WK2L3TfHCaR0/kmhSVJPpWB23DkoBA7F+2VIi1ab7LcPvhQ8wfOyZGJ3cdPQYJLRNiifvvSG3FDp3Qzq4BBnb4vU3w+t170Nl5FG7sIHG4AG8/vIf/9GlC9HcbMxaV//4bPVu2ENeS4LMfOBg3dmyLtGaU1vQ5dumMUoULK2LAKUUUsOgzzHBQin9Z9BnGv4aolTYni3p2rbbt0JIHOp7IUEWu+c1Q/eF6mYCUBFj0SUlTeXWx6FOeT2S3SK5JUUmir9MoF+TLmTNiPV+7EU5oWLUqDoSFiQ1a7j56jKNnz6Jdg/oR/iLhlrVmbWyYMR21evbCp/BTaDZ4CIZ06ojqZcqI6/p5TMS7D++xYtJEOM30QsKElpgyZDDOXL2GNsOHY5mHByr+XQJv378XawPv7tn1xyZBSUuWxvtTJ3j3Ti0/KUoaV1qa/Mdl7gsXYX1wMOpUrAinbl2ROX16XauK833mLvpo4y869+nu3bvieB1TKbShWXBwMN68eSM2LqNMESUU2pCMNkgj8aZeSATSkUW02Zq7++8zuqIrlOlCa9snTpwYY1aFrn2Va37T1V6+jwkYk4Chd+80Zl+4rT8JKGL3TnaMsgjINSkq5cc5ibcCjZuISNqaKZOQrFQZ/F2wIOa6OGP6ipVY6zlVpG1OWrQYV7cFIUeWzMKBqnWAlMq5eGMAvJxHYsWWrdi0dx82zfbCog0bcPbqNcwd7SKE3PpduzByphdG9uyB8fPmI33q1DgbuFH80GnUfyCOnjkjXqP0UvpvsmRJ8eL1axwMC+dz+uLwkVHKuIqDyZEuVaUah2/wx7i58zGqVw+UKlRI1+rifJ85iz465od2Y6bNlipWrIijR4/KelyOts6h75qhQ4fi8ePHoKjavn37ULNmTRw4cECILTr6R45CdtFO2rQLd7169SJMoB2pr1+/Djq7lnjv378/RvPoO5DOszXEebVyzW9y+IPbZAJxJWDojVziag9fLy0Bk9m9U9puc20xETDUpEhHW/Tq1UscsxFdUcqP8xv37qFI0+Y4tGolqnTqjNVTpyB9ahscCAuH63+bqdCPm15u49GwShWx0YuqBB86hLCLl8QOnKpzXEjo+e/chSJ5c6OdnV2kp9ck4h48ew7/HTuQJEkSjOvrINoJPXUqEqLEiRLBOmVKWKdIjrQ2NmhQubJBnoLr8smQWxSYyrjSha3qYQI9eKDIcdSzgXStMy73Gcu/sflR6vTODx8+iGN46FzUhAkTgs5tnTRpEipUqBAXPLJcSyK1bNmyoA3O6DiigQMHikjf+PHjheiLTVQZymg6jmj79u3YsGFDpCa2bNkiztgl+7QpdDxTs2bNhBiX+sxaQ81v2vSLr2ECSifAok/pHtLPPpPZvVO/bv7/bprcnzx5Ig5ab9u2rTgGQopC9VK6jY2NTaTqkiZNKtrKlCmTFM1oXQcd/t6/f3/R7oULF7S+jy401KSYLFkycUTBsGHD4OLi8of4U4roo+jc+p27EDRvTow/OGztGuHUOj/YWFvHiS9dvOfYMSzfvAVrpk7ByzdvRGRx+QR32FWtGue65L7BWKJAUz9NZVzp4yeKLH/+8hUTBw0wuvAzln9j86PUom/KlCniu5mOAaLvpVq1aoHOjB0+fLg+rorzvdQ29S2qoI/pXE86e7Z27dp4+vQp0qul+tI5sySSPD1jPwNLtQN3dA8SYnovpg42aNBAiLXevX8fO6NeSFRTpI+igLEVap/mUopc0jm2UhZDzW9S2sh1MQG5CBzefBrZ82WRq3lu18AEzp24CKvc8Wj3TpXoS5kypTiUPXfu3JIgVpros7e3R/369dGvX784989Qk6KXlxdGjRolfmBRGyT+6G9V5E8pom/o1GlIkjgRpgwdopHdwfBwEZGjM/x0KVtC9sNx+gxx6/0nT9CndSvMchoh+VNtXWyL6z3GEgWa7JJzXHksWIhDp0+jTYP62Hv8BArnzh1xzqLKXm2Pt9EUxQu/dBnLNm3C6m3bcXHLZmTNYLz1fNQHY/k3Nj9KKfooypc/f35QZIrECPkoc+bMCAwMRJUqVbT6COjrV4pi0Tz0+fNndOrUSdhCgo3qnT9/PpydnfH+/XuRqql+hA/Ze+rUKXz58kVEwuh9umfu3LmiTzdv3hT/JcFEzEqXLi2igSNHjhSRQSoBAQFo0eL3hlH0OglgVTly5AgqV66MLFmyYOXKlTh8+HBEG/SQlIQxCbECBQqItXkUvXN1dRU2/PXXX6AoXZn/1jBTnfR9v3XrVixbtkwcR7Rr15/rlKMDTqKW5rFBgwZp5Q9tLzLU/KZt+3wdE1AyAd7IRcne0d82o23kQk/t+vbti/Pnz4unqw4ODhgwYIDowdKlS0ETPk14GTJkwJw5c8SEQhMRTTgUqSpVqpRIu6FDzGmSfPHihbiWnizu3LkTly9fFmsF6EkiLWzv06ePaIeib+nSpcO6detAhxFGF+mjRfBkFxWaSKk9WiNRrVo1MZnt2LFDvFeQ1nXNnYs0adKIBfTUHm0AUL58eSxatEhjpI/WOISFhYE2DKAJWjXZjh07VthO/aF/s2fPFv359OmTEGvU99SpU6NIkSJi4qQfBeqF6qMnu7t374alpaWYaIkjpUl5e3uLflO0b8gQzeIluiFkyEkxbdq04vB5KokTJxY/SmhtyujRo3GkWydUd4l5d0z9h3zsNZCgq2rg4xDoB9L1u/dw7to1NKtVC5aWFrEbptArjCUKYuq+HOOKNvWZ67cWrerXx+4jR3D30SPsWbzoDzNpE6Dnr17F6D0ab659Hf64ZsnGAAyYNBnXtweJ/9avUgUOrVpGigrRxj4uvXtFpB5LPUyM6d+Y/EgPh7QVWrExOHPmDP7++29xOC3NFyQCqdB8Ya0WuafvJ5oDoktLJCEWWxolReE2btwYrTmUkkkblpCooXbouB5KN6U5jIQX3Ve0aFFxDc07qjVyxGDEiBFi4xnK6FA9LKB5igTZt2/fxFzq4eEhomUktijjhNYr0rWqdEmaU+gfzYmqNEpVWiXNLXQdrROsWrWq6D/NvT179hTzIwlPWgNJm7LQ9zc9QKW6aB6ieVd16C/Z2rJlSzx79kyIUOJBoo+EqKrQ/EuCO+rGLZQNQvM8RWKlTGs25PwW27jj95mA0gmw6FO6h/Sz7/XHFyDhR4U0jqai/j2p0+Hs9ERz1qxZYk0XTVb0JJK+0Gmio3QPehKZMWNGrF69Wjw9vHTpkngqSWKKzrEjcUVikCYAmrBp/QJF6Zo3bw5aJE6v2dnZicmHJjm6h9qj0rVrVzGpTJ48OVrRp+o0TVq0wxg94SQBRv9oMbmvr6+YzChlhiY8ej1XrlzYu3evEKNLliwR/Xr16lW06Z0UzSKxRwvZy5UrJ/pMT3BpsqeJmtZykaBbuHAhjh07BhKDV69exdq1a8WTUXIMTa5RRR9NkjQR01NbmrhJSNNkTfbS5E9cKYU1riW6VCNNdWj7I0x90o56D/mWnuj2SvBDEaIvrrzi+/UkCupv3CwpBl1+5Mk1ri5cv4HSbdpq3FFVl88IwXz/4SPSVan6K2j+3AR1ypeHu88CUFv+M6ZF+hE8yssbyZMmxdj/1ptK6oj/In0NNKG+cgAAIABJREFUArboVK2mvsfkX01+pO85bVnGZiytOaMURNUDKJorSGSR2FK3jXaSLFy4cKRIm3rdUe2JLiVTU19pXiIxVLduXbRv3148xKSHgG3atMH9+/eF+BSbShUoIL7HVcKT5imVGFPfBZPmxsWLF4sHjNQmiVKaSyhtlgQXPTSlnTVpzqK5l0QdpYmSuFL1myJ89FCSUlzv3bsnxBs9EKUHj1QfCWAqtGyA2qP59/bt22I+JOFI8xDNWdQmFVrf165dOzEv028AEotNmjSJ9CCSRCo9AIy6fo/WAfr4+AgmUhYWfVLS5LrMjQAdzl60Un6xDOp6+F3cv/BMdDFbkQzIVjij+P/3Lz7l102Yg1EOZ6cv/IsXL0Y8AaS/KQ1l3rx54ikrCTdVoae9FOWiL30Sf5RiQoVEIP1NooYKTVAU6WratKl4QkupJRQxo0JijQQRtUHCqk6dOkI0xrSmj6JiNDnRjwuaEGkyJqGWKlUqUScJKprMaPKlyBSJNyo0CdPrtL4iujV9tMMaReyoNGzYUEzqFP2jSZWEI9lIky5NxDTB0qRMGwqonuyS3dSfqKKPnsDSE9/GjRuLuule1ToPfUWf6gl2TE8CqN/aFtXTZYo+Rhfpox8eR7t3ZtGnLVAFXUeiL0n/wcIiGpP6FnrAEpexRe3JNa5OnDuPal27xbibavDhw8Cv6Kl8+O/7qlDuXCiUJ0+ki/65cgWdnF1wflOA+BFP6/qsk6fA4E4dIgmTBg59MX3ECBTOI02qelRL1f0b0/dB1Pti8qGmzTli8qNKBOk7vuh+EjAkjrZt2ybGGgmiwYMHC/GlXuh1+r6nuSBqoYgWCZ7YCgmd6AoJPkrhJFFDoonmAErrpO9eiuARI7qGHobSA0DVAzyyl46WoHmRxJ+qdOjQQQgrenioKhTdo9dpjqH6aO6kh5Y0d9GYooeRr1+/Fpkh9ECTIosHDx4UKa5kAz2YpPlL3V/0QJKEqHpETzUPkv/ofdU6Q8o8oblr1apVwiRiQRk89PCTCola6g+1F1Vwr1ixQmTUUJaOlIVFn5Q0uS5zJUAPiriYLwF6oEfZj5qKJJE+Wg+g2tCEJif6mwQNpVSq1hqQAZQ+STuQkVh78OCBSG2hQtfQPfSEkQqJPpo0SeCoiz7ahpsihiTiChUqJCZ2iqxRPZpEHz0xpQmGnnyqnlLSwn76EUDpNlToCSbVQz8WSKRQdFFVKPL48OHDaEUfiZzkyZOLS0mg0SScLVs20FNkSo2hlJ53796JCZgmXpoQ6YcGrcmjQnZTm1FFX6VKlcSaOOo/FYpu0qG21J6+ok91xlJcfuTF9vGgHxZkLz3RpQFFaafEUZVOpZQ1fbH1g9+PTEDq9L+4rt2Sa1z1dHXD6m3b8OHUCZEJMHr2HNStWAHV1FLXiBRF6DRovgiQ1UqXijjLUfXihRs3UbtHTzw58Ht7+zaOThjcsQMqliguju2o27uPeD19mjS4u3unwdaDSu1fTZ+f2PwY13ER0+eUvmtJbFAK5Jo1a0REiuYMEjeqNEXV/dFlcNB7JIqiS92kh5aqQvWRkItaaD0zzRdUB323Uzr/yZMnhZCjOU4VwaPvfrqGUiJVcwg9JKX5Uz0yRjaT0KL5lMQhzV0kHmkJAgk+imySLbSkgu6jCBrdQ/PQpk2bRKomPdmnaCNF3mg8EyMSgPRfmg+If5cuXcQ8SVkzlLFDD0lpeQZFAKk+iggST0qdpUIPL2lupiUHKrFKDzvJFsqqIdFMcx89CI2aQksPNCkLhOqQsrDok5Im12WuBFj0matnf/eLBJ8qDT+6nhpM9F27dk0sYqcJj55o+vn5iYmKniKSyNNF9JHwoYmP0h1pQqGni7TejSa66EQfpcRQpJGii/SkUlUonZMmXJrwaD0JTcz0A4BEJ6WWkpikJ8F0DbWnKb2TJkUSejRBkh20CJ/SVmmrcHqKSU87ab0jfchobSJN+BS1o/dIENPTXFpPSGmr6oV+sBA3ikzS5Eh1kA1kjxSijyKX5JPYCtlKfoytEDfqK032lHpKfqG1JqrCoi82gsp8XyUK6IEF/aDUt1DEhQQA/TCkyENshaIwqtRsY42rA6dOoV6fvsK0DGnSiOM0ujaxh2O3rrGZq/X79FmhoxqyZMiA1NZW+PHzF85sXC/6mrx0WVzeuhnff/xE/wkTsXvx/6M7Wjeg5YUq/2r7fRC1Wk3fD5TiTyJBVWLzo5Sij7JI6KETiSr6rlSdc0e20Hc7RZ1I/JAYojlI6kJLESjbgyJmJJBoAxna9ZJEELVP0TGaH8hOikrS97+q0MNG+oyQqFNF4GisZM2aVWR+0HIDmjuILX3H0oM7ElQ0buhBIj0opTlFdQ+JN9WGLCS+6EEkHa9AddB1NL8EBQWJlE96nz6bJCRJJFL6KNVN8yrVRw8yKW1V9SCSfE+bvlDWDT3MpDmKsnso2kjikf7RQ1XK1lFlrKj6SWmg9I8OepeysOiTkibXZa4Ezp49G5HlRuueKSOACmWzqbLfzO11VaYe9VW9v+b6OgWcNBWDiT6K/JEAoieUNCmR6KIJgYyhNBBdRB89FaUJnVIqaeKmukhEUiplVNFHqSi0po7W/Km2DCcIlNZCExRFokjc0eRKP1JoQlVFIqkNAkNCjp6k0oQdXXonPR2lFBkaRFQfTbw00ZL4oYmSbKQnsyQ+aSKlOmmRPz1lpQ8XMaInsjRZqhcShCSQqV+UekqL44kj2SeF6KO2pIz0kbCmtY/qGyWo9yc20RcUegDnr10Tm1bEtYRfuiRS5S5tlXbtWVztMMb1tx48AO0quWyCxx/NacNh1spVuEpb2buO1cpcqSNBqh/39BBEm/Gn77jSqpNRLpqwcBEGdewA6xQpsGprELJlziQifLqsRYypffp+2HnkKL5//4aG1arBIkECHD97DsM8p+HomlVoPdxRRAhrlC2DghLtRBzVHqn9q6m/sflRStFHNlDWAQkbeiinSpMksUUig37wqHYWJkFCGSNSFnrASOKJ0i9J9KivzaMHJySuVLtjqqdW0nxI8xGlZ0bd4IRSN8lmmg9UD0vo4HaaZ1SFNjhTT/8kcUfzEolD4ktzMKWSksgkMUpRSkrZpvroPZrzKGWTCq2DJIGobh8JQ7pOtZ6erqMxTOKZ5kFqX5VWSg8UaY6l+4k3rVtXFbqHXif7VFFDqfiz6JOKJNfDBJiAuRLQW/SZKxhD9IsidZQuSsKNJlBaWE9PwWmCNEaRa1KMSfS9fvcOdXr2xqFVK5A0ceI4Y/j89SseP3+OXFmzxvleU7sh5MRJuM2bj4MrI+/2Sv3QhoOpib7Y/BPbw4TY7lfa+6pIX8lCBXH60mXY5siBora28PP8/7b7UtpsLNEXm81Si77o2iO2JIBIhFHGCAkgEkmx7dIZm+1SvE8P/ejhJe3WTOJJl+N4pLAjpjoos4Ye6qmO5dF0LT2cpFRS4kp86eGm6sk63UMPPUkQkwiXusg1v0ndD66PCTABJmAoAiz6DEU2mnppsxraWY7WD379+lX8CKGnq5TCaYwi16QY04/ziQsX4dv373Dr//vcwRRlyuLent1Ia2MT8ffDkH1iLUqPsa5i+3zqR4XixTFrpBPUI1wkasIuXhSHXb96+xaJEiXEMg93kUZHh6Y7z/KCpYUlitjmxaHw09i7ZBFyZIl8WOnJ8+cxaPIUcd2/r1/jbOBGbN0fCq+Vq/Dz10+R7jfdcTiK5csHai/01Cnx5Noiwe+jGRaPH4c0qVIhcO8+cQ/1jbb1792qJZy6d0N09U9dshS7jx7D569fhO0znUagXqWKkYbE12/fULZtezx4+hQNKlfGwA7tItm5fOIEwYcinnQt9XXXkaNIlDAhqpQqKVjNWeMXEelbsH49Fm8MwLZ5c5FZ7RBo9UalFgVxjfTF9pkwN9FH/aVjGqiELvMVY8K17+/1fYYoUvtXVxuNIfrINhIiqnRHiqbRkgMlFIq60Tp1KpTZQd91SisUoaNsmOfPn4uslpgK+ZP6RBFNWvdHqaFUKNuFMm/IDyS8pS5yzW9S94PrYwJMgAkYigCLPkORVWC9ck2KMf04L926rRA5VUuXEsQ0ib6t+/cj+NBhrJ3mKURNX48JcO/fH09e/BuR3kkibElAIMLWr0OyJEnQ280dmdOnw5BOHVG4SVNs95mPvwsUwLrgYHQdPRZXt22NVvRV69odYf7rkDd7Nly+dRs9Xcdhn+8SpEqZEqcuXECHkaPEvV6rVgvhRO3R1vokYO8/fYo5LqNQs3sPrJo8GTmzZhFCtVCTpnh+6CAuXL8O9fpv3n8gUvq2zPFGksSJRUrh4oBAHFwReZ0nsVGP9JF4VK/nwo0bERxmrFiJfcePY5O3l0h7bus4Qhwyfv/xEyH6CufNgw279mDLbG+kTmWtcaRKLQpY9CnrS0Fq/+raO2OJPl3tM8Z9qiMipE4jltp2WsNO6/HUU0u1bYM2uSEhSA8+DVHkmt8M0ReukwkwASZgCAIs+gxBVaF1yjUpxiT6UpWviHOBGyPElybR9/LNG9Tu2Rv5c+YU65ya1qqJfDly/BHpu3TrFha7jRMeIBFI6+DqV66EqUuXRRJSWWrUxLE1q6MVfe2dnHEjeLuoY+pSX8xe44esGTJEePXZy5c4vGoFNuzajUfPn2Pa8GHivTNXrqLF0KG4GbwD7z5+xM7Dh3Hj3n1cuXUL/jt34dH+fbhx7x7U66f77j95IgQd2Xr0zBlQX8PX+/8xiqKKPvV61COeDfv1R8dGDdHOzi5SHcSDhCrZ7z99GuxrxPy0XWpRwKJPWV8MUvtX196x6NOVHN+nTkCu+Y29wASYABMwFQIs+kzFUxLYKdekGJPoS12hkkhJVKUYpixTDnd270S61Knx/ccPWJUtj8ehIbCxshLr1kJPnhIplWu278DKSRNEuqVqIxcSNTfv38fc0b/Tj1R/N65eXUTh1NfCZa1RS2yY4bFwEVYHbRPXd2zcCL1btoCDuwdOb1gvXpu0eAmu372HZRPcIzxAIu2vjBmFgHr47JlI96SiigKe8FuDcu07oHntWqhYogSK5rNFIfumeLBvj7BPvf5jZ86indNIDOrYHsVs8wmx6LFggWg/X8PGuPf4saibhGzWjBkj1vRRpE+9HnXR12TgILSza4C2DRqIe5++eCH+67d9Bzbt3Yfh3bpg6NRpCPdfx5E+CT5XploFiz5T9RzbHR0BueY39gYTYAJMwFQIsOgzFU9JYKdck2JMoo/Wqc0aOQKV/jv/KWfd+vAZOwYNqlTG0sBA9J8wSZxntmbbdpy5ejUiitduhBPKFSsm1qvFJvomDBqIos1aiBTKkgULYnNICNo6OuHa9iBkz5w5EtmoYor+psjZkdWrRGRxw+7dYr3c1W1BYo2cj/96kMizsbZC7/HuSJksGZrVqoWuY8bi+o5tsLSwEFG+Li6jxVrFO48eRhJrtFvk1dt3sGrKJLEb3sBJk8V6Q1pLGLXQGW6O02fg5Do/sTZQk+jzXr0G+46fQIDXTLHesMWQoWId4MfPnyPW9FF67LsPH7B6ymSNI0tqUcCRPgk+xBJWIbV/dTWNI326kuP71AnINb+xF5gAE2ACpkKARV8MnqL1ULQQPepxDabi3Kh2yjUpxiT6Ji9ZKs4sVG3kErBnL1y8Z4s1co2qVcXaHcFizRyJl97jxuPK7dtivV7ubH9hwThXXLtzJ1bRR5G/A6fCMGLG74OESxUuhHXBO3EzeLuIKKqXqGKK3qN1dl6rVyMBEgi7vF2cxdpAiiRuDQ0VYu3F69coXbgwZruMEruQdh/jios3b4jraRfGUxcuYpGbKxJaWkYSaxTJ6zDS+fcRH9+/o0bZsvAN3IS7e3eLfqoXaqN6t99nWy11H69R9FE9xJDW9f36BdQqXw6ew4aCxKDqyAaKKJZq1QbuA/pFRASjjhepRQGLPmV9c0jtX117x6JPV3J8H4s+HgNMgAkwAe0JsOhj0af9aNHxytiObKjRrQeO+a3W6cgGbUwigTNp0WKM6dMbKZIlE2vvKAWS0kj12TghajqpNraY0jVSiwIWfcryvtT+1bV3LPp0Jcf3sejjMcAEmAAT0J6ASYu+EiVKgA7+pQPQ6dylbt264dWrV+Iw9p49e6JUqVLi0HBHR0dxBhJthU0HrtMxCXTmUMqUKdGsWTPQoe9BQUF4+fKlOBSdjlAoX768OFyeIn10X+fOncVZSgSsUqVK4rB0UytKjPQRw037QnDxxg0hygxV6FBzOkaBjjCgf57Dh0aklOraJou+uJFj0Rc3Xoa+mkWfoQlz/cYkINf8Zsw+cltMgAkwAX0ImLToozOX3r59i+nTp6NLly5C2K1YsQJ16tRB1qxZcfr0aSxduhTHjx9HQECA2L7ewcFBnIXk6+uLpEmTCtFIW0jT4bN58uTB3r17hVikM4lIMJKI3LRpE7Zv346NGzeK8/Xo9YkTJ+Kvv/7Sh73R75VrUjTH89SM7jwZGpRaFLDok8GJMTQptX917R1H+nQlx/epE5BrfmMvMAEmwARMhYBJi77z58+jbdu2uHDhghBsffv2xbNnz9C8eXMRsTt06BCqVq2KESNGoHHjxsIndE/t2rXx9OlTIfrowPTcuXNjx44dGD16NP755x9xHa39ooghXffixQtUq1ZNnDFEUUWqP3/+/Kbi4wg75ZoUWfSZ3FARBkstClj0KWscSO1fXXvHok9Xcnwfiz4eA0yACTAB7QmYtOijbtra2opI3/z58+Ht7Y02bdrAzs4OmTJlwuDBg0Uq5qhRo9CoUSNB5dy5c6hevbpI5STR9+DBA6RLl06IPhcXF5w5cyaCXooUKfDw4UOxkcvnz58REhIi/q1atQp+fn5CAJpSYdFnSt6S31apRQGLPvl9qm6B1P7VtXcs+nQlx/ex6OMxwASYABPQnoDJiz6K6NF6PFrDN3z4cOTMmVNE6Y4cOYJs2bLBw8MDJ0+eFOmdtFaPooGUsunv7x9J9L1580ZE/LZt24YKFSqI9ymKSNeuXLlSRACXLVsmyLZs2VJcQ+2ZUmHRZ0rekt9WqUUBiz75fcqiT1k+YGukIyDX/CZdD7gmJsAEmIBhCZi86Dt27BgqVqyIs2fPolixYmK9HUXzTpw4IcjRcQAkDGmtHq3lK126tNiEJU2aNJFEH10bGhqKIUOGiM1aaMOXDRs24Pbt2+K4ANok5vLlyyLlk1JJaa2glZWVYb0jce1yTYqc3imxI41UHYs+I4GWqRmp/atrNzjSpys5vk+dgFzzG3uBCTABJmAqBExe9JkKaCXYKdekaGzRl6JMWTwM2QebKKKcXqcD0tPa2CjBHX/YQGf11Xfoiy1zZkd7fEXaSlVwLjAAWTNmiNb+8EuXIs4sVL/g7YcP6DhyFDbMnI4kiRNr3XepRQFH+rRGb5QLpfavrkaz6NOVHN/Hoo/HABNgAkxAewIs+rRnZfJXsuhTtuj7/uMHUpYph9fHj0Yr+q7fvYdcf2UVB7xHVzSJPrp2+eYtuP3wIcb376f1OJZaFLDo0xq9US6U2r+6Gs2iT1dyMd93ObiNYSrmWv8gULCBP1NhAkyACSieAIs+xbtIOgNNQfSNn++D3UeP4fPXL/j85StmOo1AvUoVQWfihV28KF579fYtEiVKiGUe7siSIQN2HTkKF29vcf5e2aJFsTQwMNZIH4mgOX5+sEhggfRpUmPWSCfkz5kTn758waDJU3D0nzNIbW2FQnny4uevn1gy3i2SI6iN7QcOIdB7lnj96p07qN+nL24Eb8eWkP3wWrkK375/x/NXr9C7VUs4de+Gk+fPi7otLSzx7+vXOBu4MZK46zPeHSu2bEWZIoWxdc4c5LVrCPsaNbDn2DFs8p4l6ldF+pYEBGKu31ohADOkTYOl7uPx6PnziEjfiXPn0NHZBcsneojzCD9+/oxC9k3xz4b1SJ3KWqtBJbUoYNGnFXajXSS1f3U1nEWfruRiF30FKzsZpnKuNYLA5cOeYNHHA4IJMAFTIMCizxS8JJGNShd9l27ewjDPadgyx1ukIa7aGoTFAYE4uGKZEH0kdMLWr0OyJEnQ280dmdOnw9DOnVCgkT12LJiPkgULYtmmzejrMQFPDuzXmN5JAq3r6LE4vHKFEExrd+zAxEVLcCZgAyYuXIRrd+9i5eRJQijV6dkLRWxt/xB97z5+hG2DhkK4ZUybFqO9ZwvRObpPb9Ts3gOrJk9GzqxZcPfRIxRq0hTPDx3EhevXUa1rd4T5r0Pe7Nn+SLWMGulLVb4ipg4bgh7Nm8PSwgLpq1QTou/x8+doMXQYjvutRub06TF9+QrxWvuGdkL0LXF3Q09XN/h5TkWJAv8/WqTJwEFo26A+2tnZaTWipBYFLPq0wm60i6T2r66Gs+jTlRyLPsOQi1utLPrixouvZgJMQD4CLPrkY2/0lpUu+gjI/SdPEHLiJG49eICjZ87g5Zs3CF/vL0TfpVu3sNhtnOBGf9M1DatWxbh583BirZ94nXZutalQCff27tYo+uatXYcPnz5h6rChET7IUqMmQnyXotvosXAf2B91KlQQ781f54/Tly//IfroPYrMFciVC4M6doCtXSOELF0ihB4Jwp2HD+PGvfu4cusW/HfuwqP9+3Dj3j20d3IW0cDoSnSij4RorqxZxeWqNX2rt20TqZoLXMdGqobSO+v3ccCvX0DXpk0w3THy7rKDp0xFaisruGmZ4im1KGDRZ/SPfIwNSu1fXXvHok9Xciz6DEMubrWS6HuW/HfaPJ3ny4UJMAEmoFQCLPqU6hkD2KV00XfszFm0cxqJQR3bo5htPiGePBYswOkN64XIu3n/PuaOdokQffR3o2rV4Dp3Hk6u+y36qKSpWBm3dgVrFH2z1/jhy9evmDJ0SMQ9mavXxO7FC9HPYwLGOvRB3YoVxXs+/utBYqpaqVLo5TZevJY9c2Zc2x4k0jX7eUyEx8ABIlV0h898vHrzFuXad0Dz2rVQsUQJFM1nK9IqH+zbI+x3cPcQ/aHSc5wbVgdtE/+/Y+NGQsSpr+mjSN+tnTsiNp5Rib51O3cKAekzdoy4lwTso2fP8fbDe9g59BMbwbQcNhwbZ85A+eLFIvroOH0GUqVMKfqnTZFaFLDo04a68a6R2r+6Ws6iT1dyMd9Ha/o4vdMwbNVrZdFneMbcAhNgAtIQYNEnDUeTqEXpom/CwkW4evsOVk2ZBNrJcuCkyTgUflqkUGoSfRMHD0LBxvbY5O2FcsWKYcPu3SLFMab0zsu3bqHbGFccWbVSpHf6B+/EKO/ZQsh5LvXFhRs3sGrKZCEM6/d2QP7cuSIijFEdXap1GyRPmhSDO3VEyzp1cDAsHF3HjMX1HdtESiZF+bq4jBa7ht559DCS6ItaF/U5eemyeBwaIgSrJtH35MW/aDXMESf8ViN9mjSYtmw5zly5gmFdOkes6VsXHAx3n4VCDKdMnlw01XLoMLSqVw9t6tfTarxKLQpY9GmF3WgXSe1fXQ1n0acrORZ9hiEXt1pZ9MWNF1/NBJiAfARY9MnH3ugtK1303Xv8GB1GOgvBR5ug1ChbFr6Bm3B3724s8F8fbaSPIn8ktCiKlSABUKpwYQTu2Ysr27bGeGQDbcRCqZs/f/4SkbSZTo4oli8fPn/9iqFTPXH49GkRFcuYNh3+ypQR3s4jo/UXpYpOWrwEt3cFI3GiRMLu7mNccfHmDSEGbXPkwKkLF7HIzVVsuqIe6YuuwjbDRyD01CkcWrUCZdq0izbSR0c20IYvc9b8jm5my5wJi8a54t6TJ5GObKC60tikEhFB6hetfTy3KQDWKVJoNfakFgUs+rTCbrSLpPavroaz6NOVHIs+w5CLW60s+uLGi69mAkxAPgIs+uRjb/SWlS76jA4kmgYpUpgiWTLYVaki1ge2HeGE2uXLix04TbnQBje0DtB9QH+tuyG1KGDRpzV6o1wotX91NZpFn67kWPQZhlzcamXRFzdefDUTYALyEWDRJx97o7fMoi925JT62W/CRHz4+Alfv31DtTKlxYYotDOnqRY6nL2900hsmDlD7HyqbZFaFLDo05a8ca6T2r+6Ws2iT1dyLPoMQy5utbLoixsvvpoJMAH5CLDok4+90Vtm0Wd05CbdoNSigEWfsoaD1P7VtXcs+nQlx6LPMOTiViuLvrjx4quZABOQj8Afok8+U7hlYxAIDQ0VzRhza+ldrZoZo2vxvo36GzfHewb6AtjZsqm+VZjU/UkH/N7B1pjfB1EB0STERXoCl3a0Frt3vv/wEVaZqyJJksR/NHLu2Drky5td0sZpTXatxn2xY+NsJE2aGCkzV8GVsAD8lTWDJO18+/YdTdsNx8pF7rC2SoEhzjOwL/SkqLtYEVss8HJBmtTWmOa9Etn+yoS2LepK0q6mSlj0GRQvV84EmICEBKKN9B04cEDCJrgqJRKQ40eeOY6rKVOmIHHixBg2bJjsbq5evTp+vQ2T3Q5TNSCBdWmoHoqYah90tVuO74Ootprj94Ou/lC/j0RUjRo14jw2M3ycH0n0Pb6+C5kyppXCpBjr+P79BxKlKYdPz44K0Xftxj3kzpkVCRNaStK2x9QlsLGxwsA+bTBz7hrs3X8CW9bNFPX3HTpZnFO60NsFJA7L1uiMPVvmI11aG0najq4SFn0GQ8sVMwEmIDEBFn0SAzWV6uT4kWeOP+oaNWqEr1+/wtHREXXrGvaJcmxji0VfbIRifp9Fn3789L3bHL8f9GVC9xtD9Hl6rcSy1VtFhKxS+RLYHXIcZ474YYLnUjx59gJzpzuJrtDf/754Da+pw7Fx8z5Mn71KiKvnL16hb4+WGDW8G3r0d4fvqq0oW6owggPnIHuhhhGRvqUrt8Brvh8sLCyQIX1qzJnmhAL5cop6ToZfxOfPX/Hq9VskSpQQqxa5I2uWyNEjHOP5AAAgAElEQVTBt+8+IH/J5rh6OlBE+Y6dPAerlClQpFAeYR/1IXDrfgStnxVhL63Pnuw2QApXRFsHiz6DoeWKmQATkJgAiz6JgZpKdSz69PfU69ev0bp1ayH6LC0tMWHCBFSoUEH/inWsgUWfjuD+u41En7e3t/irePHi+lVmYnfL8X0QFRGLvugHjbroe/r0KTJmzKjV6Ioa6SORpJ5KS2mdJ0NXitTI3oMm4vThNUJIde/njn/OXY1R9E2bMBiV6/bAuuWTkStHFty59wh5izfF24cHkThxokiRPlV6J13TsedYnNi/AhkzpMFq/x1wn7IEl05tEEJwoW8gKN00WbIkwobMmdJhomu/SH0N3BqC2QvWIXTHoj8YkBitWLu7EHgtmtQU75OQbN99NG6cNVzqO4s+rYYjX8QEmIACCPBGLgpwAptgmgT27NkjRB+JPyoJEybE/v37UblyZVk6JDbE4PROndmrR/qUIIJ07gjfaFYESPRRZIz+S8JY27F5ObiNVumdzuPm4OvXb5g5+XeK+omwC+gzeFKskb537z9ix67DuH7zPi5duYW1G3fh3zv7kMo6ZbSib9HyQHz48AkzJg2N8E/aHDVxePdSbN91GBcv38Iyn3HiPYr83bz9AD6zRkXy5ZSZy3Hl2h0sX+AW6XVKIW3W3hE9OjfBsAEdIt57/u8rZMxTF1/+PSaih4YoLPoMQZXrZAJMwBAEWPQZgirXGS8ITJs2DU5Ov9OeVMXa2hpHjx5F4cKFjc6ARZ9+yFn06ceP7zYMAUOLPvcpi/Hy1VuRsknl9NkrItJG6Z0Tp/ni0ZPnmDdjpHhv7AQfvHv3Ea7OvVCycge0bFoLlSuUEBuoUKTv2a09sEllFa3o81m6EV++fMX0ib83D6KSJntNhO5YKNJJb9y6LzZhoUKiT/1v1fVTZ60QYnDR7NERdezadwy9Bk7AbM8RaNqoeiQnvH7zDmlz1BKiT6o1hVG9zKLPMOOea2UCTEB6Aiz6pGfKNcYTAk2bNsWWLVtEb5MkSSIifR8+fECaNGnEE/kiRYoYlURsom/bzkOwbzNMpF+pl0wZ0uLOxSDJbaUfZ+MmLsTqJR6ibql38bt7/zGGOs9E4JppoP/vMHgybt15gJQpksNpSGe0+W/XvrbdXOAxxgG2eWLepZBFn+RDgCuUgIChRV/YP5fQsuNInAxdgQzp02CQ0zQcPPKPEH2LlgWK9XlH9vji7bv3qFy3J+rUKCfEVcdeY3H34jZYWlqIKB+lUT65sVus1bO0KYuX90KEAFR97umz2amXq0gppfROvw074TR2Nu5cCBLpndqIvs3bQjFnoT/2BfkIskdPnEObrs7YtWkuChXI/Qftf85eRdtuo8QaQEMVFn2GIsv1MgEmIDUBFn1SE+X64g2BHDlygNbY2NjY4OXLl5g/fz7CwsIQFBQESv0sVKiQUVloI/ocR3vhSniAUezau/8kxnjMx/GQ5aI9qXfxq23fD7MmD0PRwnlRo2EfVK1UEuNd+uDNW/px2gMrFo5HyeIFcP3mPRG5OLRrSYz9ZtFnlGHBjcSRgFSiL3nypJHW9JEZS+eOFQ9HVvhtE0ccJEmcGPlss+Py1TtC9FEKZ4ceY3Dm/FVk/ysTypUugh8/foLW9HXq7YoLl24gebKkyJc3h1g/5zvfVUT+mncYgZADp8T6vVJVO0Zs5EIikkTbz5+/xI6asz0dUbxovj8ie5oifR8/fkauovZijZ5VyuSoVKe7aFf9OAr6zB/cuVhQnjxjGWgjlwljI68NjKMLYrycRZ+UNLkuJsAEDEmARZ8h6XLdZkvg06dPSJEihYjm7dixAx07doSzszPq168vW5/1FX30g6rfsCmgJ/9pUqdCftscSJE8mUj7IoHl0L2FSOeiQn8P6N1aPPGPbhe/4QM7okSl9rj/4Cka1q+MdcsmRTzxp23jSXxSShdFCcqULCzaoE0kGrUagty5suLmrQciraxE0fxYMnesuE69HDh8GqPd54n1QFQomnDhhD9yZs8i/h44wlOsLVL92CN7RwzuhHq1NG+0w6JPtqHLDcdAQF/RF1e4h4+dwQBHTyH6lFgoHdXaOgWG9Gsfo3l0dAQJTooK8pENSvQk28QEmICxCbDoMzZxbs8sCDx48ECIvIULFwrxN3HiRLx48QIzZ86UrX/aiL4mbYeLJ+TqpXsne7GJA63XuXr9rhBoHz5+RsXa3VCrWtkYRV/DepU17uJHqVfqkT5VmhdFFY6fOo+A1Z5inY3DkMmgH2gUJSDRRylhlBJKW8EXLd8Gc6Y7iZQy9UIpaCRM3Ub1Fi9Xt+uNCmWLwWNMXzx5+uK/yN/fWDrPVbxPW9Jfu3FXCEhNhUWfbEOXG2bRp/UYoHWB9D1G3xExiTmKXNIOoB3b2Gldty4XcqRPF2p8DxNgAnIQYNEnB3Vu0+wInDx5Ej169MD58+dl65s2oi+m9M7yNbvCxbE77O2qij7QpgmPn/wba6RP0y5+tJ4mOtHXvsdoEXVr3OB3O+cv3hCRw6c3dwvR16pZbXRp30i8R393amsXsT5PBbd+s4Fo27IuunZoLF6iNX0DHafh7PlrYm1Pwfw58enzl4jd/zZs2gtvn7URkcHonMSiT7ahyw0rSPSxM+JGgEVf3Hjx1UyACchHgEWffOy5ZTMjkCVLFhw6dAh58vw+KNjYRV/RV7ORAwY5tI3YAW/m3DW4d/+JEH11mvRD767NhSCjUqVeT1AKJ62j07SL35lz16IVfbTxAh3i3Kh+FVHXuQvXUd2uj9j4gURex7Z2aPvfJixR/1YxbdB8EDq1s0P7Vr/TaW/deQjakIbWLVHp0mec2FGQbKRCG0DMmueHA8F/nu+lqpNFn7FHLLenDQFjp3dqYxNf838CLPp4NDABJmAqBFj0mYqn2E7FE+jatSvKly8PBwcHWWzVV/SRyKPNFzb5TRfplqqUSRJ9tDNf1iwZxAYOJOYq1e2ONUsmiFRMTbv4Xb56G0OcZ0SsDVKldy5bvVVsvkDpnXR2Vt+hk/Hq9Tv4L5+stegbMnIG0qZJhbEjewrW7bq7oFSJgnAc1AkXLt0UtocfWo0c2TKL90nw0fleC71/bwkfXWHRJ8uw5UZjIcCiT9lDhEWfsv3D1jEBJvB/Aiz6eDQwAYkIrFmzBgEBAQgMNNz24DGZqo3ooyMbVNEw9bqunQ4U27WPdJ2N4D1HxaYqqW2sxWYuJPro4OTOvV3x9t0HEUH7/v07unW0B63p07SLX4F8OcXuelRoy3SV6EufzkZs1b439KSop/TfhcS6vTSprbUWfbTZBB0qrdrI5cHDZ+jcx1Ws5yMh6ekxKNKmLfWaDcCIQZ1Ru0ZZFn0SjXeuxjgEWPQZh7OurbDo05Uc38cEmICxCbDoMzZxbs9sCTx79kykdr57906WPsYm+uJq1ATPpfj3xeuIQ5vjer+hr6/VuC9mTByKEsXyxdgUHRXRoz8f2WBof3D9hiHAos8wXKWqlUWfVCS5HibABAxNgEWfoQlz/fGKQMWKFeHh4YFatX4fbWDMEt9EH63jG+4yS6SjxlTadB0lzu+jyGNMhdM7jTlauS1tCbDo05aUPNex6JOHO7fKBJhA3Amw6Is7M76DCWgk4Obmhs+fP2PKlClGpyS16DN6B2RukEWfzA7g5qMlwKJP2QODRZ+y/cPWMQEm8H8CLPp4NDABCQkcOXIEAwcOxOnTpyWsVbuqWPRpx0nTVSz69OPHdxuGAIs+w3CVqlYWfVKR5HqYABMwNAEWfYYmzPXHOwLp06dHeHg4smfPbtS+s+jTDzeLPv348d2GIcCizzBcpaqVRZ9UJLkeJsAEDE2ARZ+hCXP98Y5A+/btxZo+OqzdmIVFn360WfTpx4/vNgwBFn2G4SpVrSz6pCLJ9TABJmBoAiz6DE2Y6493BJYvX46dO3di3bp1Ru07fZi56EcgNDRUVFCtWjX9KuK7mYBEBPQRfRKZwNXEQuBZ8n78vcGjhAkwAcUTYNGneBexgaZG4OHDhyhatChevnxpVNPpxyGVAwcOGLVdbRurUaMG9u/fj7Nnz6J48eLa3mbU61TCmUWfUbFzYzEQ0FX0Aarvg4PM10gE+HvDSKC5GSbABHQiwKJPJ2x8ExOImUCZMmUwY8YMVK1a1eiolCr6qlevDoqkKVn0qZzFP96MPmy5QQ0EdBd9vytU6veBOTqcvzfM0avcJyZgPgRY9JmPL7knCiIwevRoWFhYiDP7jF2U+iOPRZ+xRwK3Zw4EWPSZjhdZ9JmOr9hSJhAfCbDoi49e5z4bnABFtJydnXH8+HGDt2UqDYiNZn79EpEH/nFkKl5jO+UmoK/ok9t+bp8JMAEmwASUQYBFnzL8wFaYIQEbGxtcvnwZmTNnNsPexb1LLPrizozvYAIs+ngMMAEmwASYgBQEWPRJQZHrYALREGjVqhUaN26Mzp07Mx8ALPp4GDCBuBNg0Rd3ZnwHE2ACTIAJ/EmARR+PCiZgIAKLFi3CoUOHsGrVKgO1YFrVsugzLX+xtcogwKJPGX5gK5gAE2ACpk6ARZ+pe5DtVyyBO3fuoHz58njy5IlibTSmYSz6jEmb2zIXAiz6zMWT3A8mwASYgLwEWPTJy59bN3MCJUqUgI+PDypUqGDmPY29eyz6YmfEVzCBqARY9PGYYAJMgAkwASkIsOiTgiLXwQQ0EBgxYgSsrKzg6uoa7xlJLfp2tW4e75nqC6De+kB9q+D7DUyARZ+BAXP1TIAJMIF4QoBFXzxxNHdTHgJ79uyBu7u7WNsX34vkoq9VM1R3GRPfserc/9BJE1Bvwyad7+cbjUOARZ9xOHMrTIAJMAFzJ8Ciz9w9zP2TnUDy5Mlx//59pE2bVnZb5DSARZ+c9P9sm0WfsvyhyRoWfabhJ7aSCTABJqB0Aiz6lO4hts/kCTRt2hRt2rRBu3btTL4v+nSARZ8+9KS/l0Rf0gFDRMXVqlWTvgGuURICLPokwciVMAEmwATiPQEWffF+CDAAQxOYN28ewsPD4evra+imFF0/iz5luYdFn7L8wZE+0/AHW8kEmAATMFUCLPpM1XNst8kQuH79OmrWrClSPONzYdGnLO+z6FOWP1j0mYY/2EomwASYgKkSYNFnqp5ju02KQKFChcQh7aVKlTIpu6U0lkWflDT1r4tFn/4MjVEDp3cagzK3wQSYABMwfwIs+szfx9xDBRAYMmQIMmbMiFGjRinAGnlMYNEnD3dNrbLoU5Y/ONJnGv5gK5kAE2ACpkqARZ+peo7tNikC27dvx4wZMxASEmJSdktpLIs+KWnqXxeLPv0ZGqMGjvQZgzK3wQSYABMwfwIs+szfx9xDBRD49u0b6OiGFy9ewNraWgEWGd8EFn3GZx5Tiyz6lOUPjvSZhj/YSibABJiAqRJg0WeqnmO7TY5Aw4YN0b17d7Ro0cLkbJfCYBZ9UlCUrg4WfdKxNGRNHOkzJF2umwkwASYQfwiw6Is/vuaeykzAy8sLly9fxsKFC2W2RJ7mWfTJw11Tqyz6lOUPjvSZhj/YSibABJiAqRJg0WeqnmO7TY7AxYsX0bhxY9y6dcvkbJfCYBZ9UlCUrg4WfdKxNGRNHOkzJF2umwkwASYQfwiw6Is/vuaeKoCAra0tAgICUKxYMQVYY1wTWPQZl3dsrbHoi42QMt5n0acMP7AVTIAJMAFTJ8Ciz9Q9yPabFIH+/fsjd+7cGD58uEnZLYWxLPqkoChdHSz6pGNpyJpY9BmSLtfNBJgAE4g/BFj0xR9fc08VQGDz5s3w8fHBrl27FGCNcU1g0Wdc3rG1xqIvNkLKeJ9FnzL8wFYwASbABEydAIs+U/cg229SBD58+AArKyvQf5MlS2ZStutrLIs+fQlKez+LPml5Gqo2Fn2GIsv1MgEmwATiFwEWffHL39xbBRCoU6cOBg4cCHt7ewVYYzwTWPQZj7U2LbHo04aS/New6JPfB2wBE2ACTMAcCLDoMwcvch9MisC0adNw7949zJkzx6Ts1tdYFn36EpT2fhZ90vI0VG0s+gxFlutlAkyACcQvAiz64pe/ubcKIHDmzBm0bdsWV65cUYA1xjNBKaJv1dYg+G7ejP2+SyM677FgIdZs346guXNx/OzZP95XXViyVWtcv3sPFhYW4qX0qVOja9MmcOreDYkTJfoD5t1Hj5C/kT3enzqBhJaWxoOtRUss+rSApIBLWPQpwAlsAhNgAkzADAiw6DMDJ3IXTI9Azpw5ERwcjIIFC5qe8TparETRRz+oh3lOw9EzZ7B17hxkTJsW0YlCddHn1q8f7GtUFy/devAAXUePReG8eeAzdozJib4GAVt09Kb53latWjXs379fMR1k0acYV7AhTIAJMAGTJsCiz6Tdx8abKoFevXqhaNGiGDRokKl2Ic52K0307Vm8CL3GjcfTF//Cf8Z0WCVPLvoUF9FH11Pkr0TLlri/dw/SpEoViUtMkb7vP37AeZYX9h47DktLC5QqVBjTRwyHdYoUcJ07DzsOHkKihAmRKX06LBnvhrQ2Nhpfj7MzAHCkL3pqqnGqC1ND3MOizxBUuU4mwASYQPwjwKIv/vmce6wAAhs2bMDKlSsRFBSkAGuMY4KSRJ+P/3pkTp8e2w8eROgyX5QvXiwCQlxFH92YqVoNBHjNRKW//9Za9E1Z6ouT585j3XRPkfo5YNJkfP/+Ay69eqJq1664tTNYvD55yVKULlwIttlzRPt6nQoVdHIgiz4WfToNHL6JCTABJsAETJIAiz6TdBsbbeoEXr9+jUyZMomjGywVttbLUGyVJPp6uY3HgPbtkCdbNsxYvgLH/VYjXerUouu6iL7M1Wtiu888lIySrhtTpK9Wj14Y1qUTGlatKtq9cOMGGjj0w+1dwaD3Pn76hLoVK6B+5cqoUqokKDIY3eu6+ksl+p4+fYqMGTPqWo3Z3Ve9enWEhoYiYcKEqFSpkuz940if7C5gA5gAE2ACZkGARZ9ZuJE7YYoE6MflyJEj0aBBA1M0P842K0n0LVi/AUdWrxR96OTsgmevXmKHz3xYWljEWfSRWKvYoRMe7t+HoVM9sTpom6i3Y+NGGNunt8aNXKp36y42gLGrUkVcf/76ddTt1QePQ0NAP/RPXbiAkJOnsHb7DrSpXw8uvXtpfD3OzuD0To3IpB6nuvhG/R4WffoS5PuZABNgAkyACLDo43HABGQiMHHiRLx48QIzZ86UyQLjNiv1j+ldrZqhusufm6fE1quokbx3Hz+iYoeOIuI2ZeiQOIm+m/fvo+voMShTpAhmOo34o+mYIn2TFi9B2IWLIr2T1u4NnDQZr9+9w7AuneEw3gOhy32RPGlSUCrqnqPHMMahd7SvB3rPiq3L0b7P6Z3RY5N6nOrkHLWbWPTpS5DvZwJMgAkwARZ9PAaYgIwETp06he7du+P8+fMyWmG8puP6Y5rEMG14Y2VlFa2RUok+qpyibFU7d8Wi8ePw+fMX9HH3QLIkSSK1++LIIdCRDbRjp6WFJSwsEiB96jRo26C+iMJFdySDSvSlSJYsUl1b585G6cKF4eI9GyEnTuL7j+8oVagQZjk5IXUqa4ybNx+Be/fCKnkKJEuaFHNHj0LB3Lk1vq6LF1n0sejTZdzwPUyACTABJmCaBDjSZ5p+Y6vNhEDWrFlx8OBB5MmTx0x6pLkbcRV9yZIlw8+fPzFs2DC4uLj8If50FX1mD1rLDrLoY9Gn5VDhy5gAE2ACTMAMCLDoMwMnchdMl0DXrl1Rrlw59O3b13Q7oaXlcRV9Xl5eGDVqlBB+dC+JP/pbFflj0acleA2Xsehj0affCOK7mQATYAJMwJQIsOgzJW+xrWZHYM2aNQgICEBgYKDZ9S1qh+Iq+uj+tGnT4uXLl6KqxIkTC/E3dOhQjB49Gke6ddJpTZ/Zg9aygyz6WPRpOVT4MibABJgAEzADAiz6zMCJ3AXTJfD8+XPkzp0b7969M91OaGl5jRo1xFb4+pZEiRLB3t4evRL8iFei79YTT33Rxfv7Czbwj5WBLg8nYq1Ujwt4Ixc94PGtTIAJMAEmEEGARR8PBiYgMwE6C8zd3R21atWS2RLDNk8/XqkcOHAA1apV06qxdOnSRRvpozV+R7t3NqroOxR+WqSaqgp9eVYtXUr8eTAsTBynQD3MmDat2HRF9DUsHM9evRL/P4H4nwRoWVs3P5PoK1jZSStufNGfBC4f9gSLPh4ZTIAJMAEmEF8JsOiLr57nfiuGgJubGz59+oSpU6cqxiZDGqKt6PP29hZr+H78+CHSOocMGSI2dLG2thbmGXtN38HwcCzfvBV+27fDvkZ1ZMuUCTNGOApb7AcMwu6jR2FfqybG9emNwnnzitfbjXRG3r/+wtLATejVqiUSWlhgrEMfnfCy6NMJW8RNLPr048d3MwEmwASYgGkTYNFn2v5j682AwJEjRzBw4ECcPn3aDHoTexeov9+/f4/1wrp164rIWuvWrdGxY0dQemjSpEkj7jO26KOGL964gVKt2yJo3hzUqVBB2LJw/QacvXoV3Zo1Fef1qReK/nUY6QyrFCmwcJxrrH2O6QIWfXrhA4m+Z8n7iUpiijRzeqd+nPluJsAEmAATUCYBFn3K9AtbFc8IpE+fHuHh4ciePXs867nm7s6YMUOc06eK7EW9Ug7RN3v1GoyZMxevjx8Ffv2Cs5c3CuXOhc729rCwsPijMyRaM1WviemOw9HZvrFevmXRpxc+Fn364eO7mQATYAJMwMQJsOgzcQey+eZBoEOHDqhZsyZ69OhhHh0yQi+MLfooatd6mKM4PH1Uzx5oMWw4fMePR4mCBTT2dveRo2gxdBgubd0s0kH1KSz69KEHFn364eO7mQATYAJMwMQJsOgzcQey+eZBYPny5QgODoa/f+y7C5pHj/XvhbFF36t371CwkT1WTJoAp5le+PzlM2qVL4/5Y0Zr7Iy7zwIcv3AB2+bMjjYSSEJywsJFyJMtG9o2qB/tNarKWfTpN2Y4vVM/fnw3E2ACTIAJmDYBFn2m7T+23kwIPHz4EEWLFo3YqdJMumXQbhhb9O05egyNBwzELKcR6NO6FVy8Z2Pj7j24tj1Io6Cz69sPpQoVwoRBAyNYfPj4CacuXkD1MmUwcNJkLN4YgPqVKsGuahX0btVSIzOV6PuSpJhBuZpy5Um+nNNoPos+U/Ys284EmAATYAL6EmDRpy9Bvp8JSESgTJkyoHVsVatWlahG867G2KJv0qLF2LB7D8LWr4OlhQVOXbyIKp26YI7LKPRq2eIP2E/+/RclW7XBGs8pqFGmTMT7TQYNwcD2bVGzXDkkL1UGH8NOImDPXmwKCYHf1Cks+vQYtiz69IDHtzIBJsAEmIBZE2DRZ9bu5c6ZEoHRo0eLiJGHh4cpmS2brcYUfZSG2XzIUKRNZYMl7m6iz7RJSw/Xcbhy5w6OrlopjpVQL1tC9qON4wjc2b0TmdKlE2/R8RON+g/E9vlz4eO/Hlv278fEQQOxaEMAihfIjwHt2rLo02NEsejTAx7fygSYABNgAmZNgEWfWbuXO2dKBEJDQzFy5EicOHHClMyWzVZjib7QsDAcO3sO8/3WomfLFrBMkABjHPpg5+EjmLliJej8vu7NmqJm+bJoWaeu4EHHNBTIlQsTFy3GsM6d8O+bN/jy7Rv8dwRj9qiR6N2qFQZPngpLSwuULFgQPce54fzmQNjGsHurKr3zxbfcSJc2DZIkSfIH+7Dw07C1tZXUJyR469evhy1btoojM9KmSY1z5y8ga9askrTz7ds3tGrZEr6+vkiTNq2o8927d6hXtw68vLxRtly5iHYuX76MenXr4t79+xGvderYAePcxiNv3rwwV9FHmzzR94NSS/Xq1bF//36lmsd2MQEmwASYACAeTqvmEnpM/YsmeC5MgAnIQ8DGxgb0wzZz5szyGGBCrRpL9F26eRNPX76EKo5HX5rVSpfG6cuX8fb9e/rSFF+kFKWtWqqUIBh86BA+ffkCm5RWEN+o/32v0jV0bfWyZVCmTTssmeCGZ89fCtFHEcGo0UJ1d0QVfXfv3UPGjPrtCKqNu+lMxZQpkuP1m7dC9F2/fv1/7F0HlBRF130/SYKAEkUBBSQoohIEESQoIsEAgiISJAhIEMlZQHIOguScFAkiKkFwySgSVSQIIkFFCQaQbPjPLez9ZoeZ3Z7p6p7umVvn7IGZqX716lbouvVevZI8efJIihQpzDyeZJ5BgwbJLbdklFatWqu8cXGfSvt27eTo0aOyZs1aRfpgVZ0yZbIMGTxEfvvtV/nj3Pl4uYcPH5bmzZtJXNy6qCR9vgBu2LAh0TsGkwTbhgzo/+jXXDvYAC5FEgEiQAQ0IkDSpxFMiiICVhF4/vnn5emnn5aGDRtaFRX1zztF+uwCsmjt56VXixYyedEimdm/v9yRPVuiRYVC+kaOHCFzZs+WWzNlkkdKPyJr166RL7bvkMGDB8kvv/yiLGhI+Hz2zFkZMXKkLF26VMaMHiWwvJ0+fVqat2ghXbp0lRYtmsvsWbMEZ06XL/9Q7r47X7ylb9bMmTLuv8ikWbNlk9Gjx0jBggVl9OhRsmP7drl8+Yr89vtvkjJlSpk5c5bcfvvtCep47tw5KXLfffL13r3x9zHWrlVLOnXqJK1atZRJkyYr0rdv3z4ZPnyYtGvXXso9WjYB6YPAqlWrSIcOHeSpcsFJsFcDuZD02TUCKZcIEAEiEFsIkPTFVnuzti5HYOrUqbJx40aZO3euyzWNvHpeJ32wjKT5L5BLoIvd/RH2J324tN7XMgi3zs1btsq6dXHSqmVL+XzbF4pIwQr25Z49iZK+wUOGyGMVK8jcefPlrrvukmPHjsm99xSS02fOSqpUqRJY+gz3zmNHj0qjRi/L5i1bJFu27PLOggUycOAA2fPlV4oITps6VeBumiZNGqVDjttyyJv9+i5/L9sAACAASURBVCWo1rJly+Ttt8cri55/Klb0wXjSZ/x29swZyZs3zw2kDyQXFsiZY69bCwOlaCB9W7ZsEVhe3ZTQjytWrKhchmD9LVOmjJvUoy5EgAgQASLwHwIkfewKRMBFCMClrVSpUsoaw5Q4Al4nfaG2r1lLX6+ePeXq1asybPhwVcT2L76Q1q1bJWnpwzm6VatWyeHDh+TA/v3qzsiffjopGTJmDEj6pk+bJhcuXJChw4bFV+X2HLdJ3Lr1snLlCmWdmzp1mvoNlr8jR47IuHHjE1Qb1ruDBw/KtGnTLZG+JUuWyPjx42TrqreimvSF2mecyO/r3ulG91MnMGAZRIAIEAEvIEDS54VWoo4xhcCDDz4oEydOlNKlS8dUvUOtLElf4DN9gwYOVPc9wmUTaffu3dKieTNF+oYMGSwnT56UsWOvk6M3+/ZVQVMQObZUqZLy3HO15JEyZdSdkbD0/fDDj5LxllsCkr4pkyfLlStXZMjQofFNl+O27PLJmrXKnfS7776T8ePfjid9vp+NB0aMGK7I4IQJEy2RvuXLl8tbb42VTR+PJukLdSBZzE/SZxFAPk4EiAARcAgBkj6HgGYxRMAsAp07d5b06dNL7969zT4Sk/lI+gKTvp07d0rdF+vIlq1bJWvWbNKhQ3vZvGmTIn2wzs2ePUvWrd8gOE8Hl87HH68kzzz7jDR6+WU5dPg7SZ48ubLyvdywgYqSCRlp06SWkz//Igg0ZLh3fv/9EWncqJEqB+6dC999V7p37ybfHjqs3DvNkD6QtQkT3pZVq1ZbIn0gfMpiOOpVkj6HZwOSPocBZ3FEgAgQgTARIOkLEzg+RgTsQmDNmjXSr18/2bRpk11FRIXcWCd9adOmvSHa56TJUwTBgObNnSujRo1U1zrgrN+BAwcU6YNVD+Tuyy/3SK7cuaXkQyXV3YE409ekcSP55ptvBHLxzPbt22XKlKnK8lfnhefVma1Nm7dI6YdLxQdyAYkEaUN0zcxZssioUaPl/vvvV+6cZkjfxYsXpWDBArJv33610eGbQjnT91T16tKhYwepWiYrSZ/Do5ukz2HAWRwRIAJEIEwESPrCBI6PEQE7EUiXLp0cP35cMv93b5mdZXlVdqySvis33R9Sk23dskXatXtdkT43Jrijps+QXl57rW1Y6iGACyKMxsKVDWEBZPNDJH02A0zxRIAIEAFNCJD0aQKSYoiATgRq1KghderUkbp16+oUG1WySPrMNafbSR/OBeKahlmzZilrYaipfr2X5I3efdRVEdF4OXuoeDidn6TPacRZHhEgAkQgPARI+sLDjU8RAVsRePvttwVns2bMmGFrOV4WTtLn5dazR3eSPntwTUwqSZ/zmLNEIkAEiEA4CJD0hYManyECNiMAl7XHHntMTpw4YXNJ3hUfq6TPuy0WWc2j4Z6+yCIYuHSSPje2CnUiAkSACNyIAEkfewURcCkChQsXljlz5kjx4sVdqmFk1SLpiyz+XiudpM+eFiPpswdXSiUCRIAI6EaApE83opRHBDQh0K5dO8mePbt0795dk8ToEkPSF13taXdtSPrsQZikzx5cKZUIEAEioBsBkj7diFIeEdCEwMcffywjR46UuLg4TRKjSwxJX3S1p921IemzB2GSPntwpVQiQASIgG4ESPp0I0p5REATAteuXVN3pp09e1YyZMigSWr0iCHpi562dKImJH32oEzSZw+ulEoEiAAR0I0ASZ9uRCmPCGhEoHr16tKkSROpVauWRqnRIYqkLzra0alakPTZgzRJnz24UioRIAJEQDcCJH26EaU8IqARgTFjxsj+/ftl8uTJGqVGhyiSvuhoR6dqQdJnD9IkffbgSqlEgAgQAd0IkPTpRpTyiIBGBL755ht5+umn5ciRIxqlRocokr7oaEenakHSZw/SJH324EqpRIAIEAHdCJD06UaU8oiAZgTy588vS5Yskfvvv1+zZG+LI+nzdvs5rT1Jnz2Ik/TZgyulEgEiQAR0I0DSpxtRyiMCmhFo3bq15M2bVzp27KhZsrfFgfTFUsrdJFUsVdeWup5K20rJLV++fFD5eCmCyGzYsCHRfLYo6EGhJH0ebDSqTASIQEwiQNIXk83OSnsJgWXLlsnEiRNl9erVXlLbMV2xOI+l9OWXX2qv7gMPPKBdppsFkvTpax2SPn1YUhIRIAJEwE4ESPrsRJeyiYAGBC5cuCDp06cX/JsmTRoNEqNLBEmf9fYk6fsfhrT0hdafSPpCw4u5iQARIAKRQoCkL1LIs1wiEAICTzzxhLz22mvyzDPPhPBUbGQl6bPeziR9JH3h9iKSvnCR43NEgAgQAWcRIOlzFm+WRgTCQmD48OFy/PhxGTduXFjP8yEiQATMIUBLnzmcjFwkfaHhxdxEgAgQgUghQNIXKeRZLhEIAYE9e/ZInTp15ODBgyE8xaxEgAiEigBJX2iIkfSFhhdzEwEiQAQihQBJX6SQZ7lEIEQE7rrrLlm5cqXcc889IT7J7ESACJhFgKTPLFLX85H0hYYXcxMBIkAEIoUASV+kkGe5RCBEBJo1ayZFihSRtm3bhvgksxMBImAWAZI+s0iR9IWGFHMTASJABCKLAElfZPFn6UTANAKLFi2SOXPmyIcffmj6GWYkAkQgNARI+kLDi5a+0PBibiJABIhApBAg6YsU8iyXCISIwO+//y7Zs2dXVzekSJEixKeZnQgQATMIkPSZQel/eUj6QsOLuYkAESACkUKApC9SyLNcIhAGAhUqVJCuXbtK1apVw3iajxABIpAUAiR9SSGU8HeSvtDwYm4iQASIQKQQIOmLFPIslwiEgcCgQYPkzJkzMmrUqDCe5iNEgAgkhQBJX1IIkfSFhhBzEwEiQATcgQBJnzvagVoQAVMIbN++XZo0aSJff/21qfzMRASIQGgIkPSFhhctfaHhxdxEgAgQgUghQNIXKeRZLhEIE4E77rhDNmzYIHfffXeYEvgYESACwRAg6Qutb5D0hYYXcxMBIkAEIoUASV+kkGe5RCBMBBo1aiSlSpWSli1bhimBjxEBIkDSp6cPkPTpwZFSiAARIAJ2I0DSZzfClE8ENCOwYMECWbx4sSxdulSzZIojAkSAlr7Q+gBJX2h4MTcRIAJEIFIIkPRFCnmWSwTCROD06dOSN29eOX/+fJgS+BgRIAK09OnpAyR9enCkFCJABIiA3QiQ9NmNMOUTARsQKFOmjLz55ptSqVIlG6RTJBGIXQRo6Qut7Un6QsOLuYkAESACkUKApC9SyLNcImABgb59+8qlS5dk6NChFqTwUSJABPwRIOkLrU+Q9IWGF3MTASJABCKFAElfpJBnuUTAAgJbt26VNm3ayK5duyxI4aNEgAiQ9FnrAyR91vDj00SACBABpxAg6XMKaZZDBDQjkC1bNtmxY4fkzp1bs2SKIwKxiwAtfaG1PUlfaHgxNxEgAkQgUgiQ9EUKeZZLBCwiUK9ePalYsaK88sorFiXxcSJABAwESPpC6wskfaHhxdxEgAgQgUghQNIXKeRZLhGwiMCsWbNk5cqVsnDhQouS+DgRIAIkfeb7wKhRo6Rnz54yZMgQadu2rSRLlkxA/vD/qVOnyqBBg6R9+/bmBTInESACRIAI2I4ASZ/tELMAImAPAj/++KMUKVJEfv31V3sKoFQiEIMI0NKXdKOfO3dOsmTJIilSpJC0adPK2bNnJXPmzPLnn38q8nfmzBlJnz590oKYgwgQASJABBxDgKTPMahZEBHQj0DJkiVlxIgRUq5cOf3CKZEIxCACJH3mGr1bt24yevRouXr1avwDIIGdOnWSwYMHmxPCXESACBABIuAYAiR9jkHNgoiAfgTgYgXXqv79++sXTolEIAYRIOkz1+iw9iGY1JUrV+IfSJkypbL60cpnDkPmIgJEgAg4iQBJn5NosywioBmB9evXS9euXWXbtm2aJVMcEYhNBEj6zLe7r7UvVapUUrt2bZk/f755AcxJBIgAESACjiFA0ucY1CyICNiDwC233CL79++XHDly2FMApRKBGEKApM98Y/ta+2666SY5ceKEZM2a1bwA5iQCRIAIEAHHECDpcwxqFkQE7EHghRdekKeeekoaNmxoTwGUSgRiCAGSvtAaG9Y+RPPs2LEjz/KFBh1zEwEiQAQcRYCkz1G4WRgR0I8AQqRv3LhR5s6dq184JRKBGEOApC+0Boe1r3HjxoIrZHiWLzTsmJsIEAEi4CQCJH1Oos2yiIANCBw9elRKlSolv/zyiw3SKZIIxBYC4ZA+44Ly2EKKtTUQQPvrSuh/TESACARHQOd4izWcSfpircVZ36hE4MEHH5SJEydK6dKlo7J+rBQRcAoBK6SPixGnWskd5RhkX2e7IxrzP//8444KUgsi4DIEjPnZZWp5Rh2SPs80FRUlAsER6NKli9x8883Su3dvwkQEiIAFBEj6LIAXY4+S9MVYg7O6EUeApM9aE5D0WcOPTxMBVyCwZs0a6devn2zatMkV+lAJIuBVBEj6vNpyzuttkD5cnYNUvnx5y0rQ0mcZQgqIYgRI+qw1LkmfNfz4NBFwDQLp0qWTY8eOSZYsWVyjExUhAl5DgKTPay0WOX1J+iKHPUuOTQRI+qy1O0mfNfz4NBFwDQI1atSQOnXqSN26dV2jExUhAl5DgKTPay0WOX1J+iKHPUuOTQRI+qy1O0mfNfz4NBFwDQITJkyQHTt2yIwZM1yjExUhAl5DgKTPay0WOX1J+iKHPUuOTQRI+qy1O0mfNfz4NBFwDQKHDh2Sxx57TE6cOOEanagIEfAaAiR9XmuxyOlL0hc57FlybCJA0met3Un6rOHHp4mAqxAoXLiwzJ49W0qUKOEqvagMEfAKAiR9XmmpyOtJ0hf5NqAGsYUASZ+19ibps4YfnyYCrkKgXbt2kj17dunevbur9KIyRMArCJD0eaWlIq8nSV/k24AaxBYCJH3W2pukzxp+Mf306udrxnT9dVT+yUXv6xATL2PFihUyYsQIiYuL0yo3MWGYRJiIgBUEdF5ubUUPPEvSZxXB2HmepC922po1dQcCJH3W2oGkzxp+Mf00SF+FHr1iGgMrlV8/aIDoJn3Xrl0TXN1w5swZyZAhgxX1TD/LSdg0VMwYAAG39R+SPnZTswiQ9JlFivmIgB4E3Pa+0FMr56SQ9DmHddSVRNJnrUntIH3QqHr16tK4cWOpXbu2NQVNPs1J2CRQzBYQAbf1H5I+dlSzCJD0mUWK+YiAHgTc9r7QUyvnpJD0OYd11JVE0metSUH6Urdpp4SUL1/emjCfp8eMGSP79++XyZMna5OZmCBOwo7AHLWF+L6EdI6DcAEj6QsXudh7jqQv9tqcNY4sAlxvWMOfpM8afjH9NEmftea3i/Tt27dPnnrqKTly5Ig1BU0+zUnYJFDMFhABkj52DK8iQNLn1Zaj3l5FgOsNay1H0mcNv5h+mqTPWvPbRfqgVYECBWTx4sVy//33W1PSxNOchE2AxCxBESDpY+fwKgIkfV5tOertVQS43rDWciR91vCL6adJ+qw1v52kr3Xr1pInTx7p1KmTNSVNPM1J2ARIzELSxz4QdQiQ9EVdk7JCLkeA6w1rDUTSZw2/mH6apM9a89tJ+pYtWyYTJ06U1atXW1PSxNOchE2AxCwkfewDUYeA10gf3gvPP/+8ZM6cOb4t/vnnH3n88cdl6tSpcvPNN0esjRo1aiQ5c+aUAQMGREyHxAr+5ptvpFevXrJ161YBZoULF5bBgwdL6dKlHdX3o48+kmeeeUZSpUqVoNzbbrtNjh49mqguy5cvF9TDy/f4cr1hrbuR9FnDL6afJumz1vx2kr6LFy+qF/iFCxckTZo01hRN4mlOwrbCG/XC6d4Z9U0ctRX0IukDcdm7d298m/z2229SqVIlqVOnjnTp0iVibeVm0ofAaGXLlpUhQ4YI9EyRIoW899570qJFC/nss8/knnvucQw3kD548Bw4cCDkMtH2f/31l6qHVxPXG9ZajqTPGn4x/TRJn7Xmt5P0QbPKlStLmzZt1K6gnYmTsJ3oRr/saCR9d911lxw7dkw1XrJkySRLlixqUT106FDbN2GMHoMzvbDqvP/++1KjRg1tHQlWjoceekhee+01qVChgnIjN1Ly5MkFFodu3bqpucdquu+++9QCe8+ePTJt2jRp1qyZrFmzRpGUYOns2bPSo0cPeeKJJ9S1NWafS0rXl19+WVKnTp0gKnI0kD4E/KpSpYp06NBBXn31VTl9+rRqu0OHDsnff/8tzz77rLz55puCcbp582Zp3769XL58WVmaECn60UcfVdavjh07qk3GlClTSr9+/dTVQSNGjJAvvvhC5Qe5xG9z586VO+644wa4EyN9weSDvDZv3lyuXr2qrG/ok7iuKNj3voX++uuv6uy7f4Ie0Ns31atXT7Jmzarq65sWLVqkLH733nuv2mStWbOm8q758MMPFXaBMLGiM8pOivQFw/zEiRNqPKDPvv766wovtCf0KV68uCxcuFCRyU8++UQwjjHGUV/c94vAcLfeequcP39etSN+GzZsmLzzzjsyYcIE2bJli4Ll+PHj8vDDDyuLo78lMqnxZfZ3rjfMIhU4H0mfNfxi+mmSPmvNbzfpGz58uFp4jh8/3pqiSTzNSdhWeKNeeLSSvkuXLimSd+XKFVm7dq0KrFS3bl1ZsGCBI21qF+mD23jfvn0Fi8iffvpJkb5y5cqpxTYWhKNGjZIffvhBLfaxOLSSfEkf3NJA+GrVqiW5cuUKKhYujFh8Y0H64osvKnc2M88lpedXX30lDzzwQIJ6eZH0Ab/06dMriw/IUsGCBeWll15SVj4s9p977jmpVq2avPLKK3Lt2jVFFED8kAe4A1eQbhAxkKy4uDglAwQIBBAWKFjFYAH74IMPFEkGdvA4adKkieTIkUMGDhxomvT98ccfQeXDFRR9DCQV7zpYskAqQdADfZ9UGwf7PX/+/IoIAodgCRsCI0eOVCT0zz//VNa/QJhY1RmkD3qgDX0TsMXYg57BMPe19MHaN2XKFNU2ION47vPPP5clS5aojRZsAKCPzJgxQ5E+lIe2B1nEhjLI8QsvvKD6BPoAyG/v3r1Vn4Hbq12J6w1ryJL0WcMvpp8m6bPW/HaTPuyOw7pw8OBBa4qS9NmKX6wLj1bSh4XT4cOH45u3YsWKsn79ekWIYOmYOXOmOr906tQptdM+duxYRSqQsGjCwg2/IQIviFbRokXVwha79J9++qmyLGDxB2KZMWNGtdiCtQakErvyIGIow7D0BSsPi73OnTtLgwYNVN5x48apBV2gBJKDc1cgBsiHHX2QvqZNmyqLGtL06dMVYcBmU6lSpdTiG0Rj3bp1iozBMoAzRfPmzVPWkCeffFLeeustdc4MRAJBqGB9gqUIxAF1C2Tpw+K3Z8+eyiIFPGGNAllB3Y0EHGFl9bUQog1AcL7++mv1XMuWLRVu6IewUj744INy0003qbaCxXbWrFkKeySQULSHQdy9SPoM905gD2vN7Nmz1aL99ttvVwv6dOnSyd13360IIBKOClStWlW9Sxo2bJigT+N3PIv+s3Pnznjc0d4ghrD8gXSj7yGhr3333XeqP/unYJa+xOSDQKLv4Uwi/lAu2hvEP9D3vmXC0gcLnX8CYcSY8k0gtfguMYs5SB+uS8qbN2+imFjRGTqZsfQFw9yf9EHfOXPmqKpivkA7Pv300+ozxgfa8JdfflGkD2PIIL2jR4+WXbt2KYKNMYg+grbFXLBhw4YE1n/d7zeSPmuIkvRZwy+mnybps9b8dpM+aIdFy8qVK209c8BJ2Fo/iPWnY4X0wToGYgL3KSwQscjCzjgupAf5A4ECgcFCClYzEJMyZcpIq1atFNECISpSpIj8/PPPaoEFVyvkwa47AjSAOIEQwkUL5AfWDyzqQORAqIKVhwUcFnsgX1h4Y/EMV7ZACQs9EFTDimaQPliBYOWApQ/lYqEOnbDABenDYhCLZpCJjz/+WAYNGqRIIlzHcC7KCCSCfHALgwVi+/btynIDIuxP+nLnzq2wwHOoM2SDdKC+IBhvvPGG+gP5BN4G6cuXL5+ySMCtD9iDiIKcQncQP5A+1AFWUpBHuK/CPX7p0qUKDlg/3n33XZXHmPfgvguCiIS2tJogD+TLjgQy5H+mD0QclilYQ0EE06ZNq3AEVkggR7AE4Vwb3BzRR40EYgBrLxb+O3bsiP8emwLADpZEbHxMmjRJ/YZ+i89w//V1C/7++++V9ThQIBfohU2CQPLbtm2r3FHRxsgH10roBOIX7PtwcAURzJQpk2Cs+Cb0sTvvvFP1M4xpbOigbJ06lyhRIt5VHH0b8hM702dg7I85PvuTPuhreAJhrgHOIHhIsACiDdH++A51NEgvxhv6AzZEYPHHGId8jNsVK1aEA7HpZ7jeMA1VwIwkfdbwi+mnSfqsNb8TpA+uJtidxsvRrsRJ2C5kk5aLxVmg3eqknwwvBxa3WAjoTLFC+kD4sLDFJgxIEdyvQXpQfyy2YamDVR4LOrjF4RwUCADcROEah0UvFldYaOLMFBIsLyCJICFw78KCC9YVWGlgKQRJAekDYQxWHlzQQPqwcMY5uMQSXL/g7rdp0yblwmeQPv9nsEjGAhVEDDrjjJ3h0leyZEn1veGehnpjsQ89QPBAgEEikEAas2fPfgPpA04gl4YecKEFMQFe/u6dvmf6QB5RV1hKH3vsMVUGFu1Y0O/evVuRPhBKuKYiwXUNG2coB6l///6KLMICC2LsZUuf0WZY+BcqVEgt2EHesWGAemMRj76HzQKQZliCQdpBevEdXAFB7kCy4MqIvgH3zm+//VbQxjgvtmrVqoCkzyAkvv0mmKXv999/VyQ9kHyMKVgh0fcxXqAfxg5cFwN9jw2LcBLmWUTpxMYKiC/6Gay96IOoJ96xvqTPTp3NWPoCEW1gjvkHuuGsHjDyJX3o2+j3wBljCRZwzCs46wfSh++wGYL5BQQRsmBZRcLGAcYW8DEsheHgbOYZrjfMoBQ8D0mfNfyi6mns2mAn55ZbbjFVL5I+UzAFzeQE6cNCCu47eFHYlXRPwlgQG4vaPn36CNziIp1wQB3WALzUsCsOF6hIJiw24d5nvJCd0gWBQbBARPug3XWkWCF9cI2C9QtWDbhyYuEF8oIFLXbTQYKwsAKpAnGByxSsXgi0gLM1+PMnfViIz58/P570wYqG57AoxVkcuLiB9MHlKlh5hnsniFixYsUSbVLjnCDIP6xaBumDlRABPqA/SJRhJTKIqmFJg3C4SoI0/fjjj6osg0ChnnCdBDkESUQCAQMh87f04dwYzpPhrCSsfSdPnlS4gjTCyuJ7ps+X9MF6geAavqQPZcB6AismSB/6t2G5A+EDIcXC3pf0nTlzRllPo4H0oV4gAOiT6I+Y34AtMDYCueB3jFMQPVhE0cfgAov5EC68IMUg0yAE6Hsg7TjvlZjVyb+jgfSBSPkGAAGJxCZJMPkgnNjYBDlFuXAJBnkJ9r2V+Qp1x4bLl19+qSyxIHrYoMDmB5Iv6cNnu3Q2rmyARdY/gXADw2CkDzphjQeyjjHqS/qwcQLPAYwpzDWwMMKFG+PPIH2w6uGMJTZ1YDU0EuY1EGCMQcMt2ArWiT2re71hl55ulUvS59aWiYBeIH14cbdr1065zCRF/kj6rDWSE6QPu3rYKcfLGGeM7Eg6J2FYG7CAxG4jXtzYTcTCKpIJu51wocOiBudasGBEAhnVRXxCrR90wbkNu11pAumFOmOBbJxzClV3//zRSvpgecCiFwtnLBhhecNiC8QJxAR9CgtjLJZgSYHFC4s2nHXDAhiLWfQxuFwBIyzIYdVFf4RcjGkQGFhm4H4ISw1cJUGasLDDwgykC6QPmxTByjPcO2Hpwnm2xJIRzAQLSwSlCXSmz/d5g/ShDLxXkEAI4N4JIgGChTGFgCvQHwQYi35sVm3btk3VJzH3TliU8M7CGTG4aoKoAEMs/uEWCwzhJmq4dxpuoXDxxAIe5A7EBYQH3hBJkT7IwQIX55yQvEb6rI5VPh+bCID01a9fX41T/wQCjDkMmz1du3a1HSCd6w3blXVhASR9LmyUSKpkhBoH4UuK/JH0WWspJ0gfNIQ7HiZjuLuEkxARDIsd/2hhhixdkzAWxyCmeIkYZMpwfcMubqQSiCcWh8Yf8MTu7saNG9XustMJOMHVCEQiEuVj9xcLdOx46yjfK6QvsXFgLP6NDQr/KxuyZcumXKEQWMQYRwh4ApdLWJFh4YL7lUG6QIpAEnEuCeQawU9AfrCDD5KDvggiB4sWztfATRT9Ajv12LxD8BOUB3JoBHIJVp5h6TND+lA/LO7gwvX222+HRfpgUQCRBbHDphTIKKxxOEMHayOIGs6NwdUU58VgxQkUyAVh8Y1ALiBzsD6DQEImAlCA/MFTAFj4BnLBxhKeg2URwUsQOAaYGoFcErP04RwhLCBGYJJwSJ8R4THYfGrnmT6n5yqWFx0IBCN9OFeMsQd3T4xnu+8EBpq61hvR0TKh14KkL3TMovoJLBgQRMBIiZE/kj5rXcEp0ocFJNyRsGgNJ2EiBxGDWw/crvwXK7omYZzLgGsRzoxg4QO3NeiOxZluixoWa/4y8Z3xvfEbPoP0wT0OlgQkWLmwAEce6GlGN4PI+sr1tWD6kid/PXzz4XksdhFII1jofyO/Gb0S6w+BMEJ+fI95ARaUQPdchdrHvEL6EhsH/qQvVAy8lB8kEdYxWPl0kH6v1B1RJxG6H/3eOBsWDulLaj4l6fNKj6CekUBA13ojErq7oUySPje0gst08N2lToz8OUH6Tv/6qyxZs1baDR0mS8aOluqPPuoytMJXxynSh0WKcWFtONriLBB25g3iAvKHzwb50zUJQw50xVkkRGHDLiKsSQjm4J/MuHwGIj2wrMAaAjxw/gAuXgjogNDw3RMfnwAAIABJREFUjzzySHwxIJ6wGiBoAwifsRCDhQPWA5xpQTADJFhdYCmArpAH9y8siGG5gJs0LC34DGuOERoeebDBgt+QcE4DLmk4T4FzIkZC+cb5RgSOwG4qztsg0ALq4Z9wxg8uODhvhCAHsGKEktDGILlwdzt37pw60wHXHWDgG5kQlhS43uGMn9XkFdKX2DiIJdKHiIywPqJvYozESoK7KOpuXE2BeodD+pKaT0n6YqVHsZ7hIKBrvRFO2dHwDEmfplbEAitaElxpEEggUPK1/G1r1lgq9PjfYV7d9f9ow0aZtnSpjO7cSfLkzCl1OnaSutWry7W//pIG3brL5V3XQ0QPnDJVcOwre+ZM0qx2LVm0+hP59tgxKXpPIalmgiRu2rkrwbmxciXCi/AVav2dIn3QC/dRYeGO6GbhJJAIBJtAwpkbTBwgOnCTAvkzQ8ISK9dYPOFcE9wmDTcqhIX2P7AOkgWrIFxBcWjc+Nf4Pz7jD+d8fCNbGneMGQEkYK3AYXycm4KbHMgViBkSLFg4j4RgKSBB0Aln+VBvWPxAeqArFmj4g2wj4IxhEQTpA1FCNDlgBwzhnocD9CBjOJMF4geCCbIIdzSDqIJcoq3gSorzWTiADxcaJJQD0oozW74JLmcgzMAHWKAu+D8O4vums2fPKl38EwgfnkN9saBHnUC44XIHkunbxrD4QtdAlyyH2r+8QvpQr2DjAHjAxdLqOAgVO+aPLALhkL7E+hHmU/Qju65siCxaLN0sAsHWk9iYTCrCrtkyvJqPpM9ay5H0WcMv/mkjHLcmca4Xg3Mdkx8qahvp++rbb+XZNm1lxsD+UvGhhxQe/SdNlk27dsnGHTtlw+xZUqrIfde/nzxFBk6eIpd2blcL0Q/i4uTtdxfKPXnzythuSR8s3rhzp5J56uyvUrPSY1KxZElH8Afpq7I4MLl2RAGLhSBSH+6wQtAVq4tdkBpYqAxCBtVAPHBeAPcD+Sf/8gK5Igay9GG3HgQO550QGQ6R/7DJgaiFvmcJQawQmhtlw7JnuHdCJsgfSB/OUPm6t4GgwfoH8gh98BnBIVCWQah8owYiChrObSEv7q3ylYcgNji3B2Lo+z3kwDKJ/FWqVImHBTLQFvjD+SWjPOgOEmckQ3eE+cfBfN+EvLA4guwaL1bggjNWsLz6bgSByE6dOlVLVFirbqgWu7Hlx3WOA8vKUICjCBikT2ehGA9uJH1OXw9jFVOsyRAJF0F7vJR8524EfUJCPbApCK8LX48UL9VLl64kfdaQJOmzhl/80wbp811gaRLtuJjELH04FI8AL/iz09I3fclS6TxqtJzatEFS/BcsY/327TJo6jQp8+CD0qdVy3hcJr+3SC5duSztGjSQ1MVKqO8NKyD+v2nnTnnU536eAZOnCKx55Xy+a9yrt7xSq6aUKVrUMbydtPTh/BdeIMYlw6FWEiHNYSFC8rX06bJw4G4yw6pm6IaXGwgHIhn6J8OaFqgeBiE07uHyzYMX6pw5c1QQCpAbEB0QS4S2R/0MqxhIHyxycOXyJ324UgJkEWQMeqAcTKS+pA/lQAaexe8IgQ1yYISYh3UP0Q/hHgkChzNCsBwaEVZ9F5O+pA/fIwIk/hCu30iGeyrIIqyXcJM17kPzDcOPOiLyJ/5wt5aRoC8sg7AgIiIkkqEDdMNVAIgCayQEcgERxrlLq8lLlr5g4wDuzpgbrW5+WMXS/3kEZwFBj8R7CVggwizmHViy7Qjljn6LPnvs2DE11py+3iVcS19i8yn6kZtIH+qIufm9995TLuhOJ2BhrK9C2SDCRhU2weCKb0ffswsH1BHu/wiegsi86N+I8mtsBoSCAXBD+8HjxImxgQ1OrAnCvQ/RDKYkfWZQCp6HpM8afvFP+5I+vHy8nAKd6fMle8ZVDnae6Xtr3nx5b/Unsnnu7Hgo133xhbzYqYucXB+XwMLyYueu0rRmDVm4erXUrvyEVPnPDc54EJbADdu3y9ppcAP9V9IUfyjeKmgsbvNWqSYbZs2Q3AHOj9nVlk6SPkQBzJMnjwqUEmrC+S4sakE+MGGA8BtkD7J0TMKQgYthcQ8ZEi71hfsi/vW/GgAuiyBt/snXZRHy4N7pm9D2iLq5ZcsW9TVcIUEAQcTgSonzcLhzCvny5s2rfjeIm6+lz5f0YdzDIolFRSBLH34DQfS19EEm8mMxDPJmWN8Q4h/1wrk/nJXCIgvPI3AMFgEGzsAf5/t870lCdEf8gfQhHyyMCK8PXc0E24B+eFEjsqBBlo0FLXTwdzeCxRQLV+O8Yah9yje/V0hfYuPAjWf60BfQ99D+IH24qN2pBDzQZ/CHc3CwgGPcmemLZnVEe2As4H2LuQmuxk6TpXBIX1LzqdvO9EXyehi0J+6/g1cBoq7CQyGUPoRjAHCzx1nuUJ4z2wftyGd4rRh9y9j0w3sP75hQEq5/weagr4dJKM+HkhfRgdE+eFf+/PPPCTYJQ5GTVF4d642kyojm30n6NLVutJA+/+idgcieAZmdpG/P/gPycL360uvVFlK26IOya/8BOXzsuMx4/31F2Dbu3CXlSxS/fu6owmPy+/nz0rVpEzl5+rRM6Xsj6QbxGz5jply9di0B4UNddh84IC926iwHP/pQVQ3unr5WQE1d5AYxBunDnU++VhS7yoNrCHYNQ92FQ0h1vHyx2wiXQJAWvIiNZHUS9rVq4W4uuBEitL2v5UsHJnh5YkMDwVVwHhFlYOcaYfJBtIxycREzygZpNCwkcD+FOyjGOdycQMpw2TZCyyOSJsYNArBAPs7l4AUNKxhe0nATxWcsSkFkQaKwWIUFDvJxyTGiAsIqAqwREh5RS2GVhdUdxArPIKH88ePHKx1A8owEayiseCDnOD8InWbPnh3S3Yy4Sw2uryCjqI/h2or2wcsc+hhXCsAKCxx1BPIwXkJOjYOk+hLaDO2FwDyI0mqkxMaBG0kfrMjYOEC/x7jHBkcoVoKkcErsd4wXWO9hgUaZWHDjKgW8T3SkYNe7OG1p9SV9GDvYXEsqYdziOWxmYaxj7MMLwEiYG5wmr8F0jvT1MPCIwHlinGfGmWXMOwULFkwK4vjfEawLG33oh/Do8FLChifGLa4tCXfcGv3TCdJnWCLxbsJGjOGaqhtzq+sN3fp4TR5Jn6YWixbSZ1j5EiN7BmR2kj6Use+77+Slrt2lWa2a0uDppyV9unTy/to4OfvH7ypgC9Ku/fulaouW8svG9epFeu+zNWRS7zekfInrbp5GwnlABHxBurjjiwS7fvjtx1On1HNIcBH1dQ/V1EVuEOOkpQ+Fo4/C1QX3eoWSYP3BOTEEGAiUrE7CIBMgHLBcgQTlzJlTBTfR7ZJjWB9AtkDYECQGCwhDf5SNFxaIExZk+B56GAn64GwFvocVBcQI4etVP9y1S3BGD2VgDCFapyHX+Ix8+M6QDcsHXHjgIopzJ3BRO3HihOAeMyRsBEAe/lA2/gXhhqslFoYgnEiGZRKBaVauXKkIK84KhrqzDTkININddbhFYbGE79BfQPaMM4RYSMEVFKQIFlGrySuWvsTGQaRIXyCSY1gKjIWikSfchWOo7YvysBmA/gOLc6DzrKHK9M8PQgvLPgiUYcnEpgmi2zqZwrH0JTWfOmHpC9Yn/L8PdD0M2tO3j/n2QUN34/dQ5yC0HeTjzwiS5VteOPLhTYFAXb7u8E72kXDrhKMNOG4wZMiQsNU1Nkf8SZ+xqRCofXwtjf5zRqC2920r430FhcNpezMVtbreMFNGNOch6dPUutFA+rCINc7r4V/DjTMYRHaTPjNN0230GPnl119lZv9+KjuudsA1D/OH/m+ibPFmP+Uq+tvWzeplUqRmLfnmg+uh8pEqN28h7erXl2rlHpV6XbupKyKikfRt3bpVHQQHQdGZrE7CIF5wF/WPRqlTx2iSZSyiQZaxmAH5AinDbvbDDz9se1VhVcQLHe6vOpJXSF9idY0U6YNVEvghyAMizsJqjM0AWEeMczyI9oczWQcPHhRcEm82mbGaBSKSOEuFDYIVK1bIk08+KbCcQxe4luNCeR0J5cJtFO8obGQh+QdW0lFOUjLCIX1JybRK+nBWF9GaYR2DtQUbSrD4IhlXuhg6GG2MOQWWNFzRgrPOcHlHG+J6GFjI4OKJZLii4/9oA7gPwpMBCW0Md3Jjsw6beP3790+qugl+N0iK8eWaNWsSRKvE2Wi4LMOFEC7DsMgntZkBizN0CrbZGW4/N1sxY74OpU7QCZusOI+L+oab/EkfdIEHB+6chGXad9ygTGy4wrKIhPN5GMOYT9Cf8DvaGFZ8JHiyGG2Pz+gzaA/jyiG7xqPV9Ua4WEbLcyR9mloyWkgfwsMnRfYMyCJN+lZt3iJpUt+k1EFHxiRT9dVW6nPjmjVk4hvXr5NAZM5g1zC80udNmffhdbdOpKfKl5fB7dpK/jvv1NQzgotx2tIHTbDow0tdp6uL1UkY5/jg1mnXzqDtDRmBAvDSxjlEvIhhOcCOPCyGSS2ArKqKaKIgEGgvBIrRkUj6wkcRizi42cLlFwsuWNcQWRb/x3yIhLEO6yyCBPla/zDeYNWGK7F/AkkIdG7WPx8W3/4Jz4Fs+FpsoAsWmcYYx2ISRPX2229XbuOhJGMRDRL7ww8/qMW/4R7tf71LKHLDyes20od1iGFhxaIdJHvSpEly5MgRdScovgNxAgnCGW+4tMNqj6BSsCrBcmpYZ0EA/a+HQX1B6qtWrSq4VgYyQfTg+mxYk6AD7lgdNmxYgjkdfQ/9DeeBQS6CJegHogp3dbh8o70RPMw4WwwPCZzVg1eGrzcI+jzO/WGTwzdoCeqEDTLo7e89Asswxk5SCZulVu4kDaVOIFXwOjHGFv6fVJwIuPT7X82DOvlb2XG2EfevGmQcVwdho2jUqFHK/RvvFbQfPEVgYcRawfesPMYxrkHC2EU74N2Ntke/wPsH5aHPYYPHCEoGPYzxDvdnq9f8WF1vJNXW0f47SZ+mFo4G0hcqFJEmfaHq67b8kSB92JnDCzHQNQjh4sNJOFzkrD0HyyhcRzH34GWK4C52J/QdnIeE+6euRNJnDUm4KWMhBgssLDI4pwr3YpxJxQ49LgPHLrz/hgACL2BR5x/wyNDG3wJiuH35ahtokwGk4fjx44oQ4JmXXnpJ3feIhaVvfiyi4XIXqC9h0Q/3ZhAK/wRrFc7g+l7vgn6J88aIwutkchvpM+5OxVwAUgzrL8gQiDFc2nGeGwQQZ3SxaYTFO0gF+gAW8SDPWLwXKlRI4R/sehhc2QRXdBAvkDGQfFy5AwIFMgk3cX+rskFA8G9Sm1MgnOhHiBIMooF+gLJwxrlr165q3oMV0j+hHyBSrG/kZhAOkFoQo0BHBsLt5yjbOGsdrM+hHxvnnsOtU1L92YjUDHLfokWLBNmN/glCDisdrLcg3fAQQQKuIIK4qgfjB1436A/4HmMJm0X+yagHojyD+CPCNSy+cK9GwDH0O1iN/RMsz2hTq+fAud5Iqkck/jtJnzX84p8m6dMEZAyJiQTpgwsvzn1h4aQrcRLWhWRsyiHps9buWNghyBAW7VhUYYcdC31Eg8VveDcFslLAIoL8WLgFSlgIBkpwp4R1AMGc4L4ZaOGNUPMgoLAcwOUYVgsQUyMZi9FgLmCwbIA0wBLhn3B/Jcr1vYYC53RhmYDVwcnkNtKHusONv2XLloogGeQKRAsuvyCBiOKKgCiwtuF3kDW0A6y7vmQMdcN5OFgH/e/0xPlhIyAWyjGut4EVB14AcEv0T3j3YCMg0G/+eQ2CiL6DM87oS9g8wBlrXHGDfuXrGWIQN3wHbwRfiy+egYsnSGogspnY9T+GXsGuO0gq4A7K820DkE6zdTLKNs7MBevXGOdoU1gjERjINxn9c+fOneoIADaBYPk0SB/qDlxhMccYxXyAzRm45oJABtpEMdoG5B79CcQXhA5HgkD+YNH3vQ4I+hh66HDx5nrD2gxH0mcNP5K+HtddKJlCRyASpA/++rjHDbueuhInYV1IxqYckj7r7Q6XSiz64FqFXXosvLBQxiIPVjdjgQzLnnEtCko1XP0CaQCLSVIp0JktLJARwRZuptABV3t06dJFLX59z5TB0gSrQKhu3ZDje70LLByIVosFbKiykqpfUr+7kfTBEoZIqXDRMxJIHaxOe/fujXe7w+Id9zji3NylS5cSXMtiXEUT6HoYyDQW/jgKArKN4FS47gbuuiBZ2IQwFvtof7xvihQpoog6iCQSrNHYqPA9F2boC1xx1ASWI7j/4p5ZyIfbKKyQvsQRMn2vlPG33OEsHzY6A11fAw8JWL4CJV+3RvRzq54UodTJ0AebN2gDuPCHc7bP6J9nzpxRV1eA/KKN8C8S+gpII7wBEJQMFnSMI5wV9nXP9McHVmO0DTYPMNdgkwHtjjbGGV6D6GIjwbDsoa/AZdfqGOV6I6lZKfHfSfqs4Rf/NC19moCMITGRIH2AF2exMMHD5UdH4iSsA8XYlUHSZ73tYX3D7jrc93B+ySB3CKoAAmYkWMSwyIV1D+P/wIEDSbrahaodFpI4zwVdYGEwrHkINAQLIAJJYQEOwmHmPJVv+b5BMUBYQQRAHGHdwoLT6eQ20gd9sKhHkA1fF0fgAtdPYIQFO/oIrGWw5oCQwVUci3aQA/QPkAKcmwt0PYyBMaywcJ2EKyfGMCyCcDWGG6axsAfpB4lAf0Se3377LT5mAKy5uI4GLoRw1/RPRtAYuHgiejT6FPoWXJUNAoR2B+nDWT64G8L67H9mDIQEV2LAOhnpZKZO/v0d5BNjBpa1UBL6AiI9Y6wDN1jBMU/gM1w6QcBAprFhhCjS2DgB1gZphmUQVrxAZwWNeoBQY0MH5xAxn8CSC7KOZIxVuH0i2jU2F+AKajVxvWENQZI+a/iR9NHSF3YPihTpwyIQA9+IshV2Bf57kJOwVQRj+3mSPj3tbwTyMS5wxiILCW6cSL4ulcYZLiz6cdZHd8KC/uTJkyqIiEEAQPQQ8RUuYCB/+AMJCaX8JUuWKKsErEsIWIKrXuCSZtV6EG793Ub6UA+0qa+Vz6gbdIWlDwFNYKHBn5HgAQICgHN8sNIZJMz/ehhfnHDFDAib0d9glULyvUAc7QtdECwGll0EC/F1wUWfwMZDIGsb9DUuJMccYfRv9BfDkgRXRFgMQehuu+02tckA67ZvQj/DeddQAwaF2ycSe85MnXwJE87g4b4+M+cg/ctFWSDEBlYgZdgIwLwAso42adiwYfw5R8MSb1g4ceb3q6++Un/+48uoB55Be8MCC+x92wZWXLgAg/DDvRztgHsHrSauN6whSNJnDT+SPpK+sHtQpEgfXqTY+cPZCx2Jk7AOFGNXBkmfM21v7LwjguLgwYOVBQ5WH0R+dSKBJMAygEU5zgwhGRfImy0fZ4jg6hbsHKJZObryuZH06aqbL/kwomKGIhvYoK0NaxIW/yAZvq6YOGoAKx7IQTgJ1mOQIt+AKb4ECaQS8nHtQKQ2BsKpFwLlgFDjDCAsZ7Cg2ZnQVgjigsA+RjL6djiEEzJAFhHlFecFgT3uj8Vcb/X+Xa43rPUEkj5r+JH0kfSF3YMiRfqgMPzr4YqDqHpWEydhqwjG9vMkfc61PxaSsPQgQAN2/rFodioZ1oE//vhD3bEHF0QzQT189UNfsev+r3BwiHbSB0xwbQLeE0kFLQmGH9oM0T2xyQirnHFnIALAgMz4ksBQ2wD443wndAO5QDKCFuE3WBph+QwU6TPUspzKDzdLjAu42xqBdAKde9SpD7DCZfBwv4TLtIErcBs7dmxYLuCQgfN8mG9g9YNrOca91cT1hjUESfqs4UfSR9IXdg+KJOmDqwv8+LHzajVxEraKYGw/T9IX2+0fSu1BFHDWyC0pFkgfsMZZL1yRYYWgOd1m0BXkCefhvJSANdxt4SINCxnIMqxkiJBpZ0Jfxh9IGhIi5GJuNtxD7Sw7FNlcb4SC1o15Sfqs4UfSR9IXdg+KJOmbOnWqCtGM8zVWEydhqwjG9vMkfbHd/l6ufayQPi+3kdd0RzAdnFE0IuPiDCTOst58881eq4ot+nK9YQ1Wkj5r+JH0kfSF3YMiSfrgZgM3DrjuWE2chK0iGNvPk/TFdvt7ufYkfV5uPXfrjr7lNiubGxDjesNaK5D0WcOPpI+kL+weFEnSB6VxtxIuasVlx1YSJ2Er6PFZkj72Aa8iQNLn1Zaj3l5FgOsNay1H0mcNP5I+kr6we1CkSR/u14HLCO7isZI4CVtBj8+S9LEPeBUBkj6vthz19ioCXG9YazmSPmv4kfSR9IXdgyJN+nBfDw67b968Oew64EFOwpbgi/mHSfpivgt4FgCSPs82HRX3KAJcb1hrOJI+a/jFPOnTBF/Mikndpp2qeygXFOsEK126dIL7s7JkyRK2WJ47CBs6PvgfAsbFzpEaB74NYSwqEOjIrD7G4h//Wk37V9axKoLPm0TgnqoLTeYMnI2kzxJ8UfUwx637mtPq+HZfjaxrRNJnHUMlARaTvn37qj+E2o2lhMWRG9P48ePVBaEIgez2ZHZxqbseNWvWFFzfULduXcui3doPLFeMAhxDIFLjwF2k70W5p2xnxzCP1YL2bx4mVheFJH2x2nturDdI3z1luxAQlyCgY3y7pCpa1SDp0wQnSZ8mIDWKGTx4sKxdu1buvvtuGThwoCVrlka1AoqK1GIXgVy2b98uM2fOtFxFkj7LEMa8gEiNA5K+2Ot6OhaFJH2x12+C1Zikz119Qcf4dleN9GhD0qcHR1r6NOGoU0z79u1l9+7dkipVKkmTJo0ifvfdd5/OIrTJitRi99ChQ1KxYkX54YcfLNeFpM8yhDEvIFLjgKQv9roeFoWn0rZSFQ+335H0xV6/IenzRpvrGN/eqGloWpL0hYZX0NyxbOnTBKF2MQ8//LBs27YtgVxcRl6vXj3tZXlZYOHChWX27NlSokQJL1eDuhMBLQhE/kwf3Tu1NGQSQnQsCkn6nGgpb5RBS5+72knH+HZXjfRoQ9KnB8eYtvRpglC7mPvvv1++/vrrBHJxRUG7du2kf//+2svzqkBYRLNlyybdu3f3ahWoNxHQhgBJnzYoXS1Ix6KQpM/VTeyociR9jsKdZGE6xneShXgwA0mfpkajpU8TkBrF4Czfd999J6lTp5a///5bUqZMKVeuXBG8qBGxMmfOnBpL866oFStWyPDhw2XdunXerQQ1JwKaECDp0wSky8XoWBSS9Lm8kR1Uj6TPQbBNFKVjfJsoxnNZSPo0NRlJnyYgNYrJmjWrnDt3TsqUKaPcPPft2yd33nmnXL58WRFBpusIXLt2TXB1w5kzZyRDhgyEhQjENAIkfbHR/DoWhSR9sdFXzNSSpM8MSs7l0TG+ndPWuZJI+jRhTdKnCUiNYhDAJV++fLJnzx7p1q2bIjYDBgzQWEL0iKpevbo0btxYateuHT2VYk2IQBgIkPSFAZoHH9GxKCTp82DD26QySZ9NwIYpVsf4DrNoVz9G0qepeUj6NAGpUUzz5s2lbdu2KmInrHzlypWTzZs3S6FChTSWEh2ixowZI/v375fJkydHR4VYCyIQJgIkfWEC57HHdCwKSfo81ug2qkvSZyO4YYjWMb7DKNb1j5D0aWoikj5NQNooBheR58+fX/r160f3Tj+cQYph7fv+++9tbAG9ovGSZXIXAlYvu3ZDbayQPh3671vxgrrk+c8LFyV9jnJy002pbhD71WfvSoG7c+soLl4GCMzjT7eUFYvfktSpU8nNOR6VAzuWSM47smkp59q1v6RG3Y4yZ0o/yZwpoxQs9pz88NMpAd5Ir7esKwN7t5LhY+dIrpy3yYu1KmspN5gQLArvrfaeljLWr1+v5IR79YOvEgYeWhSjEMcQMMYtCuzQfZRMn/OBvFj7SZn/3sqQxpH/OPStwHff/yB9Bk6WedMiG4ju0qUrUrXWa/LV3sMyanB7aVTv6QQ4f/DxBvny62+l5tMVpXSlxgl+u3DhkiyYMVCqP1lW6rzcXZa9MyLBHAfsnqlWXio8WlzeXfKJ9B86TT1/e44sMm38G3JnrhyybcdemfPOx/L2yK5B25ekLzA0JH2apgSSPk1A2ihm1apV0rlzZ1m+fLnkyZPHxpK8KbpAgQKyePFiQdRTLyTurLqrlaLlMtxwSJ9vS1i9rzLbxQkJSN/JQ6vltuyZbW/sv/76W1JmKiWXTm1VpO/bw8cl7113SIoUybWUjcXbLbekl9da1JGzv/4hdz9QQ05/v/YG+SCHJSs2lDUfTJAsmW/RUnYgIeivaw6VUT898MADWsrRQfq0KEIh2hAw5oOkBPq+jzLcXk4+j5sl9xbKG/I48h+HvuWuXfeF9Oo/QcmOZNr15QGpXvt1+fHgSkmWLFkCVX7/47yUr9pctsXNVvOIb5owdZEsWR4nq98fr8Y9iPGRoz+qzR6kjVt2yVuT3pXFc4fJb7+fk1z3VJdvvnhPEb2Bw2cIyl0yb5jK26BZb2lQt5pUfuzhgFCQ9JH02TpGSPpshVeb8GLFikmDBg0E1xQwJUSgdevWigx36tTJE9CQ9LmrmUj6rreHk6Rv2Jg5MnPecsl0awYp8/CD8knc57JnywIZMGy6/HzqrIwf0UXphM9nzv4uY4Z2lMXLPpURb80VkKvTZ3+Tlk1rS/eOjaVp634yY+5yKVm8sKxcOk5y31s93kKBxdmYCQvUAi9b1ltl3PAuUqjAXUrOFzu/kcuXr6pFWsqUKWTulH5yx+0JrYPnzl9Qlr2Du5ZKhvTp5MOVG+W1TsMlx21Z5JdTZ6V6lbIyrN/rkibNTfH6Xrh4SQb3bWNbJyfpsw3aqBIcKul7pk4H+Xj1ZnmwSAEZPaSDVKv9uhpHP/z0i7TqMESSJ0uuxuIX6+dI87YD5Ojxn5S1u8zDD6hx5T8OMbaRrl69Jg+WeUlO/PDkAWKQAAAgAElEQVSLGi/vzhykLGEjxs6Vf/79RzJmuFnGDOkoDxQpIENGzZLNn+2Rvfu+k+JF75HSJYvI59u/VuMUGy4Yw1WfKCOr1m6V/Qe/ly7tXpamDZ+9od0Cjfub06VVVr7DR07IA/cVkLUfThB8Z6Q3h0xRc8uAN64TOSMd+PaoIoO7Ns2Lnx8uXrwsdz9YQ/Zue0/NYRWrt5CenZpKpYolFUaYg7avnyuF78krPftNkKPHfpL506/HZUD9OvcaK599OpOkL4QRR0tfCGAllpWkTxOQNovBmTVYs+bMmSM5cuSwuTRviV+2bJlMnDhRVq9e7QnFSfrc1UzRsrPqNksfSJKvyx/cOrFg/HT9F9K87UDZtXm+IlJNWvWT3V8dTJT0DR/wupSt3FTenTVY8tx5u1pwwuJ27seNkipVygSWPsO9E3nqv/KGbFs3W7JnyyTzFq6QfkOmyb7tixQRnDxjqcDdFIQNOoDIGTv3Rg9dujxO7eCvXzFFffXO4tWyeu1nMmJgO0UUX3i5m9xbMK9aJCOBSL7UpKcc/nKZbZ2cpM82aKNKsDEf4JonRP8OlnzfRxg7h/csUxZ6YxyB9D1SqYkaK/nz5ZIFi1YpcgirFghds9cGyMDerdUzvhZ33/J8LX27vzwoL7/aRzatnqYIH1we4S75/d7lMnT0bJkyc6l89fm7kjJFChk3eaFMmr5E9mxdIOnSppG8RZ6V556pKCMHtZc9X30r1Wq3lZ++XZWgaiBVwcb9nq8Pqt8O7FxyAxz3l35R3hrWWbln+iZYBsuVKSZd27+c4PtqtdrKSy9UUSQ0R/4n5eIvW+Kt/9C5bZfh8Rb/zZ9MV94HRkp3W1k5uHNpQBf0aHkf6R5MJH2aECXp0wSkzWLgL4+rHED+atWqZXNp3hJ/8eJFFeEU/6ZJk8b1ypP0uauJouUla5X0WW2V/StflHvKdo4/0xfMvbNbn3FqsThq8HWihEVfi9cHJWnpO//nRVmxerMc+u6E7DtwRBGwM0c/VQtH38WmsVidMmup4BwOFohGynznY4IFGBat3+w/IjMn9lE/wfKHc0cTR3dPAAMsD9jpnzWpb0B4NmzeJU1avSnfffWB+v30md8ke77KcuXMZ4oU2pGipb/agQ1l/g8Bs/OBGdKHzY3j+z5WwjFOYPmCxfzx8g/Jc888JgXz3ylm3TsHjZgho99ekMCqfur0r8qtEucIMbZxftYYl/sOfC8zJvRWn7Hx06ltA6nxVAVlUctZqJpcPr01QbP3Hjgp6LiHFT4Y6Uud9RE5sHOx3JX79nh5mCMeqdRYfjq0SpFO39S641C59Zb08lSVR+XFRj3k6Dcfqp9BamvV7yxrlk+QfHlyClxDJ0xbpEiz4VJauOQLMnZoJ2UZ9E8c34FHMUmfptmNpE8TkA6I6dmzpxw9elTGjRsnmTJlcqBE7xRRuXJlgZvns8/e6OrhtlqQ9LmrRaLlJWt2kWcX+mZJX78hU+XX384pl00knHeBpQ3unTj/8tPPp+MDHbwxYKKcP39RendrJsXK1pPaNR6XsqUflPvvy68sfaeOrJFbMqYPSPomTl8sV65cVVY5I2XK/ZisXzFZuZPCzWvSmB7xi0vfz0Z+WB6wyJ3yVk/11ZIP4lRghtIlr58fXr9pp7RsP1j271isPuNcUOY7H1ekT9eZQi4K7eqx0S3X7HxghvS90qa/cmU0Etwt4zZul7gN22XuuytkwfQBUr5scVOWPpyRxbnbuVOvEzuk4z/8LLnuyK4sfQiSZLh3YzPGd1yC9HXr0EgRrWCkD+6Uwcb91WvXgpK+tNnLKCvn7TmyxuvV48235edfzsaTTt8e067rSMmY8WapVrmMOqf37e6l6ufBI2eqjaLZk99Un7Fhf1OW0oo0G2ec4e46enAHqViuxA2dMFreR7pHF0mfJkRJ+jQB6YAYEL7ChQvLxo0bpXjxhC4IDhTv6iKGDx8ucGMZP368q/WEcrpIX4lyDeSrbw7dcCAdL8xXXq6hHQcswOHm8kTFUsoyghcbopLpSr7Rz3bu2S9tOw+XP879KelvTqcsMthZNhP9LFR9ouUla3aRFyo+ZvObJX07du+T2vW7yhfrZ0u2rJmUG9TGLbsV6YNrF87nbVkzQ86d/1PKVn5F9Tfs7Ndv9oYc++YjSZ48mbLywY3y58OfqHM+yW8pKb8ej1ME0LD0HTn6g1qMwaUU7p1wS+vyxltydO+Hyr3TDOlb9tF65WL26YcTFQyI0Pnhyk3yybK3JVmy/5Na9btIiWL3SJ9uzdXv2OV/sXF3dQbQrhQt/dUufCj3OgJm54NQSR/cndHPDSt57QZd1CZIhzb1EoxD33bA5ki7biPVGMcZvcrPtpbtG+YqC+HCJZ9Ip15j5PuvP1TvFaukD0FVgo37xNw7QcTGDe8sjz5SNF710o83luaNa0rj+s/c0K2efbGDinL65OOl1Rm+X4/FKVfzNeu2ySut+6ugNXAZx0ZRp55j5MjXH6g2+eeffyTLXZXk68/fveEMsVofbB4mp9JeP1fIAEv/g52kT9PMRtKnCUiHxNSvX18yZ84sgwcPlrRp/3cI2aHiXVsMLrKvU6eOHDx40LU6GorpJH2dXm9ge4h4Q2/ssvbq0lSqVHpEWWrgoqcrOqNv9DNYSwoUfU4WzRkq5csWk6mz3pfZCz5SbnlISUU/C7UDRMtL1uwiL1R8zOb3J31p06ZOcKYPcqaPf0Pq1Kqs2hME6qZUqaRA/tyy/+BRtSCEC2e9pr0Ei7PcOW+TUiXuk7///kdwpq9B896yd99hSZsmtRS4+051fg5uX7D8PVevs7I64Pxe8XL14wO5gESCtP3zz7/qfM1bwzqpgBH+FgT/z0adEbAhT5Fn1Bm99DenVS5sHXqMUuf6EPSh2pNl1Y694cqJXX64kPkHgzCLoZl80dJfzdSVecJHwOx8ECrpQ3Cjxi3fVIFU0qS+SfLlzSnT3+6txofvOAShMxKscmWeaKI+YkNk1vwPZeS4eWp+wHieMLqbFHugkArkYpX0oYxg4x4bTsHcOxE06vKVKwnG7q25KqqAL8UfvCdBQ8DSmff+Z9TZQJxLrvRMK+nWvlG8u+bbU95TZ4FTpEih5h1sxBYpfLeS8dkXX6lALsb7zL+FOb4D93mSvvDnggRPkvRpAtIhMbDyNW3aVHCNQ758+Rwq1RvFIILnihUr5J57Ek7QbtPeKdKHCGdde49TL1VEQlvywafKDQ2R0V5tNyjeXQcH39t0GqYW3bCs4XwVoo3hRY0X1ruzBsmK1VsEZ7EQ3RCR2rAoNyx9W7d9JR17jFaLXRy+79frVXWXEV6wLdoOUuG/fz51Rk6f+V0tumEt9E++0c8QcGPBe6tkxZK3VDaQS5zjQiQ0pKSin4Xa3tHykjW7yAsVH7P5DdJnNr+Rz7f/hfqsE/nhjpohQzpp1+qlRIsDIQThhFXQ7isbaAlwouW9XYbZ+UDX+8jbaF13zS7zRFPZuXHeDVc2+Ndt2uxl6sqGQX1aq5+waTlq/HxZ9s7IJGEA6Wz4UnVe2ZAkUgkzkPSFCFiw7CR9moB0UEzZsmWlWrVq0q1btxtc+xxUw3VFNW/eXLm/vv76667TzVchXS9ZuHfu//Z7RbR8E84WwM0Ekc7iPpokD95fQO2sYnf2txPrEiV9CKOPi2uNaISNXu2rXFQQgt7X0me4dyJIBkLawyoHtxgQQeRDOGoQyIcfayRff75Q7imYR11KO3nGEuW655sQits3+hkO4oN0Xr5yVXbtOSB33Xm7OvRukD48m1j0s1Abn6QvVMQC549W0ofzQc++2FFdLJ0YmYPlEmOlfp1qegANIiVa+qutIFF4WO6dsQ4bXDG/3ndY+na/7q4dKMHS+XzDrrJswcj4q1qQ7/UuI5QbeqBzeoYcHE/AdRLGGeFA8jm+A+NO0qdpdJL0aQLSQTFz586VKVOmyDvvvCM5c+Z0sGR3F7Vo0SKZPXu2fPTRR65WVCfpC+beCSsfDqHv2jRfYYHD5CBKCG+dmKUPeXGe7vMvvlYBLFZ8skWeeKyUsu4FIn0vPV9Fuars3DQvHnOcc6pUoaQ8VPxeeb5BNxWKGwmWP7hmGkEvjAdwxsM3+ln3vuNVOH0Q1geK5FfunXD7OfL1dTlIiUU/C7Xxo+Ula3ZnP1R8zOYPl/SZlc981xGIlv7K9rQXAbPzga73kb21iR3pHN8kfbb2dpI+W+G1TXiuXLlk0KBB6sJ2pusI/P7775I9e3a5cOGC8qV3a9L1koWlLxjpg7tJ2y4jlMumkTLcXk6O7/9YharHPWnffHE9GhvuTevYc4zKC2vFvIUrpXWz55Vb5kerNsmfFy6pMwmBSB/OZ3XvM152bJwbXw7OdeCuo0dK3Z/g/ESw8xTY/fSNfoYzWLgEG8EykHDwPVXmhwVXAGTNcqv6LrHoZ6G2e7S8ZM0u8kLFx2x+kj6zSFnLFy391RoKfDopBMzOB7reR0npw9/NIcDxTdJnrqeEmYukL0zgIvzYwIEDZffu3TJp0iTJkiVLhLVxT/EVK1aULl26SNWqVd2jlJ8mul6yiZE+nK8rWKyWvDtzkAp0AbcVRFmDe+ep079J8Ufrq+AUcFeDCydcWkD6KlRrLi/WelJebVpLBdWoWK2Fstjh/jL8hnNNcGEx3DsRDh9BV5bMG6bcOxGKu2SFhuqQOg7F+x6aD0b6EBTGN/oZLtUuWeFldXkvggHggmxEXTy0531T0c9CbfhoecmaXeSFio/Z/CR9ZpGyli9a+qs1FPh0UgiYnQ90vY+S0oe/m0OA45ukz1xPCTMXSV+YwEX4sdOnT0u2bNlkw4YNUq5cuQhr457iYf0ENqNHj3aPUjaSvr37v7vhPrBG9Z5Wlrntu/bJa52GyZWrV1VktFnzP5Kzxz5VYe0RlAX3KyGUfZ3nKqsQ+CB9qz/9THD/0K23ZFDRCeFeefT4SVm7fIKKtvbm4Cny1vDOKsiLEchl09bdysUTRBOXz/bs1EReeO4J5c5phvQBHv/oZ7hHDRbEi5cuq+hoOAOBqItISUU/C7Xho+Ula3aRFyo+ZvOT9JlFylq+aOmv1lDg00khYHY+IOlLCklnf+f4JumztceR9NkKr63CEbgkefLkMmzYMEmfPr2tZXlF+Pbt26Vx48ayd+9e16ocqZdsiltLypmj10mf25LO6Geh1i1aXrJmF3mh4mM2P0mfWaSs5YuW/moNBT6dFAJm54NIvY+S0j9Wf+f4Jumzte+T9NkKr63Cd+zYITVq1JC4uDgpUOC6FYRJ5I477lAW0Lvvvn4vjttSpF6ybiZ9aCNd0c9Cbe9oecmaXeSFio/Z/CR9ZpGyli9a+qs1FPh0UgiYnQ8i9T5KSv9Y/Z3jm6TP1r5P0mcrvLYLr1y5spQsWVL69OkjKVOmtL08LxQASx8wadmypSvV5UvWXc0SLS9Zs4s8u9An6bML2YRyo6W/OoNW7JZidj7g+8hdfYTjm6TP1h5J0mcrvLYLX7p0qQwePFiWLFkiuXPntr08LxSwYMECwfUN77//vivV5UvWXc0SLS9Zs4s8u9An6bMLWZI+Z5CNrlLMzgd8H7mr3aPlfaQbVd7TpwlRkj5NQEZQTMGCBaVDhw7SokWLCGrhnqIRyCVPnjzy559/ukcpH034knVXs0TLS9bsIs8u9En67EKWpM8ZZKOrFLPzAd9H7mr3aHkf6UaVpE8ToiR9moCMoBhEqsS5vmnTpql76phEypQpI+jblSpVch0cfMm6q0mi5SVrdpFnF/okfXYhS9LnDLLRVYrZ+YDvI3e1e7S8j3SjStKnCVGSPk1ARlAMLiPPmjWrcvF08/10TkKEfn3x4kUZOnSok8WaKgsvWSZ3IXAqbSulUPny5d2lWAjamF3khSAypKzs1yHBZSlzNPRXSwDw4SQRMDsfcNwmCaXjGTi+b4ScpE9TNyTp0wRkhMW0b99e/vjjD3U/XcaMGSOsTeSL37p1q7Ru3VpdYO/WhAijTO5CgKTPenuwX1vH0KwEL/dXs3VkvvAQMEv6DOkct+HhbOdTHN//Q5ekT1NPI+nTBGSExezbt09d0r5582YpVKhQhLVxR/G4vB739t15553uUMhPC75k3dcsXn7JhrrIswt99mu7kL1Rrpf7q3MoxWZJoc4HHLfu6ycc3yR92nslSZ92SCMmsGbNmpI/f37p16+fpE6dOmJ6uKXgevXqScWKFeWVV15xi0oJ9OBL1n3N4uWXbKiLPLvQZ7+2C1mSPueQ9X5Joc4HHLfua3Mvv490o0lLnyZESfo0AekCMatWrZLOnTvL8uXLVfTKWE+zZ8+WFStWyMKFC2MdCtY/BhAIdZEXA5CwikQgZhHgfBCzTR+VFSfp09SsJH2agHSJmGLFikmDBg0EZ/xiPf30009SuHBh+e2332IdCtY/BhDgIi8GGplVJAImEeB8YBIoZvMEAiR9mpqJpE8TkC4RM3nyZFm8eLHMmTNHcuTI4RKtIqdGyZIlZfjw4Z6Oyhg59FiylxDgIs9LrUVdiYC9CHA+sBdfSncWAZI+TXiT9GkC0iVi/v33X3V9A8hfrVq1XKJV5NTo2bOnYLIYMGBA5JRgyUTAAQS4yHMAZBZBBDyCAOcDjzQU1TSFAEmfKZiSzkTSlzRGXssBonP06FEZN26cZMqUyWvqa9UXh9O7dOki27Zt0yqXwoiA2xDgIs9tLUJ9iEDkEOB8EDnsWbJ+BEj6NGFK0qcJSBeJAeHDWbaNGzdK8eLFXaRZZFS59dZbBVda0N01MvizVGcQ4CLPGZxZChHwAgKcD7zQStTRLAIkfWaRSiIfSZ8mIF0mpn79+pIlSxYZNGiQpE2b1mXaOavOCy+8INWrV5eXX37Z2YJZGhFwEAEu8hwEm0URAZcjwPnA5Q1E9UJCgKQvJLiCZybp0wSky8TAyte0aVPBNQ758uVzmXbOqjN16lSBm+e8efOcLZilEQEHEeAiz0GwWRQRcDkCnA9c3kBULyQESPpCgoukTxNcnhJTtmxZqVatmnTr1k2SJUvmKd11Knvs2DFBFM9ffvlFp1jKIgKuQoCLPFc1B5UhAhFFgPNBROFn4ZoRIOnTBCgtfZqAdKGYuXPnCqxcCxYskJw5c7pQQ+dUKlq0qEyYMEFKly7tXKEsiQg4iAAXeQ6CzaKIgMsR4Hzg8gaieiEhQNIXElzBM5P0aQLSpWJy5cqlzvXhwvZYTojgmS5dOunTp08sw8C6RzECXORFceOyakQgRAQ4H4QIGLO7GgGSPk3NQ9KnCUiXihk4cKDs3r1bJk2apAK7xGpas2aNoK9v3rw5ViFgvaMcAS7yoryBWT0iEAICnA9CAItZXY8ASZ+mJiLp0wSkS8WcOnVKsmfPrgKZlCtXzqVaOqMWLH043xfL5NcZpFlKJBDgIi8SqLNMIuBOBDgfuLNdqFV4CJD0hYfbDU+R9GkC0sVimjdvLsmTJ5dhw4ZJ+vTpXaypvarVrFlTcH1D3bp17S2I0olABBDgIi8CoLNIIuBSBDgfuLRhqFZYCJD0hQXbjQ+R9GkC0sViduzYITVq1JC4uDgpUKCAizW1VzUEctm+fbvMnDnT3oIonQhEAAEu8iIAOoskAi5FgPOBSxuGaoWFAElfWLCR9GmCzXNiKleurK4tQCCTlClTek5/HQofOnRIKlasKD/88IMOcZRBBFyFABd5rmoOKkMEIooA54OIws/CNSNA0qcJUFr6NAHpcjFLliyRIUOGCP7NnTu3y7W1T73ChQvL7NmzpUSJEvYVQslEIAIIcJEXAdBZJBFwKQKcD1zaMFQrLARI+sKC7caHSPo0AekBMQULFpQOHTpIixYtPKCtPSq2b99esmXLJt27d7enAEolAhFCgIu8CAHPYomACxHgfODCRqFKYSNA0hc2dAkfJOnTBKQHxIwePVqd65s2bZqK6BmLacWKFTJ8+HBZt25dLFafdY5iBLjIi+LGZdWIQIgIcD4IETBmdzUCJH2amoekTxOQHhBz4cIFyZo1q3LxrFq1qgc01q/itWvX1CXtp0+flowZM+ovgBKJQIQQ4CIvQsCzWCLgQgQ4H7iwUahS2AiQ9IUNHS19mqDzpJh27drJuXPnBFa/WCU91atXl8aNG0vt2rU92YZUmggEQoCLPPYLIkAEDAQ4H7AvRBMCJH2aWpOWPk1AekTMvn371CXtmzdvlkKFCnlEa71qjh07VoDD5MmT9QqmNCIQQQS4yIsg+CyaCLgMAc4HLmsQqmMJAZI+S/D972GSPk1AekgMLinPnz+/9OvXT1KnTu0hzfWoCsIHa9/333+vRyClEAEXIMBFngsagSoQAZcgwPnAJQ1BNbQgQNKnBUYRkj5NQHpIzKpVq6Rz586yfPlyyZMnj4c016cqLqlftGiRPPDAA/qEUhIRiCACXORFEHwWTQRchgDnA5c1CNWxhABJnyX4/vcwSZ8mID0mpmjRotKwYUPBFQaxmFq3bq0Ib6dOnWKx+qxzFCLARV4UNiqrRATCRIDzQZjA8TFXIkDSp6lZSPo0AekxMTjPtnjxYpkzZ47kyJHDY9pbV/eDDz6QCRMmyOrVq60LowQi4AIEuMhzQSNQBSLgEgQ4H7ikIaiGFgRI+rTASPdOTTB6Tsy///6rrm8A+atVq5bn9Leq8MWLF6VatWpSo0YNQURTJiLgdQRibZG3+vmaXm8y6h8jCDy56H3Haxpr84HjALNARxEg6dMENy19moD0oJiePXvK0aNHZdy4cZIpUyYP1sCayl9++aW0adNG7rjjDhk/frxkyZLFmkA+TQQiiECsLfJA+ir06BVBxFk0EUgagfWDBghJX9I4MQcRSAwBkj5N/YOkTxOQHhQDwle4cGHZuHGjFC9e3IM10KNyjx49ZPbs2Yr4IbIpExHwIgIkfV5sNeoc7QiQ9EV7C7N+TiBA0qcJZZI+TUB6VEz9+vWVhWvQoEGSNm1aj9bCutorV65UVr9nn31WRo0aZV0gJRABhxEg6XMYcBZHBEwgANKXus31IwTly5c38YSeLLE2H+hBjVLcigBJn6aWIenTBKRHxcDK17RpU8E1Dvny5fNoLfSoff78eXnttdfUxe1weS1VqpQewZRCBBxAINYWeXTvdKBTsQjLCJD0WYaQAoiAkPRp6gQkfZqA9LCYsmXLqqAm3bp1k2TJknm4JnpUnz59urL69e/fn1c66IGUUhxAgKTPAZBZBBEIEQGSvhABY3YiEAABkj5N3YKkTxOQHhYzd+5cmTp1qixYsEBy5szp4ZroU/3gwYPK6geXV1j9cuXKpU84JREBGxAg6bMBVIokAhYRIOmzCCAfJwIitPTp6gUkfbqQ9LYckBqc62vQoIG3K6JZe1j7xowZo4K81K1bV7N0iiMC+hAg6dOHJSURAV0IkPTpQpJyYhkBWvo0tT5JnyYgPS5m4MCBsnv3bpk0aRKvLvBry3Xr1imrX7ly5ZTVL3ny5B5vbaofjQiQ9EVjq7JOXkeApM/rLUj93YAASZ+mViDp0wSkx8WcOnVKsmfPLhs2bFDkhikhAn/99Zcifps3b1ZWPyejsLEtiIAZBEj6zKDEPETAWQRI+pzFm6VFJwIkfZralaRPE5BRIKZ58+bKijVs2DBJnz59FNRIfxXmz5+vyF+HDh2kVy9eDK0fYUoMFwGSvnCR43NEwD4ESPrsw5aSYwcBkj5NbU3SpwnIKBCzY8cOqVGjhsTFxUmBAgWioEb2VOH48eOK+F2+fFlZ/fLnz29PQZRKBEJAgKQvBLCYlQg4hABJn0NAs5ioRoCkT1PzkvRpAjJKxFSuXFlKliwpffr0kZQpU0ZJreypxvDhwxVOIH5NmjSxpxBKJQImESDpMwkUsxEBBxEg6XMQbBYVtQiQ9GlqWpI+TUBGiZglS5bI0KFDZfHixZI7d+4oqZV91fj888+V1e++++5T5C9dunT2FUbJRCARBEj62D2IgPsQIOlzX5tQI+8hQNKnqc1I+jQBGUViChYsqM6stWjRIopqZW9V2rdvLx9++KEiflWqVLG3MEonAgEQIOljtyAC7kOApM99bUKNvIcASZ+mNiPp0wRkFIkZPXq0Otc3bdo0FdGTyRwCS5cuVVa/Ro0aCa7AYCICTiJA0uck2iyLCJhDgKTPHE7MRQQSQ4CkT1P/IOnTBGQUiblw4YJkzZpV4OpZtWrVKKqZ/VU5ffq0tGnTRk6ePKmsfvfff7/9hbIEIiAiJH3sBkTAfQiQ9LmvTaiR9xAg6dPUZiR9moCMMjHt2rWTc+fOCax+GTNmjLLa2V8dED5Y/fBv69at7S+QJcQ8AiR9Md8FCIALESDpc2GjUCXPIUDSp6nJSPo0ARllYvbt26cuacdl5IUKFYqy2jlTnS+//FJZ/e644w5F/rJkyeJMwSwlJhEg6YvJZmelXY4ASZ/LG4jqeQIBkj5NzUTSpwnIKBRTs2ZNdQddv379JHXq1FFYQ2eq1KNHD5kzZ46MGzdOgCkTEbADAZK+hKh2Gz1Gxi1YICmSp0jwQ60nKsmM/v3klT59JWe2bNK3dasbmqNA9afl5OnTkixZMvVbjqxZpHPjRtL0uefi867ctFmGzpgh+w5/J6lSpZIShe+VN15tIcXvvddS86LsSb3fkMdKlbQkx46HS774khw/eVJSpbp+nc/ff/0tWTNlkn5tWsszFSvYUaQpmXOXfygzli2TdTOmm8rvZCaSPifRZlnRigBJn6aWJenTBGQUilm1apV07txZli9fLnny5InCGjpXpZUrVyqr37PPPiujRo1yrmCWFDMIkPTdSPr+vHhRxvfsEbAPJEX6fInXZ3u+lErNmsmBD5dLrttuk3dXrpQuo0bLxDd6yZNlyij5C1euko7DR8gH48ZKKQtned1O+rq90lSeq/R4PKbzP/pY2g0dKj9vWC/J/5XB3pYAACAASURBVCPJTg+6SJK+rw8dUtUtkj9/wGqT9DndG1heNCJA0qepVUn6NAEZpWKKFi0qDRs2FFxJwGQNgfPnz6tzfnCdhdWvVKlS1gTyaSLggwBJn72kr1b79rJv+QeS8eabJW+VajK0Q3t54cnKCQodPnOWrN6yVdZOm5Lg+15vjZOZ7y+7ob/uWbJIWcp8UzDS99fffwusl2s/+1ySJ08mxe8tLCM6d5QM6dLJ4jVrZPiMmZI8WXJJkSKFjOrcSUrcVzjo977lhaIbLH2+pO/aX3/J2HnzZfyCd+T71Svln3//lX4TJ8mqzZtVEYXy5JExXbvKrRkzyE+nTknrgYPkuxMnlJ6tXqwjzWrXUhbV1wYNlu9//FH+/fdfqVutmrKqImUvV0GaP19b9h4+LMd++kma1a4tLeu8cAOOiZG+xOT3Hv+2rNi4SVKmSCG3Zc0i097sK5lvuUWCfR9owhkw+Xpb92rRnKSPMzIRsAkBkj5NwJL0aQIySsVMnjxZXdQO98QcOXJEaS2drdb06dOV1W/AgAHSsWNHZwtnaVGLAEnfjaRvwrsLJc1NNyX4YXLf3lLjsceSdO88+/vvkiJ5crl67ZpcunJFerd8VXo0e0W5N4KYHV/ziWTLnJCwgZyUfqm+/PH51njX0FA7XDDSN2T6DPniq6/l3RHDlF5tBg2Wv/76W6b07S35qz0ly94aK4Xvzicfbdgo3x47Kh0aNgz6fag6GflB+g4fP65I0pVrV9W/lR5+WHo0b6YsXW+/867s2r9fpvTto6x+I2fPkW8OH1butM++1la5vgLH3/44J+UbN5aPJ7wtLd7sJ+VLlJCuTZvIuQsXpHKz5vLaSy9JvaeqS+Yyj8rwjh2kyXM1Fe5FataSn9Z9KunSpElQhcRIX7WWrQLKL1O0qJRr1EiOrFqp8Bw8bbpy0c2f+86A3z9RunRA2Ej6wu1NfI4ImEeApM88VonmJOnTBGSUisHOKwKQTJkyRWrVqhWltXS+WgcPHlRWv7Rp0yqrX65cuZxXgiVGFQIkfTeSPl3unV8e/FaeafOajOrSWR66r7AifSfXx8mtGTIkKHTHN/ukYuMmN5A+WI5mffDBDf1t13sLJcuttyb4Phjpe7xpM+nwcgOpXq6cyg+CWfXVVnJi7SfSY+xb8s6KlVL10bLyeKlS8lT5cnJTqlRBv/ctMBTdfC19sMyByDWq8awimEjVW7WWw8dPKGso0l9//yVpbkotm+fOlowPPyL7l38gd2TPFl88CHWmR8rKyQ3rJH3atOp7EPWte/bIvCGDFenbvfg9yf3fhiM+Q4Y/2Q5G+hKTP2vgAAGmFy9dksqPlJYqZcvKo8WLCSyqgb73b7zyjZrIgSNH5PLVq+qn1KlSSf47c8vmuXMSZKV7Z1RNs6xMhBAg6dMEPEmfJiCjWEzPnj3l6NGjipxk8nNFiuJqO1K1/v37y5gxY1R0z7p16zpSJguJTgRimfTB9a/gU8/EN+zBj5bLxIXviS7SB8FNe/dRJG9Yh/aK9A1u/7o8Xzmhe+ewGTOVe+en06eG3cmCkb4KjZtIlyaNpdqjjyrZOEtWuVkLRT6RYIFb+/nn8kHcevnn339k9eRJiX4fjoL+7p2w6pV/ubGsnDRByhYrJlVatJQXq1ZRRBDp4uXLcuHiRUVsQdj2Llsqt2e7Tvrg5gk8c1V6Qp0HNEgfrIUbd+yUhSOHq2f2LV8m2TNnVs8Ynx9t2EhZ/pCm9u2j/g0UyOXK1auSqUzZoPKxqbl9716J+2K7vPPxCqlT5UlltQz2fSDMaOkLpyfxGSIQGgIkfaHhFTQ3SZ8mIKNYDAhf4cKFZePGjVK8ePEormlkqrZu3Tpl9cMVGSDWyZMnj4wiLNXTCMQy6QvUcDj/pov0gaA82fxVGdj2NalTtYosWbNW2g8bJhN6IZDLI/LPP//IotWfqEAu7781Rh558MGw+1Iw0jdo6jTZsfcb5d4Jt0qcg/v9/HmZOaC/3PtMDVkxcYKyNH1z+Dup0Lix/Bj3qRR+tuYN35/auEHQV8JJ/qQPMjqNGClx27bJtncWyFvzF8ji1Z/IJ9OmKBLXdvAQ+f3cOZkzeJDUatdBnTPs/kpT5d5Z4sUXZfm4cQozRCoFoT1/8aI82ayFIo04yxeM9Bkk0KhDYu6dIKKB5EOXV9/sL+tnzZC0qVOrTYI1Wz+TXq82D/j90rGjA0JG0hdOT+IzRCA0BEj6QsOLpE8TXrEqpn79+srNc9CgQcolkUkvAn/99ZcifrgXEVa/8uXL6y2A0qIeAZK+hE0M0ocAI3Bz9E15c+aU7QvfUWf6EHEzVcrr1w8g4ZzX8vFvKUveqV/PXg+Mkjy5ZLj5Zqn/VHXp06plfN64bV/I4GnT1Jk1pIfuu0/eaNFCERsrybdsQw4IUbsG9ZW7JsqF2yTOx43u0kUFSQEJHThliqpLsv9LJl2aNlbnFoN9H65+gUjfH3/+KUVqPiev168vbeu9FB8EBdddFLjzTnX9BHREQBWQwKM//qQska/XrycNn3lGfvjlF3l98FA5+tOP6vwkrKcIioLnQyF9Lfr1v+H85tktmxKV3+ftCbJ07VpJnzadpEmdWsb37C735M0rwb4PB7fE3DsR3GvatGm2BEqLtfkgnLbhM95BgKRPU1vR0qcJyCgXAytf06ZNBdc45MuXL8prG7nqzZ8/X5G/Dh06SK9evSKnCEv2HAKxtshb/XxNqdCDY8RzHTXGFA5E+kD2sIE6cuRI5dlx6dIl7ajE2nygHUAKdBUCJH2amoOkTxOQMSCmbNmyUq1aNenWrVvYkeliACbLVTx+/LgifpcvX1ZWv/xB7n+yXBAFRBUCsbbII+mLqu4btZXxJX3FihVTZG/06NHq3CAI3+DBg+X111/XXv9Ymw+0A0iBrkKApE9Tc5D0aQIyBsTMnTtXRfF85513JGfOnDFQ48hWcfjw4dKnTx9F/Jo0aRJZZVi66xGItUUeSZ/ruyQVFBGQvn+aNJd58+bJkiVLFNm7+l/Ez8yZM8uZM2dswSnW5gNbQKRQ1yBA0qepKUj6NAEZI2JwtQB2Khs0aBAjNY5sNT///HNl9bvvvvsU+UuXLl1kFWLprkUg1hZ5JH2u7YpUzAcBkL5Bp36VrVu3Cs5uO5UqVKggCBK2YcMGnhF3CnSWYxsCJH2aoCXp0wRkjIgZOHCg/D975wLfc/X/8VdDbrlfRrmEXGpRUlTKpX5p0mUiIcQwCsvMdVZucx3mVrlfNiNh5a5iRsZCIVIiNuQ2VGZuDf/H+3z/3zWzse17vt/v5/P9vs7j4RHb5/M+7/M8n+n79D7nfHbv3o3p06erg13YHEMgICAAq1atUuLn7e3tmE7Zi6kIUPpMNV1M1k0IiPTd6NQVsl/bkZU+K15Kn5s8aC4+TEqfpgmm9GkC6SZhzp49izJlyiAmJka9YoDNcQSioqJU1a9jx44Q+WYjgbQEKH18HkjAeATS7umrXbu2Wikj72a17ukbM2YM/P397ZY4pc9uaBnYgQQofZpgU/o0gXSjMH5+fmoD+rhx41CoUCE3Grnzh5qYmIiePXvi1KlTqupXq1Yt5yfFDAxBgNJniGlgEiRwG4GMTu+8ePGikr+JEyeq/5fKqdj2ahJfDmFjIwEzE6D0aZo9Sp8mkG4UZteuXWjevDk2btyIatWqudHIjTNUET6p+sl/e/ToYZzEmInTCFD6nIbeYR1n9BLyEdNnIHLNGqyaNg1xe/di7tdfY9PcOXfk9NQ7rXAo4VjqyculihVTL0GXdwCmfVeh9caEkydR/fU3cWnnD+pdhWw5I3C39/SJ/Ml7+uQVPWwkQAKZE6D0aXo6KH2aQLpZmCZNmqBu3brqdMk8aV5u7GYYnDrcvXv3qqrfQw89pOSPeyydOh1O75zS5/QpsHsCaaVPlgf2GReKbXv2YOW0qfAsUQIZSaE1KZG+oR9+iDcbN1JfOnLiBDoO/hhej1TB5x/f+b5DSp+e6byb9OnpgVFIwPUJUPo0zTGlTxNINwsjG9LHjh2LZcuWoUKFCm42emMNNygoCOHh4Zg6daqqwLK5JwFXkz55cbUsJc9sCbk7nt5plbrvZs1E1yHDcOb8OSyZMB6FChRQD312pE+ul8rfky1b4viG71C8SJHbfnDuJn0pN25gYNgkbNgeh1y5PFDnMS+M7xeIwgUL4pNpn2Ltlu+RJ3dulClVErOHDUWJokUz/bqr/7RS+lx9hjk+RxCg9GmiTOnTBNINw1SvXl0tS+nWrZsbjt5YQ163bp2q+vn4+EA+LLO5HwFXk778+fPj5s2b6u8Y+YeN9PLnrtL3+ZIvUbZUKazZsgUx8+bi2Sf+29ebXemTn5IyDRtj+aSJqF+7dpalb8ycudjx8z58MX6cWvrZc9RopKTcQFDXLmjQsSOOrF+nvj569hw87fUYqlaomOHXX3nuOZf/QaX0ufwUc4AOIEDp0wSZ0qcJpBuGCQsLQ3R0tNqT4Onp6YYEjDXkpKQktc/vwIEDqupXr149YyXIbOxKwNWkb/LkyRg4cKASPxmbyN+gQYNS5c9dpa/r0GHo2bYNqpQvjwnzFyBu0UKULFYsR5U+ualso5ew5vNP8dSjj2ZZ+l7u3BV93m+PZv9/gvP+w4fRtPuHOPrNOsj3Ll+5gibPPwfvF17Ai3WeglQGM/q6XX8gDBKc0meQiWAapiZA6dM0fZQ+TSDdMExycjJKlSql3j3UtGlTNyRgzCHPmTNHVf1CQkIQGBhozCSZlXYCriZ9AqhEiRK4cOGCYnX//fcr+ZN3Vg4ePBixndqjUdCde9G0g3ViwGrN3sCxU6dUBrOGDlH/nf7lUsQuDFe/bz8wCGf/uoC1n3+GXB4e2V7eKbL2/Hvt8eemjQgYOw4LV61Wcdu98To+7uaX6UEujTr5qgNgXnvxRXX9vkOH0KRrN5yKiVavIti5fz+id+zE4jVr8a73qwjy65rp152I1yFdU/ocgpmduDgBSp+mCab0aQLppmF69+4NOYFMqn5F0u0JcVMkhhj2wYMHVdWvQIECqupXvnx5Q+TFJOxHoHHjxur9ma7e5OCoN998E13vu+Hy0pd+LtMv30y6fBnPv9dOVdzGBPTOlvT9cfw4Og4OxjOPP46J/fvd8djcbU/fqFmzsWv/L2p5p+zd6zVqNP5OSkKf9zug+7ARiJk/FwXy5YMsRf1u23YEd/fL8OtRk8Nc/XEFpc/lp5gDdAABSp8myJQ+TSDdNIwsJZSXtG/duhU1atRwUwrGHfaIESPUi4DldM82bdoYN1Fmpo2AK72MWU6kPX/+vGKTttIne/y2+XZwe+mzVtkadOiImcOG4OrVa+g2fATy58172/N0PvZ7yOmdcmJnLo9c8PC4D6WKFUfrpt6qCpfRKxms0lcwf/7bYq2cNgVPe3khaPIURP+wAyk3UlDnsccQ1r8/ihUpjCGffoaoDRtQqEBB5M+XD9MGD8KjlStn+nVtD75BA1H6DDoxTMtUBCh9mqaL0qcJpBuHkRMjq1atiuHDhyNfvnxuTMKYQ9+0aZOq+omcS9VPXtbL5roEXEX6ZE+f7OG7ceOGWtYpqwpE9goXLqwmzx339LnuU+u6I6P0ue7ccmSOI0Dp08Sa0qcJpBuHWb9+Pfr164eVK1eiUqVKbkzCuENPSUlR4icVWan6NWzY0LjJMjObCMgciyiZvcm7QOUQl1atWqFdu3aQ5atp/1GJ0mf2GXaP/Cl97jHPHKV9CVD6NPGl9GkC6eZhateujQ4dOqhDFtiMSyAyMlLJn5yEGBzs2odgGHcWmFlWCMirR7p27Zpa2Ut/D6UvKxR5jbMJUPqcPQPs3xUIUPo0zSKlTxNINw8zY8YM9aJ2eUl42bJl3ZyGsYd/7NgxJX5Xr15VVT9ZmstGAmYjQOkz24y5Z76UPvecd45aLwFKnyaelD5NIN08jBzTLYcuzJw5Ey1atHBzGuYYfmhoKIYMGaLEz9fX1xxJM0sS+H8ClD4+CmYgQOkzwywxR6MToPRpmiFKnyaQDKMOWUhISFCHhRQvXpxETEAgLi5OVf0ef/xxJX8FCxY0QdZMkQR4kAufAXMQoPSZY56YpbEJUPo0zQ+lTxNIhkF8fDy8vLywZcsW1KlTh0RMRED2Yq5atUqJn7e3t4kyZ6ruSoCVPnedeXONm9JnrvlitsYkQOnTNC+UPk0gGUYRkFP2ZJnnqFGj1IvB2cxDICoqSlX9OnbsiJEjR5oncWbqlgQofW457aYbNKXPdFPGhA1IgNKnaVIofZpAMowiIFW+zp07Q17jUKVKFVIxGYHExET07NkTp0+fVst0a9WqZbIRMF13IUDpc5eZNvc4KX3mnj9mbwwClD5N80Dp0wSSYVIJ1K9fH82aNcPAgQPh4eFBMiYkIMs8/f39lfj16NHDhCNgyq5OgNLn6jPsGuOj9LnGPHIUziVA6dPEn9KnCSTDpBKIiIhQp3guXrwY5cqVIxmTEti7d6+q+skcivzJsl02EjAKAUqfUWaCedyNAKWPzwcJ2E6A0mc7QxWB0qcJJMPcRqB8+fJqX1/79u1JxuQE5FRWef+iVP98fHxMPhqm7yoEKH2uMpOuPQ5Kn2vPL0fnGAKUPk2cKX2aQDLMbQTkIJDdu3dj+vTprBC5wLOxdu1adciLSN+ECRNcYEQcgtkJUPrMPoPukT+lzz3mmaO0LwFKnya+lD5NIBnmNgJnz55FmTJlEBMTgwYNGpCOCxBISkpS4nfgwAG13LNevXouMCoOwawEKH1mnTn3ypvS517zzdHahwClTxNXSp8mkAxzBwE/Pz/kypUL48aNQ6FChUjIRQjMnj1byV9ISAgCAwNdZFQchtkIUPrMNmPumS+lzz3nnaPWS4DSp4knpU8TSIa5g8CuXbvUcsDo6GhUq1aNhFyIwMGDB5X4ybsYpeonezjZSMCRBCh9jqTNvnJKgNKXU3K8jwT+I0Dp0/Q0UPo0gWSYDAk0adIEdevWxZAhQ5AnTx5ScjECw4cPx+TJk9UhL23atHGx0XE4RiZA6TPy7DA3KwFKH58FErCdAKXPdoYqAqVPE0iGyZDA8uXLMXbsWCxbtgwVKlQgJRcksGnTJlX1k72bUvWTJb1sJGBvApQ+exNmfB0EKH06KDKGuxOg9Gl6Aih9mkAyTKYEqlevjj59+qBbt26k5KIEUlJS1Dv9YmNjVdWvYcOGLjpSDssoBET62EjADATy9eyt0uTfi2aYLeZoRAKUPk2zQunTBJJhMiUQFham9vXJASCenp4k5cIEIiMjVdVPJD84ONiFR8qhOZ3ArVsqhc1btjg9FVdJoHGjRtgUE+MqwzHcOCh9hpsSJmQSApQ+TRNF6dMEkmEyJZCcnIxSpUpBlno2bdqUpFycwLFjx1TV79q1a6rqV7VqVRcfMYfnTAKbN292Zvcu1XejRo3Ua3bY7EOA0mcfrozq+gQofZrmmNKnCSTD3JVA7969cfHiRUjVr0iRIqTlBgRCQ0PVAT4ifr6+vm4wYg7RGQQoffqoW6XvzJkzXJWhD2tqJEqfHaAypFsQoPRpmmZKnyaQDHNXAvJCbznoY+vWrahRowZpuQmBuLg4VfWrWbOmkr+CBQu6ycg5TBIwHwH5YHXr1i2ISFNQzDd/zJgEXJUApU/TzFL6NIFkmHsSaN68uVrqJ8f858uX757X8wLXIRAQEIBVq1Yp8fP29nadgXEkJOBCBCh9LjSZHAoJuBABSp+myaT0aQLJMPcksG7dOvTv3x8rV65EpUqV7nk9L3AtAlFRUarq16lTJ4wcOdK1BsfRkIALEKD0ucAkcggk4IIEKH2aJpXSpwkkw2SJQO3atdGhQwdI5YfN/QgkJiYq8Tt9+rR6p1+tWrXcDwJHTAIGJUDpM+jEMC0ScHMClD5NDwClTxNIhskSgRkzZqgXtYeHh6Ns2bJZuocXuR4BWebp7++vxK9Hjx6uN0COiARMSIDSZ8JJY8ok4AYEKH2aJpnSpwkkw2SJgBwSULJkScycORMtWrTI0j28yDUJ7N27V1X9ypUrp+RPngs2EiAB5xGg9DmPPXsmARLInAClT9PTQenTBJJhskwgKCgICQkJ6oN+8eLFs3wfL3RNAvI8SOVXqn8+Pj6uOUiOigRMQIDSZ4JJYook4IYEKH2aJp3Spwkkw2SZQHx8PLy8vLBlyxbUqVMny/fxQtclsHbtWvTq1UtJ34QJE1x3oBwZCRiYAKXPwJPD1EjAjQlQ+jRNPqVPE0iGyRaBdu3aqeV8o0aNQoECBbJ1Ly92TQJJSUlK/OSdjlIFrlevnmsOlKMiAYMSoPQZdGKYFgm4OQFKn6YHgNKnCSTDZIuAVPk6d+6M9evXo0qVKtm6lxe7NoHZs2cr+QsJCUFgYKBrD5ajIwEDEaD0GWgymAoJkEAqAUqfpoeB0qcJJMNkm0D9+vXRrFkzDBw4EB4eHtm+nze4LoGDBw8q8ZMqsFT9ypcv77qD5chIwCAEKH0GmQimQQIkcBsBSp+mB4LSpwkkw2SbQEREhDrFc/HixeoERzYSSE9g+PDhmDx5sjrkpU2bNgREAiRgRwKUPjvCZWgSIIEcE6D05Rjd7TdS+jSBZJgcEZAKjuzra9++fY7u502uT2DTpk2q6tegQQNV9cuVK5frD5ojJAEnEKD0OQE6uyQBErgnAUrfPRFl7QJKX9Y48Sr7EBg5ciR2796N6dOn8z1t9kHsElFTUlLUO/1iY2NV1a9hw4YuMS4OggSMRIDSZ6TZYC4kQAJWApQ+Tc8CpU8TSIbJEYGzZ8+iTJkyiImJUZUcNhK4G4HIyEhV9evTpw+Cg4MJiwRIQCMBSp9GmAxFAiSgjQClTxNKSp8mkAyTYwJ+fn5qyd64ceNQqFChHMfhje5B4NixY6rqd+3aNVX1q1q1qnsMnKMkATsToPTZGTDDkwAJ5IgApS9H2O68idKnCSTD5JjArl270Lx5c2zcuBHVqlXLcRze6F4EQkNDMWTIECV+vr6+7jV4jpYE7ECA0mcHqAxJAiRgMwFKn80ILQEofZpAMoxNBJo0aYK6deuqD/F58uSxKRZvdh8CcXFxqupXs2ZNJX8FCxZ0n8FzpCSgmQClTzNQhiMBEtBCgNKnBSOlTxNGhrGRwPLlyzF27FgsW7YMFSpUsDEab3c3AgEBAVi1apUSP29vb3cbPsdLAloIUPq0YGQQEiABzQQofZqAstKnCSTD2EygevXq6oCObt262RyLAdyPQFRUlKr6yVLPkJAQ9wPAEZOAjQQofTYC5O0kQAJ2IUDp04SV0qcJJMPYTCAsLAzR0dGYPXs2PD09bY7HAO5HIDExUYnf6dOn1Tv9atWq5X4QOGISyCEBSl8OwfE2EiABuxKg9GnCS+nTBJJhbCaQnJyMUqVKQZZ6Nm3a1OZ4DOC+BGSZp7+/vxK/Hj16uC8IjpwEskGA0pcNWLyUBEjAYQQofZpQU/o0gWQYLQR69+6NixcvQqp+RYoU0RKTQdyTwN69e1XVr1y5ckr+SpYs6Z4gOGoSyCIBSl8WQfEyEiABhxKg9GnCTenTBJJhtBA4cOCAekn71q1bUaNGDS0xGcS9CQQFBSE8PFwd8uLj4+PeMDh6ErgLAUofHw8SIAEjEqD0aZoVSp8mkAyjjYC8s09euD1ixAjkzZtXW1wGcl8C69atU1U/kb4JEya4LwiOnAQofXwGSIAETEaA0qdpwih9mkAyjDYC8gG9f//+WLlyJSpVqqQtLgO5N4GkpCT06tULUk2W5Z716tVzbyAcPQmkI8BKHx8JEiABIxKg9GmaFUqfJpAMo5VA7dq10aFDB8j719hIQCcBOR1W5E9e6xAYGKgzNGORgKkJUPpMPX1MngRclgClT9PUUvo0gWQYrQRmzJihXtQue7HKli2rNTaDkcDBgweV+BUoUEBV/cqXL08oJOD2BCh9bv8IEAAJGJIApU/TtFD6NIFkGK0Ebt26pU5bnDlzJlq0aKE1NoORgJXA8OHDMXnyZHXIS5s2bQiGBNyaAKXPraefgycBwxKg9GmaGkqfJpAMo52AnLqYkJCgKjHFixfXHp8BSUAIbNq0SVX95NRYedZy5cpFMCTglgQofW457Rw0CRieAKVP0xRR+jSBZBjtBOLj4+Hl5YUtW7agTp062uMzIAlYCaSkpKjTPWNjY1XVr2HDhoRDAm5HgNLndlPOAZOAKQhQ+jRNE6VPE0iGsQuBdu3aqWWeo0aNUvuv2EjAngQiIyNV1a9Pnz4IDg62Z1eMTQKGI0DpM9yUMCESIAEAlD5NjwGlTxNIhrELAanyde7cGevXr0eVKlXs0geDkkBaAseOHVNVv2vXrqmqn7wzko0E3IEApc8dZpljJAHzEaD0aZozSp8mkAxjNwL169dHs2bNMHDgQHh4eNitHwYmgbQEQkNDMWTIECV+vr6+hEMCLk+A0ufyU8wBkoApCVD6NE0bpU8TSIaxG4GIiAjMmjULixYtQrly5ezWDwOTQHoCcXFxqupXs2ZNJX8FCxYkJBJwWQKUPpedWg6MBExNgNKnafoofZpAMoxdCch71GRfX/v27e3aD4OTQEYEAgICsHr1anW6p7e3NyGRgEsSoPS55LRyUCRgegKUPk1TSOnTBJJh7Epg5MiR2L17N6ZPn64OdmEjAUcTiIqKUlU/WeoZEhLi6O7ZHwnYnQClz+6I2QEJkEAOCFD6cgAto1sofZpAMoxdCZw9exZlypRBTEyMep8am4EIbN0K9OwJ7Nlz96Q+/hiQuXvlFccm/8ADwG+/AXdbGvzHH8CQIcDChcCuXUDr1sDhw3fkmZiYqMTv9OnTqupXq1at7I1FZPH0aWDatOzdZ4SrnTV/Rhi7m+RA6XOTieYwScBkBCh9miaM0qcJJMPYnYCfn596cfa4ceNQqFAhu/fHDrJIIKvS98ILTAZYXwAAIABJREFUgLwGwdHLI3//HahcGcidO/MBbdhgyS0uDrh6FTh50nJPJk329/n7+yvx69GjRxZBATCz9Dlr/rJOl1faSIDSZyNA3k4CJGAXApQ+TVgpfZpAMozdCezatQvNmzfHxo0bUa1aNbv35xYd/O9/QPfuQMuWluHKn6Vq5+MDSIXs/feBc+eA48eBDz4ArHsqx44FZs8GihYFHn8c2L3bUun75x+gWzcgPt5ynyzF/eILYO1aYOBA4KGHgKlTgcaNgU8+sXxd2qOPWqpfxYv/h/3GDeDhh4Gvvwbq1LF8/d13gUaNgLZtM+5Hrpe8mzcHvvkGWLUKePnl/yp9Uq1av94idvJryhTL95980jLGZs2Avn3/q/SlpFj+/O23QK5cwDPPAJMmAYUL40ahQlhctCi8bt5ErcKFkUvkT9hJy6ifpk0zl77x44HoaEBOp7WeUDtvHlCiBLBsGSDf//dfIDHRMg+DBlkE9cMPLXkJ619/BUaOvHN80q/cbxXa8+eB0qUB+bqwkPv69wc6dwaEeUbzInOY1flLz3/FCmD1aiBPHqBsWWD+fMtzwWY4ApQ+w00JEyIBEuB7+vQ9A5Q+fSwZyf4EmjRpgrp166qj9PPIh0g22wjcS/omTLDI1YULgJcXsG0bcOQI0LUr8OOPFukTMfz5Z4v0iajI78PCLHl17Gj5oD96NJC2UiSyJffPnWuRlnHjgP37gfDw28cjSy5FUkQI//oLeOQRS/9RUZn3ky8fIHn7+VliFy5skT4RUn9/i2jmzWuRjxkzgO3bgbSVvrTLO0WiRJaWL7dUCkWQRQQlb5GbsDAEHT2K6HnzsO38eXhIjiK8mfWTWaVPpGz6dMuYChQAhg2zSOjnn1u4iXRVqmSJLQwuXrRc+/zzlv/KuwRlOWpm/VrjyxzJCaRSxXz7bQsn+dprr1mqm3ebl6zOX1r+x44B9esDJ05Y+Mn4RZxffdW255Z324UApc8uWBmUBEjARgKs9NkI0Ho7pU8TSIZxCIHly5dj7NixWLZsGSpUqOCQPl26k3tJ359/AkWKWBC89Rbw5pvAwYOWqpNV7GJjAalyWff0icyJKMk+OREs2cMn1b200tCkCXDo0H+xRaTy5wd27rwdd0KCRRJEGqSyKN8XsZSWWT8iHQcO/Lc8M+2ePpEQETzJTfIWody3L3Ppkz2I/foBb7xh6VOuFWZnzlik75dfgIoVsW7dOjRs1gzjunXDUBG1zPq5m/QJaytTqZwKaxG/pCQLR+El41q82FLZkz+3amXpy9oy61ekT+4VWZUmcyEVTKnoSizZ7yiVz7vNS1bnLy1/mVdhmJxsWdYrctmwoUv/SJl5cJQ+M88ecycB1yVA6dM0t5Q+TSAZxmEEqlevjj59+qCbVKDYbCMgQiYVsXfescR58UUgMPC/5Z0iW1LNkybLAWV5pcjD9euWZY7SduywxBDpCw21HIYiEvjYY5ZlfZcuWSp1aaVBllTKEk1ZUijt8mXLdbLsMH0TWZD4Ui2UPqVydLd+RDokb+sSQqv0iUDKOAMCgCeesMiUVBKlwphZpU/6kqWUr79uyUqqarK8VCqfEleqa2XKqG/deuAB9G7WDJf37cNniYnII0sm0/dzN+mTnK1Mf/jBwvqnn4CnnrIsvxV+cnCMVPrOnrX03aWLJX9pIrGZjU+kT66XaqI0iSXLNWVcaaXvbvOS1flLz//WLUDGs3Gj5dlo08ayhJTNcAQofYabEiZEAiTA5Z36ngFKnz6WjOQYAmFhYYiOjsbs2bPh6enpmE5dtRcRL9lnJxIl0iaSExn5n/TJMkORQNn3JUsJRTBEHjp0sFTaRKxE8EQ45H4RIjn5UpZBilTJ3j2p1En1S77Xu7cltiznXLIEiIkB5FAe2ZsmSyOlipW+ydJKuV7iiXBKu1s/mUmfVAplmacslRQRkb1xmzdbxiZ5SG4yhrTLO0eMsEit5CDLieUeyVNyTyd91j//5OeHI2vXImHsWAT26XN7P3eTPhFjkbxixQBfX0v8Fi2Adu0AEVZZqip8ZM7kBNCjR2+XvqFDMx9fVqXvbvOS1flLy1+eERF7WRYsy1ZljNa9lq76M2XicVH6TDx5TJ0EXJgAK32aJpfSpwkkwziMQHJyMkqVKgVZ6tlUqk9sOScgyxNF4GSPmFSRZDlep07/SZ8ciCLXyHJO2d8mSw6lyXJN+SX75erWtXyoF2GSD/QiTyIuco9UumQfmlTSZP+YSKTsG3vvPSAoyFIJlINLqle3LN9Me5CLdVQSR5YfDhgAiERJu1s/mUmfHFIiyyFF+CSmVLVmzbIIlCw/FOGVJtJrfWXDtWuWQ04kf2Hz9NOWcUuemUgfrl3D1TffREJ8PO6/7z6UfPddFBLRlH6EQUavbBApkwNrJDepvFlFWcYih+eIbIs0yQFGIqGyTFP2yKWt9IkYZja+Tz/NWqVPuGQ2L1mdv/T8Bw+2HEYjci9jkGqjVIHZDEeA0me4KWFCJEACrPTpewYoffpYMpLjCPTu3RsXL16EVP2KWPecOa579+gpvdS4x6i1jnL48OGYPHky5BUPbWRZY2YtfSVOaxYMRgJZI0DpyxonXkUCJOBYAqz0aeJN6dMEkmEcSuDAgQPqJe1bt25FjRo1HNq323RG6dMy1Zs2bUKvXr3U8yrv9ZN3Td7RKH1aWDOIbQQofbbx490kQAL2IUDp08SV0qcJJMM4nIC8s69q1aoYMWIE8soR/GwkYFACKSkp6NmzJ2JjY1XVryFPsDToTLl3WpQ+955/jp4EjEqA0qdpZih9mkAyjMMJyDH5/fv3x8qVK1FJ3mHGRgIGJxAZGamqfnL6bHBwsMGzZXruRoDS524zzvGSgDkIUPo0zROlTxNIhnEKgdq1a6NDhw4IkGP42UjABASOHTumqn7Xrl1TVT+pVrORgBEIUPqMMAvMgQRIID0BSp+mZ4LSpwkkwziFwIwZM9QpngsWLEDZsmWdkgM7JYGcEAgNDcXQoUPVPj9feUUDGwk4mQClz8kTwO5JgAQyJEDp0/RgUPo0gWQYpxC4desWSpYsiZkzZ6KFvNOMjQRMRCAuLk5V/WrWrKmqfgULFjRR9kzV1QhQ+lxtRjkeEnANApQ+TfNI6dMEkmGcRiAoKAgJCQmqYlI8o/e8OS0zdkwCWSMgy5NXr16tnmFvb++s3cSrSEAzAUqfZqAMRwIkoIUApU8LRnlX8jC1xEh+DRkyRFNUhiEBxxGIj4+Hl5cXtmzZgjp16jiuY/ZEAhoJREVFqaqfLPUMCQnRGJmhSCBrBCh9WePEq0iABBxLgNKniTelTxNIhnEqgXbt2qllnqNGjUKBAgWcmgs7J4GcEkhMTFTid/r0aVX1q1WrVk5D8T4SyDYBSl+2kfEGEiABBxCg9GmCTOnTBJJhnEpAqnydO3fG+vXrUaVKFafmws5JwFYCsr/P399fiV+PHj1sDcf7SSBLBCh9WcLEi0iABBxMgNKnCTilTxNIhnE6gfr166NZs2YYOHAgPDw8nJ4PEyABWwjs3btXVf3KlSun5E8q2WwkYE8ClD570mVsEiCBnBKg9OWUXLr7KH2aQDKM0wlERERg1qxZWLRokfqgzEYCrkBADioKDw9Xp3v6+Pi4wpA4BoMSoPQZdGKYFgm4OQFKn6YHgNKnCSTDGIJA+fLl1b6+9u3bGyIfJkECOgisW7dOVf1E+iZMmKAjJGOQwB0EKH18KEiABIxIgNKnaVYofZpAMowhCMiph3v27MH06dO5HM4QM8IkdBFISkpCr169cODAAbXcs169erpCMw4JKAKUPj4IJEACRiRA6dM0K5Q+TSAZxhAEzp49izJlyiAmJgYNGjQwRE5MggR0Epg9e7aSP/kHjsDAQJ2hGcvNCVD63PwB4PBJwKAEKH2aJobSpwkkwxiGgJ+fH3LlyoVx48ahUKFChsmLiZCALgIHDx5Uyz0LFiyoqn6yrJmNBGwlQOmzlSDvJwESsAcBSp8mqpQ+TSAZxjAEdu3ahebNm2Pjxo2oVq2aYfJiIiSgm8Dw4cMxefJkdchLmzZtdIdnPDcjQOlzswnncEnAJAQofZomitKnCSTDGIpAkyZNULduXQwZMgR58uQxVG5MhgR0Eti0aZOq+jVs2FBV/aTKzUYCOSFA6csJNd5DAiRgbwKUPk2EKX2aQDKMoQgsX74cY8eOxbJly1ChQgVD5cZkSEA3gZSUFCV+sbGxquonAshGAtklQOnLLjFeTwIk4AgClD5NlCl9mkAyjOEIVK9eHX369EG3bt0MlxsTIgF7EIiMjFTyJwe8BAcH26MLxnRhApQ+F55cDo0ETEyA0qdp8ih9mkAyjOEIhIWFITo6GnLaoaenp+HyY0IkYA8Cx44dU+J37do1VfWrWrWqPbphTBckQOlzwUnlkEjABQhQ+jRNIqVPE0iGMRyB5ORklCpVCrLUs2nTpobLjwmRgD0JhIaGYujQoWqfn6+vrz27YmwXIUDpc5GJ5DBIwMUIUPo0TSilTxNIhjEkgd69e+PixYuQql+RIkUMmSOTIgF7EYiLi1NVv5o1a6qqn7zigY0ErAQmTpyIwYMHY8yYMfjoo49SX87u7++PWbNmYdSoUQgICCAwEiABEnAqAUqfJvyUPk0gGcaQBA4cOKBe0r5161bUqFHDkDkyKRKwNwH54L569WpV9fP29rZ3d4xvEgLyD2IlS5ZE7ty5UaBAAZw/fx4lSpTApUuXcOvWLZw7d47vOjXJXDJNEnBlApQ+TbNL6dMEkmEMS0De2Sf7mkaMGIG8efMaNk8mRgL2JBAVFaWqfrLUMyQkxJ5dMbaJCAwcOFCthLh+/Xpq1iKBffv2xejRo000EqZKAiTgqgQofZpmltKnCSTDGJbAunXrMGDAAKxYsQKVKlUybJ5MjATsTSAxMVGJ3+nTp1XVr1atWvbukvENTkCqfaVLl1YH/1ibvNtUqn6FChUyePZMjwRIwB0IUPo0zTKlTxNIhjE0gdq1a6NDhw7cn2LoWWJyjiIg+/tk35aIX48ePRzVLfsxKIG01b77778fLVu2hLz+g40ESIAEjECA0qdpFih9mkAyjKEJzJgxQ53iuWDBApQtW9bQuTI5EnAEgb1796qqX7ly5ZT8yd4uNvckkLbaJ0vgjx8/rk4+ZiMBEiABIxCg9GmaBUqfJpAMY2gCciiBfKidOXMmWrRoYehcmRwJOJJAUFAQwsPDlfjJ/lc29yQg1T45zTMwMJB7+dzzEeCoScCwBCh9mqaG0qcJJMMYnoB8uE1ISFAfbosXL274fJkgCTiKgOx7laqfj48PJkyY4Khu2Y+BCEi1r1OnTpg/fz738hloXpgKCZAA1OtkYmJiFIr7ADld+Ba55IAApS8H0HiLKQnEx8fDy8sLW7ZsQZ06dUw5BiZNAvYikJSUhF69ekFecyL/MFKvXj17daUl7jfvsCqpBSSD2J3Aq0u/snsf7IAEXJkApU/T7FL6NIFkGFMQaNeunVrmKS8dlvdSsZEACdxOYPbs2Ur+5LUOstTPqE2kr1FQsFHTY14koAjEjAoBpY8PAwnYRoDSZxu/1LspfZpAMowpCEiVr3Pnzli/fj2qVKliipyZJAk4msDBgwfVcs+CBQuqql/58uUdncI9+6P03RMRLzAAAUqfASaBKZieAKVP0xRS+jSBZBjTEKhfvz6aNWsGObjAw8PDNHkzURJwNIHhw4dj8uTJkFc8tGnTxtHd37U/Sp+hpoPJZEJApC9fz97quw0bNiQnEiCBHBCg9OUAWka3UPo0gWQY0xCIiIjArFmzsGjRInVcPRsJkEDmBDZt2qSqfvKBVap+uXLlMgQuSp8hpoFJ3IMApY+PCAnYToDSZztDFYHSpwkkw5iKgCxXk3197du3N1XeTJYEnEEgJSVFiV9sbKyq+hmhYkHpc8aTwD6zS4DSl11ivJ4E7iRA6dP0VFD6NIFkGFMRkEMq9uzZg+nTp/Ol1KaaOSbrTAKRkZFK/uSAl+Bg5x6iQulz5pPAvrNKgNKXVVK8jgQyJ0Dp0/R0UPo0gWQYUxE4e/YsypQpo9770qBBA1PlzmRJwJkEjh07psTv2rVrqupXtWpVp6RD6XMKdnaaTQKUvmwC4+UkkAEBSp+mx4LSpwkkw5iOgJ+fn9qfNG7cOL6M2HSzx4SdTSA0NBRDhw5V+/x8fX0dng6lz+HI2WEOCFD6cgCNt5BAOgKUPk2PBKVPE0iGMR2BXbt2oXnz5ti4cSOqVatmuvyZMAk4m0BcXJyq+tWsWVNV/eQVD45qlD5HkWY/thCg9NlCj/eSgIUApU/Tk0Dp0wSSYUxJoEmTJqhbty6GDBmCPHnymHIMTJoEnE0gICAAq1evVlU/b29vh6RD6XMIZnZiIwFKn40AeTsJUPr0PQOUPn0sGcl8BJYvX46xY8di2bJlqFChgvkGwIxJwCAEoqKiVNVPlnrKQUn2bpQ+exNmfB0EKH06KDKGuxNgpU/TE0Dp0wSSYUxLoHr16ujTpw+6detm2jEwcRIwAoHExEQlfqdPn1ZVv1q1atktLUqf3dAysEYClD6NMBnKbQlQ+jRNPaVPE0iGMS2BsLAwREdHY/bs2fD09DTtOJg4CRiFgOzv8/f3V+LXo0cPu6RF6bMLVgbVTIDSpxkow7klAUqfpmmn9GkCyTCmJZCcnKze1SfL05o2bWracTBxEjASgb1796qqX7ly5ZT8yc+Yzkbp00mTsexFgNJnL7KM604EKH2aZpvSpwkkw5iaQO/evZGUlISJEyeiSJEiph4LkycBIxEICgpCeHi4Ej85LVdXo/TpIsk49iRA6bMnXcZ2FwKUPk0zTenTBJJhTE3gwIED6iXtW7duRY0aNUw9FiZPAkYjsG7dOlX18/HxwYQJE7SkR+nTgpFB7EyA0mdnwAzvFgQofZqmmdKnCSTDmJ6AVCGqVq2KESNGIG/evKYfDwdAAkYiIJX0Xr16Qf6BRap+9erVsyk9Sp9N+HizgwhQ+hwEmt24NAFKn6bppfRpAskwpicg1YgBAwZgxYoVqFSpkunHwwGQgBEJyIFJIn/yWofAwMAcp0jpyzE63uhAApQ+B8JmVy5LgNKnaWopfZpAMoxLEKhduzY6dOgAedk0GwmQgH0IHDx4UC33LFiwoKr6lS9fPtsdZUX6Ek6eRPXX30Te++9X8e+7D3ischVM6NcXzz35RLb7lBvCwiNwMD4e0z/5OEf3G+WmIydOYMT0GZgXMgI/HjiA9gODcGDl1w4fX1qewz77HC889RRefraeyuOP48cxbXBQlpDtP3wYT7dqjRD/Xujb8f1M7xk9ew7O//03xvfN+T84ZCmh/7+I0pcdWryWBDImQOnT9GRQ+jSBZBiXIDBjxgzIC9sXLFiAsmXLusSYOAgSMCqB4cOHY8qUKUr82rRpk600syN9l3b+gNy5cuHGzZuYFLEQc5ZHKcHJSXMV6Yv+YQeGfvoZtoTPx9Xr13EqMRGVHnoIf/1zEddT/oVniRI5wZPte9L219i3MwZ16Ywmzz+fbenrNWo0Ll2+jC0//oiDq1ep+c6oUfqyPUW8gQScToDSp2kKKH2aQDKMSxC4deuWOlp+5syZaNGihUuMiYMgASMT2LRpk6r6NWzYUMlfrkw+rKcfQ06k7+bNmwiLWIj1W7fiu1kzVUipLn27bTuuXr+Gq9euY2L/fni1/vO4/u+/GBg2Cd/EbkOe3LnxYp2nEDagP6ZGLkqt9E3/8kvMWrYcqz+dhi/WrUfMzp3w8PCAx30eKvasYUNQvEgRlKj/It5s3Bjfbd+OryaH4caNm+g/MQyXr1xRsT/5oDuavviCqrh1+WQoHq1cCfJ30ZnzFzC+XyCeevRR/HPpEnqGjIJUL8/9/TdKFi2KiDGjUPHBB1VcyTWXRy48XvURfP/jT9gwe6b6Xkbja1z3GdRt3RYnzpxB0xdeQO8O7TKs9MXt/TnTPCWXGpUr48z5czj319+Y2L+vqtKlbdLH2D690bhuXSxZ/w38hg7D6c2bkD9vXnQfPkKNK/nKFcWzdo0aCJ46FQ+WKq047z14EBvi4tQ8xP95Eg95lsbCMaNRLoN3qSZdvozKr3rj+/AFaNt/AAZ26YJWrzZRqVy+ehUihD/8vA8lihZV3CqVe0hV+qI2bMSk8Aj8m5KCxL/+gt87LdHft5Oahx4hI1GjUiU1BxcvXYL/e23V9fEn/0QdLy98Fjw4Sz9WrPRlCRMvIoG7EqD0aXpAKH2aQDKMyxCQI+YTEhLUB9DixYu7zLg4EBIwKoGUlBQlfrGxsZAXu4sA3qtlR/qKPPBAqgCIlH01eRJeqlcXB/44gj7jQrFi6mS1BDRi5SrMWh6FLQvmYcKCcGyMi1PX5s6dG6379sO7Tb1x/NRpJSlej1TB0m++w4opk1GsSGFVmRIB3PXlFyiQLx9GzpiJ42fOqGWgRZ59XslP57ffRvLly6jVoiUWjxuL+rVrq1gvdeqMzQvmKbFr+H4n7PhiMR6rUlnJm8jR/q+jELFqFfYdOozQwD5qLF2GDEXZkiXR5/0O8HrLB2s+/0yJ0xfr1qHj4I9xcPVKJF+5mun40lb6MlreObZPAGo2fzvTPBu83xE/frlEiVHk6jWYtXw5YubNvW3aRs2chYvJyRgT0BudPxmCDdvjMGf4MLV8s9KrTfHD4kgsWrM2VaLTV/qmLV6MzfPnKdHrMCgIlcqVw7AeH97xaMz4cikWrFiJbZERmBgejq82bFQCaJX6344eReTYMRA5bNTRV/U/uvdHeMm3MyJGj8bDDz2oZPqxt3yQ+P0W/HrkCGR8OxYvVvMsuf8eH4+Y+fNw48YNVGnaDNFzZqNqxQr3ekxB6bsnIl5AAvckQOm7J6KsXUDpyxonXuU+BOLlA52XF7Zs2YI6deq4z8A5UhJwMoHIyEglf3LAS3Bw8F2zyY70WZd3SqUvauNGdP1kKH7+ajnKlymD46dPQwRI9rht27MHF/75R8lMsw97oN3rzdDmtdduy0PkTpaInr1wAUvGh+LNxo3U9+XrJxMTU6Vsz28H0SIgAH+sW6ukb8/ypWr5pFQDB4VNxvZFC1Pjtu7bX0loHa/H8OGIEPyweFHq9zwbNFLXVi5XDj/9+it27NuHI8dPYH1sLF6uVw//e+5ZjJ0zT4mqtT3Y+CVsj1yoKn2Zje9e0te6qfdd82zbf6ASS2kijb7Bn2Bv1LLbWMk+O9kr+NPSJXj0zbdUJS3xwl/weakxBk2agui5s2/bQ5he+n49chQzh36iYk6JXKRk7POP73wuZC+f79vN8WHrd3H63DlUafqakrJ6tWrhhfYdMKBzZ7zRyPIPCWPmzMW5v/5SlT6RQKn6Hj52HL8dOaKqkSc3bcTRP//EewMG4rdVlvHJMthLV66k7gN86p1WSubr1qx5z58YSt89EfECErgnAUrfPRFl7QJKX9Y48Sr3ItCuXTu1zHPUqFEoUKCAew2eoyUBJxI4duyYEr9r166pqp+8RiWjlhPps8ap+trr6jCXUsWKoU3/AfBv1xa1qlZTEjBi+nT8tPRLvNXLH21ea4rWTZuq286cP6/+K5UpqSQFdnofAWND8eOSL1IrfX+ePZsqBjv378d7Awbh9zWrlPQdWb9WLS/cGPcDPp46TVWlrO3dwH5o8HQdPPtELXwwPAQ7vrBInyzxLP78C0oYl2/YgMVr1qH7u+/g0cqVsXbL90pEZHmmVBVlb561PdT4ZRX/5NnETMd3L+l7p0mTu+bZKfhj/By1XHUp0pf2z2nny+ut5qrSN2PpUsW83YBB8H6hvtoz2LNtm7tKX9qDXKYuWoRfDv9xxwE6sbt3439d/PBg6VJqeau0xAsX8FqDF1V1T6Svv69vqpxLBVf2Lw7u2hX12r6Ht//3Mp5/8knUrFYVj73pgxMbv0P8yZO3jUekT/Y9yjikUfqc+BcEu3ZLApQ+TdNO6dMEkmFcioBU+Tp37oz169ejSpUqLjU2DoYEzEAgNDQUQ4cOVcusfX1970g5p9Ine/RaBfbFvq+WI3zlKhw8Gq/2xolgyd4vWVIpFavJCyOVoC2fNFHt02vRO0AJluwRs57e+cGIECQlJ6u9ZlLp+3zJl/hhUSSKFi4Ev2HD8UD+/Gp/Wlrp+zspCY/7vI0l48ep5Z2HEo4pMYmeO0ftK3yxQ0dsmT8PTz/uhfCVK1UeUnl8pasfWr36Krq2bKHk9NWu3VRlcESvnqjZvIVaoip75L6OjoZUDkU27za+Lbt+RN/xE5RgZrS8UwTnbnlmVfqCJk/Bms1b0Km5D3q3b4dqzd6AVFxj5s9VyzbTHowjY+zVtq0StPSnd2Ymfe8HDVbLb2XZqLVJNVUqtVKpC1+xErt/+w1fjA9V+wNf6eKnTm59s1EjdAz+GIfWrkYuDw9V5ZNYx777FsfPnKb0meEvCeboNgQofZqmmtKnCSTDuByB+vXro1mzZhg4cKD60MdGAiTgWAJxcXGq6lezZk1V9ZNXPFhbdqSvYP786rb78+RRFaFBXbug5Suv4NipU2oZnwifHOYhB47MjfoKCRu+Vac/irDIvr5bt6D2gY3rE6AkzCp9Il913nkXw3t+iFOJ57AyJkbFklcCPO3lhSlBg1CoQIHbpE/ykOqULPFMvnpFHfoyoIuvykfkq2VAIJ72ekwtNy3yQCF8/kkwqj/8sDqspW/oBBQtXBiyB1IqUwknT2Hd9M+weecu9JswUcmUiKAcKvPHujVKUDMbnxwi06iTRabnjwzJ8CCXu+WZVen74eef0bCjL3YuWYyaVatCRHn/oUOpe+7SSp8smx05cyYm9uunDqu5V6VPlmnK/rptCyPU3ru07SXfLqhXqyaGfvgBAkPHY9OOnShRpIg6xKVU8eJqT58sSf3lj8NqD2bVihWxc/8vajmp7O9MOz5W+hz7c89u1WfkAAAgAElEQVTeSCA9AUqfpmeC0qcJJMO4HIGIiAjMmjULixYtQrly5VxufBwQCZiFgLw3c/Xq1arq5+3trdLOivQ5cnzZfa9cRrndbZlkZmMR8ZQDU4K7+UHkVvYSytLU+G/XQz4osTmXAPf0OZc/e3cNApQ+TfNI6dMEkmFckoC8NFr29bVv394lx8dBkYBZCERFRamqnyz1DAkJofSlmTh5ybq8TkBe/yC/xgUGqKWjbM4nQOlz/hwwA/MToPRpmkNKnyaQDOOSBOTD5Z49ezB9+nR1sAsbCZCA8wgkJiYq8Tt9+jTa5M2NTmPHOS8Z9kwCWSBA6csCJF5CAvcgQOnT9IhQ+jSBZBiXJHD27Fk0b94c27Ztc8nxcVAkYFYCtUqVxI5v1ps1febtJgQofW4y0RymXQlQ+jThpfRpAskwLk1ADpSQd/cVKlTIpcfJwZGAWQgYbU+fWbgxT8cSoPQ5ljd7c00ClD5N80rp0wSSYVyaQEJCgnpvWLVq1Vx6nBwcCZiFAKXPLDPl3nlS+tx7/jl6PQQofXo4gtKnCSTDuDSBf//9Fzt27MDVq1fVO6HYSIAEnEtg55BgPNmuAyo+WBYVypZ1bjLsnQQyIUDp46NBArYToPTZzlBFoPRpAskwJEACJEACDiPgbpW+tC9QvxvkEvVfxIGVX8OzRInbLpP3B3p3/wArpk5Bvvvvd9g8bduzB73HjFMvgb9bG/bZ53jhqafU+xBdqVH6XGk2ORZnEaD0aSJP6dMEkmFIgARIgAQcRsDdpO/q9es4lZiISg89dFfGmUlfyo0beOCZevg7bpshpa+xb2cM6tIZTZ5/3mHPkCM6ovQ5gjL7cHUClD5NM0zp0wTSHcLMng3s2QNMm5b5aOfPBwoWBN55J2tEdu8Gli0DRo7M2vVpr9qwAZg0CVi9Ovv3ZveO9euB6dOBr7/O7p2W69u1A3x8gJYtb7/fylTGUbQocOlSzuLruCs42JJD374ZR7t6FShTBvj77zu/n91515EvY7g1AbNJ34V//kHV117HsQ3fqpeo9wgZhYPx8dgwe6aaR6+3mmP5pIm4eu06+k2YgKTkZNyH+9DPtxPe/t/LSFvpu3LtGvxHj8G23XtQrHAhPFblEdy8dROzhw2FSF+n5j74btt2XExORkCH9vB/ry26DRuOBStW4pnHvbBy6lSERURg7Zbv1Xv9ypQqablXfv7TtNGz5+DM+fOYNKC/+qr8+fzff2N830DVT7s3Xld/Pn76DLq90xJtm72mrhs/fwHmffU1ihYqhMceqYK9vx1Ulb5/Ll1Cz5BRSDh5Euf+/hslixZFxJhRWL81FsFTp+LBUqURNqA/Gj7zNIZ/Ph3rt25V8WpUqoRJAwagWJHCpnvmKX2mmzImbEAClD5Nk0Lp0wTSHcJkRfq6dwdeeMEiOVlpX3wBiLxJ7Oy2K1csAuKI/Tz2lj4R6SNHgMqVs0tB3/UXLgAeHhbxy6jdTfqyO+/6smYkNyVgNumTaXq1W3d81O49vPbii6jZ/G0lQQdWfI3j8t7BfgOwLTICdVq9i+VhYXisSmUlVC90eF8tyRQJbD8wSC3dlKWQvyckIHz0KFy+ehWvdOmKx6tWTZU+Eb3Bfl3VNXXeeReJW7coubNW+k4nnkODjh1xZP065M6VS8nc016P4ZXnnsuW9I3tE4AuLd7GX/9cxJMt38Hm+fNw9M8T+GBECLZHLlTS1/mTIdh/6LCSvvCVK7Hv0GGEBvZR/XQZMhRlS5bEiF49kbbS9+niL/DTr79i5tAhyOXhgQkLwvHL4cOYO2K46Z52Sp/ppowJG5AApU/TpFD6NIE0QxipiElFRipr0qzVpwcesFTaihcHrl8HKlQAPv0UkANLIiKAkBCgSBGgfHmLYImgfP45MG8ecPkyIPtDli4F/vzTUuGT1xpIVaxKFUBkIDERyJsXCAsDnn32P1JS1apdG/jnH0t16cMPga5dgX37gFy5gMGDgVatgIEDgUOHgBs3gPPngbZtgQ8+sMiitdJ38CDQubMlluS6YIGl/7Tt6NGM85H4krvkefq0JXZsLPD774Cc1hkeDoj0ffyxZWxnzwIvvwxMnGjJU8Yl19y8CTRsaPmzyFNgoKUKKcuxhGtAgKXSlxHTtJU+yefMGUs/x49bxitfu3UL6NcPWLECKF0akD07b78NdOz43yhlDE8+aRmPNOlb8nz3XWD0aMuc9uwJ9OoF/PSTJWd/f8DXF0hb6YuMBIYPt1RtZY6EvcxpqVJAmzZAdLSFhTxL6eddOMszIn09+qjlmePhN2b4G8JUOZpR+j77Yomq7n3wbit8NGYsihUqjPffehP7Dh3ClatX8Wr9+vDu3h3VKj6cOhd/JyVh5Ee9ULlcuVTpe65tOwzv1SNV0iSuSJK10rdn+VKUl6o8gNIvNoT8uXSJEqnSJ6L3cueuuHzlCpo8/xy8X3gBL9Z56o75v1el78g361BE/v8BoGVAH7zesKESzX9TUlLFbvuevWqs1j19kueOfftw5PgJrI+Nxcv16qnqXlrpa/ZhDxw+djw1dsqNFOTPmw+xC8NN9YxKspQ+000ZEzYgAUqfpkmh9GkCaYYwd5M+EQeRnMKFgffeA/73P+DVV4E6dSxLOkUwvL2BGjWAsWOBJk0sIiQf/EWGpAoUGmqRKmulr3FjYMQIy58PH7bEk//ed99/tNJW+vpY/vVXSYpIT716/1UBRQQl/2vXgFq1gLVrgfj4/6Svfn2LyLRuDYiwbNkCzJhx+6xkls+gQYAsM/3mG+D77y1jE3Hx9AQee8zSr0iniJPk8eCDQNOmFtkSqRo3ziJiIjZ+fsAzz1gEWsT5u+8AqaA9/jjw2WeA7FfJiGl66fv5Z2DNGiApCXj4YSAhwcJiyhTg22+BixctMiZillb6ZMQi1lI5lXxEQlu0sPQtvxdxW7IEyJPHItXJycCLLwKLFgELF1qqfPKPAU8/DezcaZHL5s0t45F78+cHvvrKslRVBFRa+nkXMZSqpTwbIpQi8/LcsJGARgJmlL4/z5zFy126oGebNqpCV6xwYfx29Ch27v8F0wYPUtW8DkGD8ce6tamkTp87h+JFiigxtFb6XuzwPj7u3i11/9vnS75Uyz+t0pf2IBfPBo3w09Iv4VnyP+mTg1zkYJed+/cjesdOLF6zFu96v4ogv663zdCYOXPVPsLJAweor0uFMeny5dTlnX+sX6uqedLe7OmPd5q8gl+PHsX1f/9V10jbtf8XfBgyUknfxPBwLF6zDt3ffQePVq6slpdeunJFLR9NK33e3T5A66be6OjzloohrJIvX0Yp+XvIZI3SZ7IJY7qGJEDp0zQtlD5NIM0Q5m7SJ5Uq+eAvTT78i2C8/jqweDGwfLnl61LZ+/FHSxVHKm4ST0Rx3TqLoEn1zyp91oqfSJO1nTsH7NhhkSZrSyt9UqESYfPysnxXKm4iUNKHLHsUoZLWpYtFJMuVs0ifSIjIqlQd0wpl2jkRWZQPJxnlIyIlUisSI1L6xhvAr79a7m7UCBg/HpDc58yxVDSlye/j4ixiKFxEdKSJ/L72mqWyV726RUSlvf++Ja60jJiml75ixYABlg9aeOQRYPNmSzVWGFk5SGwRyPTSJyIo1U4RO1n+Kv3J3hiZo99+s7CTiqAInDQRSBFXkXuRPqn0yt5F6/Mg879qlUX6hJOIonUcIqAy/rSyL2OVebbuYZQc2UhAMwEzSp8geKF9ByQlX8a8kSNQvHARvNS5Cwrky4f9X0cpoXrsTR+EBgagddOm+OP4cTz/XntsXjAPyVeupErfqJmzsP/wYUSMGY1r16/D2687qleuhFlDh6i9dhlJ34OlS6HA03VxKiYaR06cQPdhIxAzf67qW6RR9gBGTQ67bZbmREVhwdcrsWn+XFy8dAkv+XZRp2ta9/SJePZu306Ja6OOvvhp6RL8cfwEfD/+BHGLFqo9glLlk2qfSN8rXf3Q6tVX0bVlCzXWV7t2Qx2vxzA1aJD6Xq+2bfFm40ZqOeeyb77Ft7NnolCBAmr/4t8XL6rlrGZrlD6zzRjzNSIBSp+mWaH0aQJphjBSOZo79z+Jk6WT8kuW58hySJEDaXKNLG8UeREJi4qyfF1kUERHKmNSsZIP+iJlIgsiSyIF1g//soxRBEIqVSIf0mQZoAhfZpU+qeBJDlbpk1hSzZKqW6VKQLduljgdOgCvvGJZaiqyJIIikiTyIrFTUiz3SAVSqlrSvvwSaN8+43xkPLIUqndvyzhEVvbvt9yXVvpkWabwkCaiI5Uwkat8+YAhQyxfl+WlsrQzKAioWtVS6ZImoiqVUskvI6bppc+aj9wr0hcTY6mwSsXQysEqfVJxtY5TBFiW4Q4daslLKq1S/ZR7RPgmTwZk386YMZbKnzRZRipzJbIo/xXWsmzT+jyklb60B7mIsEvfsnwz/Z4++ccB+ccAkWOp3Eq1kI0ENBIwq/SNmzsPkyMW4vjG7+Dh4aEOcPF5qTFGfmT5u0KWPvafGIZLyZfV4SwDfH3xblPv2w5ykZM8A8aOw9afflJLID1LlES5Mp6qIpeZ9D3kWRrvBvZDzM6d+D5iASJXr0HUhg0oVKAg8ufLpyqNUn1L20TMOgYFY+/BgyhftgzqPv44bty8mSp9bzZujF+P/KGWcw7r0QOvN2ygbpflpvKrcMGCePpxL8Tt/VlJ33fbt6Nv6AQULVwYKSkpqFmtKhJOnsK66Z9hUsRCjJw5ExP79UPr15rik2mfqkqgMKpWsSKmf/IxD3LR+PPDUCRgJgKUPk2zRenTBNIMYX74wSI+v/xiqfRIBWbqVIv0yZI++bosn5HljfIhXoRHKku7dlkESz64i1DI92VJnyyF/PdfoFkzoGJFYNYsy34xuUckR5Zcyv4v+dq2bZblkbIkU/bBWZvIhUibCKVIlwiTdXmn5CeVJKlCSuVIll9KhfGppwAZi+zjs+7pE4H56CPLHjeREREWWXKZtmWWjyxzzIr0iTiJDErFUMRQ5FN+L8sXJT+pNkp19K23LLyE0caNlgrkE09YxiVLKTNimhXpE5ESaRMOsh9SOIjcSWUtbZO9f7KcUqRv717LXkKRXpEzkWUZr8itMPrrL0tusgxVZFSkT54RkXkZkyzvlKqtjE0quZlJn3XeZf+hxJP5kWepf39LRXHYMDP8hDBHExEwq/TpQLz0W8sJoHIgzM2bN9G6X3/879ln4fdOutOBdXSWSYzMXg1hxy5NGZqVPlNOG5M2GAFKn6YJofRpAmmGMCIDshRQqkZSPRIxEXkR6ZODQuSDveylE7mTQz+kKiVSJhUzOdBDREKkQCpOIlciYHIQiAiCSIQIjlQFRY5EcKSiJEsRZWmkVPtkWWi60+FURU7kUqqKUn2SJZ2yb07iynJLyVdyk2qiiKoIlFTVpHqV9iAX2XMn/cr+OetBLrIXLm2THDPKR+JnRfqkEiYVRVm6KWMe9f9LjWRppAiVNNk3KMtFRWzlYBSRLVkCWqCA5ZAaqYBmxDQr0if7B6UqKZIsyyxFkKXaJ9Xa9E0OtZFlmCLAsjRTZEzmSw7dka/36GGpVMozIVIouaU9yEXyFqGUA3ik8id8ZE4zk7608y5LaeVakT35RwKpHJtwL44ZfqTdOUd3lr5fjxxR++SSL19R++fkFQey5FJO6HRUo/RljTSlL2uceBUJ3I0ApU/T80Hp0wTSzGFsfR2BvceeVsrs3ZeR48u+PDkgRSqMsndQxFOqc7IsVmeT5Z4i6CJ9IpZStZXqnXV/os6+GIsEckjAnaUvh8h4mxMIUPqcAJ1duhwBSp+mKaX0aQJp5jCUPnPMnlTqZLms7I2UCp28ZiGzF6nbMiKJLXsRZcmnVHvlABjZrynLRdlIwCAEKH0GmQimcVcClD4+ICRgOwFKn+0MVQRKnyaQDEMCJEACJOAwApQ+h6FmRzYQoPTZAI+3ksD/E6D0aXoUKH2aQDIMCZAACZCAwwhQ+hyGmh3ZQIDSZwM83koClD69zwClTy9PRiMBEiABErA/AUqf/RmzB9sJUPpsZ8gIJMBKn6ZngNKnCSTDkAAJkAAJOIwApc9hqNmRDQQofTbA460kwEqf3meA0qeXJ6ORAAmQAAnYn4ARpe+vS7GQX2zOIVDsgfqQX0ZqlD4jzQZzMSsBVvo0zRylTxNIhiEBEiABEnAYAaNKX67iQKkKxhIPh02KEztKPBaLGxdA6XPiHLBrErAXAUqfJrKUPk0gGYYESIAESMBhBCh9DkNtio4ofaaYJiZJAjkiQOnLEbY7b6L0aQLJMCRAAiRAAg4jQOlzGGpTdCTSd2T/KSQlVUaFsmVR8cGyhsibyzsNMQ1MwuQEKH2aJpDSpwkkw5AACZAACTiMAKXPYahN0RGlzxTTxCRJIEcEKH05wsZKnyZsDEMCJEACJOBEApQ+J8I3YNeUPgNOClMiAU0EKH2aQLLSpwkkw5AACZAACTiMgFGlL3dxoCQPcnHYc2DtiNLncOTskAQcRoDSpwk1pU8TSIYhARIgARJwGAGjSh9P73TYI3BbR5Q+53BnryTgCAKUPk2UKX2aQDIMCZAACZCAwwhQ+hyG2hQdUfpMMU1MkgRyRIDSlyNsd95E6dMEkmFIgARIgAQcRoDS5zDUpuiI0meKaWKSJJAjApS+HGGj9GnCxjAkQAIkQAJOJCDSZ7RWpHYuVHmrwT1fzh4ybg5Onz2PaeP7axnC+CkR+O33eMye9jE+DvkcDeo/hVca14N8/fCR45g+KUhLP9YgSZcuo/Fr3TBtQn88+0xNrbFzGkykb9ui9TgUm4TSBQvAs0CBnIbSfl++nr1VzIYNG2qPzYAk4A4EKH2aZpmVPk0gGYYESIAESMDhBDZv3uzwPjPrsOC/O1Gx7P0Ol74Lf13E9ev/ooxnCbzQpDOC+3eG9/+et4v0bdi0A736jcPRhJOIWTvDUNL3w+7jOHKhPDw9PVGmTBnDPBfWRCh9hpsSJmQSApQ+TRNF6dMEkmFIgARIgAQcTsDI0idVt/XfbcfVa9dw9ep1TAnth6avPI+0lb5vNm5H38GTkCtXLtTyegSbt/6Ezetn4uEKD2JO+ApM+mwRPDw8ULpUMUwN7Y8a1R7GmInzsXX7Huw/8Afq1H4Uz9WtqSp9Tz1RAwOHTMVDD5ZW1+7ZdxDfRscpITwafxLlHiqNL+aNRvlyniharhG6+b6NvfsO4eTpRPT0a4Xvt+3BsROncePGDaxeOglFixS6Yz7fat0HAwI6ws8/RFUWjVTpo/Q5/MePHZKAQwhQ+jRhpvRpAskwJEACJEACDidgVOn75dcj8O8firXLJiNv3vsxP3IVZsyNwvaN81Klb0RwdzzyhA++W/mZErbIL9ehXZePcXT/Spz486z6/Q+bFsCzdHEsXLIWw8fMxoGdS1UFb+a8KPwc9wXy5M6NqTOWpC7vTF/pm/z5Ymz7bp4SvTa+Qaj8cDmM/ORDPFD2RYSO+AgfdGmJeQtXomffcfhj7wpVLfRpE4jXmtSHX6e3M53Px+u1ovRl82lnpS+bwHg5Cfw/AUqfpkeB0qcJJMOQAAmQAAm4NYHEQ0uB66dSl3dK1UyWQ/5x9ARi4/bg/IV/sC9uSar0vfrysxg1fp4SQWsrUfEl/Pj9QsyNWInk5CuYMCrgtu9t/XYOVqzZjAO/HUH4zOHqe2n39KWXvgO/HcXczz5R14V9ukjdN2tqsJI+EcgK5cqoHPsGT8Ke2EXqOhHAcg+WxsA+HU0lfQmnriM5zzOoWLEiHn74Ybd+Fjl4EnAlApQ+TbNJ6dMEkmFIgARIgATcmkBa6YuN24t3OgxAQI+2eKJmNSQlXcaQUdOx/4cvU6Wv2asvYNjomYiLnp/KreTDL2PXlgjMmv81rl27jvEjLYeASCte4SW1j27tt7E4cfJs6kEwd5O+tAe5yFJRWRIqyzJF+g7v+VpV9kT6ZFmo9Evpc+tHmIMnAUMSoPRpmhZKnyaQDEMCJEACJODWBNJK39DRM9WSyy/mjcKtW7fwQcBotV/v113LUqUv5OMPUP2pFli7fDLqPPkoolZGo0W7/oj/ZRUSjp1C+66fYEdMuFreuWjpevT/eAri969Slb3MpK/Ra37o/WFb+Lze6I6DXCh9bv14cvAkYFoClD5NU0fp0wSSYUiABEiABNyaQFrpSzh+Cq06DFTC929KCl5uWBez5n+F04e/xYSpC1Nf2bBpyy4EDJqImzdv4pmnHkPkl+tx/Nc1KFWymNq3J/v1bt68hZIlimLKuL6qaigHuWQmfRJbqodyaMy583/f9soGSp9bP54cPAmYlgClT9PUUfo0gWQYEiABEiABtyaQfk/fvWDI++6Gj5mFoUF+KFggP3bvPYjXWvrj5O/rIR9y2LJOQN7Txz19WefFK0nATAQofZpmi9KnCSTDkAAJkAAJuDWB7EqfwBoyagaWfb0RefLkVidxThwdgBefr+3WHHMyeEpfTqjxHhIwBwFKn6Z5ovRpAskwJEACJEACbk1ApO/c4WVuzcCZg5eTO3l6pzNngH2TgH0IUPo0caX0aQLJMCRAAiRAAiQAICEhAfHx8WThJAJ8ZYOTwLNbErATAUqfJrCUPk0gGYYESIAESIAEKH1OfwYofU6fAiZAAloJUPo04aT0aQLJMCRAAiRAAiRA6XP6M0Dpc/oUMAES0EqA0qcJJ6VPE0iGIQESIAESIAESIAESIAES0EqA0qcJJ6VPE0iGIQESIAESIAESIAESIAES0EqA0qcJJ6VPE0iGIQESIAESIAESIAESIAES0EqA0qcJJ6VPE0iGIQESIAESIAESIAESIAES0EqA0qcJJ6VPE0iGIQESIAESIAESIAESIAES0EqA0qcJJ6VPE0iGIQESIAESIAESIAESIAES0EqA0qcJJ6VPE0iGIQESIAESIAESIAESIAES0EqA0qcJJ6VPE0iGIQESIAESIAESIAESIAES0EqA0qcJJ6VPE0iGIQESIAESIAESIAESIAES0EqA0qcJJ6VPE0iGIQESIAESIAESIAESIAES0EqA0qcJJ6VPE0iGIQESIAESIAESIAESIAES0EqA0qcJJ6VPE0iGIQESIAESIAESIAESIAES0EqA0qcJJ6VPE0iGIQESIAESIAESIAESIAES0EqA0qcJJ6VPE0iGIQESIAESIAESIAESIAES0EqA0qcJJ6VPE0iGIQESIAESIAESIAESIAES0EqA0qcJJ6VPE0iGIQESIAESIAESIAESIAES0ErgDunTGp3BSIAESIAESIAESIAESIAESIAEnE4gJiZG5XDfrVu3bslvNm/e7PSkzJbA/PnzIb86duyofrGRAAmQAAmQAAmQAAmQAAmQgNEIUPpsmBFKnw3weCsJkAAJkAAJkAAJkAAJkIBDCFD6bMBM6bMBHm8lARIgARIgARIgARIgARJwCIFU6XNIby7WCQ9ycbEJ5XBIgARIgARIgARIgARIwAUJUPpsmFRKnw3weCsJkAAJkAAJkAAJkAAJkIBDCFD6bMBM6bMBHm8lARIgARIgARIgARIgARJwCAFKnw2YKX02wOOtJEACJEACJEACJEACJEACDiFA6bMBM6XPBni8lQRIgARIgARIgARIgARIwCEEKH02YKb02QCPt5IACZAACZAACZAACZAACTiEAKXPBsyUPhvg8VYSIAESIAESIAESIAESIAGHEKD02YCZ0mcDPN5KAiRAAiRAAiRAAiRAAiTgEAKUPhswU/psgMdbSYAESIAESIAESIAESIAEHEKA0mcDZkqfDfB4KwmQAAmQAAmQAAmQAAmQgEMIUPpswEzpswEebyUBEiABEiABEiABEiABEnAIAUqfDZgpfTbA460kQAIkQAIkQAIkQAIkQAIOIUDpswEzpc8GeLyVBEiABEiABEiABEiABEjAIQQofTZgpvTZAI+3kgAJkAAJkAAJkAAJkAAJOIQApc8GzJQ+G+DxVhIgARIgARIgARIgARIgAYcQoPTZgJnSZwM83koCJEACJEACJEACJEACJOAQApQ+GzBT+myAx1tJgARIgARIgARIgARIgAQcQoDSZwNmSp8N8HgrCZAACZAACZAACZAACZCAQwhQ+mzATOmzAR5vJQESIAESIAESIAESIAEScAgBSp8NmCl9NsDjrSRAAiRAAiRAAiRAAiRAAg4hQOmzATOlzwZ4vJUESIAESIAESIAESIAESMAhBCh9NmCm9NkAj7eSAAmQAAmQAAmQAAmQAAk4hAClzwbMlD4b4PFWEiABEiABEiABEiABEiABhxCg9NmAmdJnAzzeSgIkQAIkQAIkQAIkQAIk4BAClD4bMFP6bIDHW0mABEiABEiABEiABEiABBxCgNJnA2ZKnw3weCsJkAAJkAAJkAAJkAAJkIBDCFD6bMBM6bMBHm8lARIgARIgARIgARIgARJwCAFKnw2YKX02wOOtJEACJEACJEACJEACJEACDiFA6bMBM6XPBni8lQRIgARIgARIgARIgARIwCEEKH02YKb02QCPt5IACZAACZAACZAACZAACTiEAKXPBsyUPhvg8VYSIAESIAESIAESIAESIAGHEKD02YCZ0mcDPN5KAiRAAiRAAiRAAiRAAiTgEAKUPhswU/psgMdbSYAESIAESIAESIAESIAEHEKA0mcDZkqfDfB4KwmQAAmQAAmQAAmQAAmQgEMIUPpswEzpswEebyUBEiABEiABEiABEiABEnAIAUqfDZgpfTbA460kQAIkQAIkQAIkQAIkQAIOIaBd+u677z6HJM5OnEfg1q1bzuucPZMACZAACZAACZAACZAACWSLgF2kj1KQrTkw1cUi9ZxfU00ZkyUBEiABEiABEiABEnBzApQ+N38Asjt8Sl92ifF6EiABEiABEiABEiABEnAuAUqfc/mbrneRvpiYGJV3w4YNTdxWKXIAAAwZSURBVJc/EyYBEiABEiABEiABEiABdyNA6XO3GbdxvJQ+GwHydhIgARIgARIgARIgARJwMAFKn4OBm707Sp/ZZ5D5kwAJkAAJkAAJkAAJuBsBSp+7zbiN46X02QiQt5MACZAACZAACZAACZCAgwlQ+hwM3OzdUfrMPoPMnwRIgARIgARIgARIwN0IuJX0hYSE4Ny5c5g0aZL2eY6Li0PHjh3x22+/2RQ7d+7cKseiRYveFmfr1q3o2bMn9uzZg/Hjx6t+Zs+ebVNfObmZ0pcTaryHBEiABEiABEiABEiABJxHgNKnib0jpe/ChQu4fv06ypQpoyn7rIeh9GWdFa8kARIgARIgARIgARIgASMQMJT09e7dG4UKFcKIESNw6tQpPPjgg4iOjkbjxo2xcOFCrFq1CkuWLMGcOXNUtc7DwwOlS5fG1KlTUaNGDYwZMwZSEdu/fz/q1KmDiIgIfPDBB9i+fTtKliypflWuXDnDSt/u3bsREBCAixcvQsRm0KBBaNmyJXbt2gU/Pz88+uijOHPmDP755x913bJly3D06FE888wzmDlzJkT63nnnHTz33HP4/fff1Tg+//xzPP7447hx4wY++eQTrF27Vs25xJo2bRqKFy+OdevWoX///siTJw+effZZFcta6Rs7dqyq5knVT+JIjukrffI9GeO+ffsQHx+P7t27q4qgtNDQUBVPcpHXK3z11VfqGlsapc8WeryXBEiABEiABEiABEiABBxPwFDSt2XLFvTp00eJ1rx58xAUFIROnTph1KhRaNWqlZIwEcF27drhhx9+gKenp5LB4cOH48CBA2rZo0jOzz//rCRKlnP++uuv+PLLL5GUlITnn38er7zyyh3Sd/nyZdSsWRMrV66El5eXkq569eopSZP7RMZEtkS83n//fbW0ctu2bUrmypcvj++//x5SfZP4IqmNGjXCokWLVP+//PKLktIff/wRc+fORa5cuTBu3DglplOmTEGlSpWwYcMGJakieF27dsVff/2lrpffy39F7KRfGVd66XvggQcQFhamrk1ISED16tVx/vx5JaEigMKpWLFi6vfffPMNpc/xP2PskQRIgARIgARIgARIgAScSsBQ0nfz5k0ldXv37oW/vz8aNGiA+fPnIzY2VsnVH3/8oYQpOTkZEyZMSAVXokQJVeFbsWKFkr/w8HD1vbp162Lw4MF466231J9HjhyJxMTEO6RPBO7ll19WwmRtf//9N6TSVqVKFSWcR44cUd8KDg7GpUuXUmOICFr31nXr1k3lbm0FCxZU0tmlSxccOnQIRYoUUd9KSUlB/vz5MWzYMJWfVPCkyfjl61JRFNH9999/ldBJEwY9evTIUPpELCtWrKiuEwm0crr//vsxevRo9XWpBL7xxhuUPqf+uLFzEiABEiABEiABEiABEnA8AUNJnwxfBKl+/fpKiGSZpCzHFPmS5ZSyPFEk6dq1a6qqZ22yTDImJkZV5k6cOKGWTkoT6ZNqoY+Pj/qzCOPJkyfx5JNPqgqiNJElWQbatm1bHD9+PDWmLC8VmZTqmlQWrQe0iPRdvXo1tf+00ieiumPHjtQYhQsXVmN47733VPzOnTur70llUcRRKpqSn1TvrE1E8c8//1TSJ/v2rIfOSFxZZppRpe/w4cOp+/tE+uTPIouyFFOWvEqTyuLrr79O6XP8zxh7JAESIAESIAESIAESIAGnEjCc9Im4BQYG4pFHHlF7+Dp06KCETiRI5EuWgLZv317JlSzvlGWUsidO9qqJCKaVPhHHn376CcuXL1cCJfvaRCjTn94pSzilv4kTJypBE2l6+umn1V5AqSpmVfpkWadU3aQ6KOMQQZT+RTZlL6KMQ/bXffjhh2oJ5/Tp05XUrl69Wu0FlGtat26tvicVQxm7LO+UvYhS5ZNqX1alT2TT19dXcRIpFiEVnrIP0ZbGPX220OO9JEACJEACJEACJEACJOB4AoaTPpGzUqVKqcNcRFQiIyOVvJw9ezZ1eaTs25N9crIcUoRI9sY98cQTqqqVVvqkIvjRRx9h48aNqmongiUHv2T0ygbZAyeyKQIocaUCJ9U5qcZlVfpk351U/mQMsjRTKo4ik/J7iSdyJ4fPyDJSWRJqrVDKATYiU3IozNKlS5WYyT4+GaP8koqhVC1lGWpWpU9O9pw8ebI6TCZfvnyKj4xFpNSWRumzhR7vJQESIAESIAESIAESIAHHEzCc9DkegWv2KBVCOWBGhFKaLPcUsZVqoi2N0mcLPd5LAiRAAiRAAiRAAiRAAo4nQOlzPHOH9CgVS9kfKZU9EbUKFSqok00feughm/qn9NmEjzeTAAmQAAmQAAmQAAmQgMMJUPocjtzcHVL6zD1/zJ4ESIAESIAESIAESMD9CFD63G/ObRoxpc8mfLyZBEiABEiABEiABEiABBxOgNLncOTm7pDSZ+75Y/YkQAIkQAIkQAIkQALuR4DS535zbtOIKX024ePNJEACJEACJEACJEACJOBwApQ+hyM3d4eUPnPPH7MnARIgARIgARIgARJwPwKUPvebc5tGTOmzCR9vJgESIAESIAESIAESIAGHE6D0pUN+6NAh9O3bF08++SSGDh2qXnfA9h8BSh+fBhIgARIgARIgARIgARIwFwFKX5r52r9/P5o1a4bPPvsMO3bswIkTJzBnzhx1xa1bt24TwPR/vtu0y7XW680ukZQ+c/2AM1sSIAESIAESIAESIAESoPT9/zOQkpKCRo0aqSqfj48PoqOj4e/vj6lTp6Jfv364cuUKPv30U3WN/Pr555/x0UcfYciQIfd8ikSUPD090bp1a0yaNOme1xv5AkqfkWeHuZEACZAACZAACZAACZDAnQQoff/PZM2aNejYsSPOnDkDj/9r7w5eYY3COI7/EnvJkiynKHs2k4VMkw2hDOWPsFI2bNjZWNhKUxoSJVsmiZIsJLOgmdhazD9Aep68wr1uje69M8f5ns0Mzjtzzuc5qV/ved+3qUmrq6taWlrys33JNk97tWbBZ2dnRyMjI/7z0dGRB8Gv2vz8vKrVqn9m6I3QF3oFGT8CCCCAAAIIIIBAbAKEvteKz87O6uLiwgOctfHxcT+7t7+/r7W1NR0fHyufz2t5eVlzc3O+XTNpFoSen589DCbBMHm1PtlsVrlcTtPT08GvL0Jf8CVkAggggAACCCCAAAKRCRD6Xq/XGxgYUDqd1sLCgk5PT9Xf369SqaRUKqW9vT0Pe/Z7Cz0PDw/q6Oh4WyoW8Ow42+ppr0kAtA72vq2tTbe3t2pvbw9+eRH6gi8hE0AAAQQQQAABBBCITIDQJ8mu52tpadHU1JQeHx893NmZvd7eXl8O5+fnymQyKhQKGhwc9CD3uVngW1xc/BD4rM/l5aVGR0d1d3fn20btWsH7+3vfShpiI/SFWDXGjAACCCCAAAIIIBCzAKFP0tnZmWZmZnRzc6ODgwO/g+f7u2zadX2dnZ2+Tt6fxUsWztPTk5qbmzU2Nqbt7e0PWz9XVlZULBa1u7vr3bu6ulSpVIJ9FAShL+Z/F8wdAQQQQAABBBBAIEQBQp/kN1g5OTnxa/bsbNznZtfv2RbNjY0NDQ8P//L3np4eXV1d+bGbm5uanJz04Le1taXr62t/n3yuXTN4eHgY4lrxMRP6gi0dA0cAAQQQQAABBBCIVIDQJ2loaEh9fX1vN2H5XeizrZtfPZ7hq2f2lctlra+v+8clfSYmJtTd3R3sciP0BVs6Bo4AAggggAACCCAQqQChT/LHKbS2tka6BGqbNqGvNi96I4AAAggggAACCCBQbwFCX70rENj3E/oCKxjDRQABBBBAAAEEEIhegNAX/RKoDYDQV5sXvRFAAAEEEEAAAQQQqLcAoa/eFQjs+wl9gRWM4SKAAAIIIIAAAghEL0Doi34J1AZA6KvNi94IIIAAAggggAACCNRbgNBX7woE9v2EvsAKxnARQAABBBBAAAEEohf4J6EvetUfDmDPGrSWTqd/+EyZHgIIIIAAAggggAAC4Qv89dCXkBSLxfB1mMEfBQh9LBAEEEAAAQQQQAABBBpfgNDX+DVq2BES+hq2NAwMAQQQQAABBBBAAIE3AUIfi+HbAoS+b9NxIAIIIIAAAggggAAC/03gBSeSzZHT04HjAAAAAElFTkSuQmCC)\n",
    "\n"
   ]
  },
  {
   "cell_type": "markdown",
   "metadata": {
    "id": "gc4ws3K27SOu"
   },
   "source": [
    "**kontrollieren die Inputdaten DocSet**\n",
    "1. Diese Klasse `DocSet` wurde implementiert, damit die Daten effizienter mit Pytorch geladen innerhalb des Batches werden können\n",
    "2. `tr_set.__getitem__(0`) return die Repräsentation für das Dokument 0. Wegen der Normalisierung - die Summe = `0.9999997615814209`\n",
    "\n",
    "\n",
    "\n",
    "\n"
   ]
  },
  {
   "cell_type": "code",
   "execution_count": null,
   "metadata": {
    "colab": {
     "base_uri": "https://localhost:8080/"
    },
    "id": "fwiU9zWCIUh_",
    "outputId": "71c8500f-3503-46c8-9928-1582d03335a8"
   },
   "outputs": [
    {
     "name": "stdout",
     "output_type": "stream",
     "text": [
      "number train-samples: 11214\n",
      "sum of sample vector: 0.9999997615814209\n",
      "length of sample vector: 0.13754890859127045\n"
     ]
    }
   ],
   "source": [
    "# using DocSet to use easier the modul DataSet from torch\n",
    "from src.train_etm import DocSet, TrainETM\n",
    "from src.etm import ETM\n",
    "import torch\n",
    "\n",
    "vocab_size = len(list(word2id.keys()))\n",
    "tr_set = DocSet(\"train\", vocab_size, train_set, normalize_data=True)\n",
    "print(f'number train-samples: {len(tr_set)}')\n",
    "print(f'sum of sample vector: {sum(tr_set.__getitem__(0))}')\n",
    "print(f'length of sample vector: {torch.norm(tr_set.__getitem__(0))}')"
   ]
  },
  {
   "cell_type": "markdown",
   "metadata": {
    "id": "U4Z-7za3VYOv"
   },
   "source": [
    "**Trainingsparametern vorbereiten**\n",
    "\n",
    "\n"
   ]
  },
  {
   "cell_type": "code",
   "execution_count": null,
   "metadata": {
    "colab": {
     "base_uri": "https://localhost:8080/"
    },
    "id": "oPKPTWbZVWuT",
    "outputId": "f76829c8-92c9-4d57-cb83-3cbffc3325ff"
   },
   "outputs": [
    {
     "name": "stdout",
     "output_type": "stream",
     "text": [
      "15\n",
      "adam\n"
     ]
    }
   ],
   "source": [
    "class TrainArguments:\n",
    "      def __init__(self, epochs, batch_size, log_interval):\n",
    "          self.epochs = epochs\n",
    "          self.batch_size = batch_size\n",
    "          self.log_interval = log_interval\n",
    "\n",
    "class OptimizerArguments:\n",
    "      def __init__(self, optimizer_name, lr, wdecay):\n",
    "            self.optimizer = optimizer_name\n",
    "            self.lr = lr\n",
    "            self.wdecay = wdecay\n",
    "            \n",
    "train_args = TrainArguments(epochs=15, batch_size=1000, log_interval=None)\n",
    "optimizer_args = OptimizerArguments(optimizer_name=\"adam\", lr=0.002, wdecay=0.0000012)\n",
    "print(train_args.epochs)\n",
    "print(optimizer_args.optimizer)\n",
    "\n",
    "from src.embedding import read_prefitted_embedding\n",
    "embedding_data = read_prefitted_embedding(vocab, save_path)\n",
    "num_topics = 10\n",
    "t_hidden_size = 800\n",
    "rho_size = len(embedding_data[0])\n",
    "emb_size = len(embedding_data[0])\n",
    "theta_act = \"tanh\""
   ]
  },
  {
   "cell_type": "markdown",
   "metadata": {
    "id": "WjO6yHpgVljt"
   },
   "source": [
    "# **ETM mit Cross-Entropy**"
   ]
  },
  {
   "cell_type": "markdown",
   "metadata": {
    "id": "NWO3C7-17v5V"
   },
   "source": [
    "1.   ETM-initialisieren\n",
    "2.   Trainieren das ETM-Modell mit den Training-Settings-Parameters\n"
   ]
  },
  {
   "cell_type": "code",
   "execution_count": null,
   "metadata": {
    "colab": {
     "base_uri": "https://localhost:8080/",
     "height": 1000
    },
    "id": "EJEofBfR7tz1",
    "outputId": "7835767d-d838-43b8-9760-548298307325"
   },
   "outputs": [
    {
     "name": "stdout",
     "output_type": "stream",
     "text": [
      "ETM(\n",
      "  (t_drop): Dropout(p=0.5, inplace=False)\n",
      "  (theta_act): Tanh()\n",
      "  (topic_embeddings_alphas): Linear(in_features=300, out_features=10, bias=False)\n",
      "  (q_theta): Sequential(\n",
      "    (0): Linear(in_features=54318, out_features=800, bias=True)\n",
      "    (1): Tanh()\n",
      "    (2): Linear(in_features=800, out_features=800, bias=True)\n",
      "    (3): Tanh()\n",
      "  )\n",
      "  (mu_q_theta): Linear(in_features=800, out_features=10, bias=True)\n",
      "  (logsigma_q_theta): Linear(in_features=800, out_features=10, bias=True)\n",
      ")\n",
      "number of batches: 11\n",
      "Epoch: 1/15  -  Loss: 10.72708 \t Rec: 10.72513 \t KL: 0.00195\n",
      "Epoch: 2/15  -  Loss: 10.44718 \t Rec: 10.44676 \t KL: 0.00042\n",
      "Epoch: 3/15  -  Loss: 10.18702 \t Rec: 10.18685 \t KL: 0.00017\n",
      "Epoch: 4/15  -  Loss: 9.9598 \t Rec: 9.95972 \t KL: 8e-05\n",
      "Epoch: 5/15  -  Loss: 9.77907 \t Rec: 9.77901 \t KL: 6e-05\n",
      "Epoch: 6/15  -  Loss: 9.65167 \t Rec: 9.65161 \t KL: 6e-05\n",
      "Epoch: 7/15  -  Loss: 9.56495 \t Rec: 9.56487 \t KL: 8e-05\n",
      "Epoch: 8/15  -  Loss: 9.50813 \t Rec: 9.50802 \t KL: 0.00011\n",
      "Epoch: 9/15  -  Loss: 9.46959 \t Rec: 9.46946 \t KL: 0.00013\n",
      "Epoch: 10/15  -  Loss: 9.44084 \t Rec: 9.44067 \t KL: 0.00016\n",
      "Epoch: 11/15  -  Loss: 9.41953 \t Rec: 9.41933 \t KL: 0.0002\n",
      "Epoch: 12/15  -  Loss: 9.39984 \t Rec: 9.39958 \t KL: 0.00026\n",
      "Epoch: 13/15  -  Loss: 9.38624 \t Rec: 9.38589 \t KL: 0.00035\n",
      "Epoch: 14/15  -  Loss: 9.37334 \t Rec: 9.37292 \t KL: 0.00043\n",
      "Epoch: 15/15  -  Loss: 9.36177 \t Rec: 9.36121 \t KL: 0.00056\n",
      "Checkpoint saved at checkpoints/etm_epoch_15.pth.tar\n"
     ]
    },
    {
     "data": {
      "image/png": "[encoded data removed]",
      "text/plain": [
       "<Figure size 432x288 with 1 Axes>"
      ]
     },
     "metadata": {
      "needs_background": "light"
     },
     "output_type": "display_data"
    },
    {
     "data": {
      "image/png": "[encoded data removed]",
      "text/plain": [
       "<Figure size 432x288 with 1 Axes>"
      ]
     },
     "metadata": {
      "needs_background": "light"
     },
     "output_type": "display_data"
    },
    {
     "name": "stdout",
     "output_type": "stream",
     "text": [
      "tensor([7.9386e-06, 5.2673e-06, 5.7079e-06,  ..., 4.9426e-06, 1.1406e-05,\n",
      "        4.2779e-06])\n",
      "tensor(1.0000)\n",
      "[('nntp', 0.007223199121654034), ('dos', 0.006843178067356348), ('host', 0.006113479379564524), ('scsi', 0.005894554313272238), ('university', 0.005832545924931765), ('ca', 0.004551990423351526), ('cs', 0.004477725364267826), ('ohio', 0.00418694457039237), ('posting', 0.0037894295528531075), ('windows', 0.0027121505700051785)]\n",
      "[('article', 0.04823463410139084), ('host', 0.016014305874705315), ('writes', 0.014189830049872398), ('nntp', 0.011824486777186394), ('posting', 0.00761809479445219), ('uiuc', 0.006171330809593201), ('cs', 0.005630800500512123), ('ca', 0.005167701747268438), ('distribution', 0.00493382615968585), ('university', 0.004790171515196562)]\n",
      "[('dos', 0.007377992384135723), ('scsi', 0.006915598642081022), ('nntp', 0.005138261243700981), ('host', 0.004282885231077671), ('cs', 0.0038199431728571653), ('university', 0.003450477961450815), ('ohio', 0.0033447023015469313), ('ca', 0.0030923206359148026), ('nasa', 0.00280760764144361), ('windows', 0.0026952093467116356)]\n",
      "[('host', 0.012922915630042553), ('nntp', 0.01098430436104536), ('writes', 0.008512279950082302), ('posting', 0.006339779123663902), ('article', 0.006211372558027506), ('university', 0.005904569290578365), ('scsi', 0.005902778822928667), ('cs', 0.00582362012937665), ('ca', 0.004758424591273069), ('uiuc', 0.0044083320535719395)]\n",
      "[('dos', 0.0076865400187671185), ('scsi', 0.006293405778706074), ('nntp', 0.006055863108485937), ('host', 0.005865489598363638), ('ca', 0.004658737685531378), ('cs', 0.004374323878437281), ('windows', 0.00341018196195364), ('posting', 0.0033469321206212044), ('ohio', 0.003269653068855405), ('university', 0.0029723860789090395)]\n",
      "[('host', 0.01282480824738741), ('nntp', 0.011687337420880795), ('university', 0.009766551665961742), ('posting', 0.007098280359059572), ('scsi', 0.005918342620134354), ('cs', 0.005837179254740477), ('ca', 0.005448425188660622), ('article', 0.005348623264580965), ('dos', 0.004957574885338545), ('uiuc', 0.004317013546824455)]\n",
      "[('dos', 0.007108322810381651), ('scsi', 0.006520031485706568), ('nntp', 0.003632053267210722), ('cs', 0.003244400955736637), ('windows', 0.0030451116617769003), ('host', 0.002959113335236907), ('people', 0.0028766917530447245), ('nasa', 0.0028519148472696543), ('disk', 0.0027924042660743), ('god', 0.0024371501058340073)]\n",
      "[('host', 0.010929022915661335), ('nntp', 0.009840451180934906), ('writes', 0.009693868458271027), ('university', 0.008312467485666275), ('article', 0.0071215322241187096), ('ca', 0.006327818147838116), ('cs', 0.005789472721517086), ('scsi', 0.005254811141639948), ('dos', 0.0052183447405695915), ('posting', 0.0045359497889876366)]\n",
      "[('dos', 0.006727300118654966), ('scsi', 0.006479102186858654), ('nntp', 0.005488908849656582), ('host', 0.005415862891823053), ('university', 0.004367958754301071), ('ca', 0.0036440815310925245), ('cs', 0.0034546477254480124), ('ohio', 0.003085894975811243), ('windows', 0.0030807682778686285), ('posting', 0.002863547531887889)]\n",
      "[('dos', 0.007663925644010305), ('scsi', 0.00676420982927084), ('nntp', 0.0063211084343492985), ('ca', 0.005522688385099173), ('host', 0.005313265603035688), ('cs', 0.004544813651591539), ('windows', 0.003380413865670562), ('ohio', 0.0031227539293468), ('university', 0.003059447044506669), ('posting', 0.0028145501855760813)]\n",
      "tensor([7.9386e-06, 5.2673e-06, 5.7079e-06,  ..., 4.9426e-06, 1.1406e-05,\n",
      "        4.2779e-06])\n",
      "tensor(1.0000)\n",
      "['nntp', 'dos', 'host', 'scsi', 'university', 'ca', 'cs', 'ohio', 'posting', 'windows']\n",
      "['article', 'host', 'writes', 'nntp', 'posting', 'uiuc', 'cs', 'ca', 'distribution', 'university']\n",
      "['dos', 'scsi', 'nntp', 'host', 'cs', 'university', 'ohio', 'ca', 'nasa', 'windows']\n",
      "['host', 'nntp', 'writes', 'posting', 'article', 'university', 'scsi', 'cs', 'ca', 'uiuc']\n",
      "['dos', 'scsi', 'nntp', 'host', 'ca', 'cs', 'windows', 'posting', 'ohio', 'university']\n",
      "['host', 'nntp', 'university', 'posting', 'scsi', 'cs', 'ca', 'article', 'dos', 'uiuc']\n",
      "['dos', 'scsi', 'nntp', 'cs', 'windows', 'host', 'people', 'nasa', 'disk', 'god']\n",
      "['host', 'nntp', 'writes', 'university', 'article', 'ca', 'cs', 'scsi', 'dos', 'posting']\n",
      "['dos', 'scsi', 'nntp', 'host', 'university', 'ca', 'cs', 'ohio', 'windows', 'posting']\n",
      "['dos', 'scsi', 'nntp', 'ca', 'host', 'cs', 'windows', 'ohio', 'university', 'posting']\n",
      "D:  11214\n",
      "k: 0/10\n",
      "k: 1/10\n",
      "k: 2/10\n",
      "k: 3/10\n",
      "k: 4/10\n",
      "k: 5/10\n",
      "k: 6/10\n",
      "k: 7/10\n",
      "k: 8/10\n",
      "k: 9/10\n",
      "counter:  45\n",
      "num topics:  10\n",
      "Topic coherence is: 0.08501214567441881\n"
     ]
    }
   ],
   "source": [
    "#--------------------------training----------------------------------------------------\n",
    "#del etm_model\n",
    "# define the ETM-model with setting-parameters\n",
    "etm_model = ETM(\n",
    "      num_topics, \n",
    "      vocab_size, \n",
    "      t_hidden_size, rho_size, emb_size, theta_act, \n",
    "      embedding_data, \n",
    "      enc_drop=0.5)\n",
    "\n",
    "print(etm_model)\n",
    "\n",
    "loss_name = \"cross-entropy\"\n",
    "\n",
    "train_class = TrainETM().train(\n",
    "    etm_model,\n",
    "    loss_name,\n",
    "    vocab_size, \n",
    "    train_args, optimizer_args, train_set,\n",
    "    normalize_data = True,\n",
    "    figures_path = figures_path)\n",
    "    #num_topics, t_hidden_size, rho_size, emb_size, theta_act,  embedding_data, 0.5)\n",
    "\n",
    "#-------------------show topics\n",
    "topics = etm_model.show_topics(id2word, 10)\n",
    "for tp in topics:\n",
    "  print(tp)\n",
    "\n",
    "topics = etm_model.show_topics(id2word, 10)\n",
    "topics = [[e[0] for e in tp] for tp in topics] #get only top words\n",
    "for tp in topics:\n",
    "  print(tp)\n",
    "get_topic_coherence(list(train_set['tokens']), topics, word2id)\n",
    "\n",
    "del etm_model\n",
    "del train_class "
   ]
  },
  {
   "cell_type": "markdown",
   "metadata": {
    "id": "Bs7Ojga7938H"
   },
   "source": [
    "**ACHTUNG: 2-RUN mit den gleichen Parametern zum Testen der Ausgaben**\n",
    "\n",
    "\n",
    "1.   tanh als aktivierte Funktion\n",
    "2.   learn rate und weight decay gleich wie im Paper\n",
    "\n"
   ]
  },
  {
   "cell_type": "code",
   "execution_count": null,
   "metadata": {
    "colab": {
     "base_uri": "https://localhost:8080/",
     "height": 1000
    },
    "id": "SlWlCZLRm-ft",
    "outputId": "4b8a0cb6-505d-4d70-a496-a910721f65e6"
   },
   "outputs": [
    {
     "name": "stdout",
     "output_type": "stream",
     "text": [
      "ETM(\n",
      "  (t_drop): Dropout(p=0.5, inplace=False)\n",
      "  (theta_act): Tanh()\n",
      "  (topic_embeddings_alphas): Linear(in_features=300, out_features=10, bias=False)\n",
      "  (q_theta): Sequential(\n",
      "    (0): Linear(in_features=54318, out_features=800, bias=True)\n",
      "    (1): Tanh()\n",
      "    (2): Linear(in_features=800, out_features=800, bias=True)\n",
      "    (3): Tanh()\n",
      "  )\n",
      "  (mu_q_theta): Linear(in_features=800, out_features=10, bias=True)\n",
      "  (logsigma_q_theta): Linear(in_features=800, out_features=10, bias=True)\n",
      ")\n",
      "number of batches: 11\n",
      "Epoch: 1/15  -  Loss: 10.72652 \t Rec: 10.72478 \t KL: 0.00175\n",
      "Epoch: 2/15  -  Loss: 10.43805 \t Rec: 10.43772 \t KL: 0.00033\n",
      "Epoch: 3/15  -  Loss: 10.17044 \t Rec: 10.17029 \t KL: 0.00015\n",
      "Epoch: 4/15  -  Loss: 9.93934 \t Rec: 9.93926 \t KL: 8e-05\n",
      "Epoch: 5/15  -  Loss: 9.76021 \t Rec: 9.76014 \t KL: 6e-05\n",
      "Epoch: 6/15  -  Loss: 9.64246 \t Rec: 9.64239 \t KL: 7e-05\n",
      "Epoch: 7/15  -  Loss: 9.56677 \t Rec: 9.56668 \t KL: 9e-05\n",
      "Epoch: 8/15  -  Loss: 9.51275 \t Rec: 9.51264 \t KL: 0.00011\n",
      "Epoch: 9/15  -  Loss: 9.475 \t Rec: 9.47488 \t KL: 0.00012\n",
      "Epoch: 10/15  -  Loss: 9.44619 \t Rec: 9.44604 \t KL: 0.00015\n",
      "Epoch: 11/15  -  Loss: 9.42449 \t Rec: 9.4243 \t KL: 0.00019\n",
      "Epoch: 12/15  -  Loss: 9.40671 \t Rec: 9.40648 \t KL: 0.00023\n",
      "Epoch: 13/15  -  Loss: 9.3907 \t Rec: 9.39042 \t KL: 0.00028\n",
      "Epoch: 14/15  -  Loss: 9.37849 \t Rec: 9.37813 \t KL: 0.00036\n",
      "Epoch: 15/15  -  Loss: 9.36806 \t Rec: 9.36763 \t KL: 0.00043\n",
      "Checkpoint saved at checkpoints/etm_epoch_15.pth.tar\n"
     ]
    },
    {
     "data": {
      "image/png": "[encoded data removed]",
      "text/plain": [
       "<Figure size 432x288 with 1 Axes>"
      ]
     },
     "metadata": {
      "needs_background": "light"
     },
     "output_type": "display_data"
    },
    {
     "data": {
      "image/png": "[encoded data removed]",
      "text/plain": [
       "<Figure size 432x288 with 1 Axes>"
      ]
     },
     "metadata": {
      "needs_background": "light"
     },
     "output_type": "display_data"
    },
    {
     "name": "stdout",
     "output_type": "stream",
     "text": [
      "tensor([1.7698e-05, 5.6199e-06, 7.8378e-06,  ..., 7.6409e-06, 3.8307e-06,\n",
      "        6.3544e-06])\n",
      "tensor(1.0000)\n",
      "[('nntp', 0.010554145090281963), ('host', 0.009665240533649921), ('university', 0.008242351934313774), ('dos', 0.0065311468206346035), ('posting', 0.006367343477904797), ('scsi', 0.0051118661649525166), ('ca', 0.003947131335735321), ('cc', 0.003015408758074045), ('cleveland', 0.0026594498194754124), ('cs', 0.0026275115087628365)]\n",
      "[('dos', 0.008425111882388592), ('scsi', 0.006047905422747135), ('nntp', 0.005436430685222149), ('host', 0.004735258407890797), ('disk', 0.0034579725470393896), ('posting', 0.0030476711690425873), ('god', 0.0027458288241177797), ('hockey', 0.0024661854840815067), ('encryption', 0.0023582244757562876), ('chip', 0.0023544549476355314)]\n",
      "[('dos', 0.008580686524510384), ('nntp', 0.007073138374835253), ('scsi', 0.0059983935207128525), ('host', 0.005640181712806225), ('posting', 0.00393117219209671), ('disk', 0.0033600127790123224), ('windows', 0.0024498614948242903), ('hockey', 0.0023266237694770098), ('encryption', 0.002250474877655506), ('card', 0.0020289109088480473)]\n",
      "[('writes', 0.03343348577618599), ('article', 0.0229212436825037), ('university', 0.015903238207101822), ('nntp', 0.012209353037178516), ('host', 0.012163075618445873), ('cs', 0.007828724570572376), ('distribution', 0.007669491693377495), ('posting', 0.00758775882422924), ('netcom', 0.005914945621043444), ('cc', 0.00535773066803813)]\n",
      "[('nntp', 0.009490174241364002), ('host', 0.007621872704476118), ('scsi', 0.005661469884216785), ('dos', 0.0054791090078651905), ('university', 0.005099219735711813), ('posting', 0.004978614393621683), ('cs', 0.004435114562511444), ('ca', 0.0041422294452786446), ('cc', 0.002718759933486581), ('distribution', 0.0025211521424353123)]\n",
      "[('host', 0.01157345063984394), ('writes', 0.011543688364326954), ('nntp', 0.011489727534353733), ('article', 0.00860662292689085), ('posting', 0.00740072363987565), ('cs', 0.006927391979843378), ('scsi', 0.00527361361309886), ('university', 0.00508294440805912), ('cc', 0.004284903407096863), ('dos', 0.004128750413656235)]\n",
      "[('nntp', 0.009660795331001282), ('host', 0.009549801237881184), ('cs', 0.007160028908401728), ('writes', 0.0057629067450761795), ('posting', 0.00572690274566412), ('ca', 0.005604537669569254), ('scsi', 0.005419023800641298), ('university', 0.005351058207452297), ('article', 0.005278127733618021), ('dos', 0.004908971954137087)]\n",
      "[('dos', 0.00672563910484314), ('nntp', 0.00621873140335083), ('scsi', 0.0060548363253474236), ('host', 0.004961420316249132), ('ca', 0.0036812203470617533), ('disk', 0.003289201995357871), ('posting', 0.003226392436772585), ('god', 0.003124379785731435), ('hockey', 0.0022215330973267555), ('nasa', 0.00197573471814394)]\n",
      "[('nntp', 0.010985318571329117), ('university', 0.01033840887248516), ('host', 0.010107860900461674), ('posting', 0.006429474335163832), ('scsi', 0.00586421974003315), ('dos', 0.005230648908764124), ('ohio', 0.003746570320799947), ('cc', 0.003457679646089673), ('cs', 0.0032385820522904396), ('cleveland', 0.0030373104382306337)]\n",
      "[('dos', 0.0072559514082968235), ('scsi', 0.006844221148639917), ('nntp', 0.005429089535027742), ('host', 0.004542206879705191), ('god', 0.003585631726309657), ('disk', 0.003566868370398879), ('posting', 0.0031369454227387905), ('ca', 0.002917002886533737), ('encryption', 0.002333365147933364), ('chip', 0.002270059660077095)]\n"
     ]
    }
   ],
   "source": [
    "del train_args\n",
    "del optimizer_args\n",
    "\n",
    "train_args = TrainArguments(epochs=15, batch_size=1000, log_interval=None)\n",
    "optimizer_args = OptimizerArguments(optimizer_name=\"adam\", lr=0.002, wdecay=0.0000012)\n",
    "\n",
    "etm_model = ETM(\n",
    "      num_topics, \n",
    "      vocab_size, \n",
    "      t_hidden_size, rho_size, emb_size, theta_act, \n",
    "      embedding_data, \n",
    "      enc_drop=0.5)\n",
    "\n",
    "print(etm_model)\n",
    "\n",
    "loss_name = \"cross-entropy\"\n",
    "\n",
    "train_class = TrainETM().train(\n",
    "    etm_model,\n",
    "    loss_name,\n",
    "    vocab_size, \n",
    "    train_args, optimizer_args, train_set,\n",
    "    normalize_data = True,\n",
    "    figures_path = figures_path)\n",
    "    #num_topics, t_hidden_size, rho_size, emb_size, theta_act,  embedding_data, 0.5)\n",
    "\n",
    "#-------------------show topics\n",
    "topics = etm_model.show_topics(id2word, 10)\n",
    "for tp in topics:\n",
    "  print(tp)"
   ]
  },
  {
   "cell_type": "code",
   "execution_count": null,
   "metadata": {
    "colab": {
     "base_uri": "https://localhost:8080/"
    },
    "id": "mimu5VtUycqy",
    "outputId": "dc904576-2d17-4705-a51a-784ee182d96a"
   },
   "outputs": [
    {
     "name": "stdout",
     "output_type": "stream",
     "text": [
      "tensor([1.7698e-05, 5.6199e-06, 7.8378e-06,  ..., 7.6409e-06, 3.8307e-06,\n",
      "        6.3544e-06])\n",
      "tensor(1.0000)\n",
      "['nntp', 'host', 'university', 'dos', 'posting', 'scsi', 'ca', 'cc', 'cleveland', 'cs']\n",
      "['dos', 'scsi', 'nntp', 'host', 'disk', 'posting', 'god', 'hockey', 'encryption', 'chip']\n",
      "['dos', 'nntp', 'scsi', 'host', 'posting', 'disk', 'windows', 'hockey', 'encryption', 'card']\n",
      "['writes', 'article', 'university', 'nntp', 'host', 'cs', 'distribution', 'posting', 'netcom', 'cc']\n",
      "['nntp', 'host', 'scsi', 'dos', 'university', 'posting', 'cs', 'ca', 'cc', 'distribution']\n",
      "['host', 'writes', 'nntp', 'article', 'posting', 'cs', 'scsi', 'university', 'cc', 'dos']\n",
      "['nntp', 'host', 'cs', 'writes', 'posting', 'ca', 'scsi', 'university', 'article', 'dos']\n",
      "['dos', 'nntp', 'scsi', 'host', 'ca', 'disk', 'posting', 'god', 'hockey', 'nasa']\n",
      "['nntp', 'university', 'host', 'posting', 'scsi', 'dos', 'ohio', 'cc', 'cs', 'cleveland']\n",
      "['dos', 'scsi', 'nntp', 'host', 'god', 'disk', 'posting', 'ca', 'encryption', 'chip']\n",
      "D:  11214\n",
      "k: 0/10\n",
      "k: 1/10\n",
      "k: 2/10\n",
      "k: 3/10\n",
      "k: 4/10\n",
      "k: 5/10\n",
      "k: 6/10\n",
      "k: 7/10\n",
      "k: 8/10\n",
      "k: 9/10\n",
      "counter:  45\n",
      "num topics:  10\n",
      "Topic coherence is: 0.061350516765890616\n"
     ]
    },
    {
     "data": {
      "text/plain": [
       "0.061350516765890616"
      ]
     },
     "execution_count": 24,
     "metadata": {},
     "output_type": "execute_result"
    }
   ],
   "source": [
    "#-------------------show topics\n",
    "topics = etm_model.show_topics(id2word, 10)\n",
    "topics = [[e[0] for e in tp] for tp in topics] #get only top words\n",
    "for tp in topics:\n",
    "  print(tp)\n",
    "get_topic_coherence(list(train_set['tokens']), topics, word2id)\n"
   ]
  },
  {
   "cell_type": "markdown",
   "metadata": {
    "id": "5eD0jGqnTO0F"
   },
   "source": [
    "**Entropy-Loss mit anderen activation function ReLU**"
   ]
  },
  {
   "cell_type": "code",
   "execution_count": null,
   "metadata": {
    "colab": {
     "base_uri": "https://localhost:8080/",
     "height": 1000
    },
    "id": "6ZbcBfC9TUa3",
    "outputId": "995b9edb-64cd-47f8-9e69-74d57e33e346"
   },
   "outputs": [
    {
     "name": "stdout",
     "output_type": "stream",
     "text": [
      "ETM(\n",
      "  (t_drop): Dropout(p=0.5, inplace=False)\n",
      "  (theta_act): ReLU()\n",
      "  (topic_embeddings_alphas): Linear(in_features=300, out_features=10, bias=False)\n",
      "  (q_theta): Sequential(\n",
      "    (0): Linear(in_features=54318, out_features=800, bias=True)\n",
      "    (1): ReLU()\n",
      "    (2): Linear(in_features=800, out_features=800, bias=True)\n",
      "    (3): ReLU()\n",
      "  )\n",
      "  (mu_q_theta): Linear(in_features=800, out_features=10, bias=True)\n",
      "  (logsigma_q_theta): Linear(in_features=800, out_features=10, bias=True)\n",
      ")\n",
      "number of batches: 11\n",
      "Epoch: 1/15  -  Loss: 10.69664 \t Rec: 10.69597 \t KL: 0.00067\n",
      "Epoch: 2/15  -  Loss: 10.40817 \t Rec: 10.40814 \t KL: 4e-05\n",
      "Epoch: 3/15  -  Loss: 10.1426 \t Rec: 10.14258 \t KL: 2e-05\n",
      "Epoch: 4/15  -  Loss: 9.91718 \t Rec: 9.91716 \t KL: 2e-05\n",
      "Epoch: 5/15  -  Loss: 9.74693 \t Rec: 9.7469 \t KL: 3e-05\n",
      "Epoch: 6/15  -  Loss: 9.63468 \t Rec: 9.63463 \t KL: 5e-05\n",
      "Epoch: 7/15  -  Loss: 9.56079 \t Rec: 9.56073 \t KL: 6e-05\n",
      "Epoch: 8/15  -  Loss: 9.51101 \t Rec: 9.51092 \t KL: 8e-05\n",
      "Epoch: 9/15  -  Loss: 9.47192 \t Rec: 9.47182 \t KL: 0.0001\n",
      "Epoch: 10/15  -  Loss: 9.44397 \t Rec: 9.44386 \t KL: 0.00011\n",
      "Epoch: 11/15  -  Loss: 9.42168 \t Rec: 9.42155 \t KL: 0.00013\n",
      "Epoch: 12/15  -  Loss: 9.4041 \t Rec: 9.40394 \t KL: 0.00017\n",
      "Epoch: 13/15  -  Loss: 9.38937 \t Rec: 9.38918 \t KL: 0.00019\n",
      "Epoch: 14/15  -  Loss: 9.37747 \t Rec: 9.37723 \t KL: 0.00024\n",
      "Epoch: 15/15  -  Loss: 9.36586 \t Rec: 9.36556 \t KL: 0.0003\n",
      "Checkpoint saved at checkpoints/etm_epoch_15.pth.tar\n"
     ]
    },
    {
     "data": {
      "image/png": "[encoded data removed]",
      "text/plain": [
       "<Figure size 432x288 with 1 Axes>"
      ]
     },
     "metadata": {
      "needs_background": "light"
     },
     "output_type": "display_data"
    },
    {
     "data": {
      "image/png": "[encoded data removed]",
      "text/plain": [
       "<Figure size 432x288 with 1 Axes>"
      ]
     },
     "metadata": {
      "needs_background": "light"
     },
     "output_type": "display_data"
    },
    {
     "name": "stdout",
     "output_type": "stream",
     "text": [
      "tensor([6.6059e-06, 6.8112e-06, 5.8702e-06,  ..., 5.8733e-06, 5.1189e-06,\n",
      "        1.3183e-03])\n",
      "tensor(1.0000)\n",
      "[('host', 0.008175169117748737), ('nntp', 0.007725934963673353), ('university', 0.007054362446069717), ('ca', 0.0058625563979148865), ('cs', 0.005749586503952742), ('scsi', 0.004834688268601894), ('dos', 0.0047651175409555435), ('posting', 0.004523307550698519), ('computer', 0.0034447070211172104), ('ohio', 0.0034041935577988625)]\n",
      "[('article', 0.008790328167378902), ('host', 0.00869267899543047), ('nntp', 0.007871138863265514), ('university', 0.006504601798951626), ('writes', 0.006415793672204018), ('cs', 0.006300373934209347), ('scsi', 0.0052500441670417786), ('ca', 0.00517835421487689), ('distribution', 0.00507949385792017), ('posting', 0.004544868599623442)]\n",
      "[('host', 0.006751211825758219), ('ca', 0.006004110909998417), ('nntp', 0.005809611175209284), ('scsi', 0.00426038121804595), ('posting', 0.004130843095481396), ('dos', 0.0039223479107022285), ('cs', 0.0033144415356218815), ('computer', 0.0030190853867679834), ('ohio', 0.0026624626480042934), ('university', 0.0025382800959050655)]\n",
      "[('university', 0.013317631557583809), ('host', 0.010875413194298744), ('nntp', 0.00941572804003954), ('posting', 0.006456759292632341), ('cs', 0.0057733855210244656), ('dos', 0.004977496340870857), ('distribution', 0.0047178310342133045), ('scsi', 0.004612519405782223), ('article', 0.004609129391610622), ('ohio', 0.003141682827845216)]\n",
      "[('host', 0.00793157797306776), ('nntp', 0.007431487552821636), ('dos', 0.005342724267393351), ('posting', 0.0046753729693591595), ('computer', 0.004483988042920828), ('scsi', 0.004412893671542406), ('distribution', 0.004197817761451006), ('university', 0.004118533339351416), ('cs', 0.003315288806334138), ('ca', 0.003167541464790702)]\n",
      "[('dos', 0.0062564220279455185), ('nntp', 0.004589664284139872), ('host', 0.004445310216397047), ('ca', 0.003934388980269432), ('scsi', 0.0036308825947344303), ('computer', 0.0029110745526850224), ('nasa', 0.00288109271787107), ('posting', 0.0027052988298237324), ('disk', 0.002544522751122713), ('god', 0.002415737137198448)]\n",
      "[('host', 0.00872834399342537), ('nntp', 0.007675172761082649), ('dos', 0.006222958210855722), ('scsi', 0.004666617605835199), ('posting', 0.004622208420187235), ('computer', 0.003699004650115967), ('university', 0.003208174603059888), ('ca', 0.00320428516715765), ('distribution', 0.002968000480905175), ('ohio', 0.0026846735272556543)]\n",
      "[('host', 0.009176058694720268), ('nntp', 0.009169012308120728), ('dos', 0.005344574339687824), ('posting', 0.005218101665377617), ('scsi', 0.005056395661085844), ('university', 0.004359858110547066), ('distribution', 0.0032418135087937117), ('ca', 0.003196470206603408), ('computer', 0.003177110804244876), ('cs', 0.002528785029426217)]\n",
      "[('article', 0.014514419250190258), ('host', 0.01176146324723959), ('nntp', 0.009406791999936104), ('cs', 0.008513801731169224), ('writes', 0.007996570318937302), ('university', 0.007776176556944847), ('posting', 0.006524005904793739), ('distribution', 0.006350478157401085), ('ca', 0.005641941446810961), ('scsi', 0.0053070830181241035)]\n",
      "[('host', 0.009818699210882187), ('nntp', 0.00840304046869278), ('dos', 0.005477775353938341), ('posting', 0.005018639378249645), ('scsi', 0.00432101683691144), ('ca', 0.0033412734046578407), ('computer', 0.0031817362178117037), ('distribution', 0.002669957699254155), ('god', 0.0026544425636529922), ('cs', 0.0025384945329278708)]\n",
      "tensor([6.6059e-06, 6.8112e-06, 5.8702e-06,  ..., 5.8733e-06, 5.1189e-06,\n",
      "        1.3183e-03])\n",
      "tensor(1.0000)\n",
      "['host', 'nntp', 'university', 'ca', 'cs', 'scsi', 'dos', 'posting', 'computer', 'ohio']\n",
      "['article', 'host', 'nntp', 'university', 'writes', 'cs', 'scsi', 'ca', 'distribution', 'posting']\n",
      "['host', 'ca', 'nntp', 'scsi', 'posting', 'dos', 'cs', 'computer', 'ohio', 'university']\n",
      "['university', 'host', 'nntp', 'posting', 'cs', 'dos', 'distribution', 'scsi', 'article', 'ohio']\n",
      "['host', 'nntp', 'dos', 'posting', 'computer', 'scsi', 'distribution', 'university', 'cs', 'ca']\n",
      "['dos', 'nntp', 'host', 'ca', 'scsi', 'computer', 'nasa', 'posting', 'disk', 'god']\n",
      "['host', 'nntp', 'dos', 'scsi', 'posting', 'computer', 'university', 'ca', 'distribution', 'ohio']\n",
      "['host', 'nntp', 'dos', 'posting', 'scsi', 'university', 'distribution', 'ca', 'computer', 'cs']\n",
      "['article', 'host', 'nntp', 'cs', 'writes', 'university', 'posting', 'distribution', 'ca', 'scsi']\n",
      "['host', 'nntp', 'dos', 'posting', 'scsi', 'ca', 'computer', 'distribution', 'god', 'cs']\n",
      "D:  11214\n",
      "k: 0/10\n",
      "k: 1/10\n",
      "k: 2/10\n",
      "k: 3/10\n",
      "k: 4/10\n",
      "k: 5/10\n",
      "k: 6/10\n",
      "k: 7/10\n",
      "k: 8/10\n",
      "k: 9/10\n",
      "counter:  45\n",
      "num topics:  10\n",
      "Topic coherence is: 0.09289406364531584\n"
     ]
    }
   ],
   "source": [
    "del train_args\n",
    "del optimizer_args\n",
    "\n",
    "train_args = TrainArguments(epochs=15, batch_size=1000, log_interval=None)\n",
    "optimizer_args = OptimizerArguments(optimizer_name=\"adam\", lr=0.002, wdecay=0.0000012)\n",
    "\n",
    "from src.embedding import read_prefitted_embedding\n",
    "embedding_data = read_prefitted_embedding(vocab, save_path)\n",
    "num_topics = 10\n",
    "t_hidden_size = 800\n",
    "rho_size = len(embedding_data[0])\n",
    "emb_size = len(embedding_data[0])\n",
    "theta_act = \"ReLU\"\n",
    "\n",
    "del etm_model\n",
    "del train_class\n",
    "\n",
    "etm_model = ETM(\n",
    "      num_topics, \n",
    "      vocab_size, \n",
    "      t_hidden_size, rho_size, emb_size, theta_act, \n",
    "      embedding_data, \n",
    "      enc_drop=0.5)\n",
    "\n",
    "print(etm_model)\n",
    "\n",
    "#--------------------------training----------------------------------------------------\n",
    "loss_name = \"cross-entropy\"\n",
    "\n",
    "train_class = TrainETM().train(\n",
    "    etm_model,\n",
    "    loss_name,\n",
    "    vocab_size, \n",
    "    train_args, optimizer_args, train_set,\n",
    "    normalize_data = True,\n",
    "    figures_path = figures_path)\n",
    "    #num_topics, t_hidden_size, rho_size, emb_size, theta_act,  embedding_data, 0.5)\n",
    "\n",
    "#-------------------show topics\n",
    "topics = etm_model.show_topics(id2word, 10)\n",
    "for tp in topics:\n",
    "  print(tp)\n",
    "\n",
    "#-------------------show topics\n",
    "topics = etm_model.show_topics(id2word, 10)\n",
    "topics = [[e[0] for e in tp] for tp in topics] #get only top words\n",
    "for tp in topics:\n",
    "  print(tp)\n",
    "get_topic_coherence(list(train_set['tokens']), topics, word2id)\n",
    "del etm_model\n",
    "del train_class"
   ]
  },
  {
   "cell_type": "markdown",
   "metadata": {
    "id": "-8T9A4UpyC4g"
   },
   "source": [
    "# **ETM-other-loss wie im Paper**"
   ]
  },
  {
   "cell_type": "code",
   "execution_count": null,
   "metadata": {
    "id": "RlDUF9ZmHi-L"
   },
   "outputs": [],
   "source": [
    "# define the ETM-model with setting-parameters\n",
    "del etm_model\n",
    "del train_class"
   ]
  },
  {
   "cell_type": "code",
   "execution_count": null,
   "metadata": {
    "colab": {
     "base_uri": "https://localhost:8080/"
    },
    "id": "IJ70hPX3VlOF",
    "outputId": "090bb9f9-5d4b-4f3f-e823-8cb7d83861bc"
   },
   "outputs": [
    {
     "name": "stdout",
     "output_type": "stream",
     "text": [
      "ETM(\n",
      "  (t_drop): Dropout(p=0.5, inplace=False)\n",
      "  (theta_act): Tanh()\n",
      "  (topic_embeddings_alphas): Linear(in_features=300, out_features=10, bias=False)\n",
      "  (q_theta): Sequential(\n",
      "    (0): Linear(in_features=54318, out_features=800, bias=True)\n",
      "    (1): Tanh()\n",
      "    (2): Linear(in_features=800, out_features=800, bias=True)\n",
      "    (3): Tanh()\n",
      "  )\n",
      "  (mu_q_theta): Linear(in_features=800, out_features=10, bias=True)\n",
      "  (logsigma_q_theta): Linear(in_features=800, out_features=10, bias=True)\n",
      ")\n"
     ]
    }
   ],
   "source": [
    "etm_model = ETM(\n",
    "      num_topics, \n",
    "      vocab_size, \n",
    "      t_hidden_size, rho_size, emb_size, theta_act, \n",
    "      embedding_data, \n",
    "      enc_drop=0.5)\n",
    "\n",
    "print(etm_model)"
   ]
  },
  {
   "cell_type": "markdown",
   "metadata": {
    "id": "gSPGu9NNV1_n"
   },
   "source": [
    "**trainieren**"
   ]
  },
  {
   "cell_type": "code",
   "execution_count": null,
   "metadata": {
    "colab": {
     "base_uri": "https://localhost:8080/",
     "height": 1000
    },
    "id": "kbJIWLZpJRnG",
    "outputId": "fd8c7927-63d1-4fec-e8ca-011a8ae5f303"
   },
   "outputs": [
    {
     "name": "stdout",
     "output_type": "stream",
     "text": [
      "number of batches: 11\n",
      "Epoch: 1/15  -  Loss: 589335.9375 \t Rec: 589335.875 \t KL: 0.029\n",
      "Epoch: 2/15  -  Loss: 589335.4375 \t Rec: 589335.4375 \t KL: 0.03311\n",
      "Epoch: 3/15  -  Loss: 589335.25 \t Rec: 589335.25 \t KL: 0.01993\n",
      "Epoch: 4/15  -  Loss: 589334.625 \t Rec: 589334.625 \t KL: 0.0246\n",
      "Epoch: 5/15  -  Loss: 589335.25 \t Rec: 589335.25 \t KL: 0.03683\n",
      "Epoch: 6/15  -  Loss: 589335.1875 \t Rec: 589335.125 \t KL: 0.03552\n",
      "Epoch: 7/15  -  Loss: 589335.875 \t Rec: 589335.875 \t KL: 0.02383\n",
      "Epoch: 8/15  -  Loss: 589336.3125 \t Rec: 589336.25 \t KL: 0.06739\n",
      "Epoch: 9/15  -  Loss: 589336.375 \t Rec: 589336.3125 \t KL: 0.04006\n",
      "Epoch: 10/15  -  Loss: 589336.1875 \t Rec: 589336.125 \t KL: 0.03483\n",
      "Epoch: 11/15  -  Loss: 589337.375 \t Rec: 589337.25 \t KL: 0.04962\n",
      "Epoch: 12/15  -  Loss: 589336.8125 \t Rec: 589336.6875 \t KL: 0.17909\n",
      "Epoch: 13/15  -  Loss: 589336.4375 \t Rec: 589336.4375 \t KL: 0.02801\n",
      "Epoch: 14/15  -  Loss: 589336.375 \t Rec: 589336.25 \t KL: 0.077\n",
      "Epoch: 15/15  -  Loss: 589337.875 \t Rec: 589337.6875 \t KL: 0.12154\n",
      "Checkpoint saved at checkpoints/etm_epoch_15.pth.tar\n"
     ]
    },
    {
     "data": {
      "image/png": "[encoded data removed]",
      "text/plain": [
       "<Figure size 432x288 with 1 Axes>"
      ]
     },
     "metadata": {
      "needs_background": "light"
     },
     "output_type": "display_data"
    },
    {
     "data": {
      "image/png": "[encoded data removed]",
      "text/plain": [
       "<Figure size 432x288 with 1 Axes>"
      ]
     },
     "metadata": {
      "needs_background": "light"
     },
     "output_type": "display_data"
    },
    {
     "name": "stdout",
     "output_type": "stream",
     "text": [
      "tensor([1.8428e-05, 1.8405e-05, 1.8397e-05,  ..., 1.8419e-05, 1.8430e-05,\n",
      "        1.8358e-05])\n",
      "tensor(0.9998)\n",
      "[('day', 2.016268263105303e-05), ('list', 1.9713017536560073e-05), ('john', 1.9682829588418826e-05), ('good', 1.9650255126180127e-05), ('andrew', 1.953052014869172e-05), ('cmu', 1.940053334692493e-05), ('windows', 1.9331815565237775e-05), ('university', 1.932454870257061e-05), ('time', 1.93021769518964e-05), ('question', 1.9259412511019036e-05)]\n",
      "[('years', 2.006276736210566e-05), ('system', 2.004399175348226e-05), ('good', 1.9762932424782775e-05), ('columbia', 1.9464787328615785e-05), ('work', 1.941597838595044e-05), ('case', 1.9397770302020945e-05), ('cs', 1.929748941620346e-05), ('appears', 1.9282122593722306e-05), ('nntp', 1.924671778397169e-05), ('man', 1.924140269693453e-05)]\n",
      "[('file', 1.964777402463369e-05), ('michael', 1.9412633264437318e-05), ('find', 1.940061520144809e-05), ('hard', 1.938853347382974e-05), ('question', 1.9363447790965438e-05), ('mit', 1.9255101506132632e-05), ('state', 1.923622221511323e-05), ('jim', 1.9207611330784857e-05), ('system', 1.9176963178324513e-05), ('netcom', 1.9154063920723274e-05)]\n",
      "[('world', 1.9985640392405912e-05), ('problem', 1.987093492061831e-05), ('writes', 1.9716331735253334e-05), ('state', 1.960441113624256e-05), ('david', 1.9604167391662486e-05), ('question', 1.9433637135080062e-05), ('system', 1.9410124878049828e-05), ('cmu', 1.9339797290740535e-05), ('reply', 1.932578561536502e-05), ('chip', 1.9324488675920293e-05)]\n",
      "[('mit', 1.988338044611737e-05), ('hp', 1.960716508619953e-05), ('article', 1.9569883079384454e-05), ('isc', 1.953667560883332e-05), ('technology', 1.9414212147239596e-05), ('pitt', 1.938552850333508e-05), ('problem', 1.937563320097979e-05), ('col', 1.9363831597729586e-05), ('power', 1.9322345906402916e-05), ('software', 1.93218256754335e-05)]\n",
      "[('article', 2.01374277821742e-05), ('cc', 1.9611450625234284e-05), ('world', 1.9428582163527608e-05), ('bill', 1.9360020814929157e-05), ('david', 1.9313803932163864e-05), ('mail', 1.9251723642810248e-05), ('states', 1.9233326383982785e-05), ('adam', 1.9215322026866488e-05), ('mark', 1.9186778445146047e-05), ('ago', 1.917324698297307e-05)]\n",
      "[('sun', 1.9603146938607097e-05), ('att', 1.95737538888352e-05), ('distribution', 1.9334082026034594e-05), ('research', 1.930171129060909e-05), ('space', 1.9267081370344386e-05), ('colorado', 1.9257702660979703e-05), ('writes', 1.925686956383288e-05), ('cmu', 1.9245657313149422e-05), ('drive', 1.9243461792939343e-05), ('andrew', 1.922968658618629e-05)]\n",
      "[('host', 1.9542367226677015e-05), ('nntp', 1.9514809537213296e-05), ('years', 1.9444618374109268e-05), ('sun', 1.942863491422031e-05), ('code', 1.9414263078942895e-05), ('program', 1.937990600708872e-05), ('hp', 1.9303841327200644e-05), ('windows', 1.9300419808132574e-05), ('government', 1.9262335626990534e-05), ('gm', 1.920278009492904e-05)]\n",
      "[('world', 1.9857910956488922e-05), ('hp', 1.9603119653766043e-05), ('mit', 1.9534558305167593e-05), ('mil', 1.9406574210734107e-05), ('time', 1.933604471560102e-05), ('data', 1.9320636056363583e-05), ('high', 1.9316106772748753e-05), ('bit', 1.9266759409219958e-05), ('cc', 1.9234146748203784e-05), ('keith', 1.914079621201381e-05)]\n",
      "[('university', 1.9763121599680744e-05), ('power', 1.941897426149808e-05), ('care', 1.9373957911739126e-05), ('nntp', 1.9349985450389795e-05), ('sgi', 1.929461541294586e-05), ('ibm', 1.9231290934840217e-05), ('jon', 1.9207916921004653e-05), ('institute', 1.9203107513021678e-05), ('reply', 1.9180773961124942e-05), ('distribution', 1.9176610294380225e-05)]\n"
     ]
    }
   ],
   "source": [
    "#--------------------------training----------------------------------------------------\n",
    "loss_name = \"paper-loss\"\n",
    "\n",
    "train_class = TrainETM().train(\n",
    "    etm_model,\n",
    "    loss_name,\n",
    "    vocab_size, \n",
    "    train_args, optimizer_args, train_set,\n",
    "    normalize_data = True,\n",
    "    figures_path = figures_path)\n",
    "    #num_topics, t_hidden_size, rho_size, emb_size, theta_act,  embedding_data, 0.5)\n",
    "\n",
    "#-------------------show topics\n",
    "topics = etm_model.show_topics(id2word, 10)\n",
    "for tp in topics:\n",
    "  print(tp)\n",
    "\n",
    "#----------------\n",
    "#from src.visualization import show_embedding_with_kmeans_umap\n",
    "#show_embedding_with_kmeans_umap(\n",
    "#    id2word, embedding_data, num_topics, etm_model.topic_embeddings_alphas.weight,\n",
    "#    figures_path)"
   ]
  },
  {
   "cell_type": "code",
   "execution_count": null,
   "metadata": {
    "colab": {
     "base_uri": "https://localhost:8080/"
    },
    "id": "rq2JJS1a4Se9",
    "outputId": "354e7b76-c24f-4870-b225-e32aa8c9bc4c"
   },
   "outputs": [
    {
     "name": "stdout",
     "output_type": "stream",
     "text": [
      "tensor([1.8428e-05, 1.8405e-05, 1.8397e-05,  ..., 1.8419e-05, 1.8430e-05,\n",
      "        1.8358e-05])\n",
      "tensor(0.9998)\n",
      "['day', 'list', 'john', 'good', 'andrew', 'cmu', 'windows', 'university', 'time', 'question']\n",
      "['years', 'system', 'good', 'columbia', 'work', 'case', 'cs', 'appears', 'nntp', 'man']\n",
      "['file', 'michael', 'find', 'hard', 'question', 'mit', 'state', 'jim', 'system', 'netcom']\n",
      "['world', 'problem', 'writes', 'state', 'david', 'question', 'system', 'cmu', 'reply', 'chip']\n",
      "['mit', 'hp', 'article', 'isc', 'technology', 'pitt', 'problem', 'col', 'power', 'software']\n",
      "['article', 'cc', 'world', 'bill', 'david', 'mail', 'states', 'adam', 'mark', 'ago']\n",
      "['sun', 'att', 'distribution', 'research', 'space', 'colorado', 'writes', 'cmu', 'drive', 'andrew']\n",
      "['host', 'nntp', 'years', 'sun', 'code', 'program', 'hp', 'windows', 'government', 'gm']\n",
      "['world', 'hp', 'mit', 'mil', 'time', 'data', 'high', 'bit', 'cc', 'keith']\n",
      "['university', 'power', 'care', 'nntp', 'sgi', 'ibm', 'jon', 'institute', 'reply', 'distribution']\n",
      "D:  11214\n",
      "k: 0/10\n",
      "k: 1/10\n",
      "k: 2/10\n",
      "k: 3/10\n",
      "k: 4/10\n",
      "k: 5/10\n",
      "k: 6/10\n",
      "k: 7/10\n",
      "k: 8/10\n",
      "k: 9/10\n",
      "counter:  45\n",
      "num topics:  10\n",
      "Topic coherence is: 0.054993788712571434\n"
     ]
    },
    {
     "data": {
      "text/plain": [
       "0.054993788712571434"
      ]
     },
     "execution_count": 23,
     "metadata": {},
     "output_type": "execute_result"
    }
   ],
   "source": [
    "#-------------------show topics\n",
    "topics = etm_model.show_topics(id2word, 10)\n",
    "topics = [[e[0] for e in tp] for tp in topics] #get only top words\n",
    "for tp in topics:\n",
    "  print(tp)\n",
    "get_topic_coherence(list(train_set['tokens']), topics, word2id)\n"
   ]
  },
  {
   "cell_type": "markdown",
   "metadata": {
    "id": "ksHZnVZ0P951"
   },
   "source": [
    "**Other Activation function für Paper-Loss**"
   ]
  },
  {
   "cell_type": "code",
   "execution_count": null,
   "metadata": {
    "colab": {
     "base_uri": "https://localhost:8080/",
     "height": 1000
    },
    "id": "jAmpVPz6QMJW",
    "outputId": "8cc0f3b4-f3fa-4228-cd6f-821fb3bb71e4"
   },
   "outputs": [
    {
     "name": "stdout",
     "output_type": "stream",
     "text": [
      "15\n",
      "adam\n",
      "ETM(\n",
      "  (t_drop): Dropout(p=0.5, inplace=False)\n",
      "  (theta_act): ReLU()\n",
      "  (topic_embeddings_alphas): Linear(in_features=300, out_features=10, bias=False)\n",
      "  (q_theta): Sequential(\n",
      "    (0): Linear(in_features=54318, out_features=800, bias=True)\n",
      "    (1): ReLU()\n",
      "    (2): Linear(in_features=800, out_features=800, bias=True)\n",
      "    (3): ReLU()\n",
      "  )\n",
      "  (mu_q_theta): Linear(in_features=800, out_features=10, bias=True)\n",
      "  (logsigma_q_theta): Linear(in_features=800, out_features=10, bias=True)\n",
      ")\n",
      "number of batches: 11\n",
      "Epoch: 1/15  -  Loss: 589336.0625 \t Rec: 589336.0 \t KL: 0.02637\n",
      "Epoch: 2/15  -  Loss: 589335.1875 \t Rec: 589335.1875 \t KL: 0.01769\n",
      "Epoch: 3/15  -  Loss: 589334.8125 \t Rec: 589334.8125 \t KL: 0.01161\n",
      "Epoch: 4/15  -  Loss: 589335.5625 \t Rec: 589335.5625 \t KL: 0.01362\n",
      "Epoch: 5/15  -  Loss: 589335.0625 \t Rec: 589335.0625 \t KL: 0.00359\n",
      "Epoch: 6/15  -  Loss: 589335.4375 \t Rec: 589335.4375 \t KL: 0.0022\n",
      "Epoch: 7/15  -  Loss: 589336.25 \t Rec: 589336.25 \t KL: 0.0033\n",
      "Epoch: 8/15  -  Loss: 589335.4375 \t Rec: 589335.4375 \t KL: 0.00444\n",
      "Epoch: 9/15  -  Loss: 589337.25 \t Rec: 589337.25 \t KL: 0.00534\n",
      "Epoch: 10/15  -  Loss: 589335.4375 \t Rec: 589335.4375 \t KL: 0.00483\n",
      "Epoch: 11/15  -  Loss: 589335.9375 \t Rec: 589335.9375 \t KL: 0.00461\n",
      "Epoch: 12/15  -  Loss: 589337.0625 \t Rec: 589337.0625 \t KL: 0.00599\n",
      "Epoch: 13/15  -  Loss: 589337.625 \t Rec: 589337.625 \t KL: 0.00785\n",
      "Epoch: 14/15  -  Loss: 589337.125 \t Rec: 589337.125 \t KL: 0.01174\n",
      "Epoch: 15/15  -  Loss: 589337.25 \t Rec: 589337.25 \t KL: 0.01333\n",
      "Checkpoint saved at checkpoints/etm_epoch_15.pth.tar\n"
     ]
    },
    {
     "data": {
      "image/png": "[encoded data removed]",
      "text/plain": [
       "<Figure size 432x288 with 1 Axes>"
      ]
     },
     "metadata": {
      "needs_background": "light"
     },
     "output_type": "display_data"
    },
    {
     "data": {
      "image/png": "[encoded data removed]",
      "text/plain": [
       "<Figure size 432x288 with 1 Axes>"
      ]
     },
     "metadata": {
      "needs_background": "light"
     },
     "output_type": "display_data"
    },
    {
     "name": "stdout",
     "output_type": "stream",
     "text": [
      "tensor([1.8400e-05, 1.8411e-05, 1.8401e-05,  ..., 1.8424e-05, 1.8429e-05,\n",
      "        1.8373e-05])\n",
      "tensor(1.0000)\n",
      "[('case', 1.951966987689957e-05), ('writes', 1.949927354871761e-05), ('michael', 1.9383174731046893e-05), ('ibm', 1.9315870304126292e-05), ('andrew', 1.9281556888017803e-05), ('nntp', 1.9160675947205164e-05), ('net', 1.914096537802834e-05), ('ai', 1.9094240997219458e-05), ('tek', 1.9081075151916593e-05), ('single', 1.907881596707739e-05)]\n",
      "[('world', 2.00306749320589e-05), ('thing', 1.9781917217187583e-05), ('isc', 1.9476956367725506e-05), ('smith', 1.944117684615776e-05), ('david', 1.9324883396620862e-05), ('today', 1.9316190446261317e-05), ('single', 1.9273975340183824e-05), ('mil', 1.927279299707152e-05), ('br', 1.9257191524957307e-05), ('colorado', 1.918588714033831e-05)]\n",
      "[('sgi', 1.96531655092258e-05), ('white', 1.9405331840971485e-05), ('drive', 1.9328450434841216e-05), ('ibm', 1.9317127225804143e-05), ('jon', 1.9246295778430067e-05), ('reply', 1.9214878193452023e-05), ('san', 1.9212726328987628e-05), ('system', 1.9204851923859678e-05), ('case', 1.9203023839509115e-05), ('toronto', 1.9180324670742266e-05)]\n",
      "[('state', 1.95612374227494e-05), ('technology', 1.9298457118566148e-05), ('years', 1.9276207240181975e-05), ('writes', 1.9275550585007295e-05), ('world', 1.921904731716495e-05), ('read', 1.9201368559151888e-05), ('space', 1.915694519993849e-05), ('end', 1.9135479305987246e-05), ('disclaimer', 1.912792504299432e-05), ('thing', 1.9076807802775875e-05)]\n",
      "[('university', 2.0090814359718934e-05), ('adam', 1.9864690329995938e-05), ('harvard', 1.949930447153747e-05), ('jim', 1.9451879779808223e-05), ('big', 1.943542156368494e-05), ('time', 1.933810744958464e-05), ('drive', 1.933666499098763e-05), ('david', 1.9309240087750368e-05), ('uk', 1.9281937056803145e-05), ('article', 1.9281802451587282e-05)]\n",
      "[('number', 1.9947863620473072e-05), ('high', 1.9663433704408817e-05), ('version', 1.955433253897354e-05), ('computer', 1.9439830793999135e-05), ('tin', 1.9294884623377584e-05), ('cmu', 1.9286389942863025e-05), ('harvard', 1.9249653632869013e-05), ('andrew', 1.924504613270983e-05), ('att', 1.9229550161981024e-05), ('newsreader', 1.9216275177313946e-05)]\n",
      "[('article', 1.9736591639230028e-05), ('system', 1.9680175682879053e-05), ('center', 1.9471270206850022e-05), ('mail', 1.9342023733770475e-05), ('law', 1.9328839698573574e-05), ('line', 1.932552368089091e-05), ('group', 1.9224829884478822e-05), ('colorado', 1.9210836398997344e-05), ('mark', 1.918797534017358e-05), ('history', 1.917923327710014e-05)]\n",
      "[('uiuc', 1.9466511730570346e-05), ('netcom', 1.9366912965779193e-05), ('years', 1.9351227820152417e-05), ('state', 1.9281458662590012e-05), ('sun', 1.9265184164396487e-05), ('andrew', 1.9206918295822106e-05), ('number', 1.9189394151908346e-05), ('john', 1.9127703126287088e-05), ('writes', 1.9074592273682356e-05), ('cs', 1.905564931803383e-05)]\n",
      "[('ibm', 2.0355697415652685e-05), ('time', 2.0221490558469668e-05), ('cc', 2.0111905541853048e-05), ('years', 1.9753966626012698e-05), ('university', 1.9730932763195597e-05), ('code', 1.955855441337917e-05), ('case', 1.9498003894113936e-05), ('things', 1.9259723558207043e-05), ('austin', 1.9214294297853485e-05), ('good', 1.919004716910422e-05)]\n",
      "[('jim', 2.03002000489505e-05), ('day', 1.971003985090647e-05), ('read', 1.9619110389612615e-05), ('adam', 1.9396820789552294e-05), ('state', 1.937637171067763e-05), ('ibm', 1.9369530491530895e-05), ('mit', 1.9340270227985457e-05), ('harvard', 1.930548569362145e-05), ('net', 1.9303679437143728e-05), ('high', 1.92023489944404e-05)]\n",
      "tensor([1.8400e-05, 1.8411e-05, 1.8401e-05,  ..., 1.8424e-05, 1.8429e-05,\n",
      "        1.8373e-05])\n",
      "tensor(1.0000)\n",
      "['case', 'writes', 'michael', 'ibm', 'andrew', 'nntp', 'net', 'ai', 'tek', 'single']\n",
      "['world', 'thing', 'isc', 'smith', 'david', 'today', 'single', 'mil', 'br', 'colorado']\n",
      "['sgi', 'white', 'drive', 'ibm', 'jon', 'reply', 'san', 'system', 'case', 'toronto']\n",
      "['state', 'technology', 'years', 'writes', 'world', 'read', 'space', 'end', 'disclaimer', 'thing']\n",
      "['university', 'adam', 'harvard', 'jim', 'big', 'time', 'drive', 'david', 'uk', 'article']\n",
      "['number', 'high', 'version', 'computer', 'tin', 'cmu', 'harvard', 'andrew', 'att', 'newsreader']\n",
      "['article', 'system', 'center', 'mail', 'law', 'line', 'group', 'colorado', 'mark', 'history']\n",
      "['uiuc', 'netcom', 'years', 'state', 'sun', 'andrew', 'number', 'john', 'writes', 'cs']\n",
      "['ibm', 'time', 'cc', 'years', 'university', 'code', 'case', 'things', 'austin', 'good']\n",
      "['jim', 'day', 'read', 'adam', 'state', 'ibm', 'mit', 'harvard', 'net', 'high']\n",
      "D:  11214\n",
      "k: 0/10\n",
      "k: 1/10\n",
      "k: 2/10\n",
      "k: 3/10\n",
      "k: 4/10\n",
      "k: 5/10\n",
      "k: 6/10\n",
      "k: 7/10\n",
      "k: 8/10\n",
      "k: 9/10\n",
      "counter:  45\n",
      "num topics:  10\n",
      "Topic coherence is: 0.06707760555112328\n"
     ]
    },
    {
     "data": {
      "text/plain": [
       "0.06707760555112328"
      ]
     },
     "execution_count": 24,
     "metadata": {},
     "output_type": "execute_result"
    }
   ],
   "source": [
    "del train_args\n",
    "del optimizer_args\n",
    "\n",
    "train_args = TrainArguments(epochs=15, batch_size=1000, log_interval=None)\n",
    "optimizer_args = OptimizerArguments(optimizer_name=\"adam\", lr=0.002, wdecay=0.0000012)\n",
    "print(train_args.epochs)\n",
    "print(optimizer_args.optimizer)\n",
    "\n",
    "from src.embedding import read_prefitted_embedding\n",
    "embedding_data = read_prefitted_embedding(vocab, save_path)\n",
    "num_topics = 10\n",
    "t_hidden_size = 800\n",
    "rho_size = len(embedding_data[0])\n",
    "emb_size = len(embedding_data[0])\n",
    "theta_act = \"ReLU\"\n",
    "\n",
    "# define the ETM-model with setting-parameters\n",
    "del etm_model\n",
    "del train_class\n",
    "\n",
    "etm_model = ETM(\n",
    "      num_topics, \n",
    "      vocab_size, \n",
    "      t_hidden_size, rho_size, emb_size, theta_act, \n",
    "      embedding_data, \n",
    "      enc_drop=0.5)\n",
    "\n",
    "print(etm_model)\n",
    "\n",
    "#--------------------------training----------------------------------------------------\n",
    "loss_name = \"paper-loss\"\n",
    "\n",
    "train_class = TrainETM().train(\n",
    "    etm_model,\n",
    "    loss_name,\n",
    "    vocab_size, \n",
    "    train_args, optimizer_args, train_set,\n",
    "    normalize_data = True,\n",
    "    figures_path = figures_path)\n",
    "    #num_topics, t_hidden_size, rho_size, emb_size, theta_act,  embedding_data, 0.5)\n",
    "\n",
    "#-------------------show topics\n",
    "topics = etm_model.show_topics(id2word, 10)\n",
    "for tp in topics:\n",
    "  print(tp)\n",
    "\n",
    "#-------------------show topics\n",
    "topics = etm_model.show_topics(id2word, 10)\n",
    "topics = [[e[0] for e in tp] for tp in topics] #get only top words\n",
    "for tp in topics:\n",
    "  print(tp)\n",
    "get_topic_coherence(list(train_set['tokens']), topics, word2id)\n"
   ]
  },
  {
   "cell_type": "markdown",
   "metadata": {
    "id": "HqVybm6-VLIq"
   },
   "source": [
    "**Benutzung anderer Wert für Weight-Decay**"
   ]
  },
  {
   "cell_type": "code",
   "execution_count": null,
   "metadata": {
    "colab": {
     "base_uri": "https://localhost:8080/",
     "height": 1000
    },
    "id": "-irTFWr6VRVC",
    "outputId": "e77e7ca9-5bbf-4bff-9228-4d9b6a2b13d8"
   },
   "outputs": [
    {
     "name": "stdout",
     "output_type": "stream",
     "text": [
      "ETM(\n",
      "  (t_drop): Dropout(p=0.5, inplace=False)\n",
      "  (theta_act): ReLU()\n",
      "  (topic_embeddings_alphas): Linear(in_features=300, out_features=10, bias=False)\n",
      "  (q_theta): Sequential(\n",
      "    (0): Linear(in_features=54318, out_features=800, bias=True)\n",
      "    (1): ReLU()\n",
      "    (2): Linear(in_features=800, out_features=800, bias=True)\n",
      "    (3): ReLU()\n",
      "  )\n",
      "  (mu_q_theta): Linear(in_features=800, out_features=10, bias=True)\n",
      "  (logsigma_q_theta): Linear(in_features=800, out_features=10, bias=True)\n",
      ")\n",
      "number of batches: 11\n",
      "Epoch: 1/15  -  Loss: 589336.0625 \t Rec: 589336.0 \t KL: 0.02358\n",
      "Epoch: 2/15  -  Loss: 589335.25 \t Rec: 589335.25 \t KL: 0.0144\n",
      "Epoch: 3/15  -  Loss: 589334.9375 \t Rec: 589334.9375 \t KL: 0.00407\n",
      "Epoch: 4/15  -  Loss: 589334.625 \t Rec: 589334.625 \t KL: 0.00355\n",
      "Epoch: 5/15  -  Loss: 589334.5 \t Rec: 589334.5 \t KL: 0.00468\n",
      "Epoch: 6/15  -  Loss: 589335.8125 \t Rec: 589335.8125 \t KL: 0.00957\n",
      "Epoch: 7/15  -  Loss: 589335.0625 \t Rec: 589335.0625 \t KL: 0.02396\n",
      "Epoch: 8/15  -  Loss: 589335.4375 \t Rec: 589335.4375 \t KL: 0.01919\n",
      "Epoch: 9/15  -  Loss: 589336.625 \t Rec: 589336.625 \t KL: 0.0139\n",
      "Epoch: 10/15  -  Loss: 589337.3125 \t Rec: 589337.3125 \t KL: 0.00744\n",
      "Epoch: 11/15  -  Loss: 589337.0625 \t Rec: 589337.0625 \t KL: 0.00781\n",
      "Epoch: 12/15  -  Loss: 589336.125 \t Rec: 589336.125 \t KL: 0.00433\n",
      "Epoch: 13/15  -  Loss: 589337.5625 \t Rec: 589337.5625 \t KL: 0.00434\n",
      "Epoch: 14/15  -  Loss: 589336.5 \t Rec: 589336.5 \t KL: 0.00514\n",
      "Epoch: 15/15  -  Loss: 589338.375 \t Rec: 589338.375 \t KL: 0.00506\n",
      "Checkpoint saved at checkpoints/etm_epoch_15.pth.tar\n"
     ]
    },
    {
     "data": {
      "image/png": "[encoded data removed]",
      "text/plain": [
       "<Figure size 432x288 with 1 Axes>"
      ]
     },
     "metadata": {
      "needs_background": "light"
     },
     "output_type": "display_data"
    },
    {
     "data": {
      "image/png": "[encoded data removed]",
      "text/plain": [
       "<Figure size 432x288 with 1 Axes>"
      ]
     },
     "metadata": {
      "needs_background": "light"
     },
     "output_type": "display_data"
    },
    {
     "name": "stdout",
     "output_type": "stream",
     "text": [
      "tensor([1.8428e-05, 1.8396e-05, 1.8403e-05,  ..., 1.8415e-05, 1.8397e-05,\n",
      "        1.8345e-05])\n",
      "tensor(1.0002)\n",
      "[('article', 1.978362342924811e-05), ('ca', 1.9546023395378143e-05), ('good', 1.9474115106277168e-05), ('version', 1.9418248484726064e-05), ('list', 1.936290573212318e-05), ('high', 1.9333145246491767e-05), ('group', 1.931035512825474e-05), ('cmu', 1.925804463098757e-05), ('college', 1.9192806576029398e-05), ('de', 1.9153359971824102e-05)]\n",
      "[('power', 2.0695826606242917e-05), ('cc', 2.0074137864867225e-05), ('au', 1.9760145733016543e-05), ('appears', 1.9741837604669854e-05), ('windows', 1.9605111447162926e-05), ('cs', 1.9602677639340982e-05), ('max', 1.9442237316980027e-05), ('world', 1.937625893333461e-05), ('info', 1.9358722056495026e-05), ('frank', 1.931070255523082e-05)]\n",
      "[('org', 1.9639388483483344e-05), ('world', 1.9503486328176223e-05), ('hp', 1.9411645553191192e-05), ('number', 1.9352433810126968e-05), ('writes', 1.9278519175713882e-05), ('washington', 1.9268609321443364e-05), ('public', 1.9208928279113024e-05), ('andrew', 1.919805617944803e-05), ('uk', 1.9172834072378464e-05), ('list', 1.9166725905961357e-05)]\n",
      "[('institute', 1.9719194824574515e-05), ('technology', 1.9615934434114024e-05), ('ca', 1.9567287381505594e-05), ('university', 1.9445253201411106e-05), ('access', 1.9411600078456104e-05), ('list', 1.940521724463906e-05), ('california', 1.9372186216060072e-05), ('time', 1.9359564248588867e-05), ('caltech', 1.933720886881929e-05), ('rochester', 1.9282941138953902e-05)]\n",
      "[('years', 1.9695546143339016e-05), ('mit', 1.9452223568805493e-05), ('world', 1.9347085981280543e-05), ('national', 1.92126099136658e-05), ('bill', 1.9127071936964057e-05), ('case', 1.9099657947663218e-05), ('message', 1.9072469513048418e-05), ('drive', 1.9069353584200144e-05), ('ibm', 1.906640136439819e-05), ('group', 1.8966784409713e-05)]\n",
      "[('org', 1.92920706467703e-05), ('state', 1.927981611515861e-05), ('space', 1.927905213960912e-05), ('article', 1.9260356566519476e-05), ('technology', 1.919301757880021e-05), ('call', 1.9161620002705604e-05), ('questions', 1.9150487787555903e-05), ('net', 1.9140550648444332e-05), ('institute', 1.9107166735921055e-05), ('back', 1.908601916511543e-05)]\n",
      "[('file', 1.9800156223936938e-05), ('netcom', 1.9640790924313478e-05), ('cc', 1.958849315997213e-05), ('au', 1.9410939785302617e-05), ('distribution', 1.936865555762779e-05), ('harvard', 1.93470641534077e-05), ('apple', 1.9238113964092918e-05), ('adam', 1.9237375454395078e-05), ('software', 1.9220495232730173e-05), ('org', 1.9194532796973363e-05)]\n",
      "[('case', 1.9598663129727356e-05), ('sgi', 1.9526121832313947e-05), ('people', 1.945003168657422e-05), ('sun', 1.9346998669789173e-05), ('att', 1.9292161596240476e-05), ('nntp', 1.9247756426921114e-05), ('years', 1.9211309336242266e-05), ('things', 1.91938343050424e-05), ('jon', 1.9154587789671496e-05), ('call', 1.9105627870885655e-05)]\n",
      "[('writes', 1.949540092027746e-05), ('mail', 1.914250424306374e-05), ('april', 1.910772334667854e-05), ('free', 1.9089637135039084e-05), ('sun', 1.90684586414136e-05), ('john', 1.904803684737999e-05), ('ma', 1.9016675651073456e-05), ('adam', 1.9014398276340216e-05), ('mit', 1.9013190467376262e-05), ('pitt', 1.9008883100468665e-05)]\n",
      "[('distribution', 1.9540022549335845e-05), ('henry', 1.9285804228275083e-05), ('indiana', 1.9263537978986278e-05), ('appears', 1.923133822856471e-05), ('toronto', 1.922882984217722e-05), ('ibm', 1.9202290786779486e-05), ('government', 1.9185397832188755e-05), ('hp', 1.9180888557457365e-05), ('part', 1.9171033272868954e-05), ('andrew', 1.914251879497897e-05)]\n",
      "tensor([1.8428e-05, 1.8396e-05, 1.8403e-05,  ..., 1.8415e-05, 1.8397e-05,\n",
      "        1.8345e-05])\n",
      "tensor(1.0002)\n",
      "['article', 'ca', 'good', 'version', 'list', 'high', 'group', 'cmu', 'college', 'de']\n",
      "['power', 'cc', 'au', 'appears', 'windows', 'cs', 'max', 'world', 'info', 'frank']\n",
      "['org', 'world', 'hp', 'number', 'writes', 'washington', 'public', 'andrew', 'uk', 'list']\n",
      "['institute', 'technology', 'ca', 'university', 'access', 'list', 'california', 'time', 'caltech', 'rochester']\n",
      "['years', 'mit', 'world', 'national', 'bill', 'case', 'message', 'drive', 'ibm', 'group']\n",
      "['org', 'state', 'space', 'article', 'technology', 'call', 'questions', 'net', 'institute', 'back']\n",
      "['file', 'netcom', 'cc', 'au', 'distribution', 'harvard', 'apple', 'adam', 'software', 'org']\n",
      "['case', 'sgi', 'people', 'sun', 'att', 'nntp', 'years', 'things', 'jon', 'call']\n",
      "['writes', 'mail', 'april', 'free', 'sun', 'john', 'ma', 'adam', 'mit', 'pitt']\n",
      "['distribution', 'henry', 'indiana', 'appears', 'toronto', 'ibm', 'government', 'hp', 'part', 'andrew']\n",
      "D:  11214\n",
      "k: 0/10\n",
      "k: 1/10\n",
      "k: 2/10\n",
      "k: 3/10\n",
      "k: 4/10\n",
      "k: 5/10\n",
      "k: 6/10\n",
      "k: 7/10\n",
      "k: 8/10\n",
      "k: 9/10\n",
      "counter:  45\n",
      "num topics:  10\n",
      "Topic coherence is: 0.05862065774470134\n"
     ]
    },
    {
     "data": {
      "text/plain": [
       "0.05862065774470134"
      ]
     },
     "execution_count": 25,
     "metadata": {},
     "output_type": "execute_result"
    }
   ],
   "source": [
    "del train_args\n",
    "del optimizer_args\n",
    "\n",
    "train_args = TrainArguments(epochs=15, batch_size=1000, log_interval=None)\n",
    "optimizer_args = OptimizerArguments(optimizer_name=\"adam\", lr=0.002, wdecay=0.01)\n",
    "\n",
    "from src.embedding import read_prefitted_embedding\n",
    "embedding_data = read_prefitted_embedding(vocab, save_path)\n",
    "num_topics = 10\n",
    "t_hidden_size = 800\n",
    "rho_size = len(embedding_data[0])\n",
    "emb_size = len(embedding_data[0])\n",
    "theta_act = \"ReLU\"\n",
    "\n",
    "# define the ETM-model with setting-parameters\n",
    "del etm_model\n",
    "del train_class\n",
    "\n",
    "etm_model = ETM(\n",
    "      num_topics, \n",
    "      vocab_size, \n",
    "      t_hidden_size, rho_size, emb_size, theta_act, \n",
    "      embedding_data, \n",
    "      enc_drop=0.5)\n",
    "\n",
    "print(etm_model)\n",
    "\n",
    "#--------------------------training----------------------------------------------------\n",
    "loss_name = \"paper-loss\"\n",
    "\n",
    "train_class = TrainETM().train(\n",
    "    etm_model,\n",
    "    loss_name,\n",
    "    vocab_size, \n",
    "    train_args, optimizer_args, train_set,\n",
    "    normalize_data = True,\n",
    "    figures_path = figures_path)\n",
    "    #num_topics, t_hidden_size, rho_size, emb_size, theta_act,  embedding_data, 0.5)\n",
    "\n",
    "#-------------------show topics\n",
    "topics = etm_model.show_topics(id2word, 10)\n",
    "for tp in topics:\n",
    "  print(tp)\n",
    "\n",
    "#-------------------show topics\n",
    "topics = etm_model.show_topics(id2word, 10)\n",
    "topics = [[e[0] for e in tp] for tp in topics] #get only top words\n",
    "for tp in topics:\n",
    "  print(tp)\n",
    "get_topic_coherence(list(train_set['tokens']), topics, word2id)\n"
   ]
  },
  {
   "cell_type": "markdown",
   "metadata": {
    "id": "8xVMI9fv9h3E"
   },
   "source": [
    "# **epochs 100**"
   ]
  },
  {
   "cell_type": "code",
   "execution_count": null,
   "metadata": {
    "id": "AB1ron3e9hN4"
   },
   "outputs": [],
   "source": [
    "\"\"\"\n",
    "del etm_model\n",
    "del train_class\n",
    "\n",
    "# define the ETM-model with setting-parameters\n",
    "etm_model = ETM(\n",
    "      num_topics, \n",
    "      vocab_size, \n",
    "      t_hidden_size, rho_size, emb_size, theta_act, \n",
    "      embedding_data, \n",
    "      enc_drop=0.5)\n",
    "\n",
    "print(etm_model)\n",
    "#--------------------------training----------------------------------------------------\n",
    "loss_name = \"paper-loss\"\n",
    "train_args = TrainArguments(epochs=100, batch_size=1000, log_interval=None)\n",
    "train_class = TrainETM().train(\n",
    "    etm_model,\n",
    "    loss_name,\n",
    "    vocab_size, \n",
    "    train_args, optimizer_args, train_set,\n",
    "    normalize_data = True,\n",
    "    figures_path = figures_path)\n",
    "    #num_topics, t_hidden_size, rho_size, emb_size, theta_act,  embedding_data, 0.5)\n",
    "\n",
    "#-------------------show topics\n",
    "topics = etm_model.show_topics(id2word, 10)\n",
    "for tp in topics:\n",
    "  print(tp)\n",
    "#-------------------show topics\n",
    "topics = etm_model.show_topics(id2word, 10)\n",
    "topics = [[e[0] for e in tp] for tp in topics] #get only top words\n",
    "for tp in topics:\n",
    "  print(tp)\n",
    "get_topic_coherence(list(train_set['tokens']), topics, word2id)\n",
    "\"\"\""
   ]
  }
 ],
 "metadata": {
  "colab": {
   "collapsed_sections": [],
   "include_colab_link": true,
   "name": "notebook_replication.ipynb",
   "provenance": []
  },
  "kernelspec": {
   "display_name": "Python 3",
   "language": "python",
   "name": "python3"
  },
  "language_info": {
   "codemirror_mode": {
    "name": "ipython",
    "version": 3
   },
   "file_extension": ".py",
   "mimetype": "text/x-python",
   "name": "python",
   "nbconvert_exporter": "python",
   "pygments_lexer": "ipython3",
   "version": "3.7.3"
  }
 },
 "nbformat": 4,
 "nbformat_minor": 1
}
