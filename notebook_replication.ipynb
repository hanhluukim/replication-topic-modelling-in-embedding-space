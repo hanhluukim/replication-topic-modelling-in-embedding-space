{
  "nbformat": 4,
  "nbformat_minor": 0,
  "metadata": {
    "colab": {
      "name": "notebook_replication.ipynb",
      "provenance": [],
      "collapsed_sections": [],
      "include_colab_link": true
    },
    "kernelspec": {
      "name": "python3",
      "display_name": "Python 3"
    },
    "language_info": {
      "name": "python"
    }
  },
  "cells": [
    {
      "cell_type": "markdown",
      "metadata": {
        "id": "view-in-github",
        "colab_type": "text"
      },
      "source": [
        "<a href=\"https://colab.research.google.com/github/hanhluukim/replication-topic-modelling-in-embedding-space/blob/main/notebook_replication.ipynb\" target=\"_parent\"><img src=\"https://colab.research.google.com/assets/colab-badge.svg\" alt=\"Open In Colab\"/></a>"
      ]
    },
    {
      "cell_type": "markdown",
      "source": [
        "# **Das Projekt aus dem Github klonen und in den Projektsordner**"
      ],
      "metadata": {
        "id": "PJ7P852F7yzU"
      }
    },
    {
      "cell_type": "code",
      "execution_count": 5,
      "metadata": {
        "id": "riOxinNHJcIB",
        "colab": {
          "base_uri": "https://localhost:8080/"
        },
        "outputId": "888ae7b5-a518-488e-fa18-e7a77a4a1e60"
      },
      "outputs": [
        {
          "output_type": "stream",
          "name": "stdout",
          "text": [
            "Cloning into 'replication-topic-modelling-in-embedding-space'...\n",
            "remote: Enumerating objects: 287, done.\u001b[K\n",
            "remote: Counting objects: 100% (62/62), done.\u001b[K\n",
            "remote: Compressing objects: 100% (42/42), done.\u001b[K\n",
            "remote: Total 287 (delta 39), reused 41 (delta 20), pack-reused 225\u001b[K\n",
            "Receiving objects: 100% (287/287), 4.52 MiB | 7.04 MiB/s, done.\n",
            "Resolving deltas: 100% (149/149), done.\n"
          ]
        }
      ],
      "source": [
        "#wenn die Ordner noch nicht geklont ist, soll dieser Fehler zuerst durchgeführt werden.\n",
        "!git clone https://github.com/hanhluukim/replication-topic-modelling-in-embedding-space.git"
      ]
    },
    {
      "cell_type": "code",
      "source": [
        "cd /content/replication-topic-modelling-in-embedding-space"
      ],
      "metadata": {
        "colab": {
          "base_uri": "https://localhost:8080/"
        },
        "id": "B_6em-5qJg5e",
        "outputId": "d40f065a-d7b0-4b68-f458-f41ee514ecab"
      },
      "execution_count": 6,
      "outputs": [
        {
          "output_type": "stream",
          "name": "stdout",
          "text": [
            "/content/replication-topic-modelling-in-embedding-space\n"
          ]
        }
      ]
    },
    {
      "cell_type": "markdown",
      "source": [
        "#**Die benötige Paketen für das Projekt mittels requirements.txt installieren**\n",
        "\n"
      ],
      "metadata": {
        "id": "6AAG98vV1JCg"
      }
    },
    {
      "cell_type": "code",
      "source": [
        "# Falls die Packages noch nicht installiert wurden, \n",
        "!pip install -r \"/content/replication-topic-modelling-in-embedding-space/requirements.txt\""
      ],
      "metadata": {
        "id": "YcBay625sD5D",
        "colab": {
          "base_uri": "https://localhost:8080/"
        },
        "outputId": "58341e66-5252-4c82-8a4a-acafbc62f91b"
      },
      "execution_count": 7,
      "outputs": [
        {
          "output_type": "stream",
          "name": "stdout",
          "text": [
            "Requirement already satisfied: gensim in /usr/local/lib/python3.7/dist-packages (from -r /content/replication-topic-modelling-in-embedding-space/requirements.txt (line 1)) (3.6.0)\n",
            "Requirement already satisfied: nltk in /usr/local/lib/python3.7/dist-packages (from -r /content/replication-topic-modelling-in-embedding-space/requirements.txt (line 2)) (3.2.5)\n",
            "Requirement already satisfied: numpy in /usr/local/lib/python3.7/dist-packages (from -r /content/replication-topic-modelling-in-embedding-space/requirements.txt (line 3)) (1.21.6)\n",
            "Requirement already satisfied: scikit-learn in /usr/local/lib/python3.7/dist-packages (from -r /content/replication-topic-modelling-in-embedding-space/requirements.txt (line 4)) (1.0.2)\n",
            "Requirement already satisfied: scipy in /usr/local/lib/python3.7/dist-packages (from -r /content/replication-topic-modelling-in-embedding-space/requirements.txt (line 5)) (1.4.1)\n",
            "Requirement already satisfied: torch in /usr/local/lib/python3.7/dist-packages (from -r /content/replication-topic-modelling-in-embedding-space/requirements.txt (line 6)) (1.11.0+cu113)\n",
            "Collecting transformers\n",
            "  Downloading transformers-4.18.0-py3-none-any.whl (4.0 MB)\n",
            "\u001b[K     |████████████████████████████████| 4.0 MB 4.5 MB/s \n",
            "\u001b[?25hCollecting umap-learn\n",
            "  Downloading umap-learn-0.5.3.tar.gz (88 kB)\n",
            "\u001b[K     |████████████████████████████████| 88 kB 6.1 MB/s \n",
            "\u001b[?25hCollecting plotly==5.7.0\n",
            "  Downloading plotly-5.7.0-py2.py3-none-any.whl (28.8 MB)\n",
            "\u001b[K     |████████████████████████████████| 28.8 MB 169 kB/s \n",
            "\u001b[?25hRequirement already satisfied: pathlib in /usr/local/lib/python3.7/dist-packages (from -r /content/replication-topic-modelling-in-embedding-space/requirements.txt (line 10)) (1.0.1)\n",
            "Collecting pyyaml==5.4.1\n",
            "  Downloading PyYAML-5.4.1-cp37-cp37m-manylinux1_x86_64.whl (636 kB)\n",
            "\u001b[K     |████████████████████████████████| 636 kB 38.9 MB/s \n",
            "\u001b[?25hCollecting kaleido\n",
            "  Downloading kaleido-0.2.1-py2.py3-none-manylinux1_x86_64.whl (79.9 MB)\n",
            "\u001b[K     |████████████████████████████████| 79.9 MB 56 kB/s \n",
            "\u001b[?25hRequirement already satisfied: tenacity>=6.2.0 in /usr/local/lib/python3.7/dist-packages (from plotly==5.7.0->-r /content/replication-topic-modelling-in-embedding-space/requirements.txt (line 9)) (8.0.1)\n",
            "Requirement already satisfied: six in /usr/local/lib/python3.7/dist-packages (from plotly==5.7.0->-r /content/replication-topic-modelling-in-embedding-space/requirements.txt (line 9)) (1.15.0)\n",
            "Requirement already satisfied: smart-open>=1.2.1 in /usr/local/lib/python3.7/dist-packages (from gensim->-r /content/replication-topic-modelling-in-embedding-space/requirements.txt (line 1)) (6.0.0)\n",
            "Requirement already satisfied: joblib>=0.11 in /usr/local/lib/python3.7/dist-packages (from scikit-learn->-r /content/replication-topic-modelling-in-embedding-space/requirements.txt (line 4)) (1.1.0)\n",
            "Requirement already satisfied: threadpoolctl>=2.0.0 in /usr/local/lib/python3.7/dist-packages (from scikit-learn->-r /content/replication-topic-modelling-in-embedding-space/requirements.txt (line 4)) (3.1.0)\n",
            "Requirement already satisfied: typing-extensions in /usr/local/lib/python3.7/dist-packages (from torch->-r /content/replication-topic-modelling-in-embedding-space/requirements.txt (line 6)) (4.2.0)\n",
            "Requirement already satisfied: requests in /usr/local/lib/python3.7/dist-packages (from transformers->-r /content/replication-topic-modelling-in-embedding-space/requirements.txt (line 7)) (2.23.0)\n",
            "Collecting sacremoses\n",
            "  Downloading sacremoses-0.0.53.tar.gz (880 kB)\n",
            "\u001b[K     |████████████████████████████████| 880 kB 37.8 MB/s \n",
            "\u001b[?25hRequirement already satisfied: packaging>=20.0 in /usr/local/lib/python3.7/dist-packages (from transformers->-r /content/replication-topic-modelling-in-embedding-space/requirements.txt (line 7)) (21.3)\n",
            "Collecting huggingface-hub<1.0,>=0.1.0\n",
            "  Downloading huggingface_hub-0.5.1-py3-none-any.whl (77 kB)\n",
            "\u001b[K     |████████████████████████████████| 77 kB 5.1 MB/s \n",
            "\u001b[?25hRequirement already satisfied: regex!=2019.12.17 in /usr/local/lib/python3.7/dist-packages (from transformers->-r /content/replication-topic-modelling-in-embedding-space/requirements.txt (line 7)) (2019.12.20)\n",
            "Requirement already satisfied: tqdm>=4.27 in /usr/local/lib/python3.7/dist-packages (from transformers->-r /content/replication-topic-modelling-in-embedding-space/requirements.txt (line 7)) (4.64.0)\n",
            "Collecting tokenizers!=0.11.3,<0.13,>=0.11.1\n",
            "  Downloading tokenizers-0.12.1-cp37-cp37m-manylinux_2_12_x86_64.manylinux2010_x86_64.whl (6.6 MB)\n",
            "\u001b[K     |████████████████████████████████| 6.6 MB 37.0 MB/s \n",
            "\u001b[?25hRequirement already satisfied: importlib-metadata in /usr/local/lib/python3.7/dist-packages (from transformers->-r /content/replication-topic-modelling-in-embedding-space/requirements.txt (line 7)) (4.11.3)\n",
            "Requirement already satisfied: filelock in /usr/local/lib/python3.7/dist-packages (from transformers->-r /content/replication-topic-modelling-in-embedding-space/requirements.txt (line 7)) (3.6.0)\n",
            "Requirement already satisfied: pyparsing!=3.0.5,>=2.0.2 in /usr/local/lib/python3.7/dist-packages (from packaging>=20.0->transformers->-r /content/replication-topic-modelling-in-embedding-space/requirements.txt (line 7)) (3.0.8)\n",
            "Requirement already satisfied: numba>=0.49 in /usr/local/lib/python3.7/dist-packages (from umap-learn->-r /content/replication-topic-modelling-in-embedding-space/requirements.txt (line 8)) (0.51.2)\n",
            "Collecting pynndescent>=0.5\n",
            "  Downloading pynndescent-0.5.6.tar.gz (1.1 MB)\n",
            "\u001b[K     |████████████████████████████████| 1.1 MB 37.3 MB/s \n",
            "\u001b[?25hRequirement already satisfied: setuptools in /usr/local/lib/python3.7/dist-packages (from numba>=0.49->umap-learn->-r /content/replication-topic-modelling-in-embedding-space/requirements.txt (line 8)) (57.4.0)\n",
            "Requirement already satisfied: llvmlite<0.35,>=0.34.0.dev0 in /usr/local/lib/python3.7/dist-packages (from numba>=0.49->umap-learn->-r /content/replication-topic-modelling-in-embedding-space/requirements.txt (line 8)) (0.34.0)\n",
            "Requirement already satisfied: zipp>=0.5 in /usr/local/lib/python3.7/dist-packages (from importlib-metadata->transformers->-r /content/replication-topic-modelling-in-embedding-space/requirements.txt (line 7)) (3.8.0)\n",
            "Requirement already satisfied: idna<3,>=2.5 in /usr/local/lib/python3.7/dist-packages (from requests->transformers->-r /content/replication-topic-modelling-in-embedding-space/requirements.txt (line 7)) (2.10)\n",
            "Requirement already satisfied: certifi>=2017.4.17 in /usr/local/lib/python3.7/dist-packages (from requests->transformers->-r /content/replication-topic-modelling-in-embedding-space/requirements.txt (line 7)) (2021.10.8)\n",
            "Requirement already satisfied: urllib3!=1.25.0,!=1.25.1,<1.26,>=1.21.1 in /usr/local/lib/python3.7/dist-packages (from requests->transformers->-r /content/replication-topic-modelling-in-embedding-space/requirements.txt (line 7)) (1.24.3)\n",
            "Requirement already satisfied: chardet<4,>=3.0.2 in /usr/local/lib/python3.7/dist-packages (from requests->transformers->-r /content/replication-topic-modelling-in-embedding-space/requirements.txt (line 7)) (3.0.4)\n",
            "Requirement already satisfied: click in /usr/local/lib/python3.7/dist-packages (from sacremoses->transformers->-r /content/replication-topic-modelling-in-embedding-space/requirements.txt (line 7)) (7.1.2)\n",
            "Building wheels for collected packages: umap-learn, pynndescent, sacremoses\n",
            "  Building wheel for umap-learn (setup.py) ... \u001b[?25l\u001b[?25hdone\n",
            "  Created wheel for umap-learn: filename=umap_learn-0.5.3-py3-none-any.whl size=82829 sha256=e222cd2de6e5be9161e1d8918e26a798b5a26e816640031f9f05bc8e9b7cae1d\n",
            "  Stored in directory: /root/.cache/pip/wheels/b3/52/a5/1fd9e3e76a7ab34f134c07469cd6f16e27ef3a37aeff1fe821\n",
            "  Building wheel for pynndescent (setup.py) ... \u001b[?25l\u001b[?25hdone\n",
            "  Created wheel for pynndescent: filename=pynndescent-0.5.6-py3-none-any.whl size=53943 sha256=f307610a40b5b18c4b9fa87827a505f936cc82a9b1274559e348f7b9e336667f\n",
            "  Stored in directory: /root/.cache/pip/wheels/03/f1/56/f80d72741e400345b5a5b50ec3d929aca581bf45e0225d5c50\n",
            "  Building wheel for sacremoses (setup.py) ... \u001b[?25l\u001b[?25hdone\n",
            "  Created wheel for sacremoses: filename=sacremoses-0.0.53-py3-none-any.whl size=895260 sha256=b90c94b7d250241f1c721437f0975bced03a59d53ef22bf4ea0c8641c41dd3d8\n",
            "  Stored in directory: /root/.cache/pip/wheels/87/39/dd/a83eeef36d0bf98e7a4d1933a4ad2d660295a40613079bafc9\n",
            "Successfully built umap-learn pynndescent sacremoses\n",
            "Installing collected packages: pyyaml, tokenizers, sacremoses, pynndescent, huggingface-hub, umap-learn, transformers, plotly, kaleido\n",
            "  Attempting uninstall: pyyaml\n",
            "    Found existing installation: PyYAML 3.13\n",
            "    Uninstalling PyYAML-3.13:\n",
            "      Successfully uninstalled PyYAML-3.13\n",
            "  Attempting uninstall: plotly\n",
            "    Found existing installation: plotly 5.5.0\n",
            "    Uninstalling plotly-5.5.0:\n",
            "      Successfully uninstalled plotly-5.5.0\n",
            "Successfully installed huggingface-hub-0.5.1 kaleido-0.2.1 plotly-5.7.0 pynndescent-0.5.6 pyyaml-5.4.1 sacremoses-0.0.53 tokenizers-0.12.1 transformers-4.18.0 umap-learn-0.5.3\n"
          ]
        }
      ]
    },
    {
      "cell_type": "markdown",
      "source": [
        "# **Gebrauchte Paketen importieren**"
      ],
      "metadata": {
        "id": "k7xiPgja8eZe"
      }
    },
    {
      "cell_type": "code",
      "source": [
        "import pandas as pd\n",
        "from pathlib import Path\n",
        "import matplotlib.pyplot as plt\n",
        "%matplotlib inline\n",
        "import umap.umap_ as umap\n",
        "import time\n",
        "import plotly.express as px\n",
        "from sklearn import cluster\n",
        "from sklearn import metrics"
      ],
      "metadata": {
        "id": "uV7KZhGq1P7g",
        "colab": {
          "base_uri": "https://localhost:8080/"
        },
        "outputId": "f8ae1417-0b71-4e89-ad43-f6be3a95f9ad"
      },
      "execution_count": 8,
      "outputs": [
        {
          "output_type": "stream",
          "name": "stderr",
          "text": [
            "/usr/local/lib/python3.7/dist-packages/distributed/config.py:20: YAMLLoadWarning: calling yaml.load() without Loader=... is deprecated, as the default Loader is unsafe. Please read https://msg.pyyaml.org/load for full details.\n",
            "  defaults = yaml.load(f)\n"
          ]
        }
      ]
    },
    {
      "cell_type": "markdown",
      "source": [
        "# **Vorverarbeitung und BOW-Repräsentationen für Textdaten durchführen**\n",
        "1. Vocabular erstellen\n",
        "2. BOW-Repräsentationen für allen Teildatensätzen"
      ],
      "metadata": {
        "id": "QzWqQhPQdJWV"
      }
    },
    {
      "cell_type": "code",
      "source": [
        "from src.preprare_dataset import TextDataLoader"
      ],
      "metadata": {
        "id": "1OCULr82pfgk"
      },
      "execution_count": 9,
      "outputs": []
    },
    {
      "cell_type": "code",
      "source": [
        "# init TextDataLoader für die Datenquelle 20 News Groups\n",
        "# Daten abrufen vom Sklearn, tokenisieren und besondere Charaktern entfernen\n",
        "textsloader = TextDataLoader(source=\"20newsgroups\", train_size=None, test_size=None)\n",
        "textsloader.load_tokenize_texts(\"20newsgroups\")\n",
        "# Beispiel von Textdaten\n",
        "textsloader.show_example_raw_texts(n_docs=2)"
      ],
      "metadata": {
        "id": "cy0PpjxEpbrR",
        "colab": {
          "base_uri": "https://localhost:8080/"
        },
        "outputId": "88475394-9458-4137-d653-1af805ba8df0"
      },
      "execution_count": 10,
      "outputs": [
        {
          "output_type": "stream",
          "name": "stdout",
          "text": [
            "loading texts: ...\n",
            "finished load!\n",
            "check some sample texts of the dataset\n",
            "['From', ':', 'lerxst', '@', 'wam', '.', 'umd', '.', 'edu', '(', \"where's\", 'my', 'thing', ')', 'Subject', ':', 'WHAT', 'car', 'is', 'this', '!', '?', 'Nntp', 'Posting', 'Host', ':', 'rac3', '.', 'wam', '.', 'umd', '.', 'edu', 'Organization', ':', 'University', 'of', 'Maryland', ',', 'College', 'Park', 'Lines', ':', '15', 'I', 'was', 'wondering', 'if', 'anyone', 'out', 'there', 'could', 'enlighten', 'me', 'on', 'this', 'car', 'I', 'saw', 'the', 'other', 'day', '.', 'It', 'was', 'a', '2', 'door', 'sports', 'car', ',', 'looked', 'to', 'be', 'from', 'the', 'late', '60s', '/', 'early', '70s', '.', 'It', 'was', 'called', 'a', 'Bricklin', '.', 'The', 'doors', 'were', 'really', 'small', '.', 'In', 'addition', ',', 'the', 'front', 'bumper', 'was', 'separate', 'from', 'the', 'rest', 'of', 'the', 'body', '.', 'This', 'is', 'all', 'I', 'know', '.', 'If', 'anyone', 'can', 'tellme', 'a', 'model', 'name', ',', 'engine', 'specs', ',', 'years', 'of', 'production', ',', 'where', 'this', 'car', 'is', 'made', ',', 'history', ',', 'or', 'whatever', 'info', 'you', 'have', 'on', 'this', 'funky', 'looking', 'car', ',', 'please', 'e', 'mail', '.', 'Thanks', ',', 'IL', 'brought', 'to', 'you', 'by', 'your', 'neighborhood', 'Lerxst']\n",
            "====================================================================================================\n",
            "['From', ':', 'guykuo', '@', 'carson', '.', 'u', '.', 'washington', '.', 'edu', '(', 'Guy', 'Kuo', ')', 'Subject', ':', 'SI', 'Clock', 'Poll', 'Final', 'Call', 'Summary', ':', 'Final', 'call', 'for', 'SI', 'clock', 'reports', 'Keywords', ':', 'SI', ',', 'acceleration', ',', 'clock', ',', 'upgrade', 'Article', 'I', '.', 'D', '.', ':', 'shelley', '.', '1qvfo9INNc3s', 'Organization', ':', 'University', 'of', 'Washington', 'Lines', ':', '11', 'NNTP', 'Posting', 'Host', ':', 'carson', '.', 'u', '.', 'washington', '.', 'edu', 'A', 'fair', 'number', 'of', 'brave', 'souls', 'who', 'upgraded', 'their', 'SI', 'clock', 'oscillator', 'have', 'shared', 'their', 'experiences', 'for', 'this', 'poll', '.', 'Please', 'send', 'a', 'brief', 'message', 'detailing', 'your', 'experiences', 'with', 'the', 'procedure', '.', 'Top', 'speed', 'attained', ',', 'CPU', 'rated', 'speed', ',', 'add', 'on', 'cards', 'and', 'adapters', ',', 'heat', 'sinks', ',', 'hour', 'of', 'usage', 'per', 'day', ',', 'floppy', 'disk', 'functionality', 'with', '800', 'and', '1', '.', '4', 'm', 'floppies', 'are', 'especially', 'requested', '.', 'I', 'will', 'be', 'summarizing', 'in', 'the', 'next', 'two', 'days', ',', 'so', 'please', 'add', 'to', 'the', 'network', 'knowledge', 'base', 'if', 'you', 'have', 'done', 'the', 'clock', 'upgrade', 'and', \"haven't\", 'answered', 'this', 'poll', '.', 'Thanks', '.', 'Guy', 'Kuo', '<', 'guykuo', '@', 'u', '.', 'washington', '.', 'edu', '>']\n",
            "====================================================================================================\n"
          ]
        }
      ]
    },
    {
      "cell_type": "code",
      "source": [
        "# Vorverarbeitung von Daten mit folgenden Schritten:\n",
        "textsloader.preprocess_texts(length_one_remove=True, punctuation_lower = True, stopwords_filter = True)"
      ],
      "metadata": {
        "colab": {
          "base_uri": "https://localhost:8080/"
        },
        "id": "5odpQDJ7qPTt",
        "outputId": "2c974dcd-177a-45a5-9a07-851040fe9ee6"
      },
      "execution_count": 11,
      "outputs": [
        {
          "output_type": "stream",
          "name": "stdout",
          "text": [
            "start: preprocessing: ...\n",
            "finised: preprocessing!\n"
          ]
        }
      ]
    },
    {
      "cell_type": "code",
      "source": [
        "# Daten zerlegen für Train, Test und Validation. Erstellen Vocabular aus dem Trainset\n",
        "textsloader.split_and_create_voca_from_trainset(max_df=0.7, min_df=10, stopwords_remove_from_voca=True)"
      ],
      "metadata": {
        "colab": {
          "base_uri": "https://localhost:8080/"
        },
        "id": "PRRCNPa9qXfq",
        "outputId": "28d33213-eb08-4339-bcf3-c1fa79e17cec"
      },
      "execution_count": 12,
      "outputs": [
        {
          "output_type": "stream",
          "name": "stdout",
          "text": [
            "permuted indices for the train set: [187 125 213 147 235  17  85  93 199 223 146 127 180  43 243]\n",
            "start creating vocabulary ...\n",
            "length of the vocabulary: 348\n",
            "sample ten words of the vocabulary: ['full', 'type', 'good', 'sense', 'true', 'clear', 'program', 'folks', 'project', 'car']\n",
            "length word2id list: 348\n",
            "length id2word list: 348\n",
            "finished: creating vocabulary\n"
          ]
        }
      ]
    },
    {
      "cell_type": "code",
      "source": [
        "# Erstellen BOW-Repräsentation für ETM Modell\n",
        "for_lda_model = False \n",
        "word2id, id2word, train_set, test_set, val_set = textsloader.create_bow_and_savebow_for_each_set(for_lda_model=for_lda_model)"
      ],
      "metadata": {
        "colab": {
          "base_uri": "https://localhost:8080/"
        },
        "id": "etzyjh_nqi19",
        "outputId": "991074bc-5cf5-4608-a389-d90adbe7e33d"
      },
      "execution_count": 13,
      "outputs": [
        {
          "output_type": "stream",
          "name": "stdout",
          "text": [
            "length train-documents-indices : 4654\n",
            "length of the vocabulary: 348\n",
            "\n",
            "\n",
            "start: creating bow representation...\n",
            "top 10 - word-id of the doc: [0, 1, 2, 3, 4, 5, 6, 7, 8, 9]\n",
            "max word-id: 347\n",
            "min word-id: 0\n",
            "max doc-id: 149\n",
            "min doc-id: 0\n",
            "all docs: 4654\n",
            "all words: 4654\n",
            "docidx unique 150\n",
            "words unique: 348\n",
            "ndocs: 150\n",
            "vocab-size: 348\n",
            "finised creating bow input!\n",
            "\n",
            "start: creating bow representation...\n",
            "top 10 - word-id of the doc: [0, 1, 2, 3, 4, 6, 7, 8, 9, 10]\n",
            "max word-id: 347\n",
            "min word-id: 0\n",
            "max doc-id: 49\n",
            "min doc-id: 0\n",
            "all docs: 1465\n",
            "all words: 1465\n",
            "docidx unique 50\n",
            "words unique: 325\n",
            "ndocs: 50\n",
            "vocab-size: 348\n",
            "finised creating bow input!\n",
            "\n",
            "start: creating bow representation...\n",
            "top 10 - word-id of the doc: [1, 2, 4, 6, 7, 8, 9, 10, 11, 12]\n",
            "max word-id: 346\n",
            "min word-id: 1\n",
            "max doc-id: 49\n",
            "min doc-id: 0\n",
            "all docs: 719\n",
            "all words: 719\n",
            "docidx unique 50\n",
            "words unique: 240\n",
            "ndocs: 50\n",
            "vocab-size: 348\n",
            "finised creating bow input!\n",
            "\n",
            "start: creating bow representation...\n",
            "top 10 - word-id of the doc: [0, 1, 2, 3, 4, 6, 7, 8, 9, 11]\n",
            "max word-id: 347\n",
            "min word-id: 0\n",
            "max doc-id: 49\n",
            "min doc-id: 0\n",
            "all docs: 746\n",
            "all words: 746\n",
            "docidx unique 50\n",
            "words unique: 269\n",
            "ndocs: 50\n",
            "vocab-size: 348\n",
            "finised creating bow input!\n",
            "\n",
            "start: creating bow representation...\n",
            "top 10 - word-id of the doc: [0, 1, 2, 3, 4, 5, 6, 7, 8, 9]\n",
            "max word-id: 347\n",
            "min word-id: 0\n",
            "max doc-id: 99\n",
            "min doc-id: 0\n",
            "all docs: 2995\n",
            "all words: 2995\n",
            "docidx unique 100\n",
            "words unique: 345\n",
            "ndocs: 100\n",
            "vocab-size: 348\n",
            "finised creating bow input!\n",
            "\n"
          ]
        }
      ]
    },
    {
      "cell_type": "markdown",
      "source": [
        "# **Vocabular und IDs anzeigen als Beispiel**\n",
        "\n",
        "---\n",
        "\n",
        "\n",
        "\n"
      ],
      "metadata": {
        "id": "r-DXUMguC8zM"
      }
    },
    {
      "cell_type": "code",
      "source": [
        "# show for samples: 100 word2id and id2 word\n",
        "word2id_df_100 = pd.DataFrame()\n",
        "word2id_df_100['word'] = list(word2id.keys())[:100]\n",
        "word2id_df_100['id'] = list(word2id.values())[:100]\n",
        "word2id_df_100"
      ],
      "metadata": {
        "colab": {
          "base_uri": "https://localhost:8080/",
          "height": 424
        },
        "id": "6RBJYhLHCfwy",
        "outputId": "9a6c56b8-ae1e-42ce-d8b1-97d3112aafa6"
      },
      "execution_count": 14,
      "outputs": [
        {
          "output_type": "execute_result",
          "data": {
            "text/plain": [
              "        word  id\n",
              "0       full   0\n",
              "1       type   1\n",
              "2       good   2\n",
              "3      sense   3\n",
              "4       true   4\n",
              "..       ...  ..\n",
              "95    things  95\n",
              "96     sound  96\n",
              "97    center  97\n",
              "98  response  98\n",
              "99      turn  99\n",
              "\n",
              "[100 rows x 2 columns]"
            ],
            "text/html": [
              "\n",
              "  <div id=\"df-6b0000a0-26f3-4cab-917f-8dfb2d161bfa\">\n",
              "    <div class=\"colab-df-container\">\n",
              "      <div>\n",
              "<style scoped>\n",
              "    .dataframe tbody tr th:only-of-type {\n",
              "        vertical-align: middle;\n",
              "    }\n",
              "\n",
              "    .dataframe tbody tr th {\n",
              "        vertical-align: top;\n",
              "    }\n",
              "\n",
              "    .dataframe thead th {\n",
              "        text-align: right;\n",
              "    }\n",
              "</style>\n",
              "<table border=\"1\" class=\"dataframe\">\n",
              "  <thead>\n",
              "    <tr style=\"text-align: right;\">\n",
              "      <th></th>\n",
              "      <th>word</th>\n",
              "      <th>id</th>\n",
              "    </tr>\n",
              "  </thead>\n",
              "  <tbody>\n",
              "    <tr>\n",
              "      <th>0</th>\n",
              "      <td>full</td>\n",
              "      <td>0</td>\n",
              "    </tr>\n",
              "    <tr>\n",
              "      <th>1</th>\n",
              "      <td>type</td>\n",
              "      <td>1</td>\n",
              "    </tr>\n",
              "    <tr>\n",
              "      <th>2</th>\n",
              "      <td>good</td>\n",
              "      <td>2</td>\n",
              "    </tr>\n",
              "    <tr>\n",
              "      <th>3</th>\n",
              "      <td>sense</td>\n",
              "      <td>3</td>\n",
              "    </tr>\n",
              "    <tr>\n",
              "      <th>4</th>\n",
              "      <td>true</td>\n",
              "      <td>4</td>\n",
              "    </tr>\n",
              "    <tr>\n",
              "      <th>...</th>\n",
              "      <td>...</td>\n",
              "      <td>...</td>\n",
              "    </tr>\n",
              "    <tr>\n",
              "      <th>95</th>\n",
              "      <td>things</td>\n",
              "      <td>95</td>\n",
              "    </tr>\n",
              "    <tr>\n",
              "      <th>96</th>\n",
              "      <td>sound</td>\n",
              "      <td>96</td>\n",
              "    </tr>\n",
              "    <tr>\n",
              "      <th>97</th>\n",
              "      <td>center</td>\n",
              "      <td>97</td>\n",
              "    </tr>\n",
              "    <tr>\n",
              "      <th>98</th>\n",
              "      <td>response</td>\n",
              "      <td>98</td>\n",
              "    </tr>\n",
              "    <tr>\n",
              "      <th>99</th>\n",
              "      <td>turn</td>\n",
              "      <td>99</td>\n",
              "    </tr>\n",
              "  </tbody>\n",
              "</table>\n",
              "<p>100 rows × 2 columns</p>\n",
              "</div>\n",
              "      <button class=\"colab-df-convert\" onclick=\"convertToInteractive('df-6b0000a0-26f3-4cab-917f-8dfb2d161bfa')\"\n",
              "              title=\"Convert this dataframe to an interactive table.\"\n",
              "              style=\"display:none;\">\n",
              "        \n",
              "  <svg xmlns=\"http://www.w3.org/2000/svg\" height=\"24px\"viewBox=\"0 0 24 24\"\n",
              "       width=\"24px\">\n",
              "    <path d=\"M0 0h24v24H0V0z\" fill=\"none\"/>\n",
              "    <path d=\"M18.56 5.44l.94 2.06.94-2.06 2.06-.94-2.06-.94-.94-2.06-.94 2.06-2.06.94zm-11 1L8.5 8.5l.94-2.06 2.06-.94-2.06-.94L8.5 2.5l-.94 2.06-2.06.94zm10 10l.94 2.06.94-2.06 2.06-.94-2.06-.94-.94-2.06-.94 2.06-2.06.94z\"/><path d=\"M17.41 7.96l-1.37-1.37c-.4-.4-.92-.59-1.43-.59-.52 0-1.04.2-1.43.59L10.3 9.45l-7.72 7.72c-.78.78-.78 2.05 0 2.83L4 21.41c.39.39.9.59 1.41.59.51 0 1.02-.2 1.41-.59l7.78-7.78 2.81-2.81c.8-.78.8-2.07 0-2.86zM5.41 20L4 18.59l7.72-7.72 1.47 1.35L5.41 20z\"/>\n",
              "  </svg>\n",
              "      </button>\n",
              "      \n",
              "  <style>\n",
              "    .colab-df-container {\n",
              "      display:flex;\n",
              "      flex-wrap:wrap;\n",
              "      gap: 12px;\n",
              "    }\n",
              "\n",
              "    .colab-df-convert {\n",
              "      background-color: #E8F0FE;\n",
              "      border: none;\n",
              "      border-radius: 50%;\n",
              "      cursor: pointer;\n",
              "      display: none;\n",
              "      fill: #1967D2;\n",
              "      height: 32px;\n",
              "      padding: 0 0 0 0;\n",
              "      width: 32px;\n",
              "    }\n",
              "\n",
              "    .colab-df-convert:hover {\n",
              "      background-color: #E2EBFA;\n",
              "      box-shadow: 0px 1px 2px rgba(60, 64, 67, 0.3), 0px 1px 3px 1px rgba(60, 64, 67, 0.15);\n",
              "      fill: #174EA6;\n",
              "    }\n",
              "\n",
              "    [theme=dark] .colab-df-convert {\n",
              "      background-color: #3B4455;\n",
              "      fill: #D2E3FC;\n",
              "    }\n",
              "\n",
              "    [theme=dark] .colab-df-convert:hover {\n",
              "      background-color: #434B5C;\n",
              "      box-shadow: 0px 1px 3px 1px rgba(0, 0, 0, 0.15);\n",
              "      filter: drop-shadow(0px 1px 2px rgba(0, 0, 0, 0.3));\n",
              "      fill: #FFFFFF;\n",
              "    }\n",
              "  </style>\n",
              "\n",
              "      <script>\n",
              "        const buttonEl =\n",
              "          document.querySelector('#df-6b0000a0-26f3-4cab-917f-8dfb2d161bfa button.colab-df-convert');\n",
              "        buttonEl.style.display =\n",
              "          google.colab.kernel.accessAllowed ? 'block' : 'none';\n",
              "\n",
              "        async function convertToInteractive(key) {\n",
              "          const element = document.querySelector('#df-6b0000a0-26f3-4cab-917f-8dfb2d161bfa');\n",
              "          const dataTable =\n",
              "            await google.colab.kernel.invokeFunction('convertToInteractive',\n",
              "                                                     [key], {});\n",
              "          if (!dataTable) return;\n",
              "\n",
              "          const docLinkHtml = 'Like what you see? Visit the ' +\n",
              "            '<a target=\"_blank\" href=https://colab.research.google.com/notebooks/data_table.ipynb>data table notebook</a>'\n",
              "            + ' to learn more about interactive tables.';\n",
              "          element.innerHTML = '';\n",
              "          dataTable['output_type'] = 'display_data';\n",
              "          await google.colab.output.renderOutput(dataTable, element);\n",
              "          const docLink = document.createElement('div');\n",
              "          docLink.innerHTML = docLinkHtml;\n",
              "          element.appendChild(docLink);\n",
              "        }\n",
              "      </script>\n",
              "    </div>\n",
              "  </div>\n",
              "  "
            ]
          },
          "metadata": {},
          "execution_count": 14
        }
      ]
    },
    {
      "cell_type": "markdown",
      "source": [
        "# **Die Größe von Datensätzen kontrollieren**"
      ],
      "metadata": {
        "id": "tupeI6Pw85_L"
      }
    },
    {
      "cell_type": "code",
      "source": [
        "# Kontrollieren die Größen von verschiedenen Datensätzen\n",
        "print(f'Size of the vocabulary after prprocessing ist: {len(textsloader.vocabulary)}')\n",
        "print(f'Size of train set: {len(train_set[\"tokens\"])}')\n",
        "print(f'Size of val set: {len(val_set[\"tokens\"])}')\n",
        "print(f'Size of test set: {len(test_set[\"test\"][\"tokens\"])}')"
      ],
      "metadata": {
        "colab": {
          "base_uri": "https://localhost:8080/"
        },
        "id": "n1d-5ji3qwE8",
        "outputId": "b65c9213-f808-4a76-a2ba-c231b6bac06b"
      },
      "execution_count": 15,
      "outputs": [
        {
          "output_type": "stream",
          "name": "stdout",
          "text": [
            "Size of the vocabulary after prprocessing ist: 348\n",
            "Size of train set: 150\n",
            "Size of val set: 100\n",
            "Size of test set: 50\n"
          ]
        }
      ]
    },
    {
      "cell_type": "markdown",
      "source": [
        "# **Dokumenten wiederstellen für Word2Vec Embedding**\n",
        "\n",
        "---\n",
        "\n"
      ],
      "metadata": {
        "id": "bxQL5jQtDb1c"
      }
    },
    {
      "cell_type": "code",
      "source": [
        "# re-erstellen von Dokumenten nach der Vorverarbeitungen. Die Dokumenten sind in Wörtern und werden für Word-Embedding Training benutzt\n",
        "docs_tr, docs_t, docs_v = textsloader.get_docs_in_words_for_each_set()\n",
        "train_docs_df = pd.DataFrame()\n",
        "train_docs_df['text-after-preprocessing'] = [' '.join(doc) for doc in docs_tr[:100]]\n",
        "train_docs_df"
      ],
      "metadata": {
        "colab": {
          "base_uri": "https://localhost:8080/",
          "height": 424
        },
        "id": "PDXEEBHfq3Cy",
        "outputId": "917c7a78-da9e-4ac5-f3d3-dca9c3ad679d"
      },
      "execution_count": 16,
      "outputs": [
        {
          "output_type": "execute_result",
          "data": {
            "text/plain": [
              "                             text-after-preprocessing\n",
              "0   article institute nntp posting host article wr...\n",
              "1   nntp posting host newsreader tin version de wr...\n",
              "2   nntp posting host disclaimer expressed disclai...\n",
              "3   article ca ca writes east idea rest world wash...\n",
              "4   file university engineering computer network c...\n",
              "..                                                ...\n",
              "95  university california article apr writes artic...\n",
              "96  james space news nntp posting host reply artic...\n",
              "97  cc nntp posting host cc reply cc university ar...\n",
              "98  jim article reply distribution usa computer nn...\n",
              "99  james california state university problems jam...\n",
              "\n",
              "[100 rows x 1 columns]"
            ],
            "text/html": [
              "\n",
              "  <div id=\"df-3d342f68-6fc7-4676-a299-f8f8acea383f\">\n",
              "    <div class=\"colab-df-container\">\n",
              "      <div>\n",
              "<style scoped>\n",
              "    .dataframe tbody tr th:only-of-type {\n",
              "        vertical-align: middle;\n",
              "    }\n",
              "\n",
              "    .dataframe tbody tr th {\n",
              "        vertical-align: top;\n",
              "    }\n",
              "\n",
              "    .dataframe thead th {\n",
              "        text-align: right;\n",
              "    }\n",
              "</style>\n",
              "<table border=\"1\" class=\"dataframe\">\n",
              "  <thead>\n",
              "    <tr style=\"text-align: right;\">\n",
              "      <th></th>\n",
              "      <th>text-after-preprocessing</th>\n",
              "    </tr>\n",
              "  </thead>\n",
              "  <tbody>\n",
              "    <tr>\n",
              "      <th>0</th>\n",
              "      <td>article institute nntp posting host article wr...</td>\n",
              "    </tr>\n",
              "    <tr>\n",
              "      <th>1</th>\n",
              "      <td>nntp posting host newsreader tin version de wr...</td>\n",
              "    </tr>\n",
              "    <tr>\n",
              "      <th>2</th>\n",
              "      <td>nntp posting host disclaimer expressed disclai...</td>\n",
              "    </tr>\n",
              "    <tr>\n",
              "      <th>3</th>\n",
              "      <td>article ca ca writes east idea rest world wash...</td>\n",
              "    </tr>\n",
              "    <tr>\n",
              "      <th>4</th>\n",
              "      <td>file university engineering computer network c...</td>\n",
              "    </tr>\n",
              "    <tr>\n",
              "      <th>...</th>\n",
              "      <td>...</td>\n",
              "    </tr>\n",
              "    <tr>\n",
              "      <th>95</th>\n",
              "      <td>university california article apr writes artic...</td>\n",
              "    </tr>\n",
              "    <tr>\n",
              "      <th>96</th>\n",
              "      <td>james space news nntp posting host reply artic...</td>\n",
              "    </tr>\n",
              "    <tr>\n",
              "      <th>97</th>\n",
              "      <td>cc nntp posting host cc reply cc university ar...</td>\n",
              "    </tr>\n",
              "    <tr>\n",
              "      <th>98</th>\n",
              "      <td>jim article reply distribution usa computer nn...</td>\n",
              "    </tr>\n",
              "    <tr>\n",
              "      <th>99</th>\n",
              "      <td>james california state university problems jam...</td>\n",
              "    </tr>\n",
              "  </tbody>\n",
              "</table>\n",
              "<p>100 rows × 1 columns</p>\n",
              "</div>\n",
              "      <button class=\"colab-df-convert\" onclick=\"convertToInteractive('df-3d342f68-6fc7-4676-a299-f8f8acea383f')\"\n",
              "              title=\"Convert this dataframe to an interactive table.\"\n",
              "              style=\"display:none;\">\n",
              "        \n",
              "  <svg xmlns=\"http://www.w3.org/2000/svg\" height=\"24px\"viewBox=\"0 0 24 24\"\n",
              "       width=\"24px\">\n",
              "    <path d=\"M0 0h24v24H0V0z\" fill=\"none\"/>\n",
              "    <path d=\"M18.56 5.44l.94 2.06.94-2.06 2.06-.94-2.06-.94-.94-2.06-.94 2.06-2.06.94zm-11 1L8.5 8.5l.94-2.06 2.06-.94-2.06-.94L8.5 2.5l-.94 2.06-2.06.94zm10 10l.94 2.06.94-2.06 2.06-.94-2.06-.94-.94-2.06-.94 2.06-2.06.94z\"/><path d=\"M17.41 7.96l-1.37-1.37c-.4-.4-.92-.59-1.43-.59-.52 0-1.04.2-1.43.59L10.3 9.45l-7.72 7.72c-.78.78-.78 2.05 0 2.83L4 21.41c.39.39.9.59 1.41.59.51 0 1.02-.2 1.41-.59l7.78-7.78 2.81-2.81c.8-.78.8-2.07 0-2.86zM5.41 20L4 18.59l7.72-7.72 1.47 1.35L5.41 20z\"/>\n",
              "  </svg>\n",
              "      </button>\n",
              "      \n",
              "  <style>\n",
              "    .colab-df-container {\n",
              "      display:flex;\n",
              "      flex-wrap:wrap;\n",
              "      gap: 12px;\n",
              "    }\n",
              "\n",
              "    .colab-df-convert {\n",
              "      background-color: #E8F0FE;\n",
              "      border: none;\n",
              "      border-radius: 50%;\n",
              "      cursor: pointer;\n",
              "      display: none;\n",
              "      fill: #1967D2;\n",
              "      height: 32px;\n",
              "      padding: 0 0 0 0;\n",
              "      width: 32px;\n",
              "    }\n",
              "\n",
              "    .colab-df-convert:hover {\n",
              "      background-color: #E2EBFA;\n",
              "      box-shadow: 0px 1px 2px rgba(60, 64, 67, 0.3), 0px 1px 3px 1px rgba(60, 64, 67, 0.15);\n",
              "      fill: #174EA6;\n",
              "    }\n",
              "\n",
              "    [theme=dark] .colab-df-convert {\n",
              "      background-color: #3B4455;\n",
              "      fill: #D2E3FC;\n",
              "    }\n",
              "\n",
              "    [theme=dark] .colab-df-convert:hover {\n",
              "      background-color: #434B5C;\n",
              "      box-shadow: 0px 1px 3px 1px rgba(0, 0, 0, 0.15);\n",
              "      filter: drop-shadow(0px 1px 2px rgba(0, 0, 0, 0.3));\n",
              "      fill: #FFFFFF;\n",
              "    }\n",
              "  </style>\n",
              "\n",
              "      <script>\n",
              "        const buttonEl =\n",
              "          document.querySelector('#df-3d342f68-6fc7-4676-a299-f8f8acea383f button.colab-df-convert');\n",
              "        buttonEl.style.display =\n",
              "          google.colab.kernel.accessAllowed ? 'block' : 'none';\n",
              "\n",
              "        async function convertToInteractive(key) {\n",
              "          const element = document.querySelector('#df-3d342f68-6fc7-4676-a299-f8f8acea383f');\n",
              "          const dataTable =\n",
              "            await google.colab.kernel.invokeFunction('convertToInteractive',\n",
              "                                                     [key], {});\n",
              "          if (!dataTable) return;\n",
              "\n",
              "          const docLinkHtml = 'Like what you see? Visit the ' +\n",
              "            '<a target=\"_blank\" href=https://colab.research.google.com/notebooks/data_table.ipynb>data table notebook</a>'\n",
              "            + ' to learn more about interactive tables.';\n",
              "          element.innerHTML = '';\n",
              "          dataTable['output_type'] = 'display_data';\n",
              "          await google.colab.output.renderOutput(dataTable, element);\n",
              "          const docLink = document.createElement('div');\n",
              "          docLink.innerHTML = docLinkHtml;\n",
              "          element.appendChild(docLink);\n",
              "        }\n",
              "      </script>\n",
              "    </div>\n",
              "  </div>\n",
              "  "
            ]
          },
          "metadata": {},
          "execution_count": 16
        }
      ]
    },
    {
      "cell_type": "markdown",
      "source": [
        "# **Word-Embedding trainieren mit dem Traindatensatz**"
      ],
      "metadata": {
        "id": "Ds_KuUTQrK5P"
      }
    },
    {
      "cell_type": "code",
      "source": [
        "from src.embedding import WordEmbeddingCreator\n",
        "save_path = Path.joinpath(Path.cwd(), \"vocab_embedding.txt\")\n",
        "wb_creator = WordEmbeddingCreator(model_name=\"cbow\", documents = docs_tr, save_path= save_path)\n",
        "wb_creator.train(min_count=0, embedding_size= 10)\n",
        "vocab = list(word2id.keys())\n",
        "wb_creator.create_and_save_vocab_embedding(vocab, save_path)"
      ],
      "metadata": {
        "colab": {
          "base_uri": "https://localhost:8080/"
        },
        "id": "KBexKIVf8Qs5",
        "outputId": "5a761ab0-4ed7-4428-9a06-04c208abea7e"
      },
      "execution_count": 17,
      "outputs": [
        {
          "output_type": "stream",
          "name": "stdout",
          "text": [
            "word-embedding train begins\n",
            "word-embedding train finished\n",
            "length of vocabulary from word-embedding model 348\n",
            "length of the vocabulary of prepraring-dataset-vocabulary: 348\n"
          ]
        },
        {
          "output_type": "stream",
          "name": "stderr",
          "text": [
            "100%|██████████| 348/348 [00:00<00:00, 16845.57it/s]\n"
          ]
        },
        {
          "output_type": "execute_result",
          "data": {
            "text/plain": [
              "True"
            ]
          },
          "metadata": {},
          "execution_count": 17
        }
      ]
    },
    {
      "cell_type": "code",
      "source": [
        "v = list(wb_creator.model.wv.vocab)[0]\n",
        "vec = list(wb_creator.model.wv.__getitem__(v))\n",
        "print(f'word-embedding of the word-- {v}: ')\n",
        "print(f'vector: {vec}')\n",
        "print(f'dim of vector: {len(vec)}')"
      ],
      "metadata": {
        "colab": {
          "base_uri": "https://localhost:8080/"
        },
        "id": "f23xipx7MSV4",
        "outputId": "126733fa-8394-4428-8d2e-f19b305867c0"
      },
      "execution_count": 18,
      "outputs": [
        {
          "output_type": "stream",
          "name": "stdout",
          "text": [
            "word-embedding of the word-- article: \n",
            "vector: [-0.020197343, 0.041284982, -0.053527184, 0.14206944, 0.12212627, 0.10857858, 0.08356705, -0.06387062, 0.22258864, 0.3019734]\n",
            "dim of vector: 10\n"
          ]
        }
      ]
    },
    {
      "cell_type": "markdown",
      "source": [
        "# **Word-Embeddings visualieren als Beispiel**\n"
      ],
      "metadata": {
        "id": "l53_jkUS-hl-"
      }
    },
    {
      "cell_type": "code",
      "source": [
        "# read word-embedding files\n",
        "with open(save_path) as f:\n",
        "  lines = f.readlines()\n",
        "embedding_data = []\n",
        "words_data = []\n",
        "for t in lines:\n",
        "  w = t.split(\"\\t\")[0]\n",
        "  v = [float(e) for e in t.split(\"\\t\")[1].split(\" \")]\n",
        "  words_data.append(w)\n",
        "  embedding_data.append(v)"
      ],
      "metadata": {
        "id": "o96LsIWkNrZS"
      },
      "execution_count": 19,
      "outputs": []
    },
    {
      "cell_type": "code",
      "source": [
        "# clustering words with KMeans and Words-Vectors\n",
        "kmeans = cluster.KMeans(n_clusters=10)\n",
        "kmeans.fit(embedding_data)\n",
        " \n",
        "labels = kmeans.labels_\n",
        "centroids = kmeans.cluster_centers_\n",
        " \n",
        "print (\"Cluster id labels for inputted data\")\n",
        "print (labels)\n",
        "print (\"Centroids data\")\n",
        "print (centroids)"
      ],
      "metadata": {
        "colab": {
          "base_uri": "https://localhost:8080/"
        },
        "id": "99hYOKPwB5aw",
        "outputId": "c21318c0-0a32-41e3-a26d-82d39f2b3342"
      },
      "execution_count": 20,
      "outputs": [
        {
          "output_type": "stream",
          "name": "stdout",
          "text": [
            "Cluster id labels for inputted data\n",
            "[5 3 5 5 5 1 0 9 8 6 7 4 4 7 4 6 5 0 7 9 7 7 4 9 9 5 2 1 1 3 9 8 5 5 5 4 1\n",
            " 4 9 6 8 7 8 4 3 7 5 9 7 4 5 7 9 4 8 7 6 0 6 7 4 1 0 8 6 3 0 2 4 8 4 8 9 4\n",
            " 0 2 0 1 4 9 6 7 4 4 8 0 3 4 0 4 7 0 4 6 5 9 4 0 8 7 7 7 8 6 5 4 0 7 0 7 0\n",
            " 8 0 4 9 7 7 6 6 7 1 0 9 2 3 8 4 4 3 3 8 8 6 0 1 7 1 9 6 4 7 4 3 3 9 1 1 3\n",
            " 8 0 8 7 9 8 2 6 1 1 9 3 6 9 9 7 4 0 6 1 9 6 1 6 6 7 4 9 0 0 4 4 9 3 3 0 1\n",
            " 0 2 9 9 9 9 1 3 8 1 3 8 7 2 3 6 2 3 6 3 7 7 9 1 3 6 9 1 0 4 3 7 0 3 5 4 3\n",
            " 2 1 2 2 7 1 2 1 2 9 4 2 3 8 1 9 7 1 6 0 3 9 3 9 3 3 2 9 4 3 3 6 9 0 9 0 8\n",
            " 6 5 4 9 7 6 4 6 7 9 3 3 8 6 4 4 4 6 3 1 3 4 0 0 0 8 6 2 1 8 2 2 0 0 3 9 8\n",
            " 0 4 6 8 8 8 1 2 3 8 3 9 6 7 9 3 7 3 0 2 9 2 0 0 8 0 6 2 8 3 6 7 0 8 3 2 8\n",
            " 3 3 0 6 0 7 0 2 7 0 2 6 9 3 3]\n",
            "Centroids data\n",
            "[[-0.00939792  0.01633509 -0.00320749  0.0543278   0.07340219  0.04369927\n",
            "   0.03705035 -0.04072507  0.06410781  0.09952773]\n",
            " [-0.05341788  0.0288578  -0.08216598  0.09082107  0.09640938  0.05582194\n",
            "   0.04887861 -0.06703641  0.14821184  0.18388547]\n",
            " [-0.02953012  0.02426654 -0.03389093  0.03413378  0.03838155  0.0331257\n",
            "  -0.01381304 -0.05358225  0.08606036  0.07008189]\n",
            " [-0.01167497  0.00424362 -0.01515006  0.01820535  0.02681535  0.0269372\n",
            "   0.02698231 -0.01545119  0.04066924  0.05055171]\n",
            " [-0.04113072  0.03545383 -0.05082822  0.10789369  0.09010708  0.07959595\n",
            "   0.02450094 -0.08394414  0.11663017  0.16150997]\n",
            " [-0.06010727  0.05582769 -0.06827988  0.14304888  0.13674198  0.08857447\n",
            "   0.07483227 -0.09144191  0.19773121  0.25229116]\n",
            " [-0.01200651  0.02654052 -0.03387501  0.10173738  0.05520202  0.0666692\n",
            "   0.05282265 -0.04825867  0.14280606  0.14835935]\n",
            " [-0.04141821  0.04405568 -0.0545441   0.04861528  0.07361056  0.0492026\n",
            "   0.0470917  -0.04908435  0.11626534  0.13471457]\n",
            " [-0.03489753  0.04377116 -0.04485971  0.08937652  0.05217409  0.04368653\n",
            "   0.01811572 -0.02211102  0.08624664  0.09226397]\n",
            " [-0.02463662  0.0003129  -0.03848447  0.0493865   0.04054778  0.04345458\n",
            "   0.00589325 -0.04362437  0.10389677  0.13209772]]\n"
          ]
        }
      ]
    },
    {
      "cell_type": "code",
      "source": [
        "# dimension reduction with umap\n",
        "start = time.time()\n",
        "reducer = umap.UMAP(random_state=42,n_components=3)\n",
        "embedding = reducer.fit_transform(embedding_data)\n",
        "print('Duration: {} seconds'.format(time.time() - start))\n",
        "\n",
        "# show samples after dim-reduction in dataframe\n",
        "wb = pd.DataFrame(embedding, columns=['x', 'y', 'z'])\n",
        "wb['word'] = words_data\n",
        "wb['cluster'] = ['cluster ' + str(c) for c in labels]"
      ],
      "metadata": {
        "colab": {
          "base_uri": "https://localhost:8080/"
        },
        "id": "LAMgZ9aIE9A6",
        "outputId": "64e43b07-cef1-4234-dc3c-07d064fc8092"
      },
      "execution_count": 21,
      "outputs": [
        {
          "output_type": "stream",
          "name": "stderr",
          "text": [
            "/usr/local/lib/python3.7/dist-packages/numba/np/ufunc/parallel.py:363: NumbaWarning: The TBB threading layer requires TBB version 2019.5 or later i.e., TBB_INTERFACE_VERSION >= 11005. Found TBB_INTERFACE_VERSION = 9107. The TBB threading layer is disabled.\n",
            "  warnings.warn(problem)\n"
          ]
        },
        {
          "output_type": "stream",
          "name": "stdout",
          "text": [
            "Duration: 18.07043766975403 seconds\n"
          ]
        }
      ]
    },
    {
      "cell_type": "code",
      "source": [
        "# visualization\n",
        "fig = px.scatter_3d(wb, \n",
        "                    text = wb['word'],\n",
        "                    x='x', y='y', z='z',\n",
        "                    color = wb['cluster'],\n",
        "                    title =\"word-embedding-samples\")\n",
        "fig.show()"
      ],
      "metadata": {
        "colab": {
          "base_uri": "https://localhost:8080/",
          "height": 542
        },
        "id": "spomMOt_yy0W",
        "outputId": "c5b3bfc1-f9e7-4dde-b4f0-9fe05d32f7ed"
      },
      "execution_count": 22,
      "outputs": [
        {
          "output_type": "display_data",
          "data": {
            "text/html": [
              "<html>\n",
              "<head><meta charset=\"utf-8\" /></head>\n",
              "<body>\n",
              "    <div>            <script src=\"https://cdnjs.cloudflare.com/ajax/libs/mathjax/2.7.5/MathJax.js?config=TeX-AMS-MML_SVG\"></script><script type=\"text/javascript\">if (window.MathJax) {MathJax.Hub.Config({SVG: {font: \"STIX-Web\"}});}</script>                <script type=\"text/javascript\">window.PlotlyConfig = {MathJaxConfig: 'local'};</script>\n",
              "        <script src=\"https://cdn.plot.ly/plotly-2.11.1.min.js\"></script>                <div id=\"60e8b726-961c-4e47-b3db-699e6ab7c65c\" class=\"plotly-graph-div\" style=\"height:525px; width:100%;\"></div>            <script type=\"text/javascript\">                                    window.PLOTLYENV=window.PLOTLYENV || {};                                    if (document.getElementById(\"60e8b726-961c-4e47-b3db-699e6ab7c65c\")) {                    Plotly.newPlot(                        \"60e8b726-961c-4e47-b3db-699e6ab7c65c\",                        [{\"hovertemplate\":\"cluster=cluster 5<br>x=%{x}<br>y=%{y}<br>z=%{z}<br>word=%{text}<extra></extra>\",\"legendgroup\":\"cluster 5\",\"marker\":{\"color\":\"#636efa\",\"symbol\":\"circle\"},\"mode\":\"markers+text\",\"name\":\"cluster 5\",\"scene\":\"scene\",\"showlegend\":true,\"text\":[\"article\",\"nntp\",\"posting\",\"host\",\"people\",\"version\",\"time\",\"years\",\"computer\",\"writes\",\"data\",\"windows\",\"state\",\"space\",\"god\"],\"x\":[2.4941394329071045,2.4020016193389893,2.3900516033172607,2.507749080657959,2.4481303691864014,2.9319915771484375,2.386078357696533,2.538935422897339,2.4468958377838135,2.2695369720458984,2.4933886528015137,2.4414174556732178,2.5439329147338867,2.378344774246216,2.406125068664551],\"y\":[10.857150077819824,10.703944206237793,10.684287071228027,10.817255973815918,10.833544731140137,10.682161331176758,10.856841087341309,10.317971229553223,10.662649154663086,10.957656860351562,10.737265586853027,10.76965618133545,10.68825626373291,10.930227279663086,10.808120727539062],\"z\":[7.0998311042785645,7.109453201293945,6.686070442199707,7.1300048828125,7.240268230438232,6.6979475021362305,7.2219438552856445,7.146321773529053,6.407959461212158,7.291678428649902,7.0082855224609375,7.196513652801514,6.828246593475342,7.225626468658447,7.044066905975342],\"type\":\"scatter3d\"},{\"hovertemplate\":\"cluster=cluster 3<br>x=%{x}<br>y=%{y}<br>z=%{z}<br>word=%{text}<extra></extra>\",\"legendgroup\":\"cluster 3\",\"marker\":{\"color\":\"#EF553B\",\"symbol\":\"circle\"},\"mode\":\"markers+text\",\"name\":\"cluster 3\",\"scene\":\"scene\",\"showlegend\":true,\"text\":[\"institute\",\"technical\",\"expressed\",\"east\",\"stop\",\"light\",\"calls\",\"hell\",\"continue\",\"change\",\"book\",\"thinking\",\"written\",\"corporation\",\"told\",\"ram\",\"appreciated\",\"sell\",\"rights\",\"contact\",\"due\",\"type\",\"originator\",\"canada\",\"order\",\"exists\",\"department\",\"dept\",\"common\",\"advance\",\"home\",\"assuming\",\"worse\",\"sale\",\"history\",\"figure\",\"college\",\"set\",\"gas\",\"coming\",\"david\",\"service\",\"dod\",\"religious\",\"international\"],\"x\":[5.530605316162109,4.347779273986816,5.737938404083252,5.260402202606201,5.542057991027832,5.48392391204834,5.320433616638184,5.535126209259033,4.626490592956543,5.612588882446289,4.99357271194458,5.070658206939697,4.53212308883667,4.225525856018066,4.101964473724365,4.889150142669678,5.778372764587402,4.783090114593506,5.173338890075684,4.0293354988098145,4.738392353057861,5.60590124130249,5.653355598449707,5.797709941864014,4.553952693939209,5.781066417694092,5.198741436004639,5.6026129722595215,4.890751838684082,4.343909740447998,5.8417158126831055,5.241166591644287,4.940283298492432,5.619766712188721,4.089168071746826,5.839549541473389,4.439172267913818,5.073950290679932,4.885798931121826,5.819103240966797,4.898708820343018,5.180491924285889,4.81744909286499,4.8363494873046875,4.785272598266602],\"y\":[7.943297386169434,6.483018398284912,6.291768550872803,6.442526817321777,6.645480155944824,7.092383861541748,6.56603479385376,6.900646686553955,6.407222270965576,7.079016208648682,6.755682945251465,7.017402172088623,6.744075298309326,6.266581058502197,6.579798698425293,6.970312118530273,6.612778663635254,6.805349349975586,6.976888656616211,6.310354709625244,6.809525489807129,7.300588130950928,6.258473873138428,6.396131992340088,6.730607986450195,6.48062801361084,6.75507926940918,6.829153060913086,7.314872741699219,6.529207229614258,6.361600399017334,6.972259044647217,6.508910179138184,6.545654773712158,6.325628280639648,7.315966606140137,6.3734307289123535,6.917335033416748,6.308906555175781,6.551927089691162,7.276607036590576,6.658979415893555,6.754432201385498,6.3571014404296875,6.654616355895996],\"z\":[3.5025343894958496,2.715367555618286,3.374986171722412,3.1168947219848633,2.5801784992218018,2.984461545944214,2.955843448638916,2.945023775100708,2.563934326171875,2.6724860668182373,2.8539576530456543,2.387357234954834,2.2873892784118652,2.7064902782440186,2.919039249420166,2.3096718788146973,2.7949440479278564,2.702326774597168,2.7844767570495605,2.679356813430786,2.399397611618042,3.155690908432007,2.9019508361816406,2.813493490219116,2.653291702270508,2.7624518871307373,2.5086615085601807,2.6425366401672363,2.5438039302825928,2.4022419452667236,2.9618911743164062,3.2709665298461914,2.3509697914123535,3.321606397628784,2.6966066360473633,3.3579299449920654,2.813422441482544,2.5162065029144287,2.475954532623291,2.764230251312256,2.8643407821655273,2.5157577991485596,2.3568015098571777,2.400552272796631,2.8902552127838135],\"type\":\"scatter3d\"},{\"hovertemplate\":\"cluster=cluster 1<br>x=%{x}<br>y=%{y}<br>z=%{z}<br>word=%{text}<extra></extra>\",\"legendgroup\":\"cluster 1\",\"marker\":{\"color\":\"#00cc96\",\"symbol\":\"circle\"},\"mode\":\"markers+text\",\"name\":\"cluster 1\",\"scene\":\"scene\",\"showlegend\":true,\"text\":[\"wrote\",\"number\",\"read\",\"question\",\"software\",\"view\",\"group\",\"buy\",\"money\",\"make\",\"sense\",\"real\",\"information\",\"system\",\"case\",\"day\",\"board\",\"chip\",\"science\",\"based\",\"results\",\"fact\",\"things\",\"power\",\"source\",\"end\",\"apr\",\"access\"],\"x\":[3.73089861869812,4.257262229919434,4.7669172286987305,3.201864004135132,2.6689043045043945,2.91796875,2.9346766471862793,3.9759914875030518,3.043196678161621,2.510356903076172,3.1015570163726807,2.910691261291504,2.728370428085327,2.944650173187256,3.2665133476257324,2.8069467544555664,3.6389667987823486,3.153625249862671,3.382840633392334,3.110811233520508,3.101209878921509,4.507960796356201,2.6995837688446045,2.7750532627105713,3.3955507278442383,2.9572927951812744,3.5477523803710938,2.7725841999053955],\"y\":[10.464115142822266,9.598349571228027,9.397890090942383,9.989086151123047,10.012540817260742,9.865942001342773,10.016510963439941,9.25618839263916,9.732247352600098,10.575788497924805,9.756940841674805,10.49869441986084,9.311102867126465,9.846623420715332,10.694704055786133,10.006246566772461,10.59830093383789,9.930335998535156,9.167651176452637,10.150338172912598,9.413885116577148,9.271011352539062,9.860998153686523,9.84211540222168,10.59287166595459,9.773514747619629,10.373974800109863,10.436747550964355],\"z\":[5.967550754547119,6.011473178863525,4.655257701873779,6.669060230255127,6.559636116027832,6.347598075866699,6.900421619415283,5.808591365814209,6.5806450843811035,6.293777942657471,5.1179609298706055,6.1347174644470215,6.035489559173584,6.758082389831543,6.573486804962158,6.475980281829834,6.469847679138184,6.416325092315674,5.658023834228516,5.6595048904418945,6.813849449157715,6.104700088500977,6.252010822296143,6.434686183929443,6.466812610626221,6.63814640045166,5.973069190979004,6.462601184844971],\"type\":\"scatter3d\"},{\"hovertemplate\":\"cluster=cluster 0<br>x=%{x}<br>y=%{y}<br>z=%{z}<br>word=%{text}<extra></extra>\",\"legendgroup\":\"cluster 0\",\"marker\":{\"color\":\"#ab63fa\",\"symbol\":\"circle\"},\"mode\":\"markers+text\",\"name\":\"cluster 0\",\"scene\":\"scene\",\"showlegend\":true,\"text\":[\"application\",\"receive\",\"job\",\"wanted\",\"idea\",\"word\",\"point\",\"hold\",\"jim\",\"network\",\"internet\",\"required\",\"hope\",\"asked\",\"situation\",\"claim\",\"interesting\",\"nice\",\"full\",\"remember\",\"note\",\"late\",\"simply\",\"feel\",\"display\",\"population\",\"org\",\"christian\",\"hand\",\"questions\",\"dos\",\"interest\",\"response\",\"disk\",\"write\",\"tom\",\"project\",\"school\",\"bill\",\"mike\",\"matter\",\"love\",\"deleted\"],\"x\":[4.855337619781494,3.8892571926116943,4.945274829864502,4.182957649230957,4.62970495223999,4.5727996826171875,3.709183692932129,3.6229591369628906,3.7364425659179688,3.9283580780029297,4.8862810134887695,4.273390769958496,4.966540813446045,3.874926805496216,5.094836235046387,5.088106632232666,4.64186954498291,4.7227301597595215,3.969944477081299,3.9554710388183594,3.782277822494507,4.165387153625488,4.915884017944336,3.6928272247314453,4.400723457336426,3.9181666374206543,4.789338111877441,3.9180233478546143,4.4091796875,3.927133083343506,3.6727826595306396,4.593624591827393,3.797034740447998,3.964686393737793,4.66705846786499,4.317875862121582,4.5476155281066895,4.165984153747559,4.393889904022217,3.9514050483703613,3.96563720703125,3.84682035446167,4.184473991394043],\"y\":[6.602794647216797,6.711900234222412,6.11572265625,7.037571430206299,6.889622211456299,6.887083053588867,7.46017599105835,6.874687671661377,6.59881067276001,6.28672456741333,6.456533908843994,6.631730079650879,6.009043216705322,7.026360988616943,6.415544509887695,6.361274242401123,6.4602251052856445,6.081020355224609,6.14703893661499,6.532466411590576,6.506405353546143,6.344066619873047,6.575694561004639,7.109097480773926,7.428127288818359,7.190327167510986,6.652097702026367,6.810725688934326,6.443925857543945,6.741018772125244,6.974649906158447,6.770511627197266,6.480844974517822,6.415833473205566,7.411786079406738,7.89853572845459,5.964383125305176,6.387869834899902,6.994868278503418,6.318262577056885,6.826634883880615,6.907939434051514,6.540930271148682],\"z\":[4.127477645874023,2.6996731758117676,4.203609466552734,4.564148426055908,3.836700201034546,3.823641300201416,4.215153694152832,3.42048978805542,4.0828938484191895,2.90885066986084,4.390996932983398,4.236044406890869,4.192071914672852,3.120710849761963,3.503384590148926,4.018742084503174,4.106265068054199,4.449110984802246,3.9689509868621826,4.685425281524658,3.0759646892547607,4.625667095184326,3.834537982940674,3.7609729766845703,3.157951593399048,4.854721546173096,4.158947944641113,4.816684722900391,4.0296783447265625,4.7633748054504395,3.342775821685791,4.055469036102295,4.0092973709106445,4.477071285247803,2.709472894668579,5.8768630027771,4.39069938659668,3.897545576095581,3.4861578941345215,3.8105380535125732,3.1189939975738525,3.204655647277832,3.0575778484344482],\"type\":\"scatter3d\"},{\"hovertemplate\":\"cluster=cluster 9<br>x=%{x}<br>y=%{y}<br>z=%{z}<br>word=%{text}<extra></extra>\",\"legendgroup\":\"cluster 9\",\"marker\":{\"color\":\"#FFA15A\",\"symbol\":\"circle\"},\"mode\":\"markers+text\",\"name\":\"cluster 9\",\"scene\":\"scene\",\"showlegend\":true,\"text\":[\"thought\",\"stuff\",\"newsreader\",\"tin\",\"makes\",\"pretty\",\"hardware\",\"easy\",\"guess\",\"person\",\"hp\",\"cost\",\"months\",\"top\",\"faster\",\"guy\",\"california\",\"city\",\"date\",\"miles\",\"low\",\"reply\",\"memory\",\"fine\",\"game\",\"card\",\"keywords\",\"wrong\",\"big\",\"general\",\"today\",\"wondering\",\"effect\",\"worth\",\"religion\",\"put\",\"fax\",\"side\",\"care\",\"laboratory\",\"start\",\"design\"],\"x\":[4.921161651611328,5.21111536026001,4.8957061767578125,5.014925956726074,4.620655536651611,4.82847261428833,4.806191921234131,4.338703155517578,4.452498435974121,3.636486530303955,4.689390182495117,4.896578788757324,4.881988525390625,4.507030963897705,4.43064022064209,4.212531089782715,4.822760581970215,5.4431047439575195,5.146241664886475,5.143595218658447,5.258510589599609,5.121700763702393,5.225280284881592,4.1534624099731445,5.314408302307129,5.196549892425537,4.622653484344482,5.147516250610352,4.52393102645874,4.7767229080200195,5.011308193206787,4.803071022033691,4.810239791870117,4.56051778793335,5.003959655761719,4.650106906890869,4.658029556274414,4.801645755767822,4.528775691986084,4.421379089355469,5.247467041015625,4.742741107940674],\"y\":[8.264059066772461,7.85388708114624,8.555049896240234,8.68258285522461,7.635196685791016,8.612393379211426,9.305543899536133,7.784897327423096,8.28504753112793,7.544351577758789,8.816768646240234,9.122849464416504,8.24991226196289,8.70197868347168,8.861177444458008,8.21761703491211,9.283768653869629,8.143538475036621,6.65664529800415,7.784127712249756,7.915641784667969,8.04086685180664,8.37949275970459,8.070274353027344,8.253780364990234,8.525297164916992,8.463043212890625,7.823787212371826,8.559721946716309,7.574019432067871,8.496134757995605,9.217708587646484,8.030755996704102,9.322793006896973,8.393177032470703,7.646889686584473,8.347002983093262,9.18319320678711,7.758461952209473,6.838366985321045,8.292348861694336,8.101420402526855],\"z\":[4.69586706161499,5.334019184112549,3.7787628173828125,3.8974051475524902,3.8117098808288574,5.45355749130249,4.576581954956055,5.051421165466309,3.9491074085235596,5.36663293838501,4.574021339416504,4.8459553718566895,4.757421970367432,4.70778226852417,5.867161750793457,3.8500266075134277,4.6836347579956055,3.926086187362671,4.411823749542236,5.178196907043457,4.7887492179870605,5.084037780761719,4.057241916656494,4.034520626068115,4.448814392089844,4.619208335876465,3.659334897994995,4.600611686706543,5.69920539855957,3.8414502143859863,3.770705223083496,4.379624366760254,3.451627254486084,4.628767967224121,3.756849527359009,3.708076000213623,3.624924421310425,4.445188045501709,4.260223388671875,4.172745704650879,4.489285945892334,3.6068546772003174],\"type\":\"scatter3d\"},{\"hovertemplate\":\"cluster=cluster 8<br>x=%{x}<br>y=%{y}<br>z=%{z}<br>word=%{text}<extra></extra>\",\"legendgroup\":\"cluster 8\",\"marker\":{\"color\":\"#19d3f3\",\"symbol\":\"circle\"},\"mode\":\"markers+text\",\"name\":\"cluster 8\",\"scene\":\"scene\",\"showlegend\":true,\"text\":[\"net\",\"week\",\"thing\",\"robert\",\"pc\",\"box\",\"washington\",\"government\",\"national\",\"address\",\"single\",\"similar\",\"james\",\"man\",\"experience\",\"reason\",\"interested\",\"related\",\"original\",\"taking\",\"children\",\"open\",\"mentioned\",\"ms\",\"sci\",\"copy\",\"short\",\"send\",\"possibly\",\"current\",\"bike\",\"result\",\"understanding\",\"parts\"],\"x\":[4.829319477081299,5.165346622467041,5.13409948348999,5.23726224899292,5.521049499511719,4.634869575500488,4.27912712097168,5.281548023223877,2.8595292568206787,4.524032115936279,3.4501161575317383,4.813088417053223,5.241714954376221,4.1166486740112305,4.7697038650512695,5.3754472732543945,4.932632923126221,4.7340545654296875,5.465847969055176,5.335801124572754,3.490985155105591,5.288125514984131,3.407017230987549,5.2510199546813965,5.42220401763916,4.800692081451416,5.406513214111328,4.456979274749756,3.9108669757843018,4.572757244110107,3.8613100051879883,4.697908878326416,4.851142883300781,5.233158111572266],\"y\":[5.986443042755127,7.558443069458008,7.792436599731445,7.444498062133789,8.187688827514648,6.941058158874512,6.663573741912842,6.627928256988525,8.004410743713379,6.6796112060546875,8.06241226196289,7.972746849060059,8.106103897094727,6.473069667816162,7.427300453186035,8.049428939819336,7.583026885986328,6.046689510345459,8.203463554382324,8.115145683288574,7.584628582000732,6.2444000244140625,7.893621921539307,8.11992073059082,8.295578002929688,8.239580154418945,8.012742042541504,7.100530624389648,6.739936351776123,8.270768165588379,7.953778266906738,7.268579959869385,8.275460243225098,8.227981567382812],\"z\":[4.44926643371582,3.002035140991211,5.30280876159668,4.62372350692749,6.0830302238464355,4.368843078613281,4.452378273010254,4.494171142578125,4.949530601501465,3.9179646968841553,4.485866546630859,5.938565254211426,5.851657867431641,4.710790157318115,3.9782819747924805,5.969943523406982,2.9179296493530273,4.624602794647217,6.1792521476745605,5.952549457550049,4.076103687286377,4.288891792297363,4.371453762054443,5.760335445404053,6.225893497467041,5.427356243133545,6.062848091125488,4.581161022186279,3.237847328186035,5.272253036499023,4.497498512268066,4.509272575378418,5.340721130371094,5.9650373458862305],\"type\":\"scatter3d\"},{\"hovertemplate\":\"cluster=cluster 6<br>x=%{x}<br>y=%{y}<br>z=%{z}<br>word=%{text}<extra></extra>\",\"legendgroup\":\"cluster 6\",\"marker\":{\"color\":\"#FF6692\",\"symbol\":\"circle\"},\"mode\":\"markers+text\",\"name\":\"cluster 6\",\"scene\":\"scene\",\"showlegend\":true,\"text\":[\"mail\",\"bit\",\"place\",\"good\",\"sound\",\"ca\",\"jews\",\"program\",\"year\",\"couple\",\"pay\",\"ago\",\"speed\",\"important\",\"small\",\"add\",\"price\",\"total\",\"find\",\"distribution\",\"cs\",\"technology\",\"days\",\"control\",\"bible\",\"key\",\"mac\",\"hear\",\"ibm\",\"nasa\",\"understand\",\"au\",\"class\",\"support\",\"sun\",\"truth\"],\"x\":[3.9546029567718506,3.8059210777282715,4.388283729553223,2.92242693901062,5.101227760314941,3.607862949371338,2.4909300804138184,2.548191785812378,2.566779613494873,2.7387475967407227,2.501613140106201,2.7823355197906494,4.271317481994629,4.492756366729736,2.617399215698242,4.639083385467529,5.414642333984375,3.88614821434021,2.8992886543273926,4.2343034744262695,4.431743621826172,3.1729891300201416,2.4254677295684814,2.4148826599121094,2.653045177459717,2.6607697010040283,4.310641765594482,2.536531448364258,2.7687034606933594,4.083415985107422,3.9000585079193115,2.9245457649230957,2.464144706726074,4.359114646911621,4.228405475616455,2.4766578674316406],\"y\":[8.86588191986084,8.925475120544434,9.517374038696289,8.768829345703125,8.25888729095459,7.499878883361816,8.7489013671875,9.260343551635742,9.193758964538574,8.093515396118164,8.846972465515137,8.820796966552734,8.94799518585205,9.17729377746582,8.269418716430664,8.456159591674805,8.304510116577148,8.762964248657227,9.36683177947998,9.157689094543457,8.048028945922852,8.741082191467285,9.112483024597168,8.752782821655273,8.200788497924805,8.880096435546875,9.06953239440918,8.949512481689453,8.193696975708008,10.150304794311523,10.232893943786621,8.946355819702148,8.803178787231445,8.93774127960205,9.492829322814941,8.809975624084473],\"z\":[6.205733776092529,6.565962314605713,5.955104351043701,6.350236892700195,5.419507026672363,5.2986040115356445,5.2819013595581055,4.99014949798584,5.020563125610352,5.016219139099121,5.1169610023498535,5.592294692993164,5.987582206726074,5.94512414932251,5.121408939361572,5.874463081359863,6.130917549133301,6.068278789520264,4.936633110046387,6.232231616973877,5.783750534057617,6.488626480102539,5.1667866706848145,5.389953136444092,5.153717517852783,5.853274822235107,5.997156620025635,5.663440227508545,4.944566249847412,6.278542995452881,6.25576639175415,5.564131259918213,5.363382816314697,5.818491458892822,6.276767253875732,5.183231830596924],\"type\":\"scatter3d\"},{\"hovertemplate\":\"cluster=cluster 7<br>x=%{x}<br>y=%{y}<br>z=%{z}<br>word=%{text}<extra></extra>\",\"legendgroup\":\"cluster 7\",\"marker\":{\"color\":\"#B6E880\",\"symbol\":\"circle\"},\"mode\":\"markers+text\",\"name\":\"cluster 7\",\"scene\":\"scene\",\"showlegend\":true,\"text\":[\"mine\",\"file\",\"message\",\"drive\",\"lot\",\"back\",\"opinions\",\"run\",\"rate\",\"folks\",\"radio\",\"left\",\"engineering\",\"summary\",\"posted\",\"kind\",\"company\",\"steve\",\"turn\",\"higher\",\"info\",\"front\",\"considered\",\"high\",\"post\",\"found\",\"problems\",\"phone\",\"means\",\"public\",\"hard\",\"large\",\"white\",\"reading\",\"systems\",\"line\",\"agree\",\"mind\",\"western\"],\"x\":[4.056389808654785,3.4964969158172607,3.0515944957733154,3.723787307739258,3.4243967533111572,3.485153913497925,4.286620616912842,4.349752902984619,2.8403561115264893,4.241255283355713,3.723259925842285,3.202688455581665,3.9598865509033203,3.780099630355835,3.686124324798584,4.210766792297363,3.549839735031128,3.678684711456299,3.087696075439453,3.763218402862549,5.010568618774414,4.0030975341796875,3.928894519805908,3.1159021854400635,4.027376174926758,3.4965574741363525,3.4721274375915527,3.5878043174743652,3.3938989639282227,3.4724607467651367,3.9666898250579834,3.682323694229126,2.686278820037842,3.6505014896392822,4.232606410980225,3.6677355766296387,2.973729372024536,3.348519802093506,3.556436061859131],\"y\":[7.121949672698975,8.05250358581543,9.351631164550781,7.885166168212891,7.795979022979736,10.08814525604248,7.093715190887451,8.746368408203125,8.95134449005127,8.92690372467041,6.925074100494385,9.753816604614258,8.67686653137207,10.069055557250977,8.839349746704102,8.434293746948242,9.05498218536377,9.240605354309082,9.039314270019531,9.829885482788086,8.583303451538086,8.673742294311523,8.763319969177246,8.53078842163086,7.246108531951904,9.016695022583008,8.262389183044434,8.312789916992188,8.254310607910156,9.60124683380127,8.959373474121094,9.680673599243164,8.944636344909668,9.122679710388184,8.853710174560547,9.5736665725708,9.116998672485352,8.585092544555664,9.454669952392578],\"z\":[5.036025047302246,6.21553897857666,4.742452144622803,3.9653170108795166,5.648227691650391,5.699371337890625,4.8491644859313965,4.886259078979492,5.892219066619873,5.292877674102783,3.1374425888061523,4.852741241455078,4.811664581298828,5.137004375457764,4.5410380363464355,4.926570415496826,4.27940559387207,5.267327308654785,5.5411295890808105,4.729865074157715,6.094193458557129,4.922117710113525,4.36538553237915,5.9892258644104,4.908794403076172,5.436264514923096,6.4222636222839355,4.51532506942749,6.42202615737915,4.6362810134887695,5.079075813293457,4.431835174560547,5.22098445892334,5.239026069641113,5.762272834777832,4.445868492126465,5.524921417236328,4.807102680206299,4.496359825134277],\"type\":\"scatter3d\"},{\"hovertemplate\":\"cluster=cluster 4<br>x=%{x}<br>y=%{y}<br>z=%{z}<br>word=%{text}<extra></extra>\",\"legendgroup\":\"cluster 4\",\"marker\":{\"color\":\"#FF97FF\",\"symbol\":\"circle\"},\"mode\":\"markers+text\",\"name\":\"cluster 4\",\"scene\":\"scene\",\"showlegend\":true,\"text\":[\"close\",\"machine\",\"long\",\"usa\",\"answer\",\"life\",\"disclaimer\",\"heard\",\"great\",\"code\",\"world\",\"true\",\"times\",\"bad\",\"live\",\"problem\",\"strong\",\"university\",\"cc\",\"work\",\"car\",\"made\",\"law\",\"center\",\"give\",\"division\",\"email\",\"call\",\"part\",\"including\",\"gun\",\"mark\",\"news\",\"called\",\"john\",\"making\",\"talking\",\"research\",\"free\",\"list\",\"uk\"],\"x\":[3.8158788681030273,3.345876932144165,2.7324421405792236,3.786543369293213,2.609382390975952,3.3417248725891113,4.810499668121338,3.800875186920166,3.753170967102051,4.772487163543701,3.4802169799804688,4.152149200439453,3.3437814712524414,3.557377338409424,4.714762210845947,3.784942388534546,3.3272526264190674,3.065559148788452,3.9149768352508545,2.984705924987793,2.7635204792022705,3.3609955310821533,3.8347392082214355,2.978806972503662,3.532810926437378,3.800943613052368,3.504502058029175,2.6784543991088867,3.451626777648926,2.988024950027466,3.6006057262420654,3.5111844539642334,3.5832252502441406,3.2119781970977783,3.6705479621887207,3.290917158126831,3.903820276260376,3.8273115158081055,3.3948073387145996,2.9650168418884277,3.697395086288452],\"y\":[10.048152923583984,9.258163452148438,9.78327751159668,10.073335647583008,10.302340507507324,9.169662475585938,8.897377014160156,10.306609153747559,10.054609298706055,8.877551078796387,10.177789688110352,9.374539375305176,10.266973495483398,8.446423530578613,9.019124031066895,10.15867805480957,9.827275276184082,9.100228309631348,8.12385368347168,10.423970222473145,9.036855697631836,10.172670364379883,10.020008087158203,10.538947105407715,10.520514488220215,10.187891960144043,7.758747100830078,9.540839195251465,9.082969665527344,8.740907669067383,10.453435897827148,8.857000350952148,10.530936241149902,9.745514869689941,9.994951248168945,9.050930976867676,9.85660171508789,10.319808006286621,8.587974548339844,8.508042335510254,10.199013710021973],\"z\":[6.653171062469482,6.620760917663574,7.066642761230469,5.278165340423584,6.123566627502441,6.673523902893066,6.29378604888916,5.823910236358643,6.70068883895874,6.213348388671875,6.680855751037598,6.392674922943115,6.147089004516602,6.43306827545166,5.177841663360596,6.5975823402404785,5.925976276397705,6.770314693450928,6.068197727203369,6.468932628631592,6.5736894607543945,6.3920464515686035,5.176218509674072,6.323848247528076,6.324979305267334,5.352456092834473,5.63002347946167,6.904752731323242,6.476562976837158,6.515757083892822,6.243162155151367,6.100273132324219,6.403749465942383,6.869655132293701,6.831690311431885,6.545204162597656,5.4211320877075195,6.07125186920166,6.649163246154785,6.1599555015563965,5.738013744354248],\"type\":\"scatter3d\"},{\"hovertemplate\":\"cluster=cluster 2<br>x=%{x}<br>y=%{y}<br>z=%{z}<br>word=%{text}<extra></extra>\",\"legendgroup\":\"cluster 2\",\"marker\":{\"color\":\"#FECB52\",\"symbol\":\"circle\"},\"mode\":\"markers+text\",\"name\":\"cluster 2\",\"scene\":\"scene\",\"showlegend\":true,\"text\":[\"de\",\"rest\",\"sort\",\"clear\",\"opinion\",\"error\",\"minutes\",\"lost\",\"friend\",\"computing\",\"numbers\",\"early\",\"major\",\"image\",\"texas\",\"gov\",\"references\",\"show\",\"simple\",\"takes\",\"toronto\",\"form\",\"ac\",\"final\",\"issue\"],\"x\":[5.567598819732666,5.805820941925049,5.861042499542236,5.5448784828186035,5.720378875732422,5.717267990112305,5.7472124099731445,5.523406028747559,5.586002826690674,5.8445963859558105,5.553369998931885,4.40914249420166,3.8732235431671143,5.544455528259277,5.49976921081543,5.26734733581543,5.839677810668945,5.751211643218994,5.791863918304443,5.811036586761475,5.308032035827637,5.218012809753418,5.808839321136475,5.6886701583862305,5.6885986328125],\"y\":[6.475146293640137,7.3362650871276855,7.410181045532227,7.523815155029297,7.6477952003479,8.128617286682129,7.425156593322754,6.550232887268066,7.355737686157227,7.578155040740967,8.183195114135742,6.4100775718688965,9.537692070007324,7.718194007873535,7.868539810180664,8.513172149658203,6.428678035736084,7.9165496826171875,7.755544662475586,7.11331033706665,7.669522762298584,7.8632965087890625,7.8714280128479,7.71310567855835,7.645484447479248],\"z\":[4.172155380249023,3.1796302795410156,4.3195061683654785,4.103702545166016,4.007236957550049,3.610337018966675,3.8503243923187256,4.248432636260986,3.356732130050659,4.110886096954346,3.991814136505127,2.8552727699279785,4.293035984039307,3.4674339294433594,3.529831886291504,4.144783020019531,3.242774724960327,4.535671234130859,3.4007246494293213,3.7398316860198975,3.738013744354248,3.8252720832824707,4.454775810241699,3.4644758701324463,3.618361473083496],\"type\":\"scatter3d\"}],                        {\"template\":{\"data\":{\"histogram2dcontour\":[{\"type\":\"histogram2dcontour\",\"colorbar\":{\"outlinewidth\":0,\"ticks\":\"\"},\"colorscale\":[[0.0,\"#0d0887\"],[0.1111111111111111,\"#46039f\"],[0.2222222222222222,\"#7201a8\"],[0.3333333333333333,\"#9c179e\"],[0.4444444444444444,\"#bd3786\"],[0.5555555555555556,\"#d8576b\"],[0.6666666666666666,\"#ed7953\"],[0.7777777777777778,\"#fb9f3a\"],[0.8888888888888888,\"#fdca26\"],[1.0,\"#f0f921\"]]}],\"choropleth\":[{\"type\":\"choropleth\",\"colorbar\":{\"outlinewidth\":0,\"ticks\":\"\"}}],\"histogram2d\":[{\"type\":\"histogram2d\",\"colorbar\":{\"outlinewidth\":0,\"ticks\":\"\"},\"colorscale\":[[0.0,\"#0d0887\"],[0.1111111111111111,\"#46039f\"],[0.2222222222222222,\"#7201a8\"],[0.3333333333333333,\"#9c179e\"],[0.4444444444444444,\"#bd3786\"],[0.5555555555555556,\"#d8576b\"],[0.6666666666666666,\"#ed7953\"],[0.7777777777777778,\"#fb9f3a\"],[0.8888888888888888,\"#fdca26\"],[1.0,\"#f0f921\"]]}],\"heatmap\":[{\"type\":\"heatmap\",\"colorbar\":{\"outlinewidth\":0,\"ticks\":\"\"},\"colorscale\":[[0.0,\"#0d0887\"],[0.1111111111111111,\"#46039f\"],[0.2222222222222222,\"#7201a8\"],[0.3333333333333333,\"#9c179e\"],[0.4444444444444444,\"#bd3786\"],[0.5555555555555556,\"#d8576b\"],[0.6666666666666666,\"#ed7953\"],[0.7777777777777778,\"#fb9f3a\"],[0.8888888888888888,\"#fdca26\"],[1.0,\"#f0f921\"]]}],\"heatmapgl\":[{\"type\":\"heatmapgl\",\"colorbar\":{\"outlinewidth\":0,\"ticks\":\"\"},\"colorscale\":[[0.0,\"#0d0887\"],[0.1111111111111111,\"#46039f\"],[0.2222222222222222,\"#7201a8\"],[0.3333333333333333,\"#9c179e\"],[0.4444444444444444,\"#bd3786\"],[0.5555555555555556,\"#d8576b\"],[0.6666666666666666,\"#ed7953\"],[0.7777777777777778,\"#fb9f3a\"],[0.8888888888888888,\"#fdca26\"],[1.0,\"#f0f921\"]]}],\"contourcarpet\":[{\"type\":\"contourcarpet\",\"colorbar\":{\"outlinewidth\":0,\"ticks\":\"\"}}],\"contour\":[{\"type\":\"contour\",\"colorbar\":{\"outlinewidth\":0,\"ticks\":\"\"},\"colorscale\":[[0.0,\"#0d0887\"],[0.1111111111111111,\"#46039f\"],[0.2222222222222222,\"#7201a8\"],[0.3333333333333333,\"#9c179e\"],[0.4444444444444444,\"#bd3786\"],[0.5555555555555556,\"#d8576b\"],[0.6666666666666666,\"#ed7953\"],[0.7777777777777778,\"#fb9f3a\"],[0.8888888888888888,\"#fdca26\"],[1.0,\"#f0f921\"]]}],\"surface\":[{\"type\":\"surface\",\"colorbar\":{\"outlinewidth\":0,\"ticks\":\"\"},\"colorscale\":[[0.0,\"#0d0887\"],[0.1111111111111111,\"#46039f\"],[0.2222222222222222,\"#7201a8\"],[0.3333333333333333,\"#9c179e\"],[0.4444444444444444,\"#bd3786\"],[0.5555555555555556,\"#d8576b\"],[0.6666666666666666,\"#ed7953\"],[0.7777777777777778,\"#fb9f3a\"],[0.8888888888888888,\"#fdca26\"],[1.0,\"#f0f921\"]]}],\"mesh3d\":[{\"type\":\"mesh3d\",\"colorbar\":{\"outlinewidth\":0,\"ticks\":\"\"}}],\"scatter\":[{\"fillpattern\":{\"fillmode\":\"overlay\",\"size\":10,\"solidity\":0.2},\"type\":\"scatter\"}],\"parcoords\":[{\"type\":\"parcoords\",\"line\":{\"colorbar\":{\"outlinewidth\":0,\"ticks\":\"\"}}}],\"scatterpolargl\":[{\"type\":\"scatterpolargl\",\"marker\":{\"colorbar\":{\"outlinewidth\":0,\"ticks\":\"\"}}}],\"bar\":[{\"error_x\":{\"color\":\"#2a3f5f\"},\"error_y\":{\"color\":\"#2a3f5f\"},\"marker\":{\"line\":{\"color\":\"#E5ECF6\",\"width\":0.5},\"pattern\":{\"fillmode\":\"overlay\",\"size\":10,\"solidity\":0.2}},\"type\":\"bar\"}],\"scattergeo\":[{\"type\":\"scattergeo\",\"marker\":{\"colorbar\":{\"outlinewidth\":0,\"ticks\":\"\"}}}],\"scatterpolar\":[{\"type\":\"scatterpolar\",\"marker\":{\"colorbar\":{\"outlinewidth\":0,\"ticks\":\"\"}}}],\"histogram\":[{\"marker\":{\"pattern\":{\"fillmode\":\"overlay\",\"size\":10,\"solidity\":0.2}},\"type\":\"histogram\"}],\"scattergl\":[{\"type\":\"scattergl\",\"marker\":{\"colorbar\":{\"outlinewidth\":0,\"ticks\":\"\"}}}],\"scatter3d\":[{\"type\":\"scatter3d\",\"line\":{\"colorbar\":{\"outlinewidth\":0,\"ticks\":\"\"}},\"marker\":{\"colorbar\":{\"outlinewidth\":0,\"ticks\":\"\"}}}],\"scattermapbox\":[{\"type\":\"scattermapbox\",\"marker\":{\"colorbar\":{\"outlinewidth\":0,\"ticks\":\"\"}}}],\"scatterternary\":[{\"type\":\"scatterternary\",\"marker\":{\"colorbar\":{\"outlinewidth\":0,\"ticks\":\"\"}}}],\"scattercarpet\":[{\"type\":\"scattercarpet\",\"marker\":{\"colorbar\":{\"outlinewidth\":0,\"ticks\":\"\"}}}],\"carpet\":[{\"aaxis\":{\"endlinecolor\":\"#2a3f5f\",\"gridcolor\":\"white\",\"linecolor\":\"white\",\"minorgridcolor\":\"white\",\"startlinecolor\":\"#2a3f5f\"},\"baxis\":{\"endlinecolor\":\"#2a3f5f\",\"gridcolor\":\"white\",\"linecolor\":\"white\",\"minorgridcolor\":\"white\",\"startlinecolor\":\"#2a3f5f\"},\"type\":\"carpet\"}],\"table\":[{\"cells\":{\"fill\":{\"color\":\"#EBF0F8\"},\"line\":{\"color\":\"white\"}},\"header\":{\"fill\":{\"color\":\"#C8D4E3\"},\"line\":{\"color\":\"white\"}},\"type\":\"table\"}],\"barpolar\":[{\"marker\":{\"line\":{\"color\":\"#E5ECF6\",\"width\":0.5},\"pattern\":{\"fillmode\":\"overlay\",\"size\":10,\"solidity\":0.2}},\"type\":\"barpolar\"}],\"pie\":[{\"automargin\":true,\"type\":\"pie\"}]},\"layout\":{\"autotypenumbers\":\"strict\",\"colorway\":[\"#636efa\",\"#EF553B\",\"#00cc96\",\"#ab63fa\",\"#FFA15A\",\"#19d3f3\",\"#FF6692\",\"#B6E880\",\"#FF97FF\",\"#FECB52\"],\"font\":{\"color\":\"#2a3f5f\"},\"hovermode\":\"closest\",\"hoverlabel\":{\"align\":\"left\"},\"paper_bgcolor\":\"white\",\"plot_bgcolor\":\"#E5ECF6\",\"polar\":{\"bgcolor\":\"#E5ECF6\",\"angularaxis\":{\"gridcolor\":\"white\",\"linecolor\":\"white\",\"ticks\":\"\"},\"radialaxis\":{\"gridcolor\":\"white\",\"linecolor\":\"white\",\"ticks\":\"\"}},\"ternary\":{\"bgcolor\":\"#E5ECF6\",\"aaxis\":{\"gridcolor\":\"white\",\"linecolor\":\"white\",\"ticks\":\"\"},\"baxis\":{\"gridcolor\":\"white\",\"linecolor\":\"white\",\"ticks\":\"\"},\"caxis\":{\"gridcolor\":\"white\",\"linecolor\":\"white\",\"ticks\":\"\"}},\"coloraxis\":{\"colorbar\":{\"outlinewidth\":0,\"ticks\":\"\"}},\"colorscale\":{\"sequential\":[[0.0,\"#0d0887\"],[0.1111111111111111,\"#46039f\"],[0.2222222222222222,\"#7201a8\"],[0.3333333333333333,\"#9c179e\"],[0.4444444444444444,\"#bd3786\"],[0.5555555555555556,\"#d8576b\"],[0.6666666666666666,\"#ed7953\"],[0.7777777777777778,\"#fb9f3a\"],[0.8888888888888888,\"#fdca26\"],[1.0,\"#f0f921\"]],\"sequentialminus\":[[0.0,\"#0d0887\"],[0.1111111111111111,\"#46039f\"],[0.2222222222222222,\"#7201a8\"],[0.3333333333333333,\"#9c179e\"],[0.4444444444444444,\"#bd3786\"],[0.5555555555555556,\"#d8576b\"],[0.6666666666666666,\"#ed7953\"],[0.7777777777777778,\"#fb9f3a\"],[0.8888888888888888,\"#fdca26\"],[1.0,\"#f0f921\"]],\"diverging\":[[0,\"#8e0152\"],[0.1,\"#c51b7d\"],[0.2,\"#de77ae\"],[0.3,\"#f1b6da\"],[0.4,\"#fde0ef\"],[0.5,\"#f7f7f7\"],[0.6,\"#e6f5d0\"],[0.7,\"#b8e186\"],[0.8,\"#7fbc41\"],[0.9,\"#4d9221\"],[1,\"#276419\"]]},\"xaxis\":{\"gridcolor\":\"white\",\"linecolor\":\"white\",\"ticks\":\"\",\"title\":{\"standoff\":15},\"zerolinecolor\":\"white\",\"automargin\":true,\"zerolinewidth\":2},\"yaxis\":{\"gridcolor\":\"white\",\"linecolor\":\"white\",\"ticks\":\"\",\"title\":{\"standoff\":15},\"zerolinecolor\":\"white\",\"automargin\":true,\"zerolinewidth\":2},\"scene\":{\"xaxis\":{\"backgroundcolor\":\"#E5ECF6\",\"gridcolor\":\"white\",\"linecolor\":\"white\",\"showbackground\":true,\"ticks\":\"\",\"zerolinecolor\":\"white\",\"gridwidth\":2},\"yaxis\":{\"backgroundcolor\":\"#E5ECF6\",\"gridcolor\":\"white\",\"linecolor\":\"white\",\"showbackground\":true,\"ticks\":\"\",\"zerolinecolor\":\"white\",\"gridwidth\":2},\"zaxis\":{\"backgroundcolor\":\"#E5ECF6\",\"gridcolor\":\"white\",\"linecolor\":\"white\",\"showbackground\":true,\"ticks\":\"\",\"zerolinecolor\":\"white\",\"gridwidth\":2}},\"shapedefaults\":{\"line\":{\"color\":\"#2a3f5f\"}},\"annotationdefaults\":{\"arrowcolor\":\"#2a3f5f\",\"arrowhead\":0,\"arrowwidth\":1},\"geo\":{\"bgcolor\":\"white\",\"landcolor\":\"#E5ECF6\",\"subunitcolor\":\"white\",\"showland\":true,\"showlakes\":true,\"lakecolor\":\"white\"},\"title\":{\"x\":0.05},\"mapbox\":{\"style\":\"light\"}}},\"scene\":{\"domain\":{\"x\":[0.0,1.0],\"y\":[0.0,1.0]},\"xaxis\":{\"title\":{\"text\":\"x\"}},\"yaxis\":{\"title\":{\"text\":\"y\"}},\"zaxis\":{\"title\":{\"text\":\"z\"}}},\"legend\":{\"title\":{\"text\":\"cluster\"},\"tracegroupgap\":0},\"title\":{\"text\":\"word-embedding-samples\"}},                        {\"responsive\": true}                    ).then(function(){\n",
              "                            \n",
              "var gd = document.getElementById('60e8b726-961c-4e47-b3db-699e6ab7c65c');\n",
              "var x = new MutationObserver(function (mutations, observer) {{\n",
              "        var display = window.getComputedStyle(gd).display;\n",
              "        if (!display || display === 'none') {{\n",
              "            console.log([gd, 'removed!']);\n",
              "            Plotly.purge(gd);\n",
              "            observer.disconnect();\n",
              "        }}\n",
              "}});\n",
              "\n",
              "// Listen for the removal of the full notebook cells\n",
              "var notebookContainer = gd.closest('#notebook-container');\n",
              "if (notebookContainer) {{\n",
              "    x.observe(notebookContainer, {childList: true});\n",
              "}}\n",
              "\n",
              "// Listen for the clearing of the current output cell\n",
              "var outputEl = gd.closest('.output');\n",
              "if (outputEl) {{\n",
              "    x.observe(outputEl, {childList: true});\n",
              "}}\n",
              "\n",
              "                        })                };                            </script>        </div>\n",
              "</body>\n",
              "</html>"
            ]
          },
          "metadata": {}
        }
      ]
    },
    {
      "cell_type": "markdown",
      "source": [
        "# **ETM-Model trainieren**"
      ],
      "metadata": {
        "id": "P9jSI12r9zqu"
      }
    },
    {
      "cell_type": "code",
      "source": [
        "# using DocSet to use easier the modul DataSet from torch\n",
        "from src.train_etm import DocSet, ETMTrain\n",
        "from src.etm import ETM\n",
        "\n",
        "vocab_size = len(list(word2id.keys()))\n",
        "tr_set = DocSet(\"train\", vocab_size, train_set)\n",
        "print(len(tr_set))\n",
        "print(tr_set.__getitem__(0))"
      ],
      "metadata": {
        "colab": {
          "base_uri": "https://localhost:8080/"
        },
        "id": "fwiU9zWCIUh_",
        "outputId": "2cff7c28-21aa-4b67-c856-6bc91a433912"
      },
      "execution_count": 23,
      "outputs": [
        {
          "output_type": "stream",
          "name": "stdout",
          "text": [
            "150\n",
            "tensor([0., 0., 0., 0., 0., 0., 0., 0., 0., 0., 0., 0., 0., 0., 0., 0., 0., 0.,\n",
            "        0., 0., 0., 0., 2., 0., 1., 1., 0., 0., 0., 0., 1., 0., 0., 0., 0., 0.,\n",
            "        0., 0., 0., 0., 0., 0., 0., 0., 0., 0., 0., 0., 0., 0., 0., 0., 0., 0.,\n",
            "        0., 0., 0., 0., 0., 0., 0., 0., 0., 0., 0., 0., 0., 0., 0., 0., 0., 0.,\n",
            "        2., 0., 0., 0., 0., 0., 0., 0., 0., 0., 0., 0., 0., 0., 0., 0., 0., 0.,\n",
            "        0., 1., 0., 0., 0., 0., 0., 0., 0., 0., 0., 0., 0., 1., 0., 0., 0., 0.,\n",
            "        0., 0., 0., 0., 0., 0., 0., 0., 0., 0., 0., 0., 0., 1., 0., 0., 0., 0.,\n",
            "        0., 0., 0., 0., 1., 0., 0., 0., 0., 0., 0., 0., 0., 0., 0., 0., 0., 0.,\n",
            "        0., 0., 0., 0., 0., 0., 0., 0., 0., 1., 0., 0., 1., 0., 0., 0., 0., 0.,\n",
            "        0., 0., 0., 0., 0., 0., 0., 0., 0., 0., 0., 0., 0., 0., 0., 0., 0., 0.,\n",
            "        0., 0., 0., 0., 0., 0., 0., 0., 4., 0., 0., 0., 1., 0., 0., 0., 0., 0.,\n",
            "        0., 0., 0., 0., 0., 0., 0., 0., 0., 0., 0., 1., 0., 0., 0., 0., 0., 0.,\n",
            "        0., 0., 0., 0., 0., 0., 0., 1., 0., 0., 0., 0., 0., 0., 0., 2., 0., 0.,\n",
            "        0., 0., 0., 0., 0., 0., 0., 0., 0., 0., 0., 0., 0., 0., 0., 0., 0., 0.,\n",
            "        0., 0., 0., 0., 0., 0., 0., 0., 0., 0., 0., 0., 0., 0., 0., 0., 0., 1.,\n",
            "        0., 0., 0., 0., 0., 0., 0., 0., 0., 0., 0., 0., 0., 0., 0., 0., 0., 0.,\n",
            "        0., 0., 0., 0., 0., 1., 0., 0., 0., 0., 0., 0., 0., 0., 0., 0., 0., 0.,\n",
            "        0., 0., 0., 2., 0., 0., 0., 1., 2., 0., 0., 1., 0., 0., 0., 0., 0., 0.,\n",
            "        0., 0., 0., 0., 1., 0., 0., 0., 0., 0., 0., 0., 0., 0., 0., 0., 0., 0.,\n",
            "        0., 0., 0., 0., 0., 0.])\n"
          ]
        }
      ]
    },
    {
      "cell_type": "code",
      "source": [
        "num_topics = 5\n",
        "t_hidden_size = 100\n",
        "rho_size = len(embedding_data[0])\n",
        "emb_size = len(embedding_data[0])\n",
        "theta_act = \"relu\"\n",
        "\n",
        "class TrainArguments:\n",
        "      def __init__(self, epochs, batch_size, log_interval):\n",
        "          self.epochs = epochs\n",
        "          self.batch_size = batch_size\n",
        "          self.log_interval = log_interval\n",
        "\n",
        "class OptimizerArguments:\n",
        "      def __init__(self, optimizer_name, lr, wdecay):\n",
        "            self.optimizer = optimizer_name\n",
        "            self.lr = lr\n",
        "            self.wdecay = wdecay\n",
        "            \n",
        "train_args = TrainArguments(epochs=10, batch_size=100, log_interval=None)\n",
        "optimizer_args = OptimizerArguments(optimizer_name=\"Adam\", lr=0.005, wdecay=0.1)\n",
        "\n",
        "print(train_args.epochs)\n",
        "print(optimizer_args.optimizer)\n",
        "\n",
        "training_set = train_set\n",
        "\n",
        "# define the ETM-model with setting-parameters\n",
        "etm_model = ETM(\n",
        "      num_topics, \n",
        "      vocab_size, \n",
        "      t_hidden_size, rho_size, emb_size, theta_act, \n",
        "      embedding_data, enc_drop=0.5)\n",
        "\n",
        "# start training\n",
        "train_class = ETMTrain().train(\n",
        "    etm_model,\n",
        "    vocab_size, \n",
        "    train_args, optimizer_args, training_set, \n",
        "    num_topics, t_hidden_size, rho_size, emb_size, theta_act, embedding_data, 0.5)"
      ],
      "metadata": {
        "colab": {
          "base_uri": "https://localhost:8080/"
        },
        "id": "kbJIWLZpJRnG",
        "outputId": "c9367833-8596-4d42-dda9-c886c541d48b"
      },
      "execution_count": 24,
      "outputs": [
        {
          "output_type": "stream",
          "name": "stdout",
          "text": [
            "10\n",
            "Adam\n",
            "Defaulting to vanilla SGD\n",
            "Epoch 0/10:\n",
            "torch.Size([100])\n",
            "torch.Size([])\n",
            "total loss: 17575.361328125\n",
            "Epoch 1/10:\n",
            "torch.Size([100])\n",
            "torch.Size([])\n",
            "total loss: 17677.140625\n",
            "Epoch 2/10:\n",
            "torch.Size([100])\n",
            "torch.Size([])\n",
            "total loss: 17759.125\n",
            "Epoch 3/10:\n",
            "torch.Size([100])\n",
            "torch.Size([])\n",
            "total loss: 17727.845703125\n",
            "Epoch 4/10:\n",
            "torch.Size([100])\n",
            "torch.Size([])\n",
            "total loss: 19209.767578125\n",
            "Epoch 5/10:\n",
            "torch.Size([100])\n",
            "torch.Size([])\n",
            "total loss: 17325.36328125\n",
            "Epoch 6/10:\n",
            "torch.Size([100])\n",
            "torch.Size([])\n",
            "total loss: 17405.5234375\n",
            "Epoch 7/10:\n",
            "torch.Size([100])\n",
            "torch.Size([])\n",
            "total loss: 18358.8203125\n",
            "Epoch 8/10:\n",
            "torch.Size([100])\n",
            "torch.Size([])\n",
            "total loss: 17405.419921875\n",
            "Epoch 9/10:\n",
            "torch.Size([100])\n",
            "torch.Size([])\n",
            "total loss: 18225.072265625\n"
          ]
        }
      ]
    }
  ]
}