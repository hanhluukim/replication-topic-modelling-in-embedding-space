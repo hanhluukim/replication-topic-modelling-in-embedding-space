{
  "cells": [
    {
      "cell_type": "markdown",
      "metadata": {
        "id": "view-in-github",
        "colab_type": "text"
      },
      "source": [
        "<a href=\"https://colab.research.google.com/github/hanhluukim/replication-topic-modelling-in-embedding-space/blob/main/notebook_replication.ipynb\" target=\"_parent\"><img src=\"https://colab.research.google.com/assets/colab-badge.svg\" alt=\"Open In Colab\"/></a>"
      ]
    },
    {
      "cell_type": "markdown",
      "metadata": {
        "id": "PJ7P852F7yzU"
      },
      "source": [
        "# **Das Projekt aus dem Github klonen und in den Projektsordner**"
      ]
    },
    {
      "cell_type": "code",
      "execution_count": 1,
      "metadata": {
        "id": "riOxinNHJcIB",
        "outputId": "dc1c62de-9d27-4a39-93ba-57967269dd23",
        "colab": {
          "base_uri": "https://localhost:8080/"
        }
      },
      "outputs": [
        {
          "output_type": "stream",
          "name": "stdout",
          "text": [
            "Cloning into 'replication-topic-modelling-in-embedding-space'...\n",
            "remote: Enumerating objects: 874, done.\u001b[K\n",
            "remote: Counting objects: 100% (105/105), done.\u001b[K\n",
            "remote: Compressing objects: 100% (80/80), done.\u001b[K\n",
            "remote: Total 874 (delta 33), reused 95 (delta 23), pack-reused 769\u001b[K\n",
            "Receiving objects: 100% (874/874), 370.58 MiB | 28.67 MiB/s, done.\n",
            "Resolving deltas: 100% (424/424), done.\n",
            "Checking out files: 100% (90/90), done.\n"
          ]
        }
      ],
      "source": [
        "#wenn die Ordner noch nicht geklont ist, soll dieser Fehler zuerst durchgeführt werden.\n",
        "!git clone https://github.com/hanhluukim/replication-topic-modelling-in-embedding-space.git"
      ]
    },
    {
      "cell_type": "code",
      "execution_count": 2,
      "metadata": {
        "colab": {
          "base_uri": "https://localhost:8080/"
        },
        "id": "B_6em-5qJg5e",
        "outputId": "9ceb24a7-f1ab-4c21-8ce2-005ecfc57f00"
      },
      "outputs": [
        {
          "output_type": "stream",
          "name": "stdout",
          "text": [
            "/content/replication-topic-modelling-in-embedding-space\n"
          ]
        }
      ],
      "source": [
        "cd /content/replication-topic-modelling-in-embedding-space"
      ]
    },
    {
      "cell_type": "markdown",
      "metadata": {
        "id": "6AAG98vV1JCg"
      },
      "source": [
        "#**Die benötige Paketen für das Projekt mittels requirements.txt installieren**\n",
        "\n"
      ]
    },
    {
      "cell_type": "code",
      "execution_count": 3,
      "metadata": {
        "colab": {
          "base_uri": "https://localhost:8080/"
        },
        "id": "YcBay625sD5D",
        "outputId": "aaf6931d-551a-4079-bbfb-3f45229fe103"
      },
      "outputs": [
        {
          "output_type": "stream",
          "name": "stdout",
          "text": [
            "Requirement already satisfied: gensim in /usr/local/lib/python3.7/dist-packages (from -r /content/replication-topic-modelling-in-embedding-space/requirements.txt (line 1)) (3.6.0)\n",
            "Requirement already satisfied: nltk in /usr/local/lib/python3.7/dist-packages (from -r /content/replication-topic-modelling-in-embedding-space/requirements.txt (line 2)) (3.2.5)\n",
            "Requirement already satisfied: numpy in /usr/local/lib/python3.7/dist-packages (from -r /content/replication-topic-modelling-in-embedding-space/requirements.txt (line 3)) (1.21.6)\n",
            "Requirement already satisfied: scikit-learn in /usr/local/lib/python3.7/dist-packages (from -r /content/replication-topic-modelling-in-embedding-space/requirements.txt (line 4)) (1.0.2)\n",
            "Requirement already satisfied: scipy in /usr/local/lib/python3.7/dist-packages (from -r /content/replication-topic-modelling-in-embedding-space/requirements.txt (line 5)) (1.4.1)\n",
            "Requirement already satisfied: torch in /usr/local/lib/python3.7/dist-packages (from -r /content/replication-topic-modelling-in-embedding-space/requirements.txt (line 6)) (1.11.0+cu113)\n",
            "Collecting transformers\n",
            "  Downloading transformers-4.18.0-py3-none-any.whl (4.0 MB)\n",
            "\u001b[K     |████████████████████████████████| 4.0 MB 5.3 MB/s \n",
            "\u001b[?25hCollecting umap-learn\n",
            "  Downloading umap-learn-0.5.3.tar.gz (88 kB)\n",
            "\u001b[K     |████████████████████████████████| 88 kB 6.7 MB/s \n",
            "\u001b[?25hCollecting plotly==5.7.0\n",
            "  Downloading plotly-5.7.0-py2.py3-none-any.whl (28.8 MB)\n",
            "\u001b[K     |████████████████████████████████| 28.8 MB 1.4 MB/s \n",
            "\u001b[?25hRequirement already satisfied: pathlib in /usr/local/lib/python3.7/dist-packages (from -r /content/replication-topic-modelling-in-embedding-space/requirements.txt (line 10)) (1.0.1)\n",
            "Collecting pyyaml==5.4.1\n",
            "  Downloading PyYAML-5.4.1-cp37-cp37m-manylinux1_x86_64.whl (636 kB)\n",
            "\u001b[K     |████████████████████████████████| 636 kB 36.4 MB/s \n",
            "\u001b[?25hCollecting kaleido\n",
            "  Downloading kaleido-0.2.1-py2.py3-none-manylinux1_x86_64.whl (79.9 MB)\n",
            "\u001b[K     |████████████████████████████████| 79.9 MB 116 kB/s \n",
            "\u001b[?25hRequirement already satisfied: six in /usr/local/lib/python3.7/dist-packages (from plotly==5.7.0->-r /content/replication-topic-modelling-in-embedding-space/requirements.txt (line 9)) (1.15.0)\n",
            "Requirement already satisfied: tenacity>=6.2.0 in /usr/local/lib/python3.7/dist-packages (from plotly==5.7.0->-r /content/replication-topic-modelling-in-embedding-space/requirements.txt (line 9)) (8.0.1)\n",
            "Requirement already satisfied: smart-open>=1.2.1 in /usr/local/lib/python3.7/dist-packages (from gensim->-r /content/replication-topic-modelling-in-embedding-space/requirements.txt (line 1)) (6.0.0)\n",
            "Requirement already satisfied: threadpoolctl>=2.0.0 in /usr/local/lib/python3.7/dist-packages (from scikit-learn->-r /content/replication-topic-modelling-in-embedding-space/requirements.txt (line 4)) (3.1.0)\n",
            "Requirement already satisfied: joblib>=0.11 in /usr/local/lib/python3.7/dist-packages (from scikit-learn->-r /content/replication-topic-modelling-in-embedding-space/requirements.txt (line 4)) (1.1.0)\n",
            "Requirement already satisfied: typing-extensions in /usr/local/lib/python3.7/dist-packages (from torch->-r /content/replication-topic-modelling-in-embedding-space/requirements.txt (line 6)) (4.2.0)\n",
            "Requirement already satisfied: packaging>=20.0 in /usr/local/lib/python3.7/dist-packages (from transformers->-r /content/replication-topic-modelling-in-embedding-space/requirements.txt (line 7)) (21.3)\n",
            "Requirement already satisfied: filelock in /usr/local/lib/python3.7/dist-packages (from transformers->-r /content/replication-topic-modelling-in-embedding-space/requirements.txt (line 7)) (3.6.0)\n",
            "Requirement already satisfied: tqdm>=4.27 in /usr/local/lib/python3.7/dist-packages (from transformers->-r /content/replication-topic-modelling-in-embedding-space/requirements.txt (line 7)) (4.64.0)\n",
            "Requirement already satisfied: requests in /usr/local/lib/python3.7/dist-packages (from transformers->-r /content/replication-topic-modelling-in-embedding-space/requirements.txt (line 7)) (2.23.0)\n",
            "Collecting huggingface-hub<1.0,>=0.1.0\n",
            "  Downloading huggingface_hub-0.5.1-py3-none-any.whl (77 kB)\n",
            "\u001b[K     |████████████████████████████████| 77 kB 6.2 MB/s \n",
            "\u001b[?25hCollecting tokenizers!=0.11.3,<0.13,>=0.11.1\n",
            "  Downloading tokenizers-0.12.1-cp37-cp37m-manylinux_2_12_x86_64.manylinux2010_x86_64.whl (6.6 MB)\n",
            "\u001b[K     |████████████████████████████████| 6.6 MB 34.3 MB/s \n",
            "\u001b[?25hCollecting sacremoses\n",
            "  Downloading sacremoses-0.0.53.tar.gz (880 kB)\n",
            "\u001b[K     |████████████████████████████████| 880 kB 41.0 MB/s \n",
            "\u001b[?25hRequirement already satisfied: importlib-metadata in /usr/local/lib/python3.7/dist-packages (from transformers->-r /content/replication-topic-modelling-in-embedding-space/requirements.txt (line 7)) (4.11.3)\n",
            "Requirement already satisfied: regex!=2019.12.17 in /usr/local/lib/python3.7/dist-packages (from transformers->-r /content/replication-topic-modelling-in-embedding-space/requirements.txt (line 7)) (2019.12.20)\n",
            "Requirement already satisfied: pyparsing!=3.0.5,>=2.0.2 in /usr/local/lib/python3.7/dist-packages (from packaging>=20.0->transformers->-r /content/replication-topic-modelling-in-embedding-space/requirements.txt (line 7)) (3.0.8)\n",
            "Requirement already satisfied: numba>=0.49 in /usr/local/lib/python3.7/dist-packages (from umap-learn->-r /content/replication-topic-modelling-in-embedding-space/requirements.txt (line 8)) (0.51.2)\n",
            "Collecting pynndescent>=0.5\n",
            "  Downloading pynndescent-0.5.6.tar.gz (1.1 MB)\n",
            "\u001b[K     |████████████████████████████████| 1.1 MB 41.5 MB/s \n",
            "\u001b[?25hRequirement already satisfied: llvmlite<0.35,>=0.34.0.dev0 in /usr/local/lib/python3.7/dist-packages (from numba>=0.49->umap-learn->-r /content/replication-topic-modelling-in-embedding-space/requirements.txt (line 8)) (0.34.0)\n",
            "Requirement already satisfied: setuptools in /usr/local/lib/python3.7/dist-packages (from numba>=0.49->umap-learn->-r /content/replication-topic-modelling-in-embedding-space/requirements.txt (line 8)) (57.4.0)\n",
            "Requirement already satisfied: zipp>=0.5 in /usr/local/lib/python3.7/dist-packages (from importlib-metadata->transformers->-r /content/replication-topic-modelling-in-embedding-space/requirements.txt (line 7)) (3.8.0)\n",
            "Requirement already satisfied: idna<3,>=2.5 in /usr/local/lib/python3.7/dist-packages (from requests->transformers->-r /content/replication-topic-modelling-in-embedding-space/requirements.txt (line 7)) (2.10)\n",
            "Requirement already satisfied: chardet<4,>=3.0.2 in /usr/local/lib/python3.7/dist-packages (from requests->transformers->-r /content/replication-topic-modelling-in-embedding-space/requirements.txt (line 7)) (3.0.4)\n",
            "Requirement already satisfied: certifi>=2017.4.17 in /usr/local/lib/python3.7/dist-packages (from requests->transformers->-r /content/replication-topic-modelling-in-embedding-space/requirements.txt (line 7)) (2021.10.8)\n",
            "Requirement already satisfied: urllib3!=1.25.0,!=1.25.1,<1.26,>=1.21.1 in /usr/local/lib/python3.7/dist-packages (from requests->transformers->-r /content/replication-topic-modelling-in-embedding-space/requirements.txt (line 7)) (1.24.3)\n",
            "Requirement already satisfied: click in /usr/local/lib/python3.7/dist-packages (from sacremoses->transformers->-r /content/replication-topic-modelling-in-embedding-space/requirements.txt (line 7)) (7.1.2)\n",
            "Building wheels for collected packages: umap-learn, pynndescent, sacremoses\n",
            "  Building wheel for umap-learn (setup.py) ... \u001b[?25l\u001b[?25hdone\n",
            "  Created wheel for umap-learn: filename=umap_learn-0.5.3-py3-none-any.whl size=82829 sha256=535855d9fae0458a710b23be4bce3915fe8731eb85b3b9a536c84de031b57994\n",
            "  Stored in directory: /root/.cache/pip/wheels/b3/52/a5/1fd9e3e76a7ab34f134c07469cd6f16e27ef3a37aeff1fe821\n",
            "  Building wheel for pynndescent (setup.py) ... \u001b[?25l\u001b[?25hdone\n",
            "  Created wheel for pynndescent: filename=pynndescent-0.5.6-py3-none-any.whl size=53943 sha256=2b6cf240f9468e95814679d2fa83f12d0122c0752504a285a5abf2de6f3b6771\n",
            "  Stored in directory: /root/.cache/pip/wheels/03/f1/56/f80d72741e400345b5a5b50ec3d929aca581bf45e0225d5c50\n",
            "  Building wheel for sacremoses (setup.py) ... \u001b[?25l\u001b[?25hdone\n",
            "  Created wheel for sacremoses: filename=sacremoses-0.0.53-py3-none-any.whl size=895260 sha256=ff7bbe59d24d5c6c807f84c568a091264d552eb06703c8abf3057286d43c796e\n",
            "  Stored in directory: /root/.cache/pip/wheels/87/39/dd/a83eeef36d0bf98e7a4d1933a4ad2d660295a40613079bafc9\n",
            "Successfully built umap-learn pynndescent sacremoses\n",
            "Installing collected packages: pyyaml, tokenizers, sacremoses, pynndescent, huggingface-hub, umap-learn, transformers, plotly, kaleido\n",
            "  Attempting uninstall: pyyaml\n",
            "    Found existing installation: PyYAML 3.13\n",
            "    Uninstalling PyYAML-3.13:\n",
            "      Successfully uninstalled PyYAML-3.13\n",
            "  Attempting uninstall: plotly\n",
            "    Found existing installation: plotly 5.5.0\n",
            "    Uninstalling plotly-5.5.0:\n",
            "      Successfully uninstalled plotly-5.5.0\n",
            "Successfully installed huggingface-hub-0.5.1 kaleido-0.2.1 plotly-5.7.0 pynndescent-0.5.6 pyyaml-5.4.1 sacremoses-0.0.53 tokenizers-0.12.1 transformers-4.18.0 umap-learn-0.5.3\n"
          ]
        }
      ],
      "source": [
        "# Falls die Packages noch nicht installiert wurden, \n",
        "!pip install -r \"/content/replication-topic-modelling-in-embedding-space/requirements.txt\""
      ]
    },
    {
      "cell_type": "markdown",
      "metadata": {
        "id": "k7xiPgja8eZe"
      },
      "source": [
        "# **Gebrauchte Paketen importieren**"
      ]
    },
    {
      "cell_type": "code",
      "execution_count": 4,
      "metadata": {
        "id": "uV7KZhGq1P7g",
        "outputId": "629b9522-6da6-4bf1-9961-91bdadc2dffc",
        "colab": {
          "base_uri": "https://localhost:8080/"
        }
      },
      "outputs": [
        {
          "output_type": "stream",
          "name": "stderr",
          "text": [
            "/usr/local/lib/python3.7/dist-packages/distributed/config.py:20: YAMLLoadWarning: calling yaml.load() without Loader=... is deprecated, as the default Loader is unsafe. Please read https://msg.pyyaml.org/load for full details.\n",
            "  defaults = yaml.load(f)\n"
          ]
        }
      ],
      "source": [
        "import pandas as pd\n",
        "from pathlib import Path\n",
        "import matplotlib.pyplot as plt\n",
        "%matplotlib inline\n",
        "import umap.umap_ as umap\n",
        "import time\n",
        "import plotly.express as px\n",
        "from sklearn import cluster\n",
        "from sklearn import metrics"
      ]
    },
    {
      "cell_type": "markdown",
      "metadata": {
        "id": "QzWqQhPQdJWV"
      },
      "source": [
        "# **Vorverarbeitung und BOW-Repräsentationen für Textdaten durchführen**\n",
        "1. Vocabular erstellen\n",
        "2. BOW-Repräsentationen für allen Teildatensätzen"
      ]
    },
    {
      "cell_type": "code",
      "execution_count": 5,
      "metadata": {
        "id": "1OCULr82pfgk"
      },
      "outputs": [],
      "source": [
        "from src.prepare_dataset import TextDataLoader"
      ]
    },
    {
      "cell_type": "code",
      "execution_count": 6,
      "metadata": {
        "colab": {
          "base_uri": "https://localhost:8080/"
        },
        "id": "cy0PpjxEpbrR",
        "outputId": "f2de6aa2-52bd-4838-f499-b054c0c00f21"
      },
      "outputs": [
        {
          "output_type": "stream",
          "name": "stdout",
          "text": [
            "loading texts: ...\n",
            "finished load!\n",
            "check some sample texts of the dataset\n",
            "['From', ':', 'lerxst', '@', 'wam', '.', 'umd', '.', 'edu', '(', \"where's\", 'my', 'thing', ')', 'Subject', ':', 'WHAT', 'car', 'is', 'this', '!', '?', 'Nntp', 'Posting', 'Host', ':', 'rac3', '.', 'wam', '.', 'umd', '.', 'edu', 'Organization', ':', 'University', 'of', 'Maryland', ',', 'College', 'Park', 'Lines', ':', '15', 'I', 'was', 'wondering', 'if', 'anyone', 'out', 'there', 'could', 'enlighten', 'me', 'on', 'this', 'car', 'I', 'saw', 'the', 'other', 'day', '.', 'It', 'was', 'a', '2', 'door', 'sports', 'car', ',', 'looked', 'to', 'be', 'from', 'the', 'late', '60s', '/', 'early', '70s', '.', 'It', 'was', 'called', 'a', 'Bricklin', '.', 'The', 'doors', 'were', 'really', 'small', '.', 'In', 'addition', ',', 'the', 'front', 'bumper', 'was', 'separate', 'from', 'the', 'rest', 'of', 'the', 'body', '.', 'This', 'is', 'all', 'I', 'know', '.', 'If', 'anyone', 'can', 'tellme', 'a', 'model', 'name', ',', 'engine', 'specs', ',', 'years', 'of', 'production', ',', 'where', 'this', 'car', 'is', 'made', ',', 'history', ',', 'or', 'whatever', 'info', 'you', 'have', 'on', 'this', 'funky', 'looking', 'car', ',', 'please', 'e', 'mail', '.', 'Thanks', ',', 'IL', 'brought', 'to', 'you', 'by', 'your', 'neighborhood', 'Lerxst']\n",
            "====================================================================================================\n",
            "['From', ':', 'guykuo', '@', 'carson', '.', 'u', '.', 'washington', '.', 'edu', '(', 'Guy', 'Kuo', ')', 'Subject', ':', 'SI', 'Clock', 'Poll', 'Final', 'Call', 'Summary', ':', 'Final', 'call', 'for', 'SI', 'clock', 'reports', 'Keywords', ':', 'SI', ',', 'acceleration', ',', 'clock', ',', 'upgrade', 'Article', 'I', '.', 'D', '.', ':', 'shelley', '.', '1qvfo9INNc3s', 'Organization', ':', 'University', 'of', 'Washington', 'Lines', ':', '11', 'NNTP', 'Posting', 'Host', ':', 'carson', '.', 'u', '.', 'washington', '.', 'edu', 'A', 'fair', 'number', 'of', 'brave', 'souls', 'who', 'upgraded', 'their', 'SI', 'clock', 'oscillator', 'have', 'shared', 'their', 'experiences', 'for', 'this', 'poll', '.', 'Please', 'send', 'a', 'brief', 'message', 'detailing', 'your', 'experiences', 'with', 'the', 'procedure', '.', 'Top', 'speed', 'attained', ',', 'CPU', 'rated', 'speed', ',', 'add', 'on', 'cards', 'and', 'adapters', ',', 'heat', 'sinks', ',', 'hour', 'of', 'usage', 'per', 'day', ',', 'floppy', 'disk', 'functionality', 'with', '800', 'and', '1', '.', '4', 'm', 'floppies', 'are', 'especially', 'requested', '.', 'I', 'will', 'be', 'summarizing', 'in', 'the', 'next', 'two', 'days', ',', 'so', 'please', 'add', 'to', 'the', 'network', 'knowledge', 'base', 'if', 'you', 'have', 'done', 'the', 'clock', 'upgrade', 'and', \"haven't\", 'answered', 'this', 'poll', '.', 'Thanks', '.', 'Guy', 'Kuo', '<', 'guykuo', '@', 'u', '.', 'washington', '.', 'edu', '>']\n",
            "====================================================================================================\n"
          ]
        }
      ],
      "source": [
        "# init TextDataLoader für die Datenquelle 20 News Groups\n",
        "# Daten abrufen vom Sklearn, tokenisieren und besondere Charaktern entfernen\n",
        "textsloader = TextDataLoader(source=\"20newsgroups\", train_size=None, test_size=None)\n",
        "textsloader.load_tokenize_texts(\"20newsgroups\")\n",
        "# Beispiel von Textdaten\n",
        "textsloader.show_example_raw_texts(n_docs=2)"
      ]
    },
    {
      "cell_type": "code",
      "execution_count": 7,
      "metadata": {
        "colab": {
          "base_uri": "https://localhost:8080/"
        },
        "id": "5odpQDJ7qPTt",
        "outputId": "44a65543-96f8-4fed-80d0-ee80c1f35b55"
      },
      "outputs": [
        {
          "output_type": "stream",
          "name": "stdout",
          "text": [
            "start: preprocessing: ...\n",
            "finised: preprocessing!\n"
          ]
        }
      ],
      "source": [
        "# Vorverarbeitung von Daten mit folgenden Schritten:\n",
        "textsloader.preprocess_texts(length_one_remove=True, punctuation_lower = True, stopwords_filter = True)"
      ]
    },
    {
      "cell_type": "code",
      "execution_count": 8,
      "metadata": {
        "colab": {
          "base_uri": "https://localhost:8080/"
        },
        "id": "PRRCNPa9qXfq",
        "outputId": "0b160756-b77b-45e7-d667-dab7feecfb7b"
      },
      "outputs": [
        {
          "output_type": "stream",
          "name": "stdout",
          "text": [
            "test-document-frequency: \n",
            "[[10 12 11 ... 21 22 10]]\n",
            "vocab-size in df: 1266\n",
            "start creating vocabulary ...\n",
            "length of the vocabulary: 1266\n",
            "sample ten words of the vocabulary: ['talking', 'contact', 'advantage', 'race', 'agree', 'includes', 'bunch', 'andy', 'rate', 'hockey']\n",
            "length word2id list: 1266\n",
            "length id2word list: 1266\n",
            "finished: creating vocabulary\n"
          ]
        }
      ],
      "source": [
        "# Daten zerlegen für Train, Test und Validation. Erstellen Vocabular aus dem Trainset\n",
        "min_df=10\n",
        "textsloader.split_and_create_voca_from_trainset(max_df=0.7, min_df=min_df, stopwords_remove_from_voca=True)"
      ]
    },
    {
      "cell_type": "markdown",
      "source": [
        "# **LDA Model**"
      ],
      "metadata": {
        "id": "YJ_A7LCsrQNO"
      }
    },
    {
      "cell_type": "code",
      "execution_count": 32,
      "metadata": {
        "colab": {
          "base_uri": "https://localhost:8080/"
        },
        "id": "etzyjh_nqi19",
        "outputId": "89b6c0e4-ad17-44a1-f91d-1009d5087017"
      },
      "outputs": [
        {
          "output_type": "stream",
          "name": "stdout",
          "text": [
            "length train-documents-indices : 33578\n",
            "length of the vocabulary: 1266\n",
            "\n",
            "\n",
            "start: creating bow representation...\n",
            "finised creating bow input!\n",
            "\n",
            "start: creating bow representation...\n",
            "finised creating bow input!\n",
            "\n",
            "start: creating bow representation...\n",
            "finised creating bow input!\n",
            "\n",
            "start: creating bow representation...\n",
            "finised creating bow input!\n",
            "\n",
            "start: creating bow representation...\n",
            "finised creating bow input!\n",
            "\n",
            "compact representation for LDA\n",
            "----------------------------------------------------------------------------------------------------\n",
            "['date', 'israel', 'chicago', 'cleveland', 'purdue', 'ago', 'christ', 'rate', 'mind', 'freenet']\n",
            "['date', 'israel', 'max', 'understand', 'chicago', 'cleveland', 'colorado', 'thunder', 'newsreader', 'quoted']\n",
            "['israel', 'christ', 'keeping', 'pa', 'chicago', 'needed', 'fire', 'bigger', 'pc', 'sitting']\n",
            "['christ', 'posts', 'east', 'drop', 'israel', 'dale', 'choose', 'toronto', 'ac', 'purdue']\n",
            "['play', 'chicago', 'answer', 'israel', 'street', 'sounds', 'east', 'luck', 'keeping', 'correctly']\n",
            "['drop', 'date', 'israel', 'published', 'heart', 'ram', 'dale', 'leave', 'keeping', 'happy']\n",
            "['israel', 'east', 'published', 'ny', 'christ', 'chicago', 'mind', 'hot', 'ready', 'andy']\n",
            "['rick', 'easier', 'developed', 'israel', 'due', 'east', 'policy', 'double', 'hands', 'press']\n",
            "['brown', 'christ', 'dale', 'chicago', 'israel', 'date', 'mind', 'heart', 'pc', 'access']\n",
            "['mind', 'date', 'published', 'drop', 'christ', 'chicago', 'access', 'berkeley', 'purdue', 'student']\n",
            "----------------------------------------------------------------------------------------------------\n",
            "-0.06702209584231258\n",
            "-2.174647613432331\n"
          ]
        }
      ],
      "source": [
        "from src.evaluierung import topicCoherence\n",
        "from gensim.models.coherencemodel import CoherenceModel\n",
        "from src.lda import lda\n",
        "from gensim.parsing.preprocessing import preprocess_string, strip_punctuation, strip_numeric\n",
        "\n",
        "\n",
        "# Erstellen BOW-Repräsentation für LDA Model\n",
        "for_lda_model = True \n",
        "word2id, id2word, train_set, test_set, val_set = textsloader.create_bow_and_savebow_for_each_set(for_lda_model=for_lda_model)\n",
        "docs_tr, docs_t, docs_v = textsloader.get_docs_in_words_for_each_set()\n",
        "#lda model\n",
        "print(100*\"-\")\n",
        "\n",
        "ldamodel = lda(train_set,10,id2word)\n",
        "lda_topics = ldamodel.show_topics(num_words=10)\n",
        "topics = []\n",
        "filters = [lambda x: x.lower(), strip_punctuation, strip_numeric]\n",
        "for topic in lda_topics:\n",
        "    #print(topic)\n",
        "    topics.append(preprocess_string(topic[1], filters))\n",
        "for topic in topics:\n",
        "  print(topic)\n",
        "print(100*\"-\")\n",
        "tc = topicCoherence(topics,10,docs_tr,len(docs_tr))\n",
        "print(tc)\n",
        "\n",
        "#----------using coherence from gensim-----\n",
        "class DictObj:\n",
        "  def __init__(self, word2id, id2word):\n",
        "    self.id2token = id2word\n",
        "    self.token2id = word2id\n",
        "\n",
        "my_dict_obj = DictObj(word2id, id2word)\n",
        "cm = CoherenceModel(topics=topics, texts = docs_tr, corpus = train_set, dictionary = my_dict_obj, coherence='u_mass')\n",
        "print(cm.get_coherence())"
      ]
    },
    {
      "cell_type": "markdown",
      "source": [
        "# **Data for ETM**"
      ],
      "metadata": {
        "id": "_e4-RQrsw1Ct"
      }
    },
    {
      "cell_type": "code",
      "source": [
        "# Erstellen BOW-Repräsentation für ETM Modell\n",
        "for_lda_model = False\n",
        "word2id, id2word, train_set, test_set, val_set = textsloader.create_bow_and_savebow_for_each_set(for_lda_model=for_lda_model)\n"
      ],
      "metadata": {
        "id": "SJPDsdmMqbmf",
        "outputId": "dc37b914-dd44-467c-d9c6-60036e40bd26",
        "colab": {
          "base_uri": "https://localhost:8080/"
        }
      },
      "execution_count": 27,
      "outputs": [
        {
          "output_type": "stream",
          "name": "stdout",
          "text": [
            "length train-documents-indices : 33578\n",
            "length of the vocabulary: 1266\n",
            "\n",
            "\n",
            "start: creating bow representation...\n",
            "finised creating bow input!\n",
            "\n",
            "start: creating bow representation...\n",
            "finised creating bow input!\n",
            "\n",
            "start: creating bow representation...\n",
            "finised creating bow input!\n",
            "\n",
            "start: creating bow representation...\n",
            "finised creating bow input!\n",
            "\n",
            "start: creating bow representation...\n",
            "finised creating bow input!\n",
            "\n",
            "id2word befor saving: dict_keys([0, 1, 2, 3, 4, 5, 6, 7, 8, 9, 10, 11, 12, 13, 14, 15, 16, 17, 18, 19, 20, 21, 22, 23, 24, 25, 26, 27, 28, 29, 30, 31, 32, 33, 34, 35, 36, 37, 38, 39, 40, 41, 42, 43, 44, 45, 46, 47, 48, 49, 50, 51, 52, 53, 54, 55, 56, 57, 58, 59, 60, 61, 62, 63, 64, 65, 66, 67, 68, 69, 70, 71, 72, 73, 74, 75, 76, 77, 78, 79, 80, 81, 82, 83, 84, 85, 86, 87, 88, 89, 90, 91, 92, 93, 94, 95, 96, 97, 98, 99, 100, 101, 102, 103, 104, 105, 106, 107, 108, 109, 110, 111, 112, 113, 114, 115, 116, 117, 118, 119, 120, 121, 122, 123, 124, 125, 126, 127, 128, 129, 130, 131, 132, 133, 134, 135, 136, 137, 138, 139, 140, 141, 142, 143, 144, 145, 146, 147, 148, 149, 150, 151, 152, 153, 154, 155, 156, 157, 158, 159, 160, 161, 162, 163, 164, 165, 166, 167, 168, 169, 170, 171, 172, 173, 174, 175, 176, 177, 178, 179, 180, 181, 182, 183, 184, 185, 186, 187, 188, 189, 190, 191, 192, 193, 194, 195, 196, 197, 198, 199, 200, 201, 202, 203, 204, 205, 206, 207, 208, 209, 210, 211, 212, 213, 214, 215, 216, 217, 218, 219, 220, 221, 222, 223, 224, 225, 226, 227, 228, 229, 230, 231, 232, 233, 234, 235, 236, 237, 238, 239, 240, 241, 242, 243, 244, 245, 246, 247, 248, 249, 250, 251, 252, 253, 254, 255, 256, 257, 258, 259, 260, 261, 262, 263, 264, 265, 266, 267, 268, 269, 270, 271, 272, 273, 274, 275, 276, 277, 278, 279, 280, 281, 282, 283, 284, 285, 286, 287, 288, 289, 290, 291, 292, 293, 294, 295, 296, 297, 298, 299, 300, 301, 302, 303, 304, 305, 306, 307, 308, 309, 310, 311, 312, 313, 314, 315, 316, 317, 318, 319, 320, 321, 322, 323, 324, 325, 326, 327, 328, 329, 330, 331, 332, 333, 334, 335, 336, 337, 338, 339, 340, 341, 342, 343, 344, 345, 346, 347, 348, 349, 350, 351, 352, 353, 354, 355, 356, 357, 358, 359, 360, 361, 362, 363, 364, 365, 366, 367, 368, 369, 370, 371, 372, 373, 374, 375, 376, 377, 378, 379, 380, 381, 382, 383, 384, 385, 386, 387, 388, 389, 390, 391, 392, 393, 394, 395, 396, 397, 398, 399, 400, 401, 402, 403, 404, 405, 406, 407, 408, 409, 410, 411, 412, 413, 414, 415, 416, 417, 418, 419, 420, 421, 422, 423, 424, 425, 426, 427, 428, 429, 430, 431, 432, 433, 434, 435, 436, 437, 438, 439, 440, 441, 442, 443, 444, 445, 446, 447, 448, 449, 450, 451, 452, 453, 454, 455, 456, 457, 458, 459, 460, 461, 462, 463, 464, 465, 466, 467, 468, 469, 470, 471, 472, 473, 474, 475, 476, 477, 478, 479, 480, 481, 482, 483, 484, 485, 486, 487, 488, 489, 490, 491, 492, 493, 494, 495, 496, 497, 498, 499, 500, 501, 502, 503, 504, 505, 506, 507, 508, 509, 510, 511, 512, 513, 514, 515, 516, 517, 518, 519, 520, 521, 522, 523, 524, 525, 526, 527, 528, 529, 530, 531, 532, 533, 534, 535, 536, 537, 538, 539, 540, 541, 542, 543, 544, 545, 546, 547, 548, 549, 550, 551, 552, 553, 554, 555, 556, 557, 558, 559, 560, 561, 562, 563, 564, 565, 566, 567, 568, 569, 570, 571, 572, 573, 574, 575, 576, 577, 578, 579, 580, 581, 582, 583, 584, 585, 586, 587, 588, 589, 590, 591, 592, 593, 594, 595, 596, 597, 598, 599, 600, 601, 602, 603, 604, 605, 606, 607, 608, 609, 610, 611, 612, 613, 614, 615, 616, 617, 618, 619, 620, 621, 622, 623, 624, 625, 626, 627, 628, 629, 630, 631, 632, 633, 634, 635, 636, 637, 638, 639, 640, 641, 642, 643, 644, 645, 646, 647, 648, 649, 650, 651, 652, 653, 654, 655, 656, 657, 658, 659, 660, 661, 662, 663, 664, 665, 666, 667, 668, 669, 670, 671, 672, 673, 674, 675, 676, 677, 678, 679, 680, 681, 682, 683, 684, 685, 686, 687, 688, 689, 690, 691, 692, 693, 694, 695, 696, 697, 698, 699, 700, 701, 702, 703, 704, 705, 706, 707, 708, 709, 710, 711, 712, 713, 714, 715, 716, 717, 718, 719, 720, 721, 722, 723, 724, 725, 726, 727, 728, 729, 730, 731, 732, 733, 734, 735, 736, 737, 738, 739, 740, 741, 742, 743, 744, 745, 746, 747, 748, 749, 750, 751, 752, 753, 754, 755, 756, 757, 758, 759, 760, 761, 762, 763, 764, 765, 766, 767, 768, 769, 770, 771, 772, 773, 774, 775, 776, 777, 778, 779, 780, 781, 782, 783, 784, 785, 786, 787, 788, 789, 790, 791, 792, 793, 794, 795, 796, 797, 798, 799, 800, 801, 802, 803, 804, 805, 806, 807, 808, 809, 810, 811, 812, 813, 814, 815, 816, 817, 818, 819, 820, 821, 822, 823, 824, 825, 826, 827, 828, 829, 830, 831, 832, 833, 834, 835, 836, 837, 838, 839, 840, 841, 842, 843, 844, 845, 846, 847, 848, 849, 850, 851, 852, 853, 854, 855, 856, 857, 858, 859, 860, 861, 862, 863, 864, 865, 866, 867, 868, 869, 870, 871, 872, 873, 874, 875, 876, 877, 878, 879, 880, 881, 882, 883, 884, 885, 886, 887, 888, 889, 890, 891, 892, 893, 894, 895, 896, 897, 898, 899, 900, 901, 902, 903, 904, 905, 906, 907, 908, 909, 910, 911, 912, 913, 914, 915, 916, 917, 918, 919, 920, 921, 922, 923, 924, 925, 926, 927, 928, 929, 930, 931, 932, 933, 934, 935, 936, 937, 938, 939, 940, 941, 942, 943, 944, 945, 946, 947, 948, 949, 950, 951, 952, 953, 954, 955, 956, 957, 958, 959, 960, 961, 962, 963, 964, 965, 966, 967, 968, 969, 970, 971, 972, 973, 974, 975, 976, 977, 978, 979, 980, 981, 982, 983, 984, 985, 986, 987, 988, 989, 990, 991, 992, 993, 994, 995, 996, 997, 998, 999, 1000, 1001, 1002, 1003, 1004, 1005, 1006, 1007, 1008, 1009, 1010, 1011, 1012, 1013, 1014, 1015, 1016, 1017, 1018, 1019, 1020, 1021, 1022, 1023, 1024, 1025, 1026, 1027, 1028, 1029, 1030, 1031, 1032, 1033, 1034, 1035, 1036, 1037, 1038, 1039, 1040, 1041, 1042, 1043, 1044, 1045, 1046, 1047, 1048, 1049, 1050, 1051, 1052, 1053, 1054, 1055, 1056, 1057, 1058, 1059, 1060, 1061, 1062, 1063, 1064, 1065, 1066, 1067, 1068, 1069, 1070, 1071, 1072, 1073, 1074, 1075, 1076, 1077, 1078, 1079, 1080, 1081, 1082, 1083, 1084, 1085, 1086, 1087, 1088, 1089, 1090, 1091, 1092, 1093, 1094, 1095, 1096, 1097, 1098, 1099, 1100, 1101, 1102, 1103, 1104, 1105, 1106, 1107, 1108, 1109, 1110, 1111, 1112, 1113, 1114, 1115, 1116, 1117, 1118, 1119, 1120, 1121, 1122, 1123, 1124, 1125, 1126, 1127, 1128, 1129, 1130, 1131, 1132, 1133, 1134, 1135, 1136, 1137, 1138, 1139, 1140, 1141, 1142, 1143, 1144, 1145, 1146, 1147, 1148, 1149, 1150, 1151, 1152, 1153, 1154, 1155, 1156, 1157, 1158, 1159, 1160, 1161, 1162, 1163, 1164, 1165, 1166, 1167, 1168, 1169, 1170, 1171, 1172, 1173, 1174, 1175, 1176, 1177, 1178, 1179, 1180, 1181, 1182, 1183, 1184, 1185, 1186, 1187, 1188, 1189, 1190, 1191, 1192, 1193, 1194, 1195, 1196, 1197, 1198, 1199, 1200, 1201, 1202, 1203, 1204, 1205, 1206, 1207, 1208, 1209, 1210, 1211, 1212, 1213, 1214, 1215, 1216, 1217, 1218, 1219, 1220, 1221, 1222, 1223, 1224, 1225, 1226, 1227, 1228, 1229, 1230, 1231, 1232, 1233, 1234, 1235, 1236, 1237, 1238, 1239, 1240, 1241, 1242, 1243, 1244, 1245, 1246, 1247, 1248, 1249, 1250, 1251, 1252, 1253, 1254, 1255, 1256, 1257, 1258, 1259, 1260, 1261, 1262, 1263, 1264, 1265])\n"
          ]
        }
      ]
    },
    {
      "cell_type": "markdown",
      "metadata": {
        "id": "r-DXUMguC8zM"
      },
      "source": [
        "# **Vocabular und IDs anzeigen als Beispiel**\n",
        "\n",
        "---\n",
        "\n",
        "\n",
        "\n"
      ]
    },
    {
      "cell_type": "code",
      "execution_count": 11,
      "metadata": {
        "colab": {
          "base_uri": "https://localhost:8080/",
          "height": 424
        },
        "id": "6RBJYhLHCfwy",
        "outputId": "7af9344d-79fc-48b5-9f34-a5ee74bc5b7d"
      },
      "outputs": [
        {
          "output_type": "execute_result",
          "data": {
            "text/plain": [
              "         word  id\n",
              "0     talking   0\n",
              "1     contact   1\n",
              "2   advantage   2\n",
              "3        race   3\n",
              "4       agree   4\n",
              "..        ...  ..\n",
              "95         uk  95\n",
              "96      price  96\n",
              "97      peace  97\n",
              "98      count  98\n",
              "99   products  99\n",
              "\n",
              "[100 rows x 2 columns]"
            ],
            "text/html": [
              "\n",
              "  <div id=\"df-6f770a02-f777-416b-9927-f5b996472c45\">\n",
              "    <div class=\"colab-df-container\">\n",
              "      <div>\n",
              "<style scoped>\n",
              "    .dataframe tbody tr th:only-of-type {\n",
              "        vertical-align: middle;\n",
              "    }\n",
              "\n",
              "    .dataframe tbody tr th {\n",
              "        vertical-align: top;\n",
              "    }\n",
              "\n",
              "    .dataframe thead th {\n",
              "        text-align: right;\n",
              "    }\n",
              "</style>\n",
              "<table border=\"1\" class=\"dataframe\">\n",
              "  <thead>\n",
              "    <tr style=\"text-align: right;\">\n",
              "      <th></th>\n",
              "      <th>word</th>\n",
              "      <th>id</th>\n",
              "    </tr>\n",
              "  </thead>\n",
              "  <tbody>\n",
              "    <tr>\n",
              "      <th>0</th>\n",
              "      <td>talking</td>\n",
              "      <td>0</td>\n",
              "    </tr>\n",
              "    <tr>\n",
              "      <th>1</th>\n",
              "      <td>contact</td>\n",
              "      <td>1</td>\n",
              "    </tr>\n",
              "    <tr>\n",
              "      <th>2</th>\n",
              "      <td>advantage</td>\n",
              "      <td>2</td>\n",
              "    </tr>\n",
              "    <tr>\n",
              "      <th>3</th>\n",
              "      <td>race</td>\n",
              "      <td>3</td>\n",
              "    </tr>\n",
              "    <tr>\n",
              "      <th>4</th>\n",
              "      <td>agree</td>\n",
              "      <td>4</td>\n",
              "    </tr>\n",
              "    <tr>\n",
              "      <th>...</th>\n",
              "      <td>...</td>\n",
              "      <td>...</td>\n",
              "    </tr>\n",
              "    <tr>\n",
              "      <th>95</th>\n",
              "      <td>uk</td>\n",
              "      <td>95</td>\n",
              "    </tr>\n",
              "    <tr>\n",
              "      <th>96</th>\n",
              "      <td>price</td>\n",
              "      <td>96</td>\n",
              "    </tr>\n",
              "    <tr>\n",
              "      <th>97</th>\n",
              "      <td>peace</td>\n",
              "      <td>97</td>\n",
              "    </tr>\n",
              "    <tr>\n",
              "      <th>98</th>\n",
              "      <td>count</td>\n",
              "      <td>98</td>\n",
              "    </tr>\n",
              "    <tr>\n",
              "      <th>99</th>\n",
              "      <td>products</td>\n",
              "      <td>99</td>\n",
              "    </tr>\n",
              "  </tbody>\n",
              "</table>\n",
              "<p>100 rows × 2 columns</p>\n",
              "</div>\n",
              "      <button class=\"colab-df-convert\" onclick=\"convertToInteractive('df-6f770a02-f777-416b-9927-f5b996472c45')\"\n",
              "              title=\"Convert this dataframe to an interactive table.\"\n",
              "              style=\"display:none;\">\n",
              "        \n",
              "  <svg xmlns=\"http://www.w3.org/2000/svg\" height=\"24px\"viewBox=\"0 0 24 24\"\n",
              "       width=\"24px\">\n",
              "    <path d=\"M0 0h24v24H0V0z\" fill=\"none\"/>\n",
              "    <path d=\"M18.56 5.44l.94 2.06.94-2.06 2.06-.94-2.06-.94-.94-2.06-.94 2.06-2.06.94zm-11 1L8.5 8.5l.94-2.06 2.06-.94-2.06-.94L8.5 2.5l-.94 2.06-2.06.94zm10 10l.94 2.06.94-2.06 2.06-.94-2.06-.94-.94-2.06-.94 2.06-2.06.94z\"/><path d=\"M17.41 7.96l-1.37-1.37c-.4-.4-.92-.59-1.43-.59-.52 0-1.04.2-1.43.59L10.3 9.45l-7.72 7.72c-.78.78-.78 2.05 0 2.83L4 21.41c.39.39.9.59 1.41.59.51 0 1.02-.2 1.41-.59l7.78-7.78 2.81-2.81c.8-.78.8-2.07 0-2.86zM5.41 20L4 18.59l7.72-7.72 1.47 1.35L5.41 20z\"/>\n",
              "  </svg>\n",
              "      </button>\n",
              "      \n",
              "  <style>\n",
              "    .colab-df-container {\n",
              "      display:flex;\n",
              "      flex-wrap:wrap;\n",
              "      gap: 12px;\n",
              "    }\n",
              "\n",
              "    .colab-df-convert {\n",
              "      background-color: #E8F0FE;\n",
              "      border: none;\n",
              "      border-radius: 50%;\n",
              "      cursor: pointer;\n",
              "      display: none;\n",
              "      fill: #1967D2;\n",
              "      height: 32px;\n",
              "      padding: 0 0 0 0;\n",
              "      width: 32px;\n",
              "    }\n",
              "\n",
              "    .colab-df-convert:hover {\n",
              "      background-color: #E2EBFA;\n",
              "      box-shadow: 0px 1px 2px rgba(60, 64, 67, 0.3), 0px 1px 3px 1px rgba(60, 64, 67, 0.15);\n",
              "      fill: #174EA6;\n",
              "    }\n",
              "\n",
              "    [theme=dark] .colab-df-convert {\n",
              "      background-color: #3B4455;\n",
              "      fill: #D2E3FC;\n",
              "    }\n",
              "\n",
              "    [theme=dark] .colab-df-convert:hover {\n",
              "      background-color: #434B5C;\n",
              "      box-shadow: 0px 1px 3px 1px rgba(0, 0, 0, 0.15);\n",
              "      filter: drop-shadow(0px 1px 2px rgba(0, 0, 0, 0.3));\n",
              "      fill: #FFFFFF;\n",
              "    }\n",
              "  </style>\n",
              "\n",
              "      <script>\n",
              "        const buttonEl =\n",
              "          document.querySelector('#df-6f770a02-f777-416b-9927-f5b996472c45 button.colab-df-convert');\n",
              "        buttonEl.style.display =\n",
              "          google.colab.kernel.accessAllowed ? 'block' : 'none';\n",
              "\n",
              "        async function convertToInteractive(key) {\n",
              "          const element = document.querySelector('#df-6f770a02-f777-416b-9927-f5b996472c45');\n",
              "          const dataTable =\n",
              "            await google.colab.kernel.invokeFunction('convertToInteractive',\n",
              "                                                     [key], {});\n",
              "          if (!dataTable) return;\n",
              "\n",
              "          const docLinkHtml = 'Like what you see? Visit the ' +\n",
              "            '<a target=\"_blank\" href=https://colab.research.google.com/notebooks/data_table.ipynb>data table notebook</a>'\n",
              "            + ' to learn more about interactive tables.';\n",
              "          element.innerHTML = '';\n",
              "          dataTable['output_type'] = 'display_data';\n",
              "          await google.colab.output.renderOutput(dataTable, element);\n",
              "          const docLink = document.createElement('div');\n",
              "          docLink.innerHTML = docLinkHtml;\n",
              "          element.appendChild(docLink);\n",
              "        }\n",
              "      </script>\n",
              "    </div>\n",
              "  </div>\n",
              "  "
            ]
          },
          "metadata": {},
          "execution_count": 11
        }
      ],
      "source": [
        "# show for samples: 100 word2id and id2 word\n",
        "word2id_df_100 = pd.DataFrame()\n",
        "word2id_df_100['word'] = list(word2id.keys())[:100]\n",
        "word2id_df_100['id'] = list(word2id.values())[:100]\n",
        "word2id_df_100"
      ]
    },
    {
      "cell_type": "markdown",
      "metadata": {
        "id": "tupeI6Pw85_L"
      },
      "source": [
        "# **Die Größe von Datensätzen kontrollieren**"
      ]
    },
    {
      "cell_type": "code",
      "execution_count": 12,
      "metadata": {
        "colab": {
          "base_uri": "https://localhost:8080/"
        },
        "id": "n1d-5ji3qwE8",
        "outputId": "38085299-44bc-4339-83d9-2fe7827a6238"
      },
      "outputs": [
        {
          "output_type": "stream",
          "name": "stdout",
          "text": [
            "Size of the vocabulary after prprocessing ist: 1266\n",
            "Size of train set: 619\n",
            "Size of val set: 101\n",
            "Size of test set: 80\n"
          ]
        }
      ],
      "source": [
        "# Kontrollieren die Größen von verschiedenen Datensätzen\n",
        "print(f'Size of the vocabulary after prprocessing ist: {len(textsloader.vocabulary)}')\n",
        "print(f'Size of train set: {len(train_set[\"tokens\"])}')\n",
        "print(f'Size of val set: {len(val_set[\"tokens\"])}')\n",
        "print(f'Size of test set: {len(test_set[\"test\"][\"tokens\"])}')"
      ]
    },
    {
      "cell_type": "markdown",
      "metadata": {
        "id": "bxQL5jQtDb1c"
      },
      "source": [
        "# **Dokumenten wiederstellen für Word2Vec Embedding**\n",
        "\n",
        "---\n",
        "\n"
      ]
    },
    {
      "cell_type": "code",
      "execution_count": 13,
      "metadata": {
        "colab": {
          "base_uri": "https://localhost:8080/",
          "height": 424
        },
        "id": "PDXEEBHfq3Cy",
        "outputId": "38602888-65de-4cc7-abe7-0d1d699483af"
      },
      "outputs": [
        {
          "output_type": "execute_result",
          "data": {
            "text/plain": [
              "                             text-after-preprocessing\n",
              "0   james warning read nntp posting host engineeri...\n",
              "1   au austin anti question nntp posting host cs o...\n",
              "2   bill texas university computing services distr...\n",
              "3   heaven biblical reply university chicago artic...\n",
              "4   cco caltech kevin nl week california institute...\n",
              "..                                                ...\n",
              "95  mi doug distribution world central sale includ...\n",
              "96  steve reply technology article dale dale write...\n",
              "97  stanford driver computer science department st...\n",
              "98  john summary keywords nntp posting host resear...\n",
              "99  cb att joseph request mail list article distri...\n",
              "\n",
              "[100 rows x 1 columns]"
            ],
            "text/html": [
              "\n",
              "  <div id=\"df-cacfe2f3-25e7-4adf-add1-0dd94b867a8c\">\n",
              "    <div class=\"colab-df-container\">\n",
              "      <div>\n",
              "<style scoped>\n",
              "    .dataframe tbody tr th:only-of-type {\n",
              "        vertical-align: middle;\n",
              "    }\n",
              "\n",
              "    .dataframe tbody tr th {\n",
              "        vertical-align: top;\n",
              "    }\n",
              "\n",
              "    .dataframe thead th {\n",
              "        text-align: right;\n",
              "    }\n",
              "</style>\n",
              "<table border=\"1\" class=\"dataframe\">\n",
              "  <thead>\n",
              "    <tr style=\"text-align: right;\">\n",
              "      <th></th>\n",
              "      <th>text-after-preprocessing</th>\n",
              "    </tr>\n",
              "  </thead>\n",
              "  <tbody>\n",
              "    <tr>\n",
              "      <th>0</th>\n",
              "      <td>james warning read nntp posting host engineeri...</td>\n",
              "    </tr>\n",
              "    <tr>\n",
              "      <th>1</th>\n",
              "      <td>au austin anti question nntp posting host cs o...</td>\n",
              "    </tr>\n",
              "    <tr>\n",
              "      <th>2</th>\n",
              "      <td>bill texas university computing services distr...</td>\n",
              "    </tr>\n",
              "    <tr>\n",
              "      <th>3</th>\n",
              "      <td>heaven biblical reply university chicago artic...</td>\n",
              "    </tr>\n",
              "    <tr>\n",
              "      <th>4</th>\n",
              "      <td>cco caltech kevin nl week california institute...</td>\n",
              "    </tr>\n",
              "    <tr>\n",
              "      <th>...</th>\n",
              "      <td>...</td>\n",
              "    </tr>\n",
              "    <tr>\n",
              "      <th>95</th>\n",
              "      <td>mi doug distribution world central sale includ...</td>\n",
              "    </tr>\n",
              "    <tr>\n",
              "      <th>96</th>\n",
              "      <td>steve reply technology article dale dale write...</td>\n",
              "    </tr>\n",
              "    <tr>\n",
              "      <th>97</th>\n",
              "      <td>stanford driver computer science department st...</td>\n",
              "    </tr>\n",
              "    <tr>\n",
              "      <th>98</th>\n",
              "      <td>john summary keywords nntp posting host resear...</td>\n",
              "    </tr>\n",
              "    <tr>\n",
              "      <th>99</th>\n",
              "      <td>cb att joseph request mail list article distri...</td>\n",
              "    </tr>\n",
              "  </tbody>\n",
              "</table>\n",
              "<p>100 rows × 1 columns</p>\n",
              "</div>\n",
              "      <button class=\"colab-df-convert\" onclick=\"convertToInteractive('df-cacfe2f3-25e7-4adf-add1-0dd94b867a8c')\"\n",
              "              title=\"Convert this dataframe to an interactive table.\"\n",
              "              style=\"display:none;\">\n",
              "        \n",
              "  <svg xmlns=\"http://www.w3.org/2000/svg\" height=\"24px\"viewBox=\"0 0 24 24\"\n",
              "       width=\"24px\">\n",
              "    <path d=\"M0 0h24v24H0V0z\" fill=\"none\"/>\n",
              "    <path d=\"M18.56 5.44l.94 2.06.94-2.06 2.06-.94-2.06-.94-.94-2.06-.94 2.06-2.06.94zm-11 1L8.5 8.5l.94-2.06 2.06-.94-2.06-.94L8.5 2.5l-.94 2.06-2.06.94zm10 10l.94 2.06.94-2.06 2.06-.94-2.06-.94-.94-2.06-.94 2.06-2.06.94z\"/><path d=\"M17.41 7.96l-1.37-1.37c-.4-.4-.92-.59-1.43-.59-.52 0-1.04.2-1.43.59L10.3 9.45l-7.72 7.72c-.78.78-.78 2.05 0 2.83L4 21.41c.39.39.9.59 1.41.59.51 0 1.02-.2 1.41-.59l7.78-7.78 2.81-2.81c.8-.78.8-2.07 0-2.86zM5.41 20L4 18.59l7.72-7.72 1.47 1.35L5.41 20z\"/>\n",
              "  </svg>\n",
              "      </button>\n",
              "      \n",
              "  <style>\n",
              "    .colab-df-container {\n",
              "      display:flex;\n",
              "      flex-wrap:wrap;\n",
              "      gap: 12px;\n",
              "    }\n",
              "\n",
              "    .colab-df-convert {\n",
              "      background-color: #E8F0FE;\n",
              "      border: none;\n",
              "      border-radius: 50%;\n",
              "      cursor: pointer;\n",
              "      display: none;\n",
              "      fill: #1967D2;\n",
              "      height: 32px;\n",
              "      padding: 0 0 0 0;\n",
              "      width: 32px;\n",
              "    }\n",
              "\n",
              "    .colab-df-convert:hover {\n",
              "      background-color: #E2EBFA;\n",
              "      box-shadow: 0px 1px 2px rgba(60, 64, 67, 0.3), 0px 1px 3px 1px rgba(60, 64, 67, 0.15);\n",
              "      fill: #174EA6;\n",
              "    }\n",
              "\n",
              "    [theme=dark] .colab-df-convert {\n",
              "      background-color: #3B4455;\n",
              "      fill: #D2E3FC;\n",
              "    }\n",
              "\n",
              "    [theme=dark] .colab-df-convert:hover {\n",
              "      background-color: #434B5C;\n",
              "      box-shadow: 0px 1px 3px 1px rgba(0, 0, 0, 0.15);\n",
              "      filter: drop-shadow(0px 1px 2px rgba(0, 0, 0, 0.3));\n",
              "      fill: #FFFFFF;\n",
              "    }\n",
              "  </style>\n",
              "\n",
              "      <script>\n",
              "        const buttonEl =\n",
              "          document.querySelector('#df-cacfe2f3-25e7-4adf-add1-0dd94b867a8c button.colab-df-convert');\n",
              "        buttonEl.style.display =\n",
              "          google.colab.kernel.accessAllowed ? 'block' : 'none';\n",
              "\n",
              "        async function convertToInteractive(key) {\n",
              "          const element = document.querySelector('#df-cacfe2f3-25e7-4adf-add1-0dd94b867a8c');\n",
              "          const dataTable =\n",
              "            await google.colab.kernel.invokeFunction('convertToInteractive',\n",
              "                                                     [key], {});\n",
              "          if (!dataTable) return;\n",
              "\n",
              "          const docLinkHtml = 'Like what you see? Visit the ' +\n",
              "            '<a target=\"_blank\" href=https://colab.research.google.com/notebooks/data_table.ipynb>data table notebook</a>'\n",
              "            + ' to learn more about interactive tables.';\n",
              "          element.innerHTML = '';\n",
              "          dataTable['output_type'] = 'display_data';\n",
              "          await google.colab.output.renderOutput(dataTable, element);\n",
              "          const docLink = document.createElement('div');\n",
              "          docLink.innerHTML = docLinkHtml;\n",
              "          element.appendChild(docLink);\n",
              "        }\n",
              "      </script>\n",
              "    </div>\n",
              "  </div>\n",
              "  "
            ]
          },
          "metadata": {},
          "execution_count": 13
        }
      ],
      "source": [
        "# re-erstellen von Dokumenten nach der Vorverarbeitungen. Die Dokumenten sind in Wörtern und werden für Word-Embedding Training benutzt\n",
        "docs_tr, docs_t, docs_v = textsloader.get_docs_in_words_for_each_set()\n",
        "train_docs_df = pd.DataFrame()\n",
        "train_docs_df['text-after-preprocessing'] = [' '.join(doc) for doc in docs_tr[:100]]\n",
        "train_docs_df"
      ]
    },
    {
      "cell_type": "markdown",
      "metadata": {
        "id": "Ds_KuUTQrK5P"
      },
      "source": [
        "# **Word-Embedding trainieren mit dem Traindatensatz**"
      ]
    },
    {
      "cell_type": "code",
      "execution_count": 14,
      "metadata": {
        "colab": {
          "base_uri": "https://localhost:8080/",
          "height": 874
        },
        "id": "KBexKIVf8Qs5",
        "outputId": "af687133-30b7-4d21-ccfa-6b226d8b0bba"
      },
      "outputs": [
        {
          "output_type": "stream",
          "name": "stdout",
          "text": [
            "train begin:word-embedding with skipgram\n",
            "word-embedding train finished\n",
            "length of vocabulary from word-embedding model 1266\n",
            "length of the vocabulary of prepraring-dataset-vocabulary: 1266\n"
          ]
        },
        {
          "output_type": "stream",
          "name": "stderr",
          "text": [
            "100%|██████████| 1266/1266 [00:00<00:00, 5779.02it/s]\n"
          ]
        },
        {
          "output_type": "stream",
          "name": "stdout",
          "text": [
            "Cluster id labels for inputted data\n",
            "[8 0 0 ... 0 0 8]\n",
            "Centroids data\n",
            "[[0.09939051 0.02837185 0.06616082 ... 0.05790663 0.026195   0.0400635 ]\n",
            " [0.06024716 0.05821724 0.05739617 ... 0.12375513 0.11753448 0.10036002]\n",
            " [0.1951496  0.00352673 0.11886672 ... 0.0682599  0.22737615 0.08329193]\n",
            " ...\n",
            " [0.12709971 0.02522593 0.08363526 ... 0.08029316 0.15288218 0.07655664]\n",
            " [0.11021321 0.02182969 0.06878618 ... 0.04149849 0.0012163  0.02498275]\n",
            " [0.04385646 0.07802396 0.05918485 ... 0.17187673 0.18560496 0.14340425]]\n"
          ]
        },
        {
          "output_type": "stream",
          "name": "stderr",
          "text": [
            "/usr/local/lib/python3.7/dist-packages/numba/np/ufunc/parallel.py:363: NumbaWarning: The TBB threading layer requires TBB version 2019.5 or later i.e., TBB_INTERFACE_VERSION >= 11005. Found TBB_INTERFACE_VERSION = 9107. The TBB threading layer is disabled.\n",
            "  warnings.warn(problem)\n"
          ]
        },
        {
          "output_type": "display_data",
          "data": {
            "text/html": [
              "<html>\n",
              "<head><meta charset=\"utf-8\" /></head>\n",
              "<body>\n",
              "    <div>            <script src=\"https://cdnjs.cloudflare.com/ajax/libs/mathjax/2.7.5/MathJax.js?config=TeX-AMS-MML_SVG\"></script><script type=\"text/javascript\">if (window.MathJax) {MathJax.Hub.Config({SVG: {font: \"STIX-Web\"}});}</script>                <script type=\"text/javascript\">window.PlotlyConfig = {MathJaxConfig: 'local'};</script>\n",
              "        <script src=\"https://cdn.plot.ly/plotly-2.11.1.min.js\"></script>                <div id=\"69bd468c-b4e2-4089-8dcb-b5b634622108\" class=\"plotly-graph-div\" style=\"height:525px; width:100%;\"></div>            <script type=\"text/javascript\">                                    window.PLOTLYENV=window.PLOTLYENV || {};                                    if (document.getElementById(\"69bd468c-b4e2-4089-8dcb-b5b634622108\")) {                    Plotly.newPlot(                        \"69bd468c-b4e2-4089-8dcb-b5b634622108\",                        [{\"hovertemplate\":\"cluster=cluster 8<br>x=%{x}<br>y=%{y}<extra></extra>\",\"legendgroup\":\"cluster 8\",\"marker\":{\"color\":\"#636efa\",\"symbol\":\"circle\"},\"mode\":\"markers\",\"name\":\"cluster 8\",\"showlegend\":true,\"x\":[13.484017372131348,14.441018104553223,13.177206993103027,11.605847358703613,13.162829399108887,13.18508529663086,12.967592239379883,13.503698348999023,14.554910659790039,13.33470630645752,11.452068328857422,13.745017051696777,13.294888496398926,13.663067817687988,13.101766586303711,13.241299629211426,13.228693008422852,13.228629112243652,12.81462287902832,13.689373016357422,11.586666107177734,11.387995719909668,13.269329071044922,12.479482650756836,13.616894721984863,11.878363609313965,14.644685745239258,14.33413314819336,14.914359092712402,13.157929420471191,12.07093334197998,13.025618553161621,14.090657234191895,13.486278533935547,12.159934043884277,13.087309837341309,14.352926254272461,14.780116081237793,13.285399436950684,14.609651565551758,14.694570541381836,14.753500938415527,14.17807388305664,12.7360200881958,12.975627899169922,12.635997772216797,13.949070930480957,14.55034065246582,11.522001266479492,12.596795082092285,12.699484825134277,14.244065284729004,13.056533813476562,11.62842082977295,13.90087890625,14.237316131591797,12.988494873046875,15.059091567993164,11.542078971862793,14.332355499267578,13.84835433959961,14.39089584350586,11.300862312316895,12.931106567382812,13.752615928649902,12.753978729248047,12.691727638244629,13.146280288696289,14.548733711242676,13.78732967376709,14.147780418395996,12.734188079833984,13.130109786987305,11.932229042053223,13.563577651977539,14.146971702575684,13.958269119262695,12.565413475036621,14.849522590637207,11.863718032836914,13.876274108886719,13.742142677307129,14.901752471923828,13.328475952148438,12.840803146362305,11.28681755065918,13.852405548095703,13.931963920593262,13.12244987487793,12.97136402130127,13.63259220123291,13.088550567626953,12.400345802307129,13.54684066772461,14.92656421661377,14.858206748962402,9.800065040588379,14.072887420654297,13.013766288757324,13.751562118530273,14.145532608032227,14.248838424682617,11.4674711227417,13.3073091506958,11.794307708740234,13.543106079101562,13.573091506958008,12.135683059692383,14.432453155517578,13.575735092163086,11.645301818847656,12.235928535461426,13.450082778930664,13.279947280883789,13.79498291015625,14.19178581237793,12.177456855773926,13.619316101074219,14.609368324279785,12.36931037902832,13.12959098815918,13.023916244506836,12.95361042022705,11.332029342651367,12.821595191955566,13.333476066589355,13.749340057373047,13.380918502807617,13.157647132873535,13.548529624938965,12.965413093566895,13.441630363464355,15.027104377746582,14.330918312072754,14.237305641174316,12.604708671569824,13.681269645690918,12.535720825195312,14.904206275939941,11.318894386291504,14.546051025390625,12.43462085723877,14.834542274475098,13.0873384475708,13.712739944458008,13.877727508544922,11.957877159118652,12.95372200012207,14.807289123535156,13.31848430633545,13.1707124710083,13.330957412719727,11.429978370666504,13.811624526977539,14.256844520568848,12.31919002532959,12.231587409973145,15.035174369812012,12.166916847229004,11.487505912780762,14.44044017791748,13.436049461364746,12.580424308776855,13.230741500854492,12.566198348999023,13.232991218566895,14.257770538330078,14.529637336730957,14.589354515075684,12.87820816040039,14.173685073852539,14.087621688842773,12.796852111816406,12.474586486816406,12.850295066833496,12.087733268737793,13.415114402770996,12.698594093322754,12.363306999206543,15.013556480407715,14.722456932067871,12.229037284851074,12.952152252197266,12.860641479492188,12.640759468078613,13.054484367370605,12.48194694519043,13.06047248840332,13.340569496154785,14.868939399719238,12.120759010314941,12.402463912963867,14.054914474487305,13.051403999328613,11.621747970581055,13.64395523071289,13.283082008361816,12.150711059570312,13.388975143432617,14.937793731689453,12.820701599121094,13.152353286743164,12.18860912322998,12.228466987609863,11.589981079101562,14.452059745788574,13.268033981323242,13.622062683105469,11.758195877075195,12.561223030090332,13.312926292419434,14.343989372253418,13.396446228027344,12.492959976196289,13.456501007080078,14.408157348632812,11.518132209777832,12.79693603515625,12.732747077941895,13.119175910949707,13.845415115356445,12.102961540222168,11.558371543884277,12.826534271240234,13.69877815246582,13.089540481567383,14.230320930480957,14.799458503723145,12.69627857208252,14.77967643737793,12.631146430969238,13.046046257019043,13.588846206665039,13.779061317443848,12.965898513793945,13.852938652038574,13.199275970458984,13.307952880859375,14.379463195800781,14.3298921585083,13.29353141784668,12.93411636352539,12.631223678588867,14.387858390808105,14.878700256347656,12.670938491821289,14.203693389892578,13.29636001586914,13.031393051147461,11.413888931274414,13.673013687133789,13.35605239868164,11.707411766052246,13.222129821777344,15.040595054626465,13.930073738098145,12.131839752197266,13.394705772399902,13.035497665405273,12.528777122497559,11.35886001586914,13.172615051269531,12.986186981201172,15.018692970275879,12.292689323425293,14.370112419128418,14.778101921081543,12.989890098571777,13.705528259277344,12.222306251525879,13.634703636169434,13.761317253112793,13.057905197143555,13.751360893249512,13.113569259643555,13.227567672729492,12.873980522155762,13.525654792785645,13.31694221496582,14.537903785705566,12.249385833740234,11.34669017791748,12.666072845458984,13.492999076843262,13.108930587768555,11.787044525146484,12.128523826599121,12.372465133666992,12.266284942626953,12.998979568481445,12.016467094421387,13.52053451538086,13.982914924621582,14.318684577941895,14.421442985534668,14.914800643920898,12.808792114257812,13.022041320800781,14.153974533081055,13.142868041992188,14.55439567565918,11.867960929870605,11.375617980957031,11.843585968017578,13.421953201293945,13.970148086547852,11.50938892364502,13.364542961120605,14.508688926696777,13.35177993774414,12.757963180541992,13.96228313446045,14.960351943969727,13.632441520690918,13.764755249023438,14.515129089355469,11.583826065063477,14.192420959472656,13.549077987670898,12.03226375579834,14.384960174560547,13.203250885009766,12.535979270935059,12.025559425354004,12.177855491638184,13.853985786437988,11.77869987487793,13.91585636138916,12.007733345031738,13.670902252197266,13.738964080810547,11.94736385345459,14.377434730529785,13.41284465789795,13.328119277954102,13.1698579788208,12.977433204650879,11.84115219116211,13.269216537475586,13.695795059204102,14.027359962463379,14.621040344238281,9.716596603393555,11.37047290802002,12.44156265258789,12.654546737670898,13.436241149902344,14.815167427062988,12.83841323852539,13.683143615722656,12.888916969299316,13.252931594848633,13.784847259521484,13.722434997558594,14.707606315612793,13.24630355834961,14.417863845825195,11.522675514221191,14.355239868164062,13.341856956481934,14.469883918762207],\"xaxis\":\"x\",\"y\":[2.5710909366607666,3.0128583908081055,2.7106544971466064,6.836572647094727,2.764920949935913,2.768657684326172,1.534918189048767,4.439730167388916,3.278519868850708,6.832552433013916,5.373056888580322,2.198552131652832,6.292806148529053,2.1676011085510254,5.232651710510254,5.114387035369873,5.08928918838501,1.8641133308410645,5.608118057250977,2.1319663524627686,5.628301620483398,5.493433475494385,7.162072658538818,4.722444534301758,4.575743198394775,5.091634750366211,2.538588047027588,3.6096887588500977,1.6619822978973389,3.3079464435577393,6.718863487243652,6.784276008605957,2.1388251781463623,4.205572128295898,5.939507484436035,4.471965789794922,3.4720840454101562,1.3019187450408936,4.973026275634766,1.8824750185012817,3.13861346244812,2.993448495864868,2.909827470779419,4.588837623596191,4.365832328796387,4.919497489929199,2.6752090454101562,1.4860550165176392,6.5273118019104,5.3133544921875,4.160870552062988,2.4954442977905273,4.652775764465332,9.449286460876465,4.453080177307129,3.0503103733062744,1.5300501585006714,2.0534021854400635,6.338715553283691,3.879549980163574,5.16877555847168,3.8549580574035645,5.82106876373291,4.622453212738037,2.042165517807007,7.155575752258301,7.004763603210449,3.5931553840637207,3.489283800125122,4.358410358428955,3.1291215419769287,6.331447124481201,5.524988174438477,5.779850959777832,2.8479394912719727,4.268193244934082,4.493231773376465,5.713172435760498,2.0761001110076904,7.051977634429932,3.109982490539551,5.974425792694092,1.6206088066101074,5.056945323944092,1.5452425479888916,5.698227882385254,4.286457061767578,4.318070888519287,5.2876362800598145,4.37320613861084,5.32694673538208,3.4973413944244385,4.721500396728516,1.4885921478271484,1.8141238689422607,1.4932057857513428,6.804510593414307,3.1000821590423584,2.585381507873535,3.1272172927856445,3.229902505874634,4.208673000335693,6.338003635406494,4.121574878692627,7.1083760261535645,2.116413116455078,1.6367915868759155,6.075463771820068,1.530385136604309,2.119405508041382,6.217846393585205,6.2288336753845215,3.9517345428466797,7.183065891265869,3.072431802749634,3.1035263538360596,7.268161296844482,5.106025218963623,3.1748087406158447,5.566018581390381,2.7722525596618652,2.5566294193267822,2.2144951820373535,5.675123691558838,4.979221820831299,4.1286725997924805,5.8328166007995605,4.890298366546631,4.671513080596924,1.6651830673217773,4.909274578094482,5.38663387298584,2.050990581512451,3.992023468017578,3.9298288822174072,5.102477550506592,2.3824455738067627,5.470119953155518,1.8764399290084839,5.857857704162598,3.5981850624084473,5.6119585037231445,1.5962896347045898,3.2714884281158447,1.4874213933944702,4.314659118652344,6.751733303070068,1.666533350944519,2.3796706199645996,6.475230693817139,7.197368621826172,7.068674564361572,6.249138355255127,5.736076831817627,4.093140125274658,4.550206661224365,6.647689342498779,1.7010670900344849,5.411368370056152,6.554276943206787,2.9140636920928955,1.652986764907837,5.098861217498779,2.9996817111968994,5.302545070648193,1.5841866731643677,3.2386131286621094,3.62170147895813,3.1309573650360107,7.178289890289307,3.0532684326171875,4.1972455978393555,4.100728511810303,4.441598415374756,6.877546787261963,6.104270935058594,3.271415948867798,7.075315952301025,6.353774070739746,2.096464157104492,3.1792635917663574,6.542028903961182,4.288497447967529,1.5235309600830078,5.901622295379639,7.31586217880249,6.132420063018799,5.964881896972656,4.799803733825684,2.3301684856414795,6.496264457702637,4.443625450134277,4.424314498901367,5.807952880859375,5.109280109405518,0.9792998433113098,6.2960381507873535,6.17215633392334,4.040763854980469,2.318513870239258,6.6000752449035645,2.9189295768737793,6.207161903381348,5.960532188415527,5.1852569580078125,3.710512638092041,2.842045307159424,6.346954345703125,6.245504379272461,6.317040920257568,6.843369007110596,2.8149185180664062,6.770813941955566,5.817808151245117,2.0081565380096436,2.289544105529785,7.105924606323242,7.172966480255127,7.132662296295166,6.602688789367676,1.1451548337936401,6.459040641784668,6.698384761810303,1.517096996307373,2.4068634510040283,5.278173923492432,2.0423786640167236,1.7185536623001099,4.381580829620361,3.1770830154418945,6.978584289550781,2.7534661293029785,2.1875545978546143,4.446247577667236,1.4771188497543335,4.084227085113525,7.174071311950684,2.0975332260131836,2.790700674057007,3.4856953620910645,6.998977184295654,1.8342266082763672,5.737554550170898,3.229950428009033,1.6277638673782349,6.046711444854736,3.315582036972046,5.072410583496094,4.510390758514404,5.622372150421143,4.106105327606201,5.588787078857422,6.920891761779785,1.9026352167129517,1.804718017578125,4.762187957763672,5.803682804107666,5.408956527709961,1.4543412923812866,4.817347526550293,5.6640625,6.876771926879883,6.070528984069824,1.6913527250289917,4.5984649658203125,1.4861940145492554,2.4289767742156982,6.596188545227051,1.954059362411499,4.678404808044434,2.844919204711914,1.3191683292388916,6.5419745445251465,5.442808151245117,4.984159469604492,5.181182861328125,2.042794704437256,4.1705803871154785,5.021914958953857,1.7752741575241089,6.528787136077881,5.660872459411621,5.045698165893555,5.43563175201416,6.98089075088501,5.770563125610352,6.103262424468994,5.724325656890869,6.223160743713379,3.549232006072998,6.554814338684082,1.8731393814086914,4.260411262512207,2.8350656032562256,1.9023030996322632,2.020998239517212,5.863708972930908,4.093580722808838,4.558479309082031,2.7546279430389404,3.592914342880249,6.469225883483887,6.483576774597168,6.546481609344482,4.981025695800781,2.3957672119140625,6.518935203552246,2.518460750579834,3.645212173461914,2.053588628768921,5.261016845703125,2.096555709838867,2.23435640335083,1.4839541912078857,5.672932147979736,3.7377963066101074,6.278432369232178,3.7158384323120117,6.458976745605469,7.346731185913086,2.6202750205993652,6.868806838989258,5.060055255889893,5.115317344665527,6.147437572479248,4.416334629058838,6.583558082580566,1.8696253299713135,6.00429105758667,2.503859758377075,5.798276424407959,6.527528762817383,2.064379930496216,4.898571014404297,3.9832022190093994,2.5946433544158936,6.797382354736328,6.823265552520752,3.8867783546447754,1.8290464878082275,3.118492603302002,2.5674686431884766,6.861213207244873,5.686173915863037,5.805572032928467,6.840076446533203,2.374579429626465,1.591050624847412,5.244409084320068,5.181522369384766,1.7952905893325806,5.207309246063232,5.496642589569092,5.871069431304932,1.6891766786575317,7.0720744132995605,0.8221161365509033,6.225523471832275,3.323117971420288,2.5045723915100098,3.032822608947754],\"yaxis\":\"y\",\"type\":\"scattergl\"},{\"hovertemplate\":\"cluster=cluster 0<br>x=%{x}<br>y=%{y}<extra></extra>\",\"legendgroup\":\"cluster 0\",\"marker\":{\"color\":\"#EF553B\",\"symbol\":\"circle\"},\"mode\":\"markers\",\"name\":\"cluster 0\",\"showlegend\":true,\"x\":[9.324732780456543,11.648650169372559,7.659812927246094,10.189374923706055,7.576935291290283,7.804584503173828,3.6675302982330322,7.895609378814697,8.642723083496094,11.363131523132324,7.879701137542725,9.376533508300781,10.751895904541016,7.148510932922363,8.303474426269531,11.018436431884766,6.438994407653809,8.764466285705566,10.883255958557129,11.395564079284668,7.938845634460449,8.36518669128418,9.952532768249512,8.493647575378418,7.6521735191345215,7.020249843597412,10.507604598999023,7.853572368621826,9.936941146850586,7.736700057983398,9.590165138244629,10.254975318908691,5.668155193328857,9.33661937713623,8.424434661865234,5.674705982208252,10.519376754760742,8.525107383728027,8.448281288146973,9.606057167053223,11.398642539978027,8.70737075805664,6.719210624694824,8.735898971557617,8.053756713867188,8.716943740844727,5.873234272003174,7.178429126739502,9.707841873168945,9.28829288482666,7.3682475090026855,10.3916015625,9.850231170654297,9.366841316223145,11.059733390808105,10.323308944702148,11.280319213867188,6.293184280395508,11.290860176086426,7.608010292053223,11.785379409790039,6.805102348327637,5.778423309326172,7.761223316192627,5.926592826843262,11.794990539550781,5.3824567794799805,9.09311580657959,9.370551109313965,6.588159561157227,8.204547882080078,8.085509300231934,8.257911682128906,11.964497566223145,9.339735984802246,7.76649284362793,10.310150146484375,8.846548080444336,5.523879051208496,8.105127334594727,8.31694221496582,6.3523406982421875,9.484538078308105,9.649580001831055,9.614431381225586,7.161780834197998,7.845985412597656,5.752752780914307,9.163677215576172,10.307791709899902,11.5079345703125,7.81752347946167,9.135445594787598,9.289953231811523,8.620950698852539,8.026931762695312,11.624298095703125,7.968254566192627,5.988799571990967,8.493024826049805,7.085346221923828,8.159934997558594,7.802544116973877,8.418543815612793,8.346468925476074,9.72847843170166,8.749286651611328,6.189956188201904,6.3138203620910645,8.660492897033691,7.399750709533691,11.241713523864746,5.400754451751709,7.110447406768799,11.756555557250977,6.224973201751709,11.503439903259277,5.442646503448486,5.990015506744385,9.286070823669434,10.062797546386719,8.16411018371582,8.651443481445312,11.326554298400879,11.02733039855957,8.183950424194336,9.290852546691895,9.346063613891602,9.415975570678711,11.16120433807373,8.22321891784668,9.362174987792969,9.092199325561523,10.25931453704834,8.173925399780273,9.432764053344727,9.77278995513916,8.148608207702637,9.17695426940918,6.241929054260254,7.872993469238281,7.077725887298584,11.423833847045898,11.309191703796387,10.402388572692871,8.891837120056152,8.295092582702637,10.325972557067871,7.165682315826416,9.792489051818848,7.146816253662109,12.621163368225098,8.411612510681152,5.9425554275512695,11.125236511230469,9.075859069824219,7.690098762512207,10.041444778442383,10.790452003479004,10.743112564086914,6.073219299316406,8.747697830200195,6.682725429534912,11.427898406982422,7.7978034019470215,7.729952812194824,9.877158164978027,9.514774322509766,7.781068801879883,6.2994914054870605,8.622396469116211,11.60685920715332,7.378695487976074,8.628951072692871,7.983623504638672,11.357109069824219,10.435365676879883,7.835158824920654,7.705214500427246,10.034422874450684,8.0968599319458,7.205438137054443,8.52253246307373,6.7533650398254395,6.743082046508789,8.717339515686035,10.680006980895996,7.337657928466797,8.744856834411621,7.731666564941406,7.134889125823975,6.78382682800293,9.992582321166992,7.84916353225708,8.37329387664795,11.368189811706543,6.2451863288879395,9.554377555847168,9.45688533782959,9.472670555114746,11.199408531188965,9.239171981811523,9.959864616394043,7.69247579574585,9.503464698791504,8.604745864868164,7.810894966125488,7.681684970855713,13.246733665466309,5.486802577972412,11.67618465423584,7.2382025718688965,8.385208129882812,8.919317245483398,11.87950611114502,7.290810585021973,11.307089805603027,5.948204040527344,8.460672378540039,9.1475248336792,7.025914192199707,9.208826065063477,6.20390510559082,10.156837463378906,7.756633281707764,7.59788703918457,7.847456455230713,9.853477478027344,9.706769943237305,6.322346210479736,6.5446343421936035,8.782666206359863,11.30403995513916,6.30363655090332,11.327338218688965,8.199416160583496,9.477438926696777,7.680689811706543,11.719576835632324,8.849071502685547,9.257930755615234,8.274462699890137,9.3505859375,6.153141498565674,7.362861633300781,5.698118209838867,9.971023559570312,9.573506355285645,8.176135063171387,10.144274711608887,11.424206733703613,6.392364501953125,7.372032642364502,9.6091890335083,6.624170780181885,7.154339790344238,9.315689086914062,7.627665996551514,10.033679008483887,6.022897243499756,8.730854034423828,7.373012065887451,7.7831525802612305,8.52408218383789,9.753384590148926,7.323106288909912,5.6433844566345215,6.4245452880859375,6.299300670623779,9.55238151550293,13.18756103515625,11.821416854858398,11.12675952911377,9.863080024719238,9.990640640258789,9.295318603515625,6.555740833282471,11.31464958190918,10.247554779052734,10.42115592956543,6.254743576049805,8.967100143432617,10.21891975402832,11.632205963134766,11.374883651733398,9.194353103637695,11.28515911102295,9.489838600158691,11.678563117980957,9.9299955368042,10.581094741821289,9.603449821472168,9.154873847961426,7.410691738128662,11.68828010559082,9.028365135192871,7.63208532333374,7.5461554527282715,5.8201398849487305,9.5230073928833,9.006000518798828,7.661686420440674,11.444147109985352,11.275094985961914,9.843689918518066,10.060273170471191,5.953307151794434,8.372725486755371,7.017999649047852,7.889914512634277,9.503211975097656,6.178701400756836,8.118483543395996,10.246200561523438,5.749067783355713,8.539645195007324,9.255231857299805,13.288525581359863,6.649409294128418,10.083100318908691,7.708932876586914,7.743899822235107,11.040156364440918,9.920491218566895,11.218576431274414,7.680061340332031,9.268428802490234,10.383406639099121,9.036078453063965,11.463947296142578,8.72042465209961,6.306738376617432,11.23076343536377,7.570521831512451,10.740473747253418,10.703349113464355,8.586892127990723,11.364794731140137,11.568727493286133,5.248904705047607,11.431578636169434,8.736942291259766,9.865802764892578,10.13142204284668,10.654319763183594,3.1332662105560303,11.097050666809082,11.525121688842773,8.805587768554688,9.753500938415527,7.070572376251221,5.460638523101807,5.636598587036133,9.792535781860352,7.992309093475342,9.790005683898926,8.85860538482666,9.962539672851562,11.700007438659668,11.481555938720703,11.317574501037598,7.933496952056885,7.132391929626465,10.063789367675781,8.91968822479248,10.659717559814453,9.407570838928223,10.483742713928223,6.940206527709961,8.861716270446777,8.198322296142578,9.300244331359863,7.209834575653076,7.435669898986816,5.61600399017334,8.95991039276123,6.577150821685791,8.849732398986816,9.027779579162598,6.596039772033691,6.555154800415039,7.2348809242248535,7.118391990661621,6.1234130859375,7.890172004699707,7.402140140533447,10.125534057617188,7.7030534744262695,8.759132385253906,6.688831329345703,11.017661094665527,10.084848403930664,6.631317615509033,9.114216804504395,9.447099685668945,8.045068740844727,5.67950963973999,6.320379734039307,7.930532455444336,9.782383918762207,9.46151351928711,11.031004905700684,12.299524307250977,7.402731895446777,11.5823392868042,8.681205749511719,9.99127197265625,11.805688858032227,9.940441131591797,9.615523338317871,9.849374771118164,9.58314037322998,10.696213722229004,8.874446868896484,8.760653495788574,8.073278427124023,10.023740768432617,7.3035783767700195,10.720235824584961,8.639909744262695,7.32501745223999,8.49726676940918,8.662191390991211,11.362788200378418,8.900537490844727,11.154818534851074,7.162203788757324,9.532973289489746,8.933992385864258,9.892817497253418,11.602410316467285,8.387853622436523,5.680511474609375,7.181068420410156,11.10547161102295,9.316666603088379,5.586856365203857,8.063762664794922,9.563289642333984,9.398094177246094,6.358099937438965,8.734003067016602,8.325989723205566,8.39344596862793,12.765311241149902,9.26577091217041,11.331666946411133,8.165665626525879,9.745800018310547,7.439401149749756,11.380200386047363,10.985760688781738,5.662500381469727,9.500385284423828,5.634591579437256,7.276190757751465,5.855773448944092,5.57612943649292,8.779582977294922,5.423481464385986,5.408051013946533,6.8604207038879395,8.771892547607422,7.927938938140869,11.066317558288574,6.05443000793457,8.792317390441895,6.10249137878418,9.242395401000977,6.395667552947998,11.349329948425293,9.871295928955078,7.61933708190918,10.589630126953125,8.400938034057617,9.047242164611816,5.994332313537598,12.92689323425293,6.220389366149902,6.461384296417236,11.371475219726562,9.432501792907715,9.277907371520996,11.324851036071777,8.200322151184082,10.95808219909668,9.906425476074219,7.111884117126465,10.847039222717285,11.805814743041992,5.758862495422363],\"xaxis\":\"x\",\"y\":[7.771180152893066,7.943075180053711,12.33237361907959,8.930818557739258,10.88110637664795,11.969430923461914,11.523985862731934,8.624292373657227,9.786911010742188,6.731638431549072,9.490954399108887,7.597626686096191,9.616134643554688,10.876237869262695,11.660613059997559,8.969193458557129,11.811140060424805,9.9281005859375,9.489385604858398,8.180022239685059,8.6131591796875,11.643170356750488,10.64877986907959,8.807907104492188,10.732608795166016,10.78533935546875,9.050971031188965,9.314543724060059,8.180727005004883,10.834989547729492,10.64995288848877,9.075136184692383,10.522377967834473,9.787670135498047,10.571754455566406,11.840551376342773,9.27570629119873,9.560282707214355,8.351841926574707,9.910380363464355,6.489886283874512,8.634160041809082,10.820648193359375,8.418462753295898,12.187647819519043,9.114965438842773,12.185036659240723,9.779298782348633,8.423218727111816,10.580241203308105,10.54518985748291,8.148276329040527,8.30540657043457,7.188405513763428,9.800002098083496,7.980590343475342,8.286250114440918,10.940967559814453,6.573168754577637,9.753003120422363,7.760562896728516,9.997859954833984,11.62559700012207,11.046195983886719,11.644675254821777,8.721879959106445,10.322298049926758,9.004317283630371,7.237773895263672,10.634705543518066,9.693276405334473,8.473169326782227,8.989437103271484,7.206708908081055,8.824975967407227,11.952672958374023,9.87879467010498,9.358818054199219,12.112279891967773,9.636941909790039,11.264841079711914,11.938599586486816,8.518026351928711,10.505136489868164,10.04570484161377,10.895577430725098,9.185757637023926,10.555293083190918,11.142523765563965,8.897736549377441,7.904443740844727,11.853565216064453,8.617087364196777,7.671441555023193,11.318907737731934,8.600055694580078,8.436867713928223,11.949277877807617,12.220459938049316,11.370251655578613,10.095294952392578,9.286520957946777,12.251524925231934,8.912169456481934,11.689215660095215,10.308554649353027,8.435032844543457,11.873129844665527,11.069369316101074,10.824468612670898,11.37894344329834,8.552963256835938,10.316555976867676,9.859342575073242,9.084024429321289,10.909128189086914,9.556958198547363,10.437860488891602,12.279047012329102,9.760581016540527,9.834508895874023,9.090956687927246,10.89574146270752,7.344950199127197,8.967473983764648,10.335041046142578,10.949955940246582,10.724626541137695,9.866158485412598,9.539091110229492,8.356369972229004,7.739308834075928,9.085694313049316,9.750533103942871,11.342276573181152,8.693487167358398,8.304194450378418,11.699454307556152,10.169464111328125,10.951008796691895,9.277656555175781,9.78536605834961,9.568347930908203,8.508671760559082,9.096701622009277,10.052848815917969,9.781393051147461,9.79080581665039,11.501011848449707,10.90566349029541,11.656779289245605,7.228450775146484,8.282815933227539,12.166203498840332,9.025840759277344,9.72608757019043,12.311189651489258,9.803238868713379,9.190652847290039,10.032122611999512,10.575068473815918,8.538329124450684,10.770561218261719,8.214933395385742,11.229515075683594,12.058126449584961,8.344965934753418,10.6128511428833,11.870731353759766,10.798007011413574,8.512842178344727,7.871256351470947,11.94428539276123,9.636431694030762,9.30295467376709,8.420391082763672,8.93743896484375,9.943354606628418,12.299140930175781,9.83332633972168,11.938194274902344,11.693767547607422,10.564181327819824,10.86518669128418,10.636112213134766,11.271810531616211,8.195724487304688,10.777872085571289,11.185702323913574,8.565288543701172,10.684049606323242,10.92354679107666,8.634156227111816,8.626484870910645,9.679208755493164,8.470052719116211,11.004729270935059,10.651583671569824,7.4760212898254395,7.4106364250183105,7.738711833953857,8.490234375,8.232407569885254,12.282391548156738,7.019494533538818,11.090825080871582,8.608450889587402,10.67892074584961,7.2108049392700195,10.238431930541992,7.916650295257568,9.898148536682129,8.27647590637207,8.402206420898438,8.096076965332031,9.820404052734375,6.418358325958252,12.071118354797363,8.221707344055176,8.989157676696777,11.280339241027832,8.528702735900879,12.023552894592285,10.299262046813965,8.538763999938965,10.992720603942871,11.872632026672363,10.024526596069336,8.358834266662598,10.979297637939453,10.679019927978516,10.195425033569336,7.888992786407471,10.901926040649414,8.473896026611328,11.097291946411133,10.092426300048828,10.718836784362793,7.827352523803711,10.944289207458496,9.796577453613281,11.885388374328613,7.427098274230957,11.983292579650879,11.25306510925293,11.740646362304688,8.01746940612793,10.106369972229004,10.849087715148926,9.769875526428223,7.421928405761719,11.858344078063965,10.627453804016113,10.959330558776855,10.665488243103027,11.362160682678223,9.833576202392578,10.396553993225098,8.112340927124023,10.397847175598145,11.26086139678955,9.684356689453125,10.314516067504883,11.594916343688965,10.927410125732422,11.091323852539062,11.800979614257812,12.00429630279541,11.926087379455566,6.957370758056641,7.201849937438965,8.467879295349121,7.875518321990967,10.648303031921387,8.060724258422852,9.827457427978516,11.805435180664062,8.418560028076172,10.343783378601074,9.568134307861328,11.916511535644531,9.102270126342773,8.947189331054688,7.887848377227783,7.1823906898498535,9.684029579162598,6.338172912597656,7.045094013214111,7.6738481521606445,10.567187309265137,9.754286766052246,6.946561336517334,10.695201873779297,10.949625968933105,7.4505486488342285,10.818592071533203,10.371777534484863,10.380477905273438,12.161645889282227,7.240285873413086,10.59775447845459,8.64600944519043,6.652097702026367,7.9207048416137695,8.358169555664062,9.771739959716797,10.523794174194336,8.562885284423828,11.126716613769531,8.624128341674805,8.66689395904541,11.966217994689941,12.053939819335938,8.24848747253418,11.834341049194336,9.562626838684082,8.845743179321289,7.128941535949707,10.671878814697266,10.3652982711792,10.772708892822266,10.522320747375488,8.849998474121094,8.200310707092285,8.186227798461914,9.321540832519531,10.28856086730957,8.160984992980957,10.984277725219727,9.55407428741455,11.410740852355957,10.917803764343262,7.9604339599609375,10.839649200439453,9.653355598449707,9.935629844665527,9.726557731628418,6.60801362991333,7.231195449829102,10.436824798583984,7.588125228881836,11.161938667297363,8.022541046142578,9.739128112792969,9.094779968261719,12.578483581542969,7.904453277587891,9.170127868652344,11.238327026367188,10.017156600952148,10.703848838806152,12.087377548217773,11.811922073364258,8.085798263549805,8.70695686340332,8.398378372192383,9.68156909942627,8.100892066955566,9.073385238647461,7.7727274894714355,6.463849067687988,10.035751342773438,9.744600296020508,8.101879119873047,10.229168891906738,9.06887149810791,9.842822074890137,8.778050422668457,11.283967971801758,11.249259948730469,11.34241008758545,7.210865497589111,12.072983741760254,9.648520469665527,10.473808288574219,10.002565383911133,10.797582626342773,11.302574157714844,8.98682975769043,10.765702247619629,10.652687072753906,9.750367164611816,9.795165061950684,12.193900108337402,11.803425788879395,11.014227867126465,9.773566246032715,11.973750114440918,9.203398704528809,10.682886123657227,7.991518497467041,10.371944427490234,10.153960227966309,10.750301361083984,7.268354892730713,11.258598327636719,10.548996925354004,10.892964363098145,11.777104377746582,10.894420623779297,7.340628147125244,9.739701271057129,7.585575103759766,10.939494132995605,7.027904987335205,9.324522972106934,8.208552360534668,7.534927845001221,8.294422149658203,10.609814643859863,11.008072853088379,9.964792251586914,8.978947639465332,10.070619583129883,10.042780876159668,10.167632102966309,10.701778411865234,11.552934646606445,9.226289749145508,11.089811325073242,10.959031105041504,10.461783409118652,10.106575012207031,8.49280834197998,9.327068328857422,7.9572434425354,11.382899284362793,7.705165863037109,10.21277141571045,10.923253059387207,7.981011867523193,8.294978141784668,10.628005981445312,11.322819709777832,8.844025611877441,10.699583053588867,10.486410140991211,9.481694221496582,8.493310928344727,7.408328056335449,10.811752319335938,11.106096267700195,8.301730155944824,8.28537368774414,7.1904826164245605,9.847896575927734,6.511075496673584,11.238523483276367,8.42298412322998,12.049500465393066,8.447312355041504,9.824044227600098,10.531031608581543,7.293489456176758,11.848306655883789,10.860187530517578,12.250564575195312,12.088155746459961,8.34788990020752,10.356648445129395,11.822811126708984,10.830779075622559,9.893853187561035,9.019872665405273,8.839186668395996,12.22594928741455,8.474294662475586,10.5809907913208,10.680496215820312,11.024274826049805,9.20654010772705,10.992949485778809,10.833166122436523,9.016043663024902,8.294144630432129,8.929464340209961,10.378850936889648,7.398969650268555,11.282649993896484,10.534260749816895,9.497071266174316,7.319738864898682,9.78714656829834,8.465193748474121,10.202377319335938,9.024249076843262,9.917210578918457,10.674368858337402,9.898857116699219,9.041279792785645,10.230952262878418],\"yaxis\":\"y\",\"type\":\"scattergl\"},{\"hovertemplate\":\"cluster=cluster 5<br>x=%{x}<br>y=%{y}<extra></extra>\",\"legendgroup\":\"cluster 5\",\"marker\":{\"color\":\"#00cc96\",\"symbol\":\"circle\"},\"mode\":\"markers\",\"name\":\"cluster 5\",\"showlegend\":true,\"x\":[1.5184080600738525,0.04062119871377945,0.4888373017311096,-0.3731936812400818,0.4169292151927948,0.20065343379974365,0.8229826092720032,-0.3307071924209595,2.632009267807007,0.4952782988548279,2.5903360843658447,3.1524477005004883,3.2710835933685303,0.5716634392738342,1.472303032875061,1.462227702140808,3.4116017818450928,2.307265520095825,3.4025425910949707,3.5193839073181152,0.3596082329750061,1.118693232536316,0.42165407538414,0.9212357401847839,-1.0720608234405518,0.3538561463356018,1.7835731506347656,-0.2726971507072449,-0.3003513216972351,1.7590746879577637,1.2046880722045898,2.4047863483428955,1.6516742706298828,0.8864399194717407,1.8720141649246216,3.5960350036621094,4.025448322296143,2.580487012863159,0.13339561223983765,2.428208589553833,3.6279592514038086,3.5536255836486816,0.6908487677574158,-0.3987354040145874,3.5954034328460693,0.21830587089061737,0.9766600131988525,1.3120133876800537,2.2038304805755615,1.4228447675704956,2.8399198055267334,1.6179423332214355,3.504920721054077,2.991783380508423,3.462890863418579,0.8729380965232849,2.5011727809906006,3.3373076915740967,3.545876979827881,-0.13900834321975708,-0.06466863304376602,2.078171730041504,3.273898124694824,-0.13220328092575073,2.9602527618408203,-0.6971828937530518,-0.10320805758237839,0.4877767860889435,0.1165781244635582,3.5365710258483887,0.32527264952659607,-0.4216928780078888,3.5157744884490967,1.7214685678482056,2.823835849761963,3.570788860321045,-0.7353474497795105,0.4666048586368561,1.910393476486206,1.3341472148895264,2.551088333129883,1.4860765933990479,2.6173112392425537,1.4869673252105713,2.492110013961792,2.607935667037964,0.3905038833618164,2.2694599628448486,1.6614781618118286,-0.5810253024101257,0.907977283000946,-0.3518298268318176,3.572850227355957,2.7796812057495117,-0.5564740896224976,3.607365846633911,2.9146487712860107,1.7637065649032593,-0.5338372588157654,0.10809192061424255,3.002606153488159,1.1067142486572266,0.43115299940109253,-0.3774930238723755,2.286532163619995,-0.07076048105955124,1.5484904050827026,0.36029502749443054,1.252487063407898,-0.7292466759681702,0.7542178630828857,0.3185487389564514,3.597182273864746,0.028285890817642212,0.8686302900314331,0.9326371550559998,0.41800978779792786,0.777944803237915,0.7665131688117981,-0.19672882556915283,3.1484339237213135,-0.1691480278968811,2.3239481449127197,2.3313591480255127,-0.5254254937171936,-0.3843802809715271,-0.5212053060531616,2.3581061363220215,1.7620224952697754,1.7878563404083252,-0.2528364658355713,-0.33789384365081787,-0.15670214593410492,-0.7853830456733704,-0.004680416081100702,-0.4008899927139282,1.8706523180007935,-0.040591754019260406,3.4445016384124756,3.094686985015869,1.6787115335464478,2.6196796894073486,3.624080181121826,2.2971763610839844,1.81609046459198,2.4415102005004883,-0.4396636486053467,1.0088520050048828,3.505707025527954,1.812208652496338,-0.28531602025032043,1.7153595685958862,1.4924514293670654,2.503260850906372,2.3514795303344727,3.486689805984497,0.6523319482803345,3.142294406890869,-0.42115604877471924,-0.3333205282688141,3.4567043781280518,3.359010696411133,3.482208013534546,0.6820563673973083,1.9273015260696411,2.6181507110595703,0.6223379969596863,1.8183715343475342,2.9168574810028076,-0.3847449719905853,0.9018864631652832,1.266533374786377,0.18939317762851715,2.69751238822937,2.1201565265655518,1.6264649629592896,3.8117144107818604,1.8509835004806519,2.380441904067993,-0.3447318971157074,1.642962098121643,2.7374343872070312,0.852950930595398,2.332374095916748,3.6095967292785645,1.5255917310714722,0.5831221342086792,-0.5732252597808838,1.6954970359802246,-0.22086936235427856,0.9136573672294617,-0.28960469365119934,3.4743661880493164],\"xaxis\":\"x\",\"y\":[12.113630294799805,11.66202449798584,11.45044231414795,11.798301696777344,11.55161190032959,10.98437213897705,11.218049049377441,11.75531005859375,12.575592041015625,11.494365692138672,12.579690933227539,11.407051086425781,11.453363418579102,11.560893058776855,11.967814445495605,11.4172945022583,11.711074829101562,12.574522972106934,12.18303108215332,11.685325622558594,11.48623275756836,10.73245906829834,10.602113723754883,10.477805137634277,10.913320541381836,11.395875930786133,11.218379020690918,11.783312797546387,10.585369110107422,12.256816864013672,11.915188789367676,12.177170753479004,12.179277420043945,11.45133113861084,12.148370742797852,11.845048904418945,11.828882217407227,12.552131652832031,11.64894962310791,12.467535972595215,11.82833480834961,11.853194236755371,11.776383399963379,11.84246826171875,11.871246337890625,11.52383804321289,10.743171691894531,10.642072677612305,12.489274024963379,10.749906539916992,12.218745231628418,11.316615104675293,11.756118774414062,11.420748710632324,12.04990291595459,10.689661979675293,12.546162605285645,12.004194259643555,11.815664291381836,11.307100296020508,10.566149711608887,11.6073579788208,11.888854026794434,11.010541915893555,12.526604652404785,11.216466903686523,11.018013954162598,10.845365524291992,11.453946113586426,12.254956245422363,11.419412612915039,11.374849319458008,12.23473834991455,11.348016738891602,11.478755950927734,12.20518684387207,11.177956581115723,11.488214492797852,11.30632495880127,10.668681144714355,12.517040252685547,11.691569328308105,11.40682315826416,10.76202392578125,12.668747901916504,12.490224838256836,11.036706924438477,12.357941627502441,10.994775772094727,11.441468238830566,11.272919654846191,11.864355087280273,11.836654663085938,12.606466293334961,11.272446632385254,12.115710258483887,12.468894958496094,11.260110855102539,11.426016807556152,11.728707313537598,11.4221773147583,11.624979019165039,11.630522727966309,11.619073867797852,12.252119064331055,11.246603012084961,10.799615859985352,11.511520385742188,11.84817886352539,11.201144218444824,11.250012397766113,11.310625076293945,12.144600868225098,11.503765106201172,10.555620193481445,11.706181526184082,11.384379386901855,10.795492172241211,11.2640962600708,11.699363708496094,11.3746976852417,10.614084243774414,12.331454277038574,12.218364715576172,11.764456748962402,11.83206844329834,11.462873458862305,12.36169719696045,10.988729476928711,11.049015998840332,11.316996574401855,10.427265167236328,10.978251457214355,10.659111976623535,12.02885627746582,11.610332489013672,12.010214805603027,10.859758377075195,12.113917350769043,11.412101745605469,12.233857154846191,12.506607055664062,12.183271408081055,12.012077331542969,11.961676597595215,12.125380516052246,10.325482368469238,10.910229682922363,11.938389778137207,11.375652313232422,11.830940246582031,10.915024757385254,12.041290283203125,12.494521141052246,12.347735404968262,12.145771026611328,11.06469440460205,11.408510208129883,11.291123390197754,11.030734062194824,11.775285720825195,12.145858764648438,12.198907852172852,11.281710624694824,11.682022094726562,12.537487983703613,11.219390869140625,11.407626152038574,12.098108291625977,11.657001495361328,10.57089614868164,10.681079864501953,11.318742752075195,11.411255836486816,12.061490058898926,12.08597183227539,12.212068557739258,12.306901931762695,11.97288990020752,11.840925216674805,10.99078369140625,12.540877342224121,10.88278865814209,11.959676742553711,11.81403923034668,10.878029823303223,11.27299690246582,11.396673202514648,10.922832489013672,10.607426643371582,11.624662399291992,11.02031421661377,12.12751579284668],\"yaxis\":\"y\",\"type\":\"scattergl\"},{\"hovertemplate\":\"cluster=cluster 3<br>x=%{x}<br>y=%{y}<extra></extra>\",\"legendgroup\":\"cluster 3\",\"marker\":{\"color\":\"#ab63fa\",\"symbol\":\"circle\"},\"mode\":\"markers\",\"name\":\"cluster 3\",\"showlegend\":true,\"x\":[-3.442690849304199,-3.4329679012298584,-3.410411834716797,-3.5313613414764404,-3.532665967941284,-3.5111989974975586,-3.5348329544067383,-3.5401804447174072,-3.5538365840911865,-3.523740768432617,-3.5411648750305176,-3.568122625350952,-3.5275843143463135,-3.4656593799591064,-3.5115108489990234,-3.3438901901245117],\"xaxis\":\"x\",\"y\":[7.139973163604736,7.095029830932617,7.189157485961914,6.850351333618164,6.869694232940674,7.034038543701172,7.075109481811523,7.052557468414307,7.077848434448242,6.864212512969971,6.84986686706543,7.057040214538574,7.121520042419434,7.098832607269287,7.15517520904541,7.234193325042725],\"yaxis\":\"y\",\"type\":\"scattergl\"},{\"hovertemplate\":\"cluster=cluster 4<br>x=%{x}<br>y=%{y}<extra></extra>\",\"legendgroup\":\"cluster 4\",\"marker\":{\"color\":\"#FFA15A\",\"symbol\":\"circle\"},\"mode\":\"markers\",\"name\":\"cluster 4\",\"showlegend\":true,\"x\":[14.370931625366211,14.805542945861816,14.762202262878418,14.320319175720215,14.041228294372559,14.71894359588623,14.049848556518555,13.643081665039062,13.943061828613281,14.439461708068848,14.782637596130371,14.803693771362305,14.797613143920898,14.417719841003418,13.793758392333984,13.72514820098877,13.55880355834961,14.593178749084473,14.166793823242188,14.138668060302734,13.804518699645996,13.392605781555176,14.43406867980957,14.232781410217285,13.001699447631836,14.202980041503906,14.180420875549316,14.109067916870117,14.604720115661621,14.518198013305664,14.344751358032227,14.230188369750977,14.648175239562988,14.777159690856934,14.219385147094727,13.842611312866211,14.772006034851074,14.143375396728516,14.675724029541016,14.597413063049316,14.475546836853027,14.260981559753418,14.191753387451172,14.761636734008789,14.306684494018555,14.18937873840332,14.212564468383789,13.780903816223145,14.549856185913086,14.29151725769043,14.584318161010742,14.542925834655762,14.172794342041016,14.20483112335205,14.233939170837402,13.791577339172363,14.34857177734375,14.75999641418457,14.00294017791748,14.123095512390137,14.609772682189941,14.25541877746582,13.946067810058594],\"xaxis\":\"x\",\"y\":[-0.2558944523334503,0.9101273417472839,0.5141096711158752,-0.1430656611919403,-0.31792035698890686,0.7094007730484009,0.03706564009189606,0.7967861890792847,0.9172269701957703,-0.08352301269769669,0.8960769176483154,0.4216572344303131,0.8962715864181519,-0.10784926265478134,0.9449954032897949,0.8382642269134521,0.9393253922462463,-0.23598620295524597,0.32184723019599915,0.7337943315505981,0.8536842465400696,0.9069796204566956,0.5099610090255737,0.554185152053833,1.3045539855957031,-0.2466001957654953,-0.1148090809583664,-0.1743347942829132,-0.2090575397014618,0.9463158845901489,0.4408007860183716,-0.17790070176124573,-0.12490566074848175,0.5800804495811462,0.22406448423862457,0.32036957144737244,0.9552039504051208,0.2281695008277893,0.771988570690155,-0.21473103761672974,0.7866408228874207,-0.14966927468776703,-0.23039066791534424,0.4613807499408722,-0.022147584706544876,0.35861852765083313,-0.11872956156730652,0.682530403137207,0.6039573550224304,-0.2162332981824875,-0.19823886454105377,0.625484049320221,0.24917560815811157,0.6940759420394897,-0.20805107057094574,0.8046993613243103,-0.223996102809906,0.4629923701286316,0.1706663966178894,0.3005524277687073,-0.1689857393503189,-3.6219973935658345e-06,0.7645573616027832],\"yaxis\":\"y\",\"type\":\"scattergl\"},{\"hovertemplate\":\"cluster=cluster 1<br>x=%{x}<br>y=%{y}<extra></extra>\",\"legendgroup\":\"cluster 1\",\"marker\":{\"color\":\"#19d3f3\",\"symbol\":\"circle\"},\"mode\":\"markers\",\"name\":\"cluster 1\",\"showlegend\":true,\"x\":[-1.8945869207382202,-1.581599473953247,-2.082434892654419,-2.2898294925689697,-2.257544755935669,-1.8596727848052979,-2.002633571624756,-2.16152286529541,-2.634655714035034,-1.31338369846344,-2.7435619831085205,-0.7681394219398499,-2.023719549179077,-2.0803098678588867,-1.2798640727996826,-2.0135395526885986,-1.1040459871292114,-1.679115653038025,-2.0047969818115234,-1.334973692893982,-1.220515251159668,-2.3880984783172607,-2.285038471221924,-1.6798160076141357,-2.1040937900543213,-1.2940855026245117,-1.3289812803268433,-1.3652541637420654,-1.987329363822937,-2.5109968185424805,-1.8118929862976074,-1.1206742525100708,-2.3709561824798584,-2.539233446121216,-2.373474597930908,-2.71844220161438,-1.8804266452789307,-2.570016622543335,-2.4878125190734863,-1.401216745376587,-1.60185968875885,-1.771635890007019,-2.2814457416534424,-1.724971055984497,-1.2462992668151855,-1.4781805276870728,-2.274275541305542,-2.4905335903167725,-1.536221981048584,-1.1163909435272217,-1.718085527420044,-2.5670902729034424,-1.3416001796722412,-2.0389647483825684,-1.8582384586334229,-2.3604648113250732,-2.11796236038208,-1.3319411277770996,-2.53458571434021,-2.1004793643951416,-1.4118772745132446,-1.9916781187057495,-1.8641386032104492,-2.100796699523926,-0.7700265049934387,-1.8446359634399414,-2.3944339752197266,-2.545750856399536,-2.629594087600708,-2.743936538696289,-1.7514245510101318,-2.4130735397338867,-1.1933914422988892,-2.5813682079315186,-2.614022731781006,-1.173371434211731,-1.7819185256958008,-2.2817137241363525,-2.051379919052124],\"xaxis\":\"x\",\"y\":[10.029000282287598,10.574069023132324,9.782371520996094,9.391375541687012,9.608835220336914,9.953754425048828,10.045770645141602,9.758934020996094,9.079318046569824,10.04311752319336,8.666376113891602,11.141993522644043,9.951245307922363,9.799758911132812,9.914156913757324,9.793766021728516,9.497027397155762,10.413928985595703,9.950054168701172,10.687807083129883,9.733264923095703,9.313672065734863,9.191383361816406,10.256396293640137,9.453344345092773,10.935615539550781,10.686336517333984,9.480310440063477,10.457969665527344,9.002290725708008,10.04767894744873,9.557215690612793,9.356348037719727,9.353074073791504,9.401330947875977,8.674619674682617,10.11124324798584,9.296732902526855,9.275970458984375,10.653928756713867,10.656898498535156,10.630572319030762,9.009206771850586,10.625576972961426,10.694253921508789,10.553996086120605,9.257625579833984,9.182404518127441,10.50265121459961,10.795991897583008,9.559091567993164,9.319265365600586,10.859185218811035,9.877359390258789,10.113468170166016,9.274941444396973,9.41878890991211,10.682665824890137,9.408206939697266,9.780213356018066,10.7230863571167,10.018928527832031,10.131661415100098,9.618802070617676,9.947319030761719,10.164424896240234,9.391155242919922,9.299378395080566,8.885528564453125,8.689254760742188,10.472274780273438,8.954546928405762,10.700237274169922,8.982975959777832,8.89372730255127,9.58570384979248,10.377250671386719,9.590478897094727,9.6326904296875],\"yaxis\":\"y\",\"type\":\"scattergl\"},{\"hovertemplate\":\"cluster=cluster 9<br>x=%{x}<br>y=%{y}<extra></extra>\",\"legendgroup\":\"cluster 9\",\"marker\":{\"color\":\"#FF6692\",\"symbol\":\"circle\"},\"mode\":\"markers\",\"name\":\"cluster 9\",\"showlegend\":true,\"x\":[-3.564713478088379,-3.031278371810913,-3.2496249675750732,-3.3982033729553223,-2.9756155014038086,-3.3857839107513428,-3.5295519828796387,-3.2764084339141846,-3.328735828399658,-3.4910261631011963,-3.1395843029022217,-3.3801980018615723,-2.955519914627075,-2.864938974380493,-3.1975014209747314,-3.303600311279297,-3.5149059295654297,-3.348306179046631,-3.459625005722046,-3.2904648780822754,-3.5266857147216797,-3.4187936782836914,-3.087705135345459,-3.389563798904419,-3.204455614089966,-3.480380058288574,-3.352299213409424,-3.3225183486938477,-3.195831537246704,-3.2758800983428955,-2.8427512645721436,-3.40793514251709,-3.5048587322235107,-2.850977897644043,-2.8665764331817627,-3.5117828845977783,-2.8481526374816895,-3.296584367752075,-2.8072030544281006,-2.8898274898529053,-3.067122220993042],\"xaxis\":\"x\",\"y\":[7.57045841217041,8.012157440185547,7.8091254234313965,7.467234134674072,8.029297828674316,7.795126438140869,7.2537384033203125,7.5283966064453125,7.411616802215576,7.52454137802124,7.923348426818848,7.8262810707092285,8.099686622619629,8.544564247131348,7.913515567779541,7.917431831359863,7.359529495239258,7.9347968101501465,7.540639400482178,7.511263847351074,7.183074951171875,7.339007377624512,7.981383800506592,7.4411187171936035,7.89957857131958,7.586568355560303,7.896461486816406,7.926126480102539,8.049229621887207,7.890131950378418,8.546647071838379,7.416494846343994,7.223896503448486,8.539088249206543,8.589009284973145,7.480588912963867,8.53548812866211,7.724299430847168,8.54763126373291,8.462759971618652,7.984553813934326],\"yaxis\":\"y\",\"type\":\"scattergl\"},{\"hovertemplate\":\"cluster=cluster 2<br>x=%{x}<br>y=%{y}<extra></extra>\",\"legendgroup\":\"cluster 2\",\"marker\":{\"color\":\"#B6E880\",\"symbol\":\"circle\"},\"mode\":\"markers\",\"name\":\"cluster 2\",\"showlegend\":true,\"x\":[-0.4145214259624481,-0.38265979290008545,-0.4437003433704376,-0.4491262435913086,-0.4781821072101593,-0.40107348561286926,-0.3908930718898773,-0.4349861443042755,-0.38212430477142334,-0.42311257123947144],\"xaxis\":\"x\",\"y\":[8.895822525024414,8.889348030090332,8.940979957580566,8.885187149047852,8.900116920471191,8.870893478393555,8.838624000549316,8.91861629486084,8.850896835327148,8.892281532287598],\"yaxis\":\"y\",\"type\":\"scattergl\"},{\"hovertemplate\":\"cluster=cluster 7<br>x=%{x}<br>y=%{y}<extra></extra>\",\"legendgroup\":\"cluster 7\",\"marker\":{\"color\":\"#FF97FF\",\"symbol\":\"circle\"},\"mode\":\"markers\",\"name\":\"cluster 7\",\"showlegend\":true,\"x\":[-0.5405731797218323,-0.3955431282520294,-0.6193082332611084,-0.42345982789993286,-0.5067121386528015,-0.4148665964603424,-0.5330009460449219,-0.9487025141716003,-0.4486062824726105,-0.5912550091743469,-0.5499848127365112],\"xaxis\":\"x\",\"y\":[9.112244606018066,9.384061813354492,9.298108100891113,9.322537422180176,9.033378601074219,9.363006591796875,9.171238899230957,9.49015998840332,9.05949592590332,9.312640190124512,9.017936706542969],\"yaxis\":\"y\",\"type\":\"scattergl\"},{\"hovertemplate\":\"cluster=cluster 6<br>x=%{x}<br>y=%{y}<extra></extra>\",\"legendgroup\":\"cluster 6\",\"marker\":{\"color\":\"#FECB52\",\"symbol\":\"circle\"},\"mode\":\"markers\",\"name\":\"cluster 6\",\"showlegend\":true,\"x\":[-0.3726467490196228],\"xaxis\":\"x\",\"y\":[8.835416793823242],\"yaxis\":\"y\",\"type\":\"scattergl\"}],                        {\"template\":{\"data\":{\"histogram2dcontour\":[{\"type\":\"histogram2dcontour\",\"colorbar\":{\"outlinewidth\":0,\"ticks\":\"\"},\"colorscale\":[[0.0,\"#0d0887\"],[0.1111111111111111,\"#46039f\"],[0.2222222222222222,\"#7201a8\"],[0.3333333333333333,\"#9c179e\"],[0.4444444444444444,\"#bd3786\"],[0.5555555555555556,\"#d8576b\"],[0.6666666666666666,\"#ed7953\"],[0.7777777777777778,\"#fb9f3a\"],[0.8888888888888888,\"#fdca26\"],[1.0,\"#f0f921\"]]}],\"choropleth\":[{\"type\":\"choropleth\",\"colorbar\":{\"outlinewidth\":0,\"ticks\":\"\"}}],\"histogram2d\":[{\"type\":\"histogram2d\",\"colorbar\":{\"outlinewidth\":0,\"ticks\":\"\"},\"colorscale\":[[0.0,\"#0d0887\"],[0.1111111111111111,\"#46039f\"],[0.2222222222222222,\"#7201a8\"],[0.3333333333333333,\"#9c179e\"],[0.4444444444444444,\"#bd3786\"],[0.5555555555555556,\"#d8576b\"],[0.6666666666666666,\"#ed7953\"],[0.7777777777777778,\"#fb9f3a\"],[0.8888888888888888,\"#fdca26\"],[1.0,\"#f0f921\"]]}],\"heatmap\":[{\"type\":\"heatmap\",\"colorbar\":{\"outlinewidth\":0,\"ticks\":\"\"},\"colorscale\":[[0.0,\"#0d0887\"],[0.1111111111111111,\"#46039f\"],[0.2222222222222222,\"#7201a8\"],[0.3333333333333333,\"#9c179e\"],[0.4444444444444444,\"#bd3786\"],[0.5555555555555556,\"#d8576b\"],[0.6666666666666666,\"#ed7953\"],[0.7777777777777778,\"#fb9f3a\"],[0.8888888888888888,\"#fdca26\"],[1.0,\"#f0f921\"]]}],\"heatmapgl\":[{\"type\":\"heatmapgl\",\"colorbar\":{\"outlinewidth\":0,\"ticks\":\"\"},\"colorscale\":[[0.0,\"#0d0887\"],[0.1111111111111111,\"#46039f\"],[0.2222222222222222,\"#7201a8\"],[0.3333333333333333,\"#9c179e\"],[0.4444444444444444,\"#bd3786\"],[0.5555555555555556,\"#d8576b\"],[0.6666666666666666,\"#ed7953\"],[0.7777777777777778,\"#fb9f3a\"],[0.8888888888888888,\"#fdca26\"],[1.0,\"#f0f921\"]]}],\"contourcarpet\":[{\"type\":\"contourcarpet\",\"colorbar\":{\"outlinewidth\":0,\"ticks\":\"\"}}],\"contour\":[{\"type\":\"contour\",\"colorbar\":{\"outlinewidth\":0,\"ticks\":\"\"},\"colorscale\":[[0.0,\"#0d0887\"],[0.1111111111111111,\"#46039f\"],[0.2222222222222222,\"#7201a8\"],[0.3333333333333333,\"#9c179e\"],[0.4444444444444444,\"#bd3786\"],[0.5555555555555556,\"#d8576b\"],[0.6666666666666666,\"#ed7953\"],[0.7777777777777778,\"#fb9f3a\"],[0.8888888888888888,\"#fdca26\"],[1.0,\"#f0f921\"]]}],\"surface\":[{\"type\":\"surface\",\"colorbar\":{\"outlinewidth\":0,\"ticks\":\"\"},\"colorscale\":[[0.0,\"#0d0887\"],[0.1111111111111111,\"#46039f\"],[0.2222222222222222,\"#7201a8\"],[0.3333333333333333,\"#9c179e\"],[0.4444444444444444,\"#bd3786\"],[0.5555555555555556,\"#d8576b\"],[0.6666666666666666,\"#ed7953\"],[0.7777777777777778,\"#fb9f3a\"],[0.8888888888888888,\"#fdca26\"],[1.0,\"#f0f921\"]]}],\"mesh3d\":[{\"type\":\"mesh3d\",\"colorbar\":{\"outlinewidth\":0,\"ticks\":\"\"}}],\"scatter\":[{\"fillpattern\":{\"fillmode\":\"overlay\",\"size\":10,\"solidity\":0.2},\"type\":\"scatter\"}],\"parcoords\":[{\"type\":\"parcoords\",\"line\":{\"colorbar\":{\"outlinewidth\":0,\"ticks\":\"\"}}}],\"scatterpolargl\":[{\"type\":\"scatterpolargl\",\"marker\":{\"colorbar\":{\"outlinewidth\":0,\"ticks\":\"\"}}}],\"bar\":[{\"error_x\":{\"color\":\"#2a3f5f\"},\"error_y\":{\"color\":\"#2a3f5f\"},\"marker\":{\"line\":{\"color\":\"#E5ECF6\",\"width\":0.5},\"pattern\":{\"fillmode\":\"overlay\",\"size\":10,\"solidity\":0.2}},\"type\":\"bar\"}],\"scattergeo\":[{\"type\":\"scattergeo\",\"marker\":{\"colorbar\":{\"outlinewidth\":0,\"ticks\":\"\"}}}],\"scatterpolar\":[{\"type\":\"scatterpolar\",\"marker\":{\"colorbar\":{\"outlinewidth\":0,\"ticks\":\"\"}}}],\"histogram\":[{\"marker\":{\"pattern\":{\"fillmode\":\"overlay\",\"size\":10,\"solidity\":0.2}},\"type\":\"histogram\"}],\"scattergl\":[{\"type\":\"scattergl\",\"marker\":{\"colorbar\":{\"outlinewidth\":0,\"ticks\":\"\"}}}],\"scatter3d\":[{\"type\":\"scatter3d\",\"line\":{\"colorbar\":{\"outlinewidth\":0,\"ticks\":\"\"}},\"marker\":{\"colorbar\":{\"outlinewidth\":0,\"ticks\":\"\"}}}],\"scattermapbox\":[{\"type\":\"scattermapbox\",\"marker\":{\"colorbar\":{\"outlinewidth\":0,\"ticks\":\"\"}}}],\"scatterternary\":[{\"type\":\"scatterternary\",\"marker\":{\"colorbar\":{\"outlinewidth\":0,\"ticks\":\"\"}}}],\"scattercarpet\":[{\"type\":\"scattercarpet\",\"marker\":{\"colorbar\":{\"outlinewidth\":0,\"ticks\":\"\"}}}],\"carpet\":[{\"aaxis\":{\"endlinecolor\":\"#2a3f5f\",\"gridcolor\":\"white\",\"linecolor\":\"white\",\"minorgridcolor\":\"white\",\"startlinecolor\":\"#2a3f5f\"},\"baxis\":{\"endlinecolor\":\"#2a3f5f\",\"gridcolor\":\"white\",\"linecolor\":\"white\",\"minorgridcolor\":\"white\",\"startlinecolor\":\"#2a3f5f\"},\"type\":\"carpet\"}],\"table\":[{\"cells\":{\"fill\":{\"color\":\"#EBF0F8\"},\"line\":{\"color\":\"white\"}},\"header\":{\"fill\":{\"color\":\"#C8D4E3\"},\"line\":{\"color\":\"white\"}},\"type\":\"table\"}],\"barpolar\":[{\"marker\":{\"line\":{\"color\":\"#E5ECF6\",\"width\":0.5},\"pattern\":{\"fillmode\":\"overlay\",\"size\":10,\"solidity\":0.2}},\"type\":\"barpolar\"}],\"pie\":[{\"automargin\":true,\"type\":\"pie\"}]},\"layout\":{\"autotypenumbers\":\"strict\",\"colorway\":[\"#636efa\",\"#EF553B\",\"#00cc96\",\"#ab63fa\",\"#FFA15A\",\"#19d3f3\",\"#FF6692\",\"#B6E880\",\"#FF97FF\",\"#FECB52\"],\"font\":{\"color\":\"#2a3f5f\"},\"hovermode\":\"closest\",\"hoverlabel\":{\"align\":\"left\"},\"paper_bgcolor\":\"white\",\"plot_bgcolor\":\"#E5ECF6\",\"polar\":{\"bgcolor\":\"#E5ECF6\",\"angularaxis\":{\"gridcolor\":\"white\",\"linecolor\":\"white\",\"ticks\":\"\"},\"radialaxis\":{\"gridcolor\":\"white\",\"linecolor\":\"white\",\"ticks\":\"\"}},\"ternary\":{\"bgcolor\":\"#E5ECF6\",\"aaxis\":{\"gridcolor\":\"white\",\"linecolor\":\"white\",\"ticks\":\"\"},\"baxis\":{\"gridcolor\":\"white\",\"linecolor\":\"white\",\"ticks\":\"\"},\"caxis\":{\"gridcolor\":\"white\",\"linecolor\":\"white\",\"ticks\":\"\"}},\"coloraxis\":{\"colorbar\":{\"outlinewidth\":0,\"ticks\":\"\"}},\"colorscale\":{\"sequential\":[[0.0,\"#0d0887\"],[0.1111111111111111,\"#46039f\"],[0.2222222222222222,\"#7201a8\"],[0.3333333333333333,\"#9c179e\"],[0.4444444444444444,\"#bd3786\"],[0.5555555555555556,\"#d8576b\"],[0.6666666666666666,\"#ed7953\"],[0.7777777777777778,\"#fb9f3a\"],[0.8888888888888888,\"#fdca26\"],[1.0,\"#f0f921\"]],\"sequentialminus\":[[0.0,\"#0d0887\"],[0.1111111111111111,\"#46039f\"],[0.2222222222222222,\"#7201a8\"],[0.3333333333333333,\"#9c179e\"],[0.4444444444444444,\"#bd3786\"],[0.5555555555555556,\"#d8576b\"],[0.6666666666666666,\"#ed7953\"],[0.7777777777777778,\"#fb9f3a\"],[0.8888888888888888,\"#fdca26\"],[1.0,\"#f0f921\"]],\"diverging\":[[0,\"#8e0152\"],[0.1,\"#c51b7d\"],[0.2,\"#de77ae\"],[0.3,\"#f1b6da\"],[0.4,\"#fde0ef\"],[0.5,\"#f7f7f7\"],[0.6,\"#e6f5d0\"],[0.7,\"#b8e186\"],[0.8,\"#7fbc41\"],[0.9,\"#4d9221\"],[1,\"#276419\"]]},\"xaxis\":{\"gridcolor\":\"white\",\"linecolor\":\"white\",\"ticks\":\"\",\"title\":{\"standoff\":15},\"zerolinecolor\":\"white\",\"automargin\":true,\"zerolinewidth\":2},\"yaxis\":{\"gridcolor\":\"white\",\"linecolor\":\"white\",\"ticks\":\"\",\"title\":{\"standoff\":15},\"zerolinecolor\":\"white\",\"automargin\":true,\"zerolinewidth\":2},\"scene\":{\"xaxis\":{\"backgroundcolor\":\"#E5ECF6\",\"gridcolor\":\"white\",\"linecolor\":\"white\",\"showbackground\":true,\"ticks\":\"\",\"zerolinecolor\":\"white\",\"gridwidth\":2},\"yaxis\":{\"backgroundcolor\":\"#E5ECF6\",\"gridcolor\":\"white\",\"linecolor\":\"white\",\"showbackground\":true,\"ticks\":\"\",\"zerolinecolor\":\"white\",\"gridwidth\":2},\"zaxis\":{\"backgroundcolor\":\"#E5ECF6\",\"gridcolor\":\"white\",\"linecolor\":\"white\",\"showbackground\":true,\"ticks\":\"\",\"zerolinecolor\":\"white\",\"gridwidth\":2}},\"shapedefaults\":{\"line\":{\"color\":\"#2a3f5f\"}},\"annotationdefaults\":{\"arrowcolor\":\"#2a3f5f\",\"arrowhead\":0,\"arrowwidth\":1},\"geo\":{\"bgcolor\":\"white\",\"landcolor\":\"#E5ECF6\",\"subunitcolor\":\"white\",\"showland\":true,\"showlakes\":true,\"lakecolor\":\"white\"},\"title\":{\"x\":0.05},\"mapbox\":{\"style\":\"light\"}}},\"xaxis\":{\"anchor\":\"y\",\"domain\":[0.0,1.0],\"title\":{\"text\":\"x\"}},\"yaxis\":{\"anchor\":\"x\",\"domain\":[0.0,1.0],\"title\":{\"text\":\"y\"}},\"legend\":{\"title\":{\"text\":\"cluster\"},\"tracegroupgap\":0},\"title\":{\"text\":\"word embedding samples\"}},                        {\"responsive\": true}                    ).then(function(){\n",
              "                            \n",
              "var gd = document.getElementById('69bd468c-b4e2-4089-8dcb-b5b634622108');\n",
              "var x = new MutationObserver(function (mutations, observer) {{\n",
              "        var display = window.getComputedStyle(gd).display;\n",
              "        if (!display || display === 'none') {{\n",
              "            console.log([gd, 'removed!']);\n",
              "            Plotly.purge(gd);\n",
              "            observer.disconnect();\n",
              "        }}\n",
              "}});\n",
              "\n",
              "// Listen for the removal of the full notebook cells\n",
              "var notebookContainer = gd.closest('#notebook-container');\n",
              "if (notebookContainer) {{\n",
              "    x.observe(notebookContainer, {childList: true});\n",
              "}}\n",
              "\n",
              "// Listen for the clearing of the current output cell\n",
              "var outputEl = gd.closest('.output');\n",
              "if (outputEl) {{\n",
              "    x.observe(outputEl, {childList: true});\n",
              "}}\n",
              "\n",
              "                        })                };                            </script>        </div>\n",
              "</body>\n",
              "</html>"
            ]
          },
          "metadata": {}
        },
        {
          "output_type": "execute_result",
          "data": {
            "text/plain": [
              "True"
            ]
          },
          "metadata": {},
          "execution_count": 14
        }
      ],
      "source": [
        "from src.embedding import WordEmbeddingCreator\n",
        "from pathlib import Path\n",
        "\n",
        "save_path = Path.joinpath(Path.cwd(), f'prepared_data/min_df_{min_df}')\n",
        "figures_path = Path.joinpath(Path.cwd(), f'figures/min_df_{min_df}')\n",
        "Path(figures_path).mkdir(parents=True, exist_ok=True)\n",
        "\n",
        "wb_creator = WordEmbeddingCreator(model_name=\"skipgram\", documents = docs_tr, save_path= save_path)\n",
        "wb_creator.train(min_count=0, embedding_size= 300)\n",
        "vocab = list(word2id.keys())\n",
        "wb_creator.create_and_save_vocab_embedding(vocab, save_path)\n",
        "wb_creator.cluster_words(save_path, figures_path, n_components=2, text = False)"
      ]
    },
    {
      "cell_type": "code",
      "execution_count": 15,
      "metadata": {
        "colab": {
          "base_uri": "https://localhost:8080/"
        },
        "id": "f23xipx7MSV4",
        "outputId": "eab6e63c-637a-4ba0-8916-7309937edd1d"
      },
      "outputs": [
        {
          "output_type": "stream",
          "name": "stdout",
          "text": [
            "word-embedding of the word-- james: \n",
            "vector: [0.06259749, 0.05170355, 0.057805795, 0.07827238, -0.045947865, -0.032254722, 0.061707553, 0.047520947, 0.0093000075, 0.07012553, 0.08491715, -0.052630987, -0.002334716, -0.07305318, 0.046756346, 0.008787252, -0.15125678, -0.0026647723, 0.09191872, -0.012446194, -0.07547011, -0.04391538, -0.12441863, 0.039992794, -0.07239341, -0.043678805, 0.08089646, 0.031134658, 0.064470045, -0.05235701, 0.026258592, 0.1911196, -0.094709545, -0.011097429, 0.109521925, 0.10398827, 0.018154638, 0.15439251, 0.13692528, -0.030442905, -0.029818024, -0.036587562, 0.15598889, -0.10181818, 0.019133799, -0.04499233, 0.02093284, 0.006940531, -0.03600144, -0.10969044, 0.038568445, 0.004984227, 0.058644556, 0.064773016, -0.08175983, 0.016103271, -0.0833101, -0.017698508, 0.023684198, -0.08011472, -0.062437512, 0.002948068, 0.053906202, -0.081775405, -0.07787337, 0.011449356, 0.08016667, 0.056595143, -0.098350056, 0.07267792, -0.013279331, 0.07209848, 0.10991721, -0.009904749, -0.14117683, 0.08157399, -0.103539415, -0.06728734, -0.032965396, -0.0076194005, 0.0072319782, 0.0896723, -0.14787245, -0.030788016, -0.020757161, -0.016683407, -0.13229892, -0.008402648, 0.022731282, -0.06700297, -0.04109322, 0.006564622, 0.056956194, -0.17363372, -0.055431124, -0.048896424, -0.05514897, -0.058325123, -0.073000245, 0.09562998, -0.13693528, -0.062334985, -0.02105456, -0.03516409, -0.0028724293, -0.08963161, -0.112635285, -0.09940655, 0.014656883, 0.061996736, 0.09597912, 0.023264961, 0.0063171634, -0.124274634, 0.079472326, -0.060095485, 0.08139542, -0.013203192, 0.08633849, -0.052576907, 0.077063665, -0.009778765, 0.06385833, 0.04074505, 0.014645297, -0.070088126, -0.07578218, -0.0077291476, -0.065731764, -0.019026877, 5.2873824e-05, 0.07807614, -0.0830302, -0.054234482, -0.031766176, 0.104220025, 0.0012498293, -0.0028048656, 0.048296522, 0.029137148, 0.06136202, 0.08096649, 0.067251936, -0.003850183, 0.044467386, 0.041837543, 0.06982838, -0.011568737, -0.005400861, 0.038277782, -0.021424258, -0.10353019, 0.0035980595, -0.11968246, -0.055675726, -0.05050542, -0.011487041, -0.025995811, -0.05057029, -0.039195593, 0.01289733, 0.046945855, 0.1435693, -0.038882963, 0.08525499, -0.030923957, -0.10257264, -0.034051005, -0.046508245, 0.10825921, -0.061858892, 0.05024753, 0.09381393, 0.039049137, -0.008185893, -0.1386591, 0.09320616, 0.009911205, 0.080653675, -0.06566882, 0.0023404998, -0.07147923, -0.0077832425, -0.06390729, 0.09288373, -0.14708136, 0.09328855, 0.0459417, 0.058265995, 0.1349102, 0.119869396, 0.053557847, 0.05274404, 0.04374893, 0.009889215, 0.18514875, -0.03820872, 0.053649332, 0.075987704, 0.094496936, -0.06619046, -0.026869852, 0.123654835, -0.0035409494, 0.11775532, 0.0627695, 0.04665704, -0.009069467, -0.062466953, 0.06849863, 0.007127936, 0.034931593, -0.06049864, -0.1612475, -0.045652054, -0.037930593, -0.091300264, -0.06780673, -0.1350886, -0.036503732, 0.065974474, -0.09580586, 0.05701865, -0.023942742, 0.002308501, -0.15411331, 0.02420815, -0.008654391, 0.019171797, 0.07441452, 0.022859013, -0.005485874, -0.04044683, -0.018167447, 0.07585684, 0.09347544, -0.11435185, -0.023814915, 0.006010525, -0.029065534, -0.015224855, 0.029133657, -0.035904843, -0.27052483, -0.048417956, 0.091465764, 0.04503806, 0.11469665, 0.022799876, -0.0051913145, -0.046336103, -0.14029796, -0.12531906, -0.22474556, -0.00877116, 0.08272944, 0.036307253, 0.13516816, 0.041119657, -0.0141151855, -0.07666787, 0.04694293, -0.033536457, -0.17831863, -0.090328045, 0.1556092, 0.012603007, -0.09064849, -0.005504787, 0.057339102, -0.017167334, -0.15433168, 0.0913195, 0.010203961, 0.034093577, 0.12906016, -0.044292875, -0.02227506, -0.009289654, -0.08472178, 0.00046038546, 0.058684293, 0.02609036, -0.06759597, -0.0078435335, 0.064452775, 0.10712934, 0.043404456, 0.07655163, 0.055638682, 0.0986068, 0.018683651, -0.071584955, -0.07517273, 0.13766101, 0.028669853, -0.02613237, 0.10728931, 0.08527255, 0.08204958]\n",
            "dim of vector: 300\n"
          ]
        }
      ],
      "source": [
        "v = list(wb_creator.model.wv.vocab)[0]\n",
        "vec = list(wb_creator.model.wv.__getitem__(v))\n",
        "print(f'word-embedding of the word-- {v}: ')\n",
        "print(f'vector: {vec}')\n",
        "print(f'dim of vector: {len(vec)}')"
      ]
    },
    {
      "cell_type": "markdown",
      "metadata": {
        "id": "l53_jkUS-hl-"
      },
      "source": [
        "# **Word-Embeddings visualieren als Beispiel**\n"
      ]
    },
    {
      "cell_type": "code",
      "execution_count": 16,
      "metadata": {
        "id": "o96LsIWkNrZS",
        "outputId": "20cab739-0756-4b45-8fa5-70900389ff25",
        "colab": {
          "base_uri": "https://localhost:8080/",
          "height": 122
        }
      },
      "outputs": [
        {
          "output_type": "execute_result",
          "data": {
            "text/plain": [
              "'\\n# read word-embedding files\\nwith open(save_path) as f:\\n  lines = f.readlines()\\nembedding_data = []\\nwords_data = []\\nfor t in lines:\\n  w = t.split(\"\\t\")[0]\\n  v = [float(e) for e in t.split(\"\\t\")[1].split(\" \")]\\n  words_data.append(w)\\n  embedding_data.append(v)\\n\\n# clustering words with KMeans and Words-Vectors\\nkmeans = cluster.KMeans(n_clusters=10)\\nkmeans.fit(embedding_data)\\n \\nlabels = kmeans.labels_\\ncentroids = kmeans.cluster_centers_\\n \\nprint (\"Cluster id labels for inputted data\")\\nprint (labels)\\n#print (\"Centroids data\")\\n#print (centroids)\\n\\n\\n# dimension reduction with umap\\nstart = time.time()\\nreducer = umap.UMAP(random_state=42,n_components=3)\\nembedding = reducer.fit_transform(embedding_data)\\nprint(\\'Duration: {} seconds\\'.format(time.time() - start))\\n\\n# show samples after dim-reduction in dataframe\\nwb = pd.DataFrame(embedding, columns=[\\'x\\', \\'y\\', \\'z\\'])\\nwb[\\'word\\'] = words_data\\nwb[\\'cluster\\'] = [\\'cluster \\' + str(c) for c in labels]\\n\\n# visualization\\nfig = px.scatter_3d(wb, \\n                    text = wb[\\'word\\'],\\n                    x=\\'x\\', y=\\'y\\', z=\\'z\\',\\n                    color = wb[\\'cluster\\'],\\n                    title =\"word-embedding-samples\")\\nfig.show()\\n'"
            ],
            "application/vnd.google.colaboratory.intrinsic+json": {
              "type": "string"
            }
          },
          "metadata": {},
          "execution_count": 16
        }
      ],
      "source": [
        "\"\"\"\n",
        "# read word-embedding files\n",
        "with open(save_path) as f:\n",
        "  lines = f.readlines()\n",
        "embedding_data = []\n",
        "words_data = []\n",
        "for t in lines:\n",
        "  w = t.split(\"\\t\")[0]\n",
        "  v = [float(e) for e in t.split(\"\\t\")[1].split(\" \")]\n",
        "  words_data.append(w)\n",
        "  embedding_data.append(v)\n",
        "\n",
        "# clustering words with KMeans and Words-Vectors\n",
        "kmeans = cluster.KMeans(n_clusters=10)\n",
        "kmeans.fit(embedding_data)\n",
        " \n",
        "labels = kmeans.labels_\n",
        "centroids = kmeans.cluster_centers_\n",
        " \n",
        "print (\"Cluster id labels for inputted data\")\n",
        "print (labels)\n",
        "#print (\"Centroids data\")\n",
        "#print (centroids)\n",
        "\n",
        "\n",
        "# dimension reduction with umap\n",
        "start = time.time()\n",
        "reducer = umap.UMAP(random_state=42,n_components=3)\n",
        "embedding = reducer.fit_transform(embedding_data)\n",
        "print('Duration: {} seconds'.format(time.time() - start))\n",
        "\n",
        "# show samples after dim-reduction in dataframe\n",
        "wb = pd.DataFrame(embedding, columns=['x', 'y', 'z'])\n",
        "wb['word'] = words_data\n",
        "wb['cluster'] = ['cluster ' + str(c) for c in labels]\n",
        "\n",
        "# visualization\n",
        "fig = px.scatter_3d(wb, \n",
        "                    text = wb['word'],\n",
        "                    x='x', y='y', z='z',\n",
        "                    color = wb['cluster'],\n",
        "                    title =\"word-embedding-samples\")\n",
        "fig.show()\n",
        "\"\"\""
      ]
    },
    {
      "cell_type": "markdown",
      "metadata": {
        "id": "P9jSI12r9zqu"
      },
      "source": [
        "# **ETM Model**\n",
        "\n",
        "ETM hat die Architektur eines Variational Autoencoders. \n",
        "ETM wird mit den pretrainierten Embedding kombiniert. Die Embeddings für Topics werden als Gewichten eines Teiles des Netzes aktualiert mittels der ELBO Loss\n",
        "\n",
        "![ETM.drawio.png](data:image/png;base64,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)"
      ]
    },
    {
      "cell_type": "code",
      "execution_count": 17,
      "metadata": {
        "colab": {
          "base_uri": "https://localhost:8080/"
        },
        "id": "fwiU9zWCIUh_",
        "outputId": "81a84f70-f8d4-4492-dca2-0fba65369a49"
      },
      "outputs": [
        {
          "output_type": "stream",
          "name": "stdout",
          "text": [
            "number train-samples: 619\n",
            "sum of sample vector: 1.0\n",
            "length of sample vector: 0.14657549560070038\n"
          ]
        }
      ],
      "source": [
        "# using DocSet to use easier the modul DataSet from torch\n",
        "from src.train_etm import DocSet, TrainETM\n",
        "from src.etm import ETM\n",
        "import torch\n",
        "\n",
        "vocab_size = len(list(word2id.keys()))\n",
        "tr_set = DocSet(\"train\", vocab_size, train_set, normalize_data=True)\n",
        "print(f'number train-samples: {len(tr_set)}')\n",
        "print(f'sum of sample vector: {sum(tr_set.__getitem__(0))}')\n",
        "print(f'length of sample vector: {torch.norm(tr_set.__getitem__(0))}')"
      ]
    },
    {
      "cell_type": "markdown",
      "source": [
        "**Trainingsparametern vorbereiten**\n",
        "\n",
        "\n"
      ],
      "metadata": {
        "id": "U4Z-7za3VYOv"
      }
    },
    {
      "cell_type": "code",
      "source": [
        "class TrainArguments:\n",
        "      def __init__(self, epochs, batch_size, log_interval):\n",
        "          self.epochs = epochs\n",
        "          self.batch_size = batch_size\n",
        "          self.log_interval = log_interval\n",
        "\n",
        "class OptimizerArguments:\n",
        "      def __init__(self, optimizer_name, lr, wdecay):\n",
        "            self.optimizer = optimizer_name\n",
        "            self.lr = lr\n",
        "            self.wdecay = wdecay\n",
        "            \n",
        "train_args = TrainArguments(epochs=10, batch_size=100, log_interval=None)\n",
        "optimizer_args = OptimizerArguments(optimizer_name=\"adam\", lr=0.001, wdecay=0.1)\n",
        "print(train_args.epochs)\n",
        "print(optimizer_args.optimizer)\n",
        "\n",
        "from src.embedding import read_prefitted_embedding\n",
        "embedding_data = read_prefitted_embedding(vocab, save_path)\n",
        "num_topics = 10\n",
        "t_hidden_size = 800\n",
        "rho_size = len(embedding_data[0])\n",
        "emb_size = len(embedding_data[0])\n",
        "theta_act = \"tanh\""
      ],
      "metadata": {
        "colab": {
          "base_uri": "https://localhost:8080/"
        },
        "id": "oPKPTWbZVWuT",
        "outputId": "cb3c2f8c-fa31-4f14-e5a0-dd8b19efffcf"
      },
      "execution_count": 18,
      "outputs": [
        {
          "output_type": "stream",
          "name": "stdout",
          "text": [
            "10\n",
            "adam\n"
          ]
        }
      ]
    },
    {
      "cell_type": "markdown",
      "source": [
        "**ETM initialisieren**"
      ],
      "metadata": {
        "id": "WjO6yHpgVljt"
      }
    },
    {
      "cell_type": "code",
      "source": [
        "# define the ETM-model with setting-parameters\n",
        "etm_model = ETM(\n",
        "      num_topics, \n",
        "      vocab_size, \n",
        "      t_hidden_size, rho_size, emb_size, theta_act, \n",
        "      embedding_data, \n",
        "      enc_drop=0.5)\n",
        "\n",
        "print(etm_model)"
      ],
      "metadata": {
        "colab": {
          "base_uri": "https://localhost:8080/"
        },
        "id": "IJ70hPX3VlOF",
        "outputId": "95e7a0f1-2b82-4c8f-a2e9-7e9b0f2ce6ba"
      },
      "execution_count": 19,
      "outputs": [
        {
          "output_type": "stream",
          "name": "stdout",
          "text": [
            "ETM(\n",
            "  (t_drop): Dropout(p=0.5, inplace=False)\n",
            "  (theta_act): Tanh()\n",
            "  (topic_embeddings_alphas): Linear(in_features=300, out_features=10, bias=False)\n",
            "  (q_theta): Sequential(\n",
            "    (0): Linear(in_features=1266, out_features=800, bias=True)\n",
            "    (1): Tanh()\n",
            "    (2): Linear(in_features=800, out_features=800, bias=True)\n",
            "    (3): Tanh()\n",
            "  )\n",
            "  (mu_q_theta): Linear(in_features=800, out_features=10, bias=True)\n",
            "  (logsigma_q_theta): Linear(in_features=800, out_features=10, bias=True)\n",
            ")\n"
          ]
        }
      ]
    },
    {
      "cell_type": "markdown",
      "source": [
        "**trainieren**"
      ],
      "metadata": {
        "id": "gSPGu9NNV1_n"
      }
    },
    {
      "cell_type": "code",
      "execution_count": 20,
      "metadata": {
        "colab": {
          "base_uri": "https://localhost:8080/",
          "height": 1000
        },
        "id": "kbJIWLZpJRnG",
        "outputId": "ef9d9330-8d36-47da-ffa1-9a8676a3a9e9"
      },
      "outputs": [
        {
          "output_type": "stream",
          "name": "stdout",
          "text": [
            "number of batches: 6\n",
            "Epoch: 1/10  -  Loss: 7.14173 \t Rec: 7.13932 \t KL: 0.00241\n",
            "Epoch: 2/10  -  Loss: 7.13414 \t Rec: 7.13347 \t KL: 0.00067\n",
            "Epoch: 3/10  -  Loss: 7.12809 \t Rec: 7.12771 \t KL: 0.00038\n",
            "Epoch: 4/10  -  Loss: 7.12307 \t Rec: 7.12285 \t KL: 0.00021\n",
            "Epoch: 5/10  -  Loss: 7.11771 \t Rec: 7.11761 \t KL: 0.0001\n",
            "Epoch: 6/10  -  Loss: 7.11402 \t Rec: 7.11398 \t KL: 4e-05\n",
            "Epoch: 7/10  -  Loss: 7.1102 \t Rec: 7.11018 \t KL: 2e-05\n",
            "Epoch: 8/10  -  Loss: 7.10743 \t Rec: 7.10742 \t KL: 1e-05\n",
            "Epoch: 9/10  -  Loss: 7.10449 \t Rec: 7.10448 \t KL: 1e-05\n",
            "Epoch: 10/10  -  Loss: 7.10228 \t Rec: 7.10228 \t KL: 0.0\n",
            "Checkpoint saved at checkpoints/etm_epoch_10.pth.tar\n"
          ]
        },
        {
          "output_type": "display_data",
          "data": {
            "text/plain": [
              "<Figure size 432x288 with 1 Axes>"
            ],
            "image/png": "[encoded data removed]"
          },
          "metadata": {
            "needs_background": "light"
          }
        },
        {
          "output_type": "display_data",
          "data": {
            "text/plain": [
              "<Figure size 432x288 with 1 Axes>"
            ],
            "image/png": "[encoded data removed]"
          },
          "metadata": {
            "needs_background": "light"
          }
        },
        {
          "output_type": "stream",
          "name": "stdout",
          "text": [
            "tensor([0.0007, 0.0008, 0.0008,  ..., 0.0008, 0.0008, 0.0007], device='cuda:0')\n",
            "tensor(1., device='cuda:0')\n",
            "[('nntp', 0.001167000737041235), ('host', 0.0011466162977740169), ('posting', 0.0011399422073736787), ('distribution', 0.0011107258033007383), ('article', 0.0010677987011149526), ('uk', 0.0010536041809245944), ('sun', 0.001050192629918456), ('usa', 0.0010449930559843779), ('cc', 0.0010444906074553728), ('reply', 0.001033653155900538), ('university', 0.0010331548983231187), ('ac', 0.0010291356593370438), ('cs', 0.0010251327184960246), ('newsreader', 0.001024321187287569), ('apr', 0.0010234378278255463), ('nasa', 0.001011667656712234), ('cmu', 0.0010028999531641603), ('ca', 0.0010008278768509626), ('gov', 0.0009981367038562894), ('tin', 0.0009925636695697904)]\n",
            "[('nntp', 0.001140601933002472), ('host', 0.0011229710653424263), ('posting', 0.0011167024495080113), ('distribution', 0.0010899228509515524), ('article', 0.0010487771360203624), ('uk', 0.0010413215495646), ('sun', 0.001035387977026403), ('cc', 0.0010297222761437297), ('usa', 0.0010296961991116405), ('ac', 0.0010197117226198316), ('reply', 0.0010190318571403623), ('university', 0.0010182963451370597), ('newsreader', 0.0010124085238203406), ('cs', 0.0010106475092470646), ('apr', 0.0010083419037982821), ('nasa', 0.000996324117295444), ('ca', 0.0009904548060148954), ('cmu', 0.0009900740114971995), ('gov', 0.0009843719890341163), ('tin', 0.0009821850107982755)]\n",
            "[('nntp', 0.0011371310101822019), ('host', 0.0011172948870807886), ('posting', 0.001112553058192134), ('distribution', 0.0010848320089280605), ('article', 0.0010423411149531603), ('uk', 0.0010324594331905246), ('sun', 0.0010322933085262775), ('usa', 0.0010235161753371358), ('cc', 0.0010200424585491419), ('university', 0.001017430447973311), ('reply', 0.001015621586702764), ('ac', 0.0010092316661030054), ('cs', 0.0010073274606838822), ('newsreader', 0.0010056114988401532), ('apr', 0.0010047676041722298), ('nasa', 0.0009940322488546371), ('cmu', 0.0009891160298138857), ('gov', 0.0009809717303141952), ('ca', 0.0009791537886485457), ('tin', 0.0009756744839251041)]\n",
            "[('nntp', 0.0011506194714456797), ('host', 0.0011319926707074046), ('posting', 0.0011259953025728464), ('distribution', 0.0010988975409418344), ('article', 0.0010592294856905937), ('uk', 0.0010457814205437899), ('sun', 0.0010404546046629548), ('cc', 0.0010370796080678701), ('usa', 0.001035532564856112), ('reply', 0.001024488708935678), ('university', 0.0010229554027318954), ('ac', 0.0010226343292742968), ('cs', 0.0010166967986151576), ('newsreader', 0.001016402617096901), ('apr', 0.0010143383406102657), ('max', 0.0010013928404077888), ('nasa', 0.0010004559298977256), ('ca', 0.0009964281925931573), ('cmu', 0.0009943075710907578), ('gov', 0.000988277024589479)]\n",
            "[('nntp', 0.0011729019461199641), ('host', 0.0011519597610458732), ('posting', 0.0011438773944973946), ('distribution', 0.0011159374844282866), ('article', 0.001077433698810637), ('uk', 0.0010632851626724005), ('sun', 0.001055924454703927), ('cc', 0.0010518979979678988), ('usa', 0.0010495136957615614), ('reply', 0.0010391988325864077), ('ac', 0.0010389289818704128), ('university', 0.0010388463269919157), ('cs', 0.0010311872465535998), ('apr', 0.0010297426488250494), ('newsreader', 0.001028472208417952), ('nasa', 0.001012194436043501), ('ca', 0.0010082521475851536), ('cmu', 0.0010075343307107687), ('gov', 0.0009988504461944103), ('writes', 0.0009964877972379327)]\n",
            "[('nntp', 0.0011856761993840337), ('host', 0.0011642506578937173), ('posting', 0.0011591081274673343), ('distribution', 0.001126625924371183), ('article', 0.0010830530663952231), ('uk', 0.0010680850828066468), ('sun', 0.001066488795913756), ('usa', 0.001056295819580555), ('cc', 0.0010545490076765418), ('university', 0.001048204954713583), ('reply', 0.0010471362620592117), ('ac', 0.0010416151490062475), ('cs', 0.0010384806664660573), ('apr', 0.0010366272181272507), ('newsreader', 0.0010357587598264217), ('nasa', 0.0010221246629953384), ('cmu', 0.001015784335322678), ('ca', 0.0010078663472086191), ('gov', 0.0010067636612802744), ('writes', 0.0010040783090516925)]\n",
            "[('nntp', 0.0011266653891652822), ('host', 0.0011085497681051493), ('posting', 0.0011014207266271114), ('distribution', 0.0010767948115244508), ('article', 0.0010415328433737159), ('uk', 0.0010309425415471196), ('sun', 0.0010229275794699788), ('cc', 0.0010215741349384189), ('usa', 0.001019323244690895), ('ac', 0.0010102827800437808), ('reply', 0.001008626539260149), ('university', 0.0010081061627715826), ('newsreader', 0.0010022828355431557), ('cs', 0.001002249657176435), ('apr', 0.0010000549955293536), ('nasa', 0.000988415558822453), ('max', 0.000985897844657302), ('ca', 0.0009839084232226014), ('cmu', 0.0009810627670958638), ('gov', 0.000977137009613216)]\n",
            "[('nntp', 0.0011750416597351432), ('host', 0.0011546306777745485), ('posting', 0.001146900118328631), ('distribution', 0.001117961248382926), ('article', 0.0010789376683533192), ('uk', 0.0010667045135051012), ('cc', 0.001055434811860323), ('sun', 0.0010549401631578803), ('usa', 0.0010518631897866726), ('ac', 0.0010431075934320688), ('reply', 0.001039789174683392), ('university', 0.0010380821768194437), ('cs', 0.0010320745641365647), ('newsreader', 0.0010318099521100521), ('apr', 0.0010308974888175726), ('max', 0.0010249955812469125), ('nasa', 0.0010153836337849498), ('ca', 0.001012801076285541), ('cmu', 0.0010068104602396488), ('gov', 0.0010024073999375105)]\n",
            "[('nntp', 0.0010903412476181984), ('host', 0.0010746135376393795), ('posting', 0.0010695911478251219), ('distribution', 0.0010478902840986848), ('article', 0.0010165257845073938), ('uk', 0.0010048745898529887), ('sun', 0.0010008211247622967), ('cc', 0.000996911316178739), ('usa', 0.0009962565964087844), ('reply', 0.0009876163676381111), ('university', 0.0009875129908323288), ('ac', 0.0009864429011940956), ('cs', 0.0009816096862778068), ('newsreader', 0.0009803882567211986), ('apr', 0.0009801068808883429), ('nasa', 0.0009702148381620646), ('cmu', 0.0009634167654439807), ('ca', 0.0009623389923945069), ('gov', 0.0009590054978616536), ('tin', 0.0009556433069519699)]\n",
            "[('nntp', 0.001145120244473219), ('host', 0.001126477844081819), ('posting', 0.0011189035139977932), ('distribution', 0.0010935759637504816), ('article', 0.0010550979059189558), ('uk', 0.0010469986591488123), ('sun', 0.0010376687860116363), ('cc', 0.0010324404574930668), ('usa', 0.0010319419670850039), ('ac', 0.0010242699645459652), ('reply', 0.001021497999317944), ('university', 0.0010204060235992074), ('newsreader', 0.001015309477224946), ('cs', 0.001013731467537582), ('apr', 0.001011408632621169), ('nasa', 0.000999294687062502), ('ca', 0.000993266236037016), ('cmu', 0.0009919796139001846), ('gov', 0.0009864011080935597), ('tin', 0.000985241960734129)]\n",
            "torch.Size([1266, 300])\n",
            "torch.Size([10, 300])\n",
            "Duration: 5.39233660697937 seconds\n"
          ]
        },
        {
          "output_type": "display_data",
          "data": {
            "text/html": [
              "<html>\n",
              "<head><meta charset=\"utf-8\" /></head>\n",
              "<body>\n",
              "    <div>            <script src=\"https://cdnjs.cloudflare.com/ajax/libs/mathjax/2.7.5/MathJax.js?config=TeX-AMS-MML_SVG\"></script><script type=\"text/javascript\">if (window.MathJax) {MathJax.Hub.Config({SVG: {font: \"STIX-Web\"}});}</script>                <script type=\"text/javascript\">window.PlotlyConfig = {MathJaxConfig: 'local'};</script>\n",
              "        <script src=\"https://cdn.plot.ly/plotly-2.11.1.min.js\"></script>                <div id=\"27128192-021e-43fe-b298-7e59534c6a51\" class=\"plotly-graph-div\" style=\"height:525px; width:100%;\"></div>            <script type=\"text/javascript\">                                    window.PLOTLYENV=window.PLOTLYENV || {};                                    if (document.getElementById(\"27128192-021e-43fe-b298-7e59534c6a51\")) {                    Plotly.newPlot(                        \"27128192-021e-43fe-b298-7e59534c6a51\",                        [{\"hovertemplate\":\"cluster=cluster 4<br>x=%{x}<br>y=%{y}<extra></extra>\",\"legendgroup\":\"cluster 4\",\"marker\":{\"color\":\"#636efa\",\"symbol\":\"circle\"},\"mode\":\"markers\",\"name\":\"cluster 4\",\"showlegend\":true,\"x\":[15.856614112854004,16.87474822998047,15.597698211669922,15.631474494934082,16.633975982666016,15.598804473876953,14.943004608154297,15.974053382873535,15.868471145629883,15.337483406066895,16.43366050720215,15.917569160461426,15.74301528930664,17.018983840942383,17.086265563964844,16.266279220581055,16.452735900878906,16.8475284576416,16.800922393798828,16.772777557373047,17.180131912231445,17.171226501464844,16.616718292236328,16.2795467376709,16.561859130859375,15.6295747756958,16.602712631225586,16.714128494262695,15.004114151000977,17.3117733001709,15.889820098876953,17.093547821044922,15.493492126464844,16.60175132751465,15.811762809753418,16.057283401489258,15.878569602966309,17.11600685119629,16.587888717651367,16.426101684570312,16.408369064331055,17.053403854370117,16.594390869140625,15.830931663513184,14.849501609802246,15.599013328552246,15.525406837463379,17.130088806152344,16.929506301879883,16.50962257385254,15.347193717956543,16.102388381958008,16.640220642089844,15.533935546875,15.804170608520508,15.526254653930664,15.41948127746582,16.452098846435547,15.770200729370117,16.28636360168457,16.647537231445312,17.06726837158203,15.46863079071045,15.359646797180176,15.205798149108887,15.88580322265625,15.564932823181152,17.338075637817383,15.928332328796387,17.122251510620117,15.915929794311523,15.651266098022461,16.9332332611084,15.672958374023438,15.282909393310547,14.97309398651123,17.13585090637207,16.197879791259766,17.293773651123047,16.90156364440918,15.883935928344727,15.339350700378418,14.914456367492676,15.66757869720459,15.19269847869873,16.73635482788086,17.0831241607666,16.60504722595215,15.895613670349121,15.61497974395752,17.319063186645508,17.163536071777344,14.833769798278809,16.41410255432129,15.942267417907715,17.185510635375977,15.526208877563477,15.709366798400879,17.28437614440918,15.610958099365234,15.687131881713867,16.783798217773438,16.459165573120117,15.768022537231445,15.650177955627441,16.68279266357422,15.503231048583984,15.723936080932617,16.653369903564453,16.009777069091797,16.47953987121582,16.93439292907715,15.681487083435059,16.4009952545166,15.469465255737305,15.752019882202148,14.894156455993652,16.270410537719727,15.468600273132324,16.72737693786621,16.805665969848633,15.034110069274902,16.955942153930664,17.023460388183594,16.690998077392578,15.329052925109863,17.27107810974121,15.789451599121094,14.969930648803711,17.23221206665039,15.67036247253418,16.400121688842773,17.094274520874023,15.806071281433105,16.419403076171875,16.042728424072266,15.696333885192871,15.89007568359375,15.785658836364746,16.635974884033203,15.6406831741333,15.553589820861816,16.244176864624023,15.603870391845703,16.81434440612793,16.5323543548584,17.15407371520996,16.268999099731445,15.704822540283203,15.543981552124023,15.918706893920898,16.15987777709961,15.732358932495117,15.561540603637695,16.142366409301758,15.74499797821045,17.27324867248535,15.590326309204102,16.808656692504883,15.5653076171875,15.82838249206543,16.409452438354492,15.972569465637207,16.003477096557617,16.61320686340332,15.501967430114746,15.607376098632812,15.760086059570312,16.590147018432617,17.023983001708984,15.679827690124512,15.72369384765625,16.918527603149414,14.985100746154785,15.765838623046875,16.747255325317383,16.14342498779297,15.69742488861084,16.870887756347656,15.732666015625,16.99109649658203],\"xaxis\":\"x\",\"y\":[2.0891332626342773,2.1649813652038574,2.2481043338775635,2.3436920642852783,0.16545161604881287,2.2364375591278076,1.250580072402954,1.6658669710159302,1.6685261726379395,1.4403212070465088,-0.17599403858184814,1.594117283821106,-0.7087826132774353,1.6024235486984253,0.8287947773933411,1.3835079669952393,0.05069153383374214,2.5465760231018066,0.6383721828460693,1.0935144424438477,2.2236602306365967,2.0734951496124268,2.1505701541900635,1.959047794342041,0.7398197054862976,-0.4445975720882416,1.6662095785140991,2.1933541297912598,1.3331143856048584,1.1387627124786377,1.4658915996551514,2.6052021980285645,0.3418881595134735,2.2925870418548584,0.3341944217681885,2.2229087352752686,-0.6510280966758728,1.175339937210083,0.16141442954540253,-0.2504916787147522,2.4077882766723633,0.7805754542350769,0.1735629439353943,-0.639261782169342,1.174314260482788,0.4603765904903412,1.0331369638442993,0.9296920895576477,0.611735999584198,2.3611881732940674,2.0673434734344482,2.4297194480895996,2.419192314147949,0.3729238510131836,1.5779892206192017,1.09597909450531,0.48150262236595154,0.801636278629303,1.6467231512069702,2.380394220352173,2.2656195163726807,2.314560651779175,2.2274928092956543,2.074064016342163,1.9015308618545532,-0.11107643693685532,1.1649692058563232,1.1700654029846191,1.743493676185608,0.9166796803474426,0.13572236895561218,0.34346601366996765,0.7676683664321899,0.9612774848937988,0.4208610951900482,1.4375566244125366,1.4709943532943726,-7.424594514304772e-05,0.9264257550239563,1.995661973953247,0.00620059110224247,1.1684222221374512,0.9250677824020386,2.4544191360473633,1.226349115371704,2.415839195251465,2.1790807247161865,2.185959577560425,2.6507046222686768,-0.5769777297973633,1.2120615243911743,2.329110860824585,1.1553313732147217,0.3269282281398773,-0.09645404666662216,1.4216814041137695,0.48072120547294617,-0.6957733631134033,1.4044166803359985,2.5096120834350586,2.3528342247009277,1.8743261098861694,-0.15331032872200012,-0.30595123767852783,1.454390525817871,1.4798288345336914,-0.11971966177225113,0.6454227566719055,0.2255638986825943,1.7787270545959473,1.2127013206481934,0.9619768857955933,-0.2677477300167084,0.0916111022233963,2.256901979446411,1.7387676239013672,1.1700878143310547,0.20845486223697662,1.6367915868759155,1.834452748298645,2.5153441429138184,1.6015781164169312,2.3597912788391113,0.7920429706573486,2.4614975452423096,1.6043903827667236,0.9446151256561279,-0.6334820985794067,1.238114595413208,0.8382083773612976,-0.7166503071784973,0.8020341992378235,1.4848960638046265,1.406446933746338,-0.2074267417192459,2.2506604194641113,0.7451370358467102,-0.5464256405830383,-0.14924287796020508,0.987267017364502,-0.6724157333374023,0.21480165421962738,-0.004837209824472666,1.3493515253067017,1.9781577587127686,1.123064398765564,1.151294231414795,0.035026125609874725,-0.23114104568958282,2.2567362785339355,0.1369011253118515,1.658247470855713,1.9504069089889526,1.5470101833343506,1.428831696510315,-0.6925541162490845,1.3075670003890991,1.054179310798645,1.7972491979599,0.3309377133846283,-0.7081335186958313,-0.17080266773700714,1.2194629907608032,1.9235737323760986,1.295261025428772,2.122593641281128,-0.32522737979888916,1.3413254022598267,2.3159852027893066,1.69119131565094,-0.1890372484922409,1.8824429512023926,0.8342369198799133,1.5554707050323486,-0.5899631381034851,0.8827206492424011,0.3067031800746918,0.22108516097068787,2.469513416290283,1.88510000705719,2.199683427810669],\"yaxis\":\"y\",\"type\":\"scattergl\"},{\"hovertemplate\":\"cluster=cluster 6<br>x=%{x}<br>y=%{y}<extra></extra>\",\"legendgroup\":\"cluster 6\",\"marker\":{\"color\":\"#EF553B\",\"symbol\":\"circle\"},\"mode\":\"markers\",\"name\":\"cluster 6\",\"showlegend\":true,\"x\":[10.25525188446045,9.34341812133789,9.745104789733887,9.524657249450684,5.41855525970459,10.90943717956543,11.044880867004395,10.78413200378418,10.136699676513672,9.390132904052734,10.234077453613281,8.456613540649414,11.142013549804688,10.209417343139648,4.395080089569092,12.255006790161133,9.900487899780273,9.268545150756836,10.60642147064209,4.353488445281982,9.92862606048584,11.881067276000977,8.294971466064453,11.811573028564453,4.988252639770508,10.746180534362793,7.674525737762451,10.878369331359863,12.093056678771973,8.97199821472168,9.789085388183594,11.467268943786621,7.976334571838379,9.849839210510254,5.107985973358154,11.569025039672852,9.709835052490234,9.432559967041016,8.639609336853027,5.407668590545654,10.190061569213867,4.061847686767578,9.426351547241211,7.836095333099365,9.927536010742188,5.20680046081543,7.85885763168335,7.944961071014404,9.477025032043457,5.514586448669434,8.894123077392578,10.697071075439453,11.074115753173828,9.535917282104492,11.460837364196777,7.436596393585205,10.63034439086914,10.415925979614258,8.385744094848633,11.949027061462402,12.015754699707031,9.463910102844238,10.71349811553955,8.485991477966309,11.531418800354004,9.655710220336914,10.145071983337402,10.773541450500488,9.82990550994873,8.12161636352539,10.5110445022583,9.612258911132812,10.899650573730469,9.47343635559082,11.289619445800781,5.369083881378174,10.283293724060059,12.100093841552734,8.37229061126709,8.610323905944824,10.894640922546387,9.477309226989746,7.940311431884766,5.778408527374268,4.334001541137695,9.74183464050293,8.616443634033203,7.975861549377441,8.053204536437988,4.224541187286377,11.759718894958496,10.99371337890625,10.92197036743164,10.495697975158691,5.436157703399658,11.67247200012207,11.638885498046875,11.852177619934082,10.182356834411621,11.69467830657959,5.278640270233154,10.147025108337402,10.041550636291504,11.532302856445312,8.553786277770996,10.721502304077148,9.717926025390625,5.520744323730469,4.02031946182251,11.202486038208008,11.032103538513184,9.257195472717285,12.071922302246094,9.136308670043945,4.659763336181641,7.986801624298096,5.503373146057129,11.600759506225586,9.396322250366211,8.583556175231934,4.819480895996094,8.926596641540527,5.258664608001709,4.306856632232666,5.420454978942871,9.852725982666016,9.4568452835083,5.5489702224731445,11.841389656066895,9.614012718200684,8.74062728881836,9.33234977722168,10.924942970275879,10.749646186828613,5.044900894165039,4.712965488433838,10.188881874084473,9.367609024047852,9.859553337097168,9.072807312011719,10.837224960327148,9.026909828186035,9.0071382522583,10.849654197692871,5.244071960449219,9.609580993652344,10.852791786193848,10.803298950195312,9.391810417175293,8.948390007019043,10.827241897583008,10.757965087890625,5.270668029785156,5.363872051239014,8.594209671020508,11.870542526245117,9.398396492004395,10.787934303283691,9.968704223632812,8.022953987121582,9.862370491027832,9.931962013244629,8.017960548400879,9.151518821716309,8.244033813476562,4.349234104156494,10.808231353759766,9.683176040649414,9.641298294067383,12.262285232543945,8.590350151062012,8.807486534118652,11.17972183227539,8.616400718688965,10.191478729248047,11.807259559631348,9.900954246520996,11.040081977844238,11.738418579101562,4.310924053192139,10.073172569274902,4.405541896820068,9.984085083007812,8.233269691467285,9.431028366088867,7.683043003082275,11.92286491394043,10.25774097442627,8.460624694824219,9.595890045166016,11.927090644836426,5.361484527587891,8.889179229736328,4.49948787689209,9.184502601623535,11.782010078430176,9.826740264892578,5.384771347045898,8.404698371887207,10.830413818359375,10.116365432739258,4.727935314178467,10.10185718536377,10.454400062561035,12.011188507080078,9.389615058898926,7.604128837585449,8.4854154586792,8.36589527130127,4.820998668670654,12.3020658493042,11.734625816345215,8.619868278503418,12.503072738647461,8.29056167602539,12.146160125732422,5.354313373565674,11.375558853149414,9.444844245910645,11.155291557312012,9.906573295593262,9.800928115844727,7.734801292419434,11.254804611206055,10.763303756713867,5.023327350616455,8.392213821411133,9.144004821777344,8.217649459838867,9.817740440368652,7.769722938537598,10.836506843566895,8.938505172729492,12.37562084197998,9.870611190795898,10.093596458435059,10.505317687988281,11.525358200073242,11.286460876464844,10.846076965332031,8.643139839172363,9.762874603271484,10.900559425354004,7.795440196990967,10.834489822387695,4.708399772644043,10.897590637207031,12.24591064453125,9.33930778503418,7.355915069580078,7.627799034118652,11.041967391967773,11.304015159606934,10.283352851867676,9.817187309265137,11.273110389709473,11.905131340026855,5.183952331542969,8.998574256896973,10.894412994384766,10.12088680267334,9.35431957244873,4.919073581695557,9.094470977783203,10.084150314331055,4.366698741912842,8.234886169433594,11.488338470458984,8.844173431396484,5.341498851776123,10.843979835510254,8.917922019958496,8.822541236877441,9.873026847839355,5.291502475738525,9.808764457702637,8.190134048461914,9.732494354248047,9.5848388671875,9.472622871398926,3.72426700592041,11.433950424194336,8.972427368164062,12.440718650817871,9.069718360900879,11.281942367553711,10.02457332611084,8.269280433654785,8.693979263305664,9.753579139709473,12.043374061584473,9.533145904541016,11.338671684265137,11.928853034973145,4.32861852645874,5.218411445617676,12.141716957092285,11.997056007385254,11.224177360534668,11.130448341369629,10.467849731445312,12.34798812866211,9.335436820983887,10.792485237121582,9.525335311889648,4.966169834136963,10.833992958068848,11.031015396118164,11.515971183776855,5.486072540283203,9.175430297851562,5.195161819458008,11.278303146362305,5.258973121643066,12.193621635437012,8.194306373596191,9.236187934875488,4.353098392486572,11.472868919372559,8.155750274658203,10.69250202178955,8.697443008422852,10.97035026550293,11.749528884887695,10.192108154296875,9.313556671142578,8.235562324523926,7.638956069946289,9.47915267944336,7.90543794631958,7.501925468444824,7.930717468261719,7.347655296325684,5.536606788635254,9.055999755859375,11.153629302978516,10.856062889099121,8.183904647827148,8.562861442565918,11.490275382995605,8.663917541503906,4.48472261428833,12.208417892456055,9.8104887008667,5.35862398147583,8.428146362304688,8.568608283996582,8.727381706237793,11.7892427444458,10.524256706237793,12.196846961975098,9.383545875549316,5.269206523895264,8.169921875],\"xaxis\":\"x\",\"y\":[8.3171968460083,11.559098243713379,10.238022804260254,11.276045799255371,10.279431343078613,8.133742332458496,9.423124313354492,9.114908218383789,8.174764633178711,10.01607608795166,11.023651123046875,10.928683280944824,9.577861785888672,11.089277267456055,10.777048110961914,10.334770202636719,10.204301834106445,9.746333122253418,8.869690895080566,10.728036880493164,10.274574279785156,10.349128723144531,10.194685935974121,9.39901351928711,9.840502738952637,10.248025894165039,10.860882759094238,9.20741081237793,9.568412780761719,9.456351280212402,11.47111988067627,8.79721450805664,11.196788787841797,9.297445297241211,9.867729187011719,10.242303848266602,9.74314022064209,8.21876049041748,9.153925895690918,10.247405052185059,9.310005187988281,10.53994083404541,9.44421672821045,10.594346046447754,10.541542053222656,10.67395305633545,10.701075553894043,9.944939613342285,8.204391479492188,10.325395584106445,9.211334228515625,9.31717300415039,8.628966331481934,11.239259719848633,8.99096965789795,11.059680938720703,9.223528861999512,10.708464622497559,11.119491577148438,10.232341766357422,9.741469383239746,9.954671859741211,8.771038055419922,10.287549018859863,10.594952583312988,11.078078269958496,8.229532241821289,10.842961311340332,11.212681770324707,11.19825553894043,10.9013090133667,9.678088188171387,8.843435287475586,11.49277114868164,8.518654823303223,10.515993118286133,11.057476997375488,9.939859390258789,10.96126937866211,9.6871976852417,10.411164283752441,10.459338188171387,9.911251068115234,10.435705184936523,10.697775840759277,9.319766998291016,8.95008373260498,10.014216423034668,11.2529296875,10.507608413696289,9.305251121520996,8.663745880126953,10.469260215759277,9.841546058654785,10.554348945617676,10.474400520324707,10.386746406555176,9.459446907043457,8.199103355407715,8.743757247924805,10.504532814025879,10.716146469116211,11.052566528320312,9.963427543640137,9.043392181396484,8.850774765014648,9.252592086791992,10.429727554321289,10.523983001708984,9.774436950683594,9.233222961425781,10.621171951293945,10.548434257507324,10.72805404663086,10.40783977508545,11.14415168762207,10.359209060668945,9.300849914550781,11.55395793914795,9.97320556640625,9.790237426757812,9.262674331665039,10.585471153259277,10.665550231933594,10.457240104675293,10.547286033630371,11.369501113891602,10.379255294799805,10.216772079467773,11.132719039916992,8.870282173156738,11.197196960449219,9.325702667236328,8.843864440917969,10.311483383178711,10.796571731567383,9.48791790008545,11.564264297485352,11.2986421585083,10.834857940673828,10.21954345703125,9.382821083068848,9.174586296081543,10.83330249786377,10.844756126403809,10.08896255493164,10.862407684326172,8.106771469116211,9.75898265838623,9.520146369934082,8.124588012695312,9.322245597839355,10.748257637023926,10.76961612701416,9.084205627441406,10.291400909423828,11.536511421203613,10.668011665344238,10.201738357543945,9.925393104553223,9.46992301940918,9.346074104309082,11.109570503234863,10.239276885986328,11.06413745880127,10.654552459716797,8.11040210723877,10.285101890563965,11.173656463623047,9.638708114624023,9.992938995361328,9.211749076843262,9.914468765258789,9.433281898498535,10.550381660461426,9.635237693786621,10.228160858154297,10.520356178283691,9.395601272583008,10.703995704650879,11.281309127807617,10.57154655456543,8.085953712463379,10.950636863708496,10.31479549407959,10.753107070922852,9.661596298217773,10.33890438079834,10.930282592773438,9.961894035339355,10.574485778808594,10.51598072052002,9.13637638092041,10.778254508972168,10.215370178222656,9.418997764587402,9.84884262084961,10.72018814086914,9.860501289367676,10.824127197265625,9.227913856506348,10.728968620300293,9.763054847717285,11.030040740966797,10.592093467712402,10.288239479064941,10.7560396194458,11.118535995483398,10.971700668334961,9.790884017944336,10.278228759765625,9.356657028198242,10.845466613769531,10.052377700805664,11.062307357788086,10.244075775146484,10.782495498657227,10.390558242797852,10.295372009277344,10.52792739868164,9.793120384216309,9.804081916809082,11.14230728149414,10.270003318786621,8.15822982788086,9.831436157226562,10.00924301147461,9.95115852355957,10.90652084350586,11.408487319946289,10.894535064697266,9.297357559204102,9.13525390625,10.097807884216309,10.171392440795898,10.057122230529785,8.892623901367188,10.036252975463867,10.565837860107422,10.892704963684082,9.028159141540527,10.236346244812012,9.3955078125,10.002373695373535,10.77907943725586,10.865721702575684,10.766942024230957,9.660998344421387,9.657215118408203,11.06241512298584,10.809185981750488,8.27977180480957,9.217637062072754,9.548382759094238,9.17304801940918,9.95359992980957,9.46780776977539,10.654162406921387,10.336114883422852,10.829568862915039,10.901983261108398,8.322710990905762,9.82702922821045,11.249016761779785,9.194878578186035,10.701390266418457,10.173785209655762,9.558910369873047,9.245589256286621,10.716654777526855,10.838086128234863,9.201432228088379,9.12319564819336,9.278164863586426,10.549820899963379,9.27411937713623,11.203825950622559,11.134112358093262,10.144278526306152,11.295857429504395,8.727842330932617,8.85739517211914,9.153973579406738,10.073260307312012,9.705096244812012,10.47224235534668,10.54669189453125,10.191924095153809,9.14317512512207,11.125200271606445,10.56313705444336,10.149243354797363,8.968819618225098,10.215564727783203,10.67055892944336,10.754551887512207,10.587530136108398,9.554109573364258,9.746963500976562,9.722509384155273,9.68915843963623,10.336287498474121,10.63850212097168,10.669496536254883,10.105452537536621,9.827759742736816,10.083551406860352,9.697032928466797,8.91656494140625,10.360636711120605,10.417522430419922,10.686447143554688,9.90720272064209,10.73263931274414,10.575568199157715,10.29790210723877,10.295269012451172,10.612495422363281,10.376696586608887,10.111333847045898,9.069327354431152,9.754500389099121,10.659276008605957,9.44123363494873,10.529731750488281,11.31357479095459,10.236549377441406,10.845641136169434,10.01291275024414,11.23045825958252,11.105371475219727,9.951751708984375,10.777295112609863,10.837011337280273,9.68066120147705,9.549298286437988,8.617260932922363,11.234009742736816,9.925860404968262,10.353379249572754,9.899672508239746,10.737724304199219,10.548019409179688,10.16733455657959,10.519903182983398,9.85421085357666,9.7705717086792,9.416300773620605,9.345473289489746,9.725052833557129,9.601930618286133,9.7634916305542,10.714341163635254,9.919478416442871],\"yaxis\":\"y\",\"type\":\"scattergl\"},{\"hovertemplate\":\"cluster=cluster 0<br>x=%{x}<br>y=%{y}<extra></extra>\",\"legendgroup\":\"cluster 0\",\"marker\":{\"color\":\"#00cc96\",\"symbol\":\"circle\"},\"mode\":\"markers\",\"name\":\"cluster 0\",\"showlegend\":true,\"x\":[14.12103271484375,12.733506202697754,14.086785316467285,13.749505996704102,13.34252643585205,13.552416801452637,15.992301940917969,13.427054405212402,17.072662353515625,15.816959381103516,13.843074798583984,10.98727798461914,14.068070411682129,15.830160140991211,15.67636775970459,11.403636932373047,13.092303276062012,15.758063316345215,12.484566688537598,12.740015029907227,15.777046203613281,15.369126319885254,14.174906730651855,13.070673942565918,11.393848419189453,13.979554176330566,13.82298469543457,15.747391700744629,11.560626983642578,11.638242721557617,15.161088943481445,16.13007164001465,14.572554588317871,12.383271217346191,12.851893424987793,12.413902282714844,16.862812042236328,13.545280456542969,12.881897926330566,15.585708618164062,13.761348724365234,13.644265174865723,14.496630668640137,14.21776294708252,15.524059295654297,16.062992095947266,14.222314834594727,11.721145629882812,14.593971252441406,15.66496467590332,11.10263442993164,14.258233070373535,12.005206108093262,15.802806854248047,12.82042121887207,12.085087776184082,15.35759449005127,15.566957473754883,15.36003589630127,13.922956466674805,15.170141220092773,15.270517349243164,15.595635414123535,12.766097068786621,14.080411911010742,14.031054496765137,16.493364334106445,11.808716773986816,14.033281326293945,11.01945686340332,16.919240951538086,14.130023956298828,16.44939613342285,16.933120727539062,13.768194198608398,11.636527061462402,15.590824127197266,15.181777000427246,15.230338096618652,15.664857864379883,16.43667984008789,13.73188591003418,15.199629783630371,15.697678565979004,14.516154289245605,14.230968475341797,13.958366394042969,16.79347038269043,16.57636833190918,15.02558708190918,12.565078735351562,14.326651573181152,16.435474395751953,13.752510070800781,13.428177833557129,13.697922706604004,15.867255210876465,11.235983848571777,13.868813514709473,12.802045822143555,16.501562118530273,16.57277488708496,15.661623001098633,15.644645690917969,16.336408615112305,15.576786041259766,15.058765411376953,12.120502471923828,12.335967063903809,9.904067993164062,13.919983863830566,16.856948852539062,13.849079132080078,13.786890029907227,15.960001945495605,12.914064407348633,14.256610870361328,12.810112953186035,14.663156509399414,14.073777198791504,14.70880126953125,15.140368461608887,11.335762977600098,15.985105514526367,15.745017051696777,13.585844993591309,14.661262512207031,16.264738082885742,12.534367561340332,13.282538414001465,13.283524513244629,14.995205879211426,11.702860832214355,13.83838176727295,13.868648529052734,15.492358207702637,12.490754127502441,15.987136840820312,11.530384063720703,16.421001434326172,14.060463905334473,15.917603492736816,15.740192413330078,13.81567668914795,12.977438926696777,15.670300483703613,12.507391929626465,16.010805130004883,16.90469741821289,16.81991195678711,13.116718292236328,15.253056526184082,15.08437728881836,13.806111335754395,12.62478256225586,17.004667282104492,14.956526756286621,15.554252624511719,13.809377670288086,10.059061050415039,9.91523265838623,13.656392097473145,11.970974922180176,12.479595184326172,16.56034278869629,14.453807830810547,9.671015739440918,10.932024002075195,15.770366668701172,15.77845573425293,15.667839050292969,15.861075401306152,13.964261054992676,14.074847221374512,16.448429107666016,16.816633224487305,14.983152389526367,14.615030288696289,11.364688873291016,14.79321002960205,11.815423011779785,14.364397048950195,13.831375122070312,13.735587120056152,11.35657787322998,11.843234062194824,11.952275276184082,12.463958740234375,15.193317413330078,15.17590618133545,12.324036598205566,13.669933319091797,13.76820182800293,17.10431480407715,15.362005233764648,14.13018798828125,16.671794891357422,15.341527938842773,15.059805870056152,15.3834867477417,14.641875267028809,12.595647811889648,15.18675708770752,12.643749237060547,14.555420875549316,13.868365287780762,14.663448333740234,15.468690872192383,15.10086441040039,15.583210945129395,14.721052169799805,12.579122543334961,15.517969131469727,15.90357780456543,14.605445861816406,15.040176391601562,16.639528274536133,15.541419982910156,9.696505546569824,15.638289451599121,14.300498008728027,14.271407127380371,13.564581871032715,15.811142921447754,14.659399032592773,15.954789161682129,12.566765785217285,13.799030303955078,15.16710376739502,14.646637916564941,14.786972999572754,14.246869087219238,17.077857971191406,12.96191692352295,16.25455093383789,14.307084083557129,14.987334251403809,15.819303512573242,11.575539588928223,12.712043762207031,14.06823444366455,13.821828842163086,11.796024322509766,13.729950904846191,9.632928848266602,14.113161087036133,13.108935356140137,9.763216018676758,15.986756324768066,14.10764217376709,15.046993255615234,13.96477222442627,15.364619255065918,15.245024681091309,9.849021911621094,15.66347885131836,13.787962913513184,13.720809936523438,12.455114364624023,12.547675132751465,11.33107852935791,14.371549606323242,10.88154125213623,14.007938385009766,12.187003135681152,14.825238227844238,15.645216941833496,12.842789649963379,15.327631950378418,17.254756927490234,11.924768447875977,15.677055358886719,15.09984302520752,13.534893035888672,12.490811347961426,16.43448257446289,13.567160606384277,16.447904586791992,12.862566947937012,15.715888977050781,13.982991218566895,13.612792015075684,15.80992603302002,15.121015548706055,13.304618835449219,13.237709999084473,13.743241310119629,15.141361236572266,14.002523422241211,15.764739036560059,15.595333099365234,13.961868286132812,16.255168914794922,13.856992721557617,15.88527774810791,12.469712257385254,12.591419219970703,14.117061614990234,13.186692237854004,13.537063598632812,16.539535522460938,13.977826118469238,14.712650299072266,15.92270565032959,15.2074556350708,12.430632591247559,13.902898788452148,15.669294357299805,15.389016151428223,12.296720504760742,12.566629409790039,14.142910957336426,13.980131149291992,13.649142265319824,14.926698684692383,12.646232604980469,13.136871337890625,13.03938102722168,15.46944522857666,14.85442066192627,15.549736022949219,16.397823333740234,15.7405424118042,15.749914169311523,15.044293403625488,11.689549446105957,16.09137535095215,15.864830017089844,14.55622673034668,13.815930366516113,15.2982177734375,16.00769805908203,15.594626426696777,14.350804328918457,14.689387321472168,12.583179473876953,13.45610523223877,9.846980094909668,14.972208976745605,9.90009880065918,13.535006523132324,14.777071952819824,15.50912857055664,14.842278480529785,14.01358413696289,14.524792671203613,16.59377098083496,15.303348541259766,12.639386177062988,14.248863220214844,12.54281234741211,15.640874862670898,16.75314712524414,16.981908798217773,13.071317672729492,14.219419479370117,13.937621116638184,14.245780944824219,13.192798614501953,15.969416618347168,13.813543319702148,13.914512634277344,17.066740036010742,15.382351875305176,13.54780387878418,10.188310623168945,14.054718971252441,11.310294151306152,13.612226486206055,16.440692901611328,12.231752395629883,9.919062614440918,17.04956817626953,14.07397747039795,16.789199829101562,11.247848510742188,16.029600143432617,14.492788314819336,11.351777076721191,15.274776458740234,15.626827239990234,15.129887580871582,14.7086763381958,14.64025592803955,13.711457252502441,16.471242904663086,14.13676643371582,12.541637420654297,13.822525024414062,13.526423454284668,9.883028984069824,14.551745414733887,11.675835609436035,16.40809440612793,14.24886417388916,16.01690673828125,15.897058486938477,15.49260425567627,14.296517372131348,15.822065353393555,13.641463279724121,11.671562194824219,9.843118667602539,13.909664154052734,13.848660469055176,15.045254707336426,15.14516544342041,13.087056159973145,11.362001419067383,11.651459693908691,15.40774917602539,13.850335121154785,15.499969482421875,9.856693267822266,16.344430923461914,13.807601928710938,15.762768745422363,16.412433624267578,16.416385650634766,13.436738014221191,13.348610877990723,15.802355766296387,14.107317924499512,14.268922805786133],\"xaxis\":\"x\",\"y\":[7.416423320770264,8.490823745727539,6.209466457366943,6.00372838973999,9.118389129638672,8.49549674987793,3.825742244720459,8.98447322845459,2.3375256061553955,6.280063152313232,7.733667373657227,8.159140586853027,4.751754283905029,5.854159355163574,4.594858646392822,8.362403869628906,8.584274291992188,4.517819881439209,7.767474174499512,8.650330543518066,4.445245265960693,5.1541643142700195,5.059983253479004,8.775498390197754,7.827771186828613,4.8387956619262695,5.839136123657227,6.62999153137207,8.211465835571289,8.013199806213379,4.2277512550354,3.935145139694214,4.469507217407227,7.893474102020264,7.709639072418213,7.824351787567139,2.6824090480804443,9.315909385681152,7.501939296722412,2.7722227573394775,7.84959077835083,5.8551764488220215,6.1210036277771,7.24130392074585,6.227366924285889,3.5313260555267334,8.32578182220459,8.671905517578125,5.575066089630127,3.9159996509552,7.990131378173828,6.609452247619629,8.431816101074219,4.359048366546631,9.432291984558105,8.03296184539795,4.087967872619629,3.8009164333343506,4.393815517425537,5.83676815032959,4.7574896812438965,3.7409446239471436,4.107476234436035,8.418882369995117,8.960692405700684,7.419810771942139,3.784963607788086,8.197343826293945,5.676468849182129,8.13542366027832,3.0252327919006348,7.936635494232178,4.475620746612549,3.0102319717407227,5.24321174621582,7.93979549407959,4.008808135986328,6.614233493804932,6.4783501625061035,2.9653146266937256,3.6996543407440186,8.098143577575684,5.807394504547119,4.8569793701171875,5.252786159515381,8.598958015441895,9.088068008422852,3.3403608798980713,3.8618152141571045,5.128434658050537,9.479262351989746,6.633544445037842,5.160580158233643,6.744967937469482,8.615262031555176,9.090117454528809,4.331882476806641,7.918879985809326,5.016568183898926,9.351116180419922,3.6126222610473633,3.5750415325164795,4.705182075500488,3.8332457542419434,4.642152786254883,2.9068784713745117,4.194887638092041,8.289429664611816,7.906264781951904,7.690074920654297,9.059919357299805,3.3231654167175293,5.678667068481445,8.053703308105469,3.4770185947418213,8.647971153259277,6.678873062133789,9.375667572021484,5.556491374969482,5.727123260498047,5.730079174041748,6.615586757659912,7.842065811157227,3.2800750732421875,6.584929943084717,8.51227855682373,6.711026191711426,4.397594451904297,9.446599960327148,8.74300479888916,9.555636405944824,5.095898628234863,8.098860740661621,7.690949440002441,5.044349193572998,4.427144527435303,7.8968353271484375,3.4492924213409424,8.040329933166504,4.939299583435059,7.375024318695068,4.196142673492432,4.04409122467041,7.969358444213867,8.547159194946289,4.399567604064941,9.491385459899902,4.707352638244629,3.0294687747955322,3.0175223350524902,7.689027786254883,4.56374454498291,5.093695640563965,5.226920127868652,8.149210929870605,2.6399943828582764,5.139200687408447,2.704730749130249,8.071748733520508,7.967836380004883,7.956497669219971,7.190542697906494,8.040128707885742,7.822007656097412,3.558574676513672,6.194536209106445,7.919946193695068,8.123313903808594,6.0317182540893555,6.725122928619385,6.737062454223633,6.607463359832764,5.675912380218506,7.441482067108154,4.891635417938232,3.20359206199646,4.042762279510498,6.122258186340332,7.864344120025635,4.904055595397949,7.978508472442627,7.672219276428223,5.877688884735107,5.789000511169434,7.863962173461914,8.632132530212402,8.112787246704102,10.044188499450684,4.623757362365723,4.858134746551514,7.991389751434326,7.495891094207764,8.011280059814453,2.720679521560669,6.623020172119141,7.334410667419434,3.5190365314483643,3.558199882507324,3.913708209991455,6.388922214508057,5.666824817657471,7.5879340171813965,6.536311149597168,9.373953819274902,6.014882564544678,6.877973556518555,6.008376598358154,3.7637999057769775,5.412728786468506,6.79664421081543,5.8086395263671875,7.579949855804443,5.488893508911133,4.165452003479004,5.915737628936768,3.9274027347564697,3.6689229011535645,5.2364068031311035,7.856626033782959,6.7495808601379395,4.435703277587891,8.161657333374023,7.4118876457214355,5.918227672576904,5.695041656494141,3.3533878326416016,7.553107261657715,7.935247898101807,6.085751056671143,5.766448497772217,5.463222503662109,4.579418659210205,2.829305648803711,9.124746322631836,5.680797576904297,5.714864253997803,5.8072829246521,6.380642890930176,8.775288581848145,8.468402862548828,7.411159038543701,6.6476640701293945,9.209644317626953,5.691080093383789,7.957550525665283,7.2213053703308105,9.259550094604492,7.805182933807373,6.157373905181885,7.069886684417725,5.182855606079102,6.500372409820557,6.593952655792236,6.552735328674316,7.892258167266846,6.123093128204346,6.018848896026611,7.4692182540893555,7.949790000915527,9.444869995117188,8.183642387390137,6.05670166015625,8.071280479431152,6.102472305297852,8.2317476272583,1.146952509880066,4.63182258605957,7.788980484008789,3.8371450901031494,2.28714919090271,8.487689971923828,6.697142124176025,6.381589412689209,8.437270164489746,7.780591011047363,3.737065553665161,7.693751335144043,3.4086642265319824,7.686267852783203,6.664013862609863,9.036152839660645,7.497825622558594,6.5263872146606445,5.212878704071045,9.096379280090332,9.448902130126953,5.870514392852783,5.497422695159912,6.586492538452148,4.422850131988525,3.9006593227386475,5.021521091461182,3.426952838897705,7.053872585296631,4.89414644241333,7.72983455657959,9.382041931152344,6.354564666748047,8.63509464263916,7.450828552246094,4.022372722625732,8.702142715454102,5.2745890617370605,4.748096942901611,4.3359694480896,7.794307231903076,5.027844429016113,6.3348259925842285,5.553030014038086,8.066858291625977,7.627598762512207,8.614094734191895,7.2835283279418945,5.762701034545898,4.004911422729492,7.603411674499512,8.664090156555176,8.294986724853516,6.047318458557129,4.168701648712158,6.021524429321289,4.662528991699219,4.455681800842285,4.626438617706299,1.8355375528335571,8.61452865600586,3.4407260417938232,4.309001922607422,6.077606201171875,5.098948955535889,4.552933692932129,4.654032230377197,6.467081069946289,5.257327556610107,5.60540771484375,9.421977043151855,7.553412914276123,8.005271911621094,5.14955997467041,7.9772515296936035,9.30838394165039,5.761549472808838,2.9689037799835205,7.034482955932617,6.4454474449157715,5.971412181854248,3.5512990951538086,5.391031742095947,7.7380051612854,7.056347846984863,7.840843200683594,3.4462790489196777,3.750790596008301,2.625999689102173,8.51233196258545,6.050174713134766,5.907526969909668,5.9915618896484375,8.749181747436523,4.293189525604248,7.981250286102295,5.916499137878418,2.742861270904541,4.722463607788086,7.515472888946533,8.09080982208252,7.5357441902160645,7.863193988800049,8.39549446105957,4.835587978363037,8.008819580078125,8.006478309631348,2.909273624420166,5.728208541870117,2.7280290126800537,7.888785362243652,6.063762664794922,6.824037551879883,7.883659362792969,6.645031929016113,6.323441028594971,4.537802219390869,4.569851875305176,5.6496968269348145,5.828386306762695,3.706660509109497,6.070571422576904,7.792796611785889,8.012706756591797,9.334644317626953,7.912445068359375,5.531703472137451,7.8829755783081055,4.971083164215088,6.055349826812744,4.139495372772217,3.2663135528564453,6.235477447509766,6.200591564178467,3.177419662475586,8.341492652893066,8.04860782623291,7.702654838562012,5.084609031677246,8.760648727416992,5.294119358062744,6.307165622711182,8.53859806060791,7.869624137878418,8.578994750976562,6.853570938110352,9.031087875366211,4.652774333953857,8.017256736755371,4.46473503112793,7.990187168121338,4.5824174880981445,4.722353935241699,4.987091541290283,8.597683906555176,9.3997802734375,6.568644046783447,5.699169635772705,8.566025733947754],\"yaxis\":\"y\",\"type\":\"scattergl\"},{\"hovertemplate\":\"cluster=cluster 7<br>x=%{x}<br>y=%{y}<extra></extra>\",\"legendgroup\":\"cluster 7\",\"marker\":{\"color\":\"#ab63fa\",\"symbol\":\"circle\"},\"mode\":\"markers\",\"name\":\"cluster 7\",\"showlegend\":true,\"x\":[3.4524271488189697,1.8707692623138428,2.375673770904541,1.5387053489685059,2.2820210456848145,2.313904285430908,2.862797260284424,1.5695960521697998,2.4015164375305176,2.5150208473205566,3.3973798751831055,3.4122025966644287,2.3084969520568848,3.136533260345459,2.60131573677063,2.995934247970581,1.0800766944885254,2.392366409301758,3.774085283279419,1.611844778060913,1.9260541200637817,3.6220309734344482,3.1321260929107666,1.2618894577026367,4.234592437744141,3.5666348934173584,2.9149467945098877,3.8079044818878174,2.052043914794922,2.2283287048339844,2.0530898571014404,2.5635082721710205,1.4830870628356934,2.1688311100006104,3.022453546524048,3.4007279872894287,3.4362778663635254,3.5803980827331543,2.9546709060668945,1.90604829788208,2.1237049102783203,2.2570934295654297,0.738716721534729,3.9848573207855225,2.0017385482788086,1.330278754234314,2.1011130809783936,2.589977502822876,2.0293872356414795,2.2468042373657227,1.596472144126892,3.6793079376220703,4.668742656707764,1.2885457277297974,2.1962361335754395,2.421759843826294,3.8451690673828125,3.413206100463867,3.478424549102783,4.351615905761719,3.5825693607330322,2.45320200920105,4.083720684051514,3.6789019107818604,1.4363949298858643,2.9274332523345947,1.525880217552185,1.4704889059066772,3.7121636867523193,1.5496987104415894,1.907210111618042,3.1167428493499756,2.298304319381714,1.581366777420044,4.089040279388428,1.9959310293197632,3.546083688735962,2.2808260917663574,3.2053866386413574,1.2200636863708496,2.811210870742798,2.313554286956787,1.9817003011703491,2.9933559894561768,2.839369773864746,2.4462778568267822,2.9132497310638428,2.704954147338867,1.7272151708602905,1.0013761520385742,2.0282390117645264,0.7378807663917542,4.184795379638672,4.182546138763428,1.3934569358825684,1.5194777250289917,1.5412870645523071,4.1278157234191895,3.7805676460266113,3.7575321197509766,1.8073397874832153,1.9364597797393799,1.9794979095458984,1.265859603881836,1.7606679201126099,1.5406345129013062,3.7152016162872314,2.0945205688476562,3.5248448848724365,4.144252300262451,3.7119085788726807,2.033740282058716,4.3052287101745605,1.8278342485427856,2.965224027633667,1.6238387823104858,3.7738544940948486,1.6118688583374023,3.3992714881896973,4.219882011413574,2.7406184673309326,1.5389069318771362,1.7860077619552612,2.7298731803894043,3.8101754188537598,2.698092460632324,3.7944140434265137,4.730944633483887,1.5454879999160767,3.0250494480133057,3.2750871181488037,2.233691692352295,4.533002853393555,4.017558574676514,3.581170082092285,3.683598279953003,4.278302192687988,1.5112721920013428,3.659271717071533,2.906346559524536,4.242816925048828,3.570920944213867,2.5462396144866943,1.4539389610290527,3.6789708137512207,1.9693214893341064,2.8927085399627686,1.8413939476013184],\"xaxis\":\"x\",\"y\":[9.983333587646484,8.974065780639648,8.973183631896973,9.080726623535156,8.978196144104004,8.400899887084961,8.8645601272583,9.015813827514648,8.997042655944824,9.12254524230957,9.810105323791504,9.240955352783203,8.928236961364746,8.50344181060791,8.196185111999512,8.183341026306152,8.175183296203613,8.734565734863281,8.987730026245117,9.075188636779785,7.938521862030029,10.146491050720215,9.673445701599121,8.34545612335205,10.324114799499512,10.047429084777832,9.189814567565918,10.114295959472656,9.020371437072754,6.772059440612793,6.710282802581787,9.336170196533203,9.123251914978027,8.979247093200684,8.473772048950195,8.431844711303711,8.544824600219727,9.134917259216309,8.361968994140625,8.729010581970215,8.003493309020996,6.8711395263671875,8.104987144470215,9.576125144958496,8.340123176574707,8.409186363220215,8.402154922485352,8.404365539550781,8.892394065856934,8.90678882598877,8.584278106689453,9.117156982421875,9.810599327087402,8.37136173248291,6.843886375427246,8.952902793884277,9.167585372924805,8.47665786743164,9.482150077819824,9.611700057983398,8.61723518371582,8.496551513671875,10.382573127746582,8.814906120300293,8.683305740356445,8.955392837524414,9.17424488067627,8.499703407287598,9.115193367004395,8.673375129699707,9.074430465698242,9.423362731933594,9.039315223693848,8.853672981262207,10.287196159362793,8.612470626831055,8.601346969604492,8.954727172851562,9.637531280517578,8.358126640319824,8.832720756530762,8.826809883117676,8.892242431640625,8.240230560302734,9.377723693847656,8.856986045837402,8.452601432800293,8.803866386413574,9.032544136047363,7.981605529785156,8.00925064086914,8.034135818481445,10.348690032958984,10.236113548278809,9.110715866088867,9.027795791625977,8.74895191192627,10.35800552368164,8.825017929077148,8.838423728942871,8.583539009094238,7.776669979095459,8.291278839111328,7.89417839050293,9.41048812866211,8.900328636169434,9.876477241516113,8.248092651367188,10.124103546142578,10.040557861328125,9.802509307861328,6.728946208953857,10.186017990112305,7.612082481384277,8.60579776763916,7.215150356292725,9.207212448120117,9.132123947143555,9.882486343383789,10.312610626220703,8.626082420349121,8.539773941040039,8.290024757385254,8.82635498046875,9.504775047302246,8.836499214172363,9.181154251098633,10.4368896484375,8.93012523651123,8.245708465576172,8.400303840637207,8.705028533935547,9.674551010131836,10.041462898254395,9.926536560058594,10.205205917358398,10.032574653625488,9.084181785583496,8.7830810546875,8.599666595458984,9.980409622192383,8.732025146484375,8.800806999206543,8.636153221130371,8.716715812683105,7.9773030281066895,9.311028480529785,8.35400104522705],\"yaxis\":\"y\",\"type\":\"scattergl\"},{\"hovertemplate\":\"cluster=cluster 8<br>x=%{x}<br>y=%{y}<extra></extra>\",\"legendgroup\":\"cluster 8\",\"marker\":{\"color\":\"#FFA15A\",\"symbol\":\"circle\"},\"mode\":\"markers\",\"name\":\"cluster 8\",\"showlegend\":true,\"x\":[-0.5247031450271606,-0.5311367511749268,-0.5336133241653442,-0.6845784783363342,-0.698771059513092,-0.556011974811554,-0.6404492855072021,-0.5978251099586487,-0.6095208525657654,-0.7278853058815002,-0.6945546865463257,-0.6083365082740784,-0.6227772235870361,-0.5714555382728577,-0.633740246295929,-0.4960591793060303],\"xaxis\":\"x\",\"y\":[3.8496766090393066,3.8400769233703613,3.896817207336426,3.6480815410614014,3.626544713973999,3.8102807998657227,3.8510921001434326,3.7823376655578613,3.8220462799072266,3.6083083152770996,3.644395351409912,3.805760622024536,3.865741014480591,3.7939469814300537,3.886107921600342,3.927574396133423],\"yaxis\":\"y\",\"type\":\"scattergl\"},{\"hovertemplate\":\"cluster=cluster 9<br>x=%{x}<br>y=%{y}<extra></extra>\",\"legendgroup\":\"cluster 9\",\"marker\":{\"color\":\"#19d3f3\",\"symbol\":\"circle\"},\"mode\":\"markers\",\"name\":\"cluster 9\",\"showlegend\":true,\"x\":[15.857996940612793,15.650186538696289,16.120153427124023,15.680005073547363,15.678302764892578,16.150306701660156,16.21150779724121,16.1596622467041,15.786249160766602,16.160858154296875,16.186307907104492],\"xaxis\":\"x\",\"y\":[-0.7515263557434082,-0.664487361907959,-0.7873426079750061,-0.6795323491096497,-0.6879541277885437,-0.7605641484260559,-0.711312472820282,-0.7684946656227112,-0.7411893010139465,-0.7335159778594971,-0.7389781475067139],\"yaxis\":\"y\",\"type\":\"scattergl\"},{\"hovertemplate\":\"cluster=cluster 1<br>x=%{x}<br>y=%{y}<extra></extra>\",\"legendgroup\":\"cluster 1\",\"marker\":{\"color\":\"#FF6692\",\"symbol\":\"circle\"},\"mode\":\"markers\",\"name\":\"cluster 1\",\"showlegend\":true,\"x\":[0.600681722164154,0.6261638402938843,0.31932976841926575,0.12215055525302887,0.24573320150375366,0.6311178207397461,0.38876140117645264,0.28504273295402527,-0.09277314692735672,1.0140634775161743,-0.18099984526634216,0.5011314153671265,0.46216505765914917,1.130409598350525,0.4560258090496063,1.380232572555542,0.49451208114624023,0.4113815128803253,0.8619633913040161,1.2391899824142456,0.11454730480909348,0.20644502341747284,0.677853524684906,0.35943299531936646,0.8236828446388245,1.106274962425232,0.23569093644618988,-0.1654430627822876,-0.044988881796598434,0.6440762877464294,1.338797688484192,0.14066174626350403,-0.11016678810119629,0.08702593296766281,-0.08247130364179611,1.5833992958068848,0.535068690776825,-0.10445616394281387,0.002665413310751319,0.8018600344657898,0.47636815905570984,0.41152289509773254,0.3129562437534332,0.41091638803482056,0.9154039025306702,0.7531901001930237,0.26586952805519104,0.01614321768283844,0.6927332878112793,0.7710542678833008,-0.08194401860237122,0.3774581849575043,0.6193528175354004,0.14134974777698517,0.446359246969223,0.8370477557182312,-0.010966263711452484,0.375664621591568,0.6995490193367004,0.4054607152938843,0.5771503448486328,0.34641456604003906,0.526533305644989,0.10965827852487564,-0.08420082181692123,-0.08198520541191101,-0.22764398157596588,-0.16630782186985016,-0.20531195402145386,0.47242939472198486,0.08044873178005219,0.9194208383560181,-0.07435034960508347,-0.09279076009988785,-0.16684849560260773,1.308592438697815,0.4848700165748596,0.19874721765518188,0.4259008467197418],\"xaxis\":\"x\",\"y\":[7.270434856414795,7.723094940185547,6.900020122528076,6.36290168762207,6.735024452209473,7.169602870941162,7.11646032333374,6.856147289276123,6.099649429321289,7.234206199645996,5.5570068359375,7.185623645782471,6.9820475578308105,7.069629669189453,7.007833957672119,6.776797771453857,7.5636210441589355,7.057898044586182,7.86803674697876,6.928244113922119,6.33125114440918,6.289429187774658,7.420933246612549,6.527514934539795,7.845178604125977,6.702383518218994,7.2992706298828125,5.472909450531006,5.94996452331543,7.244009494781494,6.803822994232178,6.402074337005615,6.274672031402588,6.413620948791504,5.687198638916016,6.807422637939453,7.277360439300537,6.320656776428223,6.260656833648682,7.840481758117676,7.711014747619629,7.6029953956604,6.157366752624512,7.491367340087891,7.873775482177734,7.7483391761779785,6.331382751464844,6.217201232910156,7.685247898101807,6.767139911651611,6.295092582702637,6.950194835662842,7.3026580810546875,6.298079013824463,6.559704303741455,7.867152690887451,6.346644401550293,6.9147047996521,7.837943077087402,7.134059429168701,7.273403167724609,6.723508358001709,7.349764823913574,6.435305118560791,6.269946575164795,5.875518321990967,5.415505886077881,5.616477966308594,5.423032283782959,7.531970500946045,5.981016159057617,7.851019859313965,5.945415496826172,5.853180408477783,5.492455005645752,6.8261590003967285,7.471502780914307,6.6626691818237305,6.768685340881348],\"yaxis\":\"y\",\"type\":\"scattergl\"},{\"hovertemplate\":\"cluster=cluster 5<br>x=%{x}<br>y=%{y}<extra></extra>\",\"legendgroup\":\"cluster 5\",\"marker\":{\"color\":\"#B6E880\",\"symbol\":\"circle\"},\"mode\":\"markers\",\"name\":\"cluster 5\",\"showlegend\":true,\"x\":[-0.5274127721786499,-0.27627307176589966,-0.395922988653183,-0.62054443359375,-0.30040162801742554,-0.443332701921463,-0.5554381608963013,-0.47682350873947144,-0.5107402205467224,-0.5875120759010315,-0.37645742297172546,-0.4698635935783386,-0.24871787428855896,-0.3862607479095459,-0.4550391733646393,-0.5758564472198486,-0.5088770389556885,-0.5598788857460022,-0.4616461396217346,-0.6270612478256226,-0.6425604820251465,-0.315696656703949,-0.6315200328826904,-0.40696391463279724,-0.5207932591438293,-0.48846206068992615,-0.47127458453178406,-0.3741835057735443,-0.42703744769096375,-0.24936002492904663,-0.6589288711547852,-0.6205970048904419,-0.22988271713256836,-0.5343162417411804,-0.44889578223228455,-0.25034216046333313,-0.30880263447761536],\"xaxis\":\"x\",\"y\":[4.315918922424316,4.762856960296631,4.441393852233887,4.267526149749756,4.7463788986206055,4.4969329833984375,4.041106224060059,4.120445251464844,4.0151824951171875,4.2837910652160645,4.514338493347168,4.590897560119629,4.860374450683594,4.626991271972656,4.617452144622803,4.147612571716309,4.575158596038818,4.233926773071289,4.162502765655518,3.90041446685791,4.222667217254639,4.721005439758301,4.27928352355957,4.584891319274902,4.3459553718566895,4.54238748550415,4.623918533325195,4.80543327331543,4.664879322052002,5.358965873718262,4.103625774383545,4.0226359367370605,5.377230167388916,4.190586566925049,4.399628162384033,5.339648723602295,4.731861114501953],\"yaxis\":\"y\",\"type\":\"scattergl\"},{\"hovertemplate\":\"cluster=cluster 3<br>x=%{x}<br>y=%{y}<extra></extra>\",\"legendgroup\":\"cluster 3\",\"marker\":{\"color\":\"#FF97FF\",\"symbol\":\"circle\"},\"mode\":\"markers\",\"name\":\"cluster 3\",\"showlegend\":true,\"x\":[2.3807828426361084,2.4433035850524902,2.268897294998169,2.185340166091919,2.374941110610962,2.199141502380371,2.2760398387908936,2.3544394969940186,2.194175958633423,2.2571752071380615,2.367924213409424,2.2740368843078613,2.34824275970459,2.374918222427368,2.1621687412261963],\"xaxis\":\"x\",\"y\":[6.2747368812561035,6.250216484069824,6.372479438781738,6.491618633270264,6.278810977935791,6.472522258758545,6.340455532073975,6.253793716430664,6.570934772491455,6.427343845367432,6.252440452575684,6.37150764465332,6.279843330383301,6.246362686157227,6.3994140625],\"yaxis\":\"y\",\"type\":\"scattergl\"},{\"hovertemplate\":\"cluster=cluster 2<br>x=%{x}<br>y=%{y}<extra></extra>\",\"legendgroup\":\"cluster 2\",\"marker\":{\"color\":\"#FECB52\",\"symbol\":\"circle\"},\"mode\":\"markers\",\"name\":\"cluster 2\",\"showlegend\":true,\"x\":[2.4125771522521973],\"xaxis\":\"x\",\"y\":[6.218500137329102],\"yaxis\":\"y\",\"type\":\"scattergl\"},{\"hovertemplate\":\"cluster=topic<br>x=%{x}<br>y=%{y}<extra></extra>\",\"legendgroup\":\"topic\",\"marker\":{\"color\":\"#636efa\",\"symbol\":\"circle\"},\"mode\":\"markers\",\"name\":\"topic\",\"showlegend\":true,\"x\":[-9.860235214233398,-9.907936096191406,-9.898826599121094,-9.88161849975586,-9.870997428894043,-9.873940467834473,-9.85423755645752,-9.87607192993164,-9.90151309967041,-9.889283180236816],\"xaxis\":\"x\",\"y\":[5.665599346160889,5.6188130378723145,5.62698221206665,5.644369602203369,5.654812335968018,5.651901721954346,5.671586036682129,5.649746417999268,5.62429141998291,5.636681079864502],\"yaxis\":\"y\",\"type\":\"scattergl\"}],                        {\"template\":{\"data\":{\"histogram2dcontour\":[{\"type\":\"histogram2dcontour\",\"colorbar\":{\"outlinewidth\":0,\"ticks\":\"\"},\"colorscale\":[[0.0,\"#0d0887\"],[0.1111111111111111,\"#46039f\"],[0.2222222222222222,\"#7201a8\"],[0.3333333333333333,\"#9c179e\"],[0.4444444444444444,\"#bd3786\"],[0.5555555555555556,\"#d8576b\"],[0.6666666666666666,\"#ed7953\"],[0.7777777777777778,\"#fb9f3a\"],[0.8888888888888888,\"#fdca26\"],[1.0,\"#f0f921\"]]}],\"choropleth\":[{\"type\":\"choropleth\",\"colorbar\":{\"outlinewidth\":0,\"ticks\":\"\"}}],\"histogram2d\":[{\"type\":\"histogram2d\",\"colorbar\":{\"outlinewidth\":0,\"ticks\":\"\"},\"colorscale\":[[0.0,\"#0d0887\"],[0.1111111111111111,\"#46039f\"],[0.2222222222222222,\"#7201a8\"],[0.3333333333333333,\"#9c179e\"],[0.4444444444444444,\"#bd3786\"],[0.5555555555555556,\"#d8576b\"],[0.6666666666666666,\"#ed7953\"],[0.7777777777777778,\"#fb9f3a\"],[0.8888888888888888,\"#fdca26\"],[1.0,\"#f0f921\"]]}],\"heatmap\":[{\"type\":\"heatmap\",\"colorbar\":{\"outlinewidth\":0,\"ticks\":\"\"},\"colorscale\":[[0.0,\"#0d0887\"],[0.1111111111111111,\"#46039f\"],[0.2222222222222222,\"#7201a8\"],[0.3333333333333333,\"#9c179e\"],[0.4444444444444444,\"#bd3786\"],[0.5555555555555556,\"#d8576b\"],[0.6666666666666666,\"#ed7953\"],[0.7777777777777778,\"#fb9f3a\"],[0.8888888888888888,\"#fdca26\"],[1.0,\"#f0f921\"]]}],\"heatmapgl\":[{\"type\":\"heatmapgl\",\"colorbar\":{\"outlinewidth\":0,\"ticks\":\"\"},\"colorscale\":[[0.0,\"#0d0887\"],[0.1111111111111111,\"#46039f\"],[0.2222222222222222,\"#7201a8\"],[0.3333333333333333,\"#9c179e\"],[0.4444444444444444,\"#bd3786\"],[0.5555555555555556,\"#d8576b\"],[0.6666666666666666,\"#ed7953\"],[0.7777777777777778,\"#fb9f3a\"],[0.8888888888888888,\"#fdca26\"],[1.0,\"#f0f921\"]]}],\"contourcarpet\":[{\"type\":\"contourcarpet\",\"colorbar\":{\"outlinewidth\":0,\"ticks\":\"\"}}],\"contour\":[{\"type\":\"contour\",\"colorbar\":{\"outlinewidth\":0,\"ticks\":\"\"},\"colorscale\":[[0.0,\"#0d0887\"],[0.1111111111111111,\"#46039f\"],[0.2222222222222222,\"#7201a8\"],[0.3333333333333333,\"#9c179e\"],[0.4444444444444444,\"#bd3786\"],[0.5555555555555556,\"#d8576b\"],[0.6666666666666666,\"#ed7953\"],[0.7777777777777778,\"#fb9f3a\"],[0.8888888888888888,\"#fdca26\"],[1.0,\"#f0f921\"]]}],\"surface\":[{\"type\":\"surface\",\"colorbar\":{\"outlinewidth\":0,\"ticks\":\"\"},\"colorscale\":[[0.0,\"#0d0887\"],[0.1111111111111111,\"#46039f\"],[0.2222222222222222,\"#7201a8\"],[0.3333333333333333,\"#9c179e\"],[0.4444444444444444,\"#bd3786\"],[0.5555555555555556,\"#d8576b\"],[0.6666666666666666,\"#ed7953\"],[0.7777777777777778,\"#fb9f3a\"],[0.8888888888888888,\"#fdca26\"],[1.0,\"#f0f921\"]]}],\"mesh3d\":[{\"type\":\"mesh3d\",\"colorbar\":{\"outlinewidth\":0,\"ticks\":\"\"}}],\"scatter\":[{\"fillpattern\":{\"fillmode\":\"overlay\",\"size\":10,\"solidity\":0.2},\"type\":\"scatter\"}],\"parcoords\":[{\"type\":\"parcoords\",\"line\":{\"colorbar\":{\"outlinewidth\":0,\"ticks\":\"\"}}}],\"scatterpolargl\":[{\"type\":\"scatterpolargl\",\"marker\":{\"colorbar\":{\"outlinewidth\":0,\"ticks\":\"\"}}}],\"bar\":[{\"error_x\":{\"color\":\"#2a3f5f\"},\"error_y\":{\"color\":\"#2a3f5f\"},\"marker\":{\"line\":{\"color\":\"#E5ECF6\",\"width\":0.5},\"pattern\":{\"fillmode\":\"overlay\",\"size\":10,\"solidity\":0.2}},\"type\":\"bar\"}],\"scattergeo\":[{\"type\":\"scattergeo\",\"marker\":{\"colorbar\":{\"outlinewidth\":0,\"ticks\":\"\"}}}],\"scatterpolar\":[{\"type\":\"scatterpolar\",\"marker\":{\"colorbar\":{\"outlinewidth\":0,\"ticks\":\"\"}}}],\"histogram\":[{\"marker\":{\"pattern\":{\"fillmode\":\"overlay\",\"size\":10,\"solidity\":0.2}},\"type\":\"histogram\"}],\"scattergl\":[{\"type\":\"scattergl\",\"marker\":{\"colorbar\":{\"outlinewidth\":0,\"ticks\":\"\"}}}],\"scatter3d\":[{\"type\":\"scatter3d\",\"line\":{\"colorbar\":{\"outlinewidth\":0,\"ticks\":\"\"}},\"marker\":{\"colorbar\":{\"outlinewidth\":0,\"ticks\":\"\"}}}],\"scattermapbox\":[{\"type\":\"scattermapbox\",\"marker\":{\"colorbar\":{\"outlinewidth\":0,\"ticks\":\"\"}}}],\"scatterternary\":[{\"type\":\"scatterternary\",\"marker\":{\"colorbar\":{\"outlinewidth\":0,\"ticks\":\"\"}}}],\"scattercarpet\":[{\"type\":\"scattercarpet\",\"marker\":{\"colorbar\":{\"outlinewidth\":0,\"ticks\":\"\"}}}],\"carpet\":[{\"aaxis\":{\"endlinecolor\":\"#2a3f5f\",\"gridcolor\":\"white\",\"linecolor\":\"white\",\"minorgridcolor\":\"white\",\"startlinecolor\":\"#2a3f5f\"},\"baxis\":{\"endlinecolor\":\"#2a3f5f\",\"gridcolor\":\"white\",\"linecolor\":\"white\",\"minorgridcolor\":\"white\",\"startlinecolor\":\"#2a3f5f\"},\"type\":\"carpet\"}],\"table\":[{\"cells\":{\"fill\":{\"color\":\"#EBF0F8\"},\"line\":{\"color\":\"white\"}},\"header\":{\"fill\":{\"color\":\"#C8D4E3\"},\"line\":{\"color\":\"white\"}},\"type\":\"table\"}],\"barpolar\":[{\"marker\":{\"line\":{\"color\":\"#E5ECF6\",\"width\":0.5},\"pattern\":{\"fillmode\":\"overlay\",\"size\":10,\"solidity\":0.2}},\"type\":\"barpolar\"}],\"pie\":[{\"automargin\":true,\"type\":\"pie\"}]},\"layout\":{\"autotypenumbers\":\"strict\",\"colorway\":[\"#636efa\",\"#EF553B\",\"#00cc96\",\"#ab63fa\",\"#FFA15A\",\"#19d3f3\",\"#FF6692\",\"#B6E880\",\"#FF97FF\",\"#FECB52\"],\"font\":{\"color\":\"#2a3f5f\"},\"hovermode\":\"closest\",\"hoverlabel\":{\"align\":\"left\"},\"paper_bgcolor\":\"white\",\"plot_bgcolor\":\"#E5ECF6\",\"polar\":{\"bgcolor\":\"#E5ECF6\",\"angularaxis\":{\"gridcolor\":\"white\",\"linecolor\":\"white\",\"ticks\":\"\"},\"radialaxis\":{\"gridcolor\":\"white\",\"linecolor\":\"white\",\"ticks\":\"\"}},\"ternary\":{\"bgcolor\":\"#E5ECF6\",\"aaxis\":{\"gridcolor\":\"white\",\"linecolor\":\"white\",\"ticks\":\"\"},\"baxis\":{\"gridcolor\":\"white\",\"linecolor\":\"white\",\"ticks\":\"\"},\"caxis\":{\"gridcolor\":\"white\",\"linecolor\":\"white\",\"ticks\":\"\"}},\"coloraxis\":{\"colorbar\":{\"outlinewidth\":0,\"ticks\":\"\"}},\"colorscale\":{\"sequential\":[[0.0,\"#0d0887\"],[0.1111111111111111,\"#46039f\"],[0.2222222222222222,\"#7201a8\"],[0.3333333333333333,\"#9c179e\"],[0.4444444444444444,\"#bd3786\"],[0.5555555555555556,\"#d8576b\"],[0.6666666666666666,\"#ed7953\"],[0.7777777777777778,\"#fb9f3a\"],[0.8888888888888888,\"#fdca26\"],[1.0,\"#f0f921\"]],\"sequentialminus\":[[0.0,\"#0d0887\"],[0.1111111111111111,\"#46039f\"],[0.2222222222222222,\"#7201a8\"],[0.3333333333333333,\"#9c179e\"],[0.4444444444444444,\"#bd3786\"],[0.5555555555555556,\"#d8576b\"],[0.6666666666666666,\"#ed7953\"],[0.7777777777777778,\"#fb9f3a\"],[0.8888888888888888,\"#fdca26\"],[1.0,\"#f0f921\"]],\"diverging\":[[0,\"#8e0152\"],[0.1,\"#c51b7d\"],[0.2,\"#de77ae\"],[0.3,\"#f1b6da\"],[0.4,\"#fde0ef\"],[0.5,\"#f7f7f7\"],[0.6,\"#e6f5d0\"],[0.7,\"#b8e186\"],[0.8,\"#7fbc41\"],[0.9,\"#4d9221\"],[1,\"#276419\"]]},\"xaxis\":{\"gridcolor\":\"white\",\"linecolor\":\"white\",\"ticks\":\"\",\"title\":{\"standoff\":15},\"zerolinecolor\":\"white\",\"automargin\":true,\"zerolinewidth\":2},\"yaxis\":{\"gridcolor\":\"white\",\"linecolor\":\"white\",\"ticks\":\"\",\"title\":{\"standoff\":15},\"zerolinecolor\":\"white\",\"automargin\":true,\"zerolinewidth\":2},\"scene\":{\"xaxis\":{\"backgroundcolor\":\"#E5ECF6\",\"gridcolor\":\"white\",\"linecolor\":\"white\",\"showbackground\":true,\"ticks\":\"\",\"zerolinecolor\":\"white\",\"gridwidth\":2},\"yaxis\":{\"backgroundcolor\":\"#E5ECF6\",\"gridcolor\":\"white\",\"linecolor\":\"white\",\"showbackground\":true,\"ticks\":\"\",\"zerolinecolor\":\"white\",\"gridwidth\":2},\"zaxis\":{\"backgroundcolor\":\"#E5ECF6\",\"gridcolor\":\"white\",\"linecolor\":\"white\",\"showbackground\":true,\"ticks\":\"\",\"zerolinecolor\":\"white\",\"gridwidth\":2}},\"shapedefaults\":{\"line\":{\"color\":\"#2a3f5f\"}},\"annotationdefaults\":{\"arrowcolor\":\"#2a3f5f\",\"arrowhead\":0,\"arrowwidth\":1},\"geo\":{\"bgcolor\":\"white\",\"landcolor\":\"#E5ECF6\",\"subunitcolor\":\"white\",\"showland\":true,\"showlakes\":true,\"lakecolor\":\"white\"},\"title\":{\"x\":0.05},\"mapbox\":{\"style\":\"light\"}}},\"xaxis\":{\"anchor\":\"y\",\"domain\":[0.0,1.0],\"title\":{\"text\":\"x\"}},\"yaxis\":{\"anchor\":\"x\",\"domain\":[0.0,1.0],\"title\":{\"text\":\"y\"}},\"legend\":{\"title\":{\"text\":\"cluster\"},\"tracegroupgap\":0},\"title\":{\"text\":\"word-embedding-samples\"}},                        {\"responsive\": true}                    ).then(function(){\n",
              "                            \n",
              "var gd = document.getElementById('27128192-021e-43fe-b298-7e59534c6a51');\n",
              "var x = new MutationObserver(function (mutations, observer) {{\n",
              "        var display = window.getComputedStyle(gd).display;\n",
              "        if (!display || display === 'none') {{\n",
              "            console.log([gd, 'removed!']);\n",
              "            Plotly.purge(gd);\n",
              "            observer.disconnect();\n",
              "        }}\n",
              "}});\n",
              "\n",
              "// Listen for the removal of the full notebook cells\n",
              "var notebookContainer = gd.closest('#notebook-container');\n",
              "if (notebookContainer) {{\n",
              "    x.observe(notebookContainer, {childList: true});\n",
              "}}\n",
              "\n",
              "// Listen for the clearing of the current output cell\n",
              "var outputEl = gd.closest('.output');\n",
              "if (outputEl) {{\n",
              "    x.observe(outputEl, {childList: true});\n",
              "}}\n",
              "\n",
              "                        })                };                            </script>        </div>\n",
              "</body>\n",
              "</html>"
            ]
          },
          "metadata": {}
        }
      ],
      "source": [
        "#--------------------------training----------------------------------------------------\n",
        "train_class = TrainETM().train(\n",
        "    etm_model,\n",
        "    vocab_size, \n",
        "    train_args, optimizer_args, train_set,\n",
        "    normalize_data = True,\n",
        "    figures_path = figures_path)\n",
        "    #num_topics, t_hidden_size, rho_size, emb_size, theta_act,  embedding_data, 0.5)\n",
        "\n",
        "#-------------------show topics\n",
        "topics = etm_model.show_topics(id2word, 20)\n",
        "for tp in topics:\n",
        "  print(tp)\n",
        "\n",
        "#----------------\n",
        "from src.visualization import show_embedding_with_kmeans_umap\n",
        "show_embedding_with_kmeans_umap(\n",
        "    id2word, embedding_data, num_topics, etm_model.topic_embeddings_alphas.weight,\n",
        "    figures_path)"
      ]
    },
    {
      "cell_type": "code",
      "source": [
        "#-------------------show topics\n",
        "topics = etm_model.show_topics(id2word, 20)\n",
        "for tp in topics:\n",
        "  print(tp)\n"
      ],
      "metadata": {
        "id": "8A9QqKf8-qkC",
        "outputId": "9f01ab69-48e3-4b3b-fd13-533c3a983c57",
        "colab": {
          "base_uri": "https://localhost:8080/"
        }
      },
      "execution_count": 21,
      "outputs": [
        {
          "output_type": "stream",
          "name": "stdout",
          "text": [
            "tensor([0.0007, 0.0008, 0.0008,  ..., 0.0008, 0.0008, 0.0007], device='cuda:0')\n",
            "tensor(1., device='cuda:0')\n",
            "[('nntp', 0.001167000737041235), ('host', 0.0011466162977740169), ('posting', 0.0011399422073736787), ('distribution', 0.0011107258033007383), ('article', 0.0010677987011149526), ('uk', 0.0010536041809245944), ('sun', 0.001050192629918456), ('usa', 0.0010449930559843779), ('cc', 0.0010444906074553728), ('reply', 0.001033653155900538), ('university', 0.0010331548983231187), ('ac', 0.0010291356593370438), ('cs', 0.0010251327184960246), ('newsreader', 0.001024321187287569), ('apr', 0.0010234378278255463), ('nasa', 0.001011667656712234), ('cmu', 0.0010028999531641603), ('ca', 0.0010008278768509626), ('gov', 0.0009981367038562894), ('tin', 0.0009925636695697904)]\n",
            "[('nntp', 0.001140601933002472), ('host', 0.0011229710653424263), ('posting', 0.0011167024495080113), ('distribution', 0.0010899228509515524), ('article', 0.0010487771360203624), ('uk', 0.0010413215495646), ('sun', 0.001035387977026403), ('cc', 0.0010297222761437297), ('usa', 0.0010296961991116405), ('ac', 0.0010197117226198316), ('reply', 0.0010190318571403623), ('university', 0.0010182963451370597), ('newsreader', 0.0010124085238203406), ('cs', 0.0010106475092470646), ('apr', 0.0010083419037982821), ('nasa', 0.000996324117295444), ('ca', 0.0009904548060148954), ('cmu', 0.0009900740114971995), ('gov', 0.0009843719890341163), ('tin', 0.0009821850107982755)]\n",
            "[('nntp', 0.0011371310101822019), ('host', 0.0011172948870807886), ('posting', 0.001112553058192134), ('distribution', 0.0010848320089280605), ('article', 0.0010423411149531603), ('uk', 0.0010324594331905246), ('sun', 0.0010322933085262775), ('usa', 0.0010235161753371358), ('cc', 0.0010200424585491419), ('university', 0.001017430447973311), ('reply', 0.001015621586702764), ('ac', 0.0010092316661030054), ('cs', 0.0010073274606838822), ('newsreader', 0.0010056114988401532), ('apr', 0.0010047676041722298), ('nasa', 0.0009940322488546371), ('cmu', 0.0009891160298138857), ('gov', 0.0009809717303141952), ('ca', 0.0009791537886485457), ('tin', 0.0009756744839251041)]\n",
            "[('nntp', 0.0011506194714456797), ('host', 0.0011319926707074046), ('posting', 0.0011259953025728464), ('distribution', 0.0010988975409418344), ('article', 0.0010592294856905937), ('uk', 0.0010457814205437899), ('sun', 0.0010404546046629548), ('cc', 0.0010370796080678701), ('usa', 0.001035532564856112), ('reply', 0.001024488708935678), ('university', 0.0010229554027318954), ('ac', 0.0010226343292742968), ('cs', 0.0010166967986151576), ('newsreader', 0.001016402617096901), ('apr', 0.0010143383406102657), ('max', 0.0010013928404077888), ('nasa', 0.0010004559298977256), ('ca', 0.0009964281925931573), ('cmu', 0.0009943075710907578), ('gov', 0.000988277024589479)]\n",
            "[('nntp', 0.0011729019461199641), ('host', 0.0011519597610458732), ('posting', 0.0011438773944973946), ('distribution', 0.0011159374844282866), ('article', 0.001077433698810637), ('uk', 0.0010632851626724005), ('sun', 0.001055924454703927), ('cc', 0.0010518979979678988), ('usa', 0.0010495136957615614), ('reply', 0.0010391988325864077), ('ac', 0.0010389289818704128), ('university', 0.0010388463269919157), ('cs', 0.0010311872465535998), ('apr', 0.0010297426488250494), ('newsreader', 0.001028472208417952), ('nasa', 0.001012194436043501), ('ca', 0.0010082521475851536), ('cmu', 0.0010075343307107687), ('gov', 0.0009988504461944103), ('writes', 0.0009964877972379327)]\n",
            "[('nntp', 0.0011856761993840337), ('host', 0.0011642506578937173), ('posting', 0.0011591081274673343), ('distribution', 0.001126625924371183), ('article', 0.0010830530663952231), ('uk', 0.0010680850828066468), ('sun', 0.001066488795913756), ('usa', 0.001056295819580555), ('cc', 0.0010545490076765418), ('university', 0.001048204954713583), ('reply', 0.0010471362620592117), ('ac', 0.0010416151490062475), ('cs', 0.0010384806664660573), ('apr', 0.0010366272181272507), ('newsreader', 0.0010357587598264217), ('nasa', 0.0010221246629953384), ('cmu', 0.001015784335322678), ('ca', 0.0010078663472086191), ('gov', 0.0010067636612802744), ('writes', 0.0010040783090516925)]\n",
            "[('nntp', 0.0011266653891652822), ('host', 0.0011085497681051493), ('posting', 0.0011014207266271114), ('distribution', 0.0010767948115244508), ('article', 0.0010415328433737159), ('uk', 0.0010309425415471196), ('sun', 0.0010229275794699788), ('cc', 0.0010215741349384189), ('usa', 0.001019323244690895), ('ac', 0.0010102827800437808), ('reply', 0.001008626539260149), ('university', 0.0010081061627715826), ('newsreader', 0.0010022828355431557), ('cs', 0.001002249657176435), ('apr', 0.0010000549955293536), ('nasa', 0.000988415558822453), ('max', 0.000985897844657302), ('ca', 0.0009839084232226014), ('cmu', 0.0009810627670958638), ('gov', 0.000977137009613216)]\n",
            "[('nntp', 0.0011750416597351432), ('host', 0.0011546306777745485), ('posting', 0.001146900118328631), ('distribution', 0.001117961248382926), ('article', 0.0010789376683533192), ('uk', 0.0010667045135051012), ('cc', 0.001055434811860323), ('sun', 0.0010549401631578803), ('usa', 0.0010518631897866726), ('ac', 0.0010431075934320688), ('reply', 0.001039789174683392), ('university', 0.0010380821768194437), ('cs', 0.0010320745641365647), ('newsreader', 0.0010318099521100521), ('apr', 0.0010308974888175726), ('max', 0.0010249955812469125), ('nasa', 0.0010153836337849498), ('ca', 0.001012801076285541), ('cmu', 0.0010068104602396488), ('gov', 0.0010024073999375105)]\n",
            "[('nntp', 0.0010903412476181984), ('host', 0.0010746135376393795), ('posting', 0.0010695911478251219), ('distribution', 0.0010478902840986848), ('article', 0.0010165257845073938), ('uk', 0.0010048745898529887), ('sun', 0.0010008211247622967), ('cc', 0.000996911316178739), ('usa', 0.0009962565964087844), ('reply', 0.0009876163676381111), ('university', 0.0009875129908323288), ('ac', 0.0009864429011940956), ('cs', 0.0009816096862778068), ('newsreader', 0.0009803882567211986), ('apr', 0.0009801068808883429), ('nasa', 0.0009702148381620646), ('cmu', 0.0009634167654439807), ('ca', 0.0009623389923945069), ('gov', 0.0009590054978616536), ('tin', 0.0009556433069519699)]\n",
            "[('nntp', 0.001145120244473219), ('host', 0.001126477844081819), ('posting', 0.0011189035139977932), ('distribution', 0.0010935759637504816), ('article', 0.0010550979059189558), ('uk', 0.0010469986591488123), ('sun', 0.0010376687860116363), ('cc', 0.0010324404574930668), ('usa', 0.0010319419670850039), ('ac', 0.0010242699645459652), ('reply', 0.001021497999317944), ('university', 0.0010204060235992074), ('newsreader', 0.001015309477224946), ('cs', 0.001013731467537582), ('apr', 0.001011408632621169), ('nasa', 0.000999294687062502), ('ca', 0.000993266236037016), ('cmu', 0.0009919796139001846), ('gov', 0.0009864011080935597), ('tin', 0.000985241960734129)]\n"
          ]
        }
      ]
    },
    {
      "cell_type": "code",
      "source": [
        "topics = [[e[0] for e in tp] for tp in topics]\n",
        "print(topics)\n",
        "tc = topicCoherence(topics,num_topics,docs_tr,len(docs_tr))\n",
        "print(tc)"
      ],
      "metadata": {
        "id": "dW_9VDpF61bC",
        "outputId": "826604e0-3daa-4a16-a01d-76f9a6885f58",
        "colab": {
          "base_uri": "https://localhost:8080/"
        }
      },
      "execution_count": 22,
      "outputs": [
        {
          "output_type": "stream",
          "name": "stdout",
          "text": [
            "[['nntp', 'host', 'posting', 'distribution', 'article', 'uk', 'sun', 'usa', 'cc', 'reply', 'university', 'ac', 'cs', 'newsreader', 'apr', 'nasa', 'cmu', 'ca', 'gov', 'tin'], ['nntp', 'host', 'posting', 'distribution', 'article', 'uk', 'sun', 'cc', 'usa', 'ac', 'reply', 'university', 'newsreader', 'cs', 'apr', 'nasa', 'ca', 'cmu', 'gov', 'tin'], ['nntp', 'host', 'posting', 'distribution', 'article', 'uk', 'sun', 'usa', 'cc', 'university', 'reply', 'ac', 'cs', 'newsreader', 'apr', 'nasa', 'cmu', 'gov', 'ca', 'tin'], ['nntp', 'host', 'posting', 'distribution', 'article', 'uk', 'sun', 'cc', 'usa', 'reply', 'university', 'ac', 'cs', 'newsreader', 'apr', 'max', 'nasa', 'ca', 'cmu', 'gov'], ['nntp', 'host', 'posting', 'distribution', 'article', 'uk', 'sun', 'cc', 'usa', 'reply', 'ac', 'university', 'cs', 'apr', 'newsreader', 'nasa', 'ca', 'cmu', 'gov', 'writes'], ['nntp', 'host', 'posting', 'distribution', 'article', 'uk', 'sun', 'usa', 'cc', 'university', 'reply', 'ac', 'cs', 'apr', 'newsreader', 'nasa', 'cmu', 'ca', 'gov', 'writes'], ['nntp', 'host', 'posting', 'distribution', 'article', 'uk', 'sun', 'cc', 'usa', 'ac', 'reply', 'university', 'newsreader', 'cs', 'apr', 'nasa', 'max', 'ca', 'cmu', 'gov'], ['nntp', 'host', 'posting', 'distribution', 'article', 'uk', 'cc', 'sun', 'usa', 'ac', 'reply', 'university', 'cs', 'newsreader', 'apr', 'max', 'nasa', 'ca', 'cmu', 'gov'], ['nntp', 'host', 'posting', 'distribution', 'article', 'uk', 'sun', 'cc', 'usa', 'reply', 'university', 'ac', 'cs', 'newsreader', 'apr', 'nasa', 'cmu', 'ca', 'gov', 'tin'], ['nntp', 'host', 'posting', 'distribution', 'article', 'uk', 'sun', 'cc', 'usa', 'ac', 'reply', 'university', 'newsreader', 'cs', 'apr', 'nasa', 'ca', 'cmu', 'gov', 'tin']]\n",
            "3.0088735584697806\n"
          ]
        }
      ]
    }
  ],
  "metadata": {
    "colab": {
      "collapsed_sections": [],
      "name": "notebook_replication.ipynb",
      "provenance": [],
      "include_colab_link": true
    },
    "kernelspec": {
      "display_name": "Python 3",
      "name": "python3"
    },
    "language_info": {
      "name": "python"
    },
    "accelerator": "GPU"
  },
  "nbformat": 4,
  "nbformat_minor": 0
}