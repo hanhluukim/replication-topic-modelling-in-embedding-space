{
  "nbformat": 4,
  "nbformat_minor": 0,
  "metadata": {
    "colab": {
      "name": "notebook_replication.ipynb",
      "provenance": [],
      "collapsed_sections": [],
      "include_colab_link": true
    },
    "kernelspec": {
      "name": "python3",
      "display_name": "Python 3"
    },
    "language_info": {
      "name": "python"
    }
  },
  "cells": [
    {
      "cell_type": "markdown",
      "metadata": {
        "id": "view-in-github",
        "colab_type": "text"
      },
      "source": [
        "<a href=\"https://colab.research.google.com/github/hanhluukim/replication-topic-modelling-in-embedding-space/blob/main/notebook_replication.ipynb\" target=\"_parent\"><img src=\"https://colab.research.google.com/assets/colab-badge.svg\" alt=\"Open In Colab\"/></a>"
      ]
    },
    {
      "cell_type": "markdown",
      "source": [
        "# **Das Projekt aus dem Github klonen und in den Projektsordner**"
      ],
      "metadata": {
        "id": "PJ7P852F7yzU"
      }
    },
    {
      "cell_type": "code",
      "execution_count": 21,
      "metadata": {
        "id": "riOxinNHJcIB"
      },
      "outputs": [],
      "source": [
        "#wenn die Ordner noch nicht geklont ist, soll dieser Fehler zuerst durchgeführt werden.\n",
        "#!git clone https://github.com/hanhluukim/replication-topic-modelling-in-embedding-space.git"
      ]
    },
    {
      "cell_type": "code",
      "source": [
        "cd /content/replication-topic-modelling-in-embedding-space"
      ],
      "metadata": {
        "colab": {
          "base_uri": "https://localhost:8080/"
        },
        "id": "B_6em-5qJg5e",
        "outputId": "c35e1bb0-72d5-4050-8c63-ba106a927cbf"
      },
      "execution_count": 22,
      "outputs": [
        {
          "output_type": "stream",
          "name": "stdout",
          "text": [
            "/content/replication-topic-modelling-in-embedding-space\n"
          ]
        }
      ]
    },
    {
      "cell_type": "markdown",
      "source": [
        "#**Die benötige Paketen für das Projekt mittels requirements.txt installieren**\n",
        "\n"
      ],
      "metadata": {
        "id": "6AAG98vV1JCg"
      }
    },
    {
      "cell_type": "code",
      "source": [
        "# Falls die Packages noch nicht installiert wurden, \n",
        "!pip install -r \"/content/replication-topic-modelling-in-embedding-space/requirements.txt\""
      ],
      "metadata": {
        "id": "YcBay625sD5D",
        "colab": {
          "base_uri": "https://localhost:8080/"
        },
        "outputId": "c6357f7c-8104-4bf2-e57f-ac6b7716e619"
      },
      "execution_count": 23,
      "outputs": [
        {
          "output_type": "stream",
          "name": "stdout",
          "text": [
            "Requirement already satisfied: gensim in /usr/local/lib/python3.7/dist-packages (from -r /content/replication-topic-modelling-in-embedding-space/requirements.txt (line 1)) (3.6.0)\n",
            "Requirement already satisfied: nltk in /usr/local/lib/python3.7/dist-packages (from -r /content/replication-topic-modelling-in-embedding-space/requirements.txt (line 2)) (3.2.5)\n",
            "Requirement already satisfied: numpy in /usr/local/lib/python3.7/dist-packages (from -r /content/replication-topic-modelling-in-embedding-space/requirements.txt (line 3)) (1.21.6)\n",
            "Requirement already satisfied: scikit-learn in /usr/local/lib/python3.7/dist-packages (from -r /content/replication-topic-modelling-in-embedding-space/requirements.txt (line 4)) (1.0.2)\n",
            "Requirement already satisfied: scipy in /usr/local/lib/python3.7/dist-packages (from -r /content/replication-topic-modelling-in-embedding-space/requirements.txt (line 5)) (1.4.1)\n",
            "Requirement already satisfied: torch in /usr/local/lib/python3.7/dist-packages (from -r /content/replication-topic-modelling-in-embedding-space/requirements.txt (line 6)) (1.11.0+cu113)\n",
            "Requirement already satisfied: transformers in /usr/local/lib/python3.7/dist-packages (from -r /content/replication-topic-modelling-in-embedding-space/requirements.txt (line 7)) (4.18.0)\n",
            "Requirement already satisfied: umap-learn in /usr/local/lib/python3.7/dist-packages (from -r /content/replication-topic-modelling-in-embedding-space/requirements.txt (line 8)) (0.5.3)\n",
            "Requirement already satisfied: plotly==5.7.0 in /usr/local/lib/python3.7/dist-packages (from -r /content/replication-topic-modelling-in-embedding-space/requirements.txt (line 9)) (5.7.0)\n",
            "Requirement already satisfied: pathlib in /usr/local/lib/python3.7/dist-packages (from -r /content/replication-topic-modelling-in-embedding-space/requirements.txt (line 10)) (1.0.1)\n",
            "Requirement already satisfied: pyyaml==5.4.1 in /usr/local/lib/python3.7/dist-packages (from -r /content/replication-topic-modelling-in-embedding-space/requirements.txt (line 11)) (5.4.1)\n",
            "Requirement already satisfied: kaleido in /usr/local/lib/python3.7/dist-packages (from -r /content/replication-topic-modelling-in-embedding-space/requirements.txt (line 12)) (0.2.1)\n",
            "Requirement already satisfied: tenacity>=6.2.0 in /usr/local/lib/python3.7/dist-packages (from plotly==5.7.0->-r /content/replication-topic-modelling-in-embedding-space/requirements.txt (line 9)) (8.0.1)\n",
            "Requirement already satisfied: six in /usr/local/lib/python3.7/dist-packages (from plotly==5.7.0->-r /content/replication-topic-modelling-in-embedding-space/requirements.txt (line 9)) (1.15.0)\n",
            "Requirement already satisfied: smart-open>=1.2.1 in /usr/local/lib/python3.7/dist-packages (from gensim->-r /content/replication-topic-modelling-in-embedding-space/requirements.txt (line 1)) (6.0.0)\n",
            "Requirement already satisfied: threadpoolctl>=2.0.0 in /usr/local/lib/python3.7/dist-packages (from scikit-learn->-r /content/replication-topic-modelling-in-embedding-space/requirements.txt (line 4)) (3.1.0)\n",
            "Requirement already satisfied: joblib>=0.11 in /usr/local/lib/python3.7/dist-packages (from scikit-learn->-r /content/replication-topic-modelling-in-embedding-space/requirements.txt (line 4)) (1.1.0)\n",
            "Requirement already satisfied: typing-extensions in /usr/local/lib/python3.7/dist-packages (from torch->-r /content/replication-topic-modelling-in-embedding-space/requirements.txt (line 6)) (4.2.0)\n",
            "Requirement already satisfied: sacremoses in /usr/local/lib/python3.7/dist-packages (from transformers->-r /content/replication-topic-modelling-in-embedding-space/requirements.txt (line 7)) (0.0.53)\n",
            "Requirement already satisfied: importlib-metadata in /usr/local/lib/python3.7/dist-packages (from transformers->-r /content/replication-topic-modelling-in-embedding-space/requirements.txt (line 7)) (4.11.3)\n",
            "Requirement already satisfied: packaging>=20.0 in /usr/local/lib/python3.7/dist-packages (from transformers->-r /content/replication-topic-modelling-in-embedding-space/requirements.txt (line 7)) (21.3)\n",
            "Requirement already satisfied: requests in /usr/local/lib/python3.7/dist-packages (from transformers->-r /content/replication-topic-modelling-in-embedding-space/requirements.txt (line 7)) (2.23.0)\n",
            "Requirement already satisfied: tqdm>=4.27 in /usr/local/lib/python3.7/dist-packages (from transformers->-r /content/replication-topic-modelling-in-embedding-space/requirements.txt (line 7)) (4.64.0)\n",
            "Requirement already satisfied: regex!=2019.12.17 in /usr/local/lib/python3.7/dist-packages (from transformers->-r /content/replication-topic-modelling-in-embedding-space/requirements.txt (line 7)) (2019.12.20)\n",
            "Requirement already satisfied: filelock in /usr/local/lib/python3.7/dist-packages (from transformers->-r /content/replication-topic-modelling-in-embedding-space/requirements.txt (line 7)) (3.6.0)\n",
            "Requirement already satisfied: tokenizers!=0.11.3,<0.13,>=0.11.1 in /usr/local/lib/python3.7/dist-packages (from transformers->-r /content/replication-topic-modelling-in-embedding-space/requirements.txt (line 7)) (0.12.1)\n",
            "Requirement already satisfied: huggingface-hub<1.0,>=0.1.0 in /usr/local/lib/python3.7/dist-packages (from transformers->-r /content/replication-topic-modelling-in-embedding-space/requirements.txt (line 7)) (0.5.1)\n",
            "Requirement already satisfied: pyparsing!=3.0.5,>=2.0.2 in /usr/local/lib/python3.7/dist-packages (from packaging>=20.0->transformers->-r /content/replication-topic-modelling-in-embedding-space/requirements.txt (line 7)) (3.0.8)\n",
            "Requirement already satisfied: pynndescent>=0.5 in /usr/local/lib/python3.7/dist-packages (from umap-learn->-r /content/replication-topic-modelling-in-embedding-space/requirements.txt (line 8)) (0.5.6)\n",
            "Requirement already satisfied: numba>=0.49 in /usr/local/lib/python3.7/dist-packages (from umap-learn->-r /content/replication-topic-modelling-in-embedding-space/requirements.txt (line 8)) (0.51.2)\n",
            "Requirement already satisfied: setuptools in /usr/local/lib/python3.7/dist-packages (from numba>=0.49->umap-learn->-r /content/replication-topic-modelling-in-embedding-space/requirements.txt (line 8)) (57.4.0)\n",
            "Requirement already satisfied: llvmlite<0.35,>=0.34.0.dev0 in /usr/local/lib/python3.7/dist-packages (from numba>=0.49->umap-learn->-r /content/replication-topic-modelling-in-embedding-space/requirements.txt (line 8)) (0.34.0)\n",
            "Requirement already satisfied: zipp>=0.5 in /usr/local/lib/python3.7/dist-packages (from importlib-metadata->transformers->-r /content/replication-topic-modelling-in-embedding-space/requirements.txt (line 7)) (3.8.0)\n",
            "Requirement already satisfied: certifi>=2017.4.17 in /usr/local/lib/python3.7/dist-packages (from requests->transformers->-r /content/replication-topic-modelling-in-embedding-space/requirements.txt (line 7)) (2021.10.8)\n",
            "Requirement already satisfied: urllib3!=1.25.0,!=1.25.1,<1.26,>=1.21.1 in /usr/local/lib/python3.7/dist-packages (from requests->transformers->-r /content/replication-topic-modelling-in-embedding-space/requirements.txt (line 7)) (1.24.3)\n",
            "Requirement already satisfied: idna<3,>=2.5 in /usr/local/lib/python3.7/dist-packages (from requests->transformers->-r /content/replication-topic-modelling-in-embedding-space/requirements.txt (line 7)) (2.10)\n",
            "Requirement already satisfied: chardet<4,>=3.0.2 in /usr/local/lib/python3.7/dist-packages (from requests->transformers->-r /content/replication-topic-modelling-in-embedding-space/requirements.txt (line 7)) (3.0.4)\n",
            "Requirement already satisfied: click in /usr/local/lib/python3.7/dist-packages (from sacremoses->transformers->-r /content/replication-topic-modelling-in-embedding-space/requirements.txt (line 7)) (7.1.2)\n"
          ]
        }
      ]
    },
    {
      "cell_type": "markdown",
      "source": [
        "# **Gebrauchte Paketen importieren**"
      ],
      "metadata": {
        "id": "k7xiPgja8eZe"
      }
    },
    {
      "cell_type": "code",
      "source": [
        "import pandas as pd\n",
        "from pathlib import Path\n",
        "import matplotlib.pyplot as plt\n",
        "%matplotlib inline\n",
        "import umap.umap_ as umap\n",
        "import time\n",
        "import plotly.express as px\n",
        "from sklearn import cluster\n",
        "from sklearn import metrics"
      ],
      "metadata": {
        "id": "uV7KZhGq1P7g"
      },
      "execution_count": 24,
      "outputs": []
    },
    {
      "cell_type": "markdown",
      "source": [
        "# **Vorverarbeitung und BOW-Repräsentationen für Textdaten durchführen**\n",
        "1. Vocabular erstellen\n",
        "2. BOW-Repräsentationen für allen Teildatensätzen"
      ],
      "metadata": {
        "id": "QzWqQhPQdJWV"
      }
    },
    {
      "cell_type": "code",
      "source": [
        "from src.preprare_dataset import TextDataLoader"
      ],
      "metadata": {
        "id": "1OCULr82pfgk"
      },
      "execution_count": 25,
      "outputs": []
    },
    {
      "cell_type": "code",
      "source": [
        "# init TextDataLoader für die Datenquelle 20 News Groups\n",
        "# Daten abrufen vom Sklearn, tokenisieren und besondere Charaktern entfernen\n",
        "textsloader = TextDataLoader(source=\"20newsgroups\", train_size=None, test_size=None)\n",
        "textsloader.load_tokenize_texts(\"20newsgroups\")\n",
        "# Beispiel von Textdaten\n",
        "textsloader.show_example_raw_texts(n_docs=2)"
      ],
      "metadata": {
        "id": "cy0PpjxEpbrR",
        "colab": {
          "base_uri": "https://localhost:8080/"
        },
        "outputId": "c1c4f108-ef6d-4051-8bb8-cae0aa823cc2"
      },
      "execution_count": 26,
      "outputs": [
        {
          "output_type": "stream",
          "name": "stdout",
          "text": [
            "loading texts: ...\n",
            "finished load!\n",
            "check some sample texts of the dataset\n",
            "['From', ':', 'lerxst', '@', 'wam', '.', 'umd', '.', 'edu', '(', \"where's\", 'my', 'thing', ')', 'Subject', ':', 'WHAT', 'car', 'is', 'this', '!', '?', 'Nntp', 'Posting', 'Host', ':', 'rac3', '.', 'wam', '.', 'umd', '.', 'edu', 'Organization', ':', 'University', 'of', 'Maryland', ',', 'College', 'Park', 'Lines', ':', '15', 'I', 'was', 'wondering', 'if', 'anyone', 'out', 'there', 'could', 'enlighten', 'me', 'on', 'this', 'car', 'I', 'saw', 'the', 'other', 'day', '.', 'It', 'was', 'a', '2', 'door', 'sports', 'car', ',', 'looked', 'to', 'be', 'from', 'the', 'late', '60s', '/', 'early', '70s', '.', 'It', 'was', 'called', 'a', 'Bricklin', '.', 'The', 'doors', 'were', 'really', 'small', '.', 'In', 'addition', ',', 'the', 'front', 'bumper', 'was', 'separate', 'from', 'the', 'rest', 'of', 'the', 'body', '.', 'This', 'is', 'all', 'I', 'know', '.', 'If', 'anyone', 'can', 'tellme', 'a', 'model', 'name', ',', 'engine', 'specs', ',', 'years', 'of', 'production', ',', 'where', 'this', 'car', 'is', 'made', ',', 'history', ',', 'or', 'whatever', 'info', 'you', 'have', 'on', 'this', 'funky', 'looking', 'car', ',', 'please', 'e', 'mail', '.', 'Thanks', ',', 'IL', 'brought', 'to', 'you', 'by', 'your', 'neighborhood', 'Lerxst']\n",
            "====================================================================================================\n",
            "['From', ':', 'guykuo', '@', 'carson', '.', 'u', '.', 'washington', '.', 'edu', '(', 'Guy', 'Kuo', ')', 'Subject', ':', 'SI', 'Clock', 'Poll', 'Final', 'Call', 'Summary', ':', 'Final', 'call', 'for', 'SI', 'clock', 'reports', 'Keywords', ':', 'SI', ',', 'acceleration', ',', 'clock', ',', 'upgrade', 'Article', 'I', '.', 'D', '.', ':', 'shelley', '.', '1qvfo9INNc3s', 'Organization', ':', 'University', 'of', 'Washington', 'Lines', ':', '11', 'NNTP', 'Posting', 'Host', ':', 'carson', '.', 'u', '.', 'washington', '.', 'edu', 'A', 'fair', 'number', 'of', 'brave', 'souls', 'who', 'upgraded', 'their', 'SI', 'clock', 'oscillator', 'have', 'shared', 'their', 'experiences', 'for', 'this', 'poll', '.', 'Please', 'send', 'a', 'brief', 'message', 'detailing', 'your', 'experiences', 'with', 'the', 'procedure', '.', 'Top', 'speed', 'attained', ',', 'CPU', 'rated', 'speed', ',', 'add', 'on', 'cards', 'and', 'adapters', ',', 'heat', 'sinks', ',', 'hour', 'of', 'usage', 'per', 'day', ',', 'floppy', 'disk', 'functionality', 'with', '800', 'and', '1', '.', '4', 'm', 'floppies', 'are', 'especially', 'requested', '.', 'I', 'will', 'be', 'summarizing', 'in', 'the', 'next', 'two', 'days', ',', 'so', 'please', 'add', 'to', 'the', 'network', 'knowledge', 'base', 'if', 'you', 'have', 'done', 'the', 'clock', 'upgrade', 'and', \"haven't\", 'answered', 'this', 'poll', '.', 'Thanks', '.', 'Guy', 'Kuo', '<', 'guykuo', '@', 'u', '.', 'washington', '.', 'edu', '>']\n",
            "====================================================================================================\n"
          ]
        }
      ]
    },
    {
      "cell_type": "code",
      "source": [
        "# Vorverarbeitung von Daten mit folgenden Schritten:\n",
        "textsloader.preprocess_texts(length_one_remove=True, punctuation_lower = True, stopwords_filter = True)"
      ],
      "metadata": {
        "colab": {
          "base_uri": "https://localhost:8080/"
        },
        "id": "5odpQDJ7qPTt",
        "outputId": "71149f7d-6fc5-4bd3-91c2-ad1974eba759"
      },
      "execution_count": 27,
      "outputs": [
        {
          "output_type": "stream",
          "name": "stdout",
          "text": [
            "start: preprocessing: ...\n",
            "finised: preprocessing!\n"
          ]
        }
      ]
    },
    {
      "cell_type": "code",
      "source": [
        "# Daten zerlegen für Train, Test und Validation. Erstellen Vocabular aus dem Trainset\n",
        "textsloader.split_and_create_voca_from_trainset(max_df=0.7, min_df=10, stopwords_remove_from_voca=True)"
      ],
      "metadata": {
        "colab": {
          "base_uri": "https://localhost:8080/"
        },
        "id": "PRRCNPa9qXfq",
        "outputId": "b8d4edf2-2bdc-43f3-f293-3d8cfea6e01e"
      },
      "execution_count": 28,
      "outputs": [
        {
          "output_type": "stream",
          "name": "stdout",
          "text": [
            "permuted indices for the train set: [  2 201  54 139  75 119  93  35 189 128  27 101   8 109  71]\n",
            "start creating vocabulary ...\n",
            "length of the vocabulary: 348\n",
            "sample ten words of the vocabulary: ['give', 'toronto', 'front', 'late', 'radio', 'ibm', 'coming', 'line', 'cost', 'remember']\n",
            "length word2id list: 348\n",
            "length id2word list: 348\n",
            "finished: creating vocabulary\n"
          ]
        }
      ]
    },
    {
      "cell_type": "code",
      "source": [
        "# Erstellen BOW-Repräsentation für ETM Modell\n",
        "for_lda_model = False \n",
        "word2id, id2word, train_set, test_set, val_set = textsloader.create_bow_and_savebow_for_each_set(for_lda_model=for_lda_model)"
      ],
      "metadata": {
        "colab": {
          "base_uri": "https://localhost:8080/"
        },
        "id": "etzyjh_nqi19",
        "outputId": "6637d3b1-f96e-401d-ebdc-87f3c8489eab"
      },
      "execution_count": 29,
      "outputs": [
        {
          "output_type": "stream",
          "name": "stdout",
          "text": [
            "length train-documents-indices : 4803\n",
            "length of the vocabulary: 348\n",
            "\n",
            "\n",
            "start: creating bow representation...\n",
            "top 10 - word-id of the doc: [0, 1, 2, 3, 4, 5, 6, 7, 8, 9]\n",
            "max word-id: 347\n",
            "min word-id: 0\n",
            "max doc-id: 149\n",
            "min doc-id: 0\n",
            "all docs: 4803\n",
            "all words: 4803\n",
            "docidx unique 150\n",
            "words unique: 348\n",
            "ndocs: 150\n",
            "vocab-size: 348\n",
            "finised creating bow input!\n",
            "\n",
            "start: creating bow representation...\n",
            "top 10 - word-id of the doc: [0, 1, 2, 3, 4, 5, 6, 7, 8, 9]\n",
            "max word-id: 347\n",
            "min word-id: 0\n",
            "max doc-id: 49\n",
            "min doc-id: 0\n",
            "all docs: 1465\n",
            "all words: 1465\n",
            "docidx unique 50\n",
            "words unique: 325\n",
            "ndocs: 50\n",
            "vocab-size: 348\n",
            "finised creating bow input!\n",
            "\n",
            "start: creating bow representation...\n",
            "top 10 - word-id of the doc: [0, 2, 4, 5, 7, 10, 12, 13, 14, 15]\n",
            "max word-id: 347\n",
            "min word-id: 0\n",
            "max doc-id: 49\n",
            "min doc-id: 0\n",
            "all docs: 719\n",
            "all words: 719\n",
            "docidx unique 50\n",
            "words unique: 240\n",
            "ndocs: 50\n",
            "vocab-size: 348\n",
            "finised creating bow input!\n",
            "\n",
            "start: creating bow representation...\n",
            "top 10 - word-id of the doc: [0, 1, 2, 3, 4, 5, 6, 7, 8, 9]\n",
            "max word-id: 346\n",
            "min word-id: 0\n",
            "max doc-id: 49\n",
            "min doc-id: 0\n",
            "all docs: 746\n",
            "all words: 746\n",
            "docidx unique 50\n",
            "words unique: 269\n",
            "ndocs: 50\n",
            "vocab-size: 348\n",
            "finised creating bow input!\n",
            "\n",
            "start: creating bow representation...\n",
            "top 10 - word-id of the doc: [0, 1, 2, 3, 4, 5, 6, 7, 8, 9]\n",
            "max word-id: 347\n",
            "min word-id: 0\n",
            "max doc-id: 99\n",
            "min doc-id: 0\n",
            "all docs: 2846\n",
            "all words: 2846\n",
            "docidx unique 100\n",
            "words unique: 347\n",
            "ndocs: 100\n",
            "vocab-size: 348\n",
            "finised creating bow input!\n",
            "\n"
          ]
        }
      ]
    },
    {
      "cell_type": "markdown",
      "source": [
        "# **Vocabular und IDs anzeigen als Beispiel**\n",
        "\n",
        "---\n",
        "\n",
        "\n",
        "\n"
      ],
      "metadata": {
        "id": "r-DXUMguC8zM"
      }
    },
    {
      "cell_type": "code",
      "source": [
        "# show for samples: 100 word2id and id2 word\n",
        "word2id_df_100 = pd.DataFrame()\n",
        "word2id_df_100['word'] = list(word2id.keys())[:100]\n",
        "word2id_df_100['id'] = list(word2id.values())[:100]\n",
        "word2id_df_100"
      ],
      "metadata": {
        "colab": {
          "base_uri": "https://localhost:8080/",
          "height": 424
        },
        "id": "6RBJYhLHCfwy",
        "outputId": "4c02753e-8fee-4ddd-ecb3-93eaaa627d05"
      },
      "execution_count": 30,
      "outputs": [
        {
          "output_type": "execute_result",
          "data": {
            "text/plain": [
              "       word  id\n",
              "0      give   0\n",
              "1   toronto   1\n",
              "2     front   2\n",
              "3      late   3\n",
              "4     radio   4\n",
              "..      ...  ..\n",
              "95    bible  95\n",
              "96       de  96\n",
              "97     case  97\n",
              "98  windows  98\n",
              "99      gun  99\n",
              "\n",
              "[100 rows x 2 columns]"
            ],
            "text/html": [
              "\n",
              "  <div id=\"df-0d50b7a8-a185-4d1d-8388-38d43efc5d7c\">\n",
              "    <div class=\"colab-df-container\">\n",
              "      <div>\n",
              "<style scoped>\n",
              "    .dataframe tbody tr th:only-of-type {\n",
              "        vertical-align: middle;\n",
              "    }\n",
              "\n",
              "    .dataframe tbody tr th {\n",
              "        vertical-align: top;\n",
              "    }\n",
              "\n",
              "    .dataframe thead th {\n",
              "        text-align: right;\n",
              "    }\n",
              "</style>\n",
              "<table border=\"1\" class=\"dataframe\">\n",
              "  <thead>\n",
              "    <tr style=\"text-align: right;\">\n",
              "      <th></th>\n",
              "      <th>word</th>\n",
              "      <th>id</th>\n",
              "    </tr>\n",
              "  </thead>\n",
              "  <tbody>\n",
              "    <tr>\n",
              "      <th>0</th>\n",
              "      <td>give</td>\n",
              "      <td>0</td>\n",
              "    </tr>\n",
              "    <tr>\n",
              "      <th>1</th>\n",
              "      <td>toronto</td>\n",
              "      <td>1</td>\n",
              "    </tr>\n",
              "    <tr>\n",
              "      <th>2</th>\n",
              "      <td>front</td>\n",
              "      <td>2</td>\n",
              "    </tr>\n",
              "    <tr>\n",
              "      <th>3</th>\n",
              "      <td>late</td>\n",
              "      <td>3</td>\n",
              "    </tr>\n",
              "    <tr>\n",
              "      <th>4</th>\n",
              "      <td>radio</td>\n",
              "      <td>4</td>\n",
              "    </tr>\n",
              "    <tr>\n",
              "      <th>...</th>\n",
              "      <td>...</td>\n",
              "      <td>...</td>\n",
              "    </tr>\n",
              "    <tr>\n",
              "      <th>95</th>\n",
              "      <td>bible</td>\n",
              "      <td>95</td>\n",
              "    </tr>\n",
              "    <tr>\n",
              "      <th>96</th>\n",
              "      <td>de</td>\n",
              "      <td>96</td>\n",
              "    </tr>\n",
              "    <tr>\n",
              "      <th>97</th>\n",
              "      <td>case</td>\n",
              "      <td>97</td>\n",
              "    </tr>\n",
              "    <tr>\n",
              "      <th>98</th>\n",
              "      <td>windows</td>\n",
              "      <td>98</td>\n",
              "    </tr>\n",
              "    <tr>\n",
              "      <th>99</th>\n",
              "      <td>gun</td>\n",
              "      <td>99</td>\n",
              "    </tr>\n",
              "  </tbody>\n",
              "</table>\n",
              "<p>100 rows × 2 columns</p>\n",
              "</div>\n",
              "      <button class=\"colab-df-convert\" onclick=\"convertToInteractive('df-0d50b7a8-a185-4d1d-8388-38d43efc5d7c')\"\n",
              "              title=\"Convert this dataframe to an interactive table.\"\n",
              "              style=\"display:none;\">\n",
              "        \n",
              "  <svg xmlns=\"http://www.w3.org/2000/svg\" height=\"24px\"viewBox=\"0 0 24 24\"\n",
              "       width=\"24px\">\n",
              "    <path d=\"M0 0h24v24H0V0z\" fill=\"none\"/>\n",
              "    <path d=\"M18.56 5.44l.94 2.06.94-2.06 2.06-.94-2.06-.94-.94-2.06-.94 2.06-2.06.94zm-11 1L8.5 8.5l.94-2.06 2.06-.94-2.06-.94L8.5 2.5l-.94 2.06-2.06.94zm10 10l.94 2.06.94-2.06 2.06-.94-2.06-.94-.94-2.06-.94 2.06-2.06.94z\"/><path d=\"M17.41 7.96l-1.37-1.37c-.4-.4-.92-.59-1.43-.59-.52 0-1.04.2-1.43.59L10.3 9.45l-7.72 7.72c-.78.78-.78 2.05 0 2.83L4 21.41c.39.39.9.59 1.41.59.51 0 1.02-.2 1.41-.59l7.78-7.78 2.81-2.81c.8-.78.8-2.07 0-2.86zM5.41 20L4 18.59l7.72-7.72 1.47 1.35L5.41 20z\"/>\n",
              "  </svg>\n",
              "      </button>\n",
              "      \n",
              "  <style>\n",
              "    .colab-df-container {\n",
              "      display:flex;\n",
              "      flex-wrap:wrap;\n",
              "      gap: 12px;\n",
              "    }\n",
              "\n",
              "    .colab-df-convert {\n",
              "      background-color: #E8F0FE;\n",
              "      border: none;\n",
              "      border-radius: 50%;\n",
              "      cursor: pointer;\n",
              "      display: none;\n",
              "      fill: #1967D2;\n",
              "      height: 32px;\n",
              "      padding: 0 0 0 0;\n",
              "      width: 32px;\n",
              "    }\n",
              "\n",
              "    .colab-df-convert:hover {\n",
              "      background-color: #E2EBFA;\n",
              "      box-shadow: 0px 1px 2px rgba(60, 64, 67, 0.3), 0px 1px 3px 1px rgba(60, 64, 67, 0.15);\n",
              "      fill: #174EA6;\n",
              "    }\n",
              "\n",
              "    [theme=dark] .colab-df-convert {\n",
              "      background-color: #3B4455;\n",
              "      fill: #D2E3FC;\n",
              "    }\n",
              "\n",
              "    [theme=dark] .colab-df-convert:hover {\n",
              "      background-color: #434B5C;\n",
              "      box-shadow: 0px 1px 3px 1px rgba(0, 0, 0, 0.15);\n",
              "      filter: drop-shadow(0px 1px 2px rgba(0, 0, 0, 0.3));\n",
              "      fill: #FFFFFF;\n",
              "    }\n",
              "  </style>\n",
              "\n",
              "      <script>\n",
              "        const buttonEl =\n",
              "          document.querySelector('#df-0d50b7a8-a185-4d1d-8388-38d43efc5d7c button.colab-df-convert');\n",
              "        buttonEl.style.display =\n",
              "          google.colab.kernel.accessAllowed ? 'block' : 'none';\n",
              "\n",
              "        async function convertToInteractive(key) {\n",
              "          const element = document.querySelector('#df-0d50b7a8-a185-4d1d-8388-38d43efc5d7c');\n",
              "          const dataTable =\n",
              "            await google.colab.kernel.invokeFunction('convertToInteractive',\n",
              "                                                     [key], {});\n",
              "          if (!dataTable) return;\n",
              "\n",
              "          const docLinkHtml = 'Like what you see? Visit the ' +\n",
              "            '<a target=\"_blank\" href=https://colab.research.google.com/notebooks/data_table.ipynb>data table notebook</a>'\n",
              "            + ' to learn more about interactive tables.';\n",
              "          element.innerHTML = '';\n",
              "          dataTable['output_type'] = 'display_data';\n",
              "          await google.colab.output.renderOutput(dataTable, element);\n",
              "          const docLink = document.createElement('div');\n",
              "          docLink.innerHTML = docLinkHtml;\n",
              "          element.appendChild(docLink);\n",
              "        }\n",
              "      </script>\n",
              "    </div>\n",
              "  </div>\n",
              "  "
            ]
          },
          "metadata": {},
          "execution_count": 30
        }
      ]
    },
    {
      "cell_type": "markdown",
      "source": [
        "# **Die Größe von Datensätzen kontrollieren**"
      ],
      "metadata": {
        "id": "tupeI6Pw85_L"
      }
    },
    {
      "cell_type": "code",
      "source": [
        "# Kontrollieren die Größen von verschiedenen Datensätzen\n",
        "print(f'Size of the vocabulary after prprocessing ist: {len(textsloader.vocabulary)}')\n",
        "print(f'Size of train set: {len(train_set[\"tokens\"])}')\n",
        "print(f'Size of val set: {len(val_set[\"tokens\"])}')\n",
        "print(f'Size of test set: {len(test_set[\"test\"][\"tokens\"])}')"
      ],
      "metadata": {
        "colab": {
          "base_uri": "https://localhost:8080/"
        },
        "id": "n1d-5ji3qwE8",
        "outputId": "3ffed4e6-6471-43b0-e810-39ba1bce0701"
      },
      "execution_count": 31,
      "outputs": [
        {
          "output_type": "stream",
          "name": "stdout",
          "text": [
            "Size of the vocabulary after prprocessing ist: 348\n",
            "Size of train set: 150\n",
            "Size of val set: 100\n",
            "Size of test set: 50\n"
          ]
        }
      ]
    },
    {
      "cell_type": "markdown",
      "source": [
        "# **Dokumenten wiederstellen für Word2Vec Embedding**\n",
        "\n",
        "---\n",
        "\n"
      ],
      "metadata": {
        "id": "bxQL5jQtDb1c"
      }
    },
    {
      "cell_type": "code",
      "source": [
        "# re-erstellen von Dokumenten nach der Vorverarbeitungen. Die Dokumenten sind in Wörtern und werden für Word-Embedding Training benutzt\n",
        "docs_tr, docs_t, docs_v = textsloader.get_docs_in_words_for_each_set()\n",
        "train_docs_df = pd.DataFrame()\n",
        "train_docs_df['text-after-preprocessing'] = [' '.join(doc) for doc in docs_tr[:100]]\n",
        "train_docs_df"
      ],
      "metadata": {
        "colab": {
          "base_uri": "https://localhost:8080/",
          "height": 424
        },
        "id": "PDXEEBHfq3Cy",
        "outputId": "ad21655c-db57-4abd-a590-170c372e933a"
      },
      "execution_count": 32,
      "outputs": [
        {
          "output_type": "execute_result",
          "data": {
            "text/plain": [
              "                             text-after-preprocessing\n",
              "0   questions university engineering computer netw...\n",
              "1   mark university writes making long fine car ma...\n",
              "2   day article reply distribution world article c...\n",
              "3   ca university love question bible long time qu...\n",
              "4   mark newsreader tin version ibm wrote higher c...\n",
              "..                                                ...\n",
              "95  jim car important software nntp posting host c...\n",
              "96  life reply sun article late make remember arti...\n",
              "97  chip technical article research writes key key...\n",
              "98  internet nntp posting host cc write applicatio...\n",
              "99  org close public access close national contact...\n",
              "\n",
              "[100 rows x 1 columns]"
            ],
            "text/html": [
              "\n",
              "  <div id=\"df-1230fdc9-f809-4c96-a306-e9368a979918\">\n",
              "    <div class=\"colab-df-container\">\n",
              "      <div>\n",
              "<style scoped>\n",
              "    .dataframe tbody tr th:only-of-type {\n",
              "        vertical-align: middle;\n",
              "    }\n",
              "\n",
              "    .dataframe tbody tr th {\n",
              "        vertical-align: top;\n",
              "    }\n",
              "\n",
              "    .dataframe thead th {\n",
              "        text-align: right;\n",
              "    }\n",
              "</style>\n",
              "<table border=\"1\" class=\"dataframe\">\n",
              "  <thead>\n",
              "    <tr style=\"text-align: right;\">\n",
              "      <th></th>\n",
              "      <th>text-after-preprocessing</th>\n",
              "    </tr>\n",
              "  </thead>\n",
              "  <tbody>\n",
              "    <tr>\n",
              "      <th>0</th>\n",
              "      <td>questions university engineering computer netw...</td>\n",
              "    </tr>\n",
              "    <tr>\n",
              "      <th>1</th>\n",
              "      <td>mark university writes making long fine car ma...</td>\n",
              "    </tr>\n",
              "    <tr>\n",
              "      <th>2</th>\n",
              "      <td>day article reply distribution world article c...</td>\n",
              "    </tr>\n",
              "    <tr>\n",
              "      <th>3</th>\n",
              "      <td>ca university love question bible long time qu...</td>\n",
              "    </tr>\n",
              "    <tr>\n",
              "      <th>4</th>\n",
              "      <td>mark newsreader tin version ibm wrote higher c...</td>\n",
              "    </tr>\n",
              "    <tr>\n",
              "      <th>...</th>\n",
              "      <td>...</td>\n",
              "    </tr>\n",
              "    <tr>\n",
              "      <th>95</th>\n",
              "      <td>jim car important software nntp posting host c...</td>\n",
              "    </tr>\n",
              "    <tr>\n",
              "      <th>96</th>\n",
              "      <td>life reply sun article late make remember arti...</td>\n",
              "    </tr>\n",
              "    <tr>\n",
              "      <th>97</th>\n",
              "      <td>chip technical article research writes key key...</td>\n",
              "    </tr>\n",
              "    <tr>\n",
              "      <th>98</th>\n",
              "      <td>internet nntp posting host cc write applicatio...</td>\n",
              "    </tr>\n",
              "    <tr>\n",
              "      <th>99</th>\n",
              "      <td>org close public access close national contact...</td>\n",
              "    </tr>\n",
              "  </tbody>\n",
              "</table>\n",
              "<p>100 rows × 1 columns</p>\n",
              "</div>\n",
              "      <button class=\"colab-df-convert\" onclick=\"convertToInteractive('df-1230fdc9-f809-4c96-a306-e9368a979918')\"\n",
              "              title=\"Convert this dataframe to an interactive table.\"\n",
              "              style=\"display:none;\">\n",
              "        \n",
              "  <svg xmlns=\"http://www.w3.org/2000/svg\" height=\"24px\"viewBox=\"0 0 24 24\"\n",
              "       width=\"24px\">\n",
              "    <path d=\"M0 0h24v24H0V0z\" fill=\"none\"/>\n",
              "    <path d=\"M18.56 5.44l.94 2.06.94-2.06 2.06-.94-2.06-.94-.94-2.06-.94 2.06-2.06.94zm-11 1L8.5 8.5l.94-2.06 2.06-.94-2.06-.94L8.5 2.5l-.94 2.06-2.06.94zm10 10l.94 2.06.94-2.06 2.06-.94-2.06-.94-.94-2.06-.94 2.06-2.06.94z\"/><path d=\"M17.41 7.96l-1.37-1.37c-.4-.4-.92-.59-1.43-.59-.52 0-1.04.2-1.43.59L10.3 9.45l-7.72 7.72c-.78.78-.78 2.05 0 2.83L4 21.41c.39.39.9.59 1.41.59.51 0 1.02-.2 1.41-.59l7.78-7.78 2.81-2.81c.8-.78.8-2.07 0-2.86zM5.41 20L4 18.59l7.72-7.72 1.47 1.35L5.41 20z\"/>\n",
              "  </svg>\n",
              "      </button>\n",
              "      \n",
              "  <style>\n",
              "    .colab-df-container {\n",
              "      display:flex;\n",
              "      flex-wrap:wrap;\n",
              "      gap: 12px;\n",
              "    }\n",
              "\n",
              "    .colab-df-convert {\n",
              "      background-color: #E8F0FE;\n",
              "      border: none;\n",
              "      border-radius: 50%;\n",
              "      cursor: pointer;\n",
              "      display: none;\n",
              "      fill: #1967D2;\n",
              "      height: 32px;\n",
              "      padding: 0 0 0 0;\n",
              "      width: 32px;\n",
              "    }\n",
              "\n",
              "    .colab-df-convert:hover {\n",
              "      background-color: #E2EBFA;\n",
              "      box-shadow: 0px 1px 2px rgba(60, 64, 67, 0.3), 0px 1px 3px 1px rgba(60, 64, 67, 0.15);\n",
              "      fill: #174EA6;\n",
              "    }\n",
              "\n",
              "    [theme=dark] .colab-df-convert {\n",
              "      background-color: #3B4455;\n",
              "      fill: #D2E3FC;\n",
              "    }\n",
              "\n",
              "    [theme=dark] .colab-df-convert:hover {\n",
              "      background-color: #434B5C;\n",
              "      box-shadow: 0px 1px 3px 1px rgba(0, 0, 0, 0.15);\n",
              "      filter: drop-shadow(0px 1px 2px rgba(0, 0, 0, 0.3));\n",
              "      fill: #FFFFFF;\n",
              "    }\n",
              "  </style>\n",
              "\n",
              "      <script>\n",
              "        const buttonEl =\n",
              "          document.querySelector('#df-1230fdc9-f809-4c96-a306-e9368a979918 button.colab-df-convert');\n",
              "        buttonEl.style.display =\n",
              "          google.colab.kernel.accessAllowed ? 'block' : 'none';\n",
              "\n",
              "        async function convertToInteractive(key) {\n",
              "          const element = document.querySelector('#df-1230fdc9-f809-4c96-a306-e9368a979918');\n",
              "          const dataTable =\n",
              "            await google.colab.kernel.invokeFunction('convertToInteractive',\n",
              "                                                     [key], {});\n",
              "          if (!dataTable) return;\n",
              "\n",
              "          const docLinkHtml = 'Like what you see? Visit the ' +\n",
              "            '<a target=\"_blank\" href=https://colab.research.google.com/notebooks/data_table.ipynb>data table notebook</a>'\n",
              "            + ' to learn more about interactive tables.';\n",
              "          element.innerHTML = '';\n",
              "          dataTable['output_type'] = 'display_data';\n",
              "          await google.colab.output.renderOutput(dataTable, element);\n",
              "          const docLink = document.createElement('div');\n",
              "          docLink.innerHTML = docLinkHtml;\n",
              "          element.appendChild(docLink);\n",
              "        }\n",
              "      </script>\n",
              "    </div>\n",
              "  </div>\n",
              "  "
            ]
          },
          "metadata": {},
          "execution_count": 32
        }
      ]
    },
    {
      "cell_type": "markdown",
      "source": [
        "# **Word-Embedding trainieren mit dem Traindatensatz**"
      ],
      "metadata": {
        "id": "Ds_KuUTQrK5P"
      }
    },
    {
      "cell_type": "code",
      "source": [
        "from src.embedding import WordEmbeddingCreator\n",
        "save_path = Path.joinpath(Path.cwd(), \"vocab_embedding.txt\")\n",
        "wb_creator = WordEmbeddingCreator(model_name=\"cbow\", documents = docs_tr, save_path= save_path)\n",
        "wb_creator.train(min_count=0, embedding_size= 10)\n",
        "vocab = list(word2id.keys())\n",
        "wb_creator.create_and_save_vocab_embedding(vocab, save_path)"
      ],
      "metadata": {
        "colab": {
          "base_uri": "https://localhost:8080/"
        },
        "id": "KBexKIVf8Qs5",
        "outputId": "9569cad7-ab97-424e-f665-cc01c1d25594"
      },
      "execution_count": 33,
      "outputs": [
        {
          "output_type": "stream",
          "name": "stdout",
          "text": [
            "word-embedding train begins\n",
            "word-embedding train finished\n",
            "length of vocabulary from word-embedding model 348\n",
            "length of the vocabulary of prepraring-dataset-vocabulary: 348\n"
          ]
        },
        {
          "output_type": "stream",
          "name": "stderr",
          "text": [
            "100%|██████████| 348/348 [00:00<00:00, 71280.84it/s]\n"
          ]
        },
        {
          "output_type": "execute_result",
          "data": {
            "text/plain": [
              "True"
            ]
          },
          "metadata": {},
          "execution_count": 33
        }
      ]
    },
    {
      "cell_type": "code",
      "source": [
        "v = list(wb_creator.model.wv.vocab)[0]\n",
        "vec = list(wb_creator.model.wv.__getitem__(v))\n",
        "print(f'word-embedding of the word-- {v}: ')\n",
        "print(f'vector: {vec}')\n",
        "print(f'dim of vector: {len(vec)}')"
      ],
      "metadata": {
        "colab": {
          "base_uri": "https://localhost:8080/"
        },
        "id": "f23xipx7MSV4",
        "outputId": "c3726f98-a926-4959-d8f7-cdab9bf4e424"
      },
      "execution_count": 34,
      "outputs": [
        {
          "output_type": "stream",
          "name": "stdout",
          "text": [
            "word-embedding of the word-- questions: \n",
            "vector: [-0.08385208, 0.012325125, 0.09597363, 0.060030807, -0.015472969, 0.048684556, 0.045274347, 0.05470478, 0.06400303, -0.0026470025]\n",
            "dim of vector: 10\n"
          ]
        }
      ]
    },
    {
      "cell_type": "markdown",
      "source": [
        "# **Word-Embeddings visualieren als Beispiel**\n"
      ],
      "metadata": {
        "id": "l53_jkUS-hl-"
      }
    },
    {
      "cell_type": "code",
      "source": [
        "# read word-embedding files\n",
        "with open(save_path) as f:\n",
        "  lines = f.readlines()\n",
        "embedding_data = []\n",
        "words_data = []\n",
        "for t in lines:\n",
        "  w = t.split(\"\\t\")[0]\n",
        "  v = [float(e) for e in t.split(\"\\t\")[1].split(\" \")]\n",
        "  words_data.append(w)\n",
        "  embedding_data.append(v)"
      ],
      "metadata": {
        "id": "o96LsIWkNrZS"
      },
      "execution_count": 35,
      "outputs": []
    },
    {
      "cell_type": "code",
      "source": [
        "# clustering words with KMeans and Words-Vectors\n",
        "kmeans = cluster.KMeans(n_clusters=10)\n",
        "kmeans.fit(embedding_data)\n",
        " \n",
        "labels = kmeans.labels_\n",
        "centroids = kmeans.cluster_centers_\n",
        " \n",
        "print (\"Cluster id labels for inputted data\")\n",
        "print (labels)\n",
        "print (\"Centroids data\")\n",
        "print (centroids)"
      ],
      "metadata": {
        "colab": {
          "base_uri": "https://localhost:8080/"
        },
        "id": "99hYOKPwB5aw",
        "outputId": "3b6ecafe-965d-4fe8-bb39-f86d5c4a8109"
      },
      "execution_count": 36,
      "outputs": [
        {
          "output_type": "stream",
          "name": "stdout",
          "text": [
            "Cluster id labels for inputted data\n",
            "[7 6 0 2 5 5 1 3 7 9 2 6 4 6 1 2 9 3 1 7 6 3 3 7 6 2 3 8 1 3 7 5 6 2 0 1 4\n",
            " 1 2 3 4 9 4 1 8 7 6 5 6 9 4 5 6 6 4 2 4 6 9 2 9 9 2 4 0 5 2 9 7 1 3 1 6 3\n",
            " 9 5 1 9 9 3 1 4 9 2 1 0 7 9 0 6 1 7 7 9 5 9 4 2 4 6 1 0 9 3 4 3 6 0 7 3 5\n",
            " 1 9 7 1 9 1 9 3 0 9 0 5 1 3 6 7 1 2 2 6 0 7 6 2 1 3 4 7 2 9 7 6 2 1 9 9 6\n",
            " 3 1 0 7 0 1 7 3 3 0 9 9 3 9 3 1 5 9 0 6 1 9 0 1 9 2 1 9 0 2 5 3 7 4 6 7 0\n",
            " 6 7 1 6 1 3 1 5 1 9 5 5 2 1 6 1 1 0 0 1 3 1 7 2 1 7 5 3 2 7 7 7 4 7 1 0 7\n",
            " 2 4 1 2 6 0 3 0 1 9 1 2 0 9 9 6 3 7 9 5 7 6 2 2 7 1 9 1 2 6 3 7 3 2 7 6 6\n",
            " 0 0 7 6 1 7 1 5 1 7 5 9 3 7 2 1 7 3 3 3 4 1 3 9 6 1 9 1 1 7 0 5 1 1 1 6 7\n",
            " 7 7 9 0 1 3 5 0 7 9 3 1 9 9 0 1 5 1 7 3 3 7 0 1 9 0 6 5 7 5 6 0 3 5 6 5 6\n",
            " 5 0 0 7 0 1 2 0 5 5 0 5 0 6 7]\n",
            "Centroids data\n",
            "[[-0.02198676  0.0280378   0.09566523  0.00802669 -0.01447957  0.03926021\n",
            "   0.00136707  0.05323057  0.04209634  0.00240668]\n",
            " [-0.10820695  0.06904454  0.21913771  0.04989188 -0.03500375  0.0968335\n",
            "  -0.01803342  0.1417339   0.08738878 -0.00893771]\n",
            " [-0.13267378  0.09317187  0.30630816  0.05388661 -0.05865667  0.14271544\n",
            "   0.00276752  0.19112919  0.13613958 -0.02541823]\n",
            " [-0.06638418  0.04937566  0.16869195  0.01110437 -0.03983026  0.0570156\n",
            "   0.00658537  0.09818221  0.05053022 -0.02368512]\n",
            " [-0.16237296  0.12298653  0.37368162  0.08783044 -0.06805329  0.16453587\n",
            "   0.00609218  0.23772513  0.1419854  -0.02557529]\n",
            " [-0.07007051  0.06630568  0.14693321  0.03783796 -0.02384153  0.09067218\n",
            "   0.00444684  0.12922526  0.07354093 -0.00505684]\n",
            " [-0.13286142  0.0916113   0.26991613  0.06275296 -0.0505194   0.12236317\n",
            "   0.00657215  0.19635486  0.0953523  -0.02378588]\n",
            " [-0.07109299  0.02436449  0.10990225  0.03695327 -0.01806726  0.0533422\n",
            "  -0.0078355   0.08129303  0.05399411 -0.02160264]\n",
            " [-0.25163338  0.18262614  0.5514245   0.15188409 -0.11183959  0.23181548\n",
            "  -0.00729831  0.35578753  0.21063495 -0.07178312]\n",
            " [-0.08166213  0.085465    0.22702306  0.03137496 -0.03733676  0.10161299\n",
            "   0.02478554  0.13284519  0.10127786 -0.0303868 ]]\n"
          ]
        }
      ]
    },
    {
      "cell_type": "code",
      "source": [
        "# dimension reduction with umap\n",
        "start = time.time()\n",
        "reducer = umap.UMAP(random_state=42,n_components=3)\n",
        "embedding = reducer.fit_transform(embedding_data)\n",
        "print('Duration: {} seconds'.format(time.time() - start))\n",
        "\n",
        "# show samples after dim-reduction in dataframe\n",
        "wb = pd.DataFrame(embedding, columns=['x', 'y', 'z'])\n",
        "wb['word'] = words_data\n",
        "wb['cluster'] = ['cluster ' + str(c) for c in labels]"
      ],
      "metadata": {
        "colab": {
          "base_uri": "https://localhost:8080/"
        },
        "id": "LAMgZ9aIE9A6",
        "outputId": "c7a63d86-68b5-45b6-bffc-3db390c50e7d"
      },
      "execution_count": 37,
      "outputs": [
        {
          "output_type": "stream",
          "name": "stdout",
          "text": [
            "Duration: 2.0975961685180664 seconds\n"
          ]
        }
      ]
    },
    {
      "cell_type": "code",
      "source": [
        "# visualization\n",
        "fig = px.scatter_3d(wb, \n",
        "                    text = wb['word'],\n",
        "                    x='x', y='y', z='z',\n",
        "                    color = wb['cluster'],\n",
        "                    title =\"word-embedding-samples\")\n",
        "fig.show()"
      ],
      "metadata": {
        "colab": {
          "base_uri": "https://localhost:8080/",
          "height": 542
        },
        "id": "spomMOt_yy0W",
        "outputId": "614d0e06-d4ab-4951-9be8-0168b346d796"
      },
      "execution_count": 38,
      "outputs": [
        {
          "output_type": "display_data",
          "data": {
            "text/html": [
              "<html>\n",
              "<head><meta charset=\"utf-8\" /></head>\n",
              "<body>\n",
              "    <div>            <script src=\"https://cdnjs.cloudflare.com/ajax/libs/mathjax/2.7.5/MathJax.js?config=TeX-AMS-MML_SVG\"></script><script type=\"text/javascript\">if (window.MathJax) {MathJax.Hub.Config({SVG: {font: \"STIX-Web\"}});}</script>                <script type=\"text/javascript\">window.PlotlyConfig = {MathJaxConfig: 'local'};</script>\n",
              "        <script src=\"https://cdn.plot.ly/plotly-2.11.1.min.js\"></script>                <div id=\"801c1fc2-4f76-4362-ab43-406a7fc06933\" class=\"plotly-graph-div\" style=\"height:525px; width:100%;\"></div>            <script type=\"text/javascript\">                                    window.PLOTLYENV=window.PLOTLYENV || {};                                    if (document.getElementById(\"801c1fc2-4f76-4362-ab43-406a7fc06933\")) {                    Plotly.newPlot(                        \"801c1fc2-4f76-4362-ab43-406a7fc06933\",                        [{\"hovertemplate\":\"cluster=cluster 7<br>x=%{x}<br>y=%{y}<br>z=%{z}<br>word=%{text}<extra></extra>\",\"legendgroup\":\"cluster 7\",\"marker\":{\"color\":\"#636efa\",\"symbol\":\"circle\"},\"mode\":\"markers+text\",\"name\":\"cluster 7\",\"scene\":\"scene\",\"showlegend\":true,\"text\":[\"questions\",\"mac\",\"price\",\"feel\",\"taking\",\"making\",\"division\",\"tin\",\"pc\",\"board\",\"corporation\",\"simply\",\"minutes\",\"laboratory\",\"stop\",\"top\",\"internet\",\"copy\",\"turn\",\"calls\",\"man\",\"numbers\",\"possibly\",\"guess\",\"agree\",\"considered\",\"final\",\"gov\",\"address\",\"international\",\"early\",\"assuming\",\"faster\",\"interesting\",\"continue\",\"buy\",\"western\",\"christian\",\"sort\",\"job\",\"sound\",\"pretty\",\"dod\",\"references\",\"home\",\"opinion\",\"common\",\"ac\"],\"x\":[7.091440200805664,6.380523204803467,5.834352970123291,6.5508599281311035,6.6144843101501465,6.724073886871338,6.175541400909424,6.453928470611572,6.405053615570068,6.451128959655762,6.402162075042725,5.811127185821533,7.353519439697266,5.838423252105713,6.190568923950195,5.666579246520996,6.385898590087891,6.726873874664307,6.418219089508057,6.241174221038818,6.749557971954346,6.03841495513916,7.166078090667725,7.215505599975586,6.171656608581543,5.978083610534668,6.366500377655029,5.9530839920043945,6.815080642700195,6.347901344299316,6.266590118408203,6.976848602294922,6.443970203399658,6.224725723266602,6.791751384735107,5.978512763977051,6.442989349365234,6.658285140991211,6.802470684051514,5.757559776306152,6.221874713897705,5.6758270263671875,6.354581356048584,7.008557319641113,7.3224287033081055,6.02793550491333,6.869602203369141,7.221950054168701],\"y\":[5.0310821533203125,6.165099620819092,5.42494010925293,5.429535865783691,5.158602714538574,5.358447074890137,6.402658462524414,5.312635898590088,4.850283622741699,4.925879001617432,5.180924892425537,5.060699462890625,5.107272624969482,5.33282995223999,5.53458833694458,5.2141265869140625,6.407166004180908,5.320771217346191,5.458126068115234,5.324372291564941,5.615674018859863,6.374678611755371,5.130406379699707,4.998172283172607,5.7177886962890625,5.689990520477295,5.263127326965332,5.689575672149658,5.390292167663574,5.283116817474365,5.575137615203857,4.9874958992004395,5.030912399291992,5.410944938659668,5.385435581207275,5.271397590637207,4.857715606689453,5.332029819488525,5.137073516845703,5.082712173461914,5.798086166381836,5.0650739669799805,5.018082618713379,5.148327827453613,5.051357269287109,5.328522682189941,5.814062118530273,5.000391006469727],\"z\":[10.367096900939941,9.398324966430664,9.271007537841797,9.230998992919922,9.450843811035156,9.881208419799805,9.754162788391113,10.206629753112793,9.668617248535156,9.662921905517578,10.176509857177734,9.829756736755371,10.19349479675293,9.269880294799805,10.766258239746094,9.94094181060791,9.508659362792969,10.61409854888916,10.410189628601074,9.4785795211792,9.716898918151855,10.118019104003906,10.482644081115723,10.184557914733887,9.591598510742188,9.55858039855957,10.805140495300293,9.758659362792969,10.679585456848145,9.321418762207031,9.732501983642578,9.929967880249023,9.545707702636719,9.331679344177246,9.376197814941406,9.850378036499023,9.962140083312988,10.67927360534668,9.800677299499512,10.02127456665039,10.610212326049805,9.972872734069824,9.744060516357422,10.348709106445312,10.18226432800293,10.579652786254883,9.737995147705078,10.436802864074707],\"type\":\"scatter3d\"},{\"hovertemplate\":\"cluster=cluster 6<br>x=%{x}<br>y=%{y}<br>z=%{z}<br>word=%{text}<extra></extra>\",\"legendgroup\":\"cluster 6\",\"marker\":{\"color\":\"#EF553B\",\"symbol\":\"circle\"},\"mode\":\"markers+text\",\"name\":\"cluster 6\",\"scene\":\"scene\",\"showlegend\":true,\"text\":[\"university\",\"machine\",\"answer\",\"line\",\"great\",\"real\",\"long\",\"car\",\"work\",\"memory\",\"cs\",\"population\",\"higher\",\"host\",\"message\",\"problems\",\"lot\",\"mail\",\"hard\",\"called\",\"bad\",\"center\",\"thing\",\"sense\",\"system\",\"au\",\"important\",\"fact\",\"hand\",\"speed\",\"clear\",\"high\",\"guy\",\"rate\",\"east\",\"net\",\"sci\",\"list\",\"understanding\"],\"x\":[0.04641417786478996,0.1478576809167862,0.15639923512935638,0.052785564213991165,0.6523568630218506,0.44574540853500366,0.8650006651878357,-0.17589499056339264,0.48723021149635315,0.6998656988143921,0.61770099401474,0.4052967131137848,1.0219025611877441,0.09001113474369049,0.6382169127464294,0.46665722131729126,0.7812296152114868,-0.31708377599716187,0.28499698638916016,0.3878695070743561,1.2408409118652344,-0.06012308970093727,-0.3579583764076233,1.190960168838501,0.7957451939582825,-0.020376207306981087,-0.30861586332321167,0.7105493545532227,0.08235526084899902,0.8304609656333923,1.5338677167892456,1.6695746183395386,0.24796122312545776,1.1504582166671753,0.5041466951370239,0.41959095001220703,0.6864041686058044,-0.14814136922359467,0.39450007677078247],\"y\":[6.5084991455078125,5.800184726715088,6.651844024658203,5.593122959136963,6.264172077178955,5.989187717437744,6.3816633224487305,6.020085334777832,5.46006965637207,6.555021286010742,6.370635986328125,6.122293472290039,6.242451190948486,5.92206335067749,5.615015029907227,6.079685688018799,6.783685207366943,6.465014934539795,5.9730143547058105,5.87772798538208,5.802439212799072,6.610147476196289,5.970219135284424,5.93895959854126,6.124529838562012,5.745736122131348,6.169394493103027,6.435528755187988,5.744969844818115,5.876419544219971,5.613170623779297,6.641157150268555,6.444485664367676,6.775331974029541,6.618113040924072,6.232577323913574,6.684255123138428,6.433901786804199,6.329610347747803],\"z\":[10.007000923156738,10.392829895019531,9.746650695800781,9.917985916137695,9.504133224487305,9.615188598632812,9.431526184082031,9.184306144714355,10.21242904663086,9.410236358642578,9.684511184692383,10.567289352416992,10.730116844177246,9.931892395019531,10.32889175415039,9.498336791992188,10.673178672790527,9.48106861114502,10.011347770690918,9.859901428222656,10.574515342712402,10.380912780761719,9.380573272705078,10.490775108337402,10.631155014038086,10.248833656311035,9.395898818969727,10.6962251663208,9.787898063659668,10.229991912841797,10.221356391906738,9.711310386657715,9.551656723022461,9.57457447052002,10.169888496398926,9.711276054382324,10.702139854431152,9.700374603271484,9.650663375854492],\"type\":\"scatter3d\"},{\"hovertemplate\":\"cluster=cluster 0<br>x=%{x}<br>y=%{y}<br>z=%{z}<br>word=%{text}<extra></extra>\",\"legendgroup\":\"cluster 0\",\"marker\":{\"color\":\"#00cc96\",\"symbol\":\"circle\"},\"mode\":\"markers+text\",\"name\":\"cluster 0\",\"scene\":\"scene\",\"showlegend\":true,\"text\":[\"engineering\",\"advance\",\"claim\",\"newsreader\",\"ibm\",\"start\",\"written\",\"told\",\"chip\",\"appreciated\",\"dept\",\"due\",\"bill\",\"figure\",\"sale\",\"worse\",\"hell\",\"result\",\"department\",\"total\",\"originator\",\"computing\",\"technical\",\"lost\",\"simple\",\"sell\",\"wanted\",\"project\",\"mike\",\"service\",\"canada\",\"gas\",\"related\",\"design\",\"texas\",\"rights\",\"experience\",\"light\"],\"x\":[5.859702110290527,7.123225688934326,7.43599796295166,6.8157782554626465,7.624367713928223,7.630232334136963,7.725768566131592,7.72009801864624,7.470951557159424,7.058487415313721,7.099728107452393,7.31747579574585,7.626283168792725,6.754941463470459,6.56603479385376,7.212032318115234,6.911148548126221,7.4787797927856445,7.319785118103027,7.062029838562012,7.706055164337158,7.336762428283691,7.499212265014648,7.115309238433838,6.6350274085998535,7.677423000335693,7.54887056350708,7.621708869934082,7.32535457611084,6.572257995605469,6.927352428436279,7.5266337394714355,7.413503646850586,7.376990795135498,6.531593322753906,7.586471080780029,6.923162460327148,6.945125102996826],\"y\":[5.421315670013428,5.863867282867432,5.345529079437256,6.084320545196533,5.537068843841553,6.091307163238525,6.21820068359375,6.112979888916016,5.26045560836792,5.692009449005127,6.044101715087891,5.628156661987305,5.606142997741699,6.057233810424805,5.896397590637207,5.857314586639404,5.682315349578857,6.038288593292236,6.067235946655273,6.228575229644775,5.532244682312012,6.111197471618652,5.28285026550293,6.205271244049072,5.762146949768066,6.2147932052612305,5.739778518676758,6.240887641906738,6.222766876220703,5.721081733703613,5.987366676330566,6.238497734069824,6.105909824371338,6.301724433898926,6.317629337310791,5.252292156219482,6.123635768890381,5.549610614776611],\"z\":[9.214513778686523,9.533647537231445,10.062569618225098,9.373556137084961,10.410126686096191,10.197041511535645,9.952217102050781,10.062374114990234,10.399264335632324,10.106575965881348,10.68659496307373,9.793100357055664,10.223812103271484,9.26418399810791,10.86492919921875,9.64374828338623,10.348549842834473,9.650055885314941,9.448555946350098,9.303733825683594,10.262167930603027,10.545578002929688,10.35058307647705,9.216446876525879,10.8377046585083,10.250967979431152,10.24496841430664,9.822186470031738,9.45616626739502,10.761886596679688,9.27382755279541,9.554115295410156,10.412375450134277,9.44923210144043,10.622450828552246,10.398017883300781,9.326577186584473,9.780045509338379],\"type\":\"scatter3d\"},{\"hovertemplate\":\"cluster=cluster 2<br>x=%{x}<br>y=%{y}<br>z=%{z}<br>word=%{text}<extra></extra>\",\"legendgroup\":\"cluster 2\",\"marker\":{\"color\":\"#ab63fa\",\"symbol\":\"circle\"},\"mode\":\"markers+text\",\"name\":\"cluster 2\",\"scene\":\"scene\",\"showlegend\":true,\"text\":[\"computer\",\"back\",\"make\",\"good\",\"question\",\"news\",\"reply\",\"power\",\"wrote\",\"source\",\"true\",\"nntp\",\"software\",\"problem\",\"john\",\"give\",\"place\",\"read\",\"things\",\"drive\",\"number\",\"history\",\"end\",\"book\",\"information\",\"control\",\"point\",\"group\",\"side\",\"strong\",\"live\"],\"x\":[-0.3566925823688507,-0.26967909932136536,-0.48564931750297546,0.02547024004161358,0.3086819648742676,-0.5078046321868896,-0.5655403733253479,0.17725524306297302,-0.2663259208202362,-0.24040533602237701,-0.14544516801834106,-0.0927138552069664,-0.6437085270881653,-0.16881942749023438,0.008756841532886028,-0.41031092405319214,-0.24118252098560333,-0.5351333022117615,-0.34446531534194946,-0.19677738845348358,0.92159104347229,1.2762832641601562,-0.07388684153556824,-0.4077341854572296,-0.39585283398628235,-0.19543009996414185,-0.26426753401756287,-0.05889028683304787,0.25966572761535645,-0.3242095708847046,-0.008469469845294952],\"y\":[6.684821605682373,6.6090898513793945,5.844687461853027,6.611952304840088,6.658604621887207,6.330296993255615,6.489665508270264,6.0395917892456055,5.689465522766113,5.716255187988281,6.177116394042969,6.5638108253479,6.510336875915527,6.486965179443359,5.784454822540283,5.929841995239258,6.156186580657959,6.276124000549316,5.753571510314941,6.1119537353515625,6.928656101226807,7.075170040130615,6.592357158660889,6.014860153198242,5.965086936950684,6.144992351531982,6.419857501983643,5.7888031005859375,6.557908535003662,6.049249172210693,6.446130275726318],\"z\":[10.379783630371094,10.537384986877441,10.279291152954102,9.63453197479248,10.675087928771973,10.116087913513184,10.089299201965332,10.429925918579102,9.646623611450195,10.332449913024902,9.666508674621582,10.658238410949707,10.176836013793945,10.563587188720703,9.721982955932617,9.574983596801758,10.101115226745605,9.552170753479004,10.197036743164062,9.246394157409668,10.7163724899292,10.661088943481445,9.553373336791992,9.773550033569336,10.280061721801758,9.197105407714844,9.8692626953125,10.298728942871094,10.687803268432617,9.397595405578613,10.599593162536621],\"type\":\"scatter3d\"},{\"hovertemplate\":\"cluster=cluster 5<br>x=%{x}<br>y=%{y}<br>z=%{z}<br>word=%{text}<extra></extra>\",\"legendgroup\":\"cluster 5\",\"marker\":{\"color\":\"#FFA15A\",\"symbol\":\"circle\"},\"mode\":\"markers+text\",\"name\":\"cluster 5\",\"scene\":\"scene\",\"showlegend\":true,\"text\":[\"network\",\"distribution\",\"money\",\"fine\",\"ago\",\"large\",\"exists\",\"form\",\"late\",\"ram\",\"support\",\"gun\",\"religious\",\"class\",\"science\",\"rest\",\"contact\",\"makes\",\"thinking\",\"dos\",\"bike\",\"mind\",\"nice\",\"asked\",\"person\",\"coming\",\"idea\",\"school\",\"stuff\",\"including\"],\"x\":[6.250457286834717,4.736525535583496,4.251235008239746,5.0322794914245605,4.396660804748535,4.803276062011719,5.6420135498046875,4.091283321380615,4.327820301055908,4.4966654777526855,3.853759288787842,4.842597007751465,4.638705730438232,4.398282527923584,4.274195671081543,5.218008995056152,5.134209156036377,5.0125651359558105,4.42952299118042,3.7552285194396973,5.722729682922363,3.9955434799194336,4.549513816833496,4.845183372497559,4.391257286071777,5.381895542144775,5.071061134338379,6.831751823425293,4.624988079071045,4.425666332244873],\"y\":[4.9621262550354,6.646702766418457,6.385010719299316,5.964308261871338,6.217918395996094,6.534605026245117,5.106804370880127,6.233476161956787,6.289952754974365,6.660281181335449,5.53122615814209,6.501123428344727,6.56201171875,6.706207752227783,6.288682460784912,5.6172871589660645,5.38942289352417,5.26970911026001,6.697575569152832,6.299742698669434,6.569873332977295,6.6603240966796875,6.422008037567139,6.440543174743652,6.818301677703857,5.683637619018555,5.751796245574951,6.167929172515869,6.143861293792725,5.694756984710693],\"z\":[9.452988624572754,9.66380500793457,10.907464981079102,10.130049705505371,10.387206077575684,9.848579406738281,9.928458213806152,10.70695972442627,10.54902172088623,10.408721923828125,9.700056076049805,9.688584327697754,9.715618133544922,9.811441421508789,10.398462295532227,10.479124069213867,9.373270034790039,9.76881217956543,9.765321731567383,10.503352165222168,9.752842903137207,9.84705638885498,9.8082914352417,9.918996810913086,9.849682807922363,10.221126556396484,10.439001083374023,9.24577522277832,10.736231803894043,9.980510711669922],\"type\":\"scatter3d\"},{\"hovertemplate\":\"cluster=cluster 1<br>x=%{x}<br>y=%{y}<br>z=%{z}<br>word=%{text}<extra></extra>\",\"legendgroup\":\"cluster 1\",\"marker\":{\"color\":\"#19d3f3\",\"symbol\":\"circle\"},\"mode\":\"markers+text\",\"name\":\"cluster 1\",\"scene\":\"scene\",\"showlegend\":true,\"text\":[\"usa\",\"heard\",\"info\",\"day\",\"email\",\"summary\",\"mark\",\"days\",\"front\",\"single\",\"issue\",\"based\",\"current\",\"toronto\",\"part\",\"error\",\"couple\",\"reason\",\"situation\",\"city\",\"months\",\"remember\",\"keywords\",\"free\",\"change\",\"cost\",\"national\",\"means\",\"california\",\"technology\",\"religion\",\"add\",\"receive\",\"found\",\"phone\",\"cc\",\"show\",\"run\",\"matter\",\"interest\",\"de\",\"understand\",\"low\",\"open\",\"parts\",\"required\",\"word\",\"full\",\"research\",\"ms\",\"pay\",\"government\",\"radio\",\"data\",\"deleted\",\"hear\",\"big\",\"response\",\"key\",\"left\"],\"x\":[1.7562952041625977,4.021413803100586,3.213956117630005,3.4280264377593994,2.399836778640747,2.629143714904785,2.9985251426696777,3.073443651199341,1.8006592988967896,1.6433967351913452,3.465712547302246,3.369840145111084,1.551944613456726,1.568879246711731,3.354132890701294,3.1941428184509277,2.4480326175689697,1.9296003580093384,3.6512951850891113,3.220323085784912,2.517678737640381,1.6164917945861816,2.5357534885406494,2.458125591278076,3.1022231578826904,4.363555431365967,2.9873743057250977,2.527468204498291,1.6808650493621826,1.4844175577163696,1.7001383304595947,2.2912702560424805,1.938855528831482,1.8499125242233276,1.084067940711975,1.3610310554504395,2.37667179107666,2.4652645587921143,1.8723922967910767,3.4161300659179688,1.8314582109451294,2.8842275142669678,2.6209354400634766,2.8126213550567627,3.313835859298706,2.2177438735961914,1.9322658777236938,2.637458324432373,2.943389415740967,2.4486613273620605,2.09035587310791,2.383573055267334,2.943650007247925,2.6479125022888184,2.4841248989105225,2.940143585205078,2.0405232906341553,3.841719388961792,3.4151759147644043,2.2143754959106445],\"y\":[6.486696720123291,5.807590484619141,5.5669331550598145,5.918143272399902,5.454450607299805,5.440983772277832,5.434290885925293,5.4744791984558105,7.083095550537109,6.573292255401611,5.618776798248291,5.796892166137695,7.039735317230225,6.021883010864258,6.005070209503174,5.976358890533447,6.393999099731445,6.446255207061768,5.756285190582275,6.091323375701904,5.794259071350098,5.910136699676514,6.211252212524414,5.353978157043457,5.611095905303955,6.67389440536499,5.488217830657959,5.852543354034424,5.686604976654053,6.629276752471924,5.636895179748535,5.290526866912842,6.100741863250732,5.879213809967041,6.397477149963379,6.865557670593262,5.702152729034424,5.904370307922363,5.9980244636535645,6.08460807800293,6.5308051109313965,5.7655253410339355,5.56942081451416,5.487757205963135,5.914114952087402,6.0314812660217285,5.386005401611328,5.442041397094727,6.056809902191162,5.817588806152344,5.919684886932373,6.319243431091309,5.498400688171387,6.02494478225708,5.562376499176025,5.868189334869385,5.3394880294799805,6.537474632263184,5.756138801574707,5.343468189239502],\"z\":[10.805583953857422,9.690178871154785,9.726703643798828,10.030240058898926,9.784202575683594,9.651517868041992,10.005880355834961,9.68524169921875,9.644164085388184,10.751592636108398,9.628588676452637,9.95567798614502,9.66652774810791,10.748985290527344,9.917754173278809,10.126667976379395,9.559517860412598,10.479690551757812,9.845698356628418,10.530092239379883,9.88514518737793,10.257046699523926,10.00329303741455,10.004084587097168,10.491276741027832,9.552515029907227,10.33828067779541,9.561212539672852,10.55417537689209,10.7898530960083,10.468764305114746,9.874646186828613,9.494436264038086,10.7063570022583,9.431061744689941,9.523362159729004,9.675749778747559,9.419371604919434,9.497668266296387,10.459650993347168,9.788230895996094,10.596819877624512,9.408403396606445,9.444799423217773,9.869807243347168,9.706828117370605,10.065042495727539,9.599268913269043,10.712580680847168,10.490537643432617,9.489909172058105,9.777854919433594,9.50841236114502,9.83569049835205,9.707563400268555,10.198687553405762,9.983405113220215,9.781497955322266,9.956786155700684,10.04092025756836],\"type\":\"scatter3d\"},{\"hovertemplate\":\"cluster=cluster 3<br>x=%{x}<br>y=%{y}<br>z=%{z}<br>word=%{text}<extra></extra>\",\"legendgroup\":\"cluster 3\",\"marker\":{\"color\":\"#FF6692\",\"symbol\":\"circle\"},\"mode\":\"markers+text\",\"name\":\"cluster 3\",\"scene\":\"scene\",\"showlegend\":true,\"text\":[\"folks\",\"wondering\",\"display\",\"disk\",\"opinions\",\"worth\",\"reading\",\"similar\",\"order\",\"bible\",\"jim\",\"disclaimer\",\"expressed\",\"card\",\"hardware\",\"effect\",\"week\",\"systems\",\"posted\",\"write\",\"send\",\"care\",\"institute\",\"fax\",\"uk\",\"friend\",\"college\",\"type\",\"easy\",\"wrong\",\"hold\",\"note\",\"takes\",\"miles\",\"set\",\"mentioned\",\"hp\",\"hope\",\"white\"],\"x\":[5.70959997177124,5.51092529296875,4.35206413269043,6.248846530914307,4.8022332191467285,5.0098090171813965,5.403194427490234,6.1520562171936035,5.67331075668335,4.0030646324157715,5.659296989440918,4.425577163696289,6.170004367828369,4.1085286140441895,6.018800258636475,4.745738983154297,4.121155738830566,6.163977146148682,5.967986106872559,6.101503849029541,3.923096179962158,5.606498718261719,5.895798683166504,6.339049339294434,5.802515983581543,4.509509086608887,5.255127906799316,5.464401721954346,5.613475322723389,4.172257900238037,4.753190994262695,5.456547260284424,6.734655857086182,5.436866283416748,4.086179256439209,5.813376426696777,5.453132629394531,4.4617838859558105,6.277437210083008],\"y\":[5.694159984588623,5.469662189483643,5.634834289550781,6.2212982177734375,5.994306564331055,5.826821327209473,5.9741363525390625,5.843143939971924,5.653847694396973,6.307528495788574,6.248781204223633,6.061395168304443,5.732667922973633,5.628201961517334,5.90688943862915,5.920459270477295,6.143843173980713,6.268672943115234,6.491675853729248,6.306827068328857,6.292985439300537,5.59583044052124,6.253984451293945,5.944705009460449,5.471044540405273,5.5756449699401855,5.786660194396973,5.816871643066406,5.6794843673706055,5.719172477722168,5.770618915557861,5.376698970794678,5.8270063400268555,5.972176551818848,5.80034065246582,5.980678081512451,5.842182636260986,6.444680690765381,6.127962589263916],\"z\":[9.694231033325195,10.45883846282959,9.555061340332031,10.455255508422852,10.918970108032227,10.883867263793945,10.926728248596191,9.674311637878418,10.733031272888184,10.017837524414062,10.610466003417969,9.721654891967773,11.022422790527344,10.78775405883789,10.953999519348145,11.007640838623047,9.91377067565918,9.883460998535156,10.061396598815918,10.704251289367676,10.007586479187012,9.616368293762207,10.714348793029785,10.746461868286133,10.868450164794922,9.532981872558594,10.641544342041016,10.410943031311035,10.816853523254395,10.83950138092041,10.739594459533691,9.362017631530762,10.201872825622559,10.972538948059082,9.632607460021973,10.645238876342773,10.426506042480469,10.531942367553711,9.772336959838867],\"type\":\"scatter3d\"},{\"hovertemplate\":\"cluster=cluster 9<br>x=%{x}<br>y=%{y}<br>z=%{z}<br>word=%{text}<extra></extra>\",\"legendgroup\":\"cluster 9\",\"marker\":{\"color\":\"#B6E880\",\"symbol\":\"circle\"},\"mode\":\"markers+text\",\"name\":\"cluster 9\",\"scene\":\"scene\",\"showlegend\":true,\"text\":[\"life\",\"access\",\"tom\",\"short\",\"children\",\"major\",\"general\",\"file\",\"today\",\"ca\",\"love\",\"view\",\"version\",\"kind\",\"james\",\"close\",\"application\",\"times\",\"game\",\"original\",\"call\",\"put\",\"mine\",\"date\",\"apr\",\"program\",\"small\",\"sun\",\"interested\",\"thought\",\"public\",\"image\",\"results\",\"box\",\"made\",\"nasa\",\"robert\",\"washington\",\"org\",\"code\",\"steve\",\"talking\",\"company\",\"david\"],\"x\":[1.7491036653518677,1.792731761932373,2.621891736984253,2.103652000427246,3.811246633529663,4.363596439361572,2.9835739135742188,3.7257955074310303,1.5480109453201294,1.7525352239608765,2.2984659671783447,1.658798098564148,2.4492886066436768,1.1073273420333862,1.8528231382369995,1.3444652557373047,1.811455249786377,1.5700061321258545,1.4543324708938599,2.114292860031128,1.418060541152954,2.168773651123047,3.9461400508880615,3.7860798835754395,4.0323286056518555,2.3833210468292236,4.070326328277588,1.7399711608886719,3.9947314262390137,3.756150245666504,4.087800025939941,2.448357582092285,4.0685272216796875,3.4660136699676514,1.6521178483963013,2.144465446472168,3.8574728965759277,2.372145891189575,3.7799952030181885,1.9664891958236694,3.6106507778167725,2.1874265670776367,3.745530128479004,3.8496012687683105],\"y\":[6.7783308029174805,6.83639669418335,6.602787971496582,6.691809177398682,6.919131278991699,6.76594352722168,6.1630539894104,6.853835105895996,5.958132266998291,7.138280868530273,6.58353853225708,6.567100524902344,6.170267581939697,6.784934997558594,7.1002349853515625,6.077108860015869,7.191877841949463,6.908135890960693,7.131702899932861,6.877058506011963,7.046306610107422,6.88303804397583,5.684791564941406,6.981971263885498,7.056341648101807,6.357979774475098,6.736913681030273,7.126126289367676,6.518556594848633,6.723979473114014,6.5358195304870605,7.075430870056152,6.999156951904297,6.430068016052246,7.1588616371154785,7.140780448913574,7.007434368133545,7.059896469116211,6.563248157501221,6.256503582000732,6.901105880737305,6.311380386352539,7.079378128051758,7.046428203582764],\"z\":[10.762590408325195,9.855512619018555,10.388590812683105,10.203902244567871,10.941581726074219,10.58198070526123,10.669756889343262,10.901540756225586,10.678911209106445,9.757305145263672,10.065630912780762,10.182214736938477,10.765599250793457,10.786421775817871,9.749095916748047,10.600808143615723,10.697372436523438,10.752453804016113,10.686598777770996,10.249383926391602,10.713809967041016,10.103221893310547,10.836714744567871,10.384015083312988,9.994171142578125,10.127473831176758,10.8185396194458,10.732223510742188,11.00881290435791,10.421595573425293,10.67413330078125,9.758442878723145,10.351149559020996,10.39486026763916,10.69660758972168,9.78434944152832,10.708833694458008,9.841182708740234,10.608485221862793,9.992504119873047,10.435213088989258,10.152297973632812,10.473641395568848,10.4849853515625],\"type\":\"scatter3d\"},{\"hovertemplate\":\"cluster=cluster 4<br>x=%{x}<br>y=%{y}<br>z=%{z}<br>word=%{text}<extra></extra>\",\"legendgroup\":\"cluster 4\",\"marker\":{\"color\":\"#FF97FF\",\"symbol\":\"circle\"},\"mode\":\"markers+text\",\"name\":\"cluster 4\",\"scene\":\"scene\",\"showlegend\":true,\"text\":[\"bit\",\"post\",\"time\",\"truth\",\"years\",\"article\",\"world\",\"state\",\"case\",\"space\",\"posting\",\"windows\",\"year\",\"law\",\"jews\",\"god\",\"find\"],\"x\":[-1.176508903503418,-1.3363103866577148,-1.4067356586456299,-1.1728882789611816,-1.4616241455078125,-1.0715477466583252,-1.2955838441848755,-1.3510726690292358,-1.5295109748840332,-0.7055175304412842,-1.0519646406173706,-0.9969354271888733,-1.5891300439834595,-1.418180227279663,-1.4456192255020142,-1.1924444437026978,-0.9159494638442993],\"y\":[6.503170967102051,6.3993988037109375,6.354667663574219,6.280388832092285,6.331505298614502,6.0715179443359375,6.024441242218018,6.32439661026001,6.226531505584717,5.876542568206787,6.466248035430908,6.466626167297363,6.233999729156494,6.391946792602539,6.179069995880127,6.410283088684082,5.954563617706299],\"z\":[9.870933532714844,9.779756546020508,9.64962387084961,10.09194564819336,9.981002807617188,9.788058280944824,9.749957084655762,9.997456550598145,9.73604965209961,10.026805877685547,9.817495346069336,9.583837509155273,9.833587646484375,9.802709579467773,9.775197982788086,9.939118385314941,9.931925773620605],\"type\":\"scatter3d\"},{\"hovertemplate\":\"cluster=cluster 8<br>x=%{x}<br>y=%{y}<br>z=%{z}<br>word=%{text}<extra></extra>\",\"legendgroup\":\"cluster 8\",\"marker\":{\"color\":\"#FECB52\",\"symbol\":\"circle\"},\"mode\":\"markers+text\",\"name\":\"cluster 8\",\"scene\":\"scene\",\"showlegend\":true,\"text\":[\"people\",\"writes\"],\"x\":[-1.5323283672332764,-1.6924444437026978],\"y\":[6.2646870613098145,6.173669815063477],\"z\":[9.936515808105469,9.92617416381836],\"type\":\"scatter3d\"}],                        {\"template\":{\"data\":{\"histogram2dcontour\":[{\"type\":\"histogram2dcontour\",\"colorbar\":{\"outlinewidth\":0,\"ticks\":\"\"},\"colorscale\":[[0.0,\"#0d0887\"],[0.1111111111111111,\"#46039f\"],[0.2222222222222222,\"#7201a8\"],[0.3333333333333333,\"#9c179e\"],[0.4444444444444444,\"#bd3786\"],[0.5555555555555556,\"#d8576b\"],[0.6666666666666666,\"#ed7953\"],[0.7777777777777778,\"#fb9f3a\"],[0.8888888888888888,\"#fdca26\"],[1.0,\"#f0f921\"]]}],\"choropleth\":[{\"type\":\"choropleth\",\"colorbar\":{\"outlinewidth\":0,\"ticks\":\"\"}}],\"histogram2d\":[{\"type\":\"histogram2d\",\"colorbar\":{\"outlinewidth\":0,\"ticks\":\"\"},\"colorscale\":[[0.0,\"#0d0887\"],[0.1111111111111111,\"#46039f\"],[0.2222222222222222,\"#7201a8\"],[0.3333333333333333,\"#9c179e\"],[0.4444444444444444,\"#bd3786\"],[0.5555555555555556,\"#d8576b\"],[0.6666666666666666,\"#ed7953\"],[0.7777777777777778,\"#fb9f3a\"],[0.8888888888888888,\"#fdca26\"],[1.0,\"#f0f921\"]]}],\"heatmap\":[{\"type\":\"heatmap\",\"colorbar\":{\"outlinewidth\":0,\"ticks\":\"\"},\"colorscale\":[[0.0,\"#0d0887\"],[0.1111111111111111,\"#46039f\"],[0.2222222222222222,\"#7201a8\"],[0.3333333333333333,\"#9c179e\"],[0.4444444444444444,\"#bd3786\"],[0.5555555555555556,\"#d8576b\"],[0.6666666666666666,\"#ed7953\"],[0.7777777777777778,\"#fb9f3a\"],[0.8888888888888888,\"#fdca26\"],[1.0,\"#f0f921\"]]}],\"heatmapgl\":[{\"type\":\"heatmapgl\",\"colorbar\":{\"outlinewidth\":0,\"ticks\":\"\"},\"colorscale\":[[0.0,\"#0d0887\"],[0.1111111111111111,\"#46039f\"],[0.2222222222222222,\"#7201a8\"],[0.3333333333333333,\"#9c179e\"],[0.4444444444444444,\"#bd3786\"],[0.5555555555555556,\"#d8576b\"],[0.6666666666666666,\"#ed7953\"],[0.7777777777777778,\"#fb9f3a\"],[0.8888888888888888,\"#fdca26\"],[1.0,\"#f0f921\"]]}],\"contourcarpet\":[{\"type\":\"contourcarpet\",\"colorbar\":{\"outlinewidth\":0,\"ticks\":\"\"}}],\"contour\":[{\"type\":\"contour\",\"colorbar\":{\"outlinewidth\":0,\"ticks\":\"\"},\"colorscale\":[[0.0,\"#0d0887\"],[0.1111111111111111,\"#46039f\"],[0.2222222222222222,\"#7201a8\"],[0.3333333333333333,\"#9c179e\"],[0.4444444444444444,\"#bd3786\"],[0.5555555555555556,\"#d8576b\"],[0.6666666666666666,\"#ed7953\"],[0.7777777777777778,\"#fb9f3a\"],[0.8888888888888888,\"#fdca26\"],[1.0,\"#f0f921\"]]}],\"surface\":[{\"type\":\"surface\",\"colorbar\":{\"outlinewidth\":0,\"ticks\":\"\"},\"colorscale\":[[0.0,\"#0d0887\"],[0.1111111111111111,\"#46039f\"],[0.2222222222222222,\"#7201a8\"],[0.3333333333333333,\"#9c179e\"],[0.4444444444444444,\"#bd3786\"],[0.5555555555555556,\"#d8576b\"],[0.6666666666666666,\"#ed7953\"],[0.7777777777777778,\"#fb9f3a\"],[0.8888888888888888,\"#fdca26\"],[1.0,\"#f0f921\"]]}],\"mesh3d\":[{\"type\":\"mesh3d\",\"colorbar\":{\"outlinewidth\":0,\"ticks\":\"\"}}],\"scatter\":[{\"fillpattern\":{\"fillmode\":\"overlay\",\"size\":10,\"solidity\":0.2},\"type\":\"scatter\"}],\"parcoords\":[{\"type\":\"parcoords\",\"line\":{\"colorbar\":{\"outlinewidth\":0,\"ticks\":\"\"}}}],\"scatterpolargl\":[{\"type\":\"scatterpolargl\",\"marker\":{\"colorbar\":{\"outlinewidth\":0,\"ticks\":\"\"}}}],\"bar\":[{\"error_x\":{\"color\":\"#2a3f5f\"},\"error_y\":{\"color\":\"#2a3f5f\"},\"marker\":{\"line\":{\"color\":\"#E5ECF6\",\"width\":0.5},\"pattern\":{\"fillmode\":\"overlay\",\"size\":10,\"solidity\":0.2}},\"type\":\"bar\"}],\"scattergeo\":[{\"type\":\"scattergeo\",\"marker\":{\"colorbar\":{\"outlinewidth\":0,\"ticks\":\"\"}}}],\"scatterpolar\":[{\"type\":\"scatterpolar\",\"marker\":{\"colorbar\":{\"outlinewidth\":0,\"ticks\":\"\"}}}],\"histogram\":[{\"marker\":{\"pattern\":{\"fillmode\":\"overlay\",\"size\":10,\"solidity\":0.2}},\"type\":\"histogram\"}],\"scattergl\":[{\"type\":\"scattergl\",\"marker\":{\"colorbar\":{\"outlinewidth\":0,\"ticks\":\"\"}}}],\"scatter3d\":[{\"type\":\"scatter3d\",\"line\":{\"colorbar\":{\"outlinewidth\":0,\"ticks\":\"\"}},\"marker\":{\"colorbar\":{\"outlinewidth\":0,\"ticks\":\"\"}}}],\"scattermapbox\":[{\"type\":\"scattermapbox\",\"marker\":{\"colorbar\":{\"outlinewidth\":0,\"ticks\":\"\"}}}],\"scatterternary\":[{\"type\":\"scatterternary\",\"marker\":{\"colorbar\":{\"outlinewidth\":0,\"ticks\":\"\"}}}],\"scattercarpet\":[{\"type\":\"scattercarpet\",\"marker\":{\"colorbar\":{\"outlinewidth\":0,\"ticks\":\"\"}}}],\"carpet\":[{\"aaxis\":{\"endlinecolor\":\"#2a3f5f\",\"gridcolor\":\"white\",\"linecolor\":\"white\",\"minorgridcolor\":\"white\",\"startlinecolor\":\"#2a3f5f\"},\"baxis\":{\"endlinecolor\":\"#2a3f5f\",\"gridcolor\":\"white\",\"linecolor\":\"white\",\"minorgridcolor\":\"white\",\"startlinecolor\":\"#2a3f5f\"},\"type\":\"carpet\"}],\"table\":[{\"cells\":{\"fill\":{\"color\":\"#EBF0F8\"},\"line\":{\"color\":\"white\"}},\"header\":{\"fill\":{\"color\":\"#C8D4E3\"},\"line\":{\"color\":\"white\"}},\"type\":\"table\"}],\"barpolar\":[{\"marker\":{\"line\":{\"color\":\"#E5ECF6\",\"width\":0.5},\"pattern\":{\"fillmode\":\"overlay\",\"size\":10,\"solidity\":0.2}},\"type\":\"barpolar\"}],\"pie\":[{\"automargin\":true,\"type\":\"pie\"}]},\"layout\":{\"autotypenumbers\":\"strict\",\"colorway\":[\"#636efa\",\"#EF553B\",\"#00cc96\",\"#ab63fa\",\"#FFA15A\",\"#19d3f3\",\"#FF6692\",\"#B6E880\",\"#FF97FF\",\"#FECB52\"],\"font\":{\"color\":\"#2a3f5f\"},\"hovermode\":\"closest\",\"hoverlabel\":{\"align\":\"left\"},\"paper_bgcolor\":\"white\",\"plot_bgcolor\":\"#E5ECF6\",\"polar\":{\"bgcolor\":\"#E5ECF6\",\"angularaxis\":{\"gridcolor\":\"white\",\"linecolor\":\"white\",\"ticks\":\"\"},\"radialaxis\":{\"gridcolor\":\"white\",\"linecolor\":\"white\",\"ticks\":\"\"}},\"ternary\":{\"bgcolor\":\"#E5ECF6\",\"aaxis\":{\"gridcolor\":\"white\",\"linecolor\":\"white\",\"ticks\":\"\"},\"baxis\":{\"gridcolor\":\"white\",\"linecolor\":\"white\",\"ticks\":\"\"},\"caxis\":{\"gridcolor\":\"white\",\"linecolor\":\"white\",\"ticks\":\"\"}},\"coloraxis\":{\"colorbar\":{\"outlinewidth\":0,\"ticks\":\"\"}},\"colorscale\":{\"sequential\":[[0.0,\"#0d0887\"],[0.1111111111111111,\"#46039f\"],[0.2222222222222222,\"#7201a8\"],[0.3333333333333333,\"#9c179e\"],[0.4444444444444444,\"#bd3786\"],[0.5555555555555556,\"#d8576b\"],[0.6666666666666666,\"#ed7953\"],[0.7777777777777778,\"#fb9f3a\"],[0.8888888888888888,\"#fdca26\"],[1.0,\"#f0f921\"]],\"sequentialminus\":[[0.0,\"#0d0887\"],[0.1111111111111111,\"#46039f\"],[0.2222222222222222,\"#7201a8\"],[0.3333333333333333,\"#9c179e\"],[0.4444444444444444,\"#bd3786\"],[0.5555555555555556,\"#d8576b\"],[0.6666666666666666,\"#ed7953\"],[0.7777777777777778,\"#fb9f3a\"],[0.8888888888888888,\"#fdca26\"],[1.0,\"#f0f921\"]],\"diverging\":[[0,\"#8e0152\"],[0.1,\"#c51b7d\"],[0.2,\"#de77ae\"],[0.3,\"#f1b6da\"],[0.4,\"#fde0ef\"],[0.5,\"#f7f7f7\"],[0.6,\"#e6f5d0\"],[0.7,\"#b8e186\"],[0.8,\"#7fbc41\"],[0.9,\"#4d9221\"],[1,\"#276419\"]]},\"xaxis\":{\"gridcolor\":\"white\",\"linecolor\":\"white\",\"ticks\":\"\",\"title\":{\"standoff\":15},\"zerolinecolor\":\"white\",\"automargin\":true,\"zerolinewidth\":2},\"yaxis\":{\"gridcolor\":\"white\",\"linecolor\":\"white\",\"ticks\":\"\",\"title\":{\"standoff\":15},\"zerolinecolor\":\"white\",\"automargin\":true,\"zerolinewidth\":2},\"scene\":{\"xaxis\":{\"backgroundcolor\":\"#E5ECF6\",\"gridcolor\":\"white\",\"linecolor\":\"white\",\"showbackground\":true,\"ticks\":\"\",\"zerolinecolor\":\"white\",\"gridwidth\":2},\"yaxis\":{\"backgroundcolor\":\"#E5ECF6\",\"gridcolor\":\"white\",\"linecolor\":\"white\",\"showbackground\":true,\"ticks\":\"\",\"zerolinecolor\":\"white\",\"gridwidth\":2},\"zaxis\":{\"backgroundcolor\":\"#E5ECF6\",\"gridcolor\":\"white\",\"linecolor\":\"white\",\"showbackground\":true,\"ticks\":\"\",\"zerolinecolor\":\"white\",\"gridwidth\":2}},\"shapedefaults\":{\"line\":{\"color\":\"#2a3f5f\"}},\"annotationdefaults\":{\"arrowcolor\":\"#2a3f5f\",\"arrowhead\":0,\"arrowwidth\":1},\"geo\":{\"bgcolor\":\"white\",\"landcolor\":\"#E5ECF6\",\"subunitcolor\":\"white\",\"showland\":true,\"showlakes\":true,\"lakecolor\":\"white\"},\"title\":{\"x\":0.05},\"mapbox\":{\"style\":\"light\"}}},\"scene\":{\"domain\":{\"x\":[0.0,1.0],\"y\":[0.0,1.0]},\"xaxis\":{\"title\":{\"text\":\"x\"}},\"yaxis\":{\"title\":{\"text\":\"y\"}},\"zaxis\":{\"title\":{\"text\":\"z\"}}},\"legend\":{\"title\":{\"text\":\"cluster\"},\"tracegroupgap\":0},\"title\":{\"text\":\"word-embedding-samples\"}},                        {\"responsive\": true}                    ).then(function(){\n",
              "                            \n",
              "var gd = document.getElementById('801c1fc2-4f76-4362-ab43-406a7fc06933');\n",
              "var x = new MutationObserver(function (mutations, observer) {{\n",
              "        var display = window.getComputedStyle(gd).display;\n",
              "        if (!display || display === 'none') {{\n",
              "            console.log([gd, 'removed!']);\n",
              "            Plotly.purge(gd);\n",
              "            observer.disconnect();\n",
              "        }}\n",
              "}});\n",
              "\n",
              "// Listen for the removal of the full notebook cells\n",
              "var notebookContainer = gd.closest('#notebook-container');\n",
              "if (notebookContainer) {{\n",
              "    x.observe(notebookContainer, {childList: true});\n",
              "}}\n",
              "\n",
              "// Listen for the clearing of the current output cell\n",
              "var outputEl = gd.closest('.output');\n",
              "if (outputEl) {{\n",
              "    x.observe(outputEl, {childList: true});\n",
              "}}\n",
              "\n",
              "                        })                };                            </script>        </div>\n",
              "</body>\n",
              "</html>"
            ]
          },
          "metadata": {}
        }
      ]
    },
    {
      "cell_type": "markdown",
      "source": [
        "# **ETM-Model trainieren**"
      ],
      "metadata": {
        "id": "P9jSI12r9zqu"
      }
    },
    {
      "cell_type": "code",
      "source": [
        "# using DocSet to use easier the modul DataSet from torch\n",
        "from src.train_etm import DocSet, ETMTrain\n",
        "from src.etm import ETM\n",
        "\n",
        "vocab_size = len(list(word2id.keys()))\n",
        "tr_set = DocSet(\"train\", vocab_size, train_set)\n",
        "print(len(tr_set))\n",
        "print(tr_set.__getitem__(0))"
      ],
      "metadata": {
        "colab": {
          "base_uri": "https://localhost:8080/"
        },
        "id": "fwiU9zWCIUh_",
        "outputId": "2b65945b-8061-470f-abba-9823f2055cc3"
      },
      "execution_count": 39,
      "outputs": [
        {
          "output_type": "stream",
          "name": "stdout",
          "text": [
            "150\n",
            "tensor([0., 0., 0., 0., 0., 0., 0., 1., 0., 0., 0., 0., 0., 0., 0., 0., 0., 1.,\n",
            "        0., 2., 0., 0., 0., 0., 1., 0., 0., 0., 0., 0., 0., 0., 0., 0., 0., 0.,\n",
            "        0., 0., 0., 0., 0., 0., 0., 0., 1., 2., 0., 0., 0., 0., 0., 0., 0., 0.,\n",
            "        0., 0., 0., 0., 0., 0., 0., 1., 0., 0., 0., 0., 0., 1., 0., 0., 0., 0.,\n",
            "        0., 0., 0., 1., 0., 0., 0., 0., 0., 0., 0., 0., 0., 0., 0., 0., 0., 0.,\n",
            "        0., 0., 0., 0., 0., 0., 0., 0., 0., 0., 0., 0., 0., 0., 1., 0., 2., 0.,\n",
            "        0., 0., 0., 0., 1., 0., 0., 0., 2., 1., 0., 0., 0., 0., 0., 0., 0., 0.,\n",
            "        0., 0., 0., 0., 0., 0., 0., 0., 0., 0., 0., 1., 0., 0., 0., 0., 0., 0.,\n",
            "        0., 0., 2., 0., 0., 0., 0., 0., 0., 1., 0., 0., 2., 0., 0., 0., 0., 1.,\n",
            "        0., 0., 0., 1., 0., 0., 0., 0., 0., 0., 1., 0., 0., 0., 0., 0., 1., 0.,\n",
            "        0., 0., 0., 0., 0., 0., 0., 0., 0., 0., 0., 0., 0., 0., 0., 0., 0., 0.,\n",
            "        0., 0., 0., 2., 0., 0., 0., 0., 0., 0., 1., 0., 1., 0., 0., 0., 0., 0.,\n",
            "        0., 0., 0., 1., 0., 0., 0., 0., 1., 0., 0., 0., 1., 0., 0., 0., 0., 0.,\n",
            "        0., 0., 0., 0., 0., 1., 0., 0., 0., 0., 0., 0., 0., 0., 0., 0., 0., 0.,\n",
            "        0., 1., 0., 1., 0., 0., 0., 0., 0., 0., 0., 0., 0., 1., 0., 0., 0., 1.,\n",
            "        0., 0., 0., 1., 0., 0., 0., 0., 1., 0., 3., 0., 0., 0., 0., 0., 0., 1.,\n",
            "        0., 0., 0., 0., 0., 0., 0., 3., 0., 0., 0., 0., 0., 0., 0., 0., 0., 0.,\n",
            "        0., 0., 0., 0., 0., 1., 0., 0., 0., 0., 0., 0., 0., 0., 0., 0., 0., 0.,\n",
            "        0., 0., 0., 0., 2., 0., 0., 0., 1., 0., 1., 1., 0., 0., 0., 0., 0., 0.,\n",
            "        0., 0., 0., 0., 0., 0.])\n"
          ]
        }
      ]
    },
    {
      "cell_type": "code",
      "source": [
        "num_topics = 5\n",
        "t_hidden_size = 100\n",
        "rho_size = len(embedding_data[0])\n",
        "emb_size = len(embedding_data[0])\n",
        "theta_act = \"relu\"\n",
        "\n",
        "class TrainArguments:\n",
        "      def __init__(self, epochs, batch_size, log_interval):\n",
        "          self.epochs = epochs\n",
        "          self.batch_size = batch_size\n",
        "          self.log_interval = log_interval\n",
        "\n",
        "class OptimizerArguments:\n",
        "      def __init__(self, optimizer_name, lr, wdecay):\n",
        "            self.optimizer = optimizer_name\n",
        "            self.lr = lr\n",
        "            self.wdecay = wdecay\n",
        "            \n",
        "train_args = TrainArguments(epochs=10, batch_size=100, log_interval=None)\n",
        "optimizer_args = OptimizerArguments(optimizer_name=\"Adam\", lr=0.005, wdecay=0.1)\n",
        "\n",
        "print(train_args.epochs)\n",
        "print(optimizer_args.optimizer)\n",
        "\n",
        "training_set = train_set\n",
        "\n",
        "# define the ETM-model with setting-parameters\n",
        "etm_model = ETM(\n",
        "      num_topics, \n",
        "      vocab_size, \n",
        "      t_hidden_size, rho_size, emb_size, theta_act, \n",
        "      embedding_data, enc_drop=0.5)\n",
        "\n",
        "# start training\n",
        "train_class = ETMTrain().train(\n",
        "    etm_model,\n",
        "    vocab_size, \n",
        "    train_args, optimizer_args, training_set, \n",
        "    num_topics, t_hidden_size, rho_size, emb_size, theta_act, embedding_data, 0.5)"
      ],
      "metadata": {
        "colab": {
          "base_uri": "https://localhost:8080/"
        },
        "id": "kbJIWLZpJRnG",
        "outputId": "957eeade-8293-42ca-caed-be127a1bda1e"
      },
      "execution_count": 40,
      "outputs": [
        {
          "output_type": "stream",
          "name": "stdout",
          "text": [
            "10\n",
            "Adam\n",
            "Defaulting to vanilla SGD\n",
            "Epoch 0/10:\n",
            "torch.Size([100])\n",
            "torch.Size([])\n",
            "total loss: 19716.6875\n",
            "Epoch 1/10:\n",
            "torch.Size([100])\n",
            "torch.Size([])\n",
            "total loss: 20000.634765625\n",
            "Epoch 2/10:\n",
            "torch.Size([100])\n",
            "torch.Size([])\n",
            "total loss: 19852.431640625\n",
            "Epoch 3/10:\n",
            "torch.Size([100])\n",
            "torch.Size([])\n",
            "total loss: 18369.73828125\n",
            "Epoch 4/10:\n",
            "torch.Size([100])\n",
            "torch.Size([])\n",
            "total loss: 20334.513671875\n",
            "Epoch 5/10:\n",
            "torch.Size([100])\n",
            "torch.Size([])\n",
            "total loss: 19058.90234375\n",
            "Epoch 6/10:\n",
            "torch.Size([100])\n",
            "torch.Size([])\n",
            "total loss: 20291.328125\n",
            "Epoch 7/10:\n",
            "torch.Size([100])\n",
            "torch.Size([])\n",
            "total loss: 17906.462890625\n",
            "Epoch 8/10:\n",
            "torch.Size([100])\n",
            "torch.Size([])\n",
            "total loss: 18501.6875\n",
            "Epoch 9/10:\n",
            "torch.Size([100])\n",
            "torch.Size([])\n",
            "total loss: 17745.640625\n"
          ]
        }
      ]
    }
  ]
}