{
  "cells": [
    {
      "cell_type": "markdown",
      "metadata": {
        "id": "view-in-github",
        "colab_type": "text"
      },
      "source": [
        "<a href=\"https://colab.research.google.com/github/hanhluukim/replication-topic-modelling-in-embedding-space/blob/main/notebook_replication.ipynb\" target=\"_parent\"><img src=\"https://colab.research.google.com/assets/colab-badge.svg\" alt=\"Open In Colab\"/></a>"
      ]
    },
    {
      "cell_type": "markdown",
      "metadata": {
        "id": "PJ7P852F7yzU"
      },
      "source": [
        "# **Das Projekt aus dem Github klonen und in den Projektsordner**"
      ]
    },
    {
      "cell_type": "code",
      "execution_count": null,
      "metadata": {
        "colab": {
          "base_uri": "https://localhost:8080/"
        },
        "id": "riOxinNHJcIB",
        "outputId": "17e494b5-a4ea-4f19-f129-40d5ee90814f"
      },
      "outputs": [
        {
          "output_type": "stream",
          "name": "stdout",
          "text": [
            "Cloning into 'replication-topic-modelling-in-embedding-space'...\n",
            "remote: Enumerating objects: 2421, done.\u001b[K\n",
            "remote: Counting objects: 100% (397/397), done.\u001b[K\n",
            "remote: Compressing objects: 100% (308/308), done.\u001b[K\n",
            "remote: Total 2421 (delta 201), reused 258 (delta 86), pack-reused 2024\u001b[K\n",
            "Receiving objects: 100% (2421/2421), 535.00 MiB | 28.49 MiB/s, done.\n",
            "Resolving deltas: 100% (1256/1256), done.\n"
          ]
        }
      ],
      "source": [
        "#wenn die Ordner noch nicht geklont ist, soll dieser Fehler zuerst durchgeführt werden.\n",
        "!git clone https://github.com/hanhluukim/replication-topic-modelling-in-embedding-space.git"
      ]
    },
    {
      "cell_type": "code",
      "execution_count": null,
      "metadata": {
        "colab": {
          "base_uri": "https://localhost:8080/"
        },
        "id": "B_6em-5qJg5e",
        "outputId": "9bee3e49-414f-4db5-8faf-c21fb46ff097"
      },
      "outputs": [
        {
          "output_type": "stream",
          "name": "stdout",
          "text": [
            "/content/replication-topic-modelling-in-embedding-space\n"
          ]
        }
      ],
      "source": [
        "cd /content/replication-topic-modelling-in-embedding-space"
      ]
    },
    {
      "cell_type": "markdown",
      "metadata": {
        "id": "vE0ThMGk8eVx"
      },
      "source": [
        "# **Das Trainieren über GPU: in dem Colab-runtime, wählen GPU**\n",
        "1. runtime/Laufzeit\n",
        "2. change runtime type/Laufzeittyppen ändern\n",
        "3. choose GPU and save/GPU auswählen und speichern"
      ]
    },
    {
      "cell_type": "markdown",
      "metadata": {
        "id": "6AAG98vV1JCg"
      },
      "source": [
        "# **Die benötige Paketen für das Projekt mittels requirements.txt installieren**\n",
        "\n"
      ]
    },
    {
      "cell_type": "code",
      "execution_count": null,
      "metadata": {
        "colab": {
          "base_uri": "https://localhost:8080/"
        },
        "id": "YcBay625sD5D",
        "outputId": "699d7149-096a-4283-83b0-1b3c48e63f96"
      },
      "outputs": [
        {
          "output_type": "stream",
          "name": "stdout",
          "text": [
            "Looking in indexes: https://pypi.org/simple, https://us-python.pkg.dev/colab-wheels/public/simple/\n",
            "Collecting gensim==3.8.3\n",
            "  Downloading gensim-3.8.3-cp37-cp37m-manylinux1_x86_64.whl (24.2 MB)\n",
            "\u001b[K     |████████████████████████████████| 24.2 MB 1.5 MB/s \n",
            "\u001b[?25hRequirement already satisfied: nltk in /usr/local/lib/python3.7/dist-packages (from -r /content/replication-topic-modelling-in-embedding-space/requirements.txt (line 2)) (3.2.5)\n",
            "Requirement already satisfied: numpy in /usr/local/lib/python3.7/dist-packages (from -r /content/replication-topic-modelling-in-embedding-space/requirements.txt (line 3)) (1.21.6)\n",
            "Requirement already satisfied: scikit-learn in /usr/local/lib/python3.7/dist-packages (from -r /content/replication-topic-modelling-in-embedding-space/requirements.txt (line 4)) (1.0.2)\n",
            "Requirement already satisfied: scipy in /usr/local/lib/python3.7/dist-packages (from -r /content/replication-topic-modelling-in-embedding-space/requirements.txt (line 5)) (1.4.1)\n",
            "Requirement already satisfied: torch in /usr/local/lib/python3.7/dist-packages (from -r /content/replication-topic-modelling-in-embedding-space/requirements.txt (line 6)) (1.11.0+cu113)\n",
            "Collecting transformers\n",
            "  Downloading transformers-4.19.2-py3-none-any.whl (4.2 MB)\n",
            "\u001b[K     |████████████████████████████████| 4.2 MB 59.1 MB/s \n",
            "\u001b[?25hCollecting umap-learn\n",
            "  Downloading umap-learn-0.5.3.tar.gz (88 kB)\n",
            "\u001b[K     |████████████████████████████████| 88 kB 8.6 MB/s \n",
            "\u001b[?25hCollecting plotly==5.7.0\n",
            "  Downloading plotly-5.7.0-py2.py3-none-any.whl (28.8 MB)\n",
            "\u001b[K     |████████████████████████████████| 28.8 MB 101.6 MB/s \n",
            "\u001b[?25hRequirement already satisfied: pathlib in /usr/local/lib/python3.7/dist-packages (from -r /content/replication-topic-modelling-in-embedding-space/requirements.txt (line 10)) (1.0.1)\n",
            "Collecting pyyaml==5.4.1\n",
            "  Downloading PyYAML-5.4.1-cp37-cp37m-manylinux1_x86_64.whl (636 kB)\n",
            "\u001b[K     |████████████████████████████████| 636 kB 52.7 MB/s \n",
            "\u001b[?25hCollecting kaleido\n",
            "  Downloading kaleido-0.2.1-py2.py3-none-manylinux1_x86_64.whl (79.9 MB)\n",
            "\u001b[K     |████████████████████████████████| 79.9 MB 115 kB/s \n",
            "\u001b[?25hRequirement already satisfied: torchvision in /usr/local/lib/python3.7/dist-packages (from -r /content/replication-topic-modelling-in-embedding-space/requirements.txt (line 13)) (0.12.0+cu113)\n",
            "Requirement already satisfied: pandas in /usr/local/lib/python3.7/dist-packages (from -r /content/replication-topic-modelling-in-embedding-space/requirements.txt (line 14)) (1.3.5)\n",
            "Requirement already satisfied: six>=1.5.0 in /usr/local/lib/python3.7/dist-packages (from gensim==3.8.3->-r /content/replication-topic-modelling-in-embedding-space/requirements.txt (line 1)) (1.15.0)\n",
            "Requirement already satisfied: smart-open>=1.8.1 in /usr/local/lib/python3.7/dist-packages (from gensim==3.8.3->-r /content/replication-topic-modelling-in-embedding-space/requirements.txt (line 1)) (6.0.0)\n",
            "Requirement already satisfied: tenacity>=6.2.0 in /usr/local/lib/python3.7/dist-packages (from plotly==5.7.0->-r /content/replication-topic-modelling-in-embedding-space/requirements.txt (line 9)) (8.0.1)\n",
            "Requirement already satisfied: joblib>=0.11 in /usr/local/lib/python3.7/dist-packages (from scikit-learn->-r /content/replication-topic-modelling-in-embedding-space/requirements.txt (line 4)) (1.1.0)\n",
            "Requirement already satisfied: threadpoolctl>=2.0.0 in /usr/local/lib/python3.7/dist-packages (from scikit-learn->-r /content/replication-topic-modelling-in-embedding-space/requirements.txt (line 4)) (3.1.0)\n",
            "Requirement already satisfied: typing-extensions in /usr/local/lib/python3.7/dist-packages (from torch->-r /content/replication-topic-modelling-in-embedding-space/requirements.txt (line 6)) (4.2.0)\n",
            "Requirement already satisfied: packaging>=20.0 in /usr/local/lib/python3.7/dist-packages (from transformers->-r /content/replication-topic-modelling-in-embedding-space/requirements.txt (line 7)) (21.3)\n",
            "Requirement already satisfied: importlib-metadata in /usr/local/lib/python3.7/dist-packages (from transformers->-r /content/replication-topic-modelling-in-embedding-space/requirements.txt (line 7)) (4.11.3)\n",
            "Requirement already satisfied: filelock in /usr/local/lib/python3.7/dist-packages (from transformers->-r /content/replication-topic-modelling-in-embedding-space/requirements.txt (line 7)) (3.7.0)\n",
            "Requirement already satisfied: tqdm>=4.27 in /usr/local/lib/python3.7/dist-packages (from transformers->-r /content/replication-topic-modelling-in-embedding-space/requirements.txt (line 7)) (4.64.0)\n",
            "Requirement already satisfied: requests in /usr/local/lib/python3.7/dist-packages (from transformers->-r /content/replication-topic-modelling-in-embedding-space/requirements.txt (line 7)) (2.23.0)\n",
            "Collecting tokenizers!=0.11.3,<0.13,>=0.11.1\n",
            "  Downloading tokenizers-0.12.1-cp37-cp37m-manylinux_2_12_x86_64.manylinux2010_x86_64.whl (6.6 MB)\n",
            "\u001b[K     |████████████████████████████████| 6.6 MB 53.5 MB/s \n",
            "\u001b[?25hCollecting huggingface-hub<1.0,>=0.1.0\n",
            "  Downloading huggingface_hub-0.7.0-py3-none-any.whl (86 kB)\n",
            "\u001b[K     |████████████████████████████████| 86 kB 7.4 MB/s \n",
            "\u001b[?25hRequirement already satisfied: regex!=2019.12.17 in /usr/local/lib/python3.7/dist-packages (from transformers->-r /content/replication-topic-modelling-in-embedding-space/requirements.txt (line 7)) (2019.12.20)\n",
            "Requirement already satisfied: pyparsing!=3.0.5,>=2.0.2 in /usr/local/lib/python3.7/dist-packages (from packaging>=20.0->transformers->-r /content/replication-topic-modelling-in-embedding-space/requirements.txt (line 7)) (3.0.9)\n",
            "Requirement already satisfied: numba>=0.49 in /usr/local/lib/python3.7/dist-packages (from umap-learn->-r /content/replication-topic-modelling-in-embedding-space/requirements.txt (line 8)) (0.51.2)\n",
            "Collecting pynndescent>=0.5\n",
            "  Downloading pynndescent-0.5.7.tar.gz (1.1 MB)\n",
            "\u001b[K     |████████████████████████████████| 1.1 MB 56.1 MB/s \n",
            "\u001b[?25hRequirement already satisfied: llvmlite<0.35,>=0.34.0.dev0 in /usr/local/lib/python3.7/dist-packages (from numba>=0.49->umap-learn->-r /content/replication-topic-modelling-in-embedding-space/requirements.txt (line 8)) (0.34.0)\n",
            "Requirement already satisfied: setuptools in /usr/local/lib/python3.7/dist-packages (from numba>=0.49->umap-learn->-r /content/replication-topic-modelling-in-embedding-space/requirements.txt (line 8)) (57.4.0)\n",
            "Requirement already satisfied: pillow!=8.3.*,>=5.3.0 in /usr/local/lib/python3.7/dist-packages (from torchvision->-r /content/replication-topic-modelling-in-embedding-space/requirements.txt (line 13)) (7.1.2)\n",
            "Requirement already satisfied: python-dateutil>=2.7.3 in /usr/local/lib/python3.7/dist-packages (from pandas->-r /content/replication-topic-modelling-in-embedding-space/requirements.txt (line 14)) (2.8.2)\n",
            "Requirement already satisfied: pytz>=2017.3 in /usr/local/lib/python3.7/dist-packages (from pandas->-r /content/replication-topic-modelling-in-embedding-space/requirements.txt (line 14)) (2022.1)\n",
            "Requirement already satisfied: zipp>=0.5 in /usr/local/lib/python3.7/dist-packages (from importlib-metadata->transformers->-r /content/replication-topic-modelling-in-embedding-space/requirements.txt (line 7)) (3.8.0)\n",
            "Requirement already satisfied: idna<3,>=2.5 in /usr/local/lib/python3.7/dist-packages (from requests->transformers->-r /content/replication-topic-modelling-in-embedding-space/requirements.txt (line 7)) (2.10)\n",
            "Requirement already satisfied: certifi>=2017.4.17 in /usr/local/lib/python3.7/dist-packages (from requests->transformers->-r /content/replication-topic-modelling-in-embedding-space/requirements.txt (line 7)) (2022.5.18.1)\n",
            "Requirement already satisfied: chardet<4,>=3.0.2 in /usr/local/lib/python3.7/dist-packages (from requests->transformers->-r /content/replication-topic-modelling-in-embedding-space/requirements.txt (line 7)) (3.0.4)\n",
            "Requirement already satisfied: urllib3!=1.25.0,!=1.25.1,<1.26,>=1.21.1 in /usr/local/lib/python3.7/dist-packages (from requests->transformers->-r /content/replication-topic-modelling-in-embedding-space/requirements.txt (line 7)) (1.24.3)\n",
            "Building wheels for collected packages: umap-learn, pynndescent\n",
            "  Building wheel for umap-learn (setup.py) ... \u001b[?25l\u001b[?25hdone\n",
            "  Created wheel for umap-learn: filename=umap_learn-0.5.3-py3-none-any.whl size=82829 sha256=6ce95f2dd3c9a755a144ad0892d993e2d130586c771e420fe7b8e9001bf9d6bf\n",
            "  Stored in directory: /root/.cache/pip/wheels/b3/52/a5/1fd9e3e76a7ab34f134c07469cd6f16e27ef3a37aeff1fe821\n",
            "  Building wheel for pynndescent (setup.py) ... \u001b[?25l\u001b[?25hdone\n",
            "  Created wheel for pynndescent: filename=pynndescent-0.5.7-py3-none-any.whl size=54286 sha256=58b51a31787d7621de51508a1a1e6435702588111cb3271feaed6e844f520db9\n",
            "  Stored in directory: /root/.cache/pip/wheels/7f/2a/f8/7bd5dcec71bd5c669f6f574db3113513696b98f3f9b51f496c\n",
            "Successfully built umap-learn pynndescent\n",
            "Installing collected packages: pyyaml, tokenizers, pynndescent, huggingface-hub, umap-learn, transformers, plotly, kaleido, gensim\n",
            "  Attempting uninstall: pyyaml\n",
            "    Found existing installation: PyYAML 3.13\n",
            "    Uninstalling PyYAML-3.13:\n",
            "      Successfully uninstalled PyYAML-3.13\n",
            "  Attempting uninstall: plotly\n",
            "    Found existing installation: plotly 5.5.0\n",
            "    Uninstalling plotly-5.5.0:\n",
            "      Successfully uninstalled plotly-5.5.0\n",
            "  Attempting uninstall: gensim\n",
            "    Found existing installation: gensim 3.6.0\n",
            "    Uninstalling gensim-3.6.0:\n",
            "      Successfully uninstalled gensim-3.6.0\n",
            "Successfully installed gensim-3.8.3 huggingface-hub-0.7.0 kaleido-0.2.1 plotly-5.7.0 pynndescent-0.5.7 pyyaml-5.4.1 tokenizers-0.12.1 transformers-4.19.2 umap-learn-0.5.3\n"
          ]
        }
      ],
      "source": [
        "# Falls die Packages noch nicht installiert wurden, \n",
        "!pip install -r \"/content/replication-topic-modelling-in-embedding-space/requirements.txt\""
      ]
    },
    {
      "cell_type": "markdown",
      "source": [
        "# **Struktur: 2 Versionen (Notebooks und Command-Lines)**\n",
        "\n",
        "In diesem Notebook kann man zwei Versionen durchführen:\n",
        "\n",
        "1.   durch command lines (LDA Command, ETM-Command, BERT-ETM Command)\n",
        "2.   Notebook für alle Schritten nach und nach durchführen\n",
        "3.   Wenn nur Notebook benutzen möchte, springen zum Teil Notebook\n",
        "\n",
        "# **Für Notebooks**\n",
        "Wenn jemand Notebooks benutzt, um alle Schritten anzuschauen, bitte überspringen den Teil, in den Command-Lines sich befinden\n",
        "\n"
      ],
      "metadata": {
        "id": "zG9IgKl-8ZCt"
      }
    },
    {
      "cell_type": "markdown",
      "source": [
        "# **Command-Teil**"
      ],
      "metadata": {
        "id": "m75VP2KT-llj"
      }
    },
    {
      "cell_type": "markdown",
      "metadata": {
        "id": "Prlxu1p07ypv"
      },
      "source": [
        "**LDA Command**\n",
        "1. batch-test-size: Testdataset wird zu kleineren Batches mit batch-size-test zerlegt und dann Perplexity berechnen.\n",
        "2. die *Endperplexity* ist der Durchschnitt von allen Batch-Perplexites"
      ]
    },
    {
      "cell_type": "code",
      "execution_count": null,
      "metadata": {
        "id": "IhugRMr87ypx",
        "outputId": "fc090d6d-af78-4876-85fe-8cca94246574"
      },
      "outputs": [
        {
          "name": "stdout",
          "output_type": "stream",
          "text": [
            "filter stopwords: True\n",
            "filter stopwords: True\n",
            "loading texts: ...\n",
            "From: lerxst@wam.umd.edu (where's my thing)\n",
            "Subject: WHAT car is this!?\n",
            "Nntp-Posting-Host: rac3.wam.umd.edu\n",
            "Organization: University of Maryland, College Park\n",
            "Lines: 15\n",
            "\n",
            " I was wondering if anyone out there could enlighten me on this car I saw\n",
            "the other day. It was a 2-door sports car, looked to be from the late 60s/\n",
            "early 70s. It was called a Bricklin. The doors were really small. In addition,\n",
            "the front bumper was separate from the rest of the body. This is \n",
            "all I know. If anyone can tellme a model name, engine specs, years\n",
            "of production, where this car is made, history, or whatever info you\n",
            "have on this funky looking car, please e-mail.\n",
            "\n",
            "Thanks,\n",
            "- IL\n",
            "   ---- brought to you by your neighborhood Lerxst ----\n",
            "\n",
            "\n",
            "\n",
            "\n",
            "\n",
            "train-size after loading: 11314\n",
            "test-size after loading: 7532\n",
            "finished load!\n",
            "start: preprocessing: ...\n",
            "preprocessing step: remove stopwords\n",
            "finised: preprocessing!\n",
            "vocab-size in df: 8496\n",
            "preprocessing remove stopwords from vocabulary\n",
            "start creating vocabulary ...\n",
            "length of the vocabulary: 8496\n",
            "length word2id list: 8496\n",
            "length id2word list: 8496\n",
            "finished: creating vocabulary\n",
            "save docs in txt...\n",
            "save docs finished\n",
            "train-size-after-all: 11214\n",
            "test-size-after-all: 7532\n",
            "validation-size-after-all: 100\n",
            "test-size-after-all: 11214\n",
            "test-indices-length: 11214\n",
            "test-size-after-all: 100\n",
            "test-indices-length: 100\n",
            "test-size-after-all: 7532\n",
            "test-indices-length: 7532\n",
            "length train-documents-indices : 1150368\n",
            "length of the vocabulary: 8496\n",
            "\n",
            "\n",
            "start: creating bow representation...\n",
            "finised creating bow input!\n",
            "\n",
            "start: creating bow representation...\n",
            "finised creating bow input!\n",
            "\n",
            "start: creating bow representation...\n",
            "finised creating bow input!\n",
            "\n",
            "start: creating bow representation...\n",
            "finised creating bow input!\n",
            "\n",
            "start: creating bow representation...\n",
            "finised creating bow input!\n",
            "\n",
            "compact representation for LDA\n",
            "save docs in txt...\n",
            "save docs finished\n",
            "run LDA training...\n"
          ]
        },
        {
          "name": "stderr",
          "output_type": "stream",
          "text": [
            "100%|██████████| 20/20 [00:00<00:00, 49402.87it/s]"
          ]
        },
        {
          "name": "stdout",
          "output_type": "stream",
          "text": [
            "number of topics: 20\n",
            "calculate perplexity:....\n"
          ]
        },
        {
          "name": "stderr",
          "output_type": "stream",
          "text": [
            "\n"
          ]
        },
        {
          "name": "stdout",
          "output_type": "stream",
          "text": [
            "test-docs: from 0 to 1000\n",
            "ppl of batch 1: 8.150738847141124\n",
            "test-docs: from 1000 to 2000\n",
            "ppl of batch 2: 8.148755636492822\n",
            "test-docs: from 2000 to 3000\n",
            "ppl of batch 3: 8.146552472151644\n",
            "test-docs: from 3000 to 4000\n",
            "ppl of batch 4: 8.133709139763923\n",
            "test-docs: from 4000 to 5000\n",
            "ppl of batch 5: 8.144285514676735\n",
            "test-docs: from 5000 to 6000\n",
            "ppl of batch 6: 8.1097638767229\n",
            "test-docs: from 6000 to 7000\n",
            "ppl of batch 7: 8.155350564571188\n",
            "test-docs: from 7000 to 7532\n",
            "ppl of batch 8: 8.170441779038889\n",
            "end perplexity - show perplexity: \n",
            "e-normalized-perplexity-lda: 0.40559086629001884\n",
            "calculate coherence and diversity\n",
            "topic coherence 0.17668937635583054\n",
            "topic diversity 0.754\n",
            "ending coherence and diversity\n"
          ]
        }
      ],
      "source": [
        "#run main_lda.py --filter-stopwords \"True\" --min-df 30 --epochs 20 --use-tensor True --batch-test-size 1000"
      ]
    },
    {
      "cell_type": "markdown",
      "source": [
        "**Skipgram-ETM**\n",
        "\n",
        "1. epochs\n",
        "2. wordvec-model: skipgram oder cbow\n",
        "3. min-df\n",
        "4. filter-stopwords: \"True\"/\"False\" as String\n",
        "5. activate-func: \"ReLU\" oder \"tanh\"\n",
        "6. hidden-size: \n",
        "7. optimizer-name: \"adam\" oder \"sgd\"\n",
        "8. learing rate: lr\n",
        "9. weight-decay wdecay"
      ],
      "metadata": {
        "id": "OLvB9vJJ87NG"
      }
    },
    {
      "cell_type": "code",
      "source": [
        "#run main.py --model \"ETM\" --epochs 150 --wordvec-model \"skipgram\" --loss-name \"cross-entropy\" --min-df 100 --num-topics 20 --filter-stopwords \"True\" --hidden-size 800 --activate-func \"ReLU\" --optimizer-name \"adam\" --lr 0.002 --wdecay 0.0000012"
      ],
      "metadata": {
        "id": "Xa6mtH6v86X3"
      },
      "execution_count": null,
      "outputs": []
    },
    {
      "cell_type": "markdown",
      "metadata": {
        "id": "SigAxda6IukM"
      },
      "source": [
        "**BERT-ETM Command**\n",
        "1. für Bert nur in dem Fall, dass Datensaz ohne Stopwörter ist das Durchführen möglich\n",
        "2. Experiment mit BERT: bitte herunterladen die Bert-Embedding-File **bert_vocab_embedding.txt** zuerst und packen in dem Ordner: **prepared_data/** (siehe READme)"
      ]
    },
    {
      "cell_type": "code",
      "execution_count": null,
      "metadata": {
        "colab": {
          "base_uri": "https://localhost:8080/"
        },
        "id": "AWvAYe4NG4qV",
        "outputId": "c6b822e6-ce30-44f8-bee6-d5beb0398e07"
      },
      "outputs": [
        {
          "name": "stdout",
          "output_type": "stream",
          "text": [
            "using cuda: False\n",
            "filter-stopwords: True\n",
            "----------------------------------------------------------------------------------------------------\n",
            "\n",
            "\n",
            "loading texts: ...\n",
            "From: lerxst@wam.umd.edu (where's my thing)\n",
            "Subject: WHAT car is this!?\n",
            "Nntp-Posting-Host: rac3.wam.umd.edu\n",
            "Organization: University of Maryland, College Park\n",
            "Lines: 15\n",
            "\n",
            " I was wondering if anyone out there could enlighten me on this car I saw\n",
            "the other day. It was a 2-door sports car, looked to be from the late 60s/\n",
            "early 70s. It was called a Bricklin. The doors were really small. In addition,\n",
            "the front bumper was separate from the rest of the body. This is \n",
            "all I know. If anyone can tellme a model name, engine specs, years\n",
            "of production, where this car is made, history, or whatever info you\n",
            "have on this funky looking car, please e-mail.\n",
            "\n",
            "Thanks,\n",
            "- IL\n",
            "   ---- brought to you by your neighborhood Lerxst ----\n",
            "\n",
            "\n",
            "\n",
            "\n",
            "\n",
            "train-size after loading: 11314\n",
            "test-size after loading: 7532\n",
            "finished load!\n",
            "start: preprocessing: ...\n",
            "preprocessing step: remove stopwords\n",
            "will use bert embedding, so delete words from not_in_bert_vocab.txt\n",
            "finised: preprocessing!\n",
            "\n",
            "total documents 18846\n",
            "vocab-size in df: 18637\n",
            "preprocessing remove stopwords from vocabulary\n",
            "start creating vocabulary ...\n",
            "length of the vocabulary: 18637\n",
            "length word2id list: 18637\n",
            "length id2word list: 18637\n",
            "finished: creating vocabulary\n",
            "\n",
            "\n",
            "save docs in txt...\n",
            "save docs finished\n",
            "train-size-after-all: 11214\n",
            "test-size-after-all: 7532\n",
            "validation-size-after-all: 100\n",
            "test-size-after-all: 11214\n",
            "test-indices-length: 11214\n",
            "test-size-after-all: 100\n",
            "test-indices-length: 100\n",
            "test-size-after-all: 7532\n",
            "test-indices-length: 7532\n",
            "length train-documents-indices : 1295140\n",
            "length of the vocabulary: 18637\n",
            "\n",
            "\n",
            "start: creating bow representation...\n",
            "finised creating bow input!\n",
            "\n",
            "start: creating bow representation...\n",
            "finised creating bow input!\n",
            "\n",
            "start: creating bow representation...\n",
            "finised creating bow input!\n",
            "\n",
            "start: creating bow representation...\n",
            "finised creating bow input!\n",
            "\n",
            "start: creating bow representation...\n",
            "finised creating bow input!\n",
            "\n",
            "train-bow-representation for ETM: \n",
            "\n",
            "example ids of dict-id2word for ETM: [0, 1, 2, 3, 4]\n",
            "example words of dict-id2word for ETM: ['bobbs', 'opposing', 'gm', 'xterminals', 'trim']\n",
            "Size of the vocabulary after prprocessing ist: 18637\n",
            "Size of train set: 11214\n",
            "Size of val set: 100\n",
            "Size of test set: 7532\n",
            "save docs in txt...\n",
            "save docs finished\n",
            "prepare data finished\n",
            "----------------------------------------------------------------------------------------------------\n",
            "word-embedding training begin\n",
            "using prepared_data/bert_vocab_embedding.txt\n",
            "bert-embeddings were already builded\n",
            "word-embedding finised\n",
            "----------------------------------------------------------------------------------------------------\n",
            "training parameter setting...\n",
            "using epochs: 2\n",
            "using optimizer: adam\n",
            "using learning rate: 0.002\n",
            "using wdecay: 1.2e-06\n",
            "total train docs: 11214\n",
            "sum of vector: 0.9999996423721313\n",
            "length of vector: 0.14386114478111267\n",
            "reading bert prefitted-embedding...\n",
            "prepared_data//bert_vocab_embedding.txt\n",
            "loading bert from npy and pkl\n"
          ]
        },
        {
          "name": "stderr",
          "output_type": "stream",
          "text": [
            "iter over bert-vocab:   0%|          | 84/104008 [00:00<02:04, 837.68it/s]"
          ]
        },
        {
          "name": "stdout",
          "output_type": "stream",
          "text": [
            "bert-reading finished\n",
            "update bert by given vocab\n"
          ]
        },
        {
          "name": "stderr",
          "output_type": "stream",
          "text": [
            "iter over bert-vocab: 100%|██████████| 104008/104008 [01:27<00:00, 1185.24it/s]\n"
          ]
        },
        {
          "name": "stdout",
          "output_type": "stream",
          "text": [
            "example 5 element of word-vector: [-0.29880613 -2.86340356 -0.14214839 -1.84090602  3.61773515]\n",
            "ETM initilize...\n",
            "--------------------------------------------------MODEL-SUMMARY--------------------------------------------------\n",
            "ETM(\n",
            "  (theta_act): ReLU()\n",
            "  (topic_embeddings_alphas): Linear(in_features=768, out_features=20, bias=False)\n",
            "  (q_theta): Sequential(\n",
            "    (0): Linear(in_features=18637, out_features=800, bias=True)\n",
            "    (1): ReLU()\n",
            "    (2): Linear(in_features=800, out_features=800, bias=True)\n",
            "    (3): ReLU()\n",
            "  )\n",
            "  (mu_q_theta): Linear(in_features=800, out_features=20, bias=True)\n",
            "  (logsigma_q_theta): Linear(in_features=800, out_features=20, bias=True)\n",
            ")\n",
            "--------------------------------------------------TRAIN--------------------------------------------------\n",
            "number of batches: 12\n",
            "Epoch: 1/2  -  Loss: 1097.84509 \t Rec: 1097.45032 \t KL: 0.39488\n",
            "Epoch: 2/2  -  Loss: 1036.34802 \t Rec: 1035.17322 \t KL: 1.17482\n",
            "Checkpoint saved at checkpoints/etm_epoch_2.pth.tar\n"
          ]
        },
        {
          "data": {
            "text/plain": [
              "<Figure size 640x480 with 1 Axes>"
            ]
          },
          "metadata": {},
          "output_type": "display_data"
        },
        {
          "data": {
            "text/plain": [
              "<Figure size 640x480 with 1 Axes>"
            ]
          },
          "metadata": {},
          "output_type": "display_data"
        },
        {
          "name": "stderr",
          "output_type": "stream",
          "text": [
            "100%|██████████| 20/20 [00:00<00:00, 138425.87it/s]\n"
          ]
        },
        {
          "name": "stdout",
          "output_type": "stream",
          "text": [
            "topic-coherrence: 0.09996242525380584\n",
            "topic-diversity: 0.508\n",
            "calculate perplexitiy of test dataset: ...\n",
            "test-1-loader: 7\n",
            "test-2-loader: 7\n",
            "batch 0 finished\n",
            "batch 1 finished\n",
            "batch 2 finished\n",
            "batch 3 finished\n",
            "batch 4 finished\n",
            "batch 5 finished\n",
            "batch 6 finished\n",
            "topic-normalized-perplexity: 0.5014701937007029\n"
          ]
        }
      ],
      "source": [
        "#run main.py --model \"ETM\" --epochs 2 --wordvec-model \"bert\" --loss-name \"cross-entropy\" --min-df 10 --num-topics 20 --filter-stopwords \"True\" --hidden-size 800 --activate-func \"ReLU\" --optimizer-name \"adam\" --lr 0.002 --wdecay 0.0000012"
      ]
    },
    {
      "cell_type": "markdown",
      "metadata": {
        "id": "OLOQvlYY3rTH"
      },
      "source": [
        "# **Notebooks für alle Schritten: LDA und ETM**\n",
        "\n",
        "1. Da der Umfang der Implementierung ziemlich große ist, wird die Implementierung für unterschiedliche Komponenten in dem Ordner `src` gespeichert [hier:](https://github.com/hanhluukim/replication-topic-modelling-in-embedding-space/tree/main/src)\n",
        "\n",
        "2. Die gebrachten Komponenten werden in diesem Notebook dann importieren und die Ausgaben werden angezeigt.\n",
        "\n"
      ]
    },
    {
      "cell_type": "markdown",
      "metadata": {
        "id": "k7xiPgja8eZe"
      },
      "source": [
        "# **Gebrauchte Paketen importieren**"
      ]
    },
    {
      "cell_type": "code",
      "execution_count": null,
      "metadata": {
        "colab": {
          "base_uri": "https://localhost:8080/"
        },
        "id": "uV7KZhGq1P7g",
        "outputId": "587d1573-a329-45ad-b74f-ec1c6390a076"
      },
      "outputs": [
        {
          "output_type": "stream",
          "name": "stderr",
          "text": [
            "/usr/local/lib/python3.7/dist-packages/distributed/config.py:20: YAMLLoadWarning: calling yaml.load() without Loader=... is deprecated, as the default Loader is unsafe. Please read https://msg.pyyaml.org/load for full details.\n",
            "  defaults = yaml.load(f)\n"
          ]
        }
      ],
      "source": [
        "# einige Paketten wurden für Visualisierung gebraucht\n",
        "import pandas as pd\n",
        "from pathlib import Path\n",
        "import matplotlib.pyplot as plt\n",
        "%matplotlib inline\n",
        "import umap.umap_ as umap\n",
        "import time\n",
        "import plotly.express as px\n",
        "from sklearn import cluster\n",
        "from sklearn import metrics"
      ]
    },
    {
      "cell_type": "markdown",
      "metadata": {
        "id": "QzWqQhPQdJWV"
      },
      "source": [
        "# **Vorverarbeitung und BOW-Repräsentationen für Textdaten durchführen**\n",
        "1. Vocabular erstellen\n",
        "2. BOW-Repräsentationen für allen Teildatensätzen\n",
        "3. Wichtige Parameters sind:\n",
        "\n",
        "\n",
        "*   stopwords_filter = True/False\n",
        "*   use_bert_embedding = True/False\n",
        "*   min_df für unterschiedliche Vocabulargröße\n",
        "*   stopwords_remove_from_vocab = True/False\n",
        "\n",
        "\n"
      ]
    },
    {
      "cell_type": "code",
      "execution_count": null,
      "metadata": {
        "id": "d293L9vy-rOl"
      },
      "outputs": [],
      "source": [
        "use_bert_embedding = False #in this notebook we do not use BERT-Embeddings\n",
        "stopwords_filter = True"
      ]
    },
    {
      "cell_type": "code",
      "execution_count": null,
      "metadata": {
        "colab": {
          "base_uri": "https://localhost:8080/"
        },
        "id": "cy0PpjxEpbrR",
        "outputId": "ac4ff474-0709-4fb2-ed10-05afd4acf776"
      },
      "outputs": [
        {
          "output_type": "stream",
          "name": "stdout",
          "text": [
            "loading texts: ...\n",
            "From: lerxst@wam.umd.edu (where's my thing)\n",
            "Subject: WHAT car is this!?\n",
            "Nntp-Posting-Host: rac3.wam.umd.edu\n",
            "Organization: University of Maryland, College Park\n",
            "Lines: 15\n",
            "\n",
            " I was wondering if anyone out there could enlighten me on this car I saw\n",
            "the other day. It was a 2-door sports car, looked to be from the late 60s/\n",
            "early 70s. It was called a Bricklin. The doors were really small. In addition,\n",
            "the front bumper was separate from the rest of the body. This is \n",
            "all I know. If anyone can tellme a model name, engine specs, years\n",
            "of production, where this car is made, history, or whatever info you\n",
            "have on this funky looking car, please e-mail.\n",
            "\n",
            "Thanks,\n",
            "- IL\n",
            "   ---- brought to you by your neighborhood Lerxst ----\n",
            "\n",
            "\n",
            "\n",
            "\n",
            "\n",
            "train-size after loading: 11314\n",
            "test-size after loading: 7532\n",
            "finished load!\n",
            "check some sample texts of the dataset after filter punctuation and digits\n",
            "['From', ':', 'lerxst', '@', 'wam', '.', 'umd', '.', 'edu', '(', \"where's\", 'my', 'thing', ')', 'Subject', ':', 'WHAT', 'car', 'is', 'this', '!', '?', 'Nntp', 'Posting', 'Host', ':', 'rac3', '.', 'wam', '.', 'umd', '.', 'edu', 'Organization', ':', 'University', 'of', 'Maryland', ',', 'College', 'Park', 'Lines', ':', '15', 'I', 'was', 'wondering', 'if', 'anyone', 'out', 'there', 'could', 'enlighten', 'me', 'on', 'this', 'car', 'I', 'saw', 'the', 'other', 'day', '.', 'It', 'was', 'a', '2', 'door', 'sports', 'car', ',', 'looked', 'to', 'be', 'from', 'the', 'late', '60s', '/', 'early', '70s', '.', 'It', 'was', 'called', 'a', 'Bricklin', '.', 'The', 'doors', 'were', 'really', 'small', '.', 'In', 'addition', ',', 'the', 'front', 'bumper', 'was', 'separate', 'from', 'the', 'rest', 'of', 'the', 'body', '.', 'This', 'is', 'all', 'I', 'know', '.', 'If', 'anyone', 'can', 'tellme', 'a', 'model', 'name', ',', 'engine', 'specs', ',', 'years', 'of', 'production', ',', 'where', 'this', 'car', 'is', 'made', ',', 'history', ',', 'or', 'whatever', 'info', 'you', 'have', 'on', 'this', 'funky', 'looking', 'car', ',', 'please', 'e', 'mail', '.', 'Thanks', ',', 'IL', 'brought', 'to', 'you', 'by', 'your', 'neighborhood', 'Lerxst']\n",
            "====================================================================================================\n",
            "['From', ':', 'guykuo', '@', 'carson', '.', 'u', '.', 'washington', '.', 'edu', '(', 'Guy', 'Kuo', ')', 'Subject', ':', 'SI', 'Clock', 'Poll', 'Final', 'Call', 'Summary', ':', 'Final', 'call', 'for', 'SI', 'clock', 'reports', 'Keywords', ':', 'SI', ',', 'acceleration', ',', 'clock', ',', 'upgrade', 'Article', 'I', '.', 'D', '.', ':', 'shelley', '.', '1qvfo9INNc3s', 'Organization', ':', 'University', 'of', 'Washington', 'Lines', ':', '11', 'NNTP', 'Posting', 'Host', ':', 'carson', '.', 'u', '.', 'washington', '.', 'edu', 'A', 'fair', 'number', 'of', 'brave', 'souls', 'who', 'upgraded', 'their', 'SI', 'clock', 'oscillator', 'have', 'shared', 'their', 'experiences', 'for', 'this', 'poll', '.', 'Please', 'send', 'a', 'brief', 'message', 'detailing', 'your', 'experiences', 'with', 'the', 'procedure', '.', 'Top', 'speed', 'attained', ',', 'CPU', 'rated', 'speed', ',', 'add', 'on', 'cards', 'and', 'adapters', ',', 'heat', 'sinks', ',', 'hour', 'of', 'usage', 'per', 'day', ',', 'floppy', 'disk', 'functionality', 'with', '800', 'and', '1', '.', '4', 'm', 'floppies', 'are', 'especially', 'requested', '.', 'I', 'will', 'be', 'summarizing', 'in', 'the', 'next', 'two', 'days', ',', 'so', 'please', 'add', 'to', 'the', 'network', 'knowledge', 'base', 'if', 'you', 'have', 'done', 'the', 'clock', 'upgrade', 'and', \"haven't\", 'answered', 'this', 'poll', '.', 'Thanks', '.', 'Guy', 'Kuo', '<', 'guykuo', '@', 'u', '.', 'washington', '.', 'edu', '>']\n",
            "====================================================================================================\n",
            "start: preprocessing: ...\n",
            "preprocessing step: remove stopwords\n",
            "finised: preprocessing!\n",
            "vocab-size in df: 3102\n",
            "preprocessing remove stopwords from vocabulary\n",
            "start creating vocabulary ...\n",
            "length of the vocabulary: 3102\n",
            "length word2id list: 3102\n",
            "length id2word list: 3102\n",
            "finished: creating vocabulary\n"
          ]
        }
      ],
      "source": [
        "# init TextDataLoader für die Datenquelle 20 News Groups\n",
        "# Daten abrufen vom Sklearn, tokenisieren und besondere Charaktern entfernen\n",
        "from src.prepare_dataset import TextDataLoader\n",
        "textsloader = TextDataLoader(source=\"20newsgroups\", train_size=None, test_size=None)\n",
        "textsloader.load_tokenize_texts(\"20newsgroups\")\n",
        "textsloader.show_example_raw_texts(n_docs=2)\n",
        "# Vorverarbeitung von Daten mit folgenden Schritten:\n",
        "textsloader.preprocess_texts(length_one_remove=True, \n",
        "                             punctuation_lower = True, \n",
        "                             stopwords_filter = stopwords_filter,\n",
        "                             use_bert_embedding = use_bert_embedding)\n",
        "# Daten zerlegen für Train, Test und Validation. Erstellen Vocabular aus dem Trainset\n",
        "\n",
        "min_df=100\n",
        "textsloader.split_and_create_voca_from_trainset(max_df=0.7, \n",
        "                                                min_df=min_df, \n",
        "                                                stopwords_remove_from_voca=stopwords_filter)"
      ]
    },
    {
      "cell_type": "markdown",
      "metadata": {
        "id": "YJ_A7LCsrQNO"
      },
      "source": [
        "# **LDA Model**\n",
        "\n",
        "1. Benutzen das fertige Paket von Gensim, um die Topics mit LDA zu finden: [LDA Model GENSIM](https://radimrehurek.com/gensim/models/ldamodel.html)\n",
        "2. Der Klasse textsloader hat bereits die geeignete Format für LDA vorbereitet:\n",
        "* Setzen das Parameter: for_lda_model = True"
      ]
    },
    {
      "cell_type": "code",
      "execution_count": null,
      "metadata": {
        "colab": {
          "base_uri": "https://localhost:8080/"
        },
        "id": "etzyjh_nqi19",
        "outputId": "14417b0d-0675-4563-cde3-bc564bf0aff1",
        "scrolled": true
      },
      "outputs": [
        {
          "output_type": "stream",
          "name": "stdout",
          "text": [
            "save docs in txt...\n",
            "save docs finished\n",
            "train-size-after-all: 11214\n",
            "test-size-after-all: 7532\n",
            "validation-size-after-all: 100\n",
            "test-size-after-all: 11214\n",
            "test-indices-length: 11214\n",
            "test-size-after-all: 100\n",
            "test-indices-length: 100\n",
            "test-size-after-all: 7532\n",
            "test-indices-length: 7532\n",
            "length train-documents-indices : 896087\n",
            "length of the vocabulary: 3102\n",
            "\n",
            "\n",
            "start: creating bow representation...\n",
            "finised creating bow input!\n",
            "\n",
            "start: creating bow representation...\n",
            "finised creating bow input!\n",
            "\n",
            "start: creating bow representation...\n",
            "finised creating bow input!\n",
            "\n",
            "start: creating bow representation...\n",
            "finised creating bow input!\n",
            "\n",
            "start: creating bow representation...\n",
            "finised creating bow input!\n",
            "\n",
            "compact representation for LDA\n",
            "save docs in txt...\n",
            "save docs finished\n",
            "----------------------------------------------------------------------------------------------------\n"
          ]
        }
      ],
      "source": [
        "from src.evaluierung import topicCoherence2, topicDiversity\n",
        "from src.lda import lda\n",
        "from gensim.models import LdaModel\n",
        "from gensim.parsing.preprocessing import preprocess_string, strip_punctuation, strip_numeric\n",
        "\n",
        "\n",
        "for_lda_model = True \n",
        "num_topics = 20\n",
        "\n",
        "# Erstellen BOW-Repräsentation für LDA Model\n",
        "if for_lda_model == True:\n",
        "    word2id, id2word, train_set, test_set, val_set, test_set_h1, test_set_h2 = textsloader.create_bow_and_savebow_for_each_set(for_lda_model=for_lda_model)\n",
        "    gensim_corpus_train_set = train_set\n",
        "else:\n",
        "    print('for_lda_model is True but still here?')\n",
        "    word2id, id2word, train_set, test_set, val_set = textsloader.create_bow_and_savebow_for_each_set(for_lda_model=for_lda_model)\n",
        "\n",
        "docs_tr, docs_t, docs_v = textsloader.get_docs_in_words_for_each_set()\n",
        "#lda model\n",
        "print(100*\"-\")"
      ]
    },
    {
      "cell_type": "code",
      "execution_count": null,
      "metadata": {
        "id": "cXNQ1swC7yp7"
      },
      "outputs": [],
      "source": [
        "#ldamodel = lda(train_set,10,id2word)\n",
        "ldamodel = LdaModel(train_set, \n",
        "                    num_topics= num_topics,\n",
        "                    id2word = id2word, \n",
        "                    passes = 5,\n",
        "                    random_state = 42)"
      ]
    },
    {
      "cell_type": "code",
      "execution_count": null,
      "metadata": {
        "id": "lzg8IKAW7yp8",
        "outputId": "6086366a-7027-48af-d08f-b5d08f8a8778",
        "colab": {
          "base_uri": "https://localhost:8080/"
        }
      },
      "outputs": [
        {
          "output_type": "stream",
          "name": "stdout",
          "text": [
            "['windows', 'file', 'dos', 'graphics', 'software', 'pc', 'system', 'files', 'ftp', 'program']\n",
            "['god', 'people', 'jesus', 'christian', 'bible', 'life', 'church', 'christ', 'christians', 'time']\n",
            "['writes', 'article', 'cs', 'university', 'colorado', 'posting', 'cc', 'nntp', 'host', 'science']\n",
            "['ca', 'uk', 'ac', 'writes', 'article', 'org', 'posting', 'nntp', 'host', 'mit']\n",
            "['drive', 'sale', 'scsi', 'disk', 'hp', 'hard', 'drives', 'system', 'ide', 'computer']\n",
            "['window', 'information', 'data', 'application', 'source', 'time', 'widget', 'set', 'include', 'list']\n",
            "['brian', 'indiana', 'gatech', 'apple', 'article', 'ucs', 'writes', 'georgia', 'sandvik', 'kent']\n",
            "['university', 'posting', 'host', 'nntp', 'de', 'au', 'computer', 'writes', 'article', 'distribution']\n",
            "['money', 'people', 'time', 'car', 'make', 'pay', 'work', 'year', 'list', 'good']\n",
            "['power', 'state', 'ohio', 'back', 'acs', 'time', 'ground', 'home', 'work', 'left']\n",
            "['andrew', 'cmu', 'washington', 'att', 'posting', 'ibm', 'host', 'nntp', 'san', 'la']\n",
            "['israel', 'jews', 'armenians', 'armenian', 'people', 'war', 'turkish', 'jewish', 'israeli', 'world']\n",
            "['writes', 'article', 'posting', 'nntp', 'host', 'university', 'bike', 'sun', 'world', 'distribution']\n",
            "['people', 'mr', 'writes', 'fire', 'president', 'fbi', 'time', 'article', 'police', 'koresh']\n",
            "['space', 'nasa', 'gov', 'access', 'mil', 'digex', 'net', 'shuttle', 'launch', 'pat']\n",
            "['max', 'car', 'cwru', 'writes', 'cleveland', 'caltech', 'article', 'posting', 'se', 'nntp']\n",
            "['medical', 'information', 'research', 'health', 'disease', 'national', 'april', 'school', 'number', 'cancer']\n",
            "['people', 'article', 'gun', 'law', 'writes', 'government', 'rights', 'guns', 'control', 'make']\n",
            "['game', 'team', 'year', 'games', 'writes', 'uiuc', 'hockey', 'season', 'university', 'article']\n",
            "['key', 'netcom', 'chip', 'clipper', 'encryption', 'keys', 'public', 'des', 'government', 'security']\n"
          ]
        }
      ],
      "source": [
        "lda_topics = ldamodel.show_topics(num_topics = 20, num_words=10)\n",
        "topics = []\n",
        "filters = [lambda x: x.lower(), strip_punctuation, strip_numeric]\n",
        "for topic in lda_topics:\n",
        "    topics.append(preprocess_string(topic[1], filters))\n",
        "for topic in topics:\n",
        "  print(topic)"
      ]
    },
    {
      "cell_type": "code",
      "execution_count": null,
      "metadata": {
        "colab": {
          "base_uri": "https://localhost:8080/"
        },
        "id": "NGW1D4k2TaPs",
        "outputId": "3d3ba99f-5929-4fc1-fd61-266cb6f5f5e3"
      },
      "outputs": [
        {
          "output_type": "stream",
          "name": "stdout",
          "text": [
            "topic-coherrence: 0.18777587945253085\n",
            "topic-diversity: 0.74\n"
          ]
        }
      ],
      "source": [
        "tc = topicCoherence2(topics,len(topics),docs_tr,len(docs_tr))\n",
        "td = topicDiversity(topics)\n",
        "print(f'topic-coherrence: {tc}')\n",
        "print(f'topic-diversity: {td}')"
      ]
    },
    {
      "cell_type": "markdown",
      "metadata": {
        "id": "iQhoV_T37yp9"
      },
      "source": [
        "**Perplexity for LDA**"
      ]
    },
    {
      "cell_type": "code",
      "execution_count": null,
      "metadata": {
        "id": "1IKuVVz57yp9"
      },
      "outputs": [],
      "source": [
        "from src.evaluierung import topicPerplexityTeil1, topicPerplexityNew\n",
        "from src.utils_perplexity import get_theta_from_lda, get_beta_from_lda\n",
        "import gensim\n",
        "vocab = list(id2word.values())\n",
        "vocab_size=len(vocab)\n",
        "# get beta and theta\n",
        "beta_KV = get_beta_from_lda(ldamodel, num_topics, vocab, vocab_size)\n",
        "theta_test_1_DK = get_theta_from_lda(ldamodel, num_topics, test_set_h1)\n",
        "n_test_docs_2 = len(test_set_h2)\n",
        "test_set_h2_in_bow_sparse_matrix = gensim.matutils.corpus2csc(test_set_h2).transpose()"
      ]
    },
    {
      "cell_type": "code",
      "execution_count": null,
      "metadata": {
        "id": "GjdhNSiK7yp-",
        "outputId": "722f7f0e-317a-43ee-b23d-7d214127c6c2",
        "colab": {
          "base_uri": "https://localhost:8080/"
        }
      },
      "outputs": [
        {
          "output_type": "stream",
          "name": "stdout",
          "text": [
            "ppl of batch 1: 7.4626675565497775\n",
            "ppl of batch 2: 7.459199193874847\n",
            "ppl of batch 3: 7.4777010005196125\n",
            "ppl of batch 4: 7.472666592536151\n",
            "ppl of batch 5: 7.489781073904341\n",
            "ppl of batch 6: 7.457684657228188\n",
            "ppl of batch 7: 7.48213299047086\n",
            "ppl of batch 8: 7.471542143482913\n",
            "end perplexity - show perplexity: \n",
            "e-normalized-perplexity-lda: 0.5665699548678272\n"
          ]
        }
      ],
      "source": [
        "#covert to tensor\n",
        "import math\n",
        "import torch\n",
        "import numpy as np\n",
        "\n",
        "ppl_over_batches = []\n",
        "batch_test_size = 1000\n",
        "beta_KV = torch.from_numpy(np.array(beta_KV))\n",
        "i = 0\n",
        "j = 0\n",
        "while i <= n_test_docs_2:\n",
        "    if (i+batch_test_size) <= n_test_docs_2:\n",
        "        theta_test_1_batch = torch.tensor(theta_test_1_DK[i:i+batch_test_size])\n",
        "        bows_test_2_batch = torch.from_numpy(test_set_h2_in_bow_sparse_matrix[i:i+batch_test_size].toarray())\n",
        "    else:\n",
        "       \n",
        "        theta_test_1_batch = torch.tensor(theta_test_1_DK[i:])\n",
        "        bows_test_2_batch = torch.from_numpy(test_set_h2_in_bow_sparse_matrix[i:].toarray())\n",
        "\n",
        "    avg_ppl = topicPerplexityNew(theta_test_1_batch, bows_test_2_batch, vocab_size, beta_KV)\n",
        "    print(f'ppl of batch {j+1}: {avg_ppl}')\n",
        "    ppl_over_batches.append(avg_ppl)\n",
        "    i = i + batch_test_size\n",
        "    j += 1\n",
        "avg_over_batches = (sum(ppl_over_batches)/len(ppl_over_batches))\n",
        "ppl_total = round(math.exp(avg_over_batches),1)\n",
        "normalized_ppl = ppl_total/vocab_size\n",
        "\n",
        "print(f'end perplexity - show perplexity: ')\n",
        "print(f'e-normalized-perplexity-lda: {normalized_ppl}')\n",
        "ldamodel.clear()"
      ]
    },
    {
      "cell_type": "code",
      "execution_count": null,
      "metadata": {
        "id": "L2roLSQI7yp-"
      },
      "outputs": [],
      "source": [
        "del test_set_h2\n",
        "del test_set_h1\n",
        "del test_set_h2_in_bow_sparse_matrix\n",
        "del theta_test_1_DK\n",
        "del beta_KV\n",
        "del ppl_over_batches\n",
        "del batch_test_size"
      ]
    },
    {
      "cell_type": "markdown",
      "source": [
        "# **Alle Schritten im Experiment mit dem ETM-Modell**"
      ],
      "metadata": {
        "id": "0q8Nr1P6-9rI"
      }
    },
    {
      "cell_type": "markdown",
      "metadata": {
        "id": "_e4-RQrsw1Ct"
      },
      "source": [
        "# **Daten für ETM**\n",
        "\n",
        "\n",
        "\n",
        "1.   Input Daten für der ersten Teil ETM ist (normalisierte)Bag-Of-Words-Repräsentation\n",
        "\n",
        "    *   for_lda_model = False\n",
        "\n",
        "2.   textsloader.create_bow_and_savebow_for_each_set(for_lda_model=True) stellt die folgenden Daten für das Modell:\n",
        "\n",
        "    *   word2id\n",
        "    *   id2word\n",
        "    *   train_set, test_set, val_set in der Form von BoW"
      ]
    },
    {
      "cell_type": "code",
      "execution_count": null,
      "metadata": {
        "colab": {
          "base_uri": "https://localhost:8080/"
        },
        "id": "SJPDsdmMqbmf",
        "outputId": "ce3f9d98-ba3c-4813-fe2d-fa0dd1f969f7"
      },
      "outputs": [
        {
          "output_type": "stream",
          "name": "stdout",
          "text": [
            "save docs in txt...\n",
            "save docs finished\n",
            "train-size-after-all: 11214\n",
            "test-size-after-all: 7532\n",
            "validation-size-after-all: 100\n",
            "test-size-after-all: 11214\n",
            "test-indices-length: 11214\n",
            "test-size-after-all: 100\n",
            "test-indices-length: 100\n",
            "test-size-after-all: 7532\n",
            "test-indices-length: 7532\n",
            "length train-documents-indices : 896087\n",
            "length of the vocabulary: 3102\n",
            "\n",
            "\n",
            "start: creating bow representation...\n",
            "finised creating bow input!\n",
            "\n",
            "start: creating bow representation...\n",
            "finised creating bow input!\n",
            "\n",
            "start: creating bow representation...\n",
            "finised creating bow input!\n",
            "\n",
            "start: creating bow representation...\n",
            "finised creating bow input!\n",
            "\n",
            "start: creating bow representation...\n",
            "finised creating bow input!\n",
            "\n"
          ]
        }
      ],
      "source": [
        "# Erstellen BOW-Repräsentation für ETM Modell\n",
        "for_lda_model = False\n",
        "word2id, id2word, train_set, test_set, val_set = textsloader.create_bow_and_savebow_for_each_set(for_lda_model=for_lda_model)"
      ]
    },
    {
      "cell_type": "markdown",
      "metadata": {
        "id": "r-DXUMguC8zM"
      },
      "source": [
        "**Vocabular und IDs anzeigen als Beispiel**\n",
        "\n",
        "---\n",
        "\n",
        "\n",
        "\n"
      ]
    },
    {
      "cell_type": "code",
      "execution_count": null,
      "metadata": {
        "colab": {
          "base_uri": "https://localhost:8080/",
          "height": 677
        },
        "id": "6RBJYhLHCfwy",
        "outputId": "fcbb3e0e-c1dc-41fc-e75e-1878bb7c200a"
      },
      "outputs": [
        {
          "output_type": "execute_result",
          "data": {
            "text/plain": [
              "           word  id\n",
              "0       totally   0\n",
              "1           top   1\n",
              "2         claim   2\n",
              "3       helping   3\n",
              "4        purdue   4\n",
              "5       conduct   5\n",
              "6       implies   6\n",
              "7     solutions   7\n",
              "8        affect   8\n",
              "9         multi   9\n",
              "10  authorities  10\n",
              "11       france  11\n",
              "12       joseph  12\n",
              "13        chris  13\n",
              "14        roads  14\n",
              "15        newer  15\n",
              "16     supports  16\n",
              "17           mr  17\n",
              "18     position  18\n",
              "19    macintosh  19"
            ],
            "text/html": [
              "\n",
              "  <div id=\"df-d70d706b-b06d-44fd-a7fb-4c5235c139de\">\n",
              "    <div class=\"colab-df-container\">\n",
              "      <div>\n",
              "<style scoped>\n",
              "    .dataframe tbody tr th:only-of-type {\n",
              "        vertical-align: middle;\n",
              "    }\n",
              "\n",
              "    .dataframe tbody tr th {\n",
              "        vertical-align: top;\n",
              "    }\n",
              "\n",
              "    .dataframe thead th {\n",
              "        text-align: right;\n",
              "    }\n",
              "</style>\n",
              "<table border=\"1\" class=\"dataframe\">\n",
              "  <thead>\n",
              "    <tr style=\"text-align: right;\">\n",
              "      <th></th>\n",
              "      <th>word</th>\n",
              "      <th>id</th>\n",
              "    </tr>\n",
              "  </thead>\n",
              "  <tbody>\n",
              "    <tr>\n",
              "      <th>0</th>\n",
              "      <td>totally</td>\n",
              "      <td>0</td>\n",
              "    </tr>\n",
              "    <tr>\n",
              "      <th>1</th>\n",
              "      <td>top</td>\n",
              "      <td>1</td>\n",
              "    </tr>\n",
              "    <tr>\n",
              "      <th>2</th>\n",
              "      <td>claim</td>\n",
              "      <td>2</td>\n",
              "    </tr>\n",
              "    <tr>\n",
              "      <th>3</th>\n",
              "      <td>helping</td>\n",
              "      <td>3</td>\n",
              "    </tr>\n",
              "    <tr>\n",
              "      <th>4</th>\n",
              "      <td>purdue</td>\n",
              "      <td>4</td>\n",
              "    </tr>\n",
              "    <tr>\n",
              "      <th>5</th>\n",
              "      <td>conduct</td>\n",
              "      <td>5</td>\n",
              "    </tr>\n",
              "    <tr>\n",
              "      <th>6</th>\n",
              "      <td>implies</td>\n",
              "      <td>6</td>\n",
              "    </tr>\n",
              "    <tr>\n",
              "      <th>7</th>\n",
              "      <td>solutions</td>\n",
              "      <td>7</td>\n",
              "    </tr>\n",
              "    <tr>\n",
              "      <th>8</th>\n",
              "      <td>affect</td>\n",
              "      <td>8</td>\n",
              "    </tr>\n",
              "    <tr>\n",
              "      <th>9</th>\n",
              "      <td>multi</td>\n",
              "      <td>9</td>\n",
              "    </tr>\n",
              "    <tr>\n",
              "      <th>10</th>\n",
              "      <td>authorities</td>\n",
              "      <td>10</td>\n",
              "    </tr>\n",
              "    <tr>\n",
              "      <th>11</th>\n",
              "      <td>france</td>\n",
              "      <td>11</td>\n",
              "    </tr>\n",
              "    <tr>\n",
              "      <th>12</th>\n",
              "      <td>joseph</td>\n",
              "      <td>12</td>\n",
              "    </tr>\n",
              "    <tr>\n",
              "      <th>13</th>\n",
              "      <td>chris</td>\n",
              "      <td>13</td>\n",
              "    </tr>\n",
              "    <tr>\n",
              "      <th>14</th>\n",
              "      <td>roads</td>\n",
              "      <td>14</td>\n",
              "    </tr>\n",
              "    <tr>\n",
              "      <th>15</th>\n",
              "      <td>newer</td>\n",
              "      <td>15</td>\n",
              "    </tr>\n",
              "    <tr>\n",
              "      <th>16</th>\n",
              "      <td>supports</td>\n",
              "      <td>16</td>\n",
              "    </tr>\n",
              "    <tr>\n",
              "      <th>17</th>\n",
              "      <td>mr</td>\n",
              "      <td>17</td>\n",
              "    </tr>\n",
              "    <tr>\n",
              "      <th>18</th>\n",
              "      <td>position</td>\n",
              "      <td>18</td>\n",
              "    </tr>\n",
              "    <tr>\n",
              "      <th>19</th>\n",
              "      <td>macintosh</td>\n",
              "      <td>19</td>\n",
              "    </tr>\n",
              "  </tbody>\n",
              "</table>\n",
              "</div>\n",
              "      <button class=\"colab-df-convert\" onclick=\"convertToInteractive('df-d70d706b-b06d-44fd-a7fb-4c5235c139de')\"\n",
              "              title=\"Convert this dataframe to an interactive table.\"\n",
              "              style=\"display:none;\">\n",
              "        \n",
              "  <svg xmlns=\"http://www.w3.org/2000/svg\" height=\"24px\"viewBox=\"0 0 24 24\"\n",
              "       width=\"24px\">\n",
              "    <path d=\"M0 0h24v24H0V0z\" fill=\"none\"/>\n",
              "    <path d=\"M18.56 5.44l.94 2.06.94-2.06 2.06-.94-2.06-.94-.94-2.06-.94 2.06-2.06.94zm-11 1L8.5 8.5l.94-2.06 2.06-.94-2.06-.94L8.5 2.5l-.94 2.06-2.06.94zm10 10l.94 2.06.94-2.06 2.06-.94-2.06-.94-.94-2.06-.94 2.06-2.06.94z\"/><path d=\"M17.41 7.96l-1.37-1.37c-.4-.4-.92-.59-1.43-.59-.52 0-1.04.2-1.43.59L10.3 9.45l-7.72 7.72c-.78.78-.78 2.05 0 2.83L4 21.41c.39.39.9.59 1.41.59.51 0 1.02-.2 1.41-.59l7.78-7.78 2.81-2.81c.8-.78.8-2.07 0-2.86zM5.41 20L4 18.59l7.72-7.72 1.47 1.35L5.41 20z\"/>\n",
              "  </svg>\n",
              "      </button>\n",
              "      \n",
              "  <style>\n",
              "    .colab-df-container {\n",
              "      display:flex;\n",
              "      flex-wrap:wrap;\n",
              "      gap: 12px;\n",
              "    }\n",
              "\n",
              "    .colab-df-convert {\n",
              "      background-color: #E8F0FE;\n",
              "      border: none;\n",
              "      border-radius: 50%;\n",
              "      cursor: pointer;\n",
              "      display: none;\n",
              "      fill: #1967D2;\n",
              "      height: 32px;\n",
              "      padding: 0 0 0 0;\n",
              "      width: 32px;\n",
              "    }\n",
              "\n",
              "    .colab-df-convert:hover {\n",
              "      background-color: #E2EBFA;\n",
              "      box-shadow: 0px 1px 2px rgba(60, 64, 67, 0.3), 0px 1px 3px 1px rgba(60, 64, 67, 0.15);\n",
              "      fill: #174EA6;\n",
              "    }\n",
              "\n",
              "    [theme=dark] .colab-df-convert {\n",
              "      background-color: #3B4455;\n",
              "      fill: #D2E3FC;\n",
              "    }\n",
              "\n",
              "    [theme=dark] .colab-df-convert:hover {\n",
              "      background-color: #434B5C;\n",
              "      box-shadow: 0px 1px 3px 1px rgba(0, 0, 0, 0.15);\n",
              "      filter: drop-shadow(0px 1px 2px rgba(0, 0, 0, 0.3));\n",
              "      fill: #FFFFFF;\n",
              "    }\n",
              "  </style>\n",
              "\n",
              "      <script>\n",
              "        const buttonEl =\n",
              "          document.querySelector('#df-d70d706b-b06d-44fd-a7fb-4c5235c139de button.colab-df-convert');\n",
              "        buttonEl.style.display =\n",
              "          google.colab.kernel.accessAllowed ? 'block' : 'none';\n",
              "\n",
              "        async function convertToInteractive(key) {\n",
              "          const element = document.querySelector('#df-d70d706b-b06d-44fd-a7fb-4c5235c139de');\n",
              "          const dataTable =\n",
              "            await google.colab.kernel.invokeFunction('convertToInteractive',\n",
              "                                                     [key], {});\n",
              "          if (!dataTable) return;\n",
              "\n",
              "          const docLinkHtml = 'Like what you see? Visit the ' +\n",
              "            '<a target=\"_blank\" href=https://colab.research.google.com/notebooks/data_table.ipynb>data table notebook</a>'\n",
              "            + ' to learn more about interactive tables.';\n",
              "          element.innerHTML = '';\n",
              "          dataTable['output_type'] = 'display_data';\n",
              "          await google.colab.output.renderOutput(dataTable, element);\n",
              "          const docLink = document.createElement('div');\n",
              "          docLink.innerHTML = docLinkHtml;\n",
              "          element.appendChild(docLink);\n",
              "        }\n",
              "      </script>\n",
              "    </div>\n",
              "  </div>\n",
              "  "
            ]
          },
          "metadata": {},
          "execution_count": 17
        }
      ],
      "source": [
        "# show for samples: 100 word2id and id2 word\n",
        "word2id_df_sample = pd.DataFrame()\n",
        "word2id_df_sample['word'] = list(word2id.keys())[:20]\n",
        "word2id_df_sample['id'] = list(word2id.values())[:20]\n",
        "word2id_df_sample"
      ]
    },
    {
      "cell_type": "markdown",
      "metadata": {
        "id": "tupeI6Pw85_L"
      },
      "source": [
        "**Die Größe von Datensätzen kontrollieren**"
      ]
    },
    {
      "cell_type": "code",
      "execution_count": null,
      "metadata": {
        "colab": {
          "base_uri": "https://localhost:8080/"
        },
        "id": "n1d-5ji3qwE8",
        "outputId": "bba5408a-6ace-4667-c397-6145d64065f5"
      },
      "outputs": [
        {
          "output_type": "stream",
          "name": "stdout",
          "text": [
            "Size of the vocabulary after prprocessing ist: 3102\n",
            "Size of train set: 11214\n",
            "Size of val set: 100\n",
            "Size of test set: 7532\n"
          ]
        }
      ],
      "source": [
        "# Kontrollieren die Größen von verschiedenen Datensätzen\n",
        "print(f'Size of the vocabulary after prprocessing ist: {len(textsloader.vocabulary)}')\n",
        "print(f'Size of train set: {len(train_set[\"tokens\"])}')\n",
        "print(f'Size of val set: {len(val_set[\"tokens\"])}')\n",
        "print(f'Size of test set: {len(test_set[\"test\"][\"tokens\"])}')"
      ]
    },
    {
      "cell_type": "markdown",
      "metadata": {
        "id": "Zxp-VHSJ3bcp"
      },
      "source": [
        "# **Word-Embedding: Word2Vec mit Skipgramm/CBOW**"
      ]
    },
    {
      "cell_type": "markdown",
      "metadata": {
        "id": "bxQL5jQtDb1c"
      },
      "source": [
        "**Dokumenten wiederstellen für Word2Vec Embedding**\n",
        "\n",
        "\n",
        "\n",
        "1.   Da wir Embeddings für jedes Wort des Vocabulares (das Vocab nur aus dem Trainset) trainieren möchten, brauchen die Train_set (Dokumenten in Wörtern)\n",
        "2.   Wir trainieren Wort-Embedding für jedes Wort mit Skipgram Methode (die Autoren benutzten Skipgram. Sie stellen nur über CBOW in dem Hintergrund vor, aber sie benutzen tatsächlich Skipgram)\n",
        "3.   Trainierensetting = Word2Vec (siehe [Word2Vec-Tomas Mikolov](https://arxiv.org/pdf/1310.4546.pdf))\n",
        "\n"
      ]
    },
    {
      "cell_type": "code",
      "execution_count": null,
      "metadata": {
        "colab": {
          "base_uri": "https://localhost:8080/",
          "height": 458
        },
        "id": "PDXEEBHfq3Cy",
        "outputId": "f082d745-14da-4387-83ea-755c27d83d08"
      },
      "outputs": [
        {
          "output_type": "stream",
          "name": "stdout",
          "text": [
            "save docs in txt...\n",
            "save docs finished\n"
          ]
        },
        {
          "output_type": "execute_result",
          "data": {
            "text/plain": [
              "                             text-after-preprocessing\n",
              "0   jackson defense nntp posting host university i...\n",
              "1   apollo hp red police state usa nntp posting ho...\n",
              "2   dartmouth brian hughes installing ram quadra r...\n",
              "3   bu boston university physics department articl...\n",
              "4   king eng umd doug computer design lab maryland...\n",
              "..                                                ...\n",
              "95  physics ca pc windows os unix reply physics ca...\n",
              "96  ncr jim parts information distribution world n...\n",
              "97  sera zuma serdar argic nazi germany armenians ...\n",
              "98  chips astro temple bible research temple unive...\n",
              "99  loss cmu doug loss crazy electrical computer e...\n",
              "\n",
              "[100 rows x 1 columns]"
            ],
            "text/html": [
              "\n",
              "  <div id=\"df-6867a3df-b2a3-4bd2-a8e8-18c2d8ee7c13\">\n",
              "    <div class=\"colab-df-container\">\n",
              "      <div>\n",
              "<style scoped>\n",
              "    .dataframe tbody tr th:only-of-type {\n",
              "        vertical-align: middle;\n",
              "    }\n",
              "\n",
              "    .dataframe tbody tr th {\n",
              "        vertical-align: top;\n",
              "    }\n",
              "\n",
              "    .dataframe thead th {\n",
              "        text-align: right;\n",
              "    }\n",
              "</style>\n",
              "<table border=\"1\" class=\"dataframe\">\n",
              "  <thead>\n",
              "    <tr style=\"text-align: right;\">\n",
              "      <th></th>\n",
              "      <th>text-after-preprocessing</th>\n",
              "    </tr>\n",
              "  </thead>\n",
              "  <tbody>\n",
              "    <tr>\n",
              "      <th>0</th>\n",
              "      <td>jackson defense nntp posting host university i...</td>\n",
              "    </tr>\n",
              "    <tr>\n",
              "      <th>1</th>\n",
              "      <td>apollo hp red police state usa nntp posting ho...</td>\n",
              "    </tr>\n",
              "    <tr>\n",
              "      <th>2</th>\n",
              "      <td>dartmouth brian hughes installing ram quadra r...</td>\n",
              "    </tr>\n",
              "    <tr>\n",
              "      <th>3</th>\n",
              "      <td>bu boston university physics department articl...</td>\n",
              "    </tr>\n",
              "    <tr>\n",
              "      <th>4</th>\n",
              "      <td>king eng umd doug computer design lab maryland...</td>\n",
              "    </tr>\n",
              "    <tr>\n",
              "      <th>...</th>\n",
              "      <td>...</td>\n",
              "    </tr>\n",
              "    <tr>\n",
              "      <th>95</th>\n",
              "      <td>physics ca pc windows os unix reply physics ca...</td>\n",
              "    </tr>\n",
              "    <tr>\n",
              "      <th>96</th>\n",
              "      <td>ncr jim parts information distribution world n...</td>\n",
              "    </tr>\n",
              "    <tr>\n",
              "      <th>97</th>\n",
              "      <td>sera zuma serdar argic nazi germany armenians ...</td>\n",
              "    </tr>\n",
              "    <tr>\n",
              "      <th>98</th>\n",
              "      <td>chips astro temple bible research temple unive...</td>\n",
              "    </tr>\n",
              "    <tr>\n",
              "      <th>99</th>\n",
              "      <td>loss cmu doug loss crazy electrical computer e...</td>\n",
              "    </tr>\n",
              "  </tbody>\n",
              "</table>\n",
              "<p>100 rows × 1 columns</p>\n",
              "</div>\n",
              "      <button class=\"colab-df-convert\" onclick=\"convertToInteractive('df-6867a3df-b2a3-4bd2-a8e8-18c2d8ee7c13')\"\n",
              "              title=\"Convert this dataframe to an interactive table.\"\n",
              "              style=\"display:none;\">\n",
              "        \n",
              "  <svg xmlns=\"http://www.w3.org/2000/svg\" height=\"24px\"viewBox=\"0 0 24 24\"\n",
              "       width=\"24px\">\n",
              "    <path d=\"M0 0h24v24H0V0z\" fill=\"none\"/>\n",
              "    <path d=\"M18.56 5.44l.94 2.06.94-2.06 2.06-.94-2.06-.94-.94-2.06-.94 2.06-2.06.94zm-11 1L8.5 8.5l.94-2.06 2.06-.94-2.06-.94L8.5 2.5l-.94 2.06-2.06.94zm10 10l.94 2.06.94-2.06 2.06-.94-2.06-.94-.94-2.06-.94 2.06-2.06.94z\"/><path d=\"M17.41 7.96l-1.37-1.37c-.4-.4-.92-.59-1.43-.59-.52 0-1.04.2-1.43.59L10.3 9.45l-7.72 7.72c-.78.78-.78 2.05 0 2.83L4 21.41c.39.39.9.59 1.41.59.51 0 1.02-.2 1.41-.59l7.78-7.78 2.81-2.81c.8-.78.8-2.07 0-2.86zM5.41 20L4 18.59l7.72-7.72 1.47 1.35L5.41 20z\"/>\n",
              "  </svg>\n",
              "      </button>\n",
              "      \n",
              "  <style>\n",
              "    .colab-df-container {\n",
              "      display:flex;\n",
              "      flex-wrap:wrap;\n",
              "      gap: 12px;\n",
              "    }\n",
              "\n",
              "    .colab-df-convert {\n",
              "      background-color: #E8F0FE;\n",
              "      border: none;\n",
              "      border-radius: 50%;\n",
              "      cursor: pointer;\n",
              "      display: none;\n",
              "      fill: #1967D2;\n",
              "      height: 32px;\n",
              "      padding: 0 0 0 0;\n",
              "      width: 32px;\n",
              "    }\n",
              "\n",
              "    .colab-df-convert:hover {\n",
              "      background-color: #E2EBFA;\n",
              "      box-shadow: 0px 1px 2px rgba(60, 64, 67, 0.3), 0px 1px 3px 1px rgba(60, 64, 67, 0.15);\n",
              "      fill: #174EA6;\n",
              "    }\n",
              "\n",
              "    [theme=dark] .colab-df-convert {\n",
              "      background-color: #3B4455;\n",
              "      fill: #D2E3FC;\n",
              "    }\n",
              "\n",
              "    [theme=dark] .colab-df-convert:hover {\n",
              "      background-color: #434B5C;\n",
              "      box-shadow: 0px 1px 3px 1px rgba(0, 0, 0, 0.15);\n",
              "      filter: drop-shadow(0px 1px 2px rgba(0, 0, 0, 0.3));\n",
              "      fill: #FFFFFF;\n",
              "    }\n",
              "  </style>\n",
              "\n",
              "      <script>\n",
              "        const buttonEl =\n",
              "          document.querySelector('#df-6867a3df-b2a3-4bd2-a8e8-18c2d8ee7c13 button.colab-df-convert');\n",
              "        buttonEl.style.display =\n",
              "          google.colab.kernel.accessAllowed ? 'block' : 'none';\n",
              "\n",
              "        async function convertToInteractive(key) {\n",
              "          const element = document.querySelector('#df-6867a3df-b2a3-4bd2-a8e8-18c2d8ee7c13');\n",
              "          const dataTable =\n",
              "            await google.colab.kernel.invokeFunction('convertToInteractive',\n",
              "                                                     [key], {});\n",
              "          if (!dataTable) return;\n",
              "\n",
              "          const docLinkHtml = 'Like what you see? Visit the ' +\n",
              "            '<a target=\"_blank\" href=https://colab.research.google.com/notebooks/data_table.ipynb>data table notebook</a>'\n",
              "            + ' to learn more about interactive tables.';\n",
              "          element.innerHTML = '';\n",
              "          dataTable['output_type'] = 'display_data';\n",
              "          await google.colab.output.renderOutput(dataTable, element);\n",
              "          const docLink = document.createElement('div');\n",
              "          docLink.innerHTML = docLinkHtml;\n",
              "          element.appendChild(docLink);\n",
              "        }\n",
              "      </script>\n",
              "    </div>\n",
              "  </div>\n",
              "  "
            ]
          },
          "metadata": {},
          "execution_count": 19
        }
      ],
      "source": [
        "# re-erstellen von Dokumenten nach der Vorverarbeitungen. Die Dokumenten sind in Wörtern und werden für Word-Embedding Training benutzt\n",
        "docs_tr, docs_t, docs_v = textsloader.get_docs_in_words_for_each_set()\n",
        "train_docs_df = pd.DataFrame()\n",
        "train_docs_df['text-after-preprocessing'] = [' '.join(doc) for doc in docs_tr[:100]]\n",
        "train_docs_df"
      ]
    },
    {
      "cell_type": "markdown",
      "metadata": {
        "id": "Ds_KuUTQrK5P"
      },
      "source": [
        "**Word-Embedding trainieren mit dem Traindatensatz und gespeichert für ETM später**\n",
        "\n",
        "Wichtige Parameters sind:\n",
        "\n",
        "\n",
        "1.   model_name = \"skipgram\"/\"cbow\"/\"bert\"\n",
        "\n"
      ]
    },
    {
      "cell_type": "code",
      "execution_count": null,
      "metadata": {
        "colab": {
          "base_uri": "https://localhost:8080/"
        },
        "id": "u6FkkFL2_MeC",
        "outputId": "88100acc-c08a-4875-8194-3bf98f9dc245"
      },
      "outputs": [
        {
          "output_type": "stream",
          "name": "stdout",
          "text": [
            "/content/replication-topic-modelling-in-embedding-space/prepared_data/min_df_100\n"
          ]
        }
      ],
      "source": [
        "save_path = Path.joinpath(Path.cwd(), f'prepared_data/min_df_{min_df}')\n",
        "figures_path = Path.joinpath(Path.cwd(), f'figures/min_df_{min_df}')\n",
        "Path(save_path).mkdir(parents=True, exist_ok=True)\n",
        "Path(figures_path).mkdir(parents=True, exist_ok=True)\n",
        "print(save_path)\n",
        "\n",
        "vocab = list(word2id.keys())\n",
        "model_name = \"skipgram\""
      ]
    },
    {
      "cell_type": "code",
      "execution_count": null,
      "metadata": {
        "colab": {
          "base_uri": "https://localhost:8080/"
        },
        "id": "nbfgY13HJI4L",
        "outputId": "0d52bf28-6d8d-4241-e5c0-f2126f70fd9f"
      },
      "outputs": [
        {
          "output_type": "stream",
          "name": "stdout",
          "text": [
            "train word-embedding with skipgram\n",
            "length of vocabulary from word-embedding with skipgram: 3102\n",
            "length of vocabulary after creating BOW: 3102\n"
          ]
        },
        {
          "output_type": "stream",
          "name": "stderr",
          "text": [
            "100%|██████████| 3102/3102 [00:00<00:00, 5894.95it/s]\n"
          ]
        }
      ],
      "source": [
        "from src.embedding import WordEmbeddingCreator\n",
        "from pathlib import Path\n",
        "\n",
        "if model_name != \"bert\" and use_bert_embedding == False:\n",
        "  wb_creator = WordEmbeddingCreator(model_name=model_name, documents = docs_tr, save_path= save_path)\n",
        "  wb_creator.train(min_count=0, embedding_size= 300)\n",
        "  wb_creator.create_and_save_vocab_embedding(vocab, save_path)\n",
        "else:\n",
        "  print('festlegen welches Modell für word2vec soll genutzt werden!\\n Wenn bert-Modell, bitte die Vocabular aktualisieren durch use_bert_embedding = True')\n"
      ]
    },
    {
      "cell_type": "markdown",
      "metadata": {
        "id": "ro0u2Mfj4Okg"
      },
      "source": [
        "**Visualierung von Wortembeddings mit UMAP (UMAP werden die Embeddings zu 2D reduziert. KMeans wurden benutzen, um zu sehen, wie die Clusters von Wörtern aussehen - nur zu sehen, nicht zu dem Paper gehören)**\n",
        "\n",
        "- Dieses Experiment gehört nicht zum Artikel, der repliziert wurde"
      ]
    },
    {
      "cell_type": "code",
      "execution_count": null,
      "metadata": {
        "colab": {
          "base_uri": "https://localhost:8080/",
          "height": 597
        },
        "id": "KBexKIVf8Qs5",
        "outputId": "d8c82295-c959-4546-f043-8cb3013c2ae8"
      },
      "outputs": [
        {
          "name": "stderr",
          "output_type": "stream",
          "text": [
            "/usr/local/lib/python3.7/dist-packages/numba/np/ufunc/parallel.py:363: NumbaWarning: The TBB threading layer requires TBB version 2019.5 or later i.e., TBB_INTERFACE_VERSION >= 11005. Found TBB_INTERFACE_VERSION = 9107. The TBB threading layer is disabled.\n",
            "  warnings.warn(problem)\n"
          ]
        },
        {
          "data": {
            "text/html": [
              "<html>\n",
              "<head><meta charset=\"utf-8\" /></head>\n",
              "<body>\n",
              "    <div>            <script src=\"https://cdnjs.cloudflare.com/ajax/libs/mathjax/2.7.5/MathJax.js?config=TeX-AMS-MML_SVG\"></script><script type=\"text/javascript\">if (window.MathJax) {MathJax.Hub.Config({SVG: {font: \"STIX-Web\"}});}</script>                <script type=\"text/javascript\">window.PlotlyConfig = {MathJaxConfig: 'local'};</script>\n",
              "        <script src=\"https://cdn.plot.ly/plotly-2.11.1.min.js\"></script>                <div id=\"16c44325-0e18-4a7a-ac69-0d3061f9efe6\" class=\"plotly-graph-div\" style=\"height:525px; width:100%;\"></div>            <script type=\"text/javascript\">                                    window.PLOTLYENV=window.PLOTLYENV || {};                                    if (document.getElementById(\"16c44325-0e18-4a7a-ac69-0d3061f9efe6\")) {                    Plotly.newPlot(                        \"16c44325-0e18-4a7a-ac69-0d3061f9efe6\",                        [{\"hovertemplate\":\"cluster=cluster 4<br>x=%{x}<br>y=%{y}<extra></extra>\",\"legendgroup\":\"cluster 4\",\"marker\":{\"color\":\"#636efa\",\"symbol\":\"circle\"},\"mode\":\"markers\",\"name\":\"cluster 4\",\"showlegend\":true,\"x\":[9.287004470825195,7.447437763214111,9.671387672424316,7.714380741119385,8.379920959472656,8.999314308166504,9.521382331848145,10.948525428771973,8.352388381958008,9.631367683410645,7.9737372398376465,8.667067527770996,9.477625846862793,7.7323737144470215,8.442398071289062,9.665853500366211,9.596898078918457,9.52817440032959,8.796741485595703,8.385308265686035,9.488509178161621,10.837973594665527,8.39943790435791,9.069323539733887,9.846116065979004,8.102957725524902,8.695093154907227,8.60109806060791,7.4395246505737305,7.379573822021484,9.033221244812012,7.8843278884887695,9.364922523498535,6.731806755065918,9.415854454040527,8.247932434082031,8.730273246765137,8.392842292785645,7.8086466789245605,9.692926406860352,9.630966186523438,9.56877613067627,9.182345390319824,7.669527053833008,8.150362968444824,8.146613121032715,9.396943092346191,9.522661209106445,9.332870483398438,8.06525993347168,10.538625717163086,8.080585479736328,7.501829624176025,9.217429161071777,9.501038551330566,9.568341255187988,9.453130722045898,10.414810180664062,9.630386352539062,9.64175796508789,7.599061965942383,7.446131229400635,9.837986946105957,10.4856538772583,9.898493766784668,8.471746444702148,10.082456588745117,9.357121467590332,9.27501106262207,9.632573127746582,7.414063930511475,9.00220775604248,8.20711612701416,9.506243705749512,8.487516403198242,9.573660850524902,10.136009216308594,7.271518230438232,10.129666328430176,9.681085586547852,7.479710102081299,9.637036323547363,9.50655460357666,7.251873016357422,8.523892402648926,8.181121826171875,8.953804016113281,8.552238464355469,7.070453643798828,10.175570487976074,10.800887107849121,9.428750038146973,7.838845252990723,10.112552642822266,10.127179145812988,9.3402099609375,7.320183753967285,8.373204231262207,9.430634498596191,9.18455982208252,9.690194129943848,9.291744232177734,9.13365364074707,9.504066467285156,10.8164644241333,9.523401260375977,9.692342758178711,11.09839153289795,9.477947235107422,8.831539154052734,9.0003023147583,8.142300605773926,6.3766889572143555,8.76449203491211,9.567785263061523,8.374027252197266,9.100334167480469,11.113407135009766,10.80081844329834,5.422168731689453,9.339763641357422,9.53996753692627,8.146087646484375,9.643330574035645,8.64570426940918,9.476900100708008,9.434244155883789,7.5513105392456055,9.080581665039062,9.550385475158691,9.93008041381836,9.476978302001953,9.422026634216309,8.087922096252441,9.522981643676758,9.496841430664062,7.2552571296691895,7.987857341766357,10.615657806396484,7.855418682098389,9.295753479003906,8.504183769226074,9.592155456542969,9.33523941040039,9.50001335144043,8.232816696166992,9.295415878295898,9.309569358825684],\"xaxis\":\"x\",\"y\":[1.743607997894287,1.4147613048553467,2.502180576324463,2.1653385162353516,1.7049007415771484,1.7061949968338013,1.9134060144424438,2.8126044273376465,1.7980754375457764,3.361865997314453,1.823043942451477,1.7708470821380615,1.821270227432251,1.6803393363952637,1.636534571647644,2.6507961750030518,2.0281870365142822,2.087233066558838,1.6864980459213257,1.7703617811203003,1.8148069381713867,2.8532769680023193,1.7535443305969238,1.6608049869537354,3.4447288513183594,2.0379624366760254,2.476984977722168,1.7016130685806274,1.5252352952957153,1.4858977794647217,1.620871663093567,1.9763891696929932,1.834944725036621,2.6896097660064697,2.939584493637085,2.1351959705352783,1.663648009300232,1.6458479166030884,2.0798184871673584,2.6510915756225586,2.8355519771575928,1.9462242126464844,2.1154634952545166,1.4800848960876465,2.174933433532715,1.9523124694824219,3.432121992111206,1.9436899423599243,1.7615667581558228,2.2119524478912354,2.711320161819458,1.6398893594741821,1.4460164308547974,4.243923187255859,3.2475337982177734,1.976412057876587,1.7944350242614746,3.2618396282196045,2.180878162384033,2.2305068969726562,1.6384661197662354,1.2652132511138916,2.6714742183685303,2.5679666996002197,2.728318214416504,1.786150336265564,2.8190858364105225,3.243542432785034,4.218289375305176,2.254730701446533,1.4823302030563354,1.6887904405593872,2.1889636516571045,1.9329030513763428,1.8023865222930908,2.323927640914917,3.051251173019409,1.5159215927124023,2.4041340351104736,2.4688515663146973,1.4343968629837036,2.1666224002838135,1.8942166566848755,1.702781319618225,1.5922706127166748,1.6472251415252686,1.6687438488006592,1.983946442604065,1.4509241580963135,3.0970277786254883,2.8317160606384277,1.814543604850769,2.0125536918640137,3.013963460922241,3.1648356914520264,1.751544713973999,1.6369507312774658,1.8986445665359497,1.9686633348464966,1.7311885356903076,2.682180166244507,1.7408415079116821,1.721001148223877,1.8476852178573608,2.7877979278564453,1.933202862739563,2.911548376083374,2.8673582077026367,2.2219717502593994,1.6893149614334106,1.7227317094802856,1.9047733545303345,3.4293229579925537,1.7198280096054077,3.314659595489502,1.7944473028182983,1.7694777250289917,2.838390350341797,2.7892346382141113,2.267317533493042,1.8305338621139526,1.9546847343444824,1.6583515405654907,2.2434215545654297,1.7371768951416016,1.8547906875610352,1.8154176473617554,1.602286696434021,1.750731110572815,1.8748921155929565,2.8465802669525146,1.8587989807128906,3.4938669204711914,2.144510507583618,1.9429899454116821,2.5877692699432373,1.4950801134109497,1.8511443138122559,2.84808611869812,2.1886870861053467,1.7946513891220093,1.8231920003890991,1.9887793064117432,1.8230561017990112,1.9003278017044067,2.6898975372314453,1.7561026811599731,1.793690800666809],\"yaxis\":\"y\",\"type\":\"scattergl\"},{\"hovertemplate\":\"cluster=cluster 1<br>x=%{x}<br>y=%{y}<extra></extra>\",\"legendgroup\":\"cluster 1\",\"marker\":{\"color\":\"#EF553B\",\"symbol\":\"circle\"},\"mode\":\"markers\",\"name\":\"cluster 1\",\"showlegend\":true,\"x\":[7.62930154800415,8.590232849121094,7.85273551940918,6.688596248626709,8.01301097869873,8.022722244262695,7.776540279388428,7.410275459289551,7.133453845977783,7.725945472717285,8.076906204223633,7.114205837249756,6.930787086486816,6.485952377319336,8.137728691101074,8.232834815979004,8.490509033203125,7.680172920227051,8.153898239135742,6.757229804992676,8.27626895904541,7.5372090339660645,8.197315216064453,8.918517112731934,8.140389442443848,8.930010795593262,8.723770141601562,6.98581075668335,8.159407615661621,8.894305229187012,7.355133533477783,8.221646308898926,8.140860557556152,7.148494720458984,7.8599653244018555,8.052997589111328,6.864256858825684,6.74899959564209,8.183815002441406,8.003756523132324,7.414023399353027,8.314936637878418,7.001150131225586,7.004454612731934,8.453851699829102,6.825588703155518,6.675448417663574,7.254427433013916,7.279579162597656,8.158331871032715,6.675026893615723,8.034348487854004,8.100067138671875,7.942530155181885,8.140371322631836,8.538298606872559,7.423393726348877,7.292943000793457,8.07386589050293,6.678145885467529,7.920334339141846,6.841183662414551,7.5752434730529785,7.537838459014893,9.25142765045166,7.484914779663086,7.659364223480225,7.447470664978027,7.376826286315918,8.11463737487793,6.866657257080078,6.693220615386963,6.8610429763793945,7.370625019073486,7.577356815338135,8.5516939163208,8.31997013092041,7.029321670532227,7.835402488708496,7.129785060882568,6.877302169799805,8.153739929199219,7.480478763580322,8.351780891418457,9.201031684875488,7.97062349319458,7.6251654624938965,6.965024948120117,7.698485374450684,8.338438987731934,8.023094177246094,7.77180814743042,8.863712310791016,8.410006523132324,7.467540264129639,7.776691436767578,7.951029300689697,8.048879623413086,6.261120319366455,8.085516929626465,8.485684394836426,7.300668716430664,8.035216331481934,7.327014923095703,6.955635070800781,7.721673488616943,7.985466003417969,7.764796733856201,7.901646614074707,6.956916809082031,7.883650779724121,7.93804931640625,7.934119701385498,7.814533233642578,7.763617515563965,7.895825386047363,8.829535484313965,8.307602882385254,7.957025527954102,8.117551803588867,6.860304832458496,8.625231742858887,8.146196365356445,9.069123268127441,8.446261405944824,6.887341022491455,8.662762641906738,8.886137008666992,8.05958080291748,8.640981674194336,7.6362080574035645,7.883503437042236,7.342113494873047,8.279016494750977,6.927995681762695,8.30665397644043,7.512301445007324,8.03714370727539,7.028031349182129,7.096610069274902,8.769984245300293,7.224350452423096,6.94471549987793,8.667728424072266,8.003409385681152,6.90146017074585,7.888932704925537,8.074152946472168,7.055582523345947,6.573645114898682,7.272279739379883,7.116351127624512,7.377100467681885,8.120040893554688,6.765007972717285,7.5379486083984375,8.360095024108887,7.243426322937012,8.13465690612793,6.833931922912598,6.9741387367248535,8.145960807800293,7.318880081176758,7.9964399337768555,7.759531497955322,6.162327289581299,8.21005630493164,7.908017158508301,8.497385025024414,8.141037940979004,9.306819915771484,9.429524421691895,8.86971378326416,7.22856330871582,7.879080295562744,6.909920692443848,8.049314498901367,6.708893299102783,8.599379539489746,9.00995922088623,6.912722110748291,7.444318771362305,8.187751770019531,8.029273986816406,6.733273029327393,8.408035278320312,8.179535865783691,8.551407814025879,9.106264114379883,6.837249279022217,8.078653335571289,8.183540344238281,7.248129367828369,7.160571098327637,6.972451210021973,7.539731025695801,7.053369998931885,7.5867695808410645,7.470146179199219,8.361640930175781,8.533987045288086,7.28092622756958,7.940481662750244,8.450223922729492,8.628721237182617,7.088494300842285,5.772595405578613,7.867354393005371,7.58793830871582,6.744136333465576,8.36616039276123,8.116732597351074,7.898859024047852,8.124788284301758,8.976790428161621,6.749023914337158,7.6729302406311035,7.668931007385254,7.293210983276367,8.12334156036377,7.1264967918396,7.355588912963867,7.83457612991333,7.61367654800415,7.041756629943848,7.666782855987549,6.813475131988525,7.935590744018555,7.957669734954834,8.168925285339355,6.7238569259643555,7.574916362762451,7.735329627990723,7.446180820465088,7.495704174041748,7.036561012268066,8.126801490783691,6.845045566558838,7.584003448486328,8.232345581054688,7.944849967956543,7.495016574859619,7.989169120788574,7.892197132110596,6.908240795135498,7.591769695281982,8.25263500213623,9.5172700881958,8.430153846740723,8.081633567810059,6.7301812171936035,7.380315780639648,7.304686069488525,6.767646789550781,7.291370868682861,9.597920417785645,7.494450569152832,6.891899108886719],\"xaxis\":\"x\",\"y\":[7.990675449371338,7.245572566986084,8.230955123901367,7.28501033782959,8.423471450805664,8.354666709899902,7.162529468536377,7.948829650878906,7.051274299621582,7.73532247543335,7.567833423614502,6.930550575256348,7.533250331878662,4.048120975494385,7.2096099853515625,8.11893367767334,7.35233736038208,7.736839771270752,8.287496566772461,7.223540782928467,7.953091621398926,7.414974212646484,8.232365608215332,8.23589038848877,8.684114456176758,7.068083763122559,8.546027183532715,7.527621269226074,8.117234230041504,7.698989391326904,6.872827529907227,7.807254791259766,7.942202568054199,6.999093532562256,7.67380428314209,8.119004249572754,7.155987739562988,7.273569583892822,8.21296501159668,8.147841453552246,7.890429973602295,7.618836402893066,7.589889049530029,7.372661113739014,7.868144989013672,7.3664350509643555,7.209786415100098,7.425978183746338,6.904092311859131,8.086897850036621,7.333768367767334,8.429856300354004,8.605731010437012,8.405152320861816,7.2493133544921875,7.274686813354492,7.20559024810791,7.456993579864502,8.368128776550293,7.36320686340332,8.221503257751465,7.152164459228516,7.967422008514404,8.163969039916992,8.137022018432617,7.087522506713867,7.851233005523682,7.8582940101623535,6.8398051261901855,8.317448616027832,7.527747631072998,7.24543571472168,7.4984049797058105,7.578246593475342,7.127632141113281,8.20307445526123,6.826284885406494,7.4929304122924805,8.202723503112793,6.721454620361328,7.184383869171143,8.152254104614258,7.193285942077637,8.030994415283203,7.961044788360596,8.04244327545166,6.345214366912842,7.079317092895508,7.978070259094238,7.562654972076416,7.274147987365723,8.453402519226074,7.3699259757995605,8.08236312866211,7.2763190269470215,8.332300186157227,8.136758804321289,8.148669242858887,4.098362445831299,8.265480041503906,7.96956729888916,7.218514442443848,8.355790138244629,6.99854850769043,7.42948579788208,8.057167053222656,7.538712501525879,7.940995693206787,7.513088703155518,7.367805480957031,8.352361679077148,8.446427345275879,8.3840913772583,7.924945831298828,6.24419641494751,8.14572525024414,8.068309783935547,8.097906112670898,8.255746841430664,8.031774520874023,7.51737117767334,7.410288333892822,8.694269180297852,8.188220977783203,7.6397294998168945,7.188297271728516,7.956387996673584,8.173494338989258,7.883472442626953,7.255205154418945,8.062823295593262,7.029359340667725,7.67542839050293,7.0551652908325195,7.548798561096191,8.052260398864746,8.04361343383789,8.426128387451172,7.575734615325928,6.927962303161621,7.9188151359558105,6.983896732330322,7.544316291809082,8.11717700958252,7.7616496086120605,7.497204303741455,7.137617111206055,8.596212387084961,7.212696075439453,3.6605589389801025,7.249997138977051,6.948773384094238,6.852608680725098,7.867566108703613,7.355746269226074,6.8623247146606445,8.073993682861328,7.711997032165527,7.075032711029053,7.2340240478515625,7.41765832901001,8.29628849029541,7.051219940185547,8.109461784362793,6.641276836395264,2.1697635650634766,7.8451056480407715,8.389877319335938,8.128607749938965,7.117105007171631,7.778509616851807,6.018110275268555,7.544960021972656,6.943058013916016,8.54212760925293,7.530683994293213,8.018704414367676,7.298250198364258,7.936132907867432,8.258865356445312,7.55846643447876,8.037684440612793,8.26595401763916,8.072946548461914,7.2767181396484375,7.435575008392334,8.216611862182617,7.228574752807617,7.77663516998291,7.39110803604126,8.452609062194824,8.235434532165527,7.548529148101807,6.8681440353393555,7.353124141693115,7.0721917152404785,7.175068378448486,8.202569007873535,7.718746662139893,8.009408950805664,7.149951934814453,7.369389533996582,8.143096923828125,7.583438873291016,7.6960320472717285,7.062212944030762,2.9740982055664062,7.834315299987793,6.253586292266846,7.212963581085205,7.954418182373047,7.831118106842041,8.279790878295898,8.273221969604492,8.350567817687988,7.250836372375488,8.108599662780762,8.18898868560791,7.309459686279297,8.220476150512695,6.9889302253723145,7.850587844848633,7.858299255371094,7.962948322296143,7.030543804168701,7.825219631195068,7.245850563049316,8.20700454711914,8.211874008178711,8.404189109802246,7.258152484893799,8.072917938232422,8.276833534240723,5.1841959953308105,8.01237964630127,7.189521312713623,8.199227333068848,7.158520221710205,6.864812850952148,8.213582992553711,8.387663841247559,7.732416152954102,8.187849044799805,8.43993854522705,7.2054948806762695,8.123310089111328,8.111030578613281,4.045141220092773,6.951810359954834,8.071403503417969,7.2816996574401855,6.771530628204346,7.652337551116943,7.3883957862854,6.919482707977295,3.927639961242676,7.26573371887207,7.550698757171631],\"yaxis\":\"y\",\"type\":\"scattergl\"},{\"hovertemplate\":\"cluster=cluster 6<br>x=%{x}<br>y=%{y}<extra></extra>\",\"legendgroup\":\"cluster 6\",\"marker\":{\"color\":\"#00cc96\",\"symbol\":\"circle\"},\"mode\":\"markers\",\"name\":\"cluster 6\",\"showlegend\":true,\"x\":[10.423911094665527,10.793741226196289,10.728615760803223,9.13278579711914,10.056188583374023,10.339917182922363,11.175437927246094,10.592276573181152,11.247753143310547,9.762049674987793,10.187363624572754,10.19911003112793,10.431495666503906,10.359468460083008,10.401606559753418,10.581543922424316,11.007906913757324,9.873427391052246,11.122883796691895,9.739656448364258,10.13923454284668,9.9865140914917,10.121849060058594,10.70280647277832,10.747361183166504,10.950127601623535,11.135753631591797,9.72884750366211,11.296347618103027,10.34569263458252,10.074695587158203,10.457181930541992,10.680428504943848,11.358543395996094,10.776843070983887,11.07793140411377,10.581842422485352,10.65896224975586,10.251423835754395,11.81851577758789,10.629632949829102,10.094801902770996,11.19843578338623,10.068246841430664,11.18407154083252,10.250831604003906,10.454004287719727,10.400188446044922,11.228081703186035,9.26093578338623,11.318774223327637,10.220547676086426,9.84524917602539,10.57310962677002,10.698920249938965,10.88608169555664,9.081503868103027,10.443498611450195,10.666092872619629,10.603111267089844,10.401084899902344,11.414551734924316,10.288219451904297,10.149765014648438,10.569212913513184,10.097108840942383,9.714113235473633,11.054276466369629,11.027129173278809,10.063010215759277,10.198267936706543,9.5515775680542,9.51448917388916,11.588099479675293,10.406020164489746,9.509320259094238,11.995174407958984,9.770235061645508,9.544211387634277,10.687553405761719,10.681939125061035,11.58525562286377,10.500051498413086,10.61374568939209,10.965876579284668,12.125927925109863,10.485395431518555,10.5259428024292,10.34743595123291,11.10739803314209,10.103710174560547,11.272635459899902,8.883932113647461,10.607234001159668,9.949437141418457,10.452451705932617,10.862415313720703,11.071856498718262,10.139213562011719,10.849867820739746,10.220977783203125,9.999425888061523,10.141108512878418,10.480752944946289,9.634773254394531,10.734455108642578,10.515324592590332,10.463296890258789,9.356468200683594,9.915122985839844,9.57323169708252,11.67990493774414,9.682327270507812,10.152368545532227,10.536599159240723,11.270577430725098,10.984498977661133,10.657548904418945,11.843096733093262,10.301280975341797,9.190319061279297,10.528578758239746,10.58881664276123,10.134688377380371,10.285165786743164,9.479179382324219,10.233736038208008,11.350854873657227,11.558500289916992,10.164742469787598,9.421135902404785,8.241923332214355,11.059805870056152,11.280023574829102,9.424674987792969,9.996367454528809,10.486371994018555,9.143768310546875,11.424323081970215,9.840840339660645,9.103008270263672,11.818455696105957,10.638528823852539,11.231575965881348,9.747583389282227,10.29299545288086,10.43008804321289,10.676907539367676,11.913389205932617,10.355427742004395,10.130996704101562,11.361603736877441,9.626221656799316,10.504928588867188,10.99433708190918,8.92579174041748,10.628278732299805,9.371389389038086,9.126564979553223,11.64762020111084,11.647257804870605,11.520509719848633,12.189767837524414,9.499826431274414,9.702082633972168,9.889374732971191,10.745354652404785,11.521778106689453,10.974058151245117,9.445411682128906,10.480117797851562,11.143442153930664,11.485508918762207,10.521175384521484,10.493021011352539,10.323343276977539,11.222201347351074,10.696941375732422,11.21761703491211,10.828324317932129,9.589235305786133,10.970091819763184,10.859410285949707,9.549342155456543,10.267789840698242,10.488763809204102,10.01492977142334,11.092297554016113,10.898636817932129,10.781281471252441,11.714529991149902,9.95370101928711,12.2631254196167,11.337157249450684,9.531200408935547,10.991964340209961,9.892291069030762,9.361406326293945,10.223299980163574,9.996959686279297,9.804327964782715,11.096508979797363,11.261290550231934,10.425623893737793,9.930312156677246,9.476296424865723,9.364266395568848,9.564645767211914,10.396029472351074,9.251018524169922,10.379582405090332,10.712027549743652,11.357322692871094,10.091291427612305,10.442161560058594,11.725530624389648,11.521401405334473,11.837311744689941,10.683443069458008,10.90971851348877,10.027167320251465,10.375964164733887,10.921269416809082,10.6043062210083,11.459383964538574,11.597007751464844,9.839902877807617,10.816841125488281,11.089877128601074,9.180171966552734,10.949527740478516,10.735517501831055,11.528206825256348,9.869227409362793,10.454608917236328,10.166973114013672,11.093538284301758,10.5435152053833,10.841782569885254,10.147061347961426,9.834574699401855,10.436338424682617,9.860960006713867,10.98768138885498,10.65529727935791,11.624900817871094,9.702659606933594,10.52061653137207,10.645292282104492,9.66568374633789,10.315093040466309,9.709905624389648,11.009222984313965,9.861783981323242,11.001309394836426,9.945406913757324,9.101134300231934,10.670186042785645,10.937176704406738,9.636089324951172,11.589357376098633,10.522750854492188,10.045470237731934,12.20853042602539,9.846839904785156,10.619000434875488,10.06019401550293,9.218791961669922,10.14691162109375,10.139962196350098,9.388067245483398,10.960519790649414,11.916749000549316,10.978032112121582,9.880830764770508,10.610533714294434,10.9285888671875,9.400854110717773,11.396533966064453,11.1345853805542,11.021244049072266,12.238432884216309,10.470890998840332,11.087114334106445,11.061812400817871,10.231490135192871,10.402078628540039,10.705491065979004,9.947379112243652,10.968121528625488,11.543133735656738,10.148765563964844,10.549185752868652,10.242280006408691,10.015992164611816,10.23456859588623,10.063254356384277,10.605522155761719,11.481740951538086,9.611477851867676,11.515146255493164,10.047835350036621,10.445009231567383,12.226856231689453,10.364648818969727,9.080431938171387,9.832582473754883,10.056547164916992,10.809213638305664,9.832575798034668,9.991751670837402,10.90635871887207,10.248184204101562,10.167325973510742,10.483601570129395,9.39987564086914,9.417354583740234,11.612656593322754,9.517071723937988,10.546192169189453,11.365501403808594,9.736991882324219,11.07624626159668,9.696527481079102,9.984953880310059,10.614282608032227,11.389069557189941,10.102823257446289,10.444941520690918,11.101527214050293,11.129888534545898,10.89132308959961,10.243847846984863,11.450636863708496,10.589029312133789,9.48868465423584,10.304163932800293,9.326709747314453,11.88306999206543,9.400176048278809,11.032519340515137,10.151902198791504,10.819137573242188,10.399911880493164,10.120408058166504,10.21576976776123,9.210922241210938,11.158714294433594,10.77635669708252,11.491918563842773,10.039787292480469,9.8038330078125,9.772954940795898,10.11776065826416,10.6521635055542,9.461750984191895,9.613957405090332,9.811542510986328,11.32626724243164,10.574357032775879,11.04468822479248,10.52803897857666,9.674477577209473,10.996491432189941,11.074841499328613,9.825355529785156,10.508996963500977,10.3157377243042,11.474944114685059,11.476125717163086,10.38684368133545,11.209060668945312,10.2099027633667,11.058333396911621,10.355522155761719,9.512125015258789,10.692377090454102,11.567549705505371,10.920583724975586,10.782780647277832,9.871349334716797,10.180434226989746,9.464320182800293,11.382617950439453,10.022146224975586,11.007059097290039,10.607179641723633,11.19448184967041,11.06342601776123,10.81982707977295,10.492801666259766,8.29247760772705,11.854333877563477,9.869588851928711,9.86414623260498,10.034461975097656,10.454118728637695,9.267560958862305,9.365958213806152,9.974038124084473,10.445136070251465,10.181814193725586,11.062040328979492,11.121975898742676,9.821757316589355,10.875160217285156,9.263360977172852,10.929844856262207,10.233966827392578,10.446645736694336,10.251953125,10.973102569580078,10.74012565612793,12.478926658630371,10.34536075592041,9.563589096069336,10.919926643371582,11.207947731018066,11.680902481079102,9.570236206054688,9.823674201965332,9.52371597290039,10.846250534057617,10.485864639282227,10.35521411895752,10.617877006530762,12.240187644958496,10.244071960449219,10.292135238647461,11.289060592651367,10.429859161376953,10.870477676391602,9.888651847839355,10.516819953918457,10.610442161560059,10.038033485412598,10.453710556030273,10.32231616973877,10.335131645202637,9.744179725646973,11.555075645446777,11.692083358764648,9.97509479522705,11.768684387207031,10.870123863220215,11.33389663696289,9.96506118774414,9.582324028015137,11.121272087097168,9.03044605255127,10.47659683227539,10.572773933410645,10.033496856689453,10.879996299743652,11.028963088989258,10.038687705993652,11.765053749084473,9.791411399841309,12.044415473937988,10.43360424041748,11.106276512145996,10.377287864685059,12.096407890319824,10.114264488220215,9.956476211547852,9.533048629760742,10.974817276000977,10.144625663757324,11.19084358215332,11.001375198364258,10.307647705078125,10.874236106872559,9.955626487731934,10.632715225219727,10.972685813903809,11.43150806427002,10.032108306884766,11.610538482666016,9.263667106628418,11.403383255004883,11.370393753051758,11.752724647521973,9.713967323303223,11.221181869506836,10.74792194366455,10.90613842010498,11.442941665649414,10.915984153747559,11.58375072479248,10.872235298156738,10.174357414245605,10.857865333557129,10.573195457458496,10.317346572875977,9.880477905273438,9.18885612487793,10.25925350189209,11.523876190185547,11.842329978942871,10.246404647827148,10.78027629852295,11.852773666381836,10.75896167755127,10.741644859313965,10.810916900634766,9.650727272033691,10.74560260772705,11.001733779907227,9.801375389099121,10.655011177062988,10.410425186157227,10.771027565002441,11.248621940612793,10.932917594909668,9.945324897766113,10.769841194152832,12.53666877746582,10.064812660217285,10.552237510681152,10.819759368896484,10.293692588806152,11.44180965423584,9.150460243225098,11.051518440246582,10.006163597106934,10.587603569030762,10.353983879089355,10.400944709777832,10.370327949523926,11.516789436340332,10.567667961120605,10.06182861328125,9.79393482208252,10.376810073852539,9.36056137084961,10.510669708251953],\"xaxis\":\"x\",\"y\":[5.2284746170043945,4.1643757820129395,5.571915149688721,5.190129280090332,4.104849815368652,4.143860816955566,6.208498001098633,3.95806622505188,6.054195880889893,4.592611789703369,3.817650556564331,4.767435550689697,8.247298240661621,3.803140878677368,3.7142174243927,3.284109592437744,5.450936794281006,4.372645378112793,3.780424118041992,4.513730525970459,4.8482279777526855,5.147053241729736,5.2534260749816895,5.367778778076172,4.987943172454834,5.669043064117432,4.604900360107422,4.195798873901367,5.0980753898620605,4.456655025482178,2.946148633956909,3.5297913551330566,5.018118858337402,7.763387203216553,4.520386219024658,5.325473308563232,3.7661657333374023,4.139528751373291,4.918105125427246,4.949245929718018,5.637892723083496,5.228818416595459,5.855291843414307,3.532142400741577,3.706571102142334,6.104976654052734,3.9897983074188232,3.6225547790527344,4.273056507110596,4.1915364265441895,4.150204658508301,3.5592873096466064,4.975460052490234,5.344354629516602,5.256483554840088,3.788421630859375,3.7324349880218506,5.151784896850586,4.294529914855957,4.098304748535156,4.225755214691162,3.691498279571533,4.228141784667969,5.473241329193115,4.450491428375244,3.4292190074920654,2.923022985458374,5.604313373565674,4.969372749328613,3.5582916736602783,4.600034236907959,2.7517709732055664,5.337994575500488,4.753017425537109,3.3836510181427,4.951512336730957,4.794306755065918,3.0683720111846924,5.434905052185059,5.232702732086182,4.1269049644470215,4.8797149658203125,3.71768856048584,4.499058723449707,4.364009380340576,5.053460121154785,5.277065753936768,3.4747588634490967,4.8650898933410645,4.021062850952148,4.29762601852417,5.051423072814941,5.306767463684082,3.585710048675537,3.2242443561553955,3.8201210498809814,4.620411396026611,5.36445426940918,4.8675055503845215,4.5394439697265625,4.699456214904785,4.982998847961426,4.418107986450195,5.420905590057373,4.905246257781982,4.2171478271484375,4.229615211486816,4.350379943847656,3.6535916328430176,5.446549892425537,3.703770160675049,4.919919967651367,4.692301273345947,4.8527045249938965,6.028303623199463,5.4168500900268555,5.237374305725098,5.491405487060547,5.661011219024658,4.309093952178955,4.091153144836426,3.1546292304992676,4.325023174285889,5.161565780639648,3.4333155155181885,3.6346912384033203,4.22263765335083,4.102003574371338,5.689905643463135,5.275467395782471,4.056676387786865,5.58113956451416,4.59517765045166,4.2110724449157715,4.14658260345459,3.3042867183685303,4.805225372314453,3.8031418323516846,5.594709396362305,3.0442450046539307,5.490292549133301,4.825847148895264,5.425234794616699,5.936982154846191,3.563293933868408,5.0378098487854,4.274491786956787,4.836892604827881,5.09128475189209,4.537834644317627,5.319329738616943,3.6121914386749268,4.220087051391602,5.195013046264648,4.259791851043701,5.276704788208008,4.065345764160156,3.65435791015625,3.831533670425415,5.61259651184082,4.092729091644287,4.18081521987915,5.6697258949279785,3.855616807937622,3.9138433933258057,4.46770715713501,4.548924922943115,5.124026775360107,4.576108932495117,4.355426788330078,4.801520824432373,5.228897571563721,5.801076889038086,3.866716146469116,5.6892991065979,5.2880353927612305,6.488331317901611,5.40855073928833,4.17838191986084,4.486999034881592,3.7663097381591797,3.6444509029388428,4.446813106536865,4.879494667053223,5.106097221374512,5.406771183013916,3.8544957637786865,4.240730285644531,3.6755030155181885,5.802908897399902,5.529494762420654,4.314053058624268,5.889239311218262,5.419227123260498,5.639338493347168,5.456000804901123,5.021247863769531,3.883518695831299,5.5702338218688965,4.9138054847717285,3.4606711864471436,4.842031955718994,5.560857772827148,3.3775854110717773,3.984105348587036,3.9617323875427246,4.244081497192383,4.224392890930176,4.597744464874268,3.579721689224243,3.8981423377990723,3.7643837928771973,5.3856096267700195,4.7333173751831055,5.102040767669678,5.406447410583496,5.620117664337158,5.993919372558594,5.384769916534424,4.212818145751953,5.198270797729492,5.279544353485107,3.8849380016326904,5.258249759674072,5.432372093200684,6.203291893005371,4.975428581237793,3.8661608695983887,5.717893600463867,4.176306247711182,6.104771137237549,5.627304553985596,5.582413673400879,3.947150230407715,4.985771179199219,5.565872669219971,5.7257819175720215,4.016719818115234,3.977135181427002,7.811702251434326,4.716208457946777,4.048422813415527,4.814143180847168,5.998898029327393,4.336326599121094,5.746941089630127,3.756451368331909,4.3545966148376465,3.849161386489868,7.689810276031494,5.568783283233643,3.112873077392578,5.125146389007568,5.083959579467773,3.8797647953033447,4.725566387176514,5.514040470123291,4.265437602996826,5.259226322174072,5.118894577026367,4.410223484039307,3.60840106010437,5.080477714538574,4.4802117347717285,4.348010063171387,5.0233025550842285,3.9524388313293457,5.905799865722656,5.553255081176758,4.016818523406982,4.733062744140625,5.664831161499023,5.028532981872559,5.725853443145752,3.8043887615203857,3.8040542602539062,5.232748508453369,4.122537612915039,4.433730125427246,6.595526218414307,6.441985130310059,5.436185836791992,4.6501784324646,4.9106950759887695,4.931015968322754,3.9643983840942383,4.7820000648498535,5.529626846313477,4.0552544593811035,4.891417980194092,4.043290615081787,5.012501239776611,4.214879512786865,5.189124584197998,3.336441993713379,3.8856523036956787,5.078420639038086,4.3348798751831055,5.360805511474609,4.6422319412231445,6.345086097717285,3.6235904693603516,5.026806831359863,5.599454879760742,4.622897624969482,5.157895088195801,5.184650421142578,3.9061639308929443,4.489363670349121,4.34920072555542,4.473756313323975,5.527011871337891,3.4527270793914795,5.169856548309326,3.783747434616089,4.445865631103516,3.956005573272705,4.2408294677734375,3.646977663040161,3.5737462043762207,5.894679546356201,2.9140079021453857,4.230274200439453,3.9702887535095215,3.9606542587280273,3.812077760696411,3.775050640106201,4.12891960144043,4.493501663208008,4.682349681854248,5.5894083976745605,4.560194492340088,5.361837863922119,5.99149751663208,4.9441704750061035,5.7442426681518555,4.394138336181641,3.887202262878418,5.115511894226074,3.795806646347046,4.59687614440918,3.4996087551116943,3.930365562438965,4.18884801864624,3.10776424407959,4.671031951904297,5.0744476318359375,5.971823692321777,5.574784278869629,5.239974021911621,5.4890031814575195,5.111445903778076,3.1963393688201904,3.4843027591705322,5.648873329162598,5.281764984130859,5.167590141296387,4.546895980834961,5.919118404388428,5.744536399841309,3.9262313842773438,5.546976566314697,3.3199923038482666,3.8567090034484863,3.140165328979492,3.8898277282714844,5.178386211395264,4.827099323272705,4.719325542449951,5.51882791519165,4.394236087799072,5.154080867767334,4.426232814788818,5.0213212966918945,3.3503987789154053,5.09224796295166,3.9241318702697754,5.8872504234313965,4.004654884338379,5.714309215545654,3.3778438568115234,5.323943138122559,4.012053489685059,6.212242603302002,3.5240495204925537,4.749240398406982,4.125691890716553,6.017951011657715,5.537699222564697,4.584169864654541,3.0008161067962646,5.469302654266357,5.184139728546143,3.513354539871216,3.249818801879883,4.2112274169921875,5.009259223937988,5.669320583343506,5.464885234832764,3.296071767807007,3.3008029460906982,5.58638334274292,3.781532049179077,3.4898552894592285,3.779785633087158,5.680954456329346,5.480947971343994,6.941568374633789,4.471732139587402,3.712475299835205,3.831131935119629,5.117414474487305,8.063435554504395,4.2274699211120605,4.747535228729248,4.416074752807617,4.655439376831055,4.6853108406066895,6.192277431488037,4.030458927154541,3.181246519088745,4.645991802215576,5.026936054229736,4.192300796508789,4.719732761383057,5.3906450271606445,5.637628555297852,3.6858949661254883,3.9355547428131104,3.617086887359619,4.800210475921631,5.403269290924072,4.853061199188232,3.814246654510498,5.453771114349365,5.162591457366943,5.562817573547363,5.743527412414551,5.0125412940979,4.009093284606934,5.671965599060059,5.07551908493042,6.431887626647949,4.21671724319458,5.443161487579346,7.752648830413818,5.284224987030029,3.809537887573242,5.397700309753418,5.608596324920654,5.40472412109375,5.161142826080322,4.368127822875977,3.997985363006592,5.316773414611816,3.367189645767212,5.349137306213379,3.6870453357696533,4.910892963409424,5.11750602722168,5.16499662399292,5.160229682922363,4.6461873054504395,3.1550323963165283,4.9323248863220215,3.8958330154418945,5.46654748916626,7.923640727996826,4.283370494842529,6.430331707000732,3.2937982082366943,4.016170978546143,4.020256519317627,5.013036727905273,4.063009738922119,5.859665393829346,3.3596556186676025,5.353763103485107,4.096501350402832,3.6071016788482666,5.4362077713012695,5.550158977508545,2.7850496768951416,3.629192352294922,4.163486957550049,5.100846290588379,4.6942901611328125,4.035060882568359,6.067904949188232,5.377903461456299,5.231184959411621,6.251662254333496,5.164516448974609,5.073553562164307,5.285620212554932,3.9627091884613037,4.878429412841797,5.590725421905518,4.689176559448242,3.08100962638855,5.204670429229736,5.592697620391846,4.18620491027832,4.143511772155762,4.891547203063965,5.601747989654541,4.016073703765869,3.7193408012390137,3.671884536743164,4.911016464233398,5.829268455505371,3.827608346939087,5.290167331695557,5.412866592407227,3.2933154106140137,3.681960344314575,7.116450309753418,5.077740669250488,3.701364755630493,5.336313247680664,5.2540812492370605,4.060597896575928,3.1223700046539307,5.015560150146484,4.220952987670898,4.460083961486816,4.154251575469971,4.2199835777282715,4.911827564239502,5.3901166915893555,3.9862759113311768,4.729127883911133,4.068207740783691,4.795705795288086,4.946935653686523,3.5434410572052],\"yaxis\":\"y\",\"type\":\"scattergl\"},{\"hovertemplate\":\"cluster=cluster 7<br>x=%{x}<br>y=%{y}<extra></extra>\",\"legendgroup\":\"cluster 7\",\"marker\":{\"color\":\"#ab63fa\",\"symbol\":\"circle\"},\"mode\":\"markers\",\"name\":\"cluster 7\",\"showlegend\":true,\"x\":[10.764195442199707,9.371447563171387,10.958328247070312,9.622522354125977,10.839324951171875,9.015704154968262,10.411788940429688,9.000044822692871,8.796916007995605,11.399843215942383,10.075912475585938,10.85227108001709,10.698904991149902,10.859174728393555,8.2305269241333,10.896788597106934,10.565242767333984,10.2882080078125,10.204529762268066,9.853578567504883,10.85749340057373,9.562673568725586,9.06234359741211,9.766281127929688,8.473749160766602,9.670448303222656,10.843755722045898,10.578962326049805,7.954005718231201,9.67151927947998,9.490434646606445,10.7145414352417,10.826915740966797,9.505207061767578,10.023331642150879,9.78193187713623,10.994368553161621,9.898863792419434,9.236339569091797,9.275660514831543,10.302132606506348,10.972586631774902,10.402838706970215,9.620560646057129,9.13898754119873,11.315237998962402,10.76321029663086,9.13290786743164,11.326478958129883,9.353796005249023,9.344245910644531,10.74543571472168,10.0498685836792,9.836851119995117,9.613951683044434,10.167597770690918,9.415024757385254,10.268218040466309,8.956573486328125,9.283806800842285,8.300625801086426,9.20825481414795,10.480628967285156,10.675329208374023,10.781187057495117,8.64250659942627,9.512405395507812,9.531559944152832,11.392513275146484,9.123336791992188,10.444280624389648,10.457928657531738,10.602804183959961,11.293370246887207,10.013585090637207,10.473679542541504,10.79982852935791,9.537505149841309,9.13290023803711,11.755249977111816,9.231067657470703,11.101866722106934,11.93862533569336,9.786993026733398,9.519944190979004,8.703989028930664,9.196999549865723,10.956645965576172,11.023336410522461,12.321196556091309,11.019279479980469,11.377257347106934,10.051982879638672,9.053689002990723,8.891071319580078,9.290620803833008,10.593681335449219,10.887643814086914,9.9814453125,9.887736320495605,10.819445610046387,10.047294616699219,10.54661750793457,10.344704627990723,7.753482341766357,10.236668586730957,10.608732223510742,11.04625129699707,8.831001281738281,8.02955436706543,10.587586402893066,9.40019702911377,10.112320899963379,10.513894081115723,11.902473449707031,11.687273025512695,11.109107971191406,9.091886520385742,9.834486961364746,8.915301322937012,11.707667350769043,8.841540336608887,9.310416221618652,10.438124656677246,11.147773742675781,9.485601425170898,9.280248641967773,11.960196495056152,8.853385925292969,11.443225860595703,9.884137153625488,11.01711654663086,10.983770370483398,10.128349304199219,10.465682983398438,10.495991706848145,7.97573184967041,10.381171226501465,8.600192070007324,9.21245002746582,10.170797348022461,6.908285617828369,8.78738021850586,9.700350761413574,11.2592134475708,11.293389320373535,9.305992126464844,11.80590534210205,11.389996528625488,11.489519119262695,9.682085037231445,12.159075736999512,9.488664627075195,9.663680076599121,12.366726875305176,11.712406158447266,10.114036560058594,11.07231616973877,9.064037322998047,11.321983337402344,9.722803115844727,10.45514965057373,9.815276145935059,9.498175621032715,9.004157066345215,10.556920051574707,9.940001487731934,9.085223197937012,9.940509796142578,11.31617259979248,9.245560646057129,11.315275192260742,10.473830223083496,10.103910446166992,10.896761894226074,9.058180809020996,11.103321075439453,12.189684867858887,10.702594757080078,9.835805892944336,7.280675411224365,8.96174144744873,11.087414741516113,10.235858917236328,9.942490577697754,11.735782623291016,8.866676330566406,9.7207612991333,8.117226600646973,10.281743049621582,10.63077163696289,10.146096229553223,9.036576271057129,11.37179946899414,8.771103858947754,9.030523300170898,10.656982421875,9.819275856018066,11.50802993774414,10.71204948425293,10.164292335510254,9.548991203308105,10.377677917480469,10.098217964172363,11.225892066955566,9.54080581665039,9.895150184631348,10.37807846069336,10.129243850708008,9.150575637817383,9.044855117797852,7.615219593048096,9.985512733459473,10.89370059967041,9.957978248596191,12.429043769836426,11.468061447143555,10.336522102355957,10.162744522094727,10.320189476013184,10.533292770385742,10.237207412719727,9.390328407287598,10.118685722351074,9.890646934509277,8.594513893127441,9.192667961120605,11.318450927734375,9.069682121276855,9.278796195983887,11.14328670501709,9.115478515625,10.171869277954102,10.886102676391602,10.716534614562988,11.600419044494629,10.234408378601074,10.57615852355957,11.321248054504395,10.068523406982422,9.372522354125977,10.174590110778809,11.376452445983887,8.937620162963867,11.203974723815918,9.899123191833496,8.981293678283691,10.265028953552246,9.228826522827148,9.637190818786621,9.437180519104004,7.580094337463379,7.70468807220459,9.864245414733887,8.800097465515137,9.291470527648926,12.004491806030273,9.109282493591309,10.097772598266602,9.889233589172363,9.478728294372559,9.334381103515625,9.095199584960938,10.242060661315918,7.967228412628174,10.855681419372559,10.775087356567383,9.94804859161377,9.338983535766602,8.763824462890625,9.139265060424805,9.587027549743652,9.775675773620605,11.046799659729004,10.183030128479004,8.635115623474121,10.875358581542969,10.33481216430664,9.744556427001953,8.808655738830566,10.718024253845215,10.94933795928955,12.553323745727539,11.223814010620117,10.308838844299316,10.059446334838867,10.866764068603516,9.205527305603027,10.021197319030762,10.998669624328613,9.189780235290527,10.078885078430176,10.72286605834961,10.12285327911377,10.446776390075684,9.576574325561523,10.854483604431152,9.661935806274414,10.676889419555664,10.604854583740234,10.708514213562012,8.632346153259277,9.498640060424805,10.115188598632812,11.529424667358398,10.001093864440918,10.77962875366211,10.693611145019531,11.130329132080078,10.103010177612305,11.199300765991211,9.367960929870605,11.23912525177002,11.256814002990723,11.17849063873291,11.37759780883789,10.539746284484863,9.839483261108398,10.695281028747559,10.022909164428711,9.987687110900879,9.502154350280762,8.872126579284668,9.855916976928711,10.41055965423584,9.329595565795898,9.015368461608887,8.960561752319336,9.383469581604004,11.775080680847168,8.658732414245605,10.156012535095215,9.714587211608887,10.347125053405762,7.563409328460693,9.462605476379395,11.095514297485352,11.418787002563477,8.798669815063477,10.492280960083008,9.105378150939941,9.836203575134277,9.18227767944336,9.441034317016602,10.692778587341309,9.91891860961914,12.924870491027832,9.917044639587402,9.865715980529785,10.79573917388916,11.113544464111328,8.872570037841797,8.782635688781738,10.341552734375,11.047872543334961,10.798896789550781,9.609146118164062,9.278127670288086,9.874651908874512,12.09670639038086,10.366964340209961,10.812704086303711,10.796492576599121,8.902263641357422,10.619750022888184,9.25095272064209,9.291289329528809,9.311992645263672,9.95355224609375,9.336277961730957,11.294727325439453,9.32716178894043,9.605608940124512,9.079024314880371,10.044257164001465,10.131735801696777,9.430502891540527,10.743541717529297,10.098517417907715,8.82668399810791,10.534087181091309,10.396528244018555,10.329782485961914,9.266609191894531,10.87706184387207,10.627691268920898,11.087573051452637,9.080713272094727,11.099166870117188,10.828756332397461,10.491308212280273,10.696393966674805,10.628655433654785,9.981891632080078,7.5334882736206055,10.363723754882812,8.887839317321777,9.84182357788086,9.59127426147461,11.256176948547363,8.746270179748535,11.090041160583496,11.702223777770996,8.83067512512207,11.118474960327148,10.730331420898438,9.289073944091797,9.204891204833984,10.009671211242676,9.522168159484863,12.014787673950195,10.475469589233398,10.8565092086792,10.426432609558105,10.730612754821777,10.590401649475098,10.540562629699707,10.670191764831543,10.705883026123047,9.633440971374512,12.010866165161133,9.347679138183594,10.543643951416016,9.941046714782715,10.905749320983887,10.632089614868164,10.226826667785645,8.704032897949219,10.032918930053711,11.480466842651367,8.914767265319824,7.5875444412231445,8.997444152832031,9.221439361572266,9.88552188873291,9.27479362487793,9.64531135559082,10.378275871276855,11.371522903442383,10.464106559753418,10.972936630249023,9.411911010742188,10.6013822555542,8.957005500793457,10.187176704406738,10.564199447631836,10.671028137207031,8.989181518554688,10.693906784057617,9.134161949157715,10.401650428771973,9.996200561523438,11.060812950134277,11.503273010253906,8.765045166015625,10.637222290039062,7.706054210662842,10.682679176330566,12.2639799118042,9.762374877929688,10.089969635009766,10.754730224609375,8.776310920715332,9.238327980041504,9.456925392150879,9.436727523803711,10.185161590576172,9.866604804992676,9.181646347045898,8.879014015197754,8.846678733825684,10.812435150146484,9.242903709411621,10.276782989501953,8.8828125,9.77941608428955,8.939840316772461,9.757183074951172,9.44851303100586,9.635259628295898,8.836371421813965,10.39318561553955,8.625920295715332,10.730506896972656,9.874281883239746,8.849109649658203,11.62730884552002,9.209123611450195,9.145163536071777,8.488273620605469,10.80799388885498,11.656399726867676,10.917106628417969,10.656091690063477,11.92241096496582,10.0464448928833,10.259708404541016,10.14011001586914,7.866683006286621,10.331751823425293,7.910270690917969,10.613943099975586,10.95050048828125,8.720648765563965,11.111556053161621,8.930399894714355,7.548137187957764,10.907098770141602,9.247554779052734,9.588262557983398,10.338603973388672,8.979846954345703,7.704372882843018,10.463292121887207,11.68440055847168,8.971236228942871,10.52440071105957,9.25007438659668,10.97523307800293,10.514514923095703,11.183733940124512,9.524776458740234,9.660110473632812,11.418976783752441,11.288713455200195,11.380634307861328,11.600658416748047,8.849289894104004,10.230507850646973,11.113397598266602,9.653141021728516,8.982704162597656,9.020425796508789,11.054567337036133,8.831151962280273,10.111286163330078,11.321581840515137,10.760235786437988,9.066095352172852,10.842242240905762,9.029221534729004,10.650894165039062,9.990798950195312,11.361893653869629,8.789286613464355,9.719703674316406,9.604111671447754,10.079171180725098,9.459988594055176,9.530651092529297,10.823758125305176,8.669099807739258,9.979405403137207,10.965865135192871,9.177355766296387,11.377077102661133,10.541708946228027,9.401741981506348,10.778820037841797,10.854375839233398,9.757600784301758,11.892064094543457,9.864921569824219,10.044441223144531,11.152098655700684,11.474201202392578,9.960542678833008,10.23752498626709,11.784485816955566,9.050280570983887,9.849687576293945,10.638113021850586,8.997685432434082,10.992517471313477,8.789712905883789,10.988183975219727,9.428593635559082,9.091489791870117,9.267916679382324,9.35511302947998,7.37623405456543,9.276025772094727,8.574644088745117,11.33332347869873,9.80064868927002,10.060249328613281,8.851036071777344,9.472025871276855,10.01313591003418,10.941317558288574,8.964264869689941,10.94710636138916,10.818321228027344,10.623632431030273,9.751119613647461,9.446337699890137,12.559560775756836,10.01114273071289,10.915456771850586,10.296679496765137,10.606133460998535,10.87314510345459,10.949481964111328,9.136828422546387,9.07456111907959,10.331005096435547,8.97394847869873,9.191559791564941,9.751224517822266,11.247554779052734,9.409404754638672],\"xaxis\":\"x\",\"y\":[7.66243839263916,4.873628616333008,6.08087158203125,6.260976791381836,5.6277666091918945,7.839539527893066,5.850091457366943,8.228368759155273,6.381862163543701,6.2750749588012695,6.901881217956543,7.433938980102539,6.064328670501709,8.217784881591797,6.12506628036499,7.424462795257568,6.815785884857178,6.059624195098877,6.501793384552002,7.754060745239258,7.0005621910095215,6.379781246185303,8.287460327148438,7.6288838386535645,7.17334508895874,6.072439670562744,7.60253381729126,6.7893877029418945,5.332522869110107,6.6732988357543945,7.564106464385986,7.63662576675415,6.397136211395264,7.840307712554932,4.622292518615723,7.732138156890869,7.092562198638916,6.073324680328369,7.066788196563721,7.746267318725586,6.815967082977295,6.108605861663818,6.291536331176758,7.403304100036621,5.964537620544434,6.149602890014648,6.843876838684082,7.1276750564575195,6.196019649505615,6.50767707824707,7.8061418533325195,6.465508937835693,6.346728801727295,6.295466423034668,7.787796974182129,5.849607467651367,7.958433628082275,8.28765869140625,7.179319858551025,6.910653114318848,6.710973739624023,7.116341590881348,8.401901245117188,7.595177173614502,6.602953910827637,7.679969310760498,7.484772205352783,7.824552059173584,6.693483352661133,6.97145414352417,6.72226619720459,6.173687934875488,7.0724053382873535,6.124958038330078,5.533260822296143,6.4060211181640625,6.373414993286133,7.766571998596191,7.728316307067871,7.074286937713623,5.913275241851807,7.979057788848877,7.154365062713623,6.91700553894043,5.458706378936768,8.07386589050293,8.124336242675781,5.992117881774902,6.043488502502441,6.319250106811523,6.550356388092041,6.97089147567749,8.187950134277344,5.965200424194336,8.137569427490234,6.15009880065918,6.749483585357666,7.966921806335449,6.810009479522705,7.431546688079834,7.097508430480957,7.964670658111572,6.033557415008545,5.834025859832764,5.676699638366699,7.34960412979126,7.93537712097168,6.317235469818115,5.349814414978027,4.76794958114624,6.355825424194336,7.563923358917236,7.317921161651611,5.757922172546387,6.391021251678467,7.116062641143799,6.774034023284912,6.642154693603516,5.8286285400390625,7.314773082733154,7.119223117828369,6.154112815856934,6.641189098358154,7.140547752380371,6.549069881439209,6.421813011169434,7.794033527374268,5.856557846069336,7.998368740081787,7.016145706176758,6.580891132354736,6.706000328063965,7.448325157165527,6.22509765625,7.1551079750061035,6.958903789520264,4.555192947387695,7.243997573852539,8.144038200378418,6.170598983764648,6.878453731536865,3.6223092079162598,7.294456958770752,6.641469955444336,6.401569366455078,5.959837913513184,5.210270881652832,6.15090274810791,7.685252666473389,6.508882522583008,7.603675842285156,5.901969909667969,6.466251373291016,7.444238662719727,7.1870903968811035,6.982967376708984,8.245938301086426,6.005287170410156,7.18290376663208,6.442281246185303,7.69337797164917,5.996270656585693,4.632458209991455,6.1650710105896,6.100237846374512,6.835952281951904,7.187913417816162,7.058611869812012,6.1725287437438965,6.844062328338623,7.650793075561523,6.192102909088135,7.428837299346924,7.8905534744262695,6.583835124969482,5.110809326171875,7.777987480163574,7.232543468475342,7.061902046203613,6.771340847015381,4.355868816375732,7.572701930999756,6.797648906707764,7.244574546813965,5.810931205749512,6.8157806396484375,5.320576190948486,5.843338966369629,6.461889743804932,7.312184810638428,5.6046929359436035,6.5121378898620605,5.471441745758057,7.230033874511719,6.548917293548584,7.552007675170898,7.651174545288086,5.92684268951416,6.28950309753418,6.895081996917725,6.197417259216309,6.781744003295898,6.807400226593018,6.627508640289307,7.688410758972168,5.414748191833496,6.1281046867370605,5.821416854858398,6.797571659088135,6.956587791442871,8.106812477111816,5.061573505401611,5.99688720703125,6.399862766265869,6.368107795715332,6.541482925415039,6.074807167053223,6.419342041015625,7.844271659851074,6.712615013122559,6.381211280822754,5.991410732269287,7.403173923492432,6.338618755340576,6.759976387023926,5.339471817016602,5.633224964141846,6.417016506195068,7.18489933013916,6.746107578277588,6.079391002655029,7.759909152984619,5.032408714294434,6.257838249206543,6.188985347747803,6.4518351554870605,6.973821640014648,7.085728645324707,7.422173023223877,7.773470878601074,7.176262855529785,5.700543403625488,7.316264629364014,6.19108247756958,6.042125701904297,5.490184783935547,6.156178951263428,7.433255672454834,5.739931583404541,7.534916400909424,7.6091508865356445,4.747870445251465,5.150058746337891,7.214509963989258,6.6636881828308105,8.129781723022461,4.8784379959106445,6.024318218231201,3.424133539199829,5.950736999511719,6.513128280639648,6.540024757385254,6.752040863037109,8.246902465820312,6.010362148284912,6.271716117858887,5.687722206115723,6.152639865875244,7.462211608886719,7.523141384124756,6.531620502471924,7.014145851135254,6.678189277648926,7.008323669433594,7.498001575469971,6.8734517097473145,6.809965133666992,6.296057224273682,6.506256103515625,5.299281120300293,5.901821613311768,7.458372116088867,5.228891849517822,6.200984477996826,5.647783279418945,7.069911003112793,6.144647598266602,5.730584621429443,8.284546852111816,6.024658203125,5.751574516296387,4.711032867431641,6.382984161376953,5.9343581199646,7.159056663513184,7.790606498718262,6.690551280975342,6.219343185424805,6.650068759918213,6.47812032699585,7.566353797912598,7.711820602416992,7.754805564880371,5.8319573402404785,6.0325846672058105,7.236274719238281,7.564408302307129,8.312256813049316,6.169078826904297,8.164499282836914,7.097350597381592,8.063838958740234,6.362224578857422,6.334144115447998,6.129253387451172,6.53669548034668,7.7416791915893555,8.189504623413086,6.471923351287842,7.121375560760498,7.0678277015686035,6.428652763366699,6.485713958740234,7.853033542633057,6.324211120605469,5.895858287811279,6.821305274963379,7.11898136138916,7.236779689788818,6.666289806365967,7.561520576477051,7.866951942443848,7.183047771453857,7.628467559814453,4.545515060424805,7.252763748168945,6.3195085525512695,6.8701982498168945,6.945769309997559,7.202496528625488,6.92183256149292,6.6502556800842285,6.887073516845703,7.255603313446045,8.316245079040527,7.6093430519104,4.810984134674072,5.851926803588867,7.302357196807861,6.572853088378906,7.8239946365356445,5.439056396484375,7.608824729919434,7.526350975036621,7.817903518676758,5.669585704803467,7.73145055770874,6.443336009979248,7.393685817718506,6.1935296058654785,5.937633991241455,7.370412349700928,7.342198848724365,7.338235855102539,6.565468788146973,5.807964324951172,7.836315631866455,7.456920146942139,6.058712959289551,6.654999732971191,6.269895553588867,6.113289833068848,6.89496374130249,7.145673751831055,8.17385482788086,6.959311008453369,6.432672023773193,5.7496867179870605,6.035525798797607,7.710907936096191,5.497579097747803,5.286520481109619,6.983785152435303,5.966482639312744,6.637813568115234,7.918379783630371,6.569882869720459,7.089211463928223,6.823102951049805,7.583905220031738,6.187215805053711,6.398096084594727,7.567420482635498,6.450353622436523,4.9183454513549805,6.97710657119751,7.146792888641357,7.219918727874756,7.797547340393066,6.816201686859131,7.244102478027344,6.157154560089111,6.270570755004883,7.097934722900391,7.040337085723877,6.717958927154541,7.398331642150879,7.052262306213379,7.266116619110107,6.771918773651123,5.997561454772949,5.6709113121032715,6.40598726272583,7.7318525314331055,8.307782173156738,5.707796573638916,5.797379493713379,6.869253158569336,7.625524520874023,7.119633674621582,6.978392601013184,7.063981533050537,6.577031135559082,6.657598495483398,6.275153636932373,7.667746067047119,5.980015277862549,7.638401985168457,5.556237697601318,6.480277061462402,6.421058177947998,5.609917640686035,7.20837926864624,8.092001914978027,6.6850481033325195,7.033078670501709,6.491421699523926,6.121101379394531,6.520788192749023,6.4366044998168945,6.153306484222412,6.946740627288818,6.857173442840576,6.953132629394531,6.912161350250244,6.577637195587158,6.697726726531982,7.493645191192627,6.447499752044678,7.228400230407715,6.306446075439453,6.194546699523926,6.290136814117432,6.2502031326293945,5.258024215698242,7.531363487243652,5.5744452476501465,6.288509845733643,5.483736038208008,4.35399055480957,6.656282901763916,7.085864067077637,7.19518518447876,6.1058220863342285,7.260721206665039,8.132604598999023,7.100621700286865,6.774513244628906,7.847473621368408,7.3503546714782715,5.370420455932617,8.169798851013184,7.287267208099365,6.5402512550354,5.311578750610352,5.479576110839844,7.650081157684326,4.677023887634277,6.880405902862549,7.2818498611450195,7.480226993560791,6.1122965812683105,7.479955196380615,6.176135540008545,4.763044357299805,5.3145833015441895,6.777409553527832,6.826827526092529,6.9497575759887695,6.7307868003845215,7.164979934692383,6.159521102905273,5.975907325744629,7.560995101928711,6.451469421386719,6.568833351135254,7.805523872375488,5.871701717376709,4.716767311096191,8.250008583068848,4.380265235900879,7.578603267669678,5.43489933013916,6.587594985961914,6.084359645843506,7.973913669586182,4.943848609924316,5.864898681640625,5.925713539123535,6.768452167510986,4.891247749328613,6.357486248016357,4.987015247344971,7.591517925262451,6.7431960105896,7.213883876800537,6.29940128326416,7.167440414428711,6.739345073699951,6.640718936920166,7.189885139465332,6.831037521362305,7.012404918670654,7.014339447021484,6.189678192138672,6.227085590362549,6.235073089599609,6.329901218414307,6.576840400695801,7.857769966125488,6.623098373413086,6.732081413269043,6.8955607414245605,6.566731929779053,6.991207599639893,6.494835376739502,6.34002685546875,6.500106334686279,7.2977728843688965,7.578939437866211,6.652048110961914,6.8117852210998535,7.166290760040283,6.766836643218994,7.693532943725586,7.358644962310791,5.37224817276001,6.148041725158691,8.0623197555542,7.286947727203369,6.430515289306641,7.66077184677124,4.676443576812744,7.390223979949951,7.713067531585693,6.244162559509277,6.7308807373046875,7.2657790184021,7.992902755737305,6.250813961029053,6.47369384765625,5.940154552459717,5.0512614250183105,8.293659210205078,7.224347114562988,6.6691718101501465,7.914542198181152,6.1338090896606445,7.0594024658203125,6.770612716674805,6.555222511291504,6.809749126434326,7.412057876586914,6.418205738067627,7.4944376945495605,6.663130760192871,5.909769058227539,6.373709678649902,7.127220630645752,5.791182041168213,4.458357334136963,7.037755489349365,7.914879322052002,7.261608600616455,6.118182182312012,6.4347686767578125,5.353567600250244,7.071253299713135,6.032765865325928,6.3594651222229,7.267538547515869,6.404235363006592,6.5600481033325195,7.0618391036987305,6.122305870056152,6.911044597625732,4.9513397216796875,6.985976219177246,6.645112037658691,7.6054768562316895,6.797347068786621,6.937102317810059,6.337625026702881,7.003534317016602,5.852392196655273,6.6285176277160645,7.550320625305176,7.065249443054199,6.408322811126709,6.810326099395752,6.816067218780518],\"yaxis\":\"y\",\"type\":\"scattergl\"},{\"hovertemplate\":\"cluster=cluster 3<br>x=%{x}<br>y=%{y}<extra></extra>\",\"legendgroup\":\"cluster 3\",\"marker\":{\"color\":\"#FFA15A\",\"symbol\":\"circle\"},\"mode\":\"markers\",\"name\":\"cluster 3\",\"showlegend\":true,\"x\":[11.885172843933105,9.880655288696289,12.145397186279297,9.58611011505127,12.62723159790039,9.167147636413574,11.855728149414062,5.406798839569092,9.020966529846191,12.497228622436523,12.931605339050293,9.822547912597656,10.10155200958252,12.806022644042969,12.88780403137207,9.952991485595703,12.581657409667969,10.029464721679688,9.863602638244629,12.194070816040039,7.559996604919434,11.282215118408203,11.731406211853027,9.374103546142578,12.065953254699707,12.28470516204834,9.887653350830078,8.486846923828125,6.537734508514404,12.35363483428955,9.072941780090332,11.93115234375,12.140205383300781,9.545869827270508,11.966922760009766,8.0845365524292,9.825601577758789,10.40953254699707,11.196134567260742,9.945999145507812,12.59428596496582,9.93500804901123,9.88405990600586,9.873213768005371,11.922937393188477,9.981841087341309,12.29838752746582,12.172850608825684,12.089496612548828,12.477121353149414,12.415237426757812,12.330257415771484,10.046676635742188,12.305876731872559,12.281211853027344,12.21773624420166,12.525145530700684,12.04135799407959,8.075234413146973,12.322239875793457,9.967842102050781,12.361002922058105,12.265081405639648,11.572492599487305,11.958686828613281,11.810909271240234,11.767788887023926,6.767189979553223,12.048972129821777,12.531771659851074,12.471749305725098,10.144803047180176,11.8925142288208,9.117547035217285,12.417989730834961,9.928464889526367,12.547457695007324,11.732037544250488,9.295045852661133,12.582572937011719,10.156487464904785,12.299286842346191,12.720820426940918,12.483978271484375,12.054656028747559,12.497535705566406,12.352574348449707,12.345710754394531,9.000298500061035,12.553362846374512,9.976807594299316,9.361233711242676,10.085882186889648,12.411322593688965,10.336737632751465,10.125947952270508,12.286983489990234,7.939934730529785,12.323830604553223,12.230202674865723,12.77354621887207,12.093074798583984,11.723882675170898,12.651060104370117,12.216002464294434,13.148486137390137,12.352557182312012,12.178189277648926,9.992476463317871,9.709189414978027,12.64597225189209,10.48666000366211,8.857046127319336,12.190170288085938,12.334887504577637,11.731830596923828,12.829743385314941,12.277604103088379,12.508917808532715,12.288187026977539,12.693255424499512,11.962104797363281,11.577913284301758,10.415811538696289,12.383819580078125,12.887392044067383,12.402420043945312,9.913541793823242,9.104540824890137,12.437633514404297,11.816678047180176,9.932044982910156,11.7578125,12.427299499511719,9.853607177734375,9.881758689880371,11.937919616699219,12.515156745910645,12.197230339050293,10.740763664245605,11.997840881347656,6.482418537139893,9.838127136230469,12.02917766571045,12.353344917297363,9.813446998596191,8.807517051696777,9.838000297546387,9.263686180114746,8.021306037902832,12.139669418334961,12.551179885864258,12.668091773986816,12.737192153930664,12.379918098449707,10.338095664978027,9.867950439453125,9.524663925170898,10.192727088928223,11.15753173828125,12.13076114654541,12.458477020263672,11.059670448303223,11.902386665344238,8.897544860839844,9.880528450012207,11.984542846679688,11.610790252685547,6.6775712966918945,12.40972900390625,12.317584991455078,12.441988945007324,11.047355651855469,9.905722618103027,12.269067764282227,12.42853832244873,12.169769287109375,8.978702545166016,11.551287651062012,11.855920791625977,12.266378402709961,12.220443725585938,12.408387184143066,11.766548156738281,9.871187210083008,12.477876663208008,12.385664939880371,11.851536750793457,11.549877166748047,12.535200119018555,11.908535957336426,11.261454582214355,11.836970329284668,12.158649444580078,12.364116668701172,11.178629875183105,12.270707130432129,12.242363929748535,12.442622184753418,12.352274894714355,9.885343551635742,12.18974494934082,12.366941452026367,10.3420991897583,9.25991439819336,9.366623878479004,12.334623336791992,11.719282150268555,9.218850135803223,8.843608856201172,11.527010917663574,12.481603622436523,12.197368621826172,6.397069931030273,12.703988075256348,12.465527534484863,7.7278032302856445],\"xaxis\":\"x\",\"y\":[4.1909589767456055,9.008930206298828,3.932455062866211,3.362123727798462,4.463650226593018,5.515784740447998,3.9566781520843506,3.428807020187378,5.6306610107421875,4.476132392883301,4.662728786468506,8.761408805847168,6.610217094421387,4.598729133605957,4.728982448577881,8.912064552307129,4.434568405151367,6.068852424621582,8.929276466369629,3.9846060276031494,3.2993321418762207,4.93471097946167,4.0583038330078125,8.06849479675293,5.9077043533325195,4.623045921325684,8.98160171508789,5.8672895431518555,3.0217185020446777,4.3766279220581055,5.568950653076172,4.032827377319336,5.597663402557373,7.778591156005859,4.413502216339111,5.88796329498291,8.964055061340332,6.604228496551514,6.966801166534424,8.884251594543457,7.268472671508789,8.91744327545166,8.924164772033691,6.064061164855957,3.9393720626831055,8.951300621032715,4.570956707000732,4.78580904006958,3.683643341064453,4.288346290588379,5.1192851066589355,4.511138916015625,6.788405418395996,3.907134532928467,5.378154277801514,5.0834245681762695,4.023128509521484,6.945563316345215,4.8145318031311035,3.826418161392212,8.801403045654297,3.7000930309295654,3.930927038192749,5.269905090332031,3.806641101837158,3.63777494430542,4.299663066864014,2.4681448936462402,5.071599006652832,4.692413330078125,4.144118309020996,7.0469584465026855,3.288248062133789,6.078354835510254,4.608269691467285,8.958099365234375,4.857360363006592,5.640510559082031,8.201685905456543,4.146385669708252,8.62385368347168,4.445188999176025,4.994663238525391,4.533639907836914,3.849439859390259,4.409234523773193,4.580070972442627,4.414098262786865,5.564759254455566,4.876690864562988,3.886256694793701,5.681157112121582,6.880005836486816,4.292660236358643,7.113638877868652,6.866507053375244,4.562237739562988,4.604727745056152,5.202252388000488,3.9368181228637695,4.856276512145996,3.5915281772613525,4.329233646392822,4.517207145690918,4.243710994720459,4.586027145385742,4.565709590911865,3.7186460494995117,6.769479274749756,5.80753755569458,4.591500759124756,7.846896648406982,5.377300262451172,4.653741836547852,4.48651647567749,4.18424654006958,4.7893385887146,3.9100916385650635,4.281566143035889,4.363279342651367,4.609921455383301,3.9257233142852783,3.9948012828826904,7.232086658477783,4.448949337005615,4.734576225280762,4.46811056137085,3.776442527770996,5.49977445602417,4.174014568328857,3.9612178802490234,8.750406265258789,6.900384426116943,4.404481887817383,8.906543731689453,9.000359535217285,3.8542802333831787,4.861240386962891,6.135418891906738,7.690938949584961,4.256045818328857,3.9165971279144287,8.891063690185547,3.6343789100646973,4.208979606628418,8.845410346984863,5.507593154907227,8.87708568572998,5.493996620178223,5.934389114379883,3.5987954139709473,4.381833076477051,4.594991683959961,4.759189605712891,4.294818878173828,7.873456954956055,9.009481430053711,8.332484245300293,6.6280622482299805,7.240149974822998,4.160536766052246,5.4572834968566895,7.183530807495117,3.4174351692199707,5.586337089538574,7.249574184417725,3.4316813945770264,4.950236797332764,3.665496349334717,4.1632537841796875,5.066925048828125,4.295499324798584,7.1820197105407715,8.979833602905273,4.468274116516113,4.203718185424805,4.979543209075928,5.585618019104004,4.7629008293151855,4.944263458251953,4.388065814971924,3.6652328968048096,5.777984619140625,4.617049694061279,8.86733627319336,5.200690269470215,4.5044097900390625,3.2983639240264893,4.784636974334717,4.219419479370117,5.826787948608398,7.095611572265625,4.135050296783447,4.196155071258545,4.177456855773926,6.902063846588135,4.498875141143799,4.236247539520264,5.015882968902588,4.289694309234619,8.886399269104004,5.379761219024658,4.35410213470459,6.951798439025879,5.964371204376221,8.0349760055542,4.549564838409424,3.956960439682007,5.58162784576416,5.299472332000732,3.6649186611175537,4.011800289154053,5.378617763519287,2.9305622577667236,4.891042232513428,4.693019390106201,5.593249320983887],\"yaxis\":\"y\",\"type\":\"scattergl\"},{\"hovertemplate\":\"cluster=cluster 0<br>x=%{x}<br>y=%{y}<extra></extra>\",\"legendgroup\":\"cluster 0\",\"marker\":{\"color\":\"#19d3f3\",\"symbol\":\"circle\"},\"mode\":\"markers\",\"name\":\"cluster 0\",\"showlegend\":true,\"x\":[13.047754287719727,14.32950496673584,13.137627601623535,12.792167663574219,11.960672378540039,12.444092750549316,12.688271522521973,12.068204879760742,14.025050163269043,11.94491195678711,14.151171684265137,12.477262496948242,12.405340194702148,13.298530578613281,11.637035369873047,10.853001594543457,12.610969543457031,12.379670143127441,13.71890926361084,13.038982391357422,13.025540351867676,11.490240097045898,13.841543197631836,13.536968231201172,7.0646257400512695,12.974038124084473,13.63364028930664,13.456775665283203,12.98484992980957,13.877799034118652,11.924985885620117,12.77810287475586,13.956436157226562,12.960626602172852,12.515819549560547,13.946184158325195,14.297133445739746,14.135702133178711,13.222718238830566,11.562357902526855,12.421066284179688,13.260805130004883,12.409233093261719,10.822552680969238,12.638206481933594,11.940865516662598,12.316465377807617,12.229559898376465,13.2556734085083,10.980606079101562,14.065442085266113,12.051833152770996,12.26623249053955,11.667604446411133,12.498011589050293,11.759965896606445,13.789813995361328,12.123543739318848,14.187458992004395,13.135249137878418,11.598440170288086,12.862733840942383,13.729613304138184,13.052145957946777,11.384443283081055,9.887967109680176,12.64966106414795,13.806669235229492,12.303304672241211,12.909400939941406,13.972954750061035,11.702110290527344,12.715014457702637,12.084638595581055,12.792716026306152,13.283634185791016,13.621079444885254,13.727471351623535,12.59914779663086,13.004229545593262,11.90310001373291,11.695825576782227,12.494131088256836,10.980631828308105,12.149704933166504,13.277849197387695,12.308699607849121,13.182321548461914,13.847490310668945,13.255633354187012,14.3011474609375,11.797562599182129,12.534305572509766,14.341842651367188,12.727287292480469,13.045328140258789,12.51175594329834,13.55539608001709,12.911849021911621,11.83827018737793,13.564136505126953,13.33891487121582,12.648775100708008,13.062651634216309,12.881457328796387,13.897811889648438,11.795689582824707,11.749093055725098,12.538216590881348,11.967430114746094,12.269712448120117,12.740659713745117,12.217278480529785,12.753007888793945,11.844714164733887,13.557845115661621,11.376304626464844,11.681248664855957,13.59743881225586,12.669608116149902,12.513248443603516,12.688721656799316,12.680122375488281,12.870471954345703,13.198495864868164,14.061888694763184,13.852914810180664,13.892054557800293,12.209583282470703,12.392542839050293,13.92143726348877,11.331018447875977,13.149041175842285,12.04792594909668,11.817100524902344,13.859492301940918,13.728157997131348,12.698885917663574,11.934269905090332,12.98487663269043,12.975175857543945,13.472760200500488,12.355840682983398,12.604836463928223,12.563998222351074,11.590775489807129,14.380804061889648,12.252472877502441,11.833373069763184,13.05140209197998,12.880983352661133,11.575519561767578,13.969038963317871,12.175125122070312,12.329087257385254,13.352604866027832,14.30634593963623,13.462068557739258,12.100470542907715,13.489608764648438,12.027473449707031,11.736226081848145,11.960017204284668,11.753731727600098,13.311939239501953,12.2941255569458,12.787680625915527,12.528983116149902,13.536578178405762,13.934473991394043,14.274496078491211,13.812950134277344,11.668252944946289,13.124958992004395,13.465107917785645,13.815797805786133,12.333383560180664,12.487249374389648,12.458465576171875,12.975518226623535,13.566963195800781,12.649139404296875,12.399182319641113,12.360230445861816,11.932999610900879,12.619514465332031,12.417855262756348,12.662834167480469,14.020102500915527,14.095630645751953,13.470368385314941,13.657743453979492,13.697428703308105,14.145087242126465,13.153727531433105,11.590070724487305,13.56737995147705,12.325165748596191,13.918225288391113,12.329500198364258,11.926401138305664,13.517091751098633,11.944462776184082,13.410991668701172,13.297463417053223,13.963028907775879,13.255735397338867,12.283915519714355,12.558432579040527,12.553937911987305,12.331719398498535,11.27055549621582,14.354913711547852,12.970731735229492,13.060993194580078,11.600763320922852,13.759032249450684,12.27462387084961,12.63354778289795,12.819314956665039,11.860139846801758,14.327921867370605,11.831619262695312,12.154584884643555,12.551417350769043,13.366482734680176,12.938584327697754,12.740267753601074,12.633561134338379,13.489532470703125,12.841950416564941,12.792280197143555,11.34817886352539,12.721381187438965,13.586373329162598,13.225581169128418,12.052250862121582,14.320892333984375,7.745266914367676,12.136307716369629,12.416075706481934,12.790488243103027,12.408255577087402,12.122485160827637,12.38193416595459,11.796823501586914,12.120657920837402,13.712843894958496,11.440467834472656,11.83197021484375,13.870789527893066,11.865667343139648,12.999164581298828,12.491828918457031,12.453930854797363,12.789450645446777,12.634105682373047,11.987927436828613,13.664090156555176,13.663748741149902,13.148279190063477,13.969562530517578,13.665323257446289,14.353991508483887,13.77023696899414,13.238775253295898,13.863956451416016,12.5266752243042,12.503544807434082,13.900097846984863,11.61452865600586,13.017354965209961,12.912014961242676,12.02799129486084,12.791666984558105,11.75883674621582,13.52342414855957,12.902514457702637,13.658074378967285,12.194297790527344,12.152822494506836,13.847461700439453,12.405691146850586,12.743178367614746,12.989130973815918,12.74291706085205,12.501594543457031,12.601000785827637,12.796976089477539,13.975576400756836,13.687519073486328,11.650272369384766,14.316630363464355,12.633254051208496,7.514533519744873,12.227837562561035,11.761184692382812,7.737120628356934,12.379424095153809,12.946179389953613,11.647829055786133,12.302257537841797,13.18270206451416,13.604148864746094,12.82967758178711,13.170499801635742,12.942572593688965,11.752724647521973,13.135103225708008,12.136897087097168,11.603466987609863,13.96500015258789,12.429112434387207,12.915576934814453,11.390203475952148],\"xaxis\":\"x\",\"y\":[5.915874004364014,6.014199733734131,4.958721160888672,7.126418590545654,6.87831449508667,6.52592658996582,6.268375396728516,5.4808478355407715,6.1180033683776855,6.250442981719971,6.014492511749268,6.382961273193359,4.132739067077637,5.6671037673950195,4.33189582824707,5.042002201080322,6.406220436096191,5.408801555633545,5.849940776824951,5.604828834533691,6.193842887878418,5.8983235359191895,4.056856155395508,6.495046615600586,3.7352676391601562,4.7354936599731445,6.160727024078369,6.186718940734863,6.234874248504639,4.081843376159668,6.521796226501465,7.0845441818237305,6.027994155883789,6.411746025085449,6.112771511077881,6.103053092956543,5.984807014465332,6.123202323913574,6.395107746124268,5.629029750823975,5.720976829528809,5.157074928283691,6.111692905426025,5.611520290374756,6.1033806800842285,6.1788506507873535,5.435691833496094,5.170316696166992,5.0633625984191895,7.481263160705566,6.134678363800049,5.1631646156311035,6.7566351890563965,6.03960657119751,6.131626605987549,5.392065525054932,6.097838401794434,5.807753562927246,6.012114524841309,5.868751525878906,6.553869724273682,6.1820197105407715,5.874507904052734,5.814742565155029,7.75629997253418,5.233223915100098,6.1279826164245605,5.911553382873535,6.1562628746032715,4.868765830993652,6.097299098968506,5.763262748718262,5.559206485748291,6.976950168609619,6.028462886810303,5.128483295440674,6.564525604248047,6.132453441619873,5.45435094833374,6.381588459014893,4.875868797302246,6.765078544616699,6.0121588706970215,7.610873699188232,5.567500114440918,5.9562554359436035,6.115384101867676,5.808844089508057,5.978559494018555,6.111478328704834,5.977636337280273,6.771413326263428,5.589594841003418,5.966457366943359,4.97592830657959,5.540962219238281,5.736313819885254,6.56719970703125,5.294399261474609,5.219052314758301,6.551694869995117,5.451513290405273,5.7526535987854,7.104092121124268,5.889103412628174,6.1983256340026855,5.050161361694336,5.785305500030518,6.4263505935668945,5.0379157066345215,6.574918270111084,5.977439880371094,5.303642749786377,6.042844295501709,6.122903347015381,6.5365376472473145,6.409295082092285,5.551079750061035,6.013102054595947,5.247827053070068,5.796457767486572,5.742396354675293,6.32476282119751,6.013325214385986,6.198363304138184,6.065214157104492,5.85231876373291,5.999570369720459,5.276309490203857,5.871096134185791,6.0449299812316895,5.703501224517822,5.876758575439453,6.117297172546387,6.710705280303955,5.9405975341796875,6.040343761444092,6.036009788513184,6.1675004959106445,5.743261814117432,6.037386894226074,5.69033145904541,6.380770683288574,6.001697540283203,5.811760425567627,6.351311206817627,5.989609241485596,5.831533432006836,6.538833141326904,5.049448490142822,6.025928020477295,5.833535671234131,6.0137128829956055,6.35847282409668,5.562108039855957,5.586117267608643,5.990755081176758,5.2880706787109375,5.5779876708984375,5.243139266967773,6.555204391479492,6.29561185836792,6.712400436401367,6.360367774963379,6.900547981262207,5.732234954833984,5.771932125091553,5.6304097175598145,5.730095386505127,5.978465557098389,5.976834297180176,6.024054050445557,4.983670234680176,6.387762069702148,5.0550642013549805,6.080717086791992,6.710371494293213,5.974599838256836,5.606823921203613,6.3756866455078125,6.103954315185547,6.179726600646973,5.582203388214111,5.945820331573486,6.060050964355469,5.672754764556885,7.229240417480469,4.858609199523926,6.0850324630737305,5.977318286895752,5.643862724304199,5.6994099617004395,5.763772010803223,5.963085174560547,5.746063709259033,6.179425239562988,6.527691841125488,7.231658458709717,5.977396488189697,6.021634578704834,6.173763751983643,5.6127471923828125,6.976737022399902,6.034451007843018,5.311009883880615,5.898313045501709,6.193890571594238,5.814424514770508,6.3097453117370605,6.165315628051758,7.230093955993652,5.89246129989624,5.991432189941406,6.3684868812561035,6.330039978027344,5.907680034637451,5.6987152099609375,6.00002384185791,6.177791595458984,5.288460731506348,6.629622459411621,5.972768306732178,5.93596076965332,5.795478820800781,5.704901695251465,5.5983452796936035,6.342189788818359,6.230398178100586,4.306309223175049,5.192535400390625,6.439311981201172,5.857585430145264,6.073619842529297,5.015209197998047,6.174097537994385,6.929332256317139,5.526165962219238,5.983980178833008,3.0865538120269775,6.589231967926025,5.645066738128662,6.435076713562012,6.229947566986084,5.509710311889648,5.377028942108154,6.467763900756836,6.115930557250977,5.9729814529418945,5.997526168823242,6.627520561218262,5.967683792114258,5.797101974487305,5.861564636230469,6.161191463470459,5.36867094039917,7.062484264373779,6.075888633728027,5.311312198638916,5.683587074279785,6.211052894592285,5.720536231994629,6.062735557556152,6.076717853546143,6.005407810211182,6.049261569976807,5.1732563972473145,5.978991985321045,6.019552230834961,6.085577487945557,6.149049282073975,6.246863842010498,6.173770427703857,6.124114990234375,5.777031898498535,5.929103851318359,5.253969669342041,5.784460544586182,6.39711332321167,6.482563018798828,6.455047130584717,5.818456649780273,3.6873955726623535,5.12527322769165,5.865589141845703,5.7212371826171875,5.251249313354492,6.164043426513672,5.811289310455322,5.352354526519775,6.079061031341553,6.180230617523193,5.274834156036377,5.969451904296875,5.641273021697998,4.497335433959961,5.438467025756836,6.636631488800049,3.1378626823425293,6.011152744293213,5.8305158615112305,6.3872551918029785,6.138388156890869,5.842276096343994,6.154050350189209,5.95077657699585,5.030996799468994,6.3508758544921875,6.6211748123168945,6.2747931480407715,6.087227821350098,5.449130535125732,6.112440586090088,5.801003456115723,6.38620662689209,6.080402851104736],\"yaxis\":\"y\",\"type\":\"scattergl\"},{\"hovertemplate\":\"cluster=cluster 8<br>x=%{x}<br>y=%{y}<extra></extra>\",\"legendgroup\":\"cluster 8\",\"marker\":{\"color\":\"#FF6692\",\"symbol\":\"circle\"},\"mode\":\"markers\",\"name\":\"cluster 8\",\"showlegend\":true,\"x\":[7.273691654205322,11.58492660522461,7.570596694946289,6.805942535400391,7.226433753967285,6.620383262634277,7.234715938568115,6.026783466339111,6.915107727050781,6.679427623748779,6.3704681396484375,7.211426734924316,6.750153541564941,6.923169136047363,7.504332065582275,6.6497111320495605,7.214629173278809,9.713085174560547,6.426026821136475,7.097458839416504,7.832922458648682,8.094260215759277,6.678685188293457,6.3953776359558105,12.424505233764648,6.932124137878418,7.108062744140625,7.400295257568359,10.827033996582031,10.602437973022461,7.796233177185059,6.4951653480529785,9.245975494384766,7.435031890869141,6.451689720153809,10.57060432434082,6.96779203414917,7.3586344718933105,7.332816123962402,6.792441368103027,6.958426475524902,7.612838268280029,6.9581403732299805,7.576333999633789,6.953876495361328,7.622910499572754,7.090407848358154,7.3563642501831055,7.852856159210205,6.95131254196167,7.42987585067749,11.783174514770508,10.248590469360352,6.578201770782471,6.938516616821289,6.9781694412231445,6.8550944328308105,6.4547438621521,7.95979118347168,7.014796257019043,7.161467552185059,7.200780868530273,6.772591590881348,6.284660816192627,7.139750003814697,12.594541549682617,7.1881513595581055,6.838595390319824,9.968960762023926,7.189589023590088,9.15536880493164,7.129212379455566,6.342657566070557,6.677614688873291,7.249573707580566,6.913619041442871,6.99901008605957,6.007663249969482,6.8907928466796875,7.141122341156006,7.197071075439453,6.948561668395996,10.711942672729492,6.802268028259277,7.59945821762085,7.006901264190674,10.111284255981445,13.227810859680176,7.26423978805542,6.955328941345215,7.085244178771973,7.5690202713012695,7.893392086029053,7.3009819984436035,6.459568023681641,7.4228739738464355,10.041376113891602,7.2093939781188965,6.8855390548706055,7.069722652435303,7.663684368133545,7.090174198150635,6.449767589569092,7.334043025970459,7.530970573425293,10.033690452575684,6.473914623260498,6.765074253082275,7.013071060180664,7.009704113006592,7.501442909240723,8.069292068481445,6.981624603271484,10.051236152648926,10.694467544555664,6.69444465637207,6.799749374389648,6.752206325531006,7.126471519470215,7.56035852432251,7.665171146392822,14.080408096313477,7.32621955871582,6.75741720199585,6.928497791290283,8.200602531433105,6.693066596984863,6.348695278167725,7.3490424156188965,8.39829158782959,10.048336029052734,6.93271541595459,6.890047550201416,6.8615593910217285,7.228240966796875,7.082127571105957,9.935214042663574,6.8321852684021,10.06312370300293,7.109564781188965,6.967223167419434,7.839912414550781,7.276002407073975,6.939920425415039,7.6989898681640625,6.484850883483887,6.16884708404541,7.337369918823242,6.220847129821777,7.6255011558532715,7.161920070648193,9.120267868041992,7.07982063293457,10.594037055969238,7.94332218170166,9.965009689331055,9.97331714630127,6.92259407043457,7.481855869293213,7.6846160888671875,7.250584602355957,8.748856544494629,7.676250457763672,7.561450004577637,7.927054405212402,6.7976908683776855,6.236417293548584,10.061704635620117,8.255522727966309,12.404260635375977,6.71060037612915,7.989482402801514,6.486809253692627,7.66251277923584,6.61448860168457,6.703582763671875,8.211580276489258,7.121336936950684,6.529472827911377,10.827956199645996,7.804323196411133,6.91887903213501,6.656762599945068,7.490556716918945,9.804311752319336,5.783453464508057,8.708327293395996,6.98044490814209,7.045702934265137,10.156743049621582,6.8501434326171875,7.562201976776123,7.210003852844238,10.78731632232666,7.265448570251465,6.806011199951172,5.790696620941162,10.390591621398926,12.54931640625,8.649595260620117,7.382716178894043,7.592912673950195,7.071964263916016,6.92491340637207,7.174528121948242,7.55858850479126,7.575822353363037,6.940644264221191,7.253962516784668,9.202473640441895,6.0441508293151855,7.6964216232299805,7.5675482749938965,7.080848693847656,10.03102970123291,6.888580799102783,9.560125350952148,7.748758316040039,7.064646244049072,7.050120830535889,7.547991752624512,7.003716945648193,7.271670341491699,6.777600288391113,6.893212795257568,6.88917350769043,11.251437187194824,5.9996795654296875,6.7108378410339355,10.070862770080566,6.924245357513428,7.712040901184082,6.9485764503479,7.82987117767334,7.089203834533691,7.125105857849121,6.6759185791015625,7.674437522888184,7.6135735511779785,7.380774974822998,7.019155979156494,6.902937412261963,7.917758941650391,7.458883285522461,6.743083477020264,7.0862579345703125,7.066843032836914,6.552608013153076,12.587749481201172,7.104022979736328,9.550530433654785,6.739266395568848,10.614109992980957,7.417120933532715,6.867212295532227,7.210035800933838,7.004598140716553,7.496082782745361,7.215317249298096,7.160515785217285,7.975529670715332,6.956881523132324,7.4137444496154785,7.455104351043701,6.864264965057373,7.1242804527282715,10.596407890319824,7.185979843139648,6.674304485321045,6.17470645904541,6.8421783447265625,7.649138927459717,8.720348358154297,7.128326416015625,6.905267238616943,7.2888312339782715,11.300894737243652,10.728250503540039,6.512923717498779,6.680455207824707,7.70136833190918,6.747503757476807,6.856581211090088,7.12631893157959,6.851327419281006,7.202949523925781,7.168753147125244,7.30329704284668,6.849978923797607,7.013687610626221,7.589857578277588,6.899565696716309,6.7034525871276855,10.057148933410645,6.9326252937316895,7.5752081871032715,6.738434314727783,6.916990280151367,6.901759147644043,6.60282564163208,7.233417987823486,7.095025539398193,7.4269795417785645,8.993316650390625,7.061744213104248,6.754620552062988,7.421290397644043,7.049548625946045,7.394730091094971,6.9961419105529785,7.12492561340332,7.208098888397217,6.852176666259766,6.947347164154053,6.524704933166504,6.568572998046875,7.22465705871582,7.117856502532959,7.056390762329102,6.712484359741211,7.683862209320068,6.884758949279785,5.933375358581543,7.3583855628967285,7.335931301116943,6.186429977416992,6.654442310333252,12.507943153381348,7.059073448181152,7.40740966796875,6.530481338500977,7.112663269042969,6.865363121032715],\"xaxis\":\"x\",\"y\":[1.4968873262405396,3.2537641525268555,4.416070938110352,1.9617509841918945,1.5973469018936157,1.462275505065918,3.551589250564575,2.8858845233917236,1.5734723806381226,3.7963733673095703,1.6579145193099976,2.11232590675354,2.124241352081299,2.947019100189209,2.819995403289795,2.163200616836548,1.6896194219589233,4.287563800811768,1.5153411626815796,2.0331599712371826,5.9515886306762695,2.6600427627563477,2.6689682006835938,2.686694383621216,3.268519163131714,2.3001275062561035,1.8076114654541016,1.7613189220428467,6.052462577819824,6.183431148529053,2.5057966709136963,2.900223731994629,5.1444597244262695,2.665673017501831,1.977481722831726,8.406533241271973,2.915782928466797,2.1950531005859375,2.936981201171875,2.878541946411133,2.243875741958618,3.08310604095459,2.309607744216919,3.076000928878784,1.7212849855422974,4.362109661102295,1.624853491783142,1.3036038875579834,5.753419876098633,1.919062852859497,4.50624418258667,3.270505428314209,8.327343940734863,2.2530996799468994,1.4766091108322144,2.6568663120269775,1.6946038007736206,2.117694616317749,4.570865154266357,3.273468494415283,2.383619546890259,3.1175615787506104,1.9001692533493042,1.959835171699524,1.8019121885299683,7.266219615936279,1.8212512731552124,1.9391521215438843,4.58639669418335,1.6766679286956787,3.551384449005127,2.637953996658325,2.7186896800994873,2.8417012691497803,2.8009021282196045,2.164307117462158,2.231879234313965,2.9205703735351562,2.0600085258483887,6.230040073394775,2.761871814727783,1.9031543731689453,5.853607177734375,2.1862244606018066,2.3054275512695312,1.7799177169799805,8.254081726074219,6.966494083404541,1.5925525426864624,2.5693187713623047,1.5791414976119995,4.724266529083252,2.564453363418579,2.8733773231506348,1.6821955442428589,3.1318531036376953,5.081171989440918,1.9202848672866821,1.838813304901123,1.5114678144454956,3.267446279525757,1.6657869815826416,2.175170660018921,1.7711644172668457,2.2734546661376953,8.225068092346191,2.1355772018432617,2.171133279800415,1.6005202531814575,2.54594349861145,4.003180503845215,3.573286771774292,3.1934351921081543,8.321125030517578,8.27184009552002,2.04138445854187,1.812811017036438,2.3807458877563477,2.5027031898498535,2.970224142074585,5.464012622833252,5.902502536773682,2.777008295059204,1.543587327003479,3.5879318714141846,2.758678436279297,1.9576454162597656,2.443430185317993,2.191020965576172,3.7823455333709717,4.583008766174316,1.726028323173523,3.759443759918213,2.1528480052948,2.998990535736084,2.9645464420318604,8.292015075683594,2.0062644481658936,8.317692756652832,1.5868399143218994,2.066150426864624,3.5475921630859375,2.110675573348999,1.7873202562332153,2.8789403438568115,2.2107670307159424,1.626214623451233,2.1956820487976074,2.829828977584839,3.127365827560425,1.6055183410644531,4.399235248565674,2.501434803009033,8.318918228149414,2.531963586807251,8.217693328857422,4.441051483154297,2.0841493606567383,1.8655644655227661,2.5041608810424805,2.8983564376831055,3.2603001594543457,2.4263153076171875,3.8459882736206055,2.3658993244171143,3.0094008445739746,2.0659732818603516,5.207971572875977,2.2066400051116943,3.252544641494751,1.5492916107177734,2.5827910900115967,3.9505584239959717,1.927171230316162,1.7385735511779785,3.5385582447052,2.8712778091430664,2.0609450340270996,2.411614179611206,5.906980991363525,1.8999576568603516,2.325064182281494,2.9046714305877686,2.1056201457977295,7.847808361053467,2.8586320877075195,3.627779722213745,6.488478660583496,1.498682975769043,8.284536361694336,3.1327967643737793,3.763735055923462,1.4612126350402832,6.24799919128418,2.5400002002716064,2.11525821685791,2.8073058128356934,8.282196998596191,7.280937671661377,3.5196173191070557,3.406111240386963,3.4317078590393066,2.1617865562438965,1.9742213487625122,1.822853922843933,2.9193027019500732,3.848409414291382,2.092801332473755,4.273522853851318,7.975954055786133,1.4380260705947876,2.260819911956787,2.67138934135437,1.6564825773239136,7.829000473022461,1.945366621017456,2.7410085201263428,5.530585765838623,1.7335147857666016,1.6855508089065552,4.72175407409668,1.9328429698944092,2.823425531387329,3.022242546081543,2.995217800140381,2.1482417583465576,2.8846113681793213,3.377544403076172,2.3599531650543213,8.249760627746582,1.4769821166992188,2.4645557403564453,2.0592339038848877,4.379971027374268,1.8537633419036865,2.400040864944458,3.648393154144287,5.564363479614258,2.284364700317383,2.702479839324951,1.8846142292022705,2.1060900688171387,5.835668087005615,4.888824462890625,2.767685651779175,1.8022323846817017,1.7504984140396118,2.645664691925049,7.256543159484863,1.8897382020950317,7.804012298583984,2.0203568935394287,8.375299453735352,2.5099263191223145,1.8931498527526855,2.5541059970855713,3.288113594055176,2.1974151134490967,2.5966603755950928,2.6640326976776123,2.181586503982544,2.0088560581207275,2.221170663833618,4.987544059753418,2.132120370864868,1.8623230457305908,5.060849666595459,1.755286455154419,1.931378722190857,2.646918773651123,3.5167274475097656,2.470097064971924,3.571037769317627,1.7034778594970703,2.279794692993164,2.231006383895874,2.9550228118896484,8.139507293701172,2.6112773418426514,2.4655332565307617,2.603043794631958,2.794644594192505,1.6514952182769775,1.6111528873443604,1.7018272876739502,2.020254611968994,1.4460200071334839,2.8951423168182373,1.6279187202453613,1.9000797271728516,3.1196999549865723,1.6347792148590088,1.6613638401031494,8.31685733795166,1.6382811069488525,3.1487975120544434,2.669907569885254,2.77823543548584,2.0811550617218018,2.242098093032837,2.105956554412842,1.6380562782287598,2.398683547973633,3.640212297439575,3.256439447402954,2.825161933898926,1.4754507541656494,1.540307879447937,2.622105598449707,1.62772536277771,1.5835627317428589,3.22930908203125,2.335958480834961,1.6145334243774414,3.9024524688720703,2.4554102420806885,1.8169738054275513,2.00382924079895,2.3734664916992188,2.3227884769439697,5.581172943115234,2.442829132080078,2.057614803314209,2.044438362121582,2.5412850379943848,1.8741217851638794,2.287662982940674,5.301608562469482,1.6110188961029053,2.246596097946167,1.5562934875488281,1.6103169918060303,2.6281065940856934],\"yaxis\":\"y\",\"type\":\"scattergl\"},{\"hovertemplate\":\"cluster=cluster 5<br>x=%{x}<br>y=%{y}<extra></extra>\",\"legendgroup\":\"cluster 5\",\"marker\":{\"color\":\"#B6E880\",\"symbol\":\"circle\"},\"mode\":\"markers\",\"name\":\"cluster 5\",\"showlegend\":true,\"x\":[12.584891319274902,13.862190246582031,13.246001243591309,13.13996696472168,13.858994483947754,13.878802299499512,12.271000862121582,13.192022323608398,12.757661819458008,12.630441665649414,12.988204002380371,13.550520896911621,13.823115348815918,13.323180198669434,12.160584449768066,12.677494049072266,13.530220031738281,13.225499153137207,13.776928901672363,13.361495018005371,13.643176078796387,12.788114547729492,13.5842866897583,12.745051383972168,10.633739471435547,12.70576000213623,13.394119262695312,11.34970760345459,13.436039924621582,12.510395050048828,13.836621284484863,13.2798433303833,13.664999961853027,13.807517051696777,13.872756958007812,13.863584518432617,13.016402244567871,13.654226303100586,13.03166675567627,13.239828109741211,13.602742195129395,13.83762264251709,12.507776260375977,13.653971672058105,12.957420349121094,13.611382484436035,12.473603248596191,13.203654289245605,11.742377281188965,13.525679588317871,13.871663093566895,13.03683853149414,13.124321937561035,12.590723037719727,13.528343200683594,13.584407806396484,13.422975540161133,12.848108291625977,13.744023323059082,13.393983840942383,13.859114646911621,12.85573673248291,12.936559677124023,12.799444198608398,12.818582534790039,13.101384162902832,13.196944236755371,12.831930160522461,13.431292533874512,13.554192543029785,11.582695960998535,13.321846008300781,13.818340301513672,13.425596237182617,12.993980407714844,11.270406723022461,13.237442970275879,13.534782409667969,5.391586780548096,12.503390312194824,13.715662956237793,12.48130989074707,12.97877025604248,13.904915809631348,12.052298545837402,11.716972351074219,13.659174919128418,12.885125160217285,13.619298934936523,13.211029052734375,12.29201889038086,12.651200294494629,12.870365142822266,13.294245719909668,12.982147216796875,13.565591812133789,7.185052871704102,13.323689460754395,13.383301734924316,13.13330078125,12.999236106872559,12.969367980957031,12.968429565429688,12.760305404663086,13.562092781066895,13.082869529724121,13.862371444702148,12.509346961975098,12.553470611572266,12.662901878356934,12.529230117797852,13.3320951461792,11.891044616699219,13.45771598815918,10.478724479675293,13.047076225280762,13.730391502380371,13.879131317138672,13.643836975097656,11.347426414489746,12.877321243286133,12.922770500183105,6.30555534362793,13.75240707397461,12.53637981414795,13.275464057922363,13.100462913513184,12.975838661193848,13.590262413024902,12.877676010131836,13.289840698242188,12.576335906982422,12.995722770690918,12.915072441101074,12.656853675842285,13.81713581085205,9.099143981933594,13.265375137329102,13.571296691894531,13.541784286499023],\"xaxis\":\"x\",\"y\":[3.7448205947875977,3.9413604736328125,4.587392807006836,3.9132182598114014,3.657197952270508,3.951723098754883,3.561234474182129,4.921390533447266,3.538954257965088,4.2459716796875,4.359326362609863,4.940371990203857,3.712005853652954,3.92069149017334,4.017210483551025,4.44076681137085,4.439270496368408,3.9674389362335205,3.8899242877960205,3.784053087234497,4.365175247192383,3.898037910461426,4.415353775024414,4.05889892578125,3.1396725177764893,3.4975085258483887,4.660146236419678,3.082305908203125,4.462183952331543,3.416747570037842,3.6744585037231445,3.990873336791992,4.457172870635986,4.09888219833374,3.661081075668335,3.683154344558716,3.9534387588500977,4.3786773681640625,3.810619831085205,4.58779239654541,3.841437339782715,3.733947277069092,3.896087884902954,4.4390645027160645,3.9226815700531006,4.41298246383667,3.331562042236328,4.558193683624268,3.181703567504883,4.418972015380859,3.654536485671997,4.208104133605957,5.056736946105957,3.4068758487701416,4.337382793426514,4.396607398986816,4.110050678253174,3.863051652908325,3.706570863723755,4.770333766937256,3.700789213180542,4.041193008422852,3.9841318130493164,3.6787664890289307,4.935387134552002,3.879232168197632,4.4623847007751465,5.255190849304199,4.4851393699646,4.540097236633301,3.0854597091674805,4.797471523284912,3.8737964630126953,4.503015995025635,3.903820753097534,4.5882134437561035,4.306323051452637,5.300534248352051,3.4449470043182373,3.3304331302642822,3.822038173675537,3.820402145385742,3.9270472526550293,3.972748279571533,4.191768646240234,4.992044925689697,4.649470329284668,3.9278576374053955,4.37601375579834,3.898590087890625,4.276482105255127,5.235995769500732,4.588231563568115,4.601653575897217,3.873873472213745,4.65365743637085,2.820580244064331,4.920670986175537,4.520021915435791,4.3270087242126465,4.87071418762207,4.72346305847168,4.54807710647583,4.2695088386535645,4.680405139923096,4.644591331481934,3.6962227821350098,3.3659799098968506,3.398336887359619,3.6102707386016846,3.480674982070923,3.7982425689697266,5.912057876586914,4.413954734802246,3.1064345836639404,3.9399187564849854,3.794353723526001,3.9540727138519287,4.3823018074035645,2.994917631149292,3.88584041595459,4.546894073486328,1.5024782419204712,3.7218575477600098,3.9826407432556152,4.51413631439209,5.0913615226745605,3.922822952270508,3.8606553077697754,3.854135513305664,4.440173625946045,4.077840805053711,4.647100925445557,4.126469135284424,4.245332717895508,3.728456497192383,5.9410858154296875,4.967817306518555,4.583708763122559,3.8140392303466797],\"yaxis\":\"y\",\"type\":\"scattergl\"},{\"hovertemplate\":\"cluster=cluster 2<br>x=%{x}<br>y=%{y}<extra></extra>\",\"legendgroup\":\"cluster 2\",\"marker\":{\"color\":\"#FF97FF\",\"symbol\":\"circle\"},\"mode\":\"markers\",\"name\":\"cluster 2\",\"showlegend\":true,\"x\":[8.457852363586426,8.234235763549805,7.316418647766113,8.37035083770752,9.205316543579102,8.644994735717773,7.502391815185547,7.30030632019043,9.343683242797852,8.990265846252441,7.828424453735352,8.076993942260742,8.564754486083984,8.499335289001465,11.43962574005127,8.138327598571777,9.448053359985352,8.788622856140137,8.538606643676758,9.52118968963623,9.360481262207031,9.724188804626465,9.417162895202637,10.226104736328125,9.093546867370605,8.451749801635742,8.878337860107422,7.9179792404174805,10.121570587158203,9.125683784484863,7.308095455169678,8.157617568969727,7.845776081085205,8.707468032836914,9.222982406616211,9.145113945007324,8.537567138671875,8.885833740234375,7.665407657623291,8.963723182678223,7.777884006500244,8.841795921325684,8.519990921020508,9.144233703613281,7.617516994476318,8.227361679077148,8.34894847869873,7.39544153213501,8.623913764953613,10.174162864685059,7.492334365844727,8.447224617004395,7.880204200744629,9.790139198303223,8.474471092224121,7.887322902679443,8.214168548583984,8.88711929321289,8.598690032958984,7.399704933166504,8.986639022827148,9.000275611877441,8.21547794342041,8.990617752075195,7.330670356750488,8.267622947692871,8.780682563781738,8.369961738586426,8.620922088623047,9.22033977508545,8.491195678710938,7.525877952575684,7.295108318328857,7.193393230438232,7.555320739746094,8.361945152282715,11.11558723449707,8.362513542175293,8.816047668457031,7.752901077270508,8.505823135375977,8.976487159729004,7.809475898742676,7.849221706390381,8.57827091217041,8.874971389770508,7.363065242767334,8.753982543945312,8.525422096252441,8.155675888061523,9.654533386230469,8.675228118896484,8.383825302124023,9.525626182556152,9.299427032470703,8.869543075561523,8.908628463745117,8.305846214294434,7.499716281890869,8.003644943237305,10.04189395904541,8.028875350952148,8.522046089172363,8.089487075805664,7.467612266540527,8.640402793884277,7.417144298553467,8.352571487426758,9.075742721557617,7.692889213562012,8.728044509887695,7.279050827026367,8.648090362548828,8.902695655822754,8.861339569091797,8.855381965637207,8.036725997924805,7.601772308349609,9.866402626037598,9.962803840637207,9.403067588806152,9.090924263000488,8.281822204589844,9.444133758544922,9.699065208435059,7.87731409072876,8.921792030334473,8.810215950012207,8.741106033325195,9.323640823364258,8.696944236755371,9.31196117401123,8.643240928649902,7.843642711639404,9.164283752441406,7.291259765625,9.079471588134766,8.832426071166992,8.500677108764648,8.49614429473877,8.407417297363281,7.771237373352051,8.482083320617676,7.4840569496154785,8.52725887298584,9.420673370361328,8.798827171325684,7.166337490081787,9.318229675292969,7.817183017730713,9.57019329071045,11.235204696655273,8.449728012084961,9.033236503601074,8.986648559570312,8.7638578414917,7.7818427085876465,8.639427185058594,9.22067928314209,8.686051368713379,8.782000541687012,8.867356300354004,8.842498779296875,8.93278980255127,8.867718696594238,8.806507110595703,7.364987373352051,9.014276504516602,9.507208824157715,9.324283599853516,7.815647125244141,8.6170015335083,9.388922691345215,9.761765480041504,8.393038749694824,8.47115421295166,8.33232307434082,8.966886520385742,8.603836059570312,9.342899322509766,9.106399536132812,7.370063304901123,8.955918312072754,7.223812580108643,8.899362564086914,8.487082481384277,9.800801277160645,8.413824081420898,7.360676288604736,8.511953353881836,9.727663040161133,7.936745643615723,8.758736610412598,11.327966690063477,7.589791774749756,9.069109916687012,7.449527740478516,7.438570976257324,9.242609977722168,8.709707260131836,8.304733276367188,8.467698097229004,8.443866729736328,7.321193218231201,8.86653995513916,9.29471206665039,11.172873497009277,8.260905265808105,7.77507209777832,7.42828893661499,9.044622421264648,7.907393455505371,8.961591720581055,7.282382011413574,7.432016849517822,8.657630920410156,7.308106899261475,8.563197135925293,7.438072204589844,8.481695175170898,9.165037155151367,7.455286026000977,8.597260475158691,9.7569580078125,8.619379043579102,9.232905387878418,9.012120246887207,8.772768020629883,9.044529914855957,8.839710235595703,9.587116241455078,9.634040832519531,8.126544952392578,9.853123664855957,7.794045925140381,8.7305326461792,7.96674919128418,7.4977922439575195,9.616504669189453,9.433075904846191,8.91100788116455,8.420106887817383,9.578179359436035,8.6416654586792,9.4909029006958,8.12144660949707,8.719222068786621,7.431049346923828,9.51126766204834,8.855252265930176,8.112964630126953,8.146282196044922,9.770373344421387,7.727809429168701,8.642780303955078,7.846219539642334,8.973413467407227,7.366422176361084,8.265408515930176,9.325846672058105,9.52073860168457,7.9719929695129395,8.016719818115234,8.727450370788574,8.761631965637207,9.054730415344238,8.636130332946777,8.315996170043945,8.158740043640137,9.170398712158203,8.579941749572754,9.266510009765625,7.835150241851807,9.265273094177246,8.80982494354248,8.618236541748047,9.874646186828613,9.454446792602539,8.713845252990723,8.248010635375977,8.951258659362793,9.008830070495605,8.966193199157715,8.56430721282959,7.360416889190674,7.286457061767578,7.821372985839844,8.590482711791992,8.958287239074707,7.315492153167725,8.520747184753418,9.074662208557129,7.977901935577393,10.087522506713867,8.83580493927002],\"xaxis\":\"x\",\"y\":[3.800912380218506,5.421385288238525,4.413941860198975,6.551488399505615,4.244874954223633,3.7901840209960938,6.352458477020264,4.370938777923584,4.7946248054504395,4.363880157470703,6.515138626098633,6.609312057495117,5.282726764678955,4.9483866691589355,5.246506690979004,4.935616493225098,4.938364028930664,4.082176208496094,3.8605101108551025,3.4545838832855225,5.145962715148926,5.736291408538818,5.854722023010254,6.319635391235352,4.082601070404053,4.69131326675415,6.489079475402832,6.036599636077881,6.190852642059326,4.213146209716797,6.594958305358887,6.076364517211914,6.183986186981201,4.175558090209961,3.861250162124634,4.803074359893799,6.340135097503662,4.249747276306152,4.495914936065674,3.7786495685577393,6.1949286460876465,4.1500244140625,4.622846603393555,4.246481418609619,4.7215094566345215,4.935876846313477,6.923766613006592,6.090624809265137,3.870995283126831,5.533827304840088,6.805555820465088,6.404545783996582,6.405314922332764,6.621925354003906,4.038724899291992,6.321375846862793,6.6648054122924805,5.549386978149414,4.734461307525635,6.001669406890869,6.005216121673584,6.401566505432129,6.694935321807861,4.514379024505615,6.203555107116699,5.147349834442139,5.986099720001221,6.689096450805664,4.742133140563965,5.509799480438232,6.233762741088867,6.769462585449219,4.364893436431885,6.665896892547607,7.011074542999268,6.351795196533203,3.5109448432922363,5.9820780754089355,4.673770427703857,6.737005710601807,4.7508225440979,4.177002906799316,4.143319129943848,6.642975807189941,5.597076892852783,6.413605213165283,6.121105194091797,3.800621747970581,6.4414777755737305,6.1695475578308105,2.647012948989868,6.3731207847595215,6.355611324310303,5.688775062561035,4.604694843292236,4.165618896484375,6.62451171875,6.605081081390381,6.6313066482543945,6.004220485687256,5.269663333892822,6.7672529220581055,4.975124835968018,6.3996357917785645,6.022164344787598,6.531989097595215,6.1508469581604,5.589460372924805,4.126494407653809,6.602652072906494,4.319411754608154,4.382392883300781,4.2383198738098145,6.053650379180908,5.919210433959961,5.86964750289917,6.147075176239014,6.481670379638672,5.792860507965088,5.550695419311523,4.341305732727051,4.007753372192383,6.626361846923828,4.6778764724731445,4.360222339630127,6.971256732940674,5.4933295249938965,4.6146464347839355,6.339943885803223,4.705687046051025,4.438229560852051,4.74275016784668,4.567773342132568,6.826350688934326,4.4301652908325195,4.359938621520996,4.605719089508057,6.1803975105285645,4.052357196807861,7.236545085906982,4.0432024002075195,7.01833963394165,4.56498384475708,7.0151591300964355,6.446141242980957,4.855738162994385,5.931518077850342,6.915249824523926,4.3848114013671875,6.177029609680176,4.177065372467041,4.198283672332764,3.9825754165649414,4.7091803550720215,4.775293350219727,6.338824272155762,4.4424848556518555,5.919029712677002,4.316598415374756,5.918886661529541,6.314235210418701,4.370023250579834,4.095644950866699,4.283148765563965,5.166623592376709,6.41804838180542,6.123713493347168,5.841682434082031,5.680919170379639,4.368908405303955,6.70490026473999,4.969448089599609,4.937667369842529,8.825958251953125,6.589380741119385,3.895789384841919,6.471139907836914,4.126814842224121,5.721428394317627,6.729176998138428,4.244194030761719,6.7776360511779785,4.2948408126831055,4.334967613220215,6.132231712341309,6.720691204071045,5.357832908630371,6.992765426635742,6.182719707489014,4.034897804260254,4.562620162963867,6.891831398010254,6.123340129852295,3.5984420776367188,6.231909275054932,4.169984340667725,6.978359699249268,6.633688926696777,3.9165358543395996,5.278442859649658,6.195272445678711,6.218062400817871,5.051486968994141,4.400142192840576,4.613004684448242,6.135822772979736,4.0278754234313965,5.456544876098633,6.402898788452148,6.621313571929932,4.3082709312438965,5.7919816970825195,4.69226598739624,4.365230083465576,6.108763694763184,4.403079986572266,6.646399021148682,4.4509596824646,6.8326897621154785,5.9604716300964355,3.9647302627563477,6.540135383605957,4.986179828643799,5.274261951446533,3.813993453979492,3.965665817260742,4.046100616455078,6.466285228729248,4.18580961227417,4.83424711227417,3.1140289306640625,4.005312442779541,5.9612603187561035,5.750800132751465,6.480397701263428,4.602871417999268,5.83185338973999,7.092634677886963,5.982245922088623,4.064826488494873,6.308168888092041,3.827118158340454,4.200751304626465,3.738654375076294,6.044676303863525,6.184572696685791,4.480724811553955,6.06617546081543,4.348474502563477,5.5040812492370605,6.448392868041992,6.355336666107178,4.21724796295166,5.98788595199585,4.567857265472412,6.723912715911865,4.003667831420898,6.049657821655273,6.050554275512695,5.110065460205078,4.065347671508789,6.754385948181152,7.161286354064941,5.4294562339782715,4.268057346343994,5.420708179473877,5.927392959594727,6.692264080047607,6.742794990539551,4.509914875030518,4.944004058837891,3.9877047538757324,6.777027606964111,4.093634605407715,6.222012996673584,4.356424808502197,6.915446758270264,4.65498161315918,5.44804048538208,4.69584846496582,4.503504276275635,4.076822280883789,6.272399425506592,4.402778148651123,4.3789753913879395,4.348193645477295,6.387077808380127,3.8433971405029297,6.328422546386719,6.223275184631348,5.258651256561279,4.401272773742676,6.793781757354736,6.372910022735596,3.711376428604126],\"yaxis\":\"y\",\"type\":\"scattergl\"},{\"hovertemplate\":\"cluster=cluster 9<br>x=%{x}<br>y=%{y}<extra></extra>\",\"legendgroup\":\"cluster 9\",\"marker\":{\"color\":\"#FECB52\",\"symbol\":\"circle\"},\"mode\":\"markers\",\"name\":\"cluster 9\",\"showlegend\":true,\"x\":[5.988433837890625,6.588154315948486,6.9075703620910645,5.899472713470459,6.065819263458252,6.233774662017822,6.0446929931640625,6.1068644523620605,5.488387107849121,5.9041032791137695,6.5851664543151855,6.445038318634033,6.714597702026367,13.031712532043457,6.234065055847168,5.738818645477295,6.057082653045654,5.772693634033203,6.260103225708008,6.237846374511719,6.090086936950684,6.5447163581848145,6.777179718017578,5.778392314910889,6.063648700714111,7.148049354553223,5.944467544555664,6.526302814483643,6.068119525909424,6.573213577270508,6.003892421722412,6.574853897094727,6.201201915740967,6.039343357086182,5.903206825256348,6.003166198730469,6.515502452850342,5.5621161460876465,7.7690300941467285,5.700736045837402,5.710731506347656,6.2657294273376465,7.197913646697998,6.766648769378662,6.206448554992676,5.501258373260498,5.877073764801025,6.224843502044678,6.165219306945801,6.017058372497559,6.078320503234863,6.963125228881836,6.352517604827881,6.1993489265441895,6.416794776916504,6.355273723602295,5.665338516235352,5.487417221069336,6.559351444244385,5.847558498382568,6.289764404296875,6.2608256340026855,6.209953308105469,5.552533149719238,6.247888088226318,6.059882164001465,6.7440290451049805,6.238450527191162,6.426236152648926,6.028015613555908,5.951223373413086,5.602675437927246,6.3857645988464355,6.228572845458984,6.4300456047058105,5.4754719734191895,6.493391513824463,6.589522838592529,5.482686996459961,6.285963535308838,6.34021520614624,6.113381862640381,5.86772346496582,6.7613959312438965,5.724347114562988,5.475549221038818,5.593481063842773,6.553102970123291,7.306573390960693,6.397088050842285,5.986177921295166,6.602653503417969,6.002254962921143,5.92960786819458,13.056344032287598,6.1130475997924805,5.542474746704102,6.373286724090576,6.128407001495361,6.520586013793945,6.015407085418701,5.882890224456787,6.377748489379883,5.629952907562256,5.962110996246338,6.476335525512695,5.909187316894531,5.868851661682129,6.260791301727295,6.25925874710083,5.983136177062988,6.059601306915283,5.815507411956787,5.748618125915527,6.490969657897949,6.0352067947387695,6.4585862159729,6.180551052093506,5.741090297698975,6.167171001434326,6.239855766296387,5.481945037841797,5.8639235496521,6.50840950012207,5.9813408851623535,6.2009782791137695,6.567292213439941,6.5161519050598145,10.480856895446777,6.578464031219482,5.864253997802734,6.287911891937256,6.108029365539551,7.2681450843811035,6.293378829956055,6.127599239349365,7.00663948059082,5.450394153594971,6.7350335121154785,6.117586612701416,5.8998589515686035,5.801836013793945,6.442818641662598,6.567831516265869,6.5687737464904785,5.95553731918335,5.976565837860107,5.739475727081299,6.284200668334961,5.917932510375977,6.232353687286377,6.272644996643066,5.771960735321045,6.1495442390441895,6.044477462768555,6.3905439376831055,6.480205059051514,5.705018520355225,6.768197059631348,6.447253227233887,6.757464408874512,7.145256519317627,6.625080108642578,6.819409370422363,6.326985836029053,5.901510238647461,6.370727062225342,5.758763790130615,6.479846954345703,5.92431116104126,6.823478698730469,6.0333380699157715,6.253113269805908,5.455129623413086,5.8832106590271,6.524178504943848,5.743669509887695,6.235536575317383,6.644475936889648,5.430628299713135,6.176728248596191,6.421383857727051,6.1921515464782715,6.088834285736084,5.699662685394287,6.526825904846191,6.195262432098389,6.1072001457214355,6.0649213790893555,6.07655143737793,6.351288318634033,6.022765636444092,6.481685638427734,5.629611492156982,5.798285484313965,12.821412086486816,6.060675144195557,5.800656795501709,6.603326797485352,6.575100898742676,6.1470046043396,6.4885172843933105,6.189474582672119,5.47892427444458,6.440802574157715,6.57065486907959,6.529778003692627,6.134091377258301,5.638155937194824,6.078816890716553,5.98150634765625,6.444468021392822,5.494184494018555,6.128215312957764,6.835062503814697,6.745487213134766,6.466563701629639,6.731822967529297,6.025035858154297,5.84502649307251,5.461545944213867,6.052586555480957,6.1660542488098145,5.945326805114746,6.187109470367432,5.446712017059326,6.2657341957092285,6.22752571105957,5.833593368530273,6.201898574829102,6.351413726806641,5.702142238616943,6.037595272064209,6.061262130737305,5.806812763214111,6.01643705368042,6.4487996101379395,5.93545389175415,5.91925573348999,5.929829120635986,6.388604640960693,6.374095439910889,6.6689605712890625,5.794101715087891,6.0906662940979,5.59448766708374,6.436791896820068,5.890542507171631,5.889157295227051],\"xaxis\":\"x\",\"y\":[1.4573521614074707,1.2801021337509155,2.3897268772125244,1.7107077836990356,2.621385097503662,1.8244255781173706,2.125713586807251,1.88048255443573,3.3473572731018066,1.88182532787323,1.3675463199615479,3.6422998905181885,3.664742946624756,7.128703594207764,1.8619476556777954,2.7895684242248535,2.0707805156707764,2.2169406414031982,2.36942458152771,2.1124367713928223,2.199110507965088,1.3246196508407593,3.698791027069092,2.777028799057007,2.0905141830444336,2.718264579772949,1.7106221914291382,1.3494631052017212,2.6856017112731934,2.6595797538757324,2.645581007003784,1.4878697395324707,3.0479354858398438,1.4890974760055542,2.9515838623046875,2.7920384407043457,1.2888548374176025,2.6628830432891846,7.249685287475586,2.837247610092163,2.1002888679504395,1.7120753526687622,1.2641643285751343,3.720454692840576,1.790632724761963,3.314007520675659,2.8522374629974365,2.147383451461792,2.5492730140686035,2.0243499279022217,1.7220571041107178,6.080706596374512,2.5600571632385254,2.044191598892212,1.6199623346328735,1.6098532676696777,2.8480443954467773,3.3660759925842285,2.4501473903656006,2.2224106788635254,1.8488305807113647,2.4452078342437744,1.8235890865325928,2.6135470867156982,1.9729113578796387,1.7534500360488892,2.7374119758605957,1.7965490818023682,2.05328369140625,3.431257963180542,2.252528667449951,2.2287278175354004,3.4793388843536377,4.0502028465271,3.8147215843200684,3.3303897380828857,1.888759732246399,3.2186176776885986,2.3437135219573975,2.4506142139434814,2.7550559043884277,2.7735743522644043,1.7453408241271973,2.31394624710083,2.7781620025634766,2.278459072113037,2.875974416732788,1.2930002212524414,1.3165017366409302,1.9163087606430054,3.4694268703460693,2.743924856185913,2.0042638778686523,3.5025906562805176,7.117733001708984,2.575993299484253,2.557609796524048,3.4959518909454346,2.7782108783721924,2.952676773071289,1.4558260440826416,2.0036511421203613,2.774494171142578,2.836519718170166,1.9609628915786743,1.992480754852295,2.6793837547302246,1.792675495147705,2.823275327682495,2.0809662342071533,2.9309635162353516,1.5629596710205078,2.7781832218170166,2.6001968383789062,3.575485944747925,1.5310050249099731,2.05237078666687,2.536106586456299,2.3905892372131348,1.4108977317810059,2.9080827236175537,2.287412166595459,2.5907435417175293,1.2530186176300049,1.5782182216644287,2.4551076889038086,2.38073468208313,1.2709195613861084,8.466339111328125,2.381686210632324,1.8385757207870483,1.9837939739227295,1.5862621068954468,2.6491289138793945,1.8258354663848877,2.1906731128692627,3.0121490955352783,2.2922117710113525,2.6922335624694824,1.5301827192306519,3.5255777835845947,2.0218405723571777,3.819330930709839,1.9349867105484009,1.2856173515319824,2.1218314170837402,2.6785593032836914,2.218977212905884,1.932663917541504,3.4787654876708984,2.9539971351623535,2.1696720123291016,1.7809959650039673,2.7891178131103516,2.2202155590057373,2.6895387172698975,3.614830493927002,2.2625200748443604,2.4055087566375732,3.7968549728393555,2.1872639656066895,1.347451090812683,2.524070978164673,3.717808723449707,2.375016689300537,2.082052707672119,2.933505058288574,2.0742440223693848,1.3203173875808716,1.9449236392974854,3.7747902870178223,2.1016902923583984,1.8153581619262695,3.3617377281188965,2.613551378250122,2.8862314224243164,2.144191265106201,4.037193775177002,3.091359853744507,3.38073992729187,2.2722086906433105,2.0949149131774902,1.8103293180465698,3.416639804840088,2.2055680751800537,2.5832300186157227,3.9805171489715576,1.6812498569488525,2.036717653274536,1.5801150798797607,2.1319193840026855,2.6588542461395264,2.056816816329956,2.845693349838257,2.08370304107666,7.18300199508667,2.820335865020752,2.1490859985351562,1.412887454032898,2.6811723709106445,2.618924617767334,1.8402661085128784,2.3289382457733154,2.3259847164154053,2.335310220718384,3.493431329727173,1.8714971542358398,1.9468461275100708,2.648906946182251,2.0693519115448,2.649467706680298,2.821000099182129,3.3233237266540527,2.260420799255371,2.0302350521087646,2.105595827102661,1.8944001197814941,2.5168864727020264,2.262817144393921,2.7343943119049072,2.2873075008392334,1.9000449180603027,2.9839015007019043,1.9444057941436768,1.9604977369308472,2.2981667518615723,2.4782707691192627,1.8040759563446045,3.195610523223877,2.1060116291046143,2.168943166732788,2.8448941707611084,3.4341838359832764,2.1401302814483643,2.1274750232696533,3.4080867767333984,3.514644145965576,3.482999563217163,3.0376648902893066,2.5594818592071533,3.4914121627807617,1.9136395454406738,3.4604785442352295,2.293686628341675,3.3802249431610107,2.8681328296661377,2.622666120529175,2.1158576011657715,2.6538712978363037],\"yaxis\":\"y\",\"type\":\"scattergl\"}],                        {\"template\":{\"data\":{\"histogram2dcontour\":[{\"type\":\"histogram2dcontour\",\"colorbar\":{\"outlinewidth\":0,\"ticks\":\"\"},\"colorscale\":[[0.0,\"#0d0887\"],[0.1111111111111111,\"#46039f\"],[0.2222222222222222,\"#7201a8\"],[0.3333333333333333,\"#9c179e\"],[0.4444444444444444,\"#bd3786\"],[0.5555555555555556,\"#d8576b\"],[0.6666666666666666,\"#ed7953\"],[0.7777777777777778,\"#fb9f3a\"],[0.8888888888888888,\"#fdca26\"],[1.0,\"#f0f921\"]]}],\"choropleth\":[{\"type\":\"choropleth\",\"colorbar\":{\"outlinewidth\":0,\"ticks\":\"\"}}],\"histogram2d\":[{\"type\":\"histogram2d\",\"colorbar\":{\"outlinewidth\":0,\"ticks\":\"\"},\"colorscale\":[[0.0,\"#0d0887\"],[0.1111111111111111,\"#46039f\"],[0.2222222222222222,\"#7201a8\"],[0.3333333333333333,\"#9c179e\"],[0.4444444444444444,\"#bd3786\"],[0.5555555555555556,\"#d8576b\"],[0.6666666666666666,\"#ed7953\"],[0.7777777777777778,\"#fb9f3a\"],[0.8888888888888888,\"#fdca26\"],[1.0,\"#f0f921\"]]}],\"heatmap\":[{\"type\":\"heatmap\",\"colorbar\":{\"outlinewidth\":0,\"ticks\":\"\"},\"colorscale\":[[0.0,\"#0d0887\"],[0.1111111111111111,\"#46039f\"],[0.2222222222222222,\"#7201a8\"],[0.3333333333333333,\"#9c179e\"],[0.4444444444444444,\"#bd3786\"],[0.5555555555555556,\"#d8576b\"],[0.6666666666666666,\"#ed7953\"],[0.7777777777777778,\"#fb9f3a\"],[0.8888888888888888,\"#fdca26\"],[1.0,\"#f0f921\"]]}],\"heatmapgl\":[{\"type\":\"heatmapgl\",\"colorbar\":{\"outlinewidth\":0,\"ticks\":\"\"},\"colorscale\":[[0.0,\"#0d0887\"],[0.1111111111111111,\"#46039f\"],[0.2222222222222222,\"#7201a8\"],[0.3333333333333333,\"#9c179e\"],[0.4444444444444444,\"#bd3786\"],[0.5555555555555556,\"#d8576b\"],[0.6666666666666666,\"#ed7953\"],[0.7777777777777778,\"#fb9f3a\"],[0.8888888888888888,\"#fdca26\"],[1.0,\"#f0f921\"]]}],\"contourcarpet\":[{\"type\":\"contourcarpet\",\"colorbar\":{\"outlinewidth\":0,\"ticks\":\"\"}}],\"contour\":[{\"type\":\"contour\",\"colorbar\":{\"outlinewidth\":0,\"ticks\":\"\"},\"colorscale\":[[0.0,\"#0d0887\"],[0.1111111111111111,\"#46039f\"],[0.2222222222222222,\"#7201a8\"],[0.3333333333333333,\"#9c179e\"],[0.4444444444444444,\"#bd3786\"],[0.5555555555555556,\"#d8576b\"],[0.6666666666666666,\"#ed7953\"],[0.7777777777777778,\"#fb9f3a\"],[0.8888888888888888,\"#fdca26\"],[1.0,\"#f0f921\"]]}],\"surface\":[{\"type\":\"surface\",\"colorbar\":{\"outlinewidth\":0,\"ticks\":\"\"},\"colorscale\":[[0.0,\"#0d0887\"],[0.1111111111111111,\"#46039f\"],[0.2222222222222222,\"#7201a8\"],[0.3333333333333333,\"#9c179e\"],[0.4444444444444444,\"#bd3786\"],[0.5555555555555556,\"#d8576b\"],[0.6666666666666666,\"#ed7953\"],[0.7777777777777778,\"#fb9f3a\"],[0.8888888888888888,\"#fdca26\"],[1.0,\"#f0f921\"]]}],\"mesh3d\":[{\"type\":\"mesh3d\",\"colorbar\":{\"outlinewidth\":0,\"ticks\":\"\"}}],\"scatter\":[{\"fillpattern\":{\"fillmode\":\"overlay\",\"size\":10,\"solidity\":0.2},\"type\":\"scatter\"}],\"parcoords\":[{\"type\":\"parcoords\",\"line\":{\"colorbar\":{\"outlinewidth\":0,\"ticks\":\"\"}}}],\"scatterpolargl\":[{\"type\":\"scatterpolargl\",\"marker\":{\"colorbar\":{\"outlinewidth\":0,\"ticks\":\"\"}}}],\"bar\":[{\"error_x\":{\"color\":\"#2a3f5f\"},\"error_y\":{\"color\":\"#2a3f5f\"},\"marker\":{\"line\":{\"color\":\"#E5ECF6\",\"width\":0.5},\"pattern\":{\"fillmode\":\"overlay\",\"size\":10,\"solidity\":0.2}},\"type\":\"bar\"}],\"scattergeo\":[{\"type\":\"scattergeo\",\"marker\":{\"colorbar\":{\"outlinewidth\":0,\"ticks\":\"\"}}}],\"scatterpolar\":[{\"type\":\"scatterpolar\",\"marker\":{\"colorbar\":{\"outlinewidth\":0,\"ticks\":\"\"}}}],\"histogram\":[{\"marker\":{\"pattern\":{\"fillmode\":\"overlay\",\"size\":10,\"solidity\":0.2}},\"type\":\"histogram\"}],\"scattergl\":[{\"type\":\"scattergl\",\"marker\":{\"colorbar\":{\"outlinewidth\":0,\"ticks\":\"\"}}}],\"scatter3d\":[{\"type\":\"scatter3d\",\"line\":{\"colorbar\":{\"outlinewidth\":0,\"ticks\":\"\"}},\"marker\":{\"colorbar\":{\"outlinewidth\":0,\"ticks\":\"\"}}}],\"scattermapbox\":[{\"type\":\"scattermapbox\",\"marker\":{\"colorbar\":{\"outlinewidth\":0,\"ticks\":\"\"}}}],\"scatterternary\":[{\"type\":\"scatterternary\",\"marker\":{\"colorbar\":{\"outlinewidth\":0,\"ticks\":\"\"}}}],\"scattercarpet\":[{\"type\":\"scattercarpet\",\"marker\":{\"colorbar\":{\"outlinewidth\":0,\"ticks\":\"\"}}}],\"carpet\":[{\"aaxis\":{\"endlinecolor\":\"#2a3f5f\",\"gridcolor\":\"white\",\"linecolor\":\"white\",\"minorgridcolor\":\"white\",\"startlinecolor\":\"#2a3f5f\"},\"baxis\":{\"endlinecolor\":\"#2a3f5f\",\"gridcolor\":\"white\",\"linecolor\":\"white\",\"minorgridcolor\":\"white\",\"startlinecolor\":\"#2a3f5f\"},\"type\":\"carpet\"}],\"table\":[{\"cells\":{\"fill\":{\"color\":\"#EBF0F8\"},\"line\":{\"color\":\"white\"}},\"header\":{\"fill\":{\"color\":\"#C8D4E3\"},\"line\":{\"color\":\"white\"}},\"type\":\"table\"}],\"barpolar\":[{\"marker\":{\"line\":{\"color\":\"#E5ECF6\",\"width\":0.5},\"pattern\":{\"fillmode\":\"overlay\",\"size\":10,\"solidity\":0.2}},\"type\":\"barpolar\"}],\"pie\":[{\"automargin\":true,\"type\":\"pie\"}]},\"layout\":{\"autotypenumbers\":\"strict\",\"colorway\":[\"#636efa\",\"#EF553B\",\"#00cc96\",\"#ab63fa\",\"#FFA15A\",\"#19d3f3\",\"#FF6692\",\"#B6E880\",\"#FF97FF\",\"#FECB52\"],\"font\":{\"color\":\"#2a3f5f\"},\"hovermode\":\"closest\",\"hoverlabel\":{\"align\":\"left\"},\"paper_bgcolor\":\"white\",\"plot_bgcolor\":\"#E5ECF6\",\"polar\":{\"bgcolor\":\"#E5ECF6\",\"angularaxis\":{\"gridcolor\":\"white\",\"linecolor\":\"white\",\"ticks\":\"\"},\"radialaxis\":{\"gridcolor\":\"white\",\"linecolor\":\"white\",\"ticks\":\"\"}},\"ternary\":{\"bgcolor\":\"#E5ECF6\",\"aaxis\":{\"gridcolor\":\"white\",\"linecolor\":\"white\",\"ticks\":\"\"},\"baxis\":{\"gridcolor\":\"white\",\"linecolor\":\"white\",\"ticks\":\"\"},\"caxis\":{\"gridcolor\":\"white\",\"linecolor\":\"white\",\"ticks\":\"\"}},\"coloraxis\":{\"colorbar\":{\"outlinewidth\":0,\"ticks\":\"\"}},\"colorscale\":{\"sequential\":[[0.0,\"#0d0887\"],[0.1111111111111111,\"#46039f\"],[0.2222222222222222,\"#7201a8\"],[0.3333333333333333,\"#9c179e\"],[0.4444444444444444,\"#bd3786\"],[0.5555555555555556,\"#d8576b\"],[0.6666666666666666,\"#ed7953\"],[0.7777777777777778,\"#fb9f3a\"],[0.8888888888888888,\"#fdca26\"],[1.0,\"#f0f921\"]],\"sequentialminus\":[[0.0,\"#0d0887\"],[0.1111111111111111,\"#46039f\"],[0.2222222222222222,\"#7201a8\"],[0.3333333333333333,\"#9c179e\"],[0.4444444444444444,\"#bd3786\"],[0.5555555555555556,\"#d8576b\"],[0.6666666666666666,\"#ed7953\"],[0.7777777777777778,\"#fb9f3a\"],[0.8888888888888888,\"#fdca26\"],[1.0,\"#f0f921\"]],\"diverging\":[[0,\"#8e0152\"],[0.1,\"#c51b7d\"],[0.2,\"#de77ae\"],[0.3,\"#f1b6da\"],[0.4,\"#fde0ef\"],[0.5,\"#f7f7f7\"],[0.6,\"#e6f5d0\"],[0.7,\"#b8e186\"],[0.8,\"#7fbc41\"],[0.9,\"#4d9221\"],[1,\"#276419\"]]},\"xaxis\":{\"gridcolor\":\"white\",\"linecolor\":\"white\",\"ticks\":\"\",\"title\":{\"standoff\":15},\"zerolinecolor\":\"white\",\"automargin\":true,\"zerolinewidth\":2},\"yaxis\":{\"gridcolor\":\"white\",\"linecolor\":\"white\",\"ticks\":\"\",\"title\":{\"standoff\":15},\"zerolinecolor\":\"white\",\"automargin\":true,\"zerolinewidth\":2},\"scene\":{\"xaxis\":{\"backgroundcolor\":\"#E5ECF6\",\"gridcolor\":\"white\",\"linecolor\":\"white\",\"showbackground\":true,\"ticks\":\"\",\"zerolinecolor\":\"white\",\"gridwidth\":2},\"yaxis\":{\"backgroundcolor\":\"#E5ECF6\",\"gridcolor\":\"white\",\"linecolor\":\"white\",\"showbackground\":true,\"ticks\":\"\",\"zerolinecolor\":\"white\",\"gridwidth\":2},\"zaxis\":{\"backgroundcolor\":\"#E5ECF6\",\"gridcolor\":\"white\",\"linecolor\":\"white\",\"showbackground\":true,\"ticks\":\"\",\"zerolinecolor\":\"white\",\"gridwidth\":2}},\"shapedefaults\":{\"line\":{\"color\":\"#2a3f5f\"}},\"annotationdefaults\":{\"arrowcolor\":\"#2a3f5f\",\"arrowhead\":0,\"arrowwidth\":1},\"geo\":{\"bgcolor\":\"white\",\"landcolor\":\"#E5ECF6\",\"subunitcolor\":\"white\",\"showland\":true,\"showlakes\":true,\"lakecolor\":\"white\"},\"title\":{\"x\":0.05},\"mapbox\":{\"style\":\"light\"}}},\"xaxis\":{\"anchor\":\"y\",\"domain\":[0.0,1.0],\"title\":{\"text\":\"x\"}},\"yaxis\":{\"anchor\":\"x\",\"domain\":[0.0,1.0],\"title\":{\"text\":\"y\"}},\"legend\":{\"title\":{\"text\":\"cluster\"},\"tracegroupgap\":0},\"title\":{\"text\":\"word embedding samples\"}},                        {\"responsive\": true}                    ).then(function(){\n",
              "                            \n",
              "var gd = document.getElementById('16c44325-0e18-4a7a-ac69-0d3061f9efe6');\n",
              "var x = new MutationObserver(function (mutations, observer) {{\n",
              "        var display = window.getComputedStyle(gd).display;\n",
              "        if (!display || display === 'none') {{\n",
              "            console.log([gd, 'removed!']);\n",
              "            Plotly.purge(gd);\n",
              "            observer.disconnect();\n",
              "        }}\n",
              "}});\n",
              "\n",
              "// Listen for the removal of the full notebook cells\n",
              "var notebookContainer = gd.closest('#notebook-container');\n",
              "if (notebookContainer) {{\n",
              "    x.observe(notebookContainer, {childList: true});\n",
              "}}\n",
              "\n",
              "// Listen for the clearing of the current output cell\n",
              "var outputEl = gd.closest('.output');\n",
              "if (outputEl) {{\n",
              "    x.observe(outputEl, {childList: true});\n",
              "}}\n",
              "\n",
              "                        })                };                            </script>        </div>\n",
              "</body>\n",
              "</html>"
            ]
          },
          "metadata": {},
          "output_type": "display_data"
        }
      ],
      "source": [
        "if model_name != \"bert\" and use_bert_embedding == False:\n",
        "  wb_creator.cluster_words(save_path, figures_path, n_components=2, text = False)\n",
        "else:\n",
        "  print('festlegen welches Modell für word2vec soll genutzt werden!\\n Wenn bert-Modell, bitte die Vocabular aktualisieren durch use_bert_embedding = True')"
      ]
    },
    {
      "cell_type": "markdown",
      "metadata": {
        "id": "IX71GZIF4svz"
      },
      "source": [
        "#**Testen ein paar Word-Embeddings and ähnliche semantische Wörter**"
      ]
    },
    {
      "cell_type": "code",
      "execution_count": null,
      "metadata": {
        "colab": {
          "base_uri": "https://localhost:8080/"
        },
        "id": "f23xipx7MSV4",
        "outputId": "f1c3fdb4-5984-4dad-c8d7-e52099a9b8a6"
      },
      "outputs": [
        {
          "output_type": "stream",
          "name": "stdout",
          "text": [
            "skipgram word-embedding of the word: jackson\n",
            "some elements of vector: [-0.0064425697, 0.05336388, -0.0791205, 0.14298755, 0.01092479]\n",
            "total dim of vector: 300\n",
            "show some semantic similar words \n",
            "\n",
            "neighbors of word: conduct\n",
            "['establish', 'interests', 'grounds', 'measures', 'economic']\n",
            "[0.8785027861595154, 0.8771042227745056, 0.8538452982902527, 0.8492910265922546, 0.8467714786529541]\n",
            "----------------------------------------------------------------------------------------------------\n",
            "neighbors of word: implies\n",
            "['deny', 'irrelevant', 'imply', 'justification', 'arguing']\n",
            "[0.8767746090888977, 0.8689412474632263, 0.8676267266273499, 0.8623065948486328, 0.861356258392334]\n",
            "----------------------------------------------------------------------------------------------------\n",
            "neighbors of word: solutions\n",
            "['tool', 'tools', 'machines', 'platform', 'bug']\n",
            "[0.580713152885437, 0.5781648755073547, 0.5764162540435791, 0.5697091817855835, 0.5674580335617065]\n",
            "----------------------------------------------------------------------------------------------------\n",
            "neighbors of word: affect\n",
            "['virtually', 'circumstances', 'rely', 'serves', 'causing']\n",
            "[0.7895834445953369, 0.7865622639656067, 0.7850110530853271, 0.7843527793884277, 0.7793745398521423]\n",
            "----------------------------------------------------------------------------------------------------\n",
            "neighbors of word: multi\n",
            "['interface', 'displays', 'capabilities', 'platform', 'select']\n",
            "[0.8433104753494263, 0.7820426225662231, 0.7805764675140381, 0.7790523767471313, 0.7777268290519714]\n",
            "----------------------------------------------------------------------------------------------------\n"
          ]
        }
      ],
      "source": [
        "if model_name != \"bert\" and use_bert_embedding == False:\n",
        "  v = list(wb_creator.model.wv.vocab)[0]\n",
        "  vec = list(wb_creator.model.wv.__getitem__(v))\n",
        "  print(f'{model_name} word-embedding of the word: {v}')\n",
        "  print(f'some elements of vector: {vec[:5]}')\n",
        "  print(f'total dim of vector: {len(vec)}')\n",
        "  print(f'show some semantic similar words \\n')\n",
        "  for i in range(5,10):\n",
        "      print(f'neighbors of word: {vocab[i]}')\n",
        "      print([r[0] for r in wb_creator.find_most_similar_words(n_neighbor=5, word=vocab[i])])\n",
        "      print([r[1] for r in wb_creator.find_most_similar_words(n_neighbor=5, word=vocab[i])])\n",
        "      print(100*\"-\")\n",
        "else:\n",
        "  print('festlegen welches Modell für word2vec soll genutzt werden!\\n Wenn bert-Modell, bitte die Vocabular aktualisieren durch use_bert_embedding = True')"
      ]
    },
    {
      "cell_type": "markdown",
      "metadata": {
        "id": "TC5kBgTeYANQ"
      },
      "source": [
        "# **Wenn Bert-Embedding benutzt wurde: BERT-Embedding**\n",
        "1. Bert-Embedding wurde in einem anderen Prozess durchgeführt\n",
        "2. Um Bert-Durchführen zu können, bitte herunterladen diesen Daten: `bert_vocab_embedding.txt`,und in den richtigen Order einpacken, konvertiern mittels `src/bert_covert_format.py`, wie im dem READme beschrieben wurde. \n",
        "2. Bert-Embedding wurde in dem `prepared_data/bert_vocab_embedding.txt` gespeichert\n",
        "3. Um Bert-Embedding verwendet, muss man im Vorfield folgende Punkten achten:\n",
        "\n",
        "*   Bei der Vorbereitung von Daten muss folgende Argument setzen: use_bert_embedding = True\n",
        "*   model_name = \"bert\" setzen\n",
        "\n",
        "\n"
      ]
    },
    {
      "cell_type": "code",
      "execution_count": null,
      "metadata": {
        "id": "3S78BQlyYEFC"
      },
      "outputs": [],
      "source": [
        "#run bert_main.py\n",
        "#dieser Teil wegen der Laufzeit werden separat durchgeführt. Die Vocab-Embeddings wurde gespeichert und kann geladen und benutzt.\n",
        "#bert_vocab_embedding.txt in prepared_data\n",
        "if model_name == \"bert\" and use_bert_embedding == True:\n",
        "  from src.embedding import BertEmbedding\n",
        "  bert_eb = BertEmbedding('prepared_data') #directory, where the txt.file of bert_vocab_embedding.txt ist\n",
        "  try:\n",
        "    bert_eb.get_bert_embeddings(vocab)\n",
        "    print(bert_eb.bert_embeddings.shape)\n",
        "  except:\n",
        "    print(\"musst bert_main.py lokal durchgeführt werden, um die Bert-Embedding für Vocabular zu erstellen. \\n\")\n",
        "    print(\"die Embedding wird erst danach durch bert_main.py in dem Ordner prepared_data\\bert_vocab_embedding.txt' gespeichert\")"
      ]
    },
    {
      "cell_type": "markdown",
      "metadata": {
        "id": "P9jSI12r9zqu"
      },
      "source": [
        "# **ETM Model und ETM Trainieren**\n",
        "\n",
        "ETM hat die ähnliche Architektur eines Variational Autoencoders (Encoder für Sampling latent Repräsentation von Dokument) und (Decoder: eigenlich nur das Produkt von doc-over-topics und topic-over-vocabulary)\n",
        "\n",
        "ETM wird mit den pretrainierten Embedding kombiniert. Die Embeddings für Topics werden als Gewichten eines Teiles des Netzes aktualiert mittels der negative-ELBO (Reconstruction-Loss + KLD Loss)\n",
        "\n",
        "\n",
        "![ETM.drawio.png](data:image/png;base64,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)\n",
        "\n"
      ]
    },
    {
      "cell_type": "markdown",
      "metadata": {
        "id": "gc4ws3K27SOu"
      },
      "source": [
        "**kontrollieren die Inputdaten DocSet**\n",
        "1. Diese Klasse `DocSet` wurde implementiert, damit die Daten effizienter mit Pytorch geladen innerhalb des Batches werden können\n",
        "2. `tr_set.__getitem__(0`) return die Repräsentation für das Dokument 0. Wegen der Normalisierung - die Summe = `0.9999997615814209`\n",
        "\n",
        "\n",
        "\n",
        "\n"
      ]
    },
    {
      "cell_type": "code",
      "execution_count": null,
      "metadata": {
        "colab": {
          "base_uri": "https://localhost:8080/"
        },
        "id": "fwiU9zWCIUh_",
        "outputId": "aebb4763-cc82-4aff-9cc8-9364f55e9c2e"
      },
      "outputs": [
        {
          "output_type": "stream",
          "name": "stdout",
          "text": [
            "total train docs: 11214\n",
            "sum of vector: 1.0000003576278687\n",
            "length of vector: 0.1649533212184906\n"
          ]
        }
      ],
      "source": [
        "# using DocSet to use easier the modul DataSet from torch\n",
        "from src.train_etm import DocSet, TrainETM\n",
        "from src.etm import ETM\n",
        "import torch\n",
        "\n",
        "vocab_size = len(list(word2id.keys()))\n",
        "tr_set = DocSet(\"train\", vocab_size, train_set, normalize_data=True)\n",
        "print(f'total train docs: {len(tr_set)}')\n",
        "print(f'sum of vector: {sum(tr_set.__getitem__(0)[\"normalized\"])}')\n",
        "print(f'length of vector: {torch.norm(tr_set.__getitem__(0)[\"normalized\"])}')"
      ]
    },
    {
      "cell_type": "markdown",
      "metadata": {
        "id": "taAPPVLjG4qt"
      },
      "source": [
        "**Prefitted-Embeddings einlesen**"
      ]
    },
    {
      "cell_type": "code",
      "execution_count": null,
      "metadata": {
        "id": "BmpKSIyCG4qu",
        "outputId": "cdb8b1af-4ff1-446a-9c28-652c99172f07",
        "colab": {
          "base_uri": "https://localhost:8080/"
        }
      },
      "outputs": [
        {
          "output_type": "stream",
          "name": "stdout",
          "text": [
            "start reading lines embeddings file:...\n"
          ]
        },
        {
          "output_type": "stream",
          "name": "stderr",
          "text": [
            "reading word-embedding...: 100%|██████████| 3102/3102 [00:00<00:00, 9954.79it/s] "
          ]
        },
        {
          "output_type": "stream",
          "name": "stdout",
          "text": [
            "end reading lines embeddings file!\n"
          ]
        },
        {
          "output_type": "stream",
          "name": "stderr",
          "text": [
            "\n"
          ]
        }
      ],
      "source": [
        "# read embedding \n",
        "from src.embedding import read_prefitted_embedding\n",
        "_, embedding_data = read_prefitted_embedding(model_name, vocab, save_path)"
      ]
    },
    {
      "cell_type": "markdown",
      "metadata": {
        "id": "U4Z-7za3VYOv"
      },
      "source": [
        "**Trainingsparametern vorbereiten**\n",
        "\n",
        "\n"
      ]
    },
    {
      "cell_type": "code",
      "source": [
        "epochs = 150\n",
        "batch_size = 1000\n",
        "lr = 0.002\n",
        "wdecay = 0.0000012\n",
        "num_topics = 20\n",
        "t_hidden_size = 8\n",
        "theta_act = \"tanh\""
      ],
      "metadata": {
        "id": "y07eFfzgAumA"
      },
      "execution_count": null,
      "outputs": []
    },
    {
      "cell_type": "code",
      "execution_count": null,
      "metadata": {
        "colab": {
          "base_uri": "https://localhost:8080/"
        },
        "id": "oPKPTWbZVWuT",
        "outputId": "2064bb4c-871b-42f0-c163-7a875d053112"
      },
      "outputs": [
        {
          "output_type": "stream",
          "name": "stdout",
          "text": [
            "150\n",
            "adam\n"
          ]
        }
      ],
      "source": [
        "class TrainArguments:\n",
        "      def __init__(self, epochs, batch_size, log_interval):\n",
        "          self.epochs = epochs\n",
        "          self.batch_size = batch_size\n",
        "          self.log_interval = log_interval\n",
        "\n",
        "class OptimizerArguments:\n",
        "      def __init__(self, optimizer_name, lr, wdecay):\n",
        "            self.optimizer = optimizer_name\n",
        "            self.lr = lr\n",
        "            self.wdecay = wdecay\n",
        "\n",
        "\n",
        "train_args = TrainArguments(epochs=epochs, batch_size=batch_size, log_interval=None)\n",
        "optimizer_args = OptimizerArguments(optimizer_name=\"adam\", lr=lr, wdecay=wdecay)\n",
        "print(train_args.epochs)\n",
        "print(optimizer_args.optimizer)\n",
        "rho_size = len(embedding_data[0])\n",
        "emb_size = len(embedding_data[0])"
      ]
    },
    {
      "cell_type": "markdown",
      "metadata": {
        "id": "WjO6yHpgVljt"
      },
      "source": [
        "# **ETM mit Cross-Entropy**"
      ]
    },
    {
      "cell_type": "markdown",
      "metadata": {
        "id": "NWO3C7-17v5V"
      },
      "source": [
        "1.   ETM-initialisieren\n",
        "2.   Trainieren das ETM-Modell mit den Training-Settings-Parameters\n"
      ]
    },
    {
      "cell_type": "markdown",
      "metadata": {
        "id": "cwsoYjU0UjX7"
      },
      "source": [
        "**Aktivierte Funktion: Tanh**"
      ]
    },
    {
      "cell_type": "code",
      "execution_count": null,
      "metadata": {
        "colab": {
          "base_uri": "https://localhost:8080/",
          "height": 1000
        },
        "id": "EJEofBfR7tz1",
        "outputId": "fb5a1f78-e258-422f-dcd2-d5a793f740b9"
      },
      "outputs": [
        {
          "output_type": "stream",
          "name": "stdout",
          "text": [
            "ETM(\n",
            "  (theta_act): Tanh()\n",
            "  (topic_embeddings_alphas): Linear(in_features=300, out_features=20, bias=False)\n",
            "  (q_theta): Sequential(\n",
            "    (0): Linear(in_features=3102, out_features=8, bias=True)\n",
            "    (1): Tanh()\n",
            "    (2): Linear(in_features=8, out_features=8, bias=True)\n",
            "    (3): Tanh()\n",
            "  )\n",
            "  (mu_q_theta): Linear(in_features=8, out_features=20, bias=True)\n",
            "  (logsigma_q_theta): Linear(in_features=8, out_features=20, bias=True)\n",
            ")\n",
            "number of batches: 12\n",
            "Epoch: 1/150  -  Loss: 641.94141 \t Rec: 641.33563 \t KL: 0.60583\n",
            "Epoch: 2/150  -  Loss: 641.37244 \t Rec: 641.03174 \t KL: 0.3407\n",
            "Epoch: 3/150  -  Loss: 633.64502 \t Rec: 633.46173 \t KL: 0.18331\n",
            "Epoch: 4/150  -  Loss: 629.30756 \t Rec: 629.21301 \t KL: 0.09456\n",
            "Epoch: 5/150  -  Loss: 636.04968 \t Rec: 636.00208 \t KL: 0.04756\n",
            "Epoch: 6/150  -  Loss: 627.70471 \t Rec: 627.68103 \t KL: 0.02362\n",
            "Epoch: 7/150  -  Loss: 632.35791 \t Rec: 632.34375 \t KL: 0.01418\n",
            "Epoch: 8/150  -  Loss: 632.05511 \t Rec: 632.0448 \t KL: 0.01034\n",
            "Epoch: 9/150  -  Loss: 630.68201 \t Rec: 630.66779 \t KL: 0.01422\n",
            "Epoch: 10/150  -  Loss: 633.72559 \t Rec: 633.70343 \t KL: 0.02216\n",
            "Epoch: 11/150  -  Loss: 631.77728 \t Rec: 631.73358 \t KL: 0.0438\n",
            "Epoch: 12/150  -  Loss: 631.47937 \t Rec: 631.38635 \t KL: 0.09309\n",
            "Epoch: 13/150  -  Loss: 630.909 \t Rec: 630.70239 \t KL: 0.20657\n",
            "Epoch: 14/150  -  Loss: 630.11023 \t Rec: 629.62891 \t KL: 0.48133\n",
            "Epoch: 15/150  -  Loss: 630.41028 \t Rec: 629.35614 \t KL: 1.05419\n",
            "Epoch: 16/150  -  Loss: 618.37512 \t Rec: 616.5495 \t KL: 1.82557\n",
            "Epoch: 17/150  -  Loss: 620.46033 \t Rec: 618.2265 \t KL: 2.23371\n",
            "Epoch: 18/150  -  Loss: 627.32092 \t Rec: 625.07288 \t KL: 2.24803\n",
            "Epoch: 19/150  -  Loss: 617.276 \t Rec: 614.93481 \t KL: 2.34126\n",
            "Epoch: 20/150  -  Loss: 619.20752 \t Rec: 616.68628 \t KL: 2.52135\n",
            "Epoch: 21/150  -  Loss: 622.58838 \t Rec: 619.96069 \t KL: 2.62767\n",
            "Epoch: 22/150  -  Loss: 616.5025 \t Rec: 613.76001 \t KL: 2.74254\n",
            "Epoch: 23/150  -  Loss: 613.87732 \t Rec: 611.02051 \t KL: 2.85679\n",
            "Epoch: 24/150  -  Loss: 622.7713 \t Rec: 619.81677 \t KL: 2.95452\n",
            "Epoch: 25/150  -  Loss: 617.50507 \t Rec: 614.41309 \t KL: 3.09199\n",
            "Epoch: 26/150  -  Loss: 617.24329 \t Rec: 614.02234 \t KL: 3.22097\n",
            "Epoch: 27/150  -  Loss: 611.14722 \t Rec: 607.84076 \t KL: 3.30646\n",
            "Epoch: 28/150  -  Loss: 620.29187 \t Rec: 616.91846 \t KL: 3.37352\n",
            "Epoch: 29/150  -  Loss: 618.659 \t Rec: 615.23132 \t KL: 3.42766\n",
            "Epoch: 30/150  -  Loss: 609.69763 \t Rec: 606.20892 \t KL: 3.48861\n",
            "Epoch: 31/150  -  Loss: 607.13043 \t Rec: 603.63428 \t KL: 3.49611\n",
            "Epoch: 32/150  -  Loss: 619.45953 \t Rec: 615.88037 \t KL: 3.5792\n",
            "Epoch: 33/150  -  Loss: 611.18762 \t Rec: 607.53412 \t KL: 3.65352\n",
            "Epoch: 34/150  -  Loss: 611.12872 \t Rec: 607.40393 \t KL: 3.72477\n",
            "Epoch: 35/150  -  Loss: 606.9585 \t Rec: 603.07495 \t KL: 3.88348\n",
            "Epoch: 36/150  -  Loss: 608.43793 \t Rec: 604.48724 \t KL: 3.95077\n",
            "Epoch: 37/150  -  Loss: 613.99915 \t Rec: 610.00208 \t KL: 3.99706\n",
            "Epoch: 38/150  -  Loss: 611.15588 \t Rec: 607.13788 \t KL: 4.01811\n",
            "Epoch: 39/150  -  Loss: 610.74951 \t Rec: 606.62781 \t KL: 4.12165\n",
            "Epoch: 40/150  -  Loss: 603.88501 \t Rec: 599.70532 \t KL: 4.17971\n",
            "Epoch: 41/150  -  Loss: 603.54315 \t Rec: 599.28442 \t KL: 4.25868\n",
            "Epoch: 42/150  -  Loss: 600.42847 \t Rec: 596.08752 \t KL: 4.341\n",
            "Epoch: 43/150  -  Loss: 598.93994 \t Rec: 594.53003 \t KL: 4.40993\n",
            "Epoch: 44/150  -  Loss: 603.73389 \t Rec: 599.24286 \t KL: 4.49099\n",
            "Epoch: 45/150  -  Loss: 600.50464 \t Rec: 595.92761 \t KL: 4.57697\n",
            "Epoch: 46/150  -  Loss: 601.52435 \t Rec: 596.81696 \t KL: 4.70741\n",
            "Epoch: 47/150  -  Loss: 609.49188 \t Rec: 604.72723 \t KL: 4.76468\n",
            "Epoch: 48/150  -  Loss: 598.85083 \t Rec: 594.00275 \t KL: 4.84795\n",
            "Epoch: 49/150  -  Loss: 601.98059 \t Rec: 597.08997 \t KL: 4.8906\n",
            "Epoch: 50/150  -  Loss: 607.97034 \t Rec: 603.0542 \t KL: 4.91609\n",
            "Epoch: 51/150  -  Loss: 601.39307 \t Rec: 596.35767 \t KL: 5.03544\n",
            "Epoch: 52/150  -  Loss: 617.00031 \t Rec: 611.92847 \t KL: 5.07185\n",
            "Epoch: 53/150  -  Loss: 599.11151 \t Rec: 593.90887 \t KL: 5.20271\n",
            "Epoch: 54/150  -  Loss: 600.28235 \t Rec: 595.0282 \t KL: 5.25419\n",
            "Epoch: 55/150  -  Loss: 603.53802 \t Rec: 598.28015 \t KL: 5.25789\n",
            "Epoch: 56/150  -  Loss: 597.25629 \t Rec: 591.93896 \t KL: 5.31733\n",
            "Epoch: 57/150  -  Loss: 594.59729 \t Rec: 589.1712 \t KL: 5.42604\n",
            "Epoch: 58/150  -  Loss: 597.18481 \t Rec: 591.7981 \t KL: 5.38684\n",
            "Epoch: 59/150  -  Loss: 595.36938 \t Rec: 589.88751 \t KL: 5.48189\n",
            "Epoch: 60/150  -  Loss: 608.01544 \t Rec: 602.48254 \t KL: 5.53298\n",
            "Epoch: 61/150  -  Loss: 602.31946 \t Rec: 596.68323 \t KL: 5.63619\n",
            "Epoch: 62/150  -  Loss: 593.51733 \t Rec: 587.87219 \t KL: 5.64515\n",
            "Epoch: 63/150  -  Loss: 608.03174 \t Rec: 602.33923 \t KL: 5.69255\n",
            "Epoch: 64/150  -  Loss: 598.89368 \t Rec: 593.09521 \t KL: 5.79838\n",
            "Epoch: 65/150  -  Loss: 594.49249 \t Rec: 588.68579 \t KL: 5.80669\n",
            "Epoch: 66/150  -  Loss: 589.26892 \t Rec: 583.53406 \t KL: 5.73472\n",
            "Epoch: 67/150  -  Loss: 592.87671 \t Rec: 587.04163 \t KL: 5.83511\n",
            "Epoch: 68/150  -  Loss: 609.49518 \t Rec: 603.60437 \t KL: 5.89083\n",
            "Epoch: 69/150  -  Loss: 596.02014 \t Rec: 590.12115 \t KL: 5.899\n",
            "Epoch: 70/150  -  Loss: 596.75189 \t Rec: 590.84705 \t KL: 5.90498\n",
            "Epoch: 71/150  -  Loss: 592.28888 \t Rec: 586.36035 \t KL: 5.92849\n",
            "Epoch: 72/150  -  Loss: 596.48511 \t Rec: 590.4541 \t KL: 6.03098\n",
            "Epoch: 73/150  -  Loss: 606.28528 \t Rec: 600.28168 \t KL: 6.0036\n",
            "Epoch: 74/150  -  Loss: 610.17926 \t Rec: 604.0918 \t KL: 6.08738\n",
            "Epoch: 75/150  -  Loss: 592.36169 \t Rec: 586.28308 \t KL: 6.07857\n",
            "Epoch: 76/150  -  Loss: 593.51343 \t Rec: 587.41479 \t KL: 6.09866\n",
            "Epoch: 77/150  -  Loss: 595.68408 \t Rec: 589.53754 \t KL: 6.14665\n",
            "Epoch: 78/150  -  Loss: 592.38898 \t Rec: 586.24731 \t KL: 6.14164\n",
            "Epoch: 79/150  -  Loss: 596.86597 \t Rec: 590.63049 \t KL: 6.23545\n",
            "Epoch: 80/150  -  Loss: 592.33905 \t Rec: 586.17194 \t KL: 6.16706\n",
            "Epoch: 81/150  -  Loss: 604.86389 \t Rec: 598.66418 \t KL: 6.19966\n",
            "Epoch: 82/150  -  Loss: 594.66132 \t Rec: 588.35956 \t KL: 6.30172\n",
            "Epoch: 83/150  -  Loss: 592.71863 \t Rec: 586.36353 \t KL: 6.35513\n",
            "Epoch: 84/150  -  Loss: 599.86902 \t Rec: 593.55872 \t KL: 6.31026\n",
            "Epoch: 85/150  -  Loss: 590.32379 \t Rec: 584.01862 \t KL: 6.30524\n",
            "Epoch: 86/150  -  Loss: 588.23157 \t Rec: 581.88269 \t KL: 6.34877\n",
            "Epoch: 87/150  -  Loss: 597.4859 \t Rec: 591.14594 \t KL: 6.34001\n",
            "Epoch: 88/150  -  Loss: 589.13507 \t Rec: 582.7439 \t KL: 6.39118\n",
            "Epoch: 89/150  -  Loss: 590.5351 \t Rec: 584.1095 \t KL: 6.42568\n",
            "Epoch: 90/150  -  Loss: 594.84167 \t Rec: 588.4032 \t KL: 6.43839\n",
            "Epoch: 91/150  -  Loss: 595.36865 \t Rec: 588.91602 \t KL: 6.45264\n",
            "Epoch: 92/150  -  Loss: 593.75922 \t Rec: 587.276 \t KL: 6.48316\n",
            "Epoch: 93/150  -  Loss: 591.55273 \t Rec: 585.07288 \t KL: 6.47988\n",
            "Epoch: 94/150  -  Loss: 595.96362 \t Rec: 589.39325 \t KL: 6.57035\n",
            "Epoch: 95/150  -  Loss: 593.55798 \t Rec: 586.98254 \t KL: 6.57547\n",
            "Epoch: 96/150  -  Loss: 599.87646 \t Rec: 593.25769 \t KL: 6.6188\n",
            "Epoch: 97/150  -  Loss: 593.45386 \t Rec: 586.85339 \t KL: 6.60052\n",
            "Epoch: 98/150  -  Loss: 600.21637 \t Rec: 593.52283 \t KL: 6.69353\n",
            "Epoch: 99/150  -  Loss: 587.68573 \t Rec: 580.95001 \t KL: 6.73584\n",
            "Epoch: 100/150  -  Loss: 588.47156 \t Rec: 581.78259 \t KL: 6.68891\n",
            "Epoch: 101/150  -  Loss: 587.42883 \t Rec: 580.77124 \t KL: 6.65756\n",
            "Epoch: 102/150  -  Loss: 589.19141 \t Rec: 582.48145 \t KL: 6.7099\n",
            "Epoch: 103/150  -  Loss: 593.93628 \t Rec: 587.21503 \t KL: 6.72118\n",
            "Epoch: 104/150  -  Loss: 591.57422 \t Rec: 584.8042 \t KL: 6.77002\n",
            "Epoch: 105/150  -  Loss: 602.82935 \t Rec: 595.94904 \t KL: 6.88032\n",
            "Epoch: 106/150  -  Loss: 591.15979 \t Rec: 584.25543 \t KL: 6.90436\n",
            "Epoch: 107/150  -  Loss: 588.51746 \t Rec: 581.63806 \t KL: 6.87939\n",
            "Epoch: 108/150  -  Loss: 586.94556 \t Rec: 580.01465 \t KL: 6.93093\n",
            "Epoch: 109/150  -  Loss: 590.05664 \t Rec: 583.11102 \t KL: 6.94572\n",
            "Epoch: 110/150  -  Loss: 588.34485 \t Rec: 581.34387 \t KL: 7.00102\n",
            "Epoch: 111/150  -  Loss: 592.37219 \t Rec: 585.41052 \t KL: 6.96175\n",
            "Epoch: 112/150  -  Loss: 589.96204 \t Rec: 582.94946 \t KL: 7.01252\n",
            "Epoch: 113/150  -  Loss: 593.19177 \t Rec: 586.10229 \t KL: 7.0894\n",
            "Epoch: 114/150  -  Loss: 587.35052 \t Rec: 580.30505 \t KL: 7.0455\n",
            "Epoch: 115/150  -  Loss: 590.4707 \t Rec: 583.46625 \t KL: 7.00442\n",
            "Epoch: 116/150  -  Loss: 588.74866 \t Rec: 581.68945 \t KL: 7.05924\n",
            "Epoch: 117/150  -  Loss: 593.96942 \t Rec: 586.90015 \t KL: 7.06925\n",
            "Epoch: 118/150  -  Loss: 586.02454 \t Rec: 578.9624 \t KL: 7.0621\n",
            "Epoch: 119/150  -  Loss: 589.70441 \t Rec: 582.64258 \t KL: 7.06188\n",
            "Epoch: 120/150  -  Loss: 595.73792 \t Rec: 588.64929 \t KL: 7.08859\n",
            "Epoch: 121/150  -  Loss: 585.15137 \t Rec: 578.09039 \t KL: 7.06095\n",
            "Epoch: 122/150  -  Loss: 589.20355 \t Rec: 582.11084 \t KL: 7.0927\n",
            "Epoch: 123/150  -  Loss: 594.39331 \t Rec: 587.28796 \t KL: 7.10533\n",
            "Epoch: 124/150  -  Loss: 592.68884 \t Rec: 585.5528 \t KL: 7.13601\n",
            "Epoch: 125/150  -  Loss: 586.77545 \t Rec: 579.62769 \t KL: 7.14776\n",
            "Epoch: 126/150  -  Loss: 590.7536 \t Rec: 583.60315 \t KL: 7.15045\n",
            "Epoch: 127/150  -  Loss: 589.01215 \t Rec: 581.86871 \t KL: 7.14351\n",
            "Epoch: 128/150  -  Loss: 589.85974 \t Rec: 582.70972 \t KL: 7.15004\n",
            "Epoch: 129/150  -  Loss: 585.16913 \t Rec: 578.08765 \t KL: 7.0815\n",
            "Epoch: 130/150  -  Loss: 593.74414 \t Rec: 586.6062 \t KL: 7.13798\n",
            "Epoch: 131/150  -  Loss: 594.22217 \t Rec: 587.06274 \t KL: 7.15949\n",
            "Epoch: 132/150  -  Loss: 590.96344 \t Rec: 583.81036 \t KL: 7.15312\n",
            "Epoch: 133/150  -  Loss: 586.97205 \t Rec: 579.75281 \t KL: 7.21926\n",
            "Epoch: 134/150  -  Loss: 594.14001 \t Rec: 587.02844 \t KL: 7.11152\n",
            "Epoch: 135/150  -  Loss: 597.77637 \t Rec: 590.57214 \t KL: 7.20424\n",
            "Epoch: 136/150  -  Loss: 590.8291 \t Rec: 583.65753 \t KL: 7.17156\n",
            "Epoch: 137/150  -  Loss: 587.29797 \t Rec: 580.10938 \t KL: 7.18861\n",
            "Epoch: 138/150  -  Loss: 595.66943 \t Rec: 588.51538 \t KL: 7.15409\n",
            "Epoch: 139/150  -  Loss: 586.77808 \t Rec: 579.58887 \t KL: 7.18925\n",
            "Epoch: 140/150  -  Loss: 591.42798 \t Rec: 584.1958 \t KL: 7.23211\n",
            "Epoch: 141/150  -  Loss: 589.54346 \t Rec: 582.34045 \t KL: 7.20293\n",
            "Epoch: 142/150  -  Loss: 598.61938 \t Rec: 591.40741 \t KL: 7.21197\n",
            "Epoch: 143/150  -  Loss: 591.76001 \t Rec: 584.51379 \t KL: 7.24626\n",
            "Epoch: 144/150  -  Loss: 591.58795 \t Rec: 584.35718 \t KL: 7.23078\n",
            "Epoch: 145/150  -  Loss: 587.94019 \t Rec: 580.74823 \t KL: 7.19196\n",
            "Epoch: 146/150  -  Loss: 585.94458 \t Rec: 578.75098 \t KL: 7.19359\n",
            "Epoch: 147/150  -  Loss: 599.77527 \t Rec: 592.55676 \t KL: 7.2185\n",
            "Epoch: 148/150  -  Loss: 593.73077 \t Rec: 586.45483 \t KL: 7.27584\n",
            "Epoch: 149/150  -  Loss: 584.98438 \t Rec: 577.63501 \t KL: 7.34939\n",
            "Epoch: 150/150  -  Loss: 586.47314 \t Rec: 579.18323 \t KL: 7.28994\n",
            "Checkpoint saved at checkpoints/etm_epoch_150.pth.tar\n"
          ]
        },
        {
          "output_type": "display_data",
          "data": {
            "text/plain": [
              "<Figure size 432x288 with 1 Axes>"
            ],
            "image/png": "[encoded data removed]"
          },
          "metadata": {
            "needs_background": "light"
          }
        },
        {
          "output_type": "display_data",
          "data": {
            "text/plain": [
              "<Figure size 432x288 with 1 Axes>"
            ],
            "image/png": "[encoded data removed]"
          },
          "metadata": {
            "needs_background": "light"
          }
        },
        {
          "output_type": "stream",
          "name": "stdout",
          "text": [
            "['left', 'research', 'side', 'center', 'message', 'back', 'org', 'problems', 'major', 'disclaimer']\n",
            "['writes', 'host', 'ca', 'posting', 'university', 'article', 'nntp', 'mail', 'computer', 'cs']\n",
            "['writes', 'article', 'posting', 'host', 'nntp', 'university', 'cs', 'reply', 'apr', 'org']\n",
            "['time', 'work', 'back', 'years', 'good', 'run', 'read', 'long', 'make', 'times']\n",
            "['windows', 'file', 'dos', 'drive', 'software', 'system', 'information', 'program', 'data', 'version']\n",
            "['people', 'problem', 'things', 'find', 'point', 'made', 'lot', 'thing', 'big', 'good']\n",
            "['space', 'key', 'nasa', 'encryption', 'clipper', 'technology', 'chip', 'keys', 'public', 'security']\n",
            "['phone', 'line', 'power', 'send', 'find', 'buy', 'work', 'good', 'info', 'stuff']\n",
            "['article', 'writes', 'computer', 'posting', 'case', 'wrote', 'post', 'steve', 'type', 'power']\n",
            "['writes', 'article', 'state', 'world', 'john', 'man', 'day', 'love', 'news', 'david']\n",
            "['car', 'speed', 'engine', 'bike', 'hp', 'high', 'cover', 'low', 'wire', 'rider']\n",
            "['time', 'year', 'long', 'state', 'good', 'order', 'university', 'distribution', 'single', 'place']\n",
            "['max', 'ibm', 'bit', 'graphics', 'color', 'card', 'scsi', 'mac', 'lc', 'pc']\n",
            "['game', 'team', 'games', 'play', 'players', 'win', 'league', 'player', 'playoffs', 'division']\n",
            "['god', 'jesus', 'israel', 'christians', 'armenian', 'jews', 'men', 'jewish', 'christian', 'history']\n",
            "['ca', 'university', 'host', 'posting', 'nntp', 'distribution', 'de', 'uk', 'net', 'cs']\n",
            "['world', 'article', 'read', 'book', 'good', 'university', 'david', 'issue', 'reply', 'question']\n",
            "['case', 'mit', 'set', 'call', 'questions', 'local', 'high', 'institute', 'part', 'support']\n",
            "['people', 'government', 'law', 'gun', 'life', 'rights', 'fact', 'question', 'reason', 'person']\n",
            "['fbi', 'health', 'children', 'mr', 'day', 'information', 'medical', 'house', 'care', 'general']\n"
          ]
        }
      ],
      "source": [
        "#--------------------------training----------------------------------------------------\n",
        "#del etm_model\n",
        "# define the ETM-model with setting-parameters\n",
        "etm_model = ETM(\n",
        "      num_topics, \n",
        "      vocab_size, \n",
        "      t_hidden_size, rho_size, emb_size, theta_act, \n",
        "      embedding_data, \n",
        "      enc_drop=0.5)\n",
        "\n",
        "print(etm_model)\n",
        "\n",
        "loss_name = \"cross-entropy\"\n",
        "\n",
        "train_class = TrainETM().train(\n",
        "    etm_model,\n",
        "    loss_name,\n",
        "    vocab_size, \n",
        "    train_args, optimizer_args, train_set,\n",
        "    normalize_data = True,\n",
        "    figures_path = figures_path,\n",
        "    visualization = True)\n",
        "\n",
        "#-------------------show topics\n",
        "topics = etm_model.show_topics(id2word, 10)\n",
        "#for tp in topics:\n",
        "#  print(tp)\n",
        "\n",
        "topics = etm_model.show_topics(id2word, 10)\n",
        "topics = [[e[0] for e in tp] for tp in topics] #get only top words\n",
        "for tp in topics:\n",
        "  print(tp)"
      ]
    },
    {
      "cell_type": "code",
      "execution_count": null,
      "metadata": {
        "id": "QS746i9t7yqQ",
        "outputId": "6aeaf0ae-a8db-43c0-f478-26bd5e84af2d",
        "colab": {
          "base_uri": "https://localhost:8080/"
        }
      },
      "outputs": [
        {
          "output_type": "stream",
          "name": "stdout",
          "text": [
            "etm-topic-coherrence: 0.1595585135160988\n",
            "etm-topic-diversity: 0.775\n"
          ]
        }
      ],
      "source": [
        "from src.evaluierung import topicCoherence2, topicDiversity\n",
        "tc = topicCoherence2(topics,len(topics),docs_tr,len(docs_tr))\n",
        "td = topicDiversity(topics)\n",
        "print(f'etm-topic-coherrence: {tc}')\n",
        "print(f'etm-topic-diversity: {td}')"
      ]
    },
    {
      "cell_type": "code",
      "execution_count": null,
      "metadata": {
        "id": "yhc6yK6E7yqQ",
        "outputId": "00a39324-c041-4881-b4f4-42d89b948643",
        "colab": {
          "base_uri": "https://localhost:8080/"
        }
      },
      "outputs": [
        {
          "output_type": "stream",
          "name": "stdout",
          "text": [
            "calculate perplexitiy of test dataset: ...\n",
            "test-1-loader: 7\n",
            "test-2-loader: 7\n",
            "batch 0 finished\n",
            "batch 1 finished\n",
            "batch 2 finished\n",
            "batch 3 finished\n",
            "batch 4 finished\n",
            "batch 5 finished\n",
            "batch 6 finished\n",
            "etm-normalized-perplexity: 0.9576724693745969\n"
          ]
        }
      ],
      "source": [
        "from src.utils_perplexity import get_perplexity\n",
        "test_batch_size = 1000\n",
        "_, test_ppl = get_perplexity(etm_model, test_set, vocab_size, test_batch_size)\n",
        "print(f'etm-normalized-perplexity: {test_ppl}')"
      ]
    },
    {
      "cell_type": "markdown",
      "metadata": {
        "id": "5eD0jGqnTO0F"
      },
      "source": [
        "**Aktivierte Funktion ReLU**"
      ]
    },
    {
      "cell_type": "code",
      "execution_count": null,
      "metadata": {
        "id": "XWhW2waVXRK1"
      },
      "outputs": [],
      "source": [
        "del etm_model\n",
        "del train_class \n",
        "del train_args\n",
        "del optimizer_args"
      ]
    },
    {
      "cell_type": "code",
      "execution_count": null,
      "metadata": {
        "colab": {
          "base_uri": "https://localhost:8080/",
          "height": 1000
        },
        "id": "6ZbcBfC9TUa3",
        "outputId": "18f3b1b9-92a1-481e-9ce3-3d16cfd7cbf3"
      },
      "outputs": [
        {
          "output_type": "stream",
          "name": "stdout",
          "text": [
            "start reading lines embeddings file:...\n"
          ]
        },
        {
          "output_type": "stream",
          "name": "stderr",
          "text": [
            "reading word-embedding...: 100%|██████████| 3102/3102 [00:00<00:00, 8653.27it/s]\n"
          ]
        },
        {
          "output_type": "stream",
          "name": "stdout",
          "text": [
            "end reading lines embeddings file!\n",
            "ETM(\n",
            "  (theta_act): ReLU()\n",
            "  (topic_embeddings_alphas): Linear(in_features=300, out_features=20, bias=False)\n",
            "  (q_theta): Sequential(\n",
            "    (0): Linear(in_features=3102, out_features=800, bias=True)\n",
            "    (1): ReLU()\n",
            "    (2): Linear(in_features=800, out_features=800, bias=True)\n",
            "    (3): ReLU()\n",
            "  )\n",
            "  (mu_q_theta): Linear(in_features=800, out_features=20, bias=True)\n",
            "  (logsigma_q_theta): Linear(in_features=800, out_features=20, bias=True)\n",
            ")\n",
            "number of batches: 12\n",
            "Epoch: 1/150  -  Loss: 649.70953 \t Rec: 649.70026 \t KL: 0.00929\n",
            "Epoch: 2/150  -  Loss: 643.68079 \t Rec: 643.61145 \t KL: 0.06925\n",
            "Epoch: 3/150  -  Loss: 643.56934 \t Rec: 643.14886 \t KL: 0.42048\n",
            "Epoch: 4/150  -  Loss: 630.76715 \t Rec: 629.49231 \t KL: 1.27488\n",
            "Epoch: 5/150  -  Loss: 623.78253 \t Rec: 621.58148 \t KL: 2.2011\n",
            "Epoch: 6/150  -  Loss: 628.23364 \t Rec: 625.47089 \t KL: 2.7628\n",
            "Epoch: 7/150  -  Loss: 620.57849 \t Rec: 617.32025 \t KL: 3.25821\n",
            "Epoch: 8/150  -  Loss: 617.84705 \t Rec: 614.32288 \t KL: 3.5242\n",
            "Epoch: 9/150  -  Loss: 614.91205 \t Rec: 610.87817 \t KL: 4.03386\n",
            "Epoch: 10/150  -  Loss: 612.82678 \t Rec: 608.42169 \t KL: 4.40505\n",
            "Epoch: 11/150  -  Loss: 617.08679 \t Rec: 612.60571 \t KL: 4.48112\n",
            "Epoch: 12/150  -  Loss: 619.34595 \t Rec: 614.72351 \t KL: 4.62245\n",
            "Epoch: 13/150  -  Loss: 607.37134 \t Rec: 602.61591 \t KL: 4.75541\n",
            "Epoch: 14/150  -  Loss: 603.24695 \t Rec: 598.37384 \t KL: 4.87311\n",
            "Epoch: 15/150  -  Loss: 609.01404 \t Rec: 603.92578 \t KL: 5.08835\n",
            "Epoch: 16/150  -  Loss: 608.3667 \t Rec: 603.05609 \t KL: 5.3106\n",
            "Epoch: 17/150  -  Loss: 603.90204 \t Rec: 598.46741 \t KL: 5.43465\n",
            "Epoch: 18/150  -  Loss: 601.24731 \t Rec: 595.82745 \t KL: 5.41986\n",
            "Epoch: 19/150  -  Loss: 598.20386 \t Rec: 592.6178 \t KL: 5.58604\n",
            "Epoch: 20/150  -  Loss: 599.75989 \t Rec: 594.17981 \t KL: 5.58006\n",
            "Epoch: 21/150  -  Loss: 599.51416 \t Rec: 593.76776 \t KL: 5.74641\n",
            "Epoch: 22/150  -  Loss: 601.95874 \t Rec: 596.20911 \t KL: 5.74966\n",
            "Epoch: 23/150  -  Loss: 607.34955 \t Rec: 601.51532 \t KL: 5.83426\n",
            "Epoch: 24/150  -  Loss: 602.46393 \t Rec: 596.57776 \t KL: 5.88624\n",
            "Epoch: 25/150  -  Loss: 598.89398 \t Rec: 593.00256 \t KL: 5.89141\n",
            "Epoch: 26/150  -  Loss: 593.34216 \t Rec: 587.38818 \t KL: 5.95393\n",
            "Epoch: 27/150  -  Loss: 595.76923 \t Rec: 589.7478 \t KL: 6.02145\n",
            "Epoch: 28/150  -  Loss: 593.58099 \t Rec: 587.37988 \t KL: 6.2011\n",
            "Epoch: 29/150  -  Loss: 590.97974 \t Rec: 584.78387 \t KL: 6.19588\n",
            "Epoch: 30/150  -  Loss: 598.23376 \t Rec: 591.95673 \t KL: 6.27708\n",
            "Epoch: 31/150  -  Loss: 591.86389 \t Rec: 585.51416 \t KL: 6.3497\n",
            "Epoch: 32/150  -  Loss: 593.42725 \t Rec: 586.9198 \t KL: 6.50747\n",
            "Epoch: 33/150  -  Loss: 590.31665 \t Rec: 583.79285 \t KL: 6.52384\n",
            "Epoch: 34/150  -  Loss: 603.64355 \t Rec: 597.00549 \t KL: 6.63807\n",
            "Epoch: 35/150  -  Loss: 595.60803 \t Rec: 588.93793 \t KL: 6.66999\n",
            "Epoch: 36/150  -  Loss: 588.60504 \t Rec: 581.74811 \t KL: 6.85691\n",
            "Epoch: 37/150  -  Loss: 587.33685 \t Rec: 580.47852 \t KL: 6.85833\n",
            "Epoch: 38/150  -  Loss: 584.55872 \t Rec: 577.617 \t KL: 6.94175\n",
            "Epoch: 39/150  -  Loss: 595.64557 \t Rec: 588.56982 \t KL: 7.07579\n",
            "Epoch: 40/150  -  Loss: 587.37 \t Rec: 580.23553 \t KL: 7.13453\n",
            "Epoch: 41/150  -  Loss: 586.52966 \t Rec: 579.3208 \t KL: 7.20876\n",
            "Epoch: 42/150  -  Loss: 589.55798 \t Rec: 582.32275 \t KL: 7.23526\n",
            "Epoch: 43/150  -  Loss: 590.84833 \t Rec: 583.58508 \t KL: 7.26326\n",
            "Epoch: 44/150  -  Loss: 591.65442 \t Rec: 584.32367 \t KL: 7.3307\n",
            "Epoch: 45/150  -  Loss: 588.08789 \t Rec: 580.6156 \t KL: 7.47232\n",
            "Epoch: 46/150  -  Loss: 585.65576 \t Rec: 578.07874 \t KL: 7.57712\n",
            "Epoch: 47/150  -  Loss: 581.89935 \t Rec: 574.30603 \t KL: 7.5934\n",
            "Epoch: 48/150  -  Loss: 592.39032 \t Rec: 584.74933 \t KL: 7.641\n",
            "Epoch: 49/150  -  Loss: 586.8938 \t Rec: 579.11584 \t KL: 7.77801\n",
            "Epoch: 50/150  -  Loss: 582.4361 \t Rec: 574.57471 \t KL: 7.86134\n",
            "Epoch: 51/150  -  Loss: 580.95898 \t Rec: 573.0708 \t KL: 7.88816\n",
            "Epoch: 52/150  -  Loss: 580.27081 \t Rec: 572.40063 \t KL: 7.87013\n",
            "Epoch: 53/150  -  Loss: 581.30249 \t Rec: 573.26813 \t KL: 8.03443\n",
            "Epoch: 54/150  -  Loss: 588.30853 \t Rec: 580.08496 \t KL: 8.22352\n",
            "Epoch: 55/150  -  Loss: 583.23206 \t Rec: 575.04437 \t KL: 8.18769\n",
            "Epoch: 56/150  -  Loss: 582.6853 \t Rec: 574.31555 \t KL: 8.36986\n",
            "Epoch: 57/150  -  Loss: 585.03479 \t Rec: 576.61304 \t KL: 8.42188\n",
            "Epoch: 58/150  -  Loss: 584.24628 \t Rec: 575.77649 \t KL: 8.46974\n",
            "Epoch: 59/150  -  Loss: 582.69336 \t Rec: 574.26111 \t KL: 8.43218\n",
            "Epoch: 60/150  -  Loss: 582.06116 \t Rec: 573.41846 \t KL: 8.64262\n",
            "Epoch: 61/150  -  Loss: 583.0791 \t Rec: 574.48181 \t KL: 8.59739\n",
            "Epoch: 62/150  -  Loss: 587.14484 \t Rec: 578.46729 \t KL: 8.67754\n",
            "Epoch: 63/150  -  Loss: 579.534 \t Rec: 570.71442 \t KL: 8.81965\n",
            "Epoch: 64/150  -  Loss: 590.03656 \t Rec: 581.30298 \t KL: 8.73353\n",
            "Epoch: 65/150  -  Loss: 576.27319 \t Rec: 567.47144 \t KL: 8.8017\n",
            "Epoch: 66/150  -  Loss: 578.62646 \t Rec: 569.77234 \t KL: 8.85409\n",
            "Epoch: 67/150  -  Loss: 577.3291 \t Rec: 568.57031 \t KL: 8.75873\n",
            "Epoch: 68/150  -  Loss: 590.41821 \t Rec: 581.46851 \t KL: 8.94968\n",
            "Epoch: 69/150  -  Loss: 578.06909 \t Rec: 569.08044 \t KL: 8.98871\n",
            "Epoch: 70/150  -  Loss: 580.53448 \t Rec: 571.61475 \t KL: 8.91973\n",
            "Epoch: 71/150  -  Loss: 577.9209 \t Rec: 568.93292 \t KL: 8.98801\n",
            "Epoch: 72/150  -  Loss: 583.63129 \t Rec: 574.58191 \t KL: 9.04943\n",
            "Epoch: 73/150  -  Loss: 585.04871 \t Rec: 575.98242 \t KL: 9.06636\n",
            "Epoch: 74/150  -  Loss: 576.37909 \t Rec: 567.38306 \t KL: 8.99601\n",
            "Epoch: 75/150  -  Loss: 576.43524 \t Rec: 567.38647 \t KL: 9.04868\n",
            "Epoch: 76/150  -  Loss: 583.60596 \t Rec: 574.53845 \t KL: 9.06751\n",
            "Epoch: 77/150  -  Loss: 585.96283 \t Rec: 576.84473 \t KL: 9.118\n",
            "Epoch: 78/150  -  Loss: 575.633 \t Rec: 566.49164 \t KL: 9.14132\n",
            "Epoch: 79/150  -  Loss: 588.05463 \t Rec: 578.89636 \t KL: 9.15828\n",
            "Epoch: 80/150  -  Loss: 585.00647 \t Rec: 575.83575 \t KL: 9.17069\n",
            "Epoch: 81/150  -  Loss: 575.76355 \t Rec: 566.67804 \t KL: 9.08546\n",
            "Epoch: 82/150  -  Loss: 579.38452 \t Rec: 570.1593 \t KL: 9.22517\n",
            "Epoch: 83/150  -  Loss: 583.06531 \t Rec: 573.89099 \t KL: 9.1743\n",
            "Epoch: 84/150  -  Loss: 571.67468 \t Rec: 562.52246 \t KL: 9.15228\n",
            "Epoch: 85/150  -  Loss: 579.49585 \t Rec: 570.32385 \t KL: 9.17209\n",
            "Epoch: 86/150  -  Loss: 581.49506 \t Rec: 572.28967 \t KL: 9.20542\n",
            "Epoch: 87/150  -  Loss: 577.08057 \t Rec: 567.87445 \t KL: 9.20611\n",
            "Epoch: 88/150  -  Loss: 574.16687 \t Rec: 564.96948 \t KL: 9.19738\n",
            "Epoch: 89/150  -  Loss: 582.93433 \t Rec: 573.63464 \t KL: 9.29978\n",
            "Epoch: 90/150  -  Loss: 585.60815 \t Rec: 576.30811 \t KL: 9.30002\n",
            "Epoch: 91/150  -  Loss: 580.74445 \t Rec: 571.44171 \t KL: 9.3027\n",
            "Epoch: 92/150  -  Loss: 580.28003 \t Rec: 571.00647 \t KL: 9.27355\n",
            "Epoch: 93/150  -  Loss: 577.86646 \t Rec: 568.62256 \t KL: 9.24386\n",
            "Epoch: 94/150  -  Loss: 582.53162 \t Rec: 573.19452 \t KL: 9.33712\n",
            "Epoch: 95/150  -  Loss: 579.73035 \t Rec: 570.40692 \t KL: 9.32338\n",
            "Epoch: 96/150  -  Loss: 574.60962 \t Rec: 565.31592 \t KL: 9.29369\n",
            "Epoch: 97/150  -  Loss: 582.21606 \t Rec: 572.90967 \t KL: 9.30641\n",
            "Epoch: 98/150  -  Loss: 576.09668 \t Rec: 566.79089 \t KL: 9.3058\n",
            "Epoch: 99/150  -  Loss: 585.47681 \t Rec: 576.10956 \t KL: 9.36729\n",
            "Epoch: 100/150  -  Loss: 576.43304 \t Rec: 567.18518 \t KL: 9.24793\n",
            "Epoch: 101/150  -  Loss: 573.51184 \t Rec: 564.17175 \t KL: 9.34012\n",
            "Epoch: 102/150  -  Loss: 579.64758 \t Rec: 570.29742 \t KL: 9.35014\n",
            "Epoch: 103/150  -  Loss: 575.73547 \t Rec: 566.38403 \t KL: 9.35141\n",
            "Epoch: 104/150  -  Loss: 574.75275 \t Rec: 565.39142 \t KL: 9.36126\n",
            "Epoch: 105/150  -  Loss: 575.40155 \t Rec: 566.04517 \t KL: 9.35642\n",
            "Epoch: 106/150  -  Loss: 576.44714 \t Rec: 567.10101 \t KL: 9.34612\n",
            "Epoch: 107/150  -  Loss: 573.50085 \t Rec: 564.11298 \t KL: 9.38786\n",
            "Epoch: 108/150  -  Loss: 583.97192 \t Rec: 574.59338 \t KL: 9.37856\n",
            "Epoch: 109/150  -  Loss: 573.97064 \t Rec: 564.62982 \t KL: 9.34082\n",
            "Epoch: 110/150  -  Loss: 576.10956 \t Rec: 566.6759 \t KL: 9.43372\n",
            "Epoch: 111/150  -  Loss: 580.20343 \t Rec: 570.74005 \t KL: 9.46342\n",
            "Epoch: 112/150  -  Loss: 581.39673 \t Rec: 571.97424 \t KL: 9.42253\n",
            "Epoch: 113/150  -  Loss: 574.93127 \t Rec: 565.53711 \t KL: 9.39416\n",
            "Epoch: 114/150  -  Loss: 577.03156 \t Rec: 567.60999 \t KL: 9.42163\n",
            "Epoch: 115/150  -  Loss: 583.95667 \t Rec: 574.45319 \t KL: 9.50351\n",
            "Epoch: 116/150  -  Loss: 582.99036 \t Rec: 573.56909 \t KL: 9.42127\n",
            "Epoch: 117/150  -  Loss: 583.18701 \t Rec: 573.74048 \t KL: 9.4466\n",
            "Epoch: 118/150  -  Loss: 576.37805 \t Rec: 566.98785 \t KL: 9.39022\n",
            "Epoch: 119/150  -  Loss: 577.52185 \t Rec: 568.04346 \t KL: 9.47841\n",
            "Epoch: 120/150  -  Loss: 571.25177 \t Rec: 561.89075 \t KL: 9.36099\n",
            "Epoch: 121/150  -  Loss: 585.54175 \t Rec: 576.06787 \t KL: 9.47383\n",
            "Epoch: 122/150  -  Loss: 577.10803 \t Rec: 567.59442 \t KL: 9.51355\n",
            "Epoch: 123/150  -  Loss: 581.44855 \t Rec: 571.96985 \t KL: 9.47867\n",
            "Epoch: 124/150  -  Loss: 574.55334 \t Rec: 565.10724 \t KL: 9.44614\n",
            "Epoch: 125/150  -  Loss: 577.34613 \t Rec: 567.89789 \t KL: 9.44827\n",
            "Epoch: 126/150  -  Loss: 577.11316 \t Rec: 567.61133 \t KL: 9.5018\n",
            "Epoch: 127/150  -  Loss: 574.18317 \t Rec: 564.7334 \t KL: 9.44973\n",
            "Epoch: 128/150  -  Loss: 591.43036 \t Rec: 581.82446 \t KL: 9.60588\n",
            "Epoch: 129/150  -  Loss: 582.91589 \t Rec: 573.49243 \t KL: 9.42343\n",
            "Epoch: 130/150  -  Loss: 579.60535 \t Rec: 570.16211 \t KL: 9.44319\n",
            "Epoch: 131/150  -  Loss: 580.62231 \t Rec: 571.146 \t KL: 9.47637\n",
            "Epoch: 132/150  -  Loss: 577.56531 \t Rec: 568.09766 \t KL: 9.46766\n",
            "Epoch: 133/150  -  Loss: 581.91437 \t Rec: 572.40466 \t KL: 9.50976\n",
            "Epoch: 134/150  -  Loss: 575.71509 \t Rec: 566.12183 \t KL: 9.59315\n",
            "Epoch: 135/150  -  Loss: 573.93652 \t Rec: 564.48553 \t KL: 9.45094\n",
            "Epoch: 136/150  -  Loss: 575.66864 \t Rec: 566.27539 \t KL: 9.39326\n",
            "Epoch: 137/150  -  Loss: 576.77478 \t Rec: 567.24451 \t KL: 9.53028\n",
            "Epoch: 138/150  -  Loss: 584.24188 \t Rec: 574.71271 \t KL: 9.52913\n",
            "Epoch: 139/150  -  Loss: 578.24115 \t Rec: 568.66296 \t KL: 9.57823\n",
            "Epoch: 140/150  -  Loss: 579.26373 \t Rec: 569.8468 \t KL: 9.417\n",
            "Epoch: 141/150  -  Loss: 583.10834 \t Rec: 573.57495 \t KL: 9.53341\n",
            "Epoch: 142/150  -  Loss: 589.71106 \t Rec: 580.22052 \t KL: 9.49049\n",
            "Epoch: 143/150  -  Loss: 580.0802 \t Rec: 570.53149 \t KL: 9.54881\n",
            "Epoch: 144/150  -  Loss: 571.57166 \t Rec: 562.09497 \t KL: 9.47676\n",
            "Epoch: 145/150  -  Loss: 578.0188 \t Rec: 568.51672 \t KL: 9.50211\n",
            "Epoch: 146/150  -  Loss: 577.26465 \t Rec: 567.73431 \t KL: 9.53037\n",
            "Epoch: 147/150  -  Loss: 576.4339 \t Rec: 566.89777 \t KL: 9.53615\n",
            "Epoch: 148/150  -  Loss: 573.29053 \t Rec: 563.76947 \t KL: 9.52104\n",
            "Epoch: 149/150  -  Loss: 576.54486 \t Rec: 566.9668 \t KL: 9.57809\n",
            "Epoch: 150/150  -  Loss: 579.0882 \t Rec: 569.56366 \t KL: 9.52451\n",
            "Checkpoint saved at checkpoints/etm_epoch_150.pth.tar\n"
          ]
        },
        {
          "output_type": "display_data",
          "data": {
            "text/plain": [
              "<Figure size 432x288 with 1 Axes>"
            ],
            "image/png": "[encoded data removed]"
          },
          "metadata": {
            "needs_background": "light"
          }
        },
        {
          "output_type": "display_data",
          "data": {
            "text/plain": [
              "<Figure size 432x288 with 1 Axes>"
            ],
            "image/png": "[encoded data removed]"
          },
          "metadata": {
            "needs_background": "light"
          }
        },
        {
          "output_type": "stream",
          "name": "stdout",
          "text": [
            "['max', 'uk', 'ac', 'de', 'au', 'tu', 'sgi', 'rz', 'wa', 'keith']\n",
            "['mail', 'information', 'list', 'group', 'email', 'internet', 'info', 'send', 'ftp', 'faq']\n",
            "['key', 'public', 'chip', 'clipper', 'encryption', 'government', 'law', 'keys', 'phone', 'secure']\n",
            "['posting', 'host', 'nntp', 'university', 'cc', 'news', 'reply', 'apr', 'article', 'message']\n",
            "['years', 'read', 'back', 'times', 'heard', 'left', 'israel', 'ago', 'history', 'told']\n",
            "['cs', 'university', 'writes', 'article', 'andrew', 'uiuc', 'cmu', 'cwru', 'engineering', 'ohio']\n",
            "['state', 'writes', 'article', 'distribution', 'world', 'computer', 'university', 'usa', 'netcom', 'david']\n",
            "['space', 'nasa', 'gov', 'access', 'health', 'national', 'shuttle', 'billion', 'research', 'medical']\n",
            "['time', 'problem', 'work', 'find', 'long', 'system', 'line', 'good', 'day', 'number']\n",
            "['car', 'power', 'high', 'speed', 'front', 'bike', 'engine', 'water', 'good', 'cars']\n",
            "['god', 'jesus', 'people', 'life', 'christian', 'christians', 'christianity', 'religion', 'church', 'christ']\n",
            "['john', 'writes', 'article', 'bill', 'washington', 'man', 'art', 'ed', 'book', 'good']\n",
            "['drive', 'card', 'mac', 'ibm', 'scsi', 'pc', 'disk', 'price', 'apple', 'bus']\n",
            "['article', 'writes', 'org', 'michael', 'hp', 'research', 'att', 'opinions', 'colorado', 'disclaimer']\n",
            "['windows', 'file', 'dos', 'program', 'files', 'window', 'data', 'image', 'software', 'system']\n",
            "['game', 'team', 'games', 'players', 'league', 'year', 'play', 'win', 'player', 'division']\n",
            "['ca', 'sun', 'writes', 'wrote', 'version', 'posting', 'canada', 'mike', 'newsreader', 'post']\n",
            "['question', 'point', 'true', 'fact', 'wrong', 'claim', 'case', 'part', 'evidence', 'simply']\n",
            "['gun', 'government', 'people', 'israeli', 'armenians', 'armenian', 'world', 'villages', 'children', 'states']\n",
            "['people', 'make', 'good', 'things', 'lot', 'made', 'problems', 'bad', 'thing', 'president']\n",
            "topic-coherrence: 0.18821489049264942\n",
            "topic-diversity: 0.9\n"
          ]
        }
      ],
      "source": [
        "train_args = TrainArguments(epochs=150, batch_size=1000, log_interval=None)\n",
        "optimizer_args = OptimizerArguments(optimizer_name=\"adam\", lr=0.002, wdecay=0.0000012)\n",
        "\n",
        "from src.embedding import read_prefitted_embedding\n",
        "_, embedding_data = read_prefitted_embedding(model_name, vocab, save_path)\n",
        "\n",
        "num_topics = 20\n",
        "t_hidden_size = 800\n",
        "rho_size = len(embedding_data[0])\n",
        "emb_size = len(embedding_data[0])\n",
        "theta_act = \"ReLU\"\n",
        "\n",
        "\n",
        "etm_model = ETM(\n",
        "      num_topics, \n",
        "      vocab_size, \n",
        "      t_hidden_size, rho_size, emb_size, theta_act, \n",
        "      embedding_data, \n",
        "      enc_drop=0.5)\n",
        "\n",
        "print(etm_model)\n",
        "\n",
        "#--------------------------training----------------------------------------------------\n",
        "loss_name = \"cross-entropy\"\n",
        "\n",
        "train_class = TrainETM().train(\n",
        "    etm_model,\n",
        "    loss_name,\n",
        "    vocab_size, \n",
        "    train_args, optimizer_args, train_set,\n",
        "    normalize_data = True,\n",
        "    figures_path = figures_path,\n",
        "    visualization = True)\n",
        "    \n",
        "\n",
        "#-------------------show topics\n",
        "topics = etm_model.show_topics(id2word, 10)\n",
        "topics = [[e[0] for e in tp] for tp in topics] #get only top words\n",
        "for tp in topics:\n",
        "  print(tp)\n",
        "\n",
        "tc = topicCoherence2(topics,len(topics),docs_tr,len(docs_tr))\n",
        "td = topicDiversity(topics)\n",
        "print(f'topic-coherrence: {tc}')\n",
        "print(f'topic-diversity: {td}')"
      ]
    }
  ],
  "metadata": {
    "accelerator": "GPU",
    "colab": {
      "collapsed_sections": [],
      "name": "notebook_replication.ipynb",
      "provenance": [],
      "include_colab_link": true
    },
    "kernelspec": {
      "display_name": "Python 3",
      "language": "python",
      "name": "python3"
    },
    "language_info": {
      "codemirror_mode": {
        "name": "ipython",
        "version": 3
      },
      "file_extension": ".py",
      "mimetype": "text/x-python",
      "name": "python",
      "nbconvert_exporter": "python",
      "pygments_lexer": "ipython3",
      "version": "3.7.3"
    }
  },
  "nbformat": 4,
  "nbformat_minor": 0
}