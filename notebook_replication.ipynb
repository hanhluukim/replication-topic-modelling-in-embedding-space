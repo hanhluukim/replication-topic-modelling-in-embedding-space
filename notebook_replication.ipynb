{
  "cells": [
    {
      "cell_type": "markdown",
      "metadata": {
        "id": "view-in-github",
        "colab_type": "text"
      },
      "source": [
        "<a href=\"https://colab.research.google.com/github/hanhluukim/replication-topic-modelling-in-embedding-space/blob/main/notebook_replication.ipynb\" target=\"_parent\"><img src=\"https://colab.research.google.com/assets/colab-badge.svg\" alt=\"Open In Colab\"/></a>"
      ]
    },
    {
      "cell_type": "markdown",
      "metadata": {
        "id": "PJ7P852F7yzU"
      },
      "source": [
        "# **Das Projekt aus dem Github klonen und in den Projektsordner**"
      ]
    },
    {
      "cell_type": "code",
      "execution_count": 1,
      "metadata": {
        "id": "riOxinNHJcIB",
        "outputId": "6578aa78-20bd-4e43-e70c-bcc323241168",
        "colab": {
          "base_uri": "https://localhost:8080/"
        }
      },
      "outputs": [
        {
          "output_type": "stream",
          "name": "stdout",
          "text": [
            "Cloning into 'replication-topic-modelling-in-embedding-space'...\n",
            "remote: Enumerating objects: 871, done.\u001b[K\n",
            "remote: Counting objects: 100% (102/102), done.\u001b[K\n",
            "remote: Compressing objects: 100% (68/68), done.\u001b[K\n",
            "remote: Total 871 (delta 32), reused 102 (delta 32), pack-reused 769\u001b[K\n",
            "Receiving objects: 100% (871/871), 370.28 MiB | 11.90 MiB/s, done.\n",
            "Resolving deltas: 100% (423/423), done.\n",
            "Checking out files: 100% (90/90), done.\n"
          ]
        }
      ],
      "source": [
        "#wenn die Ordner noch nicht geklont ist, soll dieser Fehler zuerst durchgeführt werden.\n",
        "!git clone https://github.com/hanhluukim/replication-topic-modelling-in-embedding-space.git"
      ]
    },
    {
      "cell_type": "code",
      "execution_count": 2,
      "metadata": {
        "colab": {
          "base_uri": "https://localhost:8080/"
        },
        "id": "B_6em-5qJg5e",
        "outputId": "5a5dafcc-1bec-4106-b7a6-434fcf5f1feb"
      },
      "outputs": [
        {
          "output_type": "stream",
          "name": "stdout",
          "text": [
            "/content/replication-topic-modelling-in-embedding-space\n"
          ]
        }
      ],
      "source": [
        "cd /content/replication-topic-modelling-in-embedding-space"
      ]
    },
    {
      "cell_type": "markdown",
      "metadata": {
        "id": "6AAG98vV1JCg"
      },
      "source": [
        "#**Die benötige Paketen für das Projekt mittels requirements.txt installieren**\n",
        "\n"
      ]
    },
    {
      "cell_type": "code",
      "execution_count": 3,
      "metadata": {
        "colab": {
          "base_uri": "https://localhost:8080/"
        },
        "id": "YcBay625sD5D",
        "outputId": "8dbd2383-b52b-4124-e95b-181ee24f7dfb"
      },
      "outputs": [
        {
          "output_type": "stream",
          "name": "stdout",
          "text": [
            "Requirement already satisfied: gensim in /usr/local/lib/python3.7/dist-packages (from -r /content/replication-topic-modelling-in-embedding-space/requirements.txt (line 1)) (3.6.0)\n",
            "Requirement already satisfied: nltk in /usr/local/lib/python3.7/dist-packages (from -r /content/replication-topic-modelling-in-embedding-space/requirements.txt (line 2)) (3.2.5)\n",
            "Requirement already satisfied: numpy in /usr/local/lib/python3.7/dist-packages (from -r /content/replication-topic-modelling-in-embedding-space/requirements.txt (line 3)) (1.21.6)\n",
            "Requirement already satisfied: scikit-learn in /usr/local/lib/python3.7/dist-packages (from -r /content/replication-topic-modelling-in-embedding-space/requirements.txt (line 4)) (1.0.2)\n",
            "Requirement already satisfied: scipy in /usr/local/lib/python3.7/dist-packages (from -r /content/replication-topic-modelling-in-embedding-space/requirements.txt (line 5)) (1.4.1)\n",
            "Requirement already satisfied: torch in /usr/local/lib/python3.7/dist-packages (from -r /content/replication-topic-modelling-in-embedding-space/requirements.txt (line 6)) (1.11.0+cu113)\n",
            "Collecting transformers\n",
            "  Downloading transformers-4.18.0-py3-none-any.whl (4.0 MB)\n",
            "\u001b[K     |████████████████████████████████| 4.0 MB 4.3 MB/s \n",
            "\u001b[?25hCollecting umap-learn\n",
            "  Downloading umap-learn-0.5.3.tar.gz (88 kB)\n",
            "\u001b[K     |████████████████████████████████| 88 kB 6.9 MB/s \n",
            "\u001b[?25hCollecting plotly==5.7.0\n",
            "  Downloading plotly-5.7.0-py2.py3-none-any.whl (28.8 MB)\n",
            "\u001b[K     |████████████████████████████████| 28.8 MB 63.7 MB/s \n",
            "\u001b[?25hRequirement already satisfied: pathlib in /usr/local/lib/python3.7/dist-packages (from -r /content/replication-topic-modelling-in-embedding-space/requirements.txt (line 10)) (1.0.1)\n",
            "Collecting pyyaml==5.4.1\n",
            "  Downloading PyYAML-5.4.1-cp37-cp37m-manylinux1_x86_64.whl (636 kB)\n",
            "\u001b[K     |████████████████████████████████| 636 kB 42.6 MB/s \n",
            "\u001b[?25hCollecting kaleido\n",
            "  Downloading kaleido-0.2.1-py2.py3-none-manylinux1_x86_64.whl (79.9 MB)\n",
            "\u001b[K     |████████████████████████████████| 79.9 MB 115 kB/s \n",
            "\u001b[?25hRequirement already satisfied: six in /usr/local/lib/python3.7/dist-packages (from plotly==5.7.0->-r /content/replication-topic-modelling-in-embedding-space/requirements.txt (line 9)) (1.15.0)\n",
            "Requirement already satisfied: tenacity>=6.2.0 in /usr/local/lib/python3.7/dist-packages (from plotly==5.7.0->-r /content/replication-topic-modelling-in-embedding-space/requirements.txt (line 9)) (8.0.1)\n",
            "Requirement already satisfied: smart-open>=1.2.1 in /usr/local/lib/python3.7/dist-packages (from gensim->-r /content/replication-topic-modelling-in-embedding-space/requirements.txt (line 1)) (6.0.0)\n",
            "Requirement already satisfied: joblib>=0.11 in /usr/local/lib/python3.7/dist-packages (from scikit-learn->-r /content/replication-topic-modelling-in-embedding-space/requirements.txt (line 4)) (1.1.0)\n",
            "Requirement already satisfied: threadpoolctl>=2.0.0 in /usr/local/lib/python3.7/dist-packages (from scikit-learn->-r /content/replication-topic-modelling-in-embedding-space/requirements.txt (line 4)) (3.1.0)\n",
            "Requirement already satisfied: typing-extensions in /usr/local/lib/python3.7/dist-packages (from torch->-r /content/replication-topic-modelling-in-embedding-space/requirements.txt (line 6)) (4.2.0)\n",
            "Requirement already satisfied: filelock in /usr/local/lib/python3.7/dist-packages (from transformers->-r /content/replication-topic-modelling-in-embedding-space/requirements.txt (line 7)) (3.6.0)\n",
            "Collecting sacremoses\n",
            "  Downloading sacremoses-0.0.53.tar.gz (880 kB)\n",
            "\u001b[K     |████████████████████████████████| 880 kB 42.2 MB/s \n",
            "\u001b[?25hRequirement already satisfied: tqdm>=4.27 in /usr/local/lib/python3.7/dist-packages (from transformers->-r /content/replication-topic-modelling-in-embedding-space/requirements.txt (line 7)) (4.64.0)\n",
            "Requirement already satisfied: importlib-metadata in /usr/local/lib/python3.7/dist-packages (from transformers->-r /content/replication-topic-modelling-in-embedding-space/requirements.txt (line 7)) (4.11.3)\n",
            "Collecting tokenizers!=0.11.3,<0.13,>=0.11.1\n",
            "  Downloading tokenizers-0.12.1-cp37-cp37m-manylinux_2_12_x86_64.manylinux2010_x86_64.whl (6.6 MB)\n",
            "\u001b[K     |████████████████████████████████| 6.6 MB 39.3 MB/s \n",
            "\u001b[?25hCollecting huggingface-hub<1.0,>=0.1.0\n",
            "  Downloading huggingface_hub-0.5.1-py3-none-any.whl (77 kB)\n",
            "\u001b[K     |████████████████████████████████| 77 kB 6.3 MB/s \n",
            "\u001b[?25hRequirement already satisfied: requests in /usr/local/lib/python3.7/dist-packages (from transformers->-r /content/replication-topic-modelling-in-embedding-space/requirements.txt (line 7)) (2.23.0)\n",
            "Requirement already satisfied: packaging>=20.0 in /usr/local/lib/python3.7/dist-packages (from transformers->-r /content/replication-topic-modelling-in-embedding-space/requirements.txt (line 7)) (21.3)\n",
            "Requirement already satisfied: regex!=2019.12.17 in /usr/local/lib/python3.7/dist-packages (from transformers->-r /content/replication-topic-modelling-in-embedding-space/requirements.txt (line 7)) (2019.12.20)\n",
            "Requirement already satisfied: pyparsing!=3.0.5,>=2.0.2 in /usr/local/lib/python3.7/dist-packages (from packaging>=20.0->transformers->-r /content/replication-topic-modelling-in-embedding-space/requirements.txt (line 7)) (3.0.8)\n",
            "Requirement already satisfied: numba>=0.49 in /usr/local/lib/python3.7/dist-packages (from umap-learn->-r /content/replication-topic-modelling-in-embedding-space/requirements.txt (line 8)) (0.51.2)\n",
            "Collecting pynndescent>=0.5\n",
            "  Downloading pynndescent-0.5.6.tar.gz (1.1 MB)\n",
            "\u001b[K     |████████████████████████████████| 1.1 MB 35.4 MB/s \n",
            "\u001b[?25hRequirement already satisfied: llvmlite<0.35,>=0.34.0.dev0 in /usr/local/lib/python3.7/dist-packages (from numba>=0.49->umap-learn->-r /content/replication-topic-modelling-in-embedding-space/requirements.txt (line 8)) (0.34.0)\n",
            "Requirement already satisfied: setuptools in /usr/local/lib/python3.7/dist-packages (from numba>=0.49->umap-learn->-r /content/replication-topic-modelling-in-embedding-space/requirements.txt (line 8)) (57.4.0)\n",
            "Requirement already satisfied: zipp>=0.5 in /usr/local/lib/python3.7/dist-packages (from importlib-metadata->transformers->-r /content/replication-topic-modelling-in-embedding-space/requirements.txt (line 7)) (3.8.0)\n",
            "Requirement already satisfied: certifi>=2017.4.17 in /usr/local/lib/python3.7/dist-packages (from requests->transformers->-r /content/replication-topic-modelling-in-embedding-space/requirements.txt (line 7)) (2021.10.8)\n",
            "Requirement already satisfied: urllib3!=1.25.0,!=1.25.1,<1.26,>=1.21.1 in /usr/local/lib/python3.7/dist-packages (from requests->transformers->-r /content/replication-topic-modelling-in-embedding-space/requirements.txt (line 7)) (1.24.3)\n",
            "Requirement already satisfied: chardet<4,>=3.0.2 in /usr/local/lib/python3.7/dist-packages (from requests->transformers->-r /content/replication-topic-modelling-in-embedding-space/requirements.txt (line 7)) (3.0.4)\n",
            "Requirement already satisfied: idna<3,>=2.5 in /usr/local/lib/python3.7/dist-packages (from requests->transformers->-r /content/replication-topic-modelling-in-embedding-space/requirements.txt (line 7)) (2.10)\n",
            "Requirement already satisfied: click in /usr/local/lib/python3.7/dist-packages (from sacremoses->transformers->-r /content/replication-topic-modelling-in-embedding-space/requirements.txt (line 7)) (7.1.2)\n",
            "Building wheels for collected packages: umap-learn, pynndescent, sacremoses\n",
            "  Building wheel for umap-learn (setup.py) ... \u001b[?25l\u001b[?25hdone\n",
            "  Created wheel for umap-learn: filename=umap_learn-0.5.3-py3-none-any.whl size=82829 sha256=eb0f912e5fc52cbd79fbfe1859f5f7edfc661aec9c12182c63ec03c80b56e691\n",
            "  Stored in directory: /root/.cache/pip/wheels/b3/52/a5/1fd9e3e76a7ab34f134c07469cd6f16e27ef3a37aeff1fe821\n",
            "  Building wheel for pynndescent (setup.py) ... \u001b[?25l\u001b[?25hdone\n",
            "  Created wheel for pynndescent: filename=pynndescent-0.5.6-py3-none-any.whl size=53943 sha256=7ae462c6d35e3034dbfc059defeea3ccfe6d647ff0abca34088fc6bdcafe756b\n",
            "  Stored in directory: /root/.cache/pip/wheels/03/f1/56/f80d72741e400345b5a5b50ec3d929aca581bf45e0225d5c50\n",
            "  Building wheel for sacremoses (setup.py) ... \u001b[?25l\u001b[?25hdone\n",
            "  Created wheel for sacremoses: filename=sacremoses-0.0.53-py3-none-any.whl size=895260 sha256=fc06e8b46e0ad5ceb14dcb121eb421c9de4ca44b4de7250e630524ffeadd8977\n",
            "  Stored in directory: /root/.cache/pip/wheels/87/39/dd/a83eeef36d0bf98e7a4d1933a4ad2d660295a40613079bafc9\n",
            "Successfully built umap-learn pynndescent sacremoses\n",
            "Installing collected packages: pyyaml, tokenizers, sacremoses, pynndescent, huggingface-hub, umap-learn, transformers, plotly, kaleido\n",
            "  Attempting uninstall: pyyaml\n",
            "    Found existing installation: PyYAML 3.13\n",
            "    Uninstalling PyYAML-3.13:\n",
            "      Successfully uninstalled PyYAML-3.13\n",
            "  Attempting uninstall: plotly\n",
            "    Found existing installation: plotly 5.5.0\n",
            "    Uninstalling plotly-5.5.0:\n",
            "      Successfully uninstalled plotly-5.5.0\n",
            "Successfully installed huggingface-hub-0.5.1 kaleido-0.2.1 plotly-5.7.0 pynndescent-0.5.6 pyyaml-5.4.1 sacremoses-0.0.53 tokenizers-0.12.1 transformers-4.18.0 umap-learn-0.5.3\n"
          ]
        }
      ],
      "source": [
        "# Falls die Packages noch nicht installiert wurden, \n",
        "!pip install -r \"/content/replication-topic-modelling-in-embedding-space/requirements.txt\""
      ]
    },
    {
      "cell_type": "markdown",
      "metadata": {
        "id": "k7xiPgja8eZe"
      },
      "source": [
        "# **Gebrauchte Paketen importieren**"
      ]
    },
    {
      "cell_type": "code",
      "execution_count": 4,
      "metadata": {
        "id": "uV7KZhGq1P7g",
        "outputId": "54e8811d-9e4b-4e30-8685-61f967ac1ed2",
        "colab": {
          "base_uri": "https://localhost:8080/"
        }
      },
      "outputs": [
        {
          "output_type": "stream",
          "name": "stderr",
          "text": [
            "/usr/local/lib/python3.7/dist-packages/distributed/config.py:20: YAMLLoadWarning: calling yaml.load() without Loader=... is deprecated, as the default Loader is unsafe. Please read https://msg.pyyaml.org/load for full details.\n",
            "  defaults = yaml.load(f)\n"
          ]
        }
      ],
      "source": [
        "import pandas as pd\n",
        "from pathlib import Path\n",
        "import matplotlib.pyplot as plt\n",
        "%matplotlib inline\n",
        "import umap.umap_ as umap\n",
        "import time\n",
        "import plotly.express as px\n",
        "from sklearn import cluster\n",
        "from sklearn import metrics"
      ]
    },
    {
      "cell_type": "markdown",
      "metadata": {
        "id": "QzWqQhPQdJWV"
      },
      "source": [
        "# **Vorverarbeitung und BOW-Repräsentationen für Textdaten durchführen**\n",
        "1. Vocabular erstellen\n",
        "2. BOW-Repräsentationen für allen Teildatensätzen"
      ]
    },
    {
      "cell_type": "code",
      "execution_count": 5,
      "metadata": {
        "id": "1OCULr82pfgk"
      },
      "outputs": [],
      "source": [
        "from src.prepare_dataset import TextDataLoader"
      ]
    },
    {
      "cell_type": "code",
      "execution_count": 6,
      "metadata": {
        "colab": {
          "base_uri": "https://localhost:8080/"
        },
        "id": "cy0PpjxEpbrR",
        "outputId": "48ff55a8-6fab-447d-d066-f203bd5e917a"
      },
      "outputs": [
        {
          "output_type": "stream",
          "name": "stdout",
          "text": [
            "loading texts: ...\n",
            "finished load!\n",
            "check some sample texts of the dataset\n",
            "['From', ':', 'lerxst', '@', 'wam', '.', 'umd', '.', 'edu', '(', \"where's\", 'my', 'thing', ')', 'Subject', ':', 'WHAT', 'car', 'is', 'this', '!', '?', 'Nntp', 'Posting', 'Host', ':', 'rac3', '.', 'wam', '.', 'umd', '.', 'edu', 'Organization', ':', 'University', 'of', 'Maryland', ',', 'College', 'Park', 'Lines', ':', '15', 'I', 'was', 'wondering', 'if', 'anyone', 'out', 'there', 'could', 'enlighten', 'me', 'on', 'this', 'car', 'I', 'saw', 'the', 'other', 'day', '.', 'It', 'was', 'a', '2', 'door', 'sports', 'car', ',', 'looked', 'to', 'be', 'from', 'the', 'late', '60s', '/', 'early', '70s', '.', 'It', 'was', 'called', 'a', 'Bricklin', '.', 'The', 'doors', 'were', 'really', 'small', '.', 'In', 'addition', ',', 'the', 'front', 'bumper', 'was', 'separate', 'from', 'the', 'rest', 'of', 'the', 'body', '.', 'This', 'is', 'all', 'I', 'know', '.', 'If', 'anyone', 'can', 'tellme', 'a', 'model', 'name', ',', 'engine', 'specs', ',', 'years', 'of', 'production', ',', 'where', 'this', 'car', 'is', 'made', ',', 'history', ',', 'or', 'whatever', 'info', 'you', 'have', 'on', 'this', 'funky', 'looking', 'car', ',', 'please', 'e', 'mail', '.', 'Thanks', ',', 'IL', 'brought', 'to', 'you', 'by', 'your', 'neighborhood', 'Lerxst']\n",
            "====================================================================================================\n",
            "['From', ':', 'guykuo', '@', 'carson', '.', 'u', '.', 'washington', '.', 'edu', '(', 'Guy', 'Kuo', ')', 'Subject', ':', 'SI', 'Clock', 'Poll', 'Final', 'Call', 'Summary', ':', 'Final', 'call', 'for', 'SI', 'clock', 'reports', 'Keywords', ':', 'SI', ',', 'acceleration', ',', 'clock', ',', 'upgrade', 'Article', 'I', '.', 'D', '.', ':', 'shelley', '.', '1qvfo9INNc3s', 'Organization', ':', 'University', 'of', 'Washington', 'Lines', ':', '11', 'NNTP', 'Posting', 'Host', ':', 'carson', '.', 'u', '.', 'washington', '.', 'edu', 'A', 'fair', 'number', 'of', 'brave', 'souls', 'who', 'upgraded', 'their', 'SI', 'clock', 'oscillator', 'have', 'shared', 'their', 'experiences', 'for', 'this', 'poll', '.', 'Please', 'send', 'a', 'brief', 'message', 'detailing', 'your', 'experiences', 'with', 'the', 'procedure', '.', 'Top', 'speed', 'attained', ',', 'CPU', 'rated', 'speed', ',', 'add', 'on', 'cards', 'and', 'adapters', ',', 'heat', 'sinks', ',', 'hour', 'of', 'usage', 'per', 'day', ',', 'floppy', 'disk', 'functionality', 'with', '800', 'and', '1', '.', '4', 'm', 'floppies', 'are', 'especially', 'requested', '.', 'I', 'will', 'be', 'summarizing', 'in', 'the', 'next', 'two', 'days', ',', 'so', 'please', 'add', 'to', 'the', 'network', 'knowledge', 'base', 'if', 'you', 'have', 'done', 'the', 'clock', 'upgrade', 'and', \"haven't\", 'answered', 'this', 'poll', '.', 'Thanks', '.', 'Guy', 'Kuo', '<', 'guykuo', '@', 'u', '.', 'washington', '.', 'edu', '>']\n",
            "====================================================================================================\n"
          ]
        }
      ],
      "source": [
        "# init TextDataLoader für die Datenquelle 20 News Groups\n",
        "# Daten abrufen vom Sklearn, tokenisieren und besondere Charaktern entfernen\n",
        "textsloader = TextDataLoader(source=\"20newsgroups\", train_size=None, test_size=None)\n",
        "textsloader.load_tokenize_texts(\"20newsgroups\")\n",
        "# Beispiel von Textdaten\n",
        "textsloader.show_example_raw_texts(n_docs=2)"
      ]
    },
    {
      "cell_type": "code",
      "execution_count": 7,
      "metadata": {
        "colab": {
          "base_uri": "https://localhost:8080/"
        },
        "id": "5odpQDJ7qPTt",
        "outputId": "ee74f5fe-9656-4045-8f2b-c580de6d79c7"
      },
      "outputs": [
        {
          "output_type": "stream",
          "name": "stdout",
          "text": [
            "start: preprocessing: ...\n",
            "finised: preprocessing!\n"
          ]
        }
      ],
      "source": [
        "# Vorverarbeitung von Daten mit folgenden Schritten:\n",
        "textsloader.preprocess_texts(length_one_remove=True, punctuation_lower = True, stopwords_filter = True)"
      ]
    },
    {
      "cell_type": "code",
      "execution_count": 8,
      "metadata": {
        "colab": {
          "base_uri": "https://localhost:8080/"
        },
        "id": "PRRCNPa9qXfq",
        "outputId": "f6514caf-7571-4c23-8d76-0c2e2c3e6480"
      },
      "outputs": [
        {
          "output_type": "stream",
          "name": "stdout",
          "text": [
            "test-document-frequency: \n",
            "[[10 12 11 ... 21 22 10]]\n",
            "vocab-size in df: 1266\n",
            "start creating vocabulary ...\n",
            "length of the vocabulary: 1266\n",
            "sample ten words of the vocabulary: ['pressure', 'set', 'davis', 'baseball', 'paul', 'couple', 'shot', 'return', 'light', 'views']\n",
            "length word2id list: 1266\n",
            "length id2word list: 1266\n",
            "finished: creating vocabulary\n"
          ]
        }
      ],
      "source": [
        "# Daten zerlegen für Train, Test und Validation. Erstellen Vocabular aus dem Trainset\n",
        "min_df=10\n",
        "textsloader.split_and_create_voca_from_trainset(max_df=0.7, min_df=min_df, stopwords_remove_from_voca=True)"
      ]
    },
    {
      "cell_type": "markdown",
      "source": [
        "# **LDA Model**"
      ],
      "metadata": {
        "id": "YJ_A7LCsrQNO"
      }
    },
    {
      "cell_type": "code",
      "execution_count": 9,
      "metadata": {
        "colab": {
          "base_uri": "https://localhost:8080/"
        },
        "id": "etzyjh_nqi19",
        "outputId": "1be92f5f-c02c-4ea6-cab8-61008358c42c"
      },
      "outputs": [
        {
          "output_type": "stream",
          "name": "stdout",
          "text": [
            "length train-documents-indices : 33578\n",
            "length of the vocabulary: 1266\n",
            "\n",
            "\n",
            "start: creating bow representation...\n",
            "finised creating bow input!\n",
            "\n",
            "start: creating bow representation...\n",
            "finised creating bow input!\n",
            "\n",
            "start: creating bow representation...\n",
            "finised creating bow input!\n",
            "\n",
            "start: creating bow representation...\n",
            "finised creating bow input!\n",
            "\n",
            "start: creating bow representation...\n",
            "finised creating bow input!\n",
            "\n",
            "compact representation for LDA\n",
            "----------------------------------------------------------------------------------------------------\n",
            "['version', 'steven', 'health', 'tough', 'hey', 'care', 'reached', 'fact', 'color', 'beginning']\n",
            "['purdue', 'stuff', 'steven', 'capability', 'color', 'fix', 'wanted', 'care', 'input', 'version']\n",
            "['version', 'drive', 'care', 'steven', 'color', 'zoo', 'radio', 'heaven', 'stupid', 'differences']\n",
            "['steven', 'health', 'version', 'event', 'funny', 'heaven', 'basic', 'avoid', 'purdue', 'color']\n",
            "['tough', 'wanted', 'steven', 'started', 'claimed', 'keywords', 'hp', 'basis', 'purdue', 'light']\n",
            "----------------------------------------------------------------------------------------------------\n",
            "-0.033156673041962924\n"
          ]
        }
      ],
      "source": [
        "from src.evaluierung import topicCoherence\n",
        "from src.lda import lda\n",
        "from gensim.parsing.preprocessing import preprocess_string, strip_punctuation, strip_numeric\n",
        "\n",
        "\n",
        "# Erstellen BOW-Repräsentation für LDA Model\n",
        "for_lda_model = True \n",
        "word2id, id2word, train_set, test_set, val_set = textsloader.create_bow_and_savebow_for_each_set(for_lda_model=for_lda_model)\n",
        "docs_tr, docs_t, docs_v = textsloader.get_docs_in_words_for_each_set()\n",
        "#lda model\n",
        "print(100*\"-\")\n",
        "\n",
        "ldamodel = lda(train_set,5,id2word)\n",
        "lda_topics = ldamodel.show_topics(num_words=10)\n",
        "topics = []\n",
        "filters = [lambda x: x.lower(), strip_punctuation, strip_numeric]\n",
        "for topic in lda_topics:\n",
        "    #print(topic)\n",
        "    topics.append(preprocess_string(topic[1], filters))\n",
        "for topic in topics:\n",
        "  print(topic)\n",
        "print(100*\"-\")\n",
        "tc = topicCoherence(topics,10,docs_tr,len(docs_tr))\n",
        "print(tc)"
      ]
    },
    {
      "cell_type": "markdown",
      "source": [
        "# **Data for ETM**"
      ],
      "metadata": {
        "id": "_e4-RQrsw1Ct"
      }
    },
    {
      "cell_type": "code",
      "source": [
        "# Erstellen BOW-Repräsentation für ETM Modell\n",
        "for_lda_model = False\n",
        "word2id, id2word, train_set, test_set, val_set = textsloader.create_bow_and_savebow_for_each_set(for_lda_model=for_lda_model)\n"
      ],
      "metadata": {
        "id": "SJPDsdmMqbmf",
        "outputId": "086b2f91-b1e6-404b-c6e2-db2b752f09ca",
        "colab": {
          "base_uri": "https://localhost:8080/"
        }
      },
      "execution_count": 10,
      "outputs": [
        {
          "output_type": "stream",
          "name": "stdout",
          "text": [
            "length train-documents-indices : 33578\n",
            "length of the vocabulary: 1266\n",
            "\n",
            "\n",
            "start: creating bow representation...\n",
            "finised creating bow input!\n",
            "\n",
            "start: creating bow representation...\n",
            "finised creating bow input!\n",
            "\n",
            "start: creating bow representation...\n",
            "finised creating bow input!\n",
            "\n",
            "start: creating bow representation...\n",
            "finised creating bow input!\n",
            "\n",
            "start: creating bow representation...\n",
            "finised creating bow input!\n",
            "\n",
            "id2word befor saving: dict_keys([0, 1, 2, 3, 4, 5, 6, 7, 8, 9, 10, 11, 12, 13, 14, 15, 16, 17, 18, 19, 20, 21, 22, 23, 24, 25, 26, 27, 28, 29, 30, 31, 32, 33, 34, 35, 36, 37, 38, 39, 40, 41, 42, 43, 44, 45, 46, 47, 48, 49, 50, 51, 52, 53, 54, 55, 56, 57, 58, 59, 60, 61, 62, 63, 64, 65, 66, 67, 68, 69, 70, 71, 72, 73, 74, 75, 76, 77, 78, 79, 80, 81, 82, 83, 84, 85, 86, 87, 88, 89, 90, 91, 92, 93, 94, 95, 96, 97, 98, 99, 100, 101, 102, 103, 104, 105, 106, 107, 108, 109, 110, 111, 112, 113, 114, 115, 116, 117, 118, 119, 120, 121, 122, 123, 124, 125, 126, 127, 128, 129, 130, 131, 132, 133, 134, 135, 136, 137, 138, 139, 140, 141, 142, 143, 144, 145, 146, 147, 148, 149, 150, 151, 152, 153, 154, 155, 156, 157, 158, 159, 160, 161, 162, 163, 164, 165, 166, 167, 168, 169, 170, 171, 172, 173, 174, 175, 176, 177, 178, 179, 180, 181, 182, 183, 184, 185, 186, 187, 188, 189, 190, 191, 192, 193, 194, 195, 196, 197, 198, 199, 200, 201, 202, 203, 204, 205, 206, 207, 208, 209, 210, 211, 212, 213, 214, 215, 216, 217, 218, 219, 220, 221, 222, 223, 224, 225, 226, 227, 228, 229, 230, 231, 232, 233, 234, 235, 236, 237, 238, 239, 240, 241, 242, 243, 244, 245, 246, 247, 248, 249, 250, 251, 252, 253, 254, 255, 256, 257, 258, 259, 260, 261, 262, 263, 264, 265, 266, 267, 268, 269, 270, 271, 272, 273, 274, 275, 276, 277, 278, 279, 280, 281, 282, 283, 284, 285, 286, 287, 288, 289, 290, 291, 292, 293, 294, 295, 296, 297, 298, 299, 300, 301, 302, 303, 304, 305, 306, 307, 308, 309, 310, 311, 312, 313, 314, 315, 316, 317, 318, 319, 320, 321, 322, 323, 324, 325, 326, 327, 328, 329, 330, 331, 332, 333, 334, 335, 336, 337, 338, 339, 340, 341, 342, 343, 344, 345, 346, 347, 348, 349, 350, 351, 352, 353, 354, 355, 356, 357, 358, 359, 360, 361, 362, 363, 364, 365, 366, 367, 368, 369, 370, 371, 372, 373, 374, 375, 376, 377, 378, 379, 380, 381, 382, 383, 384, 385, 386, 387, 388, 389, 390, 391, 392, 393, 394, 395, 396, 397, 398, 399, 400, 401, 402, 403, 404, 405, 406, 407, 408, 409, 410, 411, 412, 413, 414, 415, 416, 417, 418, 419, 420, 421, 422, 423, 424, 425, 426, 427, 428, 429, 430, 431, 432, 433, 434, 435, 436, 437, 438, 439, 440, 441, 442, 443, 444, 445, 446, 447, 448, 449, 450, 451, 452, 453, 454, 455, 456, 457, 458, 459, 460, 461, 462, 463, 464, 465, 466, 467, 468, 469, 470, 471, 472, 473, 474, 475, 476, 477, 478, 479, 480, 481, 482, 483, 484, 485, 486, 487, 488, 489, 490, 491, 492, 493, 494, 495, 496, 497, 498, 499, 500, 501, 502, 503, 504, 505, 506, 507, 508, 509, 510, 511, 512, 513, 514, 515, 516, 517, 518, 519, 520, 521, 522, 523, 524, 525, 526, 527, 528, 529, 530, 531, 532, 533, 534, 535, 536, 537, 538, 539, 540, 541, 542, 543, 544, 545, 546, 547, 548, 549, 550, 551, 552, 553, 554, 555, 556, 557, 558, 559, 560, 561, 562, 563, 564, 565, 566, 567, 568, 569, 570, 571, 572, 573, 574, 575, 576, 577, 578, 579, 580, 581, 582, 583, 584, 585, 586, 587, 588, 589, 590, 591, 592, 593, 594, 595, 596, 597, 598, 599, 600, 601, 602, 603, 604, 605, 606, 607, 608, 609, 610, 611, 612, 613, 614, 615, 616, 617, 618, 619, 620, 621, 622, 623, 624, 625, 626, 627, 628, 629, 630, 631, 632, 633, 634, 635, 636, 637, 638, 639, 640, 641, 642, 643, 644, 645, 646, 647, 648, 649, 650, 651, 652, 653, 654, 655, 656, 657, 658, 659, 660, 661, 662, 663, 664, 665, 666, 667, 668, 669, 670, 671, 672, 673, 674, 675, 676, 677, 678, 679, 680, 681, 682, 683, 684, 685, 686, 687, 688, 689, 690, 691, 692, 693, 694, 695, 696, 697, 698, 699, 700, 701, 702, 703, 704, 705, 706, 707, 708, 709, 710, 711, 712, 713, 714, 715, 716, 717, 718, 719, 720, 721, 722, 723, 724, 725, 726, 727, 728, 729, 730, 731, 732, 733, 734, 735, 736, 737, 738, 739, 740, 741, 742, 743, 744, 745, 746, 747, 748, 749, 750, 751, 752, 753, 754, 755, 756, 757, 758, 759, 760, 761, 762, 763, 764, 765, 766, 767, 768, 769, 770, 771, 772, 773, 774, 775, 776, 777, 778, 779, 780, 781, 782, 783, 784, 785, 786, 787, 788, 789, 790, 791, 792, 793, 794, 795, 796, 797, 798, 799, 800, 801, 802, 803, 804, 805, 806, 807, 808, 809, 810, 811, 812, 813, 814, 815, 816, 817, 818, 819, 820, 821, 822, 823, 824, 825, 826, 827, 828, 829, 830, 831, 832, 833, 834, 835, 836, 837, 838, 839, 840, 841, 842, 843, 844, 845, 846, 847, 848, 849, 850, 851, 852, 853, 854, 855, 856, 857, 858, 859, 860, 861, 862, 863, 864, 865, 866, 867, 868, 869, 870, 871, 872, 873, 874, 875, 876, 877, 878, 879, 880, 881, 882, 883, 884, 885, 886, 887, 888, 889, 890, 891, 892, 893, 894, 895, 896, 897, 898, 899, 900, 901, 902, 903, 904, 905, 906, 907, 908, 909, 910, 911, 912, 913, 914, 915, 916, 917, 918, 919, 920, 921, 922, 923, 924, 925, 926, 927, 928, 929, 930, 931, 932, 933, 934, 935, 936, 937, 938, 939, 940, 941, 942, 943, 944, 945, 946, 947, 948, 949, 950, 951, 952, 953, 954, 955, 956, 957, 958, 959, 960, 961, 962, 963, 964, 965, 966, 967, 968, 969, 970, 971, 972, 973, 974, 975, 976, 977, 978, 979, 980, 981, 982, 983, 984, 985, 986, 987, 988, 989, 990, 991, 992, 993, 994, 995, 996, 997, 998, 999, 1000, 1001, 1002, 1003, 1004, 1005, 1006, 1007, 1008, 1009, 1010, 1011, 1012, 1013, 1014, 1015, 1016, 1017, 1018, 1019, 1020, 1021, 1022, 1023, 1024, 1025, 1026, 1027, 1028, 1029, 1030, 1031, 1032, 1033, 1034, 1035, 1036, 1037, 1038, 1039, 1040, 1041, 1042, 1043, 1044, 1045, 1046, 1047, 1048, 1049, 1050, 1051, 1052, 1053, 1054, 1055, 1056, 1057, 1058, 1059, 1060, 1061, 1062, 1063, 1064, 1065, 1066, 1067, 1068, 1069, 1070, 1071, 1072, 1073, 1074, 1075, 1076, 1077, 1078, 1079, 1080, 1081, 1082, 1083, 1084, 1085, 1086, 1087, 1088, 1089, 1090, 1091, 1092, 1093, 1094, 1095, 1096, 1097, 1098, 1099, 1100, 1101, 1102, 1103, 1104, 1105, 1106, 1107, 1108, 1109, 1110, 1111, 1112, 1113, 1114, 1115, 1116, 1117, 1118, 1119, 1120, 1121, 1122, 1123, 1124, 1125, 1126, 1127, 1128, 1129, 1130, 1131, 1132, 1133, 1134, 1135, 1136, 1137, 1138, 1139, 1140, 1141, 1142, 1143, 1144, 1145, 1146, 1147, 1148, 1149, 1150, 1151, 1152, 1153, 1154, 1155, 1156, 1157, 1158, 1159, 1160, 1161, 1162, 1163, 1164, 1165, 1166, 1167, 1168, 1169, 1170, 1171, 1172, 1173, 1174, 1175, 1176, 1177, 1178, 1179, 1180, 1181, 1182, 1183, 1184, 1185, 1186, 1187, 1188, 1189, 1190, 1191, 1192, 1193, 1194, 1195, 1196, 1197, 1198, 1199, 1200, 1201, 1202, 1203, 1204, 1205, 1206, 1207, 1208, 1209, 1210, 1211, 1212, 1213, 1214, 1215, 1216, 1217, 1218, 1219, 1220, 1221, 1222, 1223, 1224, 1225, 1226, 1227, 1228, 1229, 1230, 1231, 1232, 1233, 1234, 1235, 1236, 1237, 1238, 1239, 1240, 1241, 1242, 1243, 1244, 1245, 1246, 1247, 1248, 1249, 1250, 1251, 1252, 1253, 1254, 1255, 1256, 1257, 1258, 1259, 1260, 1261, 1262, 1263, 1264, 1265])\n"
          ]
        }
      ]
    },
    {
      "cell_type": "markdown",
      "metadata": {
        "id": "r-DXUMguC8zM"
      },
      "source": [
        "# **Vocabular und IDs anzeigen als Beispiel**\n",
        "\n",
        "---\n",
        "\n",
        "\n",
        "\n"
      ]
    },
    {
      "cell_type": "code",
      "execution_count": 11,
      "metadata": {
        "colab": {
          "base_uri": "https://localhost:8080/",
          "height": 424
        },
        "id": "6RBJYhLHCfwy",
        "outputId": "937bf5a8-c6fa-424a-f5d1-2453aef491f5"
      },
      "outputs": [
        {
          "output_type": "execute_result",
          "data": {
            "text/plain": [
              "            word  id\n",
              "0       pressure   0\n",
              "1            set   1\n",
              "2          davis   2\n",
              "3       baseball   3\n",
              "4           paul   4\n",
              "..           ...  ..\n",
              "95           age  95\n",
              "96  microsystems  96\n",
              "97      research  97\n",
              "98       systems  98\n",
              "99            il  99\n",
              "\n",
              "[100 rows x 2 columns]"
            ],
            "text/html": [
              "\n",
              "  <div id=\"df-6a070006-33e3-4439-b339-46af2c0b69b5\">\n",
              "    <div class=\"colab-df-container\">\n",
              "      <div>\n",
              "<style scoped>\n",
              "    .dataframe tbody tr th:only-of-type {\n",
              "        vertical-align: middle;\n",
              "    }\n",
              "\n",
              "    .dataframe tbody tr th {\n",
              "        vertical-align: top;\n",
              "    }\n",
              "\n",
              "    .dataframe thead th {\n",
              "        text-align: right;\n",
              "    }\n",
              "</style>\n",
              "<table border=\"1\" class=\"dataframe\">\n",
              "  <thead>\n",
              "    <tr style=\"text-align: right;\">\n",
              "      <th></th>\n",
              "      <th>word</th>\n",
              "      <th>id</th>\n",
              "    </tr>\n",
              "  </thead>\n",
              "  <tbody>\n",
              "    <tr>\n",
              "      <th>0</th>\n",
              "      <td>pressure</td>\n",
              "      <td>0</td>\n",
              "    </tr>\n",
              "    <tr>\n",
              "      <th>1</th>\n",
              "      <td>set</td>\n",
              "      <td>1</td>\n",
              "    </tr>\n",
              "    <tr>\n",
              "      <th>2</th>\n",
              "      <td>davis</td>\n",
              "      <td>2</td>\n",
              "    </tr>\n",
              "    <tr>\n",
              "      <th>3</th>\n",
              "      <td>baseball</td>\n",
              "      <td>3</td>\n",
              "    </tr>\n",
              "    <tr>\n",
              "      <th>4</th>\n",
              "      <td>paul</td>\n",
              "      <td>4</td>\n",
              "    </tr>\n",
              "    <tr>\n",
              "      <th>...</th>\n",
              "      <td>...</td>\n",
              "      <td>...</td>\n",
              "    </tr>\n",
              "    <tr>\n",
              "      <th>95</th>\n",
              "      <td>age</td>\n",
              "      <td>95</td>\n",
              "    </tr>\n",
              "    <tr>\n",
              "      <th>96</th>\n",
              "      <td>microsystems</td>\n",
              "      <td>96</td>\n",
              "    </tr>\n",
              "    <tr>\n",
              "      <th>97</th>\n",
              "      <td>research</td>\n",
              "      <td>97</td>\n",
              "    </tr>\n",
              "    <tr>\n",
              "      <th>98</th>\n",
              "      <td>systems</td>\n",
              "      <td>98</td>\n",
              "    </tr>\n",
              "    <tr>\n",
              "      <th>99</th>\n",
              "      <td>il</td>\n",
              "      <td>99</td>\n",
              "    </tr>\n",
              "  </tbody>\n",
              "</table>\n",
              "<p>100 rows × 2 columns</p>\n",
              "</div>\n",
              "      <button class=\"colab-df-convert\" onclick=\"convertToInteractive('df-6a070006-33e3-4439-b339-46af2c0b69b5')\"\n",
              "              title=\"Convert this dataframe to an interactive table.\"\n",
              "              style=\"display:none;\">\n",
              "        \n",
              "  <svg xmlns=\"http://www.w3.org/2000/svg\" height=\"24px\"viewBox=\"0 0 24 24\"\n",
              "       width=\"24px\">\n",
              "    <path d=\"M0 0h24v24H0V0z\" fill=\"none\"/>\n",
              "    <path d=\"M18.56 5.44l.94 2.06.94-2.06 2.06-.94-2.06-.94-.94-2.06-.94 2.06-2.06.94zm-11 1L8.5 8.5l.94-2.06 2.06-.94-2.06-.94L8.5 2.5l-.94 2.06-2.06.94zm10 10l.94 2.06.94-2.06 2.06-.94-2.06-.94-.94-2.06-.94 2.06-2.06.94z\"/><path d=\"M17.41 7.96l-1.37-1.37c-.4-.4-.92-.59-1.43-.59-.52 0-1.04.2-1.43.59L10.3 9.45l-7.72 7.72c-.78.78-.78 2.05 0 2.83L4 21.41c.39.39.9.59 1.41.59.51 0 1.02-.2 1.41-.59l7.78-7.78 2.81-2.81c.8-.78.8-2.07 0-2.86zM5.41 20L4 18.59l7.72-7.72 1.47 1.35L5.41 20z\"/>\n",
              "  </svg>\n",
              "      </button>\n",
              "      \n",
              "  <style>\n",
              "    .colab-df-container {\n",
              "      display:flex;\n",
              "      flex-wrap:wrap;\n",
              "      gap: 12px;\n",
              "    }\n",
              "\n",
              "    .colab-df-convert {\n",
              "      background-color: #E8F0FE;\n",
              "      border: none;\n",
              "      border-radius: 50%;\n",
              "      cursor: pointer;\n",
              "      display: none;\n",
              "      fill: #1967D2;\n",
              "      height: 32px;\n",
              "      padding: 0 0 0 0;\n",
              "      width: 32px;\n",
              "    }\n",
              "\n",
              "    .colab-df-convert:hover {\n",
              "      background-color: #E2EBFA;\n",
              "      box-shadow: 0px 1px 2px rgba(60, 64, 67, 0.3), 0px 1px 3px 1px rgba(60, 64, 67, 0.15);\n",
              "      fill: #174EA6;\n",
              "    }\n",
              "\n",
              "    [theme=dark] .colab-df-convert {\n",
              "      background-color: #3B4455;\n",
              "      fill: #D2E3FC;\n",
              "    }\n",
              "\n",
              "    [theme=dark] .colab-df-convert:hover {\n",
              "      background-color: #434B5C;\n",
              "      box-shadow: 0px 1px 3px 1px rgba(0, 0, 0, 0.15);\n",
              "      filter: drop-shadow(0px 1px 2px rgba(0, 0, 0, 0.3));\n",
              "      fill: #FFFFFF;\n",
              "    }\n",
              "  </style>\n",
              "\n",
              "      <script>\n",
              "        const buttonEl =\n",
              "          document.querySelector('#df-6a070006-33e3-4439-b339-46af2c0b69b5 button.colab-df-convert');\n",
              "        buttonEl.style.display =\n",
              "          google.colab.kernel.accessAllowed ? 'block' : 'none';\n",
              "\n",
              "        async function convertToInteractive(key) {\n",
              "          const element = document.querySelector('#df-6a070006-33e3-4439-b339-46af2c0b69b5');\n",
              "          const dataTable =\n",
              "            await google.colab.kernel.invokeFunction('convertToInteractive',\n",
              "                                                     [key], {});\n",
              "          if (!dataTable) return;\n",
              "\n",
              "          const docLinkHtml = 'Like what you see? Visit the ' +\n",
              "            '<a target=\"_blank\" href=https://colab.research.google.com/notebooks/data_table.ipynb>data table notebook</a>'\n",
              "            + ' to learn more about interactive tables.';\n",
              "          element.innerHTML = '';\n",
              "          dataTable['output_type'] = 'display_data';\n",
              "          await google.colab.output.renderOutput(dataTable, element);\n",
              "          const docLink = document.createElement('div');\n",
              "          docLink.innerHTML = docLinkHtml;\n",
              "          element.appendChild(docLink);\n",
              "        }\n",
              "      </script>\n",
              "    </div>\n",
              "  </div>\n",
              "  "
            ]
          },
          "metadata": {},
          "execution_count": 11
        }
      ],
      "source": [
        "# show for samples: 100 word2id and id2 word\n",
        "word2id_df_100 = pd.DataFrame()\n",
        "word2id_df_100['word'] = list(word2id.keys())[:100]\n",
        "word2id_df_100['id'] = list(word2id.values())[:100]\n",
        "word2id_df_100"
      ]
    },
    {
      "cell_type": "markdown",
      "metadata": {
        "id": "tupeI6Pw85_L"
      },
      "source": [
        "# **Die Größe von Datensätzen kontrollieren**"
      ]
    },
    {
      "cell_type": "code",
      "execution_count": 12,
      "metadata": {
        "colab": {
          "base_uri": "https://localhost:8080/"
        },
        "id": "n1d-5ji3qwE8",
        "outputId": "31e4c7bc-b1e3-4f86-ed7d-75f1bf3c28dd"
      },
      "outputs": [
        {
          "output_type": "stream",
          "name": "stdout",
          "text": [
            "Size of the vocabulary after prprocessing ist: 1266\n",
            "Size of train set: 619\n",
            "Size of val set: 101\n",
            "Size of test set: 80\n"
          ]
        }
      ],
      "source": [
        "# Kontrollieren die Größen von verschiedenen Datensätzen\n",
        "print(f'Size of the vocabulary after prprocessing ist: {len(textsloader.vocabulary)}')\n",
        "print(f'Size of train set: {len(train_set[\"tokens\"])}')\n",
        "print(f'Size of val set: {len(val_set[\"tokens\"])}')\n",
        "print(f'Size of test set: {len(test_set[\"test\"][\"tokens\"])}')"
      ]
    },
    {
      "cell_type": "markdown",
      "metadata": {
        "id": "bxQL5jQtDb1c"
      },
      "source": [
        "# **Dokumenten wiederstellen für Word2Vec Embedding**\n",
        "\n",
        "---\n",
        "\n"
      ]
    },
    {
      "cell_type": "code",
      "execution_count": 13,
      "metadata": {
        "colab": {
          "base_uri": "https://localhost:8080/",
          "height": 424
        },
        "id": "PDXEEBHfq3Cy",
        "outputId": "b97fa459-8c71-4a2f-b808-112099140c2b"
      },
      "outputs": [
        {
          "output_type": "execute_result",
          "data": {
            "text/plain": [
              "                             text-after-preprocessing\n",
              "0   james warning read nntp posting host engineeri...\n",
              "1   au austin anti question nntp posting host cs o...\n",
              "2   bill texas university computing services distr...\n",
              "3   heaven biblical reply university chicago artic...\n",
              "4   cco caltech kevin nl week california institute...\n",
              "..                                                ...\n",
              "95  mi doug distribution world central sale includ...\n",
              "96  steve reply technology article dale dale write...\n",
              "97  stanford driver computer science department st...\n",
              "98  john summary keywords nntp posting host resear...\n",
              "99  cb att joseph request mail list article distri...\n",
              "\n",
              "[100 rows x 1 columns]"
            ],
            "text/html": [
              "\n",
              "  <div id=\"df-ebd3e92c-2098-488b-97f8-a69338d835a6\">\n",
              "    <div class=\"colab-df-container\">\n",
              "      <div>\n",
              "<style scoped>\n",
              "    .dataframe tbody tr th:only-of-type {\n",
              "        vertical-align: middle;\n",
              "    }\n",
              "\n",
              "    .dataframe tbody tr th {\n",
              "        vertical-align: top;\n",
              "    }\n",
              "\n",
              "    .dataframe thead th {\n",
              "        text-align: right;\n",
              "    }\n",
              "</style>\n",
              "<table border=\"1\" class=\"dataframe\">\n",
              "  <thead>\n",
              "    <tr style=\"text-align: right;\">\n",
              "      <th></th>\n",
              "      <th>text-after-preprocessing</th>\n",
              "    </tr>\n",
              "  </thead>\n",
              "  <tbody>\n",
              "    <tr>\n",
              "      <th>0</th>\n",
              "      <td>james warning read nntp posting host engineeri...</td>\n",
              "    </tr>\n",
              "    <tr>\n",
              "      <th>1</th>\n",
              "      <td>au austin anti question nntp posting host cs o...</td>\n",
              "    </tr>\n",
              "    <tr>\n",
              "      <th>2</th>\n",
              "      <td>bill texas university computing services distr...</td>\n",
              "    </tr>\n",
              "    <tr>\n",
              "      <th>3</th>\n",
              "      <td>heaven biblical reply university chicago artic...</td>\n",
              "    </tr>\n",
              "    <tr>\n",
              "      <th>4</th>\n",
              "      <td>cco caltech kevin nl week california institute...</td>\n",
              "    </tr>\n",
              "    <tr>\n",
              "      <th>...</th>\n",
              "      <td>...</td>\n",
              "    </tr>\n",
              "    <tr>\n",
              "      <th>95</th>\n",
              "      <td>mi doug distribution world central sale includ...</td>\n",
              "    </tr>\n",
              "    <tr>\n",
              "      <th>96</th>\n",
              "      <td>steve reply technology article dale dale write...</td>\n",
              "    </tr>\n",
              "    <tr>\n",
              "      <th>97</th>\n",
              "      <td>stanford driver computer science department st...</td>\n",
              "    </tr>\n",
              "    <tr>\n",
              "      <th>98</th>\n",
              "      <td>john summary keywords nntp posting host resear...</td>\n",
              "    </tr>\n",
              "    <tr>\n",
              "      <th>99</th>\n",
              "      <td>cb att joseph request mail list article distri...</td>\n",
              "    </tr>\n",
              "  </tbody>\n",
              "</table>\n",
              "<p>100 rows × 1 columns</p>\n",
              "</div>\n",
              "      <button class=\"colab-df-convert\" onclick=\"convertToInteractive('df-ebd3e92c-2098-488b-97f8-a69338d835a6')\"\n",
              "              title=\"Convert this dataframe to an interactive table.\"\n",
              "              style=\"display:none;\">\n",
              "        \n",
              "  <svg xmlns=\"http://www.w3.org/2000/svg\" height=\"24px\"viewBox=\"0 0 24 24\"\n",
              "       width=\"24px\">\n",
              "    <path d=\"M0 0h24v24H0V0z\" fill=\"none\"/>\n",
              "    <path d=\"M18.56 5.44l.94 2.06.94-2.06 2.06-.94-2.06-.94-.94-2.06-.94 2.06-2.06.94zm-11 1L8.5 8.5l.94-2.06 2.06-.94-2.06-.94L8.5 2.5l-.94 2.06-2.06.94zm10 10l.94 2.06.94-2.06 2.06-.94-2.06-.94-.94-2.06-.94 2.06-2.06.94z\"/><path d=\"M17.41 7.96l-1.37-1.37c-.4-.4-.92-.59-1.43-.59-.52 0-1.04.2-1.43.59L10.3 9.45l-7.72 7.72c-.78.78-.78 2.05 0 2.83L4 21.41c.39.39.9.59 1.41.59.51 0 1.02-.2 1.41-.59l7.78-7.78 2.81-2.81c.8-.78.8-2.07 0-2.86zM5.41 20L4 18.59l7.72-7.72 1.47 1.35L5.41 20z\"/>\n",
              "  </svg>\n",
              "      </button>\n",
              "      \n",
              "  <style>\n",
              "    .colab-df-container {\n",
              "      display:flex;\n",
              "      flex-wrap:wrap;\n",
              "      gap: 12px;\n",
              "    }\n",
              "\n",
              "    .colab-df-convert {\n",
              "      background-color: #E8F0FE;\n",
              "      border: none;\n",
              "      border-radius: 50%;\n",
              "      cursor: pointer;\n",
              "      display: none;\n",
              "      fill: #1967D2;\n",
              "      height: 32px;\n",
              "      padding: 0 0 0 0;\n",
              "      width: 32px;\n",
              "    }\n",
              "\n",
              "    .colab-df-convert:hover {\n",
              "      background-color: #E2EBFA;\n",
              "      box-shadow: 0px 1px 2px rgba(60, 64, 67, 0.3), 0px 1px 3px 1px rgba(60, 64, 67, 0.15);\n",
              "      fill: #174EA6;\n",
              "    }\n",
              "\n",
              "    [theme=dark] .colab-df-convert {\n",
              "      background-color: #3B4455;\n",
              "      fill: #D2E3FC;\n",
              "    }\n",
              "\n",
              "    [theme=dark] .colab-df-convert:hover {\n",
              "      background-color: #434B5C;\n",
              "      box-shadow: 0px 1px 3px 1px rgba(0, 0, 0, 0.15);\n",
              "      filter: drop-shadow(0px 1px 2px rgba(0, 0, 0, 0.3));\n",
              "      fill: #FFFFFF;\n",
              "    }\n",
              "  </style>\n",
              "\n",
              "      <script>\n",
              "        const buttonEl =\n",
              "          document.querySelector('#df-ebd3e92c-2098-488b-97f8-a69338d835a6 button.colab-df-convert');\n",
              "        buttonEl.style.display =\n",
              "          google.colab.kernel.accessAllowed ? 'block' : 'none';\n",
              "\n",
              "        async function convertToInteractive(key) {\n",
              "          const element = document.querySelector('#df-ebd3e92c-2098-488b-97f8-a69338d835a6');\n",
              "          const dataTable =\n",
              "            await google.colab.kernel.invokeFunction('convertToInteractive',\n",
              "                                                     [key], {});\n",
              "          if (!dataTable) return;\n",
              "\n",
              "          const docLinkHtml = 'Like what you see? Visit the ' +\n",
              "            '<a target=\"_blank\" href=https://colab.research.google.com/notebooks/data_table.ipynb>data table notebook</a>'\n",
              "            + ' to learn more about interactive tables.';\n",
              "          element.innerHTML = '';\n",
              "          dataTable['output_type'] = 'display_data';\n",
              "          await google.colab.output.renderOutput(dataTable, element);\n",
              "          const docLink = document.createElement('div');\n",
              "          docLink.innerHTML = docLinkHtml;\n",
              "          element.appendChild(docLink);\n",
              "        }\n",
              "      </script>\n",
              "    </div>\n",
              "  </div>\n",
              "  "
            ]
          },
          "metadata": {},
          "execution_count": 13
        }
      ],
      "source": [
        "# re-erstellen von Dokumenten nach der Vorverarbeitungen. Die Dokumenten sind in Wörtern und werden für Word-Embedding Training benutzt\n",
        "docs_tr, docs_t, docs_v = textsloader.get_docs_in_words_for_each_set()\n",
        "train_docs_df = pd.DataFrame()\n",
        "train_docs_df['text-after-preprocessing'] = [' '.join(doc) for doc in docs_tr[:100]]\n",
        "train_docs_df"
      ]
    },
    {
      "cell_type": "markdown",
      "metadata": {
        "id": "Ds_KuUTQrK5P"
      },
      "source": [
        "# **Word-Embedding trainieren mit dem Traindatensatz**"
      ]
    },
    {
      "cell_type": "code",
      "execution_count": 14,
      "metadata": {
        "colab": {
          "base_uri": "https://localhost:8080/",
          "height": 1000
        },
        "id": "KBexKIVf8Qs5",
        "outputId": "2f792af2-ad2f-404a-df3c-c57fe3cf2db3"
      },
      "outputs": [
        {
          "output_type": "stream",
          "name": "stdout",
          "text": [
            "word-embedding train begins\n",
            "word-embedding train finished\n",
            "length of vocabulary from word-embedding model 1266\n",
            "length of the vocabulary of prepraring-dataset-vocabulary: 1266\n"
          ]
        },
        {
          "output_type": "stream",
          "name": "stderr",
          "text": [
            "100%|██████████| 1266/1266 [00:00<00:00, 41401.81it/s]\n"
          ]
        },
        {
          "output_type": "stream",
          "name": "stdout",
          "text": [
            "Cluster id labels for inputted data\n",
            "[2 4 9 ... 9 1 6]\n",
            "Centroids data\n",
            "[[ 0.58714088  0.52728106 -1.05983313  0.24236726  0.23362403  1.80577983\n",
            "   0.60254879  0.60409147 -0.96919625  0.14133128]\n",
            " [ 0.21385907  0.20075586 -0.38433021  0.09274464  0.07843001  0.67265161\n",
            "   0.22883592  0.22732528 -0.35920075  0.05847069]\n",
            " [ 0.40944863  0.37490399 -0.73557224  0.17180844  0.15519476  1.28447577\n",
            "   0.43609456  0.42908552 -0.68478379  0.10567106]\n",
            " [ 1.41437221  3.39405394  0.93939149 -1.97879255 -2.64822483  5.2866025\n",
            "  -0.5200575   0.8950612  -2.56293845 -2.95195174]\n",
            " [ 0.69152196  0.63065547 -1.21645004  0.28753118  0.25974662  2.13787046\n",
            "   0.71435512  0.73160176 -1.1378215   0.17792397]\n",
            " [ 0.34377837  0.31074557 -0.61088921  0.14541167  0.12450774  1.0731226\n",
            "   0.36954961  0.36339052 -0.57573718  0.09049771]\n",
            " [ 0.27913621  0.25301674 -0.50355441  0.12034975  0.10327871  0.87334312\n",
            "   0.29907294  0.2963264  -0.46938366  0.07447403]\n",
            " [ 0.81910167  0.72291335 -1.49534122  0.36628024  0.32903511  2.55046291\n",
            "   0.8947118   0.87542854 -1.36764274  0.24377656]\n",
            " [ 0.4878579   0.44443639 -0.87270755  0.20563955  0.17711144  1.52847681\n",
            "   0.51592574  0.51362414 -0.81699731  0.1339009 ]\n",
            " [ 0.15169257  0.13348793 -0.26057092  0.06175085  0.0591472   0.46281495\n",
            "   0.15268962  0.15815666 -0.24569622  0.04210878]]\n"
          ]
        },
        {
          "output_type": "stream",
          "name": "stderr",
          "text": [
            "/usr/local/lib/python3.7/dist-packages/numba/np/ufunc/parallel.py:363: NumbaWarning: The TBB threading layer requires TBB version 2019.5 or later i.e., TBB_INTERFACE_VERSION >= 11005. Found TBB_INTERFACE_VERSION = 9107. The TBB threading layer is disabled.\n",
            "  warnings.warn(problem)\n"
          ]
        },
        {
          "output_type": "display_data",
          "data": {
            "text/html": [
              "<html>\n",
              "<head><meta charset=\"utf-8\" /></head>\n",
              "<body>\n",
              "    <div>            <script src=\"https://cdnjs.cloudflare.com/ajax/libs/mathjax/2.7.5/MathJax.js?config=TeX-AMS-MML_SVG\"></script><script type=\"text/javascript\">if (window.MathJax) {MathJax.Hub.Config({SVG: {font: \"STIX-Web\"}});}</script>                <script type=\"text/javascript\">window.PlotlyConfig = {MathJaxConfig: 'local'};</script>\n",
              "        <script src=\"https://cdn.plot.ly/plotly-2.11.1.min.js\"></script>                <div id=\"b72417db-b1cd-4d92-aff8-e1aabb5a28cd\" class=\"plotly-graph-div\" style=\"height:525px; width:100%;\"></div>            <script type=\"text/javascript\">                                    window.PLOTLYENV=window.PLOTLYENV || {};                                    if (document.getElementById(\"b72417db-b1cd-4d92-aff8-e1aabb5a28cd\")) {                    Plotly.newPlot(                        \"b72417db-b1cd-4d92-aff8-e1aabb5a28cd\",                        [{\"hovertemplate\":\"cluster=cluster 2<br>x=%{x}<br>y=%{y}<extra></extra>\",\"legendgroup\":\"cluster 2\",\"marker\":{\"color\":\"#636efa\",\"symbol\":\"circle\"},\"mode\":\"markers\",\"name\":\"cluster 2\",\"showlegend\":true,\"x\":[6.6627984046936035,8.62003231048584,7.2130866050720215,6.730091094970703,9.156620979309082,8.200209617614746,8.833776473999023,9.301836013793945,7.3364057540893555,6.473556995391846,9.452924728393555,7.742467403411865,8.192351341247559,8.412652015686035,7.540975093841553,9.63557243347168,9.16450309753418,9.05004596710205,7.125357627868652,7.055392742156982,6.295386791229248,9.556242942810059,9.35927963256836,7.231500148773193,9.43966007232666,9.446503639221191,7.20810604095459,9.149495124816895,7.258291244506836,8.428000450134277,6.77787446975708,7.445711135864258,9.001330375671387,9.049823760986328,6.39462947845459,7.058629512786865,9.401406288146973,7.249355792999268,8.566226959228516,6.293683052062988,9.777255058288574,6.915162563323975,9.474818229675293,8.09485149383545,7.107341289520264,9.299681663513184,8.589279174804688,6.893399238586426,6.443924427032471,9.3584623336792,7.140603065490723,9.434379577636719,7.11780309677124,8.362597465515137,7.48905611038208,6.3071699142456055,9.142934799194336,7.158033847808838,9.326086044311523,8.234456062316895,9.090246200561523,9.478363037109375,6.975076198577881,8.778382301330566,7.341793060302734,7.677402019500732,8.825186729431152,9.324277877807617,9.320751190185547,8.502178192138672,9.210189819335938,7.10602331161499,8.066386222839355,6.23734712600708,6.251242160797119,8.445186614990234,6.57045316696167,9.810457229614258,7.289549827575684,9.593711853027344,9.278003692626953,6.727256774902344,7.361357688903809,7.127231121063232,9.442756652832031,7.505769729614258,7.5447821617126465,5.826913356781006,7.125992298126221,9.078278541564941,9.216495513916016,6.305971622467041,9.239715576171875,8.845866203308105,7.501859188079834,9.191226959228516,9.503679275512695,7.0585479736328125,8.467737197875977,9.542426109313965,9.396912574768066,6.615060806274414,7.249790668487549,10.59890079498291,8.7128324508667,8.060951232910156,9.119579315185547,8.599649429321289,8.978999137878418,6.8949055671691895,7.170962810516357,6.28312349319458,7.180273532867432,9.563517570495605,6.826126575469971,9.176800727844238,6.894850254058838,6.954483509063721,6.41563081741333,9.272088050842285,9.46359634399414,8.31711196899414,6.0040602684021,9.780080795288086,9.389463424682617,6.53849983215332,8.902149200439453,8.588665962219238,7.165796279907227,6.368896961212158,8.489498138427734,8.590216636657715,6.287185192108154,7.055022716522217,7.437654972076416,6.380086421966553,9.43808650970459,7.537872791290283,8.278287887573242,8.85136604309082,6.9181365966796875,9.019287109375,8.074475288391113,6.551117897033691,6.390394687652588,8.566633224487305,8.92323112487793,8.648205757141113,7.4869608879089355,9.596549987792969,8.316134452819824,7.246886253356934,7.79945182800293],\"xaxis\":\"x\",\"y\":[-0.6423632502555847,0.024906925857067108,-0.28423741459846497,-0.3495955467224121,0.42122969031333923,-0.17204898595809937,0.06932536512613297,0.4648631513118744,-0.13924002647399902,-0.5474607944488525,0.4262859523296356,-0.39882364869117737,-0.16018342971801758,-0.09411805868148804,-0.4454822838306427,0.3498061001300812,0.12221815437078476,0.5349239110946655,-0.7204915285110474,-0.6509320139884949,-0.4660615622997284,0.6806408166885376,0.2282363921403885,-0.5228466987609863,0.6088584065437317,0.4326237738132477,-0.7769580483436584,0.24180328845977783,-0.729017436504364,0.01668085902929306,-0.8641214370727539,-0.4740001857280731,0.07568421959877014,0.9077025055885315,-0.34271860122680664,-0.564659595489502,0.5512362718582153,-0.5359819531440735,-0.14820997416973114,-0.43854716420173645,0.528516411781311,-0.44887658953666687,0.7632927894592285,-0.19777150452136993,-0.45976948738098145,0.28084877133369446,-0.0242337454110384,-0.4961369037628174,-0.5641025900840759,0.19281607866287231,-0.7038721442222595,0.18547779321670532,-0.6138936877250671,-0.1259126216173172,-0.401191771030426,-0.8369573950767517,0.22942352294921875,-0.4589591920375824,0.4494788348674774,-0.1728125810623169,0.9382092356681824,0.5762039422988892,-0.5103561282157898,-0.054446619004011154,-0.5613352060317993,-0.4630851149559021,-0.02877257578074932,0.22356566786766052,0.3951132893562317,-0.040165066719055176,0.42840540409088135,-0.4037137031555176,-0.07385552674531937,-0.461632639169693,-0.48904937505722046,0.07632523775100708,-0.41335681080818176,0.42309069633483887,-0.4523073136806488,0.5755060911178589,0.12240420281887054,-0.76985764503479,-0.48915982246398926,-0.6501606702804565,0.19010095298290253,-0.26303327083587646,-0.06810490787029266,-0.42135125398635864,-0.5506545305252075,0.8232067227363586,0.32488563656806946,-0.8189942836761475,0.43615591526031494,-0.0807732418179512,-0.22781969606876373,0.31762775778770447,0.47317421436309814,-0.4372633695602417,-0.045132115483284,0.7059327960014343,0.35446301102638245,-0.43100211024284363,-0.3132050633430481,1.420143723487854,0.2750972509384155,-0.23480987548828125,0.21599642932415009,0.09726913273334503,0.11687694489955902,-0.6108709573745728,-0.4007304608821869,-0.6900395154953003,-0.735990047454834,0.4101175367832184,-0.804667592048645,0.13899914920330048,-0.20915935933589935,-0.3364032208919525,-0.21774157881736755,0.3546596169471741,0.5471718907356262,-0.10980848222970963,-0.284183531999588,0.4639278054237366,0.3138902485370636,-0.5159292221069336,0.04510119557380676,0.03578943386673927,-0.701779305934906,-0.4455074369907379,-0.04728781059384346,0.11560787260532379,-0.37002649903297424,-0.5945947170257568,-0.4513902962207794,-0.8249534964561462,0.5212675333023071,-0.37280020117759705,-0.20016078650951385,0.07682627439498901,-0.43742093443870544,0.16902238130569458,-0.27208924293518066,-0.32928773760795593,-0.5131469964981079,0.13630568981170654,0.48875153064727783,-0.017581814900040627,-0.426814466714859,0.3442586362361908,-0.11798837780952454,-0.29300788044929504,-0.3103767931461334],\"yaxis\":\"y\",\"type\":\"scattergl\"},{\"hovertemplate\":\"cluster=cluster 4<br>x=%{x}<br>y=%{y}<extra></extra>\",\"legendgroup\":\"cluster 4\",\"marker\":{\"color\":\"#EF553B\",\"symbol\":\"circle\"},\"mode\":\"markers\",\"name\":\"cluster 4\",\"showlegend\":true,\"x\":[13.384042739868164,13.303902626037598,13.53754711151123,13.539268493652344,13.700761795043945,13.625194549560547,13.281991004943848,13.603841781616211,13.4371976852417,13.02711009979248,13.538500785827637,13.31678581237793,13.525619506835938,13.540038108825684,13.530585289001465,12.763751983642578,13.277587890625,13.426599502563477,13.495072364807129,13.561652183532715,13.396692276000977,13.588837623596191,13.308159828186035,13.632041931152344,13.302489280700684,13.267023086547852,13.583457946777344,13.264657020568848,13.62600040435791,13.499832153320312,13.297636985778809,13.267011642456055,13.48737907409668,13.298813819885254,13.199066162109375,13.660284996032715,13.485162734985352,13.355037689208984,13.255605697631836,13.584694862365723,13.249712944030762,13.28719711303711,13.3355712890625,13.632010459899902,13.288881301879883,13.572376251220703,13.672247886657715,13.24725341796875,13.228571891784668,13.618350982666016,13.517858505249023,13.33155632019043,13.25749397277832,13.407573699951172,13.378132820129395,13.496899604797363,13.538676261901855,13.104013442993164,13.519895553588867,13.59314250946045,13.453706741333008,13.049712181091309,13.587156295776367,13.646370887756348],\"xaxis\":\"x\",\"y\":[9.152043342590332,9.260106086730957,8.430523872375488,8.598488807678223,7.91148042678833,8.141340255737305,9.594001770019531,8.074466705322266,8.58836555480957,7.190616607666016,7.60025691986084,9.27865982055664,8.460729598999023,7.597409248352051,8.07968521118164,6.251102924346924,9.505545616149902,8.964406967163086,8.60129165649414,8.380842208862305,8.896352767944336,7.9885029792785645,9.504507064819336,7.836256980895996,9.498806953430176,9.654964447021484,8.39256477355957,9.652433395385742,7.704276084899902,8.70984172821045,8.626740455627441,8.979969024658203,8.80135440826416,8.910889625549316,9.134499549865723,7.802957534790039,8.721190452575684,9.446221351623535,9.755465507507324,7.642184734344482,9.206713676452637,9.59366226196289,9.231790542602539,8.062968254089355,8.937829971313477,8.519980430603027,7.824554920196533,9.667571067810059,9.657487869262695,7.9118123054504395,7.783559322357178,9.05112361907959,9.784409523010254,8.423534393310547,9.334036827087402,8.663004875183105,8.430561065673828,7.395089626312256,8.437470436096191,8.497589111328125,8.76373291015625,7.111611843109131,8.320640563964844,7.873598098754883],\"yaxis\":\"y\",\"type\":\"scattergl\"},{\"hovertemplate\":\"cluster=cluster 9<br>x=%{x}<br>y=%{y}<extra></extra>\",\"legendgroup\":\"cluster 9\",\"marker\":{\"color\":\"#00cc96\",\"symbol\":\"circle\"},\"mode\":\"markers\",\"name\":\"cluster 9\",\"showlegend\":true,\"x\":[-2.703173875808716,-3.2102715969085693,-2.708951234817505,-2.6596946716308594,-3.042048454284668,-2.739497184753418,-2.8658499717712402,-3.042498826980591,-2.5324385166168213,-2.930602550506592,-3.08652925491333,-2.7029776573181152,-3.0775694847106934,-2.7588276863098145,-3.281362295150757,-2.6044561862945557,-2.69663405418396,-2.639787435531616,-2.893578290939331,-3.269481658935547,-3.0448923110961914,-2.873152256011963,-2.676453113555908,-3.1438450813293457,-2.97115159034729,-3.2425003051757812,-2.7398622035980225,-2.8398854732513428,-2.8566510677337646,-2.9538445472717285,-2.7132766246795654,-2.892481565475464,-3.0944573879241943,-3.0221869945526123,-2.8765506744384766,-2.9613044261932373,-3.276859998703003,-2.7415549755096436,-3.0812573432922363,-2.805769920349121,-2.8555383682250977,-2.839995861053467,-2.86244797706604,-2.628455638885498,-2.5703256130218506,-3.0481693744659424,-2.6079251766204834,-2.9990971088409424,-2.823436737060547,-2.736865758895874,-2.594388484954834,-2.8653392791748047,-2.7070517539978027,-2.941030263900757,-3.002531051635742,-2.7533881664276123,-2.6948819160461426,-2.8734242916107178,-2.6337332725524902,-2.9808926582336426,-2.6473405361175537,-2.6860718727111816,-3.1864309310913086,-2.943281650543213,-2.9293315410614014,-3.309852361679077,-2.6467764377593994,-2.8923463821411133,-3.103492259979248,-2.9605631828308105,-2.6110241413116455,-2.5590710639953613,-2.800676107406616,-2.8890693187713623,-3.2422070503234863,-2.9169907569885254,-3.226296901702881,-2.7752671241760254,-2.7856152057647705,-3.062164306640625,-2.733426332473755,-2.807570457458496,-2.847517490386963,-2.8131296634674072,-2.9802305698394775,-2.5409486293792725,-2.8292694091796875,-2.879791021347046,-2.708561897277832,-2.874779224395752,-2.6447815895080566,-2.7703285217285156,-2.9229331016540527,-2.886725902557373,-2.942047357559204,-2.808696746826172,-2.9830710887908936,-2.8698055744171143,-3.2608890533447266,-2.7556838989257812,-2.9215009212493896,-3.0676496028900146,-2.9240167140960693,-2.869436025619507,-2.825648307800293,-2.66973876953125,-2.9894254207611084,-2.851383686065674,-2.747776746749878,-2.8401310443878174,-2.854984998703003,-2.819265604019165,-2.6568233966827393,-3.057404041290283,-2.9722952842712402,-3.057286500930786,-2.856886863708496,-2.6709163188934326,-2.805007219314575,-2.8381896018981934,-3.038828134536743,-2.6762092113494873,-2.9182753562927246,-2.9568872451782227,-3.2225637435913086,-2.7220351696014404,-3.06396484375,-2.75494384765625,-2.7186217308044434,-2.9342610836029053,-2.760258436203003,-2.65022611618042,-3.257598638534546,-2.761361598968506,-2.9290411472320557,-2.7417397499084473,-2.7264647483825684,-2.8949246406555176,-2.922234535217285,-2.6648733615875244,-2.89686918258667,-3.0667665004730225,-2.9918365478515625,-2.9525909423828125,-2.9225428104400635,-2.8510074615478516,-2.827542543411255,-2.988135576248169,-2.94044828414917,-3.211737632751465,-2.9140608310699463,-2.868701934814453,-3.023967742919922,-3.0144565105438232,-2.807180643081665,-3.009516716003418,-3.0055558681488037,-2.695282220840454,-3.0424599647521973,-2.872361660003662,-2.848484516143799,-2.585200071334839,-2.6684389114379883,-3.1542489528656006,-2.954360008239746,-2.869021415710449],\"xaxis\":\"x\",\"y\":[10.539740562438965,10.26357650756836,10.38866901397705,12.225948333740234,11.689142227172852,10.164192199707031,12.046037673950195,12.806513786315918,11.982956886291504,11.20659065246582,10.143298149108887,11.09692668914795,12.348630905151367,13.067708015441895,10.18395709991455,10.500754356384277,12.631258964538574,10.643836975097656,13.647237777709961,10.102643013000488,11.782960891723633,10.659768104553223,10.307485580444336,10.29387378692627,11.047806739807129,10.232498168945312,11.502238273620605,13.263854026794434,12.319147109985352,11.44423770904541,12.270478248596191,12.069947242736816,10.573107719421387,11.643817901611328,10.237396240234375,12.619690895080566,10.378910064697266,11.913544654846191,10.363940238952637,11.892621994018555,13.833889961242676,13.16787052154541,13.81692123413086,12.471028327941895,11.849019050598145,11.824347496032715,12.232573509216309,12.232009887695312,11.522080421447754,12.574624061584473,12.238990783691406,12.163573265075684,10.507211685180664,10.766876220703125,10.377219200134277,10.350682258605957,12.466256141662598,13.750204086303711,11.304570198059082,11.068514823913574,10.478861808776855,11.293023109436035,10.703590393066406,12.401693344116211,13.577160835266113,10.224069595336914,11.427687644958496,13.690544128417969,11.01528263092041,12.255464553833008,12.160865783691406,11.315927505493164,12.372446060180664,13.728067398071289,10.48979663848877,13.021807670593262,10.270485877990723,10.474970817565918,11.217227935791016,11.661290168762207,13.070900917053223,12.849979400634766,10.536948204040527,12.832114219665527,12.554067611694336,11.870147705078125,11.367805480957031,10.20702075958252,10.02639389038086,12.281455993652344,11.948820114135742,12.611588478088379,12.86061954498291,11.099333763122559,11.728897094726562,13.515456199645996,11.910840034484863,10.410881042480469,10.367413520812988,9.965751647949219,12.945927619934082,12.57800579071045,11.218499183654785,11.251805305480957,13.848645210266113,10.84341049194336,10.80958366394043,13.196168899536133,11.248653411865234,13.57317066192627,13.794257164001465,13.829893112182617,11.465612411499023,10.105745315551758,12.300981521606445,10.764998435974121,11.467951774597168,10.809638023376465,13.178021430969238,13.650714874267578,12.586491584777832,11.723594665527344,11.415057182312012,12.078020095825195,10.109960556030273,10.16304874420166,10.694561004638672,10.123272895812988,11.744013786315918,11.641812324523926,12.480224609375,10.761129379272461,10.05785083770752,10.5287504196167,12.521337509155273,10.386054992675781,10.167572021484375,13.710392951965332,13.318744659423828,10.055344581604004,11.732292175292969,10.305158615112305,12.316839218139648,13.175029754638672,11.233250617980957,13.720216751098633,13.108536720275879,10.379638671875,12.34134292602539,10.311405181884766,13.284236907958984,13.802594184875488,11.768719673156738,11.723934173583984,13.828204154968262,13.050078392028809,12.668708801269531,12.165133476257324,10.324155807495117,10.286210060119629,10.646611213684082,10.29035472869873,12.58060073852539,10.20215892791748,10.243831634521484,13.73421859741211],\"yaxis\":\"y\",\"type\":\"scattergl\"},{\"hovertemplate\":\"cluster=cluster 5<br>x=%{x}<br>y=%{y}<extra></extra>\",\"legendgroup\":\"cluster 5\",\"marker\":{\"color\":\"#ab63fa\",\"symbol\":\"circle\"},\"mode\":\"markers\",\"name\":\"cluster 5\",\"showlegend\":true,\"x\":[2.916882276535034,4.098172664642334,4.577946662902832,5.574450969696045,4.370460510253906,4.667337894439697,2.322122573852539,3.5323739051818848,4.039259433746338,3.117630958557129,3.5393049716949463,5.707024097442627,5.980892181396484,2.250751495361328,4.228181838989258,3.274077892303467,6.01110315322876,4.600709438323975,5.8117356300354,5.628290176391602,4.727779388427734,4.265661239624023,4.098998546600342,2.8403029441833496,4.405409336090088,2.346482038497925,2.785857915878296,6.049251556396484,3.103879928588867,3.5669634342193604,2.5335586071014404,2.113960027694702,3.8684096336364746,4.847652912139893,2.3283133506774902,2.5510525703430176,3.2732813358306885,2.703399181365967,3.8907663822174072,6.212473392486572,4.514617919921875,5.675289154052734,4.25567626953125,4.41068172454834,6.181053638458252,4.169437885284424,5.519060134887695,4.572211742401123,2.243765354156494,2.785867214202881,4.134250164031982,5.723142623901367,5.748680114746094,3.727156162261963,2.661459445953369,5.4873433113098145,4.245843410491943,3.6884706020355225,6.01492166519165,4.329087734222412,2.437974214553833,4.535745620727539,2.2267580032348633,3.215705394744873,5.028529644012451,4.768029689788818,5.852949619293213,5.648426055908203,2.4918816089630127,3.6673872470855713,4.936184883117676,4.065725803375244,5.180461406707764,3.876099109649658,4.172001361846924,4.02577018737793,6.2823567390441895,2.712283134460449,5.293096542358398,4.740920066833496,3.133335828781128,4.450497150421143,5.667331218719482,5.705021858215332,6.149106025695801,2.823669195175171,5.066280364990234,3.9749867916107178,2.172712802886963,3.096341848373413,4.162308692932129,4.2646050453186035,5.791729927062988,3.586578130722046,5.362429141998291,2.085487127304077,4.618491172790527,2.58828067779541,4.540221691131592,3.0438454151153564,3.154653787612915,2.772246837615967,5.846266269683838,4.61478853225708,2.4199624061584473,5.85922384262085,3.5957272052764893,5.635907173156738,2.972487449645996,5.858917236328125,5.8225860595703125,2.5633597373962402,5.925081729888916,5.5730977058410645,2.4653871059417725,2.9826128482818604,4.551032066345215,2.9238691329956055,3.2461555004119873,4.422219276428223,2.9635136127471924,4.584558010101318,5.953298091888428,5.94608211517334,5.114386558532715,5.94581937789917,4.591569423675537,6.09208345413208,5.661708354949951,3.906968832015991,3.047905683517456,3.222909688949585,3.0669963359832764,5.79496955871582,3.1775155067443848,2.9961626529693604,4.227990627288818,4.667025566101074,4.855926036834717,4.608296871185303,2.4638071060180664,5.412278652191162,3.023991584777832,5.87318229675293,4.81110954284668,4.0682854652404785,2.2166552543640137,4.441061973571777,2.3008382320404053,4.335848331451416,4.64628267288208,4.622130870819092,4.729377746582031,2.869748830795288,2.3707871437072754,3.1631252765655518,4.007658004760742,6.207329273223877,4.894554615020752,5.871677875518799,4.91061544418335],\"xaxis\":\"x\",\"y\":[0.35341113805770874,-0.11631210148334503,0.24340222775936127,-0.1579332798719406,-0.1588476449251175,0.14897075295448303,0.9473428130149841,0.19949226081371307,0.319474995136261,0.25821182131767273,0.2340734899044037,-0.15018318593502045,-0.46032825112342834,0.6685780882835388,0.32559508085250854,0.16406601667404175,-0.142114520072937,-0.1592445969581604,-0.21154634654521942,-0.19252948462963104,0.10143836587667465,-0.08648853749036789,0.14102700352668762,0.5339070558547974,-0.390016108751297,0.5418866872787476,0.6024004220962524,-0.6302228569984436,0.2372080385684967,0.08965527266263962,0.4189797043800354,0.9669864773750305,-0.1659877896308899,0.0408141165971756,0.9889681339263916,0.4959244728088379,0.07319856435060501,0.3883662521839142,0.14707809686660767,-0.4281211793422699,-0.16565586626529694,-0.15171809494495392,0.13861335813999176,0.11401211470365524,-0.2858598232269287,0.03569407761096954,-0.6727409958839417,0.09077344089746475,0.4946294128894806,0.3183939754962921,-0.31465718150138855,-0.3728593587875366,-0.6529456973075867,0.2141287624835968,0.1887892484664917,-0.6623647212982178,0.11198461055755615,0.30903780460357666,-0.3139854669570923,-0.19225342571735382,0.6505489945411682,-0.3459659814834595,0.8604009747505188,0.16444876790046692,-0.12909197807312012,0.025936465710401535,-0.22046013176441193,-0.7026189565658569,0.7224293351173401,-0.04666843265295029,-0.015875671058893204,-0.2510228455066681,0.01149695087224245,-0.04412645474076271,0.10711831599473953,-0.1845020204782486,-0.468693345785141,0.3143731653690338,-0.5815284848213196,0.04814082011580467,0.23725314438343048,0.10931187123060226,-0.3295079171657562,-0.5803773999214172,-0.4402469992637634,0.3323900103569031,0.031247271224856377,-0.25302329659461975,0.43787911534309387,0.24256080389022827,0.14007924497127533,-0.20129482448101044,-0.6920942664146423,0.14700423181056976,-0.32326096296310425,0.47793498635292053,0.1958690732717514,0.6252548098564148,-0.4331456124782562,0.3358232378959656,0.2630508244037628,0.3123517632484436,-0.6554632782936096,-0.0034913907293230295,0.3503602147102356,-0.7172002792358398,0.010123136453330517,-0.44656264781951904,0.44974687695503235,-0.23535339534282684,-0.16146133840084076,0.5049933791160583,-0.19902271032333374,-0.5657505989074707,0.46757176518440247,0.33527126908302307,0.10528948158025742,0.39240068197250366,0.25572293996810913,-0.08058329671621323,0.30955153703689575,-0.22462978959083557,-0.18315622210502625,-0.7001839280128479,-0.21005122363567352,-0.40199995040893555,0.1690474897623062,-0.28828486800193787,-0.37388530373573303,0.11380807310342789,0.18797968327999115,0.11401776224374771,0.2437819242477417,-0.7248860597610474,0.6036601662635803,0.43795761466026306,-0.146248921751976,0.08724744617938995,0.13868455588817596,0.07871691882610321,0.7173494696617126,-0.4240162968635559,0.24755902588367462,-0.5093575119972229,-0.12348867207765579,-0.13595035672187805,0.7602758407592773,-0.37909454107284546,0.6435619592666626,0.21341662108898163,-0.4142875075340271,0.18938712775707245,0.10581837594509125,0.36112353205680847,0.4128513038158417,0.41402482986450195,-0.21879206597805023,-0.29708409309387207,-0.2981734573841095,-0.2891734838485718,-0.5131845474243164],\"yaxis\":\"y\",\"type\":\"scattergl\"},{\"hovertemplate\":\"cluster=cluster 8<br>x=%{x}<br>y=%{y}<extra></extra>\",\"legendgroup\":\"cluster 8\",\"marker\":{\"color\":\"#FFA15A\",\"symbol\":\"circle\"},\"mode\":\"markers\",\"name\":\"cluster 8\",\"showlegend\":true,\"x\":[11.437786102294922,12.214381217956543,10.845505714416504,12.159432411193848,11.43727970123291,10.590335845947266,11.757942199707031,10.984479904174805,11.777316093444824,12.2639741897583,11.86834716796875,11.440582275390625,11.798948287963867,10.972031593322754,10.73889446258545,11.65781021118164,11.415641784667969,11.798188209533691,10.948062896728516,10.64893627166748,11.647680282592773,11.93407917022705,11.309348106384277,11.336910247802734,11.75241756439209,11.42930793762207,11.51050090789795,10.635939598083496,11.811779022216797,11.840608596801758,11.149138450622559,10.887399673461914,11.190876007080078,11.826502799987793,11.095221519470215,9.550564765930176,10.912731170654297,11.725190162658691,11.97110652923584,11.02444076538086,10.8193998336792,11.84328842163086,12.231700897216797,10.794853210449219,11.63083267211914,12.166948318481445,10.772468566894531,11.728819847106934,11.312663078308105,11.40034008026123,12.147659301757812,10.82490062713623,11.388388633728027,11.576458930969238,9.959839820861816,11.320969581604004,11.563663482666016,11.602546691894531,10.854310035705566,9.135992050170898,10.680728912353516,11.011178016662598,12.086618423461914,10.781455039978027,10.875776290893555,11.047516822814941,11.994087219238281,10.929614067077637,10.596492767333984,10.726115226745605,11.214198112487793,11.596965789794922,10.539796829223633,10.396820068359375,11.214305877685547,11.01639461517334,10.692342758178711,11.004813194274902,11.678162574768066,11.279726028442383,10.464383125305176,9.573860168457031,11.572981834411621,11.292915344238281,11.091460227966309,9.637080192565918,12.11794376373291,11.632477760314941,12.031240463256836,10.95324993133545,11.961164474487305,11.488383293151855,11.565755844116211,11.14220142364502,10.901494026184082,11.404520988464355,11.38145637512207,11.534027099609375,12.212455749511719,10.04847526550293,12.084954261779785,12.216779708862305,10.794883728027344,11.85508918762207,11.663864135742188,10.96162223815918,11.33407211303711,12.031765937805176,11.569938659667969,11.542648315429688,10.549371719360352,12.077943801879883,11.569156646728516,11.333860397338867],\"xaxis\":\"x\",\"y\":[2.980546236038208,4.20385217666626,1.743349313735962,3.993680477142334,2.454505443572998,1.4222333431243896,3.022854804992676,1.8748873472213745,2.8934848308563232,4.309460163116455,3.477457046508789,2.54591965675354,2.7453043460845947,1.882311463356018,1.5300965309143066,2.477201223373413,2.4949605464935303,3.02009916305542,1.7913686037063599,1.444875955581665,2.528881311416626,2.9976158142089844,2.3968164920806885,2.4407711029052734,3.096153736114502,2.529447078704834,3.0140480995178223,1.46379554271698,3.037900686264038,3.06756329536438,2.185870409011841,1.7259002923965454,2.1141302585601807,2.910895586013794,1.840929627418518,0.8761652112007141,1.7166485786437988,2.6467268466949463,3.4568467140197754,1.8840595483779907,1.6832730770111084,2.929222583770752,4.19530725479126,1.6577646732330322,2.697019100189209,3.8133301734924316,1.5958057641983032,3.2717089653015137,2.7461254596710205,2.846174478530884,4.068793296813965,1.6762499809265137,2.8390111923217773,2.423985719680786,0.7017324566841125,2.3372015953063965,3.137622594833374,3.0767109394073486,1.697199821472168,1.029780626296997,1.4697678089141846,1.8772052526474,3.6970345973968506,1.5866416692733765,1.7350467443466187,1.90244722366333,3.5728228092193604,1.8170491456985474,1.4166315793991089,1.5341064929962158,2.203618288040161,3.0324416160583496,1.3754417896270752,1.2795445919036865,2.004544258117676,1.9435515403747559,1.5333441495895386,1.878341555595398,2.8604471683502197,2.354841709136963,1.2377792596817017,0.7494760751724243,2.7285208702087402,2.3481857776641846,2.0714805126190186,0.7765193581581116,4.050686836242676,2.592123031616211,3.725022077560425,1.854177474975586,3.520897626876831,2.127368688583374,3.024193048477173,2.0446653366088867,1.7849425077438354,2.852320909500122,2.901683807373047,2.5383293628692627,4.186364650726318,0.8349925875663757,3.769970178604126,4.203186511993408,1.6592646837234497,2.9303982257843018,2.9499852657318115,1.9416232109069824,2.8118040561676025,3.78942608833313,3.099043130874634,2.3674545288085938,1.4294745922088623,3.750211477279663,2.8885743618011475,2.286069869995117],\"yaxis\":\"y\",\"type\":\"scattergl\"},{\"hovertemplate\":\"cluster=cluster 6<br>x=%{x}<br>y=%{y}<extra></extra>\",\"legendgroup\":\"cluster 6\",\"marker\":{\"color\":\"#19d3f3\",\"symbol\":\"circle\"},\"mode\":\"markers\",\"name\":\"cluster 6\",\"showlegend\":true,\"x\":[-0.5192041993141174,1.4722607135772705,-0.5169724225997925,-0.6736953854560852,-1.2560702562332153,0.9613749384880066,0.09520260989665985,1.1696960926055908,-1.40142023563385,-1.5074657201766968,-0.5554718375205994,-0.6208217144012451,0.6803732514381409,1.983007788658142,1.1264301538467407,-1.3877592086791992,-0.3467586934566498,-0.3424305021762848,-0.8775668144226074,1.8118550777435303,-0.5576786398887634,-0.22317470610141754,0.8459957242012024,-1.2493714094161987,0.5786938667297363,0.8907860517501831,-1.5102689266204834,1.5877492427825928,-0.6784797310829163,-0.22781141102313995,-0.02164912223815918,-0.07887890189886093,-1.4596518278121948,0.46834418177604675,1.813020944595337,-1.1083948612213135,-1.1547380685806274,-1.1646827459335327,0.8975003957748413,0.7184650897979736,-0.1544465273618698,-1.1255218982696533,-0.9855999946594238,-1.066503643989563,1.1454740762710571,-1.3866627216339111,1.423325538635254,0.6076818108558655,-1.062430739402771,-1.6019206047058105,1.6918954849243164,0.9844146370887756,0.44717612862586975,1.5561071634292603,1.2049496173858643,-0.5756930112838745,1.738836646080017,-0.06090634688735008,-1.6958754062652588,-1.2945678234100342,0.6214066743850708,0.9024452567100525,0.7567779421806335,1.199762225151062,1.5914173126220703,0.602642834186554,1.2024651765823364,-0.8577085733413696,-1.3026540279388428,-0.7187918424606323,1.079023003578186,1.2581270933151245,-1.5643353462219238,-0.6688105463981628,-0.819378137588501,0.8115542531013489,1.6250723600387573,-0.16645336151123047,1.191147804260254,1.8790286779403687,-1.163640022277832,1.3617761135101318,-0.8072608113288879,-1.5738227367401123,-0.21236354112625122,-1.2362242937088013,0.379705011844635,1.36749267578125,0.14012262225151062,1.7955539226531982,-0.971337616443634,-0.9781392216682434,1.8757044076919556,-1.2924585342407227,1.5899831056594849,-1.4400389194488525,0.6979838609695435,-1.6436806917190552,-1.0631635189056396,-0.18588924407958984,1.5566293001174927,0.5248608589172363,0.42605146765708923,-0.02310323715209961,1.3683336973190308,-0.3329319655895233,-0.3480609953403473,0.919427216053009,0.8811953067779541,-1.4868080615997314,1.9426145553588867,0.47820743918418884,-0.592448890209198,0.7303226590156555,1.6326392889022827,-1.3493725061416626,0.24052537977695465,0.5815722942352295,-0.6735836267471313,0.8764381408691406,-1.6241073608398438,0.4708554148674011,1.140594720840454,0.3890424072742462,1.3937004804611206,1.458285927772522,1.6699243783950806,0.9919785261154175,1.5857700109481812,1.2846773862838745,1.2193877696990967,-0.4795787036418915,1.6753264665603638,-0.6732969880104065,-0.7914396524429321,0.7950791120529175,1.380552053451538,1.4690150022506714,-0.5642712116241455,-1.1322296857833862,1.2966854572296143,1.0665524005889893,1.4976465702056885,1.6035454273223877,-1.4501631259918213,-0.9529718160629272,-1.151365876197815,-0.053528569638729095,1.3542190790176392,-0.08959702402353287,-1.0688724517822266,-1.1112499237060547,1.3540318012237549,-1.3292993307113647,1.2911542654037476,0.43561604619026184,0.8066569566726685,0.014838116243481636,-0.1895400732755661,1.936457633972168,-1.3794089555740356,1.5459243059158325,-0.06783483177423477,0.8996908664703369,1.6720774173736572,-0.5072914361953735,-0.6086418032646179,-0.25675588846206665,0.6777276992797852,-0.88784259557724,0.7411890625953674,2.154989004135132,-0.6146363019943237,1.2355906963348389,0.8665145635604858,0.2167043834924698,0.7709572315216064,-0.08247572183609009,-1.1650644540786743,-1.6454302072525024,1.8191992044448853,-1.0076720714569092,-0.7535331845283508,-0.1905151605606079,0.496651828289032,1.0099482536315918,1.1019606590270996,0.10475966334342957,0.808623731136322,1.3474094867706299,-0.601847231388092,-0.9043126106262207,-1.1551759243011475,1.7297229766845703,1.0380102396011353,1.4544881582260132,0.790883481502533,-0.5492134690284729,0.14827361702919006,1.1965889930725098,1.1631815433502197,1.278133511543274,1.707336187362671,-1.1225066184997559,1.415625810623169,1.6855956315994263,-0.6981886625289917,0.8045209050178528,-0.11154346913099289,1.9600762128829956,0.022529950365424156,-1.3881179094314575,1.0459612607955933,1.5239838361740112,1.8455191850662231,2.230193614959717,0.35316771268844604],\"xaxis\":\"x\",\"y\":[2.7071521282196045,0.9467034935951233,2.622753858566284,3.099026918411255,3.6903107166290283,1.3130981922149658,1.9991629123687744,1.2849528789520264,4.389705657958984,4.00374698638916,3.3431613445281982,3.0921804904937744,1.444550633430481,0.9754433631896973,1.5859627723693848,3.5246968269348145,3.0017542839050293,2.748616933822632,3.249116897583008,0.5360625386238098,2.869077444076538,2.333923816680908,1.2590336799621582,3.1761395931243896,2.1003899574279785,1.8936978578567505,3.9380204677581787,1.4342981576919556,3.262838125228882,2.3896965980529785,2.728708028793335,2.129972219467163,3.7988736629486084,1.8910144567489624,0.7519353032112122,3.6311166286468506,2.9799258708953857,2.923685312271118,1.9435269832611084,2.000065803527832,2.7145211696624756,3.87176513671875,2.8827972412109375,3.8725106716156006,1.5470014810562134,3.5900943279266357,1.106474757194519,1.9529184103012085,3.8666787147521973,4.620863437652588,1.2107828855514526,1.3664162158966064,2.0761332511901855,0.842658281326294,1.023612141609192,2.4982635974884033,1.4689654111862183,2.623002290725708,3.996277093887329,3.9890685081481934,2.1045219898223877,1.7255709171295166,1.8554410934448242,0.9488683938980103,0.9867277145385742,1.597263216972351,1.627944827079773,2.965780019760132,3.053166151046753,2.9726030826568604,1.789692997932434,1.7116670608520508,3.8822968006134033,3.101790189743042,3.177180767059326,1.8265950679779053,1.125498652458191,2.120213270187378,1.4268109798431396,1.0456383228302002,3.221052646636963,0.903619110584259,3.5032339096069336,4.430805683135986,2.7645058631896973,3.7074756622314453,2.3067691326141357,1.0393940210342407,2.0001943111419678,1.7406649589538574,3.315659523010254,3.4698188304901123,0.573847234249115,3.4826865196228027,1.1299480199813843,3.8983395099639893,1.540916085243225,4.380827903747559,3.0645172595977783,2.1324548721313477,1.68663489818573,1.3822983503341675,1.794171929359436,2.5770263671875,1.6594959497451782,2.729114055633545,2.4997518062591553,1.7533724308013916,1.2894340753555298,3.8298251628875732,0.9648631811141968,2.167210102081299,3.454204797744751,1.352152705192566,1.1029248237609863,3.2992067337036133,1.8956514596939087,1.742926836013794,3.0092275142669678,1.8273168802261353,3.8722264766693115,2.063547372817993,1.8275254964828491,2.282633066177368,1.6858799457550049,1.3138717412948608,1.4767684936523438,1.8880484104156494,0.987772524356842,0.9908950924873352,1.4185711145401,2.607698440551758,0.9304212927818298,3.118328094482422,3.3305673599243164,1.8791859149932861,0.8364099264144897,1.1570014953613281,3.2415621280670166,3.380232334136963,1.5943684577941895,1.8273851871490479,1.5582407712936401,1.4402443170547485,4.533064842224121,3.817547082901001,3.6957361698150635,2.128511905670166,1.5590667724609375,2.8248414993286133,3.501410722732544,3.0869295597076416,1.4838416576385498,3.7486705780029297,1.5200209617614746,1.9802842140197754,1.7416385412216187,2.0950734615325928,2.1890809535980225,1.2342805862426758,3.5712454319000244,1.2665715217590332,2.6316888332366943,1.7261888980865479,1.732878565788269,3.2455928325653076,2.915200710296631,2.3261516094207764,1.2278624773025513,3.133592128753662,1.163148045539856,0.5465776324272156,2.5424180030822754,1.6516143083572388,1.7136685848236084,2.1053049564361572,1.489925503730774,2.133632183074951,3.875624418258667,4.392807483673096,1.0833195447921753,3.319892406463623,3.1051008701324463,2.7321343421936035,2.1364052295684814,1.639850378036499,1.9772695302963257,1.9137364625930786,1.7254738807678223,1.4205498695373535,2.549130916595459,2.912376880645752,2.975111961364746,1.4257208108901978,1.850860357284546,0.9370420575141907,1.8940666913986206,2.9367423057556152,2.381901741027832,1.7180804014205933,1.6953635215759277,1.6359055042266846,1.1778606176376343,3.01531720161438,1.6150076389312744,0.73701012134552,3.157325267791748,1.953912377357483,2.6118345260620117,1.1839789152145386,2.53859281539917,3.581266164779663,1.4912135601043701,1.496203899383545,1.329972267150879,0.8227154612541199,2.2054336071014404],\"yaxis\":\"y\",\"type\":\"scattergl\"},{\"hovertemplate\":\"cluster=cluster 1<br>x=%{x}<br>y=%{y}<extra></extra>\",\"legendgroup\":\"cluster 1\",\"marker\":{\"color\":\"#FF6692\",\"symbol\":\"circle\"},\"mode\":\"markers\",\"name\":\"cluster 1\",\"showlegend\":true,\"x\":[-1.6694148778915405,-2.6985244750976562,-2.9144058227539062,-2.110835075378418,-2.755786180496216,-2.1564486026763916,-2.3527348041534424,-2.1365816593170166,-2.8184866905212402,-3.0287885665893555,-1.9639904499053955,-1.9975082874298096,-2.2879550457000732,-2.714808464050293,-2.2824251651763916,-3.0569725036621094,-2.181570053100586,-2.7121384143829346,-1.8969966173171997,-2.735227584838867,-1.975190281867981,-1.8329402208328247,-2.739716053009033,-1.9119795560836792,-2.019845962524414,-1.7037882804870605,-2.7033982276916504,-2.825287103652954,-1.7484595775604248,-1.6455554962158203,-2.409026861190796,-2.8917863368988037,-1.757248044013977,-2.358091115951538,-1.4646674394607544,-1.4855619668960571,-2.5682106018066406,-1.6252655982971191,-3.0005974769592285,-2.679215431213379,-2.5430357456207275,-2.525317907333374,-2.39119029045105,-2.157083034515381,-2.8875019550323486,-2.8150973320007324,-2.5045745372772217,-2.53608775138855,-2.2938363552093506,-2.407248020172119,-2.645585060119629,-1.857599139213562,-2.8381855487823486,-2.4076898097991943,-2.662607431411743,-2.315804958343506,-2.1197707653045654,-2.605477809906006,-1.8849912881851196,-2.1757171154022217,-3.1053972244262695,-2.158827543258667,-2.614924430847168,-2.020059585571289,-2.364424705505371,-2.4925849437713623,-1.961524486541748,-2.509770631790161,-2.0205001831054688,-1.7307311296463013,-2.0646777153015137,-2.3813326358795166,-3.0169272422790527,-2.648052453994751,-2.6188852787017822,-2.5003111362457275,-2.4783694744110107,-2.817575216293335,-2.160184621810913,-1.9437447786331177,-2.7096564769744873,-2.8728249073028564,-2.08904767036438,-2.6273231506347656,-2.3596320152282715,-2.877354383468628,-2.3428423404693604,-2.534573793411255,-3.005148410797119,-2.2110486030578613,-1.8182625770568848,-2.3570830821990967,-1.817567229270935,-2.3590807914733887,-2.9058620929718018,-1.750068187713623,-2.8240792751312256,-2.52618145942688,-1.8674002885818481,-2.420778274536133,-2.7517690658569336,-2.8899152278900146,-2.59987211227417,-1.701560139656067,-1.9405052661895752,-2.349871873855591,-2.7460973262786865,-1.8038477897644043,-2.896432399749756,-1.9374947547912598,-1.6455552577972412,-2.2802186012268066,-2.951794147491455,-2.711013078689575,-2.565732002258301,-1.7726531028747559,-2.6405203342437744,-2.63494610786438,-2.88037109375,-2.892174005508423,-2.5155622959136963,-1.9496338367462158,-3.0186078548431396,-1.638170599937439,-2.418984889984131,-3.0735275745391846,-2.6919405460357666,-2.27653169631958,-1.8023425340652466,-2.024916172027588,-2.5409226417541504,-1.8659709692001343,-3.136110544204712,-2.4770283699035645,-1.798691749572754,-2.0476341247558594,-2.214360237121582,-1.8736037015914917,-3.2434332370758057,-2.642730236053467,-2.799734592437744,-2.2909398078918457,-2.6178126335144043,-1.863494634628296,-2.841188907623291,-2.7550930976867676,-2.796849012374878,-1.8715306520462036,-2.191277027130127,-1.9516563415527344,-1.6044464111328125,-3.0114033222198486,-2.281726360321045,-2.5914177894592285,-1.8954569101333618,-1.866640329360962,-2.3652193546295166,-2.1055967807769775,-2.317497491836548,-1.8629052639007568,-2.7376468181610107,-2.6452431678771973,-1.9526863098144531,-2.0736725330352783,-2.045140504837036,-2.7585320472717285,-2.7932682037353516,-2.902886390686035,-3.098015785217285,-2.7411980628967285,-2.6006288528442383,-3.0025107860565186,-2.7245943546295166,-2.8363568782806396,-1.8225722312927246,-2.48091983795166,-1.507789134979248,-2.7452750205993652,-1.9219177961349487,-2.372541904449463,-2.0873353481292725,-2.6125247478485107,-1.9805550575256348,-2.5863444805145264,-1.2972521781921387,-1.6701507568359375,-2.167571783065796,-1.763555884361267,-1.9666301012039185,-1.98191499710083,-1.7168774604797363,-1.7429176568984985,-2.690955877304077,-2.649336576461792,-2.628453254699707,-3.0660908222198486,-1.7222219705581665,-2.865591526031494,-2.254713535308838,-2.2186942100524902,-2.453325033187866,-2.1674153804779053,-1.6968573331832886,-2.6514060497283936,-2.515380620956421,-2.45387601852417,-2.096135139465332,-2.2795403003692627,-1.4109586477279663,-2.365694522857666,-2.1341845989227295,-2.290189027786255,-2.1593844890594482,-1.6398191452026367,-1.3780763149261475,-2.801949977874756,-2.156153440475464,-1.878187894821167,-1.7039393186569214,-2.1656322479248047,-1.6647214889526367,-1.8012295961380005,-2.902336597442627,-1.8415508270263672,-2.52286696434021,-2.033156633377075,-1.7616435289382935,-1.8192089796066284,-3.0773682594299316,-2.29307222366333,-3.0051677227020264,-1.8789353370666504,-2.0791194438934326,-2.702998399734497,-2.8316457271575928,-1.8267796039581299,-1.658290982246399,-3.1210670471191406,-2.836069345474243,-2.91848087310791,-2.393002986907959,-2.6312918663024902,-3.020167589187622,-2.8322668075561523,-2.2860679626464844,-1.7948046922683716,-2.101760149002075,-1.9017503261566162,-1.7583497762680054,-2.3563802242279053,-2.907487630844116,-2.8332362174987793,-1.8097373247146606,-1.829655408859253,-2.6059210300445557,-2.5267467498779297,-2.040907144546509,-2.8154914379119873,-1.822656512260437,-2.0088469982147217,-2.497666597366333,-1.773990273475647,-2.000887155532837,-2.0335021018981934,-2.426517963409424,-2.2014970779418945,-2.6814095973968506,-1.7970261573791504,-2.758080244064331,-2.6354403495788574,-2.5869014263153076,-1.6812108755111694,-1.4852105379104614,-3.0159358978271484,-2.833597183227539,-2.1050028800964355,-2.841646432876587],\"xaxis\":\"x\",\"y\":[4.735846996307373,8.19866943359375,8.476831436157227,7.288293838500977,9.00588607788086,6.145488739013672,5.877819061279297,5.3887939453125,7.135812282562256,9.954422950744629,5.534919738769531,5.173917770385742,8.246882438659668,6.687168121337891,6.239584922790527,8.985832214355469,6.266416072845459,9.042338371276855,5.642941474914551,7.111428260803223,6.142011642456055,6.711864948272705,7.790508270263672,6.111401557922363,4.742332458496094,4.7285990715026855,7.061381816864014,8.404178619384766,6.767271995544434,4.5054779052734375,8.684731483459473,9.080554008483887,5.615162372589111,8.870945930480957,4.578351020812988,4.127831935882568,8.395125389099121,5.656899452209473,9.294918060302734,8.3038330078125,8.702462196350098,6.6783881187438965,5.760226726531982,6.518616199493408,7.832511901855469,7.198918342590332,8.859583854675293,9.781341552734375,6.041667461395264,7.730563163757324,6.430782794952393,6.366701602935791,7.872894763946533,6.36531400680542,9.563186645507812,6.3408918380737305,5.266319274902344,5.921078681945801,6.705029487609863,5.316127777099609,9.334444999694824,5.432518005371094,8.280851364135742,6.055102825164795,8.895730018615723,8.096526145935059,4.4835944175720215,8.55012321472168,5.363341808319092,4.3356146812438965,7.013987064361572,6.190922260284424,8.228748321533203,6.701594352722168,6.541092872619629,8.26834487915039,6.021991729736328,8.658370971679688,7.348513126373291,6.743958473205566,6.941281795501709,8.726134300231934,6.772330284118652,6.251415252685547,8.136652946472168,7.743600845336914,8.672390937805176,6.868521213531494,8.348421096801758,6.927218914031982,6.508495807647705,8.785024642944336,4.122295379638672,7.043482780456543,9.175666809082031,6.3322649002075195,7.0421295166015625,8.127728462219238,6.1209917068481445,6.143921852111816,8.757577896118164,9.49661922454834,8.650375366210938,4.427162170410156,6.952246189117432,8.63750171661377,7.5187249183654785,4.035406112670898,7.452233791351318,5.12212610244751,3.970085620880127,6.242047309875488,8.049955368041992,6.965086936950684,7.1723504066467285,5.16011381149292,8.45746898651123,9.439275741577148,8.693991661071777,6.969930648803711,6.947656631469727,5.499743461608887,8.978002548217773,4.776772499084473,7.896034240722656,9.397871017456055,6.08941650390625,6.505549907684326,4.7700581550598145,7.223587512969971,8.35434341430664,6.436264514923096,9.015519142150879,8.924859046936035,5.893161773681641,5.297377586364746,7.848001956939697,5.237336158752441,9.814393997192383,8.516641616821289,9.073261260986328,8.615645408630371,6.104267597198486,4.410883903503418,8.365592956542969,6.145862102508545,6.987547874450684,5.182653427124023,6.903067111968994,4.713488578796387,4.414505481719971,8.71280288696289,5.849034309387207,6.693704128265381,6.234074592590332,4.383469104766846,8.830836296081543,6.240688323974609,6.043215751647949,4.971177577972412,9.89622688293457,8.17988395690918,6.62374210357666,6.792561054229736,7.132768630981445,6.893851280212402,6.922198295593262,7.866761684417725,8.755505561828613,8.333224296569824,6.9797749519348145,8.772993087768555,6.146758556365967,9.160258293151855,4.814253807067871,5.8176374435424805,4.5944623947143555,7.355416297912598,5.987947940826416,7.122115135192871,6.240379810333252,8.931632041931152,5.757748603820801,6.25106143951416,5.801793575286865,4.6460862159729,6.913926601409912,5.9664411544799805,5.64074182510376,6.17920446395874,4.148678302764893,4.737211227416992,6.70505952835083,7.267131328582764,8.456708908081055,8.966849327087402,5.281604766845703,7.18182897567749,6.849431037902832,8.43518352508545,8.937679290771484,5.902952194213867,4.44127082824707,6.115176200866699,9.125545501708984,8.737842559814453,6.926402568817139,6.374819278717041,4.222204208374023,7.948679447174072,6.785879611968994,6.9091668128967285,6.312365531921387,4.448825359344482,4.4312262535095215,7.9378485679626465,5.446394443511963,6.811913967132568,5.907785892486572,8.174954414367676,4.607964515686035,6.708532810211182,8.465413093566895,4.884941101074219,8.216604232788086,5.5391035079956055,6.046003341674805,5.23708963394165,8.792909622192383,6.322854518890381,8.590174674987793,6.163411617279053,5.382324695587158,6.628387928009033,9.17071533203125,6.859179973602295,4.0789971351623535,9.985727310180664,7.27219820022583,7.136017799377441,8.628803253173828,8.756853103637695,8.269730567932129,7.221567630767822,5.797534465789795,5.31922721862793,6.199243545532227,5.56003999710083,4.632247447967529,7.11427116394043,8.377874374389648,9.414471626281738,6.376370906829834,6.466883182525635,7.707404613494873,7.804460525512695,6.845500469207764,7.2177252769470215,4.064807415008545,6.665727138519287,8.282777786254883,6.3446044921875,6.860171794891357,5.447078704833984,8.235279083251953,5.665014266967773,9.016697883605957,4.068953037261963,7.439652919769287,8.461247444152832,8.428943634033203,5.093625068664551,6.000839710235596,8.293159484863281,9.878471374511719,6.166224002838135,8.55707836151123],\"yaxis\":\"y\",\"type\":\"scattergl\"},{\"hovertemplate\":\"cluster=cluster 0<br>x=%{x}<br>y=%{y}<extra></extra>\",\"legendgroup\":\"cluster 0\",\"marker\":{\"color\":\"#B6E880\",\"symbol\":\"circle\"},\"mode\":\"markers\",\"name\":\"cluster 0\",\"showlegend\":true,\"x\":[12.67680549621582,12.964801788330078,13.016766548156738,12.365604400634766,13.169793128967285,12.926990509033203,13.49931812286377,12.390934944152832,12.549829483032227,12.548234939575195,13.506139755249023,13.467029571533203,12.780234336853027,12.490111351013184,12.57642650604248,12.3915433883667,12.97353458404541,12.361760139465332,12.658292770385742,12.841121673583984,12.617709159851074,12.392446517944336,12.816282272338867,13.007853507995605,12.997450828552246,12.947590827941895,12.991034507751465,13.024282455444336,13.259990692138672,12.713289260864258,13.189556121826172,12.986678123474121,12.686345100402832,12.737126350402832,12.522835731506348,12.446789741516113,12.699894905090332,12.788979530334473,12.706926345825195,13.093234062194824,12.913719177246094,12.324216842651367,12.705894470214844,12.892589569091797,13.30363941192627,12.948944091796875,13.356529235839844,13.412976264953613,12.832576751708984,12.951190948486328,12.43635368347168,13.488795280456543,13.473350524902344,12.658241271972656,12.940282821655273,12.795848846435547,12.964221000671387,13.431852340698242,13.004730224609375,12.9240083694458,12.549808502197266,13.415010452270508,12.887760162353516,13.46194076538086,12.904386520385742,12.368791580200195,13.528644561767578,12.332473754882812,12.701570510864258,13.483808517456055,12.60733699798584,13.141674041748047,12.707079887390137,12.462657928466797,12.874870300292969,13.322527885437012,12.999366760253906,12.611493110656738,12.778142929077148,12.941826820373535,12.575905799865723,13.019368171691895,13.40706729888916],\"xaxis\":\"x\",\"y\":[5.094979763031006,5.865890979766846,5.808050632476807,4.646270275115967,6.766464710235596,5.599678993225098,7.1860671043396,4.7687249183654785,4.997134208679199,5.013504505157471,7.153406620025635,7.043286323547363,5.565702438354492,4.930523872375488,5.818783760070801,4.842231750488281,6.970107555389404,4.5019612312316895,5.828765392303467,5.958004474639893,5.132473468780518,4.861420154571533,5.347575664520264,6.987165451049805,5.6833295822143555,5.668066501617432,6.0885419845581055,5.989001274108887,6.665035724639893,5.462455749511719,6.80242395401001,6.174005508422852,5.308168888092041,5.427332878112793,5.0463128089904785,4.872786521911621,5.26964807510376,6.061909198760986,5.768989562988281,6.680566310882568,6.90704870223999,4.385204792022705,4.989933013916016,6.02089262008667,7.298934459686279,5.917361259460449,7.003486156463623,7.355432033538818,5.4212422370910645,6.977813243865967,4.893364429473877,7.215288162231445,7.174919605255127,5.128462791442871,6.979618072509766,5.387057781219482,5.618875503540039,7.082651138305664,5.751530647277832,6.7551469802856445,5.191046237945557,7.103939056396484,5.533130645751953,7.118139266967773,5.577258586883545,4.731969356536865,7.241982936859131,4.496007919311523,5.203838348388672,7.165238857269287,5.316799640655518,6.583929538726807,5.525081634521484,4.969672203063965,5.955277442932129,6.930955410003662,5.770810127258301,4.934237003326416,5.8337836265563965,5.7116546630859375,4.999472618103027,6.023617744445801,7.014240741729736],\"yaxis\":\"y\",\"type\":\"scattergl\"},{\"hovertemplate\":\"cluster=cluster 7<br>x=%{x}<br>y=%{y}<extra></extra>\",\"legendgroup\":\"cluster 7\",\"marker\":{\"color\":\"#FF97FF\",\"symbol\":\"circle\"},\"mode\":\"markers\",\"name\":\"cluster 7\",\"showlegend\":true,\"x\":[13.121451377868652,13.215900421142578,13.1544771194458,13.038346290588379,13.249322891235352,13.033068656921387,13.132399559020996,13.189026832580566,13.138192176818848,13.046491622924805,13.145613670349121,13.124937057495117,13.040762901306152,13.095795631408691,13.14443302154541,13.158618927001953,13.131417274475098,13.178117752075195,13.07607650756836,13.019617080688477,13.073677062988281,13.197958946228027,13.056262016296387,13.063508033752441,13.164384841918945,13.208407402038574,13.03725814819336,13.169949531555176,13.209577560424805,13.173530578613281],\"xaxis\":\"x\",\"y\":[10.734342575073242,10.475908279418945,10.685739517211914,10.83795166015625,9.810893058776855,10.854406356811523,10.726495742797852,10.299924850463867,10.589096069335938,10.827136993408203,10.3662691116333,10.733933448791504,10.858563423156738,10.231006622314453,10.342123985290527,10.681854248046875,9.906119346618652,10.565239906311035,10.796000480651855,10.843835830688477,10.22472858428955,10.216378211975098,10.829909324645996,10.697525978088379,10.418856620788574,10.236145973205566,10.843806266784668,10.402629852294922,10.263236999511719,10.326979637145996],\"yaxis\":\"y\",\"type\":\"scattergl\"},{\"hovertemplate\":\"cluster=cluster 3<br>x=%{x}<br>y=%{y}<extra></extra>\",\"legendgroup\":\"cluster 3\",\"marker\":{\"color\":\"#FECB52\",\"symbol\":\"circle\"},\"mode\":\"markers\",\"name\":\"cluster 3\",\"showlegend\":true,\"x\":[12.87668514251709],\"xaxis\":\"x\",\"y\":[10.680303573608398],\"yaxis\":\"y\",\"type\":\"scattergl\"}],                        {\"template\":{\"data\":{\"histogram2dcontour\":[{\"type\":\"histogram2dcontour\",\"colorbar\":{\"outlinewidth\":0,\"ticks\":\"\"},\"colorscale\":[[0.0,\"#0d0887\"],[0.1111111111111111,\"#46039f\"],[0.2222222222222222,\"#7201a8\"],[0.3333333333333333,\"#9c179e\"],[0.4444444444444444,\"#bd3786\"],[0.5555555555555556,\"#d8576b\"],[0.6666666666666666,\"#ed7953\"],[0.7777777777777778,\"#fb9f3a\"],[0.8888888888888888,\"#fdca26\"],[1.0,\"#f0f921\"]]}],\"choropleth\":[{\"type\":\"choropleth\",\"colorbar\":{\"outlinewidth\":0,\"ticks\":\"\"}}],\"histogram2d\":[{\"type\":\"histogram2d\",\"colorbar\":{\"outlinewidth\":0,\"ticks\":\"\"},\"colorscale\":[[0.0,\"#0d0887\"],[0.1111111111111111,\"#46039f\"],[0.2222222222222222,\"#7201a8\"],[0.3333333333333333,\"#9c179e\"],[0.4444444444444444,\"#bd3786\"],[0.5555555555555556,\"#d8576b\"],[0.6666666666666666,\"#ed7953\"],[0.7777777777777778,\"#fb9f3a\"],[0.8888888888888888,\"#fdca26\"],[1.0,\"#f0f921\"]]}],\"heatmap\":[{\"type\":\"heatmap\",\"colorbar\":{\"outlinewidth\":0,\"ticks\":\"\"},\"colorscale\":[[0.0,\"#0d0887\"],[0.1111111111111111,\"#46039f\"],[0.2222222222222222,\"#7201a8\"],[0.3333333333333333,\"#9c179e\"],[0.4444444444444444,\"#bd3786\"],[0.5555555555555556,\"#d8576b\"],[0.6666666666666666,\"#ed7953\"],[0.7777777777777778,\"#fb9f3a\"],[0.8888888888888888,\"#fdca26\"],[1.0,\"#f0f921\"]]}],\"heatmapgl\":[{\"type\":\"heatmapgl\",\"colorbar\":{\"outlinewidth\":0,\"ticks\":\"\"},\"colorscale\":[[0.0,\"#0d0887\"],[0.1111111111111111,\"#46039f\"],[0.2222222222222222,\"#7201a8\"],[0.3333333333333333,\"#9c179e\"],[0.4444444444444444,\"#bd3786\"],[0.5555555555555556,\"#d8576b\"],[0.6666666666666666,\"#ed7953\"],[0.7777777777777778,\"#fb9f3a\"],[0.8888888888888888,\"#fdca26\"],[1.0,\"#f0f921\"]]}],\"contourcarpet\":[{\"type\":\"contourcarpet\",\"colorbar\":{\"outlinewidth\":0,\"ticks\":\"\"}}],\"contour\":[{\"type\":\"contour\",\"colorbar\":{\"outlinewidth\":0,\"ticks\":\"\"},\"colorscale\":[[0.0,\"#0d0887\"],[0.1111111111111111,\"#46039f\"],[0.2222222222222222,\"#7201a8\"],[0.3333333333333333,\"#9c179e\"],[0.4444444444444444,\"#bd3786\"],[0.5555555555555556,\"#d8576b\"],[0.6666666666666666,\"#ed7953\"],[0.7777777777777778,\"#fb9f3a\"],[0.8888888888888888,\"#fdca26\"],[1.0,\"#f0f921\"]]}],\"surface\":[{\"type\":\"surface\",\"colorbar\":{\"outlinewidth\":0,\"ticks\":\"\"},\"colorscale\":[[0.0,\"#0d0887\"],[0.1111111111111111,\"#46039f\"],[0.2222222222222222,\"#7201a8\"],[0.3333333333333333,\"#9c179e\"],[0.4444444444444444,\"#bd3786\"],[0.5555555555555556,\"#d8576b\"],[0.6666666666666666,\"#ed7953\"],[0.7777777777777778,\"#fb9f3a\"],[0.8888888888888888,\"#fdca26\"],[1.0,\"#f0f921\"]]}],\"mesh3d\":[{\"type\":\"mesh3d\",\"colorbar\":{\"outlinewidth\":0,\"ticks\":\"\"}}],\"scatter\":[{\"fillpattern\":{\"fillmode\":\"overlay\",\"size\":10,\"solidity\":0.2},\"type\":\"scatter\"}],\"parcoords\":[{\"type\":\"parcoords\",\"line\":{\"colorbar\":{\"outlinewidth\":0,\"ticks\":\"\"}}}],\"scatterpolargl\":[{\"type\":\"scatterpolargl\",\"marker\":{\"colorbar\":{\"outlinewidth\":0,\"ticks\":\"\"}}}],\"bar\":[{\"error_x\":{\"color\":\"#2a3f5f\"},\"error_y\":{\"color\":\"#2a3f5f\"},\"marker\":{\"line\":{\"color\":\"#E5ECF6\",\"width\":0.5},\"pattern\":{\"fillmode\":\"overlay\",\"size\":10,\"solidity\":0.2}},\"type\":\"bar\"}],\"scattergeo\":[{\"type\":\"scattergeo\",\"marker\":{\"colorbar\":{\"outlinewidth\":0,\"ticks\":\"\"}}}],\"scatterpolar\":[{\"type\":\"scatterpolar\",\"marker\":{\"colorbar\":{\"outlinewidth\":0,\"ticks\":\"\"}}}],\"histogram\":[{\"marker\":{\"pattern\":{\"fillmode\":\"overlay\",\"size\":10,\"solidity\":0.2}},\"type\":\"histogram\"}],\"scattergl\":[{\"type\":\"scattergl\",\"marker\":{\"colorbar\":{\"outlinewidth\":0,\"ticks\":\"\"}}}],\"scatter3d\":[{\"type\":\"scatter3d\",\"line\":{\"colorbar\":{\"outlinewidth\":0,\"ticks\":\"\"}},\"marker\":{\"colorbar\":{\"outlinewidth\":0,\"ticks\":\"\"}}}],\"scattermapbox\":[{\"type\":\"scattermapbox\",\"marker\":{\"colorbar\":{\"outlinewidth\":0,\"ticks\":\"\"}}}],\"scatterternary\":[{\"type\":\"scatterternary\",\"marker\":{\"colorbar\":{\"outlinewidth\":0,\"ticks\":\"\"}}}],\"scattercarpet\":[{\"type\":\"scattercarpet\",\"marker\":{\"colorbar\":{\"outlinewidth\":0,\"ticks\":\"\"}}}],\"carpet\":[{\"aaxis\":{\"endlinecolor\":\"#2a3f5f\",\"gridcolor\":\"white\",\"linecolor\":\"white\",\"minorgridcolor\":\"white\",\"startlinecolor\":\"#2a3f5f\"},\"baxis\":{\"endlinecolor\":\"#2a3f5f\",\"gridcolor\":\"white\",\"linecolor\":\"white\",\"minorgridcolor\":\"white\",\"startlinecolor\":\"#2a3f5f\"},\"type\":\"carpet\"}],\"table\":[{\"cells\":{\"fill\":{\"color\":\"#EBF0F8\"},\"line\":{\"color\":\"white\"}},\"header\":{\"fill\":{\"color\":\"#C8D4E3\"},\"line\":{\"color\":\"white\"}},\"type\":\"table\"}],\"barpolar\":[{\"marker\":{\"line\":{\"color\":\"#E5ECF6\",\"width\":0.5},\"pattern\":{\"fillmode\":\"overlay\",\"size\":10,\"solidity\":0.2}},\"type\":\"barpolar\"}],\"pie\":[{\"automargin\":true,\"type\":\"pie\"}]},\"layout\":{\"autotypenumbers\":\"strict\",\"colorway\":[\"#636efa\",\"#EF553B\",\"#00cc96\",\"#ab63fa\",\"#FFA15A\",\"#19d3f3\",\"#FF6692\",\"#B6E880\",\"#FF97FF\",\"#FECB52\"],\"font\":{\"color\":\"#2a3f5f\"},\"hovermode\":\"closest\",\"hoverlabel\":{\"align\":\"left\"},\"paper_bgcolor\":\"white\",\"plot_bgcolor\":\"#E5ECF6\",\"polar\":{\"bgcolor\":\"#E5ECF6\",\"angularaxis\":{\"gridcolor\":\"white\",\"linecolor\":\"white\",\"ticks\":\"\"},\"radialaxis\":{\"gridcolor\":\"white\",\"linecolor\":\"white\",\"ticks\":\"\"}},\"ternary\":{\"bgcolor\":\"#E5ECF6\",\"aaxis\":{\"gridcolor\":\"white\",\"linecolor\":\"white\",\"ticks\":\"\"},\"baxis\":{\"gridcolor\":\"white\",\"linecolor\":\"white\",\"ticks\":\"\"},\"caxis\":{\"gridcolor\":\"white\",\"linecolor\":\"white\",\"ticks\":\"\"}},\"coloraxis\":{\"colorbar\":{\"outlinewidth\":0,\"ticks\":\"\"}},\"colorscale\":{\"sequential\":[[0.0,\"#0d0887\"],[0.1111111111111111,\"#46039f\"],[0.2222222222222222,\"#7201a8\"],[0.3333333333333333,\"#9c179e\"],[0.4444444444444444,\"#bd3786\"],[0.5555555555555556,\"#d8576b\"],[0.6666666666666666,\"#ed7953\"],[0.7777777777777778,\"#fb9f3a\"],[0.8888888888888888,\"#fdca26\"],[1.0,\"#f0f921\"]],\"sequentialminus\":[[0.0,\"#0d0887\"],[0.1111111111111111,\"#46039f\"],[0.2222222222222222,\"#7201a8\"],[0.3333333333333333,\"#9c179e\"],[0.4444444444444444,\"#bd3786\"],[0.5555555555555556,\"#d8576b\"],[0.6666666666666666,\"#ed7953\"],[0.7777777777777778,\"#fb9f3a\"],[0.8888888888888888,\"#fdca26\"],[1.0,\"#f0f921\"]],\"diverging\":[[0,\"#8e0152\"],[0.1,\"#c51b7d\"],[0.2,\"#de77ae\"],[0.3,\"#f1b6da\"],[0.4,\"#fde0ef\"],[0.5,\"#f7f7f7\"],[0.6,\"#e6f5d0\"],[0.7,\"#b8e186\"],[0.8,\"#7fbc41\"],[0.9,\"#4d9221\"],[1,\"#276419\"]]},\"xaxis\":{\"gridcolor\":\"white\",\"linecolor\":\"white\",\"ticks\":\"\",\"title\":{\"standoff\":15},\"zerolinecolor\":\"white\",\"automargin\":true,\"zerolinewidth\":2},\"yaxis\":{\"gridcolor\":\"white\",\"linecolor\":\"white\",\"ticks\":\"\",\"title\":{\"standoff\":15},\"zerolinecolor\":\"white\",\"automargin\":true,\"zerolinewidth\":2},\"scene\":{\"xaxis\":{\"backgroundcolor\":\"#E5ECF6\",\"gridcolor\":\"white\",\"linecolor\":\"white\",\"showbackground\":true,\"ticks\":\"\",\"zerolinecolor\":\"white\",\"gridwidth\":2},\"yaxis\":{\"backgroundcolor\":\"#E5ECF6\",\"gridcolor\":\"white\",\"linecolor\":\"white\",\"showbackground\":true,\"ticks\":\"\",\"zerolinecolor\":\"white\",\"gridwidth\":2},\"zaxis\":{\"backgroundcolor\":\"#E5ECF6\",\"gridcolor\":\"white\",\"linecolor\":\"white\",\"showbackground\":true,\"ticks\":\"\",\"zerolinecolor\":\"white\",\"gridwidth\":2}},\"shapedefaults\":{\"line\":{\"color\":\"#2a3f5f\"}},\"annotationdefaults\":{\"arrowcolor\":\"#2a3f5f\",\"arrowhead\":0,\"arrowwidth\":1},\"geo\":{\"bgcolor\":\"white\",\"landcolor\":\"#E5ECF6\",\"subunitcolor\":\"white\",\"showland\":true,\"showlakes\":true,\"lakecolor\":\"white\"},\"title\":{\"x\":0.05},\"mapbox\":{\"style\":\"light\"}}},\"xaxis\":{\"anchor\":\"y\",\"domain\":[0.0,1.0],\"title\":{\"text\":\"x\"}},\"yaxis\":{\"anchor\":\"x\",\"domain\":[0.0,1.0],\"title\":{\"text\":\"y\"}},\"legend\":{\"title\":{\"text\":\"cluster\"},\"tracegroupgap\":0},\"title\":{\"text\":\"word embedding samples\"}},                        {\"responsive\": true}                    ).then(function(){\n",
              "                            \n",
              "var gd = document.getElementById('b72417db-b1cd-4d92-aff8-e1aabb5a28cd');\n",
              "var x = new MutationObserver(function (mutations, observer) {{\n",
              "        var display = window.getComputedStyle(gd).display;\n",
              "        if (!display || display === 'none') {{\n",
              "            console.log([gd, 'removed!']);\n",
              "            Plotly.purge(gd);\n",
              "            observer.disconnect();\n",
              "        }}\n",
              "}});\n",
              "\n",
              "// Listen for the removal of the full notebook cells\n",
              "var notebookContainer = gd.closest('#notebook-container');\n",
              "if (notebookContainer) {{\n",
              "    x.observe(notebookContainer, {childList: true});\n",
              "}}\n",
              "\n",
              "// Listen for the clearing of the current output cell\n",
              "var outputEl = gd.closest('.output');\n",
              "if (outputEl) {{\n",
              "    x.observe(outputEl, {childList: true});\n",
              "}}\n",
              "\n",
              "                        })                };                            </script>        </div>\n",
              "</body>\n",
              "</html>"
            ]
          },
          "metadata": {}
        },
        {
          "output_type": "execute_result",
          "data": {
            "text/plain": [
              "True"
            ]
          },
          "metadata": {},
          "execution_count": 14
        }
      ],
      "source": [
        "from src.embedding import WordEmbeddingCreator\n",
        "from pathlib import Path\n",
        "\n",
        "save_path = Path.joinpath(Path.cwd(), f'prepared_data/min_df_{min_df}')\n",
        "figures_path = Path.joinpath(Path.cwd(), f'figures/min_df_{min_df}')\n",
        "Path(figures_path).mkdir(parents=True, exist_ok=True)\n",
        "\n",
        "wb_creator = WordEmbeddingCreator(model_name=\"cbow\", documents = docs_tr, save_path= save_path)\n",
        "wb_creator.train(min_count=0, embedding_size= 10)\n",
        "vocab = list(word2id.keys())\n",
        "wb_creator.create_and_save_vocab_embedding(vocab, save_path)\n",
        "wb_creator.cluster_words(save_path, figures_path, n_components=2, text = False)"
      ]
    },
    {
      "cell_type": "code",
      "execution_count": 15,
      "metadata": {
        "colab": {
          "base_uri": "https://localhost:8080/"
        },
        "id": "f23xipx7MSV4",
        "outputId": "4a821940-0466-47c1-c32d-bcfb6aa71717"
      },
      "outputs": [
        {
          "output_type": "stream",
          "name": "stdout",
          "text": [
            "word-embedding of the word-- james: \n",
            "vector: [0.4450819, 0.38933128, -0.7875455, 0.22560833, 0.23907727, 1.3405247, 0.46859565, 0.39047703, -0.6983147, 0.0925]\n",
            "dim of vector: 10\n"
          ]
        }
      ],
      "source": [
        "v = list(wb_creator.model.wv.vocab)[0]\n",
        "vec = list(wb_creator.model.wv.__getitem__(v))\n",
        "print(f'word-embedding of the word-- {v}: ')\n",
        "print(f'vector: {vec}')\n",
        "print(f'dim of vector: {len(vec)}')"
      ]
    },
    {
      "cell_type": "markdown",
      "metadata": {
        "id": "l53_jkUS-hl-"
      },
      "source": [
        "# **Word-Embeddings visualieren als Beispiel**\n"
      ]
    },
    {
      "cell_type": "code",
      "execution_count": 16,
      "metadata": {
        "id": "o96LsIWkNrZS",
        "outputId": "d2890b06-b574-4fdb-e7da-afcbf7a89748",
        "colab": {
          "base_uri": "https://localhost:8080/",
          "height": 122
        }
      },
      "outputs": [
        {
          "output_type": "execute_result",
          "data": {
            "text/plain": [
              "'\\n# read word-embedding files\\nwith open(save_path) as f:\\n  lines = f.readlines()\\nembedding_data = []\\nwords_data = []\\nfor t in lines:\\n  w = t.split(\"\\t\")[0]\\n  v = [float(e) for e in t.split(\"\\t\")[1].split(\" \")]\\n  words_data.append(w)\\n  embedding_data.append(v)\\n\\n# clustering words with KMeans and Words-Vectors\\nkmeans = cluster.KMeans(n_clusters=10)\\nkmeans.fit(embedding_data)\\n \\nlabels = kmeans.labels_\\ncentroids = kmeans.cluster_centers_\\n \\nprint (\"Cluster id labels for inputted data\")\\nprint (labels)\\n#print (\"Centroids data\")\\n#print (centroids)\\n\\n\\n# dimension reduction with umap\\nstart = time.time()\\nreducer = umap.UMAP(random_state=42,n_components=3)\\nembedding = reducer.fit_transform(embedding_data)\\nprint(\\'Duration: {} seconds\\'.format(time.time() - start))\\n\\n# show samples after dim-reduction in dataframe\\nwb = pd.DataFrame(embedding, columns=[\\'x\\', \\'y\\', \\'z\\'])\\nwb[\\'word\\'] = words_data\\nwb[\\'cluster\\'] = [\\'cluster \\' + str(c) for c in labels]\\n\\n# visualization\\nfig = px.scatter_3d(wb, \\n                    text = wb[\\'word\\'],\\n                    x=\\'x\\', y=\\'y\\', z=\\'z\\',\\n                    color = wb[\\'cluster\\'],\\n                    title =\"word-embedding-samples\")\\nfig.show()\\n'"
            ],
            "application/vnd.google.colaboratory.intrinsic+json": {
              "type": "string"
            }
          },
          "metadata": {},
          "execution_count": 16
        }
      ],
      "source": [
        "\"\"\"\n",
        "# read word-embedding files\n",
        "with open(save_path) as f:\n",
        "  lines = f.readlines()\n",
        "embedding_data = []\n",
        "words_data = []\n",
        "for t in lines:\n",
        "  w = t.split(\"\\t\")[0]\n",
        "  v = [float(e) for e in t.split(\"\\t\")[1].split(\" \")]\n",
        "  words_data.append(w)\n",
        "  embedding_data.append(v)\n",
        "\n",
        "# clustering words with KMeans and Words-Vectors\n",
        "kmeans = cluster.KMeans(n_clusters=10)\n",
        "kmeans.fit(embedding_data)\n",
        " \n",
        "labels = kmeans.labels_\n",
        "centroids = kmeans.cluster_centers_\n",
        " \n",
        "print (\"Cluster id labels for inputted data\")\n",
        "print (labels)\n",
        "#print (\"Centroids data\")\n",
        "#print (centroids)\n",
        "\n",
        "\n",
        "# dimension reduction with umap\n",
        "start = time.time()\n",
        "reducer = umap.UMAP(random_state=42,n_components=3)\n",
        "embedding = reducer.fit_transform(embedding_data)\n",
        "print('Duration: {} seconds'.format(time.time() - start))\n",
        "\n",
        "# show samples after dim-reduction in dataframe\n",
        "wb = pd.DataFrame(embedding, columns=['x', 'y', 'z'])\n",
        "wb['word'] = words_data\n",
        "wb['cluster'] = ['cluster ' + str(c) for c in labels]\n",
        "\n",
        "# visualization\n",
        "fig = px.scatter_3d(wb, \n",
        "                    text = wb['word'],\n",
        "                    x='x', y='y', z='z',\n",
        "                    color = wb['cluster'],\n",
        "                    title =\"word-embedding-samples\")\n",
        "fig.show()\n",
        "\"\"\""
      ]
    },
    {
      "cell_type": "markdown",
      "metadata": {
        "id": "P9jSI12r9zqu"
      },
      "source": [
        "# **ETM Model**\n",
        "\n",
        "ETM hat die Architektur eines Variational Autoencoders. \n",
        "ETM wird mit den pretrainierten Embedding kombiniert. Die Embeddings für Topics werden als Gewichten eines Teiles des Netzes aktualiert mittels der ELBO Loss\n",
        "\n",
        "![ETM.drawio.png](data:image/png;base64,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)"
      ]
    },
    {
      "cell_type": "code",
      "execution_count": 17,
      "metadata": {
        "colab": {
          "base_uri": "https://localhost:8080/"
        },
        "id": "fwiU9zWCIUh_",
        "outputId": "6afde7c4-bf5e-4400-bf34-e1b8d1415428"
      },
      "outputs": [
        {
          "output_type": "stream",
          "name": "stdout",
          "text": [
            "number train-samples: 619\n",
            "sum of sample vector: 1.0\n",
            "length of sample vector: 0.14657549560070038\n"
          ]
        }
      ],
      "source": [
        "# using DocSet to use easier the modul DataSet from torch\n",
        "from src.train_etm import DocSet, TrainETM\n",
        "from src.etm import ETM\n",
        "import torch\n",
        "\n",
        "vocab_size = len(list(word2id.keys()))\n",
        "tr_set = DocSet(\"train\", vocab_size, train_set, normalize_data=True)\n",
        "print(f'number train-samples: {len(tr_set)}')\n",
        "print(f'sum of sample vector: {sum(tr_set.__getitem__(0))}')\n",
        "print(f'length of sample vector: {torch.norm(tr_set.__getitem__(0))}')"
      ]
    },
    {
      "cell_type": "markdown",
      "source": [
        "**Trainingsparametern vorbereiten**\n",
        "\n",
        "\n"
      ],
      "metadata": {
        "id": "U4Z-7za3VYOv"
      }
    },
    {
      "cell_type": "code",
      "source": [
        "class TrainArguments:\n",
        "      def __init__(self, epochs, batch_size, log_interval):\n",
        "          self.epochs = epochs\n",
        "          self.batch_size = batch_size\n",
        "          self.log_interval = log_interval\n",
        "\n",
        "class OptimizerArguments:\n",
        "      def __init__(self, optimizer_name, lr, wdecay):\n",
        "            self.optimizer = optimizer_name\n",
        "            self.lr = lr\n",
        "            self.wdecay = wdecay\n",
        "            \n",
        "train_args = TrainArguments(epochs=100, batch_size=6, log_interval=None)\n",
        "optimizer_args = OptimizerArguments(optimizer_name=\"adam\", lr=0.001, wdecay=0.1)\n",
        "print(train_args.epochs)\n",
        "print(optimizer_args.optimizer)\n",
        "\n",
        "from src.embedding import read_prefitted_embedding\n",
        "embedding_data = read_prefitted_embedding(vocab, save_path)\n",
        "num_topics = 5\n",
        "t_hidden_size = 100\n",
        "rho_size = len(embedding_data[0])\n",
        "emb_size = len(embedding_data[0])\n",
        "theta_act = \"tanh\""
      ],
      "metadata": {
        "colab": {
          "base_uri": "https://localhost:8080/"
        },
        "id": "oPKPTWbZVWuT",
        "outputId": "53c57d5e-00f6-425e-c46a-1ba2d548d599"
      },
      "execution_count": 18,
      "outputs": [
        {
          "output_type": "stream",
          "name": "stdout",
          "text": [
            "100\n",
            "adam\n"
          ]
        }
      ]
    },
    {
      "cell_type": "markdown",
      "source": [
        "**ETM initialisieren**"
      ],
      "metadata": {
        "id": "WjO6yHpgVljt"
      }
    },
    {
      "cell_type": "code",
      "source": [
        "# define the ETM-model with setting-parameters\n",
        "etm_model = ETM(\n",
        "      num_topics, \n",
        "      vocab_size, \n",
        "      t_hidden_size, rho_size, emb_size, theta_act, \n",
        "      embedding_data, \n",
        "      enc_drop=0.5)\n",
        "\n",
        "print(etm_model)"
      ],
      "metadata": {
        "colab": {
          "base_uri": "https://localhost:8080/"
        },
        "id": "IJ70hPX3VlOF",
        "outputId": "a23c0638-7a23-47df-8e3c-a4f719ad2b0b"
      },
      "execution_count": 19,
      "outputs": [
        {
          "output_type": "stream",
          "name": "stdout",
          "text": [
            "ETM(\n",
            "  (t_drop): Dropout(p=0.5, inplace=False)\n",
            "  (theta_act): Tanh()\n",
            "  (topic_embeddings_alphas): Linear(in_features=10, out_features=5, bias=False)\n",
            "  (q_theta): Sequential(\n",
            "    (0): Linear(in_features=1266, out_features=100, bias=True)\n",
            "    (1): Tanh()\n",
            "    (2): Linear(in_features=100, out_features=100, bias=True)\n",
            "    (3): Tanh()\n",
            "  )\n",
            "  (mu_q_theta): Linear(in_features=100, out_features=5, bias=True)\n",
            "  (logsigma_q_theta): Linear(in_features=100, out_features=5, bias=True)\n",
            ")\n"
          ]
        }
      ]
    },
    {
      "cell_type": "markdown",
      "source": [
        "**trainieren**"
      ],
      "metadata": {
        "id": "gSPGu9NNV1_n"
      }
    },
    {
      "cell_type": "code",
      "execution_count": 20,
      "metadata": {
        "colab": {
          "base_uri": "https://localhost:8080/",
          "height": 1000
        },
        "id": "kbJIWLZpJRnG",
        "outputId": "8ca2e6f4-7252-4c99-db45-15f7a8fb2cb2"
      },
      "outputs": [
        {
          "output_type": "stream",
          "name": "stdout",
          "text": [
            "number of batches: 103\n",
            "Epoch: 1/100  -  Loss: 7.06875 \t Rec: 7.06593 \t KL: 0.00282\n",
            "Epoch: 2/100  -  Loss: 6.98901 \t Rec: 6.98851 \t KL: 0.0005\n",
            "Epoch: 3/100  -  Loss: 6.94449 \t Rec: 6.94417 \t KL: 0.00032\n",
            "Epoch: 4/100  -  Loss: 6.92798 \t Rec: 6.9278 \t KL: 0.00018\n",
            "Epoch: 5/100  -  Loss: 6.91552 \t Rec: 6.91544 \t KL: 9e-05\n",
            "Epoch: 6/100  -  Loss: 6.90756 \t Rec: 6.90751 \t KL: 5e-05\n",
            "Epoch: 7/100  -  Loss: 6.90359 \t Rec: 6.90356 \t KL: 3e-05\n",
            "Epoch: 8/100  -  Loss: 6.90112 \t Rec: 6.9011 \t KL: 1e-05\n",
            "Epoch: 9/100  -  Loss: 6.8996 \t Rec: 6.89959 \t KL: 1e-05\n",
            "Epoch: 10/100  -  Loss: 6.89908 \t Rec: 6.89907 \t KL: 0.0\n",
            "Epoch: 11/100  -  Loss: 6.89858 \t Rec: 6.89857 \t KL: 0.0\n",
            "Epoch: 12/100  -  Loss: 6.89763 \t Rec: 6.89763 \t KL: 0.0\n",
            "Epoch: 13/100  -  Loss: 6.89754 \t Rec: 6.89754 \t KL: 0.0\n",
            "Epoch: 14/100  -  Loss: 6.89712 \t Rec: 6.89712 \t KL: 0.0\n",
            "Epoch: 15/100  -  Loss: 6.89775 \t Rec: 6.89774 \t KL: 0.0\n",
            "Epoch: 16/100  -  Loss: 6.89767 \t Rec: 6.89767 \t KL: 0.0\n",
            "Epoch: 17/100  -  Loss: 6.89744 \t Rec: 6.89744 \t KL: 0.0\n",
            "Epoch: 18/100  -  Loss: 6.89782 \t Rec: 6.89782 \t KL: 0.0\n",
            "Epoch: 19/100  -  Loss: 6.89753 \t Rec: 6.89753 \t KL: 0.0\n",
            "Epoch: 20/100  -  Loss: 6.89744 \t Rec: 6.89744 \t KL: 0.0\n",
            "Epoch: 21/100  -  Loss: 6.89768 \t Rec: 6.89768 \t KL: 0.0\n",
            "Epoch: 22/100  -  Loss: 6.89695 \t Rec: 6.89694 \t KL: 0.0\n",
            "Epoch: 23/100  -  Loss: 6.89732 \t Rec: 6.89732 \t KL: 0.0\n",
            "Epoch: 24/100  -  Loss: 6.89805 \t Rec: 6.89805 \t KL: 0.0\n",
            "Epoch: 25/100  -  Loss: 6.89716 \t Rec: 6.89715 \t KL: 0.0\n",
            "Epoch: 26/100  -  Loss: 6.89732 \t Rec: 6.89731 \t KL: 0.0\n",
            "Epoch: 27/100  -  Loss: 6.8975 \t Rec: 6.8975 \t KL: 0.0\n",
            "Epoch: 28/100  -  Loss: 6.8972 \t Rec: 6.8972 \t KL: 0.0\n",
            "Epoch: 29/100  -  Loss: 6.89739 \t Rec: 6.89739 \t KL: 0.0\n",
            "Epoch: 30/100  -  Loss: 6.89625 \t Rec: 6.89625 \t KL: 0.0\n",
            "Epoch: 31/100  -  Loss: 6.89819 \t Rec: 6.89819 \t KL: 0.0\n",
            "Epoch: 32/100  -  Loss: 6.89709 \t Rec: 6.89708 \t KL: 0.0\n",
            "Epoch: 33/100  -  Loss: 6.89782 \t Rec: 6.89782 \t KL: 0.0\n",
            "Epoch: 34/100  -  Loss: 6.89676 \t Rec: 6.89676 \t KL: 0.0\n",
            "Epoch: 35/100  -  Loss: 6.8984 \t Rec: 6.8984 \t KL: 0.0\n",
            "Epoch: 36/100  -  Loss: 6.89743 \t Rec: 6.89743 \t KL: 0.0\n",
            "Epoch: 37/100  -  Loss: 6.89705 \t Rec: 6.89705 \t KL: 0.0\n",
            "Epoch: 38/100  -  Loss: 6.89753 \t Rec: 6.89753 \t KL: 0.0\n",
            "Epoch: 39/100  -  Loss: 6.8966 \t Rec: 6.8966 \t KL: 0.0\n",
            "Epoch: 40/100  -  Loss: 6.89732 \t Rec: 6.89732 \t KL: 0.0\n",
            "Epoch: 41/100  -  Loss: 6.89722 \t Rec: 6.89722 \t KL: 0.0\n",
            "Epoch: 42/100  -  Loss: 6.8978 \t Rec: 6.8978 \t KL: 0.0\n",
            "Epoch: 43/100  -  Loss: 6.89681 \t Rec: 6.89681 \t KL: 0.0\n",
            "Epoch: 44/100  -  Loss: 6.8975 \t Rec: 6.8975 \t KL: 0.0\n",
            "Epoch: 45/100  -  Loss: 6.89714 \t Rec: 6.89713 \t KL: 0.0\n",
            "Epoch: 46/100  -  Loss: 6.89766 \t Rec: 6.89766 \t KL: 0.0\n",
            "Epoch: 47/100  -  Loss: 6.8968 \t Rec: 6.8968 \t KL: 0.0\n",
            "Epoch: 48/100  -  Loss: 6.89814 \t Rec: 6.89814 \t KL: 0.0\n",
            "Epoch: 49/100  -  Loss: 6.89663 \t Rec: 6.89663 \t KL: 0.0\n",
            "Epoch: 50/100  -  Loss: 6.89738 \t Rec: 6.89738 \t KL: 0.0\n",
            "Epoch: 51/100  -  Loss: 6.89735 \t Rec: 6.89735 \t KL: 0.0\n",
            "Epoch: 52/100  -  Loss: 6.89743 \t Rec: 6.89743 \t KL: 0.0\n",
            "Epoch: 53/100  -  Loss: 6.89824 \t Rec: 6.89824 \t KL: 0.0\n",
            "Epoch: 54/100  -  Loss: 6.89619 \t Rec: 6.89619 \t KL: 0.0\n",
            "Epoch: 55/100  -  Loss: 6.89721 \t Rec: 6.8972 \t KL: 0.0\n",
            "Epoch: 56/100  -  Loss: 6.89704 \t Rec: 6.89703 \t KL: 0.0\n",
            "Epoch: 57/100  -  Loss: 6.89688 \t Rec: 6.89688 \t KL: 0.0\n",
            "Epoch: 58/100  -  Loss: 6.89787 \t Rec: 6.89787 \t KL: 0.0\n",
            "Epoch: 59/100  -  Loss: 6.89739 \t Rec: 6.89739 \t KL: 0.0\n",
            "Epoch: 60/100  -  Loss: 6.89778 \t Rec: 6.89777 \t KL: 0.0\n",
            "Epoch: 61/100  -  Loss: 6.89654 \t Rec: 6.89654 \t KL: 0.0\n",
            "Epoch: 62/100  -  Loss: 6.89771 \t Rec: 6.89771 \t KL: 0.0\n",
            "Epoch: 63/100  -  Loss: 6.89747 \t Rec: 6.89747 \t KL: 0.0\n",
            "Epoch: 64/100  -  Loss: 6.89676 \t Rec: 6.89676 \t KL: 0.0\n",
            "Epoch: 65/100  -  Loss: 6.89662 \t Rec: 6.89662 \t KL: 0.0\n",
            "Epoch: 66/100  -  Loss: 6.89769 \t Rec: 6.89769 \t KL: 0.0\n",
            "Epoch: 67/100  -  Loss: 6.89704 \t Rec: 6.89704 \t KL: 0.0\n",
            "Epoch: 68/100  -  Loss: 6.89779 \t Rec: 6.89779 \t KL: 0.0\n",
            "Epoch: 69/100  -  Loss: 6.89797 \t Rec: 6.89797 \t KL: 0.0\n",
            "Epoch: 70/100  -  Loss: 6.89622 \t Rec: 6.89622 \t KL: 0.0\n",
            "Epoch: 71/100  -  Loss: 6.89737 \t Rec: 6.89737 \t KL: 0.0\n",
            "Epoch: 72/100  -  Loss: 6.89717 \t Rec: 6.89716 \t KL: 0.0\n",
            "Epoch: 73/100  -  Loss: 6.89757 \t Rec: 6.89757 \t KL: 0.0\n",
            "Epoch: 74/100  -  Loss: 6.89711 \t Rec: 6.89711 \t KL: 0.0\n",
            "Epoch: 75/100  -  Loss: 6.89834 \t Rec: 6.89834 \t KL: 0.0\n",
            "Epoch: 76/100  -  Loss: 6.89697 \t Rec: 6.89697 \t KL: 0.0\n",
            "Epoch: 77/100  -  Loss: 6.89711 \t Rec: 6.89711 \t KL: 0.0\n",
            "Epoch: 78/100  -  Loss: 6.89737 \t Rec: 6.89737 \t KL: 0.0\n",
            "Epoch: 79/100  -  Loss: 6.897 \t Rec: 6.897 \t KL: 0.0\n",
            "Epoch: 80/100  -  Loss: 6.89696 \t Rec: 6.89696 \t KL: 0.0\n",
            "Epoch: 81/100  -  Loss: 6.89805 \t Rec: 6.89805 \t KL: 0.0\n",
            "Epoch: 82/100  -  Loss: 6.89721 \t Rec: 6.89721 \t KL: 0.0\n",
            "Epoch: 83/100  -  Loss: 6.89673 \t Rec: 6.89673 \t KL: 0.0\n",
            "Epoch: 84/100  -  Loss: 6.89769 \t Rec: 6.89769 \t KL: 0.0\n",
            "Epoch: 85/100  -  Loss: 6.89782 \t Rec: 6.89782 \t KL: 0.0\n",
            "Epoch: 86/100  -  Loss: 6.89746 \t Rec: 6.89746 \t KL: 0.0\n",
            "Epoch: 87/100  -  Loss: 6.89759 \t Rec: 6.89759 \t KL: 0.0\n",
            "Epoch: 88/100  -  Loss: 6.89687 \t Rec: 6.89687 \t KL: 0.0\n",
            "Epoch: 89/100  -  Loss: 6.89745 \t Rec: 6.89745 \t KL: 0.0\n",
            "Epoch: 90/100  -  Loss: 6.89668 \t Rec: 6.89667 \t KL: 0.0\n",
            "Epoch: 91/100  -  Loss: 6.89855 \t Rec: 6.89855 \t KL: 0.0\n",
            "Epoch: 92/100  -  Loss: 6.89664 \t Rec: 6.89664 \t KL: 0.0\n",
            "Epoch: 93/100  -  Loss: 6.89774 \t Rec: 6.89774 \t KL: 0.0\n",
            "Epoch: 94/100  -  Loss: 6.89744 \t Rec: 6.89744 \t KL: 0.0\n",
            "Epoch: 95/100  -  Loss: 6.89727 \t Rec: 6.89727 \t KL: 0.0\n",
            "Epoch: 96/100  -  Loss: 6.89709 \t Rec: 6.89709 \t KL: 0.0\n",
            "Epoch: 97/100  -  Loss: 6.89748 \t Rec: 6.89748 \t KL: 0.0\n",
            "Epoch: 98/100  -  Loss: 6.89752 \t Rec: 6.89752 \t KL: 0.0\n",
            "Epoch: 99/100  -  Loss: 6.89687 \t Rec: 6.89687 \t KL: 0.0\n",
            "Epoch: 100/100  -  Loss: 6.89796 \t Rec: 6.89796 \t KL: 0.0\n",
            "Checkpoint saved at checkpoints/etm_epoch_100.pth.tar\n"
          ]
        },
        {
          "output_type": "display_data",
          "data": {
            "text/plain": [
              "<Figure size 432x288 with 1 Axes>"
            ],
            "image/png": "[encoded data removed]"
          },
          "metadata": {
            "needs_background": "light"
          }
        },
        {
          "output_type": "display_data",
          "data": {
            "text/plain": [
              "<Figure size 432x288 with 1 Axes>"
            ],
            "image/png": "[encoded data removed]"
          },
          "metadata": {
            "needs_background": "light"
          }
        },
        {
          "output_type": "stream",
          "name": "stdout",
          "text": [
            "tensor([0.0008, 0.0017, 0.0005,  ..., 0.0004, 0.0005, 0.0006], device='cuda:0')\n",
            "tensor(1., device='cuda:0')\n",
            "[('people', 0.0030489342752844095), ('max', 0.002842738525941968), ('make', 0.0028242929838597775), ('time', 0.002808508463203907), ('armenian', 0.002486094832420349), ('good', 0.0024826214648783207), ('years', 0.0024712583981454372), ('made', 0.0023917886428534985), ('point', 0.002356072189286351), ('thing', 0.002269457094371319), ('bit', 0.002261286834254861), ('fact', 0.0022500264458358288), ('find', 0.002242985414341092), ('university', 0.0022178548388183117), ('problem', 0.002212841995060444), ('things', 0.0022048456594347954), ('writes', 0.0021626350935548544), ('back', 0.0021573519334197044), ('government', 0.0021526182536035776), ('state', 0.0021334816701710224)]\n",
            "[('people', 0.0031000208109617233), ('max', 0.003097032429650426), ('make', 0.002868108218535781), ('time', 0.0028534983284771442), ('armenian', 0.0025178613141179085), ('good', 0.0025176384951919317), ('years', 0.0025054290890693665), ('made', 0.002424640115350485), ('point', 0.0023883699905127287), ('thing', 0.0023005465045571327), ('bit', 0.002290300326421857), ('fact', 0.002280169865116477), ('find', 0.0022712841164320707), ('university', 0.0022447279188781977), ('problem', 0.0022399926092475653), ('things', 0.0022315778769552708), ('writes', 0.0021884848829358816), ('back', 0.00218206481076777), ('government', 0.002177425427362323), ('state', 0.0021578678861260414)]\n",
            "[('people', 0.00310294097289443), ('max', 0.0030761747620999813), ('make', 0.0028716109227389097), ('time', 0.0028561679646372795), ('armenian', 0.0025210336316376925), ('good', 0.002520065987482667), ('years', 0.002507452154532075), ('made', 0.002426822204142809), ('point', 0.00239003449678421), ('thing', 0.0023024927359074354), ('bit', 0.002292191842570901), ('fact', 0.0022819447331130505), ('find', 0.002272918587550521), ('university', 0.002247278578579426), ('problem', 0.0022416776046156883), ('things', 0.002233705949038267), ('writes', 0.002190460218116641), ('back', 0.00218446203507483), ('government', 0.002179404953494668), ('state', 0.002160416217520833)]\n",
            "[('max', 0.0032146978192031384), ('people', 0.0030115481931716204), ('make', 0.002793450839817524), ('time', 0.0027786593418568373), ('good', 0.002459281124174595), ('armenian', 0.00245605013333261), ('years', 0.0024449701886624098), ('made', 0.0023686522617936134), ('point', 0.0023355965968221426), ('thing', 0.0022525480017066), ('bit', 0.002240213565528393), ('fact', 0.002233663108199835), ('find', 0.0022222816478461027), ('university', 0.0021946635097265244), ('problem', 0.002192156156525016), ('things', 0.00218400452286005), ('writes', 0.0021414621733129025), ('back', 0.0021372924093157053), ('government', 0.002131751039996743), ('state', 0.0021145641803741455)]\n",
            "[('max', 0.0032392169814556837), ('people', 0.003134504659101367), ('make', 0.0029012688901275396), ('time', 0.002885589376091957), ('good', 0.002542948117479682), ('armenian', 0.0025427306536585093), ('years', 0.0025296304374933243), ('made', 0.0024486577603965998), ('point', 0.002410563174635172), ('thing', 0.002322516171261668), ('bit', 0.0023110550828278065), ('fact', 0.0023006764240562916), ('find', 0.002291338751092553), ('university', 0.002269181190058589), ('problem', 0.002258612308651209), ('things', 0.0022508096881210804), ('writes', 0.002210939070209861), ('back', 0.0022011869587004185), ('government', 0.0021957666613161564), ('state', 0.0021787318401038647)]\n",
            "torch.Size([1266, 10])\n",
            "torch.Size([5, 10])\n",
            "Duration: 5.907252788543701 seconds\n"
          ]
        },
        {
          "output_type": "display_data",
          "data": {
            "text/html": [
              "<html>\n",
              "<head><meta charset=\"utf-8\" /></head>\n",
              "<body>\n",
              "    <div>            <script src=\"https://cdnjs.cloudflare.com/ajax/libs/mathjax/2.7.5/MathJax.js?config=TeX-AMS-MML_SVG\"></script><script type=\"text/javascript\">if (window.MathJax) {MathJax.Hub.Config({SVG: {font: \"STIX-Web\"}});}</script>                <script type=\"text/javascript\">window.PlotlyConfig = {MathJaxConfig: 'local'};</script>\n",
              "        <script src=\"https://cdn.plot.ly/plotly-2.11.1.min.js\"></script>                <div id=\"e97d03d9-ae95-4f6b-b5a8-2d4b6ac73ce3\" class=\"plotly-graph-div\" style=\"height:525px; width:100%;\"></div>            <script type=\"text/javascript\">                                    window.PLOTLYENV=window.PLOTLYENV || {};                                    if (document.getElementById(\"e97d03d9-ae95-4f6b-b5a8-2d4b6ac73ce3\")) {                    Plotly.newPlot(                        \"e97d03d9-ae95-4f6b-b5a8-2d4b6ac73ce3\",                        [{\"hovertemplate\":\"cluster=cluster 9<br>x=%{x}<br>y=%{y}<extra></extra>\",\"legendgroup\":\"cluster 9\",\"marker\":{\"color\":\"#636efa\",\"symbol\":\"circle\"},\"mode\":\"markers\",\"name\":\"cluster 9\",\"showlegend\":true,\"x\":[1.3916268348693848,-0.622273862361908,0.6162592172622681,1.103784441947937,-0.8675659894943237,-0.17931164801120758,-0.8471011519432068,-1.058887004852295,0.5799883008003235,1.4850491285324097,-1.0328391790390015,0.2782423198223114,-0.20596051216125488,-0.35096898674964905,0.44412553310394287,-1.3110891580581665,-0.7923083305358887,-0.8175778388977051,0.9492924213409424,1.0786842107772827,1.7413281202316284,-1.2576621770858765,-1.052938461303711,0.8874177932739258,-1.0670006275177002,-1.0991228818893433,0.8941113948822021,-0.9279818534851074,0.8363850116729736,-0.43320709466934204,1.2797363996505737,0.4976971745491028,-1.039674162864685,-0.6393449306488037,1.7348941564559937,0.9859477877616882,-1.1280746459960938,0.7965530753135681,-0.3668956160545349,1.7149516344070435,-1.3937759399414062,1.0236998796463013,-1.1913330554962158,-0.07092615962028503,0.8462304472923279,-0.8748711943626404,-0.575808584690094,1.1941050291061401,-0.9466512203216553,0.9504452347755432,-0.8377238512039185,1.0914688110351562,-0.31577205657958984,0.5643470287322998,1.73503577709198,-1.0505276918411255,0.7833148241043091,-0.9849274158477783,-0.18642579019069672,-0.6297811269760132,-1.1737277507781982,1.062251091003418,-0.610894501209259,0.6654077768325806,0.18163824081420898,-0.7786990404129028,-0.9729093909263611,-1.125765085220337,-0.525059700012207,-1.1250582933425903,0.8243802785873413,-0.1677880436182022,1.8466389179229736,-0.4913164973258972,1.4282282590866089,-1.4302473068237305,0.7074156999588013,-1.264866590499878,-0.8305101990699768,1.4364702701568604,0.7724435925483704,0.9366946220397949,-1.1788427829742432,0.43549472093582153,0.3978847861289978,2.274214744567871,0.9506701827049255,-0.6650007367134094,-0.8922377824783325,1.7149665355682373,-0.9980198740959167,-0.6738361716270447,0.4650011956691742,-0.8100800514221191,-1.1858241558074951,0.8130831718444824,-0.37988054752349854,-1.0817830562591553,-1.2029365301132202,1.4189326763153076,0.7785577178001404,-2.2687525749206543,-0.5896552801132202,-0.05485159903764725,-0.7964155077934265,-0.5284011960029602,-0.9417400360107422,1.205689549446106,0.8454232215881348,1.7885568141937256,0.9179841876029968,-1.2339198589324951,1.1934338808059692,-0.9872893691062927,0.9143076539039612,0.9167378544807434,1.4891525506973267,-0.9231486320495605,-1.1703031063079834,-0.27016207575798035,2.045339345932007,-1.4142323732376099,-0.9854746460914612,1.4596190452575684,-0.9089926481246948,-0.43841418623924255,1.0841690301895142,1.6112607717514038,-0.4394097626209259,-0.42292213439941406,1.7341229915618896,1.012294888496399,0.6641467809677124,1.6391807794570923,-1.2370249032974243,0.601595401763916,-0.18659630417823792,-0.7670592665672302,1.0012282133102417,-1.0791112184524536,-0.06287087500095367,1.5093404054641724,1.5494446754455566,-0.5295131802558899,-0.6765661239624023,-0.695878803730011,0.6809518933296204,-1.2602659463882446,-0.27774718403816223,0.6583836078643799,0.07739999145269394],\"xaxis\":\"x\",\"y\":[10.809136390686035,10.04565143585205,10.977527618408203,10.976851463317871,9.405937194824219,10.267319679260254,9.96780014038086,9.344622611999512,10.696932792663574,11.190359115600586,9.33768081665039,10.623608589172363,10.361907958984375,10.162726402282715,10.574958801269531,9.270668983459473,9.490073204040527,9.432863235473633,10.72543716430664,11.014200210571289,11.105546951293945,9.083622932434082,9.479092597961426,10.91209888458252,9.319660186767578,9.336827278137207,10.985879898071289,9.76962661743164,10.959285736083984,10.046589851379395,10.71623420715332,10.615959167480469,9.85499382019043,9.106979370117188,11.405467987060547,10.919034004211426,9.26691722869873,11.0155029296875,10.058077812194824,11.189434051513672,9.142123222351074,11.090027809143066,9.148223876953125,10.20406436920166,11.061331748962402,9.663393020629883,10.062407493591309,10.820548057556152,9.5289888381958,10.941760063171387,9.671714782714844,10.86806869506836,10.18575382232666,10.676087379455566,10.87608528137207,9.884523391723633,11.102773666381836,9.370468139648438,10.329666137695312,9.038993835449219,9.206901550292969,11.059672355651855,9.900932312011719,10.93034553527832,10.457542419433594,9.999014854431152,9.491386413574219,9.689702987670898,10.096893310546875,9.74178695678711,11.063725471496582,10.37035083770752,11.007783889770508,9.964400291442871,10.974563598632812,9.425025939941406,10.78044319152832,9.32496166229248,9.608407974243164,10.900359153747559,10.829394340515137,10.792661666870117,9.662598609924316,10.584095001220703,10.441962242126465,11.418591499328613,10.982437133789062,9.200990676879883,9.510218620300293,10.868849754333496,9.49451732635498,10.024737358093262,10.614248275756836,9.563498497009277,9.50043773651123,11.113107681274414,10.236226081848145,9.191675186157227,9.380725860595703,11.229085922241211,10.787002563476562,7.945258140563965,9.678868293762207,10.317873001098633,9.601551055908203,9.85380744934082,9.986136436462402,10.824051856994629,10.855306625366211,10.920994758605957,10.969812393188477,9.434004783630371,10.862058639526367,9.866510391235352,11.07780647277832,10.749408721923828,11.104652404785156,9.50042724609375,9.651195526123047,10.243618965148926,11.439501762390137,9.343071937561035,9.54090690612793,10.994241714477539,9.958378791809082,9.947148323059082,10.812073707580566,11.21828842163086,10.05411434173584,9.87212085723877,11.123662948608398,10.856847763061523,10.700922012329102,10.842385292053223,9.381378173828125,10.707369804382324,10.166306495666504,9.95489501953125,11.118906021118164,9.844100952148438,10.412018775939941,11.399216651916504,11.239951133728027,9.821895599365234,9.523402214050293,10.030046463012695,10.792791366577148,9.521584510803223,10.208417892456055,10.731169700622559,10.371418952941895],\"yaxis\":\"y\",\"type\":\"scattergl\"},{\"hovertemplate\":\"cluster=cluster 2<br>x=%{x}<br>y=%{y}<extra></extra>\",\"legendgroup\":\"cluster 2\",\"marker\":{\"color\":\"#EF553B\",\"symbol\":\"circle\"},\"mode\":\"markers\",\"name\":\"cluster 2\",\"showlegend\":true,\"x\":[-3.639827013015747,-3.6174309253692627,-3.7479774951934814,-3.7515907287597656,-3.8437418937683105,-3.8186793327331543,-3.6262383460998535,-3.775599718093872,-3.6568455696105957,-3.466458559036255,-3.781102180480957,-3.6099636554718018,-3.697617530822754,-3.7867789268493652,-3.755539655685425,-3.227487087249756,-3.6126739978790283,-3.658665657043457,-3.7047853469848633,-3.7709715366363525,-3.628356456756592,-3.8573036193847656,-3.6324357986450195,-3.8725717067718506,-3.5841197967529297,-3.610241413116455,-3.750739097595215,-3.6213579177856445,-3.8997199535369873,-3.6654748916625977,-3.5789356231689453,-3.549130439758301,-3.694793224334717,-3.586344003677368,-3.5055525302886963,-3.8350813388824463,-3.668046712875366,-3.656101942062378,-3.6339619159698486,-3.819669008255005,-3.5133659839630127,-3.6297426223754883,-3.610102415084839,-3.8260867595672607,-3.589416742324829,-3.692652463912964,-3.8817193508148193,-3.6036250591278076,-3.6236135959625244,-3.829669237136841,-3.766491174697876,-3.6136555671691895,-3.6520750522613525,-3.6616156101226807,-3.631582498550415,-3.6713881492614746,-3.734534502029419,-3.527646064758301,-3.7124595642089844,-3.6914424896240234,-3.733144760131836,-3.469867467880249,-3.7673187255859375,-3.868638038635254],\"xaxis\":\"x\",\"y\":[-0.024859078228473663,-0.18654167652130127,0.8043119311332703,0.5138900279998779,1.242079257965088,1.014987826347351,-0.5383097529411316,1.0298844575881958,0.5642464756965637,2.1716039180755615,1.6440026760101318,-0.2815542221069336,0.6406118273735046,1.6757457256317139,1.179487705230713,3.440423011779785,-0.4703076481819153,0.08668724447488785,0.6003824472427368,0.7976576089859009,0.15526071190834045,1.1829688549041748,-0.5029319524765015,1.324471354484558,-0.46772947907447815,-0.6080837845802307,0.7060985565185547,-0.6022965908050537,1.4805009365081787,0.4062058925628662,0.4750785529613495,0.03414075821638107,0.18688233196735382,0.11098277568817139,-0.18589499592781067,1.3558260202407837,0.47779443860054016,-0.4270460307598114,-0.7498042583465576,1.6060158014297485,-0.21728695929050446,-0.49108847975730896,-0.19724586606025696,1.0645256042480469,0.15262512862682343,0.5008613467216492,1.2914018630981445,-0.6039107441902161,-0.6239547729492188,1.3109509944915771,1.4763225317001343,0.12008742243051529,-0.8078913688659668,0.6794078946113586,-0.2665400505065918,0.44801896810531616,0.7161350846290588,1.9955992698669434,0.7146915793418884,0.5759943723678589,0.34088125824928284,2.1556122303009033,0.8437319397926331,1.2337027788162231],\"yaxis\":\"y\",\"type\":\"scattergl\"},{\"hovertemplate\":\"cluster=cluster 7<br>x=%{x}<br>y=%{y}<extra></extra>\",\"legendgroup\":\"cluster 7\",\"marker\":{\"color\":\"#00cc96\",\"symbol\":\"circle\"},\"mode\":\"markers\",\"name\":\"cluster 7\",\"showlegend\":true,\"x\":[10.821330070495605,10.264927864074707,10.963326454162598,10.665904998779297,10.977897644042969,10.81302261352539,10.754548072814941,11.082633018493652,10.566540718078613,10.577024459838867,10.502774238586426,10.945090293884277,11.004634857177734,10.950613975524902,10.328516960144043,10.897605895996094,10.734260559082031,10.87693977355957,11.29957389831543,10.260309219360352,11.006342887878418,10.6087064743042,10.839381217956543,10.303731918334961,10.643769264221191,10.226516723632812,10.538396835327148,10.997698783874512,10.915452003479004,10.96280574798584,10.726299285888672,10.821329116821289,10.47307014465332,10.91534423828125,10.713704109191895,11.065041542053223,10.27137565612793,10.849186897277832,10.460261344909668,10.676324844360352,11.422160148620605,11.111945152282715,11.41373062133789,10.656460762023926,10.516475677490234,11.096460342407227,10.639383316040039,11.054006576538086,10.970712661743164,10.796367645263672,10.726877212524414,10.947395324707031,10.749576568603516,10.730281829833984,10.345355033874512,10.769882202148438,10.789372444152832,11.329933166503906,10.700364112854004,10.60116958618164,10.938879013061523,10.723485946655273,10.376314163208008,11.015295028686523,11.233221054077148,10.21705150604248,10.715157508850098,11.287208557128906,10.506796836853027,11.013301849365234,10.638705253601074,10.770875930786133,10.906885147094727,11.329022407531738,10.204460144042969,11.115973472595215,10.440646171569824,10.662282943725586,10.574399948120117,11.025989532470703,10.879853248596191,10.922178268432617,10.712141036987305,10.938958168029785,10.94956111907959,10.625103950500488,10.997044563293457,10.877594947814941,10.73198127746582,10.839407920837402,10.624220848083496,10.82791519165039,11.002015113830566,10.769998550415039,10.827256202697754,11.14464282989502,11.011214256286621,10.705061912536621,10.31851863861084,10.733506202697754,11.026106834411621,11.031020164489746,10.660075187683105,10.772007942199707,11.426835060119629,10.985732078552246,10.573246002197266,11.141145706176758,10.647972106933594,11.199119567871094,11.387152671813965,11.411953926086426,10.640700340270996,10.500816345214844,10.924881935119629,10.42411994934082,10.99355697631836,10.975166320800781,10.860810279846191,11.252838134765625,11.041060447692871,10.698114395141602,10.892132759094238,11.012166023254395,10.30971908569336,10.851785659790039,10.389992713928223,10.730504035949707,10.620786666870117,10.824289321899414,10.846785545349121,10.867520332336426,10.259079933166504,10.758129119873047,10.996164321899414,10.867055892944336,10.823330879211426,11.34139633178711,10.877196311950684,10.77315616607666,10.99965763092041,10.412850379943848,11.025947570800781,11.15184211730957,10.580795288085938,11.325977325439453,10.982203483581543,10.634552001953125,10.992915153503418,10.390933990478516,11.159615516662598,11.395130157470703,11.04902458190918,11.02920913696289,11.388882637023926,11.104886054992676,11.016983985900879,10.78691291809082,10.517718315124512,10.797046661376953,10.666550636291504,10.816662788391113,10.689845085144043,10.259871482849121,10.520490646362305,11.375340461730957],\"xaxis\":\"x\",\"y\":[1.1576869487762451,1.631278395652771,1.4648834466934204,-0.4077143669128418,0.1899407058954239,1.6673431396484375,-0.17605730891227722,-0.9705765247344971,-0.11826574802398682,0.6100544929504395,1.6229698657989502,0.7367789149284363,-0.5883310437202454,-1.339423656463623,1.7101466655731201,1.3624939918518066,-0.7757648229598999,1.2652757167816162,-1.8316880464553833,1.7072014808654785,0.16979537904262543,1.1450492143630981,1.5620591640472412,1.5900582075119019,0.7892170548439026,1.6487841606140137,0.411129891872406,-1.5188443660736084,-0.46851444244384766,0.30936136841773987,-0.4165017604827881,-0.21894197165966034,1.2755022048950195,0.2326577752828598,1.603346824645996,-0.7819740772247314,1.5028955936431885,-0.1134306788444519,1.3183233737945557,-0.07502482086420059,-2.0127112865448,-1.3703587055206299,-2.0038206577301025,-0.541167676448822,-0.1550198197364807,0.004615976009517908,-0.4204365313053131,-0.37619566917419434,0.3136864900588989,-0.7115898132324219,-0.45919233560562134,-0.34611421823501587,1.2678217887878418,0.9528795480728149,1.3619476556777954,1.3829647302627563,-0.680110514163971,-1.8903710842132568,0.3220101594924927,0.7549360990524292,1.27878737449646,0.5271170139312744,1.0714695453643799,-0.5557391047477722,-1.7041552066802979,1.6966530084609985,0.323643296957016,-1.7770090103149414,0.8262914419174194,-0.3815419673919678,-0.35458827018737793,0.5143784880638123,-0.5639268755912781,-1.8942300081253052,1.4079577922821045,-1.279531717300415,1.5378934144973755,1.2988775968551636,0.5682945251464844,0.30431586503982544,-1.4690499305725098,-1.0331066846847534,1.385128378868103,-1.094569444656372,-0.6335448622703552,-0.09596685320138931,0.530351459980011,1.5630481243133545,1.8052022457122803,-0.398191899061203,-0.13108615577220917,-0.765051007270813,-1.002626657485962,0.8149563074111938,0.1294582188129425,-1.6276179552078247,0.01831524446606636,1.5149532556533813,1.4787797927856445,1.7552112340927124,-1.0026698112487793,-0.6457828879356384,0.6525959968566895,0.59293532371521,-2.015190839767456,0.8616478443145752,1.1071221828460693,-1.4111958742141724,0.5849896669387817,-1.703528642654419,-1.959054946899414,-2.003634214401245,0.39313942193984985,1.7112033367156982,-0.5403186678886414,1.079569697380066,0.419291228055954,1.0869274139404297,-1.5068321228027344,-1.8029353618621826,-0.7649268507957458,0.011970308609306812,0.39328697323799133,-0.24619527161121368,1.6486613750457764,1.6983051300048828,1.1073333024978638,1.6033488512039185,0.030266402289271355,0.27906662225723267,-0.5909956693649292,1.1013344526290894,1.7476236820220947,1.4182684421539307,-0.6207107305526733,1.379876971244812,1.6303224563598633,-1.8813942670822144,-1.5808632373809814,1.7711942195892334,0.0758180022239685,1.5935356616973877,-0.4753687381744385,-1.2555625438690186,0.5821444988250732,-1.8829834461212158,-1.2327888011932373,1.542156457901001,-0.5336134433746338,1.4282925128936768,-1.5080877542495728,-1.9777926206588745,0.1683964878320694,0.12447282671928406,-1.9668818712234497,-1.0829442739486694,-0.800089418888092,-0.35100245475769043,1.4618003368377686,1.454613447189331,1.190887451171875,1.6692445278167725,-0.6080753207206726,1.6679474115371704,1.5222564935684204,-1.9509557485580444],\"yaxis\":\"y\",\"type\":\"scattergl\"},{\"hovertemplate\":\"cluster=cluster 5<br>x=%{x}<br>y=%{y}<extra></extra>\",\"legendgroup\":\"cluster 5\",\"marker\":{\"color\":\"#ab63fa\",\"symbol\":\"circle\"},\"mode\":\"markers\",\"name\":\"cluster 5\",\"showlegend\":true,\"x\":[5.131317615509033,4.079464435577393,3.8636724948883057,2.4757068157196045,3.5716564655303955,3.572232484817505,4.644517421722412,4.307911396026611,4.933863639831543,4.480441093444824,2.4031732082366943,2.09987735748291,3.9848015308380127,4.770143508911133,1.9919053316116333,3.4097907543182373,2.134188652038574,2.428746223449707,3.6280903816223145,3.8029725551605225,4.10792350769043,5.313876628875732,3.742873191833496,5.555058002471924,5.243094444274902,2.068463087081909,4.871941089630127,4.504339218139648,5.382203102111816,5.7572245597839355,4.140296936035156,3.3817739486694336,5.702874660491943,5.287776947021484,4.718553066253662,5.235518932342529,4.198216915130615,1.8213064670562744,3.5628597736358643,2.484459638595581,3.9566938877105713,3.8253238201141357,1.802219271659851,3.986682415008545,2.4108760356903076,3.703951835632324,5.5410051345825195,5.149594783782959,3.737112522125244,2.285536527633667,2.3062095642089844,4.348670482635498,4.985791206359863,2.45296311378479,1.6850258111953735,3.9804787635803223,4.34503698348999,1.9734379053115845,3.5558114051818848,5.499711036682129,3.5641937255859375,4.827233791351318,3.139235258102417,3.506516218185425,2.2857627868652344,2.3394765853881836,5.5846848487854,4.400476455688477,3.2323224544525146,3.956826686859131,3.201115131378174,1.663076400756836,4.0452704429626465,4.0354323387146,4.0456366539001465,1.7026352882385254,5.24541711807251,2.699420213699341,3.576395034790039,4.928202152252197,3.7348456382751465,2.239081859588623,2.2249460220336914,1.9111138582229614,5.295242786407471,3.261119842529297,3.968703269958496,5.6247758865356445,4.874495029449463,4.057342052459717,3.6155872344970703,2.2032318115234375,4.488685607910156,2.5493104457855225,3.685363292694092,5.4328155517578125,3.6102967262268066,4.992007732391357,4.854300022125244,5.1979265213012695,2.1513025760650635,3.6285908222198486,5.472378253936768,2.1082684993743896,4.495145797729492,2.2333905696868896,5.266239643096924,2.2303178310394287,2.220548629760742,5.250349998474121,2.201014757156372,2.321161985397339,5.520690441131592,5.081987380981445,3.716531753540039,5.042940616607666,4.816174030303955,3.62778902053833,5.060581684112549,3.3915016651153564,2.1091060638427734,2.05578351020813,3.0427451133728027,2.1095778942108154,3.692168951034546,1.9371252059936523,2.340062379837036,4.079960823059082,4.932154655456543,4.895852565765381,4.9643473625183105,2.130272388458252,5.138110160827637,5.286370754241943,4.078731060028076,3.5658724308013916,3.447462320327759,3.799816370010376,5.531594753265381,2.5849642753601074,4.974001884460449,2.1770615577697754,3.3406033515930176,3.6644084453582764,5.589478492736816,3.727294683456421,5.557365894317627,3.9215540885925293,3.422232151031494,3.69537353515625,3.650977849960327,5.135582447052002,5.415292263031006,5.056905269622803,3.994967460632324,1.748568058013916,3.17149019241333,2.1804680824279785,3.1968162059783936],\"xaxis\":\"x\",\"y\":[11.208949089050293,11.36528205871582,11.697253227233887,11.44739818572998,11.326767921447754,11.699776649475098,11.344310760498047,11.395895957946777,11.092803955078125,11.426633834838867,11.470050811767578,11.14221477508545,11.665740013122559,11.06137752532959,11.492416381835938,11.43030834197998,11.48510456085205,11.46681022644043,11.766865730285645,11.332839965820312,11.450273513793945,11.028432846069336,11.103605270385742,10.808614730834961,10.817398071289062,10.923291206359863,11.31501579284668,11.17393684387207,10.985036849975586,10.499505996704102,11.129618644714355,11.624635696411133,10.805590629577637,10.99819278717041,11.137809753417969,11.097275733947754,11.43308162689209,11.188105583190918,11.379718780517578,11.560748100280762,11.57645034790039,11.837862968444824,11.337372779846191,11.450660705566406,10.99830436706543,11.730307579040527,10.806879997253418,11.131865501403809,11.134355545043945,11.354449272155762,10.956832885742188,11.409197807312012,10.803647994995117,10.977580070495605,11.20292854309082,11.498312950134277,11.438982009887695,11.255834579467773,11.356791496276855,10.718393325805664,11.135647773742676,11.280265808105469,11.513079643249512,11.766406059265137,11.512537956237793,11.000414848327637,10.784940719604492,11.201691627502441,11.611320495605469,11.10860538482666,11.713194847106934,11.28511905670166,11.223709106445312,11.480846405029297,11.219422340393066,11.274935722351074,11.070857048034668,11.114251136779785,11.685750961303711,11.2178316116333,11.705867767333984,11.366209983825684,11.023037910461426,11.24625301361084,11.051637649536133,11.642098426818848,11.115139961242676,10.589923858642578,11.358031272888184,11.529030799865723,11.273719787597656,10.93975830078125,11.0211181640625,11.304977416992188,11.716361999511719,10.776078224182129,11.129456520080566,11.247633934020996,11.306941986083984,11.12200927734375,11.081754684448242,11.587709426879883,10.9148588180542,10.980883598327637,11.137275695800781,11.102387428283691,11.223648071289062,11.40096664428711,11.52243423461914,10.999458312988281,11.285921096801758,11.115212440490723,11.030838012695312,11.119542121887207,11.616863250732422,11.263440132141113,11.069341659545898,11.40703296661377,11.184910774230957,11.422197341918945,11.469780921936035,11.056766510009766,11.40583610534668,11.323637008666992,11.666519165039062,11.411392211914062,11.282289505004883,11.433796882629395,11.1126708984375,11.2025146484375,11.091724395751953,11.075258255004883,11.264424324035645,11.243993759155273,11.044610023498535,11.803556442260742,11.6631498336792,11.553367614746094,10.698817253112793,11.205205917358398,11.224183082580566,11.107381820678711,11.497116088867188,11.295018196105957,10.588064193725586,10.99158763885498,10.6295804977417,11.623327255249023,11.078474044799805,11.670670509338379,11.716828346252441,11.123957633972168,10.83890151977539,11.251311302185059,11.128985404968262,11.163787841796875,11.337320327758789,11.37427806854248,11.123610496520996],\"yaxis\":\"y\",\"type\":\"scattergl\"},{\"hovertemplate\":\"cluster=cluster 0<br>x=%{x}<br>y=%{y}<extra></extra>\",\"legendgroup\":\"cluster 0\",\"marker\":{\"color\":\"#FFA15A\",\"symbol\":\"circle\"},\"mode\":\"markers\",\"name\":\"cluster 0\",\"showlegend\":true,\"x\":[-2.700782537460327,-3.313797950744629,-2.4217610359191895,-3.2131612300872803,-2.817880630493164,-2.278533697128296,-3.0712685585021973,-2.4982187747955322,-3.1228604316711426,-3.276928424835205,-3.004100799560547,-2.776390552520752,-3.076932668685913,-2.486937999725342,-2.602055311203003,-2.978783130645752,-2.94901180267334,-3.1670520305633545,-2.5819714069366455,-2.4759628772735596,-3.0563387870788574,-3.1131110191345215,-2.8183302879333496,-2.7545738220214844,-2.9916818141937256,-2.874803304672241,-2.6994645595550537,-2.309971809387207,-3.142038106918335,-3.180183172225952,-2.90631103515625,-2.652364730834961,-2.6243393421173096,-3.188633680343628,-2.5773704051971436,-1.1407450437545776,-2.66601300239563,-3.029694080352783,-3.0685949325561523,-2.601071834564209,-2.525085210800171,-3.1514909267425537,-3.2473318576812744,-2.367976665496826,-2.886418581008911,-3.124802827835083,-2.37345027923584,-2.9802238941192627,-2.7297122478485107,-2.8569908142089844,-3.2461047172546387,-2.448805809020996,-2.659217119216919,-2.991819143295288,-1.5012708902359009,-2.724489212036133,-2.8363728523254395,-2.874549388885498,-2.4128828048706055,-0.7055515646934509,-2.431185007095337,-2.63773775100708,-3.1189754009246826,-2.5948095321655273,-2.566774368286133,-2.677443265914917,-3.094115734100342,-2.492211103439331,-2.3276164531707764,-2.548952341079712,-2.6576015949249268,-2.85013484954834,-2.329139471054077,-2.172762632369995,-2.906822443008423,-2.544173240661621,-2.346442461013794,-2.645594358444214,-2.942315101623535,-2.7727372646331787,-2.2681233882904053,-1.147612452507019,-2.905733108520508,-2.8121609687805176,-2.7304317951202393,-1.260993242263794,-3.2574405670166016,-3.021450996398926,-3.1477766036987305,-2.4913642406463623,-3.098706007003784,-2.861900568008423,-2.965914249420166,-2.646613836288452,-2.5877773761749268,-2.6856918334960938,-2.7565290927886963,-2.9313197135925293,-3.266066074371338,-1.5646555423736572,-3.140428066253662,-3.289973020553589,-2.408574104309082,-3.1652708053588867,-2.9548966884613037,-2.6351375579833984,-2.7035741806030273,-3.2229013442993164,-2.868234872817993,-3.002640962600708,-2.3767666816711426,-3.14682674407959,-2.9623281955718994,-2.774258613586426],\"xaxis\":\"x\",\"y\":[6.470556259155273,5.0259904861450195,7.595297813415527,5.2277140617370605,6.710745811462402,7.920912265777588,6.1238179206848145,7.415566921234131,6.280886650085449,4.952578544616699,5.745063304901123,6.618899822235107,6.211969375610352,7.3735127449035645,7.70621395111084,6.650737285614014,6.870890140533447,6.1957550048828125,7.460413455963135,7.741428375244141,6.557751178741455,6.146157741546631,6.934752464294434,6.8870439529418945,6.063162803649902,6.762491703033447,6.347418308258057,7.892690658569336,6.224333763122559,6.053396701812744,7.009983062744141,7.585888862609863,7.136814117431641,6.288201332092285,7.383077621459961,9.02731704711914,7.539074420928955,6.465208053588867,5.729032039642334,7.431787014007568,7.652845859527588,6.197488307952881,5.156991004943848,7.667752265930176,6.587535858154297,5.386956214904785,7.796812057495117,5.984103679656982,6.601891994476318,6.45659065246582,5.203412055969238,7.716573238372803,6.509348392486572,6.634191513061523,9.083064079284668,6.943353176116943,6.074393272399902,6.20620584487915,7.577696800231934,8.994033813476562,7.7958197593688965,7.402761936187744,5.540673732757568,7.645407199859619,7.615785121917725,7.290152072906494,5.6993513107299805,7.515429973602295,7.8614115715026855,7.6671223640441895,7.044251918792725,6.335965156555176,7.858248233795166,8.038260459899902,7.248178482055664,7.36458683013916,7.7953901290893555,7.426992416381836,6.278517723083496,6.958920478820801,8.02808666229248,9.145050048828125,6.673181533813477,6.936306476593018,7.1794023513793945,9.164777755737305,5.216030597686768,6.384016036987305,5.509031772613525,7.5033040046691895,5.659262657165527,7.01050329208374,6.217478275299072,7.147514343261719,7.527525424957275,6.5403947830200195,6.5374908447265625,6.44807243347168,5.067736625671387,8.950927734375,5.485918998718262,5.073805809020996,7.639716148376465,6.204392910003662,6.470399856567383,7.344196319580078,6.533988952636719,5.443384647369385,6.182729244232178,6.727939605712891,7.732486248016357,5.471565246582031,6.520899295806885,6.917454242706299],\"yaxis\":\"y\",\"type\":\"scattergl\"},{\"hovertemplate\":\"cluster=cluster 4<br>x=%{x}<br>y=%{y}<extra></extra>\",\"legendgroup\":\"cluster 4\",\"marker\":{\"color\":\"#19d3f3\",\"symbol\":\"circle\"},\"mode\":\"markers\",\"name\":\"cluster 4\",\"showlegend\":true,\"x\":[8.148847579956055,6.19374418258667,7.982397556304932,8.494735717773438,6.0123291015625,8.721246719360352,6.8387370109558105,7.553781032562256,6.731181621551514,8.731929779052734,8.712892532348633,8.586798667907715,6.925484657287598,5.958736419677734,6.643198490142822,8.38918399810791,8.079771995544434,8.216137886047363,8.546110153198242,5.617688179016113,5.954229831695557,8.301167488098145,7.747109413146973,7.114304065704346,8.254334449768066,7.166759490966797,7.104989051818848,8.760828018188477,6.541250228881836,8.281882286071777,7.802576065063477,8.128320693969727,7.722843170166016,8.526703834533691,7.424463748931885,6.250210285186768,8.67385482788086,8.214333534240723,8.007393836975098,7.2802886962890625,7.279406547546387,8.14652156829834,8.885370254516602,8.024373054504395,9.017026901245117,6.926693439483643,8.467229843139648,6.5966572761535645,7.443839073181152,8.886760711669922,9.332130432128906,6.306772708892822,6.836848258972168,7.254305839538574,6.3541951179504395,6.640244007110596,7.916128158569336,6.541427135467529,8.01816463470459,8.65931510925293,8.916645050048828,7.1586384773254395,6.9918293952941895,7.255094528198242,6.733609676361084,6.465375900268555,7.526016712188721,6.6411261558532715,8.006234169006348,8.168313026428223,8.532571792602539,6.778377532958984,6.995536804199219,8.64954662322998,8.47279167175293,8.482962608337402,7.217148780822754,6.224276065826416,7.520375728607178,6.4098920822143555,5.963507175445557,8.276086807250977,6.570803165435791,8.653495788574219,9.113240242004395,8.203054428100586,8.643464088439941,7.635352611541748,6.377394676208496,6.003251075744629,7.400374889373779,6.435306549072266,8.420265197753906,8.714111328125,5.9309210777282715,8.382711410522461,6.126833915710449,8.711458206176758,6.946474552154541,8.9660062789917,8.221419334411621,7.684031009674072,6.699678421020508,7.352437973022461,7.1763916015625,7.9040422439575195,6.628702640533447,8.137941360473633,7.997809410095215,7.1992292404174805,7.227486610412598,8.578510284423828,5.847719192504883,7.483346939086914,8.810821533203125,7.049628734588623,6.260197639465332,8.298524856567383,7.457330226898193,7.420386791229248,8.462235450744629,7.217503070831299,7.167313575744629,7.04686164855957,7.374028205871582,6.922745704650879,6.699122905731201,6.62108850479126,6.762016773223877,6.497296333312988,6.708460330963135,6.892965316772461,8.003070831298828,6.096149921417236,8.544930458068848,8.5844087600708,6.95604133605957,6.477566242218018,6.614173889160156,8.386414527893066,8.434701919555664,6.4909563064575195,6.913643836975098,6.553196907043457,6.5456929206848145,5.781659126281738,9.017210006713867,8.791337966918945,7.652689456939697,6.670281410217285,8.205157279968262,8.577686309814453,8.144503593444824,6.790413856506348,8.631129264831543,6.488663196563721,7.2789812088012695,6.810604095458984,7.3999223709106445,7.724931240081787,6.175299644470215,8.459939002990723,6.212273597717285,8.093921661376953,7.229820251464844,6.623702049255371,8.388884544372559,8.431253433227539,7.743712902069092,7.262356281280518,8.330002784729004,7.100578308105469,5.673966407775879,7.888757228851318,6.56256103515625,7.175486087799072,7.620606899261475,6.916306972503662,7.728508949279785,8.94360065460205,9.058694839477539,6.116392612457275,8.453433990478516,8.43286418914795,8.155402183532715,7.23799467086792,7.26865816116333,6.8015947341918945,7.551761150360107,6.910332679748535,6.406259059906006,7.977465629577637,8.170234680175781,8.044042587280273,6.389006614685059,7.177099704742432,6.677659511566162,7.040575981140137,8.43304443359375,7.82204532623291,6.665887832641602,6.655352592468262,6.649944305419922,6.196061611175537,8.139949798583984,6.716555118560791,6.364040851593018,8.518804550170898,7.05042839050293,8.107076644897461,6.153790473937988,8.061807632446289,8.392227172851562,6.689276218414307,6.487178802490234,6.230184555053711,6.008159637451172,7.602930068969727],\"xaxis\":\"x\",\"y\":[8.84615421295166,10.174983024597168,8.921137809753418,8.548494338989258,10.675732612609863,8.014275550842285,10.001872062683105,9.308053970336914,10.081077575683594,7.440479755401611,8.435957908630371,8.493875503540039,9.91116714477539,10.24869155883789,9.697184562683105,7.947216033935547,8.627901077270508,8.985268592834473,8.598010063171387,10.692490577697754,10.436070442199707,8.770855903625488,9.036325454711914,10.107978820800781,8.04552173614502,9.217952728271484,9.706496238708496,7.578042030334473,10.225508689880371,8.38686752319336,8.932287216186523,9.12474250793457,9.286147117614746,7.669878959655762,9.844314575195312,10.43674373626709,7.912239074707031,8.217667579650879,8.263654708862305,10.037906646728516,9.619852066040039,9.080229759216309,7.865001201629639,8.485032081604004,7.980498790740967,9.887334823608398,7.718066692352295,10.574543952941895,9.757461547851562,7.907256603240967,7.15480375289917,10.29201889038086,9.948678016662598,9.22027587890625,10.538443565368652,10.378217697143555,8.728976249694824,10.145613670349121,9.208849906921387,7.406310558319092,7.659685134887695,9.333484649658203,9.817270278930664,9.684268951416016,10.462868690490723,10.574602127075195,9.815531730651855,9.819530487060547,8.516698837280273,8.10299301147461,8.60510540008545,9.834056854248047,10.284990310668945,7.503721237182617,8.630552291870117,8.3728609085083,9.836119651794434,10.107348442077637,9.054628372192383,9.743209838867188,10.260929107666016,8.121020317077637,10.581222534179688,8.217122077941895,7.398739814758301,9.009267807006836,7.865291118621826,9.393425941467285,10.223129272460938,10.870336532592773,9.270183563232422,10.673911094665527,8.302066802978516,8.335418701171875,10.415384292602539,8.040407180786133,10.0272855758667,7.621122360229492,9.761688232421875,6.999083518981934,8.171609878540039,9.049066543579102,10.491786003112793,9.860451698303223,9.386610984802246,9.364713668823242,10.125680923461914,9.077492713928223,8.883524894714355,10.005843162536621,10.098738670349121,7.66229248046875,10.315282821655273,9.492583274841309,8.331382751464844,9.875459671020508,10.157822608947754,7.948347568511963,9.494253158569336,9.73631763458252,8.681199073791504,9.988741874694824,9.229269027709961,10.239324569702148,9.090723991394043,10.339570999145508,10.142963409423828,10.137442588806152,9.693279266357422,10.60232162475586,10.526800155639648,10.091460227966309,8.73252010345459,10.390584945678711,8.592246055603027,8.40480899810791,9.54935073852539,10.488680839538574,10.319515228271484,8.436071395874023,7.96881103515625,9.850667953491211,9.701558113098145,10.161710739135742,10.120718955993652,10.49630069732666,7.92399263381958,7.981894016265869,9.142057418823242,9.998344421386719,9.042863845825195,8.053793907165527,8.217694282531738,10.379587173461914,7.740052223205566,9.93066120147705,9.265459060668945,9.676093101501465,9.123580932617188,8.995619773864746,10.407258033752441,7.710670471191406,10.029690742492676,9.069814682006836,10.009815216064453,10.560318946838379,8.456371307373047,8.640493392944336,8.91209888458252,10.065509796142578,8.491958618164062,10.18066692352295,10.789253234863281,8.79482650756836,9.881101608276367,9.76240348815918,9.296719551086426,9.777775764465332,9.306544303894043,7.851412296295166,7.079884052276611,10.312309265136719,8.170408248901367,8.624847412109375,9.061728477478027,9.17447566986084,10.01215648651123,9.804193496704102,9.417866706848145,9.645508766174316,9.950102806091309,8.692828178405762,8.4619722366333,8.271034240722656,10.5790433883667,10.057961463928223,10.534963607788086,9.6970853805542,8.764937400817871,9.276032447814941,9.756662368774414,9.744217872619629,9.77763843536377,10.242807388305664,8.276932716369629,10.148221969604492,10.652673721313477,8.544535636901855,9.443371772766113,9.12686824798584,10.440818786621094,9.183420181274414,7.7836384773254395,9.726460456848145,10.106489181518555,10.351097106933594,10.85042953491211,9.403985023498535],\"yaxis\":\"y\",\"type\":\"scattergl\"},{\"hovertemplate\":\"cluster=cluster 1<br>x=%{x}<br>y=%{y}<extra></extra>\",\"legendgroup\":\"cluster 1\",\"marker\":{\"color\":\"#FF6692\",\"symbol\":\"circle\"},\"mode\":\"markers\",\"name\":\"cluster 1\",\"showlegend\":true,\"x\":[9.31992244720459,10.6723051071167,10.164069175720215,10.22527027130127,10.657125473022461,9.410572052001953,9.989179611206055,9.538596153259277,9.058712005615234,9.85256290435791,10.480146408081055,9.534778594970703,9.719613075256348,10.5382080078125,9.907755851745605,9.400975227355957,10.331253051757812,9.779632568359375,10.433516502380371,9.933753967285156,9.495776176452637,9.5946683883667,10.380646705627441,9.818426132202148,9.583457946777344,8.8908052444458,9.357488632202148,9.620214462280273,10.375496864318848,10.42552661895752,9.157523155212402,10.54745864868164,10.5600004196167,9.331547737121582,9.961249351501465,9.22560977935791,8.88592529296875,9.896708488464355,9.690460205078125,10.36736011505127,9.956939697265625,10.14399528503418,9.705146789550781,9.302750587463379,10.243664741516113,10.123525619506836,10.050073623657227,10.520998001098633,10.718653678894043,9.374137878417969,10.258237838745117,9.310640335083008,9.847746849060059,10.017833709716797,9.425204277038574,10.646232604980469,9.373875617980957,9.747529983520508,9.137972831726074,10.274280548095703,9.795161247253418,10.274085998535156,9.764041900634766,10.220200538635254,9.809423446655273,10.38674545288086,10.074578285217285,9.111781120300293,10.196364402770996,9.046250343322754,8.920267105102539,10.23238754272461,9.375761985778809,10.517136573791504,9.819068908691406,9.726109504699707,9.75394344329834,9.213382720947266,10.613000869750977,10.250875473022461,10.315366744995117,9.892818450927734,10.631189346313477,10.266353607177734,9.205967903137207,10.009231567382812,9.880875587463379,10.663463592529297,9.81816577911377,10.58269214630127,9.889618873596191,9.973514556884766,10.577496528625488,8.704095840454102,9.692643165588379,10.316274642944336,9.962976455688477,9.8677396774292,10.598095893859863,9.658392906188965,9.397164344787598,10.010087013244629,10.490978240966797,10.031295776367188,8.954499244689941,10.210150718688965,10.233059883117676,9.939131736755371,8.6170015335083,10.06661319732666,9.579278945922852,8.691519737243652,9.578124046325684,10.130854606628418,9.651689529418945,10.030858039855957,9.439157485961914,10.006240844726562,10.709471702575684,10.277058601379395,9.367246627807617,10.030803680419922,9.675541877746582,10.254328727722168,9.327861785888672,10.410138130187988,10.406561851501465,9.184331893920898,9.61490535736084,9.443791389465332,10.275712013244629,9.922796249389648,9.918940544128418,10.297577857971191,10.613897323608398,9.614964485168457,9.404260635375977,10.507384300231934,9.260072708129883,10.241035461425781,8.585681915283203,9.99934196472168,10.542927742004395,10.018816947937012,9.159525871276855,8.922144889831543,10.345891952514648,9.237480163574219,9.49365520477295,9.302054405212402,10.223569869995117,8.859663963317871,9.04570198059082,10.621604919433594,9.919514656066895,9.518712997436523,9.730512619018555,8.827445030212402,10.18885326385498,9.576153755187988,9.50771713256836,9.549083709716797,10.635090827941895,10.099039077758789,10.091851234436035,10.196500778198242,10.064715385437012,9.48883056640625,9.450817108154297,9.989041328430176,9.262321472167969,10.503581047058105,10.102012634277344,9.55690860748291,10.577327728271484,9.198376655578613,10.572637557983398,9.455726623535156,9.249261856079102,9.1161470413208,9.692564010620117,9.617447853088379,9.811631202697754,9.665834426879883,10.678786277770996,9.583284378051758,9.330718994140625,10.257794380187988,9.01156234741211,9.851901054382324,9.781840324401855,9.367521286010742,9.737927436828613,8.687995910644531,9.433541297912598,9.401140213012695,9.936385154724121,9.909956932067871,10.295247077941895,9.548429489135742,9.8847074508667,9.661348342895508,9.851349830627441,10.415079116821289,9.530962944030762,8.868578910827637,9.222593307495117,10.635457038879395,10.653899192810059,10.258790016174316,9.596936225891113,8.90985107421875,10.36257266998291,10.140508651733398,9.821073532104492,9.692164421081543,8.99474811553955,9.157309532165527,9.986098289489746,9.831854820251465,10.082734107971191,9.740303039550781,9.9436616897583,9.282875061035156,10.418024063110352,10.649951934814453,9.367170333862305,10.39049243927002,9.69620132446289,9.50100326538086,9.384706497192383,10.466789245605469,9.665933609008789,10.473609924316406,9.983147621154785,9.369840621948242,9.379504203796387,10.355241775512695,10.404221534729004,8.7921781539917,10.311422348022461,9.867329597473145,9.832730293273926,10.618782043457031,10.48637866973877,10.364559173583984,9.939687728881836,9.450413703918457,9.430835723876953,9.594680786132812,9.680851936340332,9.18299674987793,9.75002670288086,10.563825607299805,10.525694847106934,9.940247535705566,10.023697853088379,10.117121696472168,10.445985794067383,10.313130378723145,9.925359725952148,8.674958229064941,10.16911792755127,10.326188087463379,9.958999633789062,9.995399475097656,9.46464729309082,10.465481758117676,9.94308853149414,10.530984878540039,8.683831214904785,9.836236000061035,9.934627532958984,10.013915061950684,9.430805206298828,10.371363639831543,10.309797286987305,10.640052795410156,9.67537784576416,10.262828826904297],\"xaxis\":\"x\",\"y\":[7.108606338500977,3.8078627586364746,3.1753616333007812,4.774466037750244,3.0177001953125,5.761256694793701,5.993353366851807,6.372921466827393,7.451601028442383,4.557371139526367,1.9591662883758545,6.060843467712402,6.5069899559021,3.727806806564331,5.072660446166992,5.447954177856445,2.7268595695495605,5.509053707122803,2.796077013015747,6.25280237197876,4.4013543128967285,5.739661693572998,5.528336524963379,3.8829119205474854,5.752871990203857,6.524787425994873,6.972067356109619,4.510208606719971,3.518057346343994,5.568418025970459,7.142982006072998,3.449514627456665,2.841017484664917,6.1214165687561035,2.9658844470977783,7.242832660675049,7.2316999435424805,3.3699746131896973,6.197713375091553,2.5357799530029297,3.713045835494995,3.198176622390747,4.970992088317871,5.870550632476807,5.476975917816162,3.9242312908172607,4.522237300872803,3.2592568397521973,1.9788954257965088,5.66450309753418,4.112826824188232,5.050246715545654,5.615171909332275,3.8379738330841064,5.307931900024414,2.2687246799468994,5.268509387969971,6.4446539878845215,5.456277370452881,5.4413533210754395,6.398096561431885,2.5422744750976562,6.344285488128662,3.452409029006958,5.766916751861572,2.977651357650757,3.656493902206421,6.803593158721924,2.9889988899230957,6.236396312713623,7.0032453536987305,4.981602668762207,5.444015979766846,3.6221487522125244,4.933387756347656,5.1169538497924805,3.4887590408325195,5.4885945320129395,3.406177282333374,4.4414286613464355,5.4361491203308105,4.751376152038574,3.160378932952881,5.354353427886963,5.295425891876221,3.5505728721618652,4.005221366882324,3.4401493072509766,4.951371192932129,3.517961263656616,5.005746841430664,5.711862087249756,3.444887161254883,7.1236395835876465,4.830739498138428,2.684934139251709,5.804308891296387,4.654284954071045,3.7525243759155273,5.786561012268066,5.578725814819336,3.0686962604522705,2.4709360599517822,3.1131482124328613,6.989912986755371,5.303274631500244,3.245887041091919,4.302137851715088,7.2601518630981445,4.313774585723877,6.531399250030518,7.343685626983643,5.473337650299072,3.7614998817443848,4.486319541931152,4.640159606933594,6.532776355743408,3.3298683166503906,2.4700303077697754,3.0619189739227295,4.58884334564209,4.9536519050598145,6.327164173126221,2.7674522399902344,7.212292671203613,3.887946367263794,2.5100693702697754,5.387485027313232,5.176358222961426,6.925169467926025,4.92753791809082,3.3821494579315186,5.681156635284424,2.710223913192749,3.3410680294036865,5.958786964416504,6.434746742248535,3.9867939949035645,6.384838104248047,1.8663740158081055,7.3639326095581055,3.2706446647644043,2.839143991470337,3.1977734565734863,5.379704475402832,6.861117839813232,3.505506753921509,5.29102897644043,4.613032341003418,6.604535102844238,5.225712299346924,6.647498607635498,7.052375793457031,3.1617231369018555,5.9651079177856445,4.964447498321533,5.5712103843688965,7.108058929443359,3.0992143154144287,5.518780708312988,5.525904655456543,6.746600151062012,1.9929378032684326,3.6241297721862793,5.640557765960693,5.280494213104248,4.959039688110352,4.668976306915283,4.577670097351074,3.8616981506347656,7.243310451507568,3.040494441986084,3.409100294113159,4.635349750518799,3.049670696258545,5.217583179473877,2.651552438735962,6.895493507385254,5.818584442138672,7.083197593688965,4.2738118171691895,5.798812389373779,4.809231281280518,5.530819416046143,3.3019039630889893,6.0035080909729,5.305031776428223,6.1568498611450195,6.937268257141113,5.093443870544434,5.904094696044922,6.119821548461914,5.715382099151611,7.4762396812438965,6.9999918937683105,4.8581037521362305,4.512465000152588,3.341456174850464,2.7791643142700195,6.449546813964844,4.589352607727051,4.98558235168457,3.5187342166900635,3.165469169616699,5.794925689697266,7.042119026184082,5.3568291664123535,2.792454481124878,3.4358227252960205,5.131567478179932,5.349294185638428,7.376595497131348,3.972409725189209,5.177208423614502,4.998363971710205,5.3608293533325195,6.992343425750732,7.3183794021606445,3.807774066925049,6.2853875160217285,5.498528003692627,6.03523063659668,3.5631370544433594,7.064817428588867,5.589752674102783,3.545778751373291,6.807693958282471,3.793844223022461,6.23366641998291,5.816077709197998,6.512782573699951,2.9826529026031494,5.500980854034424,3.1792359352111816,5.744511127471924,6.306869029998779,4.858229160308838,2.7477989196777344,5.4759087562561035,7.195728302001953,1.6374495029449463,4.435965538024902,4.587981700897217,3.486820936203003,2.919017791748047,3.186272382736206,4.450192928314209,5.84855842590332,6.356698989868164,5.524703025817871,6.298485279083252,6.926758766174316,4.792731761932373,3.5744903087615967,2.3984057903289795,5.633526802062988,5.586602687835693,4.048412799835205,4.0048346519470215,5.324192523956299,4.448991775512695,7.206305503845215,5.309735298156738,3.64851713180542,5.648165225982666,5.052865982055664,6.366489887237549,3.7390799522399902,6.071425914764404,2.674935817718506,7.342345237731934,4.182719707489014,3.3064112663269043,3.3271591663360596,6.620588302612305,5.951706886291504,3.4607317447662354,2.0149316787719727,5.656051158905029,3.3483777046203613],\"yaxis\":\"y\",\"type\":\"scattergl\"},{\"hovertemplate\":\"cluster=cluster 8<br>x=%{x}<br>y=%{y}<extra></extra>\",\"legendgroup\":\"cluster 8\",\"marker\":{\"color\":\"#B6E880\",\"symbol\":\"circle\"},\"mode\":\"markers\",\"name\":\"cluster 8\",\"showlegend\":true,\"x\":[-3.431405782699585,-3.5961577892303467,-3.702751636505127,-3.3241841793060303,-3.682272434234619,-3.772899627685547,-3.901221513748169,-3.3429758548736572,-3.499915361404419,-3.487496852874756,-3.897284507751465,-3.895535945892334,-3.5356082916259766,-3.3740220069885254,-3.440704107284546,-3.4464991092681885,-3.4857981204986572,-3.3900582790374756,-3.482279062271118,-3.6031620502471924,-3.3357696533203125,-3.4577503204345703,-3.6236119270324707,-3.433791160583496,-3.8592519760131836,-3.853447914123535,-3.6607751846313477,-3.7643799781799316,-3.769446611404419,-3.5226118564605713,-3.710585832595825,-3.650512933731079,-3.569580316543579,-3.584672212600708,-3.4931013584136963,-3.376389741897583,-3.538865089416504,-3.519739866256714,-3.476705312728882,-3.6651368141174316,-3.4232215881347656,-3.321420431137085,-3.2939648628234863,-3.7005343437194824,-3.6991817951202393,-3.643157720565796,-3.806030511856079,-3.814929246902466,-3.7429039478302,-3.4222285747528076,-3.462632656097412,-3.870795726776123,-3.8819286823272705,-3.5322821140289307,-3.426239490509033,-3.7085623741149902,-3.8218021392822266,-3.8972864151000977,-3.8151891231536865,-3.4585797786712646,-3.3688673973083496,-3.8030097484588623,-3.8192336559295654,-3.898097038269043,-3.823721408843994,-3.418961524963379,-3.8701443672180176,-3.3984875679016113,-3.575068950653076,-3.8736207485198975,-3.4648962020874023,-3.7250306606292725,-3.6160881519317627,-3.4482288360595703,-3.6934897899627686,-3.7933409214019775,-3.8079521656036377,-3.3989076614379883,-3.266242504119873,-3.816425085067749,-3.385509729385376,-3.7066354751586914,-3.90472674369812],\"xaxis\":\"x\",\"y\":[4.241241455078125,3.432602643966675,3.3184452056884766,4.712752342224121,2.537489414215088,3.6370441913604736,1.9932664632797241,4.607892036437988,4.2879319190979,4.246586322784424,1.9980093240737915,2.0591797828674316,3.6113064289093018,4.383545875549316,3.4184365272521973,4.403139114379883,2.413508892059326,4.657742500305176,3.359544515609741,3.4237332344055176,4.039711952209473,4.3913798332214355,3.90963077545166,2.3263325691223145,3.4467556476593018,3.6212944984436035,3.1991899013519287,3.3821065425872803,2.574772596359253,3.7338545322418213,2.4159255027770996,3.1743555068969727,3.9242961406707764,3.709829092025757,4.166855335235596,4.50565242767334,3.9950971603393555,3.1778063774108887,3.5795209407806396,2.5581109523773193,2.382415771484375,4.814994812011719,4.027795314788818,3.2599265575408936,1.9370654821395874,3.3485395908355713,2.195037603378296,1.9539097547531128,3.776543617248535,2.360248327255249,4.295422554016113,1.8471697568893433,1.9051480293273926,4.207001209259033,2.342695474624634,3.8914871215820312,3.789182424545288,2.0633299350738525,3.402423858642578,2.5891616344451904,4.032840251922607,2.0353875160217285,3.656719446182251,2.045912027359009,3.6949949264526367,4.492834568023682,1.8839306831359863,4.750673770904541,4.037193298339844,1.9522712230682373,3.91003155708313,2.7489051818847656,3.723980665206909,4.230284214019775,3.3567793369293213,2.347717523574829,3.485031843185425,4.2728118896484375,3.6764211654663086,3.5112686157226562,4.318498134613037,3.1901588439941406,2.1587705612182617],\"yaxis\":\"y\",\"type\":\"scattergl\"},{\"hovertemplate\":\"cluster=cluster 6<br>x=%{x}<br>y=%{y}<extra></extra>\",\"legendgroup\":\"cluster 6\",\"marker\":{\"color\":\"#FF97FF\",\"symbol\":\"circle\"},\"mode\":\"markers\",\"name\":\"cluster 6\",\"showlegend\":true,\"x\":[-3.783531427383423,-3.702838659286499,-3.7365214824676514,-3.7552785873413086,-3.6600000858306885,-3.740352153778076,-3.7692511081695557,-3.6432859897613525,-3.6904146671295166,-3.8034279346466064,-3.6175851821899414,-3.761449098587036,-3.7995212078094482,-3.564119338989258,-3.6482927799224854,-3.7406675815582275,-3.4632346630096436,-3.712496042251587,-3.803349733352661,-3.7804393768310547,-3.5773870944976807,-3.6159400939941406,-3.788198232650757,-3.763559341430664,-3.6594676971435547,-3.6047520637512207,-3.7448713779449463,-3.6762351989746094,-3.636707067489624,-3.652411699295044],\"xaxis\":\"x\",\"y\":[-1.759125828742981,-1.5371752977371216,-1.7160210609436035,-1.8956209421157837,-0.9252429008483887,-1.9392484426498413,-1.7518409490585327,-1.1223151683807373,-1.508933424949646,-1.9047393798828125,-1.2997331619262695,-1.761406660079956,-1.8757023811340332,-1.1984174251556396,-1.2470513582229614,-1.729229211807251,-0.8425315618515015,-1.5871094465255737,-1.8789951801300049,-1.8564754724502563,-1.2237896919250488,-1.1876952648162842,-1.8885366916656494,-1.7517248392105103,-1.3482179641723633,-1.2328834533691406,-1.9327263832092285,-1.4015716314315796,-1.1608314514160156,-1.202025294303894],\"yaxis\":\"y\",\"type\":\"scattergl\"},{\"hovertemplate\":\"cluster=cluster 3<br>x=%{x}<br>y=%{y}<extra></extra>\",\"legendgroup\":\"cluster 3\",\"marker\":{\"color\":\"#FECB52\",\"symbol\":\"circle\"},\"mode\":\"markers\",\"name\":\"cluster 3\",\"showlegend\":true,\"x\":[-3.7524006366729736],\"xaxis\":\"x\",\"y\":[-1.633117437362671],\"yaxis\":\"y\",\"type\":\"scattergl\"},{\"hovertemplate\":\"cluster=topic<br>x=%{x}<br>y=%{y}<extra></extra>\",\"legendgroup\":\"topic\",\"marker\":{\"color\":\"#636efa\",\"symbol\":\"circle\"},\"mode\":\"markers\",\"name\":\"topic\",\"showlegend\":true,\"x\":[10.79759693145752,10.797430038452148,10.802321434020996,10.825048446655273,10.78463363647461],\"xaxis\":\"x\",\"y\":[-1.594464659690857,-1.5988668203353882,-1.5920748710632324,-1.5747159719467163,-1.5582549571990967],\"yaxis\":\"y\",\"type\":\"scattergl\"}],                        {\"template\":{\"data\":{\"histogram2dcontour\":[{\"type\":\"histogram2dcontour\",\"colorbar\":{\"outlinewidth\":0,\"ticks\":\"\"},\"colorscale\":[[0.0,\"#0d0887\"],[0.1111111111111111,\"#46039f\"],[0.2222222222222222,\"#7201a8\"],[0.3333333333333333,\"#9c179e\"],[0.4444444444444444,\"#bd3786\"],[0.5555555555555556,\"#d8576b\"],[0.6666666666666666,\"#ed7953\"],[0.7777777777777778,\"#fb9f3a\"],[0.8888888888888888,\"#fdca26\"],[1.0,\"#f0f921\"]]}],\"choropleth\":[{\"type\":\"choropleth\",\"colorbar\":{\"outlinewidth\":0,\"ticks\":\"\"}}],\"histogram2d\":[{\"type\":\"histogram2d\",\"colorbar\":{\"outlinewidth\":0,\"ticks\":\"\"},\"colorscale\":[[0.0,\"#0d0887\"],[0.1111111111111111,\"#46039f\"],[0.2222222222222222,\"#7201a8\"],[0.3333333333333333,\"#9c179e\"],[0.4444444444444444,\"#bd3786\"],[0.5555555555555556,\"#d8576b\"],[0.6666666666666666,\"#ed7953\"],[0.7777777777777778,\"#fb9f3a\"],[0.8888888888888888,\"#fdca26\"],[1.0,\"#f0f921\"]]}],\"heatmap\":[{\"type\":\"heatmap\",\"colorbar\":{\"outlinewidth\":0,\"ticks\":\"\"},\"colorscale\":[[0.0,\"#0d0887\"],[0.1111111111111111,\"#46039f\"],[0.2222222222222222,\"#7201a8\"],[0.3333333333333333,\"#9c179e\"],[0.4444444444444444,\"#bd3786\"],[0.5555555555555556,\"#d8576b\"],[0.6666666666666666,\"#ed7953\"],[0.7777777777777778,\"#fb9f3a\"],[0.8888888888888888,\"#fdca26\"],[1.0,\"#f0f921\"]]}],\"heatmapgl\":[{\"type\":\"heatmapgl\",\"colorbar\":{\"outlinewidth\":0,\"ticks\":\"\"},\"colorscale\":[[0.0,\"#0d0887\"],[0.1111111111111111,\"#46039f\"],[0.2222222222222222,\"#7201a8\"],[0.3333333333333333,\"#9c179e\"],[0.4444444444444444,\"#bd3786\"],[0.5555555555555556,\"#d8576b\"],[0.6666666666666666,\"#ed7953\"],[0.7777777777777778,\"#fb9f3a\"],[0.8888888888888888,\"#fdca26\"],[1.0,\"#f0f921\"]]}],\"contourcarpet\":[{\"type\":\"contourcarpet\",\"colorbar\":{\"outlinewidth\":0,\"ticks\":\"\"}}],\"contour\":[{\"type\":\"contour\",\"colorbar\":{\"outlinewidth\":0,\"ticks\":\"\"},\"colorscale\":[[0.0,\"#0d0887\"],[0.1111111111111111,\"#46039f\"],[0.2222222222222222,\"#7201a8\"],[0.3333333333333333,\"#9c179e\"],[0.4444444444444444,\"#bd3786\"],[0.5555555555555556,\"#d8576b\"],[0.6666666666666666,\"#ed7953\"],[0.7777777777777778,\"#fb9f3a\"],[0.8888888888888888,\"#fdca26\"],[1.0,\"#f0f921\"]]}],\"surface\":[{\"type\":\"surface\",\"colorbar\":{\"outlinewidth\":0,\"ticks\":\"\"},\"colorscale\":[[0.0,\"#0d0887\"],[0.1111111111111111,\"#46039f\"],[0.2222222222222222,\"#7201a8\"],[0.3333333333333333,\"#9c179e\"],[0.4444444444444444,\"#bd3786\"],[0.5555555555555556,\"#d8576b\"],[0.6666666666666666,\"#ed7953\"],[0.7777777777777778,\"#fb9f3a\"],[0.8888888888888888,\"#fdca26\"],[1.0,\"#f0f921\"]]}],\"mesh3d\":[{\"type\":\"mesh3d\",\"colorbar\":{\"outlinewidth\":0,\"ticks\":\"\"}}],\"scatter\":[{\"fillpattern\":{\"fillmode\":\"overlay\",\"size\":10,\"solidity\":0.2},\"type\":\"scatter\"}],\"parcoords\":[{\"type\":\"parcoords\",\"line\":{\"colorbar\":{\"outlinewidth\":0,\"ticks\":\"\"}}}],\"scatterpolargl\":[{\"type\":\"scatterpolargl\",\"marker\":{\"colorbar\":{\"outlinewidth\":0,\"ticks\":\"\"}}}],\"bar\":[{\"error_x\":{\"color\":\"#2a3f5f\"},\"error_y\":{\"color\":\"#2a3f5f\"},\"marker\":{\"line\":{\"color\":\"#E5ECF6\",\"width\":0.5},\"pattern\":{\"fillmode\":\"overlay\",\"size\":10,\"solidity\":0.2}},\"type\":\"bar\"}],\"scattergeo\":[{\"type\":\"scattergeo\",\"marker\":{\"colorbar\":{\"outlinewidth\":0,\"ticks\":\"\"}}}],\"scatterpolar\":[{\"type\":\"scatterpolar\",\"marker\":{\"colorbar\":{\"outlinewidth\":0,\"ticks\":\"\"}}}],\"histogram\":[{\"marker\":{\"pattern\":{\"fillmode\":\"overlay\",\"size\":10,\"solidity\":0.2}},\"type\":\"histogram\"}],\"scattergl\":[{\"type\":\"scattergl\",\"marker\":{\"colorbar\":{\"outlinewidth\":0,\"ticks\":\"\"}}}],\"scatter3d\":[{\"type\":\"scatter3d\",\"line\":{\"colorbar\":{\"outlinewidth\":0,\"ticks\":\"\"}},\"marker\":{\"colorbar\":{\"outlinewidth\":0,\"ticks\":\"\"}}}],\"scattermapbox\":[{\"type\":\"scattermapbox\",\"marker\":{\"colorbar\":{\"outlinewidth\":0,\"ticks\":\"\"}}}],\"scatterternary\":[{\"type\":\"scatterternary\",\"marker\":{\"colorbar\":{\"outlinewidth\":0,\"ticks\":\"\"}}}],\"scattercarpet\":[{\"type\":\"scattercarpet\",\"marker\":{\"colorbar\":{\"outlinewidth\":0,\"ticks\":\"\"}}}],\"carpet\":[{\"aaxis\":{\"endlinecolor\":\"#2a3f5f\",\"gridcolor\":\"white\",\"linecolor\":\"white\",\"minorgridcolor\":\"white\",\"startlinecolor\":\"#2a3f5f\"},\"baxis\":{\"endlinecolor\":\"#2a3f5f\",\"gridcolor\":\"white\",\"linecolor\":\"white\",\"minorgridcolor\":\"white\",\"startlinecolor\":\"#2a3f5f\"},\"type\":\"carpet\"}],\"table\":[{\"cells\":{\"fill\":{\"color\":\"#EBF0F8\"},\"line\":{\"color\":\"white\"}},\"header\":{\"fill\":{\"color\":\"#C8D4E3\"},\"line\":{\"color\":\"white\"}},\"type\":\"table\"}],\"barpolar\":[{\"marker\":{\"line\":{\"color\":\"#E5ECF6\",\"width\":0.5},\"pattern\":{\"fillmode\":\"overlay\",\"size\":10,\"solidity\":0.2}},\"type\":\"barpolar\"}],\"pie\":[{\"automargin\":true,\"type\":\"pie\"}]},\"layout\":{\"autotypenumbers\":\"strict\",\"colorway\":[\"#636efa\",\"#EF553B\",\"#00cc96\",\"#ab63fa\",\"#FFA15A\",\"#19d3f3\",\"#FF6692\",\"#B6E880\",\"#FF97FF\",\"#FECB52\"],\"font\":{\"color\":\"#2a3f5f\"},\"hovermode\":\"closest\",\"hoverlabel\":{\"align\":\"left\"},\"paper_bgcolor\":\"white\",\"plot_bgcolor\":\"#E5ECF6\",\"polar\":{\"bgcolor\":\"#E5ECF6\",\"angularaxis\":{\"gridcolor\":\"white\",\"linecolor\":\"white\",\"ticks\":\"\"},\"radialaxis\":{\"gridcolor\":\"white\",\"linecolor\":\"white\",\"ticks\":\"\"}},\"ternary\":{\"bgcolor\":\"#E5ECF6\",\"aaxis\":{\"gridcolor\":\"white\",\"linecolor\":\"white\",\"ticks\":\"\"},\"baxis\":{\"gridcolor\":\"white\",\"linecolor\":\"white\",\"ticks\":\"\"},\"caxis\":{\"gridcolor\":\"white\",\"linecolor\":\"white\",\"ticks\":\"\"}},\"coloraxis\":{\"colorbar\":{\"outlinewidth\":0,\"ticks\":\"\"}},\"colorscale\":{\"sequential\":[[0.0,\"#0d0887\"],[0.1111111111111111,\"#46039f\"],[0.2222222222222222,\"#7201a8\"],[0.3333333333333333,\"#9c179e\"],[0.4444444444444444,\"#bd3786\"],[0.5555555555555556,\"#d8576b\"],[0.6666666666666666,\"#ed7953\"],[0.7777777777777778,\"#fb9f3a\"],[0.8888888888888888,\"#fdca26\"],[1.0,\"#f0f921\"]],\"sequentialminus\":[[0.0,\"#0d0887\"],[0.1111111111111111,\"#46039f\"],[0.2222222222222222,\"#7201a8\"],[0.3333333333333333,\"#9c179e\"],[0.4444444444444444,\"#bd3786\"],[0.5555555555555556,\"#d8576b\"],[0.6666666666666666,\"#ed7953\"],[0.7777777777777778,\"#fb9f3a\"],[0.8888888888888888,\"#fdca26\"],[1.0,\"#f0f921\"]],\"diverging\":[[0,\"#8e0152\"],[0.1,\"#c51b7d\"],[0.2,\"#de77ae\"],[0.3,\"#f1b6da\"],[0.4,\"#fde0ef\"],[0.5,\"#f7f7f7\"],[0.6,\"#e6f5d0\"],[0.7,\"#b8e186\"],[0.8,\"#7fbc41\"],[0.9,\"#4d9221\"],[1,\"#276419\"]]},\"xaxis\":{\"gridcolor\":\"white\",\"linecolor\":\"white\",\"ticks\":\"\",\"title\":{\"standoff\":15},\"zerolinecolor\":\"white\",\"automargin\":true,\"zerolinewidth\":2},\"yaxis\":{\"gridcolor\":\"white\",\"linecolor\":\"white\",\"ticks\":\"\",\"title\":{\"standoff\":15},\"zerolinecolor\":\"white\",\"automargin\":true,\"zerolinewidth\":2},\"scene\":{\"xaxis\":{\"backgroundcolor\":\"#E5ECF6\",\"gridcolor\":\"white\",\"linecolor\":\"white\",\"showbackground\":true,\"ticks\":\"\",\"zerolinecolor\":\"white\",\"gridwidth\":2},\"yaxis\":{\"backgroundcolor\":\"#E5ECF6\",\"gridcolor\":\"white\",\"linecolor\":\"white\",\"showbackground\":true,\"ticks\":\"\",\"zerolinecolor\":\"white\",\"gridwidth\":2},\"zaxis\":{\"backgroundcolor\":\"#E5ECF6\",\"gridcolor\":\"white\",\"linecolor\":\"white\",\"showbackground\":true,\"ticks\":\"\",\"zerolinecolor\":\"white\",\"gridwidth\":2}},\"shapedefaults\":{\"line\":{\"color\":\"#2a3f5f\"}},\"annotationdefaults\":{\"arrowcolor\":\"#2a3f5f\",\"arrowhead\":0,\"arrowwidth\":1},\"geo\":{\"bgcolor\":\"white\",\"landcolor\":\"#E5ECF6\",\"subunitcolor\":\"white\",\"showland\":true,\"showlakes\":true,\"lakecolor\":\"white\"},\"title\":{\"x\":0.05},\"mapbox\":{\"style\":\"light\"}}},\"xaxis\":{\"anchor\":\"y\",\"domain\":[0.0,1.0],\"title\":{\"text\":\"x\"}},\"yaxis\":{\"anchor\":\"x\",\"domain\":[0.0,1.0],\"title\":{\"text\":\"y\"}},\"legend\":{\"title\":{\"text\":\"cluster\"},\"tracegroupgap\":0},\"title\":{\"text\":\"word-embedding-samples\"}},                        {\"responsive\": true}                    ).then(function(){\n",
              "                            \n",
              "var gd = document.getElementById('e97d03d9-ae95-4f6b-b5a8-2d4b6ac73ce3');\n",
              "var x = new MutationObserver(function (mutations, observer) {{\n",
              "        var display = window.getComputedStyle(gd).display;\n",
              "        if (!display || display === 'none') {{\n",
              "            console.log([gd, 'removed!']);\n",
              "            Plotly.purge(gd);\n",
              "            observer.disconnect();\n",
              "        }}\n",
              "}});\n",
              "\n",
              "// Listen for the removal of the full notebook cells\n",
              "var notebookContainer = gd.closest('#notebook-container');\n",
              "if (notebookContainer) {{\n",
              "    x.observe(notebookContainer, {childList: true});\n",
              "}}\n",
              "\n",
              "// Listen for the clearing of the current output cell\n",
              "var outputEl = gd.closest('.output');\n",
              "if (outputEl) {{\n",
              "    x.observe(outputEl, {childList: true});\n",
              "}}\n",
              "\n",
              "                        })                };                            </script>        </div>\n",
              "</body>\n",
              "</html>"
            ]
          },
          "metadata": {}
        }
      ],
      "source": [
        "#--------------------------training----------------------------------------------------\n",
        "train_class = TrainETM().train(\n",
        "    etm_model,\n",
        "    vocab_size, \n",
        "    train_args, optimizer_args, train_set,\n",
        "    normalize_data = True,\n",
        "    figures_path = figures_path)\n",
        "    #num_topics, t_hidden_size, rho_size, emb_size, theta_act,  embedding_data, 0.5)\n",
        "\n",
        "#-------------------show topics\n",
        "topics = etm_model.show_topics(id2word, 20)\n",
        "for tp in topics:\n",
        "  print(tp)\n",
        "\n",
        "#----------------\n",
        "from src.visualization import show_embedding_with_kmeans_umap\n",
        "show_embedding_with_kmeans_umap(\n",
        "    id2word, embedding_data, num_topics, etm_model.topic_embeddings_alphas.weight,\n",
        "    figures_path)"
      ]
    },
    {
      "cell_type": "code",
      "source": [
        "#-------------------show topics\n",
        "topics = etm_model.show_topics(id2word, 20)\n",
        "for tp in topics:\n",
        "  print(tp)\n"
      ],
      "metadata": {
        "id": "8A9QqKf8-qkC",
        "outputId": "afd90a4b-c9e3-4d8f-9d33-3f45a30e4e01",
        "colab": {
          "base_uri": "https://localhost:8080/"
        }
      },
      "execution_count": 23,
      "outputs": [
        {
          "output_type": "stream",
          "name": "stdout",
          "text": [
            "tensor([0.0008, 0.0017, 0.0005,  ..., 0.0004, 0.0005, 0.0006], device='cuda:0')\n",
            "tensor(1., device='cuda:0')\n",
            "[('people', 0.0030489342752844095), ('max', 0.002842738525941968), ('make', 0.0028242929838597775), ('time', 0.002808508463203907), ('armenian', 0.002486094832420349), ('good', 0.0024826214648783207), ('years', 0.0024712583981454372), ('made', 0.0023917886428534985), ('point', 0.002356072189286351), ('thing', 0.002269457094371319), ('bit', 0.002261286834254861), ('fact', 0.0022500264458358288), ('find', 0.002242985414341092), ('university', 0.0022178548388183117), ('problem', 0.002212841995060444), ('things', 0.0022048456594347954), ('writes', 0.0021626350935548544), ('back', 0.0021573519334197044), ('government', 0.0021526182536035776), ('state', 0.0021334816701710224)]\n",
            "[('people', 0.0031000208109617233), ('max', 0.003097032429650426), ('make', 0.002868108218535781), ('time', 0.0028534983284771442), ('armenian', 0.0025178613141179085), ('good', 0.0025176384951919317), ('years', 0.0025054290890693665), ('made', 0.002424640115350485), ('point', 0.0023883699905127287), ('thing', 0.0023005465045571327), ('bit', 0.002290300326421857), ('fact', 0.002280169865116477), ('find', 0.0022712841164320707), ('university', 0.0022447279188781977), ('problem', 0.0022399926092475653), ('things', 0.0022315778769552708), ('writes', 0.0021884848829358816), ('back', 0.00218206481076777), ('government', 0.002177425427362323), ('state', 0.0021578678861260414)]\n",
            "[('people', 0.00310294097289443), ('max', 0.0030761747620999813), ('make', 0.0028716109227389097), ('time', 0.0028561679646372795), ('armenian', 0.0025210336316376925), ('good', 0.002520065987482667), ('years', 0.002507452154532075), ('made', 0.002426822204142809), ('point', 0.00239003449678421), ('thing', 0.0023024927359074354), ('bit', 0.002292191842570901), ('fact', 0.0022819447331130505), ('find', 0.002272918587550521), ('university', 0.002247278578579426), ('problem', 0.0022416776046156883), ('things', 0.002233705949038267), ('writes', 0.002190460218116641), ('back', 0.00218446203507483), ('government', 0.002179404953494668), ('state', 0.002160416217520833)]\n",
            "[('max', 0.0032146978192031384), ('people', 0.0030115481931716204), ('make', 0.002793450839817524), ('time', 0.0027786593418568373), ('good', 0.002459281124174595), ('armenian', 0.00245605013333261), ('years', 0.0024449701886624098), ('made', 0.0023686522617936134), ('point', 0.0023355965968221426), ('thing', 0.0022525480017066), ('bit', 0.002240213565528393), ('fact', 0.002233663108199835), ('find', 0.0022222816478461027), ('university', 0.0021946635097265244), ('problem', 0.002192156156525016), ('things', 0.00218400452286005), ('writes', 0.0021414621733129025), ('back', 0.0021372924093157053), ('government', 0.002131751039996743), ('state', 0.0021145641803741455)]\n",
            "[('max', 0.0032392169814556837), ('people', 0.003134504659101367), ('make', 0.0029012688901275396), ('time', 0.002885589376091957), ('good', 0.002542948117479682), ('armenian', 0.0025427306536585093), ('years', 0.0025296304374933243), ('made', 0.0024486577603965998), ('point', 0.002410563174635172), ('thing', 0.002322516171261668), ('bit', 0.0023110550828278065), ('fact', 0.0023006764240562916), ('find', 0.002291338751092553), ('university', 0.002269181190058589), ('problem', 0.002258612308651209), ('things', 0.0022508096881210804), ('writes', 0.002210939070209861), ('back', 0.0022011869587004185), ('government', 0.0021957666613161564), ('state', 0.0021787318401038647)]\n"
          ]
        }
      ]
    },
    {
      "cell_type": "code",
      "source": [
        "topics = [[e[0] for e in tp] for tp in topics]\n",
        "print(topics)\n",
        "tc = topicCoherence(topics,num_topics,docs_tr,len(docs_tr))\n",
        "print(tc)"
      ],
      "metadata": {
        "id": "dW_9VDpF61bC",
        "outputId": "043b4b19-7f8f-4c2c-958e-df8cfb9434dd",
        "colab": {
          "base_uri": "https://localhost:8080/"
        }
      },
      "execution_count": 24,
      "outputs": [
        {
          "output_type": "stream",
          "name": "stdout",
          "text": [
            "[['people', 'max', 'make', 'time', 'armenian', 'good', 'years', 'made', 'point', 'thing', 'bit', 'fact', 'find', 'university', 'problem', 'things', 'writes', 'back', 'government', 'state'], ['people', 'max', 'make', 'time', 'armenian', 'good', 'years', 'made', 'point', 'thing', 'bit', 'fact', 'find', 'university', 'problem', 'things', 'writes', 'back', 'government', 'state'], ['people', 'max', 'make', 'time', 'armenian', 'good', 'years', 'made', 'point', 'thing', 'bit', 'fact', 'find', 'university', 'problem', 'things', 'writes', 'back', 'government', 'state'], ['max', 'people', 'make', 'time', 'good', 'armenian', 'years', 'made', 'point', 'thing', 'bit', 'fact', 'find', 'university', 'problem', 'things', 'writes', 'back', 'government', 'state'], ['max', 'people', 'make', 'time', 'good', 'armenian', 'years', 'made', 'point', 'thing', 'bit', 'fact', 'find', 'university', 'problem', 'things', 'writes', 'back', 'government', 'state']]\n",
            "1.7016579584563827\n"
          ]
        }
      ]
    }
  ],
  "metadata": {
    "colab": {
      "collapsed_sections": [],
      "name": "notebook_replication.ipynb",
      "provenance": [],
      "include_colab_link": true
    },
    "kernelspec": {
      "display_name": "Python 3",
      "name": "python3"
    },
    "language_info": {
      "name": "python"
    },
    "accelerator": "GPU"
  },
  "nbformat": 4,
  "nbformat_minor": 0
}