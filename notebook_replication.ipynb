{
  "cells": [
    {
      "cell_type": "markdown",
      "metadata": {
        "id": "view-in-github",
        "colab_type": "text"
      },
      "source": [
        "<a href=\"https://colab.research.google.com/github/hanhluukim/replication-topic-modelling-in-embedding-space/blob/main/notebook_replication.ipynb\" target=\"_parent\"><img src=\"https://colab.research.google.com/assets/colab-badge.svg\" alt=\"Open In Colab\"/></a>"
      ]
    },
    {
      "cell_type": "markdown",
      "metadata": {
        "id": "PJ7P852F7yzU"
      },
      "source": [
        "# **Das Projekt aus dem Github klonen und in den Projektsordner**"
      ]
    },
    {
      "cell_type": "code",
      "execution_count": 89,
      "metadata": {
        "id": "riOxinNHJcIB",
        "outputId": "c3ac48f7-8921-45a1-808f-fe27e4ed0939",
        "colab": {
          "base_uri": "https://localhost:8080/"
        }
      },
      "outputs": [
        {
          "output_type": "stream",
          "name": "stdout",
          "text": [
            "fatal: destination path 'replication-topic-modelling-in-embedding-space' already exists and is not an empty directory.\n"
          ]
        }
      ],
      "source": [
        "#wenn die Ordner noch nicht geklont ist, soll dieser Fehler zuerst durchgeführt werden.\n",
        "!git clone https://github.com/hanhluukim/replication-topic-modelling-in-embedding-space.git"
      ]
    },
    {
      "cell_type": "code",
      "execution_count": 90,
      "metadata": {
        "colab": {
          "base_uri": "https://localhost:8080/"
        },
        "id": "B_6em-5qJg5e",
        "outputId": "83c76fcc-c736-4249-aa5f-d60604937b0c"
      },
      "outputs": [
        {
          "output_type": "stream",
          "name": "stdout",
          "text": [
            "/content/replication-topic-modelling-in-embedding-space\n"
          ]
        }
      ],
      "source": [
        "cd /content/replication-topic-modelling-in-embedding-space"
      ]
    },
    {
      "cell_type": "markdown",
      "metadata": {
        "id": "6AAG98vV1JCg"
      },
      "source": [
        "#**Die benötige Paketen für das Projekt mittels requirements.txt installieren**\n",
        "\n"
      ]
    },
    {
      "cell_type": "code",
      "execution_count": 91,
      "metadata": {
        "colab": {
          "base_uri": "https://localhost:8080/"
        },
        "id": "YcBay625sD5D",
        "outputId": "fb0212f0-1ad1-4be1-f8cd-1758b1ac9df4"
      },
      "outputs": [
        {
          "output_type": "stream",
          "name": "stdout",
          "text": [
            "Requirement already satisfied: gensim in /usr/local/lib/python3.7/dist-packages (from -r /content/replication-topic-modelling-in-embedding-space/requirements.txt (line 1)) (3.6.0)\n",
            "Requirement already satisfied: nltk in /usr/local/lib/python3.7/dist-packages (from -r /content/replication-topic-modelling-in-embedding-space/requirements.txt (line 2)) (3.2.5)\n",
            "Requirement already satisfied: numpy in /usr/local/lib/python3.7/dist-packages (from -r /content/replication-topic-modelling-in-embedding-space/requirements.txt (line 3)) (1.21.6)\n",
            "Requirement already satisfied: scikit-learn in /usr/local/lib/python3.7/dist-packages (from -r /content/replication-topic-modelling-in-embedding-space/requirements.txt (line 4)) (1.0.2)\n",
            "Requirement already satisfied: scipy in /usr/local/lib/python3.7/dist-packages (from -r /content/replication-topic-modelling-in-embedding-space/requirements.txt (line 5)) (1.4.1)\n",
            "Requirement already satisfied: torch in /usr/local/lib/python3.7/dist-packages (from -r /content/replication-topic-modelling-in-embedding-space/requirements.txt (line 6)) (1.11.0+cu113)\n",
            "Requirement already satisfied: transformers in /usr/local/lib/python3.7/dist-packages (from -r /content/replication-topic-modelling-in-embedding-space/requirements.txt (line 7)) (4.18.0)\n",
            "Requirement already satisfied: umap-learn in /usr/local/lib/python3.7/dist-packages (from -r /content/replication-topic-modelling-in-embedding-space/requirements.txt (line 8)) (0.5.3)\n",
            "Requirement already satisfied: plotly==5.7.0 in /usr/local/lib/python3.7/dist-packages (from -r /content/replication-topic-modelling-in-embedding-space/requirements.txt (line 9)) (5.7.0)\n",
            "Requirement already satisfied: pathlib in /usr/local/lib/python3.7/dist-packages (from -r /content/replication-topic-modelling-in-embedding-space/requirements.txt (line 10)) (1.0.1)\n",
            "Requirement already satisfied: pyyaml==5.4.1 in /usr/local/lib/python3.7/dist-packages (from -r /content/replication-topic-modelling-in-embedding-space/requirements.txt (line 11)) (5.4.1)\n",
            "Requirement already satisfied: kaleido in /usr/local/lib/python3.7/dist-packages (from -r /content/replication-topic-modelling-in-embedding-space/requirements.txt (line 12)) (0.2.1)\n",
            "Requirement already satisfied: six in /usr/local/lib/python3.7/dist-packages (from plotly==5.7.0->-r /content/replication-topic-modelling-in-embedding-space/requirements.txt (line 9)) (1.15.0)\n",
            "Requirement already satisfied: tenacity>=6.2.0 in /usr/local/lib/python3.7/dist-packages (from plotly==5.7.0->-r /content/replication-topic-modelling-in-embedding-space/requirements.txt (line 9)) (8.0.1)\n",
            "Requirement already satisfied: smart-open>=1.2.1 in /usr/local/lib/python3.7/dist-packages (from gensim->-r /content/replication-topic-modelling-in-embedding-space/requirements.txt (line 1)) (6.0.0)\n",
            "Requirement already satisfied: joblib>=0.11 in /usr/local/lib/python3.7/dist-packages (from scikit-learn->-r /content/replication-topic-modelling-in-embedding-space/requirements.txt (line 4)) (1.1.0)\n",
            "Requirement already satisfied: threadpoolctl>=2.0.0 in /usr/local/lib/python3.7/dist-packages (from scikit-learn->-r /content/replication-topic-modelling-in-embedding-space/requirements.txt (line 4)) (3.1.0)\n",
            "Requirement already satisfied: typing-extensions in /usr/local/lib/python3.7/dist-packages (from torch->-r /content/replication-topic-modelling-in-embedding-space/requirements.txt (line 6)) (4.2.0)\n",
            "Requirement already satisfied: packaging>=20.0 in /usr/local/lib/python3.7/dist-packages (from transformers->-r /content/replication-topic-modelling-in-embedding-space/requirements.txt (line 7)) (21.3)\n",
            "Requirement already satisfied: huggingface-hub<1.0,>=0.1.0 in /usr/local/lib/python3.7/dist-packages (from transformers->-r /content/replication-topic-modelling-in-embedding-space/requirements.txt (line 7)) (0.5.1)\n",
            "Requirement already satisfied: requests in /usr/local/lib/python3.7/dist-packages (from transformers->-r /content/replication-topic-modelling-in-embedding-space/requirements.txt (line 7)) (2.23.0)\n",
            "Requirement already satisfied: importlib-metadata in /usr/local/lib/python3.7/dist-packages (from transformers->-r /content/replication-topic-modelling-in-embedding-space/requirements.txt (line 7)) (4.11.3)\n",
            "Requirement already satisfied: sacremoses in /usr/local/lib/python3.7/dist-packages (from transformers->-r /content/replication-topic-modelling-in-embedding-space/requirements.txt (line 7)) (0.0.53)\n",
            "Requirement already satisfied: tokenizers!=0.11.3,<0.13,>=0.11.1 in /usr/local/lib/python3.7/dist-packages (from transformers->-r /content/replication-topic-modelling-in-embedding-space/requirements.txt (line 7)) (0.12.1)\n",
            "Requirement already satisfied: tqdm>=4.27 in /usr/local/lib/python3.7/dist-packages (from transformers->-r /content/replication-topic-modelling-in-embedding-space/requirements.txt (line 7)) (4.64.0)\n",
            "Requirement already satisfied: regex!=2019.12.17 in /usr/local/lib/python3.7/dist-packages (from transformers->-r /content/replication-topic-modelling-in-embedding-space/requirements.txt (line 7)) (2019.12.20)\n",
            "Requirement already satisfied: filelock in /usr/local/lib/python3.7/dist-packages (from transformers->-r /content/replication-topic-modelling-in-embedding-space/requirements.txt (line 7)) (3.6.0)\n",
            "Requirement already satisfied: pyparsing!=3.0.5,>=2.0.2 in /usr/local/lib/python3.7/dist-packages (from packaging>=20.0->transformers->-r /content/replication-topic-modelling-in-embedding-space/requirements.txt (line 7)) (3.0.8)\n",
            "Requirement already satisfied: pynndescent>=0.5 in /usr/local/lib/python3.7/dist-packages (from umap-learn->-r /content/replication-topic-modelling-in-embedding-space/requirements.txt (line 8)) (0.5.6)\n",
            "Requirement already satisfied: numba>=0.49 in /usr/local/lib/python3.7/dist-packages (from umap-learn->-r /content/replication-topic-modelling-in-embedding-space/requirements.txt (line 8)) (0.51.2)\n",
            "Requirement already satisfied: llvmlite<0.35,>=0.34.0.dev0 in /usr/local/lib/python3.7/dist-packages (from numba>=0.49->umap-learn->-r /content/replication-topic-modelling-in-embedding-space/requirements.txt (line 8)) (0.34.0)\n",
            "Requirement already satisfied: setuptools in /usr/local/lib/python3.7/dist-packages (from numba>=0.49->umap-learn->-r /content/replication-topic-modelling-in-embedding-space/requirements.txt (line 8)) (57.4.0)\n",
            "Requirement already satisfied: zipp>=0.5 in /usr/local/lib/python3.7/dist-packages (from importlib-metadata->transformers->-r /content/replication-topic-modelling-in-embedding-space/requirements.txt (line 7)) (3.8.0)\n",
            "Requirement already satisfied: urllib3!=1.25.0,!=1.25.1,<1.26,>=1.21.1 in /usr/local/lib/python3.7/dist-packages (from requests->transformers->-r /content/replication-topic-modelling-in-embedding-space/requirements.txt (line 7)) (1.24.3)\n",
            "Requirement already satisfied: certifi>=2017.4.17 in /usr/local/lib/python3.7/dist-packages (from requests->transformers->-r /content/replication-topic-modelling-in-embedding-space/requirements.txt (line 7)) (2021.10.8)\n",
            "Requirement already satisfied: chardet<4,>=3.0.2 in /usr/local/lib/python3.7/dist-packages (from requests->transformers->-r /content/replication-topic-modelling-in-embedding-space/requirements.txt (line 7)) (3.0.4)\n",
            "Requirement already satisfied: idna<3,>=2.5 in /usr/local/lib/python3.7/dist-packages (from requests->transformers->-r /content/replication-topic-modelling-in-embedding-space/requirements.txt (line 7)) (2.10)\n",
            "Requirement already satisfied: click in /usr/local/lib/python3.7/dist-packages (from sacremoses->transformers->-r /content/replication-topic-modelling-in-embedding-space/requirements.txt (line 7)) (7.1.2)\n"
          ]
        }
      ],
      "source": [
        "# Falls die Packages noch nicht installiert wurden, \n",
        "!pip install -r \"/content/replication-topic-modelling-in-embedding-space/requirements.txt\""
      ]
    },
    {
      "cell_type": "markdown",
      "metadata": {
        "id": "k7xiPgja8eZe"
      },
      "source": [
        "# **Gebrauchte Paketen importieren**"
      ]
    },
    {
      "cell_type": "code",
      "execution_count": 92,
      "metadata": {
        "id": "uV7KZhGq1P7g"
      },
      "outputs": [],
      "source": [
        "import pandas as pd\n",
        "from pathlib import Path\n",
        "import matplotlib.pyplot as plt\n",
        "%matplotlib inline\n",
        "import umap.umap_ as umap\n",
        "import time\n",
        "import plotly.express as px\n",
        "from sklearn import cluster\n",
        "from sklearn import metrics"
      ]
    },
    {
      "cell_type": "markdown",
      "metadata": {
        "id": "QzWqQhPQdJWV"
      },
      "source": [
        "# **Vorverarbeitung und BOW-Repräsentationen für Textdaten durchführen**\n",
        "1. Vocabular erstellen\n",
        "2. BOW-Repräsentationen für allen Teildatensätzen"
      ]
    },
    {
      "cell_type": "code",
      "execution_count": 93,
      "metadata": {
        "id": "1OCULr82pfgk"
      },
      "outputs": [],
      "source": [
        "from src.prepare_dataset import TextDataLoader"
      ]
    },
    {
      "cell_type": "code",
      "execution_count": 94,
      "metadata": {
        "colab": {
          "base_uri": "https://localhost:8080/"
        },
        "id": "cy0PpjxEpbrR",
        "outputId": "2120bcf1-860f-4868-b69e-30d9faa38f1e"
      },
      "outputs": [
        {
          "output_type": "stream",
          "name": "stdout",
          "text": [
            "loading texts: ...\n",
            "finished load!\n",
            "check some sample texts of the dataset\n",
            "['From', ':', 'lerxst', '@', 'wam', '.', 'umd', '.', 'edu', '(', \"where's\", 'my', 'thing', ')', 'Subject', ':', 'WHAT', 'car', 'is', 'this', '!', '?', 'Nntp', 'Posting', 'Host', ':', 'rac3', '.', 'wam', '.', 'umd', '.', 'edu', 'Organization', ':', 'University', 'of', 'Maryland', ',', 'College', 'Park', 'Lines', ':', '15', 'I', 'was', 'wondering', 'if', 'anyone', 'out', 'there', 'could', 'enlighten', 'me', 'on', 'this', 'car', 'I', 'saw', 'the', 'other', 'day', '.', 'It', 'was', 'a', '2', 'door', 'sports', 'car', ',', 'looked', 'to', 'be', 'from', 'the', 'late', '60s', '/', 'early', '70s', '.', 'It', 'was', 'called', 'a', 'Bricklin', '.', 'The', 'doors', 'were', 'really', 'small', '.', 'In', 'addition', ',', 'the', 'front', 'bumper', 'was', 'separate', 'from', 'the', 'rest', 'of', 'the', 'body', '.', 'This', 'is', 'all', 'I', 'know', '.', 'If', 'anyone', 'can', 'tellme', 'a', 'model', 'name', ',', 'engine', 'specs', ',', 'years', 'of', 'production', ',', 'where', 'this', 'car', 'is', 'made', ',', 'history', ',', 'or', 'whatever', 'info', 'you', 'have', 'on', 'this', 'funky', 'looking', 'car', ',', 'please', 'e', 'mail', '.', 'Thanks', ',', 'IL', 'brought', 'to', 'you', 'by', 'your', 'neighborhood', 'Lerxst']\n",
            "====================================================================================================\n",
            "['From', ':', 'guykuo', '@', 'carson', '.', 'u', '.', 'washington', '.', 'edu', '(', 'Guy', 'Kuo', ')', 'Subject', ':', 'SI', 'Clock', 'Poll', 'Final', 'Call', 'Summary', ':', 'Final', 'call', 'for', 'SI', 'clock', 'reports', 'Keywords', ':', 'SI', ',', 'acceleration', ',', 'clock', ',', 'upgrade', 'Article', 'I', '.', 'D', '.', ':', 'shelley', '.', '1qvfo9INNc3s', 'Organization', ':', 'University', 'of', 'Washington', 'Lines', ':', '11', 'NNTP', 'Posting', 'Host', ':', 'carson', '.', 'u', '.', 'washington', '.', 'edu', 'A', 'fair', 'number', 'of', 'brave', 'souls', 'who', 'upgraded', 'their', 'SI', 'clock', 'oscillator', 'have', 'shared', 'their', 'experiences', 'for', 'this', 'poll', '.', 'Please', 'send', 'a', 'brief', 'message', 'detailing', 'your', 'experiences', 'with', 'the', 'procedure', '.', 'Top', 'speed', 'attained', ',', 'CPU', 'rated', 'speed', ',', 'add', 'on', 'cards', 'and', 'adapters', ',', 'heat', 'sinks', ',', 'hour', 'of', 'usage', 'per', 'day', ',', 'floppy', 'disk', 'functionality', 'with', '800', 'and', '1', '.', '4', 'm', 'floppies', 'are', 'especially', 'requested', '.', 'I', 'will', 'be', 'summarizing', 'in', 'the', 'next', 'two', 'days', ',', 'so', 'please', 'add', 'to', 'the', 'network', 'knowledge', 'base', 'if', 'you', 'have', 'done', 'the', 'clock', 'upgrade', 'and', \"haven't\", 'answered', 'this', 'poll', '.', 'Thanks', '.', 'Guy', 'Kuo', '<', 'guykuo', '@', 'u', '.', 'washington', '.', 'edu', '>']\n",
            "====================================================================================================\n"
          ]
        }
      ],
      "source": [
        "# init TextDataLoader für die Datenquelle 20 News Groups\n",
        "# Daten abrufen vom Sklearn, tokenisieren und besondere Charaktern entfernen\n",
        "textsloader = TextDataLoader(source=\"20newsgroups\", train_size=None, test_size=None)\n",
        "textsloader.load_tokenize_texts(\"20newsgroups\")\n",
        "# Beispiel von Textdaten\n",
        "textsloader.show_example_raw_texts(n_docs=2)"
      ]
    },
    {
      "cell_type": "code",
      "execution_count": 95,
      "metadata": {
        "colab": {
          "base_uri": "https://localhost:8080/"
        },
        "id": "5odpQDJ7qPTt",
        "outputId": "e93570c4-587d-4e38-c05e-29f851d7a743"
      },
      "outputs": [
        {
          "output_type": "stream",
          "name": "stdout",
          "text": [
            "start: preprocessing: ...\n",
            "finised: preprocessing!\n"
          ]
        }
      ],
      "source": [
        "# Vorverarbeitung von Daten mit folgenden Schritten:\n",
        "textsloader.preprocess_texts(length_one_remove=True, punctuation_lower = True, stopwords_filter = True)"
      ]
    },
    {
      "cell_type": "code",
      "execution_count": 96,
      "metadata": {
        "colab": {
          "base_uri": "https://localhost:8080/"
        },
        "id": "PRRCNPa9qXfq",
        "outputId": "26c764f2-e338-44e9-a23f-8980872a4d9b"
      },
      "outputs": [
        {
          "output_type": "stream",
          "name": "stdout",
          "text": [
            "test-document-frequency: \n",
            "[[10 12 11 ... 21 22 10]]\n",
            "vocab-size in df: 1266\n",
            "start creating vocabulary ...\n",
            "length of the vocabulary: 1266\n",
            "sample ten words of the vocabulary: ['talking', 'contact', 'advantage', 'race', 'agree', 'includes', 'bunch', 'andy', 'rate', 'hockey']\n",
            "length word2id list: 1266\n",
            "length id2word list: 1266\n",
            "finished: creating vocabulary\n"
          ]
        }
      ],
      "source": [
        "# Daten zerlegen für Train, Test und Validation. Erstellen Vocabular aus dem Trainset\n",
        "min_df=10\n",
        "textsloader.split_and_create_voca_from_trainset(max_df=0.7, min_df=min_df, stopwords_remove_from_voca=True)"
      ]
    },
    {
      "cell_type": "markdown",
      "source": [
        "# **LDA Model**"
      ],
      "metadata": {
        "id": "YJ_A7LCsrQNO"
      }
    },
    {
      "cell_type": "code",
      "execution_count": 97,
      "metadata": {
        "colab": {
          "base_uri": "https://localhost:8080/"
        },
        "id": "etzyjh_nqi19",
        "outputId": "6dc34dba-2583-4efb-d061-dd11d6dc9ba8"
      },
      "outputs": [
        {
          "output_type": "stream",
          "name": "stdout",
          "text": [
            "length train-documents-indices : 33578\n",
            "length of the vocabulary: 1266\n",
            "\n",
            "\n",
            "start: creating bow representation...\n",
            "finised creating bow input!\n",
            "\n",
            "start: creating bow representation...\n",
            "finised creating bow input!\n",
            "\n",
            "start: creating bow representation...\n",
            "finised creating bow input!\n",
            "\n",
            "start: creating bow representation...\n",
            "finised creating bow input!\n",
            "\n",
            "start: creating bow representation...\n",
            "finised creating bow input!\n",
            "\n",
            "compact representation for LDA\n",
            "----------------------------------------------------------------------------------------------------\n",
            "['dale', 'israel', 'colorado', 'heart', 'ac', 'systems', 'needed', 'understood', 'strong', 'chicago']\n",
            "['date', 'purdue', 'christ', 'israel', 'understand', 'mind', 'toronto', 'cleveland', 'ftp', 'thunder']\n",
            "['israel', 'date', 'christ', 'mind', 'ny', 'rick', 'heart', 'berkeley', 'policy', 'cleveland']\n",
            "['brown', 'published', 'israel', 'christ', 'drop', 'east', 'keeping', 'chicago', 'date', 'dale']\n",
            "['date', 'ram', 'happy', 'chicago', 'leave', 'long', 'tools', 'city', 'pc', 'east']\n",
            "['mind', 'rick', 'date', 'chicago', 'longer', 'student', 'access', 'cleveland', 'heart', 'point']\n",
            "['christ', 'date', 'israel', 'heart', 'street', 'understand', 'engineering', 'due', 'andy', 'cleveland']\n",
            "['brown', 'chicago', 'east', 'andy', 'christ', 'israel', 'mind', 'carry', 'ny', 'utexas']\n",
            "['pa', 'chicago', 'max', 'date', 'easier', 'correctly', 'drop', 'cco', 'keeping', 'team']\n",
            "['east', 'cleveland', 'play', 'place', 'published', 'freenet', 'israel', 'access', 'due', 'sitting']\n",
            "----------------------------------------------------------------------------------------------------\n",
            "0.0011245682196300121\n",
            "-2.155272840568223\n"
          ]
        }
      ],
      "source": [
        "from src.evaluierung import topicCoherence\n",
        "from gensim.models.coherencemodel import CoherenceModel\n",
        "from src.lda import lda\n",
        "from gensim.parsing.preprocessing import preprocess_string, strip_punctuation, strip_numeric\n",
        "\n",
        "\n",
        "# Erstellen BOW-Repräsentation für LDA Model\n",
        "for_lda_model = True \n",
        "word2id, id2word, train_set, test_set, val_set = textsloader.create_bow_and_savebow_for_each_set(for_lda_model=for_lda_model)\n",
        "gensim_corpus_train_set = train_set\n",
        "\n",
        "docs_tr, docs_t, docs_v = textsloader.get_docs_in_words_for_each_set()\n",
        "#lda model\n",
        "print(100*\"-\")\n",
        "\n",
        "ldamodel = lda(train_set,10,id2word)\n",
        "lda_topics = ldamodel.show_topics(num_words=10)\n",
        "topics = []\n",
        "filters = [lambda x: x.lower(), strip_punctuation, strip_numeric]\n",
        "for topic in lda_topics:\n",
        "    #print(topic)\n",
        "    topics.append(preprocess_string(topic[1], filters))\n",
        "for topic in topics:\n",
        "  print(topic)\n",
        "print(100*\"-\")\n",
        "tc = topicCoherence(topics,10,docs_tr,len(docs_tr))\n",
        "print(tc)\n",
        "\n",
        "#----------using coherence from gensim-----\n",
        "class DictObj:\n",
        "  def __init__(self, word2id, id2word):\n",
        "    self.id2token = id2word\n",
        "    self.token2id = word2id\n",
        "\n",
        "my_dict_obj = DictObj(word2id, id2word)\n",
        "cm = CoherenceModel(topics=topics, texts = docs_tr, corpus = train_set, dictionary = my_dict_obj, coherence='u_mass')\n",
        "print(cm.get_coherence())"
      ]
    },
    {
      "cell_type": "markdown",
      "source": [
        "# **Data for ETM**"
      ],
      "metadata": {
        "id": "_e4-RQrsw1Ct"
      }
    },
    {
      "cell_type": "code",
      "source": [
        "# Erstellen BOW-Repräsentation für ETM Modell\n",
        "for_lda_model = False\n",
        "word2id, id2word, train_set, test_set, val_set = textsloader.create_bow_and_savebow_for_each_set(for_lda_model=for_lda_model)\n"
      ],
      "metadata": {
        "id": "SJPDsdmMqbmf",
        "outputId": "2838feba-a5cb-42e5-942e-479913900af9",
        "colab": {
          "base_uri": "https://localhost:8080/"
        }
      },
      "execution_count": 98,
      "outputs": [
        {
          "output_type": "stream",
          "name": "stdout",
          "text": [
            "length train-documents-indices : 33578\n",
            "length of the vocabulary: 1266\n",
            "\n",
            "\n",
            "start: creating bow representation...\n",
            "finised creating bow input!\n",
            "\n",
            "start: creating bow representation...\n",
            "finised creating bow input!\n",
            "\n",
            "start: creating bow representation...\n",
            "finised creating bow input!\n",
            "\n",
            "start: creating bow representation...\n",
            "finised creating bow input!\n",
            "\n",
            "start: creating bow representation...\n",
            "finised creating bow input!\n",
            "\n",
            "id2word befor saving: dict_keys([0, 1, 2, 3, 4, 5, 6, 7, 8, 9, 10, 11, 12, 13, 14, 15, 16, 17, 18, 19, 20, 21, 22, 23, 24, 25, 26, 27, 28, 29, 30, 31, 32, 33, 34, 35, 36, 37, 38, 39, 40, 41, 42, 43, 44, 45, 46, 47, 48, 49, 50, 51, 52, 53, 54, 55, 56, 57, 58, 59, 60, 61, 62, 63, 64, 65, 66, 67, 68, 69, 70, 71, 72, 73, 74, 75, 76, 77, 78, 79, 80, 81, 82, 83, 84, 85, 86, 87, 88, 89, 90, 91, 92, 93, 94, 95, 96, 97, 98, 99, 100, 101, 102, 103, 104, 105, 106, 107, 108, 109, 110, 111, 112, 113, 114, 115, 116, 117, 118, 119, 120, 121, 122, 123, 124, 125, 126, 127, 128, 129, 130, 131, 132, 133, 134, 135, 136, 137, 138, 139, 140, 141, 142, 143, 144, 145, 146, 147, 148, 149, 150, 151, 152, 153, 154, 155, 156, 157, 158, 159, 160, 161, 162, 163, 164, 165, 166, 167, 168, 169, 170, 171, 172, 173, 174, 175, 176, 177, 178, 179, 180, 181, 182, 183, 184, 185, 186, 187, 188, 189, 190, 191, 192, 193, 194, 195, 196, 197, 198, 199, 200, 201, 202, 203, 204, 205, 206, 207, 208, 209, 210, 211, 212, 213, 214, 215, 216, 217, 218, 219, 220, 221, 222, 223, 224, 225, 226, 227, 228, 229, 230, 231, 232, 233, 234, 235, 236, 237, 238, 239, 240, 241, 242, 243, 244, 245, 246, 247, 248, 249, 250, 251, 252, 253, 254, 255, 256, 257, 258, 259, 260, 261, 262, 263, 264, 265, 266, 267, 268, 269, 270, 271, 272, 273, 274, 275, 276, 277, 278, 279, 280, 281, 282, 283, 284, 285, 286, 287, 288, 289, 290, 291, 292, 293, 294, 295, 296, 297, 298, 299, 300, 301, 302, 303, 304, 305, 306, 307, 308, 309, 310, 311, 312, 313, 314, 315, 316, 317, 318, 319, 320, 321, 322, 323, 324, 325, 326, 327, 328, 329, 330, 331, 332, 333, 334, 335, 336, 337, 338, 339, 340, 341, 342, 343, 344, 345, 346, 347, 348, 349, 350, 351, 352, 353, 354, 355, 356, 357, 358, 359, 360, 361, 362, 363, 364, 365, 366, 367, 368, 369, 370, 371, 372, 373, 374, 375, 376, 377, 378, 379, 380, 381, 382, 383, 384, 385, 386, 387, 388, 389, 390, 391, 392, 393, 394, 395, 396, 397, 398, 399, 400, 401, 402, 403, 404, 405, 406, 407, 408, 409, 410, 411, 412, 413, 414, 415, 416, 417, 418, 419, 420, 421, 422, 423, 424, 425, 426, 427, 428, 429, 430, 431, 432, 433, 434, 435, 436, 437, 438, 439, 440, 441, 442, 443, 444, 445, 446, 447, 448, 449, 450, 451, 452, 453, 454, 455, 456, 457, 458, 459, 460, 461, 462, 463, 464, 465, 466, 467, 468, 469, 470, 471, 472, 473, 474, 475, 476, 477, 478, 479, 480, 481, 482, 483, 484, 485, 486, 487, 488, 489, 490, 491, 492, 493, 494, 495, 496, 497, 498, 499, 500, 501, 502, 503, 504, 505, 506, 507, 508, 509, 510, 511, 512, 513, 514, 515, 516, 517, 518, 519, 520, 521, 522, 523, 524, 525, 526, 527, 528, 529, 530, 531, 532, 533, 534, 535, 536, 537, 538, 539, 540, 541, 542, 543, 544, 545, 546, 547, 548, 549, 550, 551, 552, 553, 554, 555, 556, 557, 558, 559, 560, 561, 562, 563, 564, 565, 566, 567, 568, 569, 570, 571, 572, 573, 574, 575, 576, 577, 578, 579, 580, 581, 582, 583, 584, 585, 586, 587, 588, 589, 590, 591, 592, 593, 594, 595, 596, 597, 598, 599, 600, 601, 602, 603, 604, 605, 606, 607, 608, 609, 610, 611, 612, 613, 614, 615, 616, 617, 618, 619, 620, 621, 622, 623, 624, 625, 626, 627, 628, 629, 630, 631, 632, 633, 634, 635, 636, 637, 638, 639, 640, 641, 642, 643, 644, 645, 646, 647, 648, 649, 650, 651, 652, 653, 654, 655, 656, 657, 658, 659, 660, 661, 662, 663, 664, 665, 666, 667, 668, 669, 670, 671, 672, 673, 674, 675, 676, 677, 678, 679, 680, 681, 682, 683, 684, 685, 686, 687, 688, 689, 690, 691, 692, 693, 694, 695, 696, 697, 698, 699, 700, 701, 702, 703, 704, 705, 706, 707, 708, 709, 710, 711, 712, 713, 714, 715, 716, 717, 718, 719, 720, 721, 722, 723, 724, 725, 726, 727, 728, 729, 730, 731, 732, 733, 734, 735, 736, 737, 738, 739, 740, 741, 742, 743, 744, 745, 746, 747, 748, 749, 750, 751, 752, 753, 754, 755, 756, 757, 758, 759, 760, 761, 762, 763, 764, 765, 766, 767, 768, 769, 770, 771, 772, 773, 774, 775, 776, 777, 778, 779, 780, 781, 782, 783, 784, 785, 786, 787, 788, 789, 790, 791, 792, 793, 794, 795, 796, 797, 798, 799, 800, 801, 802, 803, 804, 805, 806, 807, 808, 809, 810, 811, 812, 813, 814, 815, 816, 817, 818, 819, 820, 821, 822, 823, 824, 825, 826, 827, 828, 829, 830, 831, 832, 833, 834, 835, 836, 837, 838, 839, 840, 841, 842, 843, 844, 845, 846, 847, 848, 849, 850, 851, 852, 853, 854, 855, 856, 857, 858, 859, 860, 861, 862, 863, 864, 865, 866, 867, 868, 869, 870, 871, 872, 873, 874, 875, 876, 877, 878, 879, 880, 881, 882, 883, 884, 885, 886, 887, 888, 889, 890, 891, 892, 893, 894, 895, 896, 897, 898, 899, 900, 901, 902, 903, 904, 905, 906, 907, 908, 909, 910, 911, 912, 913, 914, 915, 916, 917, 918, 919, 920, 921, 922, 923, 924, 925, 926, 927, 928, 929, 930, 931, 932, 933, 934, 935, 936, 937, 938, 939, 940, 941, 942, 943, 944, 945, 946, 947, 948, 949, 950, 951, 952, 953, 954, 955, 956, 957, 958, 959, 960, 961, 962, 963, 964, 965, 966, 967, 968, 969, 970, 971, 972, 973, 974, 975, 976, 977, 978, 979, 980, 981, 982, 983, 984, 985, 986, 987, 988, 989, 990, 991, 992, 993, 994, 995, 996, 997, 998, 999, 1000, 1001, 1002, 1003, 1004, 1005, 1006, 1007, 1008, 1009, 1010, 1011, 1012, 1013, 1014, 1015, 1016, 1017, 1018, 1019, 1020, 1021, 1022, 1023, 1024, 1025, 1026, 1027, 1028, 1029, 1030, 1031, 1032, 1033, 1034, 1035, 1036, 1037, 1038, 1039, 1040, 1041, 1042, 1043, 1044, 1045, 1046, 1047, 1048, 1049, 1050, 1051, 1052, 1053, 1054, 1055, 1056, 1057, 1058, 1059, 1060, 1061, 1062, 1063, 1064, 1065, 1066, 1067, 1068, 1069, 1070, 1071, 1072, 1073, 1074, 1075, 1076, 1077, 1078, 1079, 1080, 1081, 1082, 1083, 1084, 1085, 1086, 1087, 1088, 1089, 1090, 1091, 1092, 1093, 1094, 1095, 1096, 1097, 1098, 1099, 1100, 1101, 1102, 1103, 1104, 1105, 1106, 1107, 1108, 1109, 1110, 1111, 1112, 1113, 1114, 1115, 1116, 1117, 1118, 1119, 1120, 1121, 1122, 1123, 1124, 1125, 1126, 1127, 1128, 1129, 1130, 1131, 1132, 1133, 1134, 1135, 1136, 1137, 1138, 1139, 1140, 1141, 1142, 1143, 1144, 1145, 1146, 1147, 1148, 1149, 1150, 1151, 1152, 1153, 1154, 1155, 1156, 1157, 1158, 1159, 1160, 1161, 1162, 1163, 1164, 1165, 1166, 1167, 1168, 1169, 1170, 1171, 1172, 1173, 1174, 1175, 1176, 1177, 1178, 1179, 1180, 1181, 1182, 1183, 1184, 1185, 1186, 1187, 1188, 1189, 1190, 1191, 1192, 1193, 1194, 1195, 1196, 1197, 1198, 1199, 1200, 1201, 1202, 1203, 1204, 1205, 1206, 1207, 1208, 1209, 1210, 1211, 1212, 1213, 1214, 1215, 1216, 1217, 1218, 1219, 1220, 1221, 1222, 1223, 1224, 1225, 1226, 1227, 1228, 1229, 1230, 1231, 1232, 1233, 1234, 1235, 1236, 1237, 1238, 1239, 1240, 1241, 1242, 1243, 1244, 1245, 1246, 1247, 1248, 1249, 1250, 1251, 1252, 1253, 1254, 1255, 1256, 1257, 1258, 1259, 1260, 1261, 1262, 1263, 1264, 1265])\n"
          ]
        }
      ]
    },
    {
      "cell_type": "markdown",
      "metadata": {
        "id": "r-DXUMguC8zM"
      },
      "source": [
        "# **Vocabular und IDs anzeigen als Beispiel**\n",
        "\n",
        "---\n",
        "\n",
        "\n",
        "\n"
      ]
    },
    {
      "cell_type": "code",
      "execution_count": 99,
      "metadata": {
        "colab": {
          "base_uri": "https://localhost:8080/",
          "height": 424
        },
        "id": "6RBJYhLHCfwy",
        "outputId": "b01b3cbb-f466-4208-dd9e-e434413271c3"
      },
      "outputs": [
        {
          "output_type": "execute_result",
          "data": {
            "text/plain": [
              "         word  id\n",
              "0     talking   0\n",
              "1     contact   1\n",
              "2   advantage   2\n",
              "3        race   3\n",
              "4       agree   4\n",
              "..        ...  ..\n",
              "95         uk  95\n",
              "96      price  96\n",
              "97      peace  97\n",
              "98      count  98\n",
              "99   products  99\n",
              "\n",
              "[100 rows x 2 columns]"
            ],
            "text/html": [
              "\n",
              "  <div id=\"df-38bb3442-5969-419a-8ec4-a2f13ec433d0\">\n",
              "    <div class=\"colab-df-container\">\n",
              "      <div>\n",
              "<style scoped>\n",
              "    .dataframe tbody tr th:only-of-type {\n",
              "        vertical-align: middle;\n",
              "    }\n",
              "\n",
              "    .dataframe tbody tr th {\n",
              "        vertical-align: top;\n",
              "    }\n",
              "\n",
              "    .dataframe thead th {\n",
              "        text-align: right;\n",
              "    }\n",
              "</style>\n",
              "<table border=\"1\" class=\"dataframe\">\n",
              "  <thead>\n",
              "    <tr style=\"text-align: right;\">\n",
              "      <th></th>\n",
              "      <th>word</th>\n",
              "      <th>id</th>\n",
              "    </tr>\n",
              "  </thead>\n",
              "  <tbody>\n",
              "    <tr>\n",
              "      <th>0</th>\n",
              "      <td>talking</td>\n",
              "      <td>0</td>\n",
              "    </tr>\n",
              "    <tr>\n",
              "      <th>1</th>\n",
              "      <td>contact</td>\n",
              "      <td>1</td>\n",
              "    </tr>\n",
              "    <tr>\n",
              "      <th>2</th>\n",
              "      <td>advantage</td>\n",
              "      <td>2</td>\n",
              "    </tr>\n",
              "    <tr>\n",
              "      <th>3</th>\n",
              "      <td>race</td>\n",
              "      <td>3</td>\n",
              "    </tr>\n",
              "    <tr>\n",
              "      <th>4</th>\n",
              "      <td>agree</td>\n",
              "      <td>4</td>\n",
              "    </tr>\n",
              "    <tr>\n",
              "      <th>...</th>\n",
              "      <td>...</td>\n",
              "      <td>...</td>\n",
              "    </tr>\n",
              "    <tr>\n",
              "      <th>95</th>\n",
              "      <td>uk</td>\n",
              "      <td>95</td>\n",
              "    </tr>\n",
              "    <tr>\n",
              "      <th>96</th>\n",
              "      <td>price</td>\n",
              "      <td>96</td>\n",
              "    </tr>\n",
              "    <tr>\n",
              "      <th>97</th>\n",
              "      <td>peace</td>\n",
              "      <td>97</td>\n",
              "    </tr>\n",
              "    <tr>\n",
              "      <th>98</th>\n",
              "      <td>count</td>\n",
              "      <td>98</td>\n",
              "    </tr>\n",
              "    <tr>\n",
              "      <th>99</th>\n",
              "      <td>products</td>\n",
              "      <td>99</td>\n",
              "    </tr>\n",
              "  </tbody>\n",
              "</table>\n",
              "<p>100 rows × 2 columns</p>\n",
              "</div>\n",
              "      <button class=\"colab-df-convert\" onclick=\"convertToInteractive('df-38bb3442-5969-419a-8ec4-a2f13ec433d0')\"\n",
              "              title=\"Convert this dataframe to an interactive table.\"\n",
              "              style=\"display:none;\">\n",
              "        \n",
              "  <svg xmlns=\"http://www.w3.org/2000/svg\" height=\"24px\"viewBox=\"0 0 24 24\"\n",
              "       width=\"24px\">\n",
              "    <path d=\"M0 0h24v24H0V0z\" fill=\"none\"/>\n",
              "    <path d=\"M18.56 5.44l.94 2.06.94-2.06 2.06-.94-2.06-.94-.94-2.06-.94 2.06-2.06.94zm-11 1L8.5 8.5l.94-2.06 2.06-.94-2.06-.94L8.5 2.5l-.94 2.06-2.06.94zm10 10l.94 2.06.94-2.06 2.06-.94-2.06-.94-.94-2.06-.94 2.06-2.06.94z\"/><path d=\"M17.41 7.96l-1.37-1.37c-.4-.4-.92-.59-1.43-.59-.52 0-1.04.2-1.43.59L10.3 9.45l-7.72 7.72c-.78.78-.78 2.05 0 2.83L4 21.41c.39.39.9.59 1.41.59.51 0 1.02-.2 1.41-.59l7.78-7.78 2.81-2.81c.8-.78.8-2.07 0-2.86zM5.41 20L4 18.59l7.72-7.72 1.47 1.35L5.41 20z\"/>\n",
              "  </svg>\n",
              "      </button>\n",
              "      \n",
              "  <style>\n",
              "    .colab-df-container {\n",
              "      display:flex;\n",
              "      flex-wrap:wrap;\n",
              "      gap: 12px;\n",
              "    }\n",
              "\n",
              "    .colab-df-convert {\n",
              "      background-color: #E8F0FE;\n",
              "      border: none;\n",
              "      border-radius: 50%;\n",
              "      cursor: pointer;\n",
              "      display: none;\n",
              "      fill: #1967D2;\n",
              "      height: 32px;\n",
              "      padding: 0 0 0 0;\n",
              "      width: 32px;\n",
              "    }\n",
              "\n",
              "    .colab-df-convert:hover {\n",
              "      background-color: #E2EBFA;\n",
              "      box-shadow: 0px 1px 2px rgba(60, 64, 67, 0.3), 0px 1px 3px 1px rgba(60, 64, 67, 0.15);\n",
              "      fill: #174EA6;\n",
              "    }\n",
              "\n",
              "    [theme=dark] .colab-df-convert {\n",
              "      background-color: #3B4455;\n",
              "      fill: #D2E3FC;\n",
              "    }\n",
              "\n",
              "    [theme=dark] .colab-df-convert:hover {\n",
              "      background-color: #434B5C;\n",
              "      box-shadow: 0px 1px 3px 1px rgba(0, 0, 0, 0.15);\n",
              "      filter: drop-shadow(0px 1px 2px rgba(0, 0, 0, 0.3));\n",
              "      fill: #FFFFFF;\n",
              "    }\n",
              "  </style>\n",
              "\n",
              "      <script>\n",
              "        const buttonEl =\n",
              "          document.querySelector('#df-38bb3442-5969-419a-8ec4-a2f13ec433d0 button.colab-df-convert');\n",
              "        buttonEl.style.display =\n",
              "          google.colab.kernel.accessAllowed ? 'block' : 'none';\n",
              "\n",
              "        async function convertToInteractive(key) {\n",
              "          const element = document.querySelector('#df-38bb3442-5969-419a-8ec4-a2f13ec433d0');\n",
              "          const dataTable =\n",
              "            await google.colab.kernel.invokeFunction('convertToInteractive',\n",
              "                                                     [key], {});\n",
              "          if (!dataTable) return;\n",
              "\n",
              "          const docLinkHtml = 'Like what you see? Visit the ' +\n",
              "            '<a target=\"_blank\" href=https://colab.research.google.com/notebooks/data_table.ipynb>data table notebook</a>'\n",
              "            + ' to learn more about interactive tables.';\n",
              "          element.innerHTML = '';\n",
              "          dataTable['output_type'] = 'display_data';\n",
              "          await google.colab.output.renderOutput(dataTable, element);\n",
              "          const docLink = document.createElement('div');\n",
              "          docLink.innerHTML = docLinkHtml;\n",
              "          element.appendChild(docLink);\n",
              "        }\n",
              "      </script>\n",
              "    </div>\n",
              "  </div>\n",
              "  "
            ]
          },
          "metadata": {},
          "execution_count": 99
        }
      ],
      "source": [
        "# show for samples: 100 word2id and id2 word\n",
        "word2id_df_100 = pd.DataFrame()\n",
        "word2id_df_100['word'] = list(word2id.keys())[:100]\n",
        "word2id_df_100['id'] = list(word2id.values())[:100]\n",
        "word2id_df_100"
      ]
    },
    {
      "cell_type": "markdown",
      "metadata": {
        "id": "tupeI6Pw85_L"
      },
      "source": [
        "# **Die Größe von Datensätzen kontrollieren**"
      ]
    },
    {
      "cell_type": "code",
      "execution_count": 100,
      "metadata": {
        "colab": {
          "base_uri": "https://localhost:8080/"
        },
        "id": "n1d-5ji3qwE8",
        "outputId": "bb79d6cf-0db0-40b3-dacd-cfd5598ed908"
      },
      "outputs": [
        {
          "output_type": "stream",
          "name": "stdout",
          "text": [
            "Size of the vocabulary after prprocessing ist: 1266\n",
            "Size of train set: 619\n",
            "Size of val set: 101\n",
            "Size of test set: 80\n"
          ]
        }
      ],
      "source": [
        "# Kontrollieren die Größen von verschiedenen Datensätzen\n",
        "print(f'Size of the vocabulary after prprocessing ist: {len(textsloader.vocabulary)}')\n",
        "print(f'Size of train set: {len(train_set[\"tokens\"])}')\n",
        "print(f'Size of val set: {len(val_set[\"tokens\"])}')\n",
        "print(f'Size of test set: {len(test_set[\"test\"][\"tokens\"])}')"
      ]
    },
    {
      "cell_type": "markdown",
      "metadata": {
        "id": "bxQL5jQtDb1c"
      },
      "source": [
        "# **Dokumenten wiederstellen für Word2Vec Embedding**\n",
        "\n",
        "---\n",
        "\n"
      ]
    },
    {
      "cell_type": "code",
      "execution_count": 101,
      "metadata": {
        "colab": {
          "base_uri": "https://localhost:8080/",
          "height": 424
        },
        "id": "PDXEEBHfq3Cy",
        "outputId": "02367ee6-09c0-4cb1-cdde-ff5a75d63dee"
      },
      "outputs": [
        {
          "output_type": "execute_result",
          "data": {
            "text/plain": [
              "                             text-after-preprocessing\n",
              "0   james warning read nntp posting host engineeri...\n",
              "1   au austin anti question nntp posting host cs o...\n",
              "2   bill texas university computing services distr...\n",
              "3   heaven biblical reply university chicago artic...\n",
              "4   cco caltech kevin nl week california institute...\n",
              "..                                                ...\n",
              "95  mi doug distribution world central sale includ...\n",
              "96  steve reply technology article dale dale write...\n",
              "97  stanford driver computer science department st...\n",
              "98  john summary keywords nntp posting host resear...\n",
              "99  cb att joseph request mail list article distri...\n",
              "\n",
              "[100 rows x 1 columns]"
            ],
            "text/html": [
              "\n",
              "  <div id=\"df-fcefaade-57df-465a-96a6-6e22fe98465d\">\n",
              "    <div class=\"colab-df-container\">\n",
              "      <div>\n",
              "<style scoped>\n",
              "    .dataframe tbody tr th:only-of-type {\n",
              "        vertical-align: middle;\n",
              "    }\n",
              "\n",
              "    .dataframe tbody tr th {\n",
              "        vertical-align: top;\n",
              "    }\n",
              "\n",
              "    .dataframe thead th {\n",
              "        text-align: right;\n",
              "    }\n",
              "</style>\n",
              "<table border=\"1\" class=\"dataframe\">\n",
              "  <thead>\n",
              "    <tr style=\"text-align: right;\">\n",
              "      <th></th>\n",
              "      <th>text-after-preprocessing</th>\n",
              "    </tr>\n",
              "  </thead>\n",
              "  <tbody>\n",
              "    <tr>\n",
              "      <th>0</th>\n",
              "      <td>james warning read nntp posting host engineeri...</td>\n",
              "    </tr>\n",
              "    <tr>\n",
              "      <th>1</th>\n",
              "      <td>au austin anti question nntp posting host cs o...</td>\n",
              "    </tr>\n",
              "    <tr>\n",
              "      <th>2</th>\n",
              "      <td>bill texas university computing services distr...</td>\n",
              "    </tr>\n",
              "    <tr>\n",
              "      <th>3</th>\n",
              "      <td>heaven biblical reply university chicago artic...</td>\n",
              "    </tr>\n",
              "    <tr>\n",
              "      <th>4</th>\n",
              "      <td>cco caltech kevin nl week california institute...</td>\n",
              "    </tr>\n",
              "    <tr>\n",
              "      <th>...</th>\n",
              "      <td>...</td>\n",
              "    </tr>\n",
              "    <tr>\n",
              "      <th>95</th>\n",
              "      <td>mi doug distribution world central sale includ...</td>\n",
              "    </tr>\n",
              "    <tr>\n",
              "      <th>96</th>\n",
              "      <td>steve reply technology article dale dale write...</td>\n",
              "    </tr>\n",
              "    <tr>\n",
              "      <th>97</th>\n",
              "      <td>stanford driver computer science department st...</td>\n",
              "    </tr>\n",
              "    <tr>\n",
              "      <th>98</th>\n",
              "      <td>john summary keywords nntp posting host resear...</td>\n",
              "    </tr>\n",
              "    <tr>\n",
              "      <th>99</th>\n",
              "      <td>cb att joseph request mail list article distri...</td>\n",
              "    </tr>\n",
              "  </tbody>\n",
              "</table>\n",
              "<p>100 rows × 1 columns</p>\n",
              "</div>\n",
              "      <button class=\"colab-df-convert\" onclick=\"convertToInteractive('df-fcefaade-57df-465a-96a6-6e22fe98465d')\"\n",
              "              title=\"Convert this dataframe to an interactive table.\"\n",
              "              style=\"display:none;\">\n",
              "        \n",
              "  <svg xmlns=\"http://www.w3.org/2000/svg\" height=\"24px\"viewBox=\"0 0 24 24\"\n",
              "       width=\"24px\">\n",
              "    <path d=\"M0 0h24v24H0V0z\" fill=\"none\"/>\n",
              "    <path d=\"M18.56 5.44l.94 2.06.94-2.06 2.06-.94-2.06-.94-.94-2.06-.94 2.06-2.06.94zm-11 1L8.5 8.5l.94-2.06 2.06-.94-2.06-.94L8.5 2.5l-.94 2.06-2.06.94zm10 10l.94 2.06.94-2.06 2.06-.94-2.06-.94-.94-2.06-.94 2.06-2.06.94z\"/><path d=\"M17.41 7.96l-1.37-1.37c-.4-.4-.92-.59-1.43-.59-.52 0-1.04.2-1.43.59L10.3 9.45l-7.72 7.72c-.78.78-.78 2.05 0 2.83L4 21.41c.39.39.9.59 1.41.59.51 0 1.02-.2 1.41-.59l7.78-7.78 2.81-2.81c.8-.78.8-2.07 0-2.86zM5.41 20L4 18.59l7.72-7.72 1.47 1.35L5.41 20z\"/>\n",
              "  </svg>\n",
              "      </button>\n",
              "      \n",
              "  <style>\n",
              "    .colab-df-container {\n",
              "      display:flex;\n",
              "      flex-wrap:wrap;\n",
              "      gap: 12px;\n",
              "    }\n",
              "\n",
              "    .colab-df-convert {\n",
              "      background-color: #E8F0FE;\n",
              "      border: none;\n",
              "      border-radius: 50%;\n",
              "      cursor: pointer;\n",
              "      display: none;\n",
              "      fill: #1967D2;\n",
              "      height: 32px;\n",
              "      padding: 0 0 0 0;\n",
              "      width: 32px;\n",
              "    }\n",
              "\n",
              "    .colab-df-convert:hover {\n",
              "      background-color: #E2EBFA;\n",
              "      box-shadow: 0px 1px 2px rgba(60, 64, 67, 0.3), 0px 1px 3px 1px rgba(60, 64, 67, 0.15);\n",
              "      fill: #174EA6;\n",
              "    }\n",
              "\n",
              "    [theme=dark] .colab-df-convert {\n",
              "      background-color: #3B4455;\n",
              "      fill: #D2E3FC;\n",
              "    }\n",
              "\n",
              "    [theme=dark] .colab-df-convert:hover {\n",
              "      background-color: #434B5C;\n",
              "      box-shadow: 0px 1px 3px 1px rgba(0, 0, 0, 0.15);\n",
              "      filter: drop-shadow(0px 1px 2px rgba(0, 0, 0, 0.3));\n",
              "      fill: #FFFFFF;\n",
              "    }\n",
              "  </style>\n",
              "\n",
              "      <script>\n",
              "        const buttonEl =\n",
              "          document.querySelector('#df-fcefaade-57df-465a-96a6-6e22fe98465d button.colab-df-convert');\n",
              "        buttonEl.style.display =\n",
              "          google.colab.kernel.accessAllowed ? 'block' : 'none';\n",
              "\n",
              "        async function convertToInteractive(key) {\n",
              "          const element = document.querySelector('#df-fcefaade-57df-465a-96a6-6e22fe98465d');\n",
              "          const dataTable =\n",
              "            await google.colab.kernel.invokeFunction('convertToInteractive',\n",
              "                                                     [key], {});\n",
              "          if (!dataTable) return;\n",
              "\n",
              "          const docLinkHtml = 'Like what you see? Visit the ' +\n",
              "            '<a target=\"_blank\" href=https://colab.research.google.com/notebooks/data_table.ipynb>data table notebook</a>'\n",
              "            + ' to learn more about interactive tables.';\n",
              "          element.innerHTML = '';\n",
              "          dataTable['output_type'] = 'display_data';\n",
              "          await google.colab.output.renderOutput(dataTable, element);\n",
              "          const docLink = document.createElement('div');\n",
              "          docLink.innerHTML = docLinkHtml;\n",
              "          element.appendChild(docLink);\n",
              "        }\n",
              "      </script>\n",
              "    </div>\n",
              "  </div>\n",
              "  "
            ]
          },
          "metadata": {},
          "execution_count": 101
        }
      ],
      "source": [
        "# re-erstellen von Dokumenten nach der Vorverarbeitungen. Die Dokumenten sind in Wörtern und werden für Word-Embedding Training benutzt\n",
        "docs_tr, docs_t, docs_v = textsloader.get_docs_in_words_for_each_set()\n",
        "train_docs_df = pd.DataFrame()\n",
        "train_docs_df['text-after-preprocessing'] = [' '.join(doc) for doc in docs_tr[:100]]\n",
        "train_docs_df"
      ]
    },
    {
      "cell_type": "markdown",
      "metadata": {
        "id": "Ds_KuUTQrK5P"
      },
      "source": [
        "# **Word-Embedding trainieren mit dem Traindatensatz**"
      ]
    },
    {
      "cell_type": "code",
      "execution_count": 102,
      "metadata": {
        "colab": {
          "base_uri": "https://localhost:8080/",
          "height": 924
        },
        "id": "KBexKIVf8Qs5",
        "outputId": "5cd65440-5f23-4f13-b4a6-f4ad3188ecdd"
      },
      "outputs": [
        {
          "output_type": "stream",
          "name": "stdout",
          "text": [
            "train begin:word-embedding with skipgram\n",
            "word-embedding train finished\n",
            "length of vocabulary from word-embedding model 1266\n",
            "length of the vocabulary of prepraring-dataset-vocabulary: 1266\n"
          ]
        },
        {
          "output_type": "stream",
          "name": "stderr",
          "text": [
            "100%|██████████| 1266/1266 [00:00<00:00, 1942.96it/s]\n"
          ]
        },
        {
          "output_type": "stream",
          "name": "stdout",
          "text": [
            "Cluster id labels for inputted data\n",
            "[8 1 1 ... 8 1 8]\n",
            "Centroids data\n",
            "[[ 8.87494805e-02  1.49222399e-02  5.22828200e-02 ...  9.43244256e-02\n",
            "   4.35621769e-02  7.33457271e-02]\n",
            " [ 1.05994615e-01  5.47219753e-03  5.58091683e-02 ...  6.42180293e-02\n",
            "   4.15632112e-03  4.52883111e-02]\n",
            " [ 2.85312797e-02  6.52575295e-02  5.69996294e-02 ...  2.66089723e-01\n",
            "   2.44440961e-01  2.33302460e-01]\n",
            " ...\n",
            " [ 1.35476300e-01 -9.97857848e-03  6.29632116e-02 ...  1.40111579e-02\n",
            "  -5.87174899e-02  6.67840304e-04]\n",
            " [ 1.17703246e-01 -1.00042720e-04  5.89381612e-02 ...  4.72140953e-02\n",
            "  -1.79069537e-02  2.98903987e-02]\n",
            " [ 4.26100108e-02  4.74440137e-02  4.47826040e-02 ...  1.92654880e-01\n",
            "   1.51377370e-01  1.58386448e-01]]\n"
          ]
        },
        {
          "output_type": "display_data",
          "data": {
            "text/html": [
              "<html>\n",
              "<head><meta charset=\"utf-8\" /></head>\n",
              "<body>\n",
              "    <div>            <script src=\"https://cdnjs.cloudflare.com/ajax/libs/mathjax/2.7.5/MathJax.js?config=TeX-AMS-MML_SVG\"></script><script type=\"text/javascript\">if (window.MathJax) {MathJax.Hub.Config({SVG: {font: \"STIX-Web\"}});}</script>                <script type=\"text/javascript\">window.PlotlyConfig = {MathJaxConfig: 'local'};</script>\n",
              "        <script src=\"https://cdn.plot.ly/plotly-2.11.1.min.js\"></script>                <div id=\"d0270c3e-5ab1-4805-98bd-556b017d163a\" class=\"plotly-graph-div\" style=\"height:525px; width:100%;\"></div>            <script type=\"text/javascript\">                                    window.PLOTLYENV=window.PLOTLYENV || {};                                    if (document.getElementById(\"d0270c3e-5ab1-4805-98bd-556b017d163a\")) {                    Plotly.newPlot(                        \"d0270c3e-5ab1-4805-98bd-556b017d163a\",                        [{\"hovertemplate\":\"cluster=cluster 8<br>x=%{x}<br>y=%{y}<extra></extra>\",\"legendgroup\":\"cluster 8\",\"marker\":{\"color\":\"#636efa\",\"symbol\":\"circle\"},\"mode\":\"markers\",\"name\":\"cluster 8\",\"showlegend\":true,\"x\":[15.23702335357666,15.205254554748535,14.714912414550781,14.525457382202148,14.724557876586914,12.7382230758667,13.20261287689209,14.505912780761719,15.76477336883545,13.923901557922363,12.353723526000977,14.447173118591309,14.77917766571045,14.269037246704102,13.491668701171875,14.641331672668457,13.457218170166016,14.536286354064941,14.750151634216309,12.448803901672363,12.376208305358887,12.094436645507812,12.91999626159668,13.737977981567383,14.279277801513672,13.35334587097168,14.565441131591797,11.865885734558105,11.59174633026123,13.459547996520996,11.312828063964844,13.512767791748047,13.122354507446289,12.480237007141113,15.108063697814941,14.96065616607666,14.058016777038574,14.33769416809082,14.200685501098633,11.989860534667969,14.766153335571289,13.141796112060547,15.622377395629883,15.566473960876465,14.140189170837402,12.715499877929688,13.888418197631836,14.392457008361816,15.31352424621582,12.98367977142334,13.790063858032227,12.74191951751709,14.798439025878906,12.774377822875977,12.170700073242188,12.18979549407959,15.246430397033691,13.6819486618042,14.664443016052246,12.811829566955566,14.288395881652832,14.426688194274902,14.46871566772461,14.390856742858887,13.37109088897705,14.16207218170166,12.6537504196167,13.84527587890625,14.271211624145508,14.03291130065918,14.40317440032959,12.72986888885498,14.116558074951172,12.145840644836426,13.667238235473633,14.735279083251953,15.308331489562988,14.13818359375,14.800780296325684,14.244414329528809,11.890945434570312,13.20124340057373,15.784516334533691,14.562483787536621,12.63735580444336,11.212382316589355,14.618261337280273,12.12144947052002,14.548615455627441,15.066940307617188,12.687264442443848,13.73078441619873,13.354089736938477,12.50672721862793,14.44533920288086,15.824931144714355,11.464743614196777,14.590047836303711,13.255727767944336,15.047606468200684,13.093061447143555,14.823113441467285,12.57175350189209,12.676922798156738,13.317520141601562,14.1483793258667,13.93960952758789,11.998861312866211,14.406914710998535,11.962983131408691,12.038908004760742,12.950859069824219,12.229530334472656,14.665249824523926,13.237942695617676,15.775691032409668,12.274003982543945,14.463567733764648,12.575109481811523,12.466922760009766,15.211008071899414,13.523123741149902,13.263201713562012,11.537253379821777,14.86668586730957,14.34737491607666,14.364520072937012,12.61974811553955,14.918709754943848,11.52089786529541,14.223254203796387,13.773646354675293,15.239989280700684,14.524645805358887,13.750961303710938,12.144709587097168,14.571502685546875,12.75902271270752,14.508440971374512,12.30712890625,15.661662101745605,13.929760932922363,15.751673698425293,12.797150611877441,12.683679580688477,12.44553279876709,14.776651382446289,13.763440132141113,13.382375717163086,15.355122566223145,11.548259735107422,12.970479011535645,13.090214729309082,13.860158920288086,13.204373359680176,11.70939826965332,14.17525577545166,14.050443649291992,12.458313941955566,12.604443550109863,13.733314514160156,14.372945785522461,12.65999984741211,13.313949584960938,13.373753547668457,14.398382186889648,13.553936958312988,13.863343238830566,14.379548072814941,13.183812141418457,13.44355297088623,15.704787254333496,13.517579078674316,13.829835891723633,15.613292694091797,14.282337188720703,13.302871704101562,11.367570877075195,14.378009796142578,12.864838600158691,12.640664100646973,14.44892692565918,13.679801940917969,13.382007598876953,14.029373168945312,12.6758394241333,12.004118919372559,12.666535377502441,11.253670692443848,14.239802360534668,13.87364387512207,14.461037635803223,13.668309211730957,13.886422157287598,14.051326751708984,11.890668869018555,11.805301666259766,12.691693305969238,12.911134719848633,13.033035278320312,11.718093872070312,11.715229034423828,14.41425609588623,12.944258689880371,14.366901397705078,11.479576110839844,14.267904281616211,13.393362045288086,12.66035270690918,12.13138198852539,13.631321907043457,12.609971046447754,11.562771797180176,13.70547866821289,13.567062377929688,11.4979248046875,11.936781883239746,15.133121490478516,11.553994178771973,13.532183647155762,11.430858612060547,12.106249809265137,12.758760452270508,13.526203155517578,13.885591506958008,15.732099533081055,15.684638023376465,13.786888122558594,12.19807243347168,14.702774047851562,12.680296897888184,12.999612808227539,14.536799430847168,13.340587615966797,14.89243221282959,15.601333618164062,13.740601539611816,13.881974220275879,14.585515975952148,15.101386070251465,14.42741584777832,12.655367851257324,13.46790885925293,14.264421463012695,11.787972450256348,13.96716022491455,12.94040584564209,13.895609855651855,14.455607414245605,13.35204029083252,12.431513786315918,13.325050354003906,14.392935752868652,14.887596130371094,15.737088203430176,12.220585823059082,13.792010307312012,14.736224174499512,11.952017784118652,13.240368843078613,12.3930025100708,14.4330472946167,11.953659057617188,14.537152290344238,11.444761276245117,13.67670726776123,14.834880828857422,13.695297241210938,14.15243148803711,12.476602554321289,13.340410232543945,12.4370698928833,11.930773735046387,13.73775577545166,13.308873176574707,12.513381958007812,14.512975692749023,13.890362739562988,14.826186180114746,13.477422714233398,12.414212226867676,15.138102531433105,13.852142333984375,13.406436920166016,15.356706619262695,14.380802154541016,12.737015724182129,13.29411792755127,14.350591659545898,13.359681129455566,15.226615905761719,12.01512336730957,12.611230850219727,13.581780433654785,14.38204288482666,14.36343002319336,12.061922073364258,12.007513046264648,12.438820838928223,12.210745811462402,13.719992637634277,13.498607635498047,13.055562019348145,12.604040145874023,14.238582611083984,13.397818565368652,15.686326026916504,14.706238746643066,11.909428596496582,13.57722282409668,13.964914321899414,14.977595329284668,15.096567153930664,13.479576110839844,12.485158920288086,11.305643081665039,12.855887413024902,14.367883682250977,13.968944549560547,12.372099876403809,13.583595275878906,14.353231430053711,13.688610076904297,13.58234691619873,14.652216911315918,11.154851913452148,14.526230812072754,14.424667358398438,15.235801696777344,12.924388885498047,11.908686637878418,14.380672454833984,11.95466136932373,14.170092582702637,11.482550621032715,12.046727180480957,15.079919815063477,11.357797622680664,13.0497407913208,13.490673065185547,13.214034080505371,14.570816993713379,12.315258979797363,11.289047241210938,11.446309089660645,13.437363624572754,14.991413116455078,11.997941017150879,14.372587203979492,12.24491024017334,14.931513786315918,12.460572242736816,13.963709831237793,13.84974193572998,12.42391586303711,15.370121002197266,14.40412425994873,14.144318580627441,15.036356925964355,12.65984058380127,12.350826263427734,12.664934158325195,11.918045043945312,12.72933578491211,13.499058723449707,15.35707950592041,13.825139999389648,13.086983680725098,14.352517127990723,13.35283088684082,12.647911071777344,11.623078346252441,14.260963439941406,13.781780242919922,12.321508407592773,15.232159614562988,14.024689674377441,12.87123966217041,13.785961151123047,14.39487361907959,14.481411933898926,15.260224342346191],\"xaxis\":\"x\",\"y\":[1.665688395500183,1.5546441078186035,2.8903696537017822,1.467591643333435,2.333225727081299,6.406759738922119,1.3804877996444702,2.401585578918457,1.987460970878601,5.344894886016846,3.346652030944824,3.8336563110351562,0.5589374303817749,5.459493637084961,3.8038151264190674,2.7606451511383057,0.6669797897338867,3.055710554122925,0.8326317071914673,5.729167461395264,3.1655447483062744,4.891304016113281,4.924844741821289,3.204218864440918,3.808140516281128,3.692160129547119,2.3769397735595703,5.092948913574219,5.026146411895752,1.9404120445251465,4.575418472290039,4.006797790527344,4.726284027099609,5.30150032043457,0.684073805809021,1.848467230796814,2.729719877243042,4.1152801513671875,3.2199532985687256,5.7955851554870605,0.977484941482544,3.4525036811828613,2.2475709915161133,1.7222557067871094,2.68216609954834,3.7980029582977295,3.8997058868408203,3.3636221885681152,1.7807555198669434,4.877284526824951,4.726236343383789,3.6122958660125732,0.6832047700881958,4.861799716949463,4.555737018585205,4.542069435119629,2.511941432952881,0.4641643464565277,2.701202630996704,4.0837297439575195,5.223197937011719,4.66669225692749,4.05528450012207,3.5832581520080566,3.7878000736236572,1.5117729902267456,5.71006441116333,2.4677178859710693,3.970132827758789,2.585453510284424,1.5022375583648682,5.115703582763672,4.398033618927002,4.703858375549316,3.467395305633545,3.2327799797058105,1.7720818519592285,0.7931885719299316,0.35562416911125183,2.4842264652252197,4.860213279724121,3.5244696140289307,1.6908637285232544,2.3490495681762695,3.6732122898101807,4.825906276702881,4.509342670440674,3.6310672760009766,4.68072509765625,1.6627552509307861,5.6888275146484375,1.5847887992858887,2.3246355056762695,3.674978017807007,0.9461331367492676,1.7831090688705444,4.174424171447754,3.096240997314453,2.317223072052002,1.6565351486206055,7.2219038009643555,2.690314531326294,4.506814002990723,4.3826165199279785,6.366252899169922,3.2391366958618164,0.40683746337890625,4.595991611480713,1.1275066137313843,3.598828077316284,4.564302921295166,4.801043510437012,5.179825782775879,3.0055692195892334,6.207005977630615,1.7303524017333984,6.888019561767578,1.189621090888977,5.913399696350098,4.71337890625,1.6781666278839111,1.9927551746368408,1.460655927658081,4.194060325622559,2.5824801921844482,2.9889414310455322,4.319007396697998,3.3045506477355957,2.7199819087982178,4.93663215637207,5.196620464324951,3.4154162406921387,1.9709855318069458,4.458183288574219,3.460698127746582,4.632806301116943,1.0891090631484985,5.645354747772217,4.399031162261963,4.549855709075928,1.6321511268615723,2.5533969402313232,1.7044399976730347,4.655104160308838,5.59709358215332,4.931120872497559,3.046175479888916,5.017407417297363,0.751960039138794,2.46980357170105,4.099424362182617,6.658294677734375,6.149703502655029,4.852185249328613,6.1935811042785645,3.851240634918213,5.505517482757568,3.611318588256836,3.400937795639038,5.100872993469238,5.164884090423584,1.3784019947052002,4.087467193603516,1.3796976804733276,4.542921543121338,1.3773127794265747,4.004114627838135,0.4384062886238098,4.162191390991211,5.239513874053955,3.4064197540283203,1.8466625213623047,5.766933917999268,5.121972560882568,1.9128211736679077,1.057124137878418,1.3695712089538574,4.58467435836792,1.8271443843841553,4.902071475982666,5.616241931915283,2.8013486862182617,5.316067218780518,5.73743200302124,3.850208044052124,4.9579854011535645,5.703751087188721,6.070197582244873,4.875328063964844,5.247684001922607,2.685238838195801,2.7209084033966064,5.214492321014404,3.323962926864624,5.609658241271973,4.809547424316406,3.734398126602173,5.03698205947876,6.692348003387451,6.46776819229126,5.010557174682617,5.107873916625977,4.198678970336914,5.304093360900879,1.394792079925537,5.287369251251221,3.9692676067352295,3.018808603286743,4.755776882171631,3.504499912261963,1.7490311861038208,5.906961441040039,5.211859226226807,4.507036209106445,4.5442914962768555,5.219620227813721,3.7081942558288574,1.5404797792434692,4.158207416534424,5.860017776489258,4.245397090911865,4.979640960693359,5.051943302154541,2.076350688934326,2.016176462173462,1.9137580394744873,1.8900012969970703,4.857110023498535,5.438138008117676,0.390311062335968,4.617063522338867,5.85701322555542,1.783592939376831,4.6645026206970215,2.5395078659057617,1.8380273580551147,4.947585105895996,5.786512851715088,1.7584493160247803,1.6147395372390747,3.5814850330352783,5.738426208496094,0.5925472378730774,5.489924430847168,5.144508361816406,4.604050159454346,6.589523792266846,2.1745753288269043,1.3247541189193726,1.5386265516281128,5.9460625648498535,1.4837321043014526,2.2276196479797363,1.713179111480713,1.8726370334625244,4.803788185119629,4.9068403244018555,2.374586582183838,4.63297700881958,4.827950477600098,3.5931754112243652,4.982588291168213,3.8477683067321777,4.674563407897949,4.999289512634277,0.48583081364631653,0.3965001702308655,4.968100070953369,5.540562152862549,3.549811840057373,5.882317066192627,4.5506696701049805,4.513020992279053,3.99979567527771,6.178261756896973,5.128035545349121,2.252033233642578,4.965482711791992,0.9336444735527039,5.843033790588379,3.522869348526001,1.4974350929260254,0.44375020265579224,5.9456281661987305,1.6769349575042725,4.778790473937988,5.5572733879089355,1.5096279382705688,2.5057878494262695,3.5973362922668457,1.5265640020370483,5.167517185211182,3.590540885925293,4.6997528076171875,3.801206111907959,4.152659893035889,3.63130259513855,4.544045448303223,5.080104827880859,4.519355773925781,5.431456565856934,2.5440826416015625,6.079362869262695,4.576035022735596,4.185617923736572,3.671221971511841,1.9314748048782349,0.7252404689788818,4.547418117523193,3.895007610321045,3.2833058834075928,1.6388123035430908,2.6561665534973145,3.984494209289551,5.078460693359375,4.9292449951171875,4.757950782775879,3.930169105529785,2.5073697566986084,4.3773698806762695,3.2724993228912354,2.9935476779937744,2.668950080871582,4.822815418243408,2.3885631561279297,4.773590564727783,2.8588504791259766,1.3674885034561157,1.7161296606063843,4.168679714202881,3.581204891204834,4.243288516998291,4.57550573348999,3.2278923988342285,4.255126476287842,5.8955512046813965,0.9876444935798645,4.717093467712402,5.269681453704834,3.7040467262268066,3.9758849143981934,3.1306960582733154,6.113683223724365,4.823378086090088,4.136990070343018,3.6149754524230957,2.6470959186553955,5.8116230964660645,4.153234481811523,6.08410120010376,0.9449069499969482,5.6098480224609375,2.538724184036255,2.664306402206421,5.182649612426758,2.065016031265259,1.3133465051651,3.5641753673553467,1.3731995820999146,6.732511043548584,3.3390614986419678,3.6185574531555176,5.645478248596191,5.560176372528076,1.7917675971984863,1.335474967956543,5.257367134094238,4.777356147766113,3.002934455871582,0.7720628380775452,4.740493297576904,4.710088729858398,4.1536455154418945,5.163710117340088,6.10167121887207,1.0848535299301147,0.697202742099762,4.261629104614258,3.459583282470703,1.4592374563217163,4.660404205322266,1.749738097190857],\"yaxis\":\"y\",\"type\":\"scattergl\"},{\"hovertemplate\":\"cluster=cluster 1<br>x=%{x}<br>y=%{y}<extra></extra>\",\"legendgroup\":\"cluster 1\",\"marker\":{\"color\":\"#EF553B\",\"symbol\":\"circle\"},\"mode\":\"markers\",\"name\":\"cluster 1\",\"showlegend\":true,\"x\":[12.160835266113281,12.102827072143555,4.596022605895996,10.49361801147461,6.468070983886719,4.510997295379639,10.798466682434082,3.8518178462982178,9.649934768676758,7.15331506729126,10.702337265014648,7.755818843841553,7.732262134552002,12.7659912109375,10.749821662902832,6.0785393714904785,9.648801803588867,12.518633842468262,10.103565216064453,9.613198280334473,4.703197479248047,4.087108612060547,9.729277610778809,9.392671585083008,7.902135372161865,9.495935440063477,8.114972114562988,10.163569450378418,6.245270729064941,7.252436637878418,10.075544357299805,3.339017868041992,9.525142669677734,2.7440505027770996,7.49879789352417,3.118492364883423,8.354642868041992,8.056283950805664,11.665993690490723,11.18170166015625,9.313419342041016,7.123051643371582,9.839802742004395,6.6867218017578125,8.170897483825684,4.37822961807251,7.305753707885742,2.9738852977752686,9.685320854187012,7.118090629577637,7.575953006744385,7.362127780914307,13.041491508483887,12.406778335571289,8.343823432922363,9.709815979003906,11.447839736938477,8.118277549743652,2.755692958831787,4.417541980743408,3.8700664043426514,12.184202194213867,3.1666650772094727,8.136784553527832,7.113502502441406,3.030872344970703,8.06771183013916,7.8312907218933105,9.76024055480957,9.378314971923828,10.520240783691406,5.919264793395996,11.17177963256836,7.4196953773498535,9.585318565368652,7.826095104217529,5.744673728942871,10.095794677734375,6.723316192626953,9.597496032714844,6.853590965270996,6.950888633728027,4.022287845611572,5.964151859283447,10.40851879119873,12.917421340942383,12.07883071899414,10.29420280456543,8.583770751953125,6.592621326446533,9.60574722290039,11.200701713562012,4.596912860870361,5.497710227966309,7.037617206573486,9.381217956542969,4.523614883422852,3.7704436779022217,7.795358657836914,6.744941711425781,4.607964515686035,9.799639701843262,6.589673042297363,6.994818210601807,11.219385147094727,7.6503400802612305,5.306834697723389,11.472753524780273,3.5686748027801514,2.936157464981079,8.08014965057373,13.096440315246582,7.201047897338867,13.11172103881836,3.6688108444213867,9.832924842834473,4.197022438049316,9.391444206237793,7.171499252319336,11.69538688659668,7.847111701965332,7.492907524108887,10.837899208068848,8.289021492004395,11.10639476776123,8.411070823669434,5.960150718688965,11.505661010742188,9.568746566772461,9.542546272277832,8.162611961364746,6.169493198394775,9.586010932922363,10.708749771118164,4.740418910980225,10.833327293395996,7.859521865844727,7.8857197761535645,6.371304512023926,3.6103193759918213,7.465076923370361,10.490973472595215,8.656697273254395,8.215971946716309,6.663424015045166,5.81652307510376,3.7643773555755615,7.053371429443359,4.475753307342529,3.6982452869415283,10.523929595947266,4.1621551513671875,8.045642852783203,11.679272651672363,11.123185157775879,8.09479808807373,10.748353958129883,9.680930137634277,5.218615531921387,2.8079166412353516,9.65913200378418,5.987897872924805,4.351783752441406,10.753815650939941,4.459872245788574,6.2485737800598145,4.442702293395996,7.200557708740234,9.590106964111328,10.364372253417969,4.378970623016357,7.514680862426758,7.296563625335693,4.091203689575195,10.819246292114258,6.993666172027588,3.9291131496429443,7.480480194091797,4.38853645324707,6.526164531707764,6.350874423980713,7.401920318603516,6.734735012054443,8.378579139709473,7.78512716293335,11.147684097290039,7.457460403442383,9.402763366699219,5.99373722076416,7.403244495391846,7.756813049316406,9.193613052368164,7.251943588256836,6.755773067474365,10.13111686706543,7.286688327789307,10.748908042907715,8.947747230529785,4.042853355407715,7.539740085601807,9.444759368896484,6.212528228759766,3.5673141479492188,11.870798110961914,9.632974624633789,9.498562812805176,9.934876441955566,11.16421890258789,7.612422943115234,9.755154609680176,9.564373970031738,9.35147476196289,6.210110664367676,7.207452297210693,4.718368053436279,7.528241157531738,9.558926582336426,4.515665054321289,7.7297682762146,9.594499588012695,8.251444816589355,4.363566875457764,7.012537956237793,6.562714099884033,5.688051700592041,8.311251640319824,7.277714252471924,10.646769523620605,7.610000133514404,10.787332534790039,7.414209365844727,8.044428825378418,7.0005292892456055,7.249560356140137,3.918837547302246,8.41906452178955,10.66396713256836,7.0713605880737305,8.45068073272705,6.246277332305908,11.959267616271973,7.821491241455078,10.13249683380127,4.6739397048950195,7.105294704437256,12.301530838012695,3.176320791244507,7.282358646392822,3.770752191543579,6.194465637207031,8.406439781188965,7.421065807342529,3.226156234741211,7.582509517669678,6.644417762756348,7.6413702964782715,3.8347086906433105,8.21292781829834,7.575991630554199,7.03564977645874,7.911484718322754,4.349183082580566,4.382686138153076,5.373115062713623,12.1879243850708,7.33727502822876,4.833723545074463,7.5071258544921875,10.755395889282227,6.22121524810791,11.875247955322266,11.559090614318848,6.418612480163574,10.810909271240234,12.094229698181152,11.215971946716309,10.968183517456055,7.345808506011963,7.557679176330566,10.904582977294922,5.466168403625488,6.2798638343811035,5.528532981872559,6.376665115356445,10.851799964904785,11.088974952697754,3.8095765113830566,10.817926406860352,6.541839599609375,9.131422996520996,8.38322925567627,7.840525150299072,8.120462417602539,6.872255325317383,4.767629623413086,9.618267059326172,7.555370330810547,11.185260772705078,3.6695914268493652,3.904003858566284,11.224315643310547,3.0349655151367188,9.364997863769531,8.742603302001953,10.247949600219727,7.991270065307617,10.296784400939941,11.27127742767334,7.884817123413086,6.23710298538208,7.589076519012451,10.158214569091797,7.601303577423096,6.531652450561523,6.217950344085693,12.70007610321045,10.67446517944336,12.261351585388184,11.501873970031738,7.574921607971191,9.625264167785645,3.307800769805908,11.786789894104004,11.785816192626953,10.308390617370605,10.739119529724121,10.2484130859375,6.640166282653809,8.225723266601562,7.5175557136535645,4.1906633377075195,10.37165641784668,9.654638290405273,8.335718154907227,6.327681064605713,10.912458419799805,13.103499412536621,11.184844017028809,8.143363952636719,7.573002815246582,7.504761219024658,10.729551315307617,7.544051647186279,3.504424571990967,7.306171894073486,5.890021324157715,13.080459594726562,3.6175272464752197,11.05012035369873,4.230616092681885,7.874292373657227,3.661252021789551,7.361756324768066,6.971226215362549,7.447641849517822,10.215385437011719,2.7188048362731934,5.605037689208984,7.142157554626465,2.8255176544189453,9.584152221679688,2.338641405105591,6.958762168884277,4.136192798614502,6.5348992347717285,9.855912208557129,10.561336517333984,7.168173789978027,9.445552825927734,7.587388038635254,10.874739646911621,7.161930084228516,4.8696160316467285,7.106350421905518,6.3810038566589355,6.791622161865234,7.048727989196777,4.737544536590576,11.949711799621582,7.311089038848877,11.240239143371582,9.22884750366211,10.049744606018066,12.492280006408691,10.753779411315918,10.640456199645996,9.471894264221191,3.748997449874878,3.896552085876465,13.063740730285645,9.563416481018066,7.931107997894287,6.6783037185668945,9.740833282470703,6.982559680938721,4.367705821990967,7.831411838531494,6.498495578765869,6.498138427734375,3.016554594039917,8.37179946899414,9.39119815826416,11.396615028381348,11.184349060058594,11.944598197937012,7.329110145568848,6.08371114730835,6.706501007080078,10.9727783203125,9.709534645080566,2.5951924324035645,7.9741644859313965,12.026063919067383,6.173059463500977,3.53187894821167,7.062189102172852,6.082763671875,11.35881519317627,13.060267448425293,9.576739311218262,11.245047569274902,10.520435333251953,8.363231658935547,6.07388162612915,10.024292945861816,4.43660306930542,11.533140182495117,3.4906513690948486,4.48158597946167,4.834391117095947,3.848970651626587,4.016998767852783,3.5789527893066406,5.454718589782715,5.154737949371338,9.129655838012695,10.741273880004883,10.982067108154297,2.945502281188965,9.70881462097168,2.0679047107696533,10.103873252868652,3.9851226806640625,8.326308250427246,5.530082702636719,6.584704875946045,7.026545524597168,6.394942283630371,7.861843585968018,9.455194473266602,6.578176021575928,3.5648813247680664,7.549535274505615,5.491666316986084,4.545612812042236,13.08989143371582,8.80532169342041,7.776556015014648,7.617699146270752,10.808594703674316,6.445542335510254,10.955646514892578,10.52585220336914,7.616746425628662],\"xaxis\":\"x\",\"y\":[7.068413257598877,6.164857387542725,8.822929382324219,6.514899253845215,8.065927505493164,9.10350513458252,5.170224189758301,8.663766860961914,8.399262428283691,7.219943523406982,6.105044364929199,8.711095809936523,6.232868194580078,7.035005569458008,6.154484272003174,7.470698833465576,6.8962721824646,7.019217014312744,6.421044826507568,8.28359317779541,9.149062156677246,8.910893440246582,7.665032863616943,7.68350076675415,8.066914558410645,6.890864849090576,9.39529800415039,6.8105010986328125,8.575632095336914,8.600020408630371,6.860301494598389,7.9972076416015625,7.524504661560059,8.17695426940918,7.552187442779541,8.207181930541992,7.454713344573975,6.7816057205200195,4.4432854652404785,7.542393207550049,7.378093719482422,7.276905059814453,7.879325866699219,8.818346977233887,9.37923526763916,9.179498672485352,7.078349590301514,8.196599006652832,7.0534257888793945,8.592761039733887,7.329282283782959,6.108897686004639,7.2246527671813965,6.857876777648926,7.385109901428223,7.03891658782959,6.859101295471191,9.433753967285156,8.11680793762207,8.46090316772461,9.119945526123047,6.237373352050781,7.817135810852051,7.645279407501221,6.159961223602295,8.184577941894531,9.458287239074707,7.299192905426025,8.058976173400879,7.493192195892334,6.598214626312256,7.58245849609375,7.071055889129639,8.132401466369629,7.48383092880249,7.963445663452148,7.243619918823242,7.47869348526001,8.89927864074707,6.976005554199219,8.494688034057617,7.549145698547363,8.487046241760254,7.770648002624512,6.568487167358398,7.148453235626221,6.231739521026611,7.5066609382629395,7.108763694763184,7.845495223999023,8.523526191711426,7.3878254890441895,9.167866706848145,7.616509914398193,8.408308029174805,7.6142120361328125,9.212510108947754,8.984396934509277,8.772221565246582,8.817662239074707,8.233443260192871,8.013601303100586,7.073474407196045,6.2198638916015625,7.178073883056641,7.870974063873291,7.61782693862915,7.0386481285095215,7.8871307373046875,8.174592971801758,9.395421981811523,7.267137050628662,6.056486129760742,7.2749104499816895,8.014824867248535,6.700981140136719,9.160070419311523,7.808473587036133,8.147135734558105,6.787606716156006,8.870919227600098,8.24538516998291,6.874332904815674,6.943150520324707,7.585023880004883,7.140330791473389,7.7126994132995605,7.153321743011475,8.595011711120605,6.6386284828186035,9.374687194824219,7.5265889167785645,7.734081268310547,6.236063003540039,8.455377578735352,7.037532329559326,6.773010730743408,8.51686954498291,8.754448890686035,8.54218864440918,8.264350891113281,6.505395412445068,7.372862815856934,7.576813697814941,8.09070873260498,7.805530548095703,9.202237129211426,8.685389518737793,8.272233963012695,8.163637161254883,6.480678081512451,8.692526817321777,7.4928107261657715,7.138003826141357,5.241394519805908,9.38973331451416,6.6946258544921875,7.652502059936523,7.74589204788208,8.1795072555542,7.300675868988037,7.894232273101807,9.016463279724121,5.265951633453369,8.0098295211792,8.291278839111328,8.135666847229004,6.072679042816162,8.582234382629395,6.39705753326416,9.128936767578125,7.395459175109863,7.30295991897583,9.18879508972168,7.131026268005371,7.513323783874512,9.25706672668457,8.714079856872559,8.97684097290039,7.926153182983398,8.013561248779297,6.101558685302734,6.418181896209717,7.319259166717529,8.716493606567383,4.729269981384277,8.29459285736084,8.75380802154541,7.521559715270996,7.3759565353393555,7.411420822143555,8.88356876373291,7.111372947692871,6.4280829429626465,7.490388870239258,6.952789306640625,5.194634914398193,7.387965202331543,9.201920509338379,8.064247131347656,8.725831985473633,8.098906517028809,7.8729939460754395,7.156877040863037,8.459846496582031,7.7154951095581055,7.1148576736450195,7.577718734741211,9.036798477172852,7.87302827835083,7.662883281707764,7.429419040679932,7.4284186363220215,8.285240173339844,8.479586601257324,7.6615424156188965,8.617027282714844,8.360862731933594,8.654953956604004,6.743558406829834,7.279877662658691,8.207508087158203,6.228675842285156,7.243323802947998,7.254695415496826,7.226647853851318,8.038641929626465,6.768307685852051,9.316360473632812,5.239537239074707,8.4190673828125,9.46385669708252,8.7141752243042,6.096861362457275,8.283732414245605,7.3655829429626465,6.730706691741943,6.216525077819824,7.186553955078125,7.386851787567139,7.0526885986328125,9.152430534362793,7.549205780029297,8.487627983093262,7.388996601104736,6.788283348083496,8.273636817932129,6.1239118576049805,9.250287055969238,7.693599700927734,6.875211238861084,6.992039680480957,8.354302406311035,9.376330375671387,7.8644280433654785,9.281396865844727,9.154678344726562,7.446744918823242,8.147740364074707,8.731710433959961,7.810595989227295,8.14012336730957,9.068801879882812,7.552119731903076,6.167291641235352,6.028164386749268,8.569347381591797,6.62388801574707,6.870968818664551,7.777637958526611,7.126066207885742,7.038854598999023,8.79598617553711,5.090529918670654,6.281222820281982,5.96903657913208,4.883115291595459,6.035153865814209,8.161648750305176,7.072638988494873,7.480755805969238,7.761006832122803,7.477573394775391,7.397608757019043,6.144978046417236,7.135581970214844,9.122800827026367,4.779378890991211,7.8894944190979,8.90346622467041,7.226468086242676,8.50528335571289,9.461867332458496,8.876805305480957,8.208935737609863,8.422589302062988,8.45405101776123,7.482309818267822,9.213775634765625,8.96198844909668,5.386385917663574,8.216334342956543,6.833250045776367,7.4118804931640625,7.27834939956665,6.790572166442871,7.272212028503418,7.275652885437012,7.7689409255981445,8.010104179382324,8.178669929504395,6.909909725189209,9.343232154846191,7.942239284515381,7.500276565551758,7.140024185180664,6.915611267089844,6.213922023773193,7.142387866973877,7.6034016609191895,7.15908670425415,7.854371070861816,7.112617492675781,7.111103534698486,6.819074630737305,7.0764689445495605,7.011237144470215,8.003722190856934,7.46134090423584,7.014875411987305,8.032025337219238,6.766914367675781,8.468025207519531,7.3958659172058105,8.763457298278809,7.172311305999756,7.305654525756836,4.476922988891602,9.394006729125977,9.350137710571289,7.0074663162231445,6.870987892150879,7.793046474456787,8.201261520385742,8.400285720825195,7.659480094909668,7.393348693847656,8.561517715454102,4.714354515075684,9.081445693969727,9.381546974182129,7.990901470184326,8.347530364990234,6.278476238250732,8.363348007202148,7.020289897918701,8.18364429473877,7.319289207458496,7.4549174308776855,8.298823356628418,8.566686630249023,8.42813491821289,7.448794841766357,8.353590965270996,8.854022979736328,6.4681010246276855,6.85816764831543,8.10349178314209,7.836662292480469,6.802368640899658,6.794093608856201,8.495149612426758,8.037223815917969,8.608022689819336,7.654470443725586,8.876270294189453,6.207688331604004,8.781494140625,7.082804203033447,6.0846781730651855,6.975313663482666,7.8500590324401855,6.446892261505127,7.101603031158447,5.232827186584473,6.433562755584717,7.35908842086792,9.163578033447266,8.922523498535156,7.240625381469727,7.480912685394287,7.898087501525879,7.263895034790039,7.149407863616943,8.793770790100098,8.36992073059082,8.668434143066406,8.065107345581055,7.6589274406433105,7.909218788146973,7.294322967529297,7.5687103271484375,6.796753883361816,7.45518159866333,5.957810878753662,7.5004801750183105,7.891430377960205,8.772758483886719,7.572733402252197,8.321796417236328,8.272527694702148,8.022395133972168,7.101724147796631,7.942734718322754,7.900920391082764,7.394738674163818,7.412336826324463,7.099966049194336,7.232943534851074,7.266268730163574,4.718341827392578,6.345991611480713,7.2405805587768555,8.409457206726074,6.162178993225098,9.18298053741455,7.361230373382568,8.028573036193848,8.21851634979248,8.646177291870117,9.039695739746094,8.94815444946289,7.885331630706787,7.619787216186523,7.778151035308838,6.935135364532471,7.171389579772949,7.168025493621826,8.003748893737793,7.8144211769104,8.565503120422363,7.497037887573242,8.152366638183594,7.2087602615356445,7.403381824493408,8.731271743774414,8.697891235351562,8.023675918579102,8.34868049621582,7.495110988616943,8.736021041870117,8.498077392578125,9.419631958007812,7.531814098358154,7.987685203552246,7.294961452484131,7.245855808258057,8.777970314025879,7.035184383392334,6.767947196960449,7.8395538330078125,7.045414447784424,6.295087814331055,9.349688529968262],\"yaxis\":\"y\",\"type\":\"scattergl\"},{\"hovertemplate\":\"cluster=cluster 0<br>x=%{x}<br>y=%{y}<extra></extra>\",\"legendgroup\":\"cluster 0\",\"marker\":{\"color\":\"#00cc96\",\"symbol\":\"circle\"},\"mode\":\"markers\",\"name\":\"cluster 0\",\"showlegend\":true,\"x\":[-0.11079918593168259,-2.153700113296509,-0.10081673413515091,-2.086789846420288,-0.9136677384376526,1.585196852684021,-0.00954827107489109,-2.076282024383545,-0.31494438648223877,-0.9765308499336243,1.1374422311782837,1.125850796699524,1.8873299360275269,-0.57220458984375,0.8996774554252625,-1.9937639236450195,0.6305434107780457,0.6854933500289917,3.5794782638549805,1.6906906366348267,0.7884964942932129,-0.6100547909736633,-0.11496729403734207,-1.8223280906677246,-1.2650731801986694,-2.3016817569732666,-0.19025661051273346,-0.22776581346988678,-2.293266773223877,-0.9910731911659241,-0.08838736265897751,-0.7008921504020691,1.55521559715271,-1.686422348022461,0.516184389591217,-0.7969886660575867,-0.3097720742225647,0.9426531195640564,0.1334308385848999,-0.6843592524528503,-1.5025959014892578,1.6593095064163208,-1.8239548206329346,2.4513349533081055,2.197502613067627,-0.27600792050361633,-2.3313279151916504,-2.244288921356201,-2.1048543453216553,-0.21659959852695465,-0.766048014163971,-0.9697602391242981,0.018973708152770996,-0.968977153301239,1.011162519454956,-0.6583243012428284,1.310413122177124,-0.7630029916763306,0.12580075860023499,0.6055090427398682,-1.857460379600525,-2.0118720531463623,-2.341344118118286,1.2284579277038574,2.2887439727783203,-2.0159239768981934,-1.92379629611969,-1.0362536907196045,1.76050865650177,-0.5059567093849182,-0.41446733474731445,1.6352437734603882,-0.3503324091434479,-1.6955400705337524,1.923134446144104,0.6854541301727295,1.0218149423599243,1.7531332969665527,-1.7967679500579834,-1.367187738418579,-0.4942389726638794,2.33221173286438,2.1646292209625244,-0.1502121537923813,-2.179933547973633,1.6884969472885132,1.7321219444274902,1.0949808359146118,0.5116497874259949,-0.09735589474439621,1.5259976387023926,-0.48422402143478394,-2.1067142486572266,-0.1806914508342743,0.6097399592399597,-0.65157550573349,-0.1785489022731781,-2.2343404293060303,0.8656325936317444,-1.4516206979751587,1.3450896739959717,-0.1278679072856903,-1.7782130241394043,-0.7597403526306152,0.8431128263473511,-2.0169460773468018,0.7262586355209351,-0.357454389333725,-2.289680242538452,0.2847730219364166,-0.7541386485099792,-0.6179190874099731,-0.5540062189102173,1.7390825748443604,-1.8464668989181519,-1.0073963403701782,0.957553505897522,-0.8836609125137329,-0.15732505917549133,-0.7315613031387329,-0.6685217022895813,1.2760648727416992,-2.0796544551849365,1.5533608198165894,0.06978071480989456,0.7505986094474792,-2.518946409225464,2.4275131225585938,-1.8549938201904297,-0.2317526936531067,1.675545573234558,-0.3454560339450836,-1.6338032484054565,-2.023432493209839,1.6693143844604492,-0.5419653058052063,1.9634472131729126,-0.913928747177124,-2.370439052581787,-0.09967830032110214,-1.896686315536499,1.2080206871032715,-0.40669044852256775,1.6757745742797852,1.7110424041748047,0.48388516902923584,-1.910292387008667,-2.256153106689453,-0.83235764503479,-1.9540562629699707,0.9588386416435242,-1.5471099615097046,-0.6459333300590515,-0.8631643652915955,0.8919414281845093,0.06349334865808487,-1.872811198234558,-1.5338268280029297,2.058720827102661,1.0792150497436523,1.5723758935928345,0.25438207387924194,0.8504561185836792,0.19288919866085052,-0.4311615228652954,-0.03334186598658562,0.25440922379493713,-0.17952874302864075,-1.1697951555252075,-1.0332504510879517,-0.720556914806366,1.1257870197296143,2.2357332706451416,0.9243800640106201,-0.32767581939697266,-1.05472993850708,0.7417271733283997,0.4410703182220459,-0.2552203834056854,0.06477320939302444,-0.6795684099197388,-0.43490999937057495,-1.94049072265625,0.6914505362510681,-0.5424291491508484,0.8085500001907349,-1.908207893371582,-0.1813390702009201],\"xaxis\":\"x\",\"y\":[7.793107986450195,7.713741779327393,7.933372497558594,7.721491813659668,8.220222473144531,8.75818920135498,7.920443534851074,7.135281562805176,7.262214660644531,8.154576301574707,8.585521697998047,7.874537944793701,8.50477123260498,7.923130512237549,8.259721755981445,7.234675407409668,7.392111301422119,7.171992778778076,9.266990661621094,8.808213233947754,8.31801700592041,7.9955363273620605,7.310697078704834,6.867130279541016,6.244872093200684,7.555245876312256,8.022612571716309,7.362128257751465,7.9976677894592285,6.553312301635742,8.498519897460938,7.944600582122803,8.71192741394043,7.614658355712891,8.372255325317383,7.394518852233887,8.113648414611816,8.018610954284668,8.518988609313965,8.07361125946045,6.068717956542969,8.702095031738281,5.994383335113525,8.26420783996582,8.287415504455566,8.196982383728027,8.014609336853027,8.091897964477539,7.20027494430542,8.240010261535645,6.82015323638916,6.43518590927124,8.472787857055664,6.4292988777160645,8.40562629699707,7.299034595489502,7.8620381355285645,6.856831073760986,8.553962707519531,7.096037864685059,7.550694942474365,6.755037784576416,8.081949234008789,7.884809970855713,8.29035758972168,7.222967147827148,7.604818820953369,7.398575305938721,8.522936820983887,7.146725177764893,7.896366119384766,8.387316703796387,7.919334888458252,7.608453750610352,8.447641372680664,7.4291090965271,7.862137794494629,8.559266090393066,7.511438369750977,6.180741310119629,7.373910427093506,8.317052841186523,8.305598258972168,7.440195083618164,7.597033977508545,8.476448059082031,8.514375686645508,7.846371650695801,7.066079616546631,7.948927402496338,8.699355125427246,6.995885848999023,7.55745792388916,8.346488952636719,7.113554954528809,7.365044593811035,8.632182121276855,7.730795383453369,7.212530136108398,8.147683143615723,7.8960747718811035,7.638967037200928,7.546148777008057,7.748259544372559,8.313764572143555,7.579522609710693,7.181492805480957,8.126543045043945,7.563507080078125,7.975464820861816,7.953436374664307,6.940377712249756,7.799337863922119,8.58871078491211,7.441931247711182,6.424574375152588,8.425323486328125,7.337310314178467,7.118439674377441,7.65369176864624,8.075818061828613,7.870203018188477,7.149017810821533,8.693766593933105,7.84348201751709,7.116804122924805,8.088366508483887,8.279026985168457,7.482318878173828,8.235370635986328,7.8139872550964355,7.2663984298706055,7.603745937347412,7.027212142944336,8.625452041625977,7.233494758605957,8.484152793884277,7.422082901000977,8.11082935333252,7.996494293212891,7.305088043212891,7.86652946472168,8.21287727355957,8.585716247558594,8.60705852508545,7.8865647315979,6.178980350494385,6.655638694763184,6.731420040130615,6.511508941650391,8.375961303710938,8.192386627197266,6.674272060394287,8.155567169189453,8.280292510986328,7.420070171356201,7.600637435913086,7.614833354949951,8.364145278930664,8.449472427368164,8.676387786865234,7.4208784103393555,8.462844848632812,8.56113338470459,7.271970272064209,7.469115257263184,8.587664604187012,8.230949401855469,6.334260940551758,6.396995544433594,7.31174373626709,7.8607177734375,8.400593757629395,8.329996109008789,8.11266040802002,8.185707092285156,7.144427299499512,8.085041046142578,6.880666732788086,7.371356964111328,6.73157262802124,7.21276330947876,7.583414077758789,7.1367573738098145,7.099279403686523,8.207880020141602,7.403747081756592,7.644339561462402],\"yaxis\":\"y\",\"type\":\"scattergl\"},{\"hovertemplate\":\"cluster=cluster 2<br>x=%{x}<br>y=%{y}<extra></extra>\",\"legendgroup\":\"cluster 2\",\"marker\":{\"color\":\"#ab63fa\",\"symbol\":\"circle\"},\"mode\":\"markers\",\"name\":\"cluster 2\",\"showlegend\":true,\"x\":[-4.684722900390625,-4.729002952575684,-4.621741771697998,-4.6960883140563965,-5.003955364227295,-4.982590198516846,-4.981186866760254,-4.903253555297852,-4.892547130584717,-4.968021869659424,-5.009607791900635,-4.96453332901001,-4.918737888336182,-4.8537726402282715,-4.736502647399902,-4.527038097381592],\"xaxis\":\"x\",\"y\":[5.0153985023498535,5.0741987228393555,5.127633571624756,5.093555450439453,4.940327167510986,4.907998085021973,4.915888786315918,5.0152812004089355,5.008528232574463,5.01429557800293,4.89060115814209,4.911685466766357,4.9741692543029785,5.046387672424316,5.026560306549072,5.024174213409424],\"yaxis\":\"y\",\"type\":\"scattergl\"},{\"hovertemplate\":\"cluster=cluster 7<br>x=%{x}<br>y=%{y}<extra></extra>\",\"legendgroup\":\"cluster 7\",\"marker\":{\"color\":\"#FFA15A\",\"symbol\":\"circle\"},\"mode\":\"markers\",\"name\":\"cluster 7\",\"showlegend\":true,\"x\":[13.94981575012207,14.707038879394531,13.971806526184082,14.677614212036133,14.179682731628418,14.841296195983887,13.825288772583008,13.929337501525879,13.993013381958008,14.339433670043945,14.534841537475586,14.182700157165527,13.853890419006348,14.654561042785645,14.37995719909668,14.340832710266113,14.839035034179688,14.290112495422363,15.621903419494629,13.914721488952637,14.052177429199219,13.492094993591309,14.730778694152832,13.9451904296875,13.618151664733887,14.713706970214844,13.923279762268066,14.77135181427002,14.699605941772461,14.126873970031738,13.619759559631348,14.709301948547363,14.804378509521484,14.320032119750977,13.97400951385498,14.439421653747559,13.933577537536621,13.95382308959961,14.901844024658203,14.093958854675293,14.838512420654297,14.256367683410645,14.270012855529785,14.393821716308594,14.463970184326172,13.855079650878906,14.607781410217285,14.121358871459961,14.72285270690918,13.963244438171387,14.629161834716797,14.553570747375488,14.794859886169434,14.22377872467041,14.483213424682617,14.420483589172363,14.44078254699707,14.388936996459961,14.438922882080078,14.90421199798584,14.056790351867676,14.366180419921875,14.092759132385254,13.8681001663208,14.766551971435547,14.065289497375488,14.294351577758789,14.03680419921875,14.333077430725098,14.311065673828125,13.931514739990234,14.310529708862305,14.531290054321289,14.911392211914062,13.934012413024902,14.43947982788086,14.114609718322754,14.449700355529785,14.24031925201416],\"xaxis\":\"x\",\"y\":[-1.1970038414001465,-0.7673888206481934,0.21176019310951233,-1.0206401348114014,-1.2306950092315674,-0.42224305868148804,0.376554936170578,-1.1575610637664795,0.38258132338523865,-0.21595926582813263,-1.1647975444793701,-1.1284773349761963,0.1405918449163437,0.024040311574935913,-1.204799771308899,-0.41654473543167114,-0.6462446451187134,-0.8392411470413208,1.247529149055481,0.13382282853126526,-0.17040450870990753,0.5223449468612671,0.0965128168463707,-1.175140142440796,0.47439777851104736,-0.5542485117912292,0.2749421000480652,0.009199962019920349,-0.6364650130271912,-0.6461999416351318,-0.09735199064016342,-0.8733526468276978,0.28675177693367004,-0.7742252945899963,-1.1285330057144165,-1.2284324169158936,-1.1627082824707031,-1.1533681154251099,-0.28902891278266907,-0.3876018822193146,0.1805429756641388,-1.32146418094635,-0.6263444423675537,-0.4822278618812561,-0.5418446660041809,-0.5242841839790344,-1.114859700202942,-0.5457592010498047,0.12921005487442017,-1.0998544692993164,0.05642055720090866,-1.196976661682129,0.2601332366466522,-1.2888952493667603,-0.5613237619400024,-0.06087702140212059,-0.14470624923706055,-1.2264184951782227,-0.7273613810539246,-0.26100900769233704,-0.7544379830360413,-1.3143198490142822,-1.147563099861145,-0.00231721717864275,-0.5347254276275635,-1.039095163345337,-0.43800026178359985,-0.30846118927001953,-0.563714861869812,-1.2930161952972412,-0.0753386840224266,-1.3114347457885742,-1.1302638053894043,0.02302863821387291,-0.4603123962879181,-1.2378498315811157,-1.0135865211486816,-1.2026411294937134,-0.4649931490421295],\"yaxis\":\"y\",\"type\":\"scattergl\"},{\"hovertemplate\":\"cluster=cluster 4<br>x=%{x}<br>y=%{y}<extra></extra>\",\"legendgroup\":\"cluster 4\",\"marker\":{\"color\":\"#19d3f3\",\"symbol\":\"circle\"},\"mode\":\"markers\",\"name\":\"cluster 4\",\"showlegend\":true,\"x\":[-2.7596065998077393,-4.063807964324951,-3.029465675354004,-3.3735134601593018,-3.3726892471313477,-4.115480422973633,-3.852489948272705,-2.567873954772949,-4.052347183227539,-3.1501920223236084,-2.336228132247925,-2.7640626430511475,-3.1082170009613037,-3.5820515155792236,-3.1420185565948486,-2.4777822494506836,-3.9738597869873047,-4.128371238708496,-2.633382797241211,-4.008871555328369,-2.49181866645813,-3.8111114501953125,-4.214751243591309,-3.880124568939209,-3.0728206634521484,-2.6502554416656494,-4.202152729034424,-3.631395101547241,-4.0911712646484375,-4.164132595062256,-2.4953274726867676,-3.9227144718170166,-4.2216410636901855,-2.4890964031219482,-2.4956209659576416,-2.910372495651245,-3.9593615531921387,-2.3366589546203613,-3.0656962394714355,-2.974990129470825,-4.320980072021484,-4.29184627532959,-3.3457465171813965,-3.0801568031311035,-3.740112781524658,-2.687760591506958,-2.553452253341675,-3.6894443035125732,-2.839977264404297,-2.5584137439727783,-4.234392166137695,-2.8986289501190186,-2.7897658348083496,-2.637946367263794,-3.976249933242798,-3.4987919330596924,-2.799736499786377,-3.202059507369995,-2.8129703998565674,-3.047900676727295,-3.5915136337280273,-4.2818169593811035,-3.203676223754883,-3.8176748752593994,-4.338782787322998,-4.4067277908325195,-4.2710771560668945,-3.939030885696411,-2.800971031188965,-4.184335708618164,-4.366235256195068,-4.271432399749756,-4.385066509246826,-3.45973801612854,-2.9322006702423096,-4.205728530883789,-3.1767990589141846],\"xaxis\":\"x\",\"y\":[7.090848922729492,7.008473873138428,7.335596561431885,7.195512771606445,7.215954303741455,6.862135410308838,7.1255269050598145,6.725517272949219,6.909911155700684,7.098167896270752,7.3622612953186035,6.822044849395752,7.192343235015869,6.018825054168701,7.314925193786621,6.487371921539307,6.886495590209961,6.825715065002441,7.128061771392822,6.9331159591674805,8.091310501098633,6.028082847595215,6.686282634735107,6.54774808883667,7.18967866897583,6.478337287902832,6.728234767913818,7.321262359619141,6.838205814361572,6.806643486022949,6.366912841796875,7.081401348114014,6.739016532897949,8.041543006896973,7.661432266235352,7.965372562408447,6.865046977996826,7.573983192443848,7.868136405944824,7.235908508300781,6.580658435821533,6.641683101654053,7.3017683029174805,6.87685489654541,7.204222679138184,6.856417179107666,7.790383815765381,7.23058557510376,7.58604621887207,7.954979419708252,6.676606178283691,6.932333469390869,7.417632579803467,7.8711256980896,6.876511096954346,7.217118740081787,7.85952091217041,7.299694538116455,7.748884677886963,7.2109150886535645,7.328661918640137,6.64415979385376,7.188315391540527,7.163250923156738,6.58367395401001,6.401431083679199,6.657243251800537,7.013862609863281,7.347219467163086,6.769108295440674,6.534919261932373,6.601812839508057,6.427543640136719,6.188340187072754,7.6809821128845215,6.72953462600708,7.020625114440918],\"yaxis\":\"y\",\"type\":\"scattergl\"},{\"hovertemplate\":\"cluster=cluster 9<br>x=%{x}<br>y=%{y}<extra></extra>\",\"legendgroup\":\"cluster 9\",\"marker\":{\"color\":\"#FF6692\",\"symbol\":\"circle\"},\"mode\":\"markers\",\"name\":\"cluster 9\",\"showlegend\":true,\"x\":[-4.878891944885254,-4.00346040725708,-4.787388801574707,-4.988936901092529,-4.0360798835754395,-4.649716377258301,-4.796156406402588,-4.053553581237793,-4.853713512420654,-4.241911888122559,-4.6746826171875,-4.127055644989014,-3.211742877960205,-4.462071895599365,-4.929651737213135,-4.945052146911621,-4.7121806144714355,-4.708212852478027,-4.7801103591918945,-4.94297456741333,-4.952023029327393,-4.236666202545166,-5.01152229309082,-4.6613664627075195,-4.906257152557373,-4.624267101287842,-4.846471309661865,-4.435832977294922,-4.647138595581055,-4.904772758483887,-4.967520236968994,-4.414393901824951,-4.770298957824707,-4.435924053192139,-4.9514594078063965,-4.381927013397217,-4.55281400680542,-4.072595119476318],\"xaxis\":\"x\",\"y\":[5.542693138122559,5.820785045623779,5.59907865524292,5.224686145782471,5.801680088043213,5.701360702514648,5.615415573120117,5.819960117340088,5.571472644805908,5.640646457672119,5.690367221832275,5.7648797035217285,7.775473117828369,5.887825012207031,5.449299335479736,5.201320648193359,5.692198753356934,5.599473476409912,5.253023147583008,5.182949542999268,5.307929039001465,5.809221267700195,5.265554904937744,5.691470623016357,5.483501434326172,5.763373851776123,5.5394368171691895,6.298980236053467,5.819042682647705,5.227067947387695,5.202991485595703,6.301431179046631,5.578286170959473,6.27154541015625,5.084199905395508,6.271672248840332,5.717624664306641,5.731316089630127],\"yaxis\":\"y\",\"type\":\"scattergl\"},{\"hovertemplate\":\"cluster=cluster 3<br>x=%{x}<br>y=%{y}<extra></extra>\",\"legendgroup\":\"cluster 3\",\"marker\":{\"color\":\"#B6E880\",\"symbol\":\"circle\"},\"mode\":\"markers\",\"name\":\"cluster 3\",\"showlegend\":true,\"x\":[-2.0211362838745117,-1.9402034282684326,-2.0681777000427246,-2.1045918464660645,-1.9811114072799683,-2.2139225006103516,-2.028233051300049,-1.8606840372085571,-1.8751142024993896,-2.0397965908050537,-1.9613252878189087,-2.038656234741211,-2.0192148685455322,-2.2551429271698],\"xaxis\":\"x\",\"y\":[5.485779762268066,5.617547035217285,5.652368068695068,5.460142135620117,5.627130031585693,5.46272087097168,5.463716983795166,5.792018890380859,5.728820323944092,5.468737602233887,5.586369514465332,5.480895519256592,5.4903764724731445,5.541895389556885],\"yaxis\":\"y\",\"type\":\"scattergl\"},{\"hovertemplate\":\"cluster=cluster 6<br>x=%{x}<br>y=%{y}<extra></extra>\",\"legendgroup\":\"cluster 6\",\"marker\":{\"color\":\"#FF97FF\",\"symbol\":\"circle\"},\"mode\":\"markers\",\"name\":\"cluster 6\",\"showlegend\":true,\"x\":[-1.83979332447052,13.271360397338867,-1.5438592433929443,13.286301612854004,13.276562690734863,13.222399711608887,13.343973159790039],\"xaxis\":\"x\",\"y\":[5.5912580490112305,0.8280065655708313,6.031588077545166,0.6013465523719788,0.7734126448631287,0.7543958425521851,0.7304859757423401],\"yaxis\":\"y\",\"type\":\"scattergl\"},{\"hovertemplate\":\"cluster=cluster 5<br>x=%{x}<br>y=%{y}<extra></extra>\",\"legendgroup\":\"cluster 5\",\"marker\":{\"color\":\"#FECB52\",\"symbol\":\"circle\"},\"mode\":\"markers\",\"name\":\"cluster 5\",\"showlegend\":true,\"x\":[-2.071068048477173],\"xaxis\":\"x\",\"y\":[5.449291229248047],\"yaxis\":\"y\",\"type\":\"scattergl\"}],                        {\"template\":{\"data\":{\"histogram2dcontour\":[{\"type\":\"histogram2dcontour\",\"colorbar\":{\"outlinewidth\":0,\"ticks\":\"\"},\"colorscale\":[[0.0,\"#0d0887\"],[0.1111111111111111,\"#46039f\"],[0.2222222222222222,\"#7201a8\"],[0.3333333333333333,\"#9c179e\"],[0.4444444444444444,\"#bd3786\"],[0.5555555555555556,\"#d8576b\"],[0.6666666666666666,\"#ed7953\"],[0.7777777777777778,\"#fb9f3a\"],[0.8888888888888888,\"#fdca26\"],[1.0,\"#f0f921\"]]}],\"choropleth\":[{\"type\":\"choropleth\",\"colorbar\":{\"outlinewidth\":0,\"ticks\":\"\"}}],\"histogram2d\":[{\"type\":\"histogram2d\",\"colorbar\":{\"outlinewidth\":0,\"ticks\":\"\"},\"colorscale\":[[0.0,\"#0d0887\"],[0.1111111111111111,\"#46039f\"],[0.2222222222222222,\"#7201a8\"],[0.3333333333333333,\"#9c179e\"],[0.4444444444444444,\"#bd3786\"],[0.5555555555555556,\"#d8576b\"],[0.6666666666666666,\"#ed7953\"],[0.7777777777777778,\"#fb9f3a\"],[0.8888888888888888,\"#fdca26\"],[1.0,\"#f0f921\"]]}],\"heatmap\":[{\"type\":\"heatmap\",\"colorbar\":{\"outlinewidth\":0,\"ticks\":\"\"},\"colorscale\":[[0.0,\"#0d0887\"],[0.1111111111111111,\"#46039f\"],[0.2222222222222222,\"#7201a8\"],[0.3333333333333333,\"#9c179e\"],[0.4444444444444444,\"#bd3786\"],[0.5555555555555556,\"#d8576b\"],[0.6666666666666666,\"#ed7953\"],[0.7777777777777778,\"#fb9f3a\"],[0.8888888888888888,\"#fdca26\"],[1.0,\"#f0f921\"]]}],\"heatmapgl\":[{\"type\":\"heatmapgl\",\"colorbar\":{\"outlinewidth\":0,\"ticks\":\"\"},\"colorscale\":[[0.0,\"#0d0887\"],[0.1111111111111111,\"#46039f\"],[0.2222222222222222,\"#7201a8\"],[0.3333333333333333,\"#9c179e\"],[0.4444444444444444,\"#bd3786\"],[0.5555555555555556,\"#d8576b\"],[0.6666666666666666,\"#ed7953\"],[0.7777777777777778,\"#fb9f3a\"],[0.8888888888888888,\"#fdca26\"],[1.0,\"#f0f921\"]]}],\"contourcarpet\":[{\"type\":\"contourcarpet\",\"colorbar\":{\"outlinewidth\":0,\"ticks\":\"\"}}],\"contour\":[{\"type\":\"contour\",\"colorbar\":{\"outlinewidth\":0,\"ticks\":\"\"},\"colorscale\":[[0.0,\"#0d0887\"],[0.1111111111111111,\"#46039f\"],[0.2222222222222222,\"#7201a8\"],[0.3333333333333333,\"#9c179e\"],[0.4444444444444444,\"#bd3786\"],[0.5555555555555556,\"#d8576b\"],[0.6666666666666666,\"#ed7953\"],[0.7777777777777778,\"#fb9f3a\"],[0.8888888888888888,\"#fdca26\"],[1.0,\"#f0f921\"]]}],\"surface\":[{\"type\":\"surface\",\"colorbar\":{\"outlinewidth\":0,\"ticks\":\"\"},\"colorscale\":[[0.0,\"#0d0887\"],[0.1111111111111111,\"#46039f\"],[0.2222222222222222,\"#7201a8\"],[0.3333333333333333,\"#9c179e\"],[0.4444444444444444,\"#bd3786\"],[0.5555555555555556,\"#d8576b\"],[0.6666666666666666,\"#ed7953\"],[0.7777777777777778,\"#fb9f3a\"],[0.8888888888888888,\"#fdca26\"],[1.0,\"#f0f921\"]]}],\"mesh3d\":[{\"type\":\"mesh3d\",\"colorbar\":{\"outlinewidth\":0,\"ticks\":\"\"}}],\"scatter\":[{\"fillpattern\":{\"fillmode\":\"overlay\",\"size\":10,\"solidity\":0.2},\"type\":\"scatter\"}],\"parcoords\":[{\"type\":\"parcoords\",\"line\":{\"colorbar\":{\"outlinewidth\":0,\"ticks\":\"\"}}}],\"scatterpolargl\":[{\"type\":\"scatterpolargl\",\"marker\":{\"colorbar\":{\"outlinewidth\":0,\"ticks\":\"\"}}}],\"bar\":[{\"error_x\":{\"color\":\"#2a3f5f\"},\"error_y\":{\"color\":\"#2a3f5f\"},\"marker\":{\"line\":{\"color\":\"#E5ECF6\",\"width\":0.5},\"pattern\":{\"fillmode\":\"overlay\",\"size\":10,\"solidity\":0.2}},\"type\":\"bar\"}],\"scattergeo\":[{\"type\":\"scattergeo\",\"marker\":{\"colorbar\":{\"outlinewidth\":0,\"ticks\":\"\"}}}],\"scatterpolar\":[{\"type\":\"scatterpolar\",\"marker\":{\"colorbar\":{\"outlinewidth\":0,\"ticks\":\"\"}}}],\"histogram\":[{\"marker\":{\"pattern\":{\"fillmode\":\"overlay\",\"size\":10,\"solidity\":0.2}},\"type\":\"histogram\"}],\"scattergl\":[{\"type\":\"scattergl\",\"marker\":{\"colorbar\":{\"outlinewidth\":0,\"ticks\":\"\"}}}],\"scatter3d\":[{\"type\":\"scatter3d\",\"line\":{\"colorbar\":{\"outlinewidth\":0,\"ticks\":\"\"}},\"marker\":{\"colorbar\":{\"outlinewidth\":0,\"ticks\":\"\"}}}],\"scattermapbox\":[{\"type\":\"scattermapbox\",\"marker\":{\"colorbar\":{\"outlinewidth\":0,\"ticks\":\"\"}}}],\"scatterternary\":[{\"type\":\"scatterternary\",\"marker\":{\"colorbar\":{\"outlinewidth\":0,\"ticks\":\"\"}}}],\"scattercarpet\":[{\"type\":\"scattercarpet\",\"marker\":{\"colorbar\":{\"outlinewidth\":0,\"ticks\":\"\"}}}],\"carpet\":[{\"aaxis\":{\"endlinecolor\":\"#2a3f5f\",\"gridcolor\":\"white\",\"linecolor\":\"white\",\"minorgridcolor\":\"white\",\"startlinecolor\":\"#2a3f5f\"},\"baxis\":{\"endlinecolor\":\"#2a3f5f\",\"gridcolor\":\"white\",\"linecolor\":\"white\",\"minorgridcolor\":\"white\",\"startlinecolor\":\"#2a3f5f\"},\"type\":\"carpet\"}],\"table\":[{\"cells\":{\"fill\":{\"color\":\"#EBF0F8\"},\"line\":{\"color\":\"white\"}},\"header\":{\"fill\":{\"color\":\"#C8D4E3\"},\"line\":{\"color\":\"white\"}},\"type\":\"table\"}],\"barpolar\":[{\"marker\":{\"line\":{\"color\":\"#E5ECF6\",\"width\":0.5},\"pattern\":{\"fillmode\":\"overlay\",\"size\":10,\"solidity\":0.2}},\"type\":\"barpolar\"}],\"pie\":[{\"automargin\":true,\"type\":\"pie\"}]},\"layout\":{\"autotypenumbers\":\"strict\",\"colorway\":[\"#636efa\",\"#EF553B\",\"#00cc96\",\"#ab63fa\",\"#FFA15A\",\"#19d3f3\",\"#FF6692\",\"#B6E880\",\"#FF97FF\",\"#FECB52\"],\"font\":{\"color\":\"#2a3f5f\"},\"hovermode\":\"closest\",\"hoverlabel\":{\"align\":\"left\"},\"paper_bgcolor\":\"white\",\"plot_bgcolor\":\"#E5ECF6\",\"polar\":{\"bgcolor\":\"#E5ECF6\",\"angularaxis\":{\"gridcolor\":\"white\",\"linecolor\":\"white\",\"ticks\":\"\"},\"radialaxis\":{\"gridcolor\":\"white\",\"linecolor\":\"white\",\"ticks\":\"\"}},\"ternary\":{\"bgcolor\":\"#E5ECF6\",\"aaxis\":{\"gridcolor\":\"white\",\"linecolor\":\"white\",\"ticks\":\"\"},\"baxis\":{\"gridcolor\":\"white\",\"linecolor\":\"white\",\"ticks\":\"\"},\"caxis\":{\"gridcolor\":\"white\",\"linecolor\":\"white\",\"ticks\":\"\"}},\"coloraxis\":{\"colorbar\":{\"outlinewidth\":0,\"ticks\":\"\"}},\"colorscale\":{\"sequential\":[[0.0,\"#0d0887\"],[0.1111111111111111,\"#46039f\"],[0.2222222222222222,\"#7201a8\"],[0.3333333333333333,\"#9c179e\"],[0.4444444444444444,\"#bd3786\"],[0.5555555555555556,\"#d8576b\"],[0.6666666666666666,\"#ed7953\"],[0.7777777777777778,\"#fb9f3a\"],[0.8888888888888888,\"#fdca26\"],[1.0,\"#f0f921\"]],\"sequentialminus\":[[0.0,\"#0d0887\"],[0.1111111111111111,\"#46039f\"],[0.2222222222222222,\"#7201a8\"],[0.3333333333333333,\"#9c179e\"],[0.4444444444444444,\"#bd3786\"],[0.5555555555555556,\"#d8576b\"],[0.6666666666666666,\"#ed7953\"],[0.7777777777777778,\"#fb9f3a\"],[0.8888888888888888,\"#fdca26\"],[1.0,\"#f0f921\"]],\"diverging\":[[0,\"#8e0152\"],[0.1,\"#c51b7d\"],[0.2,\"#de77ae\"],[0.3,\"#f1b6da\"],[0.4,\"#fde0ef\"],[0.5,\"#f7f7f7\"],[0.6,\"#e6f5d0\"],[0.7,\"#b8e186\"],[0.8,\"#7fbc41\"],[0.9,\"#4d9221\"],[1,\"#276419\"]]},\"xaxis\":{\"gridcolor\":\"white\",\"linecolor\":\"white\",\"ticks\":\"\",\"title\":{\"standoff\":15},\"zerolinecolor\":\"white\",\"automargin\":true,\"zerolinewidth\":2},\"yaxis\":{\"gridcolor\":\"white\",\"linecolor\":\"white\",\"ticks\":\"\",\"title\":{\"standoff\":15},\"zerolinecolor\":\"white\",\"automargin\":true,\"zerolinewidth\":2},\"scene\":{\"xaxis\":{\"backgroundcolor\":\"#E5ECF6\",\"gridcolor\":\"white\",\"linecolor\":\"white\",\"showbackground\":true,\"ticks\":\"\",\"zerolinecolor\":\"white\",\"gridwidth\":2},\"yaxis\":{\"backgroundcolor\":\"#E5ECF6\",\"gridcolor\":\"white\",\"linecolor\":\"white\",\"showbackground\":true,\"ticks\":\"\",\"zerolinecolor\":\"white\",\"gridwidth\":2},\"zaxis\":{\"backgroundcolor\":\"#E5ECF6\",\"gridcolor\":\"white\",\"linecolor\":\"white\",\"showbackground\":true,\"ticks\":\"\",\"zerolinecolor\":\"white\",\"gridwidth\":2}},\"shapedefaults\":{\"line\":{\"color\":\"#2a3f5f\"}},\"annotationdefaults\":{\"arrowcolor\":\"#2a3f5f\",\"arrowhead\":0,\"arrowwidth\":1},\"geo\":{\"bgcolor\":\"white\",\"landcolor\":\"#E5ECF6\",\"subunitcolor\":\"white\",\"showland\":true,\"showlakes\":true,\"lakecolor\":\"white\"},\"title\":{\"x\":0.05},\"mapbox\":{\"style\":\"light\"}}},\"xaxis\":{\"anchor\":\"y\",\"domain\":[0.0,1.0],\"title\":{\"text\":\"x\"}},\"yaxis\":{\"anchor\":\"x\",\"domain\":[0.0,1.0],\"title\":{\"text\":\"y\"}},\"legend\":{\"title\":{\"text\":\"cluster\"},\"tracegroupgap\":0},\"title\":{\"text\":\"word embedding samples\"}},                        {\"responsive\": true}                    ).then(function(){\n",
              "                            \n",
              "var gd = document.getElementById('d0270c3e-5ab1-4805-98bd-556b017d163a');\n",
              "var x = new MutationObserver(function (mutations, observer) {{\n",
              "        var display = window.getComputedStyle(gd).display;\n",
              "        if (!display || display === 'none') {{\n",
              "            console.log([gd, 'removed!']);\n",
              "            Plotly.purge(gd);\n",
              "            observer.disconnect();\n",
              "        }}\n",
              "}});\n",
              "\n",
              "// Listen for the removal of the full notebook cells\n",
              "var notebookContainer = gd.closest('#notebook-container');\n",
              "if (notebookContainer) {{\n",
              "    x.observe(notebookContainer, {childList: true});\n",
              "}}\n",
              "\n",
              "// Listen for the clearing of the current output cell\n",
              "var outputEl = gd.closest('.output');\n",
              "if (outputEl) {{\n",
              "    x.observe(outputEl, {childList: true});\n",
              "}}\n",
              "\n",
              "                        })                };                            </script>        </div>\n",
              "</body>\n",
              "</html>"
            ]
          },
          "metadata": {}
        },
        {
          "output_type": "execute_result",
          "data": {
            "text/plain": [
              "True"
            ]
          },
          "metadata": {},
          "execution_count": 102
        }
      ],
      "source": [
        "from src.embedding import WordEmbeddingCreator\n",
        "from pathlib import Path\n",
        "\n",
        "save_path = Path.joinpath(Path.cwd(), f'prepared_data/min_df_{min_df}')\n",
        "figures_path = Path.joinpath(Path.cwd(), f'figures/min_df_{min_df}')\n",
        "Path(figures_path).mkdir(parents=True, exist_ok=True)\n",
        "\n",
        "wb_creator = WordEmbeddingCreator(model_name=\"skipgram\", documents = docs_tr, save_path= save_path)\n",
        "wb_creator.train(min_count=0, embedding_size= 300)\n",
        "vocab = list(word2id.keys())\n",
        "wb_creator.create_and_save_vocab_embedding(vocab, save_path)\n",
        "wb_creator.cluster_words(save_path, figures_path, n_components=2, text = False)"
      ]
    },
    {
      "cell_type": "code",
      "execution_count": 103,
      "metadata": {
        "colab": {
          "base_uri": "https://localhost:8080/"
        },
        "id": "f23xipx7MSV4",
        "outputId": "843906eb-db8d-486d-cb91-74d413444990"
      },
      "outputs": [
        {
          "output_type": "stream",
          "name": "stdout",
          "text": [
            "word-embedding of the word-- james: \n",
            "vector: [0.06944553, 0.024499515, 0.049195305, 0.0974121, -0.046740707, -0.036208067, 0.058367148, 0.04189724, 0.007965271, 0.06157647, 0.09793002, -0.029849224, -0.02346307, -0.06360327, 0.039787997, 0.053476248, -0.13927346, 0.0149286045, 0.083220884, -0.030628484, -0.09049001, -0.046636116, -0.18143876, 0.028458523, -0.04244905, -0.03554453, 0.08943475, 0.0054003755, 0.049664304, -0.07068339, 0.030841876, 0.19362742, -0.103325166, -0.02184619, 0.12076591, 0.12633462, 0.032616176, 0.13874714, 0.1221787, -0.03935868, -0.013814944, -0.025482189, 0.15705818, -0.123069316, -0.0045428323, -0.010522082, 0.0054216255, -0.01535007, -0.017188216, -0.0863093, 0.047685277, -0.008625167, 0.07313633, 0.067758344, -0.06528139, 0.021102265, -0.08203002, -0.027862187, 0.0073411353, -0.07883647, -0.08419522, -0.028042061, 0.043983996, -0.08321871, -0.049971037, 0.014884996, 0.06952187, 0.038171444, -0.06484508, 0.046941705, -0.01975069, 0.048473332, 0.11006451, -0.0350183, -0.11479627, 0.090947814, -0.06868474, -0.081381, -0.011571217, 0.010895837, -0.019867813, 0.08972731, -0.10711193, -0.043595348, -0.027728794, 0.009452415, -0.09654889, -0.009455577, 0.039136164, -0.04761776, -0.04547039, -0.02050983, 0.058956604, -0.14300714, -0.054953735, -0.011677133, -0.07751667, -0.022468787, -0.044100348, 0.08158879, -0.10572953, -0.061378248, -0.015034389, -0.04373132, 0.013594328, -0.078338996, -0.100617036, -0.09781142, 0.036206715, 0.05938709, 0.111911036, 0.02637945, -0.0021129767, -0.1207936, 0.07195837, -0.061439287, 0.05995211, -0.03401056, 0.07524228, -0.007510238, 0.06222225, -0.0068333237, 0.03765868, 0.06869157, 0.01350085, -0.070227824, -0.08494234, -0.010683132, -0.08492903, -0.0072233616, -0.00067978486, 0.09573853, -0.07682408, -0.038196273, -0.027978545, 0.094604604, -0.0010446984, -0.006324221, 0.01624301, 0.012627419, 0.043219615, 0.06574125, 0.046236433, 0.010996171, 0.032181036, 0.0514246, 0.060966387, -0.0003031053, -0.004178771, 0.04038905, -0.024774415, -0.11597006, 0.0031958267, -0.1494005, -0.060130723, -0.036714807, 0.0055480897, -0.041846056, -0.04417895, -0.0440869, -0.0041307313, 0.049168188, 0.15115425, -0.047292363, 0.11069522, 0.0025746434, -0.12078402, -0.024970153, -0.06553134, 0.11130307, -0.06382204, 0.06771508, 0.060203, 0.022661634, -0.013939293, -0.13735273, 0.08839, 0.011098172, 0.08649048, -0.050611205, 0.025867153, -0.042440638, -0.020753615, -0.051064268, 0.062125552, -0.13836156, 0.098168716, 0.03634843, 0.047071684, 0.12800054, 0.109490775, 0.04826394, 0.054958045, 0.03444653, -0.006790582, 0.16605599, -0.06096233, 0.044662144, 0.08699068, 0.083522804, -0.083015524, -0.04082681, 0.14239898, -0.03316979, 0.13450679, 0.07529122, 0.05164318, -0.0015467275, -0.05589955, 0.057118174, 0.027123878, 0.032011464, -0.05590397, -0.17541935, -0.03776878, -0.011106543, -0.09543669, -0.071480334, -0.13538894, -0.041626953, 0.05519846, -0.103968084, 0.04748167, -0.0119431615, 0.014229784, -0.13044032, -0.010053991, -0.014108275, 0.035007168, 0.06780103, 0.06170834, -0.020940853, -0.0400688, -0.026968228, 0.07976325, 0.09594702, -0.1264535, -0.040878907, 0.008972975, -0.048497956, -0.0026418578, 0.032879487, -0.026831955, -0.29237303, -0.031689174, 0.092950836, 0.060165938, 0.10957574, 0.035352226, -0.023993902, -0.068323426, -0.14755134, -0.11774859, -0.22236896, -0.022380928, 0.10714365, 0.04427562, 0.1196606, 0.04306309, -0.031382926, -0.08472044, 0.060939245, -0.016677352, -0.18301079, -0.08608174, 0.15959153, -0.0023269744, -0.09703204, -0.0026889648, 0.044253796, -0.043363135, -0.18466836, 0.08539322, 0.0122877555, 0.037708826, 0.12936008, -0.056965638, -0.030141119, -0.0078477785, -0.08977599, -0.011093722, 0.09967561, 0.036047235, -0.07916047, -0.012547846, 0.048241995, 0.10476788, 0.035676163, 0.07918839, 0.067902975, 0.05766597, 0.013141354, -0.09240338, -0.049635693, 0.13295032, 0.0010867153, -0.042694073, 0.11687895, 0.06018053, 0.08906058]\n",
            "dim of vector: 300\n"
          ]
        }
      ],
      "source": [
        "v = list(wb_creator.model.wv.vocab)[0]\n",
        "vec = list(wb_creator.model.wv.__getitem__(v))\n",
        "print(f'word-embedding of the word-- {v}: ')\n",
        "print(f'vector: {vec}')\n",
        "print(f'dim of vector: {len(vec)}')"
      ]
    },
    {
      "cell_type": "markdown",
      "metadata": {
        "id": "l53_jkUS-hl-"
      },
      "source": [
        "# **Word-Embeddings visualieren als Beispiel**\n"
      ]
    },
    {
      "cell_type": "code",
      "execution_count": 104,
      "metadata": {
        "id": "o96LsIWkNrZS",
        "outputId": "9aceb00b-c156-4032-e460-d4c8387b2b65",
        "colab": {
          "base_uri": "https://localhost:8080/",
          "height": 122
        }
      },
      "outputs": [
        {
          "output_type": "execute_result",
          "data": {
            "text/plain": [
              "'\\n# read word-embedding files\\nwith open(save_path) as f:\\n  lines = f.readlines()\\nembedding_data = []\\nwords_data = []\\nfor t in lines:\\n  w = t.split(\"\\t\")[0]\\n  v = [float(e) for e in t.split(\"\\t\")[1].split(\" \")]\\n  words_data.append(w)\\n  embedding_data.append(v)\\n\\n# clustering words with KMeans and Words-Vectors\\nkmeans = cluster.KMeans(n_clusters=10)\\nkmeans.fit(embedding_data)\\n \\nlabels = kmeans.labels_\\ncentroids = kmeans.cluster_centers_\\n \\nprint (\"Cluster id labels for inputted data\")\\nprint (labels)\\n#print (\"Centroids data\")\\n#print (centroids)\\n\\n\\n# dimension reduction with umap\\nstart = time.time()\\nreducer = umap.UMAP(random_state=42,n_components=3)\\nembedding = reducer.fit_transform(embedding_data)\\nprint(\\'Duration: {} seconds\\'.format(time.time() - start))\\n\\n# show samples after dim-reduction in dataframe\\nwb = pd.DataFrame(embedding, columns=[\\'x\\', \\'y\\', \\'z\\'])\\nwb[\\'word\\'] = words_data\\nwb[\\'cluster\\'] = [\\'cluster \\' + str(c) for c in labels]\\n\\n# visualization\\nfig = px.scatter_3d(wb, \\n                    text = wb[\\'word\\'],\\n                    x=\\'x\\', y=\\'y\\', z=\\'z\\',\\n                    color = wb[\\'cluster\\'],\\n                    title =\"word-embedding-samples\")\\nfig.show()\\n'"
            ],
            "application/vnd.google.colaboratory.intrinsic+json": {
              "type": "string"
            }
          },
          "metadata": {},
          "execution_count": 104
        }
      ],
      "source": [
        "\"\"\"\n",
        "# read word-embedding files\n",
        "with open(save_path) as f:\n",
        "  lines = f.readlines()\n",
        "embedding_data = []\n",
        "words_data = []\n",
        "for t in lines:\n",
        "  w = t.split(\"\\t\")[0]\n",
        "  v = [float(e) for e in t.split(\"\\t\")[1].split(\" \")]\n",
        "  words_data.append(w)\n",
        "  embedding_data.append(v)\n",
        "\n",
        "# clustering words with KMeans and Words-Vectors\n",
        "kmeans = cluster.KMeans(n_clusters=10)\n",
        "kmeans.fit(embedding_data)\n",
        " \n",
        "labels = kmeans.labels_\n",
        "centroids = kmeans.cluster_centers_\n",
        " \n",
        "print (\"Cluster id labels for inputted data\")\n",
        "print (labels)\n",
        "#print (\"Centroids data\")\n",
        "#print (centroids)\n",
        "\n",
        "\n",
        "# dimension reduction with umap\n",
        "start = time.time()\n",
        "reducer = umap.UMAP(random_state=42,n_components=3)\n",
        "embedding = reducer.fit_transform(embedding_data)\n",
        "print('Duration: {} seconds'.format(time.time() - start))\n",
        "\n",
        "# show samples after dim-reduction in dataframe\n",
        "wb = pd.DataFrame(embedding, columns=['x', 'y', 'z'])\n",
        "wb['word'] = words_data\n",
        "wb['cluster'] = ['cluster ' + str(c) for c in labels]\n",
        "\n",
        "# visualization\n",
        "fig = px.scatter_3d(wb, \n",
        "                    text = wb['word'],\n",
        "                    x='x', y='y', z='z',\n",
        "                    color = wb['cluster'],\n",
        "                    title =\"word-embedding-samples\")\n",
        "fig.show()\n",
        "\"\"\""
      ]
    },
    {
      "cell_type": "markdown",
      "metadata": {
        "id": "P9jSI12r9zqu"
      },
      "source": [
        "# **ETM Model**\n",
        "\n",
        "ETM hat die Architektur eines Variational Autoencoders. \n",
        "ETM wird mit den pretrainierten Embedding kombiniert. Die Embeddings für Topics werden als Gewichten eines Teiles des Netzes aktualiert mittels der ELBO Loss\n",
        "\n",
        "![ETM.drawio.png](data:image/png;base64,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)"
      ]
    },
    {
      "cell_type": "code",
      "execution_count": 105,
      "metadata": {
        "colab": {
          "base_uri": "https://localhost:8080/"
        },
        "id": "fwiU9zWCIUh_",
        "outputId": "d2a9e4e0-8c7f-4e86-d841-8c01da0a8ffc"
      },
      "outputs": [
        {
          "output_type": "stream",
          "name": "stdout",
          "text": [
            "number train-samples: 619\n",
            "sum of sample vector: 1.0\n",
            "length of sample vector: 0.14657549560070038\n"
          ]
        }
      ],
      "source": [
        "# using DocSet to use easier the modul DataSet from torch\n",
        "from src.train_etm import DocSet, TrainETM\n",
        "from src.etm import ETM\n",
        "import torch\n",
        "\n",
        "vocab_size = len(list(word2id.keys()))\n",
        "tr_set = DocSet(\"train\", vocab_size, train_set, normalize_data=True)\n",
        "print(f'number train-samples: {len(tr_set)}')\n",
        "print(f'sum of sample vector: {sum(tr_set.__getitem__(0))}')\n",
        "print(f'length of sample vector: {torch.norm(tr_set.__getitem__(0))}')"
      ]
    },
    {
      "cell_type": "markdown",
      "source": [
        "**Trainingsparametern vorbereiten**\n",
        "\n",
        "\n"
      ],
      "metadata": {
        "id": "U4Z-7za3VYOv"
      }
    },
    {
      "cell_type": "code",
      "source": [
        "class TrainArguments:\n",
        "      def __init__(self, epochs, batch_size, log_interval):\n",
        "          self.epochs = epochs\n",
        "          self.batch_size = batch_size\n",
        "          self.log_interval = log_interval\n",
        "\n",
        "class OptimizerArguments:\n",
        "      def __init__(self, optimizer_name, lr, wdecay):\n",
        "            self.optimizer = optimizer_name\n",
        "            self.lr = lr\n",
        "            self.wdecay = wdecay\n",
        "            \n",
        "train_args = TrainArguments(epochs=100, batch_size=100, log_interval=None)\n",
        "optimizer_args = OptimizerArguments(optimizer_name=\"adam\", lr=0.001, wdecay=0.1)\n",
        "print(train_args.epochs)\n",
        "print(optimizer_args.optimizer)\n",
        "\n",
        "from src.embedding import read_prefitted_embedding\n",
        "embedding_data = read_prefitted_embedding(vocab, save_path)\n",
        "num_topics = 10\n",
        "t_hidden_size = 800\n",
        "rho_size = len(embedding_data[0])\n",
        "emb_size = len(embedding_data[0])\n",
        "theta_act = \"tanh\""
      ],
      "metadata": {
        "colab": {
          "base_uri": "https://localhost:8080/"
        },
        "id": "oPKPTWbZVWuT",
        "outputId": "6059c56b-b3d5-4e82-b503-fb8eedff6697"
      },
      "execution_count": 120,
      "outputs": [
        {
          "output_type": "stream",
          "name": "stdout",
          "text": [
            "100\n",
            "adam\n"
          ]
        }
      ]
    },
    {
      "cell_type": "markdown",
      "source": [
        "**ETM initialisieren**"
      ],
      "metadata": {
        "id": "WjO6yHpgVljt"
      }
    },
    {
      "cell_type": "code",
      "source": [
        "# define the ETM-model with setting-parameters\n",
        "etm_model = ETM(\n",
        "      num_topics, \n",
        "      vocab_size, \n",
        "      t_hidden_size, rho_size, emb_size, theta_act, \n",
        "      embedding_data, \n",
        "      enc_drop=0.5)\n",
        "\n",
        "print(etm_model)"
      ],
      "metadata": {
        "colab": {
          "base_uri": "https://localhost:8080/"
        },
        "id": "IJ70hPX3VlOF",
        "outputId": "163c9762-1ab5-4624-d35c-44cdf130f4b4"
      },
      "execution_count": 121,
      "outputs": [
        {
          "output_type": "stream",
          "name": "stdout",
          "text": [
            "ETM(\n",
            "  (t_drop): Dropout(p=0.5, inplace=False)\n",
            "  (theta_act): Tanh()\n",
            "  (topic_embeddings_alphas): Linear(in_features=300, out_features=10, bias=False)\n",
            "  (q_theta): Sequential(\n",
            "    (0): Linear(in_features=1266, out_features=800, bias=True)\n",
            "    (1): Tanh()\n",
            "    (2): Linear(in_features=800, out_features=800, bias=True)\n",
            "    (3): Tanh()\n",
            "  )\n",
            "  (mu_q_theta): Linear(in_features=800, out_features=10, bias=True)\n",
            "  (logsigma_q_theta): Linear(in_features=800, out_features=10, bias=True)\n",
            ")\n"
          ]
        }
      ]
    },
    {
      "cell_type": "markdown",
      "source": [
        "**trainieren**"
      ],
      "metadata": {
        "id": "gSPGu9NNV1_n"
      }
    },
    {
      "cell_type": "code",
      "execution_count": 122,
      "metadata": {
        "colab": {
          "base_uri": "https://localhost:8080/",
          "height": 1000
        },
        "id": "kbJIWLZpJRnG",
        "outputId": "23bf84ea-0973-4a35-8eae-d59c64be270c"
      },
      "outputs": [
        {
          "output_type": "stream",
          "name": "stdout",
          "text": [
            "number of batches: 6\n",
            "Epoch: 1/100  -  Loss: 7.1424 \t Rec: 7.14015 \t KL: 0.00225\n",
            "Epoch: 2/100  -  Loss: 7.13432 \t Rec: 7.13378 \t KL: 0.00054\n",
            "Epoch: 3/100  -  Loss: 7.128 \t Rec: 7.12766 \t KL: 0.00034\n",
            "Epoch: 4/100  -  Loss: 7.12271 \t Rec: 7.12249 \t KL: 0.00022\n",
            "Epoch: 5/100  -  Loss: 7.11799 \t Rec: 7.11788 \t KL: 0.00011\n",
            "Epoch: 6/100  -  Loss: 7.1142 \t Rec: 7.11415 \t KL: 4e-05\n",
            "Epoch: 7/100  -  Loss: 7.11152 \t Rec: 7.1115 \t KL: 2e-05\n",
            "Epoch: 8/100  -  Loss: 7.10788 \t Rec: 7.10786 \t KL: 1e-05\n",
            "Epoch: 9/100  -  Loss: 7.10533 \t Rec: 7.10532 \t KL: 1e-05\n",
            "Epoch: 10/100  -  Loss: 7.10224 \t Rec: 7.10224 \t KL: 1e-05\n",
            "Epoch: 11/100  -  Loss: 7.10064 \t Rec: 7.10063 \t KL: 0.0\n",
            "Epoch: 12/100  -  Loss: 7.0991 \t Rec: 7.0991 \t KL: 0.0\n",
            "Epoch: 13/100  -  Loss: 7.09721 \t Rec: 7.09721 \t KL: 0.0\n",
            "Epoch: 14/100  -  Loss: 7.096 \t Rec: 7.096 \t KL: 0.0\n",
            "Epoch: 15/100  -  Loss: 7.09571 \t Rec: 7.09571 \t KL: 0.0\n",
            "Epoch: 16/100  -  Loss: 7.09555 \t Rec: 7.09555 \t KL: 0.0\n",
            "Epoch: 17/100  -  Loss: 7.0952 \t Rec: 7.0952 \t KL: 0.0\n",
            "Epoch: 18/100  -  Loss: 7.09471 \t Rec: 7.09471 \t KL: 0.0\n",
            "Epoch: 19/100  -  Loss: 7.0948 \t Rec: 7.0948 \t KL: 0.0\n",
            "Epoch: 20/100  -  Loss: 7.09429 \t Rec: 7.09429 \t KL: 0.0\n",
            "Epoch: 21/100  -  Loss: 7.09428 \t Rec: 7.09428 \t KL: 0.0\n",
            "Epoch: 22/100  -  Loss: 7.09347 \t Rec: 7.09347 \t KL: 0.0\n",
            "Epoch: 23/100  -  Loss: 7.09421 \t Rec: 7.09421 \t KL: 0.0\n",
            "Epoch: 24/100  -  Loss: 7.09371 \t Rec: 7.09371 \t KL: 0.0\n",
            "Epoch: 25/100  -  Loss: 7.09409 \t Rec: 7.09409 \t KL: 0.0\n",
            "Epoch: 26/100  -  Loss: 7.0945 \t Rec: 7.0945 \t KL: 0.0\n",
            "Epoch: 27/100  -  Loss: 7.09411 \t Rec: 7.09411 \t KL: 0.0\n",
            "Epoch: 28/100  -  Loss: 7.09389 \t Rec: 7.09389 \t KL: 0.0\n",
            "Epoch: 29/100  -  Loss: 7.09312 \t Rec: 7.09312 \t KL: 0.0\n",
            "Epoch: 30/100  -  Loss: 7.09217 \t Rec: 7.09217 \t KL: 0.0\n",
            "Epoch: 31/100  -  Loss: 7.09215 \t Rec: 7.09215 \t KL: 0.0\n",
            "Epoch: 32/100  -  Loss: 7.09246 \t Rec: 7.09246 \t KL: 0.0\n",
            "Epoch: 33/100  -  Loss: 7.09305 \t Rec: 7.09305 \t KL: 0.0\n",
            "Epoch: 34/100  -  Loss: 7.09275 \t Rec: 7.09275 \t KL: 0.0\n",
            "Epoch: 35/100  -  Loss: 7.09268 \t Rec: 7.09268 \t KL: 0.0\n",
            "Epoch: 36/100  -  Loss: 7.09323 \t Rec: 7.09323 \t KL: 0.0\n",
            "Epoch: 37/100  -  Loss: 7.09339 \t Rec: 7.09338 \t KL: 0.0\n",
            "Epoch: 38/100  -  Loss: 7.0932 \t Rec: 7.0932 \t KL: 0.0\n",
            "Epoch: 39/100  -  Loss: 7.09355 \t Rec: 7.09355 \t KL: 0.0\n",
            "Epoch: 40/100  -  Loss: 7.09346 \t Rec: 7.09346 \t KL: 0.0\n",
            "Epoch: 41/100  -  Loss: 7.09394 \t Rec: 7.09394 \t KL: 0.0\n",
            "Epoch: 42/100  -  Loss: 7.09349 \t Rec: 7.09349 \t KL: 0.0\n",
            "Epoch: 43/100  -  Loss: 7.09426 \t Rec: 7.09426 \t KL: 0.0\n",
            "Epoch: 44/100  -  Loss: 7.09465 \t Rec: 7.09465 \t KL: 0.0\n",
            "Epoch: 45/100  -  Loss: 7.094 \t Rec: 7.094 \t KL: 0.0\n",
            "Epoch: 46/100  -  Loss: 7.09383 \t Rec: 7.09383 \t KL: 0.0\n",
            "Epoch: 47/100  -  Loss: 7.09334 \t Rec: 7.09334 \t KL: 0.0\n",
            "Epoch: 48/100  -  Loss: 7.09354 \t Rec: 7.09354 \t KL: 0.0\n",
            "Epoch: 49/100  -  Loss: 7.09294 \t Rec: 7.09294 \t KL: 0.0\n",
            "Epoch: 50/100  -  Loss: 7.09336 \t Rec: 7.09336 \t KL: 0.0\n",
            "Epoch: 51/100  -  Loss: 7.09354 \t Rec: 7.09354 \t KL: 0.0\n",
            "Epoch: 52/100  -  Loss: 7.09406 \t Rec: 7.09406 \t KL: 0.0\n",
            "Epoch: 53/100  -  Loss: 7.09378 \t Rec: 7.09378 \t KL: 0.0\n",
            "Epoch: 54/100  -  Loss: 7.09324 \t Rec: 7.09324 \t KL: 0.0\n",
            "Epoch: 55/100  -  Loss: 7.09343 \t Rec: 7.09343 \t KL: 0.0\n",
            "Epoch: 56/100  -  Loss: 7.0934 \t Rec: 7.0934 \t KL: 0.0\n",
            "Epoch: 57/100  -  Loss: 7.09291 \t Rec: 7.09291 \t KL: 0.0\n",
            "Epoch: 58/100  -  Loss: 7.09313 \t Rec: 7.09313 \t KL: 0.0\n",
            "Epoch: 59/100  -  Loss: 7.09313 \t Rec: 7.09313 \t KL: 0.0\n",
            "Epoch: 60/100  -  Loss: 7.09405 \t Rec: 7.09405 \t KL: 0.0\n",
            "Epoch: 61/100  -  Loss: 7.09358 \t Rec: 7.09358 \t KL: 0.0\n",
            "Epoch: 62/100  -  Loss: 7.0929 \t Rec: 7.0929 \t KL: 0.0\n",
            "Epoch: 63/100  -  Loss: 7.09322 \t Rec: 7.09322 \t KL: 0.0\n",
            "Epoch: 64/100  -  Loss: 7.09289 \t Rec: 7.09289 \t KL: 0.0\n",
            "Epoch: 65/100  -  Loss: 7.09378 \t Rec: 7.09378 \t KL: 0.0\n",
            "Epoch: 66/100  -  Loss: 7.09361 \t Rec: 7.09361 \t KL: 0.0\n",
            "Epoch: 67/100  -  Loss: 7.09451 \t Rec: 7.09451 \t KL: 0.0\n",
            "Epoch: 68/100  -  Loss: 7.09343 \t Rec: 7.09343 \t KL: 0.0\n",
            "Epoch: 69/100  -  Loss: 7.09217 \t Rec: 7.09217 \t KL: 0.0\n",
            "Epoch: 70/100  -  Loss: 7.09251 \t Rec: 7.09251 \t KL: 0.0\n",
            "Epoch: 71/100  -  Loss: 7.09326 \t Rec: 7.09326 \t KL: 0.0\n",
            "Epoch: 72/100  -  Loss: 7.09333 \t Rec: 7.09333 \t KL: 0.0\n",
            "Epoch: 73/100  -  Loss: 7.09343 \t Rec: 7.09343 \t KL: 0.0\n",
            "Epoch: 74/100  -  Loss: 7.09307 \t Rec: 7.09307 \t KL: 0.0\n",
            "Epoch: 75/100  -  Loss: 7.09266 \t Rec: 7.09266 \t KL: 0.0\n",
            "Epoch: 76/100  -  Loss: 7.09344 \t Rec: 7.09344 \t KL: 0.0\n",
            "Epoch: 77/100  -  Loss: 7.09397 \t Rec: 7.09397 \t KL: 0.0\n",
            "Epoch: 78/100  -  Loss: 7.09348 \t Rec: 7.09348 \t KL: 0.0\n",
            "Epoch: 79/100  -  Loss: 7.09381 \t Rec: 7.09381 \t KL: 0.0\n",
            "Epoch: 80/100  -  Loss: 7.0937 \t Rec: 7.0937 \t KL: 0.0\n",
            "Epoch: 81/100  -  Loss: 7.09297 \t Rec: 7.09297 \t KL: 0.0\n",
            "Epoch: 82/100  -  Loss: 7.0934 \t Rec: 7.0934 \t KL: 0.0\n",
            "Epoch: 83/100  -  Loss: 7.09372 \t Rec: 7.09372 \t KL: 0.0\n",
            "Epoch: 84/100  -  Loss: 7.09359 \t Rec: 7.09359 \t KL: 0.0\n",
            "Epoch: 85/100  -  Loss: 7.09321 \t Rec: 7.09321 \t KL: 0.0\n",
            "Epoch: 86/100  -  Loss: 7.09405 \t Rec: 7.09405 \t KL: 0.0\n",
            "Epoch: 87/100  -  Loss: 7.09431 \t Rec: 7.09431 \t KL: 0.0\n",
            "Epoch: 88/100  -  Loss: 7.0943 \t Rec: 7.0943 \t KL: 0.0\n",
            "Epoch: 89/100  -  Loss: 7.09372 \t Rec: 7.09372 \t KL: 0.0\n",
            "Epoch: 90/100  -  Loss: 7.09252 \t Rec: 7.09252 \t KL: 0.0\n",
            "Epoch: 91/100  -  Loss: 7.09284 \t Rec: 7.09284 \t KL: 0.0\n",
            "Epoch: 92/100  -  Loss: 7.09261 \t Rec: 7.09261 \t KL: 0.0\n",
            "Epoch: 93/100  -  Loss: 7.09454 \t Rec: 7.09454 \t KL: 0.0\n",
            "Epoch: 94/100  -  Loss: 7.09476 \t Rec: 7.09476 \t KL: 0.0\n",
            "Epoch: 95/100  -  Loss: 7.09259 \t Rec: 7.09259 \t KL: 0.0\n",
            "Epoch: 96/100  -  Loss: 7.09352 \t Rec: 7.09352 \t KL: 0.0\n",
            "Epoch: 97/100  -  Loss: 7.09311 \t Rec: 7.09311 \t KL: 0.0\n",
            "Epoch: 98/100  -  Loss: 7.09321 \t Rec: 7.09321 \t KL: 0.0\n",
            "Epoch: 99/100  -  Loss: 7.09342 \t Rec: 7.09342 \t KL: 0.0\n",
            "Epoch: 100/100  -  Loss: 7.0935 \t Rec: 7.0935 \t KL: 0.0\n",
            "Checkpoint saved at checkpoints/etm_epoch_100.pth.tar\n"
          ]
        },
        {
          "output_type": "display_data",
          "data": {
            "text/plain": [
              "<Figure size 432x288 with 1 Axes>"
            ],
            "image/png": "[encoded data removed]"
          },
          "metadata": {
            "needs_background": "light"
          }
        },
        {
          "output_type": "display_data",
          "data": {
            "text/plain": [
              "<Figure size 432x288 with 1 Axes>"
            ],
            "image/png": "[encoded data removed]"
          },
          "metadata": {
            "needs_background": "light"
          }
        },
        {
          "output_type": "stream",
          "name": "stdout",
          "text": [
            "tensor([0.0007, 0.0008, 0.0008,  ..., 0.0008, 0.0008, 0.0007], device='cuda:0')\n",
            "tensor(1., device='cuda:0')\n",
            "[('nntp', 0.0012853952357545495), ('posting', 0.0012806410668417811), ('host', 0.0012746641878038645), ('distribution', 0.001220080303028226), ('article', 0.0011561582796275616), ('reply', 0.0011443521361798048), ('cc', 0.0011273466516286135), ('sun', 0.0011207697680220008), ('uk', 0.0011206648778170347), ('usa', 0.0011180887231603265), ('university', 0.001105933217331767), ('ac', 0.0011013417970389128), ('apr', 0.0010846885852515697), ('uiuc', 0.0010844138450920582), ('newsreader', 0.0010811020620167255), ('nasa', 0.001080055022612214), ('cs', 0.001078509958460927), ('ca', 0.001072222599759698), ('gov', 0.0010674254735931754), ('tin', 0.0010623660637065768)]\n",
            "[('nntp', 0.0012073683319613338), ('posting', 0.0012035723775625229), ('host', 0.0011985963210463524), ('distribution', 0.0011535166995599866), ('article', 0.0011005793930962682), ('reply', 0.0010907900286838412), ('cc', 0.001077162567526102), ('uk', 0.0010710854548960924), ('sun', 0.00107102794572711), ('usa', 0.0010690412018448114), ('university', 0.001058762427419424), ('ac', 0.0010550544830039144), ('apr', 0.0010408669477328658), ('uiuc', 0.0010407351655885577), ('newsreader', 0.0010382329346612096), ('nasa', 0.0010369744850322604), ('cs', 0.0010359102161601186), ('ca', 0.0010311366058886051), ('gov', 0.0010262418072670698), ('tin', 0.001022542710416019)]\n",
            "[('nntp', 0.0012440667487680912), ('posting', 0.0012389736948534846), ('host', 0.0012340850662440062), ('distribution', 0.001185883767902851), ('article', 0.0011274850694462657), ('reply', 0.001116218394599855), ('cc', 0.001105190021917224), ('uk', 0.001097914413549006), ('sun', 0.0010934221791103482), ('usa', 0.0010933761950582266), ('ac', 0.001080368529073894), ('university', 0.0010799821466207504), ('newsreader', 0.0010610661702230573), ('apr', 0.0010607563890516758), ('uiuc', 0.0010594486957415938), ('cs', 0.001057076035067439), ('ca', 0.0010562804527580738), ('nasa', 0.0010557378409430385), ('gov', 0.0010445002699270844), ('tin', 0.0010440052719786763)]\n",
            "[('nntp', 0.0012351444456726313), ('posting', 0.0012308638542890549), ('host', 0.0012256331974640489), ('distribution', 0.0011774644954130054), ('article', 0.0011208010837435722), ('reply', 0.0011099798139184713), ('cc', 0.0010960532817989588), ('uk', 0.0010896101593971252), ('sun', 0.0010886561358347535), ('usa', 0.0010867675300687551), ('university', 0.0010754481190815568), ('ac', 0.0010724408784881234), ('apr', 0.001056451117619872), ('uiuc', 0.001056308625265956), ('newsreader', 0.0010541030205786228), ('nasa', 0.0010522910160943866), ('cs', 0.0010513914749026299), ('ca', 0.0010470470879226923), ('gov', 0.0010408898815512657), ('tin', 0.0010373013792559505)]\n",
            "[('nntp', 0.0012035331455990672), ('posting', 0.0011999752605333924), ('host', 0.001194856595247984), ('distribution', 0.001150154392234981), ('article', 0.001098332111723721), ('reply', 0.001088404911570251), ('cc', 0.001073608291335404), ('sun', 0.0010692969663068652), ('uk', 0.0010679737897589803), ('usa', 0.0010664599249139428), ('university', 0.0010570476297289133), ('ac', 0.0010521116200834513), ('uiuc', 0.0010401038452982903), ('apr', 0.0010394174605607986), ('nasa', 0.0010359100997447968), ('newsreader', 0.0010354886762797832), ('cs', 0.0010339150903746486), ('ca', 0.0010277676628902555), ('gov', 0.00102519360370934), ('tin', 0.0010199436219409108)]\n",
            "[('nntp', 0.0012365963775664568), ('posting', 0.0012326212599873543), ('host', 0.0012270916486158967), ('distribution', 0.0011783194495365024), ('article', 0.001121386419981718), ('reply', 0.0011108301114290953), ('cc', 0.0010956793557852507), ('sun', 0.0010897598695009947), ('uk', 0.0010885194642469287), ('usa', 0.0010874076979234815), ('university', 0.0010765627957880497), ('ac', 0.0010713288793340325), ('uiuc', 0.0010574692860245705), ('apr', 0.0010574532207101583), ('newsreader', 0.0010537775233387947), ('nasa', 0.001053366344422102), ('cs', 0.0010518579510971904), ('ca', 0.001046057790517807), ('gov', 0.0010418746387585998), ('tin', 0.0010369763476774096)]\n",
            "[('nntp', 0.001224852865561843), ('posting', 0.0012211543507874012), ('host', 0.001215592841617763), ('distribution', 0.0011678512673825026), ('article', 0.0011125500313937664), ('reply', 0.0011024456471204758), ('cc', 0.0010866090888157487), ('sun', 0.0010823513148352504), ('uk', 0.0010796710848808289), ('usa', 0.0010793281253427267), ('university', 0.0010694325901567936), ('ac', 0.001063095754943788), ('uiuc', 0.0010510222055017948), ('apr', 0.001050640014000237), ('nasa', 0.0010474913287907839), ('newsreader', 0.001046243472956121), ('cs', 0.0010448151733726263), ('ca', 0.0010380953317508101), ('gov', 0.0010359062580391765), ('tin', 0.001029919134452939)]\n",
            "[('nntp', 0.0012228628620505333), ('posting', 0.0012186451349407434), ('host', 0.0012136060977354646), ('distribution', 0.0011672654654830694), ('article', 0.0011120998533442616), ('reply', 0.0011017404031008482), ('cc', 0.001088590594008565), ('uk', 0.0010823369957506657), ('sun', 0.0010809063678607345), ('usa', 0.0010794163681566715), ('university', 0.0010681269923225045), ('ac', 0.0010656152153387666), ('apr', 0.0010496770264580846), ('uiuc', 0.0010491972789168358), ('newsreader', 0.001047786558046937), ('nasa', 0.0010453024879097939), ('cs', 0.0010449964320287108), ('ca', 0.0010412504198029637), ('gov', 0.0010344241745769978), ('tin', 0.001031498541124165)]\n",
            "[('nntp', 0.0012328686425462365), ('posting', 0.0012287440476939082), ('host', 0.0012234396999701858), ('distribution', 0.0011753677390515804), ('article', 0.0011190295917913318), ('reply', 0.0011083373101428151), ('cc', 0.0010941606014966965), ('uk', 0.0010877548484131694), ('sun', 0.0010872316779568791), ('usa', 0.0010851843981072307), ('university', 0.0010740879224613309), ('ac', 0.0010706768371164799), ('apr', 0.0010551708983257413), ('uiuc', 0.0010551322484388947), ('newsreader', 0.0010525700636208057), ('nasa', 0.0010511705186218023), ('cs', 0.0010499992640689015), ('ca', 0.0010453268187120557), ('gov', 0.0010397019796073437), ('tin', 0.001035866211168468)]\n",
            "[('nntp', 0.0011905640130862594), ('posting', 0.001186997746117413), ('host', 0.001182151841931045), ('distribution', 0.0011391217121854424), ('article', 0.0010890328558161855), ('reply', 0.0010793809778988361), ('cc', 0.0010656674858182669), ('sun', 0.0010606317082419991), ('uk', 0.0010597343789413571), ('usa', 0.001058308407664299), ('university', 0.0010488828411325812), ('ac', 0.0010444259969517589), ('uiuc', 0.0010324990143999457), ('apr', 0.00103195128031075), ('newsreader', 0.0010284512536600232), ('nasa', 0.0010284249437972903), ('cs', 0.0010268426267430186), ('ca', 0.0010214808862656355), ('gov', 0.0010180537356063724), ('tin', 0.0010134452022612095)]\n",
            "torch.Size([1266, 300])\n",
            "torch.Size([10, 300])\n",
            "Duration: 6.2519426345825195 seconds\n"
          ]
        },
        {
          "output_type": "display_data",
          "data": {
            "text/html": [
              "<html>\n",
              "<head><meta charset=\"utf-8\" /></head>\n",
              "<body>\n",
              "    <div>            <script src=\"https://cdnjs.cloudflare.com/ajax/libs/mathjax/2.7.5/MathJax.js?config=TeX-AMS-MML_SVG\"></script><script type=\"text/javascript\">if (window.MathJax) {MathJax.Hub.Config({SVG: {font: \"STIX-Web\"}});}</script>                <script type=\"text/javascript\">window.PlotlyConfig = {MathJaxConfig: 'local'};</script>\n",
              "        <script src=\"https://cdn.plot.ly/plotly-2.11.1.min.js\"></script>                <div id=\"e4635b61-9a59-40ee-98b2-ca0d8e536e36\" class=\"plotly-graph-div\" style=\"height:525px; width:100%;\"></div>            <script type=\"text/javascript\">                                    window.PLOTLYENV=window.PLOTLYENV || {};                                    if (document.getElementById(\"e4635b61-9a59-40ee-98b2-ca0d8e536e36\")) {                    Plotly.newPlot(                        \"e4635b61-9a59-40ee-98b2-ca0d8e536e36\",                        [{\"hovertemplate\":\"cluster=cluster 7<br>x=%{x}<br>y=%{y}<extra></extra>\",\"legendgroup\":\"cluster 7\",\"marker\":{\"color\":\"#636efa\",\"symbol\":\"circle\"},\"mode\":\"markers\",\"name\":\"cluster 7\",\"showlegend\":true,\"x\":[12.185144424438477,12.294971466064453,12.43768310546875,13.06351375579834,12.088677406311035,12.539864540100098,10.964886665344238,14.221476554870605,12.653250694274902,11.712355613708496,11.471000671386719,14.001227378845215,12.108660697937012,11.026784896850586,12.831517219543457,12.448665618896484,12.346442222595215,11.818181037902832,13.433505058288574,14.056082725524902,12.809775352478027,12.40339183807373,13.11872386932373,12.30878734588623,12.97274398803711,12.749192237854004,12.78179931640625,12.96007251739502,13.87617015838623,13.501626014709473,10.482935905456543,12.713505744934082,12.428175926208496,12.210259437561035,12.41235637664795,13.099411964416504,12.20059585571289,12.649937629699707,12.038018226623535,12.815927505493164,13.346518516540527,11.7466402053833,11.842103958129883,13.054394721984863,13.427199363708496,12.530251502990723,12.578832626342773,12.217270851135254,12.344969749450684,11.942272186279297,13.562884330749512,12.40926742553711,13.084260940551758,13.054580688476562,11.911330223083496,12.542542457580566,13.15969467163086,11.281790733337402,11.592622756958008,12.18181037902832,12.475191116333008,13.017751693725586,13.353586196899414,11.788140296936035,13.40729808807373,12.285249710083008,13.145532608032227,13.158537864685059,12.364441871643066,12.072643280029297,13.02900505065918,13.041251182556152,12.151911735534668,12.119234085083008,13.055316925048828,12.982993125915527,13.282937049865723,12.660213470458984,14.276698112487793,13.598400115966797,13.283233642578125,11.646258354187012,13.898210525512695,11.568596839904785,12.461899757385254,11.836694717407227,13.851943969726562,13.758003234863281,13.715438842773438,11.976075172424316,11.680816650390625,13.673909187316895,12.379008293151855,13.842848777770996,12.434416770935059,9.851638793945312,12.24553394317627,12.951443672180176,12.891279220581055,10.781099319458008,12.584335327148438,13.223974227905273,13.246844291687012,13.958539009094238,13.160127639770508,12.500882148742676,12.462617874145508,12.300117492675781,11.058648109436035,11.728412628173828,10.514928817749023,13.161218643188477,11.602960586547852,12.74863338470459,12.253000259399414,13.781489372253418,14.116995811462402,13.653890609741211,12.33908748626709,12.562661170959473,11.891748428344727,13.796329498291016,12.233648300170898,12.997912406921387,11.263163566589355,13.034658432006836,12.205549240112305,11.695261001586914,12.947118759155273,12.939666748046875,13.00777530670166,11.807523727416992,13.470614433288574,11.831949234008789,12.917442321777344,13.321237564086914,12.602588653564453,11.889480590820312,12.734628677368164,12.231568336486816,11.786308288574219,14.204578399658203,11.843042373657227,13.756834030151367,10.57023811340332,11.209245681762695,11.880436897277832,11.084457397460938,13.91246223449707,11.03933048248291,12.68580150604248,13.879652976989746,12.366009712219238,11.68920612335205,13.261015892028809,13.265707969665527,14.161320686340332,12.365740776062012,13.230697631835938,12.681172370910645,12.004999160766602,11.91456127166748,13.19563102722168,11.720836639404297,11.282858848571777,11.704390525817871,11.86618709564209,13.373337745666504,14.141966819763184,13.46010971069336,13.171055793762207,12.498597145080566,11.906277656555176,12.732677459716797,11.559975624084473,11.396780014038086,12.57236385345459,14.269183158874512,12.514490127563477,12.051606178283691,11.405351638793945,13.216144561767578,11.294722557067871,13.294411659240723,12.705991744995117,11.680747032165527,12.80550765991211,11.089799880981445,12.990586280822754,13.966837882995605,12.31507396697998,10.576155662536621,10.71120548248291,12.931861877441406,12.882689476013184,11.984346389770508,12.052800178527832,13.215482711791992,12.763875961303711,12.283470153808594,13.327239990234375,12.701619148254395,13.996909141540527,13.82107162475586,11.489960670471191,12.811251640319824,12.1936616897583,12.270956039428711,12.807705879211426,13.908159255981445,12.285579681396484,13.736515045166016,11.154032707214355,13.669397354125977,12.769264221191406,12.277885437011719,13.740998268127441,13.4313325881958,11.762630462646484,12.040437698364258,11.775019645690918,11.90942096710205,12.326214790344238,12.677923202514648,11.54587173461914,14.294933319091797,13.019010543823242,12.34954833984375,12.831214904785156,12.213014602661133,11.944855690002441,11.870698928833008,11.026721954345703,12.964154243469238,12.411537170410156,12.338275909423828,11.7920560836792,11.032261848449707,12.804850578308105,11.893917083740234,10.65500545501709,13.377635955810547,13.201173782348633,14.068459510803223,11.624897956848145,14.12319564819336,12.980635643005371,11.530252456665039,12.67371940612793,11.765802383422852,12.851463317871094,11.786216735839844,12.463424682617188,13.157995223999023,12.255603790283203,13.775403022766113,11.348593711853027,13.783689498901367,11.545669555664062,13.051186561584473,11.843915939331055,11.023459434509277,13.717504501342773,11.3325777053833,14.243473052978516,12.942192077636719,13.301037788391113,12.586647033691406,10.873967170715332,12.474112510681152,13.566274642944336,12.792593002319336,11.714315414428711,11.218681335449219,13.436283111572266,13.783597946166992,12.379133224487305,11.101024627685547,12.13980484008789,11.507108688354492,11.919107437133789,14.124814987182617,12.872284889221191,13.024808883666992,12.321060180664062,12.599095344543457,13.646660804748535,12.134695053100586,12.26974105834961,12.074908256530762,13.897133827209473,13.212353706359863,12.54187297821045,13.030410766601562,11.430760383605957,13.613128662109375,11.198690414428711,12.79813003540039,12.126396179199219,13.077669143676758,11.792888641357422,13.235640525817871,12.78117561340332,12.792739868164062,12.543116569519043,12.046225547790527,12.747631072998047,12.510940551757812,13.133101463317871,12.56333065032959,12.176390647888184,13.222094535827637,13.057697296142578,13.171987533569336,12.722615242004395,13.502963066101074,12.075340270996094,11.94118881225586,12.536633491516113,13.345033645629883,12.619833946228027,13.139070510864258,12.16670036315918,12.890009880065918,14.021411895751953,11.900886535644531,13.204507827758789,12.728684425354004,13.683027267456055,11.878924369812012,13.375373840332031,13.357931137084961,11.956705093383789,12.937302589416504,12.88708209991455,12.329869270324707,11.577679634094238,13.284998893737793,13.834521293640137,12.986503601074219,12.139711380004883,12.003361701965332,11.985857963562012,11.647662162780762,11.980485916137695,13.274876594543457,13.300604820251465,12.399559020996094,12.134125709533691,13.202373504638672,12.499588012695312,12.47475528717041,10.592190742492676,13.974115371704102,13.544790267944336,12.142165184020996,11.941861152648926,13.891613006591797,11.523375511169434,12.377765655517578,12.655083656311035,14.254927635192871,12.565710067749023,13.196634292602539,12.157134056091309,11.6412935256958,11.605504989624023,12.858485221862793,12.924591064453125,13.177549362182617,11.58113956451416,12.210851669311523],\"xaxis\":\"x\",\"y\":[1.988873839378357,1.8676480054855347,3.050577163696289,1.9555943012237549,7.975025653839111,2.740356683731079,6.47486686706543,2.011627674102783,2.779953718185425,2.0970840454101562,5.154332160949707,5.302905082702637,3.8664052486419678,4.812769412994385,4.4828033447265625,2.9884653091430664,3.369075298309326,6.263454437255859,6.660347938537598,5.233884334564209,6.2781219482421875,5.834362030029297,3.8877267837524414,4.008277416229248,4.6663713455200195,2.9039669036865234,6.466822147369385,6.745824813842773,2.5747382640838623,6.720334053039551,6.875471115112305,4.584622383117676,5.664796829223633,6.202599048614502,2.226806402206421,3.2584657669067383,4.170050621032715,3.6294870376586914,7.091254711151123,1.4083991050720215,4.633789539337158,2.3382973670959473,1.991220474243164,3.142214059829712,5.154830455780029,4.330948352813721,3.5279502868652344,1.9902962446212769,5.725940227508545,4.915857315063477,4.919702053070068,5.658267974853516,6.3151445388793945,5.829156398773193,2.656980037689209,3.171597957611084,5.152019500732422,4.691143035888672,4.3162150382995605,4.035618305206299,3.6827194690704346,4.565281867980957,2.0318398475646973,6.263894081115723,3.035212278366089,4.090315341949463,3.081475257873535,2.027040958404541,6.025867938995361,4.386560916900635,5.81608247756958,4.147019863128662,3.4368579387664795,2.0738015174865723,2.9847898483276367,6.217299461364746,4.503880977630615,2.755563735961914,1.376661777496338,5.11138916015625,6.939016342163086,3.9231255054473877,5.561463356018066,4.1613383293151855,2.0637638568878174,6.163968086242676,2.1893577575683594,2.9923477172851562,5.311851501464844,8.003571510314941,1.82356858253479,6.491246223449707,3.373957633972168,2.987377882003784,2.0569067001342773,6.514243125915527,2.8562278747558594,5.530249118804932,5.43842077255249,6.084503173828125,3.5963211059570312,5.842228889465332,1.6164257526397705,5.6381683349609375,5.964567184448242,5.821348190307617,6.613175392150879,3.245755434036255,6.0172600746154785,1.8968238830566406,7.0087409019470215,1.7212640047073364,6.416017532348633,6.049813747406006,1.9690219163894653,2.6403472423553467,2.1276183128356934,6.4979705810546875,2.7935101985931396,3.424590826034546,4.272773265838623,5.00942325592041,2.9682087898254395,6.594008445739746,4.750247001647949,4.0152506828308105,2.2800796031951904,4.1269989013671875,4.0675506591796875,6.00365686416626,1.5579973459243774,6.128844261169434,6.944345951080322,4.107887268066406,5.698464870452881,3.0679941177368164,5.490818023681641,6.096067428588867,6.16058874130249,3.164271116256714,5.079946994781494,1.456048607826233,2.618351459503174,6.3391218185424805,6.343532085418701,6.1089653968811035,4.968865871429443,6.031647205352783,5.929948806762695,4.965397834777832,4.013274669647217,5.1461944580078125,6.209981441497803,5.1321587562561035,1.9783645868301392,5.3449811935424805,1.9442309141159058,5.069504261016846,1.9070663452148438,4.624472618103027,4.120638847351074,5.62614631652832,4.204657077789307,1.9790916442871094,5.631772041320801,5.0667009353637695,2.1216137409210205,1.5872247219085693,2.014727830886841,6.660196781158447,2.306129217147827,5.916272163391113,6.2286810874938965,3.144501209259033,5.215788841247559,5.67728328704834,4.129217147827148,1.3690968751907349,5.952696800231934,6.9522223472595215,6.505534648895264,6.836967468261719,4.816250324249268,3.3366661071777344,3.0605146884918213,5.207357883453369,3.977074146270752,5.050279140472412,6.2606048583984375,5.900564670562744,5.698401927947998,6.424209117889404,6.246317386627197,6.4759955406188965,6.600769996643066,4.085074424743652,5.728585243225098,1.941205382347107,6.822108268737793,4.086355686187744,4.008368968963623,5.837166786193848,5.532797336578369,2.3987886905670166,6.428594589233398,6.641664028167725,4.7885260581970215,4.937390327453613,6.718952655792236,5.756605625152588,1.8764681816101074,6.366490840911865,5.688512325286865,6.574103832244873,6.142309188842773,5.657742500305176,2.726742744445801,2.682703733444214,2.033419370651245,7.816181182861328,2.027208089828491,5.006911754608154,6.601113319396973,5.553614616394043,6.041947364807129,1.359251856803894,2.3058583736419678,5.234378337860107,7.091563701629639,2.7220802307128906,2.0066213607788086,5.044828414916992,5.30640983581543,2.308241844177246,2.037907361984253,3.75915789604187,6.205679416656494,4.700128078460693,6.50568151473999,4.682605743408203,6.449520587921143,2.7460827827453613,1.8814334869384766,2.1757097244262695,6.587940216064453,2.0791115760803223,2.641599178314209,6.933267116546631,2.106935501098633,2.0254735946655273,6.273616790771484,4.961945533752441,2.7242283821105957,6.019786834716797,5.434494972229004,5.289875507354736,4.504152774810791,5.826321125030518,4.12280797958374,6.784715175628662,5.0630998611450195,5.051423072814941,5.220437526702881,5.700524806976318,1.4159797430038452,6.041396617889404,6.0008625984191895,4.43916130065918,5.984440326690674,6.2012248039245605,6.879607200622559,2.673755168914795,4.868081092834473,5.663830757141113,7.082299709320068,5.245240211486816,1.7933132648468018,5.854248046875,1.9753059148788452,4.443238258361816,6.073690414428711,2.126300096511841,2.9216136932373047,4.525985240936279,1.8537235260009766,6.449725151062012,5.127213954925537,4.993945121765137,3.9336318969726562,4.131714820861816,5.602062702178955,5.909038543701172,6.263784408569336,5.906893253326416,5.25813102722168,3.156893730163574,6.142486095428467,5.592865467071533,4.233512878417969,4.441228866577148,2.0569705963134766,6.014639854431152,4.519037246704102,3.857433795928955,2.0091729164123535,2.8439581394195557,4.630340099334717,6.219528675079346,6.81455135345459,5.801352500915527,3.994380235671997,2.9771156311035156,5.664256572723389,4.103710651397705,3.3013412952423096,3.312157154083252,5.164352893829346,7.188961505889893,2.7898104190826416,6.9796271324157715,3.0947487354278564,1.805493950843811,2.0159738063812256,5.148492336273193,5.756299018859863,4.209718227386475,6.010336399078369,3.620640754699707,6.535994529724121,7.034026622772217,6.907665729522705,6.78393030166626,5.737024784088135,4.506069183349609,4.88021183013916,3.40246319770813,6.840273857116699,6.900270462036133,6.252822399139404,4.44424295425415,2.8522262573242188,7.043519496917725,4.215742111206055,6.942928314208984,6.352149486541748,3.039125680923462,3.2462196350097656,6.3263983726501465,2.3540923595428467,1.841835856437683,3.8667423725128174,1.7996830940246582,6.567152976989746,5.290498733520508,5.060826301574707,6.972226142883301,6.037960529327393,2.418590545654297,5.158060550689697,5.600652694702148,3.3534815311431885,1.4788801670074463,5.634271621704102,6.550560474395752,4.231442451477051,5.106424808502197,6.842121124267578,5.239265441894531,4.017946243286133,1.9599101543426514,4.327877998352051,2.0485219955444336],\"yaxis\":\"y\",\"type\":\"scattergl\"},{\"hovertemplate\":\"cluster=cluster 0<br>x=%{x}<br>y=%{y}<extra></extra>\",\"legendgroup\":\"cluster 0\",\"marker\":{\"color\":\"#EF553B\",\"symbol\":\"circle\"},\"mode\":\"markers\",\"name\":\"cluster 0\",\"showlegend\":true,\"x\":[10.470643997192383,11.640267372131348,6.711221694946289,11.832011222839355,8.338212013244629,6.599660873413086,13.098505020141602,6.026003837585449,11.98383617401123,9.560371398925781,9.15490436553955,10.600825309753418,10.257198333740234,12.125507354736328,8.278300285339355,11.559233665466309,10.39437198638916,12.154383659362793,11.858139991760254,6.760243892669678,6.241826057434082,11.534026145935059,11.372239112854004,9.5001220703125,11.583223342895508,8.52980899810791,11.431941032409668,7.880599498748779,8.77480697631836,11.774852752685547,5.881082534790039,11.177009582519531,5.265658855438232,9.403851509094238,5.580111980438232,10.134593963623047,10.461346626281738,10.16209602355957,11.300515174865723,9.112465858459473,11.694350242614746,8.135663986206055,8.57471752166748,6.471545696258545,9.730993270874023,5.452972888946533,11.436203002929688,8.651381492614746,9.560839653015137,10.594082832336426,9.833688735961914,10.12573528289795,11.597317695617676,5.788382053375244,10.922035217285156,8.49156665802002,5.2838006019592285,6.609192371368408,6.0613837242126465,11.55862808227539,5.8223066329956055,9.910517692565918,10.362044334411621,5.491021633148193,8.453742980957031,9.882445335388184,11.906017303466797,11.323166847229004,11.439016342163086,8.23190975189209,10.501912117004395,9.037044525146484,11.23682975769043,9.365199089050293,7.98549222946167,11.40029239654541,8.172286987304688,11.543132781982422,8.349127769470215,9.185962677001953,6.263768196105957,8.157196044921875,11.807798385620117,9.944238662719727,11.615802764892578,11.235800743103027,10.037182807922363,8.724051475524902,12.080474853515625,10.351183891296387,6.646607875823975,7.807852745056152,8.577779769897461,11.193053245544434,6.588686943054199,5.974503040313721,9.200389862060547,8.211450576782227,6.798464775085449,11.96250057220459,8.919997215270996,10.323362350463867,10.543997764587402,9.368711471557617,7.564683437347412,10.512651443481445,7.392269611358643,5.388530731201172,8.387341499328613,9.747344017028809,10.476432800292969,9.746634483337402,6.31369686126709,11.905580520629883,6.309450626373291,10.901349067687988,8.896625518798828,11.090898513793945,9.076952934265137,9.168484687805176,10.950817108154297,10.503704071044922,10.114068031311035,10.335312843322754,8.156185150146484,10.501511573791504,12.15542221069336,11.921741485595703,8.606649398803711,8.487622261047363,11.445155143737793,6.986354827880859,10.747340202331543,10.422600746154785,9.275010108947754,7.690816402435303,5.83143424987793,9.084088325500488,11.89432430267334,10.352251052856445,10.075398445129395,8.634666442871094,7.981703281402588,5.942040920257568,8.493021011352539,6.7430949211120605,6.166197299957275,11.804903984069824,6.356455326080322,9.9808931350708,10.542097091674805,12.911518096923828,8.50733757019043,11.252409934997559,11.191863059997559,7.403356552124023,5.2865095138549805,11.298309326171875,8.107237815856934,6.462960243225098,13.019795417785645,6.858506202697754,8.02038860321045,6.777611255645752,10.470423698425293,12.11959457397461,11.985029220581055,6.4791975021362305,9.504804611206055,9.520206451416016,6.177053451538086,10.498002052307129,9.228777885437012,6.113499164581299,8.967312812805176,6.429267406463623,8.613134384155273,8.322710990905762,10.583194732666016,10.097689628601074,10.262489318847656,9.190311431884766,9.052978515625,12.147055625915527,8.321271896362305,9.453849792480469,9.811479568481445,7.817766189575195,9.61072826385498,10.07347583770752,11.380743026733398,9.828826904296875,13.097304344177246,10.73269271850586,6.189231872558594,9.283838272094727,12.141581535339355,8.120405197143555,7.396952152252197,10.445332527160645,12.056377410888672,11.249100685119629,11.56870174407959,10.205857276916504,8.42800521850586,11.521707534790039,11.582200050354004,11.173636436462402,8.544487953186035,8.852672576904297,6.924896240234375,9.40839672088623,12.123441696166992,6.717696666717529,9.164463996887207,11.837800025939941,10.213075637817383,6.642134666442871,10.331247329711914,8.804105758666992,7.9329986572265625,10.19022274017334,8.945740699768066,11.21357250213623,7.998875141143799,13.024372100830078,8.923538208007812,8.464249610900879,8.500229835510254,10.528364181518555,6.2660932540893555,10.194130897521973,11.27627944946289,10.350503921508789,10.176835060119629,8.585515975952148,10.463253021240234,8.277052879333496,11.324734687805176,6.909441947937012,9.341303825378418,10.739659309387207,5.575018882751465,10.58245849609375,5.918979644775391,8.379372596740723,10.669598579406738,9.897565841674805,5.622654914855957,7.7699432373046875,8.782729148864746,8.147669792175293,5.970048904418945,10.100107192993164,9.224318504333496,8.558350563049316,9.722827911376953,6.579989910125732,6.492655277252197,7.628477096557617,11.482686996459961,10.593331336975098,7.028966426849365,10.234463691711426,11.01325511932373,8.297367095947266,10.526300430297852,10.590161323547363,7.939308166503906,13.115822792053223,11.492376327514648,12.432269096374512,13.30811595916748,10.620351791381836,9.22893238067627,10.570893287658691,7.731922149658203,8.556716918945312,7.786643028259277,8.726972579956055,10.50920581817627,5.91271448135376,13.469256401062012,8.586673736572266,7.8194122314453125,10.22999382019043,9.249905586242676,8.503491401672363,8.349703788757324,6.963445663452148,11.953666687011719,9.052958488464355,10.295818328857422,5.8255534172058105,6.070675849914551,5.462268352508545,11.514595031738281,10.573346138000488,11.633806228637695,10.436758995056152,11.595739364624023,10.469496726989746,9.518586158752441,8.196722030639648,9.287650108337402,11.81183910369873,7.989858150482178,8.575093269348145,8.46096134185791,10.119584083557129,11.03641128540039,10.44261360168457,9.516524314880371,11.437602996826172,5.921422481536865,10.493843078613281,10.487056732177734,11.815241813659668,10.684926986694336,11.799154281616211,8.633037567138672,10.044722557067871,9.95252513885498,6.3332905769348145,11.420236587524414,12.06001091003418,9.981549263000488,7.784147262573242,10.500460624694824,9.7699613571167,8.585288047790527,7.9095377922058105,9.948116302490234,10.957185745239258,9.354687690734863,5.952958583831787,8.87762451171875,8.12543773651123,9.645500183105469,5.835525035858154,6.346868991851807,8.15831470489502,6.405858039855957,8.942228317260742,10.243497848510742,8.975899696350098,11.830917358398438,5.215888977050781,7.8065385818481445,9.321022033691406,5.3017377853393555,12.11932373046875,4.715384006500244,9.229155540466309,6.43014669418335,8.10405445098877,12.112961769104004,11.261933326721191,8.910493850708008,11.573902130126953,10.128952026367188,11.084977149963379,8.737112045288086,7.0679030418396,8.628697395324707,8.41514778137207,8.284565925598145,10.34162425994873,6.8524675369262695,10.562789916992188,10.540620803833008,10.874089241027832,10.816072463989258,12.125176429748535,10.243350982666016,13.017224311828613,11.90976333618164,11.181924819946289,5.880023956298828,6.020690441131592,9.790983200073242,11.225642204284668,9.487061500549316,8.835400581359863,11.36947250366211,8.416661262512207,6.631790637969971,9.195948600769043,8.507335662841797,8.519436836242676,5.7163214683532715,10.16604232788086,10.898112297058105,10.678298950195312,10.269591331481934,9.346532821655273,8.090394020080566,8.252613067626953,10.208778381347656,12.019253730773926,5.051107883453369,9.689555168151855,10.457975387573242,8.253432273864746,6.253849506378174,9.294814109802246,8.394014358520508,10.527454376220703,9.833581924438477,11.26063346862793,11.94150161743164,10.079177856445312,7.738624095916748,12.457642555236816,6.470007419586182,10.298985481262207,6.1810503005981445,6.716090679168701,7.0214362144470215,5.949605941772461,6.221799373626709,7.409057140350342,7.718542575836182,7.347012519836426,11.262442588806152,10.442761421203613,10.523347854614258,5.49058198928833,11.73043155670166,4.302877902984619,11.463336944580078,6.311520099639893,10.250667572021484,7.739928722381592,8.1116943359375,8.534194946289062,8.239070892333984,9.284783363342285,11.246341705322266,8.161493301391602,5.799241065979004,7.802346706390381,7.741273880004883,7.058910369873047,9.735692024230957,10.526362419128418,9.168763160705566,9.974198341369629,11.171502113342285,8.509028434753418,10.685922622680664,12.103169441223145,7.945397853851318],\"xaxis\":\"x\",\"y\":[7.131761074066162,7.052998065948486,10.412712097167969,8.246975898742676,10.567391395568848,10.130369186401367,7.428411960601807,10.690642356872559,9.978902816772461,11.190752983093262,10.629395484924316,11.474207878112793,6.680541515350342,7.893880367279053,11.253499984741211,9.055340766906738,6.84548807144165,8.490487098693848,10.006041526794434,10.0166015625,10.418705940246582,9.511046409606934,9.816374778747559,9.573439598083496,9.17581558227539,12.139674186706543,8.551994323730469,10.357562065124512,9.266074180603027,8.706008911132812,11.488235473632812,9.439663887023926,11.256832122802734,9.995098114013672,10.940448760986328,10.068217277526855,10.841463088989258,8.080920219421387,9.831640243530273,10.460582733154297,9.529754638671875,9.94145679473877,12.167935371398926,10.043343544006348,11.111881256103516,11.109960556030273,9.052624702453613,9.406222343444824,10.146699905395508,11.780904769897461,6.529819488525391,10.245218276977539,9.223495483398438,10.120040893554688,7.676158428192139,12.187429428100586,10.817086219787598,10.85533618927002,10.158564567565918,7.0808634757995605,11.608179092407227,10.095341682434082,11.940068244934082,10.905925750732422,12.202047348022461,10.778279304504395,9.677058219909668,9.741678237915039,8.288259506225586,10.995613098144531,8.157233238220215,9.963098526000977,9.473612785339355,10.56236457824707,11.17928409576416,8.943161010742188,10.029172897338867,9.10782241821289,10.006373405456543,11.137856483459473,10.857919692993164,10.839025497436523,8.326695442199707,6.5842132568359375,7.123931407928467,8.813178062438965,9.54691219329834,10.190561294555664,10.058902740478516,8.034679412841797,10.067468643188477,11.047809600830078,10.033304214477539,9.701131820678711,10.089937210083008,10.284285545349121,10.672957420349121,9.564186096191406,11.016988754272461,9.698944091796875,11.217228889465332,11.910643577575684,8.059346199035645,9.71259593963623,11.238518714904785,7.720673084259033,12.021172523498535,10.853622436523438,12.156947135925293,6.605885982513428,11.885376930236816,6.589669704437256,11.462385177612305,8.867286682128906,10.196619033813477,9.489439964294434,9.90371036529541,7.462028503417969,11.004356384277344,9.515498161315918,8.175833702087402,10.480167388916016,8.165806770324707,10.12486457824707,10.725475311279297,7.66547966003418,10.09615707397461,8.997408866882324,12.157334327697754,10.84704303741455,9.6442232131958,10.780778884887695,8.317444801330566,11.047028541564941,10.5790376663208,10.479452133178711,10.795137405395508,9.386691093444824,8.309810638427734,9.897775650024414,10.28414535522461,10.073223114013672,10.88436222076416,10.191990852355957,9.347492218017578,11.011048316955566,11.213658332824707,8.27490520477295,10.619770050048828,10.327868461608887,7.5644307136535645,7.22548770904541,12.14234733581543,8.130022048950195,9.36582088470459,11.078009605407715,10.83031177520752,9.323020935058594,10.772762298583984,10.261005401611328,7.555745601654053,11.331604957580566,10.501849174499512,11.127242088317871,11.886249542236328,10.092628479003906,8.329455375671387,10.150702476501465,10.234640121459961,11.062738418579102,10.14164924621582,8.50554370880127,11.18294620513916,10.115861892700195,10.555338859558105,10.315433502197266,10.172579765319824,10.425799369812012,11.731009483337402,11.902453422546387,10.140338897705078,10.737334251403809,9.42924976348877,10.214864730834961,11.07005786895752,10.211860656738281,10.054594993591309,12.126890182495117,11.17827033996582,11.881270408630371,8.913949012756348,11.156832695007324,7.520935535430908,9.915776252746582,10.09885025024414,9.645947456359863,10.178601264953613,10.561419486999512,12.003500938415527,7.367188453674316,10.034600257873535,9.658658981323242,8.968207359313965,8.0658540725708,11.620741844177246,9.547414779663086,9.635982513427734,9.679179191589355,10.924116134643555,9.708985328674316,10.703011512756348,9.981837272644043,10.117212295532227,10.899991989135742,10.530074119567871,9.026142120361328,10.249212265014648,11.156242370605469,11.890523910522461,10.853353500366211,11.252734184265137,10.14345932006836,10.012702941894531,8.2949857711792,11.940668106079102,7.527697563171387,9.25822639465332,12.147077560424805,9.311736106872559,11.82105541229248,11.121793746948242,10.084543228149414,8.239304542541504,11.887776374816895,9.92767333984375,10.897754669189453,7.281014919281006,11.929983139038086,8.96798324584961,10.734790802001953,11.194920539855957,6.944723606109619,11.020318984985352,11.748661994934082,10.144514083862305,10.619781494140625,10.460616111755371,11.086980819702148,10.96728801727295,12.011283874511719,10.166118621826172,11.906149864196777,10.171998977661133,10.31547737121582,9.534382820129395,9.200689315795898,10.21600341796875,11.20792007446289,10.236289024353027,11.16954231262207,7.034102916717529,11.786839485168457,10.597238540649414,11.224218368530273,8.297293663024902,10.54163646697998,7.379404544830322,7.5941643714904785,9.649682998657227,7.43742561340332,7.097426414489746,7.196591377258301,7.176909446716309,11.770317077636719,9.60484790802002,8.412281036376953,11.19797420501709,10.517134666442871,11.100137710571289,11.066282272338867,8.21241283416748,10.255290985107422,7.274187088012695,10.277915954589844,12.130217552185059,10.146615982055664,10.651851654052734,12.178312301635742,10.196971893310547,10.959322929382324,9.978545188903809,9.212570190429688,8.137603759765625,10.148052215576172,10.36188793182373,10.934717178344727,9.26639461517334,9.97991943359375,8.690515518188477,10.893138885498047,8.627099990844727,7.990588665008545,10.84811019897461,10.632593154907227,9.619982719421387,8.59441089630127,12.003274917602539,10.225656509399414,10.994308471679688,6.770334720611572,8.336750984191895,7.655735492706299,10.05516529083252,9.320420265197754,11.600189208984375,7.492323398590088,7.44495153427124,8.505343437194824,8.457548141479492,8.60362434387207,10.094437599182129,10.219924926757812,10.952832221984863,11.072858810424805,8.396286964416504,10.01651382446289,10.131206512451172,10.312134742736816,8.437963485717773,6.592543601989746,12.17010498046875,12.017440795898438,10.942407608032227,8.362350463867188,9.849963188171387,11.261883735656738,9.427006721496582,10.936590194702148,6.691938877105713,10.773293495178223,10.28114128112793,12.073173522949219,11.508770942687988,9.468076705932617,11.890329360961914,9.300921440124512,8.611299514770508,11.215776443481445,11.203877449035645,11.044422149658203,11.195858001708984,10.096049308776855,10.829972267150879,11.199357986450195,11.022943496704102,10.026228904724121,8.63544750213623,8.43216609954834,9.819354057312012,9.929540634155273,11.095995903015137,8.131563186645508,9.408560752868652,11.075630187988281,9.374716758728027,11.000914573669434,10.222283363342285,11.89770793914795,10.39620304107666,7.301456928253174,11.820930480957031,7.872354030609131,9.5465087890625,8.547887802124023,6.892899513244629,7.551738739013672,8.081955909729004,9.51488208770752,10.180017471313477,10.369811058044434,6.588639259338379,9.440547943115234,10.564288139343262,10.758851051330566,9.145342826843262,9.374021530151367,10.89072322845459,10.701486587524414,10.125925064086914,10.961177825927734,11.581472396850586,10.050405502319336,9.406906127929688,7.683215141296387,8.07666015625,10.22463321685791,10.706693649291992,9.529479026794434,8.301945686340332,9.96808910369873,11.135245323181152,9.808334350585938,7.2003278732299805,10.534172058105469,11.586013793945312,11.150419235229492,11.062484741210938,7.8503217697143555,6.563446044921875,9.3833589553833,8.235416412353516,10.051204681396484,10.575342178344727,8.304555892944336,10.041251182556152,7.677940845489502,11.492061614990234,11.059488296508789,10.564536094665527,10.224928855895996,10.309490203857422,12.006508827209473,11.039393424987793,11.10815143585205,9.779666900634766,8.637893676757812,8.27150821685791,11.409896850585938,9.517923355102539,10.664838790893555,8.8902006149292,11.190972328186035,10.201379776000977,11.213847160339355,10.06507396697998,9.313183784484863,10.585366249084473,10.257750511169434,9.597249984741211,10.07959270477295,10.84229564666748,11.98520278930664,11.159038543701172,11.443766593933105,6.6099419593811035,9.753096580505371,10.873568534851074,10.868961334228516,8.217455863952637,10.361042022705078,8.307990074157715,8.15622329711914,11.997929573059082],\"yaxis\":\"y\",\"type\":\"scattergl\"},{\"hovertemplate\":\"cluster=cluster 6<br>x=%{x}<br>y=%{y}<extra></extra>\",\"legendgroup\":\"cluster 6\",\"marker\":{\"color\":\"#00cc96\",\"symbol\":\"circle\"},\"mode\":\"markers\",\"name\":\"cluster 6\",\"showlegend\":true,\"x\":[1.7919942140579224,-0.008844234049320221,1.8165628910064697,-0.019657766446471214,0.9145205616950989,3.875765323638916,1.767421007156372,0.3233203589916229,1.892934799194336,0.8387238383293152,3.5225088596343994,2.651859760284424,4.190073013305664,1.3258123397827148,3.1067590713500977,0.251558393239975,2.830916404724121,2.874932289123535,3.8912014961242676,3.2406907081604004,1.3367217779159546,2.1600873470306396,0.5978246927261353,1.4936821460723877,-0.18293043971061707,1.6860872507095337,1.9500362873077393,-0.27761271595954895,1.6581461429595947,1.5597938299179077,1.2356035709381104,3.8224356174468994,0.35015395283699036,2.981043577194214,1.3303096294403076,1.6352818012237549,2.71199107170105,1.7733564376831055,1.170670509338379,1.3293180465698242,3.893018960952759,1.149979591369629,4.912395000457764,4.487428188323975,1.542757511138916,-0.19028586149215698,-0.16632108390331268,0.26083365082740784,1.499964952468872,1.7713831663131714,1.7527134418487549,1.619036078453064,1.73874831199646,3.4857985973358154,1.5363967418670654,2.7177810668945312,1.7247275114059448,1.713863492012024,2.8470852375030518,0.1950927972793579,0.48562994599342346,1.3279460668563843,-0.23963572084903717,2.698230028152466,4.741186618804932,0.28572362661361694,0.15243421494960785,1.1742737293243408,4.010598182678223,1.8598012924194336,1.5938092470169067,3.9283268451690674,1.548379898071289,0.38347476720809937,4.23362922668457,2.8252882957458496,2.5418007373809814,4.029029846191406,0.31011494994163513,1.413756012916565,1.707767128944397,4.757343292236328,4.553356170654297,1.9999356269836426,-0.10242344439029694,4.0390944480896,3.992757797241211,2.6116838455200195,2.786320447921753,1.6744766235351562,3.8266215324401855,1.9300258159637451,0.04846645146608353,1.5442136526107788,2.8405280113220215,1.4598697423934937,1.2362887859344482,-0.2690729796886444,3.0976879596710205,0.4261290729045868,2.7065529823303223,1.9214872121810913,0.25722405314445496,1.203253984451294,3.1825058460235596,0.15287825465202332,2.9343466758728027,1.4788858890533447,-0.172577366232872,2.252319574356079,1.1665408611297607,1.762216567993164,1.438452959060669,4.008257865905762,0.2993398904800415,1.7083380222320557,3.3951690196990967,1.3658907413482666,2.1136133670806885,1.3132073879241943,1.1526625156402588,2.693540334701538,0.2426089495420456,3.883518934249878,1.8875741958618164,2.9401543140411377,-0.4123658239841461,4.929016590118408,0.18579472601413727,1.5994858741760254,3.3129560947418213,1.8631796836853027,0.3936244547367096,0.4219684898853302,3.922645092010498,1.6789820194244385,4.267828464508057,1.2970664501190186,-0.2924373149871826,1.6496014595031738,0.2843390703201294,2.651090621948242,1.4100617170333862,3.837287664413452,3.9479541778564453,2.352875232696533,0.9635247588157654,0.30643367767333984,1.7151254415512085,0.6457576155662537,3.3505232334136963,0.34751930832862854,1.9200414419174194,1.0428376197814941,3.1530117988586426,2.2607672214508057,0.23287540674209595,0.4810744822025299,4.41853141784668,3.4710755348205566,3.808077096939087,2.476048469543457,3.3242692947387695,1.772406816482544,1.801721215248108,2.033008337020874,1.806260347366333,1.5502017736434937,1.5858967304229736,1.6818671226501465,1.4402698278427124,2.6208853721618652,4.6758880615234375,3.196124792098999,1.6066125631332397,0.845535933971405,2.953130006790161,2.3647208213806152,2.1956167221069336,2.2680609226226807,1.8588125705718994,1.8140660524368286,0.05576014891266823,2.8979506492614746,1.803167700767517,3.0019478797912598,0.24164988100528717,1.8760374784469604],\"xaxis\":\"x\",\"y\":[9.708971977233887,8.649551391601562,9.772599220275879,8.656158447265625,9.738022804260254,10.474764823913574,9.857970237731934,8.096742630004883,9.111769676208496,9.584999084472656,10.485795974731445,10.457476615905762,10.672778129577637,9.505148887634277,10.303102493286133,8.255983352661133,9.61612319946289,9.32954216003418,10.47227954864502,10.396507263183594,9.637598991394043,9.383153915405273,7.951046943664551,7.8414130210876465,8.358684539794922,9.905815124511719,9.257498741149902,8.919848442077637,8.212353706359863,10.25247859954834,9.556802749633789,10.534173011779785,8.675971984863281,10.273336410522461,8.998525619506836,9.898557662963867,10.412614822387695,10.369098663330078,9.684255599975586,7.5977630615234375,10.374683380126953,7.433046340942383,11.088586807250977,10.8384428024292,9.964493751525879,8.814506530761719,8.937297821044922,8.174919128417969,9.980486869812012,8.616607666015625,8.16615104675293,10.152432441711426,8.160442352294922,10.493886947631836,9.023398399353027,10.600640296936035,8.695378303527832,10.335723876953125,9.241621017456055,8.535955429077148,7.805504322052002,7.557417869567871,8.964811325073242,10.574135780334473,11.042770385742188,8.250528335571289,8.531166076660156,8.993492126464844,10.616726875305176,8.965312004089355,9.73178482055664,10.655797958374023,9.606772422790527,8.697648048400879,10.719795227050781,9.69804573059082,10.410120964050293,10.621956825256348,8.615321159362793,7.745666027069092,9.049412727355957,10.962960243225098,10.921887397766113,9.363879203796387,8.482691764831543,10.663568496704102,10.642512321472168,10.496061325073242,9.20382308959961,9.882587432861328,10.515007972717285,8.819360733032227,8.473133087158203,10.086613655090332,9.27480411529541,9.117561340332031,10.276130676269531,8.568203926086426,9.389554023742676,9.352971076965332,10.615296363830566,9.631988525390625,8.551270484924316,9.262990951538086,10.342060089111328,8.481194496154785,9.285433769226074,9.87096881866455,8.36652660369873,10.144186019897461,9.536121368408203,8.771767616271973,9.495126724243164,10.600998878479004,8.460004806518555,8.147576332092285,10.487802505493164,8.962180137634277,9.061288833618164,9.280348777770996,9.6934175491333,10.560113906860352,8.136622428894043,10.549474716186523,9.734000205993652,9.263919830322266,8.914281845092773,11.114052772521973,8.470372200012207,9.952696800231934,9.607725143432617,9.148919105529785,8.6951322555542,7.985530376434326,10.551764488220215,8.946775436401367,10.692110061645508,9.034097671508789,8.990188598632812,10.030647277832031,8.329277992248535,10.510705947875977,9.916522979736328,10.509387016296387,10.578311920166016,10.155826568603516,7.479960918426514,7.652656078338623,8.475281715393066,7.70560884475708,10.456464767456055,9.371135711669922,8.58582878112793,9.700143814086914,10.275308609008789,9.490055084228516,8.573331832885742,8.760046005249023,10.808993339538574,10.479994773864746,10.50042724609375,9.565948486328125,10.439922332763672,10.372419357299805,9.010066986083984,9.50469970703125,10.409754753112793,10.012567520141602,8.0071439743042,8.08664608001709,9.02182674407959,10.49771785736084,10.977230072021484,10.358232498168945,9.848836898803711,9.624024391174316,9.288548469543457,10.200695037841797,8.845319747924805,9.438892364501953,8.491135597229004,8.992379188537598,8.489801406860352,9.291269302368164,8.903573036193848,10.245644569396973,8.421150207519531,9.513727188110352],\"yaxis\":\"y\",\"type\":\"scattergl\"},{\"hovertemplate\":\"cluster=cluster 5<br>x=%{x}<br>y=%{y}<extra></extra>\",\"legendgroup\":\"cluster 5\",\"marker\":{\"color\":\"#ab63fa\",\"symbol\":\"circle\"},\"mode\":\"markers\",\"name\":\"cluster 5\",\"showlegend\":true,\"x\":[-1.0412297248840332,-1.1046093702316284,-1.0915347337722778,-1.1052685976028442,-1.1814212799072266,-1.1611007452011108,-1.1852601766586304,-1.177524447441101,-1.165121078491211,-1.2208529710769653,-1.1760073900222778,-1.1629245281219482,-1.2244501113891602,-1.184004306793213,-1.0873500108718872,-1.0299288034439087],\"xaxis\":\"x\",\"y\":[4.516059875488281,4.549622058868408,4.642031669616699,4.582057952880859,4.363044261932373,4.351784706115723,4.505451679229736,4.517237186431885,4.53231143951416,4.583469390869141,4.4098591804504395,4.384792804718018,4.544970512390137,4.632812023162842,4.514865398406982,4.570319652557373],\"yaxis\":\"y\",\"type\":\"scattergl\"},{\"hovertemplate\":\"cluster=cluster 9<br>x=%{x}<br>y=%{y}<extra></extra>\",\"legendgroup\":\"cluster 9\",\"marker\":{\"color\":\"#FFA15A\",\"symbol\":\"circle\"},\"mode\":\"markers\",\"name\":\"cluster 9\",\"showlegend\":true,\"x\":[13.637690544128418,13.681610107421875,13.612019538879395,14.36528205871582,13.676231384277344,13.607757568359375],\"xaxis\":\"x\",\"y\":[-0.7409048676490784,-0.7329059839248657,-0.7299791574478149,1.174389362335205,-0.7083525061607361,-0.7321462035179138],\"yaxis\":\"y\",\"type\":\"scattergl\"},{\"hovertemplate\":\"cluster=cluster 1<br>x=%{x}<br>y=%{y}<extra></extra>\",\"legendgroup\":\"cluster 1\",\"marker\":{\"color\":\"#19d3f3\",\"symbol\":\"circle\"},\"mode\":\"markers\",\"name\":\"cluster 1\",\"showlegend\":true,\"x\":[-0.41139841079711914,-1.4646198749542236,-0.7541102170944214,-1.0120277404785156,-1.0234473943710327,-1.4831551313400269,-1.3223103284835815,-0.12748682498931885,-1.4671111106872559,-0.7639803290367126,-0.15034405887126923,-0.31830379366874695,-0.7372814416885376,-0.5599385499954224,-0.8337464332580566,0.12844394147396088,-1.354841709136963,-1.4820175170898438,-0.38077762722969055,-1.3741309642791748,-0.3458327353000641,-0.8619030117988586,-1.437915563583374,-1.140950322151184,-0.7063566446304321,-0.005679133348166943,-1.5362708568572998,-1.136033296585083,-1.483785629272461,-1.4989501237869263,0.19468963146209717,-1.4029030799865723,-1.5085071325302124,-0.38567429780960083,-0.41829243302345276,-0.6892717480659485,-1.2972325086593628,-0.2300329953432083,-0.7432326078414917,-0.6663278341293335,-1.5476727485656738,-1.549660086631775,-1.0260884761810303,-0.5816659927368164,-1.2719999551773071,-0.2696436941623688,-0.45609477162361145,-1.2374554872512817,-0.6694762110710144,-0.4283345937728882,-1.3935143947601318,-0.44663387537002563,-0.6151589751243591,-0.5035201907157898,-1.4174836874008179,-1.1033278703689575,-0.591658353805542,-0.8379968404769897,-0.6725862622261047,-0.7647444605827332,-1.1189790964126587,-1.5746501684188843,-0.8733426928520203,-1.307173728942871,-1.527513027191162,-1.4858734607696533,-1.4923120737075806,-1.3718856573104858,-0.5540947318077087,-1.4887324571609497,-1.5722132921218872,-1.4942554235458374,-1.5369975566864014,-0.5947490930557251,-0.7519555687904358,-1.5082377195358276,-0.7501056790351868],\"xaxis\":\"x\",\"y\":[7.848350524902344,6.944857120513916,7.889838695526123,7.533119201660156,7.598752975463867,6.820228576660156,7.24423360824585,7.614232063293457,6.86960506439209,7.583841800689697,8.248241424560547,7.609323978424072,7.774936676025391,6.5252604484558105,7.9112935066223145,7.450294017791748,6.8634490966796875,6.629547119140625,7.9444403648376465,6.909000873565674,8.833200454711914,6.170307159423828,6.547131061553955,6.602770805358887,7.796132564544678,7.314181804656982,6.618730545043945,7.605146884918213,6.7720441818237305,6.727667331695557,7.314418792724609,7.199667930603027,6.730395317077637,8.807920455932617,8.3975248336792,8.665911674499512,6.847893714904785,8.390060424804688,8.543496131896973,7.848394870758057,6.443872928619385,6.533093452453613,7.804863929748535,7.458436489105225,7.417103290557861,7.64762544631958,8.552250862121582,7.438526153564453,8.229079246520996,8.733403205871582,6.560074329376221,7.602963447570801,8.123053550720215,8.581185340881348,6.916177749633789,7.54380464553833,8.519186973571777,7.769107341766357,8.34046459197998,7.791433334350586,7.601280689239502,6.501863479614258,7.686936378479004,7.34230375289917,6.530509948730469,6.178839206695557,6.493733882904053,7.053371429443359,7.997608184814453,6.681532382965088,6.508136749267578,6.365151882171631,6.284998416900635,6.6456193923950195,8.333873748779297,6.615192890167236,7.5782470703125],\"yaxis\":\"y\",\"type\":\"scattergl\"},{\"hovertemplate\":\"cluster=cluster 2<br>x=%{x}<br>y=%{y}<extra></extra>\",\"legendgroup\":\"cluster 2\",\"marker\":{\"color\":\"#FF6692\",\"symbol\":\"circle\"},\"mode\":\"markers\",\"name\":\"cluster 2\",\"showlegend\":true,\"x\":[12.95048713684082,13.681777954101562,12.862770080566406,14.107138633728027,13.033764839172363,12.89192008972168,13.493066787719727,12.916239738464355,13.934325218200684,12.571747779846191,13.696331024169922,13.412940979003906,13.109604835510254,13.487682342529297,12.870412826538086,14.02822494506836,13.851019859313965,13.03260326385498,13.293925285339355,13.476398468017578,12.896108627319336,13.385468482971191,11.721783638000488,12.882617950439453,13.400529861450195,13.21373462677002,11.889156341552734,13.819616317749023,13.791601181030273,13.645136833190918,14.16907024383545,12.92605209350586,14.072294235229492,13.037869453430176,13.869648933410645,12.957195281982422,12.984394073486328,13.545660018920898,11.79006290435791,11.725802421569824,14.068696975708008,12.967638969421387,12.922340393066406,13.375357627868652,13.876466751098633,13.152093887329102,13.62156867980957,12.824522018432617,13.655278205871582,12.907373428344727,13.338254928588867,13.345657348632812,13.299805641174316,13.229947090148926,13.848368644714355,12.968838691711426,13.043354988098145,13.600089073181152,12.99686050415039,13.612858772277832,14.184527397155762,13.03368854522705,13.993478775024414,12.813122749328613,13.058560371398926,12.860109329223633,13.337312698364258,13.24718189239502,12.783648490905762,13.212620735168457,13.216849327087402,13.856911659240723,13.250091552734375,13.274139404296875,12.797204971313477,13.630748748779297,13.227411270141602,13.552837371826172,13.860818862915039,12.988770484924316,13.532149314880371,12.938847541809082,13.445942878723145,13.642736434936523,13.412006378173828,13.275339126586914,12.516461372375488,13.794183731079102,13.234065055847168,13.085894584655762,12.812623023986816,12.675305366516113,13.735397338867188,13.1594877243042,13.54535961151123,12.171135902404785,13.144686698913574,12.316829681396484,13.614535331726074,13.485332489013672],\"xaxis\":\"x\",\"y\":[-0.23657655715942383,0.6226317882537842,0.9897465705871582,1.1819959878921509,-0.5036060810089111,1.296738862991333,-0.7591021656990051,-0.018391409888863564,0.886006772518158,1.002781867980957,0.8381751775741577,0.3174895644187927,-0.6714730858802795,-0.645470142364502,1.14136803150177,1.0661406517028809,0.6506283283233643,0.371001660823822,-0.6803140044212341,1.3941316604614258,0.7421037554740906,0.015701303258538246,1.7591125965118408,-0.08526663482189178,-0.3551807999610901,1.4402263164520264,1.4714707136154175,0.6341895461082458,0.8711721897125244,0.2546220123767853,1.1728832721710205,0.46522682905197144,1.0238304138183594,-0.14377881586551666,0.7920915484428406,0.430367112159729,-0.1583225429058075,-0.13392433524131775,1.7811245918273926,1.768765926361084,0.4809747040271759,-0.36086633801460266,0.629083514213562,-0.3222421109676361,0.9560484290122986,-0.6742194294929504,-0.6924459338188171,0.1168249100446701,0.16400668025016785,0.424345999956131,-0.8701979517936707,-0.1138935312628746,0.015520533546805382,-0.1088944599032402,0.0009545967914164066,0.7477197051048279,-0.591960608959198,-0.07188864052295685,0.48548874258995056,-0.6547808647155762,1.2225301265716553,0.45961418747901917,1.0078779458999634,0.7458315491676331,-0.6608231663703918,0.5982411503791809,-0.8236005902290344,-0.16171269118785858,1.426322340965271,0.3984440267086029,0.34074345231056213,0.9362569451332092,-0.773369550704956,-0.3673270642757416,0.11418718844652176,-0.19922137260437012,-0.7638124227523804,-0.6893539428710938,0.5785114765167236,-0.08613670617341995,-0.5210160613059998,1.1470181941986084,0.03470222279429436,0.1560431718826294,-0.12938860058784485,-0.8152357935905457,1.3391802310943604,0.38631609082221985,-0.8431257605552673,-0.5661829710006714,0.27987778186798096,1.356684923171997,0.02935652993619442,-0.7277174592018127,-0.5444680452346802,1.6865137815475464,-0.6553038954734802,1.4173152446746826,1.2733709812164307,-0.04961272329092026],\"yaxis\":\"y\",\"type\":\"scattergl\"},{\"hovertemplate\":\"cluster=cluster 8<br>x=%{x}<br>y=%{y}<extra></extra>\",\"legendgroup\":\"cluster 8\",\"marker\":{\"color\":\"#B6E880\",\"symbol\":\"circle\"},\"mode\":\"markers\",\"name\":\"cluster 8\",\"showlegend\":true,\"x\":[-1.2661069631576538,-0.9655594229698181,-1.3092150688171387,-1.3358606100082397,-1.0003472566604614,-1.2805790901184082,-1.2754672765731812,-1.0237089395523071,-1.2663688659667969,-1.0618455410003662,-1.2731761932373047,-1.049041748046875,-0.9141372442245483,-1.2828763723373413,-1.2718982696533203,-1.2256898880004883,-1.3166935443878174,-1.2683004140853882,-1.1807057857513428,-1.2916243076324463,-1.2455871105194092,-1.1597100496292114,-1.2756907939910889,-1.267951250076294,-1.27139151096344,-1.3081411123275757,-1.2873042821884155,-1.4237085580825806,-1.329474925994873,-1.2519917488098145,-1.297068476676941,-1.472756028175354,-1.2536342144012451,-1.4584132432937622,-1.23145592212677,-1.3942830562591553,-1.2482889890670776,-1.005436658859253],\"xaxis\":\"x\",\"y\":[5.061090469360352,5.848109722137451,5.1872053146362305,4.92516565322876,5.763119697570801,5.321628093719482,5.151209354400635,5.79896354675293,5.049356937408447,5.551893711090088,5.411016464233398,5.730245590209961,8.491602897644043,5.6050519943237305,5.04267692565918,4.736813068389893,5.3712944984436035,5.191191673278809,4.786788463592529,4.8874287605285645,4.860993385314941,5.666098594665527,4.879931449890137,5.397885799407959,5.038917541503906,5.363550662994385,5.103298187255859,6.072573661804199,5.436842918395996,4.829955101013184,4.882883548736572,6.04262638092041,5.178152084350586,6.01826810836792,4.676474094390869,6.089986324310303,5.431274890899658,5.640625476837158],\"yaxis\":\"y\",\"type\":\"scattergl\"},{\"hovertemplate\":\"cluster=cluster 3<br>x=%{x}<br>y=%{y}<extra></extra>\",\"legendgroup\":\"cluster 3\",\"marker\":{\"color\":\"#FF97FF\",\"symbol\":\"circle\"},\"mode\":\"markers\",\"name\":\"cluster 3\",\"showlegend\":true,\"x\":[1.3231253623962402,1.3990209102630615,1.281575083732605,1.1321933269500732,1.2860052585601807,1.144492745399475,1.176391363143921,1.3637340068817139,1.2033673524856567,1.2438706159591675,1.3433681726455688,1.2692240476608276,1.3178818225860596,1.325883388519287,1.0541948080062866],\"xaxis\":\"x\",\"y\":[6.981647491455078,7.052892208099365,7.0151824951171875,7.152345657348633,6.95806360244751,7.221793174743652,6.897640228271484,6.944718837738037,7.300806045532227,7.317884922027588,6.946881294250488,7.044554233551025,6.963557243347168,6.953030109405518,6.9078450202941895],\"yaxis\":\"y\",\"type\":\"scattergl\"},{\"hovertemplate\":\"cluster=cluster 4<br>x=%{x}<br>y=%{y}<extra></extra>\",\"legendgroup\":\"cluster 4\",\"marker\":{\"color\":\"#FECB52\",\"symbol\":\"circle\"},\"mode\":\"markers\",\"name\":\"cluster 4\",\"showlegend\":true,\"x\":[1.322893500328064],\"xaxis\":\"x\",\"y\":[6.962957859039307],\"yaxis\":\"y\",\"type\":\"scattergl\"},{\"hovertemplate\":\"cluster=topic<br>x=%{x}<br>y=%{y}<extra></extra>\",\"legendgroup\":\"topic\",\"marker\":{\"color\":\"#636efa\",\"symbol\":\"circle\"},\"mode\":\"markers\",\"name\":\"topic\",\"showlegend\":true,\"x\":[-6.941020965576172,-6.878702640533447,-6.938845634460449,-6.932005405426025,-6.908658981323242,-6.92390251159668,-6.92909574508667,-6.935392379760742,-6.931780815124512,-6.907852649688721],\"xaxis\":\"x\",\"y\":[1.4233707189559937,1.4856548309326172,1.4255661964416504,1.4324169158935547,1.455744743347168,1.4405105113983154,1.4352964162826538,1.4290187358856201,1.4326446056365967,1.4564961194992065],\"yaxis\":\"y\",\"type\":\"scattergl\"}],                        {\"template\":{\"data\":{\"histogram2dcontour\":[{\"type\":\"histogram2dcontour\",\"colorbar\":{\"outlinewidth\":0,\"ticks\":\"\"},\"colorscale\":[[0.0,\"#0d0887\"],[0.1111111111111111,\"#46039f\"],[0.2222222222222222,\"#7201a8\"],[0.3333333333333333,\"#9c179e\"],[0.4444444444444444,\"#bd3786\"],[0.5555555555555556,\"#d8576b\"],[0.6666666666666666,\"#ed7953\"],[0.7777777777777778,\"#fb9f3a\"],[0.8888888888888888,\"#fdca26\"],[1.0,\"#f0f921\"]]}],\"choropleth\":[{\"type\":\"choropleth\",\"colorbar\":{\"outlinewidth\":0,\"ticks\":\"\"}}],\"histogram2d\":[{\"type\":\"histogram2d\",\"colorbar\":{\"outlinewidth\":0,\"ticks\":\"\"},\"colorscale\":[[0.0,\"#0d0887\"],[0.1111111111111111,\"#46039f\"],[0.2222222222222222,\"#7201a8\"],[0.3333333333333333,\"#9c179e\"],[0.4444444444444444,\"#bd3786\"],[0.5555555555555556,\"#d8576b\"],[0.6666666666666666,\"#ed7953\"],[0.7777777777777778,\"#fb9f3a\"],[0.8888888888888888,\"#fdca26\"],[1.0,\"#f0f921\"]]}],\"heatmap\":[{\"type\":\"heatmap\",\"colorbar\":{\"outlinewidth\":0,\"ticks\":\"\"},\"colorscale\":[[0.0,\"#0d0887\"],[0.1111111111111111,\"#46039f\"],[0.2222222222222222,\"#7201a8\"],[0.3333333333333333,\"#9c179e\"],[0.4444444444444444,\"#bd3786\"],[0.5555555555555556,\"#d8576b\"],[0.6666666666666666,\"#ed7953\"],[0.7777777777777778,\"#fb9f3a\"],[0.8888888888888888,\"#fdca26\"],[1.0,\"#f0f921\"]]}],\"heatmapgl\":[{\"type\":\"heatmapgl\",\"colorbar\":{\"outlinewidth\":0,\"ticks\":\"\"},\"colorscale\":[[0.0,\"#0d0887\"],[0.1111111111111111,\"#46039f\"],[0.2222222222222222,\"#7201a8\"],[0.3333333333333333,\"#9c179e\"],[0.4444444444444444,\"#bd3786\"],[0.5555555555555556,\"#d8576b\"],[0.6666666666666666,\"#ed7953\"],[0.7777777777777778,\"#fb9f3a\"],[0.8888888888888888,\"#fdca26\"],[1.0,\"#f0f921\"]]}],\"contourcarpet\":[{\"type\":\"contourcarpet\",\"colorbar\":{\"outlinewidth\":0,\"ticks\":\"\"}}],\"contour\":[{\"type\":\"contour\",\"colorbar\":{\"outlinewidth\":0,\"ticks\":\"\"},\"colorscale\":[[0.0,\"#0d0887\"],[0.1111111111111111,\"#46039f\"],[0.2222222222222222,\"#7201a8\"],[0.3333333333333333,\"#9c179e\"],[0.4444444444444444,\"#bd3786\"],[0.5555555555555556,\"#d8576b\"],[0.6666666666666666,\"#ed7953\"],[0.7777777777777778,\"#fb9f3a\"],[0.8888888888888888,\"#fdca26\"],[1.0,\"#f0f921\"]]}],\"surface\":[{\"type\":\"surface\",\"colorbar\":{\"outlinewidth\":0,\"ticks\":\"\"},\"colorscale\":[[0.0,\"#0d0887\"],[0.1111111111111111,\"#46039f\"],[0.2222222222222222,\"#7201a8\"],[0.3333333333333333,\"#9c179e\"],[0.4444444444444444,\"#bd3786\"],[0.5555555555555556,\"#d8576b\"],[0.6666666666666666,\"#ed7953\"],[0.7777777777777778,\"#fb9f3a\"],[0.8888888888888888,\"#fdca26\"],[1.0,\"#f0f921\"]]}],\"mesh3d\":[{\"type\":\"mesh3d\",\"colorbar\":{\"outlinewidth\":0,\"ticks\":\"\"}}],\"scatter\":[{\"fillpattern\":{\"fillmode\":\"overlay\",\"size\":10,\"solidity\":0.2},\"type\":\"scatter\"}],\"parcoords\":[{\"type\":\"parcoords\",\"line\":{\"colorbar\":{\"outlinewidth\":0,\"ticks\":\"\"}}}],\"scatterpolargl\":[{\"type\":\"scatterpolargl\",\"marker\":{\"colorbar\":{\"outlinewidth\":0,\"ticks\":\"\"}}}],\"bar\":[{\"error_x\":{\"color\":\"#2a3f5f\"},\"error_y\":{\"color\":\"#2a3f5f\"},\"marker\":{\"line\":{\"color\":\"#E5ECF6\",\"width\":0.5},\"pattern\":{\"fillmode\":\"overlay\",\"size\":10,\"solidity\":0.2}},\"type\":\"bar\"}],\"scattergeo\":[{\"type\":\"scattergeo\",\"marker\":{\"colorbar\":{\"outlinewidth\":0,\"ticks\":\"\"}}}],\"scatterpolar\":[{\"type\":\"scatterpolar\",\"marker\":{\"colorbar\":{\"outlinewidth\":0,\"ticks\":\"\"}}}],\"histogram\":[{\"marker\":{\"pattern\":{\"fillmode\":\"overlay\",\"size\":10,\"solidity\":0.2}},\"type\":\"histogram\"}],\"scattergl\":[{\"type\":\"scattergl\",\"marker\":{\"colorbar\":{\"outlinewidth\":0,\"ticks\":\"\"}}}],\"scatter3d\":[{\"type\":\"scatter3d\",\"line\":{\"colorbar\":{\"outlinewidth\":0,\"ticks\":\"\"}},\"marker\":{\"colorbar\":{\"outlinewidth\":0,\"ticks\":\"\"}}}],\"scattermapbox\":[{\"type\":\"scattermapbox\",\"marker\":{\"colorbar\":{\"outlinewidth\":0,\"ticks\":\"\"}}}],\"scatterternary\":[{\"type\":\"scatterternary\",\"marker\":{\"colorbar\":{\"outlinewidth\":0,\"ticks\":\"\"}}}],\"scattercarpet\":[{\"type\":\"scattercarpet\",\"marker\":{\"colorbar\":{\"outlinewidth\":0,\"ticks\":\"\"}}}],\"carpet\":[{\"aaxis\":{\"endlinecolor\":\"#2a3f5f\",\"gridcolor\":\"white\",\"linecolor\":\"white\",\"minorgridcolor\":\"white\",\"startlinecolor\":\"#2a3f5f\"},\"baxis\":{\"endlinecolor\":\"#2a3f5f\",\"gridcolor\":\"white\",\"linecolor\":\"white\",\"minorgridcolor\":\"white\",\"startlinecolor\":\"#2a3f5f\"},\"type\":\"carpet\"}],\"table\":[{\"cells\":{\"fill\":{\"color\":\"#EBF0F8\"},\"line\":{\"color\":\"white\"}},\"header\":{\"fill\":{\"color\":\"#C8D4E3\"},\"line\":{\"color\":\"white\"}},\"type\":\"table\"}],\"barpolar\":[{\"marker\":{\"line\":{\"color\":\"#E5ECF6\",\"width\":0.5},\"pattern\":{\"fillmode\":\"overlay\",\"size\":10,\"solidity\":0.2}},\"type\":\"barpolar\"}],\"pie\":[{\"automargin\":true,\"type\":\"pie\"}]},\"layout\":{\"autotypenumbers\":\"strict\",\"colorway\":[\"#636efa\",\"#EF553B\",\"#00cc96\",\"#ab63fa\",\"#FFA15A\",\"#19d3f3\",\"#FF6692\",\"#B6E880\",\"#FF97FF\",\"#FECB52\"],\"font\":{\"color\":\"#2a3f5f\"},\"hovermode\":\"closest\",\"hoverlabel\":{\"align\":\"left\"},\"paper_bgcolor\":\"white\",\"plot_bgcolor\":\"#E5ECF6\",\"polar\":{\"bgcolor\":\"#E5ECF6\",\"angularaxis\":{\"gridcolor\":\"white\",\"linecolor\":\"white\",\"ticks\":\"\"},\"radialaxis\":{\"gridcolor\":\"white\",\"linecolor\":\"white\",\"ticks\":\"\"}},\"ternary\":{\"bgcolor\":\"#E5ECF6\",\"aaxis\":{\"gridcolor\":\"white\",\"linecolor\":\"white\",\"ticks\":\"\"},\"baxis\":{\"gridcolor\":\"white\",\"linecolor\":\"white\",\"ticks\":\"\"},\"caxis\":{\"gridcolor\":\"white\",\"linecolor\":\"white\",\"ticks\":\"\"}},\"coloraxis\":{\"colorbar\":{\"outlinewidth\":0,\"ticks\":\"\"}},\"colorscale\":{\"sequential\":[[0.0,\"#0d0887\"],[0.1111111111111111,\"#46039f\"],[0.2222222222222222,\"#7201a8\"],[0.3333333333333333,\"#9c179e\"],[0.4444444444444444,\"#bd3786\"],[0.5555555555555556,\"#d8576b\"],[0.6666666666666666,\"#ed7953\"],[0.7777777777777778,\"#fb9f3a\"],[0.8888888888888888,\"#fdca26\"],[1.0,\"#f0f921\"]],\"sequentialminus\":[[0.0,\"#0d0887\"],[0.1111111111111111,\"#46039f\"],[0.2222222222222222,\"#7201a8\"],[0.3333333333333333,\"#9c179e\"],[0.4444444444444444,\"#bd3786\"],[0.5555555555555556,\"#d8576b\"],[0.6666666666666666,\"#ed7953\"],[0.7777777777777778,\"#fb9f3a\"],[0.8888888888888888,\"#fdca26\"],[1.0,\"#f0f921\"]],\"diverging\":[[0,\"#8e0152\"],[0.1,\"#c51b7d\"],[0.2,\"#de77ae\"],[0.3,\"#f1b6da\"],[0.4,\"#fde0ef\"],[0.5,\"#f7f7f7\"],[0.6,\"#e6f5d0\"],[0.7,\"#b8e186\"],[0.8,\"#7fbc41\"],[0.9,\"#4d9221\"],[1,\"#276419\"]]},\"xaxis\":{\"gridcolor\":\"white\",\"linecolor\":\"white\",\"ticks\":\"\",\"title\":{\"standoff\":15},\"zerolinecolor\":\"white\",\"automargin\":true,\"zerolinewidth\":2},\"yaxis\":{\"gridcolor\":\"white\",\"linecolor\":\"white\",\"ticks\":\"\",\"title\":{\"standoff\":15},\"zerolinecolor\":\"white\",\"automargin\":true,\"zerolinewidth\":2},\"scene\":{\"xaxis\":{\"backgroundcolor\":\"#E5ECF6\",\"gridcolor\":\"white\",\"linecolor\":\"white\",\"showbackground\":true,\"ticks\":\"\",\"zerolinecolor\":\"white\",\"gridwidth\":2},\"yaxis\":{\"backgroundcolor\":\"#E5ECF6\",\"gridcolor\":\"white\",\"linecolor\":\"white\",\"showbackground\":true,\"ticks\":\"\",\"zerolinecolor\":\"white\",\"gridwidth\":2},\"zaxis\":{\"backgroundcolor\":\"#E5ECF6\",\"gridcolor\":\"white\",\"linecolor\":\"white\",\"showbackground\":true,\"ticks\":\"\",\"zerolinecolor\":\"white\",\"gridwidth\":2}},\"shapedefaults\":{\"line\":{\"color\":\"#2a3f5f\"}},\"annotationdefaults\":{\"arrowcolor\":\"#2a3f5f\",\"arrowhead\":0,\"arrowwidth\":1},\"geo\":{\"bgcolor\":\"white\",\"landcolor\":\"#E5ECF6\",\"subunitcolor\":\"white\",\"showland\":true,\"showlakes\":true,\"lakecolor\":\"white\"},\"title\":{\"x\":0.05},\"mapbox\":{\"style\":\"light\"}}},\"xaxis\":{\"anchor\":\"y\",\"domain\":[0.0,1.0],\"title\":{\"text\":\"x\"}},\"yaxis\":{\"anchor\":\"x\",\"domain\":[0.0,1.0],\"title\":{\"text\":\"y\"}},\"legend\":{\"title\":{\"text\":\"cluster\"},\"tracegroupgap\":0},\"title\":{\"text\":\"word-embedding-samples\"}},                        {\"responsive\": true}                    ).then(function(){\n",
              "                            \n",
              "var gd = document.getElementById('e4635b61-9a59-40ee-98b2-ca0d8e536e36');\n",
              "var x = new MutationObserver(function (mutations, observer) {{\n",
              "        var display = window.getComputedStyle(gd).display;\n",
              "        if (!display || display === 'none') {{\n",
              "            console.log([gd, 'removed!']);\n",
              "            Plotly.purge(gd);\n",
              "            observer.disconnect();\n",
              "        }}\n",
              "}});\n",
              "\n",
              "// Listen for the removal of the full notebook cells\n",
              "var notebookContainer = gd.closest('#notebook-container');\n",
              "if (notebookContainer) {{\n",
              "    x.observe(notebookContainer, {childList: true});\n",
              "}}\n",
              "\n",
              "// Listen for the clearing of the current output cell\n",
              "var outputEl = gd.closest('.output');\n",
              "if (outputEl) {{\n",
              "    x.observe(outputEl, {childList: true});\n",
              "}}\n",
              "\n",
              "                        })                };                            </script>        </div>\n",
              "</body>\n",
              "</html>"
            ]
          },
          "metadata": {}
        }
      ],
      "source": [
        "#--------------------------training----------------------------------------------------\n",
        "train_class = TrainETM().train(\n",
        "    etm_model,\n",
        "    vocab_size, \n",
        "    train_args, optimizer_args, train_set,\n",
        "    normalize_data = True,\n",
        "    figures_path = figures_path)\n",
        "    #num_topics, t_hidden_size, rho_size, emb_size, theta_act,  embedding_data, 0.5)\n",
        "\n",
        "#-------------------show topics\n",
        "topics = etm_model.show_topics(id2word, 20)\n",
        "for tp in topics:\n",
        "  print(tp)\n",
        "\n",
        "#----------------\n",
        "from src.visualization import show_embedding_with_kmeans_umap\n",
        "show_embedding_with_kmeans_umap(\n",
        "    id2word, embedding_data, num_topics, etm_model.topic_embeddings_alphas.weight,\n",
        "    figures_path)"
      ]
    },
    {
      "cell_type": "code",
      "source": [
        "#-------------------show topics\n",
        "topics = etm_model.show_topics(id2word, 20)\n",
        "for tp in topics:\n",
        "  print(tp)\n"
      ],
      "metadata": {
        "id": "8A9QqKf8-qkC",
        "outputId": "5f1c7460-e4cd-44af-d12c-d2510699b10c",
        "colab": {
          "base_uri": "https://localhost:8080/"
        }
      },
      "execution_count": 123,
      "outputs": [
        {
          "output_type": "stream",
          "name": "stdout",
          "text": [
            "tensor([0.0007, 0.0008, 0.0008,  ..., 0.0008, 0.0008, 0.0007], device='cuda:0')\n",
            "tensor(1., device='cuda:0')\n",
            "[('nntp', 0.0012853952357545495), ('posting', 0.0012806410668417811), ('host', 0.0012746641878038645), ('distribution', 0.001220080303028226), ('article', 0.0011561582796275616), ('reply', 0.0011443521361798048), ('cc', 0.0011273466516286135), ('sun', 0.0011207697680220008), ('uk', 0.0011206648778170347), ('usa', 0.0011180887231603265), ('university', 0.001105933217331767), ('ac', 0.0011013417970389128), ('apr', 0.0010846885852515697), ('uiuc', 0.0010844138450920582), ('newsreader', 0.0010811020620167255), ('nasa', 0.001080055022612214), ('cs', 0.001078509958460927), ('ca', 0.001072222599759698), ('gov', 0.0010674254735931754), ('tin', 0.0010623660637065768)]\n",
            "[('nntp', 0.0012073683319613338), ('posting', 0.0012035723775625229), ('host', 0.0011985963210463524), ('distribution', 0.0011535166995599866), ('article', 0.0011005793930962682), ('reply', 0.0010907900286838412), ('cc', 0.001077162567526102), ('uk', 0.0010710854548960924), ('sun', 0.00107102794572711), ('usa', 0.0010690412018448114), ('university', 0.001058762427419424), ('ac', 0.0010550544830039144), ('apr', 0.0010408669477328658), ('uiuc', 0.0010407351655885577), ('newsreader', 0.0010382329346612096), ('nasa', 0.0010369744850322604), ('cs', 0.0010359102161601186), ('ca', 0.0010311366058886051), ('gov', 0.0010262418072670698), ('tin', 0.001022542710416019)]\n",
            "[('nntp', 0.0012440667487680912), ('posting', 0.0012389736948534846), ('host', 0.0012340850662440062), ('distribution', 0.001185883767902851), ('article', 0.0011274850694462657), ('reply', 0.001116218394599855), ('cc', 0.001105190021917224), ('uk', 0.001097914413549006), ('sun', 0.0010934221791103482), ('usa', 0.0010933761950582266), ('ac', 0.001080368529073894), ('university', 0.0010799821466207504), ('newsreader', 0.0010610661702230573), ('apr', 0.0010607563890516758), ('uiuc', 0.0010594486957415938), ('cs', 0.001057076035067439), ('ca', 0.0010562804527580738), ('nasa', 0.0010557378409430385), ('gov', 0.0010445002699270844), ('tin', 0.0010440052719786763)]\n",
            "[('nntp', 0.0012351444456726313), ('posting', 0.0012308638542890549), ('host', 0.0012256331974640489), ('distribution', 0.0011774644954130054), ('article', 0.0011208010837435722), ('reply', 0.0011099798139184713), ('cc', 0.0010960532817989588), ('uk', 0.0010896101593971252), ('sun', 0.0010886561358347535), ('usa', 0.0010867675300687551), ('university', 0.0010754481190815568), ('ac', 0.0010724408784881234), ('apr', 0.001056451117619872), ('uiuc', 0.001056308625265956), ('newsreader', 0.0010541030205786228), ('nasa', 0.0010522910160943866), ('cs', 0.0010513914749026299), ('ca', 0.0010470470879226923), ('gov', 0.0010408898815512657), ('tin', 0.0010373013792559505)]\n",
            "[('nntp', 0.0012035331455990672), ('posting', 0.0011999752605333924), ('host', 0.001194856595247984), ('distribution', 0.001150154392234981), ('article', 0.001098332111723721), ('reply', 0.001088404911570251), ('cc', 0.001073608291335404), ('sun', 0.0010692969663068652), ('uk', 0.0010679737897589803), ('usa', 0.0010664599249139428), ('university', 0.0010570476297289133), ('ac', 0.0010521116200834513), ('uiuc', 0.0010401038452982903), ('apr', 0.0010394174605607986), ('nasa', 0.0010359100997447968), ('newsreader', 0.0010354886762797832), ('cs', 0.0010339150903746486), ('ca', 0.0010277676628902555), ('gov', 0.00102519360370934), ('tin', 0.0010199436219409108)]\n",
            "[('nntp', 0.0012365963775664568), ('posting', 0.0012326212599873543), ('host', 0.0012270916486158967), ('distribution', 0.0011783194495365024), ('article', 0.001121386419981718), ('reply', 0.0011108301114290953), ('cc', 0.0010956793557852507), ('sun', 0.0010897598695009947), ('uk', 0.0010885194642469287), ('usa', 0.0010874076979234815), ('university', 0.0010765627957880497), ('ac', 0.0010713288793340325), ('uiuc', 0.0010574692860245705), ('apr', 0.0010574532207101583), ('newsreader', 0.0010537775233387947), ('nasa', 0.001053366344422102), ('cs', 0.0010518579510971904), ('ca', 0.001046057790517807), ('gov', 0.0010418746387585998), ('tin', 0.0010369763476774096)]\n",
            "[('nntp', 0.001224852865561843), ('posting', 0.0012211543507874012), ('host', 0.001215592841617763), ('distribution', 0.0011678512673825026), ('article', 0.0011125500313937664), ('reply', 0.0011024456471204758), ('cc', 0.0010866090888157487), ('sun', 0.0010823513148352504), ('uk', 0.0010796710848808289), ('usa', 0.0010793281253427267), ('university', 0.0010694325901567936), ('ac', 0.001063095754943788), ('uiuc', 0.0010510222055017948), ('apr', 0.001050640014000237), ('nasa', 0.0010474913287907839), ('newsreader', 0.001046243472956121), ('cs', 0.0010448151733726263), ('ca', 0.0010380953317508101), ('gov', 0.0010359062580391765), ('tin', 0.001029919134452939)]\n",
            "[('nntp', 0.0012228628620505333), ('posting', 0.0012186451349407434), ('host', 0.0012136060977354646), ('distribution', 0.0011672654654830694), ('article', 0.0011120998533442616), ('reply', 0.0011017404031008482), ('cc', 0.001088590594008565), ('uk', 0.0010823369957506657), ('sun', 0.0010809063678607345), ('usa', 0.0010794163681566715), ('university', 0.0010681269923225045), ('ac', 0.0010656152153387666), ('apr', 0.0010496770264580846), ('uiuc', 0.0010491972789168358), ('newsreader', 0.001047786558046937), ('nasa', 0.0010453024879097939), ('cs', 0.0010449964320287108), ('ca', 0.0010412504198029637), ('gov', 0.0010344241745769978), ('tin', 0.001031498541124165)]\n",
            "[('nntp', 0.0012328686425462365), ('posting', 0.0012287440476939082), ('host', 0.0012234396999701858), ('distribution', 0.0011753677390515804), ('article', 0.0011190295917913318), ('reply', 0.0011083373101428151), ('cc', 0.0010941606014966965), ('uk', 0.0010877548484131694), ('sun', 0.0010872316779568791), ('usa', 0.0010851843981072307), ('university', 0.0010740879224613309), ('ac', 0.0010706768371164799), ('apr', 0.0010551708983257413), ('uiuc', 0.0010551322484388947), ('newsreader', 0.0010525700636208057), ('nasa', 0.0010511705186218023), ('cs', 0.0010499992640689015), ('ca', 0.0010453268187120557), ('gov', 0.0010397019796073437), ('tin', 0.001035866211168468)]\n",
            "[('nntp', 0.0011905640130862594), ('posting', 0.001186997746117413), ('host', 0.001182151841931045), ('distribution', 0.0011391217121854424), ('article', 0.0010890328558161855), ('reply', 0.0010793809778988361), ('cc', 0.0010656674858182669), ('sun', 0.0010606317082419991), ('uk', 0.0010597343789413571), ('usa', 0.001058308407664299), ('university', 0.0010488828411325812), ('ac', 0.0010444259969517589), ('uiuc', 0.0010324990143999457), ('apr', 0.00103195128031075), ('newsreader', 0.0010284512536600232), ('nasa', 0.0010284249437972903), ('cs', 0.0010268426267430186), ('ca', 0.0010214808862656355), ('gov', 0.0010180537356063724), ('tin', 0.0010134452022612095)]\n"
          ]
        }
      ]
    },
    {
      "cell_type": "code",
      "source": [
        "print(docs_tr[0])"
      ],
      "metadata": {
        "id": "dJHd0_NSY_en",
        "outputId": "2d46d133-fbae-44ac-e7a3-7a92a13f1556",
        "colab": {
          "base_uri": "https://localhost:8080/"
        }
      },
      "execution_count": 124,
      "outputs": [
        {
          "output_type": "stream",
          "name": "stdout",
          "text": [
            "['james', 'warning', 'read', 'nntp', 'posting', 'host', 'engineering', 'computer', 'network', 'university', 'usa', 'article', 'matthew', 'national', 'university', 'writes', 'james', 'writes', 'argue', 'issue', 'weapons', 'thought', 'worse', 'things', 'world', 'glad', 'give', 'reason', 'fire', 'gun', 'people', 'kill', 'honest', 'care', 'car', 'watch', 'responsible', 'gun', 'punishment', 'fit', 'crime', 'worth', 'killing', 'situation', 'people', 'turn', 'quickly', 'worth', 'life', 'line', 'james', 'james', 'law', 'center', 'ucs', 'disclaimer', 'play', 'work', 'calls', 'thunder', 'hell', 'thing', 'killing', 'man']\n"
          ]
        }
      ]
    },
    {
      "cell_type": "code",
      "source": [
        "print(train_set.keys())"
      ],
      "metadata": {
        "id": "1X894HbpZIHO",
        "outputId": "3e68f8f3-5528-4f6e-ea73-4fb840fb3e01",
        "colab": {
          "base_uri": "https://localhost:8080/"
        }
      },
      "execution_count": 125,
      "outputs": [
        {
          "output_type": "stream",
          "name": "stdout",
          "text": [
            "dict_keys(['tokens', 'counts'])\n"
          ]
        }
      ]
    },
    {
      "cell_type": "code",
      "source": [
        "topics = [[e[0] for e in tp] for tp in topics]\n",
        "for tp in topics:\n",
        "  print(tp)\n",
        "\n",
        "tc = topicCoherence(topics,num_topics,docs_tr,len(docs_tr))\n",
        "print(tc)\n",
        "\n",
        "\"\"\"\n",
        "#----------using coherence from gensim-----\n",
        "class DictObj:\n",
        "  def __init__(self, word2id, id2word):\n",
        "    self.id2token = id2word\n",
        "    self.token2id = word2id\n",
        "\n",
        "my_dict_obj = DictObj(word2id, id2word)\n",
        "cm = CoherenceModel(topics=topics, texts = docs_tr, corpus = gensim_corpus_train_set, dictionary = my_dict_obj, coherence='u_mass')\n",
        "print(cm.get_coherence())\n",
        "\"\"\""
      ],
      "metadata": {
        "id": "dW_9VDpF61bC",
        "outputId": "7d1109b6-6410-4cb8-883b-09cc827c9315",
        "colab": {
          "base_uri": "https://localhost:8080/",
          "height": 261
        }
      },
      "execution_count": 126,
      "outputs": [
        {
          "output_type": "stream",
          "name": "stdout",
          "text": [
            "['nntp', 'posting', 'host', 'distribution', 'article', 'reply', 'cc', 'sun', 'uk', 'usa', 'university', 'ac', 'apr', 'uiuc', 'newsreader', 'nasa', 'cs', 'ca', 'gov', 'tin']\n",
            "['nntp', 'posting', 'host', 'distribution', 'article', 'reply', 'cc', 'uk', 'sun', 'usa', 'university', 'ac', 'apr', 'uiuc', 'newsreader', 'nasa', 'cs', 'ca', 'gov', 'tin']\n",
            "['nntp', 'posting', 'host', 'distribution', 'article', 'reply', 'cc', 'uk', 'sun', 'usa', 'ac', 'university', 'newsreader', 'apr', 'uiuc', 'cs', 'ca', 'nasa', 'gov', 'tin']\n",
            "['nntp', 'posting', 'host', 'distribution', 'article', 'reply', 'cc', 'uk', 'sun', 'usa', 'university', 'ac', 'apr', 'uiuc', 'newsreader', 'nasa', 'cs', 'ca', 'gov', 'tin']\n",
            "['nntp', 'posting', 'host', 'distribution', 'article', 'reply', 'cc', 'sun', 'uk', 'usa', 'university', 'ac', 'uiuc', 'apr', 'nasa', 'newsreader', 'cs', 'ca', 'gov', 'tin']\n",
            "['nntp', 'posting', 'host', 'distribution', 'article', 'reply', 'cc', 'sun', 'uk', 'usa', 'university', 'ac', 'uiuc', 'apr', 'newsreader', 'nasa', 'cs', 'ca', 'gov', 'tin']\n",
            "['nntp', 'posting', 'host', 'distribution', 'article', 'reply', 'cc', 'sun', 'uk', 'usa', 'university', 'ac', 'uiuc', 'apr', 'nasa', 'newsreader', 'cs', 'ca', 'gov', 'tin']\n",
            "['nntp', 'posting', 'host', 'distribution', 'article', 'reply', 'cc', 'uk', 'sun', 'usa', 'university', 'ac', 'apr', 'uiuc', 'newsreader', 'nasa', 'cs', 'ca', 'gov', 'tin']\n",
            "['nntp', 'posting', 'host', 'distribution', 'article', 'reply', 'cc', 'uk', 'sun', 'usa', 'university', 'ac', 'apr', 'uiuc', 'newsreader', 'nasa', 'cs', 'ca', 'gov', 'tin']\n",
            "['nntp', 'posting', 'host', 'distribution', 'article', 'reply', 'cc', 'sun', 'uk', 'usa', 'university', 'ac', 'uiuc', 'apr', 'newsreader', 'nasa', 'cs', 'ca', 'gov', 'tin']\n",
            "3.082497938036778\n"
          ]
        },
        {
          "output_type": "execute_result",
          "data": {
            "text/plain": [
              "\"\\n#----------using coherence from gensim-----\\nclass DictObj:\\n  def __init__(self, word2id, id2word):\\n    self.id2token = id2word\\n    self.token2id = word2id\\n\\nmy_dict_obj = DictObj(word2id, id2word)\\ncm = CoherenceModel(topics=topics, texts = docs_tr, corpus = gensim_corpus_train_set, dictionary = my_dict_obj, coherence='u_mass')\\nprint(cm.get_coherence())\\n\""
            ],
            "application/vnd.google.colaboratory.intrinsic+json": {
              "type": "string"
            }
          },
          "metadata": {},
          "execution_count": 126
        }
      ]
    },
    {
      "cell_type": "code",
      "source": [
        ""
      ],
      "metadata": {
        "id": "gaHndDAhZYt_"
      },
      "execution_count": null,
      "outputs": []
    }
  ],
  "metadata": {
    "colab": {
      "collapsed_sections": [],
      "name": "notebook_replication.ipynb",
      "provenance": [],
      "include_colab_link": true
    },
    "kernelspec": {
      "display_name": "Python 3",
      "name": "python3"
    },
    "language_info": {
      "name": "python"
    },
    "accelerator": "GPU"
  },
  "nbformat": 4,
  "nbformat_minor": 0
}