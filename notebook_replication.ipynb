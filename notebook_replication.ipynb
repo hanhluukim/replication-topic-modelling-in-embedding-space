{
  "nbformat": 4,
  "nbformat_minor": 0,
  "metadata": {
    "colab": {
      "name": "notebook_replication.ipynb",
      "provenance": [],
      "collapsed_sections": [],
      "include_colab_link": true
    },
    "kernelspec": {
      "name": "python3",
      "display_name": "Python 3"
    },
    "language_info": {
      "name": "python"
    }
  },
  "cells": [
    {
      "cell_type": "markdown",
      "metadata": {
        "id": "view-in-github",
        "colab_type": "text"
      },
      "source": [
        "<a href=\"https://colab.research.google.com/github/hanhluukim/replication-topic-modelling-in-embedding-space/blob/main/notebook_replication.ipynb\" target=\"_parent\"><img src=\"https://colab.research.google.com/assets/colab-badge.svg\" alt=\"Open In Colab\"/></a>"
      ]
    },
    {
      "cell_type": "markdown",
      "source": [
        "# **Das Projekt aus dem Github klonen und in den Projektsordner**"
      ],
      "metadata": {
        "id": "PJ7P852F7yzU"
      }
    },
    {
      "cell_type": "code",
      "execution_count": 1,
      "metadata": {
        "id": "riOxinNHJcIB"
      },
      "outputs": [],
      "source": [
        "#wenn die Ordner noch nicht geklont ist, soll dieser Fehler zuerst durchgeführt werden.\n",
        "#!git clone https://github.com/hanhluukim/replication-topic-modelling-in-embedding-space.git"
      ]
    },
    {
      "cell_type": "code",
      "source": [
        "cd /content/replication-topic-modelling-in-embedding-space"
      ],
      "metadata": {
        "colab": {
          "base_uri": "https://localhost:8080/"
        },
        "id": "B_6em-5qJg5e",
        "outputId": "da80b3bb-6b65-4bc2-c7ad-5571e03b9556"
      },
      "execution_count": 2,
      "outputs": [
        {
          "output_type": "stream",
          "name": "stdout",
          "text": [
            "/content/replication-topic-modelling-in-embedding-space\n"
          ]
        }
      ]
    },
    {
      "cell_type": "markdown",
      "source": [
        "#**Die benötige Paketen für das Projekt mittels requirements.txt installieren**\n",
        "\n"
      ],
      "metadata": {
        "id": "6AAG98vV1JCg"
      }
    },
    {
      "cell_type": "code",
      "source": [
        "# Falls die Packages noch nicht installiert wurden, \n",
        "!pip install -r \"/content/replication-topic-modelling-in-embedding-space/requirements.txt\""
      ],
      "metadata": {
        "id": "YcBay625sD5D",
        "colab": {
          "base_uri": "https://localhost:8080/"
        },
        "outputId": "b3b60b0f-2aa2-4147-8bc2-3d0a4411b590"
      },
      "execution_count": 3,
      "outputs": [
        {
          "output_type": "stream",
          "name": "stdout",
          "text": [
            "Requirement already satisfied: gensim in /usr/local/lib/python3.7/dist-packages (from -r /content/replication-topic-modelling-in-embedding-space/requirements.txt (line 1)) (3.6.0)\n",
            "Requirement already satisfied: nltk in /usr/local/lib/python3.7/dist-packages (from -r /content/replication-topic-modelling-in-embedding-space/requirements.txt (line 2)) (3.2.5)\n",
            "Requirement already satisfied: numpy in /usr/local/lib/python3.7/dist-packages (from -r /content/replication-topic-modelling-in-embedding-space/requirements.txt (line 3)) (1.21.6)\n",
            "Requirement already satisfied: scikit-learn in /usr/local/lib/python3.7/dist-packages (from -r /content/replication-topic-modelling-in-embedding-space/requirements.txt (line 4)) (1.0.2)\n",
            "Requirement already satisfied: scipy in /usr/local/lib/python3.7/dist-packages (from -r /content/replication-topic-modelling-in-embedding-space/requirements.txt (line 5)) (1.4.1)\n",
            "Requirement already satisfied: torch in /usr/local/lib/python3.7/dist-packages (from -r /content/replication-topic-modelling-in-embedding-space/requirements.txt (line 6)) (1.11.0+cu113)\n",
            "Requirement already satisfied: transformers in /usr/local/lib/python3.7/dist-packages (from -r /content/replication-topic-modelling-in-embedding-space/requirements.txt (line 7)) (4.18.0)\n",
            "Requirement already satisfied: umap-learn in /usr/local/lib/python3.7/dist-packages (from -r /content/replication-topic-modelling-in-embedding-space/requirements.txt (line 8)) (0.5.3)\n",
            "Requirement already satisfied: plotly==5.7.0 in /usr/local/lib/python3.7/dist-packages (from -r /content/replication-topic-modelling-in-embedding-space/requirements.txt (line 9)) (5.7.0)\n",
            "Requirement already satisfied: pathlib in /usr/local/lib/python3.7/dist-packages (from -r /content/replication-topic-modelling-in-embedding-space/requirements.txt (line 10)) (1.0.1)\n",
            "Requirement already satisfied: pyyaml==5.4.1 in /usr/local/lib/python3.7/dist-packages (from -r /content/replication-topic-modelling-in-embedding-space/requirements.txt (line 11)) (5.4.1)\n",
            "Requirement already satisfied: kaleido in /usr/local/lib/python3.7/dist-packages (from -r /content/replication-topic-modelling-in-embedding-space/requirements.txt (line 12)) (0.2.1)\n",
            "Requirement already satisfied: tenacity>=6.2.0 in /usr/local/lib/python3.7/dist-packages (from plotly==5.7.0->-r /content/replication-topic-modelling-in-embedding-space/requirements.txt (line 9)) (8.0.1)\n",
            "Requirement already satisfied: six in /usr/local/lib/python3.7/dist-packages (from plotly==5.7.0->-r /content/replication-topic-modelling-in-embedding-space/requirements.txt (line 9)) (1.15.0)\n",
            "Requirement already satisfied: smart-open>=1.2.1 in /usr/local/lib/python3.7/dist-packages (from gensim->-r /content/replication-topic-modelling-in-embedding-space/requirements.txt (line 1)) (6.0.0)\n",
            "Requirement already satisfied: joblib>=0.11 in /usr/local/lib/python3.7/dist-packages (from scikit-learn->-r /content/replication-topic-modelling-in-embedding-space/requirements.txt (line 4)) (1.1.0)\n",
            "Requirement already satisfied: threadpoolctl>=2.0.0 in /usr/local/lib/python3.7/dist-packages (from scikit-learn->-r /content/replication-topic-modelling-in-embedding-space/requirements.txt (line 4)) (3.1.0)\n",
            "Requirement already satisfied: typing-extensions in /usr/local/lib/python3.7/dist-packages (from torch->-r /content/replication-topic-modelling-in-embedding-space/requirements.txt (line 6)) (4.2.0)\n",
            "Requirement already satisfied: requests in /usr/local/lib/python3.7/dist-packages (from transformers->-r /content/replication-topic-modelling-in-embedding-space/requirements.txt (line 7)) (2.23.0)\n",
            "Requirement already satisfied: importlib-metadata in /usr/local/lib/python3.7/dist-packages (from transformers->-r /content/replication-topic-modelling-in-embedding-space/requirements.txt (line 7)) (4.11.3)\n",
            "Requirement already satisfied: filelock in /usr/local/lib/python3.7/dist-packages (from transformers->-r /content/replication-topic-modelling-in-embedding-space/requirements.txt (line 7)) (3.6.0)\n",
            "Requirement already satisfied: huggingface-hub<1.0,>=0.1.0 in /usr/local/lib/python3.7/dist-packages (from transformers->-r /content/replication-topic-modelling-in-embedding-space/requirements.txt (line 7)) (0.5.1)\n",
            "Requirement already satisfied: tqdm>=4.27 in /usr/local/lib/python3.7/dist-packages (from transformers->-r /content/replication-topic-modelling-in-embedding-space/requirements.txt (line 7)) (4.64.0)\n",
            "Requirement already satisfied: sacremoses in /usr/local/lib/python3.7/dist-packages (from transformers->-r /content/replication-topic-modelling-in-embedding-space/requirements.txt (line 7)) (0.0.53)\n",
            "Requirement already satisfied: regex!=2019.12.17 in /usr/local/lib/python3.7/dist-packages (from transformers->-r /content/replication-topic-modelling-in-embedding-space/requirements.txt (line 7)) (2019.12.20)\n",
            "Requirement already satisfied: tokenizers!=0.11.3,<0.13,>=0.11.1 in /usr/local/lib/python3.7/dist-packages (from transformers->-r /content/replication-topic-modelling-in-embedding-space/requirements.txt (line 7)) (0.12.1)\n",
            "Requirement already satisfied: packaging>=20.0 in /usr/local/lib/python3.7/dist-packages (from transformers->-r /content/replication-topic-modelling-in-embedding-space/requirements.txt (line 7)) (21.3)\n",
            "Requirement already satisfied: pyparsing!=3.0.5,>=2.0.2 in /usr/local/lib/python3.7/dist-packages (from packaging>=20.0->transformers->-r /content/replication-topic-modelling-in-embedding-space/requirements.txt (line 7)) (3.0.8)\n",
            "Requirement already satisfied: numba>=0.49 in /usr/local/lib/python3.7/dist-packages (from umap-learn->-r /content/replication-topic-modelling-in-embedding-space/requirements.txt (line 8)) (0.51.2)\n",
            "Requirement already satisfied: pynndescent>=0.5 in /usr/local/lib/python3.7/dist-packages (from umap-learn->-r /content/replication-topic-modelling-in-embedding-space/requirements.txt (line 8)) (0.5.6)\n",
            "Requirement already satisfied: llvmlite<0.35,>=0.34.0.dev0 in /usr/local/lib/python3.7/dist-packages (from numba>=0.49->umap-learn->-r /content/replication-topic-modelling-in-embedding-space/requirements.txt (line 8)) (0.34.0)\n",
            "Requirement already satisfied: setuptools in /usr/local/lib/python3.7/dist-packages (from numba>=0.49->umap-learn->-r /content/replication-topic-modelling-in-embedding-space/requirements.txt (line 8)) (57.4.0)\n",
            "Requirement already satisfied: zipp>=0.5 in /usr/local/lib/python3.7/dist-packages (from importlib-metadata->transformers->-r /content/replication-topic-modelling-in-embedding-space/requirements.txt (line 7)) (3.8.0)\n",
            "Requirement already satisfied: urllib3!=1.25.0,!=1.25.1,<1.26,>=1.21.1 in /usr/local/lib/python3.7/dist-packages (from requests->transformers->-r /content/replication-topic-modelling-in-embedding-space/requirements.txt (line 7)) (1.24.3)\n",
            "Requirement already satisfied: idna<3,>=2.5 in /usr/local/lib/python3.7/dist-packages (from requests->transformers->-r /content/replication-topic-modelling-in-embedding-space/requirements.txt (line 7)) (2.10)\n",
            "Requirement already satisfied: certifi>=2017.4.17 in /usr/local/lib/python3.7/dist-packages (from requests->transformers->-r /content/replication-topic-modelling-in-embedding-space/requirements.txt (line 7)) (2021.10.8)\n",
            "Requirement already satisfied: chardet<4,>=3.0.2 in /usr/local/lib/python3.7/dist-packages (from requests->transformers->-r /content/replication-topic-modelling-in-embedding-space/requirements.txt (line 7)) (3.0.4)\n",
            "Requirement already satisfied: click in /usr/local/lib/python3.7/dist-packages (from sacremoses->transformers->-r /content/replication-topic-modelling-in-embedding-space/requirements.txt (line 7)) (7.1.2)\n"
          ]
        }
      ]
    },
    {
      "cell_type": "markdown",
      "source": [
        "# **Gebrauchte Paketen importieren**"
      ],
      "metadata": {
        "id": "k7xiPgja8eZe"
      }
    },
    {
      "cell_type": "code",
      "source": [
        "import pandas as pd\n",
        "from pathlib import Path\n",
        "import matplotlib.pyplot as plt\n",
        "%matplotlib inline\n",
        "import umap.umap_ as umap\n",
        "import time\n",
        "import plotly.express as px\n",
        "from sklearn import cluster\n",
        "from sklearn import metrics"
      ],
      "metadata": {
        "colab": {
          "base_uri": "https://localhost:8080/"
        },
        "id": "uV7KZhGq1P7g",
        "outputId": "8004d8b7-ab01-4791-f4b3-7ced1d5b8070"
      },
      "execution_count": 4,
      "outputs": [
        {
          "output_type": "stream",
          "name": "stderr",
          "text": [
            "/usr/local/lib/python3.7/dist-packages/distributed/config.py:20: YAMLLoadWarning: calling yaml.load() without Loader=... is deprecated, as the default Loader is unsafe. Please read https://msg.pyyaml.org/load for full details.\n",
            "  defaults = yaml.load(f)\n"
          ]
        }
      ]
    },
    {
      "cell_type": "markdown",
      "source": [
        "# **Vorverarbeitung und BOW-Repräsentationen für Textdaten durchführen**\n",
        "1. Vocabular erstellen\n",
        "2. BOW-Repräsentationen für allen Teildatensätzen"
      ],
      "metadata": {
        "id": "QzWqQhPQdJWV"
      }
    },
    {
      "cell_type": "code",
      "source": [
        "from src.preprare_dataset import TextDataLoader"
      ],
      "metadata": {
        "id": "1OCULr82pfgk"
      },
      "execution_count": 5,
      "outputs": []
    },
    {
      "cell_type": "code",
      "source": [
        "# init TextDataLoader für die Datenquelle 20 News Groups\n",
        "# Daten abrufen vom Sklearn, tokenisieren und besondere Charaktern entfernen\n",
        "textsloader = TextDataLoader(source=\"20newsgroups\", train_size=None, test_size=None)\n",
        "textsloader.load_tokenize_texts(\"20newsgroups\")"
      ],
      "metadata": {
        "id": "cy0PpjxEpbrR",
        "colab": {
          "base_uri": "https://localhost:8080/"
        },
        "outputId": "410e1298-a8fe-4948-fb0b-22aded4e6121"
      },
      "execution_count": 6,
      "outputs": [
        {
          "output_type": "stream",
          "name": "stdout",
          "text": [
            "loading texts: ...\n",
            "finished load!\n"
          ]
        }
      ]
    },
    {
      "cell_type": "code",
      "source": [
        "# Beispiel von Textdaten\n",
        "textsloader.show_example_raw_texts(n_docs=2)"
      ],
      "metadata": {
        "colab": {
          "base_uri": "https://localhost:8080/"
        },
        "id": "yHrl1vpZqAtL",
        "outputId": "ab798245-70e3-4703-92c1-f3fefe14071f"
      },
      "execution_count": 7,
      "outputs": [
        {
          "output_type": "stream",
          "name": "stdout",
          "text": [
            "check some sample texts of the dataset\n",
            "['From', ':', 'lerxst', '@', 'wam', '.', 'umd', '.', 'edu', '(', \"where's\", 'my', 'thing', ')', 'Subject', ':', 'WHAT', 'car', 'is', 'this', '!', '?', 'Nntp', 'Posting', 'Host', ':', 'rac3', '.', 'wam', '.', 'umd', '.', 'edu', 'Organization', ':', 'University', 'of', 'Maryland', ',', 'College', 'Park', 'Lines', ':', '15', 'I', 'was', 'wondering', 'if', 'anyone', 'out', 'there', 'could', 'enlighten', 'me', 'on', 'this', 'car', 'I', 'saw', 'the', 'other', 'day', '.', 'It', 'was', 'a', '2', 'door', 'sports', 'car', ',', 'looked', 'to', 'be', 'from', 'the', 'late', '60s', '/', 'early', '70s', '.', 'It', 'was', 'called', 'a', 'Bricklin', '.', 'The', 'doors', 'were', 'really', 'small', '.', 'In', 'addition', ',', 'the', 'front', 'bumper', 'was', 'separate', 'from', 'the', 'rest', 'of', 'the', 'body', '.', 'This', 'is', 'all', 'I', 'know', '.', 'If', 'anyone', 'can', 'tellme', 'a', 'model', 'name', ',', 'engine', 'specs', ',', 'years', 'of', 'production', ',', 'where', 'this', 'car', 'is', 'made', ',', 'history', ',', 'or', 'whatever', 'info', 'you', 'have', 'on', 'this', 'funky', 'looking', 'car', ',', 'please', 'e', 'mail', '.', 'Thanks', ',', 'IL', 'brought', 'to', 'you', 'by', 'your', 'neighborhood', 'Lerxst']\n",
            "====================================================================================================\n",
            "['From', ':', 'guykuo', '@', 'carson', '.', 'u', '.', 'washington', '.', 'edu', '(', 'Guy', 'Kuo', ')', 'Subject', ':', 'SI', 'Clock', 'Poll', 'Final', 'Call', 'Summary', ':', 'Final', 'call', 'for', 'SI', 'clock', 'reports', 'Keywords', ':', 'SI', ',', 'acceleration', ',', 'clock', ',', 'upgrade', 'Article', 'I', '.', 'D', '.', ':', 'shelley', '.', '1qvfo9INNc3s', 'Organization', ':', 'University', 'of', 'Washington', 'Lines', ':', '11', 'NNTP', 'Posting', 'Host', ':', 'carson', '.', 'u', '.', 'washington', '.', 'edu', 'A', 'fair', 'number', 'of', 'brave', 'souls', 'who', 'upgraded', 'their', 'SI', 'clock', 'oscillator', 'have', 'shared', 'their', 'experiences', 'for', 'this', 'poll', '.', 'Please', 'send', 'a', 'brief', 'message', 'detailing', 'your', 'experiences', 'with', 'the', 'procedure', '.', 'Top', 'speed', 'attained', ',', 'CPU', 'rated', 'speed', ',', 'add', 'on', 'cards', 'and', 'adapters', ',', 'heat', 'sinks', ',', 'hour', 'of', 'usage', 'per', 'day', ',', 'floppy', 'disk', 'functionality', 'with', '800', 'and', '1', '.', '4', 'm', 'floppies', 'are', 'especially', 'requested', '.', 'I', 'will', 'be', 'summarizing', 'in', 'the', 'next', 'two', 'days', ',', 'so', 'please', 'add', 'to', 'the', 'network', 'knowledge', 'base', 'if', 'you', 'have', 'done', 'the', 'clock', 'upgrade', 'and', \"haven't\", 'answered', 'this', 'poll', '.', 'Thanks', '.', 'Guy', 'Kuo', '<', 'guykuo', '@', 'u', '.', 'washington', '.', 'edu', '>']\n",
            "====================================================================================================\n"
          ]
        }
      ]
    },
    {
      "cell_type": "code",
      "source": [
        "# Vorverarbeitung von Daten mit folgenden Schritten:\n",
        "textsloader.preprocess_texts(length_one_remove=True, punctuation_lower = True, stopwords_filter = True)"
      ],
      "metadata": {
        "colab": {
          "base_uri": "https://localhost:8080/"
        },
        "id": "5odpQDJ7qPTt",
        "outputId": "3dd2541c-e929-4660-e198-d133676e1e1b"
      },
      "execution_count": 8,
      "outputs": [
        {
          "output_type": "stream",
          "name": "stdout",
          "text": [
            "start: preprocessing: ...\n",
            "finised: preprocessing!\n"
          ]
        }
      ]
    },
    {
      "cell_type": "code",
      "source": [
        "# Daten zerlegen für Train, Test und Validation. Erstellen Vocabular aus dem Trainset\n",
        "textsloader.split_and_create_voca_from_trainset(max_df=0.7, min_df=10, stopwords_remove_from_voca=True)"
      ],
      "metadata": {
        "colab": {
          "base_uri": "https://localhost:8080/"
        },
        "id": "PRRCNPa9qXfq",
        "outputId": "b787da0a-4ec0-48b6-d33a-b9371d943ed0"
      },
      "execution_count": 9,
      "outputs": [
        {
          "output_type": "stream",
          "name": "stdout",
          "text": [
            "permuted indices for the train set: [117  17 208 132 146 204  32 178 147 122 173 152 186  50  84]\n",
            "start creating vocabulary ...\n",
            "length of the vocabulary: 348\n",
            "sample ten words of the vocabulary: ['nice', 'technical', 'set', 'good', 'mike', 'day', 'understanding', 'windows', 'side', 'found']\n",
            "length word2id list: 348\n",
            "length id2word list: 348\n",
            "finished: creating vocabulary\n"
          ]
        }
      ]
    },
    {
      "cell_type": "code",
      "source": [
        "# Erstellen BOW-Repräsentation für ETM Modell\n",
        "for_lda_model = False \n",
        "word2id, id2word, train, test, val = textsloader.create_bow_and_savebow_for_each_set(for_lda_model=for_lda_model)"
      ],
      "metadata": {
        "colab": {
          "base_uri": "https://localhost:8080/"
        },
        "id": "etzyjh_nqi19",
        "outputId": "f17e9394-001d-4ca2-fe61-82db0ef33ef4"
      },
      "execution_count": 10,
      "outputs": [
        {
          "output_type": "stream",
          "name": "stdout",
          "text": [
            "length train-documents-indices : 4616\n",
            "length of the vocabulary: 348\n",
            "\n",
            "\n",
            "start: creating bow representation...\n",
            "top 10 - word-id of the doc: [0, 1, 2, 3, 4, 5, 6, 7, 8, 9]\n",
            "max word-id: 347\n",
            "min word-id: 0\n",
            "max doc-id: 149\n",
            "min doc-id: 0\n",
            "all docs: 4616\n",
            "all words: 4616\n",
            "docidx unique 150\n",
            "words unique: 348\n",
            "ndocs: 150\n",
            "vocab-size: 348\n",
            "finised creating bow input!\n",
            "\n",
            "start: creating bow representation...\n",
            "top 10 - word-id of the doc: [0, 1, 2, 3, 4, 5, 6, 7, 8, 9]\n",
            "max word-id: 347\n",
            "min word-id: 0\n",
            "max doc-id: 49\n",
            "min doc-id: 0\n",
            "all docs: 1465\n",
            "all words: 1465\n",
            "docidx unique 50\n",
            "words unique: 325\n",
            "ndocs: 50\n",
            "vocab-size: 348\n",
            "finised creating bow input!\n",
            "\n",
            "start: creating bow representation...\n",
            "top 10 - word-id of the doc: [2, 3, 4, 7, 8, 10, 11, 12, 14, 15]\n",
            "max word-id: 344\n",
            "min word-id: 2\n",
            "max doc-id: 49\n",
            "min doc-id: 0\n",
            "all docs: 719\n",
            "all words: 719\n",
            "docidx unique 50\n",
            "words unique: 240\n",
            "ndocs: 50\n",
            "vocab-size: 348\n",
            "finised creating bow input!\n",
            "\n",
            "start: creating bow representation...\n",
            "top 10 - word-id of the doc: [0, 1, 2, 3, 4, 5, 6, 7, 8, 9]\n",
            "max word-id: 347\n",
            "min word-id: 0\n",
            "max doc-id: 49\n",
            "min doc-id: 0\n",
            "all docs: 746\n",
            "all words: 746\n",
            "docidx unique 50\n",
            "words unique: 269\n",
            "ndocs: 50\n",
            "vocab-size: 348\n",
            "finised creating bow input!\n",
            "\n",
            "start: creating bow representation...\n",
            "top 10 - word-id of the doc: [0, 1, 2, 3, 4, 5, 6, 7, 8, 9]\n",
            "max word-id: 347\n",
            "min word-id: 0\n",
            "max doc-id: 99\n",
            "min doc-id: 0\n",
            "all docs: 3033\n",
            "all words: 3033\n",
            "docidx unique 100\n",
            "words unique: 346\n",
            "ndocs: 100\n",
            "vocab-size: 348\n",
            "finised creating bow input!\n",
            "\n"
          ]
        }
      ]
    },
    {
      "cell_type": "markdown",
      "source": [
        "# **Vocabular und IDs anzeigen als Beispiel**\n",
        "\n",
        "---\n",
        "\n",
        "\n",
        "\n"
      ],
      "metadata": {
        "id": "r-DXUMguC8zM"
      }
    },
    {
      "cell_type": "code",
      "source": [
        "# show for samples: 100 word2id and id2 word\n",
        "word2id_df_100 = pd.DataFrame()\n",
        "word2id_df_100['word'] = list(word2id.keys())[:100]\n",
        "word2id_df_100['id'] = list(word2id.values())[:100]\n",
        "word2id_df_100"
      ],
      "metadata": {
        "colab": {
          "base_uri": "https://localhost:8080/",
          "height": 424
        },
        "id": "6RBJYhLHCfwy",
        "outputId": "06f8d9c3-340c-4393-8d81-224026aad1ea"
      },
      "execution_count": 11,
      "outputs": [
        {
          "output_type": "execute_result",
          "data": {
            "text/plain": [
              "         word  id\n",
              "0        nice   0\n",
              "1   technical   1\n",
              "2         set   2\n",
              "3        good   3\n",
              "4        mike   4\n",
              "..        ...  ..\n",
              "95        apr  95\n",
              "96       nntp  96\n",
              "97     wanted  97\n",
              "98       give  98\n",
              "99       chip  99\n",
              "\n",
              "[100 rows x 2 columns]"
            ],
            "text/html": [
              "\n",
              "  <div id=\"df-db02240b-f3e3-4b79-9d0f-1110b36ff414\">\n",
              "    <div class=\"colab-df-container\">\n",
              "      <div>\n",
              "<style scoped>\n",
              "    .dataframe tbody tr th:only-of-type {\n",
              "        vertical-align: middle;\n",
              "    }\n",
              "\n",
              "    .dataframe tbody tr th {\n",
              "        vertical-align: top;\n",
              "    }\n",
              "\n",
              "    .dataframe thead th {\n",
              "        text-align: right;\n",
              "    }\n",
              "</style>\n",
              "<table border=\"1\" class=\"dataframe\">\n",
              "  <thead>\n",
              "    <tr style=\"text-align: right;\">\n",
              "      <th></th>\n",
              "      <th>word</th>\n",
              "      <th>id</th>\n",
              "    </tr>\n",
              "  </thead>\n",
              "  <tbody>\n",
              "    <tr>\n",
              "      <th>0</th>\n",
              "      <td>nice</td>\n",
              "      <td>0</td>\n",
              "    </tr>\n",
              "    <tr>\n",
              "      <th>1</th>\n",
              "      <td>technical</td>\n",
              "      <td>1</td>\n",
              "    </tr>\n",
              "    <tr>\n",
              "      <th>2</th>\n",
              "      <td>set</td>\n",
              "      <td>2</td>\n",
              "    </tr>\n",
              "    <tr>\n",
              "      <th>3</th>\n",
              "      <td>good</td>\n",
              "      <td>3</td>\n",
              "    </tr>\n",
              "    <tr>\n",
              "      <th>4</th>\n",
              "      <td>mike</td>\n",
              "      <td>4</td>\n",
              "    </tr>\n",
              "    <tr>\n",
              "      <th>...</th>\n",
              "      <td>...</td>\n",
              "      <td>...</td>\n",
              "    </tr>\n",
              "    <tr>\n",
              "      <th>95</th>\n",
              "      <td>apr</td>\n",
              "      <td>95</td>\n",
              "    </tr>\n",
              "    <tr>\n",
              "      <th>96</th>\n",
              "      <td>nntp</td>\n",
              "      <td>96</td>\n",
              "    </tr>\n",
              "    <tr>\n",
              "      <th>97</th>\n",
              "      <td>wanted</td>\n",
              "      <td>97</td>\n",
              "    </tr>\n",
              "    <tr>\n",
              "      <th>98</th>\n",
              "      <td>give</td>\n",
              "      <td>98</td>\n",
              "    </tr>\n",
              "    <tr>\n",
              "      <th>99</th>\n",
              "      <td>chip</td>\n",
              "      <td>99</td>\n",
              "    </tr>\n",
              "  </tbody>\n",
              "</table>\n",
              "<p>100 rows × 2 columns</p>\n",
              "</div>\n",
              "      <button class=\"colab-df-convert\" onclick=\"convertToInteractive('df-db02240b-f3e3-4b79-9d0f-1110b36ff414')\"\n",
              "              title=\"Convert this dataframe to an interactive table.\"\n",
              "              style=\"display:none;\">\n",
              "        \n",
              "  <svg xmlns=\"http://www.w3.org/2000/svg\" height=\"24px\"viewBox=\"0 0 24 24\"\n",
              "       width=\"24px\">\n",
              "    <path d=\"M0 0h24v24H0V0z\" fill=\"none\"/>\n",
              "    <path d=\"M18.56 5.44l.94 2.06.94-2.06 2.06-.94-2.06-.94-.94-2.06-.94 2.06-2.06.94zm-11 1L8.5 8.5l.94-2.06 2.06-.94-2.06-.94L8.5 2.5l-.94 2.06-2.06.94zm10 10l.94 2.06.94-2.06 2.06-.94-2.06-.94-.94-2.06-.94 2.06-2.06.94z\"/><path d=\"M17.41 7.96l-1.37-1.37c-.4-.4-.92-.59-1.43-.59-.52 0-1.04.2-1.43.59L10.3 9.45l-7.72 7.72c-.78.78-.78 2.05 0 2.83L4 21.41c.39.39.9.59 1.41.59.51 0 1.02-.2 1.41-.59l7.78-7.78 2.81-2.81c.8-.78.8-2.07 0-2.86zM5.41 20L4 18.59l7.72-7.72 1.47 1.35L5.41 20z\"/>\n",
              "  </svg>\n",
              "      </button>\n",
              "      \n",
              "  <style>\n",
              "    .colab-df-container {\n",
              "      display:flex;\n",
              "      flex-wrap:wrap;\n",
              "      gap: 12px;\n",
              "    }\n",
              "\n",
              "    .colab-df-convert {\n",
              "      background-color: #E8F0FE;\n",
              "      border: none;\n",
              "      border-radius: 50%;\n",
              "      cursor: pointer;\n",
              "      display: none;\n",
              "      fill: #1967D2;\n",
              "      height: 32px;\n",
              "      padding: 0 0 0 0;\n",
              "      width: 32px;\n",
              "    }\n",
              "\n",
              "    .colab-df-convert:hover {\n",
              "      background-color: #E2EBFA;\n",
              "      box-shadow: 0px 1px 2px rgba(60, 64, 67, 0.3), 0px 1px 3px 1px rgba(60, 64, 67, 0.15);\n",
              "      fill: #174EA6;\n",
              "    }\n",
              "\n",
              "    [theme=dark] .colab-df-convert {\n",
              "      background-color: #3B4455;\n",
              "      fill: #D2E3FC;\n",
              "    }\n",
              "\n",
              "    [theme=dark] .colab-df-convert:hover {\n",
              "      background-color: #434B5C;\n",
              "      box-shadow: 0px 1px 3px 1px rgba(0, 0, 0, 0.15);\n",
              "      filter: drop-shadow(0px 1px 2px rgba(0, 0, 0, 0.3));\n",
              "      fill: #FFFFFF;\n",
              "    }\n",
              "  </style>\n",
              "\n",
              "      <script>\n",
              "        const buttonEl =\n",
              "          document.querySelector('#df-db02240b-f3e3-4b79-9d0f-1110b36ff414 button.colab-df-convert');\n",
              "        buttonEl.style.display =\n",
              "          google.colab.kernel.accessAllowed ? 'block' : 'none';\n",
              "\n",
              "        async function convertToInteractive(key) {\n",
              "          const element = document.querySelector('#df-db02240b-f3e3-4b79-9d0f-1110b36ff414');\n",
              "          const dataTable =\n",
              "            await google.colab.kernel.invokeFunction('convertToInteractive',\n",
              "                                                     [key], {});\n",
              "          if (!dataTable) return;\n",
              "\n",
              "          const docLinkHtml = 'Like what you see? Visit the ' +\n",
              "            '<a target=\"_blank\" href=https://colab.research.google.com/notebooks/data_table.ipynb>data table notebook</a>'\n",
              "            + ' to learn more about interactive tables.';\n",
              "          element.innerHTML = '';\n",
              "          dataTable['output_type'] = 'display_data';\n",
              "          await google.colab.output.renderOutput(dataTable, element);\n",
              "          const docLink = document.createElement('div');\n",
              "          docLink.innerHTML = docLinkHtml;\n",
              "          element.appendChild(docLink);\n",
              "        }\n",
              "      </script>\n",
              "    </div>\n",
              "  </div>\n",
              "  "
            ]
          },
          "metadata": {},
          "execution_count": 11
        }
      ]
    },
    {
      "cell_type": "markdown",
      "source": [
        "# **Die Größe von Datensätzen kontrollieren**"
      ],
      "metadata": {
        "id": "tupeI6Pw85_L"
      }
    },
    {
      "cell_type": "code",
      "source": [
        "# Kontrollieren die Größen von verschiedenen Datensätzen\n",
        "print(f'Size of the vocabulary after prprocessing ist: {len(textsloader.vocabulary)}')\n",
        "print(f'Size of train set: {len(train[\"tokens\"])}')\n",
        "print(f'Size of val set: {len(val[\"tokens\"])}')\n",
        "print(f'Size of test set: {len(test[\"test\"][\"tokens\"])}')"
      ],
      "metadata": {
        "colab": {
          "base_uri": "https://localhost:8080/"
        },
        "id": "n1d-5ji3qwE8",
        "outputId": "fbf2b455-9ee9-4194-be26-3f2a2bec077f"
      },
      "execution_count": 12,
      "outputs": [
        {
          "output_type": "stream",
          "name": "stdout",
          "text": [
            "Size of the vocabulary after prprocessing ist: 348\n",
            "Size of train set: 150\n",
            "Size of val set: 100\n",
            "Size of test set: 50\n"
          ]
        }
      ]
    },
    {
      "cell_type": "markdown",
      "source": [
        "# **Dokumenten wiederstellen für Word2Vec Embedding**\n",
        "\n",
        "---\n",
        "\n"
      ],
      "metadata": {
        "id": "bxQL5jQtDb1c"
      }
    },
    {
      "cell_type": "code",
      "source": [
        "# re-erstellen von Dokumenten nach der Vorverarbeitungen. Die Dokumenten sind in Wörtern und werden für Word-Embedding Training benutzt\n",
        "docs_tr, docs_t, docs_v = textsloader.get_docs_in_words_for_each_set()\n",
        "train_docs_df = pd.DataFrame()\n",
        "train_docs_df['text-after-preprocessing'] = [' '.join(doc) for doc in docs_tr[:100]]\n",
        "train_docs_df"
      ],
      "metadata": {
        "colab": {
          "base_uri": "https://localhost:8080/",
          "height": 424
        },
        "id": "PDXEEBHfq3Cy",
        "outputId": "c045baac-6ca3-4db9-f3c9-e122da3477bd"
      },
      "execution_count": 13,
      "outputs": [
        {
          "output_type": "execute_result",
          "data": {
            "text/plain": [
              "                             text-after-preprocessing\n",
              "0   chip key systems corporation usa distribution ...\n",
              "1   cc summary university nntp posting host cc new...\n",
              "2   opinion distribution keywords article writes a...\n",
              "3   sale price nntp posting host university distri...\n",
              "4   cs windows keywords windows computer science d...\n",
              "..                                                ...\n",
              "95  cc university technology computing distributio...\n",
              "96  wanted nntp posting host institute distributio...\n",
              "97  university department article writes article w...\n",
              "98  net nntp posting host network writes question ...\n",
              "99                                      ca card price\n",
              "\n",
              "[100 rows x 1 columns]"
            ],
            "text/html": [
              "\n",
              "  <div id=\"df-5061f847-7759-4d7b-82fd-3a5f1432227d\">\n",
              "    <div class=\"colab-df-container\">\n",
              "      <div>\n",
              "<style scoped>\n",
              "    .dataframe tbody tr th:only-of-type {\n",
              "        vertical-align: middle;\n",
              "    }\n",
              "\n",
              "    .dataframe tbody tr th {\n",
              "        vertical-align: top;\n",
              "    }\n",
              "\n",
              "    .dataframe thead th {\n",
              "        text-align: right;\n",
              "    }\n",
              "</style>\n",
              "<table border=\"1\" class=\"dataframe\">\n",
              "  <thead>\n",
              "    <tr style=\"text-align: right;\">\n",
              "      <th></th>\n",
              "      <th>text-after-preprocessing</th>\n",
              "    </tr>\n",
              "  </thead>\n",
              "  <tbody>\n",
              "    <tr>\n",
              "      <th>0</th>\n",
              "      <td>chip key systems corporation usa distribution ...</td>\n",
              "    </tr>\n",
              "    <tr>\n",
              "      <th>1</th>\n",
              "      <td>cc summary university nntp posting host cc new...</td>\n",
              "    </tr>\n",
              "    <tr>\n",
              "      <th>2</th>\n",
              "      <td>opinion distribution keywords article writes a...</td>\n",
              "    </tr>\n",
              "    <tr>\n",
              "      <th>3</th>\n",
              "      <td>sale price nntp posting host university distri...</td>\n",
              "    </tr>\n",
              "    <tr>\n",
              "      <th>4</th>\n",
              "      <td>cs windows keywords windows computer science d...</td>\n",
              "    </tr>\n",
              "    <tr>\n",
              "      <th>...</th>\n",
              "      <td>...</td>\n",
              "    </tr>\n",
              "    <tr>\n",
              "      <th>95</th>\n",
              "      <td>cc university technology computing distributio...</td>\n",
              "    </tr>\n",
              "    <tr>\n",
              "      <th>96</th>\n",
              "      <td>wanted nntp posting host institute distributio...</td>\n",
              "    </tr>\n",
              "    <tr>\n",
              "      <th>97</th>\n",
              "      <td>university department article writes article w...</td>\n",
              "    </tr>\n",
              "    <tr>\n",
              "      <th>98</th>\n",
              "      <td>net nntp posting host network writes question ...</td>\n",
              "    </tr>\n",
              "    <tr>\n",
              "      <th>99</th>\n",
              "      <td>ca card price</td>\n",
              "    </tr>\n",
              "  </tbody>\n",
              "</table>\n",
              "<p>100 rows × 1 columns</p>\n",
              "</div>\n",
              "      <button class=\"colab-df-convert\" onclick=\"convertToInteractive('df-5061f847-7759-4d7b-82fd-3a5f1432227d')\"\n",
              "              title=\"Convert this dataframe to an interactive table.\"\n",
              "              style=\"display:none;\">\n",
              "        \n",
              "  <svg xmlns=\"http://www.w3.org/2000/svg\" height=\"24px\"viewBox=\"0 0 24 24\"\n",
              "       width=\"24px\">\n",
              "    <path d=\"M0 0h24v24H0V0z\" fill=\"none\"/>\n",
              "    <path d=\"M18.56 5.44l.94 2.06.94-2.06 2.06-.94-2.06-.94-.94-2.06-.94 2.06-2.06.94zm-11 1L8.5 8.5l.94-2.06 2.06-.94-2.06-.94L8.5 2.5l-.94 2.06-2.06.94zm10 10l.94 2.06.94-2.06 2.06-.94-2.06-.94-.94-2.06-.94 2.06-2.06.94z\"/><path d=\"M17.41 7.96l-1.37-1.37c-.4-.4-.92-.59-1.43-.59-.52 0-1.04.2-1.43.59L10.3 9.45l-7.72 7.72c-.78.78-.78 2.05 0 2.83L4 21.41c.39.39.9.59 1.41.59.51 0 1.02-.2 1.41-.59l7.78-7.78 2.81-2.81c.8-.78.8-2.07 0-2.86zM5.41 20L4 18.59l7.72-7.72 1.47 1.35L5.41 20z\"/>\n",
              "  </svg>\n",
              "      </button>\n",
              "      \n",
              "  <style>\n",
              "    .colab-df-container {\n",
              "      display:flex;\n",
              "      flex-wrap:wrap;\n",
              "      gap: 12px;\n",
              "    }\n",
              "\n",
              "    .colab-df-convert {\n",
              "      background-color: #E8F0FE;\n",
              "      border: none;\n",
              "      border-radius: 50%;\n",
              "      cursor: pointer;\n",
              "      display: none;\n",
              "      fill: #1967D2;\n",
              "      height: 32px;\n",
              "      padding: 0 0 0 0;\n",
              "      width: 32px;\n",
              "    }\n",
              "\n",
              "    .colab-df-convert:hover {\n",
              "      background-color: #E2EBFA;\n",
              "      box-shadow: 0px 1px 2px rgba(60, 64, 67, 0.3), 0px 1px 3px 1px rgba(60, 64, 67, 0.15);\n",
              "      fill: #174EA6;\n",
              "    }\n",
              "\n",
              "    [theme=dark] .colab-df-convert {\n",
              "      background-color: #3B4455;\n",
              "      fill: #D2E3FC;\n",
              "    }\n",
              "\n",
              "    [theme=dark] .colab-df-convert:hover {\n",
              "      background-color: #434B5C;\n",
              "      box-shadow: 0px 1px 3px 1px rgba(0, 0, 0, 0.15);\n",
              "      filter: drop-shadow(0px 1px 2px rgba(0, 0, 0, 0.3));\n",
              "      fill: #FFFFFF;\n",
              "    }\n",
              "  </style>\n",
              "\n",
              "      <script>\n",
              "        const buttonEl =\n",
              "          document.querySelector('#df-5061f847-7759-4d7b-82fd-3a5f1432227d button.colab-df-convert');\n",
              "        buttonEl.style.display =\n",
              "          google.colab.kernel.accessAllowed ? 'block' : 'none';\n",
              "\n",
              "        async function convertToInteractive(key) {\n",
              "          const element = document.querySelector('#df-5061f847-7759-4d7b-82fd-3a5f1432227d');\n",
              "          const dataTable =\n",
              "            await google.colab.kernel.invokeFunction('convertToInteractive',\n",
              "                                                     [key], {});\n",
              "          if (!dataTable) return;\n",
              "\n",
              "          const docLinkHtml = 'Like what you see? Visit the ' +\n",
              "            '<a target=\"_blank\" href=https://colab.research.google.com/notebooks/data_table.ipynb>data table notebook</a>'\n",
              "            + ' to learn more about interactive tables.';\n",
              "          element.innerHTML = '';\n",
              "          dataTable['output_type'] = 'display_data';\n",
              "          await google.colab.output.renderOutput(dataTable, element);\n",
              "          const docLink = document.createElement('div');\n",
              "          docLink.innerHTML = docLinkHtml;\n",
              "          element.appendChild(docLink);\n",
              "        }\n",
              "      </script>\n",
              "    </div>\n",
              "  </div>\n",
              "  "
            ]
          },
          "metadata": {},
          "execution_count": 13
        }
      ]
    },
    {
      "cell_type": "markdown",
      "source": [
        "# **Word-Embedding trainieren mit dem Traindatensatz**"
      ],
      "metadata": {
        "id": "Ds_KuUTQrK5P"
      }
    },
    {
      "cell_type": "code",
      "source": [
        "from src.embedding import WordEmbeddingCreator\n",
        "save_path = Path.joinpath(Path.cwd(), \"vocab_embedding.txt\")\n",
        "wb_creator = WordEmbeddingCreator(model_name=\"cbow\", documents = docs_tr, save_path= save_path)\n",
        "wb_creator.train(min_count=2, embedding_size= 10)\n",
        "vocab = list(word2id.keys())\n",
        "wb_creator.create_and_save_vocab_embedding(vocab, save_path)"
      ],
      "metadata": {
        "colab": {
          "base_uri": "https://localhost:8080/"
        },
        "id": "KBexKIVf8Qs5",
        "outputId": "d63aeb33-703a-49e4-d46a-15a526045aed"
      },
      "execution_count": 14,
      "outputs": [
        {
          "output_type": "stream",
          "name": "stdout",
          "text": [
            "word-embedding train begins\n",
            "word-embedding train finished\n",
            "length of vocabulary from word-embedding model 347\n",
            "length of the vocabulary of prepraring-dataset-vocabulary: 348\n"
          ]
        },
        {
          "output_type": "stream",
          "name": "stderr",
          "text": [
            "100%|██████████| 347/347 [00:00<00:00, 43265.96it/s]\n"
          ]
        },
        {
          "output_type": "execute_result",
          "data": {
            "text/plain": [
              "True"
            ]
          },
          "metadata": {},
          "execution_count": 14
        }
      ]
    },
    {
      "cell_type": "code",
      "source": [
        "v = list(wb_creator.model.wv.vocab)[0]\n",
        "vec = list(wb_creator.model.wv.__getitem__(v))\n",
        "print(f'word-embedding of the word-- {v}: ')\n",
        "print(f'vector: {vec}')\n",
        "print(f'dim of vector: {len(vec)}')"
      ],
      "metadata": {
        "colab": {
          "base_uri": "https://localhost:8080/"
        },
        "id": "f23xipx7MSV4",
        "outputId": "2f506b60-6333-4eb3-ce0a-cf25fc6a5510"
      },
      "execution_count": 15,
      "outputs": [
        {
          "output_type": "stream",
          "name": "stdout",
          "text": [
            "word-embedding of the word-- chip: \n",
            "vector: [0.03534068, 0.0077094086, -0.058539383, 0.047281053, 0.116620034, 0.121067256, 0.011901835, 0.070823036, 0.08540536, -0.011062479]\n",
            "dim of vector: 10\n"
          ]
        }
      ]
    },
    {
      "cell_type": "markdown",
      "source": [
        "# **Word-Embeddings visualieren als Beispiel**\n"
      ],
      "metadata": {
        "id": "l53_jkUS-hl-"
      }
    },
    {
      "cell_type": "code",
      "source": [
        "# read word-embedding files\n",
        "with open(save_path) as f:\n",
        "  lines = f.readlines()\n",
        "embedding_data = []\n",
        "words_data = []\n",
        "for t in lines:\n",
        "  w = t.split(\"\\t\")[0]\n",
        "  v = [float(e) for e in t.split(\"\\t\")[1].split(\" \")]\n",
        "  words_data.append(w)\n",
        "  embedding_data.append(v)"
      ],
      "metadata": {
        "id": "o96LsIWkNrZS"
      },
      "execution_count": 16,
      "outputs": []
    },
    {
      "cell_type": "code",
      "source": [
        "# clustering words with KMeans and Words-Vectors\n",
        "kmeans = cluster.KMeans(n_clusters=10)\n",
        "kmeans.fit(embedding_data)\n",
        " \n",
        "labels = kmeans.labels_\n",
        "centroids = kmeans.cluster_centers_\n",
        " \n",
        "print (\"Cluster id labels for inputted data\")\n",
        "print (labels)\n",
        "print (\"Centroids data\")\n",
        "print (centroids)"
      ],
      "metadata": {
        "colab": {
          "base_uri": "https://localhost:8080/"
        },
        "id": "99hYOKPwB5aw",
        "outputId": "ebfb2e80-1dd5-43b1-8d14-b924ec455dc1"
      },
      "execution_count": 17,
      "outputs": [
        {
          "output_type": "stream",
          "name": "stdout",
          "text": [
            "Cluster id labels for inputted data\n",
            "[7 8 6 1 7 6 3 9 5 3 9 9 2 8 2 3 1 6 7 5 0 1 9 2 9 2 9 2 0 5 6 1 4 3 6 7 0\n",
            " 5 7 9 7 2 2 3 6 2 5 1 8 3 2 7 6 9 6 8 6 9 2 9 1 7 2 6 6 1 0 2 8 6 9 8 4 8\n",
            " 6 2 9 8 8 6 2 2 0 8 6 7 1 4 1 1 0 2 4 9 8 8 9 0 6 1 6 5 4 2 5 2 7 4 2 8 9\n",
            " 2 4 4 7 5 0 8 8 1 7 8 4 7 1 5 2 6 6 7 2 1 0 3 4 2 2 1 1 5 5 2 3 9 6 5 3 5\n",
            " 4 8 9 3 5 6 1 9 5 6 6 9 6 4 1 6 2 6 9 6 1 8 2 1 9 9 6 2 3 0 9 6 8 2 3 5 5\n",
            " 5 0 9 7 1 4 6 8 5 6 1 6 4 2 1 8 6 5 1 9 2 5 6 4 2 5 4 7 5 3 8 8 4 1 7 5 4\n",
            " 7 7 0 4 4 6 8 9 4 1 1 1 8 4 4 1 2 8 4 8 8 6 4 6 5 8 1 9 0 4 2 2 1 5 5 6 6\n",
            " 5 1 4 6 7 9 4 4 8 8 4 8 1 1 0 4 5 0 8 9 1 7 6 1 9 2 2 6 4 6 2 0 4 8 7 6 6\n",
            " 7 0 7 6 4 8 1 4 4 9 1 1 7 3 1 4 1 2 4 8 4 4 8 4 8 8 7 5 4 8 7 2 7 5 0 1 7\n",
            " 4 2 4 9 4 4 1 6 8 6 4 6 1 1]\n",
            "Centroids data\n",
            "[[ 2.38457717e-02 -2.87649394e-02 -9.51878494e-02  7.68354576e-02\n",
            "   1.41570863e-01  1.58163606e-01  2.73700593e-02  3.20801320e-02\n",
            "   7.17820379e-02  1.60045512e-02]\n",
            " [ 5.42278618e-03 -1.84533587e-02 -2.81766511e-02  3.04420439e-02\n",
            "   3.74413126e-02  6.50707630e-02  2.58998677e-02  4.26470570e-02\n",
            "   3.59498311e-02  2.06250809e-02]\n",
            " [ 4.86082633e-02 -2.23095221e-02 -4.50118807e-02  2.93439575e-02\n",
            "   1.03074280e-01  1.09906481e-01  4.24636787e-02  4.95373207e-03\n",
            "   4.51558990e-02  3.25670868e-02]\n",
            " [ 4.75078047e-02 -5.03981241e-02 -1.06377148e-01  8.74449033e-02\n",
            "   1.91387528e-01  2.38372826e-01  7.55812451e-02  7.20627981e-02\n",
            "   1.14867553e-01  6.00127637e-02]\n",
            " [ 1.29237626e-02  3.84987851e-04 -2.57889044e-02  1.27529460e-02\n",
            "   4.85735478e-02  4.58107335e-02  1.39947404e-02 -6.78982128e-03\n",
            "   1.75799410e-02  9.64730115e-03]\n",
            " [ 5.26242510e-02 -2.61187213e-02 -7.18422630e-02  6.28419374e-02\n",
            "   1.48562912e-01  1.86710492e-01  9.42537589e-02  3.51709702e-02\n",
            "   8.74457092e-02  1.30624088e-02]\n",
            " [ 1.48567673e-02 -3.86999764e-02 -3.75308913e-02  4.13802867e-02\n",
            "   9.98657236e-02  1.37806725e-01  4.12492510e-02  4.90841168e-02\n",
            "   5.06144861e-02  1.07231706e-02]\n",
            " [ 1.97235415e-02 -5.41030624e-03 -7.96496786e-02  1.57557383e-02\n",
            "   1.34388030e-01  1.29875182e-01  4.80398819e-02  5.37890886e-02\n",
            "   7.94831242e-02  1.67549281e-02]\n",
            " [ 1.30235195e-04 -9.80115310e-03 -3.58105593e-02  3.00042584e-02\n",
            "   7.10078453e-02  1.08057670e-01  5.32434520e-02  1.06377724e-02\n",
            "   7.45003349e-02  8.86273456e-03]\n",
            " [ 1.33249573e-02 -3.92260476e-02 -6.78784003e-02  3.77391270e-02\n",
            "   1.22726088e-01  1.61030804e-01  7.48353365e-02  3.12102083e-02\n",
            "   8.93424158e-02  5.21652447e-02]]\n"
          ]
        }
      ]
    },
    {
      "cell_type": "code",
      "source": [
        "# dimension reduction with umap\n",
        "start = time.time()\n",
        "reducer = umap.UMAP(random_state=42,n_components=3)\n",
        "embedding = reducer.fit_transform(embedding_data)\n",
        "print('Duration: {} seconds'.format(time.time() - start))\n",
        "\n",
        "# show samples after dim-reduction in dataframe\n",
        "wb = pd.DataFrame(embedding, columns=['x', 'y', 'z'])\n",
        "wb['word'] = words_data\n",
        "wb['cluster'] = ['cluster ' + str(c) for c in labels]"
      ],
      "metadata": {
        "colab": {
          "base_uri": "https://localhost:8080/"
        },
        "id": "LAMgZ9aIE9A6",
        "outputId": "bf3431d6-80ec-454d-b1da-c6fa9406ee6b"
      },
      "execution_count": 18,
      "outputs": [
        {
          "output_type": "stream",
          "name": "stderr",
          "text": [
            "/usr/local/lib/python3.7/dist-packages/numba/np/ufunc/parallel.py:363: NumbaWarning: The TBB threading layer requires TBB version 2019.5 or later i.e., TBB_INTERFACE_VERSION >= 11005. Found TBB_INTERFACE_VERSION = 9107. The TBB threading layer is disabled.\n",
            "  warnings.warn(problem)\n"
          ]
        },
        {
          "output_type": "stream",
          "name": "stdout",
          "text": [
            "Duration: 18.56798505783081 seconds\n"
          ]
        }
      ]
    },
    {
      "cell_type": "code",
      "source": [
        "# visualization\n",
        "fig = px.scatter_3d(wb, \n",
        "                    text = wb['word'],\n",
        "                    x='x', y='y', z='z',\n",
        "                    color = wb['cluster'],\n",
        "                    title =\"word-embedding-samples\")\n",
        "fig.show()"
      ],
      "metadata": {
        "colab": {
          "base_uri": "https://localhost:8080/",
          "height": 542
        },
        "id": "spomMOt_yy0W",
        "outputId": "aae644ae-8e4e-4471-bbf5-6f67846d2fc3"
      },
      "execution_count": 19,
      "outputs": [
        {
          "output_type": "display_data",
          "data": {
            "text/html": [
              "<html>\n",
              "<head><meta charset=\"utf-8\" /></head>\n",
              "<body>\n",
              "    <div>            <script src=\"https://cdnjs.cloudflare.com/ajax/libs/mathjax/2.7.5/MathJax.js?config=TeX-AMS-MML_SVG\"></script><script type=\"text/javascript\">if (window.MathJax) {MathJax.Hub.Config({SVG: {font: \"STIX-Web\"}});}</script>                <script type=\"text/javascript\">window.PlotlyConfig = {MathJaxConfig: 'local'};</script>\n",
              "        <script src=\"https://cdn.plot.ly/plotly-2.11.1.min.js\"></script>                <div id=\"f377426e-d228-4e88-8afc-e30032ea7bfe\" class=\"plotly-graph-div\" style=\"height:525px; width:100%;\"></div>            <script type=\"text/javascript\">                                    window.PLOTLYENV=window.PLOTLYENV || {};                                    if (document.getElementById(\"f377426e-d228-4e88-8afc-e30032ea7bfe\")) {                    Plotly.newPlot(                        \"f377426e-d228-4e88-8afc-e30032ea7bfe\",                        [{\"hovertemplate\":\"cluster=cluster 7<br>x=%{x}<br>y=%{y}<br>z=%{z}<br>word=%{text}<extra></extra>\",\"legendgroup\":\"cluster 7\",\"marker\":{\"color\":\"#636efa\",\"symbol\":\"circle\"},\"mode\":\"markers+text\",\"name\":\"cluster 7\",\"scene\":\"scene\",\"showlegend\":true,\"text\":[\"chip\",\"usa\",\"strong\",\"single\",\"state\",\"required\",\"turn\",\"times\",\"division\",\"good\",\"view\",\"system\",\"case\",\"game\",\"opinions\",\"response\",\"write\",\"program\",\"problems\",\"power\",\"general\",\"white\",\"parts\",\"box\",\"dos\",\"run\",\"version\",\"net\",\"days\"],\"x\":[4.987542629241943,6.140385627746582,6.221261024475098,6.891731262207031,4.7730536460876465,4.892889022827148,5.246115684509277,5.842945575714111,5.568511486053467,6.222320556640625,4.072940349578857,5.511427402496338,6.214471340179443,5.4952545166015625,5.117260456085205,5.707944393157959,6.655418395996094,6.261471748352051,6.126680374145508,5.695178031921387,6.312331676483154,5.489624977111816,6.110337734222412,4.120026588439941,6.2486748695373535,6.4542083740234375,7.1627044677734375,6.656935214996338,6.454488754272461],\"y\":[5.789409637451172,4.142599582672119,5.157393932342529,4.737948894500732,5.918572425842285,5.475745677947998,4.766195774078369,4.585482597351074,4.7567338943481445,4.652942657470703,4.947012901306152,5.327404975891113,4.512765407562256,4.898951530456543,5.836690902709961,5.137910842895508,4.716205596923828,4.419215202331543,4.287529945373535,5.5540642738342285,4.52337121963501,5.5048089027404785,4.713785171508789,4.804295539855957,4.652857780456543,5.178674697875977,4.951984405517578,4.74641227722168,4.539175510406494],\"z\":[6.1649041175842285,5.299780368804932,4.761209964752197,5.507351875305176,6.303253650665283,5.944112777709961,4.103795051574707,5.470036506652832,5.547277927398682,5.177896499633789,5.972622394561768,4.578785419464111,5.491410732269287,4.209218978881836,6.314420223236084,4.465601921081543,5.571738243103027,5.750180721282959,5.2465643882751465,5.187695503234863,5.450566291809082,5.072464942932129,5.266501426696777,5.352417469024658,4.981317520141602,5.340489387512207,5.547337055206299,5.6067585945129395,4.990303993225098],\"type\":\"scatter3d\"},{\"hovertemplate\":\"cluster=cluster 8<br>x=%{x}<br>y=%{y}<br>z=%{z}<br>word=%{text}<extra></extra>\",\"legendgroup\":\"cluster 8\",\"marker\":{\"color\":\"#EF553B\",\"symbol\":\"circle\"},\"mode\":\"markers+text\",\"name\":\"cluster 8\",\"scene\":\"scene\",\"showlegend\":true,\"text\":[\"key\",\"news\",\"situation\",\"pay\",\"center\",\"calls\",\"thing\",\"interesting\",\"buy\",\"give\",\"nice\",\"interested\",\"city\",\"full\",\"makes\",\"miles\",\"sale\",\"ibm\",\"sort\",\"understand\",\"large\",\"wrong\",\"fine\",\"wondering\",\"sci\",\"application\",\"engineering\",\"design\",\"stuff\",\"love\",\"deleted\",\"mark\",\"simple\",\"children\",\"project\",\"result\",\"based\",\"open\",\"access\",\"tin\",\"ac\"],\"x\":[4.088804244995117,4.082590579986572,4.88191032409668,4.622494220733643,4.015244483947754,5.023092269897461,5.071193218231201,3.401691436767578,3.928555727005005,5.062591552734375,3.344071388244629,3.3557064533233643,3.920515298843384,3.2062630653381348,3.609950065612793,4.318936824798584,2.791903495788574,3.324857234954834,5.482602119445801,3.8978028297424316,4.50270938873291,3.895836591720581,3.8159234523773193,4.0904436111450195,4.128864765167236,3.693856954574585,4.718776702880859,2.294703722000122,4.321222305297852,4.7893476486206055,4.34189510345459,3.6517465114593506,2.962772846221924,2.935478448867798,3.011125087738037,3.6984496116638184,3.8306362628936768,3.5423920154571533,4.223198890686035,3.303912878036499,4.203428745269775],\"y\":[5.069655418395996,3.739788055419922,4.064749240875244,3.5435283184051514,4.164858818054199,4.6206536293029785,4.562021732330322,2.9555909633636475,3.3711001873016357,3.9609580039978027,3.573277711868286,4.171303749084473,3.9540419578552246,3.6099462509155273,3.731626033782959,4.259646415710449,3.7477173805236816,4.483013153076172,4.1451497077941895,4.299489974975586,4.013303279876709,4.066977024078369,3.851874351501465,3.346883773803711,4.093786716461182,3.949098587036133,5.647783279418945,3.257309675216675,3.646918535232544,5.640720367431641,4.351291656494141,3.1497156620025635,3.292344570159912,3.680091619491577,3.9297242164611816,4.224114418029785,3.8298628330230713,3.8326072692871094,4.210224151611328,3.9531846046447754,3.5125179290771484],\"z\":[5.978552341461182,5.788685321807861,5.363972187042236,5.964062213897705,5.102754592895508,4.181191921234131,4.167055606842041,5.261675834655762,5.978947162628174,4.867732524871826,5.9083099365234375,5.593599796295166,6.385413646697998,4.956634521484375,5.08440637588501,4.847199440002441,4.821107387542725,5.013391494750977,4.573576927185059,4.6899237632751465,4.746268272399902,5.273332118988037,6.875256061553955,5.954498291015625,4.845712184906006,5.7860331535339355,4.780655860900879,5.446056365966797,5.9690260887146,4.707263469696045,5.049086093902588,5.335958480834961,5.622613906860352,4.91737174987793,4.834864616394043,5.064825534820557,6.53705358505249,6.043755531311035,4.697841644287109,4.875769138336182,5.665391445159912],\"type\":\"scatter3d\"},{\"hovertemplate\":\"cluster=cluster 6<br>x=%{x}<br>y=%{y}<br>z=%{z}<br>word=%{text}<extra></extra>\",\"legendgroup\":\"cluster 6\",\"marker\":{\"color\":\"#00cc96\",\"symbol\":\"circle\"},\"mode\":\"markers+text\",\"name\":\"cluster 6\",\"scene\":\"scene\",\"showlegend\":true,\"text\":[\"systems\",\"distribution\",\"david\",\"cc\",\"kind\",\"hope\",\"higher\",\"couple\",\"info\",\"months\",\"clear\",\"disclaimer\",\"man\",\"front\",\"considered\",\"back\",\"opinion\",\"call\",\"low\",\"card\",\"contact\",\"public\",\"idea\",\"john\",\"major\",\"message\",\"heard\",\"east\",\"word\",\"care\",\"today\",\"answer\",\"religious\",\"put\",\"mentioned\",\"free\",\"mail\",\"feel\",\"org\",\"day\",\"phone\",\"christian\",\"hand\",\"au\",\"western\",\"bike\",\"issue\",\"radio\",\"file\"],\"x\":[3.2303547859191895,6.508880138397217,4.8367018699646,6.040750026702881,3.921372890472412,4.877187252044678,5.625510215759277,5.354844570159912,5.771189212799072,5.269176959991455,3.8548715114593506,3.676788330078125,5.195683479309082,5.029236793518066,3.9944639205932617,5.874554634094238,5.119067668914795,4.311764240264893,5.689763069152832,5.221341133117676,5.547860622406006,5.735249042510986,4.984764099121094,5.473592758178711,5.040072441101074,5.183891296386719,5.303985118865967,5.649524688720703,4.775564193725586,5.283635139465332,4.606132507324219,5.781965732574463,4.381209373474121,5.0965399742126465,5.049473762512207,4.560947895050049,4.99679708480835,6.020272254943848,5.500931739807129,5.160682678222656,5.479078769683838,5.060754299163818,5.282500743865967,6.191357612609863,4.622320175170898,5.038788318634033,4.791964054107666,5.32525634765625,5.39810848236084],\"y\":[4.1321635246276855,5.193439960479736,4.652045726776123,5.307382106781006,4.030034065246582,3.8479247093200684,4.178339958190918,3.9560422897338867,4.830018043518066,5.316591739654541,3.976952075958252,3.972982168197632,4.412918567657471,5.547807693481445,4.257621765136719,5.114138126373291,3.861593723297119,4.105885982513428,5.559980392456055,4.623502731323242,4.709352970123291,5.069638252258301,4.998375415802002,4.64190673828125,3.968919038772583,5.854125499725342,4.532878398895264,4.050477027893066,5.439518451690674,3.9448277950286865,4.10737419128418,5.454312801361084,3.9714114665985107,5.4791107177734375,4.5469746589660645,4.098822593688965,3.7671921253204346,5.021742343902588,3.9673616886138916,4.512445449829102,4.251096248626709,5.748301982879639,5.457687854766846,5.657064437866211,4.2513580322265625,5.637411117553711,3.6847078800201416,4.113679885864258,5.370415210723877],\"z\":[6.344408988952637,6.270906448364258,6.095149993896484,6.592893123626709,6.396759510040283,5.745394229888916,6.31104850769043,5.790449142456055,6.331776142120361,5.804598331451416,6.85304594039917,6.927594184875488,5.1653523445129395,6.652110576629639,5.984907150268555,6.456182956695557,5.5794758796691895,6.6982340812683105,6.736520767211914,6.230146408081055,6.322206497192383,6.254136562347412,5.063704967498779,5.630937576293945,5.514815330505371,6.538567543029785,6.540183067321777,6.208487510681152,4.893641948699951,6.24558162689209,4.766912937164307,6.623049259185791,5.988419532775879,6.797327041625977,5.247864246368408,6.005250453948975,5.68223762512207,6.406275749206543,6.142232894897461,6.223692893981934,6.419565677642822,6.575135231018066,6.835391521453857,6.544177532196045,5.922220706939697,6.718402862548828,5.9188432693481445,4.8482818603515625,6.6918816566467285],\"type\":\"scatter3d\"},{\"hovertemplate\":\"cluster=cluster 1<br>x=%{x}<br>y=%{y}<br>z=%{z}<br>word=%{text}<extra></extra>\",\"legendgroup\":\"cluster 1\",\"marker\":{\"color\":\"#ab63fa\",\"symbol\":\"circle\"},\"mode\":\"markers+text\",\"name\":\"cluster 1\",\"scene\":\"scene\",\"showlegend\":true,\"text\":[\"corporation\",\"reading\",\"network\",\"summary\",\"similar\",\"claim\",\"light\",\"continue\",\"rest\",\"faster\",\"related\",\"add\",\"total\",\"matter\",\"mike\",\"line\",\"technical\",\"understanding\",\"coming\",\"sell\",\"jim\",\"mac\",\"mind\",\"international\",\"error\",\"appreciated\",\"tom\",\"original\",\"computing\",\"send\",\"late\",\"history\",\"laboratory\",\"week\",\"common\",\"expressed\",\"easy\",\"taking\",\"rights\",\"lost\",\"dept\",\"truth\",\"form\",\"short\",\"originator\"],\"x\":[2.073641061782837,3.5445282459259033,1.5081413984298706,3.603895664215088,1.7287746667861938,2.3152642250061035,2.291653633117676,3.3564155101776123,2.7497165203094482,2.9167439937591553,1.982409954071045,3.2909324169158936,2.6950531005859375,2.7612144947052,3.0151731967926025,3.4490010738372803,2.3504016399383545,3.422356128692627,3.0148024559020996,2.9239449501037598,1.9213511943817139,1.8922338485717773,1.7089301347732544,3.7543087005615234,2.506381034851074,3.1025044918060303,3.6315507888793945,4.077735900878906,1.7449544668197632,3.166494607925415,1.937484622001648,2.7754900455474854,3.0540947914123535,2.822603940963745,3.15006947517395,1.8031363487243652,2.5256943702697754,2.2871689796447754,2.2598814964294434,2.5128355026245117,3.047802209854126,4.426932334899902,2.3040428161621094,1.8279528617858887,1.4948619604110718],\"y\":[3.8678534030914307,3.180449962615967,4.0558271408081055,3.703803300857544,4.160488128662109,3.53849196434021,3.5606775283813477,3.5457425117492676,3.577322006225586,2.8732428550720215,3.59731388092041,2.91357684135437,3.70885968208313,2.8956775665283203,4.162595272064209,3.456146478652954,3.5744130611419678,3.972750186920166,2.840118169784546,2.8521556854248047,3.3189473152160645,3.98508620262146,3.7976131439208984,3.916754961013794,3.7564945220947266,3.738487958908081,3.343409538269043,3.4327592849731445,3.9276936054229736,2.8623406887054443,3.3514273166656494,3.7938005924224854,3.80786395072937,2.8404619693756104,3.7473130226135254,3.6964287757873535,3.478020191192627,3.4967477321624756,3.4453043937683105,3.659703254699707,3.7777349948883057,4.218807220458984,4.3180670738220215,4.063886642456055,3.998542547225952],\"z\":[6.343230247497559,5.906785488128662,6.049398899078369,5.355287075042725,6.317090034484863,6.914497375488281,5.95140266418457,6.325747966766357,6.927813529968262,5.376322269439697,6.47865104675293,5.365006446838379,6.388487815856934,5.546651840209961,5.878281593322754,5.458103656768799,6.8775248527526855,6.107248306274414,5.668097019195557,5.524977684020996,6.078047275543213,6.403190612792969,6.61230993270874,6.811621189117432,6.520646095275879,6.675464153289795,6.113522052764893,5.707457542419434,6.032383918762207,5.365349292755127,6.016210079193115,6.599606513977051,6.769020080566406,5.4277143478393555,6.016041278839111,6.6047868728637695,5.71329927444458,6.1887383460998535,6.155589580535889,5.194913387298584,6.0486016273498535,5.827950954437256,6.332827091217041,6.382223129272461,6.05375337600708],\"type\":\"scatter3d\"},{\"hovertemplate\":\"cluster=cluster 3<br>x=%{x}<br>y=%{y}<br>z=%{z}<br>word=%{text}<extra></extra>\",\"legendgroup\":\"cluster 3\",\"marker\":{\"color\":\"#FFA15A\",\"symbol\":\"circle\"},\"mode\":\"markers+text\",\"name\":\"cluster 3\",\"scene\":\"scene\",\"showlegend\":true,\"text\":[\"world\",\"posting\",\"writes\",\"article\",\"years\",\"made\",\"fact\",\"time\",\"people\",\"windows\",\"true\",\"jews\",\"space\",\"source\"],\"x\":[8.032173156738281,7.903219223022461,8.000855445861816,7.86470365524292,7.8595075607299805,7.6739726066589355,7.90125846862793,8.024408340454102,8.058390617370605,7.6273579597473145,7.640826225280762,7.472312927246094,7.713271141052246,7.7651262283325195],\"y\":[5.688081741333008,5.457880020141602,5.791526794433594,5.337452411651611,5.874715805053711,4.9926252365112305,5.3767924308776855,5.7191267013549805,5.6358113288879395,5.529809474945068,5.091884613037109,4.846992492675781,5.678541660308838,5.59420919418335],\"z\":[5.284969806671143,5.072250843048096,5.278759479522705,5.2577643394470215,5.083245754241943,5.032470703125,5.353492736816406,5.182548999786377,5.183953762054443,5.603583335876465,5.431005001068115,5.249223709106445,4.836570739746094,5.234716892242432],\"type\":\"scatter3d\"},{\"hovertemplate\":\"cluster=cluster 9<br>x=%{x}<br>y=%{y}<br>z=%{z}<br>word=%{text}<extra></extra>\",\"legendgroup\":\"cluster 9\",\"marker\":{\"color\":\"#19d3f3\",\"symbol\":\"circle\"},\"mode\":\"markers+text\",\"name\":\"cluster 9\",\"scene\":\"scene\",\"showlegend\":true,\"text\":[\"reply\",\"host\",\"keywords\",\"means\",\"place\",\"university\",\"car\",\"rate\",\"group\",\"drive\",\"work\",\"ago\",\"number\",\"high\",\"mine\",\"final\",\"cs\",\"called\",\"ca\",\"apr\",\"memory\",\"software\",\"guess\",\"national\",\"hard\",\"bit\",\"code\",\"thought\",\"results\",\"nasa\",\"board\",\"bill\"],\"x\":[7.379900932312012,6.340858459472656,5.638498783111572,6.371338844299316,4.746415615081787,7.476143836975098,6.465220928192139,6.046163082122803,5.578270435333252,6.333282947540283,6.352420330047607,5.252897262573242,6.510489463806152,6.977815628051758,5.732815265655518,6.946593761444092,6.560426712036133,5.974473476409912,7.056804180145264,6.191469192504883,6.452490329742432,6.501681804656982,5.89018440246582,6.656693935394287,7.421351432800293,5.902549743652344,6.451693058013916,5.504990100860596,5.906639575958252,6.808015823364258,6.350124359130859,5.31411075592041],\"y\":[4.707657337188721,4.414073467254639,4.2305073738098145,4.487598419189453,4.110141754150391,4.778368949890137,5.652318000793457,4.709706783294678,4.540753364562988,5.585488319396973,4.382626533508301,5.046862602233887,4.422126293182373,4.970852375030518,4.827236175537109,4.681119918823242,4.697380065917969,4.773982524871826,4.819716930389404,4.520103931427002,4.51576566696167,4.7368083000183105,3.9923148155212402,5.387548446655273,5.284191131591797,4.063531875610352,4.719088554382324,4.284816741943359,5.116601467132568,4.911086082458496,4.3747172355651855,4.421030044555664],\"z\":[5.033426284790039,4.215657711029053,4.638385772705078,4.622289180755615,4.598240375518799,5.047924995422363,6.26081657409668,4.22553014755249,4.427131175994873,4.615509510040283,4.879936218261719,4.635223388671875,5.173336982727051,5.758484363555908,3.851576328277588,4.6073527336120605,4.115167617797852,4.670176982879639,4.616036891937256,4.183062553405762,4.136821269989014,4.359780788421631,5.780739784240723,4.483667373657227,4.537935256958008,6.098432540893555,4.336424827575684,4.742480278015137,4.812438488006592,4.592846393585205,4.188080787658691,4.285938262939453],\"type\":\"scatter3d\"},{\"hovertemplate\":\"cluster=cluster 5<br>x=%{x}<br>y=%{y}<br>z=%{z}<br>word=%{text}<extra></extra>\",\"legendgroup\":\"cluster 5\",\"marker\":{\"color\":\"#FF6692\",\"symbol\":\"circle\"},\"mode\":\"markers+text\",\"name\":\"cluster 5\",\"scene\":\"scene\",\"showlegend\":true,\"text\":[\"nntp\",\"technology\",\"data\",\"year\",\"asked\",\"important\",\"information\",\"post\",\"find\",\"end\",\"great\",\"point\",\"things\",\"science\",\"talking\",\"long\",\"left\",\"life\",\"current\",\"religion\",\"part\",\"control\",\"question\",\"image\",\"list\",\"remember\",\"god\",\"big\",\"including\",\"wrote\",\"population\"],\"x\":[7.33861780166626,7.049481391906738,7.414567947387695,7.160912990570068,6.784856796264648,6.522265911102295,6.751252174377441,6.535055637359619,6.591277122497559,7.483939170837402,7.334224224090576,7.589229583740234,7.580103397369385,6.925722122192383,5.9800286293029785,7.497585773468018,7.421070575714111,6.68984317779541,6.407999038696289,7.150926113128662,6.567727088928223,7.2892560958862305,6.689437389373779,7.380339622497559,7.613916397094727,6.486186504364014,7.245113372802734,7.270021438598633,5.3192973136901855,6.938112258911133,6.73785924911499],\"y\":[5.693100452423096,5.179553508758545,5.7635817527771,5.460089683532715,5.503145217895508,5.67254114151001,5.3669538497924805,5.780613899230957,5.473165035247803,5.785776138305664,5.815505504608154,5.832364082336426,5.575146198272705,5.546481132507324,5.237011432647705,5.60788106918335,5.063031196594238,5.621622085571289,5.700864315032959,5.859948635101318,5.741399765014648,5.6513285636901855,5.872603416442871,5.684679985046387,5.923895359039307,5.676182746887207,5.605772018432617,5.051036357879639,5.715893268585205,5.633762359619141,5.716864585876465],\"z\":[4.4066386222839355,4.674367904663086,4.631540775299072,4.964790344238281,5.218618392944336,4.637867450714111,5.010246276855469,4.673671245574951,5.512081623077393,4.911741733551025,4.956924915313721,4.668795585632324,4.7276129722595215,5.685481071472168,4.8024091720581055,4.682485103607178,5.4996209144592285,5.4655866622924805,6.402961254119873,4.783108711242676,4.698328018188477,4.396807670593262,4.812605381011963,4.4977827072143555,4.878787517547607,6.380675792694092,5.682998180389404,5.484492778778076,4.703045845031738,5.731495380401611,5.072359085083008],\"type\":\"scatter3d\"},{\"hovertemplate\":\"cluster=cluster 2<br>x=%{x}<br>y=%{y}<br>z=%{z}<br>word=%{text}<extra></extra>\",\"legendgroup\":\"cluster 2\",\"marker\":{\"color\":\"#B6E880\",\"symbol\":\"circle\"},\"mode\":\"markers+text\",\"name\":\"cluster 2\",\"scene\":\"scene\",\"showlegend\":true,\"text\":[\"newsreader\",\"uk\",\"reason\",\"internet\",\"research\",\"de\",\"company\",\"steve\",\"cost\",\"live\",\"stop\",\"law\",\"experience\",\"money\",\"top\",\"sense\",\"real\",\"california\",\"small\",\"robert\",\"found\",\"minutes\",\"due\",\"toronto\",\"side\",\"hp\",\"show\",\"washington\",\"person\",\"sound\",\"address\",\"agree\",\"hardware\",\"note\",\"service\",\"gov\",\"friend\",\"worse\",\"disk\",\"gun\",\"ms\"],\"x\":[5.048664569854736,4.234914779663086,5.190307140350342,3.951477289199829,5.091111183166504,4.5503830909729,4.881501197814941,4.81925106048584,4.3140668869018555,5.092474460601807,3.7450826168060303,4.344269752502441,3.1784579753875732,4.987586498260498,2.529388904571533,3.964063882827759,4.934726715087891,4.548288822174072,4.838111400604248,3.0155560970306396,4.2467851638793945,4.273129940032959,4.88383150100708,4.38015079498291,4.354709625244141,2.7558860778808594,4.511059284210205,4.985591411590576,4.051737308502197,4.761328220367432,4.887808322906494,4.442854404449463,4.477107524871826,5.029910564422607,3.090327739715576,5.087833404541016,3.6860344409942627,3.0232019424438477,2.357461452484131,4.821937084197998,3.0913796424865723],\"y\":[4.653267860412598,4.648969650268555,5.864468097686768,4.791158199310303,5.161431789398193,5.298758506774902,5.345022678375244,5.336906433105469,5.912991523742676,5.239788055419922,5.539622783660889,5.794401168823242,3.980611801147461,4.816117286682129,4.516279697418213,4.926246643066406,5.208335876464844,5.18954610824585,5.247832775115967,4.493853569030762,5.7861552238464355,5.121431827545166,5.876314163208008,5.674576759338379,5.822831153869629,4.326515197753906,5.6600518226623535,5.280807018280029,5.755667209625244,4.59845495223999,4.894654273986816,5.781720161437988,5.39689826965332,5.1277031898498535,4.356252670288086,5.131202220916748,5.064948081970215,4.375765323638916,4.413841724395752,5.307013988494873,4.495824813842773],\"z\":[4.0908637046813965,5.510766983032227,6.479665279388428,4.7603230476379395,3.8430099487304688,4.361690044403076,4.19791841506958,5.265938758850098,5.401329517364502,4.374093055725098,5.883647918701172,5.196117877960205,6.114684581756592,5.656545639038086,4.9964518547058105,5.680118560791016,4.533424377441406,5.492525577545166,4.027361869812012,5.3744401931762695,5.364295959472656,4.483996391296387,6.4170637130737305,5.412651538848877,5.266988277435303,4.970926761627197,5.969869613647461,4.029091835021973,5.326979160308838,5.306722164154053,5.567745208740234,5.360467433929443,5.410031318664551,3.916680097579956,5.647586822509766,4.626883029937744,5.396475315093994,5.752933979034424,6.207677841186523,4.590076923370361,5.458240985870361],\"type\":\"scatter3d\"},{\"hovertemplate\":\"cluster=cluster 0<br>x=%{x}<br>y=%{y}<br>z=%{z}<br>word=%{text}<extra></extra>\",\"legendgroup\":\"cluster 0\",\"marker\":{\"color\":\"#FF97FF\",\"symbol\":\"circle\"},\"mode\":\"markers+text\",\"name\":\"cluster 0\",\"scene\":\"scene\",\"showlegend\":true,\"text\":[\"computer\",\"read\",\"close\",\"james\",\"speed\",\"make\",\"guy\",\"email\",\"bad\",\"government\",\"problem\",\"sun\",\"fax\",\"machine\",\"lot\",\"bible\",\"ram\",\"hear\"],\"x\":[6.1643524169921875,6.013073921203613,5.979651927947998,5.39528751373291,6.4035162925720215,6.977367877960205,6.376168727874756,6.19304895401001,5.76038932800293,7.266847133636475,6.292636394500732,6.452600002288818,5.816102027893066,4.920494556427002,7.511359214782715,5.903343677520752,6.449553489685059,5.858457565307617],\"y\":[5.397727966308594,5.387115001678467,5.175352096557617,5.752492427825928,5.889806270599365,5.152249813079834,5.695148468017578,5.562686443328857,4.893819332122803,5.230411529541016,5.52002477645874,5.8784332275390625,5.4195756912231445,5.387780666351318,5.366347312927246,5.599588394165039,5.05470609664917,4.909600257873535],\"z\":[5.419569492340088,5.566298961639404,5.406605243682861,5.424001216888428,5.052485942840576,5.618083477020264,5.541311264038086,5.204173564910889,4.994635105133057,5.664237022399902,5.4288177490234375,5.173315048217773,5.26426887512207,5.056278228759766,5.450894832611084,5.300046443939209,6.043898582458496,5.603414535522461],\"type\":\"scatter3d\"},{\"hovertemplate\":\"cluster=cluster 4<br>x=%{x}<br>y=%{y}<br>z=%{z}<br>word=%{text}<extra></extra>\",\"legendgroup\":\"cluster 4\",\"marker\":{\"color\":\"#FECB52\",\"symbol\":\"circle\"},\"mode\":\"markers+text\",\"name\":\"cluster 4\",\"scene\":\"scene\",\"showlegend\":true,\"text\":[\"posted\",\"hell\",\"change\",\"book\",\"pretty\",\"thinking\",\"institute\",\"date\",\"price\",\"takes\",\"hold\",\"interest\",\"college\",\"wanted\",\"written\",\"told\",\"job\",\"display\",\"advance\",\"assuming\",\"early\",\"pc\",\"school\",\"class\",\"copy\",\"support\",\"exists\",\"set\",\"type\",\"questions\",\"canada\",\"references\",\"simply\",\"folks\",\"dod\",\"start\",\"worth\",\"receive\",\"department\",\"figure\",\"gas\",\"effect\",\"texas\",\"numbers\",\"making\",\"order\",\"home\"],\"x\":[2.1276254653930664,2.0281052589416504,1.853589653968811,2.2892370223999023,2.123074769973755,1.5674742460250854,1.976935625076294,1.9664676189422607,1.7588398456573486,1.8968911170959473,2.097412109375,2.1529288291931152,2.30279541015625,1.6110620498657227,2.8456554412841797,1.9588714838027954,2.082069158554077,1.3937972784042358,2.019315719604492,1.599946141242981,1.630306601524353,1.5931984186172485,1.519384741783142,1.9888076782226562,1.5378788709640503,2.2423529624938965,1.995993733406067,1.7447620630264282,2.048487424850464,2.002285957336426,1.4243241548538208,2.102722406387329,1.641954779624939,1.7367827892303467,2.496368169784546,2.2280006408691406,1.5418765544891357,1.7563999891281128,1.5732388496398926,2.1254379749298096,1.527387261390686,2.0041990280151367,2.0321433544158936,2.5806727409362793,2.0924766063690186,1.8493269681930542,2.314450263977051],\"y\":[4.903343677520752,4.637268543243408,3.348651170730591,4.483341217041016,4.732213973999023,3.972954273223877,3.603746175765991,3.1839466094970703,4.701079845428467,4.42622709274292,4.102046489715576,4.254203796386719,3.4285571575164795,3.781696081161499,2.9841349124908447,3.203871488571167,3.928495407104492,3.8093950748443604,3.817993402481079,3.4182353019714355,4.477666854858398,4.2169084548950195,4.336122989654541,3.086679697036743,3.600273847579956,4.481765270233154,4.439748287200928,3.225611925125122,4.0092878341674805,4.244988918304443,3.600691080093384,3.805191993713379,3.883013963699341,4.536649703979492,4.378668308258057,4.38618803024292,3.6244471073150635,3.7874577045440674,4.413585186004639,3.157010078430176,3.427293539047241,4.845545291900635,3.576392889022827,5.026881694793701,4.526259899139404,3.232074737548828,4.418878078460693],\"z\":[5.5363945960998535,5.487343788146973,5.566276550292969,5.20611572265625,5.628168106079102,5.120020866394043,5.698887348175049,5.577597141265869,5.461977005004883,6.088343143463135,5.091805934906006,4.990175724029541,5.5289387702941895,5.804739952087402,5.636821746826172,5.595998764038086,6.282631874084473,5.886190414428711,5.299217700958252,5.668398857116699,5.36251974105835,5.761863708496094,5.6991472244262695,5.356710910797119,6.172487258911133,5.101344585418701,5.972011566162109,5.409286975860596,5.222810745239258,6.266154766082764,5.477856636047363,5.5803303718566895,5.169971466064453,5.742316246032715,5.0251946449279785,6.029629707336426,5.3894524574279785,5.086881160736084,5.376359462738037,5.233709335327148,5.673861026763916,5.4592061042785645,6.6591033935546875,5.583843231201172,5.789035797119141,5.35441255569458,5.6782402992248535],\"type\":\"scatter3d\"}],                        {\"template\":{\"data\":{\"histogram2dcontour\":[{\"type\":\"histogram2dcontour\",\"colorbar\":{\"outlinewidth\":0,\"ticks\":\"\"},\"colorscale\":[[0.0,\"#0d0887\"],[0.1111111111111111,\"#46039f\"],[0.2222222222222222,\"#7201a8\"],[0.3333333333333333,\"#9c179e\"],[0.4444444444444444,\"#bd3786\"],[0.5555555555555556,\"#d8576b\"],[0.6666666666666666,\"#ed7953\"],[0.7777777777777778,\"#fb9f3a\"],[0.8888888888888888,\"#fdca26\"],[1.0,\"#f0f921\"]]}],\"choropleth\":[{\"type\":\"choropleth\",\"colorbar\":{\"outlinewidth\":0,\"ticks\":\"\"}}],\"histogram2d\":[{\"type\":\"histogram2d\",\"colorbar\":{\"outlinewidth\":0,\"ticks\":\"\"},\"colorscale\":[[0.0,\"#0d0887\"],[0.1111111111111111,\"#46039f\"],[0.2222222222222222,\"#7201a8\"],[0.3333333333333333,\"#9c179e\"],[0.4444444444444444,\"#bd3786\"],[0.5555555555555556,\"#d8576b\"],[0.6666666666666666,\"#ed7953\"],[0.7777777777777778,\"#fb9f3a\"],[0.8888888888888888,\"#fdca26\"],[1.0,\"#f0f921\"]]}],\"heatmap\":[{\"type\":\"heatmap\",\"colorbar\":{\"outlinewidth\":0,\"ticks\":\"\"},\"colorscale\":[[0.0,\"#0d0887\"],[0.1111111111111111,\"#46039f\"],[0.2222222222222222,\"#7201a8\"],[0.3333333333333333,\"#9c179e\"],[0.4444444444444444,\"#bd3786\"],[0.5555555555555556,\"#d8576b\"],[0.6666666666666666,\"#ed7953\"],[0.7777777777777778,\"#fb9f3a\"],[0.8888888888888888,\"#fdca26\"],[1.0,\"#f0f921\"]]}],\"heatmapgl\":[{\"type\":\"heatmapgl\",\"colorbar\":{\"outlinewidth\":0,\"ticks\":\"\"},\"colorscale\":[[0.0,\"#0d0887\"],[0.1111111111111111,\"#46039f\"],[0.2222222222222222,\"#7201a8\"],[0.3333333333333333,\"#9c179e\"],[0.4444444444444444,\"#bd3786\"],[0.5555555555555556,\"#d8576b\"],[0.6666666666666666,\"#ed7953\"],[0.7777777777777778,\"#fb9f3a\"],[0.8888888888888888,\"#fdca26\"],[1.0,\"#f0f921\"]]}],\"contourcarpet\":[{\"type\":\"contourcarpet\",\"colorbar\":{\"outlinewidth\":0,\"ticks\":\"\"}}],\"contour\":[{\"type\":\"contour\",\"colorbar\":{\"outlinewidth\":0,\"ticks\":\"\"},\"colorscale\":[[0.0,\"#0d0887\"],[0.1111111111111111,\"#46039f\"],[0.2222222222222222,\"#7201a8\"],[0.3333333333333333,\"#9c179e\"],[0.4444444444444444,\"#bd3786\"],[0.5555555555555556,\"#d8576b\"],[0.6666666666666666,\"#ed7953\"],[0.7777777777777778,\"#fb9f3a\"],[0.8888888888888888,\"#fdca26\"],[1.0,\"#f0f921\"]]}],\"surface\":[{\"type\":\"surface\",\"colorbar\":{\"outlinewidth\":0,\"ticks\":\"\"},\"colorscale\":[[0.0,\"#0d0887\"],[0.1111111111111111,\"#46039f\"],[0.2222222222222222,\"#7201a8\"],[0.3333333333333333,\"#9c179e\"],[0.4444444444444444,\"#bd3786\"],[0.5555555555555556,\"#d8576b\"],[0.6666666666666666,\"#ed7953\"],[0.7777777777777778,\"#fb9f3a\"],[0.8888888888888888,\"#fdca26\"],[1.0,\"#f0f921\"]]}],\"mesh3d\":[{\"type\":\"mesh3d\",\"colorbar\":{\"outlinewidth\":0,\"ticks\":\"\"}}],\"scatter\":[{\"fillpattern\":{\"fillmode\":\"overlay\",\"size\":10,\"solidity\":0.2},\"type\":\"scatter\"}],\"parcoords\":[{\"type\":\"parcoords\",\"line\":{\"colorbar\":{\"outlinewidth\":0,\"ticks\":\"\"}}}],\"scatterpolargl\":[{\"type\":\"scatterpolargl\",\"marker\":{\"colorbar\":{\"outlinewidth\":0,\"ticks\":\"\"}}}],\"bar\":[{\"error_x\":{\"color\":\"#2a3f5f\"},\"error_y\":{\"color\":\"#2a3f5f\"},\"marker\":{\"line\":{\"color\":\"#E5ECF6\",\"width\":0.5},\"pattern\":{\"fillmode\":\"overlay\",\"size\":10,\"solidity\":0.2}},\"type\":\"bar\"}],\"scattergeo\":[{\"type\":\"scattergeo\",\"marker\":{\"colorbar\":{\"outlinewidth\":0,\"ticks\":\"\"}}}],\"scatterpolar\":[{\"type\":\"scatterpolar\",\"marker\":{\"colorbar\":{\"outlinewidth\":0,\"ticks\":\"\"}}}],\"histogram\":[{\"marker\":{\"pattern\":{\"fillmode\":\"overlay\",\"size\":10,\"solidity\":0.2}},\"type\":\"histogram\"}],\"scattergl\":[{\"type\":\"scattergl\",\"marker\":{\"colorbar\":{\"outlinewidth\":0,\"ticks\":\"\"}}}],\"scatter3d\":[{\"type\":\"scatter3d\",\"line\":{\"colorbar\":{\"outlinewidth\":0,\"ticks\":\"\"}},\"marker\":{\"colorbar\":{\"outlinewidth\":0,\"ticks\":\"\"}}}],\"scattermapbox\":[{\"type\":\"scattermapbox\",\"marker\":{\"colorbar\":{\"outlinewidth\":0,\"ticks\":\"\"}}}],\"scatterternary\":[{\"type\":\"scatterternary\",\"marker\":{\"colorbar\":{\"outlinewidth\":0,\"ticks\":\"\"}}}],\"scattercarpet\":[{\"type\":\"scattercarpet\",\"marker\":{\"colorbar\":{\"outlinewidth\":0,\"ticks\":\"\"}}}],\"carpet\":[{\"aaxis\":{\"endlinecolor\":\"#2a3f5f\",\"gridcolor\":\"white\",\"linecolor\":\"white\",\"minorgridcolor\":\"white\",\"startlinecolor\":\"#2a3f5f\"},\"baxis\":{\"endlinecolor\":\"#2a3f5f\",\"gridcolor\":\"white\",\"linecolor\":\"white\",\"minorgridcolor\":\"white\",\"startlinecolor\":\"#2a3f5f\"},\"type\":\"carpet\"}],\"table\":[{\"cells\":{\"fill\":{\"color\":\"#EBF0F8\"},\"line\":{\"color\":\"white\"}},\"header\":{\"fill\":{\"color\":\"#C8D4E3\"},\"line\":{\"color\":\"white\"}},\"type\":\"table\"}],\"barpolar\":[{\"marker\":{\"line\":{\"color\":\"#E5ECF6\",\"width\":0.5},\"pattern\":{\"fillmode\":\"overlay\",\"size\":10,\"solidity\":0.2}},\"type\":\"barpolar\"}],\"pie\":[{\"automargin\":true,\"type\":\"pie\"}]},\"layout\":{\"autotypenumbers\":\"strict\",\"colorway\":[\"#636efa\",\"#EF553B\",\"#00cc96\",\"#ab63fa\",\"#FFA15A\",\"#19d3f3\",\"#FF6692\",\"#B6E880\",\"#FF97FF\",\"#FECB52\"],\"font\":{\"color\":\"#2a3f5f\"},\"hovermode\":\"closest\",\"hoverlabel\":{\"align\":\"left\"},\"paper_bgcolor\":\"white\",\"plot_bgcolor\":\"#E5ECF6\",\"polar\":{\"bgcolor\":\"#E5ECF6\",\"angularaxis\":{\"gridcolor\":\"white\",\"linecolor\":\"white\",\"ticks\":\"\"},\"radialaxis\":{\"gridcolor\":\"white\",\"linecolor\":\"white\",\"ticks\":\"\"}},\"ternary\":{\"bgcolor\":\"#E5ECF6\",\"aaxis\":{\"gridcolor\":\"white\",\"linecolor\":\"white\",\"ticks\":\"\"},\"baxis\":{\"gridcolor\":\"white\",\"linecolor\":\"white\",\"ticks\":\"\"},\"caxis\":{\"gridcolor\":\"white\",\"linecolor\":\"white\",\"ticks\":\"\"}},\"coloraxis\":{\"colorbar\":{\"outlinewidth\":0,\"ticks\":\"\"}},\"colorscale\":{\"sequential\":[[0.0,\"#0d0887\"],[0.1111111111111111,\"#46039f\"],[0.2222222222222222,\"#7201a8\"],[0.3333333333333333,\"#9c179e\"],[0.4444444444444444,\"#bd3786\"],[0.5555555555555556,\"#d8576b\"],[0.6666666666666666,\"#ed7953\"],[0.7777777777777778,\"#fb9f3a\"],[0.8888888888888888,\"#fdca26\"],[1.0,\"#f0f921\"]],\"sequentialminus\":[[0.0,\"#0d0887\"],[0.1111111111111111,\"#46039f\"],[0.2222222222222222,\"#7201a8\"],[0.3333333333333333,\"#9c179e\"],[0.4444444444444444,\"#bd3786\"],[0.5555555555555556,\"#d8576b\"],[0.6666666666666666,\"#ed7953\"],[0.7777777777777778,\"#fb9f3a\"],[0.8888888888888888,\"#fdca26\"],[1.0,\"#f0f921\"]],\"diverging\":[[0,\"#8e0152\"],[0.1,\"#c51b7d\"],[0.2,\"#de77ae\"],[0.3,\"#f1b6da\"],[0.4,\"#fde0ef\"],[0.5,\"#f7f7f7\"],[0.6,\"#e6f5d0\"],[0.7,\"#b8e186\"],[0.8,\"#7fbc41\"],[0.9,\"#4d9221\"],[1,\"#276419\"]]},\"xaxis\":{\"gridcolor\":\"white\",\"linecolor\":\"white\",\"ticks\":\"\",\"title\":{\"standoff\":15},\"zerolinecolor\":\"white\",\"automargin\":true,\"zerolinewidth\":2},\"yaxis\":{\"gridcolor\":\"white\",\"linecolor\":\"white\",\"ticks\":\"\",\"title\":{\"standoff\":15},\"zerolinecolor\":\"white\",\"automargin\":true,\"zerolinewidth\":2},\"scene\":{\"xaxis\":{\"backgroundcolor\":\"#E5ECF6\",\"gridcolor\":\"white\",\"linecolor\":\"white\",\"showbackground\":true,\"ticks\":\"\",\"zerolinecolor\":\"white\",\"gridwidth\":2},\"yaxis\":{\"backgroundcolor\":\"#E5ECF6\",\"gridcolor\":\"white\",\"linecolor\":\"white\",\"showbackground\":true,\"ticks\":\"\",\"zerolinecolor\":\"white\",\"gridwidth\":2},\"zaxis\":{\"backgroundcolor\":\"#E5ECF6\",\"gridcolor\":\"white\",\"linecolor\":\"white\",\"showbackground\":true,\"ticks\":\"\",\"zerolinecolor\":\"white\",\"gridwidth\":2}},\"shapedefaults\":{\"line\":{\"color\":\"#2a3f5f\"}},\"annotationdefaults\":{\"arrowcolor\":\"#2a3f5f\",\"arrowhead\":0,\"arrowwidth\":1},\"geo\":{\"bgcolor\":\"white\",\"landcolor\":\"#E5ECF6\",\"subunitcolor\":\"white\",\"showland\":true,\"showlakes\":true,\"lakecolor\":\"white\"},\"title\":{\"x\":0.05},\"mapbox\":{\"style\":\"light\"}}},\"scene\":{\"domain\":{\"x\":[0.0,1.0],\"y\":[0.0,1.0]},\"xaxis\":{\"title\":{\"text\":\"x\"}},\"yaxis\":{\"title\":{\"text\":\"y\"}},\"zaxis\":{\"title\":{\"text\":\"z\"}}},\"legend\":{\"title\":{\"text\":\"cluster\"},\"tracegroupgap\":0},\"title\":{\"text\":\"word-embedding-samples\"}},                        {\"responsive\": true}                    ).then(function(){\n",
              "                            \n",
              "var gd = document.getElementById('f377426e-d228-4e88-8afc-e30032ea7bfe');\n",
              "var x = new MutationObserver(function (mutations, observer) {{\n",
              "        var display = window.getComputedStyle(gd).display;\n",
              "        if (!display || display === 'none') {{\n",
              "            console.log([gd, 'removed!']);\n",
              "            Plotly.purge(gd);\n",
              "            observer.disconnect();\n",
              "        }}\n",
              "}});\n",
              "\n",
              "// Listen for the removal of the full notebook cells\n",
              "var notebookContainer = gd.closest('#notebook-container');\n",
              "if (notebookContainer) {{\n",
              "    x.observe(notebookContainer, {childList: true});\n",
              "}}\n",
              "\n",
              "// Listen for the clearing of the current output cell\n",
              "var outputEl = gd.closest('.output');\n",
              "if (outputEl) {{\n",
              "    x.observe(outputEl, {childList: true});\n",
              "}}\n",
              "\n",
              "                        })                };                            </script>        </div>\n",
              "</body>\n",
              "</html>"
            ]
          },
          "metadata": {}
        }
      ]
    }
  ]
}