{
  "nbformat": 4,
  "nbformat_minor": 0,
  "metadata": {
    "colab": {
      "name": "notebook_replication.ipynb",
      "provenance": [],
      "collapsed_sections": [],
      "include_colab_link": true
    },
    "kernelspec": {
      "name": "python3",
      "display_name": "Python 3"
    },
    "language_info": {
      "name": "python"
    }
  },
  "cells": [
    {
      "cell_type": "markdown",
      "metadata": {
        "id": "view-in-github",
        "colab_type": "text"
      },
      "source": [
        "<a href=\"https://colab.research.google.com/github/hanhluukim/replication-topic-modelling-in-embedding-space/blob/main/notebook_replication.ipynb\" target=\"_parent\"><img src=\"https://colab.research.google.com/assets/colab-badge.svg\" alt=\"Open In Colab\"/></a>"
      ]
    },
    {
      "cell_type": "code",
      "execution_count": 8,
      "metadata": {
        "id": "riOxinNHJcIB"
      },
      "outputs": [],
      "source": [
        "#wenn die Ordner noch nicht geklont ist, soll dieser Fehler zuerst durchgeführt werden.\n",
        "#!git clone https://github.com/hanhluukim/replication-topic-modelling-in-embedding-space.git"
      ]
    },
    {
      "cell_type": "code",
      "source": [
        "cd /content/replication-topic-modelling-in-embedding-space"
      ],
      "metadata": {
        "colab": {
          "base_uri": "https://localhost:8080/"
        },
        "id": "B_6em-5qJg5e",
        "outputId": "581df0c6-a5b8-432e-a60f-74ffb9ac0083"
      },
      "execution_count": 9,
      "outputs": [
        {
          "output_type": "stream",
          "name": "stdout",
          "text": [
            "/content/replication-topic-modelling-in-embedding-space\n"
          ]
        }
      ]
    },
    {
      "cell_type": "code",
      "source": [
        "# Falls die Packages noch nicht installiert wurden, \n",
        "#!pip install -r \"/content/replication-topic-modelling-in-embedding-space/requirements.txt\""
      ],
      "metadata": {
        "id": "YcBay625sD5D"
      },
      "execution_count": 10,
      "outputs": []
    },
    {
      "cell_type": "markdown",
      "source": [
        "# **Datensatz, Vorverarbeitung und BOW-Repräsentationen**\n",
        "1. Vocabular erstellen\n",
        "2. BOW-Repräsentationen für allen Teildatensätzen"
      ],
      "metadata": {
        "id": "QzWqQhPQdJWV"
      }
    },
    {
      "cell_type": "code",
      "source": [
        "from src.preprare_dataset import TextDataLoader\n",
        "import pandas as pd"
      ],
      "metadata": {
        "id": "1OCULr82pfgk"
      },
      "execution_count": 11,
      "outputs": []
    },
    {
      "cell_type": "code",
      "source": [
        "# init TextDataLoader für die Datenquelle 20 News Groups\n",
        "# Daten abrufen vom Sklearn, tokenisieren und besondere Charaktern entfernen\n",
        "textsloader = TextDataLoader(source=\"20newsgroups\", train_size=None, test_size=None)\n",
        "textsloader.load_tokenize_texts(\"20newsgroups\")"
      ],
      "metadata": {
        "id": "cy0PpjxEpbrR",
        "colab": {
          "base_uri": "https://localhost:8080/"
        },
        "outputId": "686b4a46-7b52-4a55-f895-0b04d70f5171"
      },
      "execution_count": 12,
      "outputs": [
        {
          "output_type": "stream",
          "name": "stdout",
          "text": [
            "loading texts: ...\n",
            "finished load!\n"
          ]
        }
      ]
    },
    {
      "cell_type": "code",
      "source": [
        "# Beispiel von Textdaten\n",
        "textsloader.show_example_raw_texts(n_docs=2)"
      ],
      "metadata": {
        "colab": {
          "base_uri": "https://localhost:8080/"
        },
        "id": "yHrl1vpZqAtL",
        "outputId": "260fbfb6-182f-4bd8-c879-9f706319978d"
      },
      "execution_count": 13,
      "outputs": [
        {
          "output_type": "stream",
          "name": "stdout",
          "text": [
            "check some sample texts of the dataset\n",
            "['From', ':', 'lerxst', '@', 'wam', '.', 'umd', '.', 'edu', '(', \"where's\", 'my', 'thing', ')', 'Subject', ':', 'WHAT', 'car', 'is', 'this', '!', '?', 'Nntp', 'Posting', 'Host', ':', 'rac3', '.', 'wam', '.', 'umd', '.', 'edu', 'Organization', ':', 'University', 'of', 'Maryland', ',', 'College', 'Park', 'Lines', ':', '15', 'I', 'was', 'wondering', 'if', 'anyone', 'out', 'there', 'could', 'enlighten', 'me', 'on', 'this', 'car', 'I', 'saw', 'the', 'other', 'day', '.', 'It', 'was', 'a', '2', 'door', 'sports', 'car', ',', 'looked', 'to', 'be', 'from', 'the', 'late', '60s', '/', 'early', '70s', '.', 'It', 'was', 'called', 'a', 'Bricklin', '.', 'The', 'doors', 'were', 'really', 'small', '.', 'In', 'addition', ',', 'the', 'front', 'bumper', 'was', 'separate', 'from', 'the', 'rest', 'of', 'the', 'body', '.', 'This', 'is', 'all', 'I', 'know', '.', 'If', 'anyone', 'can', 'tellme', 'a', 'model', 'name', ',', 'engine', 'specs', ',', 'years', 'of', 'production', ',', 'where', 'this', 'car', 'is', 'made', ',', 'history', ',', 'or', 'whatever', 'info', 'you', 'have', 'on', 'this', 'funky', 'looking', 'car', ',', 'please', 'e', 'mail', '.', 'Thanks', ',', 'IL', 'brought', 'to', 'you', 'by', 'your', 'neighborhood', 'Lerxst']\n",
            "====================================================================================================\n",
            "['From', ':', 'guykuo', '@', 'carson', '.', 'u', '.', 'washington', '.', 'edu', '(', 'Guy', 'Kuo', ')', 'Subject', ':', 'SI', 'Clock', 'Poll', 'Final', 'Call', 'Summary', ':', 'Final', 'call', 'for', 'SI', 'clock', 'reports', 'Keywords', ':', 'SI', ',', 'acceleration', ',', 'clock', ',', 'upgrade', 'Article', 'I', '.', 'D', '.', ':', 'shelley', '.', '1qvfo9INNc3s', 'Organization', ':', 'University', 'of', 'Washington', 'Lines', ':', '11', 'NNTP', 'Posting', 'Host', ':', 'carson', '.', 'u', '.', 'washington', '.', 'edu', 'A', 'fair', 'number', 'of', 'brave', 'souls', 'who', 'upgraded', 'their', 'SI', 'clock', 'oscillator', 'have', 'shared', 'their', 'experiences', 'for', 'this', 'poll', '.', 'Please', 'send', 'a', 'brief', 'message', 'detailing', 'your', 'experiences', 'with', 'the', 'procedure', '.', 'Top', 'speed', 'attained', ',', 'CPU', 'rated', 'speed', ',', 'add', 'on', 'cards', 'and', 'adapters', ',', 'heat', 'sinks', ',', 'hour', 'of', 'usage', 'per', 'day', ',', 'floppy', 'disk', 'functionality', 'with', '800', 'and', '1', '.', '4', 'm', 'floppies', 'are', 'especially', 'requested', '.', 'I', 'will', 'be', 'summarizing', 'in', 'the', 'next', 'two', 'days', ',', 'so', 'please', 'add', 'to', 'the', 'network', 'knowledge', 'base', 'if', 'you', 'have', 'done', 'the', 'clock', 'upgrade', 'and', \"haven't\", 'answered', 'this', 'poll', '.', 'Thanks', '.', 'Guy', 'Kuo', '<', 'guykuo', '@', 'u', '.', 'washington', '.', 'edu', '>']\n",
            "====================================================================================================\n"
          ]
        }
      ]
    },
    {
      "cell_type": "code",
      "source": [
        "# Vorverarbeitung von Daten mit folgenden Schritten:\n",
        "textsloader.preprocess_texts(length_one_remove=True, punctuation_lower = True, stopwords_filter = True)"
      ],
      "metadata": {
        "colab": {
          "base_uri": "https://localhost:8080/"
        },
        "id": "5odpQDJ7qPTt",
        "outputId": "c9101994-daa7-49c1-eca0-0aa5991b7274"
      },
      "execution_count": 14,
      "outputs": [
        {
          "output_type": "stream",
          "name": "stdout",
          "text": [
            "start: preprocessing: ...\n",
            "finised: preprocessing!\n"
          ]
        }
      ]
    },
    {
      "cell_type": "code",
      "source": [
        "# Daten zerlegen für Train, Test und Validation. Erstellen Vocabular aus dem Trainset\n",
        "textsloader.split_and_create_voca_from_trainset(max_df=0.7, min_df=10, stopwords_remove_from_voca=True)"
      ],
      "metadata": {
        "colab": {
          "base_uri": "https://localhost:8080/"
        },
        "id": "PRRCNPa9qXfq",
        "outputId": "53e53550-3138-4a01-c075-891f7d39f7c1"
      },
      "execution_count": 15,
      "outputs": [
        {
          "output_type": "stream",
          "name": "stdout",
          "text": [
            "permuted indices for the train set: [ 99 138  28 104  55 235 126 223  72  82 105 230 192 145  39]\n",
            "start creating vocabulary ...\n",
            "length of the vocabulary: 348\n",
            "sample ten words of the vocabulary: ['tin', 'center', 'put', 'free', 'years', 'part', 'laboratory', 'set', 'children', 'year']\n",
            "length word2id list: 348\n",
            "length id2word list: 348\n",
            "finished: creating vocabulary\n"
          ]
        }
      ]
    },
    {
      "cell_type": "code",
      "source": [
        "# Erstellen BOW-Repräsentation für ETM Modell\n",
        "for_lda_model = False \n",
        "word2id, id2word, train, test, val = textsloader.create_bow_and_savebow_for_each_set(for_lda_model=for_lda_model)"
      ],
      "metadata": {
        "colab": {
          "base_uri": "https://localhost:8080/"
        },
        "id": "etzyjh_nqi19",
        "outputId": "e68b9c3f-47db-43b4-c631-ed537f18eba5"
      },
      "execution_count": 16,
      "outputs": [
        {
          "output_type": "stream",
          "name": "stdout",
          "text": [
            "length train-documents-indices : 4567\n",
            "length of the vocabulary: 348\n",
            "\n",
            "\n",
            "start: creating bow representation...\n",
            "top 10 - word-id of the doc: [0, 1, 2, 3, 4, 5, 6, 7, 8, 9]\n",
            "max word-id: 347\n",
            "min word-id: 0\n",
            "max doc-id: 149\n",
            "min doc-id: 0\n",
            "all docs: 4567\n",
            "all words: 4567\n",
            "docidx unique 150\n",
            "words unique: 348\n",
            "ndocs: 150\n",
            "vocab-size: 348\n",
            "finised creating bow input!\n",
            "\n",
            "start: creating bow representation...\n",
            "top 10 - word-id of the doc: [0, 1, 2, 3, 4, 5, 6, 7, 9, 10]\n",
            "max word-id: 347\n",
            "min word-id: 0\n",
            "max doc-id: 49\n",
            "min doc-id: 0\n",
            "all docs: 1465\n",
            "all words: 1465\n",
            "docidx unique 50\n",
            "words unique: 325\n",
            "ndocs: 50\n",
            "vocab-size: 348\n",
            "finised creating bow input!\n",
            "\n",
            "start: creating bow representation...\n",
            "top 10 - word-id of the doc: [0, 1, 2, 3, 4, 5, 6, 7, 9, 10]\n",
            "max word-id: 347\n",
            "min word-id: 0\n",
            "max doc-id: 49\n",
            "min doc-id: 0\n",
            "all docs: 719\n",
            "all words: 719\n",
            "docidx unique 50\n",
            "words unique: 240\n",
            "ndocs: 50\n",
            "vocab-size: 348\n",
            "finised creating bow input!\n",
            "\n",
            "start: creating bow representation...\n",
            "top 10 - word-id of the doc: [1, 2, 4, 5, 7, 9, 10, 11, 13, 14]\n",
            "max word-id: 347\n",
            "min word-id: 1\n",
            "max doc-id: 49\n",
            "min doc-id: 0\n",
            "all docs: 746\n",
            "all words: 746\n",
            "docidx unique 50\n",
            "words unique: 269\n",
            "ndocs: 50\n",
            "vocab-size: 348\n",
            "finised creating bow input!\n",
            "\n",
            "start: creating bow representation...\n",
            "top 10 - word-id of the doc: [0, 1, 2, 3, 4, 5, 6, 7, 8, 9]\n",
            "max word-id: 347\n",
            "min word-id: 0\n",
            "max doc-id: 99\n",
            "min doc-id: 0\n",
            "all docs: 3082\n",
            "all words: 3082\n",
            "docidx unique 100\n",
            "words unique: 346\n",
            "ndocs: 100\n",
            "vocab-size: 348\n",
            "finised creating bow input!\n",
            "\n"
          ]
        }
      ]
    },
    {
      "cell_type": "markdown",
      "source": [
        "# **Anzeigen von dem Vocabular und IDs**\n",
        "\n"
      ],
      "metadata": {
        "id": "r-DXUMguC8zM"
      }
    },
    {
      "cell_type": "code",
      "source": [
        "# show for samples: 100 word2id and id2 word\n",
        "word2id_df_100 = pd.DataFrame()\n",
        "word2id_df_100['word'] = list(word2id.keys())[:100]\n",
        "word2id_df_100['id'] = list(word2id.values())[:100]\n",
        "word2id_df_100"
      ],
      "metadata": {
        "colab": {
          "base_uri": "https://localhost:8080/",
          "height": 424
        },
        "id": "6RBJYhLHCfwy",
        "outputId": "1f00ee3e-2a3c-42b8-9172-4cbc9bf8afa0"
      },
      "execution_count": 17,
      "outputs": [
        {
          "output_type": "execute_result",
          "data": {
            "text/plain": [
              "        word  id\n",
              "0        tin   0\n",
              "1     center   1\n",
              "2        put   2\n",
              "3       free   3\n",
              "4      years   4\n",
              "..       ...  ..\n",
              "95   minutes  95\n",
              "96      john  96\n",
              "97  original  97\n",
              "98      hard  98\n",
              "99      life  99\n",
              "\n",
              "[100 rows x 2 columns]"
            ],
            "text/html": [
              "\n",
              "  <div id=\"df-f37008c0-0800-4b5e-a543-d7fdc9e4dde8\">\n",
              "    <div class=\"colab-df-container\">\n",
              "      <div>\n",
              "<style scoped>\n",
              "    .dataframe tbody tr th:only-of-type {\n",
              "        vertical-align: middle;\n",
              "    }\n",
              "\n",
              "    .dataframe tbody tr th {\n",
              "        vertical-align: top;\n",
              "    }\n",
              "\n",
              "    .dataframe thead th {\n",
              "        text-align: right;\n",
              "    }\n",
              "</style>\n",
              "<table border=\"1\" class=\"dataframe\">\n",
              "  <thead>\n",
              "    <tr style=\"text-align: right;\">\n",
              "      <th></th>\n",
              "      <th>word</th>\n",
              "      <th>id</th>\n",
              "    </tr>\n",
              "  </thead>\n",
              "  <tbody>\n",
              "    <tr>\n",
              "      <th>0</th>\n",
              "      <td>tin</td>\n",
              "      <td>0</td>\n",
              "    </tr>\n",
              "    <tr>\n",
              "      <th>1</th>\n",
              "      <td>center</td>\n",
              "      <td>1</td>\n",
              "    </tr>\n",
              "    <tr>\n",
              "      <th>2</th>\n",
              "      <td>put</td>\n",
              "      <td>2</td>\n",
              "    </tr>\n",
              "    <tr>\n",
              "      <th>3</th>\n",
              "      <td>free</td>\n",
              "      <td>3</td>\n",
              "    </tr>\n",
              "    <tr>\n",
              "      <th>4</th>\n",
              "      <td>years</td>\n",
              "      <td>4</td>\n",
              "    </tr>\n",
              "    <tr>\n",
              "      <th>...</th>\n",
              "      <td>...</td>\n",
              "      <td>...</td>\n",
              "    </tr>\n",
              "    <tr>\n",
              "      <th>95</th>\n",
              "      <td>minutes</td>\n",
              "      <td>95</td>\n",
              "    </tr>\n",
              "    <tr>\n",
              "      <th>96</th>\n",
              "      <td>john</td>\n",
              "      <td>96</td>\n",
              "    </tr>\n",
              "    <tr>\n",
              "      <th>97</th>\n",
              "      <td>original</td>\n",
              "      <td>97</td>\n",
              "    </tr>\n",
              "    <tr>\n",
              "      <th>98</th>\n",
              "      <td>hard</td>\n",
              "      <td>98</td>\n",
              "    </tr>\n",
              "    <tr>\n",
              "      <th>99</th>\n",
              "      <td>life</td>\n",
              "      <td>99</td>\n",
              "    </tr>\n",
              "  </tbody>\n",
              "</table>\n",
              "<p>100 rows × 2 columns</p>\n",
              "</div>\n",
              "      <button class=\"colab-df-convert\" onclick=\"convertToInteractive('df-f37008c0-0800-4b5e-a543-d7fdc9e4dde8')\"\n",
              "              title=\"Convert this dataframe to an interactive table.\"\n",
              "              style=\"display:none;\">\n",
              "        \n",
              "  <svg xmlns=\"http://www.w3.org/2000/svg\" height=\"24px\"viewBox=\"0 0 24 24\"\n",
              "       width=\"24px\">\n",
              "    <path d=\"M0 0h24v24H0V0z\" fill=\"none\"/>\n",
              "    <path d=\"M18.56 5.44l.94 2.06.94-2.06 2.06-.94-2.06-.94-.94-2.06-.94 2.06-2.06.94zm-11 1L8.5 8.5l.94-2.06 2.06-.94-2.06-.94L8.5 2.5l-.94 2.06-2.06.94zm10 10l.94 2.06.94-2.06 2.06-.94-2.06-.94-.94-2.06-.94 2.06-2.06.94z\"/><path d=\"M17.41 7.96l-1.37-1.37c-.4-.4-.92-.59-1.43-.59-.52 0-1.04.2-1.43.59L10.3 9.45l-7.72 7.72c-.78.78-.78 2.05 0 2.83L4 21.41c.39.39.9.59 1.41.59.51 0 1.02-.2 1.41-.59l7.78-7.78 2.81-2.81c.8-.78.8-2.07 0-2.86zM5.41 20L4 18.59l7.72-7.72 1.47 1.35L5.41 20z\"/>\n",
              "  </svg>\n",
              "      </button>\n",
              "      \n",
              "  <style>\n",
              "    .colab-df-container {\n",
              "      display:flex;\n",
              "      flex-wrap:wrap;\n",
              "      gap: 12px;\n",
              "    }\n",
              "\n",
              "    .colab-df-convert {\n",
              "      background-color: #E8F0FE;\n",
              "      border: none;\n",
              "      border-radius: 50%;\n",
              "      cursor: pointer;\n",
              "      display: none;\n",
              "      fill: #1967D2;\n",
              "      height: 32px;\n",
              "      padding: 0 0 0 0;\n",
              "      width: 32px;\n",
              "    }\n",
              "\n",
              "    .colab-df-convert:hover {\n",
              "      background-color: #E2EBFA;\n",
              "      box-shadow: 0px 1px 2px rgba(60, 64, 67, 0.3), 0px 1px 3px 1px rgba(60, 64, 67, 0.15);\n",
              "      fill: #174EA6;\n",
              "    }\n",
              "\n",
              "    [theme=dark] .colab-df-convert {\n",
              "      background-color: #3B4455;\n",
              "      fill: #D2E3FC;\n",
              "    }\n",
              "\n",
              "    [theme=dark] .colab-df-convert:hover {\n",
              "      background-color: #434B5C;\n",
              "      box-shadow: 0px 1px 3px 1px rgba(0, 0, 0, 0.15);\n",
              "      filter: drop-shadow(0px 1px 2px rgba(0, 0, 0, 0.3));\n",
              "      fill: #FFFFFF;\n",
              "    }\n",
              "  </style>\n",
              "\n",
              "      <script>\n",
              "        const buttonEl =\n",
              "          document.querySelector('#df-f37008c0-0800-4b5e-a543-d7fdc9e4dde8 button.colab-df-convert');\n",
              "        buttonEl.style.display =\n",
              "          google.colab.kernel.accessAllowed ? 'block' : 'none';\n",
              "\n",
              "        async function convertToInteractive(key) {\n",
              "          const element = document.querySelector('#df-f37008c0-0800-4b5e-a543-d7fdc9e4dde8');\n",
              "          const dataTable =\n",
              "            await google.colab.kernel.invokeFunction('convertToInteractive',\n",
              "                                                     [key], {});\n",
              "          if (!dataTable) return;\n",
              "\n",
              "          const docLinkHtml = 'Like what you see? Visit the ' +\n",
              "            '<a target=\"_blank\" href=https://colab.research.google.com/notebooks/data_table.ipynb>data table notebook</a>'\n",
              "            + ' to learn more about interactive tables.';\n",
              "          element.innerHTML = '';\n",
              "          dataTable['output_type'] = 'display_data';\n",
              "          await google.colab.output.renderOutput(dataTable, element);\n",
              "          const docLink = document.createElement('div');\n",
              "          docLink.innerHTML = docLinkHtml;\n",
              "          element.appendChild(docLink);\n",
              "        }\n",
              "      </script>\n",
              "    </div>\n",
              "  </div>\n",
              "  "
            ]
          },
          "metadata": {},
          "execution_count": 17
        }
      ]
    },
    {
      "cell_type": "code",
      "source": [
        "# Kontrollieren die Größen von verschiedenen Datensätzen\n",
        "print(f'Size of the vocabulary after prprocessing ist: {len(textsloader.vocabulary)}')\n",
        "print(f'Size of train set: {len(train[\"tokens\"])}')\n",
        "print(f'Size of val set: {len(val[\"tokens\"])}')\n",
        "print(f'Size of test set: {len(test[\"test\"][\"tokens\"])}')"
      ],
      "metadata": {
        "colab": {
          "base_uri": "https://localhost:8080/"
        },
        "id": "n1d-5ji3qwE8",
        "outputId": "4481b2fc-c270-4093-d661-94368fd5579f"
      },
      "execution_count": 18,
      "outputs": [
        {
          "output_type": "stream",
          "name": "stdout",
          "text": [
            "Size of the vocabulary after prprocessing ist: 348\n",
            "Size of train set: 150\n",
            "Size of val set: 100\n",
            "Size of test set: 50\n"
          ]
        }
      ]
    },
    {
      "cell_type": "markdown",
      "source": [
        "# **Wieder erstellen von Dokumenten nach der Vorverarbeitung**"
      ],
      "metadata": {
        "id": "bxQL5jQtDb1c"
      }
    },
    {
      "cell_type": "code",
      "source": [
        "# re-erstellen von Dokumenten nach der Vorverarbeitungen. Die Dokumenten sind in Wörtern und werden für Word-Embedding Training benutzt\n",
        "docs_tr, docs_t, docs_v = textsloader.get_docs_in_words_for_each_set()\n",
        "train_docs_df = pd.DataFrame()\n",
        "train_docs_df['text-after-preprocessing'] = [' '.join(doc) for doc in docs_tr[:100]]\n",
        "train_docs_df"
      ],
      "metadata": {
        "colab": {
          "base_uri": "https://localhost:8080/",
          "height": 424
        },
        "id": "PDXEEBHfq3Cy",
        "outputId": "decbd92e-e54d-4061-8c81-3950c2bead5d"
      },
      "execution_count": 19,
      "outputs": [
        {
          "output_type": "execute_result",
          "data": {
            "text/plain": [
              "                             text-after-preprocessing\n",
              "0   ac ca university newsreader tin version wrote ...\n",
              "1   change data windows university computer reply ...\n",
              "2   david college article apr writes group current...\n",
              "3   mark case western university usa nntp posting ...\n",
              "4   computer software engineering distribution nnt...\n",
              "..                                                ...\n",
              "95  washington guy final call summary final call k...\n",
              "96  small article university nntp posting host art...\n",
              "97  jim parts information distribution world divis...\n",
              "98  sale originator company research sale interest...\n",
              "99  government stop strong phone system company sy...\n",
              "\n",
              "[100 rows x 1 columns]"
            ],
            "text/html": [
              "\n",
              "  <div id=\"df-34ab0f7a-dc04-4232-a250-5190214d53d1\">\n",
              "    <div class=\"colab-df-container\">\n",
              "      <div>\n",
              "<style scoped>\n",
              "    .dataframe tbody tr th:only-of-type {\n",
              "        vertical-align: middle;\n",
              "    }\n",
              "\n",
              "    .dataframe tbody tr th {\n",
              "        vertical-align: top;\n",
              "    }\n",
              "\n",
              "    .dataframe thead th {\n",
              "        text-align: right;\n",
              "    }\n",
              "</style>\n",
              "<table border=\"1\" class=\"dataframe\">\n",
              "  <thead>\n",
              "    <tr style=\"text-align: right;\">\n",
              "      <th></th>\n",
              "      <th>text-after-preprocessing</th>\n",
              "    </tr>\n",
              "  </thead>\n",
              "  <tbody>\n",
              "    <tr>\n",
              "      <th>0</th>\n",
              "      <td>ac ca university newsreader tin version wrote ...</td>\n",
              "    </tr>\n",
              "    <tr>\n",
              "      <th>1</th>\n",
              "      <td>change data windows university computer reply ...</td>\n",
              "    </tr>\n",
              "    <tr>\n",
              "      <th>2</th>\n",
              "      <td>david college article apr writes group current...</td>\n",
              "    </tr>\n",
              "    <tr>\n",
              "      <th>3</th>\n",
              "      <td>mark case western university usa nntp posting ...</td>\n",
              "    </tr>\n",
              "    <tr>\n",
              "      <th>4</th>\n",
              "      <td>computer software engineering distribution nnt...</td>\n",
              "    </tr>\n",
              "    <tr>\n",
              "      <th>...</th>\n",
              "      <td>...</td>\n",
              "    </tr>\n",
              "    <tr>\n",
              "      <th>95</th>\n",
              "      <td>washington guy final call summary final call k...</td>\n",
              "    </tr>\n",
              "    <tr>\n",
              "      <th>96</th>\n",
              "      <td>small article university nntp posting host art...</td>\n",
              "    </tr>\n",
              "    <tr>\n",
              "      <th>97</th>\n",
              "      <td>jim parts information distribution world divis...</td>\n",
              "    </tr>\n",
              "    <tr>\n",
              "      <th>98</th>\n",
              "      <td>sale originator company research sale interest...</td>\n",
              "    </tr>\n",
              "    <tr>\n",
              "      <th>99</th>\n",
              "      <td>government stop strong phone system company sy...</td>\n",
              "    </tr>\n",
              "  </tbody>\n",
              "</table>\n",
              "<p>100 rows × 1 columns</p>\n",
              "</div>\n",
              "      <button class=\"colab-df-convert\" onclick=\"convertToInteractive('df-34ab0f7a-dc04-4232-a250-5190214d53d1')\"\n",
              "              title=\"Convert this dataframe to an interactive table.\"\n",
              "              style=\"display:none;\">\n",
              "        \n",
              "  <svg xmlns=\"http://www.w3.org/2000/svg\" height=\"24px\"viewBox=\"0 0 24 24\"\n",
              "       width=\"24px\">\n",
              "    <path d=\"M0 0h24v24H0V0z\" fill=\"none\"/>\n",
              "    <path d=\"M18.56 5.44l.94 2.06.94-2.06 2.06-.94-2.06-.94-.94-2.06-.94 2.06-2.06.94zm-11 1L8.5 8.5l.94-2.06 2.06-.94-2.06-.94L8.5 2.5l-.94 2.06-2.06.94zm10 10l.94 2.06.94-2.06 2.06-.94-2.06-.94-.94-2.06-.94 2.06-2.06.94z\"/><path d=\"M17.41 7.96l-1.37-1.37c-.4-.4-.92-.59-1.43-.59-.52 0-1.04.2-1.43.59L10.3 9.45l-7.72 7.72c-.78.78-.78 2.05 0 2.83L4 21.41c.39.39.9.59 1.41.59.51 0 1.02-.2 1.41-.59l7.78-7.78 2.81-2.81c.8-.78.8-2.07 0-2.86zM5.41 20L4 18.59l7.72-7.72 1.47 1.35L5.41 20z\"/>\n",
              "  </svg>\n",
              "      </button>\n",
              "      \n",
              "  <style>\n",
              "    .colab-df-container {\n",
              "      display:flex;\n",
              "      flex-wrap:wrap;\n",
              "      gap: 12px;\n",
              "    }\n",
              "\n",
              "    .colab-df-convert {\n",
              "      background-color: #E8F0FE;\n",
              "      border: none;\n",
              "      border-radius: 50%;\n",
              "      cursor: pointer;\n",
              "      display: none;\n",
              "      fill: #1967D2;\n",
              "      height: 32px;\n",
              "      padding: 0 0 0 0;\n",
              "      width: 32px;\n",
              "    }\n",
              "\n",
              "    .colab-df-convert:hover {\n",
              "      background-color: #E2EBFA;\n",
              "      box-shadow: 0px 1px 2px rgba(60, 64, 67, 0.3), 0px 1px 3px 1px rgba(60, 64, 67, 0.15);\n",
              "      fill: #174EA6;\n",
              "    }\n",
              "\n",
              "    [theme=dark] .colab-df-convert {\n",
              "      background-color: #3B4455;\n",
              "      fill: #D2E3FC;\n",
              "    }\n",
              "\n",
              "    [theme=dark] .colab-df-convert:hover {\n",
              "      background-color: #434B5C;\n",
              "      box-shadow: 0px 1px 3px 1px rgba(0, 0, 0, 0.15);\n",
              "      filter: drop-shadow(0px 1px 2px rgba(0, 0, 0, 0.3));\n",
              "      fill: #FFFFFF;\n",
              "    }\n",
              "  </style>\n",
              "\n",
              "      <script>\n",
              "        const buttonEl =\n",
              "          document.querySelector('#df-34ab0f7a-dc04-4232-a250-5190214d53d1 button.colab-df-convert');\n",
              "        buttonEl.style.display =\n",
              "          google.colab.kernel.accessAllowed ? 'block' : 'none';\n",
              "\n",
              "        async function convertToInteractive(key) {\n",
              "          const element = document.querySelector('#df-34ab0f7a-dc04-4232-a250-5190214d53d1');\n",
              "          const dataTable =\n",
              "            await google.colab.kernel.invokeFunction('convertToInteractive',\n",
              "                                                     [key], {});\n",
              "          if (!dataTable) return;\n",
              "\n",
              "          const docLinkHtml = 'Like what you see? Visit the ' +\n",
              "            '<a target=\"_blank\" href=https://colab.research.google.com/notebooks/data_table.ipynb>data table notebook</a>'\n",
              "            + ' to learn more about interactive tables.';\n",
              "          element.innerHTML = '';\n",
              "          dataTable['output_type'] = 'display_data';\n",
              "          await google.colab.output.renderOutput(dataTable, element);\n",
              "          const docLink = document.createElement('div');\n",
              "          docLink.innerHTML = docLinkHtml;\n",
              "          element.appendChild(docLink);\n",
              "        }\n",
              "      </script>\n",
              "    </div>\n",
              "  </div>\n",
              "  "
            ]
          },
          "metadata": {},
          "execution_count": 19
        }
      ]
    },
    {
      "cell_type": "markdown",
      "source": [
        "# **Word-Embedding-Trainieren aus dem Train-documents**"
      ],
      "metadata": {
        "id": "Ds_KuUTQrK5P"
      }
    },
    {
      "cell_type": "code",
      "source": [
        "from src.embedding import WordEmbeddingCreator\n",
        "from pathlib import Path\n",
        "\n",
        "save_path = Path.joinpath(Path.cwd(), \"vocab_embedding.txt\")\n",
        "wb_creator = WordEmbeddingCreator(model_name=\"cbow\", documents = docs_tr, save_path= save_path)\n",
        "wb_creator.train(min_count=2, embedding_size= 10)\n",
        "vocab = list(word2id.keys())\n",
        "wb_creator.create_and_save_vocab_embedding(vocab, save_path)"
      ],
      "metadata": {
        "colab": {
          "base_uri": "https://localhost:8080/"
        },
        "id": "KBexKIVf8Qs5",
        "outputId": "af13073e-2ff4-41e3-b2b9-ba911503f07b"
      },
      "execution_count": 20,
      "outputs": [
        {
          "output_type": "stream",
          "name": "stdout",
          "text": [
            "word-embedding train begins\n",
            "word-embedding train finished\n",
            "length of vocabulary from word-embedding model 348\n",
            "length of the vocabulary of prepraring-dataset-vocabulary: 348\n"
          ]
        },
        {
          "output_type": "stream",
          "name": "stderr",
          "text": [
            "100%|██████████| 348/348 [00:00<00:00, 73897.22it/s]\n"
          ]
        },
        {
          "output_type": "execute_result",
          "data": {
            "text/plain": [
              "True"
            ]
          },
          "metadata": {},
          "execution_count": 20
        }
      ]
    },
    {
      "cell_type": "code",
      "source": [
        "v = list(wb_creator.model.wv.vocab)[0]\n",
        "vec = list(wb_creator.model.wv.__getitem__(v))\n",
        "print(f'word-embedding of the word-- {v}: ')\n",
        "print(f'vector: {vec}')\n",
        "print(f'dim of vector: {len(vec)}')"
      ],
      "metadata": {
        "colab": {
          "base_uri": "https://localhost:8080/"
        },
        "id": "f23xipx7MSV4",
        "outputId": "e49f3158-0e41-4fed-9234-5f6efc6a7c02"
      },
      "execution_count": 21,
      "outputs": [
        {
          "output_type": "stream",
          "name": "stdout",
          "text": [
            "word-embedding of the word-- ac: \n",
            "vector: [-0.01750687, 0.12628052, 0.03394055, -0.08370307, 0.0508832, 0.07630688, 0.022783501, 0.0034095193, 0.17513275, -0.07038387]\n",
            "dim of vector: 10\n"
          ]
        }
      ]
    },
    {
      "cell_type": "code",
      "source": [
        "#!pip uninstall umap\n",
        "#!pip install umap-learn\n",
        "#!pip install plotly==5.7.0"
      ],
      "metadata": {
        "colab": {
          "base_uri": "https://localhost:8080/"
        },
        "id": "8MhEe-50OCe4",
        "outputId": "02131ec3-9011-4dc2-fac7-a32d2aeefc2e"
      },
      "execution_count": 39,
      "outputs": [
        {
          "output_type": "stream",
          "name": "stdout",
          "text": [
            "\u001b[33mWARNING: Skipping umap as it is not installed.\u001b[0m\n",
            "Requirement already satisfied: umap-learn in /usr/local/lib/python3.7/dist-packages (0.5.3)\n",
            "Requirement already satisfied: pynndescent>=0.5 in /usr/local/lib/python3.7/dist-packages (from umap-learn) (0.5.6)\n",
            "Requirement already satisfied: scikit-learn>=0.22 in /usr/local/lib/python3.7/dist-packages (from umap-learn) (1.0.2)\n",
            "Requirement already satisfied: scipy>=1.0 in /usr/local/lib/python3.7/dist-packages (from umap-learn) (1.4.1)\n",
            "Requirement already satisfied: numpy>=1.17 in /usr/local/lib/python3.7/dist-packages (from umap-learn) (1.21.6)\n",
            "Requirement already satisfied: tqdm in /usr/local/lib/python3.7/dist-packages (from umap-learn) (4.64.0)\n",
            "Requirement already satisfied: numba>=0.49 in /usr/local/lib/python3.7/dist-packages (from umap-learn) (0.51.2)\n",
            "Requirement already satisfied: llvmlite<0.35,>=0.34.0.dev0 in /usr/local/lib/python3.7/dist-packages (from numba>=0.49->umap-learn) (0.34.0)\n",
            "Requirement already satisfied: setuptools in /usr/local/lib/python3.7/dist-packages (from numba>=0.49->umap-learn) (57.4.0)\n",
            "Requirement already satisfied: joblib>=0.11 in /usr/local/lib/python3.7/dist-packages (from pynndescent>=0.5->umap-learn) (1.1.0)\n",
            "Requirement already satisfied: threadpoolctl>=2.0.0 in /usr/local/lib/python3.7/dist-packages (from scikit-learn>=0.22->umap-learn) (3.1.0)\n",
            "Collecting plotly==5.7.0\n",
            "  Downloading plotly-5.7.0-py2.py3-none-any.whl (28.8 MB)\n",
            "\u001b[K     |████████████████████████████████| 28.8 MB 1.6 MB/s \n",
            "\u001b[?25hRequirement already satisfied: six in /usr/local/lib/python3.7/dist-packages (from plotly==5.7.0) (1.15.0)\n",
            "Requirement already satisfied: tenacity>=6.2.0 in /usr/local/lib/python3.7/dist-packages (from plotly==5.7.0) (8.0.1)\n",
            "Installing collected packages: plotly\n",
            "  Attempting uninstall: plotly\n",
            "    Found existing installation: plotly 5.5.0\n",
            "    Uninstalling plotly-5.5.0:\n",
            "      Successfully uninstalled plotly-5.5.0\n",
            "Successfully installed plotly-5.7.0\n"
          ]
        }
      ]
    },
    {
      "cell_type": "markdown",
      "source": [
        "# **Visualization word-embeddings**\n"
      ],
      "metadata": {
        "id": "l53_jkUS-hl-"
      }
    },
    {
      "cell_type": "code",
      "source": [
        "import matplotlib.pyplot as plt\n",
        "%matplotlib inline\n",
        "import umap.umap_ as umap\n",
        "import time\n",
        "import plotly.express as px\n",
        "\n",
        "# read word-embedding files\n",
        "with open(save_path) as f:\n",
        "  lines = f.readlines()\n",
        "embedding_data = []\n",
        "words_data = []\n",
        "for t in lines:\n",
        "  w = t.split(\"\\t\")[0]\n",
        "  v = [float(e) for e in t.split(\"\\t\")[1].split(\" \")]\n",
        "  words_data.append(w)\n",
        "  embedding_data.append(v)"
      ],
      "metadata": {
        "id": "o96LsIWkNrZS"
      },
      "execution_count": 80,
      "outputs": []
    },
    {
      "cell_type": "code",
      "source": [
        "from sklearn import cluster\n",
        "from sklearn import metrics\n",
        "\n",
        "kmeans = cluster.KMeans(n_clusters=10)\n",
        "kmeans.fit(embedding_data)\n",
        " \n",
        "labels = kmeans.labels_\n",
        "centroids = kmeans.cluster_centers_\n",
        " \n",
        "print (\"Cluster id labels for inputted data\")\n",
        "print (labels)\n",
        "print (\"Centroids data\")\n",
        "print (centroids)"
      ],
      "metadata": {
        "colab": {
          "base_uri": "https://localhost:8080/"
        },
        "id": "99hYOKPwB5aw",
        "outputId": "dc7e15d8-ae73-44f9-ed62-91a788a08d49"
      },
      "execution_count": 84,
      "outputs": [
        {
          "output_type": "stream",
          "name": "stdout",
          "text": [
            "Cluster id labels for inputted data\n",
            "[9 1 1 5 5 9 3 1 0 6 5 3 2 0 0 8 8 3 6 6 3 0 6 1 9 2 0 1 8 1 0 0 8 0 8 0 7\n",
            " 9 7 9 3 4 8 3 3 2 4 7 3 5 0 3 0 5 9 2 6 5 6 0 1 4 0 5 5 1 5 1 2 3 9 0 1 0\n",
            " 5 6 1 5 6 1 2 0 5 9 3 0 3 3 6 0 0 0 0 5 2 8 0 3 1 1 2 3 2 6 5 1 2 3 9 3 1\n",
            " 4 0 9 4 3 4 8 3 6 0 2 2 2 0 1 6 0 1 4 5 9 5 8 3 8 3 2 2 5 0 8 5 6 3 2 2 1\n",
            " 1 2 4 5 1 0 9 0 6 0 8 3 9 0 5 0 8 3 4 5 3 1 6 0 0 9 2 1 8 2 3 1 5 1 3 1 6\n",
            " 6 1 8 9 8 8 1 3 1 2 3 8 1 0 8 3 3 0 8 8 0 8 8 2 5 1 6 4 8 0 1 4 2 3 9 5 9\n",
            " 0 3 3 8 9 9 3 4 9 3 1 3 5 5 9 0 0 4 3 5 8 5 5 8 3 8 3 0 2 9 3 4 1 8 9 8 2\n",
            " 2 2 5 2 1 1 6 9 1 3 0 5 3 2 5 0 0 0 5 2 0 8 4 5 5 2 4 6 5 4 0 8 6 2 6 4 9\n",
            " 8 3 0 9 5 4 5 2 0 6 8 1 5 5 0 5 2 6 0 2 1 5 4 2 4 9 8 2 1 2 2 5 8 1 9 5 5\n",
            " 4 9 9 3 0 9 9 8 4 8 3 2 0 5 4]\n",
            "Centroids data\n",
            "[[ 0.02456939  0.11247835 -0.00481266 -0.10925106  0.05405756  0.05569128\n",
            "  -0.02591617  0.01346014  0.16536695 -0.05483252]\n",
            " [ 0.02896398  0.16739792  0.01145185 -0.12674925  0.07372257  0.08792908\n",
            "  -0.00051855  0.0442646   0.20593381 -0.05765652]\n",
            " [ 0.0277223   0.08267745  0.01249533 -0.05709531  0.05356885  0.04969624\n",
            "  -0.01593791  0.03958456  0.11238726 -0.05169739]\n",
            " [ 0.02789599  0.16028534  0.02939531 -0.12071217  0.06952726  0.05808703\n",
            "  -0.01976484  0.01636429  0.20739196 -0.09402374]\n",
            " [-0.00053076  0.02036885  0.00369488 -0.03221709  0.01634289  0.01591229\n",
            "   0.00094664  0.0040343   0.03510855 -0.00877275]\n",
            " [ 0.00534672  0.07286654  0.01161008 -0.06193707  0.01502632  0.02649047\n",
            "  -0.0141174   0.03029775  0.08694263 -0.02165684]\n",
            " [ 0.03301452  0.20267415  0.006963   -0.155439    0.08511954  0.10428188\n",
            "  -0.01221871  0.03139583  0.27925132 -0.0904941 ]\n",
            " [ 0.04713091  0.29917458  0.01439581 -0.26102304  0.10095276  0.17054434\n",
            "  -0.02747542  0.03895505  0.40471708 -0.13547681]\n",
            " [-0.00468687  0.07848564  0.00717763 -0.05547927  0.03775105  0.04192577\n",
            "   0.01035278 -0.01782687  0.12656756 -0.04102448]\n",
            " [ 0.01094087  0.13207717  0.02947751 -0.0722427   0.04354365  0.06769039\n",
            "   0.00819609  0.02327266  0.16418044 -0.06562584]]\n"
          ]
        }
      ]
    },
    {
      "cell_type": "code",
      "source": [
        "# dimension reduction with umap\n",
        "start = time.time()\n",
        "reducer = umap.UMAP(random_state=42,n_components=3)\n",
        "embedding = reducer.fit_transform(embedding_data)\n",
        "print('Duration: {} seconds'.format(time.time() - start))\n",
        "\n",
        "# show samples after dim-reduction in dataframe\n",
        "wb = pd.DataFrame(embedding, columns=['x', 'y', 'z'])\n",
        "wb['word'] = words_data\n",
        "wb['cluster'] = ['cluster ' + str(c) for c in labels]"
      ],
      "metadata": {
        "colab": {
          "base_uri": "https://localhost:8080/"
        },
        "id": "LAMgZ9aIE9A6",
        "outputId": "75d4d37c-32cd-4cfa-b2a9-c98c82de516e"
      },
      "execution_count": 87,
      "outputs": [
        {
          "output_type": "stream",
          "name": "stdout",
          "text": [
            "Duration: 3.6077234745025635 seconds\n"
          ]
        }
      ]
    },
    {
      "cell_type": "code",
      "source": [
        "# visualization\n",
        "fig = px.scatter_3d(wb, \n",
        "                    text = wb['word'],\n",
        "                    x='x', y='y', z='z',\n",
        "                    color = wb['cluster'],\n",
        "                    title =\"word-embedding-samples\")\n",
        "fig.show()"
      ],
      "metadata": {
        "colab": {
          "base_uri": "https://localhost:8080/",
          "height": 542
        },
        "id": "spomMOt_yy0W",
        "outputId": "ed8fde6f-0c9d-4832-b509-f40da1c63974"
      },
      "execution_count": 88,
      "outputs": [
        {
          "output_type": "display_data",
          "data": {
            "text/html": [
              "<html>\n",
              "<head><meta charset=\"utf-8\" /></head>\n",
              "<body>\n",
              "    <div>            <script src=\"https://cdnjs.cloudflare.com/ajax/libs/mathjax/2.7.5/MathJax.js?config=TeX-AMS-MML_SVG\"></script><script type=\"text/javascript\">if (window.MathJax) {MathJax.Hub.Config({SVG: {font: \"STIX-Web\"}});}</script>                <script type=\"text/javascript\">window.PlotlyConfig = {MathJaxConfig: 'local'};</script>\n",
              "        <script src=\"https://cdn.plot.ly/plotly-2.11.1.min.js\"></script>                <div id=\"be3d1739-9873-4eb1-ab45-73aa73e56140\" class=\"plotly-graph-div\" style=\"height:525px; width:100%;\"></div>            <script type=\"text/javascript\">                                    window.PLOTLYENV=window.PLOTLYENV || {};                                    if (document.getElementById(\"be3d1739-9873-4eb1-ab45-73aa73e56140\")) {                    Plotly.newPlot(                        \"be3d1739-9873-4eb1-ab45-73aa73e56140\",                        [{\"hovertemplate\":\"cluster=cluster 9<br>x=%{x}<br>y=%{y}<br>z=%{z}<br>word=%{text}<extra></extra>\",\"legendgroup\":\"cluster 9\",\"marker\":{\"color\":\"#636efa\",\"symbol\":\"circle\"},\"mode\":\"markers+text\",\"name\":\"cluster 9\",\"scene\":\"scene\",\"showlegend\":true,\"text\":[\"ac\",\"version\",\"info\",\"apr\",\"group\",\"means\",\"keywords\",\"fax\",\"days\",\"run\",\"final\",\"front\",\"mine\",\"mentioned\",\"numbers\",\"agree\",\"required\",\"class\",\"james\",\"situation\",\"thing\",\"original\",\"talking\",\"pretty\",\"small\",\"guy\",\"higher\",\"washington\",\"disk\",\"ms\",\"access\",\"ram\"],\"x\":[7.527973651885986,10.311955451965332,7.051272392272949,7.87767219543457,7.1565752029418945,7.962636947631836,7.349981784820557,8.021827697753906,8.182673454284668,8.539912223815918,6.8287858963012695,9.38245677947998,6.996658802032471,7.098740577697754,6.993701934814453,8.917768478393555,7.299356460571289,7.656280517578125,7.333307266235352,8.162725448608398,8.751603126525879,7.8411970138549805,7.914026260375977,7.561188697814941,8.374098777770996,9.701428413391113,5.828575134277344,7.087826728820801,7.64430046081543,8.254742622375488,7.412843704223633,9.277112007141113],\"y\":[5.647037029266357,6.414841651916504,6.136018753051758,5.631474494934082,6.402958393096924,5.824460983276367,5.858067035675049,6.218972682952881,6.308650493621826,5.476309299468994,5.92650032043457,6.8499979972839355,5.884774684906006,6.032680988311768,5.597375869750977,5.791903018951416,5.852418422698975,6.598326206207275,6.798708438873291,6.318453788757324,5.686982154846191,5.953095436096191,5.7996392250061035,5.729343891143799,6.195152282714844,6.731235504150391,6.587116718292236,6.3172101974487305,6.401058673858643,5.588031768798828,6.685216426849365,6.545950889587402],\"z\":[4.495248317718506,5.212656497955322,4.201879501342773,4.769067764282227,4.913403034210205,4.639016151428223,4.287479400634766,4.115222930908203,4.196198463439941,5.161099433898926,4.790734767913818,5.056329727172852,4.543703556060791,4.672033309936523,4.488214492797852,5.349100112915039,3.8744049072265625,4.275937080383301,4.523125171661377,4.237583160400391,5.924172401428223,4.675673961639404,4.666839122772217,4.207849979400635,5.300348281860352,5.264796257019043,4.614997386932373,4.745403289794922,4.080765724182129,4.893282413482666,4.554474353790283,5.072384357452393],\"type\":\"scatter3d\"},{\"hovertemplate\":\"cluster=cluster 1<br>x=%{x}<br>y=%{y}<br>z=%{z}<br>word=%{text}<extra></extra>\",\"legendgroup\":\"cluster 1\",\"marker\":{\"color\":\"#EF553B\",\"symbol\":\"circle\"},\"mode\":\"markers+text\",\"name\":\"cluster 1\",\"scene\":\"scene\",\"showlegend\":true,\"text\":[\"ca\",\"university\",\"program\",\"host\",\"address\",\"find\",\"case\",\"children\",\"software\",\"nice\",\"fact\",\"chip\",\"phone\",\"nasa\",\"remember\",\"car\",\"information\",\"hardware\",\"understand\",\"real\",\"speed\",\"left\",\"hard\",\"large\",\"key\",\"heard\",\"point\",\"cost\",\"word\",\"net\",\"high\",\"problems\",\"line\",\"source\",\"big\",\"strong\",\"control\",\"book\",\"religion\",\"low\",\"board\"],\"x\":[10.718742370605469,10.672418594360352,7.737068176269531,10.46579647064209,8.99963665008545,10.574458122253418,10.747742652893066,10.354737281799316,10.724540710449219,9.700318336486816,9.435351371765137,10.204630851745605,9.07221508026123,10.449034690856934,10.396156311035156,9.26311206817627,9.959184646606445,9.53882884979248,10.761061668395996,10.374998092651367,10.475478172302246,10.847054481506348,10.377721786499023,10.24162483215332,10.821125030517578,9.512423515319824,10.867402076721191,9.75467586517334,9.703640937805176,10.071802139282227,10.433259010314941,8.952017784118652,10.524843215942383,10.832670211791992,9.9019193649292,10.703275680541992,10.151679039001465,10.912209510803223,9.567792892456055,9.923763275146484,9.550681114196777],\"y\":[6.134599208831787,5.652468204498291,6.13388204574585,5.867863655090332,5.751171112060547,5.395913124084473,5.528919219970703,6.0917067527771,5.8001885414123535,6.739480495452881,5.4312286376953125,5.261097431182861,5.917055130004883,6.12979793548584,5.575099945068359,5.611836910247803,5.333491325378418,6.649150371551514,5.451359748840332,5.698835849761963,5.3528242111206055,5.586195945739746,5.730839729309082,5.497296333312988,5.9543023109436035,5.7477545738220215,6.111446380615234,5.374344348907471,5.278137683868408,6.323305130004883,6.169602870941162,6.009023666381836,5.4583611488342285,5.633174896240234,6.138141632080078,5.65303897857666,6.520200252532959,5.593496799468994,5.865222454071045,5.44930362701416,5.397252559661865],\"z\":[6.139598846435547,7.0169453620910645,6.142951965332031,5.571067810058594,6.77816915512085,6.650986671447754,6.86162805557251,5.523908615112305,6.190432071685791,5.110710144042969,6.561314105987549,6.402716159820557,6.688023090362549,5.7689290046691895,6.729642391204834,6.719520568847656,5.807065486907959,5.124468803405762,6.475847244262695,6.031307220458984,6.623215198516846,6.644987106323242,6.572078704833984,6.217654228210449,6.433054447174072,6.656433582305908,6.624533653259277,6.228100776672363,6.134483337402344,5.4853668212890625,5.419915676116943,6.459136009216309,6.599023818969727,6.378030776977539,6.598782539367676,6.0727009773254395,5.99617338180542,6.698610782623291,6.514822959899902,5.902065753936768,5.655107498168945],\"type\":\"scatter3d\"},{\"hovertemplate\":\"cluster=cluster 5<br>x=%{x}<br>y=%{y}<br>z=%{z}<br>word=%{text}<extra></extra>\",\"legendgroup\":\"cluster 5\",\"marker\":{\"color\":\"#00cc96\",\"symbol\":\"circle\"},\"mode\":\"markers+text\",\"name\":\"cluster 5\",\"scene\":\"scene\",\"showlegend\":true,\"text\":[\"newsreader\",\"tin\",\"couple\",\"error\",\"care\",\"show\",\"total\",\"posted\",\"claim\",\"network\",\"hope\",\"expressed\",\"worse\",\"minutes\",\"results\",\"form\",\"corporation\",\"school\",\"common\",\"note\",\"start\",\"dept\",\"interesting\",\"department\",\"calls\",\"hell\",\"feel\",\"top\",\"related\",\"rest\",\"population\",\"simply\",\"summary\",\"full\",\"experience\",\"canada\",\"questions\",\"job\",\"result\",\"wondering\",\"hold\",\"list\",\"design\",\"dos\",\"project\",\"gas\"],\"x\":[5.7414631843566895,6.431085109710693,5.0192084312438965,5.685899257659912,6.265644073486328,5.815979480743408,4.852171421051025,4.6032633781433105,4.911322116851807,5.766786098480225,4.93411922454834,4.765210151672363,4.60722017288208,6.508694171905518,5.856338024139404,5.958225250244141,4.77294921875,6.158973217010498,5.735056400299072,4.737697124481201,5.508644104003906,4.571337699890137,5.784594535827637,5.0153326988220215,6.612451553344727,5.517099857330322,6.209705829620361,6.290693283081055,5.401168346405029,5.652938365936279,4.833809852600098,5.43548583984375,5.238156318664551,4.770251750946045,6.477905750274658,5.668799877166748,6.173952102661133,4.681906700134277,5.455299377441406,4.947895526885986,4.767890930175781,5.556982517242432,6.495917797088623,6.351080417633057,5.807736873626709,5.2196431159973145],\"y\":[7.080657958984375,7.351616859436035,6.277168273925781,6.409156322479248,6.586434364318848,6.737675666809082,7.125041484832764,6.583876132965088,6.973036766052246,6.759774684906006,6.40799617767334,6.914732933044434,6.85112190246582,7.090456485748291,7.106556415557861,7.091509819030762,7.101205348968506,6.829932689666748,6.620818614959717,6.175634384155273,7.0551886558532715,6.715178489685059,6.694188117980957,6.387152194976807,6.509214878082275,7.119870662689209,6.572712421417236,7.381941318511963,6.175442218780518,7.142688751220703,6.266748428344727,6.338772296905518,6.165968418121338,7.058193206787109,6.4829816818237305,6.522322177886963,6.525367736816406,6.662901878356934,7.194608211517334,6.994473934173584,6.729511260986328,6.9149675369262695,7.390919208526611,6.842921257019043,6.978720188140869,6.271952152252197],\"z\":[2.592700481414795,3.6056203842163086,2.5305583477020264,2.532626152038574,3.890087842941284,3.154303550720215,2.9814040660858154,3.2682175636291504,3.4575226306915283,4.375624179840088,2.1597161293029785,3.4980974197387695,3.3336920738220215,3.711441993713379,2.614834785461426,2.5648934841156006,3.207448959350586,3.121457815170288,2.4841034412384033,3.5236780643463135,2.6960763931274414,3.225585699081421,2.918529748916626,2.8753416538238525,3.7856857776641846,2.9344325065612793,3.2589926719665527,3.668120861053467,3.015587329864502,3.3575384616851807,3.4942846298217773,2.7318267822265625,2.4328713417053223,3.265249013900757,3.5829339027404785,2.4971132278442383,3.4800193309783936,3.2229700088500977,3.7974958419799805,3.02544903755188,3.202418804168701,2.9131834506988525,3.7664294242858887,3.251142740249634,2.659667491912842,2.3273842334747314],\"type\":\"scatter3d\"},{\"hovertemplate\":\"cluster=cluster 3<br>x=%{x}<br>y=%{y}<br>z=%{z}<br>word=%{text}<extra></extra>\",\"legendgroup\":\"cluster 3\",\"marker\":{\"color\":\"#ab63fa\",\"symbol\":\"circle\"},\"mode\":\"markers+text\",\"name\":\"cluster 3\",\"scene\":\"scene\",\"showlegend\":true,\"text\":[\"wrote\",\"file\",\"data\",\"reply\",\"current\",\"read\",\"post\",\"based\",\"love\",\"distribution\",\"cc\",\"work\",\"national\",\"cs\",\"power\",\"thought\",\"ago\",\"au\",\"division\",\"email\",\"made\",\"lot\",\"true\",\"bad\",\"place\",\"state\",\"bit\",\"question\",\"hand\",\"mail\",\"gun\",\"view\",\"day\",\"buy\",\"world\",\"turn\",\"center\",\"answer\",\"steve\",\"add\",\"mac\",\"year\",\"great\",\"money\",\"government\",\"game\"],\"x\":[10.478118896484375,9.862712860107422,10.359354972839355,10.073460578918457,10.136168479919434,9.394489288330078,9.048245429992676,9.832735061645508,9.247014045715332,9.143649101257324,9.662199974060059,9.412153244018555,9.593042373657227,8.935922622680664,9.978240966796875,9.821446418762207,9.518630981445312,10.26616096496582,9.81232738494873,8.441935539245605,9.762774467468262,9.925189018249512,8.988564491271973,10.451446533203125,9.824113845825195,9.979940414428711,9.776510238647461,9.118824005126953,9.890082359313965,9.504897117614746,8.98791217803955,9.97576904296875,8.999663352966309,9.629849433898926,10.238787651062012,9.564173698425293,10.177921295166016,9.59378433227539,9.999746322631836,9.603188514709473,8.9579496383667,10.423223495483398,9.717842102050781,9.645329475402832,9.049789428710938,10.190654754638672],\"y\":[6.313611030578613,5.2956438064575195,6.267621040344238,6.233936786651611,6.444886684417725,6.815969944000244,6.312533855438232,6.478580951690674,6.365424156188965,5.629291534423828,5.78387451171875,5.749736309051514,6.617459297180176,5.885303497314453,6.588594436645508,6.461841583251953,5.370696067810059,6.100668907165527,6.053966045379639,5.362865447998047,6.584651947021484,6.0754475593566895,5.783568859100342,6.460424423217773,5.987077236175537,6.666842460632324,6.503960132598877,6.710078239440918,5.907469272613525,6.461941242218018,5.922718524932861,6.610332489013672,5.366240501403809,5.990477085113525,6.250704288482666,6.580236911773682,6.644143581390381,6.58785343170166,5.567813396453857,5.40404748916626,5.955193996429443,6.161618709564209,6.540027141571045,6.424026966094971,5.8244123458862305,6.177052021026611],\"z\":[6.525259494781494,5.680995941162109,6.707955837249756,5.769899368286133,6.871035575866699,5.168205738067627,5.539741039276123,5.780721187591553,5.813435077667236,5.944126129150391,5.450470447540283,6.059755802154541,6.342121124267578,5.404668807983398,6.816682815551758,6.01478910446167,5.5644917488098145,5.879106044769287,5.465217113494873,5.698013782501221,6.808350086212158,5.67287540435791,5.985111713409424,6.90378999710083,5.567234992980957,6.441725730895996,6.834350109100342,6.464954376220703,5.424764156341553,6.5889811515808105,6.00759220123291,6.204365253448486,5.539266586303711,5.603821277618408,7.079945087432861,6.366546154022217,6.085926055908203,6.566159725189209,5.730582237243652,5.5565032958984375,6.604037761688232,6.928727149963379,6.764816761016846,6.229887962341309,5.898423194885254,7.052022457122803],\"type\":\"scatter3d\"},{\"hovertemplate\":\"cluster=cluster 0<br>x=%{x}<br>y=%{y}<br>z=%{z}<br>word=%{text}<extra></extra>\",\"legendgroup\":\"cluster 0\",\"marker\":{\"color\":\"#FFA15A\",\"symbol\":\"circle\"},\"mode\":\"markers+text\",\"name\":\"cluster 0\",\"scene\":\"scene\",\"showlegend\":true,\"text\":[\"called\",\"pc\",\"image\",\"nntp\",\"put\",\"robert\",\"science\",\"internet\",\"college\",\"god\",\"response\",\"mark\",\"usa\",\"white\",\"due\",\"opinions\",\"hp\",\"idea\",\"ibm\",\"research\",\"org\",\"end\",\"guess\",\"computing\",\"john\",\"machine\",\"found\",\"single\",\"support\",\"general\",\"bill\",\"sci\",\"life\",\"side\",\"free\",\"card\",\"easy\",\"parts\",\"times\",\"man\",\"news\",\"history\",\"uk\",\"set\",\"sun\",\"application\",\"written\",\"sell\",\"takes\",\"radio\",\"religious\",\"person\",\"public\",\"company\"],\"x\":[7.393210411071777,6.916718006134033,8.139928817749023,8.73542594909668,9.242473602294922,7.82786226272583,8.237739562988281,8.005001068115234,8.349761009216309,7.974372386932373,8.052573204040527,6.122272968292236,8.536993026733398,8.368279457092285,8.030024528503418,9.656417846679688,6.205915451049805,9.374621391296387,9.385032653808594,7.946883678436279,8.075454711914062,8.345098495483398,8.445291519165039,7.128952980041504,8.342753410339355,8.252185821533203,7.480855941772461,7.733551979064941,6.04155158996582,7.757221698760986,8.416289329528809,5.889509201049805,8.583855628967285,8.853586196899414,8.397603034973145,9.0103120803833,6.179251194000244,7.676877498626709,8.641443252563477,8.198004722595215,8.042631149291992,7.764420032501221,7.668412208557129,6.547904968261719,7.095860958099365,7.071160316467285,8.67160415649414,7.608726978302002,8.22632884979248,7.208406448364258,7.613903045654297,7.224517345428467,8.128812789916992,8.159819602966309],\"y\":[5.672872066497803,5.590199947357178,5.822410583496094,6.409659385681152,6.800386428833008,7.299333572387695,6.332412242889404,6.0592193603515625,6.925518989562988,7.399872779846191,6.4970245361328125,7.0656280517578125,5.455204963684082,6.367189884185791,7.269314289093018,6.552185535430908,6.897884845733643,6.69896936416626,6.839325904846191,7.09411096572876,7.115283489227295,6.407251834869385,5.52965784072876,6.7322163581848145,5.7631330490112305,5.736066818237305,6.462357044219971,6.113522529602051,6.602198123931885,5.9404730796813965,6.4846367835998535,6.56838846206665,6.881792068481445,6.759341239929199,7.071965217590332,6.579761981964111,6.574526786804199,6.6839375495910645,6.176637172698975,7.28790807723999,7.43267297744751,7.388089656829834,6.950354099273682,6.662473678588867,7.243776798248291,5.518057346343994,6.304295063018799,6.990840911865234,7.115214824676514,6.567528247833252,5.652244567871094,6.590885162353516,7.501405239105225,5.833030700683594],\"z\":[5.402732849121094,5.2420430183410645,5.962087154388428,5.794738292694092,6.048971652984619,5.157263278961182,6.026880264282227,6.272266387939453,4.809587001800537,5.2614874839782715,5.589296340942383,4.986436367034912,5.587093830108643,5.664133548736572,5.308175563812256,6.160940170288086,5.022259712219238,6.235958099365234,5.070041179656982,5.398627758026123,4.640127182006836,5.916129112243652,5.501418113708496,5.531660079956055,6.043656826019287,6.044959545135498,5.785796165466309,6.124185085296631,4.882606506347656,4.699670314788818,5.319354057312012,5.1264519691467285,5.275298118591309,6.209009647369385,5.051717758178711,6.327413082122803,4.860201835632324,5.63293981552124,6.287323951721191,5.160955905914307,5.320388317108154,5.000252723693848,5.417416095733643,4.747561931610107,4.600811004638672,5.126575469970703,5.988323211669922,5.331995964050293,5.300609111785889,5.337061882019043,5.529224395751953,5.650374412536621,5.283871173858643,6.198796272277832],\"type\":\"scatter3d\"},{\"hovertemplate\":\"cluster=cluster 6<br>x=%{x}<br>y=%{y}<br>z=%{z}<br>word=%{text}<extra></extra>\",\"legendgroup\":\"cluster 6\",\"marker\":{\"color\":\"#19d3f3\",\"symbol\":\"circle\"},\"mode\":\"markers+text\",\"name\":\"cluster 6\",\"scene\":\"scene\",\"showlegend\":true,\"text\":[\"things\",\"windows\",\"computer\",\"posting\",\"time\",\"give\",\"law\",\"system\",\"good\",\"long\",\"call\",\"technology\",\"make\",\"understanding\",\"back\",\"years\",\"space\",\"problem\",\"part\",\"toronto\",\"jews\",\"stuff\",\"code\",\"number\"],\"x\":[11.049169540405273,11.187827110290527,10.688111305236816,11.067066192626953,10.458105087280273,9.801507949829102,11.087312698364258,11.059406280517578,11.294954299926758,10.980337142944336,11.067655563354492,10.854122161865234,11.124940872192383,11.039275169372559,10.649507522583008,10.85939884185791,10.50594711303711,10.935233116149902,11.096342086791992,10.48502254486084,11.083175659179688,10.817381858825684,10.92034912109375,10.599842071533203],\"y\":[6.396168231964111,5.8441081047058105,6.327330589294434,6.1663689613342285,5.8711934089660645,5.6518330574035645,5.531888008117676,5.66703987121582,6.140834331512451,6.026226997375488,6.125694274902344,5.914361953735352,6.340370178222656,5.726265907287598,6.320814609527588,6.2313127517700195,5.913832664489746,6.071004390716553,6.4041337966918945,6.021354675292969,6.071998119354248,6.032687187194824,5.653538703918457,5.773029804229736],\"z\":[7.193601131439209,7.290576457977295,7.4255194664001465,7.73230504989624,7.325522422790527,6.7793288230896,7.122056007385254,7.253006935119629,7.3018646240234375,7.63370418548584,7.642839431762695,7.349266052246094,7.28048849105835,7.188260078430176,7.250392436981201,6.519642353057861,7.291233539581299,7.568257808685303,7.1613240242004395,7.433352947235107,7.664960861206055,7.152445316314697,7.0694169998168945,7.227452278137207],\"type\":\"scatter3d\"},{\"hovertemplate\":\"cluster=cluster 2<br>x=%{x}<br>y=%{y}<br>z=%{z}<br>word=%{text}<extra></extra>\",\"legendgroup\":\"cluster 2\",\"marker\":{\"color\":\"#FF6692\",\"symbol\":\"circle\"},\"mode\":\"markers+text\",\"name\":\"cluster 2\",\"scene\":\"scene\",\"showlegend\":true,\"text\":[\"issue\",\"box\",\"truth\",\"important\",\"engineering\",\"disclaimer\",\"stop\",\"gov\",\"simple\",\"memory\",\"date\",\"interest\",\"de\",\"contact\",\"international\",\"opinion\",\"fine\",\"rate\",\"today\",\"similar\",\"clear\",\"sense\",\"makes\",\"tom\",\"late\",\"early\",\"possibly\",\"sort\",\"effect\",\"east\",\"bike\",\"wrong\",\"sound\",\"christian\",\"told\",\"california\",\"systems\",\"texas\",\"jim\",\"sale\"],\"x\":[5.696747779846191,6.695130825042725,6.748472213745117,6.012578010559082,6.449478626251221,6.236706256866455,5.598766326904297,6.993558406829834,6.792807579040527,6.5278544425964355,5.731163501739502,6.36588716506958,6.291123867034912,6.988003253936768,5.480987548828125,7.587833404541016,7.110119819641113,6.759098529815674,7.082136631011963,5.657744884490967,6.130169868469238,5.696987152099609,7.1699676513671875,5.877101421356201,6.279162406921387,7.269101619720459,7.163308143615723,6.561404228210449,6.485289096832275,6.8079423904418945,7.25080680847168,6.688545227050781,6.587543487548828,7.38525390625,5.776185989379883,6.525373458862305,5.5367817878723145,5.891385078430176,6.055363178253174,6.634679317474365],\"y\":[7.077869415283203,7.026393413543701,6.953935146331787,7.068783283233643,7.2226433753967285,7.1473588943481445,7.178610324859619,7.05096435546875,7.108282566070557,7.122283458709717,7.384282112121582,6.570840835571289,7.264718532562256,6.945852756500244,7.247459411621094,7.163118362426758,6.572763919830322,7.204679012298584,6.764720439910889,6.339555263519287,6.833906173706055,7.337585926055908,6.827452182769775,6.433699131011963,7.230354309082031,6.537463188171387,6.902564525604248,7.279376983642578,6.9041829109191895,7.242506504058838,6.8814568519592285,6.259977340698242,7.146236896514893,6.431105613708496,7.171667098999023,6.204227924346924,7.210721492767334,6.670418739318848,7.159696102142334,7.21736478805542],\"z\":[3.8381307125091553,3.9165115356445312,3.3038644790649414,4.559100151062012,5.030109405517578,2.9876937866210938,3.3161332607269287,4.218077659606934,3.5270910263061523,4.046341896057129,4.106842517852783,3.2714591026306152,4.871389865875244,3.655057430267334,3.958911895751953,4.256374359130859,4.399248123168945,3.889373302459717,5.443621635437012,4.61572790145874,2.9692726135253906,3.607099771499634,3.7128381729125977,2.4741146564483643,4.728870391845703,3.7536609172821045,3.983614206314087,4.318928241729736,3.086411952972412,4.0574421882629395,4.3476667404174805,3.6431734561920166,4.295360088348389,3.725040912628174,2.751018524169922,3.356882333755493,4.104615688323975,2.664506673812866,2.925534725189209,4.43927001953125],\"type\":\"scatter3d\"},{\"hovertemplate\":\"cluster=cluster 8<br>x=%{x}<br>y=%{y}<br>z=%{z}<br>word=%{text}<extra></extra>\",\"legendgroup\":\"cluster 8\",\"marker\":{\"color\":\"#B6E880\",\"symbol\":\"circle\"},\"mode\":\"markers+text\",\"name\":\"cluster 8\",\"scene\":\"scene\",\"showlegend\":true,\"text\":[\"including\",\"change\",\"wanted\",\"major\",\"david\",\"mind\",\"rights\",\"friend\",\"city\",\"send\",\"deleted\",\"price\",\"reason\",\"interested\",\"taking\",\"kind\",\"making\",\"coming\",\"open\",\"type\",\"assuming\",\"faster\",\"lost\",\"close\",\"thinking\",\"asked\",\"message\",\"references\",\"figure\",\"order\",\"matter\",\"write\",\"live\",\"bible\",\"hear\",\"mike\",\"copy\",\"receive\"],\"x\":[5.567020416259766,5.8226637840271,5.955354690551758,6.866595268249512,6.553856372833252,6.0728607177734375,5.977867603302002,6.802570343017578,5.774011135101318,6.1433868408203125,6.097311973571777,5.523959159851074,6.024759292602539,5.683879375457764,6.401772975921631,6.311498165130615,5.387808322906494,5.460412979125977,5.237427711486816,5.450590133666992,5.933144569396973,5.724278450012207,5.858911991119385,6.281318664550781,5.936952114105225,5.275633811950684,5.688364028930664,6.164559364318848,5.53614616394043,5.943541049957275,5.907594203948975,6.051963806152344,5.519782066345215,5.5011887550354,5.654776096343994,6.263348579406738,5.034337997436523,5.6845927238464355],\"y\":[5.962507724761963,6.160492420196533,5.955445766448975,5.599677562713623,5.685073375701904,5.460829734802246,5.59314489364624,5.446768760681152,6.302920341491699,5.454572677612305,5.97589111328125,6.312722682952881,6.405988693237305,5.505012512207031,5.838324546813965,5.742077827453613,5.721463203430176,5.8937087059021,6.557316780090332,5.944700241088867,5.723207473754883,6.76276159286499,5.494154930114746,5.524843215942383,5.779111862182617,6.103640556335449,6.529533863067627,5.556038856506348,5.68703031539917,5.505088806152344,6.030862808227539,6.087791919708252,6.022584438323975,5.67233419418335,6.505069732666016,5.5369720458984375,6.1849775314331055,6.259140491485596],\"z\":[4.441840648651123,3.5537164211273193,4.790133476257324,4.692963123321533,4.613248825073242,3.9265365600585938,3.5641918182373047,4.982189178466797,4.874989032745361,4.017426013946533,4.404109477996826,4.474952697753906,2.864513397216797,4.0922417640686035,4.335125923156738,4.412110328674316,3.804699659347534,3.3773651123046875,3.8560359477996826,2.885684013366699,3.916250228881836,4.695119857788086,4.253957748413086,3.678161144256592,4.439033031463623,2.7980589866638184,4.861073017120361,3.6641902923583984,3.919307231903076,3.9436681270599365,4.798467636108398,3.8063008785247803,4.437189102172852,3.7214276790618896,3.8915457725524902,3.7375593185424805,3.655324935913086,4.362088680267334],\"type\":\"scatter3d\"},{\"hovertemplate\":\"cluster=cluster 7<br>x=%{x}<br>y=%{y}<br>z=%{z}<br>word=%{text}<extra></extra>\",\"legendgroup\":\"cluster 7\",\"marker\":{\"color\":\"#FF97FF\",\"symbol\":\"circle\"},\"mode\":\"markers+text\",\"name\":\"cluster 7\",\"scene\":\"scene\",\"showlegend\":true,\"text\":[\"article\",\"writes\",\"people\"],\"x\":[11.083761215209961,11.34154987335205,11.197614669799805],\"y\":[6.025753974914551,5.9418134689331055,5.955983638763428],\"z\":[7.726870059967041,7.617227077484131,7.6144490242004395],\"type\":\"scatter3d\"},{\"hovertemplate\":\"cluster=cluster 4<br>x=%{x}<br>y=%{y}<br>z=%{z}<br>word=%{text}<extra></extra>\",\"legendgroup\":\"cluster 4\",\"marker\":{\"color\":\"#FECB52\",\"symbol\":\"circle\"},\"mode\":\"markers+text\",\"name\":\"cluster 4\",\"scene\":\"scene\",\"showlegend\":true,\"text\":[\"service\",\"light\",\"western\",\"home\",\"laboratory\",\"originator\",\"technical\",\"display\",\"folks\",\"continue\",\"short\",\"worth\",\"miles\",\"considered\",\"drive\",\"dod\",\"institute\",\"exists\",\"months\",\"week\",\"reading\",\"appreciated\",\"pay\",\"advance\"],\"x\":[4.691535472869873,4.396842956542969,4.615333080291748,4.5176472663879395,4.35932731628418,4.286423683166504,4.481494903564453,4.449335098266602,5.377488136291504,4.451483726501465,4.533773422241211,4.2519731521606445,4.4203619956970215,4.777070999145508,4.900509357452393,4.485937118530273,5.333042621612549,4.585729598999023,4.677489757537842,4.395042419433594,4.595880031585693,4.854957103729248,4.463203430175781,4.389297008514404],\"y\":[5.92566442489624,6.206611633300781,6.479876518249512,6.540598392486572,6.356682777404785,6.096922874450684,6.6911115646362305,6.8723249435424805,6.107872486114502,5.963901042938232,6.126250743865967,6.3171796798706055,6.022119998931885,6.3216328620910645,6.142767906188965,5.957422256469727,6.136917591094971,6.979687690734863,6.343695163726807,6.04535436630249,6.123268127441406,6.266059875488281,6.469492435455322,6.009374141693115],\"z\":[2.262129783630371,2.1617159843444824,2.857069969177246,2.210172653198242,2.106823444366455,2.5764505863189697,2.311816453933716,2.6430511474609375,2.606350898742676,2.370089530944824,2.140022039413452,2.276132345199585,2.868311882019043,2.1603939533233643,2.435631036758423,2.3661270141601562,2.8785085678100586,2.9932806491851807,2.2059175968170166,2.7588589191436768,2.3609588146209717,2.161884307861328,3.002155303955078,2.7053892612457275],\"type\":\"scatter3d\"}],                        {\"template\":{\"data\":{\"histogram2dcontour\":[{\"type\":\"histogram2dcontour\",\"colorbar\":{\"outlinewidth\":0,\"ticks\":\"\"},\"colorscale\":[[0.0,\"#0d0887\"],[0.1111111111111111,\"#46039f\"],[0.2222222222222222,\"#7201a8\"],[0.3333333333333333,\"#9c179e\"],[0.4444444444444444,\"#bd3786\"],[0.5555555555555556,\"#d8576b\"],[0.6666666666666666,\"#ed7953\"],[0.7777777777777778,\"#fb9f3a\"],[0.8888888888888888,\"#fdca26\"],[1.0,\"#f0f921\"]]}],\"choropleth\":[{\"type\":\"choropleth\",\"colorbar\":{\"outlinewidth\":0,\"ticks\":\"\"}}],\"histogram2d\":[{\"type\":\"histogram2d\",\"colorbar\":{\"outlinewidth\":0,\"ticks\":\"\"},\"colorscale\":[[0.0,\"#0d0887\"],[0.1111111111111111,\"#46039f\"],[0.2222222222222222,\"#7201a8\"],[0.3333333333333333,\"#9c179e\"],[0.4444444444444444,\"#bd3786\"],[0.5555555555555556,\"#d8576b\"],[0.6666666666666666,\"#ed7953\"],[0.7777777777777778,\"#fb9f3a\"],[0.8888888888888888,\"#fdca26\"],[1.0,\"#f0f921\"]]}],\"heatmap\":[{\"type\":\"heatmap\",\"colorbar\":{\"outlinewidth\":0,\"ticks\":\"\"},\"colorscale\":[[0.0,\"#0d0887\"],[0.1111111111111111,\"#46039f\"],[0.2222222222222222,\"#7201a8\"],[0.3333333333333333,\"#9c179e\"],[0.4444444444444444,\"#bd3786\"],[0.5555555555555556,\"#d8576b\"],[0.6666666666666666,\"#ed7953\"],[0.7777777777777778,\"#fb9f3a\"],[0.8888888888888888,\"#fdca26\"],[1.0,\"#f0f921\"]]}],\"heatmapgl\":[{\"type\":\"heatmapgl\",\"colorbar\":{\"outlinewidth\":0,\"ticks\":\"\"},\"colorscale\":[[0.0,\"#0d0887\"],[0.1111111111111111,\"#46039f\"],[0.2222222222222222,\"#7201a8\"],[0.3333333333333333,\"#9c179e\"],[0.4444444444444444,\"#bd3786\"],[0.5555555555555556,\"#d8576b\"],[0.6666666666666666,\"#ed7953\"],[0.7777777777777778,\"#fb9f3a\"],[0.8888888888888888,\"#fdca26\"],[1.0,\"#f0f921\"]]}],\"contourcarpet\":[{\"type\":\"contourcarpet\",\"colorbar\":{\"outlinewidth\":0,\"ticks\":\"\"}}],\"contour\":[{\"type\":\"contour\",\"colorbar\":{\"outlinewidth\":0,\"ticks\":\"\"},\"colorscale\":[[0.0,\"#0d0887\"],[0.1111111111111111,\"#46039f\"],[0.2222222222222222,\"#7201a8\"],[0.3333333333333333,\"#9c179e\"],[0.4444444444444444,\"#bd3786\"],[0.5555555555555556,\"#d8576b\"],[0.6666666666666666,\"#ed7953\"],[0.7777777777777778,\"#fb9f3a\"],[0.8888888888888888,\"#fdca26\"],[1.0,\"#f0f921\"]]}],\"surface\":[{\"type\":\"surface\",\"colorbar\":{\"outlinewidth\":0,\"ticks\":\"\"},\"colorscale\":[[0.0,\"#0d0887\"],[0.1111111111111111,\"#46039f\"],[0.2222222222222222,\"#7201a8\"],[0.3333333333333333,\"#9c179e\"],[0.4444444444444444,\"#bd3786\"],[0.5555555555555556,\"#d8576b\"],[0.6666666666666666,\"#ed7953\"],[0.7777777777777778,\"#fb9f3a\"],[0.8888888888888888,\"#fdca26\"],[1.0,\"#f0f921\"]]}],\"mesh3d\":[{\"type\":\"mesh3d\",\"colorbar\":{\"outlinewidth\":0,\"ticks\":\"\"}}],\"scatter\":[{\"fillpattern\":{\"fillmode\":\"overlay\",\"size\":10,\"solidity\":0.2},\"type\":\"scatter\"}],\"parcoords\":[{\"type\":\"parcoords\",\"line\":{\"colorbar\":{\"outlinewidth\":0,\"ticks\":\"\"}}}],\"scatterpolargl\":[{\"type\":\"scatterpolargl\",\"marker\":{\"colorbar\":{\"outlinewidth\":0,\"ticks\":\"\"}}}],\"bar\":[{\"error_x\":{\"color\":\"#2a3f5f\"},\"error_y\":{\"color\":\"#2a3f5f\"},\"marker\":{\"line\":{\"color\":\"#E5ECF6\",\"width\":0.5},\"pattern\":{\"fillmode\":\"overlay\",\"size\":10,\"solidity\":0.2}},\"type\":\"bar\"}],\"scattergeo\":[{\"type\":\"scattergeo\",\"marker\":{\"colorbar\":{\"outlinewidth\":0,\"ticks\":\"\"}}}],\"scatterpolar\":[{\"type\":\"scatterpolar\",\"marker\":{\"colorbar\":{\"outlinewidth\":0,\"ticks\":\"\"}}}],\"histogram\":[{\"marker\":{\"pattern\":{\"fillmode\":\"overlay\",\"size\":10,\"solidity\":0.2}},\"type\":\"histogram\"}],\"scattergl\":[{\"type\":\"scattergl\",\"marker\":{\"colorbar\":{\"outlinewidth\":0,\"ticks\":\"\"}}}],\"scatter3d\":[{\"type\":\"scatter3d\",\"line\":{\"colorbar\":{\"outlinewidth\":0,\"ticks\":\"\"}},\"marker\":{\"colorbar\":{\"outlinewidth\":0,\"ticks\":\"\"}}}],\"scattermapbox\":[{\"type\":\"scattermapbox\",\"marker\":{\"colorbar\":{\"outlinewidth\":0,\"ticks\":\"\"}}}],\"scatterternary\":[{\"type\":\"scatterternary\",\"marker\":{\"colorbar\":{\"outlinewidth\":0,\"ticks\":\"\"}}}],\"scattercarpet\":[{\"type\":\"scattercarpet\",\"marker\":{\"colorbar\":{\"outlinewidth\":0,\"ticks\":\"\"}}}],\"carpet\":[{\"aaxis\":{\"endlinecolor\":\"#2a3f5f\",\"gridcolor\":\"white\",\"linecolor\":\"white\",\"minorgridcolor\":\"white\",\"startlinecolor\":\"#2a3f5f\"},\"baxis\":{\"endlinecolor\":\"#2a3f5f\",\"gridcolor\":\"white\",\"linecolor\":\"white\",\"minorgridcolor\":\"white\",\"startlinecolor\":\"#2a3f5f\"},\"type\":\"carpet\"}],\"table\":[{\"cells\":{\"fill\":{\"color\":\"#EBF0F8\"},\"line\":{\"color\":\"white\"}},\"header\":{\"fill\":{\"color\":\"#C8D4E3\"},\"line\":{\"color\":\"white\"}},\"type\":\"table\"}],\"barpolar\":[{\"marker\":{\"line\":{\"color\":\"#E5ECF6\",\"width\":0.5},\"pattern\":{\"fillmode\":\"overlay\",\"size\":10,\"solidity\":0.2}},\"type\":\"barpolar\"}],\"pie\":[{\"automargin\":true,\"type\":\"pie\"}]},\"layout\":{\"autotypenumbers\":\"strict\",\"colorway\":[\"#636efa\",\"#EF553B\",\"#00cc96\",\"#ab63fa\",\"#FFA15A\",\"#19d3f3\",\"#FF6692\",\"#B6E880\",\"#FF97FF\",\"#FECB52\"],\"font\":{\"color\":\"#2a3f5f\"},\"hovermode\":\"closest\",\"hoverlabel\":{\"align\":\"left\"},\"paper_bgcolor\":\"white\",\"plot_bgcolor\":\"#E5ECF6\",\"polar\":{\"bgcolor\":\"#E5ECF6\",\"angularaxis\":{\"gridcolor\":\"white\",\"linecolor\":\"white\",\"ticks\":\"\"},\"radialaxis\":{\"gridcolor\":\"white\",\"linecolor\":\"white\",\"ticks\":\"\"}},\"ternary\":{\"bgcolor\":\"#E5ECF6\",\"aaxis\":{\"gridcolor\":\"white\",\"linecolor\":\"white\",\"ticks\":\"\"},\"baxis\":{\"gridcolor\":\"white\",\"linecolor\":\"white\",\"ticks\":\"\"},\"caxis\":{\"gridcolor\":\"white\",\"linecolor\":\"white\",\"ticks\":\"\"}},\"coloraxis\":{\"colorbar\":{\"outlinewidth\":0,\"ticks\":\"\"}},\"colorscale\":{\"sequential\":[[0.0,\"#0d0887\"],[0.1111111111111111,\"#46039f\"],[0.2222222222222222,\"#7201a8\"],[0.3333333333333333,\"#9c179e\"],[0.4444444444444444,\"#bd3786\"],[0.5555555555555556,\"#d8576b\"],[0.6666666666666666,\"#ed7953\"],[0.7777777777777778,\"#fb9f3a\"],[0.8888888888888888,\"#fdca26\"],[1.0,\"#f0f921\"]],\"sequentialminus\":[[0.0,\"#0d0887\"],[0.1111111111111111,\"#46039f\"],[0.2222222222222222,\"#7201a8\"],[0.3333333333333333,\"#9c179e\"],[0.4444444444444444,\"#bd3786\"],[0.5555555555555556,\"#d8576b\"],[0.6666666666666666,\"#ed7953\"],[0.7777777777777778,\"#fb9f3a\"],[0.8888888888888888,\"#fdca26\"],[1.0,\"#f0f921\"]],\"diverging\":[[0,\"#8e0152\"],[0.1,\"#c51b7d\"],[0.2,\"#de77ae\"],[0.3,\"#f1b6da\"],[0.4,\"#fde0ef\"],[0.5,\"#f7f7f7\"],[0.6,\"#e6f5d0\"],[0.7,\"#b8e186\"],[0.8,\"#7fbc41\"],[0.9,\"#4d9221\"],[1,\"#276419\"]]},\"xaxis\":{\"gridcolor\":\"white\",\"linecolor\":\"white\",\"ticks\":\"\",\"title\":{\"standoff\":15},\"zerolinecolor\":\"white\",\"automargin\":true,\"zerolinewidth\":2},\"yaxis\":{\"gridcolor\":\"white\",\"linecolor\":\"white\",\"ticks\":\"\",\"title\":{\"standoff\":15},\"zerolinecolor\":\"white\",\"automargin\":true,\"zerolinewidth\":2},\"scene\":{\"xaxis\":{\"backgroundcolor\":\"#E5ECF6\",\"gridcolor\":\"white\",\"linecolor\":\"white\",\"showbackground\":true,\"ticks\":\"\",\"zerolinecolor\":\"white\",\"gridwidth\":2},\"yaxis\":{\"backgroundcolor\":\"#E5ECF6\",\"gridcolor\":\"white\",\"linecolor\":\"white\",\"showbackground\":true,\"ticks\":\"\",\"zerolinecolor\":\"white\",\"gridwidth\":2},\"zaxis\":{\"backgroundcolor\":\"#E5ECF6\",\"gridcolor\":\"white\",\"linecolor\":\"white\",\"showbackground\":true,\"ticks\":\"\",\"zerolinecolor\":\"white\",\"gridwidth\":2}},\"shapedefaults\":{\"line\":{\"color\":\"#2a3f5f\"}},\"annotationdefaults\":{\"arrowcolor\":\"#2a3f5f\",\"arrowhead\":0,\"arrowwidth\":1},\"geo\":{\"bgcolor\":\"white\",\"landcolor\":\"#E5ECF6\",\"subunitcolor\":\"white\",\"showland\":true,\"showlakes\":true,\"lakecolor\":\"white\"},\"title\":{\"x\":0.05},\"mapbox\":{\"style\":\"light\"}}},\"scene\":{\"domain\":{\"x\":[0.0,1.0],\"y\":[0.0,1.0]},\"xaxis\":{\"title\":{\"text\":\"x\"}},\"yaxis\":{\"title\":{\"text\":\"y\"}},\"zaxis\":{\"title\":{\"text\":\"z\"}}},\"legend\":{\"title\":{\"text\":\"cluster\"},\"tracegroupgap\":0},\"title\":{\"text\":\"word-embedding-samples\"}},                        {\"responsive\": true}                    ).then(function(){\n",
              "                            \n",
              "var gd = document.getElementById('be3d1739-9873-4eb1-ab45-73aa73e56140');\n",
              "var x = new MutationObserver(function (mutations, observer) {{\n",
              "        var display = window.getComputedStyle(gd).display;\n",
              "        if (!display || display === 'none') {{\n",
              "            console.log([gd, 'removed!']);\n",
              "            Plotly.purge(gd);\n",
              "            observer.disconnect();\n",
              "        }}\n",
              "}});\n",
              "\n",
              "// Listen for the removal of the full notebook cells\n",
              "var notebookContainer = gd.closest('#notebook-container');\n",
              "if (notebookContainer) {{\n",
              "    x.observe(notebookContainer, {childList: true});\n",
              "}}\n",
              "\n",
              "// Listen for the clearing of the current output cell\n",
              "var outputEl = gd.closest('.output');\n",
              "if (outputEl) {{\n",
              "    x.observe(outputEl, {childList: true});\n",
              "}}\n",
              "\n",
              "                        })                };                            </script>        </div>\n",
              "</body>\n",
              "</html>"
            ]
          },
          "metadata": {}
        }
      ]
    },
    {
      "cell_type": "code",
      "source": [
        ""
      ],
      "metadata": {
        "id": "TLPEFwj5Ej5Z"
      },
      "execution_count": null,
      "outputs": []
    }
  ]
}