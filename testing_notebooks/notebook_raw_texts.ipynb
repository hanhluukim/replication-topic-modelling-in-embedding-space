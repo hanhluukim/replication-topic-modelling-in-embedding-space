{
  "cells": [
    {
      "cell_type": "code",
      "execution_count": null,
      "metadata": {
        "colab": {
          "base_uri": "https://localhost:8080/"
        },
        "id": "9ZCVcdhnTYOK",
        "outputId": "4ffa575d-c80b-4620-f8b8-851a1b4bf9c2"
      },
      "outputs": [
        {
          "data": {
            "text/plain": [
              "['anbv 8523 > $ , asfnoa 53 $ % 3 hallo . i am', 'halloe 1 & & ! , name', 'am']"
            ]
          },
          "execution_count": 47,
          "metadata": {},
          "output_type": "execute_result"
        }
      ],
      "source": [
        "import re\n",
        "def filter_special_character(docs):\n",
        "    # remove ., needed for bert\n",
        "    filter_patter = r'''[\\w']+|[!?.,;-~{}`´_<=>:/@*()&'$%#\"]'''\n",
        "    return [re.findall(filter_patter, docs[doc_idx]) for doc_idx in range(len(docs))]\n",
        "\n",
        "docs = [\n",
        "        'anbv 8523> $, asfnoa 53§$%3 hallo. i am',\n",
        "        'halloe 1& §&!, name' , 'am'\n",
        "]\n",
        "raw_docs = [\" \".join(doc) for doc in filter_special_character(docs)]\n",
        "raw_docs"
      ]
    },
    {
      "cell_type": "code",
      "execution_count": 55,
      "metadata": {
        "id": "Whyak735cwYA"
      },
      "outputs": [],
      "source": [
        "from sklearn.datasets import fetch_20newsgroups\n",
        "def read_raw_documents():\n",
        "    \"\"\"\n",
        "    newsgroups_train = fetch_20newsgroups(subset='train')\n",
        "    raw_documents = []\n",
        "    raw_labels = []\n",
        "    for i in range(0,len(newsgroups_train.data)):\n",
        "        raw_documents.append(newsgroups_train.data[i])\n",
        "        raw_labels.append(newsgroups_train.target[i])\n",
        "    \"\"\"\n",
        "    train_data = fetch_20newsgroups(subset='train')\n",
        "    test_data = fetch_20newsgroups(subset='test')\n",
        "    def filter_special_character(docs):\n",
        "        # remove ., needed for bert\n",
        "        filter_patter = r'''[\\w']+|[!?.,;-~{}`´_<=>:/@*()&'$%#\"]'''\n",
        "        return [re.findall(filter_patter, docs[doc_idx]) for doc_idx in range(len(docs))]\n",
        "    init_docs_tr = filter_special_character(train_data.data)\n",
        "    init_docs_ts = filter_special_character(test_data.data)\n",
        "    complete_documents = init_docs_tr + init_docs_ts\n",
        "    raw_documents = []\n",
        "    for doc in complete_documents:\n",
        "        raw_documents.append(\" \".join(doc))\n",
        "    return raw_documents, None\n",
        "raw_documents,_ = read_raw_documents()"
      ]
    },
    {
      "cell_type": "code",
      "execution_count": 59,
      "metadata": {
        "colab": {
          "base_uri": "https://localhost:8080/"
        },
        "id": "matKU8WKeaNS",
        "outputId": "d71de2c7-abb0-44fe-88e7-a8431f7aec5c"
      },
      "outputs": [
        {
          "name": "stdout",
          "output_type": "stream",
          "text": [
            "From: lerxst@wam.umd.edu (where's my thing)\n",
            "Subject: WHAT car is this!?\n",
            "Nntp-Posting-Host: rac3.wam.umd.edu\n",
            "Organization: University of Maryland, College Park\n",
            "Lines: 15\n",
            "\n",
            " I was wondering if anyone out there could enlighten me on this car I saw\n",
            "the other day. It was a 2-door sports car, looked to be from the late 60s/\n",
            "early 70s. It was called a Bricklin. The doors were really small. In addition,\n",
            "the front bumper was separate from the rest of the body. This is \n",
            "all I know. If anyone can tellme a model name, engine specs, years\n",
            "of production, where this car is made, history, or whatever info you\n",
            "have on this funky looking car, please e-mail.\n",
            "\n",
            "Thanks,\n",
            "- IL\n",
            "   ---- brought to you by your neighborhood Lerxst ----\n",
            "\n",
            "\n",
            "\n",
            "\n",
            "\n"
          ]
        }
      ],
      "source": [
        "train_data = fetch_20newsgroups(subset='train').data\n",
        "test_data = fetch_20newsgroups(subset='test').data\n",
        "original_docs = train_data + test_data\n",
        "print(original_docs[0])"
      ]
    },
    {
      "cell_type": "code",
      "execution_count": 60,
      "metadata": {
        "colab": {
          "base_uri": "https://localhost:8080/",
          "height": 87
        },
        "id": "oEATwXLNdTKD",
        "outputId": "3f9c3568-fb2f-4393-e34e-249e0975a2ca"
      },
      "outputs": [
        {
          "data": {
            "application/vnd.google.colaboratory.intrinsic+json": {
              "type": "string"
            },
            "text/plain": [
              "\"From : lerxst @ wam . umd . edu ( where's my thing ) Subject : WHAT car is this ! ? Nntp Posting Host : rac3 . wam . umd . edu Organization : University of Maryland , College Park Lines : 15 I was wondering if anyone out there could enlighten me on this car I saw the other day . It was a 2 door sports car , looked to be from the late 60s / early 70s . It was called a Bricklin . The doors were really small . In addition , the front bumper was separate from the rest of the body . This is all I know . If anyone can tellme a model name , engine specs , years of production , where this car is made , history , or whatever info you have on this funky looking car , please e mail . Thanks , IL brought to you by your neighborhood Lerxst\""
            ]
          },
          "execution_count": 60,
          "metadata": {},
          "output_type": "execute_result"
        }
      ],
      "source": [
        "raw_documents[0]"
      ]
    },
    {
      "cell_type": "code",
      "execution_count": 66,
      "metadata": {
        "colab": {
          "base_uri": "https://localhost:8080/"
        },
        "id": "1ajsPUZcfQMB",
        "outputId": "b0d95838-6462-4226-cc33-51bd07d1006d"
      },
      "outputs": [
        {
          "name": "stdout",
          "output_type": "stream",
          "text": [
            "from lerxst wam . umd . edu where my thing subject what car is this nntp posting host . wam . umd . edu organization university of maryland , college park lines was wondering if anyone out there could enlighten me on this car saw the other day . it was door sports car , looked to be from the late early . it was called bricklin . the doors were really small . in addition , the front bumper was separate from the rest of the body . this is all know . if anyone can tellme model name , engine specs , years of production , where this car is made , history , or whatever info you have on this funky looking car , please mail . thanks , il brought to you by your neighborhood lerxst\n"
          ]
        }
      ],
      "source": [
        " str, l = clean_doc_for_bert(raw_documents[0])\n",
        " print(str)"
      ]
    },
    {
      "cell_type": "code",
      "execution_count": 65,
      "metadata": {
        "id": "yyToCj5UfHci"
      },
      "outputs": [],
      "source": [
        "def contains_numeric(w):\n",
        "        return any(char.isdigit() for char in w)\n",
        "    \n",
        "def only_letters(tested_string):\n",
        "    for letter in tested_string:\n",
        "        if letter not in \"abcdefghijklmnopqrstuvwxyz\":\n",
        "            return False\n",
        "    return True\n",
        "\n",
        "def clean_doc_for_bert(doc): \n",
        "    #word_list = doc.split(\" \") #doc.replace(\">\",\"\").lower()\n",
        "    word_list = word_tokenize(doc.lower()) #only using empty space and punctation for tokenization\n",
        "    cleaned = []\n",
        "    for w in word_list:\n",
        "        #if w not in stop_words:\n",
        "          #if w in string.punctuation or only_letters(w): #using only character from punctation and alpha characters\n",
        "          if not contains_numeric(w):\n",
        "              if w in ['.', ','] or only_letters(w):\n",
        "                  if w in string.punctuation or len( set(w) ) > 1: #punctation with len 1 allowed but alpha word must be longer then 1\n",
        "                      cleaned.append( w)\n",
        "    return \" \".join(cleaned), cleaned  #save doc in string and in token-list         "
      ]
    },
    {
      "cell_type": "code",
      "execution_count": 62,
      "metadata": {
        "colab": {
          "base_uri": "https://localhost:8080/"
        },
        "id": "G_-MY6HkTqR3",
        "outputId": "c63a8fbd-565c-48b8-a62d-e2343d23dce2"
      },
      "outputs": [
        {
          "name": "stdout",
          "output_type": "stream",
          "text": [
            "[nltk_data] Downloading package punkt to /root/nltk_data...\n",
            "[nltk_data]   Package punkt is already up-to-date!\n"
          ]
        }
      ],
      "source": [
        "from nltk.tokenize import word_tokenize\n",
        "import nltk\n",
        "import string\n",
        "nltk.download('punkt')\n",
        "\n",
        "def simple_preprocess(raw_documents):\n",
        "    cleaned_documents = []\n",
        "    for doc in raw_documents:\n",
        "        doc_in_string, doc_in_token_list = clean_doc_for_bert(doc)\n",
        "        cleaned_documents.append(doc_in_string)\n",
        "    return cleaned_documents"
      ]
    },
    {
      "cell_type": "code",
      "execution_count": null,
      "metadata": {
        "colab": {
          "base_uri": "https://localhost:8080/"
        },
        "id": "GQbcDzbcUy7D",
        "outputId": "f789c292-345e-476a-e6c5-3db21e785974"
      },
      "outputs": [
        {
          "name": "stdout",
          "output_type": "stream",
          "text": [
            "['anbv , asfnoa hallo . am', 'halloe , name', 'am']\n"
          ]
        }
      ],
      "source": [
        "a = simple_preprocess(raw_docs)\n",
        "print(a)"
      ]
    },
    {
      "cell_type": "code",
      "execution_count": 67,
      "metadata": {
        "id": "HMhgni8OU2Bf"
      },
      "outputs": [],
      "source": [
        "def transform_to_sentences(docs): #no labels\n",
        "    data_as_sentences = []\n",
        "    for doc in docs:\n",
        "      for sent in doc.split(\".\"): #make sentences\n",
        "        #print(f'after split: {sent}')\n",
        "        updated_sent = \" \".join([t for t in sent.strip().split(\" \") if len(t) > 1])\n",
        "        #print(f'update: {updated_sent}')\n",
        "        if len(updated_sent.split(\" \")) > 1:\n",
        "            data_as_sentences.append(updated_sent)\n",
        "        else:\n",
        "            if updated_sent not in data_as_sentences:\n",
        "                data_as_sentences.append(updated_sent)\n",
        "    return data_as_sentences"
      ]
    },
    {
      "cell_type": "code",
      "execution_count": 70,
      "metadata": {
        "colab": {
          "base_uri": "https://localhost:8080/"
        },
        "id": "DVwZR0swXZU6",
        "outputId": "4b2a31ff-296d-4696-976b-d548a467486a"
      },
      "outputs": [
        {
          "name": "stdout",
          "output_type": "stream",
          "text": [
            "from lerxst wam . umd . edu where my thing subject what car is this nntp posting host . wam . umd . edu organization university of maryland , college park lines was wondering if anyone out there could enlighten me on this car saw the other day . it was door sports car , looked to be from the late early . it was called bricklin . the doors were really small . in addition , the front bumper was separate from the rest of the body . this is all know . if anyone can tellme model name , engine specs , years of production , where this car is made , history , or whatever info you have on this funky looking car , please mail . thanks , il brought to you by your neighborhood lerxst\n",
            "from guykuo carson . . washington . edu guy kuo subject si clock poll final call summary final call for si clock reports keywords si , acceleration , clock , upgrade article . . shelley . organization university of washington lines nntp posting host carson . . washington . edu fair number of brave souls who upgraded their si clock oscillator have shared their experiences for this poll . please send brief message detailing your experiences with the procedure . top speed attained , cpu rated speed , add on cards and adapters , heat sinks , hour of usage per day , floppy disk functionality with and . floppies are especially requested . will be summarizing in the next two days , so please add to the network knowledge base if you have done the clock upgrade and have answered this poll . thanks . guy kuo guykuo . washington . edu\n",
            "----------------------------------------------------------------------------------------------------\n",
            "from lerxst wam\n",
            "umd\n",
            "edu where my thing subject what car is this nntp posting host\n",
            "wam\n",
            "edu organization university of maryland college park lines was wondering if anyone out there could enlighten me on this car saw the other day\n",
            "it was door sports car looked to be from the late early\n",
            "it was called bricklin\n",
            "the doors were really small\n",
            "in addition the front bumper was separate from the rest of the body\n",
            "this is all know\n",
            "if anyone can tellme model name engine specs years of production where this car is made history or whatever info you have on this funky looking car please mail\n",
            "thanks il brought to you by your neighborhood lerxst\n",
            "from guykuo carson\n",
            "\n",
            "washington\n",
            "edu guy kuo subject si clock poll final call summary final call for si clock reports keywords si acceleration clock upgrade article\n",
            "shelley\n",
            "organization university of washington lines nntp posting host carson\n",
            "edu fair number of brave souls who upgraded their si clock oscillator have shared their experiences for this poll\n",
            "please send brief message detailing your experiences with the procedure\n",
            "top speed attained cpu rated speed add on cards and adapters heat sinks hour of usage per day floppy disk functionality with and\n",
            "floppies are especially requested\n",
            "will be summarizing in the next two days so please add to the network knowledge base if you have done the clock upgrade and have answered this poll\n",
            "thanks\n",
            "guy kuo guykuo\n",
            "edu\n"
          ]
        }
      ],
      "source": [
        "pr_docs = simple_preprocess(raw_documents[:2])\n",
        "for d in pr_docs:\n",
        "  print(d)\n",
        "print('-'*100)\n",
        "sents = transform_to_sentences(pr_docs)\n",
        "for s in sents:\n",
        "  print(s)"
      ]
    },
    {
      "cell_type": "markdown",
      "metadata": {
        "id": "TUsVSwuNXca3"
      },
      "source": [
        "diese Sätze sind anders von dem bert_sentences.txt wegen der stopwords noch nicht gefiltern sind"
      ]
    }
  ],
  "metadata": {
    "colab": {
      "name": "best_preparing.ipynb",
      "provenance": []
    },
    "kernelspec": {
      "display_name": "Python 3",
      "name": "python3"
    },
    "language_info": {
      "name": "python"
    }
  },
  "nbformat": 4,
  "nbformat_minor": 0
}
